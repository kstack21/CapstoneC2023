
# Create a sample DataFrame
data = {    
    'Name': ['Alice', 'Bob', 'Charlie', 'David', 'Eve'],
    'Age': [25, 30, 35, 28, 22],
    'City': ['New York', 'San Francisco', 'Los Angeles', 'Chicago', 'Miami']
}

df = pd.DataFrame(data)

# Display the entire DataFrame
print("Original DataFrame:")
print(df)

# Basic DataFrame operations
print("\nBasic DataFrame Operations:")

# Selecting a single column
print("Selecting the 'Name' column:")
print(df['Name'])

# Selecting multiple columns
print("Selecting the 'Name' and 'Age' columns:")
print(df[['Name', 'Age']])

# Filtering data based on a condition
print("Filtering people older than 25:")
print(df[df['Age'] > 25])

# Aggregating data
print("Calculating the average age:")
print(df['Age'].mean())

# Sorting the DataFrame by a column
print("Sorting the DataFrame by age in descending order:")
print(df.sort_values(by='Age', ascending=False))

# Adding a new column
df['Country'] = ['USA', 'USA', 'USA', 'USA', 'USA']
print("Adding a 'Country' column:")
print(df)

# Grouping and aggregating data
print("\nGrouping and Aggregating Data:")

# Grouping by the 'City' column and calculating the average age in each city
city_avg_age = df.groupby('City')['Age'].mean()
print("Average age in each city:")
print(city_avg_age)

# Merging two DataFrames
data2 = {
    'City': ['New York', 'San Francisco', 'Los Angeles', 'Chicago', 'Houston'],
    'Population (millions)': [8.4, 0.88, 3.8, 2.7, 2.3]
}

city_population = pd.DataFrame(data2)
merged_df = pd.merge(df, city_population, on='City')
print("\nMerged DataFrame:")
print(merged_df)
