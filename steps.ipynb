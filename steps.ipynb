{
 "cells": [
  {
   "cell_type": "markdown",
   "metadata": {},
   "source": [
    "# Step by step\n",
    "This notebook replicates the code on the 'functions' page, offering insight into the inner workings of the functions. This allows anyone interested in comprehending and modifying the code to gain a general understanding."
   ]
  },
  {
   "cell_type": "code",
   "execution_count": 415,
   "metadata": {},
   "outputs": [],
   "source": [
    "import pandas as pd\n",
    "import shap\n",
    "import re\n",
    "from IPython.display import Image, display\n",
    "import os\n",
    "import json\n",
    "import plotly.graph_objects as go\n",
    "from plotly.subplots import make_subplots\n",
    "import numpy as np\n",
    "from xgboost import XGBRegressor\n",
    "from sklearn.metrics import mean_squared_error\n",
    "from sklearn.model_selection import train_test_split, KFold, GridSearchCV\n",
    "from sklearn.preprocessing import OrdinalEncoder, RobustScaler, MinMaxScaler\n",
    "from sklearn.pipeline import Pipeline\n",
    "from sklearn.metrics import r2_score, mean_squared_error\n",
    "import plotly.express as px\n",
    "from sklearn.compose import TransformedTargetRegressor"
   ]
  },
  {
   "cell_type": "markdown",
   "metadata": {},
   "source": [
    "## Preprocessing\n",
    "The preprocessing step aims to get the data ready for the model to learn from. This includes making sure the data is in the right format and cleaning it up"
   ]
  },
  {
   "cell_type": "markdown",
   "metadata": {},
   "source": [
    "### Load data"
   ]
  },
  {
   "cell_type": "code",
   "execution_count": 416,
   "metadata": {},
   "outputs": [],
   "source": [
    "# Imports excell with patients data\n",
    "data_path = \"./testData/dummy_data.xlsx\"\n",
    "\n",
    "# Read the uploaded Excel file into a Pandas DataFrame\n",
    "xls = pd.ExcelFile(data_path, engine=\"openpyxl\")\n",
    "\n",
    "sheet_names = ['Baseline', 'TEG Values', 'Events']  # Replace with your sheet names\n",
    "\n",
    "# Access each sheet's data using the sheet name as the key\n",
    "baseline_df = pd.read_excel(xls, sheet_names[0])\n",
    "tegValues_df = pd.read_excel(xls, sheet_names[1])\n",
    "events_df = pd.read_excel(xls, sheet_names[2])"
   ]
  },
  {
   "cell_type": "code",
   "execution_count": 417,
   "metadata": {},
   "outputs": [
    {
     "data": {
      "text/html": [
       "<div>\n",
       "<style scoped>\n",
       "    .dataframe tbody tr th:only-of-type {\n",
       "        vertical-align: middle;\n",
       "    }\n",
       "\n",
       "    .dataframe tbody tr th {\n",
       "        vertical-align: top;\n",
       "    }\n",
       "\n",
       "    .dataframe thead th {\n",
       "        text-align: right;\n",
       "    }\n",
       "</style>\n",
       "<table border=\"1\" class=\"dataframe\">\n",
       "  <thead>\n",
       "    <tr style=\"text-align: right;\">\n",
       "      <th></th>\n",
       "      <th>Record ID</th>\n",
       "      <th>Age</th>\n",
       "      <th>Sex</th>\n",
       "      <th>White</th>\n",
       "      <th>Extremity</th>\n",
       "      <th>Artery affected</th>\n",
       "      <th>BMI</th>\n",
       "      <th>Tobacco Use (1 current 2 former, 3 none)</th>\n",
       "      <th>Diabetes</th>\n",
       "      <th>Hypertension</th>\n",
       "      <th>...</th>\n",
       "      <th>Hx of pulmonary embolism</th>\n",
       "      <th>Does the patient have a history of solid organ transplant?</th>\n",
       "      <th>EGFR (mL/min/1.73m2)</th>\n",
       "      <th>Has subject had previous intervention of the index limb?</th>\n",
       "      <th>Previous occluded stents</th>\n",
       "      <th>Rutherford Score</th>\n",
       "      <th>ABI Right</th>\n",
       "      <th>ABI left</th>\n",
       "      <th>Intervention Classification</th>\n",
       "      <th>Intervention Type</th>\n",
       "    </tr>\n",
       "  </thead>\n",
       "  <tbody>\n",
       "    <tr>\n",
       "      <th>0</th>\n",
       "      <td>39</td>\n",
       "      <td>81</td>\n",
       "      <td>Male</td>\n",
       "      <td>1</td>\n",
       "      <td>left</td>\n",
       "      <td>common femoral, SFA, popliteal, anterior tibia...</td>\n",
       "      <td>40.373643</td>\n",
       "      <td>current within the last year ( &lt; 1 pack a day)</td>\n",
       "      <td>1</td>\n",
       "      <td>0</td>\n",
       "      <td>...</td>\n",
       "      <td>Yes</td>\n",
       "      <td>No</td>\n",
       "      <td>22.03354</td>\n",
       "      <td>Yes</td>\n",
       "      <td>0</td>\n",
       "      <td>4.717162</td>\n",
       "      <td>0.859011</td>\n",
       "      <td>0.104522</td>\n",
       "      <td>Open</td>\n",
       "      <td>angioplasty</td>\n",
       "    </tr>\n",
       "    <tr>\n",
       "      <th>1</th>\n",
       "      <td>174</td>\n",
       "      <td>70</td>\n",
       "      <td>Male</td>\n",
       "      <td>0</td>\n",
       "      <td>Bilateral</td>\n",
       "      <td>common femoral, SFA, popliteal, posterior tibi...</td>\n",
       "      <td>15.619750</td>\n",
       "      <td>current within the last year (  &gt; or = 1 pack ...</td>\n",
       "      <td>0</td>\n",
       "      <td>1</td>\n",
       "      <td>...</td>\n",
       "      <td>Yes</td>\n",
       "      <td>No</td>\n",
       "      <td>&gt;60</td>\n",
       "      <td>0</td>\n",
       "      <td>0</td>\n",
       "      <td>3.561872</td>\n",
       "      <td>0.809203</td>\n",
       "      <td>0.916329</td>\n",
       "      <td>Open</td>\n",
       "      <td>bypass revision</td>\n",
       "    </tr>\n",
       "    <tr>\n",
       "      <th>2</th>\n",
       "      <td>T21-58</td>\n",
       "      <td>88</td>\n",
       "      <td>Male</td>\n",
       "      <td>1</td>\n",
       "      <td>left</td>\n",
       "      <td>common femoral</td>\n",
       "      <td>37.470921</td>\n",
       "      <td>quit 1 to 10 years ago</td>\n",
       "      <td>1</td>\n",
       "      <td>0</td>\n",
       "      <td>...</td>\n",
       "      <td>No</td>\n",
       "      <td>Yes</td>\n",
       "      <td>22.006291</td>\n",
       "      <td>No</td>\n",
       "      <td>0</td>\n",
       "      <td>3.659894</td>\n",
       "      <td>1.240163</td>\n",
       "      <td>0.13404</td>\n",
       "      <td>Endo</td>\n",
       "      <td>angioplasty, stent, endarterectomy</td>\n",
       "    </tr>\n",
       "    <tr>\n",
       "      <th>3</th>\n",
       "      <td>155</td>\n",
       "      <td>78</td>\n",
       "      <td>Male</td>\n",
       "      <td>0</td>\n",
       "      <td>right</td>\n",
       "      <td>SFA, anterior tibial, posterior tibial, extern...</td>\n",
       "      <td>15.888214</td>\n",
       "      <td>quit 1 to 10 years ago</td>\n",
       "      <td>0</td>\n",
       "      <td>0</td>\n",
       "      <td>...</td>\n",
       "      <td>Yes</td>\n",
       "      <td>No</td>\n",
       "      <td>6.906499</td>\n",
       "      <td>Yes</td>\n",
       "      <td>Yes</td>\n",
       "      <td>3.525905</td>\n",
       "      <td>0.760655</td>\n",
       "      <td>inaudible</td>\n",
       "      <td>Endo</td>\n",
       "      <td>angioplasty, bypass</td>\n",
       "    </tr>\n",
       "    <tr>\n",
       "      <th>4</th>\n",
       "      <td>47</td>\n",
       "      <td>84</td>\n",
       "      <td>Female</td>\n",
       "      <td>0</td>\n",
       "      <td>right</td>\n",
       "      <td>SFA, external iliac</td>\n",
       "      <td>31.979733</td>\n",
       "      <td>Past, quit &gt;10 year ago</td>\n",
       "      <td>1</td>\n",
       "      <td>1</td>\n",
       "      <td>...</td>\n",
       "      <td>No</td>\n",
       "      <td>Yes</td>\n",
       "      <td>11.809767</td>\n",
       "      <td>0</td>\n",
       "      <td>0</td>\n",
       "      <td>1.663111</td>\n",
       "      <td>0.329114</td>\n",
       "      <td>0.244715</td>\n",
       "      <td>Open</td>\n",
       "      <td>bypass revision</td>\n",
       "    </tr>\n",
       "  </tbody>\n",
       "</table>\n",
       "<p>5 rows × 30 columns</p>\n",
       "</div>"
      ],
      "text/plain": [
       "  Record ID  Age     Sex  White  Extremity  \\\n",
       "0        39   81    Male      1       left   \n",
       "1       174   70    Male      0  Bilateral   \n",
       "2    T21-58   88    Male      1       left   \n",
       "3       155   78    Male      0      right   \n",
       "4        47   84  Female      0      right   \n",
       "\n",
       "                                     Artery affected        BMI  \\\n",
       "0  common femoral, SFA, popliteal, anterior tibia...  40.373643   \n",
       "1  common femoral, SFA, popliteal, posterior tibi...  15.619750   \n",
       "2                                     common femoral  37.470921   \n",
       "3  SFA, anterior tibial, posterior tibial, extern...  15.888214   \n",
       "4                                SFA, external iliac  31.979733   \n",
       "\n",
       "            Tobacco Use (1 current 2 former, 3 none)  Diabetes  Hypertension  \\\n",
       "0     current within the last year ( < 1 pack a day)         1             0   \n",
       "1  current within the last year (  > or = 1 pack ...         0             1   \n",
       "2                             quit 1 to 10 years ago         1             0   \n",
       "3                             quit 1 to 10 years ago         0             0   \n",
       "4                            Past, quit >10 year ago         1             1   \n",
       "\n",
       "   ...  Hx of pulmonary embolism  \\\n",
       "0  ...                       Yes   \n",
       "1  ...                       Yes   \n",
       "2  ...                        No   \n",
       "3  ...                       Yes   \n",
       "4  ...                        No   \n",
       "\n",
       "  Does the patient have a history of solid organ transplant?  \\\n",
       "0                                                 No           \n",
       "1                                                 No           \n",
       "2                                                Yes           \n",
       "3                                                 No           \n",
       "4                                                Yes           \n",
       "\n",
       "  EGFR (mL/min/1.73m2)  \\\n",
       "0             22.03354   \n",
       "1                  >60   \n",
       "2            22.006291   \n",
       "3             6.906499   \n",
       "4            11.809767   \n",
       "\n",
       "  Has subject had previous intervention of the index limb?  \\\n",
       "0                                                Yes         \n",
       "1                                                  0         \n",
       "2                                                 No         \n",
       "3                                                Yes         \n",
       "4                                                  0         \n",
       "\n",
       "   Previous occluded stents  Rutherford Score ABI Right   ABI left  \\\n",
       "0                         0          4.717162  0.859011   0.104522   \n",
       "1                         0          3.561872  0.809203   0.916329   \n",
       "2                         0          3.659894  1.240163    0.13404   \n",
       "3                       Yes          3.525905  0.760655  inaudible   \n",
       "4                         0          1.663111  0.329114   0.244715   \n",
       "\n",
       "  Intervention Classification                   Intervention Type  \n",
       "0                        Open                         angioplasty  \n",
       "1                        Open                     bypass revision  \n",
       "2                        Endo  angioplasty, stent, endarterectomy  \n",
       "3                        Endo                 angioplasty, bypass  \n",
       "4                        Open                     bypass revision  \n",
       "\n",
       "[5 rows x 30 columns]"
      ]
     },
     "execution_count": 417,
     "metadata": {},
     "output_type": "execute_result"
    }
   ],
   "source": [
    "baseline_df.head()"
   ]
  },
  {
   "cell_type": "code",
   "execution_count": 418,
   "metadata": {},
   "outputs": [
    {
     "data": {
      "text/html": [
       "<div>\n",
       "<style scoped>\n",
       "    .dataframe tbody tr th:only-of-type {\n",
       "        vertical-align: middle;\n",
       "    }\n",
       "\n",
       "    .dataframe tbody tr th {\n",
       "        vertical-align: top;\n",
       "    }\n",
       "\n",
       "    .dataframe thead th {\n",
       "        text-align: right;\n",
       "    }\n",
       "</style>\n",
       "<table border=\"1\" class=\"dataframe\">\n",
       "  <thead>\n",
       "    <tr style=\"text-align: right;\">\n",
       "      <th></th>\n",
       "      <th>Record ID</th>\n",
       "      <th>Event Name</th>\n",
       "      <th>Date of Event</th>\n",
       "      <th>Event Type</th>\n",
       "    </tr>\n",
       "  </thead>\n",
       "  <tbody>\n",
       "    <tr>\n",
       "      <th>0</th>\n",
       "      <td>77</td>\n",
       "      <td>Event reporting 4</td>\n",
       "      <td>222.430780</td>\n",
       "      <td>Thrombotic event not related to the area inter...</td>\n",
       "    </tr>\n",
       "    <tr>\n",
       "      <th>1</th>\n",
       "      <td>120</td>\n",
       "      <td>Event reporting 5</td>\n",
       "      <td>230.814973</td>\n",
       "      <td>other</td>\n",
       "    </tr>\n",
       "    <tr>\n",
       "      <th>2</th>\n",
       "      <td>61</td>\n",
       "      <td>Event reporting 3</td>\n",
       "      <td>163.550434</td>\n",
       "      <td>Bleeding event</td>\n",
       "    </tr>\n",
       "    <tr>\n",
       "      <th>3</th>\n",
       "      <td>49</td>\n",
       "      <td>Event Reporting 1</td>\n",
       "      <td>132.170478</td>\n",
       "      <td>Thrombotic event not related to stent</td>\n",
       "    </tr>\n",
       "    <tr>\n",
       "      <th>4</th>\n",
       "      <td>126</td>\n",
       "      <td>Readmission 2</td>\n",
       "      <td>58.878041</td>\n",
       "      <td>Infection/Dehiscence</td>\n",
       "    </tr>\n",
       "  </tbody>\n",
       "</table>\n",
       "</div>"
      ],
      "text/plain": [
       "  Record ID         Event Name  Date of Event  \\\n",
       "0        77  Event reporting 4     222.430780   \n",
       "1       120  Event reporting 5     230.814973   \n",
       "2        61  Event reporting 3     163.550434   \n",
       "3        49  Event Reporting 1     132.170478   \n",
       "4       126      Readmission 2      58.878041   \n",
       "\n",
       "                                          Event Type  \n",
       "0  Thrombotic event not related to the area inter...  \n",
       "1                                              other  \n",
       "2                                     Bleeding event  \n",
       "3              Thrombotic event not related to stent  \n",
       "4                               Infection/Dehiscence  "
      ]
     },
     "execution_count": 418,
     "metadata": {},
     "output_type": "execute_result"
    }
   ],
   "source": [
    "events_df.head()"
   ]
  },
  {
   "cell_type": "code",
   "execution_count": 419,
   "metadata": {},
   "outputs": [
    {
     "data": {
      "text/html": [
       "<div>\n",
       "<style scoped>\n",
       "    .dataframe tbody tr th:only-of-type {\n",
       "        vertical-align: middle;\n",
       "    }\n",
       "\n",
       "    .dataframe tbody tr th {\n",
       "        vertical-align: top;\n",
       "    }\n",
       "\n",
       "    .dataframe thead th {\n",
       "        text-align: right;\n",
       "    }\n",
       "</style>\n",
       "<table border=\"1\" class=\"dataframe\">\n",
       "  <thead>\n",
       "    <tr style=\"text-align: right;\">\n",
       "      <th></th>\n",
       "      <th>Record ID</th>\n",
       "      <th>Visit Timepoint</th>\n",
       "      <th>Antiplatelet Therapy within 7 Days</th>\n",
       "      <th>Anticoagulation within 24 Hours</th>\n",
       "      <th>Statin within 24 Hours</th>\n",
       "      <th>Cilostazol within 7 days</th>\n",
       "      <th>Reaction Time (R) in min</th>\n",
       "      <th>Lysis at 30 min (LY30) in %</th>\n",
       "      <th>CRT Max amplitude (MA) in mm</th>\n",
       "      <th>CFF Max Amplitude( MA) in mm</th>\n",
       "      <th>...</th>\n",
       "      <th>INR value</th>\n",
       "      <th>aPTT</th>\n",
       "      <th>PT value</th>\n",
       "      <th>WBC in K/uL</th>\n",
       "      <th>RBC (M/uL)</th>\n",
       "      <th>HGB(g/dL)</th>\n",
       "      <th>HCT %</th>\n",
       "      <th>PLT(K/uL)</th>\n",
       "      <th>BP prior to blood draw</th>\n",
       "      <th>Date of TEG Collection</th>\n",
       "    </tr>\n",
       "  </thead>\n",
       "  <tbody>\n",
       "    <tr>\n",
       "      <th>0</th>\n",
       "      <td>39</td>\n",
       "      <td>Baseline</td>\n",
       "      <td>aspirin, ticagrelor</td>\n",
       "      <td>enoxaparin (Lovenox)</td>\n",
       "      <td>Rosuvastatin</td>\n",
       "      <td>cilostazol</td>\n",
       "      <td>14.02407</td>\n",
       "      <td>1.268491</td>\n",
       "      <td>63.780276</td>\n",
       "      <td>37.48071</td>\n",
       "      <td>...</td>\n",
       "      <td>151.757216</td>\n",
       "      <td>121.451182</td>\n",
       "      <td>6.723782</td>\n",
       "      <td>12.394838</td>\n",
       "      <td>4.334694</td>\n",
       "      <td>10.318403</td>\n",
       "      <td>47.959012</td>\n",
       "      <td>155.287685</td>\n",
       "      <td>160/95</td>\n",
       "      <td>2007-01-05</td>\n",
       "    </tr>\n",
       "    <tr>\n",
       "      <th>1</th>\n",
       "      <td>174</td>\n",
       "      <td>Post Op day 1 (4-36 hours)</td>\n",
       "      <td>clopidogrel, celecoxib</td>\n",
       "      <td>enoxaparin (Lovenox)</td>\n",
       "      <td>Simvastatin</td>\n",
       "      <td>cilostazol</td>\n",
       "      <td>3.319251</td>\n",
       "      <td>1.449484</td>\n",
       "      <td>71.128769</td>\n",
       "      <td>26.758913</td>\n",
       "      <td>...</td>\n",
       "      <td>54.147810</td>\n",
       "      <td>86.95418</td>\n",
       "      <td>13.928991</td>\n",
       "      <td>14.034414</td>\n",
       "      <td>2.288993</td>\n",
       "      <td>8.347336</td>\n",
       "      <td>42.414855</td>\n",
       "      <td>414.026181</td>\n",
       "      <td>243/49</td>\n",
       "      <td>2009-03-06</td>\n",
       "    </tr>\n",
       "    <tr>\n",
       "      <th>2</th>\n",
       "      <td>T21-58</td>\n",
       "      <td>Post Op day 1 (4-36 hours)</td>\n",
       "      <td>ticagrelor</td>\n",
       "      <td>warfarin (Coumadin)</td>\n",
       "      <td>Lovastatin</td>\n",
       "      <td>cilostazol</td>\n",
       "      <td>8.031243</td>\n",
       "      <td>6.83865</td>\n",
       "      <td>54.706969</td>\n",
       "      <td>18.961554</td>\n",
       "      <td>...</td>\n",
       "      <td>126.072895</td>\n",
       "      <td>124.331267</td>\n",
       "      <td>18.480140</td>\n",
       "      <td>13.002132</td>\n",
       "      <td>3.189830</td>\n",
       "      <td>15.962208</td>\n",
       "      <td>50.267115</td>\n",
       "      <td>495.118409</td>\n",
       "      <td>185/50</td>\n",
       "      <td>2011-05-06</td>\n",
       "    </tr>\n",
       "    <tr>\n",
       "      <th>3</th>\n",
       "      <td>155</td>\n",
       "      <td>6hr Post</td>\n",
       "      <td>aspirin, ticagrelor</td>\n",
       "      <td>rivaroxaban</td>\n",
       "      <td>Rosuvastatin</td>\n",
       "      <td>cilostazol</td>\n",
       "      <td>11.993521</td>\n",
       "      <td>inconclusive</td>\n",
       "      <td>71.450849</td>\n",
       "      <td>25.628047</td>\n",
       "      <td>...</td>\n",
       "      <td>22.585294</td>\n",
       "      <td>91.085144</td>\n",
       "      <td>7.809423</td>\n",
       "      <td>20.652979</td>\n",
       "      <td>5.963962</td>\n",
       "      <td>16.206970</td>\n",
       "      <td>50.746414</td>\n",
       "      <td>506.230494</td>\n",
       "      <td>128/136</td>\n",
       "      <td>2013-07-05</td>\n",
       "    </tr>\n",
       "    <tr>\n",
       "      <th>4</th>\n",
       "      <td>47</td>\n",
       "      <td>PO Day 2</td>\n",
       "      <td>aspirin, ticagrelor</td>\n",
       "      <td>enoxaprin</td>\n",
       "      <td>atorvastatin</td>\n",
       "      <td>cilostazol</td>\n",
       "      <td>16.477918</td>\n",
       "      <td>10.810169</td>\n",
       "      <td>inconclusive machine error</td>\n",
       "      <td>49.885941</td>\n",
       "      <td>...</td>\n",
       "      <td>98.907343</td>\n",
       "      <td>430</td>\n",
       "      <td>23.795725</td>\n",
       "      <td>24.328577</td>\n",
       "      <td>2.720811</td>\n",
       "      <td>9.905265</td>\n",
       "      <td>47.706937</td>\n",
       "      <td>139.320557</td>\n",
       "      <td>226/94</td>\n",
       "      <td>2015-09-04</td>\n",
       "    </tr>\n",
       "  </tbody>\n",
       "</table>\n",
       "<p>5 rows × 37 columns</p>\n",
       "</div>"
      ],
      "text/plain": [
       "  Record ID             Visit Timepoint Antiplatelet Therapy within 7 Days  \\\n",
       "0        39                    Baseline                aspirin, ticagrelor   \n",
       "1       174  Post Op day 1 (4-36 hours)             clopidogrel, celecoxib   \n",
       "2    T21-58  Post Op day 1 (4-36 hours)                         ticagrelor   \n",
       "3       155                    6hr Post                aspirin, ticagrelor   \n",
       "4        47                    PO Day 2                aspirin, ticagrelor   \n",
       "\n",
       "  Anticoagulation within 24 Hours Statin within 24 Hours  \\\n",
       "0            enoxaparin (Lovenox)           Rosuvastatin   \n",
       "1            enoxaparin (Lovenox)            Simvastatin   \n",
       "2             warfarin (Coumadin)             Lovastatin   \n",
       "3                     rivaroxaban           Rosuvastatin   \n",
       "4                       enoxaprin           atorvastatin   \n",
       "\n",
       "  Cilostazol within 7 days Reaction Time (R) in min  \\\n",
       "0               cilostazol                 14.02407   \n",
       "1               cilostazol                 3.319251   \n",
       "2               cilostazol                 8.031243   \n",
       "3               cilostazol                11.993521   \n",
       "4               cilostazol                16.477918   \n",
       "\n",
       "  Lysis at 30 min (LY30) in % CRT Max amplitude (MA) in mm  \\\n",
       "0                    1.268491                    63.780276   \n",
       "1                    1.449484                    71.128769   \n",
       "2                     6.83865                    54.706969   \n",
       "3               inconclusive                     71.450849   \n",
       "4                   10.810169   inconclusive machine error   \n",
       "\n",
       "  CFF Max Amplitude( MA) in mm  ...   INR value        aPTT   PT value  \\\n",
       "0                     37.48071  ...  151.757216  121.451182   6.723782   \n",
       "1                    26.758913  ...   54.147810    86.95418  13.928991   \n",
       "2                    18.961554  ...  126.072895  124.331267  18.480140   \n",
       "3                    25.628047  ...   22.585294   91.085144   7.809423   \n",
       "4                    49.885941  ...   98.907343         430  23.795725   \n",
       "\n",
       "  WBC in K/uL RBC (M/uL)  HGB(g/dL)      HCT %   PLT(K/uL)  \\\n",
       "0   12.394838   4.334694  10.318403  47.959012  155.287685   \n",
       "1   14.034414   2.288993   8.347336  42.414855  414.026181   \n",
       "2   13.002132   3.189830  15.962208  50.267115  495.118409   \n",
       "3   20.652979   5.963962  16.206970  50.746414  506.230494   \n",
       "4   24.328577   2.720811   9.905265  47.706937  139.320557   \n",
       "\n",
       "  BP prior to blood draw Date of TEG Collection  \n",
       "0                 160/95             2007-01-05  \n",
       "1                 243/49             2009-03-06  \n",
       "2                 185/50             2011-05-06  \n",
       "3                128/136             2013-07-05  \n",
       "4                 226/94             2015-09-04  \n",
       "\n",
       "[5 rows x 37 columns]"
      ]
     },
     "execution_count": 419,
     "metadata": {},
     "output_type": "execute_result"
    }
   ],
   "source": [
    "tegValues_df.head()"
   ]
  },
  {
   "cell_type": "markdown",
   "metadata": {},
   "source": [
    "### Merge tables\n",
    "The data is currently split into three tables. To make it usable for the model, we need to combine all the important information into a two table, one with the baseline information and the other one with the TEG values\n",
    "\n",
    "All the events for every patient will be counted and added to a column called \"Events\" (Count encoding)"
   ]
  },
  {
   "cell_type": "markdown",
   "metadata": {},
   "source": [
    "Here's what the data looks like."
   ]
  },
  {
   "cell_type": "code",
   "execution_count": 420,
   "metadata": {},
   "outputs": [
    {
     "data": {
      "image/png": "[encoded data removed]",
      "text/plain": [
       "<IPython.core.display.Image object>"
      ]
     },
     "metadata": {
      "image/png": {
       "height": 200,
       "width": 300
      }
     },
     "output_type": "display_data"
    }
   ],
   "source": [
    "# Path to image\n",
    "image_path = \"./data/data_structure.png\"\n",
    "# Display the image\n",
    "display(Image(filename=image_path, width=300, height=200))\n"
   ]
  },
  {
   "cell_type": "code",
   "execution_count": 421,
   "metadata": {},
   "outputs": [
    {
     "data": {
      "text/html": [
       "<div>\n",
       "<style scoped>\n",
       "    .dataframe tbody tr th:only-of-type {\n",
       "        vertical-align: middle;\n",
       "    }\n",
       "\n",
       "    .dataframe tbody tr th {\n",
       "        vertical-align: top;\n",
       "    }\n",
       "\n",
       "    .dataframe thead th {\n",
       "        text-align: right;\n",
       "    }\n",
       "</style>\n",
       "<table border=\"1\" class=\"dataframe\">\n",
       "  <thead>\n",
       "    <tr style=\"text-align: right;\">\n",
       "      <th></th>\n",
       "      <th>Record ID</th>\n",
       "      <th>Events</th>\n",
       "    </tr>\n",
       "  </thead>\n",
       "  <tbody>\n",
       "    <tr>\n",
       "      <th>0</th>\n",
       "      <td>71</td>\n",
       "      <td>6</td>\n",
       "    </tr>\n",
       "    <tr>\n",
       "      <th>1</th>\n",
       "      <td>49</td>\n",
       "      <td>5</td>\n",
       "    </tr>\n",
       "    <tr>\n",
       "      <th>2</th>\n",
       "      <td>155</td>\n",
       "      <td>5</td>\n",
       "    </tr>\n",
       "    <tr>\n",
       "      <th>3</th>\n",
       "      <td>82</td>\n",
       "      <td>5</td>\n",
       "    </tr>\n",
       "    <tr>\n",
       "      <th>4</th>\n",
       "      <td>174</td>\n",
       "      <td>5</td>\n",
       "    </tr>\n",
       "    <tr>\n",
       "      <th>5</th>\n",
       "      <td>77</td>\n",
       "      <td>4</td>\n",
       "    </tr>\n",
       "    <tr>\n",
       "      <th>6</th>\n",
       "      <td>115</td>\n",
       "      <td>4</td>\n",
       "    </tr>\n",
       "    <tr>\n",
       "      <th>7</th>\n",
       "      <td>46</td>\n",
       "      <td>4</td>\n",
       "    </tr>\n",
       "    <tr>\n",
       "      <th>8</th>\n",
       "      <td>192</td>\n",
       "      <td>4</td>\n",
       "    </tr>\n",
       "    <tr>\n",
       "      <th>9</th>\n",
       "      <td>T21-41</td>\n",
       "      <td>4</td>\n",
       "    </tr>\n",
       "    <tr>\n",
       "      <th>10</th>\n",
       "      <td>T21-2</td>\n",
       "      <td>4</td>\n",
       "    </tr>\n",
       "    <tr>\n",
       "      <th>11</th>\n",
       "      <td>T21-58</td>\n",
       "      <td>4</td>\n",
       "    </tr>\n",
       "    <tr>\n",
       "      <th>12</th>\n",
       "      <td>121</td>\n",
       "      <td>4</td>\n",
       "    </tr>\n",
       "    <tr>\n",
       "      <th>13</th>\n",
       "      <td>130</td>\n",
       "      <td>4</td>\n",
       "    </tr>\n",
       "    <tr>\n",
       "      <th>14</th>\n",
       "      <td>135</td>\n",
       "      <td>4</td>\n",
       "    </tr>\n",
       "    <tr>\n",
       "      <th>15</th>\n",
       "      <td>103</td>\n",
       "      <td>4</td>\n",
       "    </tr>\n",
       "    <tr>\n",
       "      <th>16</th>\n",
       "      <td>126</td>\n",
       "      <td>4</td>\n",
       "    </tr>\n",
       "    <tr>\n",
       "      <th>17</th>\n",
       "      <td>61</td>\n",
       "      <td>4</td>\n",
       "    </tr>\n",
       "    <tr>\n",
       "      <th>18</th>\n",
       "      <td>5</td>\n",
       "      <td>4</td>\n",
       "    </tr>\n",
       "    <tr>\n",
       "      <th>19</th>\n",
       "      <td>178</td>\n",
       "      <td>3</td>\n",
       "    </tr>\n",
       "    <tr>\n",
       "      <th>20</th>\n",
       "      <td>44</td>\n",
       "      <td>3</td>\n",
       "    </tr>\n",
       "    <tr>\n",
       "      <th>21</th>\n",
       "      <td>T21-49</td>\n",
       "      <td>3</td>\n",
       "    </tr>\n",
       "    <tr>\n",
       "      <th>22</th>\n",
       "      <td>186</td>\n",
       "      <td>3</td>\n",
       "    </tr>\n",
       "    <tr>\n",
       "      <th>23</th>\n",
       "      <td>147</td>\n",
       "      <td>3</td>\n",
       "    </tr>\n",
       "    <tr>\n",
       "      <th>24</th>\n",
       "      <td>62</td>\n",
       "      <td>3</td>\n",
       "    </tr>\n",
       "    <tr>\n",
       "      <th>25</th>\n",
       "      <td>57</td>\n",
       "      <td>3</td>\n",
       "    </tr>\n",
       "    <tr>\n",
       "      <th>26</th>\n",
       "      <td>10</td>\n",
       "      <td>3</td>\n",
       "    </tr>\n",
       "    <tr>\n",
       "      <th>27</th>\n",
       "      <td>87</td>\n",
       "      <td>3</td>\n",
       "    </tr>\n",
       "    <tr>\n",
       "      <th>28</th>\n",
       "      <td>69</td>\n",
       "      <td>3</td>\n",
       "    </tr>\n",
       "    <tr>\n",
       "      <th>29</th>\n",
       "      <td>39</td>\n",
       "      <td>3</td>\n",
       "    </tr>\n",
       "    <tr>\n",
       "      <th>30</th>\n",
       "      <td>T21-43</td>\n",
       "      <td>3</td>\n",
       "    </tr>\n",
       "    <tr>\n",
       "      <th>31</th>\n",
       "      <td>79</td>\n",
       "      <td>2</td>\n",
       "    </tr>\n",
       "    <tr>\n",
       "      <th>32</th>\n",
       "      <td>T21-5</td>\n",
       "      <td>2</td>\n",
       "    </tr>\n",
       "    <tr>\n",
       "      <th>33</th>\n",
       "      <td>90</td>\n",
       "      <td>2</td>\n",
       "    </tr>\n",
       "    <tr>\n",
       "      <th>34</th>\n",
       "      <td>98</td>\n",
       "      <td>2</td>\n",
       "    </tr>\n",
       "    <tr>\n",
       "      <th>35</th>\n",
       "      <td>84</td>\n",
       "      <td>2</td>\n",
       "    </tr>\n",
       "    <tr>\n",
       "      <th>36</th>\n",
       "      <td>136</td>\n",
       "      <td>2</td>\n",
       "    </tr>\n",
       "    <tr>\n",
       "      <th>37</th>\n",
       "      <td>47</td>\n",
       "      <td>2</td>\n",
       "    </tr>\n",
       "    <tr>\n",
       "      <th>38</th>\n",
       "      <td>118</td>\n",
       "      <td>2</td>\n",
       "    </tr>\n",
       "    <tr>\n",
       "      <th>39</th>\n",
       "      <td>T21-63</td>\n",
       "      <td>2</td>\n",
       "    </tr>\n",
       "    <tr>\n",
       "      <th>40</th>\n",
       "      <td>120</td>\n",
       "      <td>2</td>\n",
       "    </tr>\n",
       "    <tr>\n",
       "      <th>41</th>\n",
       "      <td>59</td>\n",
       "      <td>2</td>\n",
       "    </tr>\n",
       "    <tr>\n",
       "      <th>42</th>\n",
       "      <td>159</td>\n",
       "      <td>2</td>\n",
       "    </tr>\n",
       "    <tr>\n",
       "      <th>43</th>\n",
       "      <td>64</td>\n",
       "      <td>1</td>\n",
       "    </tr>\n",
       "    <tr>\n",
       "      <th>44</th>\n",
       "      <td>165</td>\n",
       "      <td>1</td>\n",
       "    </tr>\n",
       "    <tr>\n",
       "      <th>45</th>\n",
       "      <td>51</td>\n",
       "      <td>1</td>\n",
       "    </tr>\n",
       "    <tr>\n",
       "      <th>46</th>\n",
       "      <td>58</td>\n",
       "      <td>1</td>\n",
       "    </tr>\n",
       "    <tr>\n",
       "      <th>47</th>\n",
       "      <td>83</td>\n",
       "      <td>1</td>\n",
       "    </tr>\n",
       "    <tr>\n",
       "      <th>48</th>\n",
       "      <td>175</td>\n",
       "      <td>1</td>\n",
       "    </tr>\n",
       "    <tr>\n",
       "      <th>49</th>\n",
       "      <td>127</td>\n",
       "      <td>1</td>\n",
       "    </tr>\n",
       "    <tr>\n",
       "      <th>50</th>\n",
       "      <td>106</td>\n",
       "      <td>1</td>\n",
       "    </tr>\n",
       "  </tbody>\n",
       "</table>\n",
       "</div>"
      ],
      "text/plain": [
       "   Record ID  Events\n",
       "0         71       6\n",
       "1         49       5\n",
       "2        155       5\n",
       "3         82       5\n",
       "4        174       5\n",
       "5         77       4\n",
       "6        115       4\n",
       "7         46       4\n",
       "8        192       4\n",
       "9     T21-41       4\n",
       "10     T21-2       4\n",
       "11    T21-58       4\n",
       "12       121       4\n",
       "13       130       4\n",
       "14       135       4\n",
       "15       103       4\n",
       "16       126       4\n",
       "17        61       4\n",
       "18         5       4\n",
       "19       178       3\n",
       "20        44       3\n",
       "21    T21-49       3\n",
       "22       186       3\n",
       "23       147       3\n",
       "24        62       3\n",
       "25        57       3\n",
       "26        10       3\n",
       "27        87       3\n",
       "28        69       3\n",
       "29        39       3\n",
       "30    T21-43       3\n",
       "31        79       2\n",
       "32     T21-5       2\n",
       "33        90       2\n",
       "34        98       2\n",
       "35        84       2\n",
       "36       136       2\n",
       "37        47       2\n",
       "38       118       2\n",
       "39    T21-63       2\n",
       "40       120       2\n",
       "41        59       2\n",
       "42       159       2\n",
       "43        64       1\n",
       "44       165       1\n",
       "45        51       1\n",
       "46        58       1\n",
       "47        83       1\n",
       "48       175       1\n",
       "49       127       1\n",
       "50       106       1"
      ]
     },
     "execution_count": 421,
     "metadata": {},
     "output_type": "execute_result"
    }
   ],
   "source": [
    "# Count the number of events for each 'Record_ID' in events_df\n",
    "event_counts = events_df['Record ID'].value_counts().reset_index()\n",
    "event_counts.columns = ['Record ID', 'Events']\n",
    "event_counts"
   ]
  },
  {
   "cell_type": "code",
   "execution_count": 422,
   "metadata": {},
   "outputs": [
    {
     "data": {
      "text/html": [
       "<div>\n",
       "<style scoped>\n",
       "    .dataframe tbody tr th:only-of-type {\n",
       "        vertical-align: middle;\n",
       "    }\n",
       "\n",
       "    .dataframe tbody tr th {\n",
       "        vertical-align: top;\n",
       "    }\n",
       "\n",
       "    .dataframe thead th {\n",
       "        text-align: right;\n",
       "    }\n",
       "</style>\n",
       "<table border=\"1\" class=\"dataframe\">\n",
       "  <thead>\n",
       "    <tr style=\"text-align: right;\">\n",
       "      <th></th>\n",
       "      <th>Record ID</th>\n",
       "      <th>Visit Timepoint</th>\n",
       "      <th>Antiplatelet Therapy within 7 Days</th>\n",
       "      <th>Anticoagulation within 24 Hours</th>\n",
       "      <th>Statin within 24 Hours</th>\n",
       "      <th>Cilostazol within 7 days</th>\n",
       "      <th>Reaction Time (R) in min</th>\n",
       "      <th>Lysis at 30 min (LY30) in %</th>\n",
       "      <th>CRT Max amplitude (MA) in mm</th>\n",
       "      <th>CFF Max Amplitude( MA) in mm</th>\n",
       "      <th>...</th>\n",
       "      <th>aPTT</th>\n",
       "      <th>PT value</th>\n",
       "      <th>WBC in K/uL</th>\n",
       "      <th>RBC (M/uL)</th>\n",
       "      <th>HGB(g/dL)</th>\n",
       "      <th>HCT %</th>\n",
       "      <th>PLT(K/uL)</th>\n",
       "      <th>BP prior to blood draw</th>\n",
       "      <th>Date of TEG Collection</th>\n",
       "      <th>Events</th>\n",
       "    </tr>\n",
       "  </thead>\n",
       "  <tbody>\n",
       "    <tr>\n",
       "      <th>0</th>\n",
       "      <td>39</td>\n",
       "      <td>Baseline</td>\n",
       "      <td>aspirin, ticagrelor</td>\n",
       "      <td>enoxaparin (Lovenox)</td>\n",
       "      <td>Rosuvastatin</td>\n",
       "      <td>cilostazol</td>\n",
       "      <td>14.02407</td>\n",
       "      <td>1.268491</td>\n",
       "      <td>63.780276</td>\n",
       "      <td>37.48071</td>\n",
       "      <td>...</td>\n",
       "      <td>121.451182</td>\n",
       "      <td>6.723782</td>\n",
       "      <td>12.394838</td>\n",
       "      <td>4.334694</td>\n",
       "      <td>10.318403</td>\n",
       "      <td>47.959012</td>\n",
       "      <td>155.287685</td>\n",
       "      <td>160/95</td>\n",
       "      <td>2007-01-05</td>\n",
       "      <td>3.0</td>\n",
       "    </tr>\n",
       "    <tr>\n",
       "      <th>1</th>\n",
       "      <td>174</td>\n",
       "      <td>Post Op day 1 (4-36 hours)</td>\n",
       "      <td>clopidogrel, celecoxib</td>\n",
       "      <td>enoxaparin (Lovenox)</td>\n",
       "      <td>Simvastatin</td>\n",
       "      <td>cilostazol</td>\n",
       "      <td>3.319251</td>\n",
       "      <td>1.449484</td>\n",
       "      <td>71.128769</td>\n",
       "      <td>26.758913</td>\n",
       "      <td>...</td>\n",
       "      <td>86.95418</td>\n",
       "      <td>13.928991</td>\n",
       "      <td>14.034414</td>\n",
       "      <td>2.288993</td>\n",
       "      <td>8.347336</td>\n",
       "      <td>42.414855</td>\n",
       "      <td>414.026181</td>\n",
       "      <td>243/49</td>\n",
       "      <td>2009-03-06</td>\n",
       "      <td>5.0</td>\n",
       "    </tr>\n",
       "    <tr>\n",
       "      <th>2</th>\n",
       "      <td>T21-58</td>\n",
       "      <td>Post Op day 1 (4-36 hours)</td>\n",
       "      <td>ticagrelor</td>\n",
       "      <td>warfarin (Coumadin)</td>\n",
       "      <td>Lovastatin</td>\n",
       "      <td>cilostazol</td>\n",
       "      <td>8.031243</td>\n",
       "      <td>6.83865</td>\n",
       "      <td>54.706969</td>\n",
       "      <td>18.961554</td>\n",
       "      <td>...</td>\n",
       "      <td>124.331267</td>\n",
       "      <td>18.480140</td>\n",
       "      <td>13.002132</td>\n",
       "      <td>3.189830</td>\n",
       "      <td>15.962208</td>\n",
       "      <td>50.267115</td>\n",
       "      <td>495.118409</td>\n",
       "      <td>185/50</td>\n",
       "      <td>2011-05-06</td>\n",
       "      <td>4.0</td>\n",
       "    </tr>\n",
       "    <tr>\n",
       "      <th>3</th>\n",
       "      <td>155</td>\n",
       "      <td>6hr Post</td>\n",
       "      <td>aspirin, ticagrelor</td>\n",
       "      <td>rivaroxaban</td>\n",
       "      <td>Rosuvastatin</td>\n",
       "      <td>cilostazol</td>\n",
       "      <td>11.993521</td>\n",
       "      <td>inconclusive</td>\n",
       "      <td>71.450849</td>\n",
       "      <td>25.628047</td>\n",
       "      <td>...</td>\n",
       "      <td>91.085144</td>\n",
       "      <td>7.809423</td>\n",
       "      <td>20.652979</td>\n",
       "      <td>5.963962</td>\n",
       "      <td>16.206970</td>\n",
       "      <td>50.746414</td>\n",
       "      <td>506.230494</td>\n",
       "      <td>128/136</td>\n",
       "      <td>2013-07-05</td>\n",
       "      <td>5.0</td>\n",
       "    </tr>\n",
       "    <tr>\n",
       "      <th>4</th>\n",
       "      <td>47</td>\n",
       "      <td>PO Day 2</td>\n",
       "      <td>aspirin, ticagrelor</td>\n",
       "      <td>enoxaprin</td>\n",
       "      <td>atorvastatin</td>\n",
       "      <td>cilostazol</td>\n",
       "      <td>16.477918</td>\n",
       "      <td>10.810169</td>\n",
       "      <td>inconclusive machine error</td>\n",
       "      <td>49.885941</td>\n",
       "      <td>...</td>\n",
       "      <td>430</td>\n",
       "      <td>23.795725</td>\n",
       "      <td>24.328577</td>\n",
       "      <td>2.720811</td>\n",
       "      <td>9.905265</td>\n",
       "      <td>47.706937</td>\n",
       "      <td>139.320557</td>\n",
       "      <td>226/94</td>\n",
       "      <td>2015-09-04</td>\n",
       "      <td>2.0</td>\n",
       "    </tr>\n",
       "  </tbody>\n",
       "</table>\n",
       "<p>5 rows × 38 columns</p>\n",
       "</div>"
      ],
      "text/plain": [
       "  Record ID             Visit Timepoint Antiplatelet Therapy within 7 Days  \\\n",
       "0        39                    Baseline                aspirin, ticagrelor   \n",
       "1       174  Post Op day 1 (4-36 hours)             clopidogrel, celecoxib   \n",
       "2    T21-58  Post Op day 1 (4-36 hours)                         ticagrelor   \n",
       "3       155                    6hr Post                aspirin, ticagrelor   \n",
       "4        47                    PO Day 2                aspirin, ticagrelor   \n",
       "\n",
       "  Anticoagulation within 24 Hours Statin within 24 Hours  \\\n",
       "0            enoxaparin (Lovenox)           Rosuvastatin   \n",
       "1            enoxaparin (Lovenox)            Simvastatin   \n",
       "2             warfarin (Coumadin)             Lovastatin   \n",
       "3                     rivaroxaban           Rosuvastatin   \n",
       "4                       enoxaprin           atorvastatin   \n",
       "\n",
       "  Cilostazol within 7 days Reaction Time (R) in min  \\\n",
       "0               cilostazol                 14.02407   \n",
       "1               cilostazol                 3.319251   \n",
       "2               cilostazol                 8.031243   \n",
       "3               cilostazol                11.993521   \n",
       "4               cilostazol                16.477918   \n",
       "\n",
       "  Lysis at 30 min (LY30) in % CRT Max amplitude (MA) in mm  \\\n",
       "0                    1.268491                    63.780276   \n",
       "1                    1.449484                    71.128769   \n",
       "2                     6.83865                    54.706969   \n",
       "3               inconclusive                     71.450849   \n",
       "4                   10.810169   inconclusive machine error   \n",
       "\n",
       "  CFF Max Amplitude( MA) in mm  ...        aPTT   PT value WBC in K/uL  \\\n",
       "0                     37.48071  ...  121.451182   6.723782   12.394838   \n",
       "1                    26.758913  ...    86.95418  13.928991   14.034414   \n",
       "2                    18.961554  ...  124.331267  18.480140   13.002132   \n",
       "3                    25.628047  ...   91.085144   7.809423   20.652979   \n",
       "4                    49.885941  ...         430  23.795725   24.328577   \n",
       "\n",
       "  RBC (M/uL)  HGB(g/dL)      HCT %   PLT(K/uL) BP prior to blood draw  \\\n",
       "0   4.334694  10.318403  47.959012  155.287685                 160/95   \n",
       "1   2.288993   8.347336  42.414855  414.026181                 243/49   \n",
       "2   3.189830  15.962208  50.267115  495.118409                 185/50   \n",
       "3   5.963962  16.206970  50.746414  506.230494                128/136   \n",
       "4   2.720811   9.905265  47.706937  139.320557                 226/94   \n",
       "\n",
       "  Date of TEG Collection Events  \n",
       "0             2007-01-05    3.0  \n",
       "1             2009-03-06    5.0  \n",
       "2             2011-05-06    4.0  \n",
       "3             2013-07-05    5.0  \n",
       "4             2015-09-04    2.0  \n",
       "\n",
       "[5 rows x 38 columns]"
      ]
     },
     "execution_count": 422,
     "metadata": {},
     "output_type": "execute_result"
    }
   ],
   "source": [
    "# Merge the event counts with the baseline and teg values\n",
    "tegValues_df = tegValues_df.merge(event_counts, on='Record ID', how='left')\n",
    "baseline_df = baseline_df.merge(event_counts, on='Record ID', how='left')\n",
    "\n",
    "# Fill NaN values in the 'event_count' column with 0\n",
    "tegValues_df['Events'].fillna(0, inplace=True)\n",
    "baseline_df['Events'].fillna(0, inplace=True)\n",
    "tegValues_df.head()"
   ]
  },
  {
   "cell_type": "code",
   "execution_count": 423,
   "metadata": {},
   "outputs": [
    {
     "data": {
      "text/html": [
       "<div>\n",
       "<style scoped>\n",
       "    .dataframe tbody tr th:only-of-type {\n",
       "        vertical-align: middle;\n",
       "    }\n",
       "\n",
       "    .dataframe tbody tr th {\n",
       "        vertical-align: top;\n",
       "    }\n",
       "\n",
       "    .dataframe thead th {\n",
       "        text-align: right;\n",
       "    }\n",
       "</style>\n",
       "<table border=\"1\" class=\"dataframe\">\n",
       "  <thead>\n",
       "    <tr style=\"text-align: right;\">\n",
       "      <th></th>\n",
       "      <th>Record ID</th>\n",
       "      <th>Age</th>\n",
       "      <th>Sex</th>\n",
       "      <th>White</th>\n",
       "      <th>Extremity</th>\n",
       "      <th>Artery affected</th>\n",
       "      <th>BMI</th>\n",
       "      <th>Tobacco Use (1 current 2 former, 3 none)</th>\n",
       "      <th>Diabetes</th>\n",
       "      <th>Hypertension</th>\n",
       "      <th>...</th>\n",
       "      <th>Does the patient have a history of solid organ transplant?</th>\n",
       "      <th>EGFR (mL/min/1.73m2)</th>\n",
       "      <th>Has subject had previous intervention of the index limb?</th>\n",
       "      <th>Previous occluded stents</th>\n",
       "      <th>Rutherford Score</th>\n",
       "      <th>ABI Right</th>\n",
       "      <th>ABI left</th>\n",
       "      <th>Intervention Classification</th>\n",
       "      <th>Intervention Type</th>\n",
       "      <th>Events</th>\n",
       "    </tr>\n",
       "  </thead>\n",
       "  <tbody>\n",
       "    <tr>\n",
       "      <th>0</th>\n",
       "      <td>39</td>\n",
       "      <td>81</td>\n",
       "      <td>Male</td>\n",
       "      <td>1</td>\n",
       "      <td>left</td>\n",
       "      <td>common femoral, SFA, popliteal, anterior tibia...</td>\n",
       "      <td>40.373643</td>\n",
       "      <td>current within the last year ( &lt; 1 pack a day)</td>\n",
       "      <td>1</td>\n",
       "      <td>0</td>\n",
       "      <td>...</td>\n",
       "      <td>No</td>\n",
       "      <td>22.03354</td>\n",
       "      <td>Yes</td>\n",
       "      <td>0</td>\n",
       "      <td>4.717162</td>\n",
       "      <td>0.859011</td>\n",
       "      <td>0.104522</td>\n",
       "      <td>Open</td>\n",
       "      <td>angioplasty</td>\n",
       "      <td>3.0</td>\n",
       "    </tr>\n",
       "    <tr>\n",
       "      <th>1</th>\n",
       "      <td>174</td>\n",
       "      <td>70</td>\n",
       "      <td>Male</td>\n",
       "      <td>0</td>\n",
       "      <td>Bilateral</td>\n",
       "      <td>common femoral, SFA, popliteal, posterior tibi...</td>\n",
       "      <td>15.619750</td>\n",
       "      <td>current within the last year (  &gt; or = 1 pack ...</td>\n",
       "      <td>0</td>\n",
       "      <td>1</td>\n",
       "      <td>...</td>\n",
       "      <td>No</td>\n",
       "      <td>&gt;60</td>\n",
       "      <td>0</td>\n",
       "      <td>0</td>\n",
       "      <td>3.561872</td>\n",
       "      <td>0.809203</td>\n",
       "      <td>0.916329</td>\n",
       "      <td>Open</td>\n",
       "      <td>bypass revision</td>\n",
       "      <td>5.0</td>\n",
       "    </tr>\n",
       "    <tr>\n",
       "      <th>2</th>\n",
       "      <td>T21-58</td>\n",
       "      <td>88</td>\n",
       "      <td>Male</td>\n",
       "      <td>1</td>\n",
       "      <td>left</td>\n",
       "      <td>common femoral</td>\n",
       "      <td>37.470921</td>\n",
       "      <td>quit 1 to 10 years ago</td>\n",
       "      <td>1</td>\n",
       "      <td>0</td>\n",
       "      <td>...</td>\n",
       "      <td>Yes</td>\n",
       "      <td>22.006291</td>\n",
       "      <td>No</td>\n",
       "      <td>0</td>\n",
       "      <td>3.659894</td>\n",
       "      <td>1.240163</td>\n",
       "      <td>0.13404</td>\n",
       "      <td>Endo</td>\n",
       "      <td>angioplasty, stent, endarterectomy</td>\n",
       "      <td>4.0</td>\n",
       "    </tr>\n",
       "    <tr>\n",
       "      <th>3</th>\n",
       "      <td>155</td>\n",
       "      <td>78</td>\n",
       "      <td>Male</td>\n",
       "      <td>0</td>\n",
       "      <td>right</td>\n",
       "      <td>SFA, anterior tibial, posterior tibial, extern...</td>\n",
       "      <td>15.888214</td>\n",
       "      <td>quit 1 to 10 years ago</td>\n",
       "      <td>0</td>\n",
       "      <td>0</td>\n",
       "      <td>...</td>\n",
       "      <td>No</td>\n",
       "      <td>6.906499</td>\n",
       "      <td>Yes</td>\n",
       "      <td>Yes</td>\n",
       "      <td>3.525905</td>\n",
       "      <td>0.760655</td>\n",
       "      <td>inaudible</td>\n",
       "      <td>Endo</td>\n",
       "      <td>angioplasty, bypass</td>\n",
       "      <td>5.0</td>\n",
       "    </tr>\n",
       "    <tr>\n",
       "      <th>4</th>\n",
       "      <td>47</td>\n",
       "      <td>84</td>\n",
       "      <td>Female</td>\n",
       "      <td>0</td>\n",
       "      <td>right</td>\n",
       "      <td>SFA, external iliac</td>\n",
       "      <td>31.979733</td>\n",
       "      <td>Past, quit &gt;10 year ago</td>\n",
       "      <td>1</td>\n",
       "      <td>1</td>\n",
       "      <td>...</td>\n",
       "      <td>Yes</td>\n",
       "      <td>11.809767</td>\n",
       "      <td>0</td>\n",
       "      <td>0</td>\n",
       "      <td>1.663111</td>\n",
       "      <td>0.329114</td>\n",
       "      <td>0.244715</td>\n",
       "      <td>Open</td>\n",
       "      <td>bypass revision</td>\n",
       "      <td>2.0</td>\n",
       "    </tr>\n",
       "  </tbody>\n",
       "</table>\n",
       "<p>5 rows × 31 columns</p>\n",
       "</div>"
      ],
      "text/plain": [
       "  Record ID  Age     Sex  White  Extremity  \\\n",
       "0        39   81    Male      1       left   \n",
       "1       174   70    Male      0  Bilateral   \n",
       "2    T21-58   88    Male      1       left   \n",
       "3       155   78    Male      0      right   \n",
       "4        47   84  Female      0      right   \n",
       "\n",
       "                                     Artery affected        BMI  \\\n",
       "0  common femoral, SFA, popliteal, anterior tibia...  40.373643   \n",
       "1  common femoral, SFA, popliteal, posterior tibi...  15.619750   \n",
       "2                                     common femoral  37.470921   \n",
       "3  SFA, anterior tibial, posterior tibial, extern...  15.888214   \n",
       "4                                SFA, external iliac  31.979733   \n",
       "\n",
       "            Tobacco Use (1 current 2 former, 3 none)  Diabetes  Hypertension  \\\n",
       "0     current within the last year ( < 1 pack a day)         1             0   \n",
       "1  current within the last year (  > or = 1 pack ...         0             1   \n",
       "2                             quit 1 to 10 years ago         1             0   \n",
       "3                             quit 1 to 10 years ago         0             0   \n",
       "4                            Past, quit >10 year ago         1             1   \n",
       "\n",
       "   ...  Does the patient have a history of solid organ transplant?  \\\n",
       "0  ...                                                 No            \n",
       "1  ...                                                 No            \n",
       "2  ...                                                Yes            \n",
       "3  ...                                                 No            \n",
       "4  ...                                                Yes            \n",
       "\n",
       "  EGFR (mL/min/1.73m2)  \\\n",
       "0             22.03354   \n",
       "1                  >60   \n",
       "2            22.006291   \n",
       "3             6.906499   \n",
       "4            11.809767   \n",
       "\n",
       "  Has subject had previous intervention of the index limb?  \\\n",
       "0                                                Yes         \n",
       "1                                                  0         \n",
       "2                                                 No         \n",
       "3                                                Yes         \n",
       "4                                                  0         \n",
       "\n",
       "  Previous occluded stents  Rutherford Score  ABI Right   ABI left  \\\n",
       "0                        0          4.717162   0.859011   0.104522   \n",
       "1                        0          3.561872   0.809203   0.916329   \n",
       "2                        0          3.659894   1.240163    0.13404   \n",
       "3                      Yes          3.525905   0.760655  inaudible   \n",
       "4                        0          1.663111   0.329114   0.244715   \n",
       "\n",
       "  Intervention Classification                   Intervention Type Events  \n",
       "0                        Open                         angioplasty    3.0  \n",
       "1                        Open                     bypass revision    5.0  \n",
       "2                        Endo  angioplasty, stent, endarterectomy    4.0  \n",
       "3                        Endo                 angioplasty, bypass    5.0  \n",
       "4                        Open                     bypass revision    2.0  \n",
       "\n",
       "[5 rows x 31 columns]"
      ]
     },
     "execution_count": 423,
     "metadata": {},
     "output_type": "execute_result"
    }
   ],
   "source": [
    "baseline_df.head()"
   ]
  },
  {
   "cell_type": "code",
   "execution_count": 424,
   "metadata": {},
   "outputs": [],
   "source": [
    "# Save in excel\n",
    "excel_file = \"./testData/merged_data.xlsx\"\n",
    "\n",
    "# Create an Excel writer object\n",
    "with pd.ExcelWriter(excel_file, engine='xlsxwriter') as writer:\n",
    "    # Write each DataFrame to a different Excel sheet\n",
    "    tegValues_df.to_excel(writer, sheet_name='TEG values', index=False)\n",
    "    baseline_df.to_excel(writer, sheet_name='Baseline', index=False)\n",
    "\n"
   ]
  },
  {
   "cell_type": "markdown",
   "metadata": {},
   "source": [
    "### Data transformations\n",
    "All columns are being transformed to the best fitting format, according to the information they hold and effectively removing any typos."
   ]
  },
  {
   "cell_type": "code",
   "execution_count": 425,
   "metadata": {},
   "outputs": [],
   "source": [
    "# Clean df in new copy\n",
    "clean_TEG_df = tegValues_df.copy()\n",
    "clean_baseline_df = baseline_df.copy()"
   ]
  },
  {
   "cell_type": "markdown",
   "metadata": {},
   "source": [
    "#### Number\n",
    "Baseline:\n",
    "- Age\n",
    "- BMI\n",
    "- Clotting Disorder\n",
    "- EGFR (mL/min/1.73m2)\n",
    "- BP prior to blood draw\n",
    "- ABI Right\n",
    "- ABI Left\n",
    "- Rutherford Score\n",
    "\n",
    "TEG:\n",
    "- TEG values\n",
    "- Visit Timepoint\n"
   ]
  },
  {
   "cell_type": "code",
   "execution_count": 426,
   "metadata": {},
   "outputs": [
    {
     "data": {
      "text/plain": [
       "['Reaction Time (R) in min',\n",
       " 'Lysis at 30 min (LY30) in %',\n",
       " 'CRT Max amplitude (MA) in mm',\n",
       " 'CFF Max Amplitude( MA) in mm',\n",
       " 'HKH MA (mm)',\n",
       " 'ActF MA (mm)',\n",
       " 'ADP MA (mm)',\n",
       " 'AA MA(mm)',\n",
       " 'ADP % Aggregation',\n",
       " 'ADP % Inhibition',\n",
       " 'AA % Aggregation',\n",
       " 'AA % Inhibition',\n",
       " 'CK R(min)',\n",
       " 'CK K (min)',\n",
       " 'CK angle( deg)',\n",
       " 'CK MA (mm)',\n",
       " 'CRT MA(mm)',\n",
       " 'CKH R (min)',\n",
       " 'CFF MA(mm)',\n",
       " 'CFF FLEV(mg/dL)',\n",
       " 'HbA1c Baseline( within1 year of study start)',\n",
       " 'INR value',\n",
       " 'aPTT',\n",
       " 'PT value',\n",
       " 'WBC in K/uL',\n",
       " 'RBC (M/uL)',\n",
       " 'HGB(g/dL)',\n",
       " 'HCT %',\n",
       " 'PLT(K/uL)']"
      ]
     },
     "execution_count": 426,
     "metadata": {},
     "output_type": "execute_result"
    }
   ],
   "source": [
    "# Find teg values column\n",
    "columns_to_exclude = ['Record ID', 'Visit Timepoint', 'Antiplatelet Therapy within 7 Days',\n",
    "                      'Anticoagulation within 24 Hours', 'Statin within 24 Hours', 'Cilostazol within 7 days',\n",
    "                      'BP prior to blood draw', 'Events', 'Date of TEG Collection']\n",
    "\n",
    "tegValues = [col for col in tegValues_df.columns.values if col not in columns_to_exclude]\n",
    "tegValues"
   ]
  },
  {
   "cell_type": "code",
   "execution_count": 427,
   "metadata": {},
   "outputs": [],
   "source": [
    "number_columns_baseline = [\"Age\",\"BMI\", \"Clotting Disorder\", \"EGFR (mL/min/1.73m2)\", \"ABI Right\", \"ABI left\", \"Rutherford Score\"]\n",
    "number_columns_teg = [\"Date of TEG Collection\", \"BP prior to blood draw\"]+tegValues"
   ]
  },
  {
   "cell_type": "markdown",
   "metadata": {},
   "source": [
    "Visualize the values and their types to identify the kind of changes needed"
   ]
  },
  {
   "cell_type": "code",
   "execution_count": 428,
   "metadata": {},
   "outputs": [
    {
     "data": {
      "text/plain": [
       "Date of TEG Collection                          datetime64[ns]\n",
       "BP prior to blood draw                                  object\n",
       "Reaction Time (R) in min                                object\n",
       "Lysis at 30 min (LY30) in %                             object\n",
       "CRT Max amplitude (MA) in mm                            object\n",
       "CFF Max Amplitude( MA) in mm                            object\n",
       "HKH MA (mm)                                             object\n",
       "ActF MA (mm)                                            object\n",
       "ADP MA (mm)                                             object\n",
       "AA MA(mm)                                               object\n",
       "ADP % Aggregation                                       object\n",
       "ADP % Inhibition                                        object\n",
       "AA % Aggregation                                        object\n",
       "AA % Inhibition                                         object\n",
       "CK R(min)                                               object\n",
       "CK K (min)                                              object\n",
       "CK angle( deg)                                          object\n",
       "CK MA (mm)                                              object\n",
       "CRT MA(mm)                                              object\n",
       "CKH R (min)                                             object\n",
       "CFF MA(mm)                                              object\n",
       "CFF FLEV(mg/dL)                                         object\n",
       "HbA1c Baseline( within1 year of study start)           float64\n",
       "INR value                                              float64\n",
       "aPTT                                                    object\n",
       "PT value                                               float64\n",
       "WBC in K/uL                                            float64\n",
       "RBC (M/uL)                                             float64\n",
       "HGB(g/dL)                                              float64\n",
       "HCT %                                                  float64\n",
       "PLT(K/uL)                                              float64\n",
       "dtype: object"
      ]
     },
     "execution_count": 428,
     "metadata": {},
     "output_type": "execute_result"
    }
   ],
   "source": [
    "clean_TEG_df[number_columns_teg].dtypes\n"
   ]
  },
  {
   "cell_type": "code",
   "execution_count": 429,
   "metadata": {},
   "outputs": [
    {
     "data": {
      "text/plain": [
       "Age                       int64\n",
       "BMI                     float64\n",
       "Clotting Disorder         int64\n",
       "EGFR (mL/min/1.73m2)     object\n",
       "ABI Right                object\n",
       "ABI left                 object\n",
       "Rutherford Score         object\n",
       "dtype: object"
      ]
     },
     "execution_count": 429,
     "metadata": {},
     "output_type": "execute_result"
    }
   ],
   "source": [
    "clean_baseline_df[number_columns_baseline].dtypes"
   ]
  },
  {
   "cell_type": "markdown",
   "metadata": {},
   "source": [
    "Visualize the values "
   ]
  },
  {
   "cell_type": "code",
   "execution_count": 430,
   "metadata": {},
   "outputs": [
    {
     "data": {
      "text/html": [
       "<div>\n",
       "<style scoped>\n",
       "    .dataframe tbody tr th:only-of-type {\n",
       "        vertical-align: middle;\n",
       "    }\n",
       "\n",
       "    .dataframe tbody tr th {\n",
       "        vertical-align: top;\n",
       "    }\n",
       "\n",
       "    .dataframe thead th {\n",
       "        text-align: right;\n",
       "    }\n",
       "</style>\n",
       "<table border=\"1\" class=\"dataframe\">\n",
       "  <thead>\n",
       "    <tr style=\"text-align: right;\">\n",
       "      <th></th>\n",
       "      <th>Date of TEG Collection</th>\n",
       "      <th>BP prior to blood draw</th>\n",
       "      <th>Reaction Time (R) in min</th>\n",
       "      <th>Lysis at 30 min (LY30) in %</th>\n",
       "      <th>CRT Max amplitude (MA) in mm</th>\n",
       "      <th>CFF Max Amplitude( MA) in mm</th>\n",
       "      <th>HKH MA (mm)</th>\n",
       "      <th>ActF MA (mm)</th>\n",
       "      <th>ADP MA (mm)</th>\n",
       "      <th>AA MA(mm)</th>\n",
       "      <th>...</th>\n",
       "      <th>CFF FLEV(mg/dL)</th>\n",
       "      <th>HbA1c Baseline( within1 year of study start)</th>\n",
       "      <th>INR value</th>\n",
       "      <th>aPTT</th>\n",
       "      <th>PT value</th>\n",
       "      <th>WBC in K/uL</th>\n",
       "      <th>RBC (M/uL)</th>\n",
       "      <th>HGB(g/dL)</th>\n",
       "      <th>HCT %</th>\n",
       "      <th>PLT(K/uL)</th>\n",
       "    </tr>\n",
       "  </thead>\n",
       "  <tbody>\n",
       "    <tr>\n",
       "      <th>0</th>\n",
       "      <td>2007-01-05</td>\n",
       "      <td>160/95</td>\n",
       "      <td>14.02407</td>\n",
       "      <td>1.268491</td>\n",
       "      <td>63.780276</td>\n",
       "      <td>37.48071</td>\n",
       "      <td>60.551078</td>\n",
       "      <td>4.005524</td>\n",
       "      <td>33.115271</td>\n",
       "      <td>66.890611</td>\n",
       "      <td>...</td>\n",
       "      <td>1150.210716</td>\n",
       "      <td>5.764743</td>\n",
       "      <td>151.757216</td>\n",
       "      <td>121.451182</td>\n",
       "      <td>6.723782</td>\n",
       "      <td>12.394838</td>\n",
       "      <td>4.334694</td>\n",
       "      <td>10.318403</td>\n",
       "      <td>47.959012</td>\n",
       "      <td>155.287685</td>\n",
       "    </tr>\n",
       "    <tr>\n",
       "      <th>1</th>\n",
       "      <td>2009-03-06</td>\n",
       "      <td>243/49</td>\n",
       "      <td>3.319251</td>\n",
       "      <td>1.449484</td>\n",
       "      <td>71.128769</td>\n",
       "      <td>26.758913</td>\n",
       "      <td>11.638807</td>\n",
       "      <td>&gt;30.0</td>\n",
       "      <td>48.117204</td>\n",
       "      <td>28.182542</td>\n",
       "      <td>...</td>\n",
       "      <td>911.256002</td>\n",
       "      <td>8.267349</td>\n",
       "      <td>54.147810</td>\n",
       "      <td>86.95418</td>\n",
       "      <td>13.928991</td>\n",
       "      <td>14.034414</td>\n",
       "      <td>2.288993</td>\n",
       "      <td>8.347336</td>\n",
       "      <td>42.414855</td>\n",
       "      <td>414.026181</td>\n",
       "    </tr>\n",
       "    <tr>\n",
       "      <th>2</th>\n",
       "      <td>2011-05-06</td>\n",
       "      <td>185/50</td>\n",
       "      <td>8.031243</td>\n",
       "      <td>6.83865</td>\n",
       "      <td>54.706969</td>\n",
       "      <td>18.961554</td>\n",
       "      <td>34.369101</td>\n",
       "      <td>2.900351</td>\n",
       "      <td>38.127375</td>\n",
       "      <td>83.103689</td>\n",
       "      <td>...</td>\n",
       "      <td>503.002443</td>\n",
       "      <td>5.195084</td>\n",
       "      <td>126.072895</td>\n",
       "      <td>124.331267</td>\n",
       "      <td>18.480140</td>\n",
       "      <td>13.002132</td>\n",
       "      <td>3.189830</td>\n",
       "      <td>15.962208</td>\n",
       "      <td>50.267115</td>\n",
       "      <td>495.118409</td>\n",
       "    </tr>\n",
       "    <tr>\n",
       "      <th>3</th>\n",
       "      <td>2013-07-05</td>\n",
       "      <td>128/136</td>\n",
       "      <td>11.993521</td>\n",
       "      <td>inconclusive</td>\n",
       "      <td>71.450849</td>\n",
       "      <td>25.628047</td>\n",
       "      <td>24.09067</td>\n",
       "      <td>12.91638</td>\n",
       "      <td>&lt;10.0</td>\n",
       "      <td>29.07214</td>\n",
       "      <td>...</td>\n",
       "      <td>476/3</td>\n",
       "      <td>6.679559</td>\n",
       "      <td>22.585294</td>\n",
       "      <td>91.085144</td>\n",
       "      <td>7.809423</td>\n",
       "      <td>20.652979</td>\n",
       "      <td>5.963962</td>\n",
       "      <td>16.206970</td>\n",
       "      <td>50.746414</td>\n",
       "      <td>506.230494</td>\n",
       "    </tr>\n",
       "    <tr>\n",
       "      <th>4</th>\n",
       "      <td>2015-09-04</td>\n",
       "      <td>226/94</td>\n",
       "      <td>16.477918</td>\n",
       "      <td>10.810169</td>\n",
       "      <td>inconclusive machine error</td>\n",
       "      <td>49.885941</td>\n",
       "      <td>25.960299</td>\n",
       "      <td>6.511959</td>\n",
       "      <td>41,2</td>\n",
       "      <td>21.926659</td>\n",
       "      <td>...</td>\n",
       "      <td>1144.458966</td>\n",
       "      <td>8.529165</td>\n",
       "      <td>98.907343</td>\n",
       "      <td>430</td>\n",
       "      <td>23.795725</td>\n",
       "      <td>24.328577</td>\n",
       "      <td>2.720811</td>\n",
       "      <td>9.905265</td>\n",
       "      <td>47.706937</td>\n",
       "      <td>139.320557</td>\n",
       "    </tr>\n",
       "  </tbody>\n",
       "</table>\n",
       "<p>5 rows × 31 columns</p>\n",
       "</div>"
      ],
      "text/plain": [
       "  Date of TEG Collection BP prior to blood draw Reaction Time (R) in min  \\\n",
       "0             2007-01-05                 160/95                 14.02407   \n",
       "1             2009-03-06                 243/49                 3.319251   \n",
       "2             2011-05-06                 185/50                 8.031243   \n",
       "3             2013-07-05                128/136                11.993521   \n",
       "4             2015-09-04                 226/94                16.477918   \n",
       "\n",
       "  Lysis at 30 min (LY30) in % CRT Max amplitude (MA) in mm  \\\n",
       "0                    1.268491                    63.780276   \n",
       "1                    1.449484                    71.128769   \n",
       "2                     6.83865                    54.706969   \n",
       "3               inconclusive                     71.450849   \n",
       "4                   10.810169   inconclusive machine error   \n",
       "\n",
       "  CFF Max Amplitude( MA) in mm HKH MA (mm) ActF MA (mm) ADP MA (mm)  \\\n",
       "0                     37.48071   60.551078     4.005524   33.115271   \n",
       "1                    26.758913   11.638807        >30.0   48.117204   \n",
       "2                    18.961554   34.369101     2.900351   38.127375   \n",
       "3                    25.628047    24.09067     12.91638       <10.0   \n",
       "4                    49.885941   25.960299     6.511959        41,2   \n",
       "\n",
       "   AA MA(mm)  ... CFF FLEV(mg/dL)  \\\n",
       "0  66.890611  ...     1150.210716   \n",
       "1  28.182542  ...      911.256002   \n",
       "2  83.103689  ...      503.002443   \n",
       "3   29.07214  ...           476/3   \n",
       "4  21.926659  ...     1144.458966   \n",
       "\n",
       "  HbA1c Baseline( within1 year of study start)   INR value        aPTT  \\\n",
       "0                                     5.764743  151.757216  121.451182   \n",
       "1                                     8.267349   54.147810    86.95418   \n",
       "2                                     5.195084  126.072895  124.331267   \n",
       "3                                     6.679559   22.585294   91.085144   \n",
       "4                                     8.529165   98.907343         430   \n",
       "\n",
       "    PT value WBC in K/uL RBC (M/uL)  HGB(g/dL)      HCT %   PLT(K/uL)  \n",
       "0   6.723782   12.394838   4.334694  10.318403  47.959012  155.287685  \n",
       "1  13.928991   14.034414   2.288993   8.347336  42.414855  414.026181  \n",
       "2  18.480140   13.002132   3.189830  15.962208  50.267115  495.118409  \n",
       "3   7.809423   20.652979   5.963962  16.206970  50.746414  506.230494  \n",
       "4  23.795725   24.328577   2.720811   9.905265  47.706937  139.320557  \n",
       "\n",
       "[5 rows x 31 columns]"
      ]
     },
     "execution_count": 430,
     "metadata": {},
     "output_type": "execute_result"
    }
   ],
   "source": [
    "clean_TEG_df[number_columns_teg].head()"
   ]
  },
  {
   "cell_type": "code",
   "execution_count": 431,
   "metadata": {},
   "outputs": [
    {
     "data": {
      "text/html": [
       "<div>\n",
       "<style scoped>\n",
       "    .dataframe tbody tr th:only-of-type {\n",
       "        vertical-align: middle;\n",
       "    }\n",
       "\n",
       "    .dataframe tbody tr th {\n",
       "        vertical-align: top;\n",
       "    }\n",
       "\n",
       "    .dataframe thead th {\n",
       "        text-align: right;\n",
       "    }\n",
       "</style>\n",
       "<table border=\"1\" class=\"dataframe\">\n",
       "  <thead>\n",
       "    <tr style=\"text-align: right;\">\n",
       "      <th></th>\n",
       "      <th>Age</th>\n",
       "      <th>BMI</th>\n",
       "      <th>Clotting Disorder</th>\n",
       "      <th>EGFR (mL/min/1.73m2)</th>\n",
       "      <th>ABI Right</th>\n",
       "      <th>ABI left</th>\n",
       "      <th>Rutherford Score</th>\n",
       "    </tr>\n",
       "  </thead>\n",
       "  <tbody>\n",
       "    <tr>\n",
       "      <th>0</th>\n",
       "      <td>81</td>\n",
       "      <td>40.373643</td>\n",
       "      <td>2</td>\n",
       "      <td>22.03354</td>\n",
       "      <td>0.859011</td>\n",
       "      <td>0.104522</td>\n",
       "      <td>4.717162</td>\n",
       "    </tr>\n",
       "    <tr>\n",
       "      <th>1</th>\n",
       "      <td>70</td>\n",
       "      <td>15.619750</td>\n",
       "      <td>2</td>\n",
       "      <td>&gt;60</td>\n",
       "      <td>0.809203</td>\n",
       "      <td>0.916329</td>\n",
       "      <td>3.561872</td>\n",
       "    </tr>\n",
       "    <tr>\n",
       "      <th>2</th>\n",
       "      <td>88</td>\n",
       "      <td>37.470921</td>\n",
       "      <td>1</td>\n",
       "      <td>22.006291</td>\n",
       "      <td>1.240163</td>\n",
       "      <td>0.13404</td>\n",
       "      <td>3.659894</td>\n",
       "    </tr>\n",
       "    <tr>\n",
       "      <th>3</th>\n",
       "      <td>78</td>\n",
       "      <td>15.888214</td>\n",
       "      <td>0</td>\n",
       "      <td>6.906499</td>\n",
       "      <td>0.760655</td>\n",
       "      <td>inaudible</td>\n",
       "      <td>3.525905</td>\n",
       "    </tr>\n",
       "    <tr>\n",
       "      <th>4</th>\n",
       "      <td>84</td>\n",
       "      <td>31.979733</td>\n",
       "      <td>1</td>\n",
       "      <td>11.809767</td>\n",
       "      <td>0.329114</td>\n",
       "      <td>0.244715</td>\n",
       "      <td>1.663111</td>\n",
       "    </tr>\n",
       "  </tbody>\n",
       "</table>\n",
       "</div>"
      ],
      "text/plain": [
       "   Age        BMI  Clotting Disorder EGFR (mL/min/1.73m2) ABI Right  \\\n",
       "0   81  40.373643                  2             22.03354  0.859011   \n",
       "1   70  15.619750                  2                  >60  0.809203   \n",
       "2   88  37.470921                  1            22.006291  1.240163   \n",
       "3   78  15.888214                  0             6.906499  0.760655   \n",
       "4   84  31.979733                  1            11.809767  0.329114   \n",
       "\n",
       "    ABI left Rutherford Score  \n",
       "0   0.104522         4.717162  \n",
       "1   0.916329         3.561872  \n",
       "2    0.13404         3.659894  \n",
       "3  inaudible         3.525905  \n",
       "4   0.244715         1.663111  "
      ]
     },
     "execution_count": 431,
     "metadata": {},
     "output_type": "execute_result"
    }
   ],
   "source": [
    "clean_baseline_df[number_columns_baseline].head()"
   ]
  },
  {
   "cell_type": "markdown",
   "metadata": {},
   "source": [
    "Out of the columns visuzlied, age, BMI and clotting dissorder are in the right format.\n",
    "\n",
    "BP needs to be split between systolic and diastolic and made into ints.\n",
    "\n",
    "EGFR is a combination of strings and floats. The string is \">60\", which can be approximated to a big number, like 65. All the other values are floats.\n",
    "TEG values need to be transformed to floats. Some teg values have maximum value stored as \">n\", or say \"inconclusive\" or other string when data was not colected. Those vaues wil be marked as nan\n",
    "Both TEG values and EGFR boundary conditions are saved in the \"./data_boundary.json\" file\n",
    "\n",
    "Visit timepoint is in strings and need to be based on days\n",
    "\n",
    "ABI left and right have some strings that will be converted to NaN values"
   ]
  },
  {
   "cell_type": "markdown",
   "metadata": {},
   "source": [
    "Split BP into two columns (systolic and diastolic) based on \"/\" "
   ]
  },
  {
   "cell_type": "code",
   "execution_count": 432,
   "metadata": {},
   "outputs": [
    {
     "data": {
      "text/plain": [
       "BP_Systolic     Int64\n",
       "BP_Diastolic    Int64\n",
       "dtype: object"
      ]
     },
     "execution_count": 432,
     "metadata": {},
     "output_type": "execute_result"
    }
   ],
   "source": [
    "# Split the column into 'Systolic' and 'Diastolic' columns\n",
    "clean_TEG_df[['BP_Systolic', 'BP_Diastolic']] = clean_TEG_df['BP prior to blood draw'].str.split('/', expand=True)\n",
    "\n",
    "# Convert 'Systolic' and 'Diastolic' columns to integers\n",
    "clean_TEG_df['BP_Systolic'] = pd.to_numeric(clean_TEG_df['BP_Systolic'], errors='coerce').astype('Int64')\n",
    "clean_TEG_df['BP_Diastolic'] = pd.to_numeric(clean_TEG_df['BP_Diastolic'], errors='coerce').astype('Int64')\n",
    "\n",
    "# Drop the first column 'BP prior to blood draw'\n",
    "clean_TEG_df.drop(columns=['BP prior to blood draw'], inplace = True)\n",
    "number_columns_teg.remove('BP prior to blood draw')\n",
    "number_columns_teg.append('BP_Systolic')\n",
    "number_columns_teg.append('BP_Diastolic')\n",
    "\n",
    "clean_TEG_df[['BP_Systolic', 'BP_Diastolic']].dtypes\n"
   ]
  },
  {
   "cell_type": "markdown",
   "metadata": {},
   "source": [
    "Clean EGFR and TEG data with boundary values and convert all to floats"
   ]
  },
  {
   "cell_type": "code",
   "execution_count": 433,
   "metadata": {},
   "outputs": [
    {
     "data": {
      "text/plain": [
       "{'EGFR (mL/min/1.73m2)': {'>60': 60},\n",
       " 'Reaction Time (R) in min': {'>17': 18},\n",
       " 'HKH MA (mm)': {'<42': 40, '>71': 75},\n",
       " 'ActF MA (mm)': {'>30': 35, '<2': 0},\n",
       " 'ADP MA (mm)': {'<10': 5, '>72': 77},\n",
       " 'AA MA(mm)': {'<8': 5},\n",
       " 'CK R(min)': {'>17': 20},\n",
       " 'CK K (min)': {'<': '>', '>5': 8},\n",
       " 'CK angle( deg)': {'<39': 35},\n",
       " 'CK MA (mm)': {'<40': 35, '>75': 80},\n",
       " 'CRT MA(mm)': {'<40': 35, '>75': 80},\n",
       " 'CRT Max amplitude (MA) in mm': {'<40': 35, '>75': 80},\n",
       " 'CKH R (min)': {'>17': 20},\n",
       " 'CFF MA(mm)': {'>52': 55, '<4': 0},\n",
       " 'CFF Max Amplitude( MA) in mm': {'>52': 55, '<4': 0},\n",
       " 'aPTT': {'>150': 160}}"
      ]
     },
     "execution_count": 433,
     "metadata": {},
     "output_type": "execute_result"
    }
   ],
   "source": [
    "# Import boundary values\n",
    "\n",
    "# Get the current working directory (base directory)\n",
    "base_directory = os.getcwd()\n",
    "\n",
    "# Define the filename\n",
    "filename = 'data_boundaries.json'\n",
    "\n",
    "# Create the full file path by joining the base directory and filename\n",
    "file_path = os.path.join(base_directory, 'data', filename)\n",
    "\n",
    "with open(file_path, 'r') as json_file:\n",
    "    boundaries = json.load(json_file)\n",
    "boundaries"
   ]
  },
  {
   "cell_type": "code",
   "execution_count": 434,
   "metadata": {},
   "outputs": [
    {
     "data": {
      "text/html": [
       "<div>\n",
       "<style scoped>\n",
       "    .dataframe tbody tr th:only-of-type {\n",
       "        vertical-align: middle;\n",
       "    }\n",
       "\n",
       "    .dataframe tbody tr th {\n",
       "        vertical-align: top;\n",
       "    }\n",
       "\n",
       "    .dataframe thead th {\n",
       "        text-align: right;\n",
       "    }\n",
       "</style>\n",
       "<table border=\"1\" class=\"dataframe\">\n",
       "  <thead>\n",
       "    <tr style=\"text-align: right;\">\n",
       "      <th></th>\n",
       "      <th>Reaction Time (R) in min</th>\n",
       "      <th>HKH MA (mm)</th>\n",
       "      <th>ActF MA (mm)</th>\n",
       "      <th>ADP MA (mm)</th>\n",
       "      <th>AA MA(mm)</th>\n",
       "      <th>CK R(min)</th>\n",
       "      <th>CK K (min)</th>\n",
       "      <th>CK angle( deg)</th>\n",
       "      <th>CK MA (mm)</th>\n",
       "      <th>CRT MA(mm)</th>\n",
       "      <th>CRT Max amplitude (MA) in mm</th>\n",
       "      <th>CKH R (min)</th>\n",
       "      <th>CFF MA(mm)</th>\n",
       "      <th>CFF Max Amplitude( MA) in mm</th>\n",
       "      <th>aPTT</th>\n",
       "    </tr>\n",
       "  </thead>\n",
       "  <tbody>\n",
       "    <tr>\n",
       "      <th>0</th>\n",
       "      <td>14.02407</td>\n",
       "      <td>60.551078</td>\n",
       "      <td>4.005524</td>\n",
       "      <td>33.115271</td>\n",
       "      <td>66.890611</td>\n",
       "      <td>530.964454</td>\n",
       "      <td>2.74555</td>\n",
       "      <td>35</td>\n",
       "      <td>35</td>\n",
       "      <td>65.81586</td>\n",
       "      <td>63.780276</td>\n",
       "      <td>31.275554</td>\n",
       "      <td>8.07024</td>\n",
       "      <td>37.48071</td>\n",
       "      <td>121.451182</td>\n",
       "    </tr>\n",
       "    <tr>\n",
       "      <th>1</th>\n",
       "      <td>3.319251</td>\n",
       "      <td>11.638807</td>\n",
       "      <td>35</td>\n",
       "      <td>48.117204</td>\n",
       "      <td>28.182542</td>\n",
       "      <td>372.62224</td>\n",
       "      <td>3.262636</td>\n",
       "      <td>54.664768</td>\n",
       "      <td>23.262281</td>\n",
       "      <td>50.963654</td>\n",
       "      <td>71.128769</td>\n",
       "      <td>22.664393</td>\n",
       "      <td>21.015413</td>\n",
       "      <td>26.758913</td>\n",
       "      <td>86.95418</td>\n",
       "    </tr>\n",
       "    <tr>\n",
       "      <th>2</th>\n",
       "      <td>8.031243</td>\n",
       "      <td>34.369101</td>\n",
       "      <td>2.900351</td>\n",
       "      <td>38.127375</td>\n",
       "      <td>83.103689</td>\n",
       "      <td>inconclusive</td>\n",
       "      <td>3.689334</td>\n",
       "      <td>72.802085</td>\n",
       "      <td>43.586144</td>\n",
       "      <td>85.057179</td>\n",
       "      <td>54.706969</td>\n",
       "      <td>2.36893</td>\n",
       "      <td>44.863261</td>\n",
       "      <td>18.961554</td>\n",
       "      <td>124.331267</td>\n",
       "    </tr>\n",
       "    <tr>\n",
       "      <th>3</th>\n",
       "      <td>11.993521</td>\n",
       "      <td>24.09067</td>\n",
       "      <td>12.91638</td>\n",
       "      <td>5</td>\n",
       "      <td>29.07214</td>\n",
       "      <td>542.831464</td>\n",
       "      <td>3.553863</td>\n",
       "      <td>35</td>\n",
       "      <td>notavailable</td>\n",
       "      <td>79.124757</td>\n",
       "      <td>71.450849</td>\n",
       "      <td>5.514348</td>\n",
       "      <td>34.688881</td>\n",
       "      <td>25.628047</td>\n",
       "      <td>91.085144</td>\n",
       "    </tr>\n",
       "    <tr>\n",
       "      <th>4</th>\n",
       "      <td>16.477918</td>\n",
       "      <td>25.960299</td>\n",
       "      <td>6.511959</td>\n",
       "      <td>41,2</td>\n",
       "      <td>21.926659</td>\n",
       "      <td>29.84655</td>\n",
       "      <td>13.679995</td>\n",
       "      <td>53.155152</td>\n",
       "      <td>45.6435</td>\n",
       "      <td>59.05018</td>\n",
       "      <td>inconclusivemachineerror</td>\n",
       "      <td>28.279901</td>\n",
       "      <td>40.481286</td>\n",
       "      <td>49.885941</td>\n",
       "      <td>430</td>\n",
       "    </tr>\n",
       "  </tbody>\n",
       "</table>\n",
       "</div>"
      ],
      "text/plain": [
       "  Reaction Time (R) in min HKH MA (mm) ActF MA (mm) ADP MA (mm)  AA MA(mm)  \\\n",
       "0                 14.02407   60.551078     4.005524   33.115271  66.890611   \n",
       "1                 3.319251   11.638807           35   48.117204  28.182542   \n",
       "2                 8.031243   34.369101     2.900351   38.127375  83.103689   \n",
       "3                11.993521    24.09067     12.91638           5   29.07214   \n",
       "4                16.477918   25.960299     6.511959        41,2  21.926659   \n",
       "\n",
       "      CK R(min) CK K (min) CK angle( deg)    CK MA (mm) CRT MA(mm)  \\\n",
       "0    530.964454    2.74555             35            35   65.81586   \n",
       "1     372.62224   3.262636      54.664768     23.262281  50.963654   \n",
       "2  inconclusive   3.689334      72.802085     43.586144  85.057179   \n",
       "3    542.831464   3.553863             35  notavailable  79.124757   \n",
       "4      29.84655  13.679995      53.155152       45.6435   59.05018   \n",
       "\n",
       "  CRT Max amplitude (MA) in mm CKH R (min) CFF MA(mm)  \\\n",
       "0                    63.780276   31.275554    8.07024   \n",
       "1                    71.128769   22.664393  21.015413   \n",
       "2                    54.706969     2.36893  44.863261   \n",
       "3                    71.450849    5.514348  34.688881   \n",
       "4     inconclusivemachineerror   28.279901  40.481286   \n",
       "\n",
       "  CFF Max Amplitude( MA) in mm        aPTT  \n",
       "0                     37.48071  121.451182  \n",
       "1                    26.758913    86.95418  \n",
       "2                    18.961554  124.331267  \n",
       "3                    25.628047   91.085144  \n",
       "4                    49.885941         430  "
      ]
     },
     "execution_count": 434,
     "metadata": {},
     "output_type": "execute_result"
    }
   ],
   "source": [
    "# Replace all boundary values with their correcponding right values\n",
    "\n",
    "# EGFR\n",
    "egfr_column = 'EGFR (mL/min/1.73m2)'\n",
    "efgr_replacement = boundaries.pop(egfr_column, None)\n",
    "# Remove spaces in the column\n",
    "clean_baseline_df[egfr_column] = clean_baseline_df[egfr_column].replace(regex={r'\\s': ''})\n",
    "\n",
    "# Use a regular expression to match and replace values\n",
    "for name, replacement in efgr_replacement.items():\n",
    "    clean_baseline_df[egfr_column] = clean_baseline_df[egfr_column].replace({f'^{name}': replacement}, regex=True)\n",
    "\n",
    "# Iterate over TEG DataFrame and apply boundaries\n",
    "for column, replacement_dict in boundaries.items():\n",
    "    \n",
    "    # Remove spaces in the column\n",
    "    clean_TEG_df[column] = clean_TEG_df[column].replace(regex={r'\\s': ''})\n",
    "    \n",
    "    # Use a regular expression to match and replace values\n",
    "    for name, replacement in replacement_dict.items():\n",
    "        clean_TEG_df[column] = clean_TEG_df[column].replace({f'^{name}': replacement}, regex=True)\n",
    "\n",
    "# Show changes    \n",
    "clean_TEG_df[list(boundaries.keys())].head()"
   ]
  },
  {
   "cell_type": "code",
   "execution_count": 435,
   "metadata": {},
   "outputs": [
    {
     "data": {
      "text/plain": [
       "0    22.033540\n",
       "1    60.000000\n",
       "2    22.006291\n",
       "3     6.906499\n",
       "4    11.809767\n",
       "Name: EGFR (mL/min/1.73m2), dtype: float64"
      ]
     },
     "execution_count": 435,
     "metadata": {},
     "output_type": "execute_result"
    }
   ],
   "source": [
    "# Show changes\n",
    "clean_baseline_df[egfr_column].head()"
   ]
  },
  {
   "cell_type": "code",
   "execution_count": 436,
   "metadata": {},
   "outputs": [
    {
     "data": {
      "text/plain": [
       "dtype('float64')"
      ]
     },
     "execution_count": 436,
     "metadata": {},
     "output_type": "execute_result"
    }
   ],
   "source": [
    "# Convert  Rutherford Score and TEG values to float\n",
    "clean_baseline_df[\"Rutherford Score\"] = pd.to_numeric(clean_baseline_df[\"Rutherford Score\"], errors='coerce')\n",
    "clean_baseline_df[\"Rutherford Score\"].dtypes\n"
   ]
  },
  {
   "cell_type": "code",
   "execution_count": 437,
   "metadata": {},
   "outputs": [
    {
     "data": {
      "text/plain": [
       "Reaction Time (R) in min                        float64\n",
       "Lysis at 30 min (LY30) in %                     float64\n",
       "CRT Max amplitude (MA) in mm                    float64\n",
       "CFF Max Amplitude( MA) in mm                    float64\n",
       "HKH MA (mm)                                     float64\n",
       "ActF MA (mm)                                    float64\n",
       "ADP MA (mm)                                     float64\n",
       "AA MA(mm)                                       float64\n",
       "ADP % Aggregation                               float64\n",
       "ADP % Inhibition                                float64\n",
       "AA % Aggregation                                float64\n",
       "AA % Inhibition                                 float64\n",
       "CK R(min)                                       float64\n",
       "CK K (min)                                      float64\n",
       "CK angle( deg)                                  float64\n",
       "CK MA (mm)                                      float64\n",
       "CRT MA(mm)                                      float64\n",
       "CKH R (min)                                     float64\n",
       "CFF MA(mm)                                      float64\n",
       "CFF FLEV(mg/dL)                                 float64\n",
       "HbA1c Baseline( within1 year of study start)    float64\n",
       "INR value                                       float64\n",
       "aPTT                                            float64\n",
       "PT value                                        float64\n",
       "WBC in K/uL                                     float64\n",
       "RBC (M/uL)                                      float64\n",
       "HGB(g/dL)                                       float64\n",
       "HCT %                                           float64\n",
       "PLT(K/uL)                                       float64\n",
       "dtype: object"
      ]
     },
     "execution_count": 437,
     "metadata": {},
     "output_type": "execute_result"
    }
   ],
   "source": [
    "# Loop through the columns and convert to numeric\n",
    "for column in tegValues:\n",
    "    clean_TEG_df[column] = pd.to_numeric(clean_TEG_df[column], errors='coerce')\n",
    "\n",
    "clean_TEG_df[tegValues].dtypes"
   ]
  },
  {
   "cell_type": "code",
   "execution_count": 438,
   "metadata": {},
   "outputs": [
    {
     "data": {
      "text/html": [
       "<div>\n",
       "<style scoped>\n",
       "    .dataframe tbody tr th:only-of-type {\n",
       "        vertical-align: middle;\n",
       "    }\n",
       "\n",
       "    .dataframe tbody tr th {\n",
       "        vertical-align: top;\n",
       "    }\n",
       "\n",
       "    .dataframe thead th {\n",
       "        text-align: right;\n",
       "    }\n",
       "</style>\n",
       "<table border=\"1\" class=\"dataframe\">\n",
       "  <thead>\n",
       "    <tr style=\"text-align: right;\">\n",
       "      <th></th>\n",
       "      <th>Reaction Time (R) in min</th>\n",
       "      <th>Lysis at 30 min (LY30) in %</th>\n",
       "      <th>CRT Max amplitude (MA) in mm</th>\n",
       "      <th>CFF Max Amplitude( MA) in mm</th>\n",
       "      <th>HKH MA (mm)</th>\n",
       "      <th>ActF MA (mm)</th>\n",
       "      <th>ADP MA (mm)</th>\n",
       "      <th>AA MA(mm)</th>\n",
       "      <th>ADP % Aggregation</th>\n",
       "      <th>ADP % Inhibition</th>\n",
       "      <th>...</th>\n",
       "      <th>CFF FLEV(mg/dL)</th>\n",
       "      <th>HbA1c Baseline( within1 year of study start)</th>\n",
       "      <th>INR value</th>\n",
       "      <th>aPTT</th>\n",
       "      <th>PT value</th>\n",
       "      <th>WBC in K/uL</th>\n",
       "      <th>RBC (M/uL)</th>\n",
       "      <th>HGB(g/dL)</th>\n",
       "      <th>HCT %</th>\n",
       "      <th>PLT(K/uL)</th>\n",
       "    </tr>\n",
       "  </thead>\n",
       "  <tbody>\n",
       "    <tr>\n",
       "      <th>0</th>\n",
       "      <td>14.024070</td>\n",
       "      <td>1.268491</td>\n",
       "      <td>63.780276</td>\n",
       "      <td>37.480710</td>\n",
       "      <td>60.551078</td>\n",
       "      <td>4.005524</td>\n",
       "      <td>33.115271</td>\n",
       "      <td>66.890611</td>\n",
       "      <td>7.101021</td>\n",
       "      <td>24.874173</td>\n",
       "      <td>...</td>\n",
       "      <td>1150.210716</td>\n",
       "      <td>5.764743</td>\n",
       "      <td>151.757216</td>\n",
       "      <td>121.451182</td>\n",
       "      <td>6.723782</td>\n",
       "      <td>12.394838</td>\n",
       "      <td>4.334694</td>\n",
       "      <td>10.318403</td>\n",
       "      <td>47.959012</td>\n",
       "      <td>155.287685</td>\n",
       "    </tr>\n",
       "    <tr>\n",
       "      <th>1</th>\n",
       "      <td>3.319251</td>\n",
       "      <td>1.449484</td>\n",
       "      <td>71.128769</td>\n",
       "      <td>26.758913</td>\n",
       "      <td>11.638807</td>\n",
       "      <td>35.000000</td>\n",
       "      <td>48.117204</td>\n",
       "      <td>28.182542</td>\n",
       "      <td>74.891506</td>\n",
       "      <td>24.730532</td>\n",
       "      <td>...</td>\n",
       "      <td>911.256002</td>\n",
       "      <td>8.267349</td>\n",
       "      <td>54.147810</td>\n",
       "      <td>86.954180</td>\n",
       "      <td>13.928991</td>\n",
       "      <td>14.034414</td>\n",
       "      <td>2.288993</td>\n",
       "      <td>8.347336</td>\n",
       "      <td>42.414855</td>\n",
       "      <td>414.026181</td>\n",
       "    </tr>\n",
       "    <tr>\n",
       "      <th>2</th>\n",
       "      <td>8.031243</td>\n",
       "      <td>6.838650</td>\n",
       "      <td>54.706969</td>\n",
       "      <td>18.961554</td>\n",
       "      <td>34.369101</td>\n",
       "      <td>2.900351</td>\n",
       "      <td>38.127375</td>\n",
       "      <td>83.103689</td>\n",
       "      <td>54.041213</td>\n",
       "      <td>4.576856</td>\n",
       "      <td>...</td>\n",
       "      <td>503.002443</td>\n",
       "      <td>5.195084</td>\n",
       "      <td>126.072895</td>\n",
       "      <td>124.331267</td>\n",
       "      <td>18.480140</td>\n",
       "      <td>13.002132</td>\n",
       "      <td>3.189830</td>\n",
       "      <td>15.962208</td>\n",
       "      <td>50.267115</td>\n",
       "      <td>495.118409</td>\n",
       "    </tr>\n",
       "    <tr>\n",
       "      <th>3</th>\n",
       "      <td>11.993521</td>\n",
       "      <td>NaN</td>\n",
       "      <td>71.450849</td>\n",
       "      <td>25.628047</td>\n",
       "      <td>24.090670</td>\n",
       "      <td>12.916380</td>\n",
       "      <td>5.000000</td>\n",
       "      <td>29.072140</td>\n",
       "      <td>34.836606</td>\n",
       "      <td>NaN</td>\n",
       "      <td>...</td>\n",
       "      <td>NaN</td>\n",
       "      <td>6.679559</td>\n",
       "      <td>22.585294</td>\n",
       "      <td>91.085144</td>\n",
       "      <td>7.809423</td>\n",
       "      <td>20.652979</td>\n",
       "      <td>5.963962</td>\n",
       "      <td>16.206970</td>\n",
       "      <td>50.746414</td>\n",
       "      <td>506.230494</td>\n",
       "    </tr>\n",
       "    <tr>\n",
       "      <th>4</th>\n",
       "      <td>16.477918</td>\n",
       "      <td>10.810169</td>\n",
       "      <td>NaN</td>\n",
       "      <td>49.885941</td>\n",
       "      <td>25.960299</td>\n",
       "      <td>6.511959</td>\n",
       "      <td>NaN</td>\n",
       "      <td>21.926659</td>\n",
       "      <td>3.955611</td>\n",
       "      <td>49.750429</td>\n",
       "      <td>...</td>\n",
       "      <td>1144.458966</td>\n",
       "      <td>8.529165</td>\n",
       "      <td>98.907343</td>\n",
       "      <td>430.000000</td>\n",
       "      <td>23.795725</td>\n",
       "      <td>24.328577</td>\n",
       "      <td>2.720811</td>\n",
       "      <td>9.905265</td>\n",
       "      <td>47.706937</td>\n",
       "      <td>139.320557</td>\n",
       "    </tr>\n",
       "  </tbody>\n",
       "</table>\n",
       "<p>5 rows × 29 columns</p>\n",
       "</div>"
      ],
      "text/plain": [
       "   Reaction Time (R) in min  Lysis at 30 min (LY30) in %  \\\n",
       "0                 14.024070                     1.268491   \n",
       "1                  3.319251                     1.449484   \n",
       "2                  8.031243                     6.838650   \n",
       "3                 11.993521                          NaN   \n",
       "4                 16.477918                    10.810169   \n",
       "\n",
       "   CRT Max amplitude (MA) in mm  CFF Max Amplitude( MA) in mm  HKH MA (mm)  \\\n",
       "0                     63.780276                     37.480710    60.551078   \n",
       "1                     71.128769                     26.758913    11.638807   \n",
       "2                     54.706969                     18.961554    34.369101   \n",
       "3                     71.450849                     25.628047    24.090670   \n",
       "4                           NaN                     49.885941    25.960299   \n",
       "\n",
       "   ActF MA (mm)  ADP MA (mm)  AA MA(mm)  ADP % Aggregation  ADP % Inhibition  \\\n",
       "0      4.005524    33.115271  66.890611           7.101021         24.874173   \n",
       "1     35.000000    48.117204  28.182542          74.891506         24.730532   \n",
       "2      2.900351    38.127375  83.103689          54.041213          4.576856   \n",
       "3     12.916380     5.000000  29.072140          34.836606               NaN   \n",
       "4      6.511959          NaN  21.926659           3.955611         49.750429   \n",
       "\n",
       "   ...  CFF FLEV(mg/dL)  HbA1c Baseline( within1 year of study start)  \\\n",
       "0  ...      1150.210716                                      5.764743   \n",
       "1  ...       911.256002                                      8.267349   \n",
       "2  ...       503.002443                                      5.195084   \n",
       "3  ...              NaN                                      6.679559   \n",
       "4  ...      1144.458966                                      8.529165   \n",
       "\n",
       "    INR value        aPTT   PT value  WBC in K/uL  RBC (M/uL)  HGB(g/dL)  \\\n",
       "0  151.757216  121.451182   6.723782    12.394838    4.334694  10.318403   \n",
       "1   54.147810   86.954180  13.928991    14.034414    2.288993   8.347336   \n",
       "2  126.072895  124.331267  18.480140    13.002132    3.189830  15.962208   \n",
       "3   22.585294   91.085144   7.809423    20.652979    5.963962  16.206970   \n",
       "4   98.907343  430.000000  23.795725    24.328577    2.720811   9.905265   \n",
       "\n",
       "       HCT %   PLT(K/uL)  \n",
       "0  47.959012  155.287685  \n",
       "1  42.414855  414.026181  \n",
       "2  50.267115  495.118409  \n",
       "3  50.746414  506.230494  \n",
       "4  47.706937  139.320557  \n",
       "\n",
       "[5 rows x 29 columns]"
      ]
     },
     "execution_count": 438,
     "metadata": {},
     "output_type": "execute_result"
    }
   ],
   "source": [
    "# Show values to make sure strings were changed to NaN\n",
    "clean_TEG_df[tegValues].head()"
   ]
  },
  {
   "cell_type": "markdown",
   "metadata": {},
   "source": [
    "Change timepoints from strings to ints that represent days after the operation.\n",
    "\n",
    "All the values are saved in ./data/timepoints.json"
   ]
  },
  {
   "cell_type": "code",
   "execution_count": 439,
   "metadata": {},
   "outputs": [
    {
     "data": {
      "text/plain": [
       "{'0': ['Baseline', 'Enrollment + Baseline'],\n",
       " '1': ['6hr Post', 'PO Day 1 ( 4-36 hours)', 'Post Op day 1 (4-36 hours)'],\n",
       " '2': ['PO Day 2', 'Post op Day 2( if applicable)'],\n",
       " '3': ['PO Day 3', 'Post Op Day 3( if applicable)'],\n",
       " '4': ['PO Day 4', 'Post Op Day 4 ( if applicable)'],\n",
       " '5': ['PO day 5', 'Post Op Day 5 ( if applicable)'],\n",
       " '30': ['1M PO', '30 Day Post Procedure'],\n",
       " '90': ['3M PO', '3 Month Post procedure'],\n",
       " '180': ['6M PO', '6 month Post Procedure', 'Readmission']}"
      ]
     },
     "execution_count": 439,
     "metadata": {},
     "output_type": "execute_result"
    }
   ],
   "source": [
    "# Define the filename\n",
    "filename = 'timepoints.json'\n",
    "\n",
    "# Create the full file path by joining the base directory and filename\n",
    "file_path = os.path.join(base_directory, 'data', filename)\n",
    "\n",
    "\n",
    "with open(file_path, 'r') as json_file:\n",
    "    timepoints = json.load(json_file)\n",
    "timepoints"
   ]
  },
  {
   "cell_type": "code",
   "execution_count": 440,
   "metadata": {},
   "outputs": [],
   "source": [
    "# # Create a reverse mapping dictionary CHANGED\n",
    "# reverse_mapping = {v: k for k, values in timepoints.items() for v in values}\n",
    "\n",
    "# # Replace values using the reverse mapping\n",
    "# clean_TEG_df['Days from operation'] = clean_TEG_df['Visit Timepoint'].map(reverse_mapping)\n",
    "\n",
    "# # Convert the column to integer\n",
    "# clean_TEG_df['Days from operation'] = clean_TEG_df['Days from operation'].astype(int)\n",
    "\n",
    "# # Drop old column\n",
    "# clean_TEG_df.drop(columns=['Visit Timepoint'], inplace = True)\n",
    "# number_columns_teg.remove('Visit Timepoint')\n",
    "# number_columns_teg.append('Days from operation')\n"
   ]
  },
  {
   "cell_type": "code",
   "execution_count": 441,
   "metadata": {},
   "outputs": [],
   "source": [
    "#clean_TEG_df['Days from operation'].dtype"
   ]
  },
  {
   "cell_type": "markdown",
   "metadata": {},
   "source": [
    "Convert ABI values to floats"
   ]
  },
  {
   "cell_type": "code",
   "execution_count": 442,
   "metadata": {},
   "outputs": [
    {
     "data": {
      "text/plain": [
       "ABI Right    float64\n",
       "ABI left     float64\n",
       "dtype: object"
      ]
     },
     "execution_count": 442,
     "metadata": {},
     "output_type": "execute_result"
    }
   ],
   "source": [
    "clean_baseline_df['ABI Right'] = pd.to_numeric(clean_baseline_df['ABI Right'], errors='coerce')\n",
    "clean_baseline_df['ABI left'] = pd.to_numeric(clean_baseline_df['ABI left'], errors='coerce')\n",
    "\n",
    "clean_baseline_df[['ABI Right', 'ABI left']].dtypes"
   ]
  },
  {
   "cell_type": "markdown",
   "metadata": {},
   "source": [
    "Appreciate all your work"
   ]
  },
  {
   "cell_type": "code",
   "execution_count": 443,
   "metadata": {},
   "outputs": [
    {
     "data": {
      "text/html": [
       "<div>\n",
       "<style scoped>\n",
       "    .dataframe tbody tr th:only-of-type {\n",
       "        vertical-align: middle;\n",
       "    }\n",
       "\n",
       "    .dataframe tbody tr th {\n",
       "        vertical-align: top;\n",
       "    }\n",
       "\n",
       "    .dataframe thead th {\n",
       "        text-align: right;\n",
       "    }\n",
       "</style>\n",
       "<table border=\"1\" class=\"dataframe\">\n",
       "  <thead>\n",
       "    <tr style=\"text-align: right;\">\n",
       "      <th></th>\n",
       "      <th>Age</th>\n",
       "      <th>BMI</th>\n",
       "      <th>Clotting Disorder</th>\n",
       "      <th>EGFR (mL/min/1.73m2)</th>\n",
       "      <th>ABI Right</th>\n",
       "      <th>ABI left</th>\n",
       "      <th>Rutherford Score</th>\n",
       "    </tr>\n",
       "  </thead>\n",
       "  <tbody>\n",
       "    <tr>\n",
       "      <th>0</th>\n",
       "      <td>81</td>\n",
       "      <td>40.373643</td>\n",
       "      <td>2</td>\n",
       "      <td>22.033540</td>\n",
       "      <td>0.859011</td>\n",
       "      <td>0.104522</td>\n",
       "      <td>4.717162</td>\n",
       "    </tr>\n",
       "    <tr>\n",
       "      <th>1</th>\n",
       "      <td>70</td>\n",
       "      <td>15.619750</td>\n",
       "      <td>2</td>\n",
       "      <td>60.000000</td>\n",
       "      <td>0.809203</td>\n",
       "      <td>0.916329</td>\n",
       "      <td>3.561872</td>\n",
       "    </tr>\n",
       "    <tr>\n",
       "      <th>2</th>\n",
       "      <td>88</td>\n",
       "      <td>37.470921</td>\n",
       "      <td>1</td>\n",
       "      <td>22.006291</td>\n",
       "      <td>1.240163</td>\n",
       "      <td>0.134040</td>\n",
       "      <td>3.659894</td>\n",
       "    </tr>\n",
       "    <tr>\n",
       "      <th>3</th>\n",
       "      <td>78</td>\n",
       "      <td>15.888214</td>\n",
       "      <td>0</td>\n",
       "      <td>6.906499</td>\n",
       "      <td>0.760655</td>\n",
       "      <td>NaN</td>\n",
       "      <td>3.525905</td>\n",
       "    </tr>\n",
       "    <tr>\n",
       "      <th>4</th>\n",
       "      <td>84</td>\n",
       "      <td>31.979733</td>\n",
       "      <td>1</td>\n",
       "      <td>11.809767</td>\n",
       "      <td>0.329114</td>\n",
       "      <td>0.244715</td>\n",
       "      <td>1.663111</td>\n",
       "    </tr>\n",
       "  </tbody>\n",
       "</table>\n",
       "</div>"
      ],
      "text/plain": [
       "   Age        BMI  Clotting Disorder  EGFR (mL/min/1.73m2)  ABI Right  \\\n",
       "0   81  40.373643                  2             22.033540   0.859011   \n",
       "1   70  15.619750                  2             60.000000   0.809203   \n",
       "2   88  37.470921                  1             22.006291   1.240163   \n",
       "3   78  15.888214                  0              6.906499   0.760655   \n",
       "4   84  31.979733                  1             11.809767   0.329114   \n",
       "\n",
       "   ABI left  Rutherford Score  \n",
       "0  0.104522          4.717162  \n",
       "1  0.916329          3.561872  \n",
       "2  0.134040          3.659894  \n",
       "3       NaN          3.525905  \n",
       "4  0.244715          1.663111  "
      ]
     },
     "execution_count": 443,
     "metadata": {},
     "output_type": "execute_result"
    }
   ],
   "source": [
    "clean_baseline_df[number_columns_baseline].head()"
   ]
  },
  {
   "cell_type": "code",
   "execution_count": 444,
   "metadata": {},
   "outputs": [
    {
     "data": {
      "text/html": [
       "<div>\n",
       "<style scoped>\n",
       "    .dataframe tbody tr th:only-of-type {\n",
       "        vertical-align: middle;\n",
       "    }\n",
       "\n",
       "    .dataframe tbody tr th {\n",
       "        vertical-align: top;\n",
       "    }\n",
       "\n",
       "    .dataframe thead th {\n",
       "        text-align: right;\n",
       "    }\n",
       "</style>\n",
       "<table border=\"1\" class=\"dataframe\">\n",
       "  <thead>\n",
       "    <tr style=\"text-align: right;\">\n",
       "      <th></th>\n",
       "      <th>Date of TEG Collection</th>\n",
       "      <th>Reaction Time (R) in min</th>\n",
       "      <th>Lysis at 30 min (LY30) in %</th>\n",
       "      <th>CRT Max amplitude (MA) in mm</th>\n",
       "      <th>CFF Max Amplitude( MA) in mm</th>\n",
       "      <th>HKH MA (mm)</th>\n",
       "      <th>ActF MA (mm)</th>\n",
       "      <th>ADP MA (mm)</th>\n",
       "      <th>AA MA(mm)</th>\n",
       "      <th>ADP % Aggregation</th>\n",
       "      <th>...</th>\n",
       "      <th>INR value</th>\n",
       "      <th>aPTT</th>\n",
       "      <th>PT value</th>\n",
       "      <th>WBC in K/uL</th>\n",
       "      <th>RBC (M/uL)</th>\n",
       "      <th>HGB(g/dL)</th>\n",
       "      <th>HCT %</th>\n",
       "      <th>PLT(K/uL)</th>\n",
       "      <th>BP_Systolic</th>\n",
       "      <th>BP_Diastolic</th>\n",
       "    </tr>\n",
       "  </thead>\n",
       "  <tbody>\n",
       "    <tr>\n",
       "      <th>0</th>\n",
       "      <td>2007-01-05</td>\n",
       "      <td>14.024070</td>\n",
       "      <td>1.268491</td>\n",
       "      <td>63.780276</td>\n",
       "      <td>37.480710</td>\n",
       "      <td>60.551078</td>\n",
       "      <td>4.005524</td>\n",
       "      <td>33.115271</td>\n",
       "      <td>66.890611</td>\n",
       "      <td>7.101021</td>\n",
       "      <td>...</td>\n",
       "      <td>151.757216</td>\n",
       "      <td>121.451182</td>\n",
       "      <td>6.723782</td>\n",
       "      <td>12.394838</td>\n",
       "      <td>4.334694</td>\n",
       "      <td>10.318403</td>\n",
       "      <td>47.959012</td>\n",
       "      <td>155.287685</td>\n",
       "      <td>160</td>\n",
       "      <td>95</td>\n",
       "    </tr>\n",
       "    <tr>\n",
       "      <th>1</th>\n",
       "      <td>2009-03-06</td>\n",
       "      <td>3.319251</td>\n",
       "      <td>1.449484</td>\n",
       "      <td>71.128769</td>\n",
       "      <td>26.758913</td>\n",
       "      <td>11.638807</td>\n",
       "      <td>35.000000</td>\n",
       "      <td>48.117204</td>\n",
       "      <td>28.182542</td>\n",
       "      <td>74.891506</td>\n",
       "      <td>...</td>\n",
       "      <td>54.147810</td>\n",
       "      <td>86.954180</td>\n",
       "      <td>13.928991</td>\n",
       "      <td>14.034414</td>\n",
       "      <td>2.288993</td>\n",
       "      <td>8.347336</td>\n",
       "      <td>42.414855</td>\n",
       "      <td>414.026181</td>\n",
       "      <td>243</td>\n",
       "      <td>49</td>\n",
       "    </tr>\n",
       "    <tr>\n",
       "      <th>2</th>\n",
       "      <td>2011-05-06</td>\n",
       "      <td>8.031243</td>\n",
       "      <td>6.838650</td>\n",
       "      <td>54.706969</td>\n",
       "      <td>18.961554</td>\n",
       "      <td>34.369101</td>\n",
       "      <td>2.900351</td>\n",
       "      <td>38.127375</td>\n",
       "      <td>83.103689</td>\n",
       "      <td>54.041213</td>\n",
       "      <td>...</td>\n",
       "      <td>126.072895</td>\n",
       "      <td>124.331267</td>\n",
       "      <td>18.480140</td>\n",
       "      <td>13.002132</td>\n",
       "      <td>3.189830</td>\n",
       "      <td>15.962208</td>\n",
       "      <td>50.267115</td>\n",
       "      <td>495.118409</td>\n",
       "      <td>185</td>\n",
       "      <td>50</td>\n",
       "    </tr>\n",
       "    <tr>\n",
       "      <th>3</th>\n",
       "      <td>2013-07-05</td>\n",
       "      <td>11.993521</td>\n",
       "      <td>NaN</td>\n",
       "      <td>71.450849</td>\n",
       "      <td>25.628047</td>\n",
       "      <td>24.090670</td>\n",
       "      <td>12.916380</td>\n",
       "      <td>5.000000</td>\n",
       "      <td>29.072140</td>\n",
       "      <td>34.836606</td>\n",
       "      <td>...</td>\n",
       "      <td>22.585294</td>\n",
       "      <td>91.085144</td>\n",
       "      <td>7.809423</td>\n",
       "      <td>20.652979</td>\n",
       "      <td>5.963962</td>\n",
       "      <td>16.206970</td>\n",
       "      <td>50.746414</td>\n",
       "      <td>506.230494</td>\n",
       "      <td>128</td>\n",
       "      <td>136</td>\n",
       "    </tr>\n",
       "    <tr>\n",
       "      <th>4</th>\n",
       "      <td>2015-09-04</td>\n",
       "      <td>16.477918</td>\n",
       "      <td>10.810169</td>\n",
       "      <td>NaN</td>\n",
       "      <td>49.885941</td>\n",
       "      <td>25.960299</td>\n",
       "      <td>6.511959</td>\n",
       "      <td>NaN</td>\n",
       "      <td>21.926659</td>\n",
       "      <td>3.955611</td>\n",
       "      <td>...</td>\n",
       "      <td>98.907343</td>\n",
       "      <td>430.000000</td>\n",
       "      <td>23.795725</td>\n",
       "      <td>24.328577</td>\n",
       "      <td>2.720811</td>\n",
       "      <td>9.905265</td>\n",
       "      <td>47.706937</td>\n",
       "      <td>139.320557</td>\n",
       "      <td>226</td>\n",
       "      <td>94</td>\n",
       "    </tr>\n",
       "  </tbody>\n",
       "</table>\n",
       "<p>5 rows × 32 columns</p>\n",
       "</div>"
      ],
      "text/plain": [
       "  Date of TEG Collection  Reaction Time (R) in min  \\\n",
       "0             2007-01-05                 14.024070   \n",
       "1             2009-03-06                  3.319251   \n",
       "2             2011-05-06                  8.031243   \n",
       "3             2013-07-05                 11.993521   \n",
       "4             2015-09-04                 16.477918   \n",
       "\n",
       "   Lysis at 30 min (LY30) in %  CRT Max amplitude (MA) in mm  \\\n",
       "0                     1.268491                     63.780276   \n",
       "1                     1.449484                     71.128769   \n",
       "2                     6.838650                     54.706969   \n",
       "3                          NaN                     71.450849   \n",
       "4                    10.810169                           NaN   \n",
       "\n",
       "   CFF Max Amplitude( MA) in mm  HKH MA (mm)  ActF MA (mm)  ADP MA (mm)  \\\n",
       "0                     37.480710    60.551078      4.005524    33.115271   \n",
       "1                     26.758913    11.638807     35.000000    48.117204   \n",
       "2                     18.961554    34.369101      2.900351    38.127375   \n",
       "3                     25.628047    24.090670     12.916380     5.000000   \n",
       "4                     49.885941    25.960299      6.511959          NaN   \n",
       "\n",
       "   AA MA(mm)  ADP % Aggregation  ...   INR value        aPTT   PT value  \\\n",
       "0  66.890611           7.101021  ...  151.757216  121.451182   6.723782   \n",
       "1  28.182542          74.891506  ...   54.147810   86.954180  13.928991   \n",
       "2  83.103689          54.041213  ...  126.072895  124.331267  18.480140   \n",
       "3  29.072140          34.836606  ...   22.585294   91.085144   7.809423   \n",
       "4  21.926659           3.955611  ...   98.907343  430.000000  23.795725   \n",
       "\n",
       "   WBC in K/uL  RBC (M/uL)  HGB(g/dL)      HCT %   PLT(K/uL)  BP_Systolic  \\\n",
       "0    12.394838    4.334694  10.318403  47.959012  155.287685          160   \n",
       "1    14.034414    2.288993   8.347336  42.414855  414.026181          243   \n",
       "2    13.002132    3.189830  15.962208  50.267115  495.118409          185   \n",
       "3    20.652979    5.963962  16.206970  50.746414  506.230494          128   \n",
       "4    24.328577    2.720811   9.905265  47.706937  139.320557          226   \n",
       "\n",
       "   BP_Diastolic  \n",
       "0            95  \n",
       "1            49  \n",
       "2            50  \n",
       "3           136  \n",
       "4            94  \n",
       "\n",
       "[5 rows x 32 columns]"
      ]
     },
     "execution_count": 444,
     "metadata": {},
     "output_type": "execute_result"
    }
   ],
   "source": [
    "clean_TEG_df[number_columns_teg].head()"
   ]
  },
  {
   "cell_type": "markdown",
   "metadata": {},
   "source": [
    "#### Booleans\n",
    "Baseline:\n",
    "- Sex\n",
    "- White\n",
    "- Diabetes\n",
    "- Hypertension\n",
    "- Hyperlipidemia\n",
    "- Coronary Artery Disease\n",
    "- History of MI \n",
    "- Functional impairment\n",
    "- Does Subject Currently have cancer?\n",
    "- Past hx of cancer\n",
    "- Hx of  DVT\n",
    "- Hx of stroke\n",
    "- Hx of pulmonary embolism:\n",
    "- Does the patient have a history of solid organ transplant?\n",
    "- Has subject had previous intervention of the index limb? \n",
    "- Previous occluded stents\n",
    "\n",
    "TEG values:\n",
    "- Cilostazol within 7 days"
   ]
  },
  {
   "cell_type": "code",
   "execution_count": 445,
   "metadata": {},
   "outputs": [
    {
     "data": {
      "text/plain": [
       "0      True\n",
       "1      True\n",
       "2      True\n",
       "3      True\n",
       "4     False\n",
       "5      True\n",
       "6     False\n",
       "7     False\n",
       "8      True\n",
       "9      True\n",
       "10     True\n",
       "11     True\n",
       "12    False\n",
       "13    False\n",
       "14     True\n",
       "15    False\n",
       "16    False\n",
       "17     True\n",
       "18    False\n",
       "19     True\n",
       "20     True\n",
       "21    False\n",
       "22     True\n",
       "23     True\n",
       "24    False\n",
       "25    False\n",
       "26    False\n",
       "27     True\n",
       "28    False\n",
       "29    False\n",
       "30    False\n",
       "31     True\n",
       "32     True\n",
       "33    False\n",
       "34    False\n",
       "35    False\n",
       "36    False\n",
       "37     True\n",
       "38     True\n",
       "39    False\n",
       "40     True\n",
       "41     True\n",
       "42    False\n",
       "43    False\n",
       "44    False\n",
       "45    False\n",
       "46    False\n",
       "47     True\n",
       "48    False\n",
       "49    False\n",
       "50     True\n",
       "51    False\n",
       "Name: Is Male, dtype: bool"
      ]
     },
     "execution_count": 445,
     "metadata": {},
     "output_type": "execute_result"
    }
   ],
   "source": [
    "# Create the 'Is Male' column based on the 'sex' column\n",
    "clean_baseline_df['Is Male'] = (clean_baseline_df['Sex'] == 'Male').astype(bool)\n",
    "\n",
    "# Drop the old 'sex' column\n",
    "clean_baseline_df.drop('Sex', axis=1, inplace=True)\n",
    "clean_baseline_df['Is Male']"
   ]
  },
  {
   "cell_type": "code",
   "execution_count": 446,
   "metadata": {},
   "outputs": [
    {
     "data": {
      "text/html": [
       "<div>\n",
       "<style scoped>\n",
       "    .dataframe tbody tr th:only-of-type {\n",
       "        vertical-align: middle;\n",
       "    }\n",
       "\n",
       "    .dataframe tbody tr th {\n",
       "        vertical-align: top;\n",
       "    }\n",
       "\n",
       "    .dataframe thead th {\n",
       "        text-align: right;\n",
       "    }\n",
       "</style>\n",
       "<table border=\"1\" class=\"dataframe\">\n",
       "  <thead>\n",
       "    <tr style=\"text-align: right;\">\n",
       "      <th></th>\n",
       "      <th>White</th>\n",
       "      <th>Diabetes</th>\n",
       "      <th>Hypertension</th>\n",
       "      <th>Hyperlipidemia (choice=None)</th>\n",
       "      <th>Coronary Artery Disease</th>\n",
       "      <th>History of MI</th>\n",
       "      <th>Functional impairment</th>\n",
       "      <th>Does Subject Currently have cancer?</th>\n",
       "      <th>Past hx of cancer</th>\n",
       "      <th>Hx of  DVT</th>\n",
       "      <th>Hx of stroke</th>\n",
       "      <th>Hx of pulmonary embolism</th>\n",
       "      <th>Does the patient have a history of solid organ transplant?</th>\n",
       "      <th>Has subject had previous intervention of the index limb?</th>\n",
       "      <th>Previous occluded stents</th>\n",
       "    </tr>\n",
       "  </thead>\n",
       "  <tbody>\n",
       "    <tr>\n",
       "      <th>0</th>\n",
       "      <td>1</td>\n",
       "      <td>1</td>\n",
       "      <td>0</td>\n",
       "      <td>1</td>\n",
       "      <td>No</td>\n",
       "      <td>Yes</td>\n",
       "      <td>0</td>\n",
       "      <td>No</td>\n",
       "      <td>No</td>\n",
       "      <td>Yes</td>\n",
       "      <td>No</td>\n",
       "      <td>Yes</td>\n",
       "      <td>No</td>\n",
       "      <td>Yes</td>\n",
       "      <td>0</td>\n",
       "    </tr>\n",
       "    <tr>\n",
       "      <th>1</th>\n",
       "      <td>0</td>\n",
       "      <td>0</td>\n",
       "      <td>1</td>\n",
       "      <td>0</td>\n",
       "      <td>No</td>\n",
       "      <td>Yes</td>\n",
       "      <td>1</td>\n",
       "      <td>No</td>\n",
       "      <td>Yes</td>\n",
       "      <td>No</td>\n",
       "      <td>No</td>\n",
       "      <td>Yes</td>\n",
       "      <td>No</td>\n",
       "      <td>0</td>\n",
       "      <td>0</td>\n",
       "    </tr>\n",
       "    <tr>\n",
       "      <th>2</th>\n",
       "      <td>1</td>\n",
       "      <td>1</td>\n",
       "      <td>0</td>\n",
       "      <td>1</td>\n",
       "      <td>Yes</td>\n",
       "      <td>No</td>\n",
       "      <td>1</td>\n",
       "      <td>Yes</td>\n",
       "      <td>No</td>\n",
       "      <td>No</td>\n",
       "      <td>No</td>\n",
       "      <td>No</td>\n",
       "      <td>Yes</td>\n",
       "      <td>No</td>\n",
       "      <td>0</td>\n",
       "    </tr>\n",
       "    <tr>\n",
       "      <th>3</th>\n",
       "      <td>0</td>\n",
       "      <td>0</td>\n",
       "      <td>0</td>\n",
       "      <td>1</td>\n",
       "      <td>Yes</td>\n",
       "      <td>No</td>\n",
       "      <td>0</td>\n",
       "      <td>No</td>\n",
       "      <td>Yes</td>\n",
       "      <td>No</td>\n",
       "      <td>Yes</td>\n",
       "      <td>Yes</td>\n",
       "      <td>No</td>\n",
       "      <td>Yes</td>\n",
       "      <td>Yes</td>\n",
       "    </tr>\n",
       "    <tr>\n",
       "      <th>4</th>\n",
       "      <td>0</td>\n",
       "      <td>1</td>\n",
       "      <td>1</td>\n",
       "      <td>1</td>\n",
       "      <td>Yes</td>\n",
       "      <td>Yes</td>\n",
       "      <td>0</td>\n",
       "      <td>Yes</td>\n",
       "      <td>No</td>\n",
       "      <td>Yes</td>\n",
       "      <td>No</td>\n",
       "      <td>No</td>\n",
       "      <td>Yes</td>\n",
       "      <td>0</td>\n",
       "      <td>0</td>\n",
       "    </tr>\n",
       "  </tbody>\n",
       "</table>\n",
       "</div>"
      ],
      "text/plain": [
       "   White  Diabetes  Hypertension  Hyperlipidemia (choice=None)  \\\n",
       "0      1         1             0                             1   \n",
       "1      0         0             1                             0   \n",
       "2      1         1             0                             1   \n",
       "3      0         0             0                             1   \n",
       "4      0         1             1                             1   \n",
       "\n",
       "  Coronary Artery Disease History of MI  Functional impairment  \\\n",
       "0                      No           Yes                      0   \n",
       "1                      No           Yes                      1   \n",
       "2                     Yes            No                      1   \n",
       "3                     Yes            No                      0   \n",
       "4                     Yes           Yes                      0   \n",
       "\n",
       "  Does Subject Currently have cancer? Past hx of cancer Hx of  DVT  \\\n",
       "0                                  No                No        Yes   \n",
       "1                                  No               Yes         No   \n",
       "2                                 Yes                No         No   \n",
       "3                                  No               Yes         No   \n",
       "4                                 Yes                No        Yes   \n",
       "\n",
       "  Hx of stroke Hx of pulmonary embolism  \\\n",
       "0           No                      Yes   \n",
       "1           No                      Yes   \n",
       "2           No                       No   \n",
       "3          Yes                      Yes   \n",
       "4           No                       No   \n",
       "\n",
       "  Does the patient have a history of solid organ transplant?  \\\n",
       "0                                                 No           \n",
       "1                                                 No           \n",
       "2                                                Yes           \n",
       "3                                                 No           \n",
       "4                                                Yes           \n",
       "\n",
       "  Has subject had previous intervention of the index limb?  \\\n",
       "0                                                Yes         \n",
       "1                                                  0         \n",
       "2                                                 No         \n",
       "3                                                Yes         \n",
       "4                                                  0         \n",
       "\n",
       "  Previous occluded stents  \n",
       "0                        0  \n",
       "1                        0  \n",
       "2                        0  \n",
       "3                      Yes  \n",
       "4                        0  "
      ]
     },
     "execution_count": 446,
     "metadata": {},
     "output_type": "execute_result"
    }
   ],
   "source": [
    "# Change following columns to booleans\n",
    "columns_to_convert_baseline = ['White', 'Diabetes', 'Hypertension', 'Hyperlipidemia (choice=None)', 'Coronary Artery Disease', 'History of MI',\n",
    "                      'Functional impairment', 'Does Subject Currently have cancer?', 'Past hx of cancer', 'Hx of  DVT', 'Hx of stroke',\n",
    "                      'Hx of pulmonary embolism', 'Does the patient have a history of solid organ transplant?', \n",
    "                      'Has subject had previous intervention of the index limb?', 'Previous occluded stents',]\n",
    "columns_to_convert_TEG =['Cilostazol within 7 days']\n",
    "\n",
    "clean_baseline_df[columns_to_convert_baseline].head()"
   ]
  },
  {
   "cell_type": "code",
   "execution_count": 447,
   "metadata": {},
   "outputs": [
    {
     "data": {
      "text/html": [
       "<div>\n",
       "<style scoped>\n",
       "    .dataframe tbody tr th:only-of-type {\n",
       "        vertical-align: middle;\n",
       "    }\n",
       "\n",
       "    .dataframe tbody tr th {\n",
       "        vertical-align: top;\n",
       "    }\n",
       "\n",
       "    .dataframe thead th {\n",
       "        text-align: right;\n",
       "    }\n",
       "</style>\n",
       "<table border=\"1\" class=\"dataframe\">\n",
       "  <thead>\n",
       "    <tr style=\"text-align: right;\">\n",
       "      <th></th>\n",
       "      <th>Cilostazol within 7 days</th>\n",
       "    </tr>\n",
       "  </thead>\n",
       "  <tbody>\n",
       "    <tr>\n",
       "      <th>0</th>\n",
       "      <td>cilostazol</td>\n",
       "    </tr>\n",
       "    <tr>\n",
       "      <th>1</th>\n",
       "      <td>cilostazol</td>\n",
       "    </tr>\n",
       "    <tr>\n",
       "      <th>2</th>\n",
       "      <td>cilostazol</td>\n",
       "    </tr>\n",
       "    <tr>\n",
       "      <th>3</th>\n",
       "      <td>cilostazol</td>\n",
       "    </tr>\n",
       "    <tr>\n",
       "      <th>4</th>\n",
       "      <td>cilostazol</td>\n",
       "    </tr>\n",
       "  </tbody>\n",
       "</table>\n",
       "</div>"
      ],
      "text/plain": [
       "  Cilostazol within 7 days\n",
       "0               cilostazol\n",
       "1               cilostazol\n",
       "2               cilostazol\n",
       "3               cilostazol\n",
       "4               cilostazol"
      ]
     },
     "execution_count": 447,
     "metadata": {},
     "output_type": "execute_result"
    }
   ],
   "source": [
    "clean_TEG_df[columns_to_convert_TEG].head()"
   ]
  },
  {
   "cell_type": "code",
   "execution_count": 448,
   "metadata": {},
   "outputs": [],
   "source": [
    "# Dictionary for replacement\n",
    "replacement_dict = {'yes': True, 'no': False, '1': True, '0': False, 'cilostazol': True, 'NaN':False}"
   ]
  },
  {
   "cell_type": "code",
   "execution_count": 449,
   "metadata": {},
   "outputs": [
    {
     "data": {
      "text/html": [
       "<div>\n",
       "<style scoped>\n",
       "    .dataframe tbody tr th:only-of-type {\n",
       "        vertical-align: middle;\n",
       "    }\n",
       "\n",
       "    .dataframe tbody tr th {\n",
       "        vertical-align: top;\n",
       "    }\n",
       "\n",
       "    .dataframe thead th {\n",
       "        text-align: right;\n",
       "    }\n",
       "</style>\n",
       "<table border=\"1\" class=\"dataframe\">\n",
       "  <thead>\n",
       "    <tr style=\"text-align: right;\">\n",
       "      <th></th>\n",
       "      <th>White</th>\n",
       "      <th>Diabetes</th>\n",
       "      <th>Hypertension</th>\n",
       "      <th>Hyperlipidemia (choice=None)</th>\n",
       "      <th>Coronary Artery Disease</th>\n",
       "      <th>History of MI</th>\n",
       "      <th>Functional impairment</th>\n",
       "      <th>Does Subject Currently have cancer?</th>\n",
       "      <th>Past hx of cancer</th>\n",
       "      <th>Hx of  DVT</th>\n",
       "      <th>Hx of stroke</th>\n",
       "      <th>Hx of pulmonary embolism</th>\n",
       "      <th>Does the patient have a history of solid organ transplant?</th>\n",
       "      <th>Has subject had previous intervention of the index limb?</th>\n",
       "      <th>Previous occluded stents</th>\n",
       "    </tr>\n",
       "  </thead>\n",
       "  <tbody>\n",
       "    <tr>\n",
       "      <th>0</th>\n",
       "      <td>True</td>\n",
       "      <td>True</td>\n",
       "      <td>False</td>\n",
       "      <td>True</td>\n",
       "      <td>False</td>\n",
       "      <td>True</td>\n",
       "      <td>False</td>\n",
       "      <td>False</td>\n",
       "      <td>False</td>\n",
       "      <td>True</td>\n",
       "      <td>False</td>\n",
       "      <td>True</td>\n",
       "      <td>False</td>\n",
       "      <td>True</td>\n",
       "      <td>False</td>\n",
       "    </tr>\n",
       "    <tr>\n",
       "      <th>1</th>\n",
       "      <td>False</td>\n",
       "      <td>False</td>\n",
       "      <td>True</td>\n",
       "      <td>False</td>\n",
       "      <td>False</td>\n",
       "      <td>True</td>\n",
       "      <td>True</td>\n",
       "      <td>False</td>\n",
       "      <td>True</td>\n",
       "      <td>False</td>\n",
       "      <td>False</td>\n",
       "      <td>True</td>\n",
       "      <td>False</td>\n",
       "      <td>False</td>\n",
       "      <td>False</td>\n",
       "    </tr>\n",
       "    <tr>\n",
       "      <th>2</th>\n",
       "      <td>True</td>\n",
       "      <td>True</td>\n",
       "      <td>False</td>\n",
       "      <td>True</td>\n",
       "      <td>True</td>\n",
       "      <td>False</td>\n",
       "      <td>True</td>\n",
       "      <td>True</td>\n",
       "      <td>False</td>\n",
       "      <td>False</td>\n",
       "      <td>False</td>\n",
       "      <td>False</td>\n",
       "      <td>True</td>\n",
       "      <td>False</td>\n",
       "      <td>False</td>\n",
       "    </tr>\n",
       "    <tr>\n",
       "      <th>3</th>\n",
       "      <td>False</td>\n",
       "      <td>False</td>\n",
       "      <td>False</td>\n",
       "      <td>True</td>\n",
       "      <td>True</td>\n",
       "      <td>False</td>\n",
       "      <td>False</td>\n",
       "      <td>False</td>\n",
       "      <td>True</td>\n",
       "      <td>False</td>\n",
       "      <td>True</td>\n",
       "      <td>True</td>\n",
       "      <td>False</td>\n",
       "      <td>True</td>\n",
       "      <td>True</td>\n",
       "    </tr>\n",
       "    <tr>\n",
       "      <th>4</th>\n",
       "      <td>False</td>\n",
       "      <td>True</td>\n",
       "      <td>True</td>\n",
       "      <td>True</td>\n",
       "      <td>True</td>\n",
       "      <td>True</td>\n",
       "      <td>False</td>\n",
       "      <td>True</td>\n",
       "      <td>False</td>\n",
       "      <td>True</td>\n",
       "      <td>False</td>\n",
       "      <td>False</td>\n",
       "      <td>True</td>\n",
       "      <td>False</td>\n",
       "      <td>False</td>\n",
       "    </tr>\n",
       "  </tbody>\n",
       "</table>\n",
       "</div>"
      ],
      "text/plain": [
       "   White  Diabetes  Hypertension  Hyperlipidemia (choice=None)  \\\n",
       "0   True      True         False                          True   \n",
       "1  False     False          True                         False   \n",
       "2   True      True         False                          True   \n",
       "3  False     False         False                          True   \n",
       "4  False      True          True                          True   \n",
       "\n",
       "   Coronary Artery Disease  History of MI  Functional impairment  \\\n",
       "0                    False           True                  False   \n",
       "1                    False           True                   True   \n",
       "2                     True          False                   True   \n",
       "3                     True          False                  False   \n",
       "4                     True           True                  False   \n",
       "\n",
       "   Does Subject Currently have cancer?  Past hx of cancer  Hx of  DVT  \\\n",
       "0                                False              False        True   \n",
       "1                                False               True       False   \n",
       "2                                 True              False       False   \n",
       "3                                False               True       False   \n",
       "4                                 True              False        True   \n",
       "\n",
       "   Hx of stroke  Hx of pulmonary embolism  \\\n",
       "0         False                      True   \n",
       "1         False                      True   \n",
       "2         False                     False   \n",
       "3          True                      True   \n",
       "4         False                     False   \n",
       "\n",
       "   Does the patient have a history of solid organ transplant?  \\\n",
       "0                                              False            \n",
       "1                                              False            \n",
       "2                                               True            \n",
       "3                                              False            \n",
       "4                                               True            \n",
       "\n",
       "   Has subject had previous intervention of the index limb?  \\\n",
       "0                                               True          \n",
       "1                                              False          \n",
       "2                                              False          \n",
       "3                                               True          \n",
       "4                                              False          \n",
       "\n",
       "   Previous occluded stents  \n",
       "0                     False  \n",
       "1                     False  \n",
       "2                     False  \n",
       "3                      True  \n",
       "4                     False  "
      ]
     },
     "execution_count": 449,
     "metadata": {},
     "output_type": "execute_result"
    }
   ],
   "source": [
    "# Fill NaN values with False\n",
    "clean_baseline_df[columns_to_convert_baseline] = clean_baseline_df[columns_to_convert_baseline].fillna('0')\n",
    "clean_TEG_df[columns_to_convert_TEG] = clean_TEG_df[columns_to_convert_TEG].fillna('0')\n",
    "\n",
    "# Put all columns in lowercase\n",
    "clean_baseline_df[columns_to_convert_baseline] = clean_baseline_df[columns_to_convert_baseline].astype(str)\n",
    "clean_baseline_df[columns_to_convert_baseline] = clean_baseline_df[columns_to_convert_baseline].apply(lambda x: x.str.lower())\n",
    "clean_TEG_df[columns_to_convert_TEG] = clean_TEG_df[columns_to_convert_TEG].astype(str)\n",
    "clean_TEG_df[columns_to_convert_TEG] = clean_TEG_df[columns_to_convert_TEG].apply(lambda x: x.str.lower())\n",
    "\n",
    "# Use the replace method to replace values in multiple columns\n",
    "clean_baseline_df[columns_to_convert_baseline] = clean_baseline_df[columns_to_convert_baseline].replace(replacement_dict).astype(bool)\n",
    "clean_TEG_df[columns_to_convert_TEG] = clean_TEG_df[columns_to_convert_TEG].replace(replacement_dict).astype(bool)\n",
    "\n",
    "clean_baseline_df[columns_to_convert_baseline].head()\n"
   ]
  },
  {
   "cell_type": "code",
   "execution_count": 450,
   "metadata": {},
   "outputs": [
    {
     "data": {
      "text/html": [
       "<div>\n",
       "<style scoped>\n",
       "    .dataframe tbody tr th:only-of-type {\n",
       "        vertical-align: middle;\n",
       "    }\n",
       "\n",
       "    .dataframe tbody tr th {\n",
       "        vertical-align: top;\n",
       "    }\n",
       "\n",
       "    .dataframe thead th {\n",
       "        text-align: right;\n",
       "    }\n",
       "</style>\n",
       "<table border=\"1\" class=\"dataframe\">\n",
       "  <thead>\n",
       "    <tr style=\"text-align: right;\">\n",
       "      <th></th>\n",
       "      <th>Cilostazol within 7 days</th>\n",
       "    </tr>\n",
       "  </thead>\n",
       "  <tbody>\n",
       "    <tr>\n",
       "      <th>0</th>\n",
       "      <td>True</td>\n",
       "    </tr>\n",
       "    <tr>\n",
       "      <th>1</th>\n",
       "      <td>True</td>\n",
       "    </tr>\n",
       "    <tr>\n",
       "      <th>2</th>\n",
       "      <td>True</td>\n",
       "    </tr>\n",
       "    <tr>\n",
       "      <th>3</th>\n",
       "      <td>True</td>\n",
       "    </tr>\n",
       "    <tr>\n",
       "      <th>4</th>\n",
       "      <td>True</td>\n",
       "    </tr>\n",
       "  </tbody>\n",
       "</table>\n",
       "</div>"
      ],
      "text/plain": [
       "   Cilostazol within 7 days\n",
       "0                      True\n",
       "1                      True\n",
       "2                      True\n",
       "3                      True\n",
       "4                      True"
      ]
     },
     "execution_count": 450,
     "metadata": {},
     "output_type": "execute_result"
    }
   ],
   "source": [
    "clean_TEG_df[columns_to_convert_TEG].head()"
   ]
  },
  {
   "cell_type": "markdown",
   "metadata": {},
   "source": [
    "#### Categorical ordinal\n",
    "Baseline:\n",
    "- Tobacco Use\n",
    "- Renal Status"
   ]
  },
  {
   "cell_type": "code",
   "execution_count": 451,
   "metadata": {},
   "outputs": [],
   "source": [
    "# Ordinal encoding map\n",
    "category_orders = {\n",
    "    'Tobacco Use (1 current 2 former, 3 none)': \n",
    "    ['None',\n",
    "    'Past, quit >10 year ago',\n",
    "    'quit 1 to 10 years ago', \n",
    "    'current within the last year ( < 1 pack a day)',\n",
    "    'current within the last year (  > or = 1 pack a day)'],\n",
    "\n",
    "    'Renal Status': \n",
    "    ['Normal', \n",
    "    'GFR 30 to 59', \n",
    "    'GFR 15 to 29', \n",
    "    'GFR<15 or patient is on dialysis',\n",
    "    '1']\n",
    "}"
   ]
  },
  {
   "cell_type": "code",
   "execution_count": 452,
   "metadata": {},
   "outputs": [],
   "source": [
    "# Replace renal status values. Some of the values in the data set mean the same with different words\n",
    "# Define a dictionary to map old values to new values\n",
    "replace_dict = {'GFR 60 to 89': 'Normal', 'Evidence of renal dysfunction ( GFR >90)': 'Normal', '0': 'Normal', 0: 'Normal', 1: \"1\"}\n",
    "\n",
    "clean_baseline_df['Renal Status'] = clean_baseline_df['Renal Status'].replace(replace_dict)\n",
    "\n",
    "# Initialize the OrdinalEncoder with specified category orders\n",
    "encoder = OrdinalEncoder(categories=[category_orders[column] for column in ['Tobacco Use (1 current 2 former, 3 none)', 'Renal Status']])\n",
    "\n",
    "# Fit and transform the selected columns to encode ordinal values\n",
    "clean_baseline_df[['Tobacco Use (1 current 2 former, 3 none)', 'Renal Status']] = encoder.fit_transform(clean_baseline_df[['Tobacco Use (1 current 2 former, 3 none)', 'Renal Status']])\n",
    "\n",
    "# Rename column\n",
    "clean_baseline_df = clean_baseline_df.rename(columns={'Tobacco Use (1 current 2 former, 3 none)': 'Tobacco Use'})"
   ]
  },
  {
   "cell_type": "code",
   "execution_count": 453,
   "metadata": {},
   "outputs": [
    {
     "data": {
      "text/html": [
       "<div>\n",
       "<style scoped>\n",
       "    .dataframe tbody tr th:only-of-type {\n",
       "        vertical-align: middle;\n",
       "    }\n",
       "\n",
       "    .dataframe tbody tr th {\n",
       "        vertical-align: top;\n",
       "    }\n",
       "\n",
       "    .dataframe thead th {\n",
       "        text-align: right;\n",
       "    }\n",
       "</style>\n",
       "<table border=\"1\" class=\"dataframe\">\n",
       "  <thead>\n",
       "    <tr style=\"text-align: right;\">\n",
       "      <th></th>\n",
       "      <th>Tobacco Use</th>\n",
       "      <th>Renal Status</th>\n",
       "    </tr>\n",
       "  </thead>\n",
       "  <tbody>\n",
       "    <tr>\n",
       "      <th>0</th>\n",
       "      <td>3.0</td>\n",
       "      <td>0.0</td>\n",
       "    </tr>\n",
       "    <tr>\n",
       "      <th>1</th>\n",
       "      <td>4.0</td>\n",
       "      <td>4.0</td>\n",
       "    </tr>\n",
       "    <tr>\n",
       "      <th>2</th>\n",
       "      <td>2.0</td>\n",
       "      <td>0.0</td>\n",
       "    </tr>\n",
       "    <tr>\n",
       "      <th>3</th>\n",
       "      <td>2.0</td>\n",
       "      <td>0.0</td>\n",
       "    </tr>\n",
       "    <tr>\n",
       "      <th>4</th>\n",
       "      <td>1.0</td>\n",
       "      <td>0.0</td>\n",
       "    </tr>\n",
       "  </tbody>\n",
       "</table>\n",
       "</div>"
      ],
      "text/plain": [
       "   Tobacco Use  Renal Status\n",
       "0          3.0           0.0\n",
       "1          4.0           4.0\n",
       "2          2.0           0.0\n",
       "3          2.0           0.0\n",
       "4          1.0           0.0"
      ]
     },
     "execution_count": 453,
     "metadata": {},
     "output_type": "execute_result"
    }
   ],
   "source": [
    "clean_baseline_df[['Tobacco Use', 'Renal Status']].head()"
   ]
  },
  {
   "cell_type": "markdown",
   "metadata": {},
   "source": [
    "#### Categorical nominal\n",
    "Baseline:\n",
    "- Extremity\n",
    "- Artery affected\n",
    "- Intervention Classification\n",
    "- Intervention Type\n",
    "\n",
    "TEG values:\n",
    "- Antiplatelet Therapy within 7 Days\n",
    "- Anticoagulation within 24 Hours\n",
    "- Statin within 24 Hours\n"
   ]
  },
  {
   "cell_type": "code",
   "execution_count": 454,
   "metadata": {},
   "outputs": [],
   "source": [
    "columns_to_dummy_baseline = ['Extremity',\n",
    "                    'Intervention Classification']\n",
    "columns_to_dummy_TEG = ['Statin within 24 Hours']"
   ]
  },
  {
   "cell_type": "code",
   "execution_count": 455,
   "metadata": {},
   "outputs": [],
   "source": [
    "# Dummy encoding of categorical values\n",
    "clean_baseline_df = pd.get_dummies(clean_baseline_df, columns=columns_to_dummy_baseline,\n",
    "                    prefix=columns_to_dummy_baseline)\n",
    "clean_TEG_df = pd.get_dummies(clean_TEG_df, columns=columns_to_dummy_TEG,\n",
    "                    prefix=columns_to_dummy_TEG)"
   ]
  },
  {
   "cell_type": "code",
   "execution_count": 456,
   "metadata": {},
   "outputs": [],
   "source": [
    "# Drop unecessary columns\n",
    "clean_baseline_df = clean_baseline_df.drop(columns=['Extremity_left']) # Because it is either right, left or bilateral\n",
    "clean_baseline_df = clean_baseline_df.drop(columns=['Intervention Classification_Endo']) # Either endo, open or combined"
   ]
  },
  {
   "cell_type": "code",
   "execution_count": 457,
   "metadata": {},
   "outputs": [
    {
     "data": {
      "text/html": [
       "<div>\n",
       "<style scoped>\n",
       "    .dataframe tbody tr th:only-of-type {\n",
       "        vertical-align: middle;\n",
       "    }\n",
       "\n",
       "    .dataframe tbody tr th {\n",
       "        vertical-align: top;\n",
       "    }\n",
       "\n",
       "    .dataframe thead th {\n",
       "        text-align: right;\n",
       "    }\n",
       "</style>\n",
       "<table border=\"1\" class=\"dataframe\">\n",
       "  <thead>\n",
       "    <tr style=\"text-align: right;\">\n",
       "      <th></th>\n",
       "      <th>Extremity_Bilateral</th>\n",
       "      <th>Extremity_right</th>\n",
       "      <th>Intervention Classification_Combined</th>\n",
       "      <th>Intervention Classification_Open</th>\n",
       "    </tr>\n",
       "  </thead>\n",
       "  <tbody>\n",
       "    <tr>\n",
       "      <th>0</th>\n",
       "      <td>False</td>\n",
       "      <td>False</td>\n",
       "      <td>False</td>\n",
       "      <td>True</td>\n",
       "    </tr>\n",
       "    <tr>\n",
       "      <th>1</th>\n",
       "      <td>True</td>\n",
       "      <td>False</td>\n",
       "      <td>False</td>\n",
       "      <td>True</td>\n",
       "    </tr>\n",
       "    <tr>\n",
       "      <th>2</th>\n",
       "      <td>False</td>\n",
       "      <td>False</td>\n",
       "      <td>False</td>\n",
       "      <td>False</td>\n",
       "    </tr>\n",
       "    <tr>\n",
       "      <th>3</th>\n",
       "      <td>False</td>\n",
       "      <td>True</td>\n",
       "      <td>False</td>\n",
       "      <td>False</td>\n",
       "    </tr>\n",
       "    <tr>\n",
       "      <th>4</th>\n",
       "      <td>False</td>\n",
       "      <td>True</td>\n",
       "      <td>False</td>\n",
       "      <td>True</td>\n",
       "    </tr>\n",
       "  </tbody>\n",
       "</table>\n",
       "</div>"
      ],
      "text/plain": [
       "   Extremity_Bilateral  Extremity_right  Intervention Classification_Combined  \\\n",
       "0                False            False                                 False   \n",
       "1                 True            False                                 False   \n",
       "2                False            False                                 False   \n",
       "3                False             True                                 False   \n",
       "4                False             True                                 False   \n",
       "\n",
       "   Intervention Classification_Open  \n",
       "0                              True  \n",
       "1                              True  \n",
       "2                             False  \n",
       "3                             False  \n",
       "4                              True  "
      ]
     },
     "execution_count": 457,
     "metadata": {},
     "output_type": "execute_result"
    }
   ],
   "source": [
    "# Show columns \n",
    "# Use the .filter() method to select columns with the original columns prefixes\n",
    "dummy_columns_baseline = [col for col in clean_baseline_df.columns if any(col.startswith(prefix) for prefix in columns_to_dummy_baseline)]\n",
    "clean_baseline_df[dummy_columns_baseline].head()"
   ]
  },
  {
   "cell_type": "code",
   "execution_count": 458,
   "metadata": {},
   "outputs": [
    {
     "data": {
      "text/html": [
       "<div>\n",
       "<style scoped>\n",
       "    .dataframe tbody tr th:only-of-type {\n",
       "        vertical-align: middle;\n",
       "    }\n",
       "\n",
       "    .dataframe tbody tr th {\n",
       "        vertical-align: top;\n",
       "    }\n",
       "\n",
       "    .dataframe thead th {\n",
       "        text-align: right;\n",
       "    }\n",
       "</style>\n",
       "<table border=\"1\" class=\"dataframe\">\n",
       "  <thead>\n",
       "    <tr style=\"text-align: right;\">\n",
       "      <th></th>\n",
       "      <th>Statin within 24 Hours_Lovastatin</th>\n",
       "      <th>Statin within 24 Hours_Pravastatin</th>\n",
       "      <th>Statin within 24 Hours_Rosuvastatin</th>\n",
       "      <th>Statin within 24 Hours_Simvastatin</th>\n",
       "      <th>Statin within 24 Hours_atorvastatin</th>\n",
       "    </tr>\n",
       "  </thead>\n",
       "  <tbody>\n",
       "    <tr>\n",
       "      <th>0</th>\n",
       "      <td>False</td>\n",
       "      <td>False</td>\n",
       "      <td>True</td>\n",
       "      <td>False</td>\n",
       "      <td>False</td>\n",
       "    </tr>\n",
       "    <tr>\n",
       "      <th>1</th>\n",
       "      <td>False</td>\n",
       "      <td>False</td>\n",
       "      <td>False</td>\n",
       "      <td>True</td>\n",
       "      <td>False</td>\n",
       "    </tr>\n",
       "    <tr>\n",
       "      <th>2</th>\n",
       "      <td>True</td>\n",
       "      <td>False</td>\n",
       "      <td>False</td>\n",
       "      <td>False</td>\n",
       "      <td>False</td>\n",
       "    </tr>\n",
       "    <tr>\n",
       "      <th>3</th>\n",
       "      <td>False</td>\n",
       "      <td>False</td>\n",
       "      <td>True</td>\n",
       "      <td>False</td>\n",
       "      <td>False</td>\n",
       "    </tr>\n",
       "    <tr>\n",
       "      <th>4</th>\n",
       "      <td>False</td>\n",
       "      <td>False</td>\n",
       "      <td>False</td>\n",
       "      <td>False</td>\n",
       "      <td>True</td>\n",
       "    </tr>\n",
       "  </tbody>\n",
       "</table>\n",
       "</div>"
      ],
      "text/plain": [
       "   Statin within 24 Hours_Lovastatin  Statin within 24 Hours_Pravastatin  \\\n",
       "0                              False                               False   \n",
       "1                              False                               False   \n",
       "2                               True                               False   \n",
       "3                              False                               False   \n",
       "4                              False                               False   \n",
       "\n",
       "   Statin within 24 Hours_Rosuvastatin  Statin within 24 Hours_Simvastatin  \\\n",
       "0                                 True                               False   \n",
       "1                                False                                True   \n",
       "2                                False                               False   \n",
       "3                                 True                               False   \n",
       "4                                False                               False   \n",
       "\n",
       "   Statin within 24 Hours_atorvastatin  \n",
       "0                                False  \n",
       "1                                False  \n",
       "2                                False  \n",
       "3                                False  \n",
       "4                                 True  "
      ]
     },
     "execution_count": 458,
     "metadata": {},
     "output_type": "execute_result"
    }
   ],
   "source": [
    "dummy_columns_TEG = [col for col in clean_TEG_df.columns if any(col.startswith(prefix) for prefix in columns_to_dummy_TEG)]\n",
    "clean_TEG_df[dummy_columns_TEG].head()"
   ]
  },
  {
   "cell_type": "markdown",
   "metadata": {},
   "source": [
    "The _Artery affected_, _Intervention type_, _Antiplatelet Therapy within 7 Days_, and _Anticoagulation within 24 Hours_ column has multiple values in a sigle string. They will be normalized before being encoded"
   ]
  },
  {
   "cell_type": "markdown",
   "metadata": {},
   "source": [
    "Artery affected"
   ]
  },
  {
   "cell_type": "code",
   "execution_count": 459,
   "metadata": {},
   "outputs": [
    {
     "name": "stdout",
     "output_type": "stream",
     "text": [
      "{'posterior tibial', 'common femoral', 'internal iliac', 'anterior tibial', 'SFA', 'external iliac', 'popliteal', 'aortoiliac'}\n",
      "{'ticagrelor', 'clopidogrel', 'aspirin', 'celecoxib'}\n",
      "{'DVA', 'stent', 'thrombectomy', 'bypass', 'bypass revision', 'angioplasty', 'endarterectomy'}\n",
      "{'warfarin', 'apixaban', 'enoxaparin', 'rivaroxaban', 'heparin', 'enoxaprin'}\n"
     ]
    }
   ],
   "source": [
    "# Get all unique valuses\n",
    "unique_arteries = set()\n",
    "unique_antiplatelet = set()\n",
    "unique_intervention = set()\n",
    "unique_anticoagulation = set()\n",
    "\n",
    "for index, row in clean_baseline_df.iterrows():\n",
    "    # Check if the value is a string before splitting\n",
    "    if isinstance(row['Artery affected'], str):\n",
    "        arteries = row['Artery affected'].split(', ')\n",
    "        unique_arteries.update(arteries)\n",
    "\n",
    "    # Check if the value is a string before splitting\n",
    "    if isinstance(row['Intervention Type'], str):\n",
    "        intervention = row['Intervention Type'].split(', ')\n",
    "        unique_intervention.update(intervention)\n",
    "    \n",
    "\n",
    "for index, row in clean_TEG_df.iterrows():\n",
    "    # Check if the value is a string and not NaN before splitting\n",
    "    if isinstance(row['Antiplatelet Therapy within 7 Days'], str):\n",
    "        antiplatelet = row['Antiplatelet Therapy within 7 Days'].split(', ')\n",
    "        unique_antiplatelet.update(antiplatelet)\n",
    "\n",
    "    # Check if the value is a string and not NaN before splitting\n",
    "    if isinstance(row['Anticoagulation within 24 Hours'], str):\n",
    "        anticoagulation = row['Anticoagulation within 24 Hours'].split(', ')\n",
    "        # Delete items in parenthesis ex: heparin (Calciparine) to be just heparin\n",
    "        anticoagulation = {re.sub(r'\\s*\\([^)]*\\)\\s*', '', item) for item in anticoagulation}\n",
    "        unique_anticoagulation.update(anticoagulation)\n",
    "\n",
    "\n",
    "print(unique_arteries)\n",
    "print(unique_antiplatelet)\n",
    "print(unique_intervention)\n",
    "print(unique_anticoagulation)"
   ]
  },
  {
   "cell_type": "code",
   "execution_count": 460,
   "metadata": {},
   "outputs": [
    {
     "data": {
      "text/html": [
       "<div>\n",
       "<style scoped>\n",
       "    .dataframe tbody tr th:only-of-type {\n",
       "        vertical-align: middle;\n",
       "    }\n",
       "\n",
       "    .dataframe tbody tr th {\n",
       "        vertical-align: top;\n",
       "    }\n",
       "\n",
       "    .dataframe thead th {\n",
       "        text-align: right;\n",
       "    }\n",
       "</style>\n",
       "<table border=\"1\" class=\"dataframe\">\n",
       "  <thead>\n",
       "    <tr style=\"text-align: right;\">\n",
       "      <th></th>\n",
       "      <th>Artery affected_posterior tibial</th>\n",
       "      <th>Artery affected_common femoral</th>\n",
       "      <th>Artery affected_internal iliac</th>\n",
       "      <th>Artery affected_anterior tibial</th>\n",
       "      <th>Artery affected_SFA</th>\n",
       "      <th>Artery affected_external iliac</th>\n",
       "      <th>Artery affected_popliteal</th>\n",
       "      <th>Artery affected_aortoiliac</th>\n",
       "      <th>Artery affected</th>\n",
       "    </tr>\n",
       "  </thead>\n",
       "  <tbody>\n",
       "    <tr>\n",
       "      <th>0</th>\n",
       "      <td>1</td>\n",
       "      <td>1</td>\n",
       "      <td>0</td>\n",
       "      <td>1</td>\n",
       "      <td>1</td>\n",
       "      <td>0</td>\n",
       "      <td>1</td>\n",
       "      <td>1</td>\n",
       "      <td>common femoral, SFA, popliteal, anterior tibia...</td>\n",
       "    </tr>\n",
       "    <tr>\n",
       "      <th>1</th>\n",
       "      <td>1</td>\n",
       "      <td>1</td>\n",
       "      <td>1</td>\n",
       "      <td>0</td>\n",
       "      <td>1</td>\n",
       "      <td>1</td>\n",
       "      <td>1</td>\n",
       "      <td>0</td>\n",
       "      <td>common femoral, SFA, popliteal, posterior tibi...</td>\n",
       "    </tr>\n",
       "    <tr>\n",
       "      <th>2</th>\n",
       "      <td>0</td>\n",
       "      <td>1</td>\n",
       "      <td>0</td>\n",
       "      <td>0</td>\n",
       "      <td>0</td>\n",
       "      <td>0</td>\n",
       "      <td>0</td>\n",
       "      <td>0</td>\n",
       "      <td>common femoral</td>\n",
       "    </tr>\n",
       "    <tr>\n",
       "      <th>3</th>\n",
       "      <td>1</td>\n",
       "      <td>0</td>\n",
       "      <td>0</td>\n",
       "      <td>1</td>\n",
       "      <td>1</td>\n",
       "      <td>1</td>\n",
       "      <td>0</td>\n",
       "      <td>0</td>\n",
       "      <td>SFA, anterior tibial, posterior tibial, extern...</td>\n",
       "    </tr>\n",
       "    <tr>\n",
       "      <th>4</th>\n",
       "      <td>0</td>\n",
       "      <td>0</td>\n",
       "      <td>0</td>\n",
       "      <td>0</td>\n",
       "      <td>1</td>\n",
       "      <td>1</td>\n",
       "      <td>0</td>\n",
       "      <td>0</td>\n",
       "      <td>SFA, external iliac</td>\n",
       "    </tr>\n",
       "  </tbody>\n",
       "</table>\n",
       "</div>"
      ],
      "text/plain": [
       "   Artery affected_posterior tibial  Artery affected_common femoral  \\\n",
       "0                                 1                               1   \n",
       "1                                 1                               1   \n",
       "2                                 0                               1   \n",
       "3                                 1                               0   \n",
       "4                                 0                               0   \n",
       "\n",
       "   Artery affected_internal iliac  Artery affected_anterior tibial  \\\n",
       "0                               0                                1   \n",
       "1                               1                                0   \n",
       "2                               0                                0   \n",
       "3                               0                                1   \n",
       "4                               0                                0   \n",
       "\n",
       "   Artery affected_SFA  Artery affected_external iliac  \\\n",
       "0                    1                               0   \n",
       "1                    1                               1   \n",
       "2                    0                               0   \n",
       "3                    1                               1   \n",
       "4                    1                               1   \n",
       "\n",
       "   Artery affected_popliteal  Artery affected_aortoiliac  \\\n",
       "0                          1                           1   \n",
       "1                          1                           0   \n",
       "2                          0                           0   \n",
       "3                          0                           0   \n",
       "4                          0                           0   \n",
       "\n",
       "                                     Artery affected  \n",
       "0  common femoral, SFA, popliteal, anterior tibia...  \n",
       "1  common femoral, SFA, popliteal, posterior tibi...  \n",
       "2                                     common femoral  \n",
       "3  SFA, anterior tibial, posterior tibial, extern...  \n",
       "4                                SFA, external iliac  "
      ]
     },
     "execution_count": 460,
     "metadata": {},
     "output_type": "execute_result"
    }
   ],
   "source": [
    "# Dummy encode arteries affected\n",
    "\n",
    "# Fill NaN values with 0 in the 'Artery affected' column\n",
    "clean_baseline_df['Artery affected'].fillna(0, inplace=True)\n",
    "\n",
    "selected_arteries = []\n",
    "for artery in unique_arteries:\n",
    "    column_name = \"Artery affected_\" + artery\n",
    "    # Convert to int after filling NaN with 0\n",
    "    clean_baseline_df[column_name] = clean_baseline_df['Artery affected'].str.contains(artery).fillna(0).astype(int)\n",
    "    selected_arteries.append(column_name)\n",
    "\n",
    "selected_arteries.append('Artery affected')\n",
    "\n",
    "clean_baseline_df[selected_arteries].head()"
   ]
  },
  {
   "cell_type": "code",
   "execution_count": 461,
   "metadata": {},
   "outputs": [
    {
     "data": {
      "text/html": [
       "<div>\n",
       "<style scoped>\n",
       "    .dataframe tbody tr th:only-of-type {\n",
       "        vertical-align: middle;\n",
       "    }\n",
       "\n",
       "    .dataframe tbody tr th {\n",
       "        vertical-align: top;\n",
       "    }\n",
       "\n",
       "    .dataframe thead th {\n",
       "        text-align: right;\n",
       "    }\n",
       "</style>\n",
       "<table border=\"1\" class=\"dataframe\">\n",
       "  <thead>\n",
       "    <tr style=\"text-align: right;\">\n",
       "      <th></th>\n",
       "      <th>Antiplatelet therapy_ticagrelor</th>\n",
       "      <th>Antiplatelet therapy_clopidogrel</th>\n",
       "      <th>Antiplatelet therapy_aspirin</th>\n",
       "      <th>Antiplatelet therapy_celecoxib</th>\n",
       "      <th>Antiplatelet Therapy within 7 Days</th>\n",
       "    </tr>\n",
       "  </thead>\n",
       "  <tbody>\n",
       "    <tr>\n",
       "      <th>0</th>\n",
       "      <td>1</td>\n",
       "      <td>0</td>\n",
       "      <td>1</td>\n",
       "      <td>0</td>\n",
       "      <td>aspirin, ticagrelor</td>\n",
       "    </tr>\n",
       "    <tr>\n",
       "      <th>1</th>\n",
       "      <td>0</td>\n",
       "      <td>1</td>\n",
       "      <td>0</td>\n",
       "      <td>1</td>\n",
       "      <td>clopidogrel, celecoxib</td>\n",
       "    </tr>\n",
       "    <tr>\n",
       "      <th>2</th>\n",
       "      <td>1</td>\n",
       "      <td>0</td>\n",
       "      <td>0</td>\n",
       "      <td>0</td>\n",
       "      <td>ticagrelor</td>\n",
       "    </tr>\n",
       "    <tr>\n",
       "      <th>3</th>\n",
       "      <td>1</td>\n",
       "      <td>0</td>\n",
       "      <td>1</td>\n",
       "      <td>0</td>\n",
       "      <td>aspirin, ticagrelor</td>\n",
       "    </tr>\n",
       "    <tr>\n",
       "      <th>4</th>\n",
       "      <td>1</td>\n",
       "      <td>0</td>\n",
       "      <td>1</td>\n",
       "      <td>0</td>\n",
       "      <td>aspirin, ticagrelor</td>\n",
       "    </tr>\n",
       "  </tbody>\n",
       "</table>\n",
       "</div>"
      ],
      "text/plain": [
       "   Antiplatelet therapy_ticagrelor  Antiplatelet therapy_clopidogrel  \\\n",
       "0                                1                                 0   \n",
       "1                                0                                 1   \n",
       "2                                1                                 0   \n",
       "3                                1                                 0   \n",
       "4                                1                                 0   \n",
       "\n",
       "   Antiplatelet therapy_aspirin  Antiplatelet therapy_celecoxib  \\\n",
       "0                             1                               0   \n",
       "1                             0                               1   \n",
       "2                             0                               0   \n",
       "3                             1                               0   \n",
       "4                             1                               0   \n",
       "\n",
       "  Antiplatelet Therapy within 7 Days  \n",
       "0                aspirin, ticagrelor  \n",
       "1             clopidogrel, celecoxib  \n",
       "2                         ticagrelor  \n",
       "3                aspirin, ticagrelor  \n",
       "4                aspirin, ticagrelor  "
      ]
     },
     "execution_count": 461,
     "metadata": {},
     "output_type": "execute_result"
    }
   ],
   "source": [
    "# Dummy encode antiplatelet therapy\n",
    "\n",
    "# Fill NaN values with 0 in the 'Antiplatelet Therapy within 7 Days' column\n",
    "clean_TEG_df['Antiplatelet Therapy within 7 Days'].fillna(0, inplace=True)\n",
    "\n",
    "\n",
    "selected_antiplatelet = []\n",
    "for antiplatelet in unique_antiplatelet:\n",
    "    column_name = \"Antiplatelet therapy_\" + antiplatelet\n",
    "\n",
    "    # Handle NaN values and convert to int\n",
    "    clean_TEG_df[column_name] = clean_TEG_df['Antiplatelet Therapy within 7 Days'].apply(lambda x: 1 if antiplatelet in str(x) else 0).astype(int)\n",
    "\n",
    "    selected_antiplatelet.append(column_name)\n",
    "\n",
    "selected_antiplatelet.append('Antiplatelet Therapy within 7 Days')\n",
    "\n",
    "\n",
    "clean_TEG_df[selected_antiplatelet].head()"
   ]
  },
  {
   "cell_type": "code",
   "execution_count": 462,
   "metadata": {},
   "outputs": [
    {
     "data": {
      "text/html": [
       "<div>\n",
       "<style scoped>\n",
       "    .dataframe tbody tr th:only-of-type {\n",
       "        vertical-align: middle;\n",
       "    }\n",
       "\n",
       "    .dataframe tbody tr th {\n",
       "        vertical-align: top;\n",
       "    }\n",
       "\n",
       "    .dataframe thead th {\n",
       "        text-align: right;\n",
       "    }\n",
       "</style>\n",
       "<table border=\"1\" class=\"dataframe\">\n",
       "  <thead>\n",
       "    <tr style=\"text-align: right;\">\n",
       "      <th></th>\n",
       "      <th>Intervention type_DVA</th>\n",
       "      <th>Intervention type_stent</th>\n",
       "      <th>Intervention type_thrombectomy</th>\n",
       "      <th>Intervention type_bypass</th>\n",
       "      <th>Intervention type_bypass revision</th>\n",
       "      <th>Intervention type_angioplasty</th>\n",
       "      <th>Intervention type_endarterectomy</th>\n",
       "      <th>Intervention Type</th>\n",
       "    </tr>\n",
       "  </thead>\n",
       "  <tbody>\n",
       "    <tr>\n",
       "      <th>0</th>\n",
       "      <td>0</td>\n",
       "      <td>0</td>\n",
       "      <td>0</td>\n",
       "      <td>0</td>\n",
       "      <td>0</td>\n",
       "      <td>1</td>\n",
       "      <td>0</td>\n",
       "      <td>angioplasty</td>\n",
       "    </tr>\n",
       "    <tr>\n",
       "      <th>1</th>\n",
       "      <td>0</td>\n",
       "      <td>0</td>\n",
       "      <td>0</td>\n",
       "      <td>1</td>\n",
       "      <td>1</td>\n",
       "      <td>0</td>\n",
       "      <td>0</td>\n",
       "      <td>bypass revision</td>\n",
       "    </tr>\n",
       "    <tr>\n",
       "      <th>2</th>\n",
       "      <td>0</td>\n",
       "      <td>1</td>\n",
       "      <td>0</td>\n",
       "      <td>0</td>\n",
       "      <td>0</td>\n",
       "      <td>1</td>\n",
       "      <td>1</td>\n",
       "      <td>angioplasty, stent, endarterectomy</td>\n",
       "    </tr>\n",
       "    <tr>\n",
       "      <th>3</th>\n",
       "      <td>0</td>\n",
       "      <td>0</td>\n",
       "      <td>0</td>\n",
       "      <td>1</td>\n",
       "      <td>0</td>\n",
       "      <td>1</td>\n",
       "      <td>0</td>\n",
       "      <td>angioplasty, bypass</td>\n",
       "    </tr>\n",
       "    <tr>\n",
       "      <th>4</th>\n",
       "      <td>0</td>\n",
       "      <td>0</td>\n",
       "      <td>0</td>\n",
       "      <td>1</td>\n",
       "      <td>1</td>\n",
       "      <td>0</td>\n",
       "      <td>0</td>\n",
       "      <td>bypass revision</td>\n",
       "    </tr>\n",
       "  </tbody>\n",
       "</table>\n",
       "</div>"
      ],
      "text/plain": [
       "   Intervention type_DVA  Intervention type_stent  \\\n",
       "0                      0                        0   \n",
       "1                      0                        0   \n",
       "2                      0                        1   \n",
       "3                      0                        0   \n",
       "4                      0                        0   \n",
       "\n",
       "   Intervention type_thrombectomy  Intervention type_bypass  \\\n",
       "0                               0                         0   \n",
       "1                               0                         1   \n",
       "2                               0                         0   \n",
       "3                               0                         1   \n",
       "4                               0                         1   \n",
       "\n",
       "   Intervention type_bypass revision  Intervention type_angioplasty  \\\n",
       "0                                  0                              1   \n",
       "1                                  1                              0   \n",
       "2                                  0                              1   \n",
       "3                                  0                              1   \n",
       "4                                  1                              0   \n",
       "\n",
       "   Intervention type_endarterectomy                   Intervention Type  \n",
       "0                                 0                         angioplasty  \n",
       "1                                 0                     bypass revision  \n",
       "2                                 1  angioplasty, stent, endarterectomy  \n",
       "3                                 0                 angioplasty, bypass  \n",
       "4                                 0                     bypass revision  "
      ]
     },
     "execution_count": 462,
     "metadata": {},
     "output_type": "execute_result"
    }
   ],
   "source": [
    "# Dummy encode intervention types\n",
    "\n",
    "# Fill NaN values with an empty string in the 'Intervention Type' column\n",
    "clean_baseline_df['Intervention Type'].fillna('', inplace=True)\n",
    "\n",
    "selected_intervention = []\n",
    "for intervention in unique_intervention:\n",
    "    column_name = 'Intervention type_' + intervention\n",
    "\n",
    "    # Handle NaN values and convert to int\n",
    "    clean_baseline_df[column_name] = clean_baseline_df['Intervention Type'].apply(lambda x: 1 if intervention in str(x) else 0).astype(int)\n",
    "\n",
    "    selected_intervention.append(column_name)\n",
    "\n",
    "\n",
    "selected_intervention.append('Intervention Type')\n",
    "\n",
    "clean_baseline_df[selected_intervention].head()"
   ]
  },
  {
   "cell_type": "code",
   "execution_count": 463,
   "metadata": {},
   "outputs": [
    {
     "data": {
      "text/html": [
       "<div>\n",
       "<style scoped>\n",
       "    .dataframe tbody tr th:only-of-type {\n",
       "        vertical-align: middle;\n",
       "    }\n",
       "\n",
       "    .dataframe tbody tr th {\n",
       "        vertical-align: top;\n",
       "    }\n",
       "\n",
       "    .dataframe thead th {\n",
       "        text-align: right;\n",
       "    }\n",
       "</style>\n",
       "<table border=\"1\" class=\"dataframe\">\n",
       "  <thead>\n",
       "    <tr style=\"text-align: right;\">\n",
       "      <th></th>\n",
       "      <th>Anticoagulation_warfarin</th>\n",
       "      <th>Anticoagulation_apixaban</th>\n",
       "      <th>Anticoagulation_enoxaparin</th>\n",
       "      <th>Anticoagulation_rivaroxaban</th>\n",
       "      <th>Anticoagulation_heparin</th>\n",
       "      <th>Anticoagulation_enoxaprin</th>\n",
       "      <th>Anticoagulation within 24 Hours</th>\n",
       "    </tr>\n",
       "  </thead>\n",
       "  <tbody>\n",
       "    <tr>\n",
       "      <th>0</th>\n",
       "      <td>0</td>\n",
       "      <td>0</td>\n",
       "      <td>1</td>\n",
       "      <td>0</td>\n",
       "      <td>0</td>\n",
       "      <td>0</td>\n",
       "      <td>enoxaparin (Lovenox)</td>\n",
       "    </tr>\n",
       "    <tr>\n",
       "      <th>1</th>\n",
       "      <td>0</td>\n",
       "      <td>0</td>\n",
       "      <td>1</td>\n",
       "      <td>0</td>\n",
       "      <td>0</td>\n",
       "      <td>0</td>\n",
       "      <td>enoxaparin (Lovenox)</td>\n",
       "    </tr>\n",
       "    <tr>\n",
       "      <th>2</th>\n",
       "      <td>1</td>\n",
       "      <td>0</td>\n",
       "      <td>0</td>\n",
       "      <td>0</td>\n",
       "      <td>0</td>\n",
       "      <td>0</td>\n",
       "      <td>warfarin (Coumadin)</td>\n",
       "    </tr>\n",
       "    <tr>\n",
       "      <th>3</th>\n",
       "      <td>0</td>\n",
       "      <td>0</td>\n",
       "      <td>0</td>\n",
       "      <td>1</td>\n",
       "      <td>0</td>\n",
       "      <td>0</td>\n",
       "      <td>rivaroxaban</td>\n",
       "    </tr>\n",
       "    <tr>\n",
       "      <th>4</th>\n",
       "      <td>0</td>\n",
       "      <td>0</td>\n",
       "      <td>0</td>\n",
       "      <td>0</td>\n",
       "      <td>0</td>\n",
       "      <td>1</td>\n",
       "      <td>enoxaprin</td>\n",
       "    </tr>\n",
       "  </tbody>\n",
       "</table>\n",
       "</div>"
      ],
      "text/plain": [
       "   Anticoagulation_warfarin  Anticoagulation_apixaban  \\\n",
       "0                         0                         0   \n",
       "1                         0                         0   \n",
       "2                         1                         0   \n",
       "3                         0                         0   \n",
       "4                         0                         0   \n",
       "\n",
       "   Anticoagulation_enoxaparin  Anticoagulation_rivaroxaban  \\\n",
       "0                           1                            0   \n",
       "1                           1                            0   \n",
       "2                           0                            0   \n",
       "3                           0                            1   \n",
       "4                           0                            0   \n",
       "\n",
       "   Anticoagulation_heparin  Anticoagulation_enoxaprin  \\\n",
       "0                        0                          0   \n",
       "1                        0                          0   \n",
       "2                        0                          0   \n",
       "3                        0                          0   \n",
       "4                        0                          1   \n",
       "\n",
       "  Anticoagulation within 24 Hours  \n",
       "0            enoxaparin (Lovenox)  \n",
       "1            enoxaparin (Lovenox)  \n",
       "2             warfarin (Coumadin)  \n",
       "3                     rivaroxaban  \n",
       "4                       enoxaprin  "
      ]
     },
     "execution_count": 463,
     "metadata": {},
     "output_type": "execute_result"
    }
   ],
   "source": [
    "# Dummy encode anticoagulation meds\n",
    "\n",
    "# Fill NaN values with an empty string in the 'Anticoagulation within 24 Hours' column\n",
    "clean_TEG_df['Anticoagulation within 24 Hours'].fillna('', inplace=True)\n",
    "\n",
    "selected_anticoagulation = []\n",
    "for anticoagulation in unique_anticoagulation:\n",
    "    column_name = \"Anticoagulation_\" + anticoagulation\n",
    "\n",
    "    # Handle NaN values and convert to int\n",
    "    clean_TEG_df[column_name] = clean_TEG_df['Anticoagulation within 24 Hours'].apply(lambda x: 1 if anticoagulation in str(x) else 0).astype(int)\n",
    "\n",
    "    selected_anticoagulation.append(column_name)\n",
    "\n",
    "selected_anticoagulation.append('Anticoagulation within 24 Hours')\n",
    "\n",
    "clean_TEG_df[selected_anticoagulation].head()"
   ]
  },
  {
   "cell_type": "code",
   "execution_count": 464,
   "metadata": {},
   "outputs": [],
   "source": [
    "# Drop old columns\n",
    "clean_baseline_df.drop(columns=['Artery affected','Intervention Type'], inplace=True)\n",
    "clean_TEG_df.drop(columns=['Antiplatelet Therapy within 7 Days', 'Anticoagulation within 24 Hours'], inplace=True)"
   ]
  },
  {
   "cell_type": "code",
   "execution_count": 465,
   "metadata": {},
   "outputs": [],
   "source": [
    "# Save in excel\n",
    "excel_file = \"./testData/clean_data.xlsx\"\n",
    "\n",
    "# Create an Excel writer object\n",
    "with pd.ExcelWriter(excel_file, engine='xlsxwriter') as writer:\n",
    "    # Write each DataFrame to a different Excel sheet\n",
    "    clean_TEG_df.to_excel(writer, sheet_name='TEG values', index=False)\n",
    "    clean_baseline_df.to_excel(writer, sheet_name='Baseline', index=False)\n"
   ]
  },
  {
   "cell_type": "markdown",
   "metadata": {},
   "source": [
    "## Extend data\n",
    "Create the rate of change of teg values colum"
   ]
  },
  {
   "cell_type": "code",
   "execution_count": 466,
   "metadata": {},
   "outputs": [],
   "source": [
    "# User selects to extend data\n",
    "user_extend_data = True"
   ]
  },
  {
   "cell_type": "code",
   "execution_count": 467,
   "metadata": {},
   "outputs": [
    {
     "data": {
      "text/plain": [
       "['Reaction Time (R) in min',\n",
       " 'Lysis at 30 min (LY30) in %',\n",
       " 'CRT Max amplitude (MA) in mm',\n",
       " 'CFF Max Amplitude( MA) in mm',\n",
       " 'HKH MA (mm)',\n",
       " 'ActF MA (mm)',\n",
       " 'ADP MA (mm)',\n",
       " 'AA MA(mm)',\n",
       " 'ADP % Aggregation',\n",
       " 'ADP % Inhibition',\n",
       " 'AA % Aggregation',\n",
       " 'AA % Inhibition',\n",
       " 'CK R(min)',\n",
       " 'CK K (min)',\n",
       " 'CK angle( deg)',\n",
       " 'CK MA (mm)',\n",
       " 'CRT MA(mm)',\n",
       " 'CKH R (min)',\n",
       " 'CFF MA(mm)',\n",
       " 'CFF FLEV(mg/dL)',\n",
       " 'HbA1c Baseline( within1 year of study start)',\n",
       " 'INR value',\n",
       " 'aPTT',\n",
       " 'PT value',\n",
       " 'WBC in K/uL',\n",
       " 'RBC (M/uL)',\n",
       " 'HGB(g/dL)',\n",
       " 'HCT %',\n",
       " 'PLT(K/uL)']"
      ]
     },
     "execution_count": 467,
     "metadata": {},
     "output_type": "execute_result"
    }
   ],
   "source": [
    "# Columns\n",
    "tegValues"
   ]
  },
  {
   "cell_type": "code",
   "execution_count": 468,
   "metadata": {},
   "outputs": [],
   "source": [
    "extended_df = clean_TEG_df.copy()"
   ]
  },
  {
   "cell_type": "code",
   "execution_count": 469,
   "metadata": {},
   "outputs": [
    {
     "data": {
      "text/html": [
       "<div>\n",
       "<style scoped>\n",
       "    .dataframe tbody tr th:only-of-type {\n",
       "        vertical-align: middle;\n",
       "    }\n",
       "\n",
       "    .dataframe tbody tr th {\n",
       "        vertical-align: top;\n",
       "    }\n",
       "\n",
       "    .dataframe thead th {\n",
       "        text-align: right;\n",
       "    }\n",
       "</style>\n",
       "<table border=\"1\" class=\"dataframe\">\n",
       "  <thead>\n",
       "    <tr style=\"text-align: right;\">\n",
       "      <th></th>\n",
       "      <th>Record ID</th>\n",
       "      <th>Date of TEG Collection</th>\n",
       "    </tr>\n",
       "  </thead>\n",
       "  <tbody>\n",
       "    <tr>\n",
       "      <th>180</th>\n",
       "      <td>5</td>\n",
       "      <td>2007-01-05</td>\n",
       "    </tr>\n",
       "    <tr>\n",
       "      <th>440</th>\n",
       "      <td>5</td>\n",
       "      <td>2007-01-05</td>\n",
       "    </tr>\n",
       "    <tr>\n",
       "      <th>700</th>\n",
       "      <td>5</td>\n",
       "      <td>2007-01-05</td>\n",
       "    </tr>\n",
       "    <tr>\n",
       "      <th>128</th>\n",
       "      <td>5</td>\n",
       "      <td>2009-03-06</td>\n",
       "    </tr>\n",
       "    <tr>\n",
       "      <th>388</th>\n",
       "      <td>5</td>\n",
       "      <td>2009-03-06</td>\n",
       "    </tr>\n",
       "    <tr>\n",
       "      <th>...</th>\n",
       "      <td>...</td>\n",
       "      <td>...</td>\n",
       "    </tr>\n",
       "    <tr>\n",
       "      <th>478</th>\n",
       "      <td>T21-63</td>\n",
       "      <td>2017-11-03</td>\n",
       "    </tr>\n",
       "    <tr>\n",
       "      <th>738</th>\n",
       "      <td>T21-63</td>\n",
       "      <td>2017-11-03</td>\n",
       "    </tr>\n",
       "    <tr>\n",
       "      <th>166</th>\n",
       "      <td>T21-63</td>\n",
       "      <td>2020-01-03</td>\n",
       "    </tr>\n",
       "    <tr>\n",
       "      <th>426</th>\n",
       "      <td>T21-63</td>\n",
       "      <td>2020-01-03</td>\n",
       "    </tr>\n",
       "    <tr>\n",
       "      <th>686</th>\n",
       "      <td>T21-63</td>\n",
       "      <td>2020-01-03</td>\n",
       "    </tr>\n",
       "  </tbody>\n",
       "</table>\n",
       "<p>800 rows × 2 columns</p>\n",
       "</div>"
      ],
      "text/plain": [
       "    Record ID Date of TEG Collection\n",
       "180         5             2007-01-05\n",
       "440         5             2007-01-05\n",
       "700         5             2007-01-05\n",
       "128         5             2009-03-06\n",
       "388         5             2009-03-06\n",
       "..        ...                    ...\n",
       "478    T21-63             2017-11-03\n",
       "738    T21-63             2017-11-03\n",
       "166    T21-63             2020-01-03\n",
       "426    T21-63             2020-01-03\n",
       "686    T21-63             2020-01-03\n",
       "\n",
       "[800 rows x 2 columns]"
      ]
     },
     "execution_count": 469,
     "metadata": {},
     "output_type": "execute_result"
    }
   ],
   "source": [
    "if user_extend_data:    \n",
    "\n",
    "    # Make sure column is in date time format\n",
    "    extended_df['Date of TEG Collection'] = pd.to_datetime(extended_df['Date of TEG Collection']).dt.date \n",
    "\n",
    "    # Sort the DataFrame by \"Record ID\" and \"Date of TEG Collection\"\n",
    "    extended_df= extended_df.sort_values(by=[\"Record ID\", \"Date of TEG Collection\"])\n",
    "extended_df[[\"Record ID\", \"Date of TEG Collection\"]]"
   ]
  },
  {
   "cell_type": "code",
   "execution_count": 470,
   "metadata": {},
   "outputs": [
    {
     "data": {
      "text/html": [
       "<div>\n",
       "<style scoped>\n",
       "    .dataframe tbody tr th:only-of-type {\n",
       "        vertical-align: middle;\n",
       "    }\n",
       "\n",
       "    .dataframe tbody tr th {\n",
       "        vertical-align: top;\n",
       "    }\n",
       "\n",
       "    .dataframe thead th {\n",
       "        text-align: right;\n",
       "    }\n",
       "</style>\n",
       "<table border=\"1\" class=\"dataframe\">\n",
       "  <thead>\n",
       "    <tr style=\"text-align: right;\">\n",
       "      <th></th>\n",
       "      <th>Record ID</th>\n",
       "      <th>Date of TEG Collection</th>\n",
       "      <th>Days Diff</th>\n",
       "    </tr>\n",
       "  </thead>\n",
       "  <tbody>\n",
       "    <tr>\n",
       "      <th>180</th>\n",
       "      <td>5</td>\n",
       "      <td>2007-01-05</td>\n",
       "      <td>NaN</td>\n",
       "    </tr>\n",
       "    <tr>\n",
       "      <th>440</th>\n",
       "      <td>5</td>\n",
       "      <td>2007-01-05</td>\n",
       "      <td>1.0</td>\n",
       "    </tr>\n",
       "    <tr>\n",
       "      <th>700</th>\n",
       "      <td>5</td>\n",
       "      <td>2007-01-05</td>\n",
       "      <td>1.0</td>\n",
       "    </tr>\n",
       "    <tr>\n",
       "      <th>128</th>\n",
       "      <td>5</td>\n",
       "      <td>2009-03-06</td>\n",
       "      <td>791.0</td>\n",
       "    </tr>\n",
       "    <tr>\n",
       "      <th>388</th>\n",
       "      <td>5</td>\n",
       "      <td>2009-03-06</td>\n",
       "      <td>1.0</td>\n",
       "    </tr>\n",
       "    <tr>\n",
       "      <th>...</th>\n",
       "      <td>...</td>\n",
       "      <td>...</td>\n",
       "      <td>...</td>\n",
       "    </tr>\n",
       "    <tr>\n",
       "      <th>478</th>\n",
       "      <td>T21-63</td>\n",
       "      <td>2017-11-03</td>\n",
       "      <td>1.0</td>\n",
       "    </tr>\n",
       "    <tr>\n",
       "      <th>738</th>\n",
       "      <td>T21-63</td>\n",
       "      <td>2017-11-03</td>\n",
       "      <td>1.0</td>\n",
       "    </tr>\n",
       "    <tr>\n",
       "      <th>166</th>\n",
       "      <td>T21-63</td>\n",
       "      <td>2020-01-03</td>\n",
       "      <td>791.0</td>\n",
       "    </tr>\n",
       "    <tr>\n",
       "      <th>426</th>\n",
       "      <td>T21-63</td>\n",
       "      <td>2020-01-03</td>\n",
       "      <td>1.0</td>\n",
       "    </tr>\n",
       "    <tr>\n",
       "      <th>686</th>\n",
       "      <td>T21-63</td>\n",
       "      <td>2020-01-03</td>\n",
       "      <td>1.0</td>\n",
       "    </tr>\n",
       "  </tbody>\n",
       "</table>\n",
       "<p>800 rows × 3 columns</p>\n",
       "</div>"
      ],
      "text/plain": [
       "    Record ID Date of TEG Collection  Days Diff\n",
       "180         5             2007-01-05        NaN\n",
       "440         5             2007-01-05        1.0\n",
       "700         5             2007-01-05        1.0\n",
       "128         5             2009-03-06      791.0\n",
       "388         5             2009-03-06        1.0\n",
       "..        ...                    ...        ...\n",
       "478    T21-63             2017-11-03        1.0\n",
       "738    T21-63             2017-11-03        1.0\n",
       "166    T21-63             2020-01-03      791.0\n",
       "426    T21-63             2020-01-03        1.0\n",
       "686    T21-63             2020-01-03        1.0\n",
       "\n",
       "[800 rows x 3 columns]"
      ]
     },
     "execution_count": 470,
     "metadata": {},
     "output_type": "execute_result"
    }
   ],
   "source": [
    "if user_extend_data:\n",
    "    # Group by 'Record ID'\n",
    "    grouped = extended_df.groupby('Record ID')\n",
    "\n",
    "    #Calculate the difference in 'Date of TEG Collection'\n",
    "    extended_df['Days Diff'] = grouped['Date of TEG Collection'].diff()\n",
    "\n",
    "    # Replace 0s to avoid infinity\n",
    "    extended_df['Days Diff'] = pd.to_timedelta(extended_df['Days Diff']).dt.total_seconds() / (24 * 60 * 60)\n",
    "    extended_df[\"Days Diff\"] = extended_df[\"Days Diff\"].replace(0, 1)\n",
    "\n",
    "extended_df[[\"Record ID\", \"Date of TEG Collection\", \"Days Diff\"]]\n",
    "\n",
    "#pd.to_timedelta(extended_df[ \"Days Diff\"]).dt.days"
   ]
  },
  {
   "cell_type": "code",
   "execution_count": 471,
   "metadata": {},
   "outputs": [],
   "source": [
    "if user_extend_data:\n",
    "    \n",
    "    new_columns = []\n",
    "    # Iterate TEG values\n",
    "    for value in tegValues:\n",
    "\n",
    "        # Get column names\n",
    "        diff_column_name = f\"{value}_difference_since_last_timepoint\"\n",
    "        rate_column_name = f\"{value}_rate_since_last_timepoint\"\n",
    "        new_columns.append(diff_column_name)\n",
    "        new_columns.append(rate_column_name)\n",
    "\n",
    "\n",
    "        # Calculate the difference in TEG values\n",
    "        extended_df[diff_column_name] = grouped[value].diff()\n",
    "\n",
    "        # Divide  by the differences in 'Date of TEG Collection'\n",
    "        extended_df[rate_column_name] = extended_df[diff_column_name] / extended_df['Days Diff']\n",
    "\n",
    "    # Fill the first value with the next one to avoid NaN\n",
    "    extended_df.bfill(inplace=True)"
   ]
  },
  {
   "cell_type": "code",
   "execution_count": 472,
   "metadata": {},
   "outputs": [
    {
     "data": {
      "text/html": [
       "<div>\n",
       "<style scoped>\n",
       "    .dataframe tbody tr th:only-of-type {\n",
       "        vertical-align: middle;\n",
       "    }\n",
       "\n",
       "    .dataframe tbody tr th {\n",
       "        vertical-align: top;\n",
       "    }\n",
       "\n",
       "    .dataframe thead th {\n",
       "        text-align: right;\n",
       "    }\n",
       "</style>\n",
       "<table border=\"1\" class=\"dataframe\">\n",
       "  <thead>\n",
       "    <tr style=\"text-align: right;\">\n",
       "      <th></th>\n",
       "      <th>Reaction Time (R) in min_difference_since_last_timepoint</th>\n",
       "      <th>Reaction Time (R) in min_rate_since_last_timepoint</th>\n",
       "      <th>Lysis at 30 min (LY30) in %_difference_since_last_timepoint</th>\n",
       "      <th>Lysis at 30 min (LY30) in %_rate_since_last_timepoint</th>\n",
       "      <th>CRT Max amplitude (MA) in mm_difference_since_last_timepoint</th>\n",
       "      <th>CRT Max amplitude (MA) in mm_rate_since_last_timepoint</th>\n",
       "      <th>CFF Max Amplitude( MA) in mm_difference_since_last_timepoint</th>\n",
       "      <th>CFF Max Amplitude( MA) in mm_rate_since_last_timepoint</th>\n",
       "      <th>HKH MA (mm)_difference_since_last_timepoint</th>\n",
       "      <th>HKH MA (mm)_rate_since_last_timepoint</th>\n",
       "      <th>...</th>\n",
       "      <th>WBC in K/uL_difference_since_last_timepoint</th>\n",
       "      <th>WBC in K/uL_rate_since_last_timepoint</th>\n",
       "      <th>RBC (M/uL)_difference_since_last_timepoint</th>\n",
       "      <th>RBC (M/uL)_rate_since_last_timepoint</th>\n",
       "      <th>HGB(g/dL)_difference_since_last_timepoint</th>\n",
       "      <th>HGB(g/dL)_rate_since_last_timepoint</th>\n",
       "      <th>HCT %_difference_since_last_timepoint</th>\n",
       "      <th>HCT %_rate_since_last_timepoint</th>\n",
       "      <th>PLT(K/uL)_difference_since_last_timepoint</th>\n",
       "      <th>PLT(K/uL)_rate_since_last_timepoint</th>\n",
       "    </tr>\n",
       "  </thead>\n",
       "  <tbody>\n",
       "    <tr>\n",
       "      <th>180</th>\n",
       "      <td>3.276561</td>\n",
       "      <td>3.276561</td>\n",
       "      <td>-6.019172</td>\n",
       "      <td>-6.019172</td>\n",
       "      <td>19.741788</td>\n",
       "      <td>19.741788</td>\n",
       "      <td>-10.097504</td>\n",
       "      <td>-10.097504</td>\n",
       "      <td>39.381195</td>\n",
       "      <td>39.381195</td>\n",
       "      <td>...</td>\n",
       "      <td>9.106074</td>\n",
       "      <td>9.106074</td>\n",
       "      <td>-1.014485</td>\n",
       "      <td>-1.014485</td>\n",
       "      <td>7.921662</td>\n",
       "      <td>7.921662</td>\n",
       "      <td>-13.458326</td>\n",
       "      <td>-13.458326</td>\n",
       "      <td>-249.355270</td>\n",
       "      <td>-249.355270</td>\n",
       "    </tr>\n",
       "    <tr>\n",
       "      <th>440</th>\n",
       "      <td>3.276561</td>\n",
       "      <td>3.276561</td>\n",
       "      <td>-6.019172</td>\n",
       "      <td>-6.019172</td>\n",
       "      <td>19.741788</td>\n",
       "      <td>19.741788</td>\n",
       "      <td>-10.097504</td>\n",
       "      <td>-10.097504</td>\n",
       "      <td>39.381195</td>\n",
       "      <td>39.381195</td>\n",
       "      <td>...</td>\n",
       "      <td>9.106074</td>\n",
       "      <td>9.106074</td>\n",
       "      <td>-1.014485</td>\n",
       "      <td>-1.014485</td>\n",
       "      <td>7.921662</td>\n",
       "      <td>7.921662</td>\n",
       "      <td>-13.458326</td>\n",
       "      <td>-13.458326</td>\n",
       "      <td>-249.355270</td>\n",
       "      <td>-249.355270</td>\n",
       "    </tr>\n",
       "    <tr>\n",
       "      <th>700</th>\n",
       "      <td>-0.094672</td>\n",
       "      <td>-0.094672</td>\n",
       "      <td>15.482973</td>\n",
       "      <td>15.482973</td>\n",
       "      <td>-7.223496</td>\n",
       "      <td>-7.223496</td>\n",
       "      <td>9.481311</td>\n",
       "      <td>9.481311</td>\n",
       "      <td>-59.015670</td>\n",
       "      <td>-59.015670</td>\n",
       "      <td>...</td>\n",
       "      <td>-5.087270</td>\n",
       "      <td>-5.087270</td>\n",
       "      <td>1.503586</td>\n",
       "      <td>1.503586</td>\n",
       "      <td>-8.636336</td>\n",
       "      <td>-8.636336</td>\n",
       "      <td>9.633411</td>\n",
       "      <td>9.633411</td>\n",
       "      <td>-147.103130</td>\n",
       "      <td>-147.103130</td>\n",
       "    </tr>\n",
       "    <tr>\n",
       "      <th>128</th>\n",
       "      <td>-7.788402</td>\n",
       "      <td>-0.009846</td>\n",
       "      <td>-14.219607</td>\n",
       "      <td>-0.017977</td>\n",
       "      <td>-22.760698</td>\n",
       "      <td>-0.028775</td>\n",
       "      <td>39.711530</td>\n",
       "      <td>0.050204</td>\n",
       "      <td>6.202707</td>\n",
       "      <td>0.007842</td>\n",
       "      <td>...</td>\n",
       "      <td>-7.551344</td>\n",
       "      <td>-0.009547</td>\n",
       "      <td>0.330476</td>\n",
       "      <td>0.000418</td>\n",
       "      <td>9.322541</td>\n",
       "      <td>0.011786</td>\n",
       "      <td>-5.375699</td>\n",
       "      <td>-0.006796</td>\n",
       "      <td>25.629758</td>\n",
       "      <td>0.032402</td>\n",
       "    </tr>\n",
       "    <tr>\n",
       "      <th>388</th>\n",
       "      <td>11.964062</td>\n",
       "      <td>11.964062</td>\n",
       "      <td>12.134643</td>\n",
       "      <td>12.134643</td>\n",
       "      <td>29.825395</td>\n",
       "      <td>29.825395</td>\n",
       "      <td>-48.864422</td>\n",
       "      <td>-48.864422</td>\n",
       "      <td>-5.525352</td>\n",
       "      <td>-5.525352</td>\n",
       "      <td>...</td>\n",
       "      <td>10.308678</td>\n",
       "      <td>10.308678</td>\n",
       "      <td>-1.949096</td>\n",
       "      <td>-1.949096</td>\n",
       "      <td>0.651670</td>\n",
       "      <td>0.651670</td>\n",
       "      <td>-18.384132</td>\n",
       "      <td>-18.384132</td>\n",
       "      <td>370.865677</td>\n",
       "      <td>370.865677</td>\n",
       "    </tr>\n",
       "    <tr>\n",
       "      <th>...</th>\n",
       "      <td>...</td>\n",
       "      <td>...</td>\n",
       "      <td>...</td>\n",
       "      <td>...</td>\n",
       "      <td>...</td>\n",
       "      <td>...</td>\n",
       "      <td>...</td>\n",
       "      <td>...</td>\n",
       "      <td>...</td>\n",
       "      <td>...</td>\n",
       "      <td>...</td>\n",
       "      <td>...</td>\n",
       "      <td>...</td>\n",
       "      <td>...</td>\n",
       "      <td>...</td>\n",
       "      <td>...</td>\n",
       "      <td>...</td>\n",
       "      <td>...</td>\n",
       "      <td>...</td>\n",
       "      <td>...</td>\n",
       "      <td>...</td>\n",
       "    </tr>\n",
       "    <tr>\n",
       "      <th>478</th>\n",
       "      <td>-0.451359</td>\n",
       "      <td>-0.451359</td>\n",
       "      <td>6.375221</td>\n",
       "      <td>6.375221</td>\n",
       "      <td>15.374335</td>\n",
       "      <td>15.374335</td>\n",
       "      <td>7.824289</td>\n",
       "      <td>7.824289</td>\n",
       "      <td>-25.299961</td>\n",
       "      <td>-25.299961</td>\n",
       "      <td>...</td>\n",
       "      <td>-16.682230</td>\n",
       "      <td>-16.682230</td>\n",
       "      <td>-1.512212</td>\n",
       "      <td>-1.512212</td>\n",
       "      <td>-5.658497</td>\n",
       "      <td>-5.658497</td>\n",
       "      <td>-13.016626</td>\n",
       "      <td>-13.016626</td>\n",
       "      <td>283.409717</td>\n",
       "      <td>283.409717</td>\n",
       "    </tr>\n",
       "    <tr>\n",
       "      <th>738</th>\n",
       "      <td>-0.451359</td>\n",
       "      <td>-0.451359</td>\n",
       "      <td>0.791160</td>\n",
       "      <td>0.791160</td>\n",
       "      <td>-4.422312</td>\n",
       "      <td>-4.422312</td>\n",
       "      <td>31.333776</td>\n",
       "      <td>31.333776</td>\n",
       "      <td>40.505678</td>\n",
       "      <td>40.505678</td>\n",
       "      <td>...</td>\n",
       "      <td>15.530765</td>\n",
       "      <td>15.530765</td>\n",
       "      <td>-1.787630</td>\n",
       "      <td>-1.787630</td>\n",
       "      <td>0.698199</td>\n",
       "      <td>0.698199</td>\n",
       "      <td>5.988654</td>\n",
       "      <td>5.988654</td>\n",
       "      <td>-74.478899</td>\n",
       "      <td>-74.478899</td>\n",
       "    </tr>\n",
       "    <tr>\n",
       "      <th>166</th>\n",
       "      <td>12.407061</td>\n",
       "      <td>0.015685</td>\n",
       "      <td>0.840502</td>\n",
       "      <td>0.001063</td>\n",
       "      <td>-4.422312</td>\n",
       "      <td>-4.422312</td>\n",
       "      <td>3.292995</td>\n",
       "      <td>0.004163</td>\n",
       "      <td>17.661143</td>\n",
       "      <td>0.022328</td>\n",
       "      <td>...</td>\n",
       "      <td>-1.648194</td>\n",
       "      <td>-0.002084</td>\n",
       "      <td>2.685446</td>\n",
       "      <td>0.003395</td>\n",
       "      <td>9.641513</td>\n",
       "      <td>0.012189</td>\n",
       "      <td>-1.557934</td>\n",
       "      <td>-0.001970</td>\n",
       "      <td>-74.478899</td>\n",
       "      <td>-74.478899</td>\n",
       "    </tr>\n",
       "    <tr>\n",
       "      <th>426</th>\n",
       "      <td>-8.391411</td>\n",
       "      <td>-8.391411</td>\n",
       "      <td>-14.971970</td>\n",
       "      <td>-14.971970</td>\n",
       "      <td>-4.422312</td>\n",
       "      <td>-4.422312</td>\n",
       "      <td>-14.437269</td>\n",
       "      <td>-14.437269</td>\n",
       "      <td>-12.756511</td>\n",
       "      <td>-12.756511</td>\n",
       "      <td>...</td>\n",
       "      <td>-0.559691</td>\n",
       "      <td>-0.559691</td>\n",
       "      <td>-1.561610</td>\n",
       "      <td>-1.561610</td>\n",
       "      <td>-12.010485</td>\n",
       "      <td>-12.010485</td>\n",
       "      <td>3.801245</td>\n",
       "      <td>3.801245</td>\n",
       "      <td>-74.478899</td>\n",
       "      <td>-74.478899</td>\n",
       "    </tr>\n",
       "    <tr>\n",
       "      <th>686</th>\n",
       "      <td>7.907924</td>\n",
       "      <td>7.907924</td>\n",
       "      <td>1.650684</td>\n",
       "      <td>1.650684</td>\n",
       "      <td>35.630844</td>\n",
       "      <td>35.630844</td>\n",
       "      <td>2.992639</td>\n",
       "      <td>2.992639</td>\n",
       "      <td>0.081576</td>\n",
       "      <td>0.081576</td>\n",
       "      <td>...</td>\n",
       "      <td>4.602647</td>\n",
       "      <td>4.602647</td>\n",
       "      <td>2.157543</td>\n",
       "      <td>2.157543</td>\n",
       "      <td>8.601907</td>\n",
       "      <td>8.601907</td>\n",
       "      <td>-10.879004</td>\n",
       "      <td>-10.879004</td>\n",
       "      <td>249.984765</td>\n",
       "      <td>249.984765</td>\n",
       "    </tr>\n",
       "  </tbody>\n",
       "</table>\n",
       "<p>800 rows × 58 columns</p>\n",
       "</div>"
      ],
      "text/plain": [
       "     Reaction Time (R) in min_difference_since_last_timepoint  \\\n",
       "180                                           3.276561          \n",
       "440                                           3.276561          \n",
       "700                                          -0.094672          \n",
       "128                                          -7.788402          \n",
       "388                                          11.964062          \n",
       "..                                                 ...          \n",
       "478                                          -0.451359          \n",
       "738                                          -0.451359          \n",
       "166                                          12.407061          \n",
       "426                                          -8.391411          \n",
       "686                                           7.907924          \n",
       "\n",
       "     Reaction Time (R) in min_rate_since_last_timepoint  \\\n",
       "180                                           3.276561    \n",
       "440                                           3.276561    \n",
       "700                                          -0.094672    \n",
       "128                                          -0.009846    \n",
       "388                                          11.964062    \n",
       "..                                                 ...    \n",
       "478                                          -0.451359    \n",
       "738                                          -0.451359    \n",
       "166                                           0.015685    \n",
       "426                                          -8.391411    \n",
       "686                                           7.907924    \n",
       "\n",
       "     Lysis at 30 min (LY30) in %_difference_since_last_timepoint  \\\n",
       "180                                          -6.019172             \n",
       "440                                          -6.019172             \n",
       "700                                          15.482973             \n",
       "128                                         -14.219607             \n",
       "388                                          12.134643             \n",
       "..                                                 ...             \n",
       "478                                           6.375221             \n",
       "738                                           0.791160             \n",
       "166                                           0.840502             \n",
       "426                                         -14.971970             \n",
       "686                                           1.650684             \n",
       "\n",
       "     Lysis at 30 min (LY30) in %_rate_since_last_timepoint  \\\n",
       "180                                          -6.019172       \n",
       "440                                          -6.019172       \n",
       "700                                          15.482973       \n",
       "128                                          -0.017977       \n",
       "388                                          12.134643       \n",
       "..                                                 ...       \n",
       "478                                           6.375221       \n",
       "738                                           0.791160       \n",
       "166                                           0.001063       \n",
       "426                                         -14.971970       \n",
       "686                                           1.650684       \n",
       "\n",
       "     CRT Max amplitude (MA) in mm_difference_since_last_timepoint  \\\n",
       "180                                          19.741788              \n",
       "440                                          19.741788              \n",
       "700                                          -7.223496              \n",
       "128                                         -22.760698              \n",
       "388                                          29.825395              \n",
       "..                                                 ...              \n",
       "478                                          15.374335              \n",
       "738                                          -4.422312              \n",
       "166                                          -4.422312              \n",
       "426                                          -4.422312              \n",
       "686                                          35.630844              \n",
       "\n",
       "     CRT Max amplitude (MA) in mm_rate_since_last_timepoint  \\\n",
       "180                                          19.741788        \n",
       "440                                          19.741788        \n",
       "700                                          -7.223496        \n",
       "128                                          -0.028775        \n",
       "388                                          29.825395        \n",
       "..                                                 ...        \n",
       "478                                          15.374335        \n",
       "738                                          -4.422312        \n",
       "166                                          -4.422312        \n",
       "426                                          -4.422312        \n",
       "686                                          35.630844        \n",
       "\n",
       "     CFF Max Amplitude( MA) in mm_difference_since_last_timepoint  \\\n",
       "180                                         -10.097504              \n",
       "440                                         -10.097504              \n",
       "700                                           9.481311              \n",
       "128                                          39.711530              \n",
       "388                                         -48.864422              \n",
       "..                                                 ...              \n",
       "478                                           7.824289              \n",
       "738                                          31.333776              \n",
       "166                                           3.292995              \n",
       "426                                         -14.437269              \n",
       "686                                           2.992639              \n",
       "\n",
       "     CFF Max Amplitude( MA) in mm_rate_since_last_timepoint  \\\n",
       "180                                         -10.097504        \n",
       "440                                         -10.097504        \n",
       "700                                           9.481311        \n",
       "128                                           0.050204        \n",
       "388                                         -48.864422        \n",
       "..                                                 ...        \n",
       "478                                           7.824289        \n",
       "738                                          31.333776        \n",
       "166                                           0.004163        \n",
       "426                                         -14.437269        \n",
       "686                                           2.992639        \n",
       "\n",
       "     HKH MA (mm)_difference_since_last_timepoint  \\\n",
       "180                                    39.381195   \n",
       "440                                    39.381195   \n",
       "700                                   -59.015670   \n",
       "128                                     6.202707   \n",
       "388                                    -5.525352   \n",
       "..                                           ...   \n",
       "478                                   -25.299961   \n",
       "738                                    40.505678   \n",
       "166                                    17.661143   \n",
       "426                                   -12.756511   \n",
       "686                                     0.081576   \n",
       "\n",
       "     HKH MA (mm)_rate_since_last_timepoint  ...  \\\n",
       "180                              39.381195  ...   \n",
       "440                              39.381195  ...   \n",
       "700                             -59.015670  ...   \n",
       "128                               0.007842  ...   \n",
       "388                              -5.525352  ...   \n",
       "..                                     ...  ...   \n",
       "478                             -25.299961  ...   \n",
       "738                              40.505678  ...   \n",
       "166                               0.022328  ...   \n",
       "426                             -12.756511  ...   \n",
       "686                               0.081576  ...   \n",
       "\n",
       "     WBC in K/uL_difference_since_last_timepoint  \\\n",
       "180                                     9.106074   \n",
       "440                                     9.106074   \n",
       "700                                    -5.087270   \n",
       "128                                    -7.551344   \n",
       "388                                    10.308678   \n",
       "..                                           ...   \n",
       "478                                   -16.682230   \n",
       "738                                    15.530765   \n",
       "166                                    -1.648194   \n",
       "426                                    -0.559691   \n",
       "686                                     4.602647   \n",
       "\n",
       "     WBC in K/uL_rate_since_last_timepoint  \\\n",
       "180                               9.106074   \n",
       "440                               9.106074   \n",
       "700                              -5.087270   \n",
       "128                              -0.009547   \n",
       "388                              10.308678   \n",
       "..                                     ...   \n",
       "478                             -16.682230   \n",
       "738                              15.530765   \n",
       "166                              -0.002084   \n",
       "426                              -0.559691   \n",
       "686                               4.602647   \n",
       "\n",
       "     RBC (M/uL)_difference_since_last_timepoint  \\\n",
       "180                                   -1.014485   \n",
       "440                                   -1.014485   \n",
       "700                                    1.503586   \n",
       "128                                    0.330476   \n",
       "388                                   -1.949096   \n",
       "..                                          ...   \n",
       "478                                   -1.512212   \n",
       "738                                   -1.787630   \n",
       "166                                    2.685446   \n",
       "426                                   -1.561610   \n",
       "686                                    2.157543   \n",
       "\n",
       "     RBC (M/uL)_rate_since_last_timepoint  \\\n",
       "180                             -1.014485   \n",
       "440                             -1.014485   \n",
       "700                              1.503586   \n",
       "128                              0.000418   \n",
       "388                             -1.949096   \n",
       "..                                    ...   \n",
       "478                             -1.512212   \n",
       "738                             -1.787630   \n",
       "166                              0.003395   \n",
       "426                             -1.561610   \n",
       "686                              2.157543   \n",
       "\n",
       "     HGB(g/dL)_difference_since_last_timepoint  \\\n",
       "180                                   7.921662   \n",
       "440                                   7.921662   \n",
       "700                                  -8.636336   \n",
       "128                                   9.322541   \n",
       "388                                   0.651670   \n",
       "..                                         ...   \n",
       "478                                  -5.658497   \n",
       "738                                   0.698199   \n",
       "166                                   9.641513   \n",
       "426                                 -12.010485   \n",
       "686                                   8.601907   \n",
       "\n",
       "     HGB(g/dL)_rate_since_last_timepoint  \\\n",
       "180                             7.921662   \n",
       "440                             7.921662   \n",
       "700                            -8.636336   \n",
       "128                             0.011786   \n",
       "388                             0.651670   \n",
       "..                                   ...   \n",
       "478                            -5.658497   \n",
       "738                             0.698199   \n",
       "166                             0.012189   \n",
       "426                           -12.010485   \n",
       "686                             8.601907   \n",
       "\n",
       "     HCT %_difference_since_last_timepoint  HCT %_rate_since_last_timepoint  \\\n",
       "180                             -13.458326                       -13.458326   \n",
       "440                             -13.458326                       -13.458326   \n",
       "700                               9.633411                         9.633411   \n",
       "128                              -5.375699                        -0.006796   \n",
       "388                             -18.384132                       -18.384132   \n",
       "..                                     ...                              ...   \n",
       "478                             -13.016626                       -13.016626   \n",
       "738                               5.988654                         5.988654   \n",
       "166                              -1.557934                        -0.001970   \n",
       "426                               3.801245                         3.801245   \n",
       "686                             -10.879004                       -10.879004   \n",
       "\n",
       "     PLT(K/uL)_difference_since_last_timepoint  \\\n",
       "180                                -249.355270   \n",
       "440                                -249.355270   \n",
       "700                                -147.103130   \n",
       "128                                  25.629758   \n",
       "388                                 370.865677   \n",
       "..                                         ...   \n",
       "478                                 283.409717   \n",
       "738                                 -74.478899   \n",
       "166                                 -74.478899   \n",
       "426                                 -74.478899   \n",
       "686                                 249.984765   \n",
       "\n",
       "     PLT(K/uL)_rate_since_last_timepoint  \n",
       "180                          -249.355270  \n",
       "440                          -249.355270  \n",
       "700                          -147.103130  \n",
       "128                             0.032402  \n",
       "388                           370.865677  \n",
       "..                                   ...  \n",
       "478                           283.409717  \n",
       "738                           -74.478899  \n",
       "166                           -74.478899  \n",
       "426                           -74.478899  \n",
       "686                           249.984765  \n",
       "\n",
       "[800 rows x 58 columns]"
      ]
     },
     "execution_count": 472,
     "metadata": {},
     "output_type": "execute_result"
    }
   ],
   "source": [
    "extended_df[new_columns]\n"
   ]
  },
  {
   "cell_type": "code",
   "execution_count": 473,
   "metadata": {},
   "outputs": [],
   "source": [
    "if user_extend_data:\n",
    "    # Drop column with diff in dates\n",
    "    extended_df.drop(columns=[\"Days Diff\"], inplace = True)"
   ]
  },
  {
   "cell_type": "code",
   "execution_count": 474,
   "metadata": {},
   "outputs": [],
   "source": [
    "if user_extend_data:\n",
    "    # Save in excel\n",
    "    excel_file = \"./testData/extended_data.xlsx\"\n",
    "\n",
    "    # Create an Excel writer object\n",
    "    with pd.ExcelWriter(excel_file, engine='xlsxwriter') as writer:\n",
    "        # Write each DataFrame to a different Excel sheet\n",
    "        extended_df.to_excel(writer, sheet_name='TEG values', index=False)\n",
    "        clean_baseline_df.to_excel(writer, sheet_name='Baseline', index=False)"
   ]
  },
  {
   "cell_type": "markdown",
   "metadata": {},
   "source": [
    "## Data visualization\n",
    "The goal of this section is to create the graphs that will be shown to the user describing the general data demographics\n",
    "Some of the values are calculated based on the totaal number of patients in the baseline information, and some is calculated from the TEG values\n",
    "\n",
    "Baseline summary:\n",
    "- Age\n",
    "- Gender\n",
    "- Ethnicity\n",
    "- BMI\n",
    "\n",
    "TEG values:\n",
    "- Number of events\n",
    "- Total number of data points"
   ]
  },
  {
   "cell_type": "code",
   "execution_count": 475,
   "metadata": {},
   "outputs": [],
   "source": [
    "fig_df = clean_baseline_df.copy()"
   ]
  },
  {
   "cell_type": "code",
   "execution_count": 476,
   "metadata": {},
   "outputs": [],
   "source": [
    "# Define custom colors\n",
    "male_colors = ['#d9ed92', '#99d98c'] \n",
    "white_colors = ['#184e77', '#1a759f'] \n",
    "events_colors = '#1a759f'\n",
    "age_histogram_color = '#52b69a' \n",
    "bmi_histogram_color = '#1e6091'"
   ]
  },
  {
   "cell_type": "code",
   "execution_count": 477,
   "metadata": {},
   "outputs": [
    {
     "data": {
      "application/vnd.plotly.v1+json": {
       "config": {
        "plotlyServerURL": "https://plot.ly"
       },
       "data": [
        {
         "labels": [
          "Female",
          "Male"
         ],
         "marker": {
          "colors": [
           "#d9ed92",
           "#99d98c"
          ]
         },
         "type": "pie",
         "values": [
          28,
          24
         ]
        }
       ],
       "layout": {
        "height": 300,
        "template": {
         "data": {
          "bar": [
           {
            "error_x": {
             "color": "#2a3f5f"
            },
            "error_y": {
             "color": "#2a3f5f"
            },
            "marker": {
             "line": {
              "color": "#E5ECF6",
              "width": 0.5
             },
             "pattern": {
              "fillmode": "overlay",
              "size": 10,
              "solidity": 0.2
             }
            },
            "type": "bar"
           }
          ],
          "barpolar": [
           {
            "marker": {
             "line": {
              "color": "#E5ECF6",
              "width": 0.5
             },
             "pattern": {
              "fillmode": "overlay",
              "size": 10,
              "solidity": 0.2
             }
            },
            "type": "barpolar"
           }
          ],
          "carpet": [
           {
            "aaxis": {
             "endlinecolor": "#2a3f5f",
             "gridcolor": "white",
             "linecolor": "white",
             "minorgridcolor": "white",
             "startlinecolor": "#2a3f5f"
            },
            "baxis": {
             "endlinecolor": "#2a3f5f",
             "gridcolor": "white",
             "linecolor": "white",
             "minorgridcolor": "white",
             "startlinecolor": "#2a3f5f"
            },
            "type": "carpet"
           }
          ],
          "choropleth": [
           {
            "colorbar": {
             "outlinewidth": 0,
             "ticks": ""
            },
            "type": "choropleth"
           }
          ],
          "contour": [
           {
            "colorbar": {
             "outlinewidth": 0,
             "ticks": ""
            },
            "colorscale": [
             [
              0,
              "#0d0887"
             ],
             [
              0.1111111111111111,
              "#46039f"
             ],
             [
              0.2222222222222222,
              "#7201a8"
             ],
             [
              0.3333333333333333,
              "#9c179e"
             ],
             [
              0.4444444444444444,
              "#bd3786"
             ],
             [
              0.5555555555555556,
              "#d8576b"
             ],
             [
              0.6666666666666666,
              "#ed7953"
             ],
             [
              0.7777777777777778,
              "#fb9f3a"
             ],
             [
              0.8888888888888888,
              "#fdca26"
             ],
             [
              1,
              "#f0f921"
             ]
            ],
            "type": "contour"
           }
          ],
          "contourcarpet": [
           {
            "colorbar": {
             "outlinewidth": 0,
             "ticks": ""
            },
            "type": "contourcarpet"
           }
          ],
          "heatmap": [
           {
            "colorbar": {
             "outlinewidth": 0,
             "ticks": ""
            },
            "colorscale": [
             [
              0,
              "#0d0887"
             ],
             [
              0.1111111111111111,
              "#46039f"
             ],
             [
              0.2222222222222222,
              "#7201a8"
             ],
             [
              0.3333333333333333,
              "#9c179e"
             ],
             [
              0.4444444444444444,
              "#bd3786"
             ],
             [
              0.5555555555555556,
              "#d8576b"
             ],
             [
              0.6666666666666666,
              "#ed7953"
             ],
             [
              0.7777777777777778,
              "#fb9f3a"
             ],
             [
              0.8888888888888888,
              "#fdca26"
             ],
             [
              1,
              "#f0f921"
             ]
            ],
            "type": "heatmap"
           }
          ],
          "heatmapgl": [
           {
            "colorbar": {
             "outlinewidth": 0,
             "ticks": ""
            },
            "colorscale": [
             [
              0,
              "#0d0887"
             ],
             [
              0.1111111111111111,
              "#46039f"
             ],
             [
              0.2222222222222222,
              "#7201a8"
             ],
             [
              0.3333333333333333,
              "#9c179e"
             ],
             [
              0.4444444444444444,
              "#bd3786"
             ],
             [
              0.5555555555555556,
              "#d8576b"
             ],
             [
              0.6666666666666666,
              "#ed7953"
             ],
             [
              0.7777777777777778,
              "#fb9f3a"
             ],
             [
              0.8888888888888888,
              "#fdca26"
             ],
             [
              1,
              "#f0f921"
             ]
            ],
            "type": "heatmapgl"
           }
          ],
          "histogram": [
           {
            "marker": {
             "pattern": {
              "fillmode": "overlay",
              "size": 10,
              "solidity": 0.2
             }
            },
            "type": "histogram"
           }
          ],
          "histogram2d": [
           {
            "colorbar": {
             "outlinewidth": 0,
             "ticks": ""
            },
            "colorscale": [
             [
              0,
              "#0d0887"
             ],
             [
              0.1111111111111111,
              "#46039f"
             ],
             [
              0.2222222222222222,
              "#7201a8"
             ],
             [
              0.3333333333333333,
              "#9c179e"
             ],
             [
              0.4444444444444444,
              "#bd3786"
             ],
             [
              0.5555555555555556,
              "#d8576b"
             ],
             [
              0.6666666666666666,
              "#ed7953"
             ],
             [
              0.7777777777777778,
              "#fb9f3a"
             ],
             [
              0.8888888888888888,
              "#fdca26"
             ],
             [
              1,
              "#f0f921"
             ]
            ],
            "type": "histogram2d"
           }
          ],
          "histogram2dcontour": [
           {
            "colorbar": {
             "outlinewidth": 0,
             "ticks": ""
            },
            "colorscale": [
             [
              0,
              "#0d0887"
             ],
             [
              0.1111111111111111,
              "#46039f"
             ],
             [
              0.2222222222222222,
              "#7201a8"
             ],
             [
              0.3333333333333333,
              "#9c179e"
             ],
             [
              0.4444444444444444,
              "#bd3786"
             ],
             [
              0.5555555555555556,
              "#d8576b"
             ],
             [
              0.6666666666666666,
              "#ed7953"
             ],
             [
              0.7777777777777778,
              "#fb9f3a"
             ],
             [
              0.8888888888888888,
              "#fdca26"
             ],
             [
              1,
              "#f0f921"
             ]
            ],
            "type": "histogram2dcontour"
           }
          ],
          "mesh3d": [
           {
            "colorbar": {
             "outlinewidth": 0,
             "ticks": ""
            },
            "type": "mesh3d"
           }
          ],
          "parcoords": [
           {
            "line": {
             "colorbar": {
              "outlinewidth": 0,
              "ticks": ""
             }
            },
            "type": "parcoords"
           }
          ],
          "pie": [
           {
            "automargin": true,
            "type": "pie"
           }
          ],
          "scatter": [
           {
            "fillpattern": {
             "fillmode": "overlay",
             "size": 10,
             "solidity": 0.2
            },
            "type": "scatter"
           }
          ],
          "scatter3d": [
           {
            "line": {
             "colorbar": {
              "outlinewidth": 0,
              "ticks": ""
             }
            },
            "marker": {
             "colorbar": {
              "outlinewidth": 0,
              "ticks": ""
             }
            },
            "type": "scatter3d"
           }
          ],
          "scattercarpet": [
           {
            "marker": {
             "colorbar": {
              "outlinewidth": 0,
              "ticks": ""
             }
            },
            "type": "scattercarpet"
           }
          ],
          "scattergeo": [
           {
            "marker": {
             "colorbar": {
              "outlinewidth": 0,
              "ticks": ""
             }
            },
            "type": "scattergeo"
           }
          ],
          "scattergl": [
           {
            "marker": {
             "colorbar": {
              "outlinewidth": 0,
              "ticks": ""
             }
            },
            "type": "scattergl"
           }
          ],
          "scattermapbox": [
           {
            "marker": {
             "colorbar": {
              "outlinewidth": 0,
              "ticks": ""
             }
            },
            "type": "scattermapbox"
           }
          ],
          "scatterpolar": [
           {
            "marker": {
             "colorbar": {
              "outlinewidth": 0,
              "ticks": ""
             }
            },
            "type": "scatterpolar"
           }
          ],
          "scatterpolargl": [
           {
            "marker": {
             "colorbar": {
              "outlinewidth": 0,
              "ticks": ""
             }
            },
            "type": "scatterpolargl"
           }
          ],
          "scatterternary": [
           {
            "marker": {
             "colorbar": {
              "outlinewidth": 0,
              "ticks": ""
             }
            },
            "type": "scatterternary"
           }
          ],
          "surface": [
           {
            "colorbar": {
             "outlinewidth": 0,
             "ticks": ""
            },
            "colorscale": [
             [
              0,
              "#0d0887"
             ],
             [
              0.1111111111111111,
              "#46039f"
             ],
             [
              0.2222222222222222,
              "#7201a8"
             ],
             [
              0.3333333333333333,
              "#9c179e"
             ],
             [
              0.4444444444444444,
              "#bd3786"
             ],
             [
              0.5555555555555556,
              "#d8576b"
             ],
             [
              0.6666666666666666,
              "#ed7953"
             ],
             [
              0.7777777777777778,
              "#fb9f3a"
             ],
             [
              0.8888888888888888,
              "#fdca26"
             ],
             [
              1,
              "#f0f921"
             ]
            ],
            "type": "surface"
           }
          ],
          "table": [
           {
            "cells": {
             "fill": {
              "color": "#EBF0F8"
             },
             "line": {
              "color": "white"
             }
            },
            "header": {
             "fill": {
              "color": "#C8D4E3"
             },
             "line": {
              "color": "white"
             }
            },
            "type": "table"
           }
          ]
         },
         "layout": {
          "annotationdefaults": {
           "arrowcolor": "#2a3f5f",
           "arrowhead": 0,
           "arrowwidth": 1
          },
          "autotypenumbers": "strict",
          "coloraxis": {
           "colorbar": {
            "outlinewidth": 0,
            "ticks": ""
           }
          },
          "colorscale": {
           "diverging": [
            [
             0,
             "#8e0152"
            ],
            [
             0.1,
             "#c51b7d"
            ],
            [
             0.2,
             "#de77ae"
            ],
            [
             0.3,
             "#f1b6da"
            ],
            [
             0.4,
             "#fde0ef"
            ],
            [
             0.5,
             "#f7f7f7"
            ],
            [
             0.6,
             "#e6f5d0"
            ],
            [
             0.7,
             "#b8e186"
            ],
            [
             0.8,
             "#7fbc41"
            ],
            [
             0.9,
             "#4d9221"
            ],
            [
             1,
             "#276419"
            ]
           ],
           "sequential": [
            [
             0,
             "#0d0887"
            ],
            [
             0.1111111111111111,
             "#46039f"
            ],
            [
             0.2222222222222222,
             "#7201a8"
            ],
            [
             0.3333333333333333,
             "#9c179e"
            ],
            [
             0.4444444444444444,
             "#bd3786"
            ],
            [
             0.5555555555555556,
             "#d8576b"
            ],
            [
             0.6666666666666666,
             "#ed7953"
            ],
            [
             0.7777777777777778,
             "#fb9f3a"
            ],
            [
             0.8888888888888888,
             "#fdca26"
            ],
            [
             1,
             "#f0f921"
            ]
           ],
           "sequentialminus": [
            [
             0,
             "#0d0887"
            ],
            [
             0.1111111111111111,
             "#46039f"
            ],
            [
             0.2222222222222222,
             "#7201a8"
            ],
            [
             0.3333333333333333,
             "#9c179e"
            ],
            [
             0.4444444444444444,
             "#bd3786"
            ],
            [
             0.5555555555555556,
             "#d8576b"
            ],
            [
             0.6666666666666666,
             "#ed7953"
            ],
            [
             0.7777777777777778,
             "#fb9f3a"
            ],
            [
             0.8888888888888888,
             "#fdca26"
            ],
            [
             1,
             "#f0f921"
            ]
           ]
          },
          "colorway": [
           "#636efa",
           "#EF553B",
           "#00cc96",
           "#ab63fa",
           "#FFA15A",
           "#19d3f3",
           "#FF6692",
           "#B6E880",
           "#FF97FF",
           "#FECB52"
          ],
          "font": {
           "color": "#2a3f5f"
          },
          "geo": {
           "bgcolor": "white",
           "lakecolor": "white",
           "landcolor": "#E5ECF6",
           "showlakes": true,
           "showland": true,
           "subunitcolor": "white"
          },
          "hoverlabel": {
           "align": "left"
          },
          "hovermode": "closest",
          "mapbox": {
           "style": "light"
          },
          "paper_bgcolor": "white",
          "plot_bgcolor": "#E5ECF6",
          "polar": {
           "angularaxis": {
            "gridcolor": "white",
            "linecolor": "white",
            "ticks": ""
           },
           "bgcolor": "#E5ECF6",
           "radialaxis": {
            "gridcolor": "white",
            "linecolor": "white",
            "ticks": ""
           }
          },
          "scene": {
           "xaxis": {
            "backgroundcolor": "#E5ECF6",
            "gridcolor": "white",
            "gridwidth": 2,
            "linecolor": "white",
            "showbackground": true,
            "ticks": "",
            "zerolinecolor": "white"
           },
           "yaxis": {
            "backgroundcolor": "#E5ECF6",
            "gridcolor": "white",
            "gridwidth": 2,
            "linecolor": "white",
            "showbackground": true,
            "ticks": "",
            "zerolinecolor": "white"
           },
           "zaxis": {
            "backgroundcolor": "#E5ECF6",
            "gridcolor": "white",
            "gridwidth": 2,
            "linecolor": "white",
            "showbackground": true,
            "ticks": "",
            "zerolinecolor": "white"
           }
          },
          "shapedefaults": {
           "line": {
            "color": "#2a3f5f"
           }
          },
          "ternary": {
           "aaxis": {
            "gridcolor": "white",
            "linecolor": "white",
            "ticks": ""
           },
           "baxis": {
            "gridcolor": "white",
            "linecolor": "white",
            "ticks": ""
           },
           "bgcolor": "#E5ECF6",
           "caxis": {
            "gridcolor": "white",
            "linecolor": "white",
            "ticks": ""
           }
          },
          "title": {
           "x": 0.05
          },
          "xaxis": {
           "automargin": true,
           "gridcolor": "white",
           "linecolor": "white",
           "ticks": "",
           "title": {
            "standoff": 15
           },
           "zerolinecolor": "white",
           "zerolinewidth": 2
          },
          "yaxis": {
           "automargin": true,
           "gridcolor": "white",
           "linecolor": "white",
           "ticks": "",
           "title": {
            "standoff": 15
           },
           "zerolinecolor": "white",
           "zerolinewidth": 2
          }
         }
        },
        "width": 300
       }
      }
     },
     "metadata": {},
     "output_type": "display_data"
    }
   ],
   "source": [
    "# Count binary values in the \"Male\" column\n",
    "male_counts = fig_df['Is Male'].value_counts()\n",
    "male_labels = ['Male' if male_counts.index[0] else 'Female', 'Male' if not male_counts.index[0] else 'Female']\n",
    "# Create a pie chart for \"Male\" with custom colors\n",
    "sex_pie = go.Pie(labels=male_labels, values=male_counts, marker=dict(colors=male_colors))\n",
    "\n",
    "# Visualize\n",
    "data = [sex_pie]\n",
    "fig = go.Figure(data = data)\n",
    "fig.update_layout(width=300, height=300)\n",
    "display(fig)"
   ]
  },
  {
   "cell_type": "code",
   "execution_count": 478,
   "metadata": {},
   "outputs": [
    {
     "data": {
      "application/vnd.plotly.v1+json": {
       "config": {
        "plotlyServerURL": "https://plot.ly"
       },
       "data": [
        {
         "labels": [
          "White",
          "Non-White"
         ],
         "marker": {
          "colors": [
           "#184e77",
           "#1a759f"
          ]
         },
         "type": "pie",
         "values": [
          28,
          24
         ]
        }
       ],
       "layout": {
        "height": 300,
        "template": {
         "data": {
          "bar": [
           {
            "error_x": {
             "color": "#2a3f5f"
            },
            "error_y": {
             "color": "#2a3f5f"
            },
            "marker": {
             "line": {
              "color": "#E5ECF6",
              "width": 0.5
             },
             "pattern": {
              "fillmode": "overlay",
              "size": 10,
              "solidity": 0.2
             }
            },
            "type": "bar"
           }
          ],
          "barpolar": [
           {
            "marker": {
             "line": {
              "color": "#E5ECF6",
              "width": 0.5
             },
             "pattern": {
              "fillmode": "overlay",
              "size": 10,
              "solidity": 0.2
             }
            },
            "type": "barpolar"
           }
          ],
          "carpet": [
           {
            "aaxis": {
             "endlinecolor": "#2a3f5f",
             "gridcolor": "white",
             "linecolor": "white",
             "minorgridcolor": "white",
             "startlinecolor": "#2a3f5f"
            },
            "baxis": {
             "endlinecolor": "#2a3f5f",
             "gridcolor": "white",
             "linecolor": "white",
             "minorgridcolor": "white",
             "startlinecolor": "#2a3f5f"
            },
            "type": "carpet"
           }
          ],
          "choropleth": [
           {
            "colorbar": {
             "outlinewidth": 0,
             "ticks": ""
            },
            "type": "choropleth"
           }
          ],
          "contour": [
           {
            "colorbar": {
             "outlinewidth": 0,
             "ticks": ""
            },
            "colorscale": [
             [
              0,
              "#0d0887"
             ],
             [
              0.1111111111111111,
              "#46039f"
             ],
             [
              0.2222222222222222,
              "#7201a8"
             ],
             [
              0.3333333333333333,
              "#9c179e"
             ],
             [
              0.4444444444444444,
              "#bd3786"
             ],
             [
              0.5555555555555556,
              "#d8576b"
             ],
             [
              0.6666666666666666,
              "#ed7953"
             ],
             [
              0.7777777777777778,
              "#fb9f3a"
             ],
             [
              0.8888888888888888,
              "#fdca26"
             ],
             [
              1,
              "#f0f921"
             ]
            ],
            "type": "contour"
           }
          ],
          "contourcarpet": [
           {
            "colorbar": {
             "outlinewidth": 0,
             "ticks": ""
            },
            "type": "contourcarpet"
           }
          ],
          "heatmap": [
           {
            "colorbar": {
             "outlinewidth": 0,
             "ticks": ""
            },
            "colorscale": [
             [
              0,
              "#0d0887"
             ],
             [
              0.1111111111111111,
              "#46039f"
             ],
             [
              0.2222222222222222,
              "#7201a8"
             ],
             [
              0.3333333333333333,
              "#9c179e"
             ],
             [
              0.4444444444444444,
              "#bd3786"
             ],
             [
              0.5555555555555556,
              "#d8576b"
             ],
             [
              0.6666666666666666,
              "#ed7953"
             ],
             [
              0.7777777777777778,
              "#fb9f3a"
             ],
             [
              0.8888888888888888,
              "#fdca26"
             ],
             [
              1,
              "#f0f921"
             ]
            ],
            "type": "heatmap"
           }
          ],
          "heatmapgl": [
           {
            "colorbar": {
             "outlinewidth": 0,
             "ticks": ""
            },
            "colorscale": [
             [
              0,
              "#0d0887"
             ],
             [
              0.1111111111111111,
              "#46039f"
             ],
             [
              0.2222222222222222,
              "#7201a8"
             ],
             [
              0.3333333333333333,
              "#9c179e"
             ],
             [
              0.4444444444444444,
              "#bd3786"
             ],
             [
              0.5555555555555556,
              "#d8576b"
             ],
             [
              0.6666666666666666,
              "#ed7953"
             ],
             [
              0.7777777777777778,
              "#fb9f3a"
             ],
             [
              0.8888888888888888,
              "#fdca26"
             ],
             [
              1,
              "#f0f921"
             ]
            ],
            "type": "heatmapgl"
           }
          ],
          "histogram": [
           {
            "marker": {
             "pattern": {
              "fillmode": "overlay",
              "size": 10,
              "solidity": 0.2
             }
            },
            "type": "histogram"
           }
          ],
          "histogram2d": [
           {
            "colorbar": {
             "outlinewidth": 0,
             "ticks": ""
            },
            "colorscale": [
             [
              0,
              "#0d0887"
             ],
             [
              0.1111111111111111,
              "#46039f"
             ],
             [
              0.2222222222222222,
              "#7201a8"
             ],
             [
              0.3333333333333333,
              "#9c179e"
             ],
             [
              0.4444444444444444,
              "#bd3786"
             ],
             [
              0.5555555555555556,
              "#d8576b"
             ],
             [
              0.6666666666666666,
              "#ed7953"
             ],
             [
              0.7777777777777778,
              "#fb9f3a"
             ],
             [
              0.8888888888888888,
              "#fdca26"
             ],
             [
              1,
              "#f0f921"
             ]
            ],
            "type": "histogram2d"
           }
          ],
          "histogram2dcontour": [
           {
            "colorbar": {
             "outlinewidth": 0,
             "ticks": ""
            },
            "colorscale": [
             [
              0,
              "#0d0887"
             ],
             [
              0.1111111111111111,
              "#46039f"
             ],
             [
              0.2222222222222222,
              "#7201a8"
             ],
             [
              0.3333333333333333,
              "#9c179e"
             ],
             [
              0.4444444444444444,
              "#bd3786"
             ],
             [
              0.5555555555555556,
              "#d8576b"
             ],
             [
              0.6666666666666666,
              "#ed7953"
             ],
             [
              0.7777777777777778,
              "#fb9f3a"
             ],
             [
              0.8888888888888888,
              "#fdca26"
             ],
             [
              1,
              "#f0f921"
             ]
            ],
            "type": "histogram2dcontour"
           }
          ],
          "mesh3d": [
           {
            "colorbar": {
             "outlinewidth": 0,
             "ticks": ""
            },
            "type": "mesh3d"
           }
          ],
          "parcoords": [
           {
            "line": {
             "colorbar": {
              "outlinewidth": 0,
              "ticks": ""
             }
            },
            "type": "parcoords"
           }
          ],
          "pie": [
           {
            "automargin": true,
            "type": "pie"
           }
          ],
          "scatter": [
           {
            "fillpattern": {
             "fillmode": "overlay",
             "size": 10,
             "solidity": 0.2
            },
            "type": "scatter"
           }
          ],
          "scatter3d": [
           {
            "line": {
             "colorbar": {
              "outlinewidth": 0,
              "ticks": ""
             }
            },
            "marker": {
             "colorbar": {
              "outlinewidth": 0,
              "ticks": ""
             }
            },
            "type": "scatter3d"
           }
          ],
          "scattercarpet": [
           {
            "marker": {
             "colorbar": {
              "outlinewidth": 0,
              "ticks": ""
             }
            },
            "type": "scattercarpet"
           }
          ],
          "scattergeo": [
           {
            "marker": {
             "colorbar": {
              "outlinewidth": 0,
              "ticks": ""
             }
            },
            "type": "scattergeo"
           }
          ],
          "scattergl": [
           {
            "marker": {
             "colorbar": {
              "outlinewidth": 0,
              "ticks": ""
             }
            },
            "type": "scattergl"
           }
          ],
          "scattermapbox": [
           {
            "marker": {
             "colorbar": {
              "outlinewidth": 0,
              "ticks": ""
             }
            },
            "type": "scattermapbox"
           }
          ],
          "scatterpolar": [
           {
            "marker": {
             "colorbar": {
              "outlinewidth": 0,
              "ticks": ""
             }
            },
            "type": "scatterpolar"
           }
          ],
          "scatterpolargl": [
           {
            "marker": {
             "colorbar": {
              "outlinewidth": 0,
              "ticks": ""
             }
            },
            "type": "scatterpolargl"
           }
          ],
          "scatterternary": [
           {
            "marker": {
             "colorbar": {
              "outlinewidth": 0,
              "ticks": ""
             }
            },
            "type": "scatterternary"
           }
          ],
          "surface": [
           {
            "colorbar": {
             "outlinewidth": 0,
             "ticks": ""
            },
            "colorscale": [
             [
              0,
              "#0d0887"
             ],
             [
              0.1111111111111111,
              "#46039f"
             ],
             [
              0.2222222222222222,
              "#7201a8"
             ],
             [
              0.3333333333333333,
              "#9c179e"
             ],
             [
              0.4444444444444444,
              "#bd3786"
             ],
             [
              0.5555555555555556,
              "#d8576b"
             ],
             [
              0.6666666666666666,
              "#ed7953"
             ],
             [
              0.7777777777777778,
              "#fb9f3a"
             ],
             [
              0.8888888888888888,
              "#fdca26"
             ],
             [
              1,
              "#f0f921"
             ]
            ],
            "type": "surface"
           }
          ],
          "table": [
           {
            "cells": {
             "fill": {
              "color": "#EBF0F8"
             },
             "line": {
              "color": "white"
             }
            },
            "header": {
             "fill": {
              "color": "#C8D4E3"
             },
             "line": {
              "color": "white"
             }
            },
            "type": "table"
           }
          ]
         },
         "layout": {
          "annotationdefaults": {
           "arrowcolor": "#2a3f5f",
           "arrowhead": 0,
           "arrowwidth": 1
          },
          "autotypenumbers": "strict",
          "coloraxis": {
           "colorbar": {
            "outlinewidth": 0,
            "ticks": ""
           }
          },
          "colorscale": {
           "diverging": [
            [
             0,
             "#8e0152"
            ],
            [
             0.1,
             "#c51b7d"
            ],
            [
             0.2,
             "#de77ae"
            ],
            [
             0.3,
             "#f1b6da"
            ],
            [
             0.4,
             "#fde0ef"
            ],
            [
             0.5,
             "#f7f7f7"
            ],
            [
             0.6,
             "#e6f5d0"
            ],
            [
             0.7,
             "#b8e186"
            ],
            [
             0.8,
             "#7fbc41"
            ],
            [
             0.9,
             "#4d9221"
            ],
            [
             1,
             "#276419"
            ]
           ],
           "sequential": [
            [
             0,
             "#0d0887"
            ],
            [
             0.1111111111111111,
             "#46039f"
            ],
            [
             0.2222222222222222,
             "#7201a8"
            ],
            [
             0.3333333333333333,
             "#9c179e"
            ],
            [
             0.4444444444444444,
             "#bd3786"
            ],
            [
             0.5555555555555556,
             "#d8576b"
            ],
            [
             0.6666666666666666,
             "#ed7953"
            ],
            [
             0.7777777777777778,
             "#fb9f3a"
            ],
            [
             0.8888888888888888,
             "#fdca26"
            ],
            [
             1,
             "#f0f921"
            ]
           ],
           "sequentialminus": [
            [
             0,
             "#0d0887"
            ],
            [
             0.1111111111111111,
             "#46039f"
            ],
            [
             0.2222222222222222,
             "#7201a8"
            ],
            [
             0.3333333333333333,
             "#9c179e"
            ],
            [
             0.4444444444444444,
             "#bd3786"
            ],
            [
             0.5555555555555556,
             "#d8576b"
            ],
            [
             0.6666666666666666,
             "#ed7953"
            ],
            [
             0.7777777777777778,
             "#fb9f3a"
            ],
            [
             0.8888888888888888,
             "#fdca26"
            ],
            [
             1,
             "#f0f921"
            ]
           ]
          },
          "colorway": [
           "#636efa",
           "#EF553B",
           "#00cc96",
           "#ab63fa",
           "#FFA15A",
           "#19d3f3",
           "#FF6692",
           "#B6E880",
           "#FF97FF",
           "#FECB52"
          ],
          "font": {
           "color": "#2a3f5f"
          },
          "geo": {
           "bgcolor": "white",
           "lakecolor": "white",
           "landcolor": "#E5ECF6",
           "showlakes": true,
           "showland": true,
           "subunitcolor": "white"
          },
          "hoverlabel": {
           "align": "left"
          },
          "hovermode": "closest",
          "mapbox": {
           "style": "light"
          },
          "paper_bgcolor": "white",
          "plot_bgcolor": "#E5ECF6",
          "polar": {
           "angularaxis": {
            "gridcolor": "white",
            "linecolor": "white",
            "ticks": ""
           },
           "bgcolor": "#E5ECF6",
           "radialaxis": {
            "gridcolor": "white",
            "linecolor": "white",
            "ticks": ""
           }
          },
          "scene": {
           "xaxis": {
            "backgroundcolor": "#E5ECF6",
            "gridcolor": "white",
            "gridwidth": 2,
            "linecolor": "white",
            "showbackground": true,
            "ticks": "",
            "zerolinecolor": "white"
           },
           "yaxis": {
            "backgroundcolor": "#E5ECF6",
            "gridcolor": "white",
            "gridwidth": 2,
            "linecolor": "white",
            "showbackground": true,
            "ticks": "",
            "zerolinecolor": "white"
           },
           "zaxis": {
            "backgroundcolor": "#E5ECF6",
            "gridcolor": "white",
            "gridwidth": 2,
            "linecolor": "white",
            "showbackground": true,
            "ticks": "",
            "zerolinecolor": "white"
           }
          },
          "shapedefaults": {
           "line": {
            "color": "#2a3f5f"
           }
          },
          "ternary": {
           "aaxis": {
            "gridcolor": "white",
            "linecolor": "white",
            "ticks": ""
           },
           "baxis": {
            "gridcolor": "white",
            "linecolor": "white",
            "ticks": ""
           },
           "bgcolor": "#E5ECF6",
           "caxis": {
            "gridcolor": "white",
            "linecolor": "white",
            "ticks": ""
           }
          },
          "title": {
           "x": 0.05
          },
          "xaxis": {
           "automargin": true,
           "gridcolor": "white",
           "linecolor": "white",
           "ticks": "",
           "title": {
            "standoff": 15
           },
           "zerolinecolor": "white",
           "zerolinewidth": 2
          },
          "yaxis": {
           "automargin": true,
           "gridcolor": "white",
           "linecolor": "white",
           "ticks": "",
           "title": {
            "standoff": 15
           },
           "zerolinecolor": "white",
           "zerolinewidth": 2
          }
         }
        },
        "width": 300
       }
      }
     },
     "metadata": {},
     "output_type": "display_data"
    }
   ],
   "source": [
    "# Count binary values in the \"White\" column\n",
    "white_counts = fig_df['White'].value_counts()\n",
    "white_labels = ['White' if white_counts.index[0] else 'Non-White', 'White' if not white_counts.index[0] else 'Non-White']\n",
    "\n",
    "# Create a pie chart for \"White\" with custom colors\n",
    "white_pie = go.Pie(labels=white_labels, values=white_counts, marker=dict(colors=white_colors))\n",
    "\n",
    "# Visualize\n",
    "data = [white_pie]\n",
    "fig = go.Figure(data = data)\n",
    "fig.update_layout(width=300, height=300)\n",
    "display(fig)"
   ]
  },
  {
   "cell_type": "code",
   "execution_count": 479,
   "metadata": {},
   "outputs": [
    {
     "data": {
      "application/vnd.plotly.v1+json": {
       "config": {
        "plotlyServerURL": "https://plot.ly"
       },
       "data": [
        {
         "marker": {
          "color": "#1e6091"
         },
         "name": "BMI",
         "type": "histogram",
         "x": [
          40.37364314167848,
          15.6197502942692,
          37.47092140509929,
          15.88821409016035,
          31.97973319162682,
          28.1739517252042,
          23.93538267523092,
          23.75772644599179,
          16.47121699014891,
          16.39503531809196,
          15.74143565841061,
          23.25016159025016,
          30.18603788432717,
          42.07038669937084,
          33.92894892881829,
          39.65184792086399,
          36.4954655526526,
          27.87831249269034,
          18.80360081625233,
          40.3260575345188,
          40.45171270209357,
          36.15942191585318,
          24.7002931233234,
          38.93539128821769,
          35.2294577235436,
          23.38795080248004,
          14.11323649758434,
          31.59448379584371,
          30.04512688679085,
          22.5117083868218,
          31.77942116556589,
          33.79795596250194,
          36.15253936526006,
          26.74763263887642,
          35.0347209412711,
          42.00604123804371,
          18.30936410330949,
          31.79276557491649,
          22.00302791260598,
          33.93478036972154,
          24.06716297139123,
          37.6493551535287,
          37.63682996438092,
          24.64465081136552,
          22.84846573619816,
          39.13147738785178,
          32.07855927549254,
          38.77623321968011,
          20.83495672791886,
          39.53891929156112,
          19.08268725455712,
          31.2575316065812
         ]
        }
       ],
       "layout": {
        "height": 300,
        "template": {
         "data": {
          "bar": [
           {
            "error_x": {
             "color": "#2a3f5f"
            },
            "error_y": {
             "color": "#2a3f5f"
            },
            "marker": {
             "line": {
              "color": "#E5ECF6",
              "width": 0.5
             },
             "pattern": {
              "fillmode": "overlay",
              "size": 10,
              "solidity": 0.2
             }
            },
            "type": "bar"
           }
          ],
          "barpolar": [
           {
            "marker": {
             "line": {
              "color": "#E5ECF6",
              "width": 0.5
             },
             "pattern": {
              "fillmode": "overlay",
              "size": 10,
              "solidity": 0.2
             }
            },
            "type": "barpolar"
           }
          ],
          "carpet": [
           {
            "aaxis": {
             "endlinecolor": "#2a3f5f",
             "gridcolor": "white",
             "linecolor": "white",
             "minorgridcolor": "white",
             "startlinecolor": "#2a3f5f"
            },
            "baxis": {
             "endlinecolor": "#2a3f5f",
             "gridcolor": "white",
             "linecolor": "white",
             "minorgridcolor": "white",
             "startlinecolor": "#2a3f5f"
            },
            "type": "carpet"
           }
          ],
          "choropleth": [
           {
            "colorbar": {
             "outlinewidth": 0,
             "ticks": ""
            },
            "type": "choropleth"
           }
          ],
          "contour": [
           {
            "colorbar": {
             "outlinewidth": 0,
             "ticks": ""
            },
            "colorscale": [
             [
              0,
              "#0d0887"
             ],
             [
              0.1111111111111111,
              "#46039f"
             ],
             [
              0.2222222222222222,
              "#7201a8"
             ],
             [
              0.3333333333333333,
              "#9c179e"
             ],
             [
              0.4444444444444444,
              "#bd3786"
             ],
             [
              0.5555555555555556,
              "#d8576b"
             ],
             [
              0.6666666666666666,
              "#ed7953"
             ],
             [
              0.7777777777777778,
              "#fb9f3a"
             ],
             [
              0.8888888888888888,
              "#fdca26"
             ],
             [
              1,
              "#f0f921"
             ]
            ],
            "type": "contour"
           }
          ],
          "contourcarpet": [
           {
            "colorbar": {
             "outlinewidth": 0,
             "ticks": ""
            },
            "type": "contourcarpet"
           }
          ],
          "heatmap": [
           {
            "colorbar": {
             "outlinewidth": 0,
             "ticks": ""
            },
            "colorscale": [
             [
              0,
              "#0d0887"
             ],
             [
              0.1111111111111111,
              "#46039f"
             ],
             [
              0.2222222222222222,
              "#7201a8"
             ],
             [
              0.3333333333333333,
              "#9c179e"
             ],
             [
              0.4444444444444444,
              "#bd3786"
             ],
             [
              0.5555555555555556,
              "#d8576b"
             ],
             [
              0.6666666666666666,
              "#ed7953"
             ],
             [
              0.7777777777777778,
              "#fb9f3a"
             ],
             [
              0.8888888888888888,
              "#fdca26"
             ],
             [
              1,
              "#f0f921"
             ]
            ],
            "type": "heatmap"
           }
          ],
          "heatmapgl": [
           {
            "colorbar": {
             "outlinewidth": 0,
             "ticks": ""
            },
            "colorscale": [
             [
              0,
              "#0d0887"
             ],
             [
              0.1111111111111111,
              "#46039f"
             ],
             [
              0.2222222222222222,
              "#7201a8"
             ],
             [
              0.3333333333333333,
              "#9c179e"
             ],
             [
              0.4444444444444444,
              "#bd3786"
             ],
             [
              0.5555555555555556,
              "#d8576b"
             ],
             [
              0.6666666666666666,
              "#ed7953"
             ],
             [
              0.7777777777777778,
              "#fb9f3a"
             ],
             [
              0.8888888888888888,
              "#fdca26"
             ],
             [
              1,
              "#f0f921"
             ]
            ],
            "type": "heatmapgl"
           }
          ],
          "histogram": [
           {
            "marker": {
             "pattern": {
              "fillmode": "overlay",
              "size": 10,
              "solidity": 0.2
             }
            },
            "type": "histogram"
           }
          ],
          "histogram2d": [
           {
            "colorbar": {
             "outlinewidth": 0,
             "ticks": ""
            },
            "colorscale": [
             [
              0,
              "#0d0887"
             ],
             [
              0.1111111111111111,
              "#46039f"
             ],
             [
              0.2222222222222222,
              "#7201a8"
             ],
             [
              0.3333333333333333,
              "#9c179e"
             ],
             [
              0.4444444444444444,
              "#bd3786"
             ],
             [
              0.5555555555555556,
              "#d8576b"
             ],
             [
              0.6666666666666666,
              "#ed7953"
             ],
             [
              0.7777777777777778,
              "#fb9f3a"
             ],
             [
              0.8888888888888888,
              "#fdca26"
             ],
             [
              1,
              "#f0f921"
             ]
            ],
            "type": "histogram2d"
           }
          ],
          "histogram2dcontour": [
           {
            "colorbar": {
             "outlinewidth": 0,
             "ticks": ""
            },
            "colorscale": [
             [
              0,
              "#0d0887"
             ],
             [
              0.1111111111111111,
              "#46039f"
             ],
             [
              0.2222222222222222,
              "#7201a8"
             ],
             [
              0.3333333333333333,
              "#9c179e"
             ],
             [
              0.4444444444444444,
              "#bd3786"
             ],
             [
              0.5555555555555556,
              "#d8576b"
             ],
             [
              0.6666666666666666,
              "#ed7953"
             ],
             [
              0.7777777777777778,
              "#fb9f3a"
             ],
             [
              0.8888888888888888,
              "#fdca26"
             ],
             [
              1,
              "#f0f921"
             ]
            ],
            "type": "histogram2dcontour"
           }
          ],
          "mesh3d": [
           {
            "colorbar": {
             "outlinewidth": 0,
             "ticks": ""
            },
            "type": "mesh3d"
           }
          ],
          "parcoords": [
           {
            "line": {
             "colorbar": {
              "outlinewidth": 0,
              "ticks": ""
             }
            },
            "type": "parcoords"
           }
          ],
          "pie": [
           {
            "automargin": true,
            "type": "pie"
           }
          ],
          "scatter": [
           {
            "fillpattern": {
             "fillmode": "overlay",
             "size": 10,
             "solidity": 0.2
            },
            "type": "scatter"
           }
          ],
          "scatter3d": [
           {
            "line": {
             "colorbar": {
              "outlinewidth": 0,
              "ticks": ""
             }
            },
            "marker": {
             "colorbar": {
              "outlinewidth": 0,
              "ticks": ""
             }
            },
            "type": "scatter3d"
           }
          ],
          "scattercarpet": [
           {
            "marker": {
             "colorbar": {
              "outlinewidth": 0,
              "ticks": ""
             }
            },
            "type": "scattercarpet"
           }
          ],
          "scattergeo": [
           {
            "marker": {
             "colorbar": {
              "outlinewidth": 0,
              "ticks": ""
             }
            },
            "type": "scattergeo"
           }
          ],
          "scattergl": [
           {
            "marker": {
             "colorbar": {
              "outlinewidth": 0,
              "ticks": ""
             }
            },
            "type": "scattergl"
           }
          ],
          "scattermapbox": [
           {
            "marker": {
             "colorbar": {
              "outlinewidth": 0,
              "ticks": ""
             }
            },
            "type": "scattermapbox"
           }
          ],
          "scatterpolar": [
           {
            "marker": {
             "colorbar": {
              "outlinewidth": 0,
              "ticks": ""
             }
            },
            "type": "scatterpolar"
           }
          ],
          "scatterpolargl": [
           {
            "marker": {
             "colorbar": {
              "outlinewidth": 0,
              "ticks": ""
             }
            },
            "type": "scatterpolargl"
           }
          ],
          "scatterternary": [
           {
            "marker": {
             "colorbar": {
              "outlinewidth": 0,
              "ticks": ""
             }
            },
            "type": "scatterternary"
           }
          ],
          "surface": [
           {
            "colorbar": {
             "outlinewidth": 0,
             "ticks": ""
            },
            "colorscale": [
             [
              0,
              "#0d0887"
             ],
             [
              0.1111111111111111,
              "#46039f"
             ],
             [
              0.2222222222222222,
              "#7201a8"
             ],
             [
              0.3333333333333333,
              "#9c179e"
             ],
             [
              0.4444444444444444,
              "#bd3786"
             ],
             [
              0.5555555555555556,
              "#d8576b"
             ],
             [
              0.6666666666666666,
              "#ed7953"
             ],
             [
              0.7777777777777778,
              "#fb9f3a"
             ],
             [
              0.8888888888888888,
              "#fdca26"
             ],
             [
              1,
              "#f0f921"
             ]
            ],
            "type": "surface"
           }
          ],
          "table": [
           {
            "cells": {
             "fill": {
              "color": "#EBF0F8"
             },
             "line": {
              "color": "white"
             }
            },
            "header": {
             "fill": {
              "color": "#C8D4E3"
             },
             "line": {
              "color": "white"
             }
            },
            "type": "table"
           }
          ]
         },
         "layout": {
          "annotationdefaults": {
           "arrowcolor": "#2a3f5f",
           "arrowhead": 0,
           "arrowwidth": 1
          },
          "autotypenumbers": "strict",
          "coloraxis": {
           "colorbar": {
            "outlinewidth": 0,
            "ticks": ""
           }
          },
          "colorscale": {
           "diverging": [
            [
             0,
             "#8e0152"
            ],
            [
             0.1,
             "#c51b7d"
            ],
            [
             0.2,
             "#de77ae"
            ],
            [
             0.3,
             "#f1b6da"
            ],
            [
             0.4,
             "#fde0ef"
            ],
            [
             0.5,
             "#f7f7f7"
            ],
            [
             0.6,
             "#e6f5d0"
            ],
            [
             0.7,
             "#b8e186"
            ],
            [
             0.8,
             "#7fbc41"
            ],
            [
             0.9,
             "#4d9221"
            ],
            [
             1,
             "#276419"
            ]
           ],
           "sequential": [
            [
             0,
             "#0d0887"
            ],
            [
             0.1111111111111111,
             "#46039f"
            ],
            [
             0.2222222222222222,
             "#7201a8"
            ],
            [
             0.3333333333333333,
             "#9c179e"
            ],
            [
             0.4444444444444444,
             "#bd3786"
            ],
            [
             0.5555555555555556,
             "#d8576b"
            ],
            [
             0.6666666666666666,
             "#ed7953"
            ],
            [
             0.7777777777777778,
             "#fb9f3a"
            ],
            [
             0.8888888888888888,
             "#fdca26"
            ],
            [
             1,
             "#f0f921"
            ]
           ],
           "sequentialminus": [
            [
             0,
             "#0d0887"
            ],
            [
             0.1111111111111111,
             "#46039f"
            ],
            [
             0.2222222222222222,
             "#7201a8"
            ],
            [
             0.3333333333333333,
             "#9c179e"
            ],
            [
             0.4444444444444444,
             "#bd3786"
            ],
            [
             0.5555555555555556,
             "#d8576b"
            ],
            [
             0.6666666666666666,
             "#ed7953"
            ],
            [
             0.7777777777777778,
             "#fb9f3a"
            ],
            [
             0.8888888888888888,
             "#fdca26"
            ],
            [
             1,
             "#f0f921"
            ]
           ]
          },
          "colorway": [
           "#636efa",
           "#EF553B",
           "#00cc96",
           "#ab63fa",
           "#FFA15A",
           "#19d3f3",
           "#FF6692",
           "#B6E880",
           "#FF97FF",
           "#FECB52"
          ],
          "font": {
           "color": "#2a3f5f"
          },
          "geo": {
           "bgcolor": "white",
           "lakecolor": "white",
           "landcolor": "#E5ECF6",
           "showlakes": true,
           "showland": true,
           "subunitcolor": "white"
          },
          "hoverlabel": {
           "align": "left"
          },
          "hovermode": "closest",
          "mapbox": {
           "style": "light"
          },
          "paper_bgcolor": "white",
          "plot_bgcolor": "#E5ECF6",
          "polar": {
           "angularaxis": {
            "gridcolor": "white",
            "linecolor": "white",
            "ticks": ""
           },
           "bgcolor": "#E5ECF6",
           "radialaxis": {
            "gridcolor": "white",
            "linecolor": "white",
            "ticks": ""
           }
          },
          "scene": {
           "xaxis": {
            "backgroundcolor": "#E5ECF6",
            "gridcolor": "white",
            "gridwidth": 2,
            "linecolor": "white",
            "showbackground": true,
            "ticks": "",
            "zerolinecolor": "white"
           },
           "yaxis": {
            "backgroundcolor": "#E5ECF6",
            "gridcolor": "white",
            "gridwidth": 2,
            "linecolor": "white",
            "showbackground": true,
            "ticks": "",
            "zerolinecolor": "white"
           },
           "zaxis": {
            "backgroundcolor": "#E5ECF6",
            "gridcolor": "white",
            "gridwidth": 2,
            "linecolor": "white",
            "showbackground": true,
            "ticks": "",
            "zerolinecolor": "white"
           }
          },
          "shapedefaults": {
           "line": {
            "color": "#2a3f5f"
           }
          },
          "ternary": {
           "aaxis": {
            "gridcolor": "white",
            "linecolor": "white",
            "ticks": ""
           },
           "baxis": {
            "gridcolor": "white",
            "linecolor": "white",
            "ticks": ""
           },
           "bgcolor": "#E5ECF6",
           "caxis": {
            "gridcolor": "white",
            "linecolor": "white",
            "ticks": ""
           }
          },
          "title": {
           "x": 0.05
          },
          "xaxis": {
           "automargin": true,
           "gridcolor": "white",
           "linecolor": "white",
           "ticks": "",
           "title": {
            "standoff": 15
           },
           "zerolinecolor": "white",
           "zerolinewidth": 2
          },
          "yaxis": {
           "automargin": true,
           "gridcolor": "white",
           "linecolor": "white",
           "ticks": "",
           "title": {
            "standoff": 15
           },
           "zerolinecolor": "white",
           "zerolinewidth": 2
          }
         }
        },
        "width": 300
       }
      }
     },
     "metadata": {},
     "output_type": "display_data"
    }
   ],
   "source": [
    "# BMI histogram\n",
    "bmi_hist =  go.Histogram(x=fig_df[\"BMI\"], name=\"BMI\", marker=dict(color=bmi_histogram_color))\n",
    "\n",
    "# Visualize\n",
    "data = [bmi_hist]\n",
    "fig = go.Figure(data = data)\n",
    "fig.update_layout(width=300, height=300)\n",
    "display(fig)"
   ]
  },
  {
   "cell_type": "code",
   "execution_count": 480,
   "metadata": {},
   "outputs": [
    {
     "data": {
      "application/vnd.plotly.v1+json": {
       "config": {
        "plotlyServerURL": "https://plot.ly"
       },
       "data": [
        {
         "marker": {
          "color": "#52b69a"
         },
         "name": "Age",
         "type": "histogram",
         "x": [
          81,
          70,
          88,
          78,
          84,
          83,
          79,
          86,
          85,
          79,
          75,
          91,
          61,
          89,
          67,
          85,
          81,
          72,
          91,
          89,
          75,
          79,
          78,
          60,
          72,
          61,
          69,
          73,
          79,
          61,
          77,
          64,
          87,
          73,
          91,
          63,
          81,
          66,
          76,
          80,
          84,
          79,
          84,
          86,
          61,
          71,
          60,
          71,
          63,
          85,
          83,
          79
         ]
        }
       ],
       "layout": {
        "height": 300,
        "template": {
         "data": {
          "bar": [
           {
            "error_x": {
             "color": "#2a3f5f"
            },
            "error_y": {
             "color": "#2a3f5f"
            },
            "marker": {
             "line": {
              "color": "#E5ECF6",
              "width": 0.5
             },
             "pattern": {
              "fillmode": "overlay",
              "size": 10,
              "solidity": 0.2
             }
            },
            "type": "bar"
           }
          ],
          "barpolar": [
           {
            "marker": {
             "line": {
              "color": "#E5ECF6",
              "width": 0.5
             },
             "pattern": {
              "fillmode": "overlay",
              "size": 10,
              "solidity": 0.2
             }
            },
            "type": "barpolar"
           }
          ],
          "carpet": [
           {
            "aaxis": {
             "endlinecolor": "#2a3f5f",
             "gridcolor": "white",
             "linecolor": "white",
             "minorgridcolor": "white",
             "startlinecolor": "#2a3f5f"
            },
            "baxis": {
             "endlinecolor": "#2a3f5f",
             "gridcolor": "white",
             "linecolor": "white",
             "minorgridcolor": "white",
             "startlinecolor": "#2a3f5f"
            },
            "type": "carpet"
           }
          ],
          "choropleth": [
           {
            "colorbar": {
             "outlinewidth": 0,
             "ticks": ""
            },
            "type": "choropleth"
           }
          ],
          "contour": [
           {
            "colorbar": {
             "outlinewidth": 0,
             "ticks": ""
            },
            "colorscale": [
             [
              0,
              "#0d0887"
             ],
             [
              0.1111111111111111,
              "#46039f"
             ],
             [
              0.2222222222222222,
              "#7201a8"
             ],
             [
              0.3333333333333333,
              "#9c179e"
             ],
             [
              0.4444444444444444,
              "#bd3786"
             ],
             [
              0.5555555555555556,
              "#d8576b"
             ],
             [
              0.6666666666666666,
              "#ed7953"
             ],
             [
              0.7777777777777778,
              "#fb9f3a"
             ],
             [
              0.8888888888888888,
              "#fdca26"
             ],
             [
              1,
              "#f0f921"
             ]
            ],
            "type": "contour"
           }
          ],
          "contourcarpet": [
           {
            "colorbar": {
             "outlinewidth": 0,
             "ticks": ""
            },
            "type": "contourcarpet"
           }
          ],
          "heatmap": [
           {
            "colorbar": {
             "outlinewidth": 0,
             "ticks": ""
            },
            "colorscale": [
             [
              0,
              "#0d0887"
             ],
             [
              0.1111111111111111,
              "#46039f"
             ],
             [
              0.2222222222222222,
              "#7201a8"
             ],
             [
              0.3333333333333333,
              "#9c179e"
             ],
             [
              0.4444444444444444,
              "#bd3786"
             ],
             [
              0.5555555555555556,
              "#d8576b"
             ],
             [
              0.6666666666666666,
              "#ed7953"
             ],
             [
              0.7777777777777778,
              "#fb9f3a"
             ],
             [
              0.8888888888888888,
              "#fdca26"
             ],
             [
              1,
              "#f0f921"
             ]
            ],
            "type": "heatmap"
           }
          ],
          "heatmapgl": [
           {
            "colorbar": {
             "outlinewidth": 0,
             "ticks": ""
            },
            "colorscale": [
             [
              0,
              "#0d0887"
             ],
             [
              0.1111111111111111,
              "#46039f"
             ],
             [
              0.2222222222222222,
              "#7201a8"
             ],
             [
              0.3333333333333333,
              "#9c179e"
             ],
             [
              0.4444444444444444,
              "#bd3786"
             ],
             [
              0.5555555555555556,
              "#d8576b"
             ],
             [
              0.6666666666666666,
              "#ed7953"
             ],
             [
              0.7777777777777778,
              "#fb9f3a"
             ],
             [
              0.8888888888888888,
              "#fdca26"
             ],
             [
              1,
              "#f0f921"
             ]
            ],
            "type": "heatmapgl"
           }
          ],
          "histogram": [
           {
            "marker": {
             "pattern": {
              "fillmode": "overlay",
              "size": 10,
              "solidity": 0.2
             }
            },
            "type": "histogram"
           }
          ],
          "histogram2d": [
           {
            "colorbar": {
             "outlinewidth": 0,
             "ticks": ""
            },
            "colorscale": [
             [
              0,
              "#0d0887"
             ],
             [
              0.1111111111111111,
              "#46039f"
             ],
             [
              0.2222222222222222,
              "#7201a8"
             ],
             [
              0.3333333333333333,
              "#9c179e"
             ],
             [
              0.4444444444444444,
              "#bd3786"
             ],
             [
              0.5555555555555556,
              "#d8576b"
             ],
             [
              0.6666666666666666,
              "#ed7953"
             ],
             [
              0.7777777777777778,
              "#fb9f3a"
             ],
             [
              0.8888888888888888,
              "#fdca26"
             ],
             [
              1,
              "#f0f921"
             ]
            ],
            "type": "histogram2d"
           }
          ],
          "histogram2dcontour": [
           {
            "colorbar": {
             "outlinewidth": 0,
             "ticks": ""
            },
            "colorscale": [
             [
              0,
              "#0d0887"
             ],
             [
              0.1111111111111111,
              "#46039f"
             ],
             [
              0.2222222222222222,
              "#7201a8"
             ],
             [
              0.3333333333333333,
              "#9c179e"
             ],
             [
              0.4444444444444444,
              "#bd3786"
             ],
             [
              0.5555555555555556,
              "#d8576b"
             ],
             [
              0.6666666666666666,
              "#ed7953"
             ],
             [
              0.7777777777777778,
              "#fb9f3a"
             ],
             [
              0.8888888888888888,
              "#fdca26"
             ],
             [
              1,
              "#f0f921"
             ]
            ],
            "type": "histogram2dcontour"
           }
          ],
          "mesh3d": [
           {
            "colorbar": {
             "outlinewidth": 0,
             "ticks": ""
            },
            "type": "mesh3d"
           }
          ],
          "parcoords": [
           {
            "line": {
             "colorbar": {
              "outlinewidth": 0,
              "ticks": ""
             }
            },
            "type": "parcoords"
           }
          ],
          "pie": [
           {
            "automargin": true,
            "type": "pie"
           }
          ],
          "scatter": [
           {
            "fillpattern": {
             "fillmode": "overlay",
             "size": 10,
             "solidity": 0.2
            },
            "type": "scatter"
           }
          ],
          "scatter3d": [
           {
            "line": {
             "colorbar": {
              "outlinewidth": 0,
              "ticks": ""
             }
            },
            "marker": {
             "colorbar": {
              "outlinewidth": 0,
              "ticks": ""
             }
            },
            "type": "scatter3d"
           }
          ],
          "scattercarpet": [
           {
            "marker": {
             "colorbar": {
              "outlinewidth": 0,
              "ticks": ""
             }
            },
            "type": "scattercarpet"
           }
          ],
          "scattergeo": [
           {
            "marker": {
             "colorbar": {
              "outlinewidth": 0,
              "ticks": ""
             }
            },
            "type": "scattergeo"
           }
          ],
          "scattergl": [
           {
            "marker": {
             "colorbar": {
              "outlinewidth": 0,
              "ticks": ""
             }
            },
            "type": "scattergl"
           }
          ],
          "scattermapbox": [
           {
            "marker": {
             "colorbar": {
              "outlinewidth": 0,
              "ticks": ""
             }
            },
            "type": "scattermapbox"
           }
          ],
          "scatterpolar": [
           {
            "marker": {
             "colorbar": {
              "outlinewidth": 0,
              "ticks": ""
             }
            },
            "type": "scatterpolar"
           }
          ],
          "scatterpolargl": [
           {
            "marker": {
             "colorbar": {
              "outlinewidth": 0,
              "ticks": ""
             }
            },
            "type": "scatterpolargl"
           }
          ],
          "scatterternary": [
           {
            "marker": {
             "colorbar": {
              "outlinewidth": 0,
              "ticks": ""
             }
            },
            "type": "scatterternary"
           }
          ],
          "surface": [
           {
            "colorbar": {
             "outlinewidth": 0,
             "ticks": ""
            },
            "colorscale": [
             [
              0,
              "#0d0887"
             ],
             [
              0.1111111111111111,
              "#46039f"
             ],
             [
              0.2222222222222222,
              "#7201a8"
             ],
             [
              0.3333333333333333,
              "#9c179e"
             ],
             [
              0.4444444444444444,
              "#bd3786"
             ],
             [
              0.5555555555555556,
              "#d8576b"
             ],
             [
              0.6666666666666666,
              "#ed7953"
             ],
             [
              0.7777777777777778,
              "#fb9f3a"
             ],
             [
              0.8888888888888888,
              "#fdca26"
             ],
             [
              1,
              "#f0f921"
             ]
            ],
            "type": "surface"
           }
          ],
          "table": [
           {
            "cells": {
             "fill": {
              "color": "#EBF0F8"
             },
             "line": {
              "color": "white"
             }
            },
            "header": {
             "fill": {
              "color": "#C8D4E3"
             },
             "line": {
              "color": "white"
             }
            },
            "type": "table"
           }
          ]
         },
         "layout": {
          "annotationdefaults": {
           "arrowcolor": "#2a3f5f",
           "arrowhead": 0,
           "arrowwidth": 1
          },
          "autotypenumbers": "strict",
          "coloraxis": {
           "colorbar": {
            "outlinewidth": 0,
            "ticks": ""
           }
          },
          "colorscale": {
           "diverging": [
            [
             0,
             "#8e0152"
            ],
            [
             0.1,
             "#c51b7d"
            ],
            [
             0.2,
             "#de77ae"
            ],
            [
             0.3,
             "#f1b6da"
            ],
            [
             0.4,
             "#fde0ef"
            ],
            [
             0.5,
             "#f7f7f7"
            ],
            [
             0.6,
             "#e6f5d0"
            ],
            [
             0.7,
             "#b8e186"
            ],
            [
             0.8,
             "#7fbc41"
            ],
            [
             0.9,
             "#4d9221"
            ],
            [
             1,
             "#276419"
            ]
           ],
           "sequential": [
            [
             0,
             "#0d0887"
            ],
            [
             0.1111111111111111,
             "#46039f"
            ],
            [
             0.2222222222222222,
             "#7201a8"
            ],
            [
             0.3333333333333333,
             "#9c179e"
            ],
            [
             0.4444444444444444,
             "#bd3786"
            ],
            [
             0.5555555555555556,
             "#d8576b"
            ],
            [
             0.6666666666666666,
             "#ed7953"
            ],
            [
             0.7777777777777778,
             "#fb9f3a"
            ],
            [
             0.8888888888888888,
             "#fdca26"
            ],
            [
             1,
             "#f0f921"
            ]
           ],
           "sequentialminus": [
            [
             0,
             "#0d0887"
            ],
            [
             0.1111111111111111,
             "#46039f"
            ],
            [
             0.2222222222222222,
             "#7201a8"
            ],
            [
             0.3333333333333333,
             "#9c179e"
            ],
            [
             0.4444444444444444,
             "#bd3786"
            ],
            [
             0.5555555555555556,
             "#d8576b"
            ],
            [
             0.6666666666666666,
             "#ed7953"
            ],
            [
             0.7777777777777778,
             "#fb9f3a"
            ],
            [
             0.8888888888888888,
             "#fdca26"
            ],
            [
             1,
             "#f0f921"
            ]
           ]
          },
          "colorway": [
           "#636efa",
           "#EF553B",
           "#00cc96",
           "#ab63fa",
           "#FFA15A",
           "#19d3f3",
           "#FF6692",
           "#B6E880",
           "#FF97FF",
           "#FECB52"
          ],
          "font": {
           "color": "#2a3f5f"
          },
          "geo": {
           "bgcolor": "white",
           "lakecolor": "white",
           "landcolor": "#E5ECF6",
           "showlakes": true,
           "showland": true,
           "subunitcolor": "white"
          },
          "hoverlabel": {
           "align": "left"
          },
          "hovermode": "closest",
          "mapbox": {
           "style": "light"
          },
          "paper_bgcolor": "white",
          "plot_bgcolor": "#E5ECF6",
          "polar": {
           "angularaxis": {
            "gridcolor": "white",
            "linecolor": "white",
            "ticks": ""
           },
           "bgcolor": "#E5ECF6",
           "radialaxis": {
            "gridcolor": "white",
            "linecolor": "white",
            "ticks": ""
           }
          },
          "scene": {
           "xaxis": {
            "backgroundcolor": "#E5ECF6",
            "gridcolor": "white",
            "gridwidth": 2,
            "linecolor": "white",
            "showbackground": true,
            "ticks": "",
            "zerolinecolor": "white"
           },
           "yaxis": {
            "backgroundcolor": "#E5ECF6",
            "gridcolor": "white",
            "gridwidth": 2,
            "linecolor": "white",
            "showbackground": true,
            "ticks": "",
            "zerolinecolor": "white"
           },
           "zaxis": {
            "backgroundcolor": "#E5ECF6",
            "gridcolor": "white",
            "gridwidth": 2,
            "linecolor": "white",
            "showbackground": true,
            "ticks": "",
            "zerolinecolor": "white"
           }
          },
          "shapedefaults": {
           "line": {
            "color": "#2a3f5f"
           }
          },
          "ternary": {
           "aaxis": {
            "gridcolor": "white",
            "linecolor": "white",
            "ticks": ""
           },
           "baxis": {
            "gridcolor": "white",
            "linecolor": "white",
            "ticks": ""
           },
           "bgcolor": "#E5ECF6",
           "caxis": {
            "gridcolor": "white",
            "linecolor": "white",
            "ticks": ""
           }
          },
          "title": {
           "x": 0.05
          },
          "xaxis": {
           "automargin": true,
           "gridcolor": "white",
           "linecolor": "white",
           "ticks": "",
           "title": {
            "standoff": 15
           },
           "zerolinecolor": "white",
           "zerolinewidth": 2
          },
          "yaxis": {
           "automargin": true,
           "gridcolor": "white",
           "linecolor": "white",
           "ticks": "",
           "title": {
            "standoff": 15
           },
           "zerolinecolor": "white",
           "zerolinewidth": 2
          }
         }
        },
        "width": 300
       }
      }
     },
     "metadata": {},
     "output_type": "display_data"
    }
   ],
   "source": [
    "# Age histogram\n",
    "age_hist=  go.Histogram(x=fig_df[\"Age\"], name=\"Age\", marker=dict(color=age_histogram_color))\n",
    "\n",
    "# Visualize\n",
    "data = [age_hist]\n",
    "fig = go.Figure(data = data)\n",
    "fig.update_layout(width=300, height=300)\n",
    "display(fig)"
   ]
  },
  {
   "cell_type": "markdown",
   "metadata": {},
   "source": [
    "The following metrics are bsed on the total number of TEG test values"
   ]
  },
  {
   "cell_type": "code",
   "execution_count": 481,
   "metadata": {},
   "outputs": [],
   "source": [
    "# Copy TEG df to find metrics\n",
    "fig_df = clean_TEG_df.copy()"
   ]
  },
  {
   "cell_type": "code",
   "execution_count": 482,
   "metadata": {},
   "outputs": [
    {
     "data": {
      "application/vnd.plotly.v1+json": {
       "config": {
        "plotlyServerURL": "https://plot.ly"
       },
       "data": [
        {
         "marker": {
          "color": "#1a759f"
         },
         "name": "Events",
         "type": "histogram",
         "x": [
          3,
          5,
          4,
          5,
          2,
          2,
          4,
          0,
          1,
          2,
          2,
          1,
          4,
          1,
          4,
          3,
          4,
          2,
          1,
          3,
          2,
          4,
          1,
          2,
          4,
          5,
          3,
          4,
          2,
          3,
          3,
          4,
          4,
          6,
          4,
          1,
          3,
          1,
          3,
          5,
          2,
          2,
          4,
          3,
          3,
          2,
          4,
          3,
          4,
          1,
          3,
          2,
          3,
          5,
          4,
          5,
          2,
          2,
          4,
          0,
          1,
          2,
          2,
          1,
          4,
          1,
          4,
          3,
          4,
          2,
          1,
          3,
          2,
          4,
          1,
          2,
          4,
          5,
          3,
          4,
          2,
          3,
          3,
          4,
          4,
          6,
          4,
          1,
          3,
          1,
          3,
          5,
          2,
          2,
          4,
          3,
          3,
          2,
          4,
          3,
          4,
          1,
          3,
          2,
          3,
          5,
          4,
          5,
          2,
          2,
          4,
          0,
          1,
          2,
          2,
          1,
          4,
          1,
          4,
          3,
          4,
          2,
          1,
          3,
          2,
          4,
          1,
          2,
          4,
          5,
          3,
          4,
          2,
          3,
          3,
          4,
          4,
          6,
          4,
          1,
          3,
          1,
          3,
          5,
          2,
          2,
          4,
          3,
          3,
          2,
          4,
          3,
          4,
          1,
          3,
          2,
          3,
          5,
          4,
          5,
          2,
          2,
          4,
          0,
          1,
          2,
          2,
          1,
          4,
          1,
          4,
          3,
          4,
          2,
          1,
          3,
          2,
          4,
          1,
          2,
          4,
          5,
          3,
          4,
          2,
          3,
          3,
          4,
          4,
          6,
          4,
          1,
          3,
          1,
          3,
          5,
          2,
          2,
          4,
          3,
          3,
          2,
          4,
          3,
          4,
          1,
          3,
          2,
          3,
          5,
          4,
          5,
          2,
          2,
          4,
          0,
          1,
          2,
          2,
          1,
          4,
          1,
          4,
          3,
          4,
          2,
          1,
          3,
          2,
          4,
          1,
          2,
          4,
          5,
          3,
          4,
          2,
          3,
          3,
          4,
          4,
          6,
          4,
          1,
          3,
          1,
          3,
          5,
          2,
          2,
          4,
          3,
          3,
          2,
          4,
          3,
          4,
          1,
          3,
          2,
          3,
          5,
          4,
          5,
          2,
          2,
          4,
          0,
          1,
          2,
          2,
          1,
          4,
          1,
          4,
          3,
          4,
          2,
          1,
          3,
          2,
          4,
          1,
          2,
          4,
          5,
          3,
          4,
          2,
          3,
          3,
          4,
          4,
          6,
          4,
          1,
          3,
          1,
          3,
          5,
          2,
          2,
          4,
          3,
          3,
          2,
          4,
          3,
          4,
          1,
          3,
          2,
          3,
          5,
          4,
          5,
          2,
          2,
          4,
          0,
          1,
          2,
          2,
          1,
          4,
          1,
          4,
          3,
          4,
          2,
          1,
          3,
          2,
          4,
          1,
          2,
          4,
          5,
          3,
          4,
          2,
          3,
          3,
          4,
          4,
          6,
          4,
          1,
          3,
          1,
          3,
          5,
          2,
          2,
          4,
          3,
          3,
          2,
          4,
          3,
          4,
          1,
          3,
          2,
          3,
          5,
          4,
          5,
          2,
          2,
          4,
          0,
          1,
          2,
          2,
          1,
          4,
          1,
          4,
          3,
          4,
          2,
          1,
          3,
          2,
          4,
          1,
          2,
          4,
          5,
          3,
          4,
          2,
          3,
          3,
          4,
          4,
          6,
          4,
          1,
          3,
          1,
          3,
          5,
          2,
          2,
          4,
          3,
          3,
          2,
          4,
          3,
          4,
          1,
          3,
          2,
          3,
          5,
          4,
          5,
          2,
          2,
          4,
          0,
          1,
          2,
          2,
          1,
          4,
          1,
          4,
          3,
          4,
          2,
          1,
          3,
          2,
          4,
          1,
          2,
          4,
          5,
          3,
          4,
          2,
          3,
          3,
          4,
          4,
          6,
          4,
          1,
          3,
          1,
          3,
          5,
          2,
          2,
          4,
          3,
          3,
          2,
          4,
          3,
          4,
          1,
          3,
          2,
          3,
          5,
          4,
          5,
          2,
          2,
          4,
          0,
          1,
          2,
          2,
          1,
          4,
          1,
          4,
          3,
          4,
          2,
          1,
          3,
          2,
          4,
          1,
          2,
          4,
          5,
          3,
          4,
          2,
          3,
          3,
          4,
          4,
          6,
          4,
          1,
          3,
          1,
          3,
          5,
          2,
          2,
          4,
          3,
          3,
          2,
          4,
          3,
          4,
          1,
          3,
          2,
          3,
          5,
          4,
          5,
          2,
          2,
          4,
          0,
          1,
          2,
          2,
          1,
          4,
          1,
          4,
          3,
          4,
          2,
          1,
          3,
          2,
          4,
          1,
          2,
          4,
          5,
          3,
          4,
          2,
          3,
          3,
          4,
          4,
          6,
          4,
          1,
          3,
          1,
          3,
          5,
          2,
          2,
          4,
          3,
          3,
          2,
          4,
          3,
          4,
          1,
          3,
          2,
          3,
          5,
          4,
          5,
          2,
          2,
          4,
          0,
          1,
          2,
          2,
          1,
          4,
          1,
          4,
          3,
          4,
          2,
          1,
          3,
          2,
          4,
          1,
          2,
          4,
          5,
          3,
          4,
          2,
          3,
          3,
          4,
          4,
          6,
          4,
          1,
          3,
          1,
          3,
          5,
          2,
          2,
          4,
          3,
          3,
          2,
          4,
          3,
          4,
          1,
          3,
          2,
          3,
          5,
          4,
          5,
          2,
          2,
          4,
          0,
          1,
          2,
          2,
          1,
          4,
          1,
          4,
          3,
          4,
          2,
          1,
          3,
          2,
          4,
          1,
          2,
          4,
          5,
          3,
          4,
          2,
          3,
          3,
          4,
          4,
          6,
          4,
          1,
          3,
          1,
          3,
          5,
          2,
          2,
          4,
          3,
          3,
          2,
          4,
          3,
          4,
          1,
          3,
          2,
          3,
          5,
          4,
          5,
          2,
          2,
          4,
          0,
          1,
          2,
          2,
          1,
          4,
          1,
          4,
          3,
          4,
          2,
          1,
          3,
          2,
          4,
          1,
          2,
          4,
          5,
          3,
          4,
          2,
          3,
          3,
          4,
          4,
          6,
          4,
          1,
          3,
          1,
          3,
          5,
          2,
          2,
          4,
          3,
          3,
          2,
          4,
          3,
          4,
          1,
          3,
          2,
          3,
          5,
          4,
          5,
          2,
          2,
          4,
          0,
          1,
          2,
          2,
          1,
          4,
          1,
          4,
          3,
          4,
          2,
          1,
          3,
          2,
          4,
          1,
          2,
          4,
          5,
          3,
          4,
          2,
          3,
          3,
          4,
          4,
          6,
          4,
          1,
          3,
          1,
          3,
          5,
          2,
          2,
          4,
          3,
          3,
          2,
          4,
          3,
          4,
          1,
          3,
          2,
          3,
          5,
          4,
          5,
          2,
          2,
          4,
          0,
          1,
          2,
          2,
          1,
          4,
          1,
          4,
          3,
          4,
          2,
          1,
          3
         ]
        }
       ],
       "layout": {
        "height": 300,
        "template": {
         "data": {
          "bar": [
           {
            "error_x": {
             "color": "#2a3f5f"
            },
            "error_y": {
             "color": "#2a3f5f"
            },
            "marker": {
             "line": {
              "color": "#E5ECF6",
              "width": 0.5
             },
             "pattern": {
              "fillmode": "overlay",
              "size": 10,
              "solidity": 0.2
             }
            },
            "type": "bar"
           }
          ],
          "barpolar": [
           {
            "marker": {
             "line": {
              "color": "#E5ECF6",
              "width": 0.5
             },
             "pattern": {
              "fillmode": "overlay",
              "size": 10,
              "solidity": 0.2
             }
            },
            "type": "barpolar"
           }
          ],
          "carpet": [
           {
            "aaxis": {
             "endlinecolor": "#2a3f5f",
             "gridcolor": "white",
             "linecolor": "white",
             "minorgridcolor": "white",
             "startlinecolor": "#2a3f5f"
            },
            "baxis": {
             "endlinecolor": "#2a3f5f",
             "gridcolor": "white",
             "linecolor": "white",
             "minorgridcolor": "white",
             "startlinecolor": "#2a3f5f"
            },
            "type": "carpet"
           }
          ],
          "choropleth": [
           {
            "colorbar": {
             "outlinewidth": 0,
             "ticks": ""
            },
            "type": "choropleth"
           }
          ],
          "contour": [
           {
            "colorbar": {
             "outlinewidth": 0,
             "ticks": ""
            },
            "colorscale": [
             [
              0,
              "#0d0887"
             ],
             [
              0.1111111111111111,
              "#46039f"
             ],
             [
              0.2222222222222222,
              "#7201a8"
             ],
             [
              0.3333333333333333,
              "#9c179e"
             ],
             [
              0.4444444444444444,
              "#bd3786"
             ],
             [
              0.5555555555555556,
              "#d8576b"
             ],
             [
              0.6666666666666666,
              "#ed7953"
             ],
             [
              0.7777777777777778,
              "#fb9f3a"
             ],
             [
              0.8888888888888888,
              "#fdca26"
             ],
             [
              1,
              "#f0f921"
             ]
            ],
            "type": "contour"
           }
          ],
          "contourcarpet": [
           {
            "colorbar": {
             "outlinewidth": 0,
             "ticks": ""
            },
            "type": "contourcarpet"
           }
          ],
          "heatmap": [
           {
            "colorbar": {
             "outlinewidth": 0,
             "ticks": ""
            },
            "colorscale": [
             [
              0,
              "#0d0887"
             ],
             [
              0.1111111111111111,
              "#46039f"
             ],
             [
              0.2222222222222222,
              "#7201a8"
             ],
             [
              0.3333333333333333,
              "#9c179e"
             ],
             [
              0.4444444444444444,
              "#bd3786"
             ],
             [
              0.5555555555555556,
              "#d8576b"
             ],
             [
              0.6666666666666666,
              "#ed7953"
             ],
             [
              0.7777777777777778,
              "#fb9f3a"
             ],
             [
              0.8888888888888888,
              "#fdca26"
             ],
             [
              1,
              "#f0f921"
             ]
            ],
            "type": "heatmap"
           }
          ],
          "heatmapgl": [
           {
            "colorbar": {
             "outlinewidth": 0,
             "ticks": ""
            },
            "colorscale": [
             [
              0,
              "#0d0887"
             ],
             [
              0.1111111111111111,
              "#46039f"
             ],
             [
              0.2222222222222222,
              "#7201a8"
             ],
             [
              0.3333333333333333,
              "#9c179e"
             ],
             [
              0.4444444444444444,
              "#bd3786"
             ],
             [
              0.5555555555555556,
              "#d8576b"
             ],
             [
              0.6666666666666666,
              "#ed7953"
             ],
             [
              0.7777777777777778,
              "#fb9f3a"
             ],
             [
              0.8888888888888888,
              "#fdca26"
             ],
             [
              1,
              "#f0f921"
             ]
            ],
            "type": "heatmapgl"
           }
          ],
          "histogram": [
           {
            "marker": {
             "pattern": {
              "fillmode": "overlay",
              "size": 10,
              "solidity": 0.2
             }
            },
            "type": "histogram"
           }
          ],
          "histogram2d": [
           {
            "colorbar": {
             "outlinewidth": 0,
             "ticks": ""
            },
            "colorscale": [
             [
              0,
              "#0d0887"
             ],
             [
              0.1111111111111111,
              "#46039f"
             ],
             [
              0.2222222222222222,
              "#7201a8"
             ],
             [
              0.3333333333333333,
              "#9c179e"
             ],
             [
              0.4444444444444444,
              "#bd3786"
             ],
             [
              0.5555555555555556,
              "#d8576b"
             ],
             [
              0.6666666666666666,
              "#ed7953"
             ],
             [
              0.7777777777777778,
              "#fb9f3a"
             ],
             [
              0.8888888888888888,
              "#fdca26"
             ],
             [
              1,
              "#f0f921"
             ]
            ],
            "type": "histogram2d"
           }
          ],
          "histogram2dcontour": [
           {
            "colorbar": {
             "outlinewidth": 0,
             "ticks": ""
            },
            "colorscale": [
             [
              0,
              "#0d0887"
             ],
             [
              0.1111111111111111,
              "#46039f"
             ],
             [
              0.2222222222222222,
              "#7201a8"
             ],
             [
              0.3333333333333333,
              "#9c179e"
             ],
             [
              0.4444444444444444,
              "#bd3786"
             ],
             [
              0.5555555555555556,
              "#d8576b"
             ],
             [
              0.6666666666666666,
              "#ed7953"
             ],
             [
              0.7777777777777778,
              "#fb9f3a"
             ],
             [
              0.8888888888888888,
              "#fdca26"
             ],
             [
              1,
              "#f0f921"
             ]
            ],
            "type": "histogram2dcontour"
           }
          ],
          "mesh3d": [
           {
            "colorbar": {
             "outlinewidth": 0,
             "ticks": ""
            },
            "type": "mesh3d"
           }
          ],
          "parcoords": [
           {
            "line": {
             "colorbar": {
              "outlinewidth": 0,
              "ticks": ""
             }
            },
            "type": "parcoords"
           }
          ],
          "pie": [
           {
            "automargin": true,
            "type": "pie"
           }
          ],
          "scatter": [
           {
            "fillpattern": {
             "fillmode": "overlay",
             "size": 10,
             "solidity": 0.2
            },
            "type": "scatter"
           }
          ],
          "scatter3d": [
           {
            "line": {
             "colorbar": {
              "outlinewidth": 0,
              "ticks": ""
             }
            },
            "marker": {
             "colorbar": {
              "outlinewidth": 0,
              "ticks": ""
             }
            },
            "type": "scatter3d"
           }
          ],
          "scattercarpet": [
           {
            "marker": {
             "colorbar": {
              "outlinewidth": 0,
              "ticks": ""
             }
            },
            "type": "scattercarpet"
           }
          ],
          "scattergeo": [
           {
            "marker": {
             "colorbar": {
              "outlinewidth": 0,
              "ticks": ""
             }
            },
            "type": "scattergeo"
           }
          ],
          "scattergl": [
           {
            "marker": {
             "colorbar": {
              "outlinewidth": 0,
              "ticks": ""
             }
            },
            "type": "scattergl"
           }
          ],
          "scattermapbox": [
           {
            "marker": {
             "colorbar": {
              "outlinewidth": 0,
              "ticks": ""
             }
            },
            "type": "scattermapbox"
           }
          ],
          "scatterpolar": [
           {
            "marker": {
             "colorbar": {
              "outlinewidth": 0,
              "ticks": ""
             }
            },
            "type": "scatterpolar"
           }
          ],
          "scatterpolargl": [
           {
            "marker": {
             "colorbar": {
              "outlinewidth": 0,
              "ticks": ""
             }
            },
            "type": "scatterpolargl"
           }
          ],
          "scatterternary": [
           {
            "marker": {
             "colorbar": {
              "outlinewidth": 0,
              "ticks": ""
             }
            },
            "type": "scatterternary"
           }
          ],
          "surface": [
           {
            "colorbar": {
             "outlinewidth": 0,
             "ticks": ""
            },
            "colorscale": [
             [
              0,
              "#0d0887"
             ],
             [
              0.1111111111111111,
              "#46039f"
             ],
             [
              0.2222222222222222,
              "#7201a8"
             ],
             [
              0.3333333333333333,
              "#9c179e"
             ],
             [
              0.4444444444444444,
              "#bd3786"
             ],
             [
              0.5555555555555556,
              "#d8576b"
             ],
             [
              0.6666666666666666,
              "#ed7953"
             ],
             [
              0.7777777777777778,
              "#fb9f3a"
             ],
             [
              0.8888888888888888,
              "#fdca26"
             ],
             [
              1,
              "#f0f921"
             ]
            ],
            "type": "surface"
           }
          ],
          "table": [
           {
            "cells": {
             "fill": {
              "color": "#EBF0F8"
             },
             "line": {
              "color": "white"
             }
            },
            "header": {
             "fill": {
              "color": "#C8D4E3"
             },
             "line": {
              "color": "white"
             }
            },
            "type": "table"
           }
          ]
         },
         "layout": {
          "annotationdefaults": {
           "arrowcolor": "#2a3f5f",
           "arrowhead": 0,
           "arrowwidth": 1
          },
          "autotypenumbers": "strict",
          "coloraxis": {
           "colorbar": {
            "outlinewidth": 0,
            "ticks": ""
           }
          },
          "colorscale": {
           "diverging": [
            [
             0,
             "#8e0152"
            ],
            [
             0.1,
             "#c51b7d"
            ],
            [
             0.2,
             "#de77ae"
            ],
            [
             0.3,
             "#f1b6da"
            ],
            [
             0.4,
             "#fde0ef"
            ],
            [
             0.5,
             "#f7f7f7"
            ],
            [
             0.6,
             "#e6f5d0"
            ],
            [
             0.7,
             "#b8e186"
            ],
            [
             0.8,
             "#7fbc41"
            ],
            [
             0.9,
             "#4d9221"
            ],
            [
             1,
             "#276419"
            ]
           ],
           "sequential": [
            [
             0,
             "#0d0887"
            ],
            [
             0.1111111111111111,
             "#46039f"
            ],
            [
             0.2222222222222222,
             "#7201a8"
            ],
            [
             0.3333333333333333,
             "#9c179e"
            ],
            [
             0.4444444444444444,
             "#bd3786"
            ],
            [
             0.5555555555555556,
             "#d8576b"
            ],
            [
             0.6666666666666666,
             "#ed7953"
            ],
            [
             0.7777777777777778,
             "#fb9f3a"
            ],
            [
             0.8888888888888888,
             "#fdca26"
            ],
            [
             1,
             "#f0f921"
            ]
           ],
           "sequentialminus": [
            [
             0,
             "#0d0887"
            ],
            [
             0.1111111111111111,
             "#46039f"
            ],
            [
             0.2222222222222222,
             "#7201a8"
            ],
            [
             0.3333333333333333,
             "#9c179e"
            ],
            [
             0.4444444444444444,
             "#bd3786"
            ],
            [
             0.5555555555555556,
             "#d8576b"
            ],
            [
             0.6666666666666666,
             "#ed7953"
            ],
            [
             0.7777777777777778,
             "#fb9f3a"
            ],
            [
             0.8888888888888888,
             "#fdca26"
            ],
            [
             1,
             "#f0f921"
            ]
           ]
          },
          "colorway": [
           "#636efa",
           "#EF553B",
           "#00cc96",
           "#ab63fa",
           "#FFA15A",
           "#19d3f3",
           "#FF6692",
           "#B6E880",
           "#FF97FF",
           "#FECB52"
          ],
          "font": {
           "color": "#2a3f5f"
          },
          "geo": {
           "bgcolor": "white",
           "lakecolor": "white",
           "landcolor": "#E5ECF6",
           "showlakes": true,
           "showland": true,
           "subunitcolor": "white"
          },
          "hoverlabel": {
           "align": "left"
          },
          "hovermode": "closest",
          "mapbox": {
           "style": "light"
          },
          "paper_bgcolor": "white",
          "plot_bgcolor": "#E5ECF6",
          "polar": {
           "angularaxis": {
            "gridcolor": "white",
            "linecolor": "white",
            "ticks": ""
           },
           "bgcolor": "#E5ECF6",
           "radialaxis": {
            "gridcolor": "white",
            "linecolor": "white",
            "ticks": ""
           }
          },
          "scene": {
           "xaxis": {
            "backgroundcolor": "#E5ECF6",
            "gridcolor": "white",
            "gridwidth": 2,
            "linecolor": "white",
            "showbackground": true,
            "ticks": "",
            "zerolinecolor": "white"
           },
           "yaxis": {
            "backgroundcolor": "#E5ECF6",
            "gridcolor": "white",
            "gridwidth": 2,
            "linecolor": "white",
            "showbackground": true,
            "ticks": "",
            "zerolinecolor": "white"
           },
           "zaxis": {
            "backgroundcolor": "#E5ECF6",
            "gridcolor": "white",
            "gridwidth": 2,
            "linecolor": "white",
            "showbackground": true,
            "ticks": "",
            "zerolinecolor": "white"
           }
          },
          "shapedefaults": {
           "line": {
            "color": "#2a3f5f"
           }
          },
          "ternary": {
           "aaxis": {
            "gridcolor": "white",
            "linecolor": "white",
            "ticks": ""
           },
           "baxis": {
            "gridcolor": "white",
            "linecolor": "white",
            "ticks": ""
           },
           "bgcolor": "#E5ECF6",
           "caxis": {
            "gridcolor": "white",
            "linecolor": "white",
            "ticks": ""
           }
          },
          "title": {
           "x": 0.05
          },
          "xaxis": {
           "automargin": true,
           "gridcolor": "white",
           "linecolor": "white",
           "ticks": "",
           "title": {
            "standoff": 15
           },
           "zerolinecolor": "white",
           "zerolinewidth": 2
          },
          "yaxis": {
           "automargin": true,
           "gridcolor": "white",
           "linecolor": "white",
           "ticks": "",
           "title": {
            "standoff": 15
           },
           "zerolinecolor": "white",
           "zerolinewidth": 2
          }
         }
        },
        "width": 300
       }
      }
     },
     "metadata": {},
     "output_type": "display_data"
    }
   ],
   "source": [
    "# Events histogram \n",
    "events_hist =  go.Histogram(x=fig_df[\"Events\"], name=\"Events\", marker=dict(color=events_colors))\n",
    "\n",
    "# Visualize\n",
    "data = [events_hist]\n",
    "fig = go.Figure(data = data)\n",
    "fig.update_layout(width=300, height=300)\n",
    "display(fig)"
   ]
  },
  {
   "cell_type": "code",
   "execution_count": 483,
   "metadata": {},
   "outputs": [
    {
     "data": {
      "application/vnd.plotly.v1+json": {
       "config": {
        "plotlyServerURL": "https://plot.ly"
       },
       "data": [
        {
         "cells": {
          "values": [
           [
            "Unique Patients",
            "Total Data Points"
           ],
           [
            52,
            800
           ]
          ]
         },
         "header": {
          "values": [
           "Category",
           "Count"
          ]
         },
         "type": "table"
        }
       ],
       "layout": {
        "height": 300,
        "template": {
         "data": {
          "bar": [
           {
            "error_x": {
             "color": "#2a3f5f"
            },
            "error_y": {
             "color": "#2a3f5f"
            },
            "marker": {
             "line": {
              "color": "#E5ECF6",
              "width": 0.5
             },
             "pattern": {
              "fillmode": "overlay",
              "size": 10,
              "solidity": 0.2
             }
            },
            "type": "bar"
           }
          ],
          "barpolar": [
           {
            "marker": {
             "line": {
              "color": "#E5ECF6",
              "width": 0.5
             },
             "pattern": {
              "fillmode": "overlay",
              "size": 10,
              "solidity": 0.2
             }
            },
            "type": "barpolar"
           }
          ],
          "carpet": [
           {
            "aaxis": {
             "endlinecolor": "#2a3f5f",
             "gridcolor": "white",
             "linecolor": "white",
             "minorgridcolor": "white",
             "startlinecolor": "#2a3f5f"
            },
            "baxis": {
             "endlinecolor": "#2a3f5f",
             "gridcolor": "white",
             "linecolor": "white",
             "minorgridcolor": "white",
             "startlinecolor": "#2a3f5f"
            },
            "type": "carpet"
           }
          ],
          "choropleth": [
           {
            "colorbar": {
             "outlinewidth": 0,
             "ticks": ""
            },
            "type": "choropleth"
           }
          ],
          "contour": [
           {
            "colorbar": {
             "outlinewidth": 0,
             "ticks": ""
            },
            "colorscale": [
             [
              0,
              "#0d0887"
             ],
             [
              0.1111111111111111,
              "#46039f"
             ],
             [
              0.2222222222222222,
              "#7201a8"
             ],
             [
              0.3333333333333333,
              "#9c179e"
             ],
             [
              0.4444444444444444,
              "#bd3786"
             ],
             [
              0.5555555555555556,
              "#d8576b"
             ],
             [
              0.6666666666666666,
              "#ed7953"
             ],
             [
              0.7777777777777778,
              "#fb9f3a"
             ],
             [
              0.8888888888888888,
              "#fdca26"
             ],
             [
              1,
              "#f0f921"
             ]
            ],
            "type": "contour"
           }
          ],
          "contourcarpet": [
           {
            "colorbar": {
             "outlinewidth": 0,
             "ticks": ""
            },
            "type": "contourcarpet"
           }
          ],
          "heatmap": [
           {
            "colorbar": {
             "outlinewidth": 0,
             "ticks": ""
            },
            "colorscale": [
             [
              0,
              "#0d0887"
             ],
             [
              0.1111111111111111,
              "#46039f"
             ],
             [
              0.2222222222222222,
              "#7201a8"
             ],
             [
              0.3333333333333333,
              "#9c179e"
             ],
             [
              0.4444444444444444,
              "#bd3786"
             ],
             [
              0.5555555555555556,
              "#d8576b"
             ],
             [
              0.6666666666666666,
              "#ed7953"
             ],
             [
              0.7777777777777778,
              "#fb9f3a"
             ],
             [
              0.8888888888888888,
              "#fdca26"
             ],
             [
              1,
              "#f0f921"
             ]
            ],
            "type": "heatmap"
           }
          ],
          "heatmapgl": [
           {
            "colorbar": {
             "outlinewidth": 0,
             "ticks": ""
            },
            "colorscale": [
             [
              0,
              "#0d0887"
             ],
             [
              0.1111111111111111,
              "#46039f"
             ],
             [
              0.2222222222222222,
              "#7201a8"
             ],
             [
              0.3333333333333333,
              "#9c179e"
             ],
             [
              0.4444444444444444,
              "#bd3786"
             ],
             [
              0.5555555555555556,
              "#d8576b"
             ],
             [
              0.6666666666666666,
              "#ed7953"
             ],
             [
              0.7777777777777778,
              "#fb9f3a"
             ],
             [
              0.8888888888888888,
              "#fdca26"
             ],
             [
              1,
              "#f0f921"
             ]
            ],
            "type": "heatmapgl"
           }
          ],
          "histogram": [
           {
            "marker": {
             "pattern": {
              "fillmode": "overlay",
              "size": 10,
              "solidity": 0.2
             }
            },
            "type": "histogram"
           }
          ],
          "histogram2d": [
           {
            "colorbar": {
             "outlinewidth": 0,
             "ticks": ""
            },
            "colorscale": [
             [
              0,
              "#0d0887"
             ],
             [
              0.1111111111111111,
              "#46039f"
             ],
             [
              0.2222222222222222,
              "#7201a8"
             ],
             [
              0.3333333333333333,
              "#9c179e"
             ],
             [
              0.4444444444444444,
              "#bd3786"
             ],
             [
              0.5555555555555556,
              "#d8576b"
             ],
             [
              0.6666666666666666,
              "#ed7953"
             ],
             [
              0.7777777777777778,
              "#fb9f3a"
             ],
             [
              0.8888888888888888,
              "#fdca26"
             ],
             [
              1,
              "#f0f921"
             ]
            ],
            "type": "histogram2d"
           }
          ],
          "histogram2dcontour": [
           {
            "colorbar": {
             "outlinewidth": 0,
             "ticks": ""
            },
            "colorscale": [
             [
              0,
              "#0d0887"
             ],
             [
              0.1111111111111111,
              "#46039f"
             ],
             [
              0.2222222222222222,
              "#7201a8"
             ],
             [
              0.3333333333333333,
              "#9c179e"
             ],
             [
              0.4444444444444444,
              "#bd3786"
             ],
             [
              0.5555555555555556,
              "#d8576b"
             ],
             [
              0.6666666666666666,
              "#ed7953"
             ],
             [
              0.7777777777777778,
              "#fb9f3a"
             ],
             [
              0.8888888888888888,
              "#fdca26"
             ],
             [
              1,
              "#f0f921"
             ]
            ],
            "type": "histogram2dcontour"
           }
          ],
          "mesh3d": [
           {
            "colorbar": {
             "outlinewidth": 0,
             "ticks": ""
            },
            "type": "mesh3d"
           }
          ],
          "parcoords": [
           {
            "line": {
             "colorbar": {
              "outlinewidth": 0,
              "ticks": ""
             }
            },
            "type": "parcoords"
           }
          ],
          "pie": [
           {
            "automargin": true,
            "type": "pie"
           }
          ],
          "scatter": [
           {
            "fillpattern": {
             "fillmode": "overlay",
             "size": 10,
             "solidity": 0.2
            },
            "type": "scatter"
           }
          ],
          "scatter3d": [
           {
            "line": {
             "colorbar": {
              "outlinewidth": 0,
              "ticks": ""
             }
            },
            "marker": {
             "colorbar": {
              "outlinewidth": 0,
              "ticks": ""
             }
            },
            "type": "scatter3d"
           }
          ],
          "scattercarpet": [
           {
            "marker": {
             "colorbar": {
              "outlinewidth": 0,
              "ticks": ""
             }
            },
            "type": "scattercarpet"
           }
          ],
          "scattergeo": [
           {
            "marker": {
             "colorbar": {
              "outlinewidth": 0,
              "ticks": ""
             }
            },
            "type": "scattergeo"
           }
          ],
          "scattergl": [
           {
            "marker": {
             "colorbar": {
              "outlinewidth": 0,
              "ticks": ""
             }
            },
            "type": "scattergl"
           }
          ],
          "scattermapbox": [
           {
            "marker": {
             "colorbar": {
              "outlinewidth": 0,
              "ticks": ""
             }
            },
            "type": "scattermapbox"
           }
          ],
          "scatterpolar": [
           {
            "marker": {
             "colorbar": {
              "outlinewidth": 0,
              "ticks": ""
             }
            },
            "type": "scatterpolar"
           }
          ],
          "scatterpolargl": [
           {
            "marker": {
             "colorbar": {
              "outlinewidth": 0,
              "ticks": ""
             }
            },
            "type": "scatterpolargl"
           }
          ],
          "scatterternary": [
           {
            "marker": {
             "colorbar": {
              "outlinewidth": 0,
              "ticks": ""
             }
            },
            "type": "scatterternary"
           }
          ],
          "surface": [
           {
            "colorbar": {
             "outlinewidth": 0,
             "ticks": ""
            },
            "colorscale": [
             [
              0,
              "#0d0887"
             ],
             [
              0.1111111111111111,
              "#46039f"
             ],
             [
              0.2222222222222222,
              "#7201a8"
             ],
             [
              0.3333333333333333,
              "#9c179e"
             ],
             [
              0.4444444444444444,
              "#bd3786"
             ],
             [
              0.5555555555555556,
              "#d8576b"
             ],
             [
              0.6666666666666666,
              "#ed7953"
             ],
             [
              0.7777777777777778,
              "#fb9f3a"
             ],
             [
              0.8888888888888888,
              "#fdca26"
             ],
             [
              1,
              "#f0f921"
             ]
            ],
            "type": "surface"
           }
          ],
          "table": [
           {
            "cells": {
             "fill": {
              "color": "#EBF0F8"
             },
             "line": {
              "color": "white"
             }
            },
            "header": {
             "fill": {
              "color": "#C8D4E3"
             },
             "line": {
              "color": "white"
             }
            },
            "type": "table"
           }
          ]
         },
         "layout": {
          "annotationdefaults": {
           "arrowcolor": "#2a3f5f",
           "arrowhead": 0,
           "arrowwidth": 1
          },
          "autotypenumbers": "strict",
          "coloraxis": {
           "colorbar": {
            "outlinewidth": 0,
            "ticks": ""
           }
          },
          "colorscale": {
           "diverging": [
            [
             0,
             "#8e0152"
            ],
            [
             0.1,
             "#c51b7d"
            ],
            [
             0.2,
             "#de77ae"
            ],
            [
             0.3,
             "#f1b6da"
            ],
            [
             0.4,
             "#fde0ef"
            ],
            [
             0.5,
             "#f7f7f7"
            ],
            [
             0.6,
             "#e6f5d0"
            ],
            [
             0.7,
             "#b8e186"
            ],
            [
             0.8,
             "#7fbc41"
            ],
            [
             0.9,
             "#4d9221"
            ],
            [
             1,
             "#276419"
            ]
           ],
           "sequential": [
            [
             0,
             "#0d0887"
            ],
            [
             0.1111111111111111,
             "#46039f"
            ],
            [
             0.2222222222222222,
             "#7201a8"
            ],
            [
             0.3333333333333333,
             "#9c179e"
            ],
            [
             0.4444444444444444,
             "#bd3786"
            ],
            [
             0.5555555555555556,
             "#d8576b"
            ],
            [
             0.6666666666666666,
             "#ed7953"
            ],
            [
             0.7777777777777778,
             "#fb9f3a"
            ],
            [
             0.8888888888888888,
             "#fdca26"
            ],
            [
             1,
             "#f0f921"
            ]
           ],
           "sequentialminus": [
            [
             0,
             "#0d0887"
            ],
            [
             0.1111111111111111,
             "#46039f"
            ],
            [
             0.2222222222222222,
             "#7201a8"
            ],
            [
             0.3333333333333333,
             "#9c179e"
            ],
            [
             0.4444444444444444,
             "#bd3786"
            ],
            [
             0.5555555555555556,
             "#d8576b"
            ],
            [
             0.6666666666666666,
             "#ed7953"
            ],
            [
             0.7777777777777778,
             "#fb9f3a"
            ],
            [
             0.8888888888888888,
             "#fdca26"
            ],
            [
             1,
             "#f0f921"
            ]
           ]
          },
          "colorway": [
           "#636efa",
           "#EF553B",
           "#00cc96",
           "#ab63fa",
           "#FFA15A",
           "#19d3f3",
           "#FF6692",
           "#B6E880",
           "#FF97FF",
           "#FECB52"
          ],
          "font": {
           "color": "#2a3f5f"
          },
          "geo": {
           "bgcolor": "white",
           "lakecolor": "white",
           "landcolor": "#E5ECF6",
           "showlakes": true,
           "showland": true,
           "subunitcolor": "white"
          },
          "hoverlabel": {
           "align": "left"
          },
          "hovermode": "closest",
          "mapbox": {
           "style": "light"
          },
          "paper_bgcolor": "white",
          "plot_bgcolor": "#E5ECF6",
          "polar": {
           "angularaxis": {
            "gridcolor": "white",
            "linecolor": "white",
            "ticks": ""
           },
           "bgcolor": "#E5ECF6",
           "radialaxis": {
            "gridcolor": "white",
            "linecolor": "white",
            "ticks": ""
           }
          },
          "scene": {
           "xaxis": {
            "backgroundcolor": "#E5ECF6",
            "gridcolor": "white",
            "gridwidth": 2,
            "linecolor": "white",
            "showbackground": true,
            "ticks": "",
            "zerolinecolor": "white"
           },
           "yaxis": {
            "backgroundcolor": "#E5ECF6",
            "gridcolor": "white",
            "gridwidth": 2,
            "linecolor": "white",
            "showbackground": true,
            "ticks": "",
            "zerolinecolor": "white"
           },
           "zaxis": {
            "backgroundcolor": "#E5ECF6",
            "gridcolor": "white",
            "gridwidth": 2,
            "linecolor": "white",
            "showbackground": true,
            "ticks": "",
            "zerolinecolor": "white"
           }
          },
          "shapedefaults": {
           "line": {
            "color": "#2a3f5f"
           }
          },
          "ternary": {
           "aaxis": {
            "gridcolor": "white",
            "linecolor": "white",
            "ticks": ""
           },
           "baxis": {
            "gridcolor": "white",
            "linecolor": "white",
            "ticks": ""
           },
           "bgcolor": "#E5ECF6",
           "caxis": {
            "gridcolor": "white",
            "linecolor": "white",
            "ticks": ""
           }
          },
          "title": {
           "x": 0.05
          },
          "xaxis": {
           "automargin": true,
           "gridcolor": "white",
           "linecolor": "white",
           "ticks": "",
           "title": {
            "standoff": 15
           },
           "zerolinecolor": "white",
           "zerolinewidth": 2
          },
          "yaxis": {
           "automargin": true,
           "gridcolor": "white",
           "linecolor": "white",
           "ticks": "",
           "title": {
            "standoff": 15
           },
           "zerolinecolor": "white",
           "zerolinewidth": 2
          }
         }
        },
        "width": 300
       }
      }
     },
     "metadata": {},
     "output_type": "display_data"
    }
   ],
   "source": [
    "# Create a summary table\n",
    "unique_patients = fig_df['Record ID'].nunique()\n",
    "total_data_points = len(fig_df)\n",
    "\n",
    "data_summary = pd.DataFrame({\n",
    "    'Category': ['Unique Patients', 'Total Data Points'],\n",
    "    'Count': [unique_patients, total_data_points]\n",
    "})\n",
    "\n",
    "patients_table = go.Table(\n",
    "    header=dict(values=[\"Category\", \"Count\"]),\n",
    "    cells=dict(values=[data_summary['Category'], data_summary['Count']])\n",
    ")\n",
    "\n",
    "# Visualize\n",
    "data = [patients_table]\n",
    "fig = go.Figure(data = data)\n",
    "fig.update_layout(width=300, height=300)\n",
    "display(fig)"
   ]
  },
  {
   "cell_type": "code",
   "execution_count": 484,
   "metadata": {},
   "outputs": [
    {
     "data": {
      "application/vnd.plotly.v1+json": {
       "config": {
        "plotlyServerURL": "https://plot.ly"
       },
       "data": [
        {
         "domain": {
          "x": [
           0,
           0.2888888888888889
          ],
          "y": [
           0.625,
           1
          ]
         },
         "labels": [
          "Female",
          "Male"
         ],
         "marker": {
          "colors": [
           "#d9ed92",
           "#99d98c"
          ]
         },
         "type": "pie",
         "values": [
          28,
          24
         ]
        },
        {
         "domain": {
          "x": [
           0.35555555555555557,
           0.6444444444444445
          ],
          "y": [
           0.625,
           1
          ]
         },
         "labels": [
          "White",
          "Non-White"
         ],
         "marker": {
          "colors": [
           "#184e77",
           "#1a759f"
          ]
         },
         "type": "pie",
         "values": [
          28,
          24
         ]
        },
        {
         "marker": {
          "color": "#1a759f"
         },
         "name": "Events",
         "type": "histogram",
         "x": [
          3,
          5,
          4,
          5,
          2,
          2,
          4,
          0,
          1,
          2,
          2,
          1,
          4,
          1,
          4,
          3,
          4,
          2,
          1,
          3,
          2,
          4,
          1,
          2,
          4,
          5,
          3,
          4,
          2,
          3,
          3,
          4,
          4,
          6,
          4,
          1,
          3,
          1,
          3,
          5,
          2,
          2,
          4,
          3,
          3,
          2,
          4,
          3,
          4,
          1,
          3,
          2,
          3,
          5,
          4,
          5,
          2,
          2,
          4,
          0,
          1,
          2,
          2,
          1,
          4,
          1,
          4,
          3,
          4,
          2,
          1,
          3,
          2,
          4,
          1,
          2,
          4,
          5,
          3,
          4,
          2,
          3,
          3,
          4,
          4,
          6,
          4,
          1,
          3,
          1,
          3,
          5,
          2,
          2,
          4,
          3,
          3,
          2,
          4,
          3,
          4,
          1,
          3,
          2,
          3,
          5,
          4,
          5,
          2,
          2,
          4,
          0,
          1,
          2,
          2,
          1,
          4,
          1,
          4,
          3,
          4,
          2,
          1,
          3,
          2,
          4,
          1,
          2,
          4,
          5,
          3,
          4,
          2,
          3,
          3,
          4,
          4,
          6,
          4,
          1,
          3,
          1,
          3,
          5,
          2,
          2,
          4,
          3,
          3,
          2,
          4,
          3,
          4,
          1,
          3,
          2,
          3,
          5,
          4,
          5,
          2,
          2,
          4,
          0,
          1,
          2,
          2,
          1,
          4,
          1,
          4,
          3,
          4,
          2,
          1,
          3,
          2,
          4,
          1,
          2,
          4,
          5,
          3,
          4,
          2,
          3,
          3,
          4,
          4,
          6,
          4,
          1,
          3,
          1,
          3,
          5,
          2,
          2,
          4,
          3,
          3,
          2,
          4,
          3,
          4,
          1,
          3,
          2,
          3,
          5,
          4,
          5,
          2,
          2,
          4,
          0,
          1,
          2,
          2,
          1,
          4,
          1,
          4,
          3,
          4,
          2,
          1,
          3,
          2,
          4,
          1,
          2,
          4,
          5,
          3,
          4,
          2,
          3,
          3,
          4,
          4,
          6,
          4,
          1,
          3,
          1,
          3,
          5,
          2,
          2,
          4,
          3,
          3,
          2,
          4,
          3,
          4,
          1,
          3,
          2,
          3,
          5,
          4,
          5,
          2,
          2,
          4,
          0,
          1,
          2,
          2,
          1,
          4,
          1,
          4,
          3,
          4,
          2,
          1,
          3,
          2,
          4,
          1,
          2,
          4,
          5,
          3,
          4,
          2,
          3,
          3,
          4,
          4,
          6,
          4,
          1,
          3,
          1,
          3,
          5,
          2,
          2,
          4,
          3,
          3,
          2,
          4,
          3,
          4,
          1,
          3,
          2,
          3,
          5,
          4,
          5,
          2,
          2,
          4,
          0,
          1,
          2,
          2,
          1,
          4,
          1,
          4,
          3,
          4,
          2,
          1,
          3,
          2,
          4,
          1,
          2,
          4,
          5,
          3,
          4,
          2,
          3,
          3,
          4,
          4,
          6,
          4,
          1,
          3,
          1,
          3,
          5,
          2,
          2,
          4,
          3,
          3,
          2,
          4,
          3,
          4,
          1,
          3,
          2,
          3,
          5,
          4,
          5,
          2,
          2,
          4,
          0,
          1,
          2,
          2,
          1,
          4,
          1,
          4,
          3,
          4,
          2,
          1,
          3,
          2,
          4,
          1,
          2,
          4,
          5,
          3,
          4,
          2,
          3,
          3,
          4,
          4,
          6,
          4,
          1,
          3,
          1,
          3,
          5,
          2,
          2,
          4,
          3,
          3,
          2,
          4,
          3,
          4,
          1,
          3,
          2,
          3,
          5,
          4,
          5,
          2,
          2,
          4,
          0,
          1,
          2,
          2,
          1,
          4,
          1,
          4,
          3,
          4,
          2,
          1,
          3,
          2,
          4,
          1,
          2,
          4,
          5,
          3,
          4,
          2,
          3,
          3,
          4,
          4,
          6,
          4,
          1,
          3,
          1,
          3,
          5,
          2,
          2,
          4,
          3,
          3,
          2,
          4,
          3,
          4,
          1,
          3,
          2,
          3,
          5,
          4,
          5,
          2,
          2,
          4,
          0,
          1,
          2,
          2,
          1,
          4,
          1,
          4,
          3,
          4,
          2,
          1,
          3,
          2,
          4,
          1,
          2,
          4,
          5,
          3,
          4,
          2,
          3,
          3,
          4,
          4,
          6,
          4,
          1,
          3,
          1,
          3,
          5,
          2,
          2,
          4,
          3,
          3,
          2,
          4,
          3,
          4,
          1,
          3,
          2,
          3,
          5,
          4,
          5,
          2,
          2,
          4,
          0,
          1,
          2,
          2,
          1,
          4,
          1,
          4,
          3,
          4,
          2,
          1,
          3,
          2,
          4,
          1,
          2,
          4,
          5,
          3,
          4,
          2,
          3,
          3,
          4,
          4,
          6,
          4,
          1,
          3,
          1,
          3,
          5,
          2,
          2,
          4,
          3,
          3,
          2,
          4,
          3,
          4,
          1,
          3,
          2,
          3,
          5,
          4,
          5,
          2,
          2,
          4,
          0,
          1,
          2,
          2,
          1,
          4,
          1,
          4,
          3,
          4,
          2,
          1,
          3,
          2,
          4,
          1,
          2,
          4,
          5,
          3,
          4,
          2,
          3,
          3,
          4,
          4,
          6,
          4,
          1,
          3,
          1,
          3,
          5,
          2,
          2,
          4,
          3,
          3,
          2,
          4,
          3,
          4,
          1,
          3,
          2,
          3,
          5,
          4,
          5,
          2,
          2,
          4,
          0,
          1,
          2,
          2,
          1,
          4,
          1,
          4,
          3,
          4,
          2,
          1,
          3,
          2,
          4,
          1,
          2,
          4,
          5,
          3,
          4,
          2,
          3,
          3,
          4,
          4,
          6,
          4,
          1,
          3,
          1,
          3,
          5,
          2,
          2,
          4,
          3,
          3,
          2,
          4,
          3,
          4,
          1,
          3,
          2,
          3,
          5,
          4,
          5,
          2,
          2,
          4,
          0,
          1,
          2,
          2,
          1,
          4,
          1,
          4,
          3,
          4,
          2,
          1,
          3,
          2,
          4,
          1,
          2,
          4,
          5,
          3,
          4,
          2,
          3,
          3,
          4,
          4,
          6,
          4,
          1,
          3,
          1,
          3,
          5,
          2,
          2,
          4,
          3,
          3,
          2,
          4,
          3,
          4,
          1,
          3,
          2,
          3,
          5,
          4,
          5,
          2,
          2,
          4,
          0,
          1,
          2,
          2,
          1,
          4,
          1,
          4,
          3,
          4,
          2,
          1,
          3,
          2,
          4,
          1,
          2,
          4,
          5,
          3,
          4,
          2,
          3,
          3,
          4,
          4,
          6,
          4,
          1,
          3,
          1,
          3,
          5,
          2,
          2,
          4,
          3,
          3,
          2,
          4,
          3,
          4,
          1,
          3,
          2,
          3,
          5,
          4,
          5,
          2,
          2,
          4,
          0,
          1,
          2,
          2,
          1,
          4,
          1,
          4,
          3,
          4,
          2,
          1,
          3
         ],
         "xaxis": "x",
         "yaxis": "y"
        },
        {
         "marker": {
          "color": "#1e6091"
         },
         "name": "BMI",
         "type": "histogram",
         "x": [
          40.37364314167848,
          15.6197502942692,
          37.47092140509929,
          15.88821409016035,
          31.97973319162682,
          28.1739517252042,
          23.93538267523092,
          23.75772644599179,
          16.47121699014891,
          16.39503531809196,
          15.74143565841061,
          23.25016159025016,
          30.18603788432717,
          42.07038669937084,
          33.92894892881829,
          39.65184792086399,
          36.4954655526526,
          27.87831249269034,
          18.80360081625233,
          40.3260575345188,
          40.45171270209357,
          36.15942191585318,
          24.7002931233234,
          38.93539128821769,
          35.2294577235436,
          23.38795080248004,
          14.11323649758434,
          31.59448379584371,
          30.04512688679085,
          22.5117083868218,
          31.77942116556589,
          33.79795596250194,
          36.15253936526006,
          26.74763263887642,
          35.0347209412711,
          42.00604123804371,
          18.30936410330949,
          31.79276557491649,
          22.00302791260598,
          33.93478036972154,
          24.06716297139123,
          37.6493551535287,
          37.63682996438092,
          24.64465081136552,
          22.84846573619816,
          39.13147738785178,
          32.07855927549254,
          38.77623321968011,
          20.83495672791886,
          39.53891929156112,
          19.08268725455712,
          31.2575316065812
         ],
         "xaxis": "x2",
         "yaxis": "y2"
        },
        {
         "marker": {
          "color": "#52b69a"
         },
         "name": "Age",
         "type": "histogram",
         "x": [
          81,
          70,
          88,
          78,
          84,
          83,
          79,
          86,
          85,
          79,
          75,
          91,
          61,
          89,
          67,
          85,
          81,
          72,
          91,
          89,
          75,
          79,
          78,
          60,
          72,
          61,
          69,
          73,
          79,
          61,
          77,
          64,
          87,
          73,
          91,
          63,
          81,
          66,
          76,
          80,
          84,
          79,
          84,
          86,
          61,
          71,
          60,
          71,
          63,
          85,
          83,
          79
         ],
         "xaxis": "x3",
         "yaxis": "y3"
        },
        {
         "cells": {
          "values": [
           [
            "Unique Patients",
            "Total Data Points"
           ],
           [
            52,
            800
           ]
          ]
         },
         "domain": {
          "x": [
           0.7111111111111111,
           1
          ],
          "y": [
           0,
           0.375
          ]
         },
         "header": {
          "values": [
           "Category",
           "Count"
          ]
         },
         "type": "table"
        }
       ],
       "layout": {
        "annotations": [
         {
          "font": {
           "size": 16
          },
          "showarrow": false,
          "text": "Gender Distribution",
          "x": 0.14444444444444446,
          "xanchor": "center",
          "xref": "paper",
          "y": 1,
          "yanchor": "bottom",
          "yref": "paper"
         },
         {
          "font": {
           "size": 16
          },
          "showarrow": false,
          "text": "Ethnicity Distribution",
          "x": 0.5,
          "xanchor": "center",
          "xref": "paper",
          "y": 1,
          "yanchor": "bottom",
          "yref": "paper"
         },
         {
          "font": {
           "size": 16
          },
          "showarrow": false,
          "text": "Thrombotic event",
          "x": 0.8555555555555556,
          "xanchor": "center",
          "xref": "paper",
          "y": 1,
          "yanchor": "bottom",
          "yref": "paper"
         },
         {
          "font": {
           "size": 16
          },
          "showarrow": false,
          "text": "BMI",
          "x": 0.14444444444444446,
          "xanchor": "center",
          "xref": "paper",
          "y": 0.375,
          "yanchor": "bottom",
          "yref": "paper"
         },
         {
          "font": {
           "size": 16
          },
          "showarrow": false,
          "text": "Age",
          "x": 0.5,
          "xanchor": "center",
          "xref": "paper",
          "y": 0.375,
          "yanchor": "bottom",
          "yref": "paper"
         },
         {
          "font": {
           "size": 16
          },
          "showarrow": false,
          "text": "Data Summary",
          "x": 0.8555555555555556,
          "xanchor": "center",
          "xref": "paper",
          "y": 0.375,
          "yanchor": "bottom",
          "yref": "paper"
         }
        ],
        "height": 600,
        "template": {
         "data": {
          "bar": [
           {
            "error_x": {
             "color": "#2a3f5f"
            },
            "error_y": {
             "color": "#2a3f5f"
            },
            "marker": {
             "line": {
              "color": "#E5ECF6",
              "width": 0.5
             },
             "pattern": {
              "fillmode": "overlay",
              "size": 10,
              "solidity": 0.2
             }
            },
            "type": "bar"
           }
          ],
          "barpolar": [
           {
            "marker": {
             "line": {
              "color": "#E5ECF6",
              "width": 0.5
             },
             "pattern": {
              "fillmode": "overlay",
              "size": 10,
              "solidity": 0.2
             }
            },
            "type": "barpolar"
           }
          ],
          "carpet": [
           {
            "aaxis": {
             "endlinecolor": "#2a3f5f",
             "gridcolor": "white",
             "linecolor": "white",
             "minorgridcolor": "white",
             "startlinecolor": "#2a3f5f"
            },
            "baxis": {
             "endlinecolor": "#2a3f5f",
             "gridcolor": "white",
             "linecolor": "white",
             "minorgridcolor": "white",
             "startlinecolor": "#2a3f5f"
            },
            "type": "carpet"
           }
          ],
          "choropleth": [
           {
            "colorbar": {
             "outlinewidth": 0,
             "ticks": ""
            },
            "type": "choropleth"
           }
          ],
          "contour": [
           {
            "colorbar": {
             "outlinewidth": 0,
             "ticks": ""
            },
            "colorscale": [
             [
              0,
              "#0d0887"
             ],
             [
              0.1111111111111111,
              "#46039f"
             ],
             [
              0.2222222222222222,
              "#7201a8"
             ],
             [
              0.3333333333333333,
              "#9c179e"
             ],
             [
              0.4444444444444444,
              "#bd3786"
             ],
             [
              0.5555555555555556,
              "#d8576b"
             ],
             [
              0.6666666666666666,
              "#ed7953"
             ],
             [
              0.7777777777777778,
              "#fb9f3a"
             ],
             [
              0.8888888888888888,
              "#fdca26"
             ],
             [
              1,
              "#f0f921"
             ]
            ],
            "type": "contour"
           }
          ],
          "contourcarpet": [
           {
            "colorbar": {
             "outlinewidth": 0,
             "ticks": ""
            },
            "type": "contourcarpet"
           }
          ],
          "heatmap": [
           {
            "colorbar": {
             "outlinewidth": 0,
             "ticks": ""
            },
            "colorscale": [
             [
              0,
              "#0d0887"
             ],
             [
              0.1111111111111111,
              "#46039f"
             ],
             [
              0.2222222222222222,
              "#7201a8"
             ],
             [
              0.3333333333333333,
              "#9c179e"
             ],
             [
              0.4444444444444444,
              "#bd3786"
             ],
             [
              0.5555555555555556,
              "#d8576b"
             ],
             [
              0.6666666666666666,
              "#ed7953"
             ],
             [
              0.7777777777777778,
              "#fb9f3a"
             ],
             [
              0.8888888888888888,
              "#fdca26"
             ],
             [
              1,
              "#f0f921"
             ]
            ],
            "type": "heatmap"
           }
          ],
          "heatmapgl": [
           {
            "colorbar": {
             "outlinewidth": 0,
             "ticks": ""
            },
            "colorscale": [
             [
              0,
              "#0d0887"
             ],
             [
              0.1111111111111111,
              "#46039f"
             ],
             [
              0.2222222222222222,
              "#7201a8"
             ],
             [
              0.3333333333333333,
              "#9c179e"
             ],
             [
              0.4444444444444444,
              "#bd3786"
             ],
             [
              0.5555555555555556,
              "#d8576b"
             ],
             [
              0.6666666666666666,
              "#ed7953"
             ],
             [
              0.7777777777777778,
              "#fb9f3a"
             ],
             [
              0.8888888888888888,
              "#fdca26"
             ],
             [
              1,
              "#f0f921"
             ]
            ],
            "type": "heatmapgl"
           }
          ],
          "histogram": [
           {
            "marker": {
             "pattern": {
              "fillmode": "overlay",
              "size": 10,
              "solidity": 0.2
             }
            },
            "type": "histogram"
           }
          ],
          "histogram2d": [
           {
            "colorbar": {
             "outlinewidth": 0,
             "ticks": ""
            },
            "colorscale": [
             [
              0,
              "#0d0887"
             ],
             [
              0.1111111111111111,
              "#46039f"
             ],
             [
              0.2222222222222222,
              "#7201a8"
             ],
             [
              0.3333333333333333,
              "#9c179e"
             ],
             [
              0.4444444444444444,
              "#bd3786"
             ],
             [
              0.5555555555555556,
              "#d8576b"
             ],
             [
              0.6666666666666666,
              "#ed7953"
             ],
             [
              0.7777777777777778,
              "#fb9f3a"
             ],
             [
              0.8888888888888888,
              "#fdca26"
             ],
             [
              1,
              "#f0f921"
             ]
            ],
            "type": "histogram2d"
           }
          ],
          "histogram2dcontour": [
           {
            "colorbar": {
             "outlinewidth": 0,
             "ticks": ""
            },
            "colorscale": [
             [
              0,
              "#0d0887"
             ],
             [
              0.1111111111111111,
              "#46039f"
             ],
             [
              0.2222222222222222,
              "#7201a8"
             ],
             [
              0.3333333333333333,
              "#9c179e"
             ],
             [
              0.4444444444444444,
              "#bd3786"
             ],
             [
              0.5555555555555556,
              "#d8576b"
             ],
             [
              0.6666666666666666,
              "#ed7953"
             ],
             [
              0.7777777777777778,
              "#fb9f3a"
             ],
             [
              0.8888888888888888,
              "#fdca26"
             ],
             [
              1,
              "#f0f921"
             ]
            ],
            "type": "histogram2dcontour"
           }
          ],
          "mesh3d": [
           {
            "colorbar": {
             "outlinewidth": 0,
             "ticks": ""
            },
            "type": "mesh3d"
           }
          ],
          "parcoords": [
           {
            "line": {
             "colorbar": {
              "outlinewidth": 0,
              "ticks": ""
             }
            },
            "type": "parcoords"
           }
          ],
          "pie": [
           {
            "automargin": true,
            "type": "pie"
           }
          ],
          "scatter": [
           {
            "fillpattern": {
             "fillmode": "overlay",
             "size": 10,
             "solidity": 0.2
            },
            "type": "scatter"
           }
          ],
          "scatter3d": [
           {
            "line": {
             "colorbar": {
              "outlinewidth": 0,
              "ticks": ""
             }
            },
            "marker": {
             "colorbar": {
              "outlinewidth": 0,
              "ticks": ""
             }
            },
            "type": "scatter3d"
           }
          ],
          "scattercarpet": [
           {
            "marker": {
             "colorbar": {
              "outlinewidth": 0,
              "ticks": ""
             }
            },
            "type": "scattercarpet"
           }
          ],
          "scattergeo": [
           {
            "marker": {
             "colorbar": {
              "outlinewidth": 0,
              "ticks": ""
             }
            },
            "type": "scattergeo"
           }
          ],
          "scattergl": [
           {
            "marker": {
             "colorbar": {
              "outlinewidth": 0,
              "ticks": ""
             }
            },
            "type": "scattergl"
           }
          ],
          "scattermapbox": [
           {
            "marker": {
             "colorbar": {
              "outlinewidth": 0,
              "ticks": ""
             }
            },
            "type": "scattermapbox"
           }
          ],
          "scatterpolar": [
           {
            "marker": {
             "colorbar": {
              "outlinewidth": 0,
              "ticks": ""
             }
            },
            "type": "scatterpolar"
           }
          ],
          "scatterpolargl": [
           {
            "marker": {
             "colorbar": {
              "outlinewidth": 0,
              "ticks": ""
             }
            },
            "type": "scatterpolargl"
           }
          ],
          "scatterternary": [
           {
            "marker": {
             "colorbar": {
              "outlinewidth": 0,
              "ticks": ""
             }
            },
            "type": "scatterternary"
           }
          ],
          "surface": [
           {
            "colorbar": {
             "outlinewidth": 0,
             "ticks": ""
            },
            "colorscale": [
             [
              0,
              "#0d0887"
             ],
             [
              0.1111111111111111,
              "#46039f"
             ],
             [
              0.2222222222222222,
              "#7201a8"
             ],
             [
              0.3333333333333333,
              "#9c179e"
             ],
             [
              0.4444444444444444,
              "#bd3786"
             ],
             [
              0.5555555555555556,
              "#d8576b"
             ],
             [
              0.6666666666666666,
              "#ed7953"
             ],
             [
              0.7777777777777778,
              "#fb9f3a"
             ],
             [
              0.8888888888888888,
              "#fdca26"
             ],
             [
              1,
              "#f0f921"
             ]
            ],
            "type": "surface"
           }
          ],
          "table": [
           {
            "cells": {
             "fill": {
              "color": "#EBF0F8"
             },
             "line": {
              "color": "white"
             }
            },
            "header": {
             "fill": {
              "color": "#C8D4E3"
             },
             "line": {
              "color": "white"
             }
            },
            "type": "table"
           }
          ]
         },
         "layout": {
          "annotationdefaults": {
           "arrowcolor": "#2a3f5f",
           "arrowhead": 0,
           "arrowwidth": 1
          },
          "autotypenumbers": "strict",
          "coloraxis": {
           "colorbar": {
            "outlinewidth": 0,
            "ticks": ""
           }
          },
          "colorscale": {
           "diverging": [
            [
             0,
             "#8e0152"
            ],
            [
             0.1,
             "#c51b7d"
            ],
            [
             0.2,
             "#de77ae"
            ],
            [
             0.3,
             "#f1b6da"
            ],
            [
             0.4,
             "#fde0ef"
            ],
            [
             0.5,
             "#f7f7f7"
            ],
            [
             0.6,
             "#e6f5d0"
            ],
            [
             0.7,
             "#b8e186"
            ],
            [
             0.8,
             "#7fbc41"
            ],
            [
             0.9,
             "#4d9221"
            ],
            [
             1,
             "#276419"
            ]
           ],
           "sequential": [
            [
             0,
             "#0d0887"
            ],
            [
             0.1111111111111111,
             "#46039f"
            ],
            [
             0.2222222222222222,
             "#7201a8"
            ],
            [
             0.3333333333333333,
             "#9c179e"
            ],
            [
             0.4444444444444444,
             "#bd3786"
            ],
            [
             0.5555555555555556,
             "#d8576b"
            ],
            [
             0.6666666666666666,
             "#ed7953"
            ],
            [
             0.7777777777777778,
             "#fb9f3a"
            ],
            [
             0.8888888888888888,
             "#fdca26"
            ],
            [
             1,
             "#f0f921"
            ]
           ],
           "sequentialminus": [
            [
             0,
             "#0d0887"
            ],
            [
             0.1111111111111111,
             "#46039f"
            ],
            [
             0.2222222222222222,
             "#7201a8"
            ],
            [
             0.3333333333333333,
             "#9c179e"
            ],
            [
             0.4444444444444444,
             "#bd3786"
            ],
            [
             0.5555555555555556,
             "#d8576b"
            ],
            [
             0.6666666666666666,
             "#ed7953"
            ],
            [
             0.7777777777777778,
             "#fb9f3a"
            ],
            [
             0.8888888888888888,
             "#fdca26"
            ],
            [
             1,
             "#f0f921"
            ]
           ]
          },
          "colorway": [
           "#636efa",
           "#EF553B",
           "#00cc96",
           "#ab63fa",
           "#FFA15A",
           "#19d3f3",
           "#FF6692",
           "#B6E880",
           "#FF97FF",
           "#FECB52"
          ],
          "font": {
           "color": "#2a3f5f"
          },
          "geo": {
           "bgcolor": "white",
           "lakecolor": "white",
           "landcolor": "#E5ECF6",
           "showlakes": true,
           "showland": true,
           "subunitcolor": "white"
          },
          "hoverlabel": {
           "align": "left"
          },
          "hovermode": "closest",
          "mapbox": {
           "style": "light"
          },
          "paper_bgcolor": "white",
          "plot_bgcolor": "#E5ECF6",
          "polar": {
           "angularaxis": {
            "gridcolor": "white",
            "linecolor": "white",
            "ticks": ""
           },
           "bgcolor": "#E5ECF6",
           "radialaxis": {
            "gridcolor": "white",
            "linecolor": "white",
            "ticks": ""
           }
          },
          "scene": {
           "xaxis": {
            "backgroundcolor": "#E5ECF6",
            "gridcolor": "white",
            "gridwidth": 2,
            "linecolor": "white",
            "showbackground": true,
            "ticks": "",
            "zerolinecolor": "white"
           },
           "yaxis": {
            "backgroundcolor": "#E5ECF6",
            "gridcolor": "white",
            "gridwidth": 2,
            "linecolor": "white",
            "showbackground": true,
            "ticks": "",
            "zerolinecolor": "white"
           },
           "zaxis": {
            "backgroundcolor": "#E5ECF6",
            "gridcolor": "white",
            "gridwidth": 2,
            "linecolor": "white",
            "showbackground": true,
            "ticks": "",
            "zerolinecolor": "white"
           }
          },
          "shapedefaults": {
           "line": {
            "color": "#2a3f5f"
           }
          },
          "ternary": {
           "aaxis": {
            "gridcolor": "white",
            "linecolor": "white",
            "ticks": ""
           },
           "baxis": {
            "gridcolor": "white",
            "linecolor": "white",
            "ticks": ""
           },
           "bgcolor": "#E5ECF6",
           "caxis": {
            "gridcolor": "white",
            "linecolor": "white",
            "ticks": ""
           }
          },
          "title": {
           "x": 0.05
          },
          "xaxis": {
           "automargin": true,
           "gridcolor": "white",
           "linecolor": "white",
           "ticks": "",
           "title": {
            "standoff": 15
           },
           "zerolinecolor": "white",
           "zerolinewidth": 2
          },
          "yaxis": {
           "automargin": true,
           "gridcolor": "white",
           "linecolor": "white",
           "ticks": "",
           "title": {
            "standoff": 15
           },
           "zerolinecolor": "white",
           "zerolinewidth": 2
          }
         }
        },
        "width": 900,
        "xaxis": {
         "anchor": "y",
         "domain": [
          0.7111111111111111,
          1
         ]
        },
        "xaxis2": {
         "anchor": "y2",
         "domain": [
          0,
          0.2888888888888889
         ]
        },
        "xaxis3": {
         "anchor": "y3",
         "domain": [
          0.35555555555555557,
          0.6444444444444445
         ]
        },
        "yaxis": {
         "anchor": "x",
         "domain": [
          0.625,
          1
         ]
        },
        "yaxis2": {
         "anchor": "x2",
         "domain": [
          0,
          0.375
         ]
        },
        "yaxis3": {
         "anchor": "x3",
         "domain": [
          0,
          0.375
         ]
        }
       }
      }
     },
     "metadata": {},
     "output_type": "display_data"
    }
   ],
   "source": [
    "# Create subplots\n",
    "fig = make_subplots(rows=2, cols=3,\n",
    "                    specs=[[{'type':'domain'}, {'type':'domain'},{'type':'xy'}],\n",
    "                            [{'type':'xy'}, {'type':'xy'},{'type':'domain'}]],\n",
    "                    subplot_titles=['Gender Distribution', 'Ethnicity Distribution', 'Thrombotic event', 'BMI',\n",
    "                                    'Age', 'Data Summary'])\n",
    "\n",
    "fig.add_trace(sex_pie, row=1, col=1)\n",
    "fig.add_trace(white_pie, row=1, col=2)\n",
    "fig.add_trace(events_hist, row=1, col=3)\n",
    "fig.add_trace(bmi_hist, row=2, col=1)\n",
    "fig.add_trace(age_hist, row=2, col=2)\n",
    "fig.add_trace(patients_table, row=2, col=3)\n",
    "\n",
    "fig.update_layout(width=900, height=600)\n",
    "display(fig)"
   ]
  },
  {
   "cell_type": "markdown",
   "metadata": {},
   "source": [
    "## Train model function\n",
    "There will be three models trained, so a function is being created now to be used multiple times."
   ]
  },
  {
   "cell_type": "code",
   "execution_count": 485,
   "metadata": {},
   "outputs": [],
   "source": [
    "def train_model(df, target_column, drop_columns, quantile_range=(5,95), param_grid = {\n",
    "        'xgb_regressor__max_depth': [3, 4, 5],\n",
    "        'xgb_regressor__gamma': [0, 0.1, 0.2],\n",
    "        'xgb_regressor__min_child_weight': [1, 2, 5]},\n",
    "        scoring = 'r2'):\n",
    "    \"\"\"\n",
    "    Trains an XGBoost regression model on the given DataFrame using grid search for hyperparameter tuning.\n",
    "\n",
    "    Parameters:\n",
    "    - df (pd.DataFrame): Input DataFrame containing the features and target variable.\n",
    "    - target_column (str): The name of the target variable column.\n",
    "    - drop_columns (list): List of column names to be dropped from the feature set.\n",
    "\n",
    "    Returns:\n",
    "    - best_pipeline (Pipeline): The best-performing pipeline after hyperparameter tuning.\n",
    "\n",
    "    Example:\n",
    "    best_model = train_model(df=my_dataframe, target_column='target', drop_columns=['column1', 'column2'])\n",
    "    \"\"\"\n",
    "\n",
    "    # Separate features (X) and target (y)\n",
    "    y = df[target_column]\n",
    "    X = df.drop(labels=drop_columns + [target_column], axis=1)\n",
    "\n",
    "    # Split data into training and test sets\n",
    "    X_train, X_test, y_train, y_test = train_test_split(X, y, test_size=0.2, random_state=42)\n",
    "\n",
    "    # Create transformers for feature scaling\n",
    "    target_scaler = RobustScaler(quantile_range=quantile_range)\n",
    "   \n",
    "\n",
    "    # Scale target\n",
    "    # Fit the target scaler on training target and transform both training and test target\n",
    "    y_train = target_scaler.fit_transform(y_train.values.reshape(-1, 1)).flatten()\n",
    "    y_test = target_scaler.transform(y_test.values.reshape(-1, 1)).flatten()\n",
    "\n",
    "\n",
    "    # Manually adjust the scaled data to center at 0.5\n",
    "    desired_center = 0.5\n",
    "    y_train = y_train + (desired_center - np.median(y_train, axis=0))\n",
    "    y_test = y_test + (desired_center - np.median(y_test, axis=0))\n",
    "\n",
    "    # Create a pipeline\n",
    "    pipeline = Pipeline([\n",
    "        ('feature_scaler', RobustScaler()),  # Robust scaling for features\n",
    "        ('xgb_regressor', XGBRegressor())    # XGBoost regressor\n",
    "    ])\n",
    "\n",
    "    # Initialize K-Fold cross-validation\n",
    "    kf = KFold(n_splits=5, shuffle=True, random_state=42)\n",
    "\n",
    "    # Initialize GridSearchCV for hyperparameter tuning\n",
    "    grid_search = GridSearchCV(estimator=pipeline, param_grid=param_grid,\n",
    "                               scoring=scoring, cv=kf)\n",
    "\n",
    "    # Fit the model and perform hyperparameter tuning\n",
    "    grid_search.fit(X_train, y_train)\n",
    "\n",
    "    \n",
    "    # Access the best pipeline\n",
    "    best_pipeline = grid_search.best_estimator_\n",
    "\n",
    "    # Make predictions on the test data\n",
    "    y_pred = best_pipeline.predict(X_test)  \n",
    "    # Evaluate the model using Mean Squared Error\n",
    "    mse_test = mean_squared_error(y_test, y_pred)\n",
    "    # Calculate R-squared (R2) score\n",
    "    r2_test = r2_score(y_test, y_pred)\n",
    "    print(y_test, y_pred)\n",
    "\n",
    "    # Make predictions on the train data\n",
    "    y_pred = best_pipeline.predict(X_train)  \n",
    "    # Evaluate the model using Mean Squared Error\n",
    "    mse_train = mean_squared_error(y_train, y_pred)\n",
    "    # Calculate R-squared (R2) score\n",
    "    r2_train = r2_score(y_train, y_pred)\n",
    "    print(y_train, y_pred)\n",
    "    \n",
    "    score = {\"mse test\":mse_test, \"r2 test\": r2_test, \"mse train\": mse_train, \"r2 train\": r2_train}\n",
    "\n",
    "    return best_pipeline, X_train, score"
   ]
  },
  {
   "cell_type": "markdown",
   "metadata": {},
   "source": [
    "## Shapeley value function\n",
    "The shapeley value will be used in the models to determine the most important features. This is done multiple times so a function will be created"
   ]
  },
  {
   "cell_type": "code",
   "execution_count": 486,
   "metadata": {},
   "outputs": [],
   "source": [
    "def feature_importance(best_pipeline, X):\n",
    "    \"\"\"\n",
    "    Generate SHAP (SHapley Additive exPlanations) values and a summary plot for feature importance.\n",
    "\n",
    "    Parameters:\n",
    "    - best_pipeline (Pipeline): The best-performing pipeline after hyperparameter tuning. It should have an XGBoost regressor named 'xgb_regressor'.\n",
    "    - X (pd.DataFrame): Data to be tested, containing features for which SHAP values will be computed.\n",
    "\n",
    "    Returns:\n",
    "    - importance_df (pd.DataFrame): DataFrame containing feature names and their importance values.\n",
    "    - shap_values (numpy.ndarray): SHAP values for the provided data.\n",
    "\n",
    "    Example:\n",
    "    importance_df, shap_values = feature_importance(best_pipeline=my_best_pipeline, X=my_test_data)\n",
    "    \n",
    "    Note:\n",
    "    The SHAP (SHapley Additive exPlanations) values provide insights into the contribution of each feature to model predictions. The summary plot and importance DataFrame help identify the most influential features.\n",
    "\n",
    "    Dependencies:\n",
    "    - Ensure the 'shap' library is installed. You can install it using 'pip install shap'.\n",
    "\n",
    "    Usage:\n",
    "    - For the best results, pass the best-performing pipeline obtained after hyperparameter tuning. The pipeline should include an XGBoost regressor with the name 'xgb_regressor'.\n",
    "\n",
    "    \"\"\"\n",
    "    # Create a SHAP explainer for the XGBoost model\n",
    "    explainer = shap.Explainer(best_pipeline.named_steps['xgb_regressor'])\n",
    "\n",
    "    # Generate SHAP values\n",
    "    shap_values = explainer.shap_values(X)\n",
    "\n",
    "    # Calculate feature importance using the absolute mean of SHAP values\n",
    "    feature_importance = np.abs(shap_values).mean(axis=0)\n",
    "\n",
    "    # Create a DataFrame to associate feature names with their importance values\n",
    "    importance_df = pd.DataFrame({'Feature': X.columns, 'Importance': feature_importance})\n",
    "\n",
    "    # Sort the DataFrame by importance in descending order to find the most important features\n",
    "    importance_df = importance_df.sort_values(by='Importance', ascending=False)\n",
    "\n",
    "    # Multiply all values by 100\n",
    "    importance_df['Importance'] *= 100\n",
    "\n",
    "    return importance_df"
   ]
  },
  {
   "cell_type": "code",
   "execution_count": 487,
   "metadata": {},
   "outputs": [],
   "source": [
    "def plot_importance(importance_df, title, showlegend = True):\n",
    "\n",
    "    try:\n",
    "        # Set 'Feature' column as the index\n",
    "        importance_df = importance_df.set_index('Feature')\n",
    "        # Rename the index from 'Feature' to 'Factors'\n",
    "        importance_df.rename_axis(index='Factors', inplace=True)\n",
    "    except:\n",
    "        importance_df = importance_df.copy()\n",
    "\n",
    "    # Select the first 10 rows\n",
    "    top_10_df = importance_df.head(10)\n",
    "    # Create a horizontal bar chart using Plotly Express\n",
    "    fig = px.bar(\n",
    "        top_10_df,\n",
    "        orientation='h',  # Horizontal bars\n",
    "        title= title,\n",
    "        labels={'index': 'Factors', 'value': 'Percentage'},\n",
    "    )\n",
    "\n",
    "    # Reverse the order of the y-axis (largest value at the top)\n",
    "    fig.update_layout(yaxis_categoryorder='total ascending')\n",
    "\n",
    "    fig.update_layout(showlegend=showlegend)\n",
    "\n",
    "    return fig"
   ]
  },
  {
   "cell_type": "markdown",
   "metadata": {},
   "source": [
    "## Baseline Model\n",
    "The first model will be used to the determine the risk of someone based on their baseline information"
   ]
  },
  {
   "cell_type": "markdown",
   "metadata": {},
   "source": [
    "### Create model"
   ]
  },
  {
   "cell_type": "code",
   "execution_count": 488,
   "metadata": {},
   "outputs": [],
   "source": [
    "baseline_columns = list(clean_baseline_df.columns)"
   ]
  },
  {
   "cell_type": "code",
   "execution_count": 489,
   "metadata": {},
   "outputs": [
    {
     "name": "stdout",
     "output_type": "stream",
     "text": [
      "[0.5  0.25 0.5  0.75 0.5  0.25 0.25 0.5  1.   0.75 0.  ] [0.3631989  0.5575355  0.410375   0.4005812  0.3631989  0.5027082\n",
      " 0.58752406 0.6100109  0.41706574 0.2843696  0.4840056 ]\n",
      "[ 0.    0.5   0.75  0.75  0.25  0.    0.75  0.5   1.25  0.    0.5   0.25\n",
      "  0.75  0.5   0.5   1.    0.    0.5   0.75  0.75  0.75  1.    0.5   0.25\n",
      "  1.    0.75  0.75  0.25  0.    0.25  0.75  0.25  0.    0.    0.25  0.25\n",
      " -0.25  0.75  0.75  0.25  0.5 ] [0.3631989  0.4892043  0.61702627 0.5396801  0.4840056  0.18629529\n",
      " 0.65014684 0.5027082  0.74798036 0.22805203 0.39784285 0.42658153\n",
      " 0.638834   0.5113973  0.42658153 0.65014684 0.29790998 0.5113973\n",
      " 0.36956    0.525195   0.65614915 0.63921934 0.525195   0.29143488\n",
      " 0.69628507 0.69628507 0.6158069  0.28510055 0.34775224 0.46257234\n",
      " 0.61702627 0.4892043  0.18629529 0.12291244 0.34775224 0.410375\n",
      " 0.12291244 0.7136404  0.6440897  0.32704338 0.4892043 ]\n"
     ]
    }
   ],
   "source": [
    "best_model_baseline, baseline_train, baseline_score = train_model(clean_baseline_df, 'Events', ['Record ID'])"
   ]
  },
  {
   "cell_type": "code",
   "execution_count": 490,
   "metadata": {},
   "outputs": [
    {
     "data": {
      "text/plain": [
       "{'mse test': 0.11299137173821999,\n",
       " 'r2 test': -0.5405020822900979,\n",
       " 'mse train': 0.04397362156524441,\n",
       " 'r2 train': 0.6320116597327898}"
      ]
     },
     "execution_count": 490,
     "metadata": {},
     "output_type": "execute_result"
    }
   ],
   "source": [
    "baseline_score"
   ]
  },
  {
   "cell_type": "markdown",
   "metadata": {},
   "source": [
    "### Feauture importance\n",
    "This information could be used for general information"
   ]
  },
  {
   "cell_type": "code",
   "execution_count": 491,
   "metadata": {},
   "outputs": [
    {
     "name": "stderr",
     "output_type": "stream",
     "text": [
      "/opt/anaconda3/envs/Capstone2023/lib/python3.10/site-packages/xgboost/core.py:160: UserWarning:\n",
      "\n",
      "[17:21:48] WARNING: /Users/runner/work/xgboost/xgboost/src/c_api/c_api.cc:1240: Saving into deprecated binary model format, please consider using `json` or `ubj`. Model format will default to JSON in XGBoost 2.2 if not specified.\n",
      "\n",
      "/opt/anaconda3/envs/Capstone2023/lib/python3.10/site-packages/xgboost/data.py:335: FutureWarning:\n",
      "\n",
      "is_sparse is deprecated and will be removed in a future version. Check `isinstance(dtype, pd.SparseDtype)` instead.\n",
      "\n",
      "/opt/anaconda3/envs/Capstone2023/lib/python3.10/site-packages/xgboost/data.py:338: FutureWarning:\n",
      "\n",
      "is_categorical_dtype is deprecated and will be removed in a future version. Use isinstance(dtype, CategoricalDtype) instead\n",
      "\n",
      "/opt/anaconda3/envs/Capstone2023/lib/python3.10/site-packages/xgboost/data.py:384: FutureWarning:\n",
      "\n",
      "is_categorical_dtype is deprecated and will be removed in a future version. Use isinstance(dtype, CategoricalDtype) instead\n",
      "\n",
      "/opt/anaconda3/envs/Capstone2023/lib/python3.10/site-packages/xgboost/data.py:359: FutureWarning:\n",
      "\n",
      "is_categorical_dtype is deprecated and will be removed in a future version. Use isinstance(dtype, CategoricalDtype) instead\n",
      "\n"
     ]
    },
    {
     "data": {
      "text/html": [
       "<div>\n",
       "<style scoped>\n",
       "    .dataframe tbody tr th:only-of-type {\n",
       "        vertical-align: middle;\n",
       "    }\n",
       "\n",
       "    .dataframe tbody tr th {\n",
       "        vertical-align: top;\n",
       "    }\n",
       "\n",
       "    .dataframe thead th {\n",
       "        text-align: right;\n",
       "    }\n",
       "</style>\n",
       "<table border=\"1\" class=\"dataframe\">\n",
       "  <thead>\n",
       "    <tr style=\"text-align: right;\">\n",
       "      <th></th>\n",
       "      <th>Feature</th>\n",
       "      <th>Importance</th>\n",
       "    </tr>\n",
       "  </thead>\n",
       "  <tbody>\n",
       "    <tr>\n",
       "      <th>23</th>\n",
       "      <td>ABI left</td>\n",
       "      <td>10.017768</td>\n",
       "    </tr>\n",
       "    <tr>\n",
       "      <th>22</th>\n",
       "      <td>ABI Right</td>\n",
       "      <td>5.520142</td>\n",
       "    </tr>\n",
       "    <tr>\n",
       "      <th>0</th>\n",
       "      <td>Age</td>\n",
       "      <td>4.523421</td>\n",
       "    </tr>\n",
       "    <tr>\n",
       "      <th>21</th>\n",
       "      <td>Rutherford Score</td>\n",
       "      <td>3.400154</td>\n",
       "    </tr>\n",
       "    <tr>\n",
       "      <th>2</th>\n",
       "      <td>BMI</td>\n",
       "      <td>2.797499</td>\n",
       "    </tr>\n",
       "    <tr>\n",
       "      <th>9</th>\n",
       "      <td>History of MI</td>\n",
       "      <td>2.642242</td>\n",
       "    </tr>\n",
       "    <tr>\n",
       "      <th>31</th>\n",
       "      <td>Artery affected_internal iliac</td>\n",
       "      <td>1.596135</td>\n",
       "    </tr>\n",
       "    <tr>\n",
       "      <th>18</th>\n",
       "      <td>EGFR (mL/min/1.73m2)</td>\n",
       "      <td>1.223716</td>\n",
       "    </tr>\n",
       "    <tr>\n",
       "      <th>14</th>\n",
       "      <td>Hx of  DVT</td>\n",
       "      <td>0.943421</td>\n",
       "    </tr>\n",
       "    <tr>\n",
       "      <th>1</th>\n",
       "      <td>White</td>\n",
       "      <td>0.559947</td>\n",
       "    </tr>\n",
       "    <tr>\n",
       "      <th>39</th>\n",
       "      <td>Intervention type_thrombectomy</td>\n",
       "      <td>0.000000</td>\n",
       "    </tr>\n",
       "    <tr>\n",
       "      <th>40</th>\n",
       "      <td>Intervention type_bypass</td>\n",
       "      <td>0.000000</td>\n",
       "    </tr>\n",
       "    <tr>\n",
       "      <th>28</th>\n",
       "      <td>Intervention Classification_Open</td>\n",
       "      <td>0.000000</td>\n",
       "    </tr>\n",
       "    <tr>\n",
       "      <th>29</th>\n",
       "      <td>Artery affected_posterior tibial</td>\n",
       "      <td>0.000000</td>\n",
       "    </tr>\n",
       "    <tr>\n",
       "      <th>42</th>\n",
       "      <td>Intervention type_angioplasty</td>\n",
       "      <td>0.000000</td>\n",
       "    </tr>\n",
       "    <tr>\n",
       "      <th>30</th>\n",
       "      <td>Artery affected_common femoral</td>\n",
       "      <td>0.000000</td>\n",
       "    </tr>\n",
       "    <tr>\n",
       "      <th>41</th>\n",
       "      <td>Intervention type_bypass revision</td>\n",
       "      <td>0.000000</td>\n",
       "    </tr>\n",
       "    <tr>\n",
       "      <th>32</th>\n",
       "      <td>Artery affected_anterior tibial</td>\n",
       "      <td>0.000000</td>\n",
       "    </tr>\n",
       "    <tr>\n",
       "      <th>38</th>\n",
       "      <td>Intervention type_stent</td>\n",
       "      <td>0.000000</td>\n",
       "    </tr>\n",
       "    <tr>\n",
       "      <th>33</th>\n",
       "      <td>Artery affected_SFA</td>\n",
       "      <td>0.000000</td>\n",
       "    </tr>\n",
       "    <tr>\n",
       "      <th>34</th>\n",
       "      <td>Artery affected_external iliac</td>\n",
       "      <td>0.000000</td>\n",
       "    </tr>\n",
       "    <tr>\n",
       "      <th>26</th>\n",
       "      <td>Extremity_right</td>\n",
       "      <td>0.000000</td>\n",
       "    </tr>\n",
       "    <tr>\n",
       "      <th>35</th>\n",
       "      <td>Artery affected_popliteal</td>\n",
       "      <td>0.000000</td>\n",
       "    </tr>\n",
       "    <tr>\n",
       "      <th>36</th>\n",
       "      <td>Artery affected_aortoiliac</td>\n",
       "      <td>0.000000</td>\n",
       "    </tr>\n",
       "    <tr>\n",
       "      <th>37</th>\n",
       "      <td>Intervention type_DVA</td>\n",
       "      <td>0.000000</td>\n",
       "    </tr>\n",
       "    <tr>\n",
       "      <th>27</th>\n",
       "      <td>Intervention Classification_Combined</td>\n",
       "      <td>0.000000</td>\n",
       "    </tr>\n",
       "    <tr>\n",
       "      <th>3</th>\n",
       "      <td>Tobacco Use</td>\n",
       "      <td>0.000000</td>\n",
       "    </tr>\n",
       "    <tr>\n",
       "      <th>25</th>\n",
       "      <td>Extremity_Bilateral</td>\n",
       "      <td>0.000000</td>\n",
       "    </tr>\n",
       "    <tr>\n",
       "      <th>12</th>\n",
       "      <td>Does Subject Currently have cancer?</td>\n",
       "      <td>0.000000</td>\n",
       "    </tr>\n",
       "    <tr>\n",
       "      <th>5</th>\n",
       "      <td>Hypertension</td>\n",
       "      <td>0.000000</td>\n",
       "    </tr>\n",
       "    <tr>\n",
       "      <th>6</th>\n",
       "      <td>Hyperlipidemia (choice=None)</td>\n",
       "      <td>0.000000</td>\n",
       "    </tr>\n",
       "    <tr>\n",
       "      <th>7</th>\n",
       "      <td>Renal Status</td>\n",
       "      <td>0.000000</td>\n",
       "    </tr>\n",
       "    <tr>\n",
       "      <th>8</th>\n",
       "      <td>Coronary Artery Disease</td>\n",
       "      <td>0.000000</td>\n",
       "    </tr>\n",
       "    <tr>\n",
       "      <th>10</th>\n",
       "      <td>Functional impairment</td>\n",
       "      <td>0.000000</td>\n",
       "    </tr>\n",
       "    <tr>\n",
       "      <th>11</th>\n",
       "      <td>Clotting Disorder</td>\n",
       "      <td>0.000000</td>\n",
       "    </tr>\n",
       "    <tr>\n",
       "      <th>13</th>\n",
       "      <td>Past hx of cancer</td>\n",
       "      <td>0.000000</td>\n",
       "    </tr>\n",
       "    <tr>\n",
       "      <th>24</th>\n",
       "      <td>Is Male</td>\n",
       "      <td>0.000000</td>\n",
       "    </tr>\n",
       "    <tr>\n",
       "      <th>15</th>\n",
       "      <td>Hx of stroke</td>\n",
       "      <td>0.000000</td>\n",
       "    </tr>\n",
       "    <tr>\n",
       "      <th>16</th>\n",
       "      <td>Hx of pulmonary embolism</td>\n",
       "      <td>0.000000</td>\n",
       "    </tr>\n",
       "    <tr>\n",
       "      <th>17</th>\n",
       "      <td>Does the patient have a history of solid organ...</td>\n",
       "      <td>0.000000</td>\n",
       "    </tr>\n",
       "    <tr>\n",
       "      <th>19</th>\n",
       "      <td>Has subject had previous intervention of the i...</td>\n",
       "      <td>0.000000</td>\n",
       "    </tr>\n",
       "    <tr>\n",
       "      <th>20</th>\n",
       "      <td>Previous occluded stents</td>\n",
       "      <td>0.000000</td>\n",
       "    </tr>\n",
       "    <tr>\n",
       "      <th>4</th>\n",
       "      <td>Diabetes</td>\n",
       "      <td>0.000000</td>\n",
       "    </tr>\n",
       "    <tr>\n",
       "      <th>43</th>\n",
       "      <td>Intervention type_endarterectomy</td>\n",
       "      <td>0.000000</td>\n",
       "    </tr>\n",
       "  </tbody>\n",
       "</table>\n",
       "</div>"
      ],
      "text/plain": [
       "                                              Feature  Importance\n",
       "23                                           ABI left   10.017768\n",
       "22                                          ABI Right    5.520142\n",
       "0                                                 Age    4.523421\n",
       "21                                   Rutherford Score    3.400154\n",
       "2                                                 BMI    2.797499\n",
       "9                                       History of MI    2.642242\n",
       "31                     Artery affected_internal iliac    1.596135\n",
       "18                               EGFR (mL/min/1.73m2)    1.223716\n",
       "14                                         Hx of  DVT    0.943421\n",
       "1                                               White    0.559947\n",
       "39                     Intervention type_thrombectomy    0.000000\n",
       "40                           Intervention type_bypass    0.000000\n",
       "28                   Intervention Classification_Open    0.000000\n",
       "29                   Artery affected_posterior tibial    0.000000\n",
       "42                      Intervention type_angioplasty    0.000000\n",
       "30                     Artery affected_common femoral    0.000000\n",
       "41                  Intervention type_bypass revision    0.000000\n",
       "32                    Artery affected_anterior tibial    0.000000\n",
       "38                            Intervention type_stent    0.000000\n",
       "33                                Artery affected_SFA    0.000000\n",
       "34                     Artery affected_external iliac    0.000000\n",
       "26                                    Extremity_right    0.000000\n",
       "35                          Artery affected_popliteal    0.000000\n",
       "36                         Artery affected_aortoiliac    0.000000\n",
       "37                              Intervention type_DVA    0.000000\n",
       "27               Intervention Classification_Combined    0.000000\n",
       "3                                         Tobacco Use    0.000000\n",
       "25                                Extremity_Bilateral    0.000000\n",
       "12                Does Subject Currently have cancer?    0.000000\n",
       "5                                        Hypertension    0.000000\n",
       "6                        Hyperlipidemia (choice=None)    0.000000\n",
       "7                                        Renal Status    0.000000\n",
       "8                             Coronary Artery Disease    0.000000\n",
       "10                              Functional impairment    0.000000\n",
       "11                                  Clotting Disorder    0.000000\n",
       "13                                  Past hx of cancer    0.000000\n",
       "24                                            Is Male    0.000000\n",
       "15                                       Hx of stroke    0.000000\n",
       "16                           Hx of pulmonary embolism    0.000000\n",
       "17  Does the patient have a history of solid organ...    0.000000\n",
       "19  Has subject had previous intervention of the i...    0.000000\n",
       "20                           Previous occluded stents    0.000000\n",
       "4                                            Diabetes    0.000000\n",
       "43                   Intervention type_endarterectomy    0.000000"
      ]
     },
     "execution_count": 491,
     "metadata": {},
     "output_type": "execute_result"
    }
   ],
   "source": [
    "importance_df_bsaeline  = feature_importance(best_model_baseline, baseline_train)\n",
    "importance_df_bsaeline"
   ]
  },
  {
   "cell_type": "code",
   "execution_count": 492,
   "metadata": {},
   "outputs": [
    {
     "data": {
      "application/vnd.plotly.v1+json": {
       "config": {
        "plotlyServerURL": "https://plot.ly"
       },
       "data": [
        {
         "alignmentgroup": "True",
         "hovertemplate": "variable=Importance<br>Percentage=%{x}<br>Factors=%{y}<extra></extra>",
         "legendgroup": "Importance",
         "marker": {
          "color": "#636efa",
          "pattern": {
           "shape": ""
          }
         },
         "name": "Importance",
         "offsetgroup": "Importance",
         "orientation": "h",
         "showlegend": true,
         "textposition": "auto",
         "type": "bar",
         "x": [
          10.017767906188965,
          5.5201416015625,
          4.523421287536621,
          3.4001543521881104,
          2.797499418258667,
          2.642242431640625,
          1.5961345434188843,
          1.2237162590026855,
          0.9434207081794739,
          0.5599467754364014
         ],
         "xaxis": "x",
         "y": [
          "ABI left",
          "ABI Right",
          "Age",
          "Rutherford Score",
          "BMI",
          "History of MI",
          "Artery affected_internal iliac",
          "EGFR (mL/min/1.73m2)",
          "Hx of  DVT",
          "White"
         ],
         "yaxis": "y"
        }
       ],
       "layout": {
        "barmode": "relative",
        "legend": {
         "title": {
          "text": "variable"
         },
         "tracegroupgap": 0
        },
        "showlegend": false,
        "template": {
         "data": {
          "bar": [
           {
            "error_x": {
             "color": "#2a3f5f"
            },
            "error_y": {
             "color": "#2a3f5f"
            },
            "marker": {
             "line": {
              "color": "#E5ECF6",
              "width": 0.5
             },
             "pattern": {
              "fillmode": "overlay",
              "size": 10,
              "solidity": 0.2
             }
            },
            "type": "bar"
           }
          ],
          "barpolar": [
           {
            "marker": {
             "line": {
              "color": "#E5ECF6",
              "width": 0.5
             },
             "pattern": {
              "fillmode": "overlay",
              "size": 10,
              "solidity": 0.2
             }
            },
            "type": "barpolar"
           }
          ],
          "carpet": [
           {
            "aaxis": {
             "endlinecolor": "#2a3f5f",
             "gridcolor": "white",
             "linecolor": "white",
             "minorgridcolor": "white",
             "startlinecolor": "#2a3f5f"
            },
            "baxis": {
             "endlinecolor": "#2a3f5f",
             "gridcolor": "white",
             "linecolor": "white",
             "minorgridcolor": "white",
             "startlinecolor": "#2a3f5f"
            },
            "type": "carpet"
           }
          ],
          "choropleth": [
           {
            "colorbar": {
             "outlinewidth": 0,
             "ticks": ""
            },
            "type": "choropleth"
           }
          ],
          "contour": [
           {
            "colorbar": {
             "outlinewidth": 0,
             "ticks": ""
            },
            "colorscale": [
             [
              0,
              "#0d0887"
             ],
             [
              0.1111111111111111,
              "#46039f"
             ],
             [
              0.2222222222222222,
              "#7201a8"
             ],
             [
              0.3333333333333333,
              "#9c179e"
             ],
             [
              0.4444444444444444,
              "#bd3786"
             ],
             [
              0.5555555555555556,
              "#d8576b"
             ],
             [
              0.6666666666666666,
              "#ed7953"
             ],
             [
              0.7777777777777778,
              "#fb9f3a"
             ],
             [
              0.8888888888888888,
              "#fdca26"
             ],
             [
              1,
              "#f0f921"
             ]
            ],
            "type": "contour"
           }
          ],
          "contourcarpet": [
           {
            "colorbar": {
             "outlinewidth": 0,
             "ticks": ""
            },
            "type": "contourcarpet"
           }
          ],
          "heatmap": [
           {
            "colorbar": {
             "outlinewidth": 0,
             "ticks": ""
            },
            "colorscale": [
             [
              0,
              "#0d0887"
             ],
             [
              0.1111111111111111,
              "#46039f"
             ],
             [
              0.2222222222222222,
              "#7201a8"
             ],
             [
              0.3333333333333333,
              "#9c179e"
             ],
             [
              0.4444444444444444,
              "#bd3786"
             ],
             [
              0.5555555555555556,
              "#d8576b"
             ],
             [
              0.6666666666666666,
              "#ed7953"
             ],
             [
              0.7777777777777778,
              "#fb9f3a"
             ],
             [
              0.8888888888888888,
              "#fdca26"
             ],
             [
              1,
              "#f0f921"
             ]
            ],
            "type": "heatmap"
           }
          ],
          "heatmapgl": [
           {
            "colorbar": {
             "outlinewidth": 0,
             "ticks": ""
            },
            "colorscale": [
             [
              0,
              "#0d0887"
             ],
             [
              0.1111111111111111,
              "#46039f"
             ],
             [
              0.2222222222222222,
              "#7201a8"
             ],
             [
              0.3333333333333333,
              "#9c179e"
             ],
             [
              0.4444444444444444,
              "#bd3786"
             ],
             [
              0.5555555555555556,
              "#d8576b"
             ],
             [
              0.6666666666666666,
              "#ed7953"
             ],
             [
              0.7777777777777778,
              "#fb9f3a"
             ],
             [
              0.8888888888888888,
              "#fdca26"
             ],
             [
              1,
              "#f0f921"
             ]
            ],
            "type": "heatmapgl"
           }
          ],
          "histogram": [
           {
            "marker": {
             "pattern": {
              "fillmode": "overlay",
              "size": 10,
              "solidity": 0.2
             }
            },
            "type": "histogram"
           }
          ],
          "histogram2d": [
           {
            "colorbar": {
             "outlinewidth": 0,
             "ticks": ""
            },
            "colorscale": [
             [
              0,
              "#0d0887"
             ],
             [
              0.1111111111111111,
              "#46039f"
             ],
             [
              0.2222222222222222,
              "#7201a8"
             ],
             [
              0.3333333333333333,
              "#9c179e"
             ],
             [
              0.4444444444444444,
              "#bd3786"
             ],
             [
              0.5555555555555556,
              "#d8576b"
             ],
             [
              0.6666666666666666,
              "#ed7953"
             ],
             [
              0.7777777777777778,
              "#fb9f3a"
             ],
             [
              0.8888888888888888,
              "#fdca26"
             ],
             [
              1,
              "#f0f921"
             ]
            ],
            "type": "histogram2d"
           }
          ],
          "histogram2dcontour": [
           {
            "colorbar": {
             "outlinewidth": 0,
             "ticks": ""
            },
            "colorscale": [
             [
              0,
              "#0d0887"
             ],
             [
              0.1111111111111111,
              "#46039f"
             ],
             [
              0.2222222222222222,
              "#7201a8"
             ],
             [
              0.3333333333333333,
              "#9c179e"
             ],
             [
              0.4444444444444444,
              "#bd3786"
             ],
             [
              0.5555555555555556,
              "#d8576b"
             ],
             [
              0.6666666666666666,
              "#ed7953"
             ],
             [
              0.7777777777777778,
              "#fb9f3a"
             ],
             [
              0.8888888888888888,
              "#fdca26"
             ],
             [
              1,
              "#f0f921"
             ]
            ],
            "type": "histogram2dcontour"
           }
          ],
          "mesh3d": [
           {
            "colorbar": {
             "outlinewidth": 0,
             "ticks": ""
            },
            "type": "mesh3d"
           }
          ],
          "parcoords": [
           {
            "line": {
             "colorbar": {
              "outlinewidth": 0,
              "ticks": ""
             }
            },
            "type": "parcoords"
           }
          ],
          "pie": [
           {
            "automargin": true,
            "type": "pie"
           }
          ],
          "scatter": [
           {
            "fillpattern": {
             "fillmode": "overlay",
             "size": 10,
             "solidity": 0.2
            },
            "type": "scatter"
           }
          ],
          "scatter3d": [
           {
            "line": {
             "colorbar": {
              "outlinewidth": 0,
              "ticks": ""
             }
            },
            "marker": {
             "colorbar": {
              "outlinewidth": 0,
              "ticks": ""
             }
            },
            "type": "scatter3d"
           }
          ],
          "scattercarpet": [
           {
            "marker": {
             "colorbar": {
              "outlinewidth": 0,
              "ticks": ""
             }
            },
            "type": "scattercarpet"
           }
          ],
          "scattergeo": [
           {
            "marker": {
             "colorbar": {
              "outlinewidth": 0,
              "ticks": ""
             }
            },
            "type": "scattergeo"
           }
          ],
          "scattergl": [
           {
            "marker": {
             "colorbar": {
              "outlinewidth": 0,
              "ticks": ""
             }
            },
            "type": "scattergl"
           }
          ],
          "scattermapbox": [
           {
            "marker": {
             "colorbar": {
              "outlinewidth": 0,
              "ticks": ""
             }
            },
            "type": "scattermapbox"
           }
          ],
          "scatterpolar": [
           {
            "marker": {
             "colorbar": {
              "outlinewidth": 0,
              "ticks": ""
             }
            },
            "type": "scatterpolar"
           }
          ],
          "scatterpolargl": [
           {
            "marker": {
             "colorbar": {
              "outlinewidth": 0,
              "ticks": ""
             }
            },
            "type": "scatterpolargl"
           }
          ],
          "scatterternary": [
           {
            "marker": {
             "colorbar": {
              "outlinewidth": 0,
              "ticks": ""
             }
            },
            "type": "scatterternary"
           }
          ],
          "surface": [
           {
            "colorbar": {
             "outlinewidth": 0,
             "ticks": ""
            },
            "colorscale": [
             [
              0,
              "#0d0887"
             ],
             [
              0.1111111111111111,
              "#46039f"
             ],
             [
              0.2222222222222222,
              "#7201a8"
             ],
             [
              0.3333333333333333,
              "#9c179e"
             ],
             [
              0.4444444444444444,
              "#bd3786"
             ],
             [
              0.5555555555555556,
              "#d8576b"
             ],
             [
              0.6666666666666666,
              "#ed7953"
             ],
             [
              0.7777777777777778,
              "#fb9f3a"
             ],
             [
              0.8888888888888888,
              "#fdca26"
             ],
             [
              1,
              "#f0f921"
             ]
            ],
            "type": "surface"
           }
          ],
          "table": [
           {
            "cells": {
             "fill": {
              "color": "#EBF0F8"
             },
             "line": {
              "color": "white"
             }
            },
            "header": {
             "fill": {
              "color": "#C8D4E3"
             },
             "line": {
              "color": "white"
             }
            },
            "type": "table"
           }
          ]
         },
         "layout": {
          "annotationdefaults": {
           "arrowcolor": "#2a3f5f",
           "arrowhead": 0,
           "arrowwidth": 1
          },
          "autotypenumbers": "strict",
          "coloraxis": {
           "colorbar": {
            "outlinewidth": 0,
            "ticks": ""
           }
          },
          "colorscale": {
           "diverging": [
            [
             0,
             "#8e0152"
            ],
            [
             0.1,
             "#c51b7d"
            ],
            [
             0.2,
             "#de77ae"
            ],
            [
             0.3,
             "#f1b6da"
            ],
            [
             0.4,
             "#fde0ef"
            ],
            [
             0.5,
             "#f7f7f7"
            ],
            [
             0.6,
             "#e6f5d0"
            ],
            [
             0.7,
             "#b8e186"
            ],
            [
             0.8,
             "#7fbc41"
            ],
            [
             0.9,
             "#4d9221"
            ],
            [
             1,
             "#276419"
            ]
           ],
           "sequential": [
            [
             0,
             "#0d0887"
            ],
            [
             0.1111111111111111,
             "#46039f"
            ],
            [
             0.2222222222222222,
             "#7201a8"
            ],
            [
             0.3333333333333333,
             "#9c179e"
            ],
            [
             0.4444444444444444,
             "#bd3786"
            ],
            [
             0.5555555555555556,
             "#d8576b"
            ],
            [
             0.6666666666666666,
             "#ed7953"
            ],
            [
             0.7777777777777778,
             "#fb9f3a"
            ],
            [
             0.8888888888888888,
             "#fdca26"
            ],
            [
             1,
             "#f0f921"
            ]
           ],
           "sequentialminus": [
            [
             0,
             "#0d0887"
            ],
            [
             0.1111111111111111,
             "#46039f"
            ],
            [
             0.2222222222222222,
             "#7201a8"
            ],
            [
             0.3333333333333333,
             "#9c179e"
            ],
            [
             0.4444444444444444,
             "#bd3786"
            ],
            [
             0.5555555555555556,
             "#d8576b"
            ],
            [
             0.6666666666666666,
             "#ed7953"
            ],
            [
             0.7777777777777778,
             "#fb9f3a"
            ],
            [
             0.8888888888888888,
             "#fdca26"
            ],
            [
             1,
             "#f0f921"
            ]
           ]
          },
          "colorway": [
           "#636efa",
           "#EF553B",
           "#00cc96",
           "#ab63fa",
           "#FFA15A",
           "#19d3f3",
           "#FF6692",
           "#B6E880",
           "#FF97FF",
           "#FECB52"
          ],
          "font": {
           "color": "#2a3f5f"
          },
          "geo": {
           "bgcolor": "white",
           "lakecolor": "white",
           "landcolor": "#E5ECF6",
           "showlakes": true,
           "showland": true,
           "subunitcolor": "white"
          },
          "hoverlabel": {
           "align": "left"
          },
          "hovermode": "closest",
          "mapbox": {
           "style": "light"
          },
          "paper_bgcolor": "white",
          "plot_bgcolor": "#E5ECF6",
          "polar": {
           "angularaxis": {
            "gridcolor": "white",
            "linecolor": "white",
            "ticks": ""
           },
           "bgcolor": "#E5ECF6",
           "radialaxis": {
            "gridcolor": "white",
            "linecolor": "white",
            "ticks": ""
           }
          },
          "scene": {
           "xaxis": {
            "backgroundcolor": "#E5ECF6",
            "gridcolor": "white",
            "gridwidth": 2,
            "linecolor": "white",
            "showbackground": true,
            "ticks": "",
            "zerolinecolor": "white"
           },
           "yaxis": {
            "backgroundcolor": "#E5ECF6",
            "gridcolor": "white",
            "gridwidth": 2,
            "linecolor": "white",
            "showbackground": true,
            "ticks": "",
            "zerolinecolor": "white"
           },
           "zaxis": {
            "backgroundcolor": "#E5ECF6",
            "gridcolor": "white",
            "gridwidth": 2,
            "linecolor": "white",
            "showbackground": true,
            "ticks": "",
            "zerolinecolor": "white"
           }
          },
          "shapedefaults": {
           "line": {
            "color": "#2a3f5f"
           }
          },
          "ternary": {
           "aaxis": {
            "gridcolor": "white",
            "linecolor": "white",
            "ticks": ""
           },
           "baxis": {
            "gridcolor": "white",
            "linecolor": "white",
            "ticks": ""
           },
           "bgcolor": "#E5ECF6",
           "caxis": {
            "gridcolor": "white",
            "linecolor": "white",
            "ticks": ""
           }
          },
          "title": {
           "x": 0.05
          },
          "xaxis": {
           "automargin": true,
           "gridcolor": "white",
           "linecolor": "white",
           "ticks": "",
           "title": {
            "standoff": 15
           },
           "zerolinecolor": "white",
           "zerolinewidth": 2
          },
          "yaxis": {
           "automargin": true,
           "gridcolor": "white",
           "linecolor": "white",
           "ticks": "",
           "title": {
            "standoff": 15
           },
           "zerolinecolor": "white",
           "zerolinewidth": 2
          }
         }
        },
        "title": {
         "text": "Baseline feature importance"
        },
        "xaxis": {
         "anchor": "y",
         "domain": [
          0,
          1
         ],
         "title": {
          "text": "Percentage"
         }
        },
        "yaxis": {
         "anchor": "x",
         "categoryorder": "total ascending",
         "domain": [
          0,
          1
         ],
         "title": {
          "text": "Factors"
         }
        }
       }
      }
     },
     "metadata": {},
     "output_type": "display_data"
    }
   ],
   "source": [
    "fig = plot_importance(importance_df_bsaeline, \"Baseline feature importance\", showlegend= False)\n",
    "display(fig)"
   ]
  },
  {
   "cell_type": "markdown",
   "metadata": {},
   "source": [
    "## TEG model 1\n",
    "The first model will be used to determine the feature importance so the user can then select parameters of interest."
   ]
  },
  {
   "cell_type": "markdown",
   "metadata": {},
   "source": [
    "### Create model"
   ]
  },
  {
   "cell_type": "code",
   "execution_count": 493,
   "metadata": {},
   "outputs": [],
   "source": [
    "teg1_columns =  list(extended_df.columns)"
   ]
  },
  {
   "cell_type": "code",
   "execution_count": 494,
   "metadata": {},
   "outputs": [
    {
     "name": "stdout",
     "output_type": "stream",
     "text": [
      "[ 0.75  0.5   0.5   0.75  0.5   1.    0.5   0.75  0.25  0.25  0.5   0.25\n",
      "  0.    0.5   0.25  0.75  0.5   0.25  0.    0.75  0.5   0.75  1.    0.75\n",
      "  0.25 -0.25  1.25  0.    0.5   1.    0.    0.75  1.    0.25  0.5  -0.25\n",
      "  0.75  0.75  0.25  0.5   0.5   1.25  0.25  0.25  0.25  0.75  0.75  0.25\n",
      "  0.    0.75  0.75  1.    0.5   1.    0.25  0.25  0.25  0.25  0.75  0.\n",
      "  0.75  0.5   0.5   0.    0.5   0.75  0.5   0.25  0.25  0.75  0.25  0.75\n",
      "  0.25  0.5   0.5   0.75  0.25  0.75  0.25  1.    0.75  0.    0.5   0.75\n",
      "  0.75  0.75  0.25  0.75  0.25  0.25  0.    0.75  0.25  0.75  1.    0.\n",
      "  0.75  0.25  0.5   0.5   0.    0.25  0.25  1.    0.5   0.5   0.5   0.25\n",
      "  0.5   0.25  0.75  0.75  0.75  0.75  0.75  1.    0.75  0.75  0.5   0.5\n",
      "  0.    0.75  1.    0.75  0.5   1.25  0.25 -0.25  0.75  0.5   0.5   1.\n",
      "  0.75  0.75  1.    0.    0.25  0.    0.    0.    0.5   0.75  0.75  0.\n",
      "  0.75  0.75  0.25  0.25  0.5   0.25  0.    0.75  0.5   0.75  0.75  0.25\n",
      "  0.25  0.5   0.75  0.5 ] [0.5824445  0.40110898 0.31709605 0.38988355 0.5446662  0.41868806\n",
      " 0.63747996 0.50810987 0.4085942  0.36140978 0.3698514  0.52330846\n",
      " 0.49195153 0.463968   0.37261835 0.39373678 0.3788935  0.29916602\n",
      " 0.31190336 0.42306396 0.49595392 0.4189143  0.33059663 0.607631\n",
      " 0.57987815 0.5026889  0.56030494 0.6015959  0.5483098  0.48336047\n",
      " 0.2694787  0.36338454 0.7350874  0.80605006 0.62888896 0.5110402\n",
      " 0.63587755 0.5684179  0.6414087  0.5037105  0.5877128  0.77696294\n",
      " 0.3691321  0.42639428 0.5282161  0.42148665 0.3330668  0.4730941\n",
      " 0.32720602 0.6522229  0.40244067 0.53145003 0.57490385 0.47237054\n",
      " 0.6163911  0.16490984 0.28476405 0.37311327 0.54457414 0.48693436\n",
      " 0.54156595 0.39222512 0.61455935 0.4168949  0.5145762  0.5787253\n",
      " 0.47840503 0.5203291  0.4677478  0.55395675 0.47424826 0.4808217\n",
      " 0.24008843 0.29055807 0.51522094 0.47221264 0.47750682 0.4868185\n",
      " 0.5183921  0.75105757 0.5780851  0.56249595 0.43300813 0.37764847\n",
      " 0.5045352  0.28387022 0.4210234  0.49152887 0.41929168 0.35566935\n",
      " 0.28803504 0.4808259  0.42446226 0.65672314 0.4550721  0.42315343\n",
      " 0.4864912  0.44093612 0.53749675 0.4503162  0.45831823 0.46550685\n",
      " 0.38707587 0.39737314 0.4249674  0.638261   0.3740849  0.66036874\n",
      " 0.28243074 0.30919066 0.5307731  0.5006592  0.6381331  0.3709511\n",
      " 0.3886427  0.3931203  0.41713965 0.5310866  0.29548368 0.44104797\n",
      " 0.4559204  0.6201117  0.6949158  0.4933221  0.59530616 0.5330148\n",
      " 0.42252883 0.53260344 0.4898095  0.34894472 0.3132051  0.7962918\n",
      " 0.8205894  0.48010752 0.44652328 0.42983848 0.59691685 0.49505073\n",
      " 0.55165243 0.44561967 0.36061132 0.40707046 0.45888817 0.30351967\n",
      " 0.5373663  0.36616313 0.4720605  0.5624305  0.5759878  0.48423922\n",
      " 0.19826362 0.42582625 0.38995233 0.60638994 0.46884558 0.67893404\n",
      " 0.26534262 0.48548636 0.3034462  0.6019201 ]\n",
      "[ 0.75  1.    0.25  0.5   0.75  0.75  0.5   0.5   0.25  0.25  0.    0.75\n",
      "  0.    0.25  0.5   0.5   0.5   0.5   1.    1.    0.5   0.75  0.75  0.75\n",
      "  0.75  0.5   1.    0.    0.25  0.    0.25  0.25  1.25  0.25  1.    0.75\n",
      "  0.5   0.25  0.25  0.5   0.25  0.    0.5   0.75  0.    0.5   0.5   0.75\n",
      "  0.25  0.25  0.25  0.    0.75  0.    0.   -0.25  0.25  0.75  0.5   0.5\n",
      "  0.5   0.    0.5   0.    0.5   0.75  0.75  0.5   0.25  0.5   0.5   1.\n",
      "  0.5   1.    0.5   0.    0.25  0.25  0.    0.25  0.    0.75  0.5   0.75\n",
      "  0.5   0.    0.25  0.5   0.5   1.25  0.75  1.    0.    0.5   0.25  0.25\n",
      " -0.25  0.75  0.5   0.25  0.5   0.25  0.5   1.    0.    0.25  0.25 -0.25\n",
      "  0.25  0.5   0.75  0.5   0.75  1.    0.25  0.25  0.25  0.    0.    0.75\n",
      "  0.75  0.    0.25  0.25  0.    0.25  0.75  0.25  0.    1.25  0.75  0.75\n",
      "  0.5   0.    0.    0.25  1.    1.    0.75  0.    0.75  0.75  0.5   0.5\n",
      "  1.    0.    0.    0.75  0.25  0.5   0.5   0.    0.75  0.    0.    0.25\n",
      "  0.75  0.25  0.25  0.5   0.25  1.25  0.25  0.25 -0.25  0.75  0.25  1.25\n",
      "  1.    0.25  0.5   0.75  0.75  0.    0.75  0.25  0.25  0.75  1.25 -0.25\n",
      "  0.    0.25  0.75  0.25  1.    0.5   0.5   0.5   0.5   0.25  0.75  0.25\n",
      "  0.25  0.25  0.25  0.5   0.75  0.5   0.5   0.25  0.75  0.25  0.5   0.75\n",
      "  0.75  0.75  0.5   0.75  0.25  1.    0.    0.5   0.25  0.5   0.75  0.25\n",
      "  0.    0.25  0.75  0.25  1.    1.    0.    0.25  0.75  0.25  0.75  0.\n",
      "  0.25  0.5   0.5   0.5   0.5   0.25  0.25  0.75  0.5   0.    0.    0.25\n",
      "  0.5   0.5   0.25  0.75  0.75  0.75  0.25  0.5   0.25  0.5   0.    0.25\n",
      "  0.25  0.75  0.75  1.    0.5   0.25  1.    0.75  0.75  0.75  0.5   0.\n",
      "  0.    0.75  0.75  0.25  0.5   0.75  0.25  0.75  0.    0.25  0.5   0.5\n",
      "  0.25  0.5   0.75  0.75  0.   -0.25  0.25  0.5   0.    0.75  0.5   0.75\n",
      "  0.    0.    1.    0.25 -0.25  0.25  0.    0.5   0.25  0.5   1.    0.5\n",
      "  0.75  0.25  0.75  0.    0.    0.    0.25  1.    0.5   0.75  0.25  1.\n",
      "  0.    0.25  0.25  0.75  0.5   0.5   0.    0.25 -0.25  0.    0.25  1.25\n",
      "  0.25  0.75  0.25  0.75  0.75  0.75  1.    0.75  0.75  0.75  0.25  0.25\n",
      "  1.    1.    1.    0.25  0.5   0.5   0.75  0.25  0.75  0.25  0.5   0.5\n",
      "  0.    0.    0.25 -0.25  0.75  0.5   0.75  0.25  0.75  0.25  0.75  0.\n",
      " -0.25  0.    0.25  0.25  0.    0.5   0.75  0.25  0.75  0.75  0.75  0.75\n",
      "  0.75  0.75  0.75  0.    0.75  0.5   0.75  0.    0.5   0.5   0.5   1.\n",
      "  0.5   1.    0.    0.25  0.25  0.75  0.75  1.    0.5   0.5   0.    0.25\n",
      "  0.5   0.75  1.    0.75  0.5   0.5   0.25  1.25  1.    0.    1.    0.25\n",
      "  0.75  1.    0.    0.5   0.    0.75  0.25  0.75  0.5   0.5   0.25  0.5\n",
      "  0.    0.5   0.75  0.25  0.75  1.    0.75  0.5   0.25  0.75  0.25  1.\n",
      "  0.75  1.    0.25  0.5   0.25  1.25  0.    0.75  0.    0.    0.    1.\n",
      "  0.5   0.    0.5   0.    0.5   1.    0.75  0.75  0.75  0.75  0.75  0.25\n",
      "  0.    1.    0.5   0.75  0.    0.25  0.5   0.    0.    0.    0.75  0.25\n",
      "  1.25  1.    0.25  0.25  0.25  0.    0.25  0.5   0.75  0.5   0.    0.\n",
      "  0.25  0.5   0.5   1.    0.75  0.    0.75  0.5   1.    0.75  0.5   0.\n",
      "  0.75  0.5   0.25  0.25  0.5   0.75  0.75  0.5   0.25  0.5   0.5   1.\n",
      "  0.25  0.5   0.75  0.5   0.75  0.75  0.75  0.    0.75  0.    0.75  0.\n",
      "  0.25  0.25  1.    0.    0.    0.5   0.5   0.5   0.   -0.25  0.75  0.\n",
      "  0.75  0.25  0.25  0.75  0.5   0.75  0.25  0.    0.    0.5   0.75  0.5\n",
      "  0.    0.75  0.75  0.5   0.75  0.    0.5   0.    0.25  0.75  0.    0.5\n",
      "  0.25  1.    0.75  1.25  0.75  0.25  0.25  0.75  0.5   0.    0.5   0.\n",
      "  0.75  0.75  0.25  0.5   0.75  0.75  0.25  0.5   0.75  0.5   0.5   0.75\n",
      "  0.75  0.25  0.25  0.75  0.5   0.5   0.5   0.5   0.75  0.    0.    0.75\n",
      "  0.75  0.    0.25  0.5   0.75  0.75  0.    0.5   0.5   0.5   0.75  0.75\n",
      "  0.75  0.75  0.75  0.75  0.5   0.75  0.5   0.5   1.25 -0.25  0.    0.25\n",
      "  0.    0.25  0.75  0.75  0.    0.75  0.5   0.75  0.    0.5   0.    0.5\n",
      "  0.25  0.25  0.75  0.25  0.25  0.5   0.75  1.    1.   -0.25  0.75  0.5\n",
      "  0.25  0.75  0.25  0.25] [ 0.5534917   0.81258947  0.19460785  0.514483    0.59314305  0.629763\n",
      "  0.49878785  0.49146685  0.28338143  0.47011682  0.28910068  0.69561493\n",
      "  0.23864537  0.37689993  0.4581553   0.5926145   0.453186    0.40170756\n",
      "  0.7652583   0.5925422   0.42184263  0.7755724   0.58743817  0.6215236\n",
      "  0.63252723  0.49770057  0.90782416  0.1497421   0.27600718  0.15788527\n",
      "  0.35294858  0.3236874   0.96010953  0.33129004  0.70253557  0.7027753\n",
      "  0.32266083  0.4005928   0.46403795  0.4839505   0.3225386   0.10761324\n",
      "  0.47880548  0.59974605  0.2239432   0.4439911   0.48452285  0.56739235\n",
      "  0.31655318  0.26975736  0.28868183  0.31371972  0.47304025  0.16597621\n",
      "  0.12355813  0.0219681   0.5010911   0.6655223   0.37600845  0.5264883\n",
      "  0.4675963   0.21479891  0.549892    0.15462707  0.5619679   0.5177656\n",
      "  0.5763432   0.44259912  0.42882547  0.47208518  0.4694379   0.9093012\n",
      "  0.42801133  0.6425438   0.51485026  0.12414797  0.33385646  0.3028092\n",
      "  0.22568247  0.33815783  0.3845556   0.57065034  0.5288878   0.50876975\n",
      "  0.53495914  0.30739743  0.29997748  0.37164795  0.55791914  1.0851597\n",
      "  0.59599024  0.7864984   0.24214594  0.469194    0.43636307  0.36409765\n",
      "  0.0443408   0.6205437   0.3782865   0.34603104  0.46005288  0.18324855\n",
      "  0.44494817  0.78326756  0.39762866  0.26893264  0.359997   -0.03475244\n",
      "  0.37907174  0.4410942   0.62657017  0.58917075  0.7108051   0.6367779\n",
      "  0.3148534   0.37798497  0.35293195  0.20880938  0.27225015  0.6202734\n",
      "  0.53622544  0.16971119  0.4184192   0.4856423   0.08544389  0.2889382\n",
      "  0.51731014  0.31341678  0.3185495   0.9706521   0.6816246   0.5653366\n",
      "  0.58170635  0.20075786  0.30020273  0.53805184  0.6311389   0.76610905\n",
      "  0.57469124  0.2669149   0.71868     0.6501694   0.5505065   0.43703195\n",
      "  0.8932213   0.19913453  0.13288029  0.5774468   0.3259434   0.557314\n",
      "  0.5155239   0.19156943  0.5824255   0.1906125   0.3787188   0.38713557\n",
      "  0.64267135  0.35219294  0.3003911   0.5032565   0.394883    0.9387568\n",
      "  0.2932391   0.25805795  0.10720072  0.7138818   0.4206001   0.93925637\n",
      "  0.807472    0.3629012   0.5035541   0.6582268   0.71867883  0.23541513\n",
      "  0.6262371   0.4134817   0.42819354  0.639897    0.85205144  0.07351619\n",
      "  0.33195293  0.35216445  0.64811826  0.3582624   0.89985406  0.40459305\n",
      "  0.6214159   0.61396503  0.5082703   0.31874722  0.67462957  0.35098055\n",
      "  0.33924112  0.3545276   0.34549642  0.46881235  0.5175017   0.59997976\n",
      "  0.48473167  0.3150863   0.5077522   0.3714814   0.5202143   0.7050786\n",
      "  0.3991554   0.52796954  0.6027819   0.6608302   0.19875044  0.6158731\n",
      "  0.09896822  0.57896745  0.30072248  0.51382816  0.63085616  0.31269437\n",
      "  0.2370426   0.34959507  0.7044881   0.44666445  0.8679766   0.8618697\n",
      "  0.18515879  0.40618026  0.7302273   0.20833085  0.46706727  0.1977581\n",
      "  0.29689685  0.44007042  0.40387434  0.37157613  0.49970248  0.2831477\n",
      "  0.33701017  0.6647522   0.48309234  0.26062047  0.3400892   0.29905677\n",
      "  0.4795737   0.56291825  0.423388    0.58608997  0.6214623   0.8009222\n",
      "  0.3316722   0.5542877   0.34012878  0.550271    0.206207    0.28150332\n",
      "  0.39375192  0.68280745  0.49133116  0.6541637   0.40815926  0.24145578\n",
      "  0.68673086  0.6709562   0.5719702   0.69545066  0.35639843  0.12352331\n",
      "  0.20192662  0.46694994  0.60992295  0.5105543   0.5376515   0.7430289\n",
      "  0.41610694  0.6749727   0.3218775   0.2797605   0.4733706   0.52510583\n",
      "  0.22792748  0.46973553  0.5971213   0.6786922   0.20988344  0.01512737\n",
      "  0.37540182  0.46934596  0.04309873  0.5885699   0.46471182  0.5355253\n",
      "  0.22766641  0.19884457  0.7026727   0.4005489  -0.00453396  0.43455684\n",
      "  0.09761913  0.55237     0.3858852   0.55398643  0.7798609   0.5542544\n",
      "  0.6605723   0.28086835  0.5019829   0.31037515  0.3391515   0.19243883\n",
      "  0.28931895  0.6103956   0.50648415  0.6159187   0.39321658  0.71968627\n",
      "  0.34320474  0.32585788  0.3996662   0.6670404   0.4308881   0.47024134\n",
      "  0.2605756   0.32028994 -0.07300135  0.1497434   0.3112864   0.78274304\n",
      "  0.39827308  0.5915835   0.23870528  0.61937857  0.6801172   0.77701145\n",
      "  0.5784808   0.5012913   0.62563956  0.54655594  0.39277846  0.45893776\n",
      "  0.7825169   0.73890823  0.733206    0.3431631   0.5031149   0.40877587\n",
      "  0.47248343  0.3572776   0.6129548   0.2793853   0.43948367  0.4628899\n",
      "  0.0726267   0.14640345  0.19489247 -0.08759101  0.62290937  0.4990929\n",
      "  0.62761265  0.4391163   0.58487463  0.3676025   0.5896266   0.32097924\n",
      "  0.06681302  0.0414447   0.32756412  0.39228263  0.33727205  0.4943657\n",
      "  0.6235848   0.37356508  0.70196843  0.61267674  0.6466541   0.69269437\n",
      "  0.67863935  0.6787078   0.59720683  0.1968496   0.6813583   0.5145436\n",
      "  0.58938164  0.22740772  0.50498325  0.47849882  0.52133274  0.8595111\n",
      "  0.5041675   0.5716701   0.2519698   0.334838    0.37471676  0.67355233\n",
      "  0.6907937   0.84592354  0.4238439   0.47611365  0.20280899  0.35791177\n",
      "  0.48312056  0.5423343   0.6495212   0.70185393  0.4085193   0.56842583\n",
      "  0.3642275   0.98231024  0.7923264   0.31613135  0.8370372   0.34138864\n",
      "  0.5559442   0.696824    0.2232674   0.4774956   0.07575122  0.5703701\n",
      "  0.3593713   0.6868939   0.5306093   0.47143865  0.2706461   0.48271355\n",
      "  0.28538048  0.527984    0.70773745  0.24360071  0.5614659   0.70653665\n",
      "  0.69501376  0.37882447  0.32712787  0.52369416  0.38229734  0.7100474\n",
      "  0.62952393  0.6841317   0.2841944   0.53253466  0.38771188  0.8889037\n",
      "  0.09986138  0.63201183  0.14901368  0.13083667  0.2560696   0.78947437\n",
      "  0.51742756  0.02751342  0.40423757  0.27904797  0.3619349   0.76517457\n",
      "  0.59423155  0.7243054   0.5059568   0.6764331   0.6348847   0.3612891\n",
      "  0.32277352  0.8136843   0.53058374  0.7042453   0.30144465  0.35434902\n",
      "  0.51111305  0.11751479  0.16890737  0.21576777  0.46552852  0.3449808\n",
      "  0.75155646  0.70499724  0.27440232  0.28061998  0.44084746  0.17521882\n",
      "  0.26805878  0.39761674  0.5016088   0.43433258  0.33216035  0.161516\n",
      "  0.36537784  0.44313344  0.39222512  0.78047174  0.5872859   0.12930846\n",
      "  0.7261876   0.56971186  0.70529884  0.664043    0.5569033   0.28549945\n",
      "  0.56635714  0.46939906  0.38171118  0.41656688  0.44306773  0.546337\n",
      "  0.68909734  0.5418567   0.27796775  0.4307951   0.39196658  0.7895815\n",
      "  0.39773667  0.55389804  0.7989803   0.38133234  0.54497397  0.628333\n",
      "  0.6332523   0.3012841   0.60309786  0.10478954  0.748142    0.18922876\n",
      "  0.3885655   0.42054304  0.5973508   0.21638966  0.23318027  0.4942993\n",
      "  0.5608495   0.52349675  0.10351253  0.01231531  0.58248156  0.10605724\n",
      "  0.5473446   0.27371237  0.35508704  0.7034201   0.48978868  0.534932\n",
      "  0.46432653  0.20564055  0.32111248  0.5001115   0.5814656   0.42309228\n",
      "  0.33907115  0.604034    0.6864188   0.49641642  0.5701305   0.4160529\n",
      "  0.40899864  0.21891905  0.40175864  0.6546282   0.34802523  0.45174235\n",
      "  0.35151207  0.87106895  0.5978581   0.8039534   0.5477552   0.4001806\n",
      "  0.30560952  0.6002501   0.49495593  0.31363887  0.46672124  0.202273\n",
      "  0.6434264   0.7237176   0.2206591   0.50746447  0.60685605  0.63942045\n",
      "  0.20626225  0.45161903  0.6153525   0.46859667  0.55990493  0.5995024\n",
      "  0.66505665  0.3525889   0.38677523  0.6458223   0.57011706  0.45255533\n",
      "  0.4465546   0.41157553  0.47739664  0.1704922   0.33150452  0.5503535\n",
      "  0.5729846   0.14074413  0.31674677  0.33926398  0.4839818   0.56462425\n",
      "  0.34802827  0.52252144  0.50852114  0.52454835  0.55796504  0.63280356\n",
      "  0.67832005  0.594435    0.5451341   0.5561355   0.4486679   0.54760057\n",
      "  0.4482017   0.5105743   0.95780325  0.15943     0.04319313  0.338377\n",
      "  0.36273506  0.36744842  0.50311893  0.46583918  0.13023312  0.6615889\n",
      "  0.45397595  0.68940413  0.15640289  0.5229469   0.4161433   0.51515037\n",
      "  0.27896786  0.20913975  0.5990883   0.38148168  0.32333046  0.5867108\n",
      "  0.702304    0.6616722   0.7987833   0.1415603   0.5746522   0.41402194\n",
      "  0.28903666  0.6050004   0.49887544  0.4469154 ]\n"
     ]
    }
   ],
   "source": [
    "best_model_TEG1, TEG1_train, TEG1_score = train_model(extended_df, 'Events', ['Record ID', 'Visit Timepoint', \"Date of TEG Collection\"])"
   ]
  },
  {
   "cell_type": "code",
   "execution_count": 495,
   "metadata": {},
   "outputs": [
    {
     "data": {
      "text/plain": [
       "{'mse test': 0.09982936983617062,\n",
       " 'r2 test': 0.03558787035318067,\n",
       " 'mse train': 0.02946524434406874,\n",
       " 'r2 train': 0.7360229641822067}"
      ]
     },
     "execution_count": 495,
     "metadata": {},
     "output_type": "execute_result"
    }
   ],
   "source": [
    "TEG1_score"
   ]
  },
  {
   "cell_type": "markdown",
   "metadata": {},
   "source": [
    "### Feature importance"
   ]
  },
  {
   "cell_type": "code",
   "execution_count": 496,
   "metadata": {},
   "outputs": [
    {
     "name": "stderr",
     "output_type": "stream",
     "text": [
      "/opt/anaconda3/envs/Capstone2023/lib/python3.10/site-packages/xgboost/core.py:160: UserWarning:\n",
      "\n",
      "[17:22:15] WARNING: /Users/runner/work/xgboost/xgboost/src/c_api/c_api.cc:1240: Saving into deprecated binary model format, please consider using `json` or `ubj`. Model format will default to JSON in XGBoost 2.2 if not specified.\n",
      "\n",
      "/opt/anaconda3/envs/Capstone2023/lib/python3.10/site-packages/xgboost/data.py:335: FutureWarning:\n",
      "\n",
      "is_sparse is deprecated and will be removed in a future version. Check `isinstance(dtype, pd.SparseDtype)` instead.\n",
      "\n",
      "/opt/anaconda3/envs/Capstone2023/lib/python3.10/site-packages/xgboost/data.py:338: FutureWarning:\n",
      "\n",
      "is_categorical_dtype is deprecated and will be removed in a future version. Use isinstance(dtype, CategoricalDtype) instead\n",
      "\n",
      "/opt/anaconda3/envs/Capstone2023/lib/python3.10/site-packages/xgboost/data.py:384: FutureWarning:\n",
      "\n",
      "is_categorical_dtype is deprecated and will be removed in a future version. Use isinstance(dtype, CategoricalDtype) instead\n",
      "\n",
      "/opt/anaconda3/envs/Capstone2023/lib/python3.10/site-packages/xgboost/data.py:359: FutureWarning:\n",
      "\n",
      "is_categorical_dtype is deprecated and will be removed in a future version. Use isinstance(dtype, CategoricalDtype) instead\n",
      "\n"
     ]
    },
    {
     "data": {
      "text/html": [
       "<div>\n",
       "<style scoped>\n",
       "    .dataframe tbody tr th:only-of-type {\n",
       "        vertical-align: middle;\n",
       "    }\n",
       "\n",
       "    .dataframe tbody tr th {\n",
       "        vertical-align: top;\n",
       "    }\n",
       "\n",
       "    .dataframe thead th {\n",
       "        text-align: right;\n",
       "    }\n",
       "</style>\n",
       "<table border=\"1\" class=\"dataframe\">\n",
       "  <thead>\n",
       "    <tr style=\"text-align: right;\">\n",
       "      <th></th>\n",
       "      <th>Feature</th>\n",
       "      <th>Importance</th>\n",
       "    </tr>\n",
       "  </thead>\n",
       "  <tbody>\n",
       "    <tr>\n",
       "      <th>20</th>\n",
       "      <td>CFF FLEV(mg/dL)</td>\n",
       "      <td>12.297022</td>\n",
       "    </tr>\n",
       "    <tr>\n",
       "      <th>69</th>\n",
       "      <td>AA % Inhibition_difference_since_last_timepoint</td>\n",
       "      <td>4.746801</td>\n",
       "    </tr>\n",
       "    <tr>\n",
       "      <th>65</th>\n",
       "      <td>ADP % Inhibition_difference_since_last_timepoint</td>\n",
       "      <td>4.543478</td>\n",
       "    </tr>\n",
       "    <tr>\n",
       "      <th>63</th>\n",
       "      <td>ADP % Aggregation_difference_since_last_timepoint</td>\n",
       "      <td>4.496803</td>\n",
       "    </tr>\n",
       "    <tr>\n",
       "      <th>93</th>\n",
       "      <td>PT value_difference_since_last_timepoint</td>\n",
       "      <td>4.314323</td>\n",
       "    </tr>\n",
       "    <tr>\n",
       "      <th>...</th>\n",
       "      <td>...</td>\n",
       "      <td>...</td>\n",
       "    </tr>\n",
       "    <tr>\n",
       "      <th>39</th>\n",
       "      <td>Antiplatelet therapy_aspirin</td>\n",
       "      <td>0.000000</td>\n",
       "    </tr>\n",
       "    <tr>\n",
       "      <th>33</th>\n",
       "      <td>Statin within 24 Hours_Pravastatin</td>\n",
       "      <td>0.000000</td>\n",
       "    </tr>\n",
       "    <tr>\n",
       "      <th>34</th>\n",
       "      <td>Statin within 24 Hours_Rosuvastatin</td>\n",
       "      <td>0.000000</td>\n",
       "    </tr>\n",
       "    <tr>\n",
       "      <th>37</th>\n",
       "      <td>Antiplatelet therapy_ticagrelor</td>\n",
       "      <td>0.000000</td>\n",
       "    </tr>\n",
       "    <tr>\n",
       "      <th>0</th>\n",
       "      <td>Cilostazol within 7 days</td>\n",
       "      <td>0.000000</td>\n",
       "    </tr>\n",
       "  </tbody>\n",
       "</table>\n",
       "<p>105 rows × 2 columns</p>\n",
       "</div>"
      ],
      "text/plain": [
       "                                              Feature  Importance\n",
       "20                                    CFF FLEV(mg/dL)   12.297022\n",
       "69    AA % Inhibition_difference_since_last_timepoint    4.746801\n",
       "65   ADP % Inhibition_difference_since_last_timepoint    4.543478\n",
       "63  ADP % Aggregation_difference_since_last_timepoint    4.496803\n",
       "93           PT value_difference_since_last_timepoint    4.314323\n",
       "..                                                ...         ...\n",
       "39                       Antiplatelet therapy_aspirin    0.000000\n",
       "33                 Statin within 24 Hours_Pravastatin    0.000000\n",
       "34                Statin within 24 Hours_Rosuvastatin    0.000000\n",
       "37                    Antiplatelet therapy_ticagrelor    0.000000\n",
       "0                            Cilostazol within 7 days    0.000000\n",
       "\n",
       "[105 rows x 2 columns]"
      ]
     },
     "execution_count": 496,
     "metadata": {},
     "output_type": "execute_result"
    }
   ],
   "source": [
    "importance_df_TEG1 = feature_importance(best_model_TEG1, TEG1_train)\n",
    "importance_df_TEG1"
   ]
  },
  {
   "cell_type": "code",
   "execution_count": 497,
   "metadata": {},
   "outputs": [
    {
     "data": {
      "application/vnd.plotly.v1+json": {
       "config": {
        "plotlyServerURL": "https://plot.ly"
       },
       "data": [
        {
         "alignmentgroup": "True",
         "hovertemplate": "variable=Importance<br>Percentage=%{x}<br>Factors=%{y}<extra></extra>",
         "legendgroup": "Importance",
         "marker": {
          "color": "#636efa",
          "pattern": {
           "shape": ""
          }
         },
         "name": "Importance",
         "offsetgroup": "Importance",
         "orientation": "h",
         "showlegend": true,
         "textposition": "auto",
         "type": "bar",
         "x": [
          12.297021865844727,
          4.746800899505615,
          4.543478488922119,
          4.496803283691406,
          4.3143229484558105,
          2.520922899246216,
          2.4717674255371094,
          2.397387742996216,
          2.2491159439086914,
          2.23327374458313
         ],
         "xaxis": "x",
         "y": [
          "CFF FLEV(mg/dL)",
          "AA % Inhibition_difference_since_last_timepoint",
          "ADP % Inhibition_difference_since_last_timepoint",
          "ADP % Aggregation_difference_since_last_timepoint",
          "PT value_difference_since_last_timepoint",
          "CK K (min)",
          "CRT MA(mm)",
          "CKH R (min)",
          "CK angle( deg)_difference_since_last_timepoint",
          "CK R(min)"
         ],
         "yaxis": "y"
        }
       ],
       "layout": {
        "barmode": "relative",
        "legend": {
         "title": {
          "text": "variable"
         },
         "tracegroupgap": 0
        },
        "showlegend": false,
        "template": {
         "data": {
          "bar": [
           {
            "error_x": {
             "color": "#2a3f5f"
            },
            "error_y": {
             "color": "#2a3f5f"
            },
            "marker": {
             "line": {
              "color": "#E5ECF6",
              "width": 0.5
             },
             "pattern": {
              "fillmode": "overlay",
              "size": 10,
              "solidity": 0.2
             }
            },
            "type": "bar"
           }
          ],
          "barpolar": [
           {
            "marker": {
             "line": {
              "color": "#E5ECF6",
              "width": 0.5
             },
             "pattern": {
              "fillmode": "overlay",
              "size": 10,
              "solidity": 0.2
             }
            },
            "type": "barpolar"
           }
          ],
          "carpet": [
           {
            "aaxis": {
             "endlinecolor": "#2a3f5f",
             "gridcolor": "white",
             "linecolor": "white",
             "minorgridcolor": "white",
             "startlinecolor": "#2a3f5f"
            },
            "baxis": {
             "endlinecolor": "#2a3f5f",
             "gridcolor": "white",
             "linecolor": "white",
             "minorgridcolor": "white",
             "startlinecolor": "#2a3f5f"
            },
            "type": "carpet"
           }
          ],
          "choropleth": [
           {
            "colorbar": {
             "outlinewidth": 0,
             "ticks": ""
            },
            "type": "choropleth"
           }
          ],
          "contour": [
           {
            "colorbar": {
             "outlinewidth": 0,
             "ticks": ""
            },
            "colorscale": [
             [
              0,
              "#0d0887"
             ],
             [
              0.1111111111111111,
              "#46039f"
             ],
             [
              0.2222222222222222,
              "#7201a8"
             ],
             [
              0.3333333333333333,
              "#9c179e"
             ],
             [
              0.4444444444444444,
              "#bd3786"
             ],
             [
              0.5555555555555556,
              "#d8576b"
             ],
             [
              0.6666666666666666,
              "#ed7953"
             ],
             [
              0.7777777777777778,
              "#fb9f3a"
             ],
             [
              0.8888888888888888,
              "#fdca26"
             ],
             [
              1,
              "#f0f921"
             ]
            ],
            "type": "contour"
           }
          ],
          "contourcarpet": [
           {
            "colorbar": {
             "outlinewidth": 0,
             "ticks": ""
            },
            "type": "contourcarpet"
           }
          ],
          "heatmap": [
           {
            "colorbar": {
             "outlinewidth": 0,
             "ticks": ""
            },
            "colorscale": [
             [
              0,
              "#0d0887"
             ],
             [
              0.1111111111111111,
              "#46039f"
             ],
             [
              0.2222222222222222,
              "#7201a8"
             ],
             [
              0.3333333333333333,
              "#9c179e"
             ],
             [
              0.4444444444444444,
              "#bd3786"
             ],
             [
              0.5555555555555556,
              "#d8576b"
             ],
             [
              0.6666666666666666,
              "#ed7953"
             ],
             [
              0.7777777777777778,
              "#fb9f3a"
             ],
             [
              0.8888888888888888,
              "#fdca26"
             ],
             [
              1,
              "#f0f921"
             ]
            ],
            "type": "heatmap"
           }
          ],
          "heatmapgl": [
           {
            "colorbar": {
             "outlinewidth": 0,
             "ticks": ""
            },
            "colorscale": [
             [
              0,
              "#0d0887"
             ],
             [
              0.1111111111111111,
              "#46039f"
             ],
             [
              0.2222222222222222,
              "#7201a8"
             ],
             [
              0.3333333333333333,
              "#9c179e"
             ],
             [
              0.4444444444444444,
              "#bd3786"
             ],
             [
              0.5555555555555556,
              "#d8576b"
             ],
             [
              0.6666666666666666,
              "#ed7953"
             ],
             [
              0.7777777777777778,
              "#fb9f3a"
             ],
             [
              0.8888888888888888,
              "#fdca26"
             ],
             [
              1,
              "#f0f921"
             ]
            ],
            "type": "heatmapgl"
           }
          ],
          "histogram": [
           {
            "marker": {
             "pattern": {
              "fillmode": "overlay",
              "size": 10,
              "solidity": 0.2
             }
            },
            "type": "histogram"
           }
          ],
          "histogram2d": [
           {
            "colorbar": {
             "outlinewidth": 0,
             "ticks": ""
            },
            "colorscale": [
             [
              0,
              "#0d0887"
             ],
             [
              0.1111111111111111,
              "#46039f"
             ],
             [
              0.2222222222222222,
              "#7201a8"
             ],
             [
              0.3333333333333333,
              "#9c179e"
             ],
             [
              0.4444444444444444,
              "#bd3786"
             ],
             [
              0.5555555555555556,
              "#d8576b"
             ],
             [
              0.6666666666666666,
              "#ed7953"
             ],
             [
              0.7777777777777778,
              "#fb9f3a"
             ],
             [
              0.8888888888888888,
              "#fdca26"
             ],
             [
              1,
              "#f0f921"
             ]
            ],
            "type": "histogram2d"
           }
          ],
          "histogram2dcontour": [
           {
            "colorbar": {
             "outlinewidth": 0,
             "ticks": ""
            },
            "colorscale": [
             [
              0,
              "#0d0887"
             ],
             [
              0.1111111111111111,
              "#46039f"
             ],
             [
              0.2222222222222222,
              "#7201a8"
             ],
             [
              0.3333333333333333,
              "#9c179e"
             ],
             [
              0.4444444444444444,
              "#bd3786"
             ],
             [
              0.5555555555555556,
              "#d8576b"
             ],
             [
              0.6666666666666666,
              "#ed7953"
             ],
             [
              0.7777777777777778,
              "#fb9f3a"
             ],
             [
              0.8888888888888888,
              "#fdca26"
             ],
             [
              1,
              "#f0f921"
             ]
            ],
            "type": "histogram2dcontour"
           }
          ],
          "mesh3d": [
           {
            "colorbar": {
             "outlinewidth": 0,
             "ticks": ""
            },
            "type": "mesh3d"
           }
          ],
          "parcoords": [
           {
            "line": {
             "colorbar": {
              "outlinewidth": 0,
              "ticks": ""
             }
            },
            "type": "parcoords"
           }
          ],
          "pie": [
           {
            "automargin": true,
            "type": "pie"
           }
          ],
          "scatter": [
           {
            "fillpattern": {
             "fillmode": "overlay",
             "size": 10,
             "solidity": 0.2
            },
            "type": "scatter"
           }
          ],
          "scatter3d": [
           {
            "line": {
             "colorbar": {
              "outlinewidth": 0,
              "ticks": ""
             }
            },
            "marker": {
             "colorbar": {
              "outlinewidth": 0,
              "ticks": ""
             }
            },
            "type": "scatter3d"
           }
          ],
          "scattercarpet": [
           {
            "marker": {
             "colorbar": {
              "outlinewidth": 0,
              "ticks": ""
             }
            },
            "type": "scattercarpet"
           }
          ],
          "scattergeo": [
           {
            "marker": {
             "colorbar": {
              "outlinewidth": 0,
              "ticks": ""
             }
            },
            "type": "scattergeo"
           }
          ],
          "scattergl": [
           {
            "marker": {
             "colorbar": {
              "outlinewidth": 0,
              "ticks": ""
             }
            },
            "type": "scattergl"
           }
          ],
          "scattermapbox": [
           {
            "marker": {
             "colorbar": {
              "outlinewidth": 0,
              "ticks": ""
             }
            },
            "type": "scattermapbox"
           }
          ],
          "scatterpolar": [
           {
            "marker": {
             "colorbar": {
              "outlinewidth": 0,
              "ticks": ""
             }
            },
            "type": "scatterpolar"
           }
          ],
          "scatterpolargl": [
           {
            "marker": {
             "colorbar": {
              "outlinewidth": 0,
              "ticks": ""
             }
            },
            "type": "scatterpolargl"
           }
          ],
          "scatterternary": [
           {
            "marker": {
             "colorbar": {
              "outlinewidth": 0,
              "ticks": ""
             }
            },
            "type": "scatterternary"
           }
          ],
          "surface": [
           {
            "colorbar": {
             "outlinewidth": 0,
             "ticks": ""
            },
            "colorscale": [
             [
              0,
              "#0d0887"
             ],
             [
              0.1111111111111111,
              "#46039f"
             ],
             [
              0.2222222222222222,
              "#7201a8"
             ],
             [
              0.3333333333333333,
              "#9c179e"
             ],
             [
              0.4444444444444444,
              "#bd3786"
             ],
             [
              0.5555555555555556,
              "#d8576b"
             ],
             [
              0.6666666666666666,
              "#ed7953"
             ],
             [
              0.7777777777777778,
              "#fb9f3a"
             ],
             [
              0.8888888888888888,
              "#fdca26"
             ],
             [
              1,
              "#f0f921"
             ]
            ],
            "type": "surface"
           }
          ],
          "table": [
           {
            "cells": {
             "fill": {
              "color": "#EBF0F8"
             },
             "line": {
              "color": "white"
             }
            },
            "header": {
             "fill": {
              "color": "#C8D4E3"
             },
             "line": {
              "color": "white"
             }
            },
            "type": "table"
           }
          ]
         },
         "layout": {
          "annotationdefaults": {
           "arrowcolor": "#2a3f5f",
           "arrowhead": 0,
           "arrowwidth": 1
          },
          "autotypenumbers": "strict",
          "coloraxis": {
           "colorbar": {
            "outlinewidth": 0,
            "ticks": ""
           }
          },
          "colorscale": {
           "diverging": [
            [
             0,
             "#8e0152"
            ],
            [
             0.1,
             "#c51b7d"
            ],
            [
             0.2,
             "#de77ae"
            ],
            [
             0.3,
             "#f1b6da"
            ],
            [
             0.4,
             "#fde0ef"
            ],
            [
             0.5,
             "#f7f7f7"
            ],
            [
             0.6,
             "#e6f5d0"
            ],
            [
             0.7,
             "#b8e186"
            ],
            [
             0.8,
             "#7fbc41"
            ],
            [
             0.9,
             "#4d9221"
            ],
            [
             1,
             "#276419"
            ]
           ],
           "sequential": [
            [
             0,
             "#0d0887"
            ],
            [
             0.1111111111111111,
             "#46039f"
            ],
            [
             0.2222222222222222,
             "#7201a8"
            ],
            [
             0.3333333333333333,
             "#9c179e"
            ],
            [
             0.4444444444444444,
             "#bd3786"
            ],
            [
             0.5555555555555556,
             "#d8576b"
            ],
            [
             0.6666666666666666,
             "#ed7953"
            ],
            [
             0.7777777777777778,
             "#fb9f3a"
            ],
            [
             0.8888888888888888,
             "#fdca26"
            ],
            [
             1,
             "#f0f921"
            ]
           ],
           "sequentialminus": [
            [
             0,
             "#0d0887"
            ],
            [
             0.1111111111111111,
             "#46039f"
            ],
            [
             0.2222222222222222,
             "#7201a8"
            ],
            [
             0.3333333333333333,
             "#9c179e"
            ],
            [
             0.4444444444444444,
             "#bd3786"
            ],
            [
             0.5555555555555556,
             "#d8576b"
            ],
            [
             0.6666666666666666,
             "#ed7953"
            ],
            [
             0.7777777777777778,
             "#fb9f3a"
            ],
            [
             0.8888888888888888,
             "#fdca26"
            ],
            [
             1,
             "#f0f921"
            ]
           ]
          },
          "colorway": [
           "#636efa",
           "#EF553B",
           "#00cc96",
           "#ab63fa",
           "#FFA15A",
           "#19d3f3",
           "#FF6692",
           "#B6E880",
           "#FF97FF",
           "#FECB52"
          ],
          "font": {
           "color": "#2a3f5f"
          },
          "geo": {
           "bgcolor": "white",
           "lakecolor": "white",
           "landcolor": "#E5ECF6",
           "showlakes": true,
           "showland": true,
           "subunitcolor": "white"
          },
          "hoverlabel": {
           "align": "left"
          },
          "hovermode": "closest",
          "mapbox": {
           "style": "light"
          },
          "paper_bgcolor": "white",
          "plot_bgcolor": "#E5ECF6",
          "polar": {
           "angularaxis": {
            "gridcolor": "white",
            "linecolor": "white",
            "ticks": ""
           },
           "bgcolor": "#E5ECF6",
           "radialaxis": {
            "gridcolor": "white",
            "linecolor": "white",
            "ticks": ""
           }
          },
          "scene": {
           "xaxis": {
            "backgroundcolor": "#E5ECF6",
            "gridcolor": "white",
            "gridwidth": 2,
            "linecolor": "white",
            "showbackground": true,
            "ticks": "",
            "zerolinecolor": "white"
           },
           "yaxis": {
            "backgroundcolor": "#E5ECF6",
            "gridcolor": "white",
            "gridwidth": 2,
            "linecolor": "white",
            "showbackground": true,
            "ticks": "",
            "zerolinecolor": "white"
           },
           "zaxis": {
            "backgroundcolor": "#E5ECF6",
            "gridcolor": "white",
            "gridwidth": 2,
            "linecolor": "white",
            "showbackground": true,
            "ticks": "",
            "zerolinecolor": "white"
           }
          },
          "shapedefaults": {
           "line": {
            "color": "#2a3f5f"
           }
          },
          "ternary": {
           "aaxis": {
            "gridcolor": "white",
            "linecolor": "white",
            "ticks": ""
           },
           "baxis": {
            "gridcolor": "white",
            "linecolor": "white",
            "ticks": ""
           },
           "bgcolor": "#E5ECF6",
           "caxis": {
            "gridcolor": "white",
            "linecolor": "white",
            "ticks": ""
           }
          },
          "title": {
           "x": 0.05
          },
          "xaxis": {
           "automargin": true,
           "gridcolor": "white",
           "linecolor": "white",
           "ticks": "",
           "title": {
            "standoff": 15
           },
           "zerolinecolor": "white",
           "zerolinewidth": 2
          },
          "yaxis": {
           "automargin": true,
           "gridcolor": "white",
           "linecolor": "white",
           "ticks": "",
           "title": {
            "standoff": 15
           },
           "zerolinecolor": "white",
           "zerolinewidth": 2
          }
         }
        },
        "title": {
         "text": "Teg 1 feature importance"
        },
        "xaxis": {
         "anchor": "y",
         "domain": [
          0,
          1
         ],
         "title": {
          "text": "Percentage"
         }
        },
        "yaxis": {
         "anchor": "x",
         "categoryorder": "total ascending",
         "domain": [
          0,
          1
         ],
         "title": {
          "text": "Factors"
         }
        }
       }
      }
     },
     "metadata": {},
     "output_type": "display_data"
    }
   ],
   "source": [
    "# Plot SHAP summary plot\n",
    "fig = plot_importance(importance_df_TEG1, \"Teg 1 feature importance\", showlegend=False)\n",
    "display(fig)"
   ]
  },
  {
   "cell_type": "markdown",
   "metadata": {},
   "source": [
    "## User interface\n",
    "Here , the user will select the features that they want to test in the next iteration of the model, based on the results from the first model.\n",
    "\n",
    "Streamlit can read strings so for the sake of this notebook streamlit outputs will be printed strings"
   ]
  },
  {
   "cell_type": "code",
   "execution_count": 498,
   "metadata": {},
   "outputs": [
    {
     "data": {
      "text/html": [
       "<div>\n",
       "<style scoped>\n",
       "    .dataframe tbody tr th:only-of-type {\n",
       "        vertical-align: middle;\n",
       "    }\n",
       "\n",
       "    .dataframe tbody tr th {\n",
       "        vertical-align: top;\n",
       "    }\n",
       "\n",
       "    .dataframe thead th {\n",
       "        text-align: right;\n",
       "    }\n",
       "</style>\n",
       "<table border=\"1\" class=\"dataframe\">\n",
       "  <thead>\n",
       "    <tr style=\"text-align: right;\">\n",
       "      <th></th>\n",
       "      <th>Record ID</th>\n",
       "      <th>Visit Timepoint</th>\n",
       "      <th>Cilostazol within 7 days</th>\n",
       "      <th>Reaction Time (R) in min</th>\n",
       "      <th>Lysis at 30 min (LY30) in %</th>\n",
       "      <th>CRT Max amplitude (MA) in mm</th>\n",
       "      <th>CFF Max Amplitude( MA) in mm</th>\n",
       "      <th>HKH MA (mm)</th>\n",
       "      <th>ActF MA (mm)</th>\n",
       "      <th>ADP MA (mm)</th>\n",
       "      <th>...</th>\n",
       "      <th>WBC in K/uL_difference_since_last_timepoint</th>\n",
       "      <th>WBC in K/uL_rate_since_last_timepoint</th>\n",
       "      <th>RBC (M/uL)_difference_since_last_timepoint</th>\n",
       "      <th>RBC (M/uL)_rate_since_last_timepoint</th>\n",
       "      <th>HGB(g/dL)_difference_since_last_timepoint</th>\n",
       "      <th>HGB(g/dL)_rate_since_last_timepoint</th>\n",
       "      <th>HCT %_difference_since_last_timepoint</th>\n",
       "      <th>HCT %_rate_since_last_timepoint</th>\n",
       "      <th>PLT(K/uL)_difference_since_last_timepoint</th>\n",
       "      <th>PLT(K/uL)_rate_since_last_timepoint</th>\n",
       "    </tr>\n",
       "  </thead>\n",
       "  <tbody>\n",
       "    <tr>\n",
       "      <th>180</th>\n",
       "      <td>5</td>\n",
       "      <td>PO day 5</td>\n",
       "      <td>True</td>\n",
       "      <td>7.425528</td>\n",
       "      <td>6.675401</td>\n",
       "      <td>52.212001</td>\n",
       "      <td>15.904663</td>\n",
       "      <td>28.036351</td>\n",
       "      <td>7.587697</td>\n",
       "      <td>56.805257</td>\n",
       "      <td>...</td>\n",
       "      <td>9.106074</td>\n",
       "      <td>9.106074</td>\n",
       "      <td>-1.014485</td>\n",
       "      <td>-1.014485</td>\n",
       "      <td>7.921662</td>\n",
       "      <td>7.921662</td>\n",
       "      <td>-13.458326</td>\n",
       "      <td>-13.458326</td>\n",
       "      <td>-249.355270</td>\n",
       "      <td>-249.355270</td>\n",
       "    </tr>\n",
       "    <tr>\n",
       "      <th>440</th>\n",
       "      <td>5</td>\n",
       "      <td>6M PO</td>\n",
       "      <td>False</td>\n",
       "      <td>10.702089</td>\n",
       "      <td>0.656228</td>\n",
       "      <td>71.953789</td>\n",
       "      <td>5.807159</td>\n",
       "      <td>67.417546</td>\n",
       "      <td>16.221351</td>\n",
       "      <td>26.255706</td>\n",
       "      <td>...</td>\n",
       "      <td>9.106074</td>\n",
       "      <td>9.106074</td>\n",
       "      <td>-1.014485</td>\n",
       "      <td>-1.014485</td>\n",
       "      <td>7.921662</td>\n",
       "      <td>7.921662</td>\n",
       "      <td>-13.458326</td>\n",
       "      <td>-13.458326</td>\n",
       "      <td>-249.355270</td>\n",
       "      <td>-249.355270</td>\n",
       "    </tr>\n",
       "    <tr>\n",
       "      <th>700</th>\n",
       "      <td>5</td>\n",
       "      <td>3M PO</td>\n",
       "      <td>False</td>\n",
       "      <td>10.607417</td>\n",
       "      <td>16.139201</td>\n",
       "      <td>64.730293</td>\n",
       "      <td>15.288470</td>\n",
       "      <td>8.401876</td>\n",
       "      <td>3.210972</td>\n",
       "      <td>38.596551</td>\n",
       "      <td>...</td>\n",
       "      <td>-5.087270</td>\n",
       "      <td>-5.087270</td>\n",
       "      <td>1.503586</td>\n",
       "      <td>1.503586</td>\n",
       "      <td>-8.636336</td>\n",
       "      <td>-8.636336</td>\n",
       "      <td>9.633411</td>\n",
       "      <td>9.633411</td>\n",
       "      <td>-147.103130</td>\n",
       "      <td>-147.103130</td>\n",
       "    </tr>\n",
       "    <tr>\n",
       "      <th>128</th>\n",
       "      <td>5</td>\n",
       "      <td>Enrollment + Baseline</td>\n",
       "      <td>True</td>\n",
       "      <td>2.819015</td>\n",
       "      <td>1.919594</td>\n",
       "      <td>41.969595</td>\n",
       "      <td>55.000000</td>\n",
       "      <td>14.604583</td>\n",
       "      <td>5.853914</td>\n",
       "      <td>29.244894</td>\n",
       "      <td>...</td>\n",
       "      <td>-7.551344</td>\n",
       "      <td>-0.009547</td>\n",
       "      <td>0.330476</td>\n",
       "      <td>0.000418</td>\n",
       "      <td>9.322541</td>\n",
       "      <td>0.011786</td>\n",
       "      <td>-5.375699</td>\n",
       "      <td>-0.006796</td>\n",
       "      <td>25.629758</td>\n",
       "      <td>0.032402</td>\n",
       "    </tr>\n",
       "    <tr>\n",
       "      <th>388</th>\n",
       "      <td>5</td>\n",
       "      <td>PO Day 4</td>\n",
       "      <td>False</td>\n",
       "      <td>14.783077</td>\n",
       "      <td>14.054237</td>\n",
       "      <td>71.794990</td>\n",
       "      <td>6.135578</td>\n",
       "      <td>9.079231</td>\n",
       "      <td>3.125496</td>\n",
       "      <td>30.790119</td>\n",
       "      <td>...</td>\n",
       "      <td>10.308678</td>\n",
       "      <td>10.308678</td>\n",
       "      <td>-1.949096</td>\n",
       "      <td>-1.949096</td>\n",
       "      <td>0.651670</td>\n",
       "      <td>0.651670</td>\n",
       "      <td>-18.384132</td>\n",
       "      <td>-18.384132</td>\n",
       "      <td>370.865677</td>\n",
       "      <td>370.865677</td>\n",
       "    </tr>\n",
       "  </tbody>\n",
       "</table>\n",
       "<p>5 rows × 109 columns</p>\n",
       "</div>"
      ],
      "text/plain": [
       "    Record ID        Visit Timepoint  Cilostazol within 7 days  \\\n",
       "180         5               PO day 5                      True   \n",
       "440         5                  6M PO                     False   \n",
       "700         5                  3M PO                     False   \n",
       "128         5  Enrollment + Baseline                      True   \n",
       "388         5               PO Day 4                     False   \n",
       "\n",
       "     Reaction Time (R) in min  Lysis at 30 min (LY30) in %  \\\n",
       "180                  7.425528                     6.675401   \n",
       "440                 10.702089                     0.656228   \n",
       "700                 10.607417                    16.139201   \n",
       "128                  2.819015                     1.919594   \n",
       "388                 14.783077                    14.054237   \n",
       "\n",
       "     CRT Max amplitude (MA) in mm  CFF Max Amplitude( MA) in mm  HKH MA (mm)  \\\n",
       "180                     52.212001                     15.904663    28.036351   \n",
       "440                     71.953789                      5.807159    67.417546   \n",
       "700                     64.730293                     15.288470     8.401876   \n",
       "128                     41.969595                     55.000000    14.604583   \n",
       "388                     71.794990                      6.135578     9.079231   \n",
       "\n",
       "     ActF MA (mm)  ADP MA (mm)  ...  \\\n",
       "180      7.587697    56.805257  ...   \n",
       "440     16.221351    26.255706  ...   \n",
       "700      3.210972    38.596551  ...   \n",
       "128      5.853914    29.244894  ...   \n",
       "388      3.125496    30.790119  ...   \n",
       "\n",
       "     WBC in K/uL_difference_since_last_timepoint  \\\n",
       "180                                     9.106074   \n",
       "440                                     9.106074   \n",
       "700                                    -5.087270   \n",
       "128                                    -7.551344   \n",
       "388                                    10.308678   \n",
       "\n",
       "     WBC in K/uL_rate_since_last_timepoint  \\\n",
       "180                               9.106074   \n",
       "440                               9.106074   \n",
       "700                              -5.087270   \n",
       "128                              -0.009547   \n",
       "388                              10.308678   \n",
       "\n",
       "     RBC (M/uL)_difference_since_last_timepoint  \\\n",
       "180                                   -1.014485   \n",
       "440                                   -1.014485   \n",
       "700                                    1.503586   \n",
       "128                                    0.330476   \n",
       "388                                   -1.949096   \n",
       "\n",
       "     RBC (M/uL)_rate_since_last_timepoint  \\\n",
       "180                             -1.014485   \n",
       "440                             -1.014485   \n",
       "700                              1.503586   \n",
       "128                              0.000418   \n",
       "388                             -1.949096   \n",
       "\n",
       "     HGB(g/dL)_difference_since_last_timepoint  \\\n",
       "180                                   7.921662   \n",
       "440                                   7.921662   \n",
       "700                                  -8.636336   \n",
       "128                                   9.322541   \n",
       "388                                   0.651670   \n",
       "\n",
       "     HGB(g/dL)_rate_since_last_timepoint  \\\n",
       "180                             7.921662   \n",
       "440                             7.921662   \n",
       "700                            -8.636336   \n",
       "128                             0.011786   \n",
       "388                             0.651670   \n",
       "\n",
       "     HCT %_difference_since_last_timepoint  HCT %_rate_since_last_timepoint  \\\n",
       "180                             -13.458326                       -13.458326   \n",
       "440                             -13.458326                       -13.458326   \n",
       "700                               9.633411                         9.633411   \n",
       "128                              -5.375699                        -0.006796   \n",
       "388                             -18.384132                       -18.384132   \n",
       "\n",
       "     PLT(K/uL)_difference_since_last_timepoint  \\\n",
       "180                                -249.355270   \n",
       "440                                -249.355270   \n",
       "700                                -147.103130   \n",
       "128                                  25.629758   \n",
       "388                                 370.865677   \n",
       "\n",
       "     PLT(K/uL)_rate_since_last_timepoint  \n",
       "180                          -249.355270  \n",
       "440                          -249.355270  \n",
       "700                          -147.103130  \n",
       "128                             0.032402  \n",
       "388                           370.865677  \n",
       "\n",
       "[5 rows x 109 columns]"
      ]
     },
     "execution_count": 498,
     "metadata": {},
     "output_type": "execute_result"
    }
   ],
   "source": [
    "user_TEG_df = extended_df.copy()\n",
    "user_TEG_df.head()"
   ]
  },
  {
   "cell_type": "code",
   "execution_count": 499,
   "metadata": {},
   "outputs": [
    {
     "data": {
      "text/plain": [
       "{'Anticoagulation_apixaban': None,\n",
       " 'Anticoagulation_enoxaparin': None,\n",
       " 'Anticoagulation_enoxaprin': None,\n",
       " 'Anticoagulation_heparin': None,\n",
       " 'Anticoagulation_rivaroxaban': None,\n",
       " 'Anticoagulation_warfarin': None,\n",
       " 'Antiplatelet therapy_aspirin': None,\n",
       " 'Antiplatelet therapy_celecoxib': None,\n",
       " 'Antiplatelet therapy_clopidogrel': None,\n",
       " 'Antiplatelet therapy_ticagrelor': None,\n",
       " 'BP_Diastolic': None,\n",
       " 'BP_Systolic': None,\n",
       " 'Cilostazol within 7 days': None,\n",
       " 'Date of TEG Collection': None,\n",
       " 'Events': None,\n",
       " 'Record ID': None,\n",
       " 'Statin within 24 Hours_Lovastatin': None,\n",
       " 'Statin within 24 Hours_Pravastatin': None,\n",
       " 'Statin within 24 Hours_Rosuvastatin': None,\n",
       " 'Statin within 24 Hours_Simvastatin': None,\n",
       " 'Statin within 24 Hours_atorvastatin': None,\n",
       " 'Visit Timepoint': None,\n",
       " 'Reaction Time (R) in min': 0.9174163,\n",
       " 'Lysis at 30 min (LY30) in %_difference_since_last_timepoint': 2.1976488,\n",
       " 'CRT Max amplitude (MA) in mm_rate_since_last_timepoint': 0.8755265,\n",
       " 'CFF Max Amplitude( MA) in mm': 0.14308129,\n",
       " 'HKH MA (mm)_difference_since_last_timepoint': 2.056251,\n",
       " 'ActF MA (mm)_difference_since_last_timepoint': 0.401029,\n",
       " 'ADP MA (mm)_difference_since_last_timepoint': 2.1955273,\n",
       " 'AA MA(mm)_rate_since_last_timepoint': 1.1396593,\n",
       " 'ADP % Aggregation_difference_since_last_timepoint': 4.4968033,\n",
       " 'ADP % Inhibition_difference_since_last_timepoint': 4.5434785,\n",
       " 'AA % Aggregation_rate_since_last_timepoint': 2.202106,\n",
       " 'AA % Inhibition_difference_since_last_timepoint': 4.746801,\n",
       " 'CK R(min)': 2.2332737,\n",
       " 'CK K (min)': 2.520923,\n",
       " 'CK angle( deg)_difference_since_last_timepoint': 2.249116,\n",
       " 'CK MA (mm)_rate_since_last_timepoint': 0.89751154,\n",
       " 'CRT MA(mm)': 2.4717674,\n",
       " 'CKH R (min)': 2.3973877,\n",
       " 'CFF MA(mm)_difference_since_last_timepoint': 0.63047194,\n",
       " 'CFF FLEV(mg/dL)': 12.297022,\n",
       " 'HbA1c Baseline( within1 year of study start)': 0.41836303,\n",
       " 'INR value': 1.2741591,\n",
       " 'aPTT': 0,\n",
       " 'PT value_difference_since_last_timepoint': 4.314323,\n",
       " 'WBC in K/uL_difference_since_last_timepoint': 1.567138,\n",
       " 'RBC (M/uL)': 1.3980811,\n",
       " 'HGB(g/dL)_difference_since_last_timepoint': 1.6887407,\n",
       " 'HCT %': 0.9224607,\n",
       " 'PLT(K/uL)': 2.2201557}"
      ]
     },
     "execution_count": 499,
     "metadata": {},
     "output_type": "execute_result"
    }
   ],
   "source": [
    "# Keep only the most important values from teg. No need for extra created ones\n",
    "if user_extend_data:\n",
    "    columns_to_keep = dict.fromkeys(user_TEG_df.columns.difference(tegValues + new_columns), None)\n",
    "else:\n",
    "    columns_to_keep = dict.fromkeys(user_TEG_df.columns.difference(tegValues), None)\n",
    "\n",
    "# Iterate through prefixes and select the most important column for each\n",
    "for prefix in tegValues:\n",
    "    # Filter the importance_df_TEG1 for the current prefix\n",
    "    prefix_columns = importance_df_TEG1[importance_df_TEG1['Feature'].str.startswith(prefix)]\n",
    "\n",
    "    if not prefix_columns.empty:\n",
    "        # Find the column with the maximum importance for the current prefix\n",
    "        max_importance_row = prefix_columns.loc[prefix_columns['Importance'].idxmax()]\n",
    "\n",
    "        # Check if the maximum importance value is greater than 0\n",
    "        if max_importance_row['Importance'] > 0:\n",
    "            max_importance_column = max_importance_row['Feature']\n",
    "            columns_to_keep[max_importance_column] =max_importance_row['Importance']\n",
    "\n",
    "        else:\n",
    "            columns_to_keep[prefix] = 0\n",
    "\n",
    "columns_to_keep\n"
   ]
  },
  {
   "cell_type": "code",
   "execution_count": 500,
   "metadata": {},
   "outputs": [
    {
     "data": {
      "text/html": [
       "<div>\n",
       "<style scoped>\n",
       "    .dataframe tbody tr th:only-of-type {\n",
       "        vertical-align: middle;\n",
       "    }\n",
       "\n",
       "    .dataframe tbody tr th {\n",
       "        vertical-align: top;\n",
       "    }\n",
       "\n",
       "    .dataframe thead th {\n",
       "        text-align: right;\n",
       "    }\n",
       "</style>\n",
       "<table border=\"1\" class=\"dataframe\">\n",
       "  <thead>\n",
       "    <tr style=\"text-align: right;\">\n",
       "      <th></th>\n",
       "      <th>Anticoagulation_apixaban</th>\n",
       "      <th>Anticoagulation_enoxaparin</th>\n",
       "      <th>Anticoagulation_enoxaprin</th>\n",
       "      <th>Anticoagulation_heparin</th>\n",
       "      <th>Anticoagulation_rivaroxaban</th>\n",
       "      <th>Anticoagulation_warfarin</th>\n",
       "      <th>Antiplatelet therapy_aspirin</th>\n",
       "      <th>Antiplatelet therapy_celecoxib</th>\n",
       "      <th>Antiplatelet therapy_clopidogrel</th>\n",
       "      <th>Antiplatelet therapy_ticagrelor</th>\n",
       "      <th>...</th>\n",
       "      <th>CFF FLEV(mg/dL)</th>\n",
       "      <th>HbA1c Baseline( within1 year of study start)</th>\n",
       "      <th>INR value</th>\n",
       "      <th>aPTT</th>\n",
       "      <th>PT value_difference_since_last_timepoint</th>\n",
       "      <th>WBC in K/uL_difference_since_last_timepoint</th>\n",
       "      <th>RBC (M/uL)</th>\n",
       "      <th>HGB(g/dL)_difference_since_last_timepoint</th>\n",
       "      <th>HCT %</th>\n",
       "      <th>PLT(K/uL)</th>\n",
       "    </tr>\n",
       "  </thead>\n",
       "  <tbody>\n",
       "    <tr>\n",
       "      <th>180</th>\n",
       "      <td>1</td>\n",
       "      <td>0</td>\n",
       "      <td>0</td>\n",
       "      <td>0</td>\n",
       "      <td>0</td>\n",
       "      <td>0</td>\n",
       "      <td>0</td>\n",
       "      <td>0</td>\n",
       "      <td>1</td>\n",
       "      <td>0</td>\n",
       "      <td>...</td>\n",
       "      <td>226.132898</td>\n",
       "      <td>9.884978</td>\n",
       "      <td>51.064486</td>\n",
       "      <td>115.388827</td>\n",
       "      <td>18.118814</td>\n",
       "      <td>9.106074</td>\n",
       "      <td>4.330639</td>\n",
       "      <td>7.921662</td>\n",
       "      <td>50.691359</td>\n",
       "      <td>574.127509</td>\n",
       "    </tr>\n",
       "    <tr>\n",
       "      <th>440</th>\n",
       "      <td>0</td>\n",
       "      <td>0</td>\n",
       "      <td>0</td>\n",
       "      <td>1</td>\n",
       "      <td>0</td>\n",
       "      <td>0</td>\n",
       "      <td>1</td>\n",
       "      <td>0</td>\n",
       "      <td>0</td>\n",
       "      <td>1</td>\n",
       "      <td>...</td>\n",
       "      <td>987.839161</td>\n",
       "      <td>9.342379</td>\n",
       "      <td>115.367108</td>\n",
       "      <td>160.000000</td>\n",
       "      <td>18.118814</td>\n",
       "      <td>9.106074</td>\n",
       "      <td>3.316154</td>\n",
       "      <td>7.921662</td>\n",
       "      <td>37.233033</td>\n",
       "      <td>324.772238</td>\n",
       "    </tr>\n",
       "    <tr>\n",
       "      <th>700</th>\n",
       "      <td>0</td>\n",
       "      <td>0</td>\n",
       "      <td>1</td>\n",
       "      <td>1</td>\n",
       "      <td>0</td>\n",
       "      <td>0</td>\n",
       "      <td>1</td>\n",
       "      <td>0</td>\n",
       "      <td>0</td>\n",
       "      <td>1</td>\n",
       "      <td>...</td>\n",
       "      <td>209.218166</td>\n",
       "      <td>10.637096</td>\n",
       "      <td>122.797229</td>\n",
       "      <td>20.061654</td>\n",
       "      <td>-16.229272</td>\n",
       "      <td>-5.087270</td>\n",
       "      <td>4.819739</td>\n",
       "      <td>-8.636336</td>\n",
       "      <td>46.866444</td>\n",
       "      <td>177.669108</td>\n",
       "    </tr>\n",
       "    <tr>\n",
       "      <th>128</th>\n",
       "      <td>0</td>\n",
       "      <td>0</td>\n",
       "      <td>1</td>\n",
       "      <td>1</td>\n",
       "      <td>0</td>\n",
       "      <td>0</td>\n",
       "      <td>0</td>\n",
       "      <td>0</td>\n",
       "      <td>1</td>\n",
       "      <td>0</td>\n",
       "      <td>...</td>\n",
       "      <td>1691.224112</td>\n",
       "      <td>5.761200</td>\n",
       "      <td>57.574641</td>\n",
       "      <td>81.049460</td>\n",
       "      <td>9.593203</td>\n",
       "      <td>-7.551344</td>\n",
       "      <td>5.150215</td>\n",
       "      <td>9.322541</td>\n",
       "      <td>41.490745</td>\n",
       "      <td>203.298866</td>\n",
       "    </tr>\n",
       "    <tr>\n",
       "      <th>388</th>\n",
       "      <td>0</td>\n",
       "      <td>0</td>\n",
       "      <td>1</td>\n",
       "      <td>1</td>\n",
       "      <td>0</td>\n",
       "      <td>0</td>\n",
       "      <td>1</td>\n",
       "      <td>0</td>\n",
       "      <td>0</td>\n",
       "      <td>0</td>\n",
       "      <td>...</td>\n",
       "      <td>1477.846684</td>\n",
       "      <td>10.786731</td>\n",
       "      <td>162.455617</td>\n",
       "      <td>430.000000</td>\n",
       "      <td>-10.318580</td>\n",
       "      <td>10.308678</td>\n",
       "      <td>3.201120</td>\n",
       "      <td>0.651670</td>\n",
       "      <td>23.106613</td>\n",
       "      <td>574.164543</td>\n",
       "    </tr>\n",
       "  </tbody>\n",
       "</table>\n",
       "<p>5 rows × 51 columns</p>\n",
       "</div>"
      ],
      "text/plain": [
       "     Anticoagulation_apixaban  Anticoagulation_enoxaparin  \\\n",
       "180                         1                           0   \n",
       "440                         0                           0   \n",
       "700                         0                           0   \n",
       "128                         0                           0   \n",
       "388                         0                           0   \n",
       "\n",
       "     Anticoagulation_enoxaprin  Anticoagulation_heparin  \\\n",
       "180                          0                        0   \n",
       "440                          0                        1   \n",
       "700                          1                        1   \n",
       "128                          1                        1   \n",
       "388                          1                        1   \n",
       "\n",
       "     Anticoagulation_rivaroxaban  Anticoagulation_warfarin  \\\n",
       "180                            0                         0   \n",
       "440                            0                         0   \n",
       "700                            0                         0   \n",
       "128                            0                         0   \n",
       "388                            0                         0   \n",
       "\n",
       "     Antiplatelet therapy_aspirin  Antiplatelet therapy_celecoxib  \\\n",
       "180                             0                               0   \n",
       "440                             1                               0   \n",
       "700                             1                               0   \n",
       "128                             0                               0   \n",
       "388                             1                               0   \n",
       "\n",
       "     Antiplatelet therapy_clopidogrel  Antiplatelet therapy_ticagrelor  ...  \\\n",
       "180                                 1                                0  ...   \n",
       "440                                 0                                1  ...   \n",
       "700                                 0                                1  ...   \n",
       "128                                 1                                0  ...   \n",
       "388                                 0                                0  ...   \n",
       "\n",
       "     CFF FLEV(mg/dL)  HbA1c Baseline( within1 year of study start)  \\\n",
       "180       226.132898                                      9.884978   \n",
       "440       987.839161                                      9.342379   \n",
       "700       209.218166                                     10.637096   \n",
       "128      1691.224112                                      5.761200   \n",
       "388      1477.846684                                     10.786731   \n",
       "\n",
       "      INR value        aPTT  PT value_difference_since_last_timepoint  \\\n",
       "180   51.064486  115.388827                                 18.118814   \n",
       "440  115.367108  160.000000                                 18.118814   \n",
       "700  122.797229   20.061654                                -16.229272   \n",
       "128   57.574641   81.049460                                  9.593203   \n",
       "388  162.455617  430.000000                                -10.318580   \n",
       "\n",
       "    WBC in K/uL_difference_since_last_timepoint  RBC (M/uL)  \\\n",
       "180                                    9.106074    4.330639   \n",
       "440                                    9.106074    3.316154   \n",
       "700                                   -5.087270    4.819739   \n",
       "128                                   -7.551344    5.150215   \n",
       "388                                   10.308678    3.201120   \n",
       "\n",
       "     HGB(g/dL)_difference_since_last_timepoint      HCT %   PLT(K/uL)  \n",
       "180                                   7.921662  50.691359  574.127509  \n",
       "440                                   7.921662  37.233033  324.772238  \n",
       "700                                  -8.636336  46.866444  177.669108  \n",
       "128                                   9.322541  41.490745  203.298866  \n",
       "388                                   0.651670  23.106613  574.164543  \n",
       "\n",
       "[5 rows x 51 columns]"
      ]
     },
     "execution_count": 500,
     "metadata": {},
     "output_type": "execute_result"
    }
   ],
   "source": [
    "# Keep only non repeated values\n",
    "user_TEG_df = user_TEG_df[columns_to_keep.keys()]\n",
    "user_TEG_df.head()"
   ]
  },
  {
   "cell_type": "code",
   "execution_count": 501,
   "metadata": {},
   "outputs": [
    {
     "data": {
      "text/plain": [
       "{'Clot treatment drugs': ['HKH MA (mm)', 'ActF MA (mm)', 'ADP MA (mm)'],\n",
       " 'Effects of fibrogen': ['CFF MA(mm)',\n",
       "  'CFF FLEV(mg/dL)',\n",
       "  'CFF Max Amplitude( MA) in mm'],\n",
       " 'Unaltered blood ': ['CRT MA(mm)',\n",
       "  'CRT Max amplitude (MA) in mm',\n",
       "  'CK MA (mm)'],\n",
       " 'Unaltered time to clot ': ['CK R(min)', 'CKH R (min)'],\n",
       " 'ADP': ['ADP % Aggregation', 'ADP % Inhibition'],\n",
       " 'AA': ['AA % Aggregation', 'AA % Inhibition']}"
      ]
     },
     "execution_count": 501,
     "metadata": {},
     "output_type": "execute_result"
    }
   ],
   "source": [
    "# Upload collinear TEG values\n",
    "\n",
    "# Define the filename\n",
    "filename = 'TEG_collinear.json'\n",
    "\n",
    "# Create the full file path by joining the base directory and filename\n",
    "file_path = os.path.join(base_directory, 'data', filename)\n",
    "\n",
    "with open(file_path, 'r') as json_file:\n",
    "    collinearity = json.load(json_file)\n",
    "collinearity"
   ]
  },
  {
   "cell_type": "code",
   "execution_count": 502,
   "metadata": {},
   "outputs": [
    {
     "name": "stdout",
     "output_type": "stream",
     "text": [
      "Clot treatment drugs\n",
      "['ADP MA (mm)_difference_since_last_timepoint (2.200000047683716%)', 'HKH MA (mm)_difference_since_last_timepoint (2.059999942779541%)', 'ActF MA (mm)_difference_since_last_timepoint (0.4000000059604645%)']\n",
      "<class 'str'>\n",
      "Effects of fibrogen\n",
      "['CFF FLEV(mg/dL) (12.300000190734863%)', 'CFF MA(mm)_difference_since_last_timepoint (0.6299999952316284%)', 'CFF Max Amplitude( MA) in mm (0.14000000059604645%)']\n",
      "<class 'str'>\n",
      "Unaltered blood \n",
      "['CRT MA(mm) (2.4700000286102295%)', 'CK MA (mm)_rate_since_last_timepoint (0.8999999761581421%)', 'CRT Max amplitude (MA) in mm_rate_since_last_timepoint (0.8799999952316284%)']\n",
      "<class 'str'>\n",
      "Unaltered time to clot \n",
      "['CKH R (min) (2.4000000953674316%)', 'CK R(min) (2.2300000190734863%)']\n",
      "<class 'str'>\n",
      "ADP\n",
      "['ADP % Inhibition_difference_since_last_timepoint (4.539999961853027%)', 'ADP % Aggregation_difference_since_last_timepoint (4.5%)']\n",
      "<class 'str'>\n",
      "AA\n",
      "['AA % Inhibition_difference_since_last_timepoint (4.75%)', 'AA % Aggregation_rate_since_last_timepoint (2.200000047683716%)']\n",
      "<class 'str'>\n"
     ]
    },
    {
     "data": {
      "text/plain": [
       "'AA % Inhibition_difference_since_last_timepoint (4.75%)'"
      ]
     },
     "execution_count": 502,
     "metadata": {},
     "output_type": "execute_result"
    }
   ],
   "source": [
    "# Create empty dictionary to hold selection\n",
    "selected_features = {}\n",
    "\n",
    "# Use the dictionary with columns to keep to show user their options\n",
    "for group_name , elements in collinearity.items():\n",
    "\n",
    "    print(group_name) #with st.expander(f\"{group_name}\"):\n",
    "\n",
    "    # Filter keys based on prefixes\n",
    "    filtered_keys = [key for key in columns_to_keep.keys() if any(key.startswith(prefix) for prefix in elements)]\n",
    "\n",
    "    # Sort filtered_keys based on values in descending order\n",
    "    sorted_keys = sorted(filtered_keys, key=lambda key: columns_to_keep[key], reverse=True)\n",
    "\n",
    "    # Create a list of strings by appending keys with values multiplied by 100\n",
    "    radio_labels = [f\"{key} ({round(columns_to_keep[key], 2)}%)\" for key in sorted_keys]\n",
    "\n",
    "    # Create a radio button to select a feature from the group\n",
    "    print(radio_labels) #selected_feature = st.radio(\"\", radio_labels, key=group_name)\n",
    "    selected_feature = radio_labels[0]\n",
    "    print(type(selected_feature))\n",
    "\n",
    "    # Convert the group list to a tuple and store the selected feature in the dictionary\n",
    "    selected_features[group_name] = selected_feature\n",
    "\n",
    "selected_feature"
   ]
  },
  {
   "cell_type": "markdown",
   "metadata": {},
   "source": [
    "## TEG model 2\n",
    "After the user selects non-correlated parameters the model will be retrained dropping the values that were not selected"
   ]
  },
  {
   "cell_type": "code",
   "execution_count": 503,
   "metadata": {},
   "outputs": [
    {
     "name": "stdout",
     "output_type": "stream",
     "text": [
      "['ADP MA (mm)', 'CFF FLEV(mg/dL)', 'CRT MA(mm)', 'CKH R (min)', 'ADP % Inhibition', 'AA % Inhibition']\n"
     ]
    },
    {
     "data": {
      "text/plain": [
       "['CK MA (mm)',\n",
       " 'CRT Max amplitude (MA) in mm',\n",
       " 'ADP % Aggregation',\n",
       " 'CFF MA(mm)',\n",
       " 'ActF MA (mm)',\n",
       " 'CFF Max Amplitude( MA) in mm',\n",
       " 'CK R(min)',\n",
       " 'HKH MA (mm)',\n",
       " 'AA % Aggregation']"
      ]
     },
     "execution_count": 503,
     "metadata": {},
     "output_type": "execute_result"
    }
   ],
   "source": [
    "# Extract all values from selected_features and collinearity\n",
    "selected_features_values = list(selected_features.values())\n",
    "collinearity_values = [item for sublist in collinearity.values() for item in sublist]\n",
    "\n",
    "# Find prefixes to drop\n",
    "prefix_to_keep = [prefix for selection in selected_features_values for prefix in collinearity_values if selection.startswith(prefix)]\n",
    "prefix_to_drop = list(set(collinearity_values) - set(prefix_to_keep))\n",
    "\n",
    "print(prefix_to_keep)\n",
    "prefix_to_drop"
   ]
  },
  {
   "cell_type": "code",
   "execution_count": 504,
   "metadata": {},
   "outputs": [
    {
     "data": {
      "text/plain": [
       "['CRT Max amplitude (MA) in mm_rate_since_last_timepoint',\n",
       " 'CFF Max Amplitude( MA) in mm',\n",
       " 'HKH MA (mm)_difference_since_last_timepoint',\n",
       " 'ActF MA (mm)_difference_since_last_timepoint',\n",
       " 'ADP % Aggregation_difference_since_last_timepoint',\n",
       " 'AA % Aggregation_rate_since_last_timepoint',\n",
       " 'CK R(min)',\n",
       " 'CK MA (mm)_rate_since_last_timepoint',\n",
       " 'CFF MA(mm)_difference_since_last_timepoint']"
      ]
     },
     "execution_count": 504,
     "metadata": {},
     "output_type": "execute_result"
    }
   ],
   "source": [
    "# Find list of columns to drop\n",
    "columns_to_drop = [column for column in columns_to_keep.keys() if any(column.startswith(prefix) for prefix in prefix_to_drop)]\n",
    "\n",
    "columns_to_drop"
   ]
  },
  {
   "cell_type": "code",
   "execution_count": 505,
   "metadata": {},
   "outputs": [
    {
     "data": {
      "text/html": [
       "<div>\n",
       "<style scoped>\n",
       "    .dataframe tbody tr th:only-of-type {\n",
       "        vertical-align: middle;\n",
       "    }\n",
       "\n",
       "    .dataframe tbody tr th {\n",
       "        vertical-align: top;\n",
       "    }\n",
       "\n",
       "    .dataframe thead th {\n",
       "        text-align: right;\n",
       "    }\n",
       "</style>\n",
       "<table border=\"1\" class=\"dataframe\">\n",
       "  <thead>\n",
       "    <tr style=\"text-align: right;\">\n",
       "      <th></th>\n",
       "      <th>Anticoagulation_apixaban</th>\n",
       "      <th>Anticoagulation_enoxaparin</th>\n",
       "      <th>Anticoagulation_enoxaprin</th>\n",
       "      <th>Anticoagulation_heparin</th>\n",
       "      <th>Anticoagulation_rivaroxaban</th>\n",
       "      <th>Anticoagulation_warfarin</th>\n",
       "      <th>Antiplatelet therapy_aspirin</th>\n",
       "      <th>Antiplatelet therapy_celecoxib</th>\n",
       "      <th>Antiplatelet therapy_clopidogrel</th>\n",
       "      <th>Antiplatelet therapy_ticagrelor</th>\n",
       "      <th>...</th>\n",
       "      <th>CFF FLEV(mg/dL)</th>\n",
       "      <th>HbA1c Baseline( within1 year of study start)</th>\n",
       "      <th>INR value</th>\n",
       "      <th>aPTT</th>\n",
       "      <th>PT value_difference_since_last_timepoint</th>\n",
       "      <th>WBC in K/uL_difference_since_last_timepoint</th>\n",
       "      <th>RBC (M/uL)</th>\n",
       "      <th>HGB(g/dL)_difference_since_last_timepoint</th>\n",
       "      <th>HCT %</th>\n",
       "      <th>PLT(K/uL)</th>\n",
       "    </tr>\n",
       "  </thead>\n",
       "  <tbody>\n",
       "    <tr>\n",
       "      <th>180</th>\n",
       "      <td>1</td>\n",
       "      <td>0</td>\n",
       "      <td>0</td>\n",
       "      <td>0</td>\n",
       "      <td>0</td>\n",
       "      <td>0</td>\n",
       "      <td>0</td>\n",
       "      <td>0</td>\n",
       "      <td>1</td>\n",
       "      <td>0</td>\n",
       "      <td>...</td>\n",
       "      <td>226.132898</td>\n",
       "      <td>9.884978</td>\n",
       "      <td>51.064486</td>\n",
       "      <td>115.388827</td>\n",
       "      <td>18.118814</td>\n",
       "      <td>9.106074</td>\n",
       "      <td>4.330639</td>\n",
       "      <td>7.921662</td>\n",
       "      <td>50.691359</td>\n",
       "      <td>574.127509</td>\n",
       "    </tr>\n",
       "    <tr>\n",
       "      <th>440</th>\n",
       "      <td>0</td>\n",
       "      <td>0</td>\n",
       "      <td>0</td>\n",
       "      <td>1</td>\n",
       "      <td>0</td>\n",
       "      <td>0</td>\n",
       "      <td>1</td>\n",
       "      <td>0</td>\n",
       "      <td>0</td>\n",
       "      <td>1</td>\n",
       "      <td>...</td>\n",
       "      <td>987.839161</td>\n",
       "      <td>9.342379</td>\n",
       "      <td>115.367108</td>\n",
       "      <td>160.000000</td>\n",
       "      <td>18.118814</td>\n",
       "      <td>9.106074</td>\n",
       "      <td>3.316154</td>\n",
       "      <td>7.921662</td>\n",
       "      <td>37.233033</td>\n",
       "      <td>324.772238</td>\n",
       "    </tr>\n",
       "    <tr>\n",
       "      <th>700</th>\n",
       "      <td>0</td>\n",
       "      <td>0</td>\n",
       "      <td>1</td>\n",
       "      <td>1</td>\n",
       "      <td>0</td>\n",
       "      <td>0</td>\n",
       "      <td>1</td>\n",
       "      <td>0</td>\n",
       "      <td>0</td>\n",
       "      <td>1</td>\n",
       "      <td>...</td>\n",
       "      <td>209.218166</td>\n",
       "      <td>10.637096</td>\n",
       "      <td>122.797229</td>\n",
       "      <td>20.061654</td>\n",
       "      <td>-16.229272</td>\n",
       "      <td>-5.087270</td>\n",
       "      <td>4.819739</td>\n",
       "      <td>-8.636336</td>\n",
       "      <td>46.866444</td>\n",
       "      <td>177.669108</td>\n",
       "    </tr>\n",
       "    <tr>\n",
       "      <th>128</th>\n",
       "      <td>0</td>\n",
       "      <td>0</td>\n",
       "      <td>1</td>\n",
       "      <td>1</td>\n",
       "      <td>0</td>\n",
       "      <td>0</td>\n",
       "      <td>0</td>\n",
       "      <td>0</td>\n",
       "      <td>1</td>\n",
       "      <td>0</td>\n",
       "      <td>...</td>\n",
       "      <td>1691.224112</td>\n",
       "      <td>5.761200</td>\n",
       "      <td>57.574641</td>\n",
       "      <td>81.049460</td>\n",
       "      <td>9.593203</td>\n",
       "      <td>-7.551344</td>\n",
       "      <td>5.150215</td>\n",
       "      <td>9.322541</td>\n",
       "      <td>41.490745</td>\n",
       "      <td>203.298866</td>\n",
       "    </tr>\n",
       "    <tr>\n",
       "      <th>388</th>\n",
       "      <td>0</td>\n",
       "      <td>0</td>\n",
       "      <td>1</td>\n",
       "      <td>1</td>\n",
       "      <td>0</td>\n",
       "      <td>0</td>\n",
       "      <td>1</td>\n",
       "      <td>0</td>\n",
       "      <td>0</td>\n",
       "      <td>0</td>\n",
       "      <td>...</td>\n",
       "      <td>1477.846684</td>\n",
       "      <td>10.786731</td>\n",
       "      <td>162.455617</td>\n",
       "      <td>430.000000</td>\n",
       "      <td>-10.318580</td>\n",
       "      <td>10.308678</td>\n",
       "      <td>3.201120</td>\n",
       "      <td>0.651670</td>\n",
       "      <td>23.106613</td>\n",
       "      <td>574.164543</td>\n",
       "    </tr>\n",
       "  </tbody>\n",
       "</table>\n",
       "<p>5 rows × 42 columns</p>\n",
       "</div>"
      ],
      "text/plain": [
       "     Anticoagulation_apixaban  Anticoagulation_enoxaparin  \\\n",
       "180                         1                           0   \n",
       "440                         0                           0   \n",
       "700                         0                           0   \n",
       "128                         0                           0   \n",
       "388                         0                           0   \n",
       "\n",
       "     Anticoagulation_enoxaprin  Anticoagulation_heparin  \\\n",
       "180                          0                        0   \n",
       "440                          0                        1   \n",
       "700                          1                        1   \n",
       "128                          1                        1   \n",
       "388                          1                        1   \n",
       "\n",
       "     Anticoagulation_rivaroxaban  Anticoagulation_warfarin  \\\n",
       "180                            0                         0   \n",
       "440                            0                         0   \n",
       "700                            0                         0   \n",
       "128                            0                         0   \n",
       "388                            0                         0   \n",
       "\n",
       "     Antiplatelet therapy_aspirin  Antiplatelet therapy_celecoxib  \\\n",
       "180                             0                               0   \n",
       "440                             1                               0   \n",
       "700                             1                               0   \n",
       "128                             0                               0   \n",
       "388                             1                               0   \n",
       "\n",
       "     Antiplatelet therapy_clopidogrel  Antiplatelet therapy_ticagrelor  ...  \\\n",
       "180                                 1                                0  ...   \n",
       "440                                 0                                1  ...   \n",
       "700                                 0                                1  ...   \n",
       "128                                 1                                0  ...   \n",
       "388                                 0                                0  ...   \n",
       "\n",
       "     CFF FLEV(mg/dL)  HbA1c Baseline( within1 year of study start)  \\\n",
       "180       226.132898                                      9.884978   \n",
       "440       987.839161                                      9.342379   \n",
       "700       209.218166                                     10.637096   \n",
       "128      1691.224112                                      5.761200   \n",
       "388      1477.846684                                     10.786731   \n",
       "\n",
       "      INR value        aPTT  PT value_difference_since_last_timepoint  \\\n",
       "180   51.064486  115.388827                                 18.118814   \n",
       "440  115.367108  160.000000                                 18.118814   \n",
       "700  122.797229   20.061654                                -16.229272   \n",
       "128   57.574641   81.049460                                  9.593203   \n",
       "388  162.455617  430.000000                                -10.318580   \n",
       "\n",
       "    WBC in K/uL_difference_since_last_timepoint  RBC (M/uL)  \\\n",
       "180                                    9.106074    4.330639   \n",
       "440                                    9.106074    3.316154   \n",
       "700                                   -5.087270    4.819739   \n",
       "128                                   -7.551344    5.150215   \n",
       "388                                   10.308678    3.201120   \n",
       "\n",
       "     HGB(g/dL)_difference_since_last_timepoint      HCT %   PLT(K/uL)  \n",
       "180                                   7.921662  50.691359  574.127509  \n",
       "440                                   7.921662  37.233033  324.772238  \n",
       "700                                  -8.636336  46.866444  177.669108  \n",
       "128                                   9.322541  41.490745  203.298866  \n",
       "388                                   0.651670  23.106613  574.164543  \n",
       "\n",
       "[5 rows x 42 columns]"
      ]
     },
     "execution_count": 505,
     "metadata": {},
     "output_type": "execute_result"
    }
   ],
   "source": [
    "model2_df = user_TEG_df.copy()\n",
    "model2_df.drop(columns=columns_to_drop, inplace=True)\n",
    "model2_df.head()"
   ]
  },
  {
   "cell_type": "markdown",
   "metadata": {},
   "source": [
    "### Make model"
   ]
  },
  {
   "cell_type": "code",
   "execution_count": 506,
   "metadata": {},
   "outputs": [],
   "source": [
    "teg2_columns =  list(model2_df.columns)"
   ]
  },
  {
   "cell_type": "code",
   "execution_count": 507,
   "metadata": {},
   "outputs": [
    {
     "name": "stdout",
     "output_type": "stream",
     "text": [
      "[ 0.75  0.5   0.5   0.75  0.5   1.    0.5   0.75  0.25  0.25  0.5   0.25\n",
      "  0.    0.5   0.25  0.75  0.5   0.25  0.    0.75  0.5   0.75  1.    0.75\n",
      "  0.25 -0.25  1.25  0.    0.5   1.    0.    0.75  1.    0.25  0.5  -0.25\n",
      "  0.75  0.75  0.25  0.5   0.5   1.25  0.25  0.25  0.25  0.75  0.75  0.25\n",
      "  0.    0.75  0.75  1.    0.5   1.    0.25  0.25  0.25  0.25  0.75  0.\n",
      "  0.75  0.5   0.5   0.    0.5   0.75  0.5   0.25  0.25  0.75  0.25  0.75\n",
      "  0.25  0.5   0.5   0.75  0.25  0.75  0.25  1.    0.75  0.    0.5   0.75\n",
      "  0.75  0.75  0.25  0.75  0.25  0.25  0.    0.75  0.25  0.75  1.    0.\n",
      "  0.75  0.25  0.5   0.5   0.    0.25  0.25  1.    0.5   0.5   0.5   0.25\n",
      "  0.5   0.25  0.75  0.75  0.75  0.75  0.75  1.    0.75  0.75  0.5   0.5\n",
      "  0.    0.75  1.    0.75  0.5   1.25  0.25 -0.25  0.75  0.5   0.5   1.\n",
      "  0.75  0.75  1.    0.    0.25  0.    0.    0.    0.5   0.75  0.75  0.\n",
      "  0.75  0.75  0.25  0.25  0.5   0.25  0.    0.75  0.5   0.75  0.75  0.25\n",
      "  0.25  0.5   0.75  0.5 ] [0.49589184 0.58117163 0.4737587  0.2657935  0.3200012  0.5697177\n",
      " 0.40762314 0.49102587 0.5313518  0.46744543 0.2550966  0.5596386\n",
      " 0.40630054 0.54345286 0.28474742 0.5706136  0.18939203 0.51228553\n",
      " 0.34447014 0.25990066 0.44874257 0.37282076 0.646919   0.51277465\n",
      " 0.44673094 0.48552522 0.5304731  0.46260896 0.47647274 0.840353\n",
      " 0.11616373 0.5728754  0.64550227 0.6205247  0.4878159  0.2684084\n",
      " 0.3352291  0.27800626 0.42324328 0.43964514 0.46198258 0.68440884\n",
      " 0.32827654 0.5899143  0.43928862 0.2731943  0.30500078 0.36438665\n",
      " 0.38796693 0.46878734 0.34555906 0.34889978 0.59248924 0.5668092\n",
      " 0.16828404 0.41556865 0.49293756 0.52616864 0.48178023 0.36661083\n",
      " 0.24882418 0.47525907 0.36590555 0.43707424 0.44751823 0.48209953\n",
      " 0.3667759  0.41641292 0.1527754  0.4267923  0.21149458 0.18465143\n",
      " 0.29219288 0.36870396 0.6004161  0.49881136 0.7385651  0.77056164\n",
      " 0.38311318 0.76659286 0.5615483  0.5271846  0.63061666 0.42435956\n",
      " 0.5228291  0.37506062 0.5554904  0.69647163 0.41756022 0.34228146\n",
      " 0.4047358  0.4050874  0.19356085 0.7020835  0.5140616  0.25371528\n",
      " 0.38841704 0.2226239  0.45041686 0.45694613 0.489142   0.38114122\n",
      " 0.49898428 0.52147377 0.53116316 0.34007645 0.43806127 0.41400996\n",
      " 0.34706354 0.6118085  0.34156328 0.5226412  0.5368867  0.34022486\n",
      " 0.18656662 0.27983704 0.27687272 0.48388097 0.4102774  0.46775058\n",
      " 0.3307657  0.6383957  0.50006783 0.31028572 0.4036797  0.2867575\n",
      " 0.4692     0.54903257 0.4511688  0.46816656 0.47688875 0.589256\n",
      " 0.80255413 0.4658854  0.30512565 0.55413896 0.5083572  0.32148847\n",
      " 0.49222434 0.553126   0.39129308 0.46224484 0.49378842 0.27886042\n",
      " 0.5698978  0.40478757 0.5967639  0.44272155 0.5394951  0.36327687\n",
      " 0.61392754 0.5032415  0.44641784 0.31395674 0.3774489  0.37590963\n",
      " 0.32329404 0.2734874  0.50902325 0.4031444 ]\n",
      "[ 0.75  1.    0.25  0.5   0.75  0.75  0.5   0.5   0.25  0.25  0.    0.75\n",
      "  0.    0.25  0.5   0.5   0.5   0.5   1.    1.    0.5   0.75  0.75  0.75\n",
      "  0.75  0.5   1.    0.    0.25  0.    0.25  0.25  1.25  0.25  1.    0.75\n",
      "  0.5   0.25  0.25  0.5   0.25  0.    0.5   0.75  0.    0.5   0.5   0.75\n",
      "  0.25  0.25  0.25  0.    0.75  0.    0.   -0.25  0.25  0.75  0.5   0.5\n",
      "  0.5   0.    0.5   0.    0.5   0.75  0.75  0.5   0.25  0.5   0.5   1.\n",
      "  0.5   1.    0.5   0.    0.25  0.25  0.    0.25  0.    0.75  0.5   0.75\n",
      "  0.5   0.    0.25  0.5   0.5   1.25  0.75  1.    0.    0.5   0.25  0.25\n",
      " -0.25  0.75  0.5   0.25  0.5   0.25  0.5   1.    0.    0.25  0.25 -0.25\n",
      "  0.25  0.5   0.75  0.5   0.75  1.    0.25  0.25  0.25  0.    0.    0.75\n",
      "  0.75  0.    0.25  0.25  0.    0.25  0.75  0.25  0.    1.25  0.75  0.75\n",
      "  0.5   0.    0.    0.25  1.    1.    0.75  0.    0.75  0.75  0.5   0.5\n",
      "  1.    0.    0.    0.75  0.25  0.5   0.5   0.    0.75  0.    0.    0.25\n",
      "  0.75  0.25  0.25  0.5   0.25  1.25  0.25  0.25 -0.25  0.75  0.25  1.25\n",
      "  1.    0.25  0.5   0.75  0.75  0.    0.75  0.25  0.25  0.75  1.25 -0.25\n",
      "  0.    0.25  0.75  0.25  1.    0.5   0.5   0.5   0.5   0.25  0.75  0.25\n",
      "  0.25  0.25  0.25  0.5   0.75  0.5   0.5   0.25  0.75  0.25  0.5   0.75\n",
      "  0.75  0.75  0.5   0.75  0.25  1.    0.    0.5   0.25  0.5   0.75  0.25\n",
      "  0.    0.25  0.75  0.25  1.    1.    0.    0.25  0.75  0.25  0.75  0.\n",
      "  0.25  0.5   0.5   0.5   0.5   0.25  0.25  0.75  0.5   0.    0.    0.25\n",
      "  0.5   0.5   0.25  0.75  0.75  0.75  0.25  0.5   0.25  0.5   0.    0.25\n",
      "  0.25  0.75  0.75  1.    0.5   0.25  1.    0.75  0.75  0.75  0.5   0.\n",
      "  0.    0.75  0.75  0.25  0.5   0.75  0.25  0.75  0.    0.25  0.5   0.5\n",
      "  0.25  0.5   0.75  0.75  0.   -0.25  0.25  0.5   0.    0.75  0.5   0.75\n",
      "  0.    0.    1.    0.25 -0.25  0.25  0.    0.5   0.25  0.5   1.    0.5\n",
      "  0.75  0.25  0.75  0.    0.    0.    0.25  1.    0.5   0.75  0.25  1.\n",
      "  0.    0.25  0.25  0.75  0.5   0.5   0.    0.25 -0.25  0.    0.25  1.25\n",
      "  0.25  0.75  0.25  0.75  0.75  0.75  1.    0.75  0.75  0.75  0.25  0.25\n",
      "  1.    1.    1.    0.25  0.5   0.5   0.75  0.25  0.75  0.25  0.5   0.5\n",
      "  0.    0.    0.25 -0.25  0.75  0.5   0.75  0.25  0.75  0.25  0.75  0.\n",
      " -0.25  0.    0.25  0.25  0.    0.5   0.75  0.25  0.75  0.75  0.75  0.75\n",
      "  0.75  0.75  0.75  0.    0.75  0.5   0.75  0.    0.5   0.5   0.5   1.\n",
      "  0.5   1.    0.    0.25  0.25  0.75  0.75  1.    0.5   0.5   0.    0.25\n",
      "  0.5   0.75  1.    0.75  0.5   0.5   0.25  1.25  1.    0.    1.    0.25\n",
      "  0.75  1.    0.    0.5   0.    0.75  0.25  0.75  0.5   0.5   0.25  0.5\n",
      "  0.    0.5   0.75  0.25  0.75  1.    0.75  0.5   0.25  0.75  0.25  1.\n",
      "  0.75  1.    0.25  0.5   0.25  1.25  0.    0.75  0.    0.    0.    1.\n",
      "  0.5   0.    0.5   0.    0.5   1.    0.75  0.75  0.75  0.75  0.75  0.25\n",
      "  0.    1.    0.5   0.75  0.    0.25  0.5   0.    0.    0.    0.75  0.25\n",
      "  1.25  1.    0.25  0.25  0.25  0.    0.25  0.5   0.75  0.5   0.    0.\n",
      "  0.25  0.5   0.5   1.    0.75  0.    0.75  0.5   1.    0.75  0.5   0.\n",
      "  0.75  0.5   0.25  0.25  0.5   0.75  0.75  0.5   0.25  0.5   0.5   1.\n",
      "  0.25  0.5   0.75  0.5   0.75  0.75  0.75  0.    0.75  0.    0.75  0.\n",
      "  0.25  0.25  1.    0.    0.    0.5   0.5   0.5   0.   -0.25  0.75  0.\n",
      "  0.75  0.25  0.25  0.75  0.5   0.75  0.25  0.    0.    0.5   0.75  0.5\n",
      "  0.    0.75  0.75  0.5   0.75  0.    0.5   0.    0.25  0.75  0.    0.5\n",
      "  0.25  1.    0.75  1.25  0.75  0.25  0.25  0.75  0.5   0.    0.5   0.\n",
      "  0.75  0.75  0.25  0.5   0.75  0.75  0.25  0.5   0.75  0.5   0.5   0.75\n",
      "  0.75  0.25  0.25  0.75  0.5   0.5   0.5   0.5   0.75  0.    0.    0.75\n",
      "  0.75  0.    0.25  0.5   0.75  0.75  0.    0.5   0.5   0.5   0.75  0.75\n",
      "  0.75  0.75  0.75  0.75  0.5   0.75  0.5   0.5   1.25 -0.25  0.    0.25\n",
      "  0.    0.25  0.75  0.75  0.    0.75  0.5   0.75  0.    0.5   0.    0.5\n",
      "  0.25  0.25  0.75  0.25  0.25  0.5   0.75  1.    1.   -0.25  0.75  0.5\n",
      "  0.25  0.75  0.25  0.25] [ 0.63104796  0.7886908   0.32762015  0.5376954   0.43800703  0.6735027\n",
      "  0.5271427   0.6112066   0.24166597  0.32748917  0.2498841   0.7077738\n",
      "  0.24561363  0.2563814   0.4655375   0.49326822  0.4209415   0.50138223\n",
      "  0.8459345   0.5859779   0.5461375   0.5308306   0.6839034   0.6010287\n",
      "  0.6503638   0.42078832  0.8698966   0.20288326  0.29447308  0.24272864\n",
      "  0.33865607  0.44055456  0.874175    0.38115424  0.86220866  0.6566102\n",
      "  0.52314276  0.3168245   0.38365805  0.39918593  0.384904    0.25889048\n",
      "  0.52882856  0.5042712   0.1939511   0.38693678  0.5139621   0.5764077\n",
      "  0.42266455  0.31060708  0.46587005  0.14130035  0.56825525  0.10261874\n",
      "  0.21977776 -0.16031052  0.49901408  0.6170619   0.37426093  0.42814794\n",
      "  0.44219366  0.23182783  0.60906667  0.4046283   0.52562094  0.5565465\n",
      "  0.5804474   0.5102753   0.27880448  0.53902364  0.5894415   0.8519589\n",
      "  0.6252113   0.85465145  0.46606433  0.1506962   0.41055596  0.3528187\n",
      "  0.17257614  0.32776642  0.3761096   0.6353762   0.44464025  0.5776369\n",
      "  0.44937795  0.21962893  0.29694164  0.46506214  0.45421562  0.92189497\n",
      "  0.50996643  0.68579906  0.07068266  0.55049443  0.36878258  0.40820146\n",
      "  0.01025445  0.49104172  0.3748836   0.2586038   0.4724449   0.2945609\n",
      "  0.45577466  0.74779534  0.17761625  0.4715857   0.40264556 -0.03783319\n",
      "  0.29688907  0.44941357  0.66483235  0.50137323  0.7854077   0.7837159\n",
      "  0.41437876  0.34015203  0.39963222  0.14836401  0.3053302   0.6900678\n",
      "  0.5718561   0.2694478   0.4159598   0.4190921   0.13966486  0.35717323\n",
      "  0.58295137  0.38140193  0.2742422   0.94160163  0.66054153  0.8924542\n",
      "  0.46365353  0.27821398  0.2942051   0.29328036  0.75040674  0.8142779\n",
      "  0.5856658   0.15579943  0.6380413   0.48255455  0.5175679   0.47165653\n",
      "  0.8127253   0.3148479   0.25334993  0.48568895  0.36699006  0.57087994\n",
      "  0.3718096   0.32687077  0.7270286   0.28317925  0.16529177  0.3516848\n",
      "  0.56179243  0.42247277  0.29087713  0.51257855  0.38701802  0.939885\n",
      "  0.47080645  0.44370174  0.05050692  0.65187454  0.3842798   1.0145566\n",
      "  0.90603614  0.3242065   0.56373507  0.52589554  0.78353345  0.22537869\n",
      "  0.72739923  0.32237747  0.33488253  0.5861879   0.9887108   0.02568743\n",
      "  0.19524911  0.22646905  0.46250468  0.23542859  0.8421167   0.4268324\n",
      "  0.5755207   0.51149064  0.5573958   0.3370105   0.5522443   0.43400586\n",
      "  0.46293518  0.39101663  0.508595    0.5330508   0.5419742   0.4118633\n",
      "  0.3466328   0.23594946  0.41206568  0.5342471   0.35212782  0.6832194\n",
      "  0.52177     0.5847252   0.5194405   0.7250925   0.26270813  0.53107643\n",
      "  0.18333152  0.54328537  0.326197    0.50731057  0.7143234   0.27091423\n",
      "  0.21107578  0.36581534  0.5957903   0.2908951   0.8811688   0.81814814\n",
      "  0.3441714   0.4373448   0.56178045  0.34832755  0.54384     0.16979876\n",
      "  0.34628436  0.37680385  0.47331753  0.46967405  0.35854504  0.25283718\n",
      "  0.32576805  0.6089623   0.46228197  0.18111315  0.21142538  0.38683298\n",
      "  0.4745809   0.59137195  0.41158393  0.8343977   0.55345803  0.80350024\n",
      "  0.25162876  0.41818756  0.21061976  0.50396115  0.16514005  0.3879495\n",
      "  0.37149635  0.6355739   0.6462855   0.75772095  0.39833814  0.26993865\n",
      "  0.67292297  0.67471063  0.6383798   0.62223405  0.5061119   0.20220305\n",
      "  0.1683615   0.57217145  0.6503244   0.21040197  0.4523175   0.7162082\n",
      "  0.4670949   0.49511623  0.3039632   0.3107747   0.32200566  0.6490713\n",
      "  0.30119127  0.47882113  0.73680145  0.5427013   0.0382219   0.04576266\n",
      "  0.3907561   0.52227396  0.24546564  0.49324796  0.5854221   0.5540138\n",
      "  0.15484613  0.22513813  0.65144026  0.27977967  0.18358094  0.30804014\n",
      "  0.29720998  0.43631983  0.2673273   0.47144353  0.9418643   0.6533548\n",
      "  0.73279965  0.3255326   0.6140167   0.28665838  0.26878935  0.22511494\n",
      "  0.4034365   0.74990904  0.43720153  0.5044184   0.41049877  0.9100326\n",
      "  0.17070824  0.3245766   0.2841834   0.48707402  0.34372953  0.5892807\n",
      "  0.31326297  0.30662966 -0.13198575  0.17332724  0.46313265  0.8719738\n",
      "  0.3468388   0.58090866  0.43848175  0.52260274  0.57805026  0.55461746\n",
      "  0.61018276  0.5318311   0.6422895   0.60051256  0.37505314  0.3875583\n",
      "  0.83574754  0.76526016  0.84973586  0.2513473   0.41531023  0.67909133\n",
      "  0.49803528  0.42654854  0.49297133  0.22124694  0.4568567   0.39610076\n",
      "  0.26911396  0.16418955  0.37881252  0.01366314  0.42931592  0.44469917\n",
      "  0.6082106   0.41851866  0.69606     0.3158212   0.5756144   0.25165322\n",
      "  0.05235648  0.1766066   0.4454714   0.23298992  0.201037    0.5728991\n",
      "  0.5965958   0.3267166   0.66928315  0.5564373   0.55836266  0.65658754\n",
      "  0.6143172   0.5950021   0.5659545   0.26112998  0.71220106  0.397485\n",
      "  0.5558631   0.23301768  0.49446538  0.42443225  0.5151753   0.8238754\n",
      "  0.4836634   0.6964758   0.17135262  0.3784883   0.33179757  0.6485758\n",
      "  0.63804334  0.6465078   0.38878354  0.6571527   0.12402723  0.2123849\n",
      "  0.49067938  0.6016029   0.67958045  0.64827776  0.40105122  0.5191837\n",
      "  0.37327078  1.0136116   0.76598257  0.37350225  0.65111506  0.37002715\n",
      "  0.6176481   0.7288068   0.3112959   0.5181303   0.15607715  0.56144017\n",
      "  0.32598013  0.39175305  0.5726287   0.49514103  0.35076302  0.47504392\n",
      "  0.29025546  0.55172217  0.6316796   0.23991823  0.5960392   0.71213126\n",
      "  0.55515945  0.5027609   0.322299    0.5643882   0.3042254   0.7868993\n",
      "  0.57221574  0.84663755  0.32857987  0.48748827  0.44674528  0.8606852\n",
      "  0.21983626  0.72663677  0.26118246  0.2530609   0.22246991  0.7408798\n",
      "  0.3908133   0.13539718  0.45422852  0.3120887   0.42308894  0.84751207\n",
      "  0.47070006  0.6866356   0.62638044  0.6485679   0.7397189   0.39948785\n",
      "  0.16099913  0.75335026  0.4614455   0.54194206  0.22312616  0.385699\n",
      "  0.51313716  0.14093255  0.29165563  0.180702    0.49455774  0.3612213\n",
      "  0.9817233   0.80983543  0.21418302  0.38150433  0.3319704   0.18698075\n",
      "  0.23792665  0.5274217   0.48836133  0.48739544  0.3325361   0.26695555\n",
      "  0.33252832  0.35160652  0.4054796   0.8007469   0.6126114   0.18472712\n",
      "  0.60612994  0.49908626  0.7992338   0.692646    0.52009046  0.33881983\n",
      "  0.7075887   0.4765914   0.2981922   0.3975671   0.5868958   0.42223233\n",
      "  0.6449772   0.44487503  0.20481902  0.43424404  0.39557555  0.66125983\n",
      "  0.32139033  0.5567189   0.75106454  0.45462787  0.5808611   0.49502262\n",
      "  0.66400844  0.20505813  0.62162834  0.19121951  0.52290636  0.21536346\n",
      "  0.29935917  0.37030512  0.56910366  0.21339317  0.2580223   0.46170536\n",
      "  0.5344649   0.5402033   0.08364051 -0.08126265  0.4752957   0.1297467\n",
      "  0.55354446  0.3463172   0.43016526  0.49992526  0.5022748   0.65057725\n",
      "  0.3642663   0.24352507  0.20693707  0.50328076  0.55687034  0.5344431\n",
      "  0.30318287  0.61889774  0.68949443  0.44204858  0.68199086  0.35029086\n",
      "  0.46753198  0.3020236   0.4254955   0.64731044  0.2551812   0.4068825\n",
      "  0.36306202  0.53933686  0.62057346  0.87675947  0.6684608   0.21483403\n",
      "  0.34026358  0.5376519   0.5814201   0.23260802  0.44671094  0.1411652\n",
      "  0.7125674   0.6570948   0.28259912  0.53314114  0.40364057  0.5861662\n",
      "  0.28462315  0.45407537  0.6029077   0.45541304  0.517331    0.6120005\n",
      "  0.6388108   0.40873182  0.42501485  0.6341109   0.6159795   0.53456336\n",
      "  0.5445951   0.3740258   0.6308645   0.15026319  0.3832956   0.5973024\n",
      "  0.6899217   0.19031604  0.30856705  0.52212024  0.5069289   0.45947105\n",
      "  0.21255453  0.4290914   0.54305243  0.48595116  0.5872577   0.62557924\n",
      "  0.73213756  0.56258804  0.468982    0.7148584   0.47256625  0.62246567\n",
      "  0.419434    0.5231812   1.011553    0.09883277  0.20288494  0.482054\n",
      "  0.31467164  0.40323257  0.67103064  0.56258863  0.337453    0.5754835\n",
      "  0.5024036   0.65100104  0.03440803  0.44999447  0.1330408   0.55456007\n",
      "  0.39535147  0.36408603  0.7322188   0.27825397  0.31138417  0.39685506\n",
      "  0.5592361   0.7636782   0.7036812   0.11567079  0.564698    0.5190633\n",
      "  0.4124365   0.67630464  0.37261972  0.44512725]\n"
     ]
    }
   ],
   "source": [
    "best_model_TEG2, TEG2_train, TEG2_score = train_model(model2_df, 'Events', ['Record ID','Visit Timepoint', \"Date of TEG Collection\"])"
   ]
  },
  {
   "cell_type": "code",
   "execution_count": 508,
   "metadata": {},
   "outputs": [
    {
     "data": {
      "text/plain": [
       "{'mse test': 0.10830114575270164,\n",
       " 'r2 test': -0.046254612144309926,\n",
       " 'mse train': 0.029892900984677007,\n",
       " 'r2 train': 0.7321916186478775}"
      ]
     },
     "execution_count": 508,
     "metadata": {},
     "output_type": "execute_result"
    }
   ],
   "source": [
    "TEG2_score"
   ]
  },
  {
   "cell_type": "markdown",
   "metadata": {},
   "source": [
    "### Feature importance"
   ]
  },
  {
   "cell_type": "code",
   "execution_count": 509,
   "metadata": {},
   "outputs": [
    {
     "name": "stderr",
     "output_type": "stream",
     "text": [
      "/opt/anaconda3/envs/Capstone2023/lib/python3.10/site-packages/xgboost/core.py:160: UserWarning:\n",
      "\n",
      "[17:22:28] WARNING: /Users/runner/work/xgboost/xgboost/src/c_api/c_api.cc:1240: Saving into deprecated binary model format, please consider using `json` or `ubj`. Model format will default to JSON in XGBoost 2.2 if not specified.\n",
      "\n",
      "/opt/anaconda3/envs/Capstone2023/lib/python3.10/site-packages/xgboost/data.py:335: FutureWarning:\n",
      "\n",
      "is_sparse is deprecated and will be removed in a future version. Check `isinstance(dtype, pd.SparseDtype)` instead.\n",
      "\n",
      "/opt/anaconda3/envs/Capstone2023/lib/python3.10/site-packages/xgboost/data.py:338: FutureWarning:\n",
      "\n",
      "is_categorical_dtype is deprecated and will be removed in a future version. Use isinstance(dtype, CategoricalDtype) instead\n",
      "\n",
      "/opt/anaconda3/envs/Capstone2023/lib/python3.10/site-packages/xgboost/data.py:384: FutureWarning:\n",
      "\n",
      "is_categorical_dtype is deprecated and will be removed in a future version. Use isinstance(dtype, CategoricalDtype) instead\n",
      "\n",
      "/opt/anaconda3/envs/Capstone2023/lib/python3.10/site-packages/xgboost/data.py:359: FutureWarning:\n",
      "\n",
      "is_categorical_dtype is deprecated and will be removed in a future version. Use isinstance(dtype, CategoricalDtype) instead\n",
      "\n"
     ]
    }
   ],
   "source": [
    "importance_df_TEG2 = feature_importance(best_model_TEG2, TEG2_train)"
   ]
  },
  {
   "cell_type": "code",
   "execution_count": 510,
   "metadata": {},
   "outputs": [
    {
     "data": {
      "application/vnd.plotly.v1+json": {
       "config": {
        "plotlyServerURL": "https://plot.ly"
       },
       "data": [
        {
         "alignmentgroup": "True",
         "hovertemplate": "variable=Importance<br>Percentage=%{x}<br>Factors=%{y}<extra></extra>",
         "legendgroup": "Importance",
         "marker": {
          "color": "#636efa",
          "pattern": {
           "shape": ""
          }
         },
         "name": "Importance",
         "offsetgroup": "Importance",
         "orientation": "h",
         "showlegend": true,
         "textposition": "auto",
         "type": "bar",
         "x": [
          17.849227905273438,
          14.96116828918457,
          12.126358032226562,
          8.623162269592285,
          7.920375347137451,
          6.033469200134277,
          5.368529796600342,
          4.043649673461914,
          3.920539379119873,
          3.7991433143615723
         ],
         "xaxis": "x",
         "y": [
          "CFF FLEV(mg/dL)",
          "CK K (min)",
          "BP_Diastolic",
          "BP_Systolic",
          "CK angle( deg)_difference_since_last_timepoint",
          "Lysis at 30 min (LY30) in %_difference_since_last_timepoint",
          "ADP % Inhibition_difference_since_last_timepoint",
          "PLT(K/uL)",
          "AA MA(mm)_rate_since_last_timepoint",
          "PT value_difference_since_last_timepoint"
         ],
         "yaxis": "y"
        }
       ],
       "layout": {
        "barmode": "relative",
        "legend": {
         "title": {
          "text": "variable"
         },
         "tracegroupgap": 0
        },
        "showlegend": false,
        "template": {
         "data": {
          "bar": [
           {
            "error_x": {
             "color": "#2a3f5f"
            },
            "error_y": {
             "color": "#2a3f5f"
            },
            "marker": {
             "line": {
              "color": "#E5ECF6",
              "width": 0.5
             },
             "pattern": {
              "fillmode": "overlay",
              "size": 10,
              "solidity": 0.2
             }
            },
            "type": "bar"
           }
          ],
          "barpolar": [
           {
            "marker": {
             "line": {
              "color": "#E5ECF6",
              "width": 0.5
             },
             "pattern": {
              "fillmode": "overlay",
              "size": 10,
              "solidity": 0.2
             }
            },
            "type": "barpolar"
           }
          ],
          "carpet": [
           {
            "aaxis": {
             "endlinecolor": "#2a3f5f",
             "gridcolor": "white",
             "linecolor": "white",
             "minorgridcolor": "white",
             "startlinecolor": "#2a3f5f"
            },
            "baxis": {
             "endlinecolor": "#2a3f5f",
             "gridcolor": "white",
             "linecolor": "white",
             "minorgridcolor": "white",
             "startlinecolor": "#2a3f5f"
            },
            "type": "carpet"
           }
          ],
          "choropleth": [
           {
            "colorbar": {
             "outlinewidth": 0,
             "ticks": ""
            },
            "type": "choropleth"
           }
          ],
          "contour": [
           {
            "colorbar": {
             "outlinewidth": 0,
             "ticks": ""
            },
            "colorscale": [
             [
              0,
              "#0d0887"
             ],
             [
              0.1111111111111111,
              "#46039f"
             ],
             [
              0.2222222222222222,
              "#7201a8"
             ],
             [
              0.3333333333333333,
              "#9c179e"
             ],
             [
              0.4444444444444444,
              "#bd3786"
             ],
             [
              0.5555555555555556,
              "#d8576b"
             ],
             [
              0.6666666666666666,
              "#ed7953"
             ],
             [
              0.7777777777777778,
              "#fb9f3a"
             ],
             [
              0.8888888888888888,
              "#fdca26"
             ],
             [
              1,
              "#f0f921"
             ]
            ],
            "type": "contour"
           }
          ],
          "contourcarpet": [
           {
            "colorbar": {
             "outlinewidth": 0,
             "ticks": ""
            },
            "type": "contourcarpet"
           }
          ],
          "heatmap": [
           {
            "colorbar": {
             "outlinewidth": 0,
             "ticks": ""
            },
            "colorscale": [
             [
              0,
              "#0d0887"
             ],
             [
              0.1111111111111111,
              "#46039f"
             ],
             [
              0.2222222222222222,
              "#7201a8"
             ],
             [
              0.3333333333333333,
              "#9c179e"
             ],
             [
              0.4444444444444444,
              "#bd3786"
             ],
             [
              0.5555555555555556,
              "#d8576b"
             ],
             [
              0.6666666666666666,
              "#ed7953"
             ],
             [
              0.7777777777777778,
              "#fb9f3a"
             ],
             [
              0.8888888888888888,
              "#fdca26"
             ],
             [
              1,
              "#f0f921"
             ]
            ],
            "type": "heatmap"
           }
          ],
          "heatmapgl": [
           {
            "colorbar": {
             "outlinewidth": 0,
             "ticks": ""
            },
            "colorscale": [
             [
              0,
              "#0d0887"
             ],
             [
              0.1111111111111111,
              "#46039f"
             ],
             [
              0.2222222222222222,
              "#7201a8"
             ],
             [
              0.3333333333333333,
              "#9c179e"
             ],
             [
              0.4444444444444444,
              "#bd3786"
             ],
             [
              0.5555555555555556,
              "#d8576b"
             ],
             [
              0.6666666666666666,
              "#ed7953"
             ],
             [
              0.7777777777777778,
              "#fb9f3a"
             ],
             [
              0.8888888888888888,
              "#fdca26"
             ],
             [
              1,
              "#f0f921"
             ]
            ],
            "type": "heatmapgl"
           }
          ],
          "histogram": [
           {
            "marker": {
             "pattern": {
              "fillmode": "overlay",
              "size": 10,
              "solidity": 0.2
             }
            },
            "type": "histogram"
           }
          ],
          "histogram2d": [
           {
            "colorbar": {
             "outlinewidth": 0,
             "ticks": ""
            },
            "colorscale": [
             [
              0,
              "#0d0887"
             ],
             [
              0.1111111111111111,
              "#46039f"
             ],
             [
              0.2222222222222222,
              "#7201a8"
             ],
             [
              0.3333333333333333,
              "#9c179e"
             ],
             [
              0.4444444444444444,
              "#bd3786"
             ],
             [
              0.5555555555555556,
              "#d8576b"
             ],
             [
              0.6666666666666666,
              "#ed7953"
             ],
             [
              0.7777777777777778,
              "#fb9f3a"
             ],
             [
              0.8888888888888888,
              "#fdca26"
             ],
             [
              1,
              "#f0f921"
             ]
            ],
            "type": "histogram2d"
           }
          ],
          "histogram2dcontour": [
           {
            "colorbar": {
             "outlinewidth": 0,
             "ticks": ""
            },
            "colorscale": [
             [
              0,
              "#0d0887"
             ],
             [
              0.1111111111111111,
              "#46039f"
             ],
             [
              0.2222222222222222,
              "#7201a8"
             ],
             [
              0.3333333333333333,
              "#9c179e"
             ],
             [
              0.4444444444444444,
              "#bd3786"
             ],
             [
              0.5555555555555556,
              "#d8576b"
             ],
             [
              0.6666666666666666,
              "#ed7953"
             ],
             [
              0.7777777777777778,
              "#fb9f3a"
             ],
             [
              0.8888888888888888,
              "#fdca26"
             ],
             [
              1,
              "#f0f921"
             ]
            ],
            "type": "histogram2dcontour"
           }
          ],
          "mesh3d": [
           {
            "colorbar": {
             "outlinewidth": 0,
             "ticks": ""
            },
            "type": "mesh3d"
           }
          ],
          "parcoords": [
           {
            "line": {
             "colorbar": {
              "outlinewidth": 0,
              "ticks": ""
             }
            },
            "type": "parcoords"
           }
          ],
          "pie": [
           {
            "automargin": true,
            "type": "pie"
           }
          ],
          "scatter": [
           {
            "fillpattern": {
             "fillmode": "overlay",
             "size": 10,
             "solidity": 0.2
            },
            "type": "scatter"
           }
          ],
          "scatter3d": [
           {
            "line": {
             "colorbar": {
              "outlinewidth": 0,
              "ticks": ""
             }
            },
            "marker": {
             "colorbar": {
              "outlinewidth": 0,
              "ticks": ""
             }
            },
            "type": "scatter3d"
           }
          ],
          "scattercarpet": [
           {
            "marker": {
             "colorbar": {
              "outlinewidth": 0,
              "ticks": ""
             }
            },
            "type": "scattercarpet"
           }
          ],
          "scattergeo": [
           {
            "marker": {
             "colorbar": {
              "outlinewidth": 0,
              "ticks": ""
             }
            },
            "type": "scattergeo"
           }
          ],
          "scattergl": [
           {
            "marker": {
             "colorbar": {
              "outlinewidth": 0,
              "ticks": ""
             }
            },
            "type": "scattergl"
           }
          ],
          "scattermapbox": [
           {
            "marker": {
             "colorbar": {
              "outlinewidth": 0,
              "ticks": ""
             }
            },
            "type": "scattermapbox"
           }
          ],
          "scatterpolar": [
           {
            "marker": {
             "colorbar": {
              "outlinewidth": 0,
              "ticks": ""
             }
            },
            "type": "scatterpolar"
           }
          ],
          "scatterpolargl": [
           {
            "marker": {
             "colorbar": {
              "outlinewidth": 0,
              "ticks": ""
             }
            },
            "type": "scatterpolargl"
           }
          ],
          "scatterternary": [
           {
            "marker": {
             "colorbar": {
              "outlinewidth": 0,
              "ticks": ""
             }
            },
            "type": "scatterternary"
           }
          ],
          "surface": [
           {
            "colorbar": {
             "outlinewidth": 0,
             "ticks": ""
            },
            "colorscale": [
             [
              0,
              "#0d0887"
             ],
             [
              0.1111111111111111,
              "#46039f"
             ],
             [
              0.2222222222222222,
              "#7201a8"
             ],
             [
              0.3333333333333333,
              "#9c179e"
             ],
             [
              0.4444444444444444,
              "#bd3786"
             ],
             [
              0.5555555555555556,
              "#d8576b"
             ],
             [
              0.6666666666666666,
              "#ed7953"
             ],
             [
              0.7777777777777778,
              "#fb9f3a"
             ],
             [
              0.8888888888888888,
              "#fdca26"
             ],
             [
              1,
              "#f0f921"
             ]
            ],
            "type": "surface"
           }
          ],
          "table": [
           {
            "cells": {
             "fill": {
              "color": "#EBF0F8"
             },
             "line": {
              "color": "white"
             }
            },
            "header": {
             "fill": {
              "color": "#C8D4E3"
             },
             "line": {
              "color": "white"
             }
            },
            "type": "table"
           }
          ]
         },
         "layout": {
          "annotationdefaults": {
           "arrowcolor": "#2a3f5f",
           "arrowhead": 0,
           "arrowwidth": 1
          },
          "autotypenumbers": "strict",
          "coloraxis": {
           "colorbar": {
            "outlinewidth": 0,
            "ticks": ""
           }
          },
          "colorscale": {
           "diverging": [
            [
             0,
             "#8e0152"
            ],
            [
             0.1,
             "#c51b7d"
            ],
            [
             0.2,
             "#de77ae"
            ],
            [
             0.3,
             "#f1b6da"
            ],
            [
             0.4,
             "#fde0ef"
            ],
            [
             0.5,
             "#f7f7f7"
            ],
            [
             0.6,
             "#e6f5d0"
            ],
            [
             0.7,
             "#b8e186"
            ],
            [
             0.8,
             "#7fbc41"
            ],
            [
             0.9,
             "#4d9221"
            ],
            [
             1,
             "#276419"
            ]
           ],
           "sequential": [
            [
             0,
             "#0d0887"
            ],
            [
             0.1111111111111111,
             "#46039f"
            ],
            [
             0.2222222222222222,
             "#7201a8"
            ],
            [
             0.3333333333333333,
             "#9c179e"
            ],
            [
             0.4444444444444444,
             "#bd3786"
            ],
            [
             0.5555555555555556,
             "#d8576b"
            ],
            [
             0.6666666666666666,
             "#ed7953"
            ],
            [
             0.7777777777777778,
             "#fb9f3a"
            ],
            [
             0.8888888888888888,
             "#fdca26"
            ],
            [
             1,
             "#f0f921"
            ]
           ],
           "sequentialminus": [
            [
             0,
             "#0d0887"
            ],
            [
             0.1111111111111111,
             "#46039f"
            ],
            [
             0.2222222222222222,
             "#7201a8"
            ],
            [
             0.3333333333333333,
             "#9c179e"
            ],
            [
             0.4444444444444444,
             "#bd3786"
            ],
            [
             0.5555555555555556,
             "#d8576b"
            ],
            [
             0.6666666666666666,
             "#ed7953"
            ],
            [
             0.7777777777777778,
             "#fb9f3a"
            ],
            [
             0.8888888888888888,
             "#fdca26"
            ],
            [
             1,
             "#f0f921"
            ]
           ]
          },
          "colorway": [
           "#636efa",
           "#EF553B",
           "#00cc96",
           "#ab63fa",
           "#FFA15A",
           "#19d3f3",
           "#FF6692",
           "#B6E880",
           "#FF97FF",
           "#FECB52"
          ],
          "font": {
           "color": "#2a3f5f"
          },
          "geo": {
           "bgcolor": "white",
           "lakecolor": "white",
           "landcolor": "#E5ECF6",
           "showlakes": true,
           "showland": true,
           "subunitcolor": "white"
          },
          "hoverlabel": {
           "align": "left"
          },
          "hovermode": "closest",
          "mapbox": {
           "style": "light"
          },
          "paper_bgcolor": "white",
          "plot_bgcolor": "#E5ECF6",
          "polar": {
           "angularaxis": {
            "gridcolor": "white",
            "linecolor": "white",
            "ticks": ""
           },
           "bgcolor": "#E5ECF6",
           "radialaxis": {
            "gridcolor": "white",
            "linecolor": "white",
            "ticks": ""
           }
          },
          "scene": {
           "xaxis": {
            "backgroundcolor": "#E5ECF6",
            "gridcolor": "white",
            "gridwidth": 2,
            "linecolor": "white",
            "showbackground": true,
            "ticks": "",
            "zerolinecolor": "white"
           },
           "yaxis": {
            "backgroundcolor": "#E5ECF6",
            "gridcolor": "white",
            "gridwidth": 2,
            "linecolor": "white",
            "showbackground": true,
            "ticks": "",
            "zerolinecolor": "white"
           },
           "zaxis": {
            "backgroundcolor": "#E5ECF6",
            "gridcolor": "white",
            "gridwidth": 2,
            "linecolor": "white",
            "showbackground": true,
            "ticks": "",
            "zerolinecolor": "white"
           }
          },
          "shapedefaults": {
           "line": {
            "color": "#2a3f5f"
           }
          },
          "ternary": {
           "aaxis": {
            "gridcolor": "white",
            "linecolor": "white",
            "ticks": ""
           },
           "baxis": {
            "gridcolor": "white",
            "linecolor": "white",
            "ticks": ""
           },
           "bgcolor": "#E5ECF6",
           "caxis": {
            "gridcolor": "white",
            "linecolor": "white",
            "ticks": ""
           }
          },
          "title": {
           "x": 0.05
          },
          "xaxis": {
           "automargin": true,
           "gridcolor": "white",
           "linecolor": "white",
           "ticks": "",
           "title": {
            "standoff": 15
           },
           "zerolinecolor": "white",
           "zerolinewidth": 2
          },
          "yaxis": {
           "automargin": true,
           "gridcolor": "white",
           "linecolor": "white",
           "ticks": "",
           "title": {
            "standoff": 15
           },
           "zerolinecolor": "white",
           "zerolinewidth": 2
          }
         }
        },
        "title": {
         "text": "Teg 2 feature importance"
        },
        "xaxis": {
         "anchor": "y",
         "domain": [
          0,
          1
         ],
         "title": {
          "text": "Percentage"
         }
        },
        "yaxis": {
         "anchor": "x",
         "categoryorder": "total ascending",
         "domain": [
          0,
          1
         ],
         "title": {
          "text": "Factors"
         }
        }
       }
      }
     },
     "metadata": {},
     "output_type": "display_data"
    }
   ],
   "source": [
    "# Plot SHAP summary plot\n",
    "fig = plot_importance(importance_df_TEG2, \"Teg 2 feature importance\", showlegend=False)\n",
    "display(fig)"
   ]
  },
  {
   "cell_type": "code",
   "execution_count": 511,
   "metadata": {},
   "outputs": [],
   "source": [
    "#!jupyter nbconvert --to script steps.ipynb"
   ]
  },
  {
   "cell_type": "markdown",
   "metadata": {},
   "source": [
    "# Predict thrombotic event"
   ]
  },
  {
   "cell_type": "code",
   "execution_count": null,
   "metadata": {},
   "outputs": [],
   "source": []
  },
  {
   "cell_type": "markdown",
   "metadata": {},
   "source": [
    "## Upload patient\n",
    "Import dummy data to try predict their thrombotic event"
   ]
  },
  {
   "cell_type": "code",
   "execution_count": 512,
   "metadata": {},
   "outputs": [],
   "source": [
    "# Imports excell with patients data\n",
    "data_path = \"./testData/dummy_patient.xlsx\"\n",
    "\n",
    "# Read the uploaded Excel file into a Pandas DataFrame\n",
    "xls = pd.ExcelFile(data_path, engine=\"openpyxl\")\n",
    "\n",
    "sheet_names = ['Baseline', 'TEG Values']  # Replace with your sheet names\n",
    "\n",
    "# Access each sheet's data using the sheet name as the key\n",
    "baseline_df = pd.read_excel(xls, sheet_names[0])\n",
    "tegValues_df = pd.read_excel(xls, sheet_names[1])\n",
    "\n",
    "baseline_id = baseline_df[\"Record ID\"]\n",
    "tegValues_id = tegValues_df[[\"Record ID\",\"Date of TEG Collection\"]]\n",
    "\n",
    "# Save IDs\n",
    "  ##  baseline_id = patientBaseline[\"Record ID\"].astype(str)\n",
    "   # tegValues_id = {\"Patient\": patientTEG[\"Record ID\"].astype(str),\n",
    "    #                \"Date\":patientTEG[\"Date of TEG Collection\"]}\n"
   ]
  },
  {
   "cell_type": "markdown",
   "metadata": {},
   "source": [
    "Getting a new boundaries file because the last one was edited"
   ]
  },
  {
   "cell_type": "code",
   "execution_count": 513,
   "metadata": {},
   "outputs": [
    {
     "data": {
      "text/plain": [
       "{'EGFR (mL/min/1.73m2)': {'>60': 60},\n",
       " 'Reaction Time (R) in min': {'>17': 18},\n",
       " 'HKH MA (mm)': {'<42': 40, '>71': 75},\n",
       " 'ActF MA (mm)': {'>30': 35, '<2': 0},\n",
       " 'ADP MA (mm)': {'<10': 5, '>72': 77},\n",
       " 'AA MA(mm)': {'<8': 5},\n",
       " 'CK R(min)': {'>17': 20},\n",
       " 'CK K (min)': {'<': '>', '>5': 8},\n",
       " 'CK angle( deg)': {'<39': 35},\n",
       " 'CK MA (mm)': {'<40': 35, '>75': 80},\n",
       " 'CRT MA(mm)': {'<40': 35, '>75': 80},\n",
       " 'CRT Max amplitude (MA) in mm': {'<40': 35, '>75': 80},\n",
       " 'CKH R (min)': {'>17': 20},\n",
       " 'CFF MA(mm)': {'>52': 55, '<4': 0},\n",
       " 'CFF Max Amplitude( MA) in mm': {'>52': 55, '<4': 0},\n",
       " 'aPTT': {'>150': 160}}"
      ]
     },
     "execution_count": 513,
     "metadata": {},
     "output_type": "execute_result"
    }
   ],
   "source": [
    "# Define the filename\n",
    "filename = 'data_boundaries.json'\n",
    "\n",
    "# Create the full file path by joining the base directory and filename\n",
    "file_path = os.path.join(base_directory, 'data', filename)\n",
    "\n",
    "with open(file_path, 'r') as json_file:\n",
    "    boundaries = json.load(json_file)\n",
    "boundaries"
   ]
  },
  {
   "cell_type": "markdown",
   "metadata": {},
   "source": [
    "All of the code from above was copied and paseted to the functions file"
   ]
  },
  {
   "cell_type": "code",
   "execution_count": 514,
   "metadata": {},
   "outputs": [],
   "source": [
    "from functions import transform_data, extend_df"
   ]
  },
  {
   "cell_type": "code",
   "execution_count": 515,
   "metadata": {},
   "outputs": [],
   "source": [
    "# Transform data in the same way the last one was transformed\n",
    "clean_baseline_patient_df, clean_TEG_patient_df, patient_tegValues = transform_data(baseline_df, tegValues_df, boundaries, training = False)\n",
    "if user_extend_data:\n",
    "    clean_TEG_patient_df, new_columns = extend_df(clean_TEG_patient_df,patient_tegValues)"
   ]
  },
  {
   "cell_type": "code",
   "execution_count": 516,
   "metadata": {},
   "outputs": [
    {
     "data": {
      "text/html": [
       "<div>\n",
       "<style scoped>\n",
       "    .dataframe tbody tr th:only-of-type {\n",
       "        vertical-align: middle;\n",
       "    }\n",
       "\n",
       "    .dataframe tbody tr th {\n",
       "        vertical-align: top;\n",
       "    }\n",
       "\n",
       "    .dataframe thead th {\n",
       "        text-align: right;\n",
       "    }\n",
       "</style>\n",
       "<table border=\"1\" class=\"dataframe\">\n",
       "  <thead>\n",
       "    <tr style=\"text-align: right;\">\n",
       "      <th></th>\n",
       "      <th>BMI</th>\n",
       "      <th>Is Male</th>\n",
       "      <th>White</th>\n",
       "      <th>Age</th>\n",
       "      <th>Clotting Disorder</th>\n",
       "      <th>Hypertension</th>\n",
       "      <th>Diabetes</th>\n",
       "    </tr>\n",
       "    <tr>\n",
       "      <th>Record ID</th>\n",
       "      <th></th>\n",
       "      <th></th>\n",
       "      <th></th>\n",
       "      <th></th>\n",
       "      <th></th>\n",
       "      <th></th>\n",
       "      <th></th>\n",
       "    </tr>\n",
       "  </thead>\n",
       "  <tbody>\n",
       "    <tr>\n",
       "      <th>39</th>\n",
       "      <td>40.37</td>\n",
       "      <td>Yes</td>\n",
       "      <td>Yes</td>\n",
       "      <td>81</td>\n",
       "      <td>2</td>\n",
       "      <td>No</td>\n",
       "      <td>Yes</td>\n",
       "    </tr>\n",
       "  </tbody>\n",
       "</table>\n",
       "</div>"
      ],
      "text/plain": [
       "             BMI Is Male White  Age  Clotting Disorder Hypertension Diabetes\n",
       "Record ID                                                                   \n",
       "39         40.37     Yes   Yes   81                  2           No      Yes"
      ]
     },
     "execution_count": 516,
     "metadata": {},
     "output_type": "execute_result"
    }
   ],
   "source": [
    "# Create a new DataFrame with modifications\n",
    "modified_df = clean_baseline_patient_df[['Record ID','BMI','Is Male','White', 'Age', 'Clotting Disorder', 'Hypertension', 'Diabetes']].copy()\n",
    "\n",
    "# Round 'BMI' to 2 decimal places\n",
    "modified_df['BMI'] = modified_df['BMI'].round(2)\n",
    "\n",
    "# Convert boolean columns to 'Yes' or 'No'\n",
    "boolean_columns = ['White','Is Male', 'Hypertension', 'Diabetes']\n",
    "for column in boolean_columns:\n",
    "    modified_df[column] = modified_df[column].map({True: 'Yes', False: 'No'})\n",
    "\n",
    "# Set 'Record ID' as the index\n",
    "modified_df.set_index('Record ID', inplace=True)\n",
    "\n",
    "# Display the modified DataFrame\n",
    "modified_df"
   ]
  },
  {
   "cell_type": "markdown",
   "metadata": {},
   "source": [
    "## Get predictions and feature importance"
   ]
  },
  {
   "cell_type": "markdown",
   "metadata": {},
   "source": [
    "Make sure that the columns in the current database and the columns used to train the model"
   ]
  },
  {
   "cell_type": "code",
   "execution_count": 517,
   "metadata": {},
   "outputs": [],
   "source": [
    "def check_column_names(df, model_column):\n",
    "    \"\"\"\n",
    "    model_column (list) with column names originally used in model\n",
    "    \"\"\"\n",
    "    \n",
    "    # Ensure all columns in teg_columns exist in clean_TEG_df\n",
    "    for column in model_column:\n",
    "        if column not in df.columns:\n",
    "            # If the column is missing, add an empty column\n",
    "            df[column] = pd.Series(dtype=float)\n",
    "\n",
    "    # Drop columns in clean_TEG_df that are not in teg_columns\n",
    "    new_df = df[model_column]\n",
    "\n",
    "    return new_df"
   ]
  },
  {
   "cell_type": "markdown",
   "metadata": {},
   "source": [
    "Make sure that the columns that are beeing uploaded after they are processed are the same as the columns used to train the model"
   ]
  },
  {
   "cell_type": "code",
   "execution_count": 518,
   "metadata": {},
   "outputs": [],
   "source": [
    "patient_TEG1_df = check_column_names(clean_TEG_patient_df, teg1_columns)\n",
    "patient_TEG2_df = check_column_names(clean_TEG_patient_df, teg2_columns)\n",
    "patient_baseline_df = check_column_names(clean_baseline_patient_df, baseline_columns)\n"
   ]
  },
  {
   "cell_type": "code",
   "execution_count": 519,
   "metadata": {},
   "outputs": [],
   "source": [
    "# Separate features (X) and target (y)\n",
    "def predict(df, best_pipeline, id_s):\n",
    "\n",
    "    columns_to_drop = ['Record ID','Events','Visit Timepoint', 'Date of TEG Collection']\n",
    "    df = df.copy()\n",
    "\n",
    "    for column in columns_to_drop:\n",
    "        if column in df.columns:\n",
    "            df.drop(column, axis=1,inplace = True)\n",
    "\n",
    "    # Make predictions on the test data\n",
    "    y_pred = best_pipeline.predict(df)\n",
    "\n",
    "    # Scale prediction to be percentage\n",
    "    y_pred = y_pred*100\n",
    "\n",
    "\n",
    "    # Convert NumPy array to DataFrame with 'Record ID' as the index\n",
    "    pred_df = pd.DataFrame({'Prediction': y_pred})\n",
    "   \n",
    "    # Concatenate horizontally\n",
    "    id_pred_df = pd.concat([pred_df, id_s], axis=1)\n",
    "\n",
    "    \n",
    "    return id_pred_df  "
   ]
  },
  {
   "cell_type": "code",
   "execution_count": 520,
   "metadata": {},
   "outputs": [
    {
     "data": {
      "text/html": [
       "<div>\n",
       "<style scoped>\n",
       "    .dataframe tbody tr th:only-of-type {\n",
       "        vertical-align: middle;\n",
       "    }\n",
       "\n",
       "    .dataframe tbody tr th {\n",
       "        vertical-align: top;\n",
       "    }\n",
       "\n",
       "    .dataframe thead th {\n",
       "        text-align: right;\n",
       "    }\n",
       "</style>\n",
       "<table border=\"1\" class=\"dataframe\">\n",
       "  <thead>\n",
       "    <tr style=\"text-align: right;\">\n",
       "      <th></th>\n",
       "      <th>Prediction</th>\n",
       "      <th>Record ID</th>\n",
       "    </tr>\n",
       "  </thead>\n",
       "  <tbody>\n",
       "    <tr>\n",
       "      <th>0</th>\n",
       "      <td>55.753551</td>\n",
       "      <td>39</td>\n",
       "    </tr>\n",
       "  </tbody>\n",
       "</table>\n",
       "</div>"
      ],
      "text/plain": [
       "   Prediction  Record ID\n",
       "0   55.753551         39"
      ]
     },
     "execution_count": 520,
     "metadata": {},
     "output_type": "execute_result"
    }
   ],
   "source": [
    "baseline_pred = predict(patient_baseline_df, best_model_baseline, baseline_id)\n",
    "baseline_pred"
   ]
  },
  {
   "cell_type": "code",
   "execution_count": 521,
   "metadata": {},
   "outputs": [
    {
     "data": {
      "text/html": [
       "<div>\n",
       "<style scoped>\n",
       "    .dataframe tbody tr th:only-of-type {\n",
       "        vertical-align: middle;\n",
       "    }\n",
       "\n",
       "    .dataframe tbody tr th {\n",
       "        vertical-align: top;\n",
       "    }\n",
       "\n",
       "    .dataframe thead th {\n",
       "        text-align: right;\n",
       "    }\n",
       "</style>\n",
       "<table border=\"1\" class=\"dataframe\">\n",
       "  <thead>\n",
       "    <tr style=\"text-align: right;\">\n",
       "      <th></th>\n",
       "      <th>Prediction</th>\n",
       "      <th>Record ID</th>\n",
       "      <th>Date of TEG Collection</th>\n",
       "    </tr>\n",
       "  </thead>\n",
       "  <tbody>\n",
       "    <tr>\n",
       "      <th>0</th>\n",
       "      <td>46.518566</td>\n",
       "      <td>39</td>\n",
       "      <td>2023-12-01</td>\n",
       "    </tr>\n",
       "    <tr>\n",
       "      <th>1</th>\n",
       "      <td>57.006298</td>\n",
       "      <td>39</td>\n",
       "      <td>2023-12-02</td>\n",
       "    </tr>\n",
       "    <tr>\n",
       "      <th>2</th>\n",
       "      <td>42.227608</td>\n",
       "      <td>40</td>\n",
       "      <td>2023-12-03</td>\n",
       "    </tr>\n",
       "  </tbody>\n",
       "</table>\n",
       "</div>"
      ],
      "text/plain": [
       "   Prediction  Record ID Date of TEG Collection\n",
       "0   46.518566         39             2023-12-01\n",
       "1   57.006298         39             2023-12-02\n",
       "2   42.227608         40             2023-12-03"
      ]
     },
     "execution_count": 521,
     "metadata": {},
     "output_type": "execute_result"
    }
   ],
   "source": [
    "TEG1_pred = predict(patient_TEG1_df, best_model_TEG1, tegValues_id)\n",
    "TEG1_pred"
   ]
  },
  {
   "cell_type": "code",
   "execution_count": 522,
   "metadata": {},
   "outputs": [
    {
     "data": {
      "text/html": [
       "<div>\n",
       "<style scoped>\n",
       "    .dataframe tbody tr th:only-of-type {\n",
       "        vertical-align: middle;\n",
       "    }\n",
       "\n",
       "    .dataframe tbody tr th {\n",
       "        vertical-align: top;\n",
       "    }\n",
       "\n",
       "    .dataframe thead th {\n",
       "        text-align: right;\n",
       "    }\n",
       "</style>\n",
       "<table border=\"1\" class=\"dataframe\">\n",
       "  <thead>\n",
       "    <tr style=\"text-align: right;\">\n",
       "      <th></th>\n",
       "      <th>Prediction</th>\n",
       "      <th>Record ID</th>\n",
       "      <th>Date of TEG Collection</th>\n",
       "    </tr>\n",
       "  </thead>\n",
       "  <tbody>\n",
       "    <tr>\n",
       "      <th>0</th>\n",
       "      <td>51.383747</td>\n",
       "      <td>39</td>\n",
       "      <td>2023-12-01</td>\n",
       "    </tr>\n",
       "    <tr>\n",
       "      <th>1</th>\n",
       "      <td>71.860123</td>\n",
       "      <td>39</td>\n",
       "      <td>2023-12-02</td>\n",
       "    </tr>\n",
       "    <tr>\n",
       "      <th>2</th>\n",
       "      <td>38.307655</td>\n",
       "      <td>40</td>\n",
       "      <td>2023-12-03</td>\n",
       "    </tr>\n",
       "  </tbody>\n",
       "</table>\n",
       "</div>"
      ],
      "text/plain": [
       "   Prediction  Record ID Date of TEG Collection\n",
       "0   51.383747         39             2023-12-01\n",
       "1   71.860123         39             2023-12-02\n",
       "2   38.307655         40             2023-12-03"
      ]
     },
     "execution_count": 522,
     "metadata": {},
     "output_type": "execute_result"
    }
   ],
   "source": [
    "TEG2_pred = predict(patient_TEG2_df,  best_model_TEG2, tegValues_id)\n",
    "TEG2_pred"
   ]
  },
  {
   "cell_type": "code",
   "execution_count": 530,
   "metadata": {},
   "outputs": [
    {
     "data": {
      "text/html": [
       "<div>\n",
       "<style scoped>\n",
       "    .dataframe tbody tr th:only-of-type {\n",
       "        vertical-align: middle;\n",
       "    }\n",
       "\n",
       "    .dataframe tbody tr th {\n",
       "        vertical-align: top;\n",
       "    }\n",
       "\n",
       "    .dataframe thead th {\n",
       "        text-align: right;\n",
       "    }\n",
       "</style>\n",
       "<table border=\"1\" class=\"dataframe\">\n",
       "  <thead>\n",
       "    <tr style=\"text-align: right;\">\n",
       "      <th></th>\n",
       "      <th>Prediction_x</th>\n",
       "      <th>Record ID</th>\n",
       "      <th>Prediction_y</th>\n",
       "      <th>Date of TEG Collection</th>\n",
       "    </tr>\n",
       "  </thead>\n",
       "  <tbody>\n",
       "    <tr>\n",
       "      <th>0</th>\n",
       "      <td>55.753551</td>\n",
       "      <td>39</td>\n",
       "      <td>51.383747</td>\n",
       "      <td>2023-12-01</td>\n",
       "    </tr>\n",
       "    <tr>\n",
       "      <th>1</th>\n",
       "      <td>55.753551</td>\n",
       "      <td>39</td>\n",
       "      <td>71.860123</td>\n",
       "      <td>2023-12-02</td>\n",
       "    </tr>\n",
       "    <tr>\n",
       "      <th>2</th>\n",
       "      <td>NaN</td>\n",
       "      <td>40</td>\n",
       "      <td>38.307655</td>\n",
       "      <td>2023-12-03</td>\n",
       "    </tr>\n",
       "  </tbody>\n",
       "</table>\n",
       "</div>"
      ],
      "text/plain": [
       "   Prediction_x  Record ID  Prediction_y Date of TEG Collection\n",
       "0     55.753551         39     51.383747             2023-12-01\n",
       "1     55.753551         39     71.860123             2023-12-02\n",
       "2           NaN         40     38.307655             2023-12-03"
      ]
     },
     "execution_count": 530,
     "metadata": {},
     "output_type": "execute_result"
    }
   ],
   "source": [
    "merged_df = pd.merge(baseline_pred, TEG2_pred, on='Record ID', how='outer')\n",
    "merged_df"
   ]
  },
  {
   "cell_type": "markdown",
   "metadata": {},
   "source": [
    "Visualize"
   ]
  },
  {
   "cell_type": "code",
   "execution_count": 523,
   "metadata": {},
   "outputs": [],
   "source": [
    "def plot_pred(TEG_pred,baseline_pred):\n",
    "    # Convert Date of TEG Collection to string for plotting\n",
    "    plot_TEG_df = TEG_pred.copy()\n",
    "    plot_TEG_df['Date of TEG Collection'] = plot_TEG_df['Date of TEG Collection'].dt.strftime('%Y-%m-%d')\n",
    "\n",
    "    # Plotly Express Scatter Plot for TEG1_pred\n",
    "    fig = px.line(plot_TEG_df, x='Date of TEG Collection', y='Prediction',\n",
    "                    color='Record ID', symbol='Record ID',\n",
    "                    title=\"Patient's risk of thrombosis based on TEG values and comorbidities\",\n",
    "                    labels={'Prediction': 'Risk(%)'})\n",
    "\n",
    "    # Get baseline values\n",
    "    # Find the smallest and largest values\n",
    "    smallest_value = TEG_pred['Date of TEG Collection'].min()\n",
    "    largest_value = TEG_pred['Date of TEG Collection'].max()\n",
    "\n",
    "    # Plotly Express Line Plot for baseline_pred\n",
    "    double_baseline_pred = pd.concat([baseline_pred, baseline_pred])\n",
    "    baseline_pred_line = px.line(double_baseline_pred, x=[smallest_value,largest_value] * len(baseline_pred), y='Prediction', line_group='Record ID')\n",
    "    baseline_pred_line.update_traces(mode='lines', line_dash='dash', name='Baseline')\n",
    "    fig.add_trace(baseline_pred_line.data[0])\n",
    "\n",
    "    return fig"
   ]
  },
  {
   "cell_type": "code",
   "execution_count": 524,
   "metadata": {},
   "outputs": [
    {
     "name": "stderr",
     "output_type": "stream",
     "text": [
      "/opt/anaconda3/envs/Capstone2023/lib/python3.10/site-packages/_plotly_utils/basevalidators.py:105: FutureWarning:\n",
      "\n",
      "The behavior of DatetimeProperties.to_pydatetime is deprecated, in a future version this will return a Series containing python datetime objects instead of an ndarray. To retain the old behavior, call `np.array` on the result\n",
      "\n"
     ]
    },
    {
     "data": {
      "application/vnd.plotly.v1+json": {
       "config": {
        "plotlyServerURL": "https://plot.ly"
       },
       "data": [
        {
         "hovertemplate": "Record ID=39<br>Date of TEG Collection=%{x}<br>Risk(%)=%{y}<extra></extra>",
         "legendgroup": "39",
         "line": {
          "color": "#636efa",
          "dash": "solid"
         },
         "marker": {
          "symbol": "circle"
         },
         "mode": "markers+lines",
         "name": "39",
         "orientation": "v",
         "showlegend": true,
         "type": "scatter",
         "x": [
          "2023-12-01",
          "2023-12-02"
         ],
         "xaxis": "x",
         "y": [
          46.5185661315918,
          57.00629806518555
         ],
         "yaxis": "y"
        },
        {
         "hovertemplate": "Record ID=40<br>Date of TEG Collection=%{x}<br>Risk(%)=%{y}<extra></extra>",
         "legendgroup": "40",
         "line": {
          "color": "#EF553B",
          "dash": "solid"
         },
         "marker": {
          "symbol": "diamond"
         },
         "mode": "markers+lines",
         "name": "40",
         "orientation": "v",
         "showlegend": true,
         "type": "scatter",
         "x": [
          "2023-12-03"
         ],
         "xaxis": "x",
         "y": [
          42.22760772705078
         ],
         "yaxis": "y"
        },
        {
         "hovertemplate": "Record ID=39<br>x=%{x}<br>Prediction=%{y}<extra></extra>",
         "legendgroup": "",
         "line": {
          "color": "#636efa",
          "dash": "dash"
         },
         "marker": {
          "symbol": "circle"
         },
         "mode": "lines",
         "name": "Baseline",
         "orientation": "v",
         "showlegend": false,
         "type": "scatter",
         "x": [
          "2023-12-01T00:00:00",
          "2023-12-03T00:00:00"
         ],
         "xaxis": "x",
         "y": [
          55.7535514831543,
          55.7535514831543
         ],
         "yaxis": "y"
        }
       ],
       "layout": {
        "legend": {
         "title": {
          "text": "Record ID"
         },
         "tracegroupgap": 0
        },
        "template": {
         "data": {
          "bar": [
           {
            "error_x": {
             "color": "#2a3f5f"
            },
            "error_y": {
             "color": "#2a3f5f"
            },
            "marker": {
             "line": {
              "color": "#E5ECF6",
              "width": 0.5
             },
             "pattern": {
              "fillmode": "overlay",
              "size": 10,
              "solidity": 0.2
             }
            },
            "type": "bar"
           }
          ],
          "barpolar": [
           {
            "marker": {
             "line": {
              "color": "#E5ECF6",
              "width": 0.5
             },
             "pattern": {
              "fillmode": "overlay",
              "size": 10,
              "solidity": 0.2
             }
            },
            "type": "barpolar"
           }
          ],
          "carpet": [
           {
            "aaxis": {
             "endlinecolor": "#2a3f5f",
             "gridcolor": "white",
             "linecolor": "white",
             "minorgridcolor": "white",
             "startlinecolor": "#2a3f5f"
            },
            "baxis": {
             "endlinecolor": "#2a3f5f",
             "gridcolor": "white",
             "linecolor": "white",
             "minorgridcolor": "white",
             "startlinecolor": "#2a3f5f"
            },
            "type": "carpet"
           }
          ],
          "choropleth": [
           {
            "colorbar": {
             "outlinewidth": 0,
             "ticks": ""
            },
            "type": "choropleth"
           }
          ],
          "contour": [
           {
            "colorbar": {
             "outlinewidth": 0,
             "ticks": ""
            },
            "colorscale": [
             [
              0,
              "#0d0887"
             ],
             [
              0.1111111111111111,
              "#46039f"
             ],
             [
              0.2222222222222222,
              "#7201a8"
             ],
             [
              0.3333333333333333,
              "#9c179e"
             ],
             [
              0.4444444444444444,
              "#bd3786"
             ],
             [
              0.5555555555555556,
              "#d8576b"
             ],
             [
              0.6666666666666666,
              "#ed7953"
             ],
             [
              0.7777777777777778,
              "#fb9f3a"
             ],
             [
              0.8888888888888888,
              "#fdca26"
             ],
             [
              1,
              "#f0f921"
             ]
            ],
            "type": "contour"
           }
          ],
          "contourcarpet": [
           {
            "colorbar": {
             "outlinewidth": 0,
             "ticks": ""
            },
            "type": "contourcarpet"
           }
          ],
          "heatmap": [
           {
            "colorbar": {
             "outlinewidth": 0,
             "ticks": ""
            },
            "colorscale": [
             [
              0,
              "#0d0887"
             ],
             [
              0.1111111111111111,
              "#46039f"
             ],
             [
              0.2222222222222222,
              "#7201a8"
             ],
             [
              0.3333333333333333,
              "#9c179e"
             ],
             [
              0.4444444444444444,
              "#bd3786"
             ],
             [
              0.5555555555555556,
              "#d8576b"
             ],
             [
              0.6666666666666666,
              "#ed7953"
             ],
             [
              0.7777777777777778,
              "#fb9f3a"
             ],
             [
              0.8888888888888888,
              "#fdca26"
             ],
             [
              1,
              "#f0f921"
             ]
            ],
            "type": "heatmap"
           }
          ],
          "heatmapgl": [
           {
            "colorbar": {
             "outlinewidth": 0,
             "ticks": ""
            },
            "colorscale": [
             [
              0,
              "#0d0887"
             ],
             [
              0.1111111111111111,
              "#46039f"
             ],
             [
              0.2222222222222222,
              "#7201a8"
             ],
             [
              0.3333333333333333,
              "#9c179e"
             ],
             [
              0.4444444444444444,
              "#bd3786"
             ],
             [
              0.5555555555555556,
              "#d8576b"
             ],
             [
              0.6666666666666666,
              "#ed7953"
             ],
             [
              0.7777777777777778,
              "#fb9f3a"
             ],
             [
              0.8888888888888888,
              "#fdca26"
             ],
             [
              1,
              "#f0f921"
             ]
            ],
            "type": "heatmapgl"
           }
          ],
          "histogram": [
           {
            "marker": {
             "pattern": {
              "fillmode": "overlay",
              "size": 10,
              "solidity": 0.2
             }
            },
            "type": "histogram"
           }
          ],
          "histogram2d": [
           {
            "colorbar": {
             "outlinewidth": 0,
             "ticks": ""
            },
            "colorscale": [
             [
              0,
              "#0d0887"
             ],
             [
              0.1111111111111111,
              "#46039f"
             ],
             [
              0.2222222222222222,
              "#7201a8"
             ],
             [
              0.3333333333333333,
              "#9c179e"
             ],
             [
              0.4444444444444444,
              "#bd3786"
             ],
             [
              0.5555555555555556,
              "#d8576b"
             ],
             [
              0.6666666666666666,
              "#ed7953"
             ],
             [
              0.7777777777777778,
              "#fb9f3a"
             ],
             [
              0.8888888888888888,
              "#fdca26"
             ],
             [
              1,
              "#f0f921"
             ]
            ],
            "type": "histogram2d"
           }
          ],
          "histogram2dcontour": [
           {
            "colorbar": {
             "outlinewidth": 0,
             "ticks": ""
            },
            "colorscale": [
             [
              0,
              "#0d0887"
             ],
             [
              0.1111111111111111,
              "#46039f"
             ],
             [
              0.2222222222222222,
              "#7201a8"
             ],
             [
              0.3333333333333333,
              "#9c179e"
             ],
             [
              0.4444444444444444,
              "#bd3786"
             ],
             [
              0.5555555555555556,
              "#d8576b"
             ],
             [
              0.6666666666666666,
              "#ed7953"
             ],
             [
              0.7777777777777778,
              "#fb9f3a"
             ],
             [
              0.8888888888888888,
              "#fdca26"
             ],
             [
              1,
              "#f0f921"
             ]
            ],
            "type": "histogram2dcontour"
           }
          ],
          "mesh3d": [
           {
            "colorbar": {
             "outlinewidth": 0,
             "ticks": ""
            },
            "type": "mesh3d"
           }
          ],
          "parcoords": [
           {
            "line": {
             "colorbar": {
              "outlinewidth": 0,
              "ticks": ""
             }
            },
            "type": "parcoords"
           }
          ],
          "pie": [
           {
            "automargin": true,
            "type": "pie"
           }
          ],
          "scatter": [
           {
            "fillpattern": {
             "fillmode": "overlay",
             "size": 10,
             "solidity": 0.2
            },
            "type": "scatter"
           }
          ],
          "scatter3d": [
           {
            "line": {
             "colorbar": {
              "outlinewidth": 0,
              "ticks": ""
             }
            },
            "marker": {
             "colorbar": {
              "outlinewidth": 0,
              "ticks": ""
             }
            },
            "type": "scatter3d"
           }
          ],
          "scattercarpet": [
           {
            "marker": {
             "colorbar": {
              "outlinewidth": 0,
              "ticks": ""
             }
            },
            "type": "scattercarpet"
           }
          ],
          "scattergeo": [
           {
            "marker": {
             "colorbar": {
              "outlinewidth": 0,
              "ticks": ""
             }
            },
            "type": "scattergeo"
           }
          ],
          "scattergl": [
           {
            "marker": {
             "colorbar": {
              "outlinewidth": 0,
              "ticks": ""
             }
            },
            "type": "scattergl"
           }
          ],
          "scattermapbox": [
           {
            "marker": {
             "colorbar": {
              "outlinewidth": 0,
              "ticks": ""
             }
            },
            "type": "scattermapbox"
           }
          ],
          "scatterpolar": [
           {
            "marker": {
             "colorbar": {
              "outlinewidth": 0,
              "ticks": ""
             }
            },
            "type": "scatterpolar"
           }
          ],
          "scatterpolargl": [
           {
            "marker": {
             "colorbar": {
              "outlinewidth": 0,
              "ticks": ""
             }
            },
            "type": "scatterpolargl"
           }
          ],
          "scatterternary": [
           {
            "marker": {
             "colorbar": {
              "outlinewidth": 0,
              "ticks": ""
             }
            },
            "type": "scatterternary"
           }
          ],
          "surface": [
           {
            "colorbar": {
             "outlinewidth": 0,
             "ticks": ""
            },
            "colorscale": [
             [
              0,
              "#0d0887"
             ],
             [
              0.1111111111111111,
              "#46039f"
             ],
             [
              0.2222222222222222,
              "#7201a8"
             ],
             [
              0.3333333333333333,
              "#9c179e"
             ],
             [
              0.4444444444444444,
              "#bd3786"
             ],
             [
              0.5555555555555556,
              "#d8576b"
             ],
             [
              0.6666666666666666,
              "#ed7953"
             ],
             [
              0.7777777777777778,
              "#fb9f3a"
             ],
             [
              0.8888888888888888,
              "#fdca26"
             ],
             [
              1,
              "#f0f921"
             ]
            ],
            "type": "surface"
           }
          ],
          "table": [
           {
            "cells": {
             "fill": {
              "color": "#EBF0F8"
             },
             "line": {
              "color": "white"
             }
            },
            "header": {
             "fill": {
              "color": "#C8D4E3"
             },
             "line": {
              "color": "white"
             }
            },
            "type": "table"
           }
          ]
         },
         "layout": {
          "annotationdefaults": {
           "arrowcolor": "#2a3f5f",
           "arrowhead": 0,
           "arrowwidth": 1
          },
          "autotypenumbers": "strict",
          "coloraxis": {
           "colorbar": {
            "outlinewidth": 0,
            "ticks": ""
           }
          },
          "colorscale": {
           "diverging": [
            [
             0,
             "#8e0152"
            ],
            [
             0.1,
             "#c51b7d"
            ],
            [
             0.2,
             "#de77ae"
            ],
            [
             0.3,
             "#f1b6da"
            ],
            [
             0.4,
             "#fde0ef"
            ],
            [
             0.5,
             "#f7f7f7"
            ],
            [
             0.6,
             "#e6f5d0"
            ],
            [
             0.7,
             "#b8e186"
            ],
            [
             0.8,
             "#7fbc41"
            ],
            [
             0.9,
             "#4d9221"
            ],
            [
             1,
             "#276419"
            ]
           ],
           "sequential": [
            [
             0,
             "#0d0887"
            ],
            [
             0.1111111111111111,
             "#46039f"
            ],
            [
             0.2222222222222222,
             "#7201a8"
            ],
            [
             0.3333333333333333,
             "#9c179e"
            ],
            [
             0.4444444444444444,
             "#bd3786"
            ],
            [
             0.5555555555555556,
             "#d8576b"
            ],
            [
             0.6666666666666666,
             "#ed7953"
            ],
            [
             0.7777777777777778,
             "#fb9f3a"
            ],
            [
             0.8888888888888888,
             "#fdca26"
            ],
            [
             1,
             "#f0f921"
            ]
           ],
           "sequentialminus": [
            [
             0,
             "#0d0887"
            ],
            [
             0.1111111111111111,
             "#46039f"
            ],
            [
             0.2222222222222222,
             "#7201a8"
            ],
            [
             0.3333333333333333,
             "#9c179e"
            ],
            [
             0.4444444444444444,
             "#bd3786"
            ],
            [
             0.5555555555555556,
             "#d8576b"
            ],
            [
             0.6666666666666666,
             "#ed7953"
            ],
            [
             0.7777777777777778,
             "#fb9f3a"
            ],
            [
             0.8888888888888888,
             "#fdca26"
            ],
            [
             1,
             "#f0f921"
            ]
           ]
          },
          "colorway": [
           "#636efa",
           "#EF553B",
           "#00cc96",
           "#ab63fa",
           "#FFA15A",
           "#19d3f3",
           "#FF6692",
           "#B6E880",
           "#FF97FF",
           "#FECB52"
          ],
          "font": {
           "color": "#2a3f5f"
          },
          "geo": {
           "bgcolor": "white",
           "lakecolor": "white",
           "landcolor": "#E5ECF6",
           "showlakes": true,
           "showland": true,
           "subunitcolor": "white"
          },
          "hoverlabel": {
           "align": "left"
          },
          "hovermode": "closest",
          "mapbox": {
           "style": "light"
          },
          "paper_bgcolor": "white",
          "plot_bgcolor": "#E5ECF6",
          "polar": {
           "angularaxis": {
            "gridcolor": "white",
            "linecolor": "white",
            "ticks": ""
           },
           "bgcolor": "#E5ECF6",
           "radialaxis": {
            "gridcolor": "white",
            "linecolor": "white",
            "ticks": ""
           }
          },
          "scene": {
           "xaxis": {
            "backgroundcolor": "#E5ECF6",
            "gridcolor": "white",
            "gridwidth": 2,
            "linecolor": "white",
            "showbackground": true,
            "ticks": "",
            "zerolinecolor": "white"
           },
           "yaxis": {
            "backgroundcolor": "#E5ECF6",
            "gridcolor": "white",
            "gridwidth": 2,
            "linecolor": "white",
            "showbackground": true,
            "ticks": "",
            "zerolinecolor": "white"
           },
           "zaxis": {
            "backgroundcolor": "#E5ECF6",
            "gridcolor": "white",
            "gridwidth": 2,
            "linecolor": "white",
            "showbackground": true,
            "ticks": "",
            "zerolinecolor": "white"
           }
          },
          "shapedefaults": {
           "line": {
            "color": "#2a3f5f"
           }
          },
          "ternary": {
           "aaxis": {
            "gridcolor": "white",
            "linecolor": "white",
            "ticks": ""
           },
           "baxis": {
            "gridcolor": "white",
            "linecolor": "white",
            "ticks": ""
           },
           "bgcolor": "#E5ECF6",
           "caxis": {
            "gridcolor": "white",
            "linecolor": "white",
            "ticks": ""
           }
          },
          "title": {
           "x": 0.05
          },
          "xaxis": {
           "automargin": true,
           "gridcolor": "white",
           "linecolor": "white",
           "ticks": "",
           "title": {
            "standoff": 15
           },
           "zerolinecolor": "white",
           "zerolinewidth": 2
          },
          "yaxis": {
           "automargin": true,
           "gridcolor": "white",
           "linecolor": "white",
           "ticks": "",
           "title": {
            "standoff": 15
           },
           "zerolinecolor": "white",
           "zerolinewidth": 2
          }
         }
        },
        "title": {
         "text": "Patient's risk of thrombosis based on TEG values and comorbidities"
        },
        "xaxis": {
         "anchor": "y",
         "domain": [
          0,
          1
         ],
         "title": {
          "text": "Date of TEG Collection"
         }
        },
        "yaxis": {
         "anchor": "x",
         "domain": [
          0,
          1
         ],
         "title": {
          "text": "Risk(%)"
         }
        }
       }
      }
     },
     "metadata": {},
     "output_type": "display_data"
    }
   ],
   "source": [
    "fig = plot_pred(TEG1_pred , baseline_pred)\n",
    "display(fig)"
   ]
  },
  {
   "cell_type": "code",
   "execution_count": 525,
   "metadata": {},
   "outputs": [
    {
     "name": "stderr",
     "output_type": "stream",
     "text": [
      "/opt/anaconda3/envs/Capstone2023/lib/python3.10/site-packages/_plotly_utils/basevalidators.py:105: FutureWarning:\n",
      "\n",
      "The behavior of DatetimeProperties.to_pydatetime is deprecated, in a future version this will return a Series containing python datetime objects instead of an ndarray. To retain the old behavior, call `np.array` on the result\n",
      "\n"
     ]
    },
    {
     "data": {
      "application/vnd.plotly.v1+json": {
       "config": {
        "plotlyServerURL": "https://plot.ly"
       },
       "data": [
        {
         "hovertemplate": "Record ID=39<br>Date of TEG Collection=%{x}<br>Risk(%)=%{y}<extra></extra>",
         "legendgroup": "39",
         "line": {
          "color": "#636efa",
          "dash": "solid"
         },
         "marker": {
          "symbol": "circle"
         },
         "mode": "markers+lines",
         "name": "39",
         "orientation": "v",
         "showlegend": true,
         "type": "scatter",
         "x": [
          "2023-12-01",
          "2023-12-02"
         ],
         "xaxis": "x",
         "y": [
          46.5185661315918,
          57.00629806518555
         ],
         "yaxis": "y"
        },
        {
         "hovertemplate": "Record ID=40<br>Date of TEG Collection=%{x}<br>Risk(%)=%{y}<extra></extra>",
         "legendgroup": "40",
         "line": {
          "color": "#EF553B",
          "dash": "solid"
         },
         "marker": {
          "symbol": "diamond"
         },
         "mode": "markers+lines",
         "name": "40",
         "orientation": "v",
         "showlegend": true,
         "type": "scatter",
         "x": [
          "2023-12-03"
         ],
         "xaxis": "x",
         "y": [
          42.22760772705078
         ],
         "yaxis": "y"
        },
        {
         "hovertemplate": "Record ID=39<br>x=%{x}<br>Prediction=%{y}<extra></extra>",
         "legendgroup": "",
         "line": {
          "color": "#636efa",
          "dash": "dash"
         },
         "marker": {
          "symbol": "circle"
         },
         "mode": "lines",
         "name": "Baseline",
         "orientation": "v",
         "showlegend": false,
         "type": "scatter",
         "x": [
          "2023-12-01T00:00:00",
          "2023-12-03T00:00:00"
         ],
         "xaxis": "x",
         "y": [
          55.7535514831543,
          55.7535514831543
         ],
         "yaxis": "y"
        },
        {
         "legendgroup": "legend2",
         "marker": {
          "color": "rgba(0,0,0,0)"
         },
         "mode": "markers",
         "name": "TEG Values",
         "showlegend": false,
         "type": "scatter",
         "x": [
          null
         ],
         "y": [
          null
         ]
        },
        {
         "legendgroup": "legend2",
         "marker": {
          "color": "rgba(0,0,0,0)"
         },
         "mode": "lines+markers",
         "name": "TEG Values",
         "showlegend": false,
         "type": "scatter",
         "x": [
          null
         ],
         "y": [
          null
         ]
        },
        {
         "legendgroup": "legend2",
         "marker": {
          "color": "rgba(0,0,0,0)"
         },
         "mode": "markers",
         "name": "TEG Values",
         "type": "scatter",
         "x": [
          null
         ],
         "y": [
          null
         ]
        },
        {
         "legendgroup": "legend2",
         "marker": {
          "color": "rgba(0,0,0,0)"
         },
         "mode": "lines+markers",
         "name": "TEG Values",
         "type": "scatter",
         "x": [
          null
         ],
         "y": [
          null
         ]
        }
       ],
       "layout": {
        "legend": {
         "title": {
          "text": "Record Id"
         },
         "tracegroupgap": 0,
         "xref": "container",
         "y": 0.85,
         "yref": "container"
        },
        "legend2": {
         "title": {
          "text": "Model used"
         },
         "xref": "container",
         "y": 0.65,
         "yref": "container"
        },
        "template": {
         "data": {
          "bar": [
           {
            "error_x": {
             "color": "#2a3f5f"
            },
            "error_y": {
             "color": "#2a3f5f"
            },
            "marker": {
             "line": {
              "color": "#E5ECF6",
              "width": 0.5
             },
             "pattern": {
              "fillmode": "overlay",
              "size": 10,
              "solidity": 0.2
             }
            },
            "type": "bar"
           }
          ],
          "barpolar": [
           {
            "marker": {
             "line": {
              "color": "#E5ECF6",
              "width": 0.5
             },
             "pattern": {
              "fillmode": "overlay",
              "size": 10,
              "solidity": 0.2
             }
            },
            "type": "barpolar"
           }
          ],
          "carpet": [
           {
            "aaxis": {
             "endlinecolor": "#2a3f5f",
             "gridcolor": "white",
             "linecolor": "white",
             "minorgridcolor": "white",
             "startlinecolor": "#2a3f5f"
            },
            "baxis": {
             "endlinecolor": "#2a3f5f",
             "gridcolor": "white",
             "linecolor": "white",
             "minorgridcolor": "white",
             "startlinecolor": "#2a3f5f"
            },
            "type": "carpet"
           }
          ],
          "choropleth": [
           {
            "colorbar": {
             "outlinewidth": 0,
             "ticks": ""
            },
            "type": "choropleth"
           }
          ],
          "contour": [
           {
            "colorbar": {
             "outlinewidth": 0,
             "ticks": ""
            },
            "colorscale": [
             [
              0,
              "#0d0887"
             ],
             [
              0.1111111111111111,
              "#46039f"
             ],
             [
              0.2222222222222222,
              "#7201a8"
             ],
             [
              0.3333333333333333,
              "#9c179e"
             ],
             [
              0.4444444444444444,
              "#bd3786"
             ],
             [
              0.5555555555555556,
              "#d8576b"
             ],
             [
              0.6666666666666666,
              "#ed7953"
             ],
             [
              0.7777777777777778,
              "#fb9f3a"
             ],
             [
              0.8888888888888888,
              "#fdca26"
             ],
             [
              1,
              "#f0f921"
             ]
            ],
            "type": "contour"
           }
          ],
          "contourcarpet": [
           {
            "colorbar": {
             "outlinewidth": 0,
             "ticks": ""
            },
            "type": "contourcarpet"
           }
          ],
          "heatmap": [
           {
            "colorbar": {
             "outlinewidth": 0,
             "ticks": ""
            },
            "colorscale": [
             [
              0,
              "#0d0887"
             ],
             [
              0.1111111111111111,
              "#46039f"
             ],
             [
              0.2222222222222222,
              "#7201a8"
             ],
             [
              0.3333333333333333,
              "#9c179e"
             ],
             [
              0.4444444444444444,
              "#bd3786"
             ],
             [
              0.5555555555555556,
              "#d8576b"
             ],
             [
              0.6666666666666666,
              "#ed7953"
             ],
             [
              0.7777777777777778,
              "#fb9f3a"
             ],
             [
              0.8888888888888888,
              "#fdca26"
             ],
             [
              1,
              "#f0f921"
             ]
            ],
            "type": "heatmap"
           }
          ],
          "heatmapgl": [
           {
            "colorbar": {
             "outlinewidth": 0,
             "ticks": ""
            },
            "colorscale": [
             [
              0,
              "#0d0887"
             ],
             [
              0.1111111111111111,
              "#46039f"
             ],
             [
              0.2222222222222222,
              "#7201a8"
             ],
             [
              0.3333333333333333,
              "#9c179e"
             ],
             [
              0.4444444444444444,
              "#bd3786"
             ],
             [
              0.5555555555555556,
              "#d8576b"
             ],
             [
              0.6666666666666666,
              "#ed7953"
             ],
             [
              0.7777777777777778,
              "#fb9f3a"
             ],
             [
              0.8888888888888888,
              "#fdca26"
             ],
             [
              1,
              "#f0f921"
             ]
            ],
            "type": "heatmapgl"
           }
          ],
          "histogram": [
           {
            "marker": {
             "pattern": {
              "fillmode": "overlay",
              "size": 10,
              "solidity": 0.2
             }
            },
            "type": "histogram"
           }
          ],
          "histogram2d": [
           {
            "colorbar": {
             "outlinewidth": 0,
             "ticks": ""
            },
            "colorscale": [
             [
              0,
              "#0d0887"
             ],
             [
              0.1111111111111111,
              "#46039f"
             ],
             [
              0.2222222222222222,
              "#7201a8"
             ],
             [
              0.3333333333333333,
              "#9c179e"
             ],
             [
              0.4444444444444444,
              "#bd3786"
             ],
             [
              0.5555555555555556,
              "#d8576b"
             ],
             [
              0.6666666666666666,
              "#ed7953"
             ],
             [
              0.7777777777777778,
              "#fb9f3a"
             ],
             [
              0.8888888888888888,
              "#fdca26"
             ],
             [
              1,
              "#f0f921"
             ]
            ],
            "type": "histogram2d"
           }
          ],
          "histogram2dcontour": [
           {
            "colorbar": {
             "outlinewidth": 0,
             "ticks": ""
            },
            "colorscale": [
             [
              0,
              "#0d0887"
             ],
             [
              0.1111111111111111,
              "#46039f"
             ],
             [
              0.2222222222222222,
              "#7201a8"
             ],
             [
              0.3333333333333333,
              "#9c179e"
             ],
             [
              0.4444444444444444,
              "#bd3786"
             ],
             [
              0.5555555555555556,
              "#d8576b"
             ],
             [
              0.6666666666666666,
              "#ed7953"
             ],
             [
              0.7777777777777778,
              "#fb9f3a"
             ],
             [
              0.8888888888888888,
              "#fdca26"
             ],
             [
              1,
              "#f0f921"
             ]
            ],
            "type": "histogram2dcontour"
           }
          ],
          "mesh3d": [
           {
            "colorbar": {
             "outlinewidth": 0,
             "ticks": ""
            },
            "type": "mesh3d"
           }
          ],
          "parcoords": [
           {
            "line": {
             "colorbar": {
              "outlinewidth": 0,
              "ticks": ""
             }
            },
            "type": "parcoords"
           }
          ],
          "pie": [
           {
            "automargin": true,
            "type": "pie"
           }
          ],
          "scatter": [
           {
            "fillpattern": {
             "fillmode": "overlay",
             "size": 10,
             "solidity": 0.2
            },
            "type": "scatter"
           }
          ],
          "scatter3d": [
           {
            "line": {
             "colorbar": {
              "outlinewidth": 0,
              "ticks": ""
             }
            },
            "marker": {
             "colorbar": {
              "outlinewidth": 0,
              "ticks": ""
             }
            },
            "type": "scatter3d"
           }
          ],
          "scattercarpet": [
           {
            "marker": {
             "colorbar": {
              "outlinewidth": 0,
              "ticks": ""
             }
            },
            "type": "scattercarpet"
           }
          ],
          "scattergeo": [
           {
            "marker": {
             "colorbar": {
              "outlinewidth": 0,
              "ticks": ""
             }
            },
            "type": "scattergeo"
           }
          ],
          "scattergl": [
           {
            "marker": {
             "colorbar": {
              "outlinewidth": 0,
              "ticks": ""
             }
            },
            "type": "scattergl"
           }
          ],
          "scattermapbox": [
           {
            "marker": {
             "colorbar": {
              "outlinewidth": 0,
              "ticks": ""
             }
            },
            "type": "scattermapbox"
           }
          ],
          "scatterpolar": [
           {
            "marker": {
             "colorbar": {
              "outlinewidth": 0,
              "ticks": ""
             }
            },
            "type": "scatterpolar"
           }
          ],
          "scatterpolargl": [
           {
            "marker": {
             "colorbar": {
              "outlinewidth": 0,
              "ticks": ""
             }
            },
            "type": "scatterpolargl"
           }
          ],
          "scatterternary": [
           {
            "marker": {
             "colorbar": {
              "outlinewidth": 0,
              "ticks": ""
             }
            },
            "type": "scatterternary"
           }
          ],
          "surface": [
           {
            "colorbar": {
             "outlinewidth": 0,
             "ticks": ""
            },
            "colorscale": [
             [
              0,
              "#0d0887"
             ],
             [
              0.1111111111111111,
              "#46039f"
             ],
             [
              0.2222222222222222,
              "#7201a8"
             ],
             [
              0.3333333333333333,
              "#9c179e"
             ],
             [
              0.4444444444444444,
              "#bd3786"
             ],
             [
              0.5555555555555556,
              "#d8576b"
             ],
             [
              0.6666666666666666,
              "#ed7953"
             ],
             [
              0.7777777777777778,
              "#fb9f3a"
             ],
             [
              0.8888888888888888,
              "#fdca26"
             ],
             [
              1,
              "#f0f921"
             ]
            ],
            "type": "surface"
           }
          ],
          "table": [
           {
            "cells": {
             "fill": {
              "color": "#EBF0F8"
             },
             "line": {
              "color": "white"
             }
            },
            "header": {
             "fill": {
              "color": "#C8D4E3"
             },
             "line": {
              "color": "white"
             }
            },
            "type": "table"
           }
          ]
         },
         "layout": {
          "annotationdefaults": {
           "arrowcolor": "#2a3f5f",
           "arrowhead": 0,
           "arrowwidth": 1
          },
          "autotypenumbers": "strict",
          "coloraxis": {
           "colorbar": {
            "outlinewidth": 0,
            "ticks": ""
           }
          },
          "colorscale": {
           "diverging": [
            [
             0,
             "#8e0152"
            ],
            [
             0.1,
             "#c51b7d"
            ],
            [
             0.2,
             "#de77ae"
            ],
            [
             0.3,
             "#f1b6da"
            ],
            [
             0.4,
             "#fde0ef"
            ],
            [
             0.5,
             "#f7f7f7"
            ],
            [
             0.6,
             "#e6f5d0"
            ],
            [
             0.7,
             "#b8e186"
            ],
            [
             0.8,
             "#7fbc41"
            ],
            [
             0.9,
             "#4d9221"
            ],
            [
             1,
             "#276419"
            ]
           ],
           "sequential": [
            [
             0,
             "#0d0887"
            ],
            [
             0.1111111111111111,
             "#46039f"
            ],
            [
             0.2222222222222222,
             "#7201a8"
            ],
            [
             0.3333333333333333,
             "#9c179e"
            ],
            [
             0.4444444444444444,
             "#bd3786"
            ],
            [
             0.5555555555555556,
             "#d8576b"
            ],
            [
             0.6666666666666666,
             "#ed7953"
            ],
            [
             0.7777777777777778,
             "#fb9f3a"
            ],
            [
             0.8888888888888888,
             "#fdca26"
            ],
            [
             1,
             "#f0f921"
            ]
           ],
           "sequentialminus": [
            [
             0,
             "#0d0887"
            ],
            [
             0.1111111111111111,
             "#46039f"
            ],
            [
             0.2222222222222222,
             "#7201a8"
            ],
            [
             0.3333333333333333,
             "#9c179e"
            ],
            [
             0.4444444444444444,
             "#bd3786"
            ],
            [
             0.5555555555555556,
             "#d8576b"
            ],
            [
             0.6666666666666666,
             "#ed7953"
            ],
            [
             0.7777777777777778,
             "#fb9f3a"
            ],
            [
             0.8888888888888888,
             "#fdca26"
            ],
            [
             1,
             "#f0f921"
            ]
           ]
          },
          "colorway": [
           "#636efa",
           "#EF553B",
           "#00cc96",
           "#ab63fa",
           "#FFA15A",
           "#19d3f3",
           "#FF6692",
           "#B6E880",
           "#FF97FF",
           "#FECB52"
          ],
          "font": {
           "color": "#2a3f5f"
          },
          "geo": {
           "bgcolor": "white",
           "lakecolor": "white",
           "landcolor": "#E5ECF6",
           "showlakes": true,
           "showland": true,
           "subunitcolor": "white"
          },
          "hoverlabel": {
           "align": "left"
          },
          "hovermode": "closest",
          "mapbox": {
           "style": "light"
          },
          "paper_bgcolor": "white",
          "plot_bgcolor": "#E5ECF6",
          "polar": {
           "angularaxis": {
            "gridcolor": "white",
            "linecolor": "white",
            "ticks": ""
           },
           "bgcolor": "#E5ECF6",
           "radialaxis": {
            "gridcolor": "white",
            "linecolor": "white",
            "ticks": ""
           }
          },
          "scene": {
           "xaxis": {
            "backgroundcolor": "#E5ECF6",
            "gridcolor": "white",
            "gridwidth": 2,
            "linecolor": "white",
            "showbackground": true,
            "ticks": "",
            "zerolinecolor": "white"
           },
           "yaxis": {
            "backgroundcolor": "#E5ECF6",
            "gridcolor": "white",
            "gridwidth": 2,
            "linecolor": "white",
            "showbackground": true,
            "ticks": "",
            "zerolinecolor": "white"
           },
           "zaxis": {
            "backgroundcolor": "#E5ECF6",
            "gridcolor": "white",
            "gridwidth": 2,
            "linecolor": "white",
            "showbackground": true,
            "ticks": "",
            "zerolinecolor": "white"
           }
          },
          "shapedefaults": {
           "line": {
            "color": "#2a3f5f"
           }
          },
          "ternary": {
           "aaxis": {
            "gridcolor": "white",
            "linecolor": "white",
            "ticks": ""
           },
           "baxis": {
            "gridcolor": "white",
            "linecolor": "white",
            "ticks": ""
           },
           "bgcolor": "#E5ECF6",
           "caxis": {
            "gridcolor": "white",
            "linecolor": "white",
            "ticks": ""
           }
          },
          "title": {
           "x": 0.05
          },
          "xaxis": {
           "automargin": true,
           "gridcolor": "white",
           "linecolor": "white",
           "ticks": "",
           "title": {
            "standoff": 15
           },
           "zerolinecolor": "white",
           "zerolinewidth": 2
          },
          "yaxis": {
           "automargin": true,
           "gridcolor": "white",
           "linecolor": "white",
           "ticks": "",
           "title": {
            "standoff": 15
           },
           "zerolinecolor": "white",
           "zerolinewidth": 2
          }
         }
        },
        "title": {
         "text": "Patient's risk of thrombosis based on TEG values and comorbidities"
        },
        "xaxis": {
         "anchor": "y",
         "domain": [
          0,
          1
         ],
         "title": {
          "text": "Date of TEG Collection"
         }
        },
        "yaxis": {
         "anchor": "x",
         "domain": [
          0,
          1
         ],
         "title": {
          "text": "Risk(%)"
         }
        }
       }
      }
     },
     "metadata": {},
     "output_type": "display_data"
    }
   ],
   "source": [
    "# Assuming TEG1_pred and baseline_pred are defined and contain the required data\n",
    "\n",
    "# Convert Date of TEG Collection to string for plotting\n",
    "plot_TEG_df = TEG1_pred.copy()\n",
    "plot_TEG_df['Date of TEG Collection'] = plot_TEG_df['Date of TEG Collection'].dt.strftime('%Y-%m-%d')\n",
    "\n",
    "# Plotly Express Scatter Plot for TEG1_pred\n",
    "fig = px.line(plot_TEG_df, x='Date of TEG Collection', y='Prediction',\n",
    "              color='Record ID', symbol='Record ID',\n",
    "              title=\"Patient's risk of thrombosis based on TEG values and comorbidities\",\n",
    "              labels={'Prediction': 'Risk(%)'})\n",
    "\n",
    "# Get baseline values\n",
    "# Find the smallest and largest values\n",
    "smallest_value = TEG1_pred['Date of TEG Collection'].min()\n",
    "largest_value = TEG1_pred['Date of TEG Collection'].max()\n",
    "\n",
    "# Plotly Express Line Plot for baseline_pred\n",
    "double_baseline_pred = pd.concat([baseline_pred, baseline_pred])\n",
    "baseline_pred_line = px.line(double_baseline_pred, x=[smallest_value, largest_value] * len(baseline_pred), y='Prediction', line_group='Record ID')\n",
    "baseline_pred_line.update_traces(mode='lines', line_dash='dash', name='Baseline')\n",
    "fig.add_trace(baseline_pred_line.data[0])\n",
    "\n",
    "# Add extra traces for TEG values with legend attribute set to \"legend2\"\n",
    "fig.add_trace(go.Scatter(x=[None], y=[None], mode='markers', marker=dict(color='rgba(0,0,0,0)'),\n",
    "                         legendgroup=\"legend2\", name='TEG Values', showlegend=False))\n",
    "fig.add_trace(go.Scatter(x=[None], y=[None], mode='lines+markers', marker=dict(color='rgba(0,0,0,0)'),\n",
    "                         legendgroup=\"legend2\", name='TEG Values', showlegend=False))\n",
    "\n",
    "# Update layout with custom legend format\n",
    "fig.update_layout(\n",
    "    legend=dict(\n",
    "        title=\"Record Id\",\n",
    "        xref=\"container\",\n",
    "        yref=\"container\",\n",
    "        y=0.85,\n",
    "        #bgcolor=\"Gold\",\n",
    "    ),\n",
    ")\n",
    "\n",
    "# Add a second legend for TEG values\n",
    "fig.add_trace(go.Scatter(x=[None], y=[None], mode='markers', marker=dict(color='rgba(0,0,0,0)'),\n",
    "                         legendgroup=\"legend2\", name='TEG Values'))\n",
    "fig.add_trace(go.Scatter(x=[None], y=[None], mode='lines+markers', marker=dict(color='rgba(0,0,0,0)'),\n",
    "                         legendgroup=\"legend2\", name='TEG Values'))\n",
    "\n",
    "# Update layout with custom legend format for the second legend\n",
    "fig.update_layout(\n",
    "    legend2=dict(\n",
    "        title=\"Model used\",\n",
    "        xref=\"container\",\n",
    "        yref=\"container\",\n",
    "        y=0.65,\n",
    "        #bgcolor=\"Orange\",\n",
    "    )\n",
    ")\n",
    "\n",
    "fig.show()\n"
   ]
  },
  {
   "cell_type": "code",
   "execution_count": 526,
   "metadata": {},
   "outputs": [],
   "source": [
    "def iterate_importance(df, best_pipeline, ids):\n",
    "\n",
    "    # Create a list of strings with the format \"patient {record id}\" or \"patient {record id}: {date}\"\n",
    "    string_list = []\n",
    "\n",
    "    # Check if the 'Date of TEG Collection' column exists in the DataFrame\n",
    "    if 'Date of TEG Collection' in df.columns:\n",
    "        # Convert 'Date of TEG Collection' to string format\n",
    "        df['Date of TEG Collection'] = pd.to_datetime(df['Date of TEG Collection']).dt.strftime('%Y-%m-%d')\n",
    "\n",
    "        for index, row in df.iterrows():\n",
    "            record_id = row['Record ID']\n",
    "            date = row['Date of TEG Collection']\n",
    "            patient_string = f\"Patient {record_id}: {date}\"\n",
    "            string_list.append(patient_string)\n",
    "\n",
    "    else:\n",
    "        \n",
    "        for index, row in df.iterrows():\n",
    "            record_id = row['Record ID']\n",
    "            patient_string = f\"Patient {record_id}\"\n",
    "            string_list.append(patient_string)\n",
    "\n",
    "    \n",
    "    df = df.copy()\n",
    "    \n",
    "    columns_to_drop = ['Record ID','Events', 'Visit Timepoint', 'Date of TEG Collection']\n",
    "\n",
    "    for column in columns_to_drop:\n",
    "        if column in df.columns:\n",
    "            df.drop(column, axis=1,inplace = True)\n",
    "\n",
    "    total_df = pd.DataFrame()\n",
    "\n",
    "    # Iterate through all rows in the DataFrame\n",
    "    for index, row in df.iterrows():\n",
    "        # Convert the row to a DataFrame with a single row\n",
    "        single_row_df = pd.DataFrame([row])\n",
    "\n",
    "        # Calculate shap_values for the current row\n",
    "        importance_df = feature_importance(best_pipeline, single_row_df)\n",
    "\n",
    "        # Set 'Feature' column as the index\n",
    "        importance_df.set_index('Feature', inplace=True)\n",
    "\n",
    "        # Add a new column to total_df with the corresponding index value from ids\n",
    "        total_df[string_list[index]] = importance_df['Importance']\n",
    "\n",
    "    # Drop rows where all values are zeros\n",
    "    total_df = total_df.loc[(total_df != 0).any(axis=1)]\n",
    "\n",
    "    # Sort columns based on the highest average value\n",
    "    total_df = total_df.reindex(total_df.mean(axis=1).sort_values(ascending=False).index)\n",
    "\n",
    "    # Rename the index from 'Feature' to 'Factors'\n",
    "    total_df.rename_axis(index='Factors', inplace=True)\n",
    "\n",
    "    return total_df\n"
   ]
  },
  {
   "cell_type": "code",
   "execution_count": 527,
   "metadata": {},
   "outputs": [
    {
     "name": "stderr",
     "output_type": "stream",
     "text": [
      "/opt/anaconda3/envs/Capstone2023/lib/python3.10/site-packages/xgboost/core.py:160: UserWarning:\n",
      "\n",
      "[17:22:28] WARNING: /Users/runner/work/xgboost/xgboost/src/c_api/c_api.cc:1240: Saving into deprecated binary model format, please consider using `json` or `ubj`. Model format will default to JSON in XGBoost 2.2 if not specified.\n",
      "\n",
      "/opt/anaconda3/envs/Capstone2023/lib/python3.10/site-packages/xgboost/data.py:335: FutureWarning:\n",
      "\n",
      "is_sparse is deprecated and will be removed in a future version. Check `isinstance(dtype, pd.SparseDtype)` instead.\n",
      "\n",
      "/opt/anaconda3/envs/Capstone2023/lib/python3.10/site-packages/xgboost/data.py:338: FutureWarning:\n",
      "\n",
      "is_categorical_dtype is deprecated and will be removed in a future version. Use isinstance(dtype, CategoricalDtype) instead\n",
      "\n",
      "/opt/anaconda3/envs/Capstone2023/lib/python3.10/site-packages/xgboost/data.py:384: FutureWarning:\n",
      "\n",
      "is_categorical_dtype is deprecated and will be removed in a future version. Use isinstance(dtype, CategoricalDtype) instead\n",
      "\n",
      "/opt/anaconda3/envs/Capstone2023/lib/python3.10/site-packages/xgboost/data.py:359: FutureWarning:\n",
      "\n",
      "is_categorical_dtype is deprecated and will be removed in a future version. Use isinstance(dtype, CategoricalDtype) instead\n",
      "\n"
     ]
    },
    {
     "data": {
      "application/vnd.plotly.v1+json": {
       "config": {
        "plotlyServerURL": "https://plot.ly"
       },
       "data": [
        {
         "alignmentgroup": "True",
         "hovertemplate": "variable=Patient 39<br>Percentage=%{x}<br>Factors=%{y}<extra></extra>",
         "legendgroup": "Patient 39",
         "marker": {
          "color": "#636efa",
          "pattern": {
           "shape": ""
          }
         },
         "name": "Patient 39",
         "offsetgroup": "Patient 39",
         "orientation": "h",
         "showlegend": true,
         "textposition": "auto",
         "type": "bar",
         "x": [
          8.142359733581543,
          5.813186168670654,
          4.457015514373779,
          4.411660671234131,
          3.825169801712036,
          2.642242193222046,
          0.9286075830459595,
          0.7693125605583191,
          0.6251060962677002,
          0.559946596622467
         ],
         "xaxis": "x",
         "y": [
          "Artery affected_internal iliac",
          "ABI Right",
          "ABI left",
          "Age",
          "Rutherford Score",
          "History of MI",
          "EGFR (mL/min/1.73m2)",
          "BMI",
          "Hx of  DVT",
          "White"
         ],
         "yaxis": "y"
        }
       ],
       "layout": {
        "barmode": "relative",
        "legend": {
         "title": {
          "text": "variable"
         },
         "tracegroupgap": 0
        },
        "showlegend": true,
        "template": {
         "data": {
          "bar": [
           {
            "error_x": {
             "color": "#2a3f5f"
            },
            "error_y": {
             "color": "#2a3f5f"
            },
            "marker": {
             "line": {
              "color": "#E5ECF6",
              "width": 0.5
             },
             "pattern": {
              "fillmode": "overlay",
              "size": 10,
              "solidity": 0.2
             }
            },
            "type": "bar"
           }
          ],
          "barpolar": [
           {
            "marker": {
             "line": {
              "color": "#E5ECF6",
              "width": 0.5
             },
             "pattern": {
              "fillmode": "overlay",
              "size": 10,
              "solidity": 0.2
             }
            },
            "type": "barpolar"
           }
          ],
          "carpet": [
           {
            "aaxis": {
             "endlinecolor": "#2a3f5f",
             "gridcolor": "white",
             "linecolor": "white",
             "minorgridcolor": "white",
             "startlinecolor": "#2a3f5f"
            },
            "baxis": {
             "endlinecolor": "#2a3f5f",
             "gridcolor": "white",
             "linecolor": "white",
             "minorgridcolor": "white",
             "startlinecolor": "#2a3f5f"
            },
            "type": "carpet"
           }
          ],
          "choropleth": [
           {
            "colorbar": {
             "outlinewidth": 0,
             "ticks": ""
            },
            "type": "choropleth"
           }
          ],
          "contour": [
           {
            "colorbar": {
             "outlinewidth": 0,
             "ticks": ""
            },
            "colorscale": [
             [
              0,
              "#0d0887"
             ],
             [
              0.1111111111111111,
              "#46039f"
             ],
             [
              0.2222222222222222,
              "#7201a8"
             ],
             [
              0.3333333333333333,
              "#9c179e"
             ],
             [
              0.4444444444444444,
              "#bd3786"
             ],
             [
              0.5555555555555556,
              "#d8576b"
             ],
             [
              0.6666666666666666,
              "#ed7953"
             ],
             [
              0.7777777777777778,
              "#fb9f3a"
             ],
             [
              0.8888888888888888,
              "#fdca26"
             ],
             [
              1,
              "#f0f921"
             ]
            ],
            "type": "contour"
           }
          ],
          "contourcarpet": [
           {
            "colorbar": {
             "outlinewidth": 0,
             "ticks": ""
            },
            "type": "contourcarpet"
           }
          ],
          "heatmap": [
           {
            "colorbar": {
             "outlinewidth": 0,
             "ticks": ""
            },
            "colorscale": [
             [
              0,
              "#0d0887"
             ],
             [
              0.1111111111111111,
              "#46039f"
             ],
             [
              0.2222222222222222,
              "#7201a8"
             ],
             [
              0.3333333333333333,
              "#9c179e"
             ],
             [
              0.4444444444444444,
              "#bd3786"
             ],
             [
              0.5555555555555556,
              "#d8576b"
             ],
             [
              0.6666666666666666,
              "#ed7953"
             ],
             [
              0.7777777777777778,
              "#fb9f3a"
             ],
             [
              0.8888888888888888,
              "#fdca26"
             ],
             [
              1,
              "#f0f921"
             ]
            ],
            "type": "heatmap"
           }
          ],
          "heatmapgl": [
           {
            "colorbar": {
             "outlinewidth": 0,
             "ticks": ""
            },
            "colorscale": [
             [
              0,
              "#0d0887"
             ],
             [
              0.1111111111111111,
              "#46039f"
             ],
             [
              0.2222222222222222,
              "#7201a8"
             ],
             [
              0.3333333333333333,
              "#9c179e"
             ],
             [
              0.4444444444444444,
              "#bd3786"
             ],
             [
              0.5555555555555556,
              "#d8576b"
             ],
             [
              0.6666666666666666,
              "#ed7953"
             ],
             [
              0.7777777777777778,
              "#fb9f3a"
             ],
             [
              0.8888888888888888,
              "#fdca26"
             ],
             [
              1,
              "#f0f921"
             ]
            ],
            "type": "heatmapgl"
           }
          ],
          "histogram": [
           {
            "marker": {
             "pattern": {
              "fillmode": "overlay",
              "size": 10,
              "solidity": 0.2
             }
            },
            "type": "histogram"
           }
          ],
          "histogram2d": [
           {
            "colorbar": {
             "outlinewidth": 0,
             "ticks": ""
            },
            "colorscale": [
             [
              0,
              "#0d0887"
             ],
             [
              0.1111111111111111,
              "#46039f"
             ],
             [
              0.2222222222222222,
              "#7201a8"
             ],
             [
              0.3333333333333333,
              "#9c179e"
             ],
             [
              0.4444444444444444,
              "#bd3786"
             ],
             [
              0.5555555555555556,
              "#d8576b"
             ],
             [
              0.6666666666666666,
              "#ed7953"
             ],
             [
              0.7777777777777778,
              "#fb9f3a"
             ],
             [
              0.8888888888888888,
              "#fdca26"
             ],
             [
              1,
              "#f0f921"
             ]
            ],
            "type": "histogram2d"
           }
          ],
          "histogram2dcontour": [
           {
            "colorbar": {
             "outlinewidth": 0,
             "ticks": ""
            },
            "colorscale": [
             [
              0,
              "#0d0887"
             ],
             [
              0.1111111111111111,
              "#46039f"
             ],
             [
              0.2222222222222222,
              "#7201a8"
             ],
             [
              0.3333333333333333,
              "#9c179e"
             ],
             [
              0.4444444444444444,
              "#bd3786"
             ],
             [
              0.5555555555555556,
              "#d8576b"
             ],
             [
              0.6666666666666666,
              "#ed7953"
             ],
             [
              0.7777777777777778,
              "#fb9f3a"
             ],
             [
              0.8888888888888888,
              "#fdca26"
             ],
             [
              1,
              "#f0f921"
             ]
            ],
            "type": "histogram2dcontour"
           }
          ],
          "mesh3d": [
           {
            "colorbar": {
             "outlinewidth": 0,
             "ticks": ""
            },
            "type": "mesh3d"
           }
          ],
          "parcoords": [
           {
            "line": {
             "colorbar": {
              "outlinewidth": 0,
              "ticks": ""
             }
            },
            "type": "parcoords"
           }
          ],
          "pie": [
           {
            "automargin": true,
            "type": "pie"
           }
          ],
          "scatter": [
           {
            "fillpattern": {
             "fillmode": "overlay",
             "size": 10,
             "solidity": 0.2
            },
            "type": "scatter"
           }
          ],
          "scatter3d": [
           {
            "line": {
             "colorbar": {
              "outlinewidth": 0,
              "ticks": ""
             }
            },
            "marker": {
             "colorbar": {
              "outlinewidth": 0,
              "ticks": ""
             }
            },
            "type": "scatter3d"
           }
          ],
          "scattercarpet": [
           {
            "marker": {
             "colorbar": {
              "outlinewidth": 0,
              "ticks": ""
             }
            },
            "type": "scattercarpet"
           }
          ],
          "scattergeo": [
           {
            "marker": {
             "colorbar": {
              "outlinewidth": 0,
              "ticks": ""
             }
            },
            "type": "scattergeo"
           }
          ],
          "scattergl": [
           {
            "marker": {
             "colorbar": {
              "outlinewidth": 0,
              "ticks": ""
             }
            },
            "type": "scattergl"
           }
          ],
          "scattermapbox": [
           {
            "marker": {
             "colorbar": {
              "outlinewidth": 0,
              "ticks": ""
             }
            },
            "type": "scattermapbox"
           }
          ],
          "scatterpolar": [
           {
            "marker": {
             "colorbar": {
              "outlinewidth": 0,
              "ticks": ""
             }
            },
            "type": "scatterpolar"
           }
          ],
          "scatterpolargl": [
           {
            "marker": {
             "colorbar": {
              "outlinewidth": 0,
              "ticks": ""
             }
            },
            "type": "scatterpolargl"
           }
          ],
          "scatterternary": [
           {
            "marker": {
             "colorbar": {
              "outlinewidth": 0,
              "ticks": ""
             }
            },
            "type": "scatterternary"
           }
          ],
          "surface": [
           {
            "colorbar": {
             "outlinewidth": 0,
             "ticks": ""
            },
            "colorscale": [
             [
              0,
              "#0d0887"
             ],
             [
              0.1111111111111111,
              "#46039f"
             ],
             [
              0.2222222222222222,
              "#7201a8"
             ],
             [
              0.3333333333333333,
              "#9c179e"
             ],
             [
              0.4444444444444444,
              "#bd3786"
             ],
             [
              0.5555555555555556,
              "#d8576b"
             ],
             [
              0.6666666666666666,
              "#ed7953"
             ],
             [
              0.7777777777777778,
              "#fb9f3a"
             ],
             [
              0.8888888888888888,
              "#fdca26"
             ],
             [
              1,
              "#f0f921"
             ]
            ],
            "type": "surface"
           }
          ],
          "table": [
           {
            "cells": {
             "fill": {
              "color": "#EBF0F8"
             },
             "line": {
              "color": "white"
             }
            },
            "header": {
             "fill": {
              "color": "#C8D4E3"
             },
             "line": {
              "color": "white"
             }
            },
            "type": "table"
           }
          ]
         },
         "layout": {
          "annotationdefaults": {
           "arrowcolor": "#2a3f5f",
           "arrowhead": 0,
           "arrowwidth": 1
          },
          "autotypenumbers": "strict",
          "coloraxis": {
           "colorbar": {
            "outlinewidth": 0,
            "ticks": ""
           }
          },
          "colorscale": {
           "diverging": [
            [
             0,
             "#8e0152"
            ],
            [
             0.1,
             "#c51b7d"
            ],
            [
             0.2,
             "#de77ae"
            ],
            [
             0.3,
             "#f1b6da"
            ],
            [
             0.4,
             "#fde0ef"
            ],
            [
             0.5,
             "#f7f7f7"
            ],
            [
             0.6,
             "#e6f5d0"
            ],
            [
             0.7,
             "#b8e186"
            ],
            [
             0.8,
             "#7fbc41"
            ],
            [
             0.9,
             "#4d9221"
            ],
            [
             1,
             "#276419"
            ]
           ],
           "sequential": [
            [
             0,
             "#0d0887"
            ],
            [
             0.1111111111111111,
             "#46039f"
            ],
            [
             0.2222222222222222,
             "#7201a8"
            ],
            [
             0.3333333333333333,
             "#9c179e"
            ],
            [
             0.4444444444444444,
             "#bd3786"
            ],
            [
             0.5555555555555556,
             "#d8576b"
            ],
            [
             0.6666666666666666,
             "#ed7953"
            ],
            [
             0.7777777777777778,
             "#fb9f3a"
            ],
            [
             0.8888888888888888,
             "#fdca26"
            ],
            [
             1,
             "#f0f921"
            ]
           ],
           "sequentialminus": [
            [
             0,
             "#0d0887"
            ],
            [
             0.1111111111111111,
             "#46039f"
            ],
            [
             0.2222222222222222,
             "#7201a8"
            ],
            [
             0.3333333333333333,
             "#9c179e"
            ],
            [
             0.4444444444444444,
             "#bd3786"
            ],
            [
             0.5555555555555556,
             "#d8576b"
            ],
            [
             0.6666666666666666,
             "#ed7953"
            ],
            [
             0.7777777777777778,
             "#fb9f3a"
            ],
            [
             0.8888888888888888,
             "#fdca26"
            ],
            [
             1,
             "#f0f921"
            ]
           ]
          },
          "colorway": [
           "#636efa",
           "#EF553B",
           "#00cc96",
           "#ab63fa",
           "#FFA15A",
           "#19d3f3",
           "#FF6692",
           "#B6E880",
           "#FF97FF",
           "#FECB52"
          ],
          "font": {
           "color": "#2a3f5f"
          },
          "geo": {
           "bgcolor": "white",
           "lakecolor": "white",
           "landcolor": "#E5ECF6",
           "showlakes": true,
           "showland": true,
           "subunitcolor": "white"
          },
          "hoverlabel": {
           "align": "left"
          },
          "hovermode": "closest",
          "mapbox": {
           "style": "light"
          },
          "paper_bgcolor": "white",
          "plot_bgcolor": "#E5ECF6",
          "polar": {
           "angularaxis": {
            "gridcolor": "white",
            "linecolor": "white",
            "ticks": ""
           },
           "bgcolor": "#E5ECF6",
           "radialaxis": {
            "gridcolor": "white",
            "linecolor": "white",
            "ticks": ""
           }
          },
          "scene": {
           "xaxis": {
            "backgroundcolor": "#E5ECF6",
            "gridcolor": "white",
            "gridwidth": 2,
            "linecolor": "white",
            "showbackground": true,
            "ticks": "",
            "zerolinecolor": "white"
           },
           "yaxis": {
            "backgroundcolor": "#E5ECF6",
            "gridcolor": "white",
            "gridwidth": 2,
            "linecolor": "white",
            "showbackground": true,
            "ticks": "",
            "zerolinecolor": "white"
           },
           "zaxis": {
            "backgroundcolor": "#E5ECF6",
            "gridcolor": "white",
            "gridwidth": 2,
            "linecolor": "white",
            "showbackground": true,
            "ticks": "",
            "zerolinecolor": "white"
           }
          },
          "shapedefaults": {
           "line": {
            "color": "#2a3f5f"
           }
          },
          "ternary": {
           "aaxis": {
            "gridcolor": "white",
            "linecolor": "white",
            "ticks": ""
           },
           "baxis": {
            "gridcolor": "white",
            "linecolor": "white",
            "ticks": ""
           },
           "bgcolor": "#E5ECF6",
           "caxis": {
            "gridcolor": "white",
            "linecolor": "white",
            "ticks": ""
           }
          },
          "title": {
           "x": 0.05
          },
          "xaxis": {
           "automargin": true,
           "gridcolor": "white",
           "linecolor": "white",
           "ticks": "",
           "title": {
            "standoff": 15
           },
           "zerolinecolor": "white",
           "zerolinewidth": 2
          },
          "yaxis": {
           "automargin": true,
           "gridcolor": "white",
           "linecolor": "white",
           "ticks": "",
           "title": {
            "standoff": 15
           },
           "zerolinecolor": "white",
           "zerolinewidth": 2
          }
         }
        },
        "title": {
         "text": "Top 10 Factors based on baseline data"
        },
        "xaxis": {
         "anchor": "y",
         "domain": [
          0,
          1
         ],
         "title": {
          "text": "Percentage"
         }
        },
        "yaxis": {
         "anchor": "x",
         "categoryorder": "total ascending",
         "domain": [
          0,
          1
         ],
         "title": {
          "text": "Factors"
         }
        }
       }
      }
     },
     "metadata": {},
     "output_type": "display_data"
    }
   ],
   "source": [
    "baseline_shap_values_list = iterate_importance(patient_baseline_df, best_model_baseline, baseline_id)\n",
    "fig = plot_importance(baseline_shap_values_list ,\"Top 10 Factors based on baseline data\")\n",
    "display(fig)\n",
    "\n"
   ]
  },
  {
   "cell_type": "code",
   "execution_count": 528,
   "metadata": {},
   "outputs": [
    {
     "name": "stderr",
     "output_type": "stream",
     "text": [
      "/var/folders/fx/l7m2ftt15p3fzw6vl0894hmh0000gn/T/ipykernel_70541/2610385127.py:9: SettingWithCopyWarning:\n",
      "\n",
      "\n",
      "A value is trying to be set on a copy of a slice from a DataFrame.\n",
      "Try using .loc[row_indexer,col_indexer] = value instead\n",
      "\n",
      "See the caveats in the documentation: https://pandas.pydata.org/pandas-docs/stable/user_guide/indexing.html#returning-a-view-versus-a-copy\n",
      "\n",
      "/opt/anaconda3/envs/Capstone2023/lib/python3.10/site-packages/xgboost/core.py:160: UserWarning:\n",
      "\n",
      "[17:22:28] WARNING: /Users/runner/work/xgboost/xgboost/src/c_api/c_api.cc:1240: Saving into deprecated binary model format, please consider using `json` or `ubj`. Model format will default to JSON in XGBoost 2.2 if not specified.\n",
      "\n",
      "/opt/anaconda3/envs/Capstone2023/lib/python3.10/site-packages/xgboost/data.py:335: FutureWarning:\n",
      "\n",
      "is_sparse is deprecated and will be removed in a future version. Check `isinstance(dtype, pd.SparseDtype)` instead.\n",
      "\n",
      "/opt/anaconda3/envs/Capstone2023/lib/python3.10/site-packages/xgboost/data.py:338: FutureWarning:\n",
      "\n",
      "is_categorical_dtype is deprecated and will be removed in a future version. Use isinstance(dtype, CategoricalDtype) instead\n",
      "\n",
      "/opt/anaconda3/envs/Capstone2023/lib/python3.10/site-packages/xgboost/data.py:384: FutureWarning:\n",
      "\n",
      "is_categorical_dtype is deprecated and will be removed in a future version. Use isinstance(dtype, CategoricalDtype) instead\n",
      "\n",
      "/opt/anaconda3/envs/Capstone2023/lib/python3.10/site-packages/xgboost/data.py:359: FutureWarning:\n",
      "\n",
      "is_categorical_dtype is deprecated and will be removed in a future version. Use isinstance(dtype, CategoricalDtype) instead\n",
      "\n",
      "/opt/anaconda3/envs/Capstone2023/lib/python3.10/site-packages/xgboost/core.py:160: UserWarning:\n",
      "\n",
      "[17:22:28] WARNING: /Users/runner/work/xgboost/xgboost/src/c_api/c_api.cc:1240: Saving into deprecated binary model format, please consider using `json` or `ubj`. Model format will default to JSON in XGBoost 2.2 if not specified.\n",
      "\n",
      "/opt/anaconda3/envs/Capstone2023/lib/python3.10/site-packages/xgboost/data.py:335: FutureWarning:\n",
      "\n",
      "is_sparse is deprecated and will be removed in a future version. Check `isinstance(dtype, pd.SparseDtype)` instead.\n",
      "\n",
      "/opt/anaconda3/envs/Capstone2023/lib/python3.10/site-packages/xgboost/data.py:338: FutureWarning:\n",
      "\n",
      "is_categorical_dtype is deprecated and will be removed in a future version. Use isinstance(dtype, CategoricalDtype) instead\n",
      "\n",
      "/opt/anaconda3/envs/Capstone2023/lib/python3.10/site-packages/xgboost/data.py:384: FutureWarning:\n",
      "\n",
      "is_categorical_dtype is deprecated and will be removed in a future version. Use isinstance(dtype, CategoricalDtype) instead\n",
      "\n",
      "/opt/anaconda3/envs/Capstone2023/lib/python3.10/site-packages/xgboost/data.py:359: FutureWarning:\n",
      "\n",
      "is_categorical_dtype is deprecated and will be removed in a future version. Use isinstance(dtype, CategoricalDtype) instead\n",
      "\n",
      "/opt/anaconda3/envs/Capstone2023/lib/python3.10/site-packages/xgboost/core.py:160: UserWarning:\n",
      "\n",
      "[17:22:28] WARNING: /Users/runner/work/xgboost/xgboost/src/c_api/c_api.cc:1240: Saving into deprecated binary model format, please consider using `json` or `ubj`. Model format will default to JSON in XGBoost 2.2 if not specified.\n",
      "\n",
      "/opt/anaconda3/envs/Capstone2023/lib/python3.10/site-packages/xgboost/data.py:335: FutureWarning:\n",
      "\n",
      "is_sparse is deprecated and will be removed in a future version. Check `isinstance(dtype, pd.SparseDtype)` instead.\n",
      "\n",
      "/opt/anaconda3/envs/Capstone2023/lib/python3.10/site-packages/xgboost/data.py:338: FutureWarning:\n",
      "\n",
      "is_categorical_dtype is deprecated and will be removed in a future version. Use isinstance(dtype, CategoricalDtype) instead\n",
      "\n",
      "/opt/anaconda3/envs/Capstone2023/lib/python3.10/site-packages/xgboost/data.py:384: FutureWarning:\n",
      "\n",
      "is_categorical_dtype is deprecated and will be removed in a future version. Use isinstance(dtype, CategoricalDtype) instead\n",
      "\n",
      "/opt/anaconda3/envs/Capstone2023/lib/python3.10/site-packages/xgboost/data.py:359: FutureWarning:\n",
      "\n",
      "is_categorical_dtype is deprecated and will be removed in a future version. Use isinstance(dtype, CategoricalDtype) instead\n",
      "\n"
     ]
    },
    {
     "data": {
      "application/vnd.plotly.v1+json": {
       "config": {
        "plotlyServerURL": "https://plot.ly"
       },
       "data": [
        {
         "alignmentgroup": "True",
         "hovertemplate": "variable=Patient 39: 2023-12-01<br>Percentage=%{x}<br>Factors=%{y}<extra></extra>",
         "legendgroup": "Patient 39: 2023-12-01",
         "marker": {
          "color": "#636efa",
          "pattern": {
           "shape": ""
          }
         },
         "name": "Patient 39: 2023-12-01",
         "offsetgroup": "Patient 39: 2023-12-01",
         "orientation": "h",
         "showlegend": true,
         "textposition": "auto",
         "type": "bar",
         "x": [
          12.795636177062988,
          7.215000152587891,
          5.894153594970703,
          6.3870110511779785,
          4.274338722229004,
          4.655576705932617,
          3.560619831085205,
          0.6250246167182922,
          0.30915361642837524,
          0.6026260852813721
         ],
         "xaxis": "x",
         "y": [
          "ADP % Aggregation_difference_since_last_timepoint",
          "CFF FLEV(mg/dL)",
          "CK R(min)",
          "HGB(g/dL)_difference_since_last_timepoint",
          "CK K (min)",
          "CKH R (min)",
          "CRT MA(mm)",
          "AA % Inhibition_difference_since_last_timepoint",
          "AA % Aggregation_rate_since_last_timepoint",
          "HKH MA (mm)_difference_since_last_timepoint"
         ],
         "yaxis": "y"
        },
        {
         "alignmentgroup": "True",
         "hovertemplate": "variable=Patient 39: 2023-12-02<br>Percentage=%{x}<br>Factors=%{y}<extra></extra>",
         "legendgroup": "Patient 39: 2023-12-02",
         "marker": {
          "color": "#EF553B",
          "pattern": {
           "shape": ""
          }
         },
         "name": "Patient 39: 2023-12-02",
         "offsetgroup": "Patient 39: 2023-12-02",
         "orientation": "h",
         "showlegend": true,
         "textposition": "auto",
         "type": "bar",
         "x": [
          12.795636177062988,
          7.215000152587891,
          5.894153594970703,
          6.3870110511779785,
          4.274338722229004,
          4.655576705932617,
          3.560619831085205,
          0.6250246167182922,
          0.30915361642837524,
          0.6026260852813721
         ],
         "xaxis": "x",
         "y": [
          "ADP % Aggregation_difference_since_last_timepoint",
          "CFF FLEV(mg/dL)",
          "CK R(min)",
          "HGB(g/dL)_difference_since_last_timepoint",
          "CK K (min)",
          "CKH R (min)",
          "CRT MA(mm)",
          "AA % Inhibition_difference_since_last_timepoint",
          "AA % Aggregation_rate_since_last_timepoint",
          "HKH MA (mm)_difference_since_last_timepoint"
         ],
         "yaxis": "y"
        },
        {
         "alignmentgroup": "True",
         "hovertemplate": "variable=Patient 40: 2023-12-03<br>Percentage=%{x}<br>Factors=%{y}<extra></extra>",
         "legendgroup": "Patient 40: 2023-12-03",
         "marker": {
          "color": "#00cc96",
          "pattern": {
           "shape": ""
          }
         },
         "name": "Patient 40: 2023-12-03",
         "offsetgroup": "Patient 40: 2023-12-03",
         "orientation": "h",
         "showlegend": true,
         "textposition": "auto",
         "type": "bar",
         "x": [
          5.749270915985107,
          10.448330879211426,
          2.7042102813720703,
          0.04044880345463753,
          2.3976621627807617,
          1.3951148986816406,
          1.4310493469238281,
          6.971269607543945,
          7.093343257904053,
          5.938507080078125
         ],
         "xaxis": "x",
         "y": [
          "ADP % Aggregation_difference_since_last_timepoint",
          "CFF FLEV(mg/dL)",
          "CK R(min)",
          "HGB(g/dL)_difference_since_last_timepoint",
          "CK K (min)",
          "CKH R (min)",
          "CRT MA(mm)",
          "AA % Inhibition_difference_since_last_timepoint",
          "AA % Aggregation_rate_since_last_timepoint",
          "HKH MA (mm)_difference_since_last_timepoint"
         ],
         "yaxis": "y"
        }
       ],
       "layout": {
        "barmode": "relative",
        "legend": {
         "title": {
          "text": "variable"
         },
         "tracegroupgap": 0
        },
        "showlegend": true,
        "template": {
         "data": {
          "bar": [
           {
            "error_x": {
             "color": "#2a3f5f"
            },
            "error_y": {
             "color": "#2a3f5f"
            },
            "marker": {
             "line": {
              "color": "#E5ECF6",
              "width": 0.5
             },
             "pattern": {
              "fillmode": "overlay",
              "size": 10,
              "solidity": 0.2
             }
            },
            "type": "bar"
           }
          ],
          "barpolar": [
           {
            "marker": {
             "line": {
              "color": "#E5ECF6",
              "width": 0.5
             },
             "pattern": {
              "fillmode": "overlay",
              "size": 10,
              "solidity": 0.2
             }
            },
            "type": "barpolar"
           }
          ],
          "carpet": [
           {
            "aaxis": {
             "endlinecolor": "#2a3f5f",
             "gridcolor": "white",
             "linecolor": "white",
             "minorgridcolor": "white",
             "startlinecolor": "#2a3f5f"
            },
            "baxis": {
             "endlinecolor": "#2a3f5f",
             "gridcolor": "white",
             "linecolor": "white",
             "minorgridcolor": "white",
             "startlinecolor": "#2a3f5f"
            },
            "type": "carpet"
           }
          ],
          "choropleth": [
           {
            "colorbar": {
             "outlinewidth": 0,
             "ticks": ""
            },
            "type": "choropleth"
           }
          ],
          "contour": [
           {
            "colorbar": {
             "outlinewidth": 0,
             "ticks": ""
            },
            "colorscale": [
             [
              0,
              "#0d0887"
             ],
             [
              0.1111111111111111,
              "#46039f"
             ],
             [
              0.2222222222222222,
              "#7201a8"
             ],
             [
              0.3333333333333333,
              "#9c179e"
             ],
             [
              0.4444444444444444,
              "#bd3786"
             ],
             [
              0.5555555555555556,
              "#d8576b"
             ],
             [
              0.6666666666666666,
              "#ed7953"
             ],
             [
              0.7777777777777778,
              "#fb9f3a"
             ],
             [
              0.8888888888888888,
              "#fdca26"
             ],
             [
              1,
              "#f0f921"
             ]
            ],
            "type": "contour"
           }
          ],
          "contourcarpet": [
           {
            "colorbar": {
             "outlinewidth": 0,
             "ticks": ""
            },
            "type": "contourcarpet"
           }
          ],
          "heatmap": [
           {
            "colorbar": {
             "outlinewidth": 0,
             "ticks": ""
            },
            "colorscale": [
             [
              0,
              "#0d0887"
             ],
             [
              0.1111111111111111,
              "#46039f"
             ],
             [
              0.2222222222222222,
              "#7201a8"
             ],
             [
              0.3333333333333333,
              "#9c179e"
             ],
             [
              0.4444444444444444,
              "#bd3786"
             ],
             [
              0.5555555555555556,
              "#d8576b"
             ],
             [
              0.6666666666666666,
              "#ed7953"
             ],
             [
              0.7777777777777778,
              "#fb9f3a"
             ],
             [
              0.8888888888888888,
              "#fdca26"
             ],
             [
              1,
              "#f0f921"
             ]
            ],
            "type": "heatmap"
           }
          ],
          "heatmapgl": [
           {
            "colorbar": {
             "outlinewidth": 0,
             "ticks": ""
            },
            "colorscale": [
             [
              0,
              "#0d0887"
             ],
             [
              0.1111111111111111,
              "#46039f"
             ],
             [
              0.2222222222222222,
              "#7201a8"
             ],
             [
              0.3333333333333333,
              "#9c179e"
             ],
             [
              0.4444444444444444,
              "#bd3786"
             ],
             [
              0.5555555555555556,
              "#d8576b"
             ],
             [
              0.6666666666666666,
              "#ed7953"
             ],
             [
              0.7777777777777778,
              "#fb9f3a"
             ],
             [
              0.8888888888888888,
              "#fdca26"
             ],
             [
              1,
              "#f0f921"
             ]
            ],
            "type": "heatmapgl"
           }
          ],
          "histogram": [
           {
            "marker": {
             "pattern": {
              "fillmode": "overlay",
              "size": 10,
              "solidity": 0.2
             }
            },
            "type": "histogram"
           }
          ],
          "histogram2d": [
           {
            "colorbar": {
             "outlinewidth": 0,
             "ticks": ""
            },
            "colorscale": [
             [
              0,
              "#0d0887"
             ],
             [
              0.1111111111111111,
              "#46039f"
             ],
             [
              0.2222222222222222,
              "#7201a8"
             ],
             [
              0.3333333333333333,
              "#9c179e"
             ],
             [
              0.4444444444444444,
              "#bd3786"
             ],
             [
              0.5555555555555556,
              "#d8576b"
             ],
             [
              0.6666666666666666,
              "#ed7953"
             ],
             [
              0.7777777777777778,
              "#fb9f3a"
             ],
             [
              0.8888888888888888,
              "#fdca26"
             ],
             [
              1,
              "#f0f921"
             ]
            ],
            "type": "histogram2d"
           }
          ],
          "histogram2dcontour": [
           {
            "colorbar": {
             "outlinewidth": 0,
             "ticks": ""
            },
            "colorscale": [
             [
              0,
              "#0d0887"
             ],
             [
              0.1111111111111111,
              "#46039f"
             ],
             [
              0.2222222222222222,
              "#7201a8"
             ],
             [
              0.3333333333333333,
              "#9c179e"
             ],
             [
              0.4444444444444444,
              "#bd3786"
             ],
             [
              0.5555555555555556,
              "#d8576b"
             ],
             [
              0.6666666666666666,
              "#ed7953"
             ],
             [
              0.7777777777777778,
              "#fb9f3a"
             ],
             [
              0.8888888888888888,
              "#fdca26"
             ],
             [
              1,
              "#f0f921"
             ]
            ],
            "type": "histogram2dcontour"
           }
          ],
          "mesh3d": [
           {
            "colorbar": {
             "outlinewidth": 0,
             "ticks": ""
            },
            "type": "mesh3d"
           }
          ],
          "parcoords": [
           {
            "line": {
             "colorbar": {
              "outlinewidth": 0,
              "ticks": ""
             }
            },
            "type": "parcoords"
           }
          ],
          "pie": [
           {
            "automargin": true,
            "type": "pie"
           }
          ],
          "scatter": [
           {
            "fillpattern": {
             "fillmode": "overlay",
             "size": 10,
             "solidity": 0.2
            },
            "type": "scatter"
           }
          ],
          "scatter3d": [
           {
            "line": {
             "colorbar": {
              "outlinewidth": 0,
              "ticks": ""
             }
            },
            "marker": {
             "colorbar": {
              "outlinewidth": 0,
              "ticks": ""
             }
            },
            "type": "scatter3d"
           }
          ],
          "scattercarpet": [
           {
            "marker": {
             "colorbar": {
              "outlinewidth": 0,
              "ticks": ""
             }
            },
            "type": "scattercarpet"
           }
          ],
          "scattergeo": [
           {
            "marker": {
             "colorbar": {
              "outlinewidth": 0,
              "ticks": ""
             }
            },
            "type": "scattergeo"
           }
          ],
          "scattergl": [
           {
            "marker": {
             "colorbar": {
              "outlinewidth": 0,
              "ticks": ""
             }
            },
            "type": "scattergl"
           }
          ],
          "scattermapbox": [
           {
            "marker": {
             "colorbar": {
              "outlinewidth": 0,
              "ticks": ""
             }
            },
            "type": "scattermapbox"
           }
          ],
          "scatterpolar": [
           {
            "marker": {
             "colorbar": {
              "outlinewidth": 0,
              "ticks": ""
             }
            },
            "type": "scatterpolar"
           }
          ],
          "scatterpolargl": [
           {
            "marker": {
             "colorbar": {
              "outlinewidth": 0,
              "ticks": ""
             }
            },
            "type": "scatterpolargl"
           }
          ],
          "scatterternary": [
           {
            "marker": {
             "colorbar": {
              "outlinewidth": 0,
              "ticks": ""
             }
            },
            "type": "scatterternary"
           }
          ],
          "surface": [
           {
            "colorbar": {
             "outlinewidth": 0,
             "ticks": ""
            },
            "colorscale": [
             [
              0,
              "#0d0887"
             ],
             [
              0.1111111111111111,
              "#46039f"
             ],
             [
              0.2222222222222222,
              "#7201a8"
             ],
             [
              0.3333333333333333,
              "#9c179e"
             ],
             [
              0.4444444444444444,
              "#bd3786"
             ],
             [
              0.5555555555555556,
              "#d8576b"
             ],
             [
              0.6666666666666666,
              "#ed7953"
             ],
             [
              0.7777777777777778,
              "#fb9f3a"
             ],
             [
              0.8888888888888888,
              "#fdca26"
             ],
             [
              1,
              "#f0f921"
             ]
            ],
            "type": "surface"
           }
          ],
          "table": [
           {
            "cells": {
             "fill": {
              "color": "#EBF0F8"
             },
             "line": {
              "color": "white"
             }
            },
            "header": {
             "fill": {
              "color": "#C8D4E3"
             },
             "line": {
              "color": "white"
             }
            },
            "type": "table"
           }
          ]
         },
         "layout": {
          "annotationdefaults": {
           "arrowcolor": "#2a3f5f",
           "arrowhead": 0,
           "arrowwidth": 1
          },
          "autotypenumbers": "strict",
          "coloraxis": {
           "colorbar": {
            "outlinewidth": 0,
            "ticks": ""
           }
          },
          "colorscale": {
           "diverging": [
            [
             0,
             "#8e0152"
            ],
            [
             0.1,
             "#c51b7d"
            ],
            [
             0.2,
             "#de77ae"
            ],
            [
             0.3,
             "#f1b6da"
            ],
            [
             0.4,
             "#fde0ef"
            ],
            [
             0.5,
             "#f7f7f7"
            ],
            [
             0.6,
             "#e6f5d0"
            ],
            [
             0.7,
             "#b8e186"
            ],
            [
             0.8,
             "#7fbc41"
            ],
            [
             0.9,
             "#4d9221"
            ],
            [
             1,
             "#276419"
            ]
           ],
           "sequential": [
            [
             0,
             "#0d0887"
            ],
            [
             0.1111111111111111,
             "#46039f"
            ],
            [
             0.2222222222222222,
             "#7201a8"
            ],
            [
             0.3333333333333333,
             "#9c179e"
            ],
            [
             0.4444444444444444,
             "#bd3786"
            ],
            [
             0.5555555555555556,
             "#d8576b"
            ],
            [
             0.6666666666666666,
             "#ed7953"
            ],
            [
             0.7777777777777778,
             "#fb9f3a"
            ],
            [
             0.8888888888888888,
             "#fdca26"
            ],
            [
             1,
             "#f0f921"
            ]
           ],
           "sequentialminus": [
            [
             0,
             "#0d0887"
            ],
            [
             0.1111111111111111,
             "#46039f"
            ],
            [
             0.2222222222222222,
             "#7201a8"
            ],
            [
             0.3333333333333333,
             "#9c179e"
            ],
            [
             0.4444444444444444,
             "#bd3786"
            ],
            [
             0.5555555555555556,
             "#d8576b"
            ],
            [
             0.6666666666666666,
             "#ed7953"
            ],
            [
             0.7777777777777778,
             "#fb9f3a"
            ],
            [
             0.8888888888888888,
             "#fdca26"
            ],
            [
             1,
             "#f0f921"
            ]
           ]
          },
          "colorway": [
           "#636efa",
           "#EF553B",
           "#00cc96",
           "#ab63fa",
           "#FFA15A",
           "#19d3f3",
           "#FF6692",
           "#B6E880",
           "#FF97FF",
           "#FECB52"
          ],
          "font": {
           "color": "#2a3f5f"
          },
          "geo": {
           "bgcolor": "white",
           "lakecolor": "white",
           "landcolor": "#E5ECF6",
           "showlakes": true,
           "showland": true,
           "subunitcolor": "white"
          },
          "hoverlabel": {
           "align": "left"
          },
          "hovermode": "closest",
          "mapbox": {
           "style": "light"
          },
          "paper_bgcolor": "white",
          "plot_bgcolor": "#E5ECF6",
          "polar": {
           "angularaxis": {
            "gridcolor": "white",
            "linecolor": "white",
            "ticks": ""
           },
           "bgcolor": "#E5ECF6",
           "radialaxis": {
            "gridcolor": "white",
            "linecolor": "white",
            "ticks": ""
           }
          },
          "scene": {
           "xaxis": {
            "backgroundcolor": "#E5ECF6",
            "gridcolor": "white",
            "gridwidth": 2,
            "linecolor": "white",
            "showbackground": true,
            "ticks": "",
            "zerolinecolor": "white"
           },
           "yaxis": {
            "backgroundcolor": "#E5ECF6",
            "gridcolor": "white",
            "gridwidth": 2,
            "linecolor": "white",
            "showbackground": true,
            "ticks": "",
            "zerolinecolor": "white"
           },
           "zaxis": {
            "backgroundcolor": "#E5ECF6",
            "gridcolor": "white",
            "gridwidth": 2,
            "linecolor": "white",
            "showbackground": true,
            "ticks": "",
            "zerolinecolor": "white"
           }
          },
          "shapedefaults": {
           "line": {
            "color": "#2a3f5f"
           }
          },
          "ternary": {
           "aaxis": {
            "gridcolor": "white",
            "linecolor": "white",
            "ticks": ""
           },
           "baxis": {
            "gridcolor": "white",
            "linecolor": "white",
            "ticks": ""
           },
           "bgcolor": "#E5ECF6",
           "caxis": {
            "gridcolor": "white",
            "linecolor": "white",
            "ticks": ""
           }
          },
          "title": {
           "x": 0.05
          },
          "xaxis": {
           "automargin": true,
           "gridcolor": "white",
           "linecolor": "white",
           "ticks": "",
           "title": {
            "standoff": 15
           },
           "zerolinecolor": "white",
           "zerolinewidth": 2
          },
          "yaxis": {
           "automargin": true,
           "gridcolor": "white",
           "linecolor": "white",
           "ticks": "",
           "title": {
            "standoff": 15
           },
           "zerolinecolor": "white",
           "zerolinewidth": 2
          }
         }
        },
        "title": {
         "text": "Top 10 Factors based on TEG 1 model"
        },
        "xaxis": {
         "anchor": "y",
         "domain": [
          0,
          1
         ],
         "title": {
          "text": "Percentage"
         }
        },
        "yaxis": {
         "anchor": "x",
         "categoryorder": "total ascending",
         "domain": [
          0,
          1
         ],
         "title": {
          "text": "Factors"
         }
        }
       }
      }
     },
     "metadata": {},
     "output_type": "display_data"
    }
   ],
   "source": [
    "TEG1_shap_values_list = iterate_importance(patient_TEG1_df, best_model_TEG1, tegValues_id)\n",
    "fig = plot_importance(TEG1_shap_values_list, \"Top 10 Factors based on TEG 1 model\")\n",
    "display(fig)\n",
    " "
   ]
  },
  {
   "cell_type": "code",
   "execution_count": 529,
   "metadata": {},
   "outputs": [
    {
     "name": "stderr",
     "output_type": "stream",
     "text": [
      "/var/folders/fx/l7m2ftt15p3fzw6vl0894hmh0000gn/T/ipykernel_70541/2610385127.py:9: SettingWithCopyWarning:\n",
      "\n",
      "\n",
      "A value is trying to be set on a copy of a slice from a DataFrame.\n",
      "Try using .loc[row_indexer,col_indexer] = value instead\n",
      "\n",
      "See the caveats in the documentation: https://pandas.pydata.org/pandas-docs/stable/user_guide/indexing.html#returning-a-view-versus-a-copy\n",
      "\n",
      "/opt/anaconda3/envs/Capstone2023/lib/python3.10/site-packages/xgboost/core.py:160: UserWarning:\n",
      "\n",
      "[17:22:28] WARNING: /Users/runner/work/xgboost/xgboost/src/c_api/c_api.cc:1240: Saving into deprecated binary model format, please consider using `json` or `ubj`. Model format will default to JSON in XGBoost 2.2 if not specified.\n",
      "\n",
      "/opt/anaconda3/envs/Capstone2023/lib/python3.10/site-packages/xgboost/data.py:335: FutureWarning:\n",
      "\n",
      "is_sparse is deprecated and will be removed in a future version. Check `isinstance(dtype, pd.SparseDtype)` instead.\n",
      "\n",
      "/opt/anaconda3/envs/Capstone2023/lib/python3.10/site-packages/xgboost/data.py:338: FutureWarning:\n",
      "\n",
      "is_categorical_dtype is deprecated and will be removed in a future version. Use isinstance(dtype, CategoricalDtype) instead\n",
      "\n",
      "/opt/anaconda3/envs/Capstone2023/lib/python3.10/site-packages/xgboost/data.py:384: FutureWarning:\n",
      "\n",
      "is_categorical_dtype is deprecated and will be removed in a future version. Use isinstance(dtype, CategoricalDtype) instead\n",
      "\n",
      "/opt/anaconda3/envs/Capstone2023/lib/python3.10/site-packages/xgboost/data.py:359: FutureWarning:\n",
      "\n",
      "is_categorical_dtype is deprecated and will be removed in a future version. Use isinstance(dtype, CategoricalDtype) instead\n",
      "\n",
      "/opt/anaconda3/envs/Capstone2023/lib/python3.10/site-packages/xgboost/core.py:160: UserWarning:\n",
      "\n",
      "[17:22:28] WARNING: /Users/runner/work/xgboost/xgboost/src/c_api/c_api.cc:1240: Saving into deprecated binary model format, please consider using `json` or `ubj`. Model format will default to JSON in XGBoost 2.2 if not specified.\n",
      "\n",
      "/opt/anaconda3/envs/Capstone2023/lib/python3.10/site-packages/xgboost/data.py:335: FutureWarning:\n",
      "\n",
      "is_sparse is deprecated and will be removed in a future version. Check `isinstance(dtype, pd.SparseDtype)` instead.\n",
      "\n",
      "/opt/anaconda3/envs/Capstone2023/lib/python3.10/site-packages/xgboost/data.py:338: FutureWarning:\n",
      "\n",
      "is_categorical_dtype is deprecated and will be removed in a future version. Use isinstance(dtype, CategoricalDtype) instead\n",
      "\n",
      "/opt/anaconda3/envs/Capstone2023/lib/python3.10/site-packages/xgboost/data.py:384: FutureWarning:\n",
      "\n",
      "is_categorical_dtype is deprecated and will be removed in a future version. Use isinstance(dtype, CategoricalDtype) instead\n",
      "\n",
      "/opt/anaconda3/envs/Capstone2023/lib/python3.10/site-packages/xgboost/data.py:359: FutureWarning:\n",
      "\n",
      "is_categorical_dtype is deprecated and will be removed in a future version. Use isinstance(dtype, CategoricalDtype) instead\n",
      "\n",
      "/opt/anaconda3/envs/Capstone2023/lib/python3.10/site-packages/xgboost/core.py:160: UserWarning:\n",
      "\n",
      "[17:22:29] WARNING: /Users/runner/work/xgboost/xgboost/src/c_api/c_api.cc:1240: Saving into deprecated binary model format, please consider using `json` or `ubj`. Model format will default to JSON in XGBoost 2.2 if not specified.\n",
      "\n",
      "/opt/anaconda3/envs/Capstone2023/lib/python3.10/site-packages/xgboost/data.py:335: FutureWarning:\n",
      "\n",
      "is_sparse is deprecated and will be removed in a future version. Check `isinstance(dtype, pd.SparseDtype)` instead.\n",
      "\n",
      "/opt/anaconda3/envs/Capstone2023/lib/python3.10/site-packages/xgboost/data.py:338: FutureWarning:\n",
      "\n",
      "is_categorical_dtype is deprecated and will be removed in a future version. Use isinstance(dtype, CategoricalDtype) instead\n",
      "\n",
      "/opt/anaconda3/envs/Capstone2023/lib/python3.10/site-packages/xgboost/data.py:384: FutureWarning:\n",
      "\n",
      "is_categorical_dtype is deprecated and will be removed in a future version. Use isinstance(dtype, CategoricalDtype) instead\n",
      "\n",
      "/opt/anaconda3/envs/Capstone2023/lib/python3.10/site-packages/xgboost/data.py:359: FutureWarning:\n",
      "\n",
      "is_categorical_dtype is deprecated and will be removed in a future version. Use isinstance(dtype, CategoricalDtype) instead\n",
      "\n"
     ]
    },
    {
     "data": {
      "application/vnd.plotly.v1+json": {
       "config": {
        "plotlyServerURL": "https://plot.ly"
       },
       "data": [
        {
         "alignmentgroup": "True",
         "hovertemplate": "variable=Patient 39: 2023-12-01<br>Percentage=%{x}<br>Factors=%{y}<extra></extra>",
         "legendgroup": "Patient 39: 2023-12-01",
         "marker": {
          "color": "#636efa",
          "pattern": {
           "shape": ""
          }
         },
         "name": "Patient 39: 2023-12-01",
         "offsetgroup": "Patient 39: 2023-12-01",
         "orientation": "h",
         "showlegend": true,
         "textposition": "auto",
         "type": "bar",
         "x": [
          16.515769958496094,
          13.44293212890625,
          10.933597564697266,
          11.027812004089355,
          7.103767395019531,
          3.4560317993164062,
          4.339065074920654,
          1.5951601266860962,
          3.8527169227600098,
          0.028472399339079857
         ],
         "xaxis": "x",
         "y": [
          "BP_Diastolic",
          "CK K (min)",
          "CFF FLEV(mg/dL)",
          "CK angle( deg)_difference_since_last_timepoint",
          "BP_Systolic",
          "AA MA(mm)_rate_since_last_timepoint",
          "PLT(K/uL)",
          "Lysis at 30 min (LY30) in %_difference_since_last_timepoint",
          "CKH R (min)",
          "ADP % Inhibition_difference_since_last_timepoint"
         ],
         "yaxis": "y"
        },
        {
         "alignmentgroup": "True",
         "hovertemplate": "variable=Patient 39: 2023-12-02<br>Percentage=%{x}<br>Factors=%{y}<extra></extra>",
         "legendgroup": "Patient 39: 2023-12-02",
         "marker": {
          "color": "#EF553B",
          "pattern": {
           "shape": ""
          }
         },
         "name": "Patient 39: 2023-12-02",
         "offsetgroup": "Patient 39: 2023-12-02",
         "orientation": "h",
         "showlegend": true,
         "textposition": "auto",
         "type": "bar",
         "x": [
          16.515769958496094,
          13.44293212890625,
          13.292840003967285,
          11.027812004089355,
          7.103767395019531,
          3.4523513317108154,
          4.428849220275879,
          1.6006165742874146,
          3.8527169227600098,
          0.028472399339079857
         ],
         "xaxis": "x",
         "y": [
          "BP_Diastolic",
          "CK K (min)",
          "CFF FLEV(mg/dL)",
          "CK angle( deg)_difference_since_last_timepoint",
          "BP_Systolic",
          "AA MA(mm)_rate_since_last_timepoint",
          "PLT(K/uL)",
          "Lysis at 30 min (LY30) in %_difference_since_last_timepoint",
          "CKH R (min)",
          "ADP % Inhibition_difference_since_last_timepoint"
         ],
         "yaxis": "y"
        },
        {
         "alignmentgroup": "True",
         "hovertemplate": "variable=Patient 40: 2023-12-03<br>Percentage=%{x}<br>Factors=%{y}<extra></extra>",
         "legendgroup": "Patient 40: 2023-12-03",
         "marker": {
          "color": "#00cc96",
          "pattern": {
           "shape": ""
          }
         },
         "name": "Patient 40: 2023-12-03",
         "offsetgroup": "Patient 40: 2023-12-03",
         "orientation": "h",
         "showlegend": true,
         "textposition": "auto",
         "type": "bar",
         "x": [
          11.166183471679688,
          13.134391784667969,
          7.881463527679443,
          5.6899495124816895,
          9.254039764404297,
          7.947084903717041,
          4.19210958480835,
          9.657796859741211,
          1.5729846954345703,
          7.562328815460205
         ],
         "xaxis": "x",
         "y": [
          "BP_Diastolic",
          "CK K (min)",
          "CFF FLEV(mg/dL)",
          "CK angle( deg)_difference_since_last_timepoint",
          "BP_Systolic",
          "AA MA(mm)_rate_since_last_timepoint",
          "PLT(K/uL)",
          "Lysis at 30 min (LY30) in %_difference_since_last_timepoint",
          "CKH R (min)",
          "ADP % Inhibition_difference_since_last_timepoint"
         ],
         "yaxis": "y"
        }
       ],
       "layout": {
        "barmode": "relative",
        "legend": {
         "title": {
          "text": "variable"
         },
         "tracegroupgap": 0
        },
        "showlegend": true,
        "template": {
         "data": {
          "bar": [
           {
            "error_x": {
             "color": "#2a3f5f"
            },
            "error_y": {
             "color": "#2a3f5f"
            },
            "marker": {
             "line": {
              "color": "#E5ECF6",
              "width": 0.5
             },
             "pattern": {
              "fillmode": "overlay",
              "size": 10,
              "solidity": 0.2
             }
            },
            "type": "bar"
           }
          ],
          "barpolar": [
           {
            "marker": {
             "line": {
              "color": "#E5ECF6",
              "width": 0.5
             },
             "pattern": {
              "fillmode": "overlay",
              "size": 10,
              "solidity": 0.2
             }
            },
            "type": "barpolar"
           }
          ],
          "carpet": [
           {
            "aaxis": {
             "endlinecolor": "#2a3f5f",
             "gridcolor": "white",
             "linecolor": "white",
             "minorgridcolor": "white",
             "startlinecolor": "#2a3f5f"
            },
            "baxis": {
             "endlinecolor": "#2a3f5f",
             "gridcolor": "white",
             "linecolor": "white",
             "minorgridcolor": "white",
             "startlinecolor": "#2a3f5f"
            },
            "type": "carpet"
           }
          ],
          "choropleth": [
           {
            "colorbar": {
             "outlinewidth": 0,
             "ticks": ""
            },
            "type": "choropleth"
           }
          ],
          "contour": [
           {
            "colorbar": {
             "outlinewidth": 0,
             "ticks": ""
            },
            "colorscale": [
             [
              0,
              "#0d0887"
             ],
             [
              0.1111111111111111,
              "#46039f"
             ],
             [
              0.2222222222222222,
              "#7201a8"
             ],
             [
              0.3333333333333333,
              "#9c179e"
             ],
             [
              0.4444444444444444,
              "#bd3786"
             ],
             [
              0.5555555555555556,
              "#d8576b"
             ],
             [
              0.6666666666666666,
              "#ed7953"
             ],
             [
              0.7777777777777778,
              "#fb9f3a"
             ],
             [
              0.8888888888888888,
              "#fdca26"
             ],
             [
              1,
              "#f0f921"
             ]
            ],
            "type": "contour"
           }
          ],
          "contourcarpet": [
           {
            "colorbar": {
             "outlinewidth": 0,
             "ticks": ""
            },
            "type": "contourcarpet"
           }
          ],
          "heatmap": [
           {
            "colorbar": {
             "outlinewidth": 0,
             "ticks": ""
            },
            "colorscale": [
             [
              0,
              "#0d0887"
             ],
             [
              0.1111111111111111,
              "#46039f"
             ],
             [
              0.2222222222222222,
              "#7201a8"
             ],
             [
              0.3333333333333333,
              "#9c179e"
             ],
             [
              0.4444444444444444,
              "#bd3786"
             ],
             [
              0.5555555555555556,
              "#d8576b"
             ],
             [
              0.6666666666666666,
              "#ed7953"
             ],
             [
              0.7777777777777778,
              "#fb9f3a"
             ],
             [
              0.8888888888888888,
              "#fdca26"
             ],
             [
              1,
              "#f0f921"
             ]
            ],
            "type": "heatmap"
           }
          ],
          "heatmapgl": [
           {
            "colorbar": {
             "outlinewidth": 0,
             "ticks": ""
            },
            "colorscale": [
             [
              0,
              "#0d0887"
             ],
             [
              0.1111111111111111,
              "#46039f"
             ],
             [
              0.2222222222222222,
              "#7201a8"
             ],
             [
              0.3333333333333333,
              "#9c179e"
             ],
             [
              0.4444444444444444,
              "#bd3786"
             ],
             [
              0.5555555555555556,
              "#d8576b"
             ],
             [
              0.6666666666666666,
              "#ed7953"
             ],
             [
              0.7777777777777778,
              "#fb9f3a"
             ],
             [
              0.8888888888888888,
              "#fdca26"
             ],
             [
              1,
              "#f0f921"
             ]
            ],
            "type": "heatmapgl"
           }
          ],
          "histogram": [
           {
            "marker": {
             "pattern": {
              "fillmode": "overlay",
              "size": 10,
              "solidity": 0.2
             }
            },
            "type": "histogram"
           }
          ],
          "histogram2d": [
           {
            "colorbar": {
             "outlinewidth": 0,
             "ticks": ""
            },
            "colorscale": [
             [
              0,
              "#0d0887"
             ],
             [
              0.1111111111111111,
              "#46039f"
             ],
             [
              0.2222222222222222,
              "#7201a8"
             ],
             [
              0.3333333333333333,
              "#9c179e"
             ],
             [
              0.4444444444444444,
              "#bd3786"
             ],
             [
              0.5555555555555556,
              "#d8576b"
             ],
             [
              0.6666666666666666,
              "#ed7953"
             ],
             [
              0.7777777777777778,
              "#fb9f3a"
             ],
             [
              0.8888888888888888,
              "#fdca26"
             ],
             [
              1,
              "#f0f921"
             ]
            ],
            "type": "histogram2d"
           }
          ],
          "histogram2dcontour": [
           {
            "colorbar": {
             "outlinewidth": 0,
             "ticks": ""
            },
            "colorscale": [
             [
              0,
              "#0d0887"
             ],
             [
              0.1111111111111111,
              "#46039f"
             ],
             [
              0.2222222222222222,
              "#7201a8"
             ],
             [
              0.3333333333333333,
              "#9c179e"
             ],
             [
              0.4444444444444444,
              "#bd3786"
             ],
             [
              0.5555555555555556,
              "#d8576b"
             ],
             [
              0.6666666666666666,
              "#ed7953"
             ],
             [
              0.7777777777777778,
              "#fb9f3a"
             ],
             [
              0.8888888888888888,
              "#fdca26"
             ],
             [
              1,
              "#f0f921"
             ]
            ],
            "type": "histogram2dcontour"
           }
          ],
          "mesh3d": [
           {
            "colorbar": {
             "outlinewidth": 0,
             "ticks": ""
            },
            "type": "mesh3d"
           }
          ],
          "parcoords": [
           {
            "line": {
             "colorbar": {
              "outlinewidth": 0,
              "ticks": ""
             }
            },
            "type": "parcoords"
           }
          ],
          "pie": [
           {
            "automargin": true,
            "type": "pie"
           }
          ],
          "scatter": [
           {
            "fillpattern": {
             "fillmode": "overlay",
             "size": 10,
             "solidity": 0.2
            },
            "type": "scatter"
           }
          ],
          "scatter3d": [
           {
            "line": {
             "colorbar": {
              "outlinewidth": 0,
              "ticks": ""
             }
            },
            "marker": {
             "colorbar": {
              "outlinewidth": 0,
              "ticks": ""
             }
            },
            "type": "scatter3d"
           }
          ],
          "scattercarpet": [
           {
            "marker": {
             "colorbar": {
              "outlinewidth": 0,
              "ticks": ""
             }
            },
            "type": "scattercarpet"
           }
          ],
          "scattergeo": [
           {
            "marker": {
             "colorbar": {
              "outlinewidth": 0,
              "ticks": ""
             }
            },
            "type": "scattergeo"
           }
          ],
          "scattergl": [
           {
            "marker": {
             "colorbar": {
              "outlinewidth": 0,
              "ticks": ""
             }
            },
            "type": "scattergl"
           }
          ],
          "scattermapbox": [
           {
            "marker": {
             "colorbar": {
              "outlinewidth": 0,
              "ticks": ""
             }
            },
            "type": "scattermapbox"
           }
          ],
          "scatterpolar": [
           {
            "marker": {
             "colorbar": {
              "outlinewidth": 0,
              "ticks": ""
             }
            },
            "type": "scatterpolar"
           }
          ],
          "scatterpolargl": [
           {
            "marker": {
             "colorbar": {
              "outlinewidth": 0,
              "ticks": ""
             }
            },
            "type": "scatterpolargl"
           }
          ],
          "scatterternary": [
           {
            "marker": {
             "colorbar": {
              "outlinewidth": 0,
              "ticks": ""
             }
            },
            "type": "scatterternary"
           }
          ],
          "surface": [
           {
            "colorbar": {
             "outlinewidth": 0,
             "ticks": ""
            },
            "colorscale": [
             [
              0,
              "#0d0887"
             ],
             [
              0.1111111111111111,
              "#46039f"
             ],
             [
              0.2222222222222222,
              "#7201a8"
             ],
             [
              0.3333333333333333,
              "#9c179e"
             ],
             [
              0.4444444444444444,
              "#bd3786"
             ],
             [
              0.5555555555555556,
              "#d8576b"
             ],
             [
              0.6666666666666666,
              "#ed7953"
             ],
             [
              0.7777777777777778,
              "#fb9f3a"
             ],
             [
              0.8888888888888888,
              "#fdca26"
             ],
             [
              1,
              "#f0f921"
             ]
            ],
            "type": "surface"
           }
          ],
          "table": [
           {
            "cells": {
             "fill": {
              "color": "#EBF0F8"
             },
             "line": {
              "color": "white"
             }
            },
            "header": {
             "fill": {
              "color": "#C8D4E3"
             },
             "line": {
              "color": "white"
             }
            },
            "type": "table"
           }
          ]
         },
         "layout": {
          "annotationdefaults": {
           "arrowcolor": "#2a3f5f",
           "arrowhead": 0,
           "arrowwidth": 1
          },
          "autotypenumbers": "strict",
          "coloraxis": {
           "colorbar": {
            "outlinewidth": 0,
            "ticks": ""
           }
          },
          "colorscale": {
           "diverging": [
            [
             0,
             "#8e0152"
            ],
            [
             0.1,
             "#c51b7d"
            ],
            [
             0.2,
             "#de77ae"
            ],
            [
             0.3,
             "#f1b6da"
            ],
            [
             0.4,
             "#fde0ef"
            ],
            [
             0.5,
             "#f7f7f7"
            ],
            [
             0.6,
             "#e6f5d0"
            ],
            [
             0.7,
             "#b8e186"
            ],
            [
             0.8,
             "#7fbc41"
            ],
            [
             0.9,
             "#4d9221"
            ],
            [
             1,
             "#276419"
            ]
           ],
           "sequential": [
            [
             0,
             "#0d0887"
            ],
            [
             0.1111111111111111,
             "#46039f"
            ],
            [
             0.2222222222222222,
             "#7201a8"
            ],
            [
             0.3333333333333333,
             "#9c179e"
            ],
            [
             0.4444444444444444,
             "#bd3786"
            ],
            [
             0.5555555555555556,
             "#d8576b"
            ],
            [
             0.6666666666666666,
             "#ed7953"
            ],
            [
             0.7777777777777778,
             "#fb9f3a"
            ],
            [
             0.8888888888888888,
             "#fdca26"
            ],
            [
             1,
             "#f0f921"
            ]
           ],
           "sequentialminus": [
            [
             0,
             "#0d0887"
            ],
            [
             0.1111111111111111,
             "#46039f"
            ],
            [
             0.2222222222222222,
             "#7201a8"
            ],
            [
             0.3333333333333333,
             "#9c179e"
            ],
            [
             0.4444444444444444,
             "#bd3786"
            ],
            [
             0.5555555555555556,
             "#d8576b"
            ],
            [
             0.6666666666666666,
             "#ed7953"
            ],
            [
             0.7777777777777778,
             "#fb9f3a"
            ],
            [
             0.8888888888888888,
             "#fdca26"
            ],
            [
             1,
             "#f0f921"
            ]
           ]
          },
          "colorway": [
           "#636efa",
           "#EF553B",
           "#00cc96",
           "#ab63fa",
           "#FFA15A",
           "#19d3f3",
           "#FF6692",
           "#B6E880",
           "#FF97FF",
           "#FECB52"
          ],
          "font": {
           "color": "#2a3f5f"
          },
          "geo": {
           "bgcolor": "white",
           "lakecolor": "white",
           "landcolor": "#E5ECF6",
           "showlakes": true,
           "showland": true,
           "subunitcolor": "white"
          },
          "hoverlabel": {
           "align": "left"
          },
          "hovermode": "closest",
          "mapbox": {
           "style": "light"
          },
          "paper_bgcolor": "white",
          "plot_bgcolor": "#E5ECF6",
          "polar": {
           "angularaxis": {
            "gridcolor": "white",
            "linecolor": "white",
            "ticks": ""
           },
           "bgcolor": "#E5ECF6",
           "radialaxis": {
            "gridcolor": "white",
            "linecolor": "white",
            "ticks": ""
           }
          },
          "scene": {
           "xaxis": {
            "backgroundcolor": "#E5ECF6",
            "gridcolor": "white",
            "gridwidth": 2,
            "linecolor": "white",
            "showbackground": true,
            "ticks": "",
            "zerolinecolor": "white"
           },
           "yaxis": {
            "backgroundcolor": "#E5ECF6",
            "gridcolor": "white",
            "gridwidth": 2,
            "linecolor": "white",
            "showbackground": true,
            "ticks": "",
            "zerolinecolor": "white"
           },
           "zaxis": {
            "backgroundcolor": "#E5ECF6",
            "gridcolor": "white",
            "gridwidth": 2,
            "linecolor": "white",
            "showbackground": true,
            "ticks": "",
            "zerolinecolor": "white"
           }
          },
          "shapedefaults": {
           "line": {
            "color": "#2a3f5f"
           }
          },
          "ternary": {
           "aaxis": {
            "gridcolor": "white",
            "linecolor": "white",
            "ticks": ""
           },
           "baxis": {
            "gridcolor": "white",
            "linecolor": "white",
            "ticks": ""
           },
           "bgcolor": "#E5ECF6",
           "caxis": {
            "gridcolor": "white",
            "linecolor": "white",
            "ticks": ""
           }
          },
          "title": {
           "x": 0.05
          },
          "xaxis": {
           "automargin": true,
           "gridcolor": "white",
           "linecolor": "white",
           "ticks": "",
           "title": {
            "standoff": 15
           },
           "zerolinecolor": "white",
           "zerolinewidth": 2
          },
          "yaxis": {
           "automargin": true,
           "gridcolor": "white",
           "linecolor": "white",
           "ticks": "",
           "title": {
            "standoff": 15
           },
           "zerolinecolor": "white",
           "zerolinewidth": 2
          }
         }
        },
        "title": {
         "text": "Top 10 Factors based on TEG 2 model"
        },
        "xaxis": {
         "anchor": "y",
         "domain": [
          0,
          1
         ],
         "title": {
          "text": "Percentage"
         }
        },
        "yaxis": {
         "anchor": "x",
         "categoryorder": "total ascending",
         "domain": [
          0,
          1
         ],
         "title": {
          "text": "Factors"
         }
        }
       }
      }
     },
     "metadata": {},
     "output_type": "display_data"
    }
   ],
   "source": [
    "TEG2_shap_values_list = iterate_importance(patient_TEG2_df, best_model_TEG2, tegValues_id)\n",
    "fig = plot_importance(TEG2_shap_values_list, \"Top 10 Factors based on TEG 2 model\")\n",
    "display(fig)"
   ]
  }
 ],
 "metadata": {
  "kernelspec": {
   "display_name": "Capstone2023",
   "language": "python",
   "name": "python3"
  },
  "language_info": {
   "codemirror_mode": {
    "name": "ipython",
    "version": 3
   },
   "file_extension": ".py",
   "mimetype": "text/x-python",
   "name": "python",
   "nbconvert_exporter": "python",
   "pygments_lexer": "ipython3",
   "version": "3.10.13"
  }
 },
 "nbformat": 4,
 "nbformat_minor": 2
}
