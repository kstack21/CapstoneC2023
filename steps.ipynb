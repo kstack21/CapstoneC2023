{
 "cells": [
  {
   "cell_type": "markdown",
   "metadata": {},
   "source": [
    "# Step by step\n",
    "This notebook replicates the code on the 'functions' page, offering insight into the inner workings of the functions. This allows anyone interested in comprehending and modifying the code to gain a general understanding."
   ]
  },
  {
   "cell_type": "code",
   "execution_count": 274,
   "metadata": {},
   "outputs": [],
   "source": [
    "import pandas as pd\n",
    "import shap\n",
    "import re\n",
    "from IPython.display import Image, display\n",
    "import os\n",
    "import json\n",
    "import plotly.graph_objects as go\n",
    "from plotly.subplots import make_subplots\n",
    "import numpy as np\n",
    "from xgboost import XGBRegressor\n",
    "from sklearn.metrics import mean_squared_error\n",
    "from sklearn.model_selection import train_test_split, KFold, GridSearchCV\n",
    "from sklearn.preprocessing import OrdinalEncoder, RobustScaler, MinMaxScaler\n",
    "from sklearn.pipeline import Pipeline"
   ]
  },
  {
   "cell_type": "markdown",
   "metadata": {},
   "source": [
    "## Preprocessing\n",
    "The preprocessing step aims to get the data ready for the model to learn from. This includes making sure the data is in the right format and cleaning it up"
   ]
  },
  {
   "cell_type": "markdown",
   "metadata": {},
   "source": [
    "### Load data"
   ]
  },
  {
   "cell_type": "code",
   "execution_count": 275,
   "metadata": {},
   "outputs": [],
   "source": [
    "# Imports excell with patients data\n",
    "data_path = \"./data/New_Dummy_Data.xlsx\"\n",
    "sheet_names = ['Baseline', 'TEG Values', 'Events']  # Replace with your sheet names\n",
    "data_frames = pd.read_excel(data_path, sheet_name=sheet_names)\n",
    "\n",
    "# Access each sheet's data using the sheet name as the key\n",
    "baseline_df = data_frames[sheet_names[0]]\n",
    "tegValues_df = data_frames[sheet_names[1]]\n",
    "events_df = data_frames[sheet_names[2]]"
   ]
  },
  {
   "cell_type": "code",
   "execution_count": 276,
   "metadata": {},
   "outputs": [
    {
     "data": {
      "text/html": [
       "<div>\n",
       "<style scoped>\n",
       "    .dataframe tbody tr th:only-of-type {\n",
       "        vertical-align: middle;\n",
       "    }\n",
       "\n",
       "    .dataframe tbody tr th {\n",
       "        vertical-align: top;\n",
       "    }\n",
       "\n",
       "    .dataframe thead th {\n",
       "        text-align: right;\n",
       "    }\n",
       "</style>\n",
       "<table border=\"1\" class=\"dataframe\">\n",
       "  <thead>\n",
       "    <tr style=\"text-align: right;\">\n",
       "      <th></th>\n",
       "      <th>Record ID</th>\n",
       "      <th>Age</th>\n",
       "      <th>Sex</th>\n",
       "      <th>White</th>\n",
       "      <th>Extremity</th>\n",
       "      <th>Artery affected</th>\n",
       "      <th>BMI</th>\n",
       "      <th>Tobacco Use (1 current 2 former, 3 none)</th>\n",
       "      <th>Diabetes</th>\n",
       "      <th>Hypertension</th>\n",
       "      <th>...</th>\n",
       "      <th>Hx of pulmonary embolism</th>\n",
       "      <th>Does the patient have a history of solid organ transplant?</th>\n",
       "      <th>EGFR (mL/min/1.73m2)</th>\n",
       "      <th>Has subject had previous intervention of the index limb?</th>\n",
       "      <th>Previous occluded stents</th>\n",
       "      <th>Rutherford Score</th>\n",
       "      <th>ABI Right</th>\n",
       "      <th>ABI left</th>\n",
       "      <th>Intervention Classification</th>\n",
       "      <th>Intervention Type</th>\n",
       "    </tr>\n",
       "  </thead>\n",
       "  <tbody>\n",
       "    <tr>\n",
       "      <th>0</th>\n",
       "      <td>39</td>\n",
       "      <td>81</td>\n",
       "      <td>Male</td>\n",
       "      <td>1</td>\n",
       "      <td>left</td>\n",
       "      <td>common femoral, SFA, popliteal, anterior tibia...</td>\n",
       "      <td>40.373643</td>\n",
       "      <td>current within the last year ( &lt; 1 pack a day)</td>\n",
       "      <td>1</td>\n",
       "      <td>0</td>\n",
       "      <td>...</td>\n",
       "      <td>Yes</td>\n",
       "      <td>No</td>\n",
       "      <td>22.03354</td>\n",
       "      <td>Yes</td>\n",
       "      <td>0</td>\n",
       "      <td>4.717162</td>\n",
       "      <td>0.859011</td>\n",
       "      <td>0.104522</td>\n",
       "      <td>Open</td>\n",
       "      <td>angioplasty</td>\n",
       "    </tr>\n",
       "    <tr>\n",
       "      <th>1</th>\n",
       "      <td>174</td>\n",
       "      <td>70</td>\n",
       "      <td>Male</td>\n",
       "      <td>0</td>\n",
       "      <td>Bilateral</td>\n",
       "      <td>common femoral, SFA, popliteal, posterior tibi...</td>\n",
       "      <td>15.619750</td>\n",
       "      <td>current within the last year (  &gt; or = 1 pack ...</td>\n",
       "      <td>0</td>\n",
       "      <td>1</td>\n",
       "      <td>...</td>\n",
       "      <td>Yes</td>\n",
       "      <td>No</td>\n",
       "      <td>&gt;60</td>\n",
       "      <td>0</td>\n",
       "      <td>0</td>\n",
       "      <td>3.561872</td>\n",
       "      <td>0.809203</td>\n",
       "      <td>0.916329</td>\n",
       "      <td>Open</td>\n",
       "      <td>bypass revision</td>\n",
       "    </tr>\n",
       "    <tr>\n",
       "      <th>2</th>\n",
       "      <td>T21-58</td>\n",
       "      <td>88</td>\n",
       "      <td>Male</td>\n",
       "      <td>1</td>\n",
       "      <td>left</td>\n",
       "      <td>common femoral</td>\n",
       "      <td>37.470921</td>\n",
       "      <td>quit 1 to 10 years ago</td>\n",
       "      <td>1</td>\n",
       "      <td>0</td>\n",
       "      <td>...</td>\n",
       "      <td>No</td>\n",
       "      <td>Yes</td>\n",
       "      <td>22.006291</td>\n",
       "      <td>No</td>\n",
       "      <td>0</td>\n",
       "      <td>3.659894</td>\n",
       "      <td>1.240163</td>\n",
       "      <td>0.13404</td>\n",
       "      <td>Endo</td>\n",
       "      <td>angioplasty, stent, endarterectomy</td>\n",
       "    </tr>\n",
       "    <tr>\n",
       "      <th>3</th>\n",
       "      <td>155</td>\n",
       "      <td>78</td>\n",
       "      <td>Male</td>\n",
       "      <td>0</td>\n",
       "      <td>right</td>\n",
       "      <td>SFA, anterior tibial, posterior tibial, extern...</td>\n",
       "      <td>15.888214</td>\n",
       "      <td>quit 1 to 10 years ago</td>\n",
       "      <td>0</td>\n",
       "      <td>0</td>\n",
       "      <td>...</td>\n",
       "      <td>Yes</td>\n",
       "      <td>No</td>\n",
       "      <td>6.906499</td>\n",
       "      <td>Yes</td>\n",
       "      <td>Yes</td>\n",
       "      <td>3.525905</td>\n",
       "      <td>0.760655</td>\n",
       "      <td>inaudible</td>\n",
       "      <td>Endo</td>\n",
       "      <td>angioplasty, bypass</td>\n",
       "    </tr>\n",
       "    <tr>\n",
       "      <th>4</th>\n",
       "      <td>47</td>\n",
       "      <td>84</td>\n",
       "      <td>Female</td>\n",
       "      <td>0</td>\n",
       "      <td>right</td>\n",
       "      <td>SFA, external iliac</td>\n",
       "      <td>31.979733</td>\n",
       "      <td>Past, quit &gt;10 year ago</td>\n",
       "      <td>1</td>\n",
       "      <td>1</td>\n",
       "      <td>...</td>\n",
       "      <td>No</td>\n",
       "      <td>Yes</td>\n",
       "      <td>11.809767</td>\n",
       "      <td>0</td>\n",
       "      <td>0</td>\n",
       "      <td>1.663111</td>\n",
       "      <td>0.329114</td>\n",
       "      <td>0.244715</td>\n",
       "      <td>Open</td>\n",
       "      <td>bypass revision</td>\n",
       "    </tr>\n",
       "  </tbody>\n",
       "</table>\n",
       "<p>5 rows × 30 columns</p>\n",
       "</div>"
      ],
      "text/plain": [
       "  Record ID  Age     Sex  White  Extremity  \\\n",
       "0        39   81    Male      1       left   \n",
       "1       174   70    Male      0  Bilateral   \n",
       "2    T21-58   88    Male      1       left   \n",
       "3       155   78    Male      0      right   \n",
       "4        47   84  Female      0      right   \n",
       "\n",
       "                                     Artery affected        BMI  \\\n",
       "0  common femoral, SFA, popliteal, anterior tibia...  40.373643   \n",
       "1  common femoral, SFA, popliteal, posterior tibi...  15.619750   \n",
       "2                                     common femoral  37.470921   \n",
       "3  SFA, anterior tibial, posterior tibial, extern...  15.888214   \n",
       "4                                SFA, external iliac  31.979733   \n",
       "\n",
       "            Tobacco Use (1 current 2 former, 3 none)  Diabetes  Hypertension  \\\n",
       "0     current within the last year ( < 1 pack a day)         1             0   \n",
       "1  current within the last year (  > or = 1 pack ...         0             1   \n",
       "2                             quit 1 to 10 years ago         1             0   \n",
       "3                             quit 1 to 10 years ago         0             0   \n",
       "4                            Past, quit >10 year ago         1             1   \n",
       "\n",
       "   ...  Hx of pulmonary embolism  \\\n",
       "0  ...                       Yes   \n",
       "1  ...                       Yes   \n",
       "2  ...                        No   \n",
       "3  ...                       Yes   \n",
       "4  ...                        No   \n",
       "\n",
       "  Does the patient have a history of solid organ transplant?  \\\n",
       "0                                                 No           \n",
       "1                                                 No           \n",
       "2                                                Yes           \n",
       "3                                                 No           \n",
       "4                                                Yes           \n",
       "\n",
       "  EGFR (mL/min/1.73m2)  \\\n",
       "0             22.03354   \n",
       "1                  >60   \n",
       "2            22.006291   \n",
       "3             6.906499   \n",
       "4            11.809767   \n",
       "\n",
       "  Has subject had previous intervention of the index limb?  \\\n",
       "0                                                Yes         \n",
       "1                                                  0         \n",
       "2                                                 No         \n",
       "3                                                Yes         \n",
       "4                                                  0         \n",
       "\n",
       "   Previous occluded stents  Rutherford Score ABI Right   ABI left  \\\n",
       "0                         0          4.717162  0.859011   0.104522   \n",
       "1                         0          3.561872  0.809203   0.916329   \n",
       "2                         0          3.659894  1.240163    0.13404   \n",
       "3                       Yes          3.525905  0.760655  inaudible   \n",
       "4                         0          1.663111  0.329114   0.244715   \n",
       "\n",
       "  Intervention Classification                   Intervention Type  \n",
       "0                        Open                         angioplasty  \n",
       "1                        Open                     bypass revision  \n",
       "2                        Endo  angioplasty, stent, endarterectomy  \n",
       "3                        Endo                 angioplasty, bypass  \n",
       "4                        Open                     bypass revision  \n",
       "\n",
       "[5 rows x 30 columns]"
      ]
     },
     "execution_count": 276,
     "metadata": {},
     "output_type": "execute_result"
    }
   ],
   "source": [
    "baseline_df.head()"
   ]
  },
  {
   "cell_type": "code",
   "execution_count": 277,
   "metadata": {},
   "outputs": [
    {
     "data": {
      "text/html": [
       "<div>\n",
       "<style scoped>\n",
       "    .dataframe tbody tr th:only-of-type {\n",
       "        vertical-align: middle;\n",
       "    }\n",
       "\n",
       "    .dataframe tbody tr th {\n",
       "        vertical-align: top;\n",
       "    }\n",
       "\n",
       "    .dataframe thead th {\n",
       "        text-align: right;\n",
       "    }\n",
       "</style>\n",
       "<table border=\"1\" class=\"dataframe\">\n",
       "  <thead>\n",
       "    <tr style=\"text-align: right;\">\n",
       "      <th></th>\n",
       "      <th>Record ID</th>\n",
       "      <th>Event Name</th>\n",
       "      <th>Date of Event</th>\n",
       "      <th>Event Type</th>\n",
       "    </tr>\n",
       "  </thead>\n",
       "  <tbody>\n",
       "    <tr>\n",
       "      <th>0</th>\n",
       "      <td>77</td>\n",
       "      <td>Event reporting 4</td>\n",
       "      <td>222.430780</td>\n",
       "      <td>Thrombotic event not related to the area inter...</td>\n",
       "    </tr>\n",
       "    <tr>\n",
       "      <th>1</th>\n",
       "      <td>120</td>\n",
       "      <td>Event reporting 5</td>\n",
       "      <td>230.814973</td>\n",
       "      <td>other</td>\n",
       "    </tr>\n",
       "    <tr>\n",
       "      <th>2</th>\n",
       "      <td>61</td>\n",
       "      <td>Event reporting 3</td>\n",
       "      <td>163.550434</td>\n",
       "      <td>Bleeding event</td>\n",
       "    </tr>\n",
       "    <tr>\n",
       "      <th>3</th>\n",
       "      <td>49</td>\n",
       "      <td>Event Reporting 1</td>\n",
       "      <td>132.170478</td>\n",
       "      <td>Thrombotic event not related to stent</td>\n",
       "    </tr>\n",
       "    <tr>\n",
       "      <th>4</th>\n",
       "      <td>126</td>\n",
       "      <td>Readmission 2</td>\n",
       "      <td>58.878041</td>\n",
       "      <td>Infection/Dehiscence</td>\n",
       "    </tr>\n",
       "  </tbody>\n",
       "</table>\n",
       "</div>"
      ],
      "text/plain": [
       "  Record ID         Event Name  Date of Event  \\\n",
       "0        77  Event reporting 4     222.430780   \n",
       "1       120  Event reporting 5     230.814973   \n",
       "2        61  Event reporting 3     163.550434   \n",
       "3        49  Event Reporting 1     132.170478   \n",
       "4       126      Readmission 2      58.878041   \n",
       "\n",
       "                                          Event Type  \n",
       "0  Thrombotic event not related to the area inter...  \n",
       "1                                              other  \n",
       "2                                     Bleeding event  \n",
       "3              Thrombotic event not related to stent  \n",
       "4                               Infection/Dehiscence  "
      ]
     },
     "execution_count": 277,
     "metadata": {},
     "output_type": "execute_result"
    }
   ],
   "source": [
    "events_df.head()"
   ]
  },
  {
   "cell_type": "code",
   "execution_count": 278,
   "metadata": {},
   "outputs": [
    {
     "data": {
      "text/html": [
       "<div>\n",
       "<style scoped>\n",
       "    .dataframe tbody tr th:only-of-type {\n",
       "        vertical-align: middle;\n",
       "    }\n",
       "\n",
       "    .dataframe tbody tr th {\n",
       "        vertical-align: top;\n",
       "    }\n",
       "\n",
       "    .dataframe thead th {\n",
       "        text-align: right;\n",
       "    }\n",
       "</style>\n",
       "<table border=\"1\" class=\"dataframe\">\n",
       "  <thead>\n",
       "    <tr style=\"text-align: right;\">\n",
       "      <th></th>\n",
       "      <th>Record ID</th>\n",
       "      <th>Visit Timepoint</th>\n",
       "      <th>Antiplatelet Therapy within 7 Days</th>\n",
       "      <th>Anticoagulation within 24 Hours</th>\n",
       "      <th>Statin within 24 Hours</th>\n",
       "      <th>Cilostazol within 7 days</th>\n",
       "      <th>Reaction Time (R) in min</th>\n",
       "      <th>Lysis at 30 min (LY30) in %</th>\n",
       "      <th>CRT Max amplitude (MA) in mm</th>\n",
       "      <th>CFF Max Amplitude( MA) in mm</th>\n",
       "      <th>...</th>\n",
       "      <th>HbA1c Baseline( within1 year of study start)</th>\n",
       "      <th>INR value</th>\n",
       "      <th>aPTT</th>\n",
       "      <th>PT value</th>\n",
       "      <th>WBC in K/uL</th>\n",
       "      <th>RBC (M/uL)</th>\n",
       "      <th>HGB(g/dL)</th>\n",
       "      <th>HCT %</th>\n",
       "      <th>PLT(K/uL)</th>\n",
       "      <th>BP prior to blood draw</th>\n",
       "    </tr>\n",
       "  </thead>\n",
       "  <tbody>\n",
       "    <tr>\n",
       "      <th>0</th>\n",
       "      <td>39</td>\n",
       "      <td>Baseline</td>\n",
       "      <td>aspirin, ticagrelor</td>\n",
       "      <td>enoxaparin (Lovenox)</td>\n",
       "      <td>Rosuvastatin</td>\n",
       "      <td>cilostazol</td>\n",
       "      <td>14.02407</td>\n",
       "      <td>1.268491</td>\n",
       "      <td>63.780276</td>\n",
       "      <td>37.48071</td>\n",
       "      <td>...</td>\n",
       "      <td>5.764743</td>\n",
       "      <td>151.757216</td>\n",
       "      <td>121.451182</td>\n",
       "      <td>6.723782</td>\n",
       "      <td>12.394838</td>\n",
       "      <td>4.334694</td>\n",
       "      <td>10.318403</td>\n",
       "      <td>47.959012</td>\n",
       "      <td>155.287685</td>\n",
       "      <td>160/95</td>\n",
       "    </tr>\n",
       "    <tr>\n",
       "      <th>1</th>\n",
       "      <td>174</td>\n",
       "      <td>Post Op day 1 (4-36 hours)</td>\n",
       "      <td>clopidogrel, celecoxib</td>\n",
       "      <td>enoxaparin (Lovenox)</td>\n",
       "      <td>Simvastatin</td>\n",
       "      <td>cilostazol</td>\n",
       "      <td>3.319251</td>\n",
       "      <td>1.449484</td>\n",
       "      <td>71.128769</td>\n",
       "      <td>26.758913</td>\n",
       "      <td>...</td>\n",
       "      <td>8.267349</td>\n",
       "      <td>54.147810</td>\n",
       "      <td>86.95418</td>\n",
       "      <td>13.928991</td>\n",
       "      <td>14.034414</td>\n",
       "      <td>2.288993</td>\n",
       "      <td>8.347336</td>\n",
       "      <td>42.414855</td>\n",
       "      <td>414.026181</td>\n",
       "      <td>243/49</td>\n",
       "    </tr>\n",
       "    <tr>\n",
       "      <th>2</th>\n",
       "      <td>T21-58</td>\n",
       "      <td>Post Op day 1 (4-36 hours)</td>\n",
       "      <td>ticagrelor</td>\n",
       "      <td>warfarin (Coumadin)</td>\n",
       "      <td>Lovastatin</td>\n",
       "      <td>cilostazol</td>\n",
       "      <td>8.031243</td>\n",
       "      <td>6.83865</td>\n",
       "      <td>54.706969</td>\n",
       "      <td>18.961554</td>\n",
       "      <td>...</td>\n",
       "      <td>5.195084</td>\n",
       "      <td>126.072895</td>\n",
       "      <td>124.331267</td>\n",
       "      <td>18.480140</td>\n",
       "      <td>13.002132</td>\n",
       "      <td>3.189830</td>\n",
       "      <td>15.962208</td>\n",
       "      <td>50.267115</td>\n",
       "      <td>495.118409</td>\n",
       "      <td>185/50</td>\n",
       "    </tr>\n",
       "    <tr>\n",
       "      <th>3</th>\n",
       "      <td>155</td>\n",
       "      <td>6hr Post</td>\n",
       "      <td>aspirin, ticagrelor</td>\n",
       "      <td>rivaroxaban</td>\n",
       "      <td>Rosuvastatin</td>\n",
       "      <td>cilostazol</td>\n",
       "      <td>11.993521</td>\n",
       "      <td>inconclusive</td>\n",
       "      <td>71.450849</td>\n",
       "      <td>25.628047</td>\n",
       "      <td>...</td>\n",
       "      <td>6.679559</td>\n",
       "      <td>22.585294</td>\n",
       "      <td>91.085144</td>\n",
       "      <td>7.809423</td>\n",
       "      <td>20.652979</td>\n",
       "      <td>5.963962</td>\n",
       "      <td>16.206970</td>\n",
       "      <td>50.746414</td>\n",
       "      <td>506.230494</td>\n",
       "      <td>128/136</td>\n",
       "    </tr>\n",
       "    <tr>\n",
       "      <th>4</th>\n",
       "      <td>47</td>\n",
       "      <td>PO Day 2</td>\n",
       "      <td>aspirin, ticagrelor</td>\n",
       "      <td>enoxaprin</td>\n",
       "      <td>atorvastatin</td>\n",
       "      <td>cilostazol</td>\n",
       "      <td>16.477918</td>\n",
       "      <td>10.810169</td>\n",
       "      <td>inconclusive machine error</td>\n",
       "      <td>49.885941</td>\n",
       "      <td>...</td>\n",
       "      <td>8.529165</td>\n",
       "      <td>98.907343</td>\n",
       "      <td>430</td>\n",
       "      <td>23.795725</td>\n",
       "      <td>24.328577</td>\n",
       "      <td>2.720811</td>\n",
       "      <td>9.905265</td>\n",
       "      <td>47.706937</td>\n",
       "      <td>139.320557</td>\n",
       "      <td>226/94</td>\n",
       "    </tr>\n",
       "  </tbody>\n",
       "</table>\n",
       "<p>5 rows × 36 columns</p>\n",
       "</div>"
      ],
      "text/plain": [
       "  Record ID             Visit Timepoint Antiplatelet Therapy within 7 Days  \\\n",
       "0        39                    Baseline                aspirin, ticagrelor   \n",
       "1       174  Post Op day 1 (4-36 hours)             clopidogrel, celecoxib   \n",
       "2    T21-58  Post Op day 1 (4-36 hours)                         ticagrelor   \n",
       "3       155                    6hr Post                aspirin, ticagrelor   \n",
       "4        47                    PO Day 2                aspirin, ticagrelor   \n",
       "\n",
       "  Anticoagulation within 24 Hours Statin within 24 Hours  \\\n",
       "0            enoxaparin (Lovenox)           Rosuvastatin   \n",
       "1            enoxaparin (Lovenox)            Simvastatin   \n",
       "2             warfarin (Coumadin)             Lovastatin   \n",
       "3                     rivaroxaban           Rosuvastatin   \n",
       "4                       enoxaprin           atorvastatin   \n",
       "\n",
       "  Cilostazol within 7 days Reaction Time (R) in min  \\\n",
       "0               cilostazol                 14.02407   \n",
       "1               cilostazol                 3.319251   \n",
       "2               cilostazol                 8.031243   \n",
       "3               cilostazol                11.993521   \n",
       "4               cilostazol                16.477918   \n",
       "\n",
       "  Lysis at 30 min (LY30) in % CRT Max amplitude (MA) in mm  \\\n",
       "0                    1.268491                    63.780276   \n",
       "1                    1.449484                    71.128769   \n",
       "2                     6.83865                    54.706969   \n",
       "3               inconclusive                     71.450849   \n",
       "4                   10.810169   inconclusive machine error   \n",
       "\n",
       "  CFF Max Amplitude( MA) in mm  ...  \\\n",
       "0                     37.48071  ...   \n",
       "1                    26.758913  ...   \n",
       "2                    18.961554  ...   \n",
       "3                    25.628047  ...   \n",
       "4                    49.885941  ...   \n",
       "\n",
       "  HbA1c Baseline( within1 year of study start)   INR value        aPTT  \\\n",
       "0                                     5.764743  151.757216  121.451182   \n",
       "1                                     8.267349   54.147810    86.95418   \n",
       "2                                     5.195084  126.072895  124.331267   \n",
       "3                                     6.679559   22.585294   91.085144   \n",
       "4                                     8.529165   98.907343         430   \n",
       "\n",
       "    PT value WBC in K/uL RBC (M/uL)  HGB(g/dL)      HCT %   PLT(K/uL)  \\\n",
       "0   6.723782   12.394838   4.334694  10.318403  47.959012  155.287685   \n",
       "1  13.928991   14.034414   2.288993   8.347336  42.414855  414.026181   \n",
       "2  18.480140   13.002132   3.189830  15.962208  50.267115  495.118409   \n",
       "3   7.809423   20.652979   5.963962  16.206970  50.746414  506.230494   \n",
       "4  23.795725   24.328577   2.720811   9.905265  47.706937  139.320557   \n",
       "\n",
       "  BP prior to blood draw  \n",
       "0                 160/95  \n",
       "1                 243/49  \n",
       "2                 185/50  \n",
       "3                128/136  \n",
       "4                 226/94  \n",
       "\n",
       "[5 rows x 36 columns]"
      ]
     },
     "execution_count": 278,
     "metadata": {},
     "output_type": "execute_result"
    }
   ],
   "source": [
    "tegValues_df.head()"
   ]
  },
  {
   "cell_type": "markdown",
   "metadata": {},
   "source": [
    "### Merge tables\n",
    "The data is currently split into three tables. To make it usable for the model, we need to combine all the important information into a two table, one with the baseline information and the other one with the TEG values\n",
    "\n",
    "All the events for every patient will be counted and added to a column called \"Events\" (Count encoding)"
   ]
  },
  {
   "cell_type": "markdown",
   "metadata": {},
   "source": [
    "Here's what the data looks like."
   ]
  },
  {
   "cell_type": "code",
   "execution_count": 280,
   "metadata": {},
   "outputs": [
    {
     "data": {
      "image/png": "[encoded data removed]",
      "text/plain": [
       "<IPython.core.display.Image object>"
      ]
     },
     "metadata": {
      "image/png": {
       "height": 200,
       "width": 300
      }
     },
     "output_type": "display_data"
    }
   ],
   "source": [
    "# Path to image\n",
    "image_path = \"./data/data_structure.png\"\n",
    "# Display the image\n",
    "display(Image(filename=image_path, width=300, height=200))\n"
   ]
  },
  {
   "cell_type": "code",
   "execution_count": 281,
   "metadata": {},
   "outputs": [
    {
     "data": {
      "text/html": [
       "<div>\n",
       "<style scoped>\n",
       "    .dataframe tbody tr th:only-of-type {\n",
       "        vertical-align: middle;\n",
       "    }\n",
       "\n",
       "    .dataframe tbody tr th {\n",
       "        vertical-align: top;\n",
       "    }\n",
       "\n",
       "    .dataframe thead th {\n",
       "        text-align: right;\n",
       "    }\n",
       "</style>\n",
       "<table border=\"1\" class=\"dataframe\">\n",
       "  <thead>\n",
       "    <tr style=\"text-align: right;\">\n",
       "      <th></th>\n",
       "      <th>Record ID</th>\n",
       "      <th>Events</th>\n",
       "    </tr>\n",
       "  </thead>\n",
       "  <tbody>\n",
       "    <tr>\n",
       "      <th>0</th>\n",
       "      <td>71</td>\n",
       "      <td>6</td>\n",
       "    </tr>\n",
       "    <tr>\n",
       "      <th>1</th>\n",
       "      <td>49</td>\n",
       "      <td>5</td>\n",
       "    </tr>\n",
       "    <tr>\n",
       "      <th>2</th>\n",
       "      <td>155</td>\n",
       "      <td>5</td>\n",
       "    </tr>\n",
       "    <tr>\n",
       "      <th>3</th>\n",
       "      <td>82</td>\n",
       "      <td>5</td>\n",
       "    </tr>\n",
       "    <tr>\n",
       "      <th>4</th>\n",
       "      <td>174</td>\n",
       "      <td>5</td>\n",
       "    </tr>\n",
       "    <tr>\n",
       "      <th>5</th>\n",
       "      <td>77</td>\n",
       "      <td>4</td>\n",
       "    </tr>\n",
       "    <tr>\n",
       "      <th>6</th>\n",
       "      <td>115</td>\n",
       "      <td>4</td>\n",
       "    </tr>\n",
       "    <tr>\n",
       "      <th>7</th>\n",
       "      <td>46</td>\n",
       "      <td>4</td>\n",
       "    </tr>\n",
       "    <tr>\n",
       "      <th>8</th>\n",
       "      <td>192</td>\n",
       "      <td>4</td>\n",
       "    </tr>\n",
       "    <tr>\n",
       "      <th>9</th>\n",
       "      <td>T21-41</td>\n",
       "      <td>4</td>\n",
       "    </tr>\n",
       "    <tr>\n",
       "      <th>10</th>\n",
       "      <td>T21-2</td>\n",
       "      <td>4</td>\n",
       "    </tr>\n",
       "    <tr>\n",
       "      <th>11</th>\n",
       "      <td>T21-58</td>\n",
       "      <td>4</td>\n",
       "    </tr>\n",
       "    <tr>\n",
       "      <th>12</th>\n",
       "      <td>121</td>\n",
       "      <td>4</td>\n",
       "    </tr>\n",
       "    <tr>\n",
       "      <th>13</th>\n",
       "      <td>130</td>\n",
       "      <td>4</td>\n",
       "    </tr>\n",
       "    <tr>\n",
       "      <th>14</th>\n",
       "      <td>135</td>\n",
       "      <td>4</td>\n",
       "    </tr>\n",
       "    <tr>\n",
       "      <th>15</th>\n",
       "      <td>103</td>\n",
       "      <td>4</td>\n",
       "    </tr>\n",
       "    <tr>\n",
       "      <th>16</th>\n",
       "      <td>126</td>\n",
       "      <td>4</td>\n",
       "    </tr>\n",
       "    <tr>\n",
       "      <th>17</th>\n",
       "      <td>61</td>\n",
       "      <td>4</td>\n",
       "    </tr>\n",
       "    <tr>\n",
       "      <th>18</th>\n",
       "      <td>5</td>\n",
       "      <td>4</td>\n",
       "    </tr>\n",
       "    <tr>\n",
       "      <th>19</th>\n",
       "      <td>178</td>\n",
       "      <td>3</td>\n",
       "    </tr>\n",
       "    <tr>\n",
       "      <th>20</th>\n",
       "      <td>44</td>\n",
       "      <td>3</td>\n",
       "    </tr>\n",
       "    <tr>\n",
       "      <th>21</th>\n",
       "      <td>T21-49</td>\n",
       "      <td>3</td>\n",
       "    </tr>\n",
       "    <tr>\n",
       "      <th>22</th>\n",
       "      <td>186</td>\n",
       "      <td>3</td>\n",
       "    </tr>\n",
       "    <tr>\n",
       "      <th>23</th>\n",
       "      <td>147</td>\n",
       "      <td>3</td>\n",
       "    </tr>\n",
       "    <tr>\n",
       "      <th>24</th>\n",
       "      <td>62</td>\n",
       "      <td>3</td>\n",
       "    </tr>\n",
       "    <tr>\n",
       "      <th>25</th>\n",
       "      <td>57</td>\n",
       "      <td>3</td>\n",
       "    </tr>\n",
       "    <tr>\n",
       "      <th>26</th>\n",
       "      <td>10</td>\n",
       "      <td>3</td>\n",
       "    </tr>\n",
       "    <tr>\n",
       "      <th>27</th>\n",
       "      <td>87</td>\n",
       "      <td>3</td>\n",
       "    </tr>\n",
       "    <tr>\n",
       "      <th>28</th>\n",
       "      <td>69</td>\n",
       "      <td>3</td>\n",
       "    </tr>\n",
       "    <tr>\n",
       "      <th>29</th>\n",
       "      <td>39</td>\n",
       "      <td>3</td>\n",
       "    </tr>\n",
       "    <tr>\n",
       "      <th>30</th>\n",
       "      <td>T21-43</td>\n",
       "      <td>3</td>\n",
       "    </tr>\n",
       "    <tr>\n",
       "      <th>31</th>\n",
       "      <td>79</td>\n",
       "      <td>2</td>\n",
       "    </tr>\n",
       "    <tr>\n",
       "      <th>32</th>\n",
       "      <td>T21-5</td>\n",
       "      <td>2</td>\n",
       "    </tr>\n",
       "    <tr>\n",
       "      <th>33</th>\n",
       "      <td>90</td>\n",
       "      <td>2</td>\n",
       "    </tr>\n",
       "    <tr>\n",
       "      <th>34</th>\n",
       "      <td>98</td>\n",
       "      <td>2</td>\n",
       "    </tr>\n",
       "    <tr>\n",
       "      <th>35</th>\n",
       "      <td>84</td>\n",
       "      <td>2</td>\n",
       "    </tr>\n",
       "    <tr>\n",
       "      <th>36</th>\n",
       "      <td>136</td>\n",
       "      <td>2</td>\n",
       "    </tr>\n",
       "    <tr>\n",
       "      <th>37</th>\n",
       "      <td>47</td>\n",
       "      <td>2</td>\n",
       "    </tr>\n",
       "    <tr>\n",
       "      <th>38</th>\n",
       "      <td>118</td>\n",
       "      <td>2</td>\n",
       "    </tr>\n",
       "    <tr>\n",
       "      <th>39</th>\n",
       "      <td>T21-63</td>\n",
       "      <td>2</td>\n",
       "    </tr>\n",
       "    <tr>\n",
       "      <th>40</th>\n",
       "      <td>120</td>\n",
       "      <td>2</td>\n",
       "    </tr>\n",
       "    <tr>\n",
       "      <th>41</th>\n",
       "      <td>59</td>\n",
       "      <td>2</td>\n",
       "    </tr>\n",
       "    <tr>\n",
       "      <th>42</th>\n",
       "      <td>159</td>\n",
       "      <td>2</td>\n",
       "    </tr>\n",
       "    <tr>\n",
       "      <th>43</th>\n",
       "      <td>64</td>\n",
       "      <td>1</td>\n",
       "    </tr>\n",
       "    <tr>\n",
       "      <th>44</th>\n",
       "      <td>165</td>\n",
       "      <td>1</td>\n",
       "    </tr>\n",
       "    <tr>\n",
       "      <th>45</th>\n",
       "      <td>51</td>\n",
       "      <td>1</td>\n",
       "    </tr>\n",
       "    <tr>\n",
       "      <th>46</th>\n",
       "      <td>58</td>\n",
       "      <td>1</td>\n",
       "    </tr>\n",
       "    <tr>\n",
       "      <th>47</th>\n",
       "      <td>83</td>\n",
       "      <td>1</td>\n",
       "    </tr>\n",
       "    <tr>\n",
       "      <th>48</th>\n",
       "      <td>175</td>\n",
       "      <td>1</td>\n",
       "    </tr>\n",
       "    <tr>\n",
       "      <th>49</th>\n",
       "      <td>127</td>\n",
       "      <td>1</td>\n",
       "    </tr>\n",
       "    <tr>\n",
       "      <th>50</th>\n",
       "      <td>106</td>\n",
       "      <td>1</td>\n",
       "    </tr>\n",
       "  </tbody>\n",
       "</table>\n",
       "</div>"
      ],
      "text/plain": [
       "   Record ID  Events\n",
       "0         71       6\n",
       "1         49       5\n",
       "2        155       5\n",
       "3         82       5\n",
       "4        174       5\n",
       "5         77       4\n",
       "6        115       4\n",
       "7         46       4\n",
       "8        192       4\n",
       "9     T21-41       4\n",
       "10     T21-2       4\n",
       "11    T21-58       4\n",
       "12       121       4\n",
       "13       130       4\n",
       "14       135       4\n",
       "15       103       4\n",
       "16       126       4\n",
       "17        61       4\n",
       "18         5       4\n",
       "19       178       3\n",
       "20        44       3\n",
       "21    T21-49       3\n",
       "22       186       3\n",
       "23       147       3\n",
       "24        62       3\n",
       "25        57       3\n",
       "26        10       3\n",
       "27        87       3\n",
       "28        69       3\n",
       "29        39       3\n",
       "30    T21-43       3\n",
       "31        79       2\n",
       "32     T21-5       2\n",
       "33        90       2\n",
       "34        98       2\n",
       "35        84       2\n",
       "36       136       2\n",
       "37        47       2\n",
       "38       118       2\n",
       "39    T21-63       2\n",
       "40       120       2\n",
       "41        59       2\n",
       "42       159       2\n",
       "43        64       1\n",
       "44       165       1\n",
       "45        51       1\n",
       "46        58       1\n",
       "47        83       1\n",
       "48       175       1\n",
       "49       127       1\n",
       "50       106       1"
      ]
     },
     "execution_count": 281,
     "metadata": {},
     "output_type": "execute_result"
    }
   ],
   "source": [
    "# Count the number of events for each 'Record_ID' in events_df\n",
    "event_counts = events_df['Record ID'].value_counts().reset_index()\n",
    "event_counts.columns = ['Record ID', 'Events']\n",
    "event_counts"
   ]
  },
  {
   "cell_type": "code",
   "execution_count": 282,
   "metadata": {},
   "outputs": [
    {
     "data": {
      "text/html": [
       "<div>\n",
       "<style scoped>\n",
       "    .dataframe tbody tr th:only-of-type {\n",
       "        vertical-align: middle;\n",
       "    }\n",
       "\n",
       "    .dataframe tbody tr th {\n",
       "        vertical-align: top;\n",
       "    }\n",
       "\n",
       "    .dataframe thead th {\n",
       "        text-align: right;\n",
       "    }\n",
       "</style>\n",
       "<table border=\"1\" class=\"dataframe\">\n",
       "  <thead>\n",
       "    <tr style=\"text-align: right;\">\n",
       "      <th></th>\n",
       "      <th>Record ID</th>\n",
       "      <th>Visit Timepoint</th>\n",
       "      <th>Antiplatelet Therapy within 7 Days</th>\n",
       "      <th>Anticoagulation within 24 Hours</th>\n",
       "      <th>Statin within 24 Hours</th>\n",
       "      <th>Cilostazol within 7 days</th>\n",
       "      <th>Reaction Time (R) in min</th>\n",
       "      <th>Lysis at 30 min (LY30) in %</th>\n",
       "      <th>HKH MA (mm)</th>\n",
       "      <th>ActF MA (mm)</th>\n",
       "      <th>...</th>\n",
       "      <th>INR value</th>\n",
       "      <th>aPTT</th>\n",
       "      <th>PT value</th>\n",
       "      <th>WBC in K/uL</th>\n",
       "      <th>RBC (M/uL)</th>\n",
       "      <th>HGB(g/dL)</th>\n",
       "      <th>HCT %</th>\n",
       "      <th>PLT(K/uL)</th>\n",
       "      <th>BP prior to blood draw</th>\n",
       "      <th>Events</th>\n",
       "    </tr>\n",
       "  </thead>\n",
       "  <tbody>\n",
       "    <tr>\n",
       "      <th>0</th>\n",
       "      <td>39</td>\n",
       "      <td>Baseline</td>\n",
       "      <td>aspirin, ticagrelor</td>\n",
       "      <td>enoxaparin (Lovenox)</td>\n",
       "      <td>Rosuvastatin</td>\n",
       "      <td>cilostazol</td>\n",
       "      <td>14.02407</td>\n",
       "      <td>1.268491</td>\n",
       "      <td>60.551078</td>\n",
       "      <td>4.005524</td>\n",
       "      <td>...</td>\n",
       "      <td>151.757216</td>\n",
       "      <td>121.451182</td>\n",
       "      <td>6.723782</td>\n",
       "      <td>12.394838</td>\n",
       "      <td>4.334694</td>\n",
       "      <td>10.318403</td>\n",
       "      <td>47.959012</td>\n",
       "      <td>155.287685</td>\n",
       "      <td>160/95</td>\n",
       "      <td>3.0</td>\n",
       "    </tr>\n",
       "    <tr>\n",
       "      <th>1</th>\n",
       "      <td>174</td>\n",
       "      <td>Post Op day 1 (4-36 hours)</td>\n",
       "      <td>clopidogrel, celecoxib</td>\n",
       "      <td>enoxaparin (Lovenox)</td>\n",
       "      <td>Simvastatin</td>\n",
       "      <td>cilostazol</td>\n",
       "      <td>3.319251</td>\n",
       "      <td>1.449484</td>\n",
       "      <td>11.638807</td>\n",
       "      <td>&gt;30.0</td>\n",
       "      <td>...</td>\n",
       "      <td>54.147810</td>\n",
       "      <td>86.95418</td>\n",
       "      <td>13.928991</td>\n",
       "      <td>14.034414</td>\n",
       "      <td>2.288993</td>\n",
       "      <td>8.347336</td>\n",
       "      <td>42.414855</td>\n",
       "      <td>414.026181</td>\n",
       "      <td>243/49</td>\n",
       "      <td>5.0</td>\n",
       "    </tr>\n",
       "    <tr>\n",
       "      <th>2</th>\n",
       "      <td>T21-58</td>\n",
       "      <td>Post Op day 1 (4-36 hours)</td>\n",
       "      <td>ticagrelor</td>\n",
       "      <td>warfarin (Coumadin)</td>\n",
       "      <td>Lovastatin</td>\n",
       "      <td>cilostazol</td>\n",
       "      <td>8.031243</td>\n",
       "      <td>6.83865</td>\n",
       "      <td>34.369101</td>\n",
       "      <td>2.900351</td>\n",
       "      <td>...</td>\n",
       "      <td>126.072895</td>\n",
       "      <td>124.331267</td>\n",
       "      <td>18.480140</td>\n",
       "      <td>13.002132</td>\n",
       "      <td>3.189830</td>\n",
       "      <td>15.962208</td>\n",
       "      <td>50.267115</td>\n",
       "      <td>495.118409</td>\n",
       "      <td>185/50</td>\n",
       "      <td>4.0</td>\n",
       "    </tr>\n",
       "    <tr>\n",
       "      <th>3</th>\n",
       "      <td>155</td>\n",
       "      <td>6hr Post</td>\n",
       "      <td>aspirin, ticagrelor</td>\n",
       "      <td>rivaroxaban</td>\n",
       "      <td>Rosuvastatin</td>\n",
       "      <td>cilostazol</td>\n",
       "      <td>11.993521</td>\n",
       "      <td>inconclusive</td>\n",
       "      <td>24.09067</td>\n",
       "      <td>12.91638</td>\n",
       "      <td>...</td>\n",
       "      <td>22.585294</td>\n",
       "      <td>91.085144</td>\n",
       "      <td>7.809423</td>\n",
       "      <td>20.652979</td>\n",
       "      <td>5.963962</td>\n",
       "      <td>16.206970</td>\n",
       "      <td>50.746414</td>\n",
       "      <td>506.230494</td>\n",
       "      <td>128/136</td>\n",
       "      <td>5.0</td>\n",
       "    </tr>\n",
       "    <tr>\n",
       "      <th>4</th>\n",
       "      <td>47</td>\n",
       "      <td>PO Day 2</td>\n",
       "      <td>aspirin, ticagrelor</td>\n",
       "      <td>enoxaprin</td>\n",
       "      <td>atorvastatin</td>\n",
       "      <td>cilostazol</td>\n",
       "      <td>16.477918</td>\n",
       "      <td>10.810169</td>\n",
       "      <td>25.960299</td>\n",
       "      <td>6.511959</td>\n",
       "      <td>...</td>\n",
       "      <td>98.907343</td>\n",
       "      <td>430</td>\n",
       "      <td>23.795725</td>\n",
       "      <td>24.328577</td>\n",
       "      <td>2.720811</td>\n",
       "      <td>9.905265</td>\n",
       "      <td>47.706937</td>\n",
       "      <td>139.320557</td>\n",
       "      <td>226/94</td>\n",
       "      <td>2.0</td>\n",
       "    </tr>\n",
       "  </tbody>\n",
       "</table>\n",
       "<p>5 rows × 35 columns</p>\n",
       "</div>"
      ],
      "text/plain": [
       "  Record ID             Visit Timepoint Antiplatelet Therapy within 7 Days  \\\n",
       "0        39                    Baseline                aspirin, ticagrelor   \n",
       "1       174  Post Op day 1 (4-36 hours)             clopidogrel, celecoxib   \n",
       "2    T21-58  Post Op day 1 (4-36 hours)                         ticagrelor   \n",
       "3       155                    6hr Post                aspirin, ticagrelor   \n",
       "4        47                    PO Day 2                aspirin, ticagrelor   \n",
       "\n",
       "  Anticoagulation within 24 Hours Statin within 24 Hours  \\\n",
       "0            enoxaparin (Lovenox)           Rosuvastatin   \n",
       "1            enoxaparin (Lovenox)            Simvastatin   \n",
       "2             warfarin (Coumadin)             Lovastatin   \n",
       "3                     rivaroxaban           Rosuvastatin   \n",
       "4                       enoxaprin           atorvastatin   \n",
       "\n",
       "  Cilostazol within 7 days Reaction Time (R) in min  \\\n",
       "0               cilostazol                 14.02407   \n",
       "1               cilostazol                 3.319251   \n",
       "2               cilostazol                 8.031243   \n",
       "3               cilostazol                11.993521   \n",
       "4               cilostazol                16.477918   \n",
       "\n",
       "  Lysis at 30 min (LY30) in % HKH MA (mm) ActF MA (mm)  ...   INR value  \\\n",
       "0                    1.268491   60.551078     4.005524  ...  151.757216   \n",
       "1                    1.449484   11.638807        >30.0  ...   54.147810   \n",
       "2                     6.83865   34.369101     2.900351  ...  126.072895   \n",
       "3               inconclusive     24.09067     12.91638  ...   22.585294   \n",
       "4                   10.810169   25.960299     6.511959  ...   98.907343   \n",
       "\n",
       "         aPTT   PT value WBC in K/uL RBC (M/uL)  HGB(g/dL)      HCT %  \\\n",
       "0  121.451182   6.723782   12.394838   4.334694  10.318403  47.959012   \n",
       "1    86.95418  13.928991   14.034414   2.288993   8.347336  42.414855   \n",
       "2  124.331267  18.480140   13.002132   3.189830  15.962208  50.267115   \n",
       "3   91.085144   7.809423   20.652979   5.963962  16.206970  50.746414   \n",
       "4         430  23.795725   24.328577   2.720811   9.905265  47.706937   \n",
       "\n",
       "    PLT(K/uL) BP prior to blood draw Events  \n",
       "0  155.287685                 160/95    3.0  \n",
       "1  414.026181                 243/49    5.0  \n",
       "2  495.118409                 185/50    4.0  \n",
       "3  506.230494                128/136    5.0  \n",
       "4  139.320557                 226/94    2.0  \n",
       "\n",
       "[5 rows x 35 columns]"
      ]
     },
     "execution_count": 282,
     "metadata": {},
     "output_type": "execute_result"
    }
   ],
   "source": [
    "# Merge the event counts with the baseline and teg values\n",
    "tegValues_df = tegValues_df.merge(event_counts, on='Record ID', how='left')\n",
    "baseline_df = baseline_df.merge(event_counts, on='Record ID', how='left')\n",
    "\n",
    "# Fill NaN values in the 'event_count' column with 0\n",
    "tegValues_df['Events'].fillna(0, inplace=True)\n",
    "baseline_df['Events'].fillna(0, inplace=True)\n",
    "tegValues_df.head()"
   ]
  },
  {
   "cell_type": "code",
   "execution_count": 283,
   "metadata": {},
   "outputs": [
    {
     "data": {
      "text/html": [
       "<div>\n",
       "<style scoped>\n",
       "    .dataframe tbody tr th:only-of-type {\n",
       "        vertical-align: middle;\n",
       "    }\n",
       "\n",
       "    .dataframe tbody tr th {\n",
       "        vertical-align: top;\n",
       "    }\n",
       "\n",
       "    .dataframe thead th {\n",
       "        text-align: right;\n",
       "    }\n",
       "</style>\n",
       "<table border=\"1\" class=\"dataframe\">\n",
       "  <thead>\n",
       "    <tr style=\"text-align: right;\">\n",
       "      <th></th>\n",
       "      <th>Record ID</th>\n",
       "      <th>Age</th>\n",
       "      <th>Sex</th>\n",
       "      <th>White</th>\n",
       "      <th>Extremity</th>\n",
       "      <th>Artery affected</th>\n",
       "      <th>BMI</th>\n",
       "      <th>Tobacco Use (1 current 2 former, 3 none)</th>\n",
       "      <th>Diabetes</th>\n",
       "      <th>Hypertension</th>\n",
       "      <th>...</th>\n",
       "      <th>Does the patient have a history of solid organ transplant?</th>\n",
       "      <th>EGFR (mL/min/1.73m2)</th>\n",
       "      <th>Has subject had previous intervention of the index limb?</th>\n",
       "      <th>Previous occluded stents</th>\n",
       "      <th>Rutherford Score</th>\n",
       "      <th>ABI Right</th>\n",
       "      <th>ABI left</th>\n",
       "      <th>Intervention Classification</th>\n",
       "      <th>Intervention Type</th>\n",
       "      <th>Events</th>\n",
       "    </tr>\n",
       "  </thead>\n",
       "  <tbody>\n",
       "    <tr>\n",
       "      <th>0</th>\n",
       "      <td>39</td>\n",
       "      <td>81</td>\n",
       "      <td>Male</td>\n",
       "      <td>1</td>\n",
       "      <td>left</td>\n",
       "      <td>common femoral, SFA, popliteal, anterior tibia...</td>\n",
       "      <td>40.373643</td>\n",
       "      <td>current within the last year ( &lt; 1 pack a day)</td>\n",
       "      <td>1</td>\n",
       "      <td>0</td>\n",
       "      <td>...</td>\n",
       "      <td>No</td>\n",
       "      <td>22.03354</td>\n",
       "      <td>Yes</td>\n",
       "      <td>0</td>\n",
       "      <td>4.717162</td>\n",
       "      <td>0.859011</td>\n",
       "      <td>0.104522</td>\n",
       "      <td>Open</td>\n",
       "      <td>angioplasty</td>\n",
       "      <td>3.0</td>\n",
       "    </tr>\n",
       "    <tr>\n",
       "      <th>1</th>\n",
       "      <td>174</td>\n",
       "      <td>70</td>\n",
       "      <td>Male</td>\n",
       "      <td>0</td>\n",
       "      <td>Bilateral</td>\n",
       "      <td>common femoral, SFA, popliteal, posterior tibi...</td>\n",
       "      <td>15.619750</td>\n",
       "      <td>current within the last year (  &gt; or = 1 pack ...</td>\n",
       "      <td>0</td>\n",
       "      <td>1</td>\n",
       "      <td>...</td>\n",
       "      <td>No</td>\n",
       "      <td>&gt;60</td>\n",
       "      <td>0</td>\n",
       "      <td>0</td>\n",
       "      <td>3.561872</td>\n",
       "      <td>0.809203</td>\n",
       "      <td>0.916329</td>\n",
       "      <td>Open</td>\n",
       "      <td>bypass revision</td>\n",
       "      <td>5.0</td>\n",
       "    </tr>\n",
       "    <tr>\n",
       "      <th>2</th>\n",
       "      <td>T21-58</td>\n",
       "      <td>88</td>\n",
       "      <td>Male</td>\n",
       "      <td>1</td>\n",
       "      <td>left</td>\n",
       "      <td>common femoral</td>\n",
       "      <td>37.470921</td>\n",
       "      <td>quit 1 to 10 years ago</td>\n",
       "      <td>1</td>\n",
       "      <td>0</td>\n",
       "      <td>...</td>\n",
       "      <td>Yes</td>\n",
       "      <td>22.006291</td>\n",
       "      <td>No</td>\n",
       "      <td>0</td>\n",
       "      <td>3.659894</td>\n",
       "      <td>1.240163</td>\n",
       "      <td>0.13404</td>\n",
       "      <td>Endo</td>\n",
       "      <td>angioplasty, stent, endarterectomy</td>\n",
       "      <td>4.0</td>\n",
       "    </tr>\n",
       "    <tr>\n",
       "      <th>3</th>\n",
       "      <td>155</td>\n",
       "      <td>78</td>\n",
       "      <td>Male</td>\n",
       "      <td>0</td>\n",
       "      <td>right</td>\n",
       "      <td>SFA, anterior tibial, posterior tibial, extern...</td>\n",
       "      <td>15.888214</td>\n",
       "      <td>quit 1 to 10 years ago</td>\n",
       "      <td>0</td>\n",
       "      <td>0</td>\n",
       "      <td>...</td>\n",
       "      <td>No</td>\n",
       "      <td>6.906499</td>\n",
       "      <td>Yes</td>\n",
       "      <td>Yes</td>\n",
       "      <td>3.525905</td>\n",
       "      <td>0.760655</td>\n",
       "      <td>inaudible</td>\n",
       "      <td>Endo</td>\n",
       "      <td>angioplasty, bypass</td>\n",
       "      <td>5.0</td>\n",
       "    </tr>\n",
       "    <tr>\n",
       "      <th>4</th>\n",
       "      <td>47</td>\n",
       "      <td>84</td>\n",
       "      <td>Female</td>\n",
       "      <td>0</td>\n",
       "      <td>right</td>\n",
       "      <td>SFA, external iliac</td>\n",
       "      <td>31.979733</td>\n",
       "      <td>Past, quit &gt;10 year ago</td>\n",
       "      <td>1</td>\n",
       "      <td>1</td>\n",
       "      <td>...</td>\n",
       "      <td>Yes</td>\n",
       "      <td>11.809767</td>\n",
       "      <td>0</td>\n",
       "      <td>0</td>\n",
       "      <td>1.663111</td>\n",
       "      <td>0.329114</td>\n",
       "      <td>0.244715</td>\n",
       "      <td>Open</td>\n",
       "      <td>bypass revision</td>\n",
       "      <td>2.0</td>\n",
       "    </tr>\n",
       "  </tbody>\n",
       "</table>\n",
       "<p>5 rows × 31 columns</p>\n",
       "</div>"
      ],
      "text/plain": [
       "  Record ID  Age     Sex  White  Extremity  \\\n",
       "0        39   81    Male      1       left   \n",
       "1       174   70    Male      0  Bilateral   \n",
       "2    T21-58   88    Male      1       left   \n",
       "3       155   78    Male      0      right   \n",
       "4        47   84  Female      0      right   \n",
       "\n",
       "                                     Artery affected        BMI  \\\n",
       "0  common femoral, SFA, popliteal, anterior tibia...  40.373643   \n",
       "1  common femoral, SFA, popliteal, posterior tibi...  15.619750   \n",
       "2                                     common femoral  37.470921   \n",
       "3  SFA, anterior tibial, posterior tibial, extern...  15.888214   \n",
       "4                                SFA, external iliac  31.979733   \n",
       "\n",
       "            Tobacco Use (1 current 2 former, 3 none)  Diabetes  Hypertension  \\\n",
       "0     current within the last year ( < 1 pack a day)         1             0   \n",
       "1  current within the last year (  > or = 1 pack ...         0             1   \n",
       "2                             quit 1 to 10 years ago         1             0   \n",
       "3                             quit 1 to 10 years ago         0             0   \n",
       "4                            Past, quit >10 year ago         1             1   \n",
       "\n",
       "   ...  Does the patient have a history of solid organ transplant?  \\\n",
       "0  ...                                                 No            \n",
       "1  ...                                                 No            \n",
       "2  ...                                                Yes            \n",
       "3  ...                                                 No            \n",
       "4  ...                                                Yes            \n",
       "\n",
       "  EGFR (mL/min/1.73m2)  \\\n",
       "0             22.03354   \n",
       "1                  >60   \n",
       "2            22.006291   \n",
       "3             6.906499   \n",
       "4            11.809767   \n",
       "\n",
       "  Has subject had previous intervention of the index limb?  \\\n",
       "0                                                Yes         \n",
       "1                                                  0         \n",
       "2                                                 No         \n",
       "3                                                Yes         \n",
       "4                                                  0         \n",
       "\n",
       "  Previous occluded stents  Rutherford Score  ABI Right   ABI left  \\\n",
       "0                        0          4.717162   0.859011   0.104522   \n",
       "1                        0          3.561872   0.809203   0.916329   \n",
       "2                        0          3.659894   1.240163    0.13404   \n",
       "3                      Yes          3.525905   0.760655  inaudible   \n",
       "4                        0          1.663111   0.329114   0.244715   \n",
       "\n",
       "  Intervention Classification                   Intervention Type Events  \n",
       "0                        Open                         angioplasty    3.0  \n",
       "1                        Open                     bypass revision    5.0  \n",
       "2                        Endo  angioplasty, stent, endarterectomy    4.0  \n",
       "3                        Endo                 angioplasty, bypass    5.0  \n",
       "4                        Open                     bypass revision    2.0  \n",
       "\n",
       "[5 rows x 31 columns]"
      ]
     },
     "execution_count": 283,
     "metadata": {},
     "output_type": "execute_result"
    }
   ],
   "source": [
    "baseline_df.head()"
   ]
  },
  {
   "cell_type": "code",
   "execution_count": 284,
   "metadata": {},
   "outputs": [],
   "source": [
    "# Save in excel\n",
    "excel_file = \"./data/merged_data.xlsx\"\n",
    "\n",
    "# Create an Excel writer object\n",
    "with pd.ExcelWriter(excel_file, engine='xlsxwriter') as writer:\n",
    "    # Write each DataFrame to a different Excel sheet\n",
    "    tegValues_df.to_excel(writer, sheet_name='TEG values', index=False)\n",
    "    baseline_df.to_excel(writer, sheet_name='Baseline', index=False)\n",
    "\n"
   ]
  },
  {
   "cell_type": "markdown",
   "metadata": {},
   "source": [
    "### Data transformations\n",
    "All columns are being transformed to the best fitting format, according to the information they hold and effectively removing any typos."
   ]
  },
  {
   "cell_type": "code",
   "execution_count": 285,
   "metadata": {},
   "outputs": [],
   "source": [
    "# Clean df in new copy\n",
    "clean_TEG_df = tegValues_df.copy()\n",
    "clean_baseline_df = baseline_df.copy()"
   ]
  },
  {
   "cell_type": "markdown",
   "metadata": {},
   "source": [
    "#### Number\n",
    "Baseline:\n",
    "- Age\n",
    "- BMI\n",
    "- Clotting Disorder\n",
    "- EGFR (mL/min/1.73m2)\n",
    "- BP prior to blood draw\n",
    "- ABI Right\n",
    "- ABI Left\n",
    "- Rutherford Score\n",
    "\n",
    "TEG:\n",
    "- TEG values\n",
    "- Visit Timepoint\n"
   ]
  },
  {
   "cell_type": "code",
   "execution_count": 286,
   "metadata": {},
   "outputs": [
    {
     "data": {
      "text/plain": [
       "['Reaction Time (R) in min',\n",
       " 'Lysis at 30 min (LY30) in %',\n",
       " 'HKH MA (mm)',\n",
       " 'ActF MA (mm)',\n",
       " 'ADP MA (mm)',\n",
       " 'AA MA(mm)',\n",
       " 'ADP % Aggregation',\n",
       " 'ADP % Inhibition',\n",
       " 'AA % Aggregation',\n",
       " 'AA % Inhibition',\n",
       " 'CK R(min)',\n",
       " 'CK K (min)',\n",
       " 'CK angle( deg)',\n",
       " 'CK MA (mm)',\n",
       " 'CRT MA(mm)',\n",
       " 'CKH R (min)',\n",
       " 'CFF MA(mm)',\n",
       " 'CFF FLEV(mg/dL)',\n",
       " 'HbA1c Baseline( within1 year of study start)',\n",
       " 'INR value',\n",
       " 'aPTT',\n",
       " 'PT value',\n",
       " 'WBC in K/uL',\n",
       " 'RBC (M/uL)',\n",
       " 'HGB(g/dL)',\n",
       " 'HCT %',\n",
       " 'PLT(K/uL)']"
      ]
     },
     "execution_count": 286,
     "metadata": {},
     "output_type": "execute_result"
    }
   ],
   "source": [
    "# Find teg values column\n",
    "columns_to_exclude = ['Record ID', 'Visit Timepoint', 'Antiplatelet Therapy within 7 Days',\n",
    "                      'Anticoagulation within 24 Hours', 'Statin within 24 Hours', 'Cilostazol within 7 days',\n",
    "                      'BP prior to blood draw', 'Events']\n",
    "\n",
    "tegValues = [col for col in tegValues_df.columns.values if col not in columns_to_exclude]\n",
    "tegValues"
   ]
  },
  {
   "cell_type": "code",
   "execution_count": 287,
   "metadata": {},
   "outputs": [],
   "source": [
    "number_columns_baseline = [\"Age\",\"BMI\", \"Clotting Disorder\", \"EGFR (mL/min/1.73m2)\", \"ABI Right\", \"ABI left\", \"Rutherford Score\"]\n",
    "number_columns_teg = [\"Visit Timepoint\", \"BP prior to blood draw\"]+tegValues"
   ]
  },
  {
   "cell_type": "markdown",
   "metadata": {},
   "source": [
    "Visualize the values and their types to identify the kind of changes needed"
   ]
  },
  {
   "cell_type": "code",
   "execution_count": 288,
   "metadata": {},
   "outputs": [
    {
     "data": {
      "text/plain": [
       "Visit Timepoint                                  object\n",
       "BP prior to blood draw                           object\n",
       "Reaction Time (R) in min                         object\n",
       "Lysis at 30 min (LY30) in %                      object\n",
       "HKH MA (mm)                                      object\n",
       "ActF MA (mm)                                     object\n",
       "ADP MA (mm)                                      object\n",
       "AA MA(mm)                                        object\n",
       "ADP % Aggregation                                object\n",
       "ADP % Inhibition                                 object\n",
       "AA % Aggregation                                 object\n",
       "AA % Inhibition                                  object\n",
       "CK R(min)                                        object\n",
       "CK K (min)                                       object\n",
       "CK angle( deg)                                   object\n",
       "CK MA (mm)                                       object\n",
       "CRT MA(mm)                                       object\n",
       "CKH R (min)                                      object\n",
       "CFF MA(mm)                                       object\n",
       "CFF FLEV(mg/dL)                                  object\n",
       "HbA1c Baseline( within1 year of study start)    float64\n",
       "INR value                                       float64\n",
       "aPTT                                             object\n",
       "PT value                                        float64\n",
       "WBC in K/uL                                     float64\n",
       "RBC (M/uL)                                      float64\n",
       "HGB(g/dL)                                       float64\n",
       "HCT %                                           float64\n",
       "PLT(K/uL)                                       float64\n",
       "dtype: object"
      ]
     },
     "execution_count": 288,
     "metadata": {},
     "output_type": "execute_result"
    }
   ],
   "source": [
    "clean_TEG_df[number_columns_teg].dtypes\n"
   ]
  },
  {
   "cell_type": "code",
   "execution_count": 289,
   "metadata": {},
   "outputs": [
    {
     "data": {
      "text/plain": [
       "Age                       int64\n",
       "BMI                     float64\n",
       "Clotting Disorder         int64\n",
       "EGFR (mL/min/1.73m2)     object\n",
       "ABI Right                object\n",
       "ABI left                 object\n",
       "Rutherford Score         object\n",
       "dtype: object"
      ]
     },
     "execution_count": 289,
     "metadata": {},
     "output_type": "execute_result"
    }
   ],
   "source": [
    "clean_baseline_df[number_columns_baseline].dtypes"
   ]
  },
  {
   "cell_type": "markdown",
   "metadata": {},
   "source": [
    "Visualize the values "
   ]
  },
  {
   "cell_type": "code",
   "execution_count": 290,
   "metadata": {},
   "outputs": [
    {
     "data": {
      "text/html": [
       "<div>\n",
       "<style scoped>\n",
       "    .dataframe tbody tr th:only-of-type {\n",
       "        vertical-align: middle;\n",
       "    }\n",
       "\n",
       "    .dataframe tbody tr th {\n",
       "        vertical-align: top;\n",
       "    }\n",
       "\n",
       "    .dataframe thead th {\n",
       "        text-align: right;\n",
       "    }\n",
       "</style>\n",
       "<table border=\"1\" class=\"dataframe\">\n",
       "  <thead>\n",
       "    <tr style=\"text-align: right;\">\n",
       "      <th></th>\n",
       "      <th>Visit Timepoint</th>\n",
       "      <th>BP prior to blood draw</th>\n",
       "      <th>Reaction Time (R) in min</th>\n",
       "      <th>Lysis at 30 min (LY30) in %</th>\n",
       "      <th>HKH MA (mm)</th>\n",
       "      <th>ActF MA (mm)</th>\n",
       "      <th>ADP MA (mm)</th>\n",
       "      <th>AA MA(mm)</th>\n",
       "      <th>ADP % Aggregation</th>\n",
       "      <th>ADP % Inhibition</th>\n",
       "      <th>...</th>\n",
       "      <th>CFF FLEV(mg/dL)</th>\n",
       "      <th>HbA1c Baseline( within1 year of study start)</th>\n",
       "      <th>INR value</th>\n",
       "      <th>aPTT</th>\n",
       "      <th>PT value</th>\n",
       "      <th>WBC in K/uL</th>\n",
       "      <th>RBC (M/uL)</th>\n",
       "      <th>HGB(g/dL)</th>\n",
       "      <th>HCT %</th>\n",
       "      <th>PLT(K/uL)</th>\n",
       "    </tr>\n",
       "  </thead>\n",
       "  <tbody>\n",
       "    <tr>\n",
       "      <th>0</th>\n",
       "      <td>Baseline</td>\n",
       "      <td>160/95</td>\n",
       "      <td>14.02407</td>\n",
       "      <td>1.268491</td>\n",
       "      <td>60.551078</td>\n",
       "      <td>4.005524</td>\n",
       "      <td>33.115271</td>\n",
       "      <td>66.890611</td>\n",
       "      <td>7.101021</td>\n",
       "      <td>24.874173</td>\n",
       "      <td>...</td>\n",
       "      <td>1150.210716</td>\n",
       "      <td>5.764743</td>\n",
       "      <td>151.757216</td>\n",
       "      <td>121.451182</td>\n",
       "      <td>6.723782</td>\n",
       "      <td>12.394838</td>\n",
       "      <td>4.334694</td>\n",
       "      <td>10.318403</td>\n",
       "      <td>47.959012</td>\n",
       "      <td>155.287685</td>\n",
       "    </tr>\n",
       "    <tr>\n",
       "      <th>1</th>\n",
       "      <td>Post Op day 1 (4-36 hours)</td>\n",
       "      <td>243/49</td>\n",
       "      <td>3.319251</td>\n",
       "      <td>1.449484</td>\n",
       "      <td>11.638807</td>\n",
       "      <td>&gt;30.0</td>\n",
       "      <td>48.117204</td>\n",
       "      <td>28.182542</td>\n",
       "      <td>74.891506</td>\n",
       "      <td>24.730532</td>\n",
       "      <td>...</td>\n",
       "      <td>911.256002</td>\n",
       "      <td>8.267349</td>\n",
       "      <td>54.147810</td>\n",
       "      <td>86.95418</td>\n",
       "      <td>13.928991</td>\n",
       "      <td>14.034414</td>\n",
       "      <td>2.288993</td>\n",
       "      <td>8.347336</td>\n",
       "      <td>42.414855</td>\n",
       "      <td>414.026181</td>\n",
       "    </tr>\n",
       "    <tr>\n",
       "      <th>2</th>\n",
       "      <td>Post Op day 1 (4-36 hours)</td>\n",
       "      <td>185/50</td>\n",
       "      <td>8.031243</td>\n",
       "      <td>6.83865</td>\n",
       "      <td>34.369101</td>\n",
       "      <td>2.900351</td>\n",
       "      <td>38.127375</td>\n",
       "      <td>83.103689</td>\n",
       "      <td>54.041213</td>\n",
       "      <td>4.576856</td>\n",
       "      <td>...</td>\n",
       "      <td>503.002443</td>\n",
       "      <td>5.195084</td>\n",
       "      <td>126.072895</td>\n",
       "      <td>124.331267</td>\n",
       "      <td>18.480140</td>\n",
       "      <td>13.002132</td>\n",
       "      <td>3.189830</td>\n",
       "      <td>15.962208</td>\n",
       "      <td>50.267115</td>\n",
       "      <td>495.118409</td>\n",
       "    </tr>\n",
       "    <tr>\n",
       "      <th>3</th>\n",
       "      <td>6hr Post</td>\n",
       "      <td>128/136</td>\n",
       "      <td>11.993521</td>\n",
       "      <td>inconclusive</td>\n",
       "      <td>24.09067</td>\n",
       "      <td>12.91638</td>\n",
       "      <td>&lt;10.0</td>\n",
       "      <td>29.07214</td>\n",
       "      <td>34.836606</td>\n",
       "      <td>*</td>\n",
       "      <td>...</td>\n",
       "      <td>476/3</td>\n",
       "      <td>6.679559</td>\n",
       "      <td>22.585294</td>\n",
       "      <td>91.085144</td>\n",
       "      <td>7.809423</td>\n",
       "      <td>20.652979</td>\n",
       "      <td>5.963962</td>\n",
       "      <td>16.206970</td>\n",
       "      <td>50.746414</td>\n",
       "      <td>506.230494</td>\n",
       "    </tr>\n",
       "    <tr>\n",
       "      <th>4</th>\n",
       "      <td>PO Day 2</td>\n",
       "      <td>226/94</td>\n",
       "      <td>16.477918</td>\n",
       "      <td>10.810169</td>\n",
       "      <td>25.960299</td>\n",
       "      <td>6.511959</td>\n",
       "      <td>41,2</td>\n",
       "      <td>21.926659</td>\n",
       "      <td>3.955611</td>\n",
       "      <td>49.750429</td>\n",
       "      <td>...</td>\n",
       "      <td>1144.458966</td>\n",
       "      <td>8.529165</td>\n",
       "      <td>98.907343</td>\n",
       "      <td>430</td>\n",
       "      <td>23.795725</td>\n",
       "      <td>24.328577</td>\n",
       "      <td>2.720811</td>\n",
       "      <td>9.905265</td>\n",
       "      <td>47.706937</td>\n",
       "      <td>139.320557</td>\n",
       "    </tr>\n",
       "  </tbody>\n",
       "</table>\n",
       "<p>5 rows × 29 columns</p>\n",
       "</div>"
      ],
      "text/plain": [
       "              Visit Timepoint BP prior to blood draw Reaction Time (R) in min  \\\n",
       "0                    Baseline                 160/95                 14.02407   \n",
       "1  Post Op day 1 (4-36 hours)                 243/49                 3.319251   \n",
       "2  Post Op day 1 (4-36 hours)                 185/50                 8.031243   \n",
       "3                    6hr Post                128/136                11.993521   \n",
       "4                    PO Day 2                 226/94                16.477918   \n",
       "\n",
       "  Lysis at 30 min (LY30) in % HKH MA (mm) ActF MA (mm) ADP MA (mm)  AA MA(mm)  \\\n",
       "0                    1.268491   60.551078     4.005524   33.115271  66.890611   \n",
       "1                    1.449484   11.638807        >30.0   48.117204  28.182542   \n",
       "2                     6.83865   34.369101     2.900351   38.127375  83.103689   \n",
       "3               inconclusive     24.09067     12.91638       <10.0   29.07214   \n",
       "4                   10.810169   25.960299     6.511959        41,2  21.926659   \n",
       "\n",
       "  ADP % Aggregation ADP % Inhibition  ... CFF FLEV(mg/dL)  \\\n",
       "0          7.101021        24.874173  ...     1150.210716   \n",
       "1         74.891506        24.730532  ...      911.256002   \n",
       "2         54.041213         4.576856  ...      503.002443   \n",
       "3         34.836606                *  ...           476/3   \n",
       "4          3.955611        49.750429  ...     1144.458966   \n",
       "\n",
       "  HbA1c Baseline( within1 year of study start)   INR value        aPTT  \\\n",
       "0                                     5.764743  151.757216  121.451182   \n",
       "1                                     8.267349   54.147810    86.95418   \n",
       "2                                     5.195084  126.072895  124.331267   \n",
       "3                                     6.679559   22.585294   91.085144   \n",
       "4                                     8.529165   98.907343         430   \n",
       "\n",
       "    PT value WBC in K/uL RBC (M/uL)  HGB(g/dL)      HCT %   PLT(K/uL)  \n",
       "0   6.723782   12.394838   4.334694  10.318403  47.959012  155.287685  \n",
       "1  13.928991   14.034414   2.288993   8.347336  42.414855  414.026181  \n",
       "2  18.480140   13.002132   3.189830  15.962208  50.267115  495.118409  \n",
       "3   7.809423   20.652979   5.963962  16.206970  50.746414  506.230494  \n",
       "4  23.795725   24.328577   2.720811   9.905265  47.706937  139.320557  \n",
       "\n",
       "[5 rows x 29 columns]"
      ]
     },
     "execution_count": 290,
     "metadata": {},
     "output_type": "execute_result"
    }
   ],
   "source": [
    "clean_TEG_df[number_columns_teg].head()"
   ]
  },
  {
   "cell_type": "code",
   "execution_count": 291,
   "metadata": {},
   "outputs": [
    {
     "data": {
      "text/html": [
       "<div>\n",
       "<style scoped>\n",
       "    .dataframe tbody tr th:only-of-type {\n",
       "        vertical-align: middle;\n",
       "    }\n",
       "\n",
       "    .dataframe tbody tr th {\n",
       "        vertical-align: top;\n",
       "    }\n",
       "\n",
       "    .dataframe thead th {\n",
       "        text-align: right;\n",
       "    }\n",
       "</style>\n",
       "<table border=\"1\" class=\"dataframe\">\n",
       "  <thead>\n",
       "    <tr style=\"text-align: right;\">\n",
       "      <th></th>\n",
       "      <th>Age</th>\n",
       "      <th>BMI</th>\n",
       "      <th>Clotting Disorder</th>\n",
       "      <th>EGFR (mL/min/1.73m2)</th>\n",
       "      <th>ABI Right</th>\n",
       "      <th>ABI left</th>\n",
       "      <th>Rutherford Score</th>\n",
       "    </tr>\n",
       "  </thead>\n",
       "  <tbody>\n",
       "    <tr>\n",
       "      <th>0</th>\n",
       "      <td>81</td>\n",
       "      <td>40.373643</td>\n",
       "      <td>2</td>\n",
       "      <td>22.03354</td>\n",
       "      <td>0.859011</td>\n",
       "      <td>0.104522</td>\n",
       "      <td>4.717162</td>\n",
       "    </tr>\n",
       "    <tr>\n",
       "      <th>1</th>\n",
       "      <td>70</td>\n",
       "      <td>15.619750</td>\n",
       "      <td>2</td>\n",
       "      <td>&gt;60</td>\n",
       "      <td>0.809203</td>\n",
       "      <td>0.916329</td>\n",
       "      <td>3.561872</td>\n",
       "    </tr>\n",
       "    <tr>\n",
       "      <th>2</th>\n",
       "      <td>88</td>\n",
       "      <td>37.470921</td>\n",
       "      <td>1</td>\n",
       "      <td>22.006291</td>\n",
       "      <td>1.240163</td>\n",
       "      <td>0.13404</td>\n",
       "      <td>3.659894</td>\n",
       "    </tr>\n",
       "    <tr>\n",
       "      <th>3</th>\n",
       "      <td>78</td>\n",
       "      <td>15.888214</td>\n",
       "      <td>0</td>\n",
       "      <td>6.906499</td>\n",
       "      <td>0.760655</td>\n",
       "      <td>inaudible</td>\n",
       "      <td>3.525905</td>\n",
       "    </tr>\n",
       "    <tr>\n",
       "      <th>4</th>\n",
       "      <td>84</td>\n",
       "      <td>31.979733</td>\n",
       "      <td>1</td>\n",
       "      <td>11.809767</td>\n",
       "      <td>0.329114</td>\n",
       "      <td>0.244715</td>\n",
       "      <td>1.663111</td>\n",
       "    </tr>\n",
       "  </tbody>\n",
       "</table>\n",
       "</div>"
      ],
      "text/plain": [
       "   Age        BMI  Clotting Disorder EGFR (mL/min/1.73m2) ABI Right  \\\n",
       "0   81  40.373643                  2             22.03354  0.859011   \n",
       "1   70  15.619750                  2                  >60  0.809203   \n",
       "2   88  37.470921                  1            22.006291  1.240163   \n",
       "3   78  15.888214                  0             6.906499  0.760655   \n",
       "4   84  31.979733                  1            11.809767  0.329114   \n",
       "\n",
       "    ABI left Rutherford Score  \n",
       "0   0.104522         4.717162  \n",
       "1   0.916329         3.561872  \n",
       "2    0.13404         3.659894  \n",
       "3  inaudible         3.525905  \n",
       "4   0.244715         1.663111  "
      ]
     },
     "execution_count": 291,
     "metadata": {},
     "output_type": "execute_result"
    }
   ],
   "source": [
    "clean_baseline_df[number_columns_baseline].head()"
   ]
  },
  {
   "cell_type": "markdown",
   "metadata": {},
   "source": [
    "Out of the columns visuzlied, age, BMI and clotting dissorder are in the right format.\n",
    "\n",
    "BP needs to be split between systolic and diastolic and made into ints.\n",
    "\n",
    "EGFR is a combination of strings and floats. The string is \">60\", which can be approximated to a big number, like 65. All the other values are floats.\n",
    "TEG values need to be transformed to floats. Some teg values have maximum value stored as \">n\", or say \"inconclusive\" or other string when data was not colected. Those vaues wil be marked as nan\n",
    "Both TEG values and EGFR boundary conditions are saved in the \"./data_boundary.json\" file\n",
    "\n",
    "Visit timepoint is in strings and need to be based on days\n",
    "\n",
    "ABI left and right have some strings that will be converted to NaN values"
   ]
  },
  {
   "cell_type": "markdown",
   "metadata": {},
   "source": [
    "Split BP into two columns (systolic and diastolic) based on \"/\" "
   ]
  },
  {
   "cell_type": "code",
   "execution_count": 292,
   "metadata": {},
   "outputs": [
    {
     "data": {
      "text/plain": [
       "BP_Systolic     Int64\n",
       "BP_Diastolic    Int64\n",
       "dtype: object"
      ]
     },
     "execution_count": 292,
     "metadata": {},
     "output_type": "execute_result"
    }
   ],
   "source": [
    "# Split the column into 'Systolic' and 'Diastolic' columns\n",
    "clean_TEG_df[['BP_Systolic', 'BP_Diastolic']] = clean_TEG_df['BP prior to blood draw'].str.split('/', expand=True)\n",
    "\n",
    "# Convert 'Systolic' and 'Diastolic' columns to integers\n",
    "clean_TEG_df['BP_Systolic'] = pd.to_numeric(clean_TEG_df['BP_Systolic'], errors='coerce').astype('Int64')\n",
    "clean_TEG_df['BP_Diastolic'] = pd.to_numeric(clean_TEG_df['BP_Diastolic'], errors='coerce').astype('Int64')\n",
    "\n",
    "# Drop the first column 'BP prior to blood draw'\n",
    "clean_TEG_df.drop(columns=['BP prior to blood draw'], inplace = True)\n",
    "number_columns_teg.remove('BP prior to blood draw')\n",
    "number_columns_teg.append('BP_Systolic')\n",
    "number_columns_teg.append('BP_Diastolic')\n",
    "\n",
    "clean_TEG_df[['BP_Systolic', 'BP_Diastolic']].dtypes\n"
   ]
  },
  {
   "cell_type": "markdown",
   "metadata": {},
   "source": [
    "Clean EGFR and TEG data with boundary values and convert all to floats"
   ]
  },
  {
   "cell_type": "code",
   "execution_count": 293,
   "metadata": {},
   "outputs": [
    {
     "data": {
      "text/plain": [
       "{'EGFR (mL/min/1.73m2)': {'>60': 60},\n",
       " 'Reaction Time (R) in min': {'>17': 18},\n",
       " 'HKH MA (mm)': {'<42': 40, '>71': 75},\n",
       " 'ActF MA (mm)': {'>30': 35, '<2': 0},\n",
       " 'ADP MA (mm)': {'<10': 5, '>72': 77},\n",
       " 'AA MA(mm)': {'<8': 5},\n",
       " 'CK R(min)': {'>17': 20},\n",
       " 'CK K (min)': {'<': '>', '>5': 8},\n",
       " 'CK angle( deg)': {'<39': 35},\n",
       " 'CK MA (mm)': {'<40': 35, '>75': 80},\n",
       " 'CRT MA(mm)': {'<40': 35, '>75': 80},\n",
       " 'CKH R (min)': {'>17': 20},\n",
       " 'CFF MA(mm)': {'>52': 55, '<4': 0},\n",
       " 'aPTT': {'>150': 160}}"
      ]
     },
     "execution_count": 293,
     "metadata": {},
     "output_type": "execute_result"
    }
   ],
   "source": [
    "# Import boundary values\n",
    "\n",
    "# Get the current working directory (base directory)\n",
    "base_directory = os.getcwd()\n",
    "\n",
    "# Define the filename\n",
    "filename = 'data_boundaries.json'\n",
    "\n",
    "# Create the full file path by joining the base directory and filename\n",
    "file_path = os.path.join(base_directory, 'data', filename)\n",
    "\n",
    "with open(file_path, 'r') as json_file:\n",
    "    boundaries = json.load(json_file)\n",
    "boundaries"
   ]
  },
  {
   "cell_type": "code",
   "execution_count": 294,
   "metadata": {},
   "outputs": [
    {
     "data": {
      "text/html": [
       "<div>\n",
       "<style scoped>\n",
       "    .dataframe tbody tr th:only-of-type {\n",
       "        vertical-align: middle;\n",
       "    }\n",
       "\n",
       "    .dataframe tbody tr th {\n",
       "        vertical-align: top;\n",
       "    }\n",
       "\n",
       "    .dataframe thead th {\n",
       "        text-align: right;\n",
       "    }\n",
       "</style>\n",
       "<table border=\"1\" class=\"dataframe\">\n",
       "  <thead>\n",
       "    <tr style=\"text-align: right;\">\n",
       "      <th></th>\n",
       "      <th>Reaction Time (R) in min</th>\n",
       "      <th>HKH MA (mm)</th>\n",
       "      <th>ActF MA (mm)</th>\n",
       "      <th>ADP MA (mm)</th>\n",
       "      <th>AA MA(mm)</th>\n",
       "      <th>CK R(min)</th>\n",
       "      <th>CK K (min)</th>\n",
       "      <th>CK angle( deg)</th>\n",
       "      <th>CK MA (mm)</th>\n",
       "      <th>CRT MA(mm)</th>\n",
       "      <th>CKH R (min)</th>\n",
       "      <th>CFF MA(mm)</th>\n",
       "      <th>aPTT</th>\n",
       "    </tr>\n",
       "  </thead>\n",
       "  <tbody>\n",
       "    <tr>\n",
       "      <th>0</th>\n",
       "      <td>14.02407</td>\n",
       "      <td>60.551078</td>\n",
       "      <td>4.005524</td>\n",
       "      <td>33.115271</td>\n",
       "      <td>66.890611</td>\n",
       "      <td>530.964454</td>\n",
       "      <td>2.74555</td>\n",
       "      <td>35</td>\n",
       "      <td>35</td>\n",
       "      <td>65.81586</td>\n",
       "      <td>31.275554</td>\n",
       "      <td>8.07024</td>\n",
       "      <td>121.451182</td>\n",
       "    </tr>\n",
       "    <tr>\n",
       "      <th>1</th>\n",
       "      <td>3.319251</td>\n",
       "      <td>11.638807</td>\n",
       "      <td>35</td>\n",
       "      <td>48.117204</td>\n",
       "      <td>28.182542</td>\n",
       "      <td>372.62224</td>\n",
       "      <td>3.262636</td>\n",
       "      <td>54.664768</td>\n",
       "      <td>23.262281</td>\n",
       "      <td>50.963654</td>\n",
       "      <td>22.664393</td>\n",
       "      <td>21.015413</td>\n",
       "      <td>86.95418</td>\n",
       "    </tr>\n",
       "    <tr>\n",
       "      <th>2</th>\n",
       "      <td>8.031243</td>\n",
       "      <td>34.369101</td>\n",
       "      <td>2.900351</td>\n",
       "      <td>38.127375</td>\n",
       "      <td>83.103689</td>\n",
       "      <td>inconclusive</td>\n",
       "      <td>3.689334</td>\n",
       "      <td>72.802085</td>\n",
       "      <td>43.586144</td>\n",
       "      <td>85.057179</td>\n",
       "      <td>2.36893</td>\n",
       "      <td>44.863261</td>\n",
       "      <td>124.331267</td>\n",
       "    </tr>\n",
       "    <tr>\n",
       "      <th>3</th>\n",
       "      <td>11.993521</td>\n",
       "      <td>24.09067</td>\n",
       "      <td>12.91638</td>\n",
       "      <td>5</td>\n",
       "      <td>29.07214</td>\n",
       "      <td>542.831464</td>\n",
       "      <td>3.553863</td>\n",
       "      <td>35</td>\n",
       "      <td>notavailable</td>\n",
       "      <td>79.124757</td>\n",
       "      <td>5.514348</td>\n",
       "      <td>34.688881</td>\n",
       "      <td>91.085144</td>\n",
       "    </tr>\n",
       "    <tr>\n",
       "      <th>4</th>\n",
       "      <td>16.477918</td>\n",
       "      <td>25.960299</td>\n",
       "      <td>6.511959</td>\n",
       "      <td>41,2</td>\n",
       "      <td>21.926659</td>\n",
       "      <td>29.84655</td>\n",
       "      <td>13.679995</td>\n",
       "      <td>53.155152</td>\n",
       "      <td>45.6435</td>\n",
       "      <td>59.05018</td>\n",
       "      <td>28.279901</td>\n",
       "      <td>40.481286</td>\n",
       "      <td>430</td>\n",
       "    </tr>\n",
       "  </tbody>\n",
       "</table>\n",
       "</div>"
      ],
      "text/plain": [
       "  Reaction Time (R) in min HKH MA (mm) ActF MA (mm) ADP MA (mm)  AA MA(mm)  \\\n",
       "0                 14.02407   60.551078     4.005524   33.115271  66.890611   \n",
       "1                 3.319251   11.638807           35   48.117204  28.182542   \n",
       "2                 8.031243   34.369101     2.900351   38.127375  83.103689   \n",
       "3                11.993521    24.09067     12.91638           5   29.07214   \n",
       "4                16.477918   25.960299     6.511959        41,2  21.926659   \n",
       "\n",
       "      CK R(min) CK K (min) CK angle( deg)    CK MA (mm) CRT MA(mm)  \\\n",
       "0    530.964454    2.74555             35            35   65.81586   \n",
       "1     372.62224   3.262636      54.664768     23.262281  50.963654   \n",
       "2  inconclusive   3.689334      72.802085     43.586144  85.057179   \n",
       "3    542.831464   3.553863             35  notavailable  79.124757   \n",
       "4      29.84655  13.679995      53.155152       45.6435   59.05018   \n",
       "\n",
       "  CKH R (min) CFF MA(mm)        aPTT  \n",
       "0   31.275554    8.07024  121.451182  \n",
       "1   22.664393  21.015413    86.95418  \n",
       "2     2.36893  44.863261  124.331267  \n",
       "3    5.514348  34.688881   91.085144  \n",
       "4   28.279901  40.481286         430  "
      ]
     },
     "execution_count": 294,
     "metadata": {},
     "output_type": "execute_result"
    }
   ],
   "source": [
    "# Replace all boundary values with their correcponding right values\n",
    "\n",
    "# EGFR\n",
    "egfr_column = 'EGFR (mL/min/1.73m2)'\n",
    "efgr_replacement = boundaries.pop(egfr_column, None)\n",
    "# Remove spaces in the column\n",
    "clean_baseline_df[egfr_column] = clean_baseline_df[egfr_column].replace(regex={r'\\s': ''})\n",
    "\n",
    "# Use a regular expression to match and replace values\n",
    "for name, replacement in efgr_replacement.items():\n",
    "    clean_baseline_df[egfr_column] = clean_baseline_df[egfr_column].replace({f'^{name}': replacement}, regex=True)\n",
    "\n",
    "# Iterate over TEG DataFrame and apply boundaries\n",
    "for column, replacement_dict in boundaries.items():\n",
    "    \n",
    "    # Remove spaces in the column\n",
    "    clean_TEG_df[column] = clean_TEG_df[column].replace(regex={r'\\s': ''})\n",
    "    \n",
    "    # Use a regular expression to match and replace values\n",
    "    for name, replacement in replacement_dict.items():\n",
    "        clean_TEG_df[column] = clean_TEG_df[column].replace({f'^{name}': replacement}, regex=True)\n",
    "\n",
    "# Show changes    \n",
    "clean_TEG_df[list(boundaries.keys())].head()"
   ]
  },
  {
   "cell_type": "code",
   "execution_count": 295,
   "metadata": {},
   "outputs": [
    {
     "data": {
      "text/plain": [
       "0    22.033540\n",
       "1    60.000000\n",
       "2    22.006291\n",
       "3     6.906499\n",
       "4    11.809767\n",
       "Name: EGFR (mL/min/1.73m2), dtype: float64"
      ]
     },
     "execution_count": 295,
     "metadata": {},
     "output_type": "execute_result"
    }
   ],
   "source": [
    "# Show changes\n",
    "clean_baseline_df[egfr_column].head()"
   ]
  },
  {
   "cell_type": "code",
   "execution_count": 296,
   "metadata": {},
   "outputs": [
    {
     "data": {
      "text/plain": [
       "dtype('float64')"
      ]
     },
     "execution_count": 296,
     "metadata": {},
     "output_type": "execute_result"
    }
   ],
   "source": [
    "# Convert  Rutherford Score and TEG values to float\n",
    "clean_baseline_df[\"Rutherford Score\"] = pd.to_numeric(clean_baseline_df[\"Rutherford Score\"], errors='coerce')\n",
    "clean_baseline_df[\"Rutherford Score\"].dtypes\n"
   ]
  },
  {
   "cell_type": "code",
   "execution_count": 297,
   "metadata": {},
   "outputs": [
    {
     "data": {
      "text/plain": [
       "Reaction Time (R) in min                        float64\n",
       "Lysis at 30 min (LY30) in %                     float64\n",
       "HKH MA (mm)                                     float64\n",
       "ActF MA (mm)                                    float64\n",
       "ADP MA (mm)                                     float64\n",
       "AA MA(mm)                                       float64\n",
       "ADP % Aggregation                               float64\n",
       "ADP % Inhibition                                float64\n",
       "AA % Aggregation                                float64\n",
       "AA % Inhibition                                 float64\n",
       "CK R(min)                                       float64\n",
       "CK K (min)                                      float64\n",
       "CK angle( deg)                                  float64\n",
       "CK MA (mm)                                      float64\n",
       "CRT MA(mm)                                      float64\n",
       "CKH R (min)                                     float64\n",
       "CFF MA(mm)                                      float64\n",
       "CFF FLEV(mg/dL)                                 float64\n",
       "HbA1c Baseline( within1 year of study start)    float64\n",
       "INR value                                       float64\n",
       "aPTT                                            float64\n",
       "PT value                                        float64\n",
       "WBC in K/uL                                     float64\n",
       "RBC (M/uL)                                      float64\n",
       "HGB(g/dL)                                       float64\n",
       "HCT %                                           float64\n",
       "PLT(K/uL)                                       float64\n",
       "dtype: object"
      ]
     },
     "execution_count": 297,
     "metadata": {},
     "output_type": "execute_result"
    }
   ],
   "source": [
    "# Loop through the columns and convert to numeric\n",
    "for column in tegValues:\n",
    "    clean_TEG_df[column] = pd.to_numeric(clean_TEG_df[column], errors='coerce')\n",
    "\n",
    "clean_TEG_df[tegValues].dtypes"
   ]
  },
  {
   "cell_type": "code",
   "execution_count": 298,
   "metadata": {},
   "outputs": [
    {
     "data": {
      "text/html": [
       "<div>\n",
       "<style scoped>\n",
       "    .dataframe tbody tr th:only-of-type {\n",
       "        vertical-align: middle;\n",
       "    }\n",
       "\n",
       "    .dataframe tbody tr th {\n",
       "        vertical-align: top;\n",
       "    }\n",
       "\n",
       "    .dataframe thead th {\n",
       "        text-align: right;\n",
       "    }\n",
       "</style>\n",
       "<table border=\"1\" class=\"dataframe\">\n",
       "  <thead>\n",
       "    <tr style=\"text-align: right;\">\n",
       "      <th></th>\n",
       "      <th>Reaction Time (R) in min</th>\n",
       "      <th>Lysis at 30 min (LY30) in %</th>\n",
       "      <th>HKH MA (mm)</th>\n",
       "      <th>ActF MA (mm)</th>\n",
       "      <th>ADP MA (mm)</th>\n",
       "      <th>AA MA(mm)</th>\n",
       "      <th>ADP % Aggregation</th>\n",
       "      <th>ADP % Inhibition</th>\n",
       "      <th>AA % Aggregation</th>\n",
       "      <th>AA % Inhibition</th>\n",
       "      <th>...</th>\n",
       "      <th>CFF FLEV(mg/dL)</th>\n",
       "      <th>HbA1c Baseline( within1 year of study start)</th>\n",
       "      <th>INR value</th>\n",
       "      <th>aPTT</th>\n",
       "      <th>PT value</th>\n",
       "      <th>WBC in K/uL</th>\n",
       "      <th>RBC (M/uL)</th>\n",
       "      <th>HGB(g/dL)</th>\n",
       "      <th>HCT %</th>\n",
       "      <th>PLT(K/uL)</th>\n",
       "    </tr>\n",
       "  </thead>\n",
       "  <tbody>\n",
       "    <tr>\n",
       "      <th>0</th>\n",
       "      <td>14.024070</td>\n",
       "      <td>1.268491</td>\n",
       "      <td>60.551078</td>\n",
       "      <td>4.005524</td>\n",
       "      <td>33.115271</td>\n",
       "      <td>66.890611</td>\n",
       "      <td>7.101021</td>\n",
       "      <td>24.874173</td>\n",
       "      <td>76.613607</td>\n",
       "      <td>245.888890</td>\n",
       "      <td>...</td>\n",
       "      <td>1150.210716</td>\n",
       "      <td>5.764743</td>\n",
       "      <td>151.757216</td>\n",
       "      <td>121.451182</td>\n",
       "      <td>6.723782</td>\n",
       "      <td>12.394838</td>\n",
       "      <td>4.334694</td>\n",
       "      <td>10.318403</td>\n",
       "      <td>47.959012</td>\n",
       "      <td>155.287685</td>\n",
       "    </tr>\n",
       "    <tr>\n",
       "      <th>1</th>\n",
       "      <td>3.319251</td>\n",
       "      <td>1.449484</td>\n",
       "      <td>11.638807</td>\n",
       "      <td>35.000000</td>\n",
       "      <td>48.117204</td>\n",
       "      <td>28.182542</td>\n",
       "      <td>74.891506</td>\n",
       "      <td>24.730532</td>\n",
       "      <td>67.281626</td>\n",
       "      <td>350.853409</td>\n",
       "      <td>...</td>\n",
       "      <td>911.256002</td>\n",
       "      <td>8.267349</td>\n",
       "      <td>54.147810</td>\n",
       "      <td>86.954180</td>\n",
       "      <td>13.928991</td>\n",
       "      <td>14.034414</td>\n",
       "      <td>2.288993</td>\n",
       "      <td>8.347336</td>\n",
       "      <td>42.414855</td>\n",
       "      <td>414.026181</td>\n",
       "    </tr>\n",
       "    <tr>\n",
       "      <th>2</th>\n",
       "      <td>8.031243</td>\n",
       "      <td>6.838650</td>\n",
       "      <td>34.369101</td>\n",
       "      <td>2.900351</td>\n",
       "      <td>38.127375</td>\n",
       "      <td>83.103689</td>\n",
       "      <td>54.041213</td>\n",
       "      <td>4.576856</td>\n",
       "      <td>NaN</td>\n",
       "      <td>172.231343</td>\n",
       "      <td>...</td>\n",
       "      <td>503.002443</td>\n",
       "      <td>5.195084</td>\n",
       "      <td>126.072895</td>\n",
       "      <td>124.331267</td>\n",
       "      <td>18.480140</td>\n",
       "      <td>13.002132</td>\n",
       "      <td>3.189830</td>\n",
       "      <td>15.962208</td>\n",
       "      <td>50.267115</td>\n",
       "      <td>495.118409</td>\n",
       "    </tr>\n",
       "    <tr>\n",
       "      <th>3</th>\n",
       "      <td>11.993521</td>\n",
       "      <td>NaN</td>\n",
       "      <td>24.090670</td>\n",
       "      <td>12.916380</td>\n",
       "      <td>5.000000</td>\n",
       "      <td>29.072140</td>\n",
       "      <td>34.836606</td>\n",
       "      <td>NaN</td>\n",
       "      <td>46.947066</td>\n",
       "      <td>201.146975</td>\n",
       "      <td>...</td>\n",
       "      <td>NaN</td>\n",
       "      <td>6.679559</td>\n",
       "      <td>22.585294</td>\n",
       "      <td>91.085144</td>\n",
       "      <td>7.809423</td>\n",
       "      <td>20.652979</td>\n",
       "      <td>5.963962</td>\n",
       "      <td>16.206970</td>\n",
       "      <td>50.746414</td>\n",
       "      <td>506.230494</td>\n",
       "    </tr>\n",
       "    <tr>\n",
       "      <th>4</th>\n",
       "      <td>16.477918</td>\n",
       "      <td>10.810169</td>\n",
       "      <td>25.960299</td>\n",
       "      <td>6.511959</td>\n",
       "      <td>NaN</td>\n",
       "      <td>21.926659</td>\n",
       "      <td>3.955611</td>\n",
       "      <td>49.750429</td>\n",
       "      <td>23.797500</td>\n",
       "      <td>274.552188</td>\n",
       "      <td>...</td>\n",
       "      <td>1144.458966</td>\n",
       "      <td>8.529165</td>\n",
       "      <td>98.907343</td>\n",
       "      <td>430.000000</td>\n",
       "      <td>23.795725</td>\n",
       "      <td>24.328577</td>\n",
       "      <td>2.720811</td>\n",
       "      <td>9.905265</td>\n",
       "      <td>47.706937</td>\n",
       "      <td>139.320557</td>\n",
       "    </tr>\n",
       "  </tbody>\n",
       "</table>\n",
       "<p>5 rows × 27 columns</p>\n",
       "</div>"
      ],
      "text/plain": [
       "   Reaction Time (R) in min  Lysis at 30 min (LY30) in %  HKH MA (mm)  \\\n",
       "0                 14.024070                     1.268491    60.551078   \n",
       "1                  3.319251                     1.449484    11.638807   \n",
       "2                  8.031243                     6.838650    34.369101   \n",
       "3                 11.993521                          NaN    24.090670   \n",
       "4                 16.477918                    10.810169    25.960299   \n",
       "\n",
       "   ActF MA (mm)  ADP MA (mm)  AA MA(mm)  ADP % Aggregation  ADP % Inhibition  \\\n",
       "0      4.005524    33.115271  66.890611           7.101021         24.874173   \n",
       "1     35.000000    48.117204  28.182542          74.891506         24.730532   \n",
       "2      2.900351    38.127375  83.103689          54.041213          4.576856   \n",
       "3     12.916380     5.000000  29.072140          34.836606               NaN   \n",
       "4      6.511959          NaN  21.926659           3.955611         49.750429   \n",
       "\n",
       "   AA % Aggregation  AA % Inhibition  ...  CFF FLEV(mg/dL)  \\\n",
       "0         76.613607       245.888890  ...      1150.210716   \n",
       "1         67.281626       350.853409  ...       911.256002   \n",
       "2               NaN       172.231343  ...       503.002443   \n",
       "3         46.947066       201.146975  ...              NaN   \n",
       "4         23.797500       274.552188  ...      1144.458966   \n",
       "\n",
       "   HbA1c Baseline( within1 year of study start)   INR value        aPTT  \\\n",
       "0                                      5.764743  151.757216  121.451182   \n",
       "1                                      8.267349   54.147810   86.954180   \n",
       "2                                      5.195084  126.072895  124.331267   \n",
       "3                                      6.679559   22.585294   91.085144   \n",
       "4                                      8.529165   98.907343  430.000000   \n",
       "\n",
       "    PT value  WBC in K/uL  RBC (M/uL)  HGB(g/dL)      HCT %   PLT(K/uL)  \n",
       "0   6.723782    12.394838    4.334694  10.318403  47.959012  155.287685  \n",
       "1  13.928991    14.034414    2.288993   8.347336  42.414855  414.026181  \n",
       "2  18.480140    13.002132    3.189830  15.962208  50.267115  495.118409  \n",
       "3   7.809423    20.652979    5.963962  16.206970  50.746414  506.230494  \n",
       "4  23.795725    24.328577    2.720811   9.905265  47.706937  139.320557  \n",
       "\n",
       "[5 rows x 27 columns]"
      ]
     },
     "execution_count": 298,
     "metadata": {},
     "output_type": "execute_result"
    }
   ],
   "source": [
    "# Show values to make sure strings were changed to NaN\n",
    "clean_TEG_df[tegValues].head()"
   ]
  },
  {
   "cell_type": "markdown",
   "metadata": {},
   "source": [
    "Change timepoints from strings to ints that represent days after the operation.\n",
    "\n",
    "All the values are saved in ./data/timepoints.json"
   ]
  },
  {
   "cell_type": "code",
   "execution_count": 299,
   "metadata": {},
   "outputs": [
    {
     "data": {
      "text/plain": [
       "{'0': ['Baseline', 'Enrollment + Baseline'],\n",
       " '1': ['6hr Post', 'PO Day 1 ( 4-36 hours)', 'Post Op day 1 (4-36 hours)'],\n",
       " '2': ['PO Day 2', 'Post op Day 2( if applicable)'],\n",
       " '3': ['PO Day 3', 'Post Op Day 3( if applicable)'],\n",
       " '4': ['PO Day 4', 'Post Op Day 4 ( if applicable)'],\n",
       " '5': ['PO day 5', 'Post Op Day 5 ( if applicable)'],\n",
       " '30': ['1M PO', '30 Day Post Procedure'],\n",
       " '90': ['3M PO', '3 Month Post procedure'],\n",
       " '180': ['6M PO', '6 month Post Procedure', 'Readmission']}"
      ]
     },
     "execution_count": 299,
     "metadata": {},
     "output_type": "execute_result"
    }
   ],
   "source": [
    "# Define the filename\n",
    "filename = 'timepoints.json'\n",
    "\n",
    "# Create the full file path by joining the base directory and filename\n",
    "file_path = os.path.join(base_directory, 'data', filename)\n",
    "\n",
    "\n",
    "with open(file_path, 'r') as json_file:\n",
    "    timepoints = json.load(json_file)\n",
    "timepoints"
   ]
  },
  {
   "cell_type": "code",
   "execution_count": 300,
   "metadata": {},
   "outputs": [],
   "source": [
    "# Create a reverse mapping dictionary\n",
    "reverse_mapping = {v: k for k, values in timepoints.items() for v in values}\n",
    "\n",
    "# Replace values using the reverse mapping\n",
    "clean_TEG_df['Days from operation'] = clean_TEG_df['Visit Timepoint'].map(reverse_mapping)\n",
    "\n",
    "# Convert the column to integer\n",
    "clean_TEG_df['Days from operation'] = clean_TEG_df['Days from operation'].astype(int)\n",
    "\n",
    "# Drop old column\n",
    "clean_TEG_df.drop(columns=['Visit Timepoint'], inplace = True)\n",
    "number_columns_teg.remove('Visit Timepoint')\n",
    "number_columns_teg.append('Days from operation')\n"
   ]
  },
  {
   "cell_type": "code",
   "execution_count": 301,
   "metadata": {},
   "outputs": [
    {
     "data": {
      "text/plain": [
       "dtype('int64')"
      ]
     },
     "execution_count": 301,
     "metadata": {},
     "output_type": "execute_result"
    }
   ],
   "source": [
    "clean_TEG_df['Days from operation'].dtype"
   ]
  },
  {
   "cell_type": "markdown",
   "metadata": {},
   "source": [
    "Convert ABI values to floats"
   ]
  },
  {
   "cell_type": "code",
   "execution_count": 302,
   "metadata": {},
   "outputs": [
    {
     "data": {
      "text/plain": [
       "ABI Right    float64\n",
       "ABI left     float64\n",
       "dtype: object"
      ]
     },
     "execution_count": 302,
     "metadata": {},
     "output_type": "execute_result"
    }
   ],
   "source": [
    "clean_baseline_df['ABI Right'] = pd.to_numeric(clean_baseline_df['ABI Right'], errors='coerce')\n",
    "clean_baseline_df['ABI left'] = pd.to_numeric(clean_baseline_df['ABI left'], errors='coerce')\n",
    "\n",
    "clean_baseline_df[['ABI Right', 'ABI left']].dtypes"
   ]
  },
  {
   "cell_type": "markdown",
   "metadata": {},
   "source": [
    "Appreciate all your work"
   ]
  },
  {
   "cell_type": "code",
   "execution_count": 303,
   "metadata": {},
   "outputs": [
    {
     "data": {
      "text/html": [
       "<div>\n",
       "<style scoped>\n",
       "    .dataframe tbody tr th:only-of-type {\n",
       "        vertical-align: middle;\n",
       "    }\n",
       "\n",
       "    .dataframe tbody tr th {\n",
       "        vertical-align: top;\n",
       "    }\n",
       "\n",
       "    .dataframe thead th {\n",
       "        text-align: right;\n",
       "    }\n",
       "</style>\n",
       "<table border=\"1\" class=\"dataframe\">\n",
       "  <thead>\n",
       "    <tr style=\"text-align: right;\">\n",
       "      <th></th>\n",
       "      <th>Age</th>\n",
       "      <th>BMI</th>\n",
       "      <th>Clotting Disorder</th>\n",
       "      <th>EGFR (mL/min/1.73m2)</th>\n",
       "      <th>ABI Right</th>\n",
       "      <th>ABI left</th>\n",
       "      <th>Rutherford Score</th>\n",
       "    </tr>\n",
       "  </thead>\n",
       "  <tbody>\n",
       "    <tr>\n",
       "      <th>0</th>\n",
       "      <td>81</td>\n",
       "      <td>40.373643</td>\n",
       "      <td>2</td>\n",
       "      <td>22.033540</td>\n",
       "      <td>0.859011</td>\n",
       "      <td>0.104522</td>\n",
       "      <td>4.717162</td>\n",
       "    </tr>\n",
       "    <tr>\n",
       "      <th>1</th>\n",
       "      <td>70</td>\n",
       "      <td>15.619750</td>\n",
       "      <td>2</td>\n",
       "      <td>60.000000</td>\n",
       "      <td>0.809203</td>\n",
       "      <td>0.916329</td>\n",
       "      <td>3.561872</td>\n",
       "    </tr>\n",
       "    <tr>\n",
       "      <th>2</th>\n",
       "      <td>88</td>\n",
       "      <td>37.470921</td>\n",
       "      <td>1</td>\n",
       "      <td>22.006291</td>\n",
       "      <td>1.240163</td>\n",
       "      <td>0.134040</td>\n",
       "      <td>3.659894</td>\n",
       "    </tr>\n",
       "    <tr>\n",
       "      <th>3</th>\n",
       "      <td>78</td>\n",
       "      <td>15.888214</td>\n",
       "      <td>0</td>\n",
       "      <td>6.906499</td>\n",
       "      <td>0.760655</td>\n",
       "      <td>NaN</td>\n",
       "      <td>3.525905</td>\n",
       "    </tr>\n",
       "    <tr>\n",
       "      <th>4</th>\n",
       "      <td>84</td>\n",
       "      <td>31.979733</td>\n",
       "      <td>1</td>\n",
       "      <td>11.809767</td>\n",
       "      <td>0.329114</td>\n",
       "      <td>0.244715</td>\n",
       "      <td>1.663111</td>\n",
       "    </tr>\n",
       "  </tbody>\n",
       "</table>\n",
       "</div>"
      ],
      "text/plain": [
       "   Age        BMI  Clotting Disorder  EGFR (mL/min/1.73m2)  ABI Right  \\\n",
       "0   81  40.373643                  2             22.033540   0.859011   \n",
       "1   70  15.619750                  2             60.000000   0.809203   \n",
       "2   88  37.470921                  1             22.006291   1.240163   \n",
       "3   78  15.888214                  0              6.906499   0.760655   \n",
       "4   84  31.979733                  1             11.809767   0.329114   \n",
       "\n",
       "   ABI left  Rutherford Score  \n",
       "0  0.104522          4.717162  \n",
       "1  0.916329          3.561872  \n",
       "2  0.134040          3.659894  \n",
       "3       NaN          3.525905  \n",
       "4  0.244715          1.663111  "
      ]
     },
     "execution_count": 303,
     "metadata": {},
     "output_type": "execute_result"
    }
   ],
   "source": [
    "clean_baseline_df[number_columns_baseline].head()"
   ]
  },
  {
   "cell_type": "code",
   "execution_count": 304,
   "metadata": {},
   "outputs": [
    {
     "data": {
      "text/html": [
       "<div>\n",
       "<style scoped>\n",
       "    .dataframe tbody tr th:only-of-type {\n",
       "        vertical-align: middle;\n",
       "    }\n",
       "\n",
       "    .dataframe tbody tr th {\n",
       "        vertical-align: top;\n",
       "    }\n",
       "\n",
       "    .dataframe thead th {\n",
       "        text-align: right;\n",
       "    }\n",
       "</style>\n",
       "<table border=\"1\" class=\"dataframe\">\n",
       "  <thead>\n",
       "    <tr style=\"text-align: right;\">\n",
       "      <th></th>\n",
       "      <th>Reaction Time (R) in min</th>\n",
       "      <th>Lysis at 30 min (LY30) in %</th>\n",
       "      <th>HKH MA (mm)</th>\n",
       "      <th>ActF MA (mm)</th>\n",
       "      <th>ADP MA (mm)</th>\n",
       "      <th>AA MA(mm)</th>\n",
       "      <th>ADP % Aggregation</th>\n",
       "      <th>ADP % Inhibition</th>\n",
       "      <th>AA % Aggregation</th>\n",
       "      <th>AA % Inhibition</th>\n",
       "      <th>...</th>\n",
       "      <th>aPTT</th>\n",
       "      <th>PT value</th>\n",
       "      <th>WBC in K/uL</th>\n",
       "      <th>RBC (M/uL)</th>\n",
       "      <th>HGB(g/dL)</th>\n",
       "      <th>HCT %</th>\n",
       "      <th>PLT(K/uL)</th>\n",
       "      <th>BP_Systolic</th>\n",
       "      <th>BP_Diastolic</th>\n",
       "      <th>Days from operation</th>\n",
       "    </tr>\n",
       "  </thead>\n",
       "  <tbody>\n",
       "    <tr>\n",
       "      <th>0</th>\n",
       "      <td>14.024070</td>\n",
       "      <td>1.268491</td>\n",
       "      <td>60.551078</td>\n",
       "      <td>4.005524</td>\n",
       "      <td>33.115271</td>\n",
       "      <td>66.890611</td>\n",
       "      <td>7.101021</td>\n",
       "      <td>24.874173</td>\n",
       "      <td>76.613607</td>\n",
       "      <td>245.888890</td>\n",
       "      <td>...</td>\n",
       "      <td>121.451182</td>\n",
       "      <td>6.723782</td>\n",
       "      <td>12.394838</td>\n",
       "      <td>4.334694</td>\n",
       "      <td>10.318403</td>\n",
       "      <td>47.959012</td>\n",
       "      <td>155.287685</td>\n",
       "      <td>160</td>\n",
       "      <td>95</td>\n",
       "      <td>0</td>\n",
       "    </tr>\n",
       "    <tr>\n",
       "      <th>1</th>\n",
       "      <td>3.319251</td>\n",
       "      <td>1.449484</td>\n",
       "      <td>11.638807</td>\n",
       "      <td>35.000000</td>\n",
       "      <td>48.117204</td>\n",
       "      <td>28.182542</td>\n",
       "      <td>74.891506</td>\n",
       "      <td>24.730532</td>\n",
       "      <td>67.281626</td>\n",
       "      <td>350.853409</td>\n",
       "      <td>...</td>\n",
       "      <td>86.954180</td>\n",
       "      <td>13.928991</td>\n",
       "      <td>14.034414</td>\n",
       "      <td>2.288993</td>\n",
       "      <td>8.347336</td>\n",
       "      <td>42.414855</td>\n",
       "      <td>414.026181</td>\n",
       "      <td>243</td>\n",
       "      <td>49</td>\n",
       "      <td>1</td>\n",
       "    </tr>\n",
       "    <tr>\n",
       "      <th>2</th>\n",
       "      <td>8.031243</td>\n",
       "      <td>6.838650</td>\n",
       "      <td>34.369101</td>\n",
       "      <td>2.900351</td>\n",
       "      <td>38.127375</td>\n",
       "      <td>83.103689</td>\n",
       "      <td>54.041213</td>\n",
       "      <td>4.576856</td>\n",
       "      <td>NaN</td>\n",
       "      <td>172.231343</td>\n",
       "      <td>...</td>\n",
       "      <td>124.331267</td>\n",
       "      <td>18.480140</td>\n",
       "      <td>13.002132</td>\n",
       "      <td>3.189830</td>\n",
       "      <td>15.962208</td>\n",
       "      <td>50.267115</td>\n",
       "      <td>495.118409</td>\n",
       "      <td>185</td>\n",
       "      <td>50</td>\n",
       "      <td>1</td>\n",
       "    </tr>\n",
       "    <tr>\n",
       "      <th>3</th>\n",
       "      <td>11.993521</td>\n",
       "      <td>NaN</td>\n",
       "      <td>24.090670</td>\n",
       "      <td>12.916380</td>\n",
       "      <td>5.000000</td>\n",
       "      <td>29.072140</td>\n",
       "      <td>34.836606</td>\n",
       "      <td>NaN</td>\n",
       "      <td>46.947066</td>\n",
       "      <td>201.146975</td>\n",
       "      <td>...</td>\n",
       "      <td>91.085144</td>\n",
       "      <td>7.809423</td>\n",
       "      <td>20.652979</td>\n",
       "      <td>5.963962</td>\n",
       "      <td>16.206970</td>\n",
       "      <td>50.746414</td>\n",
       "      <td>506.230494</td>\n",
       "      <td>128</td>\n",
       "      <td>136</td>\n",
       "      <td>1</td>\n",
       "    </tr>\n",
       "    <tr>\n",
       "      <th>4</th>\n",
       "      <td>16.477918</td>\n",
       "      <td>10.810169</td>\n",
       "      <td>25.960299</td>\n",
       "      <td>6.511959</td>\n",
       "      <td>NaN</td>\n",
       "      <td>21.926659</td>\n",
       "      <td>3.955611</td>\n",
       "      <td>49.750429</td>\n",
       "      <td>23.797500</td>\n",
       "      <td>274.552188</td>\n",
       "      <td>...</td>\n",
       "      <td>430.000000</td>\n",
       "      <td>23.795725</td>\n",
       "      <td>24.328577</td>\n",
       "      <td>2.720811</td>\n",
       "      <td>9.905265</td>\n",
       "      <td>47.706937</td>\n",
       "      <td>139.320557</td>\n",
       "      <td>226</td>\n",
       "      <td>94</td>\n",
       "      <td>2</td>\n",
       "    </tr>\n",
       "  </tbody>\n",
       "</table>\n",
       "<p>5 rows × 30 columns</p>\n",
       "</div>"
      ],
      "text/plain": [
       "   Reaction Time (R) in min  Lysis at 30 min (LY30) in %  HKH MA (mm)  \\\n",
       "0                 14.024070                     1.268491    60.551078   \n",
       "1                  3.319251                     1.449484    11.638807   \n",
       "2                  8.031243                     6.838650    34.369101   \n",
       "3                 11.993521                          NaN    24.090670   \n",
       "4                 16.477918                    10.810169    25.960299   \n",
       "\n",
       "   ActF MA (mm)  ADP MA (mm)  AA MA(mm)  ADP % Aggregation  ADP % Inhibition  \\\n",
       "0      4.005524    33.115271  66.890611           7.101021         24.874173   \n",
       "1     35.000000    48.117204  28.182542          74.891506         24.730532   \n",
       "2      2.900351    38.127375  83.103689          54.041213          4.576856   \n",
       "3     12.916380     5.000000  29.072140          34.836606               NaN   \n",
       "4      6.511959          NaN  21.926659           3.955611         49.750429   \n",
       "\n",
       "   AA % Aggregation  AA % Inhibition  ...        aPTT   PT value  WBC in K/uL  \\\n",
       "0         76.613607       245.888890  ...  121.451182   6.723782    12.394838   \n",
       "1         67.281626       350.853409  ...   86.954180  13.928991    14.034414   \n",
       "2               NaN       172.231343  ...  124.331267  18.480140    13.002132   \n",
       "3         46.947066       201.146975  ...   91.085144   7.809423    20.652979   \n",
       "4         23.797500       274.552188  ...  430.000000  23.795725    24.328577   \n",
       "\n",
       "   RBC (M/uL)  HGB(g/dL)      HCT %   PLT(K/uL)  BP_Systolic  BP_Diastolic  \\\n",
       "0    4.334694  10.318403  47.959012  155.287685          160            95   \n",
       "1    2.288993   8.347336  42.414855  414.026181          243            49   \n",
       "2    3.189830  15.962208  50.267115  495.118409          185            50   \n",
       "3    5.963962  16.206970  50.746414  506.230494          128           136   \n",
       "4    2.720811   9.905265  47.706937  139.320557          226            94   \n",
       "\n",
       "   Days from operation  \n",
       "0                    0  \n",
       "1                    1  \n",
       "2                    1  \n",
       "3                    1  \n",
       "4                    2  \n",
       "\n",
       "[5 rows x 30 columns]"
      ]
     },
     "execution_count": 304,
     "metadata": {},
     "output_type": "execute_result"
    }
   ],
   "source": [
    "clean_TEG_df[number_columns_teg].head()"
   ]
  },
  {
   "cell_type": "markdown",
   "metadata": {},
   "source": [
    "#### Booleans\n",
    "Baseline:\n",
    "- Sex\n",
    "- White\n",
    "- Diabetes\n",
    "- Hypertension\n",
    "- Hyperlipidemia\n",
    "- Coronary Artery Disease\n",
    "- History of MI \n",
    "- Functional impairment\n",
    "- Does Subject Currently have cancer?\n",
    "- Past hx of cancer\n",
    "- Hx of  DVT\n",
    "- Hx of stroke\n",
    "- Hx of pulmonary embolism:\n",
    "- Does the patient have a history of solid organ transplant?\n",
    "- Has subject had previous intervention of the index limb? \n",
    "- Previous occluded stents\n",
    "\n",
    "TEG values:\n",
    "- Cilostazol within 7 days"
   ]
  },
  {
   "cell_type": "code",
   "execution_count": 305,
   "metadata": {},
   "outputs": [
    {
     "data": {
      "text/plain": [
       "0      True\n",
       "1      True\n",
       "2      True\n",
       "3      True\n",
       "4     False\n",
       "5      True\n",
       "6     False\n",
       "7     False\n",
       "8      True\n",
       "9      True\n",
       "10     True\n",
       "11     True\n",
       "12    False\n",
       "13    False\n",
       "14     True\n",
       "15    False\n",
       "16    False\n",
       "17     True\n",
       "18    False\n",
       "19     True\n",
       "20     True\n",
       "21    False\n",
       "22     True\n",
       "23     True\n",
       "24    False\n",
       "25    False\n",
       "26    False\n",
       "27     True\n",
       "28    False\n",
       "29    False\n",
       "30    False\n",
       "31     True\n",
       "32     True\n",
       "33    False\n",
       "34    False\n",
       "35    False\n",
       "36    False\n",
       "37     True\n",
       "38     True\n",
       "39    False\n",
       "40     True\n",
       "41     True\n",
       "42    False\n",
       "43    False\n",
       "44    False\n",
       "45    False\n",
       "46    False\n",
       "47     True\n",
       "48    False\n",
       "49    False\n",
       "50     True\n",
       "51    False\n",
       "Name: Is Male, dtype: bool"
      ]
     },
     "execution_count": 305,
     "metadata": {},
     "output_type": "execute_result"
    }
   ],
   "source": [
    "# Create the 'Is Male' column based on the 'sex' column\n",
    "clean_baseline_df['Is Male'] = (clean_baseline_df['Sex'] == 'Male').astype(bool)\n",
    "\n",
    "# Drop the old 'sex' column\n",
    "clean_baseline_df.drop('Sex', axis=1, inplace=True)\n",
    "clean_baseline_df['Is Male']"
   ]
  },
  {
   "cell_type": "code",
   "execution_count": 306,
   "metadata": {},
   "outputs": [
    {
     "data": {
      "text/html": [
       "<div>\n",
       "<style scoped>\n",
       "    .dataframe tbody tr th:only-of-type {\n",
       "        vertical-align: middle;\n",
       "    }\n",
       "\n",
       "    .dataframe tbody tr th {\n",
       "        vertical-align: top;\n",
       "    }\n",
       "\n",
       "    .dataframe thead th {\n",
       "        text-align: right;\n",
       "    }\n",
       "</style>\n",
       "<table border=\"1\" class=\"dataframe\">\n",
       "  <thead>\n",
       "    <tr style=\"text-align: right;\">\n",
       "      <th></th>\n",
       "      <th>White</th>\n",
       "      <th>Diabetes</th>\n",
       "      <th>Hypertension</th>\n",
       "      <th>Hyperlipidemia (choice=None)</th>\n",
       "      <th>Coronary Artery Disease</th>\n",
       "      <th>History of MI</th>\n",
       "      <th>Functional impairment</th>\n",
       "      <th>Does Subject Currently have cancer?</th>\n",
       "      <th>Past hx of cancer</th>\n",
       "      <th>Hx of  DVT</th>\n",
       "      <th>Hx of stroke</th>\n",
       "      <th>Hx of pulmonary embolism</th>\n",
       "      <th>Does the patient have a history of solid organ transplant?</th>\n",
       "      <th>Has subject had previous intervention of the index limb?</th>\n",
       "      <th>Previous occluded stents</th>\n",
       "    </tr>\n",
       "  </thead>\n",
       "  <tbody>\n",
       "    <tr>\n",
       "      <th>0</th>\n",
       "      <td>1</td>\n",
       "      <td>1</td>\n",
       "      <td>0</td>\n",
       "      <td>1</td>\n",
       "      <td>No</td>\n",
       "      <td>Yes</td>\n",
       "      <td>0</td>\n",
       "      <td>No</td>\n",
       "      <td>No</td>\n",
       "      <td>Yes</td>\n",
       "      <td>No</td>\n",
       "      <td>Yes</td>\n",
       "      <td>No</td>\n",
       "      <td>Yes</td>\n",
       "      <td>0</td>\n",
       "    </tr>\n",
       "    <tr>\n",
       "      <th>1</th>\n",
       "      <td>0</td>\n",
       "      <td>0</td>\n",
       "      <td>1</td>\n",
       "      <td>0</td>\n",
       "      <td>No</td>\n",
       "      <td>Yes</td>\n",
       "      <td>1</td>\n",
       "      <td>No</td>\n",
       "      <td>Yes</td>\n",
       "      <td>No</td>\n",
       "      <td>No</td>\n",
       "      <td>Yes</td>\n",
       "      <td>No</td>\n",
       "      <td>0</td>\n",
       "      <td>0</td>\n",
       "    </tr>\n",
       "    <tr>\n",
       "      <th>2</th>\n",
       "      <td>1</td>\n",
       "      <td>1</td>\n",
       "      <td>0</td>\n",
       "      <td>1</td>\n",
       "      <td>Yes</td>\n",
       "      <td>No</td>\n",
       "      <td>1</td>\n",
       "      <td>Yes</td>\n",
       "      <td>No</td>\n",
       "      <td>No</td>\n",
       "      <td>No</td>\n",
       "      <td>No</td>\n",
       "      <td>Yes</td>\n",
       "      <td>No</td>\n",
       "      <td>0</td>\n",
       "    </tr>\n",
       "    <tr>\n",
       "      <th>3</th>\n",
       "      <td>0</td>\n",
       "      <td>0</td>\n",
       "      <td>0</td>\n",
       "      <td>1</td>\n",
       "      <td>Yes</td>\n",
       "      <td>No</td>\n",
       "      <td>0</td>\n",
       "      <td>No</td>\n",
       "      <td>Yes</td>\n",
       "      <td>No</td>\n",
       "      <td>Yes</td>\n",
       "      <td>Yes</td>\n",
       "      <td>No</td>\n",
       "      <td>Yes</td>\n",
       "      <td>Yes</td>\n",
       "    </tr>\n",
       "    <tr>\n",
       "      <th>4</th>\n",
       "      <td>0</td>\n",
       "      <td>1</td>\n",
       "      <td>1</td>\n",
       "      <td>1</td>\n",
       "      <td>Yes</td>\n",
       "      <td>Yes</td>\n",
       "      <td>0</td>\n",
       "      <td>Yes</td>\n",
       "      <td>No</td>\n",
       "      <td>Yes</td>\n",
       "      <td>No</td>\n",
       "      <td>No</td>\n",
       "      <td>Yes</td>\n",
       "      <td>0</td>\n",
       "      <td>0</td>\n",
       "    </tr>\n",
       "  </tbody>\n",
       "</table>\n",
       "</div>"
      ],
      "text/plain": [
       "   White  Diabetes  Hypertension  Hyperlipidemia (choice=None)  \\\n",
       "0      1         1             0                             1   \n",
       "1      0         0             1                             0   \n",
       "2      1         1             0                             1   \n",
       "3      0         0             0                             1   \n",
       "4      0         1             1                             1   \n",
       "\n",
       "  Coronary Artery Disease History of MI  Functional impairment  \\\n",
       "0                      No           Yes                      0   \n",
       "1                      No           Yes                      1   \n",
       "2                     Yes            No                      1   \n",
       "3                     Yes            No                      0   \n",
       "4                     Yes           Yes                      0   \n",
       "\n",
       "  Does Subject Currently have cancer? Past hx of cancer Hx of  DVT  \\\n",
       "0                                  No                No        Yes   \n",
       "1                                  No               Yes         No   \n",
       "2                                 Yes                No         No   \n",
       "3                                  No               Yes         No   \n",
       "4                                 Yes                No        Yes   \n",
       "\n",
       "  Hx of stroke Hx of pulmonary embolism  \\\n",
       "0           No                      Yes   \n",
       "1           No                      Yes   \n",
       "2           No                       No   \n",
       "3          Yes                      Yes   \n",
       "4           No                       No   \n",
       "\n",
       "  Does the patient have a history of solid organ transplant?  \\\n",
       "0                                                 No           \n",
       "1                                                 No           \n",
       "2                                                Yes           \n",
       "3                                                 No           \n",
       "4                                                Yes           \n",
       "\n",
       "  Has subject had previous intervention of the index limb?  \\\n",
       "0                                                Yes         \n",
       "1                                                  0         \n",
       "2                                                 No         \n",
       "3                                                Yes         \n",
       "4                                                  0         \n",
       "\n",
       "  Previous occluded stents  \n",
       "0                        0  \n",
       "1                        0  \n",
       "2                        0  \n",
       "3                      Yes  \n",
       "4                        0  "
      ]
     },
     "execution_count": 306,
     "metadata": {},
     "output_type": "execute_result"
    }
   ],
   "source": [
    "# Change following columns to booleans\n",
    "columns_to_convert_baseline = ['White', 'Diabetes', 'Hypertension', 'Hyperlipidemia (choice=None)', 'Coronary Artery Disease', 'History of MI',\n",
    "                      'Functional impairment', 'Does Subject Currently have cancer?', 'Past hx of cancer', 'Hx of  DVT', 'Hx of stroke',\n",
    "                      'Hx of pulmonary embolism', 'Does the patient have a history of solid organ transplant?', \n",
    "                      'Has subject had previous intervention of the index limb?', 'Previous occluded stents',]\n",
    "columns_to_convert_TEG =['Cilostazol within 7 days']\n",
    "\n",
    "clean_baseline_df[columns_to_convert_baseline].head()"
   ]
  },
  {
   "cell_type": "code",
   "execution_count": 307,
   "metadata": {},
   "outputs": [
    {
     "data": {
      "text/html": [
       "<div>\n",
       "<style scoped>\n",
       "    .dataframe tbody tr th:only-of-type {\n",
       "        vertical-align: middle;\n",
       "    }\n",
       "\n",
       "    .dataframe tbody tr th {\n",
       "        vertical-align: top;\n",
       "    }\n",
       "\n",
       "    .dataframe thead th {\n",
       "        text-align: right;\n",
       "    }\n",
       "</style>\n",
       "<table border=\"1\" class=\"dataframe\">\n",
       "  <thead>\n",
       "    <tr style=\"text-align: right;\">\n",
       "      <th></th>\n",
       "      <th>Cilostazol within 7 days</th>\n",
       "    </tr>\n",
       "  </thead>\n",
       "  <tbody>\n",
       "    <tr>\n",
       "      <th>0</th>\n",
       "      <td>cilostazol</td>\n",
       "    </tr>\n",
       "    <tr>\n",
       "      <th>1</th>\n",
       "      <td>cilostazol</td>\n",
       "    </tr>\n",
       "    <tr>\n",
       "      <th>2</th>\n",
       "      <td>cilostazol</td>\n",
       "    </tr>\n",
       "    <tr>\n",
       "      <th>3</th>\n",
       "      <td>cilostazol</td>\n",
       "    </tr>\n",
       "    <tr>\n",
       "      <th>4</th>\n",
       "      <td>cilostazol</td>\n",
       "    </tr>\n",
       "  </tbody>\n",
       "</table>\n",
       "</div>"
      ],
      "text/plain": [
       "  Cilostazol within 7 days\n",
       "0               cilostazol\n",
       "1               cilostazol\n",
       "2               cilostazol\n",
       "3               cilostazol\n",
       "4               cilostazol"
      ]
     },
     "execution_count": 307,
     "metadata": {},
     "output_type": "execute_result"
    }
   ],
   "source": [
    "clean_TEG_df[columns_to_convert_TEG].head()"
   ]
  },
  {
   "cell_type": "code",
   "execution_count": 308,
   "metadata": {},
   "outputs": [],
   "source": [
    "# Dictionary for replacement\n",
    "replacement_dict = {'yes': True, 'no': False, '1': True, '0': False, 'cilostazol': True, 'NaN':False}"
   ]
  },
  {
   "cell_type": "code",
   "execution_count": 309,
   "metadata": {},
   "outputs": [
    {
     "data": {
      "text/html": [
       "<div>\n",
       "<style scoped>\n",
       "    .dataframe tbody tr th:only-of-type {\n",
       "        vertical-align: middle;\n",
       "    }\n",
       "\n",
       "    .dataframe tbody tr th {\n",
       "        vertical-align: top;\n",
       "    }\n",
       "\n",
       "    .dataframe thead th {\n",
       "        text-align: right;\n",
       "    }\n",
       "</style>\n",
       "<table border=\"1\" class=\"dataframe\">\n",
       "  <thead>\n",
       "    <tr style=\"text-align: right;\">\n",
       "      <th></th>\n",
       "      <th>White</th>\n",
       "      <th>Diabetes</th>\n",
       "      <th>Hypertension</th>\n",
       "      <th>Hyperlipidemia (choice=None)</th>\n",
       "      <th>Coronary Artery Disease</th>\n",
       "      <th>History of MI</th>\n",
       "      <th>Functional impairment</th>\n",
       "      <th>Does Subject Currently have cancer?</th>\n",
       "      <th>Past hx of cancer</th>\n",
       "      <th>Hx of  DVT</th>\n",
       "      <th>Hx of stroke</th>\n",
       "      <th>Hx of pulmonary embolism</th>\n",
       "      <th>Does the patient have a history of solid organ transplant?</th>\n",
       "      <th>Has subject had previous intervention of the index limb?</th>\n",
       "      <th>Previous occluded stents</th>\n",
       "    </tr>\n",
       "  </thead>\n",
       "  <tbody>\n",
       "    <tr>\n",
       "      <th>0</th>\n",
       "      <td>True</td>\n",
       "      <td>True</td>\n",
       "      <td>False</td>\n",
       "      <td>True</td>\n",
       "      <td>False</td>\n",
       "      <td>True</td>\n",
       "      <td>False</td>\n",
       "      <td>False</td>\n",
       "      <td>False</td>\n",
       "      <td>True</td>\n",
       "      <td>False</td>\n",
       "      <td>True</td>\n",
       "      <td>False</td>\n",
       "      <td>True</td>\n",
       "      <td>False</td>\n",
       "    </tr>\n",
       "    <tr>\n",
       "      <th>1</th>\n",
       "      <td>False</td>\n",
       "      <td>False</td>\n",
       "      <td>True</td>\n",
       "      <td>False</td>\n",
       "      <td>False</td>\n",
       "      <td>True</td>\n",
       "      <td>True</td>\n",
       "      <td>False</td>\n",
       "      <td>True</td>\n",
       "      <td>False</td>\n",
       "      <td>False</td>\n",
       "      <td>True</td>\n",
       "      <td>False</td>\n",
       "      <td>False</td>\n",
       "      <td>False</td>\n",
       "    </tr>\n",
       "    <tr>\n",
       "      <th>2</th>\n",
       "      <td>True</td>\n",
       "      <td>True</td>\n",
       "      <td>False</td>\n",
       "      <td>True</td>\n",
       "      <td>True</td>\n",
       "      <td>False</td>\n",
       "      <td>True</td>\n",
       "      <td>True</td>\n",
       "      <td>False</td>\n",
       "      <td>False</td>\n",
       "      <td>False</td>\n",
       "      <td>False</td>\n",
       "      <td>True</td>\n",
       "      <td>False</td>\n",
       "      <td>False</td>\n",
       "    </tr>\n",
       "    <tr>\n",
       "      <th>3</th>\n",
       "      <td>False</td>\n",
       "      <td>False</td>\n",
       "      <td>False</td>\n",
       "      <td>True</td>\n",
       "      <td>True</td>\n",
       "      <td>False</td>\n",
       "      <td>False</td>\n",
       "      <td>False</td>\n",
       "      <td>True</td>\n",
       "      <td>False</td>\n",
       "      <td>True</td>\n",
       "      <td>True</td>\n",
       "      <td>False</td>\n",
       "      <td>True</td>\n",
       "      <td>True</td>\n",
       "    </tr>\n",
       "    <tr>\n",
       "      <th>4</th>\n",
       "      <td>False</td>\n",
       "      <td>True</td>\n",
       "      <td>True</td>\n",
       "      <td>True</td>\n",
       "      <td>True</td>\n",
       "      <td>True</td>\n",
       "      <td>False</td>\n",
       "      <td>True</td>\n",
       "      <td>False</td>\n",
       "      <td>True</td>\n",
       "      <td>False</td>\n",
       "      <td>False</td>\n",
       "      <td>True</td>\n",
       "      <td>False</td>\n",
       "      <td>False</td>\n",
       "    </tr>\n",
       "  </tbody>\n",
       "</table>\n",
       "</div>"
      ],
      "text/plain": [
       "   White  Diabetes  Hypertension  Hyperlipidemia (choice=None)  \\\n",
       "0   True      True         False                          True   \n",
       "1  False     False          True                         False   \n",
       "2   True      True         False                          True   \n",
       "3  False     False         False                          True   \n",
       "4  False      True          True                          True   \n",
       "\n",
       "   Coronary Artery Disease  History of MI  Functional impairment  \\\n",
       "0                    False           True                  False   \n",
       "1                    False           True                   True   \n",
       "2                     True          False                   True   \n",
       "3                     True          False                  False   \n",
       "4                     True           True                  False   \n",
       "\n",
       "   Does Subject Currently have cancer?  Past hx of cancer  Hx of  DVT  \\\n",
       "0                                False              False        True   \n",
       "1                                False               True       False   \n",
       "2                                 True              False       False   \n",
       "3                                False               True       False   \n",
       "4                                 True              False        True   \n",
       "\n",
       "   Hx of stroke  Hx of pulmonary embolism  \\\n",
       "0         False                      True   \n",
       "1         False                      True   \n",
       "2         False                     False   \n",
       "3          True                      True   \n",
       "4         False                     False   \n",
       "\n",
       "   Does the patient have a history of solid organ transplant?  \\\n",
       "0                                              False            \n",
       "1                                              False            \n",
       "2                                               True            \n",
       "3                                              False            \n",
       "4                                               True            \n",
       "\n",
       "   Has subject had previous intervention of the index limb?  \\\n",
       "0                                               True          \n",
       "1                                              False          \n",
       "2                                              False          \n",
       "3                                               True          \n",
       "4                                              False          \n",
       "\n",
       "   Previous occluded stents  \n",
       "0                     False  \n",
       "1                     False  \n",
       "2                     False  \n",
       "3                      True  \n",
       "4                     False  "
      ]
     },
     "execution_count": 309,
     "metadata": {},
     "output_type": "execute_result"
    }
   ],
   "source": [
    "# Fill NaN values with False\n",
    "clean_baseline_df[columns_to_convert_baseline] = clean_baseline_df[columns_to_convert_baseline].fillna('0')\n",
    "clean_TEG_df[columns_to_convert_TEG] = clean_TEG_df[columns_to_convert_TEG].fillna('0')\n",
    "\n",
    "# Put all columns in lowercase\n",
    "clean_baseline_df[columns_to_convert_baseline] = clean_baseline_df[columns_to_convert_baseline].astype(str)\n",
    "clean_baseline_df[columns_to_convert_baseline] = clean_baseline_df[columns_to_convert_baseline].apply(lambda x: x.str.lower())\n",
    "clean_TEG_df[columns_to_convert_TEG] = clean_TEG_df[columns_to_convert_TEG].astype(str)\n",
    "clean_TEG_df[columns_to_convert_TEG] = clean_TEG_df[columns_to_convert_TEG].apply(lambda x: x.str.lower())\n",
    "\n",
    "# Use the replace method to replace values in multiple columns\n",
    "clean_baseline_df[columns_to_convert_baseline] = clean_baseline_df[columns_to_convert_baseline].replace(replacement_dict).astype(bool)\n",
    "clean_TEG_df[columns_to_convert_TEG] = clean_TEG_df[columns_to_convert_TEG].replace(replacement_dict).astype(bool)\n",
    "\n",
    "clean_baseline_df[columns_to_convert_baseline].head()\n"
   ]
  },
  {
   "cell_type": "code",
   "execution_count": 310,
   "metadata": {},
   "outputs": [
    {
     "data": {
      "text/html": [
       "<div>\n",
       "<style scoped>\n",
       "    .dataframe tbody tr th:only-of-type {\n",
       "        vertical-align: middle;\n",
       "    }\n",
       "\n",
       "    .dataframe tbody tr th {\n",
       "        vertical-align: top;\n",
       "    }\n",
       "\n",
       "    .dataframe thead th {\n",
       "        text-align: right;\n",
       "    }\n",
       "</style>\n",
       "<table border=\"1\" class=\"dataframe\">\n",
       "  <thead>\n",
       "    <tr style=\"text-align: right;\">\n",
       "      <th></th>\n",
       "      <th>Cilostazol within 7 days</th>\n",
       "    </tr>\n",
       "  </thead>\n",
       "  <tbody>\n",
       "    <tr>\n",
       "      <th>0</th>\n",
       "      <td>True</td>\n",
       "    </tr>\n",
       "    <tr>\n",
       "      <th>1</th>\n",
       "      <td>True</td>\n",
       "    </tr>\n",
       "    <tr>\n",
       "      <th>2</th>\n",
       "      <td>True</td>\n",
       "    </tr>\n",
       "    <tr>\n",
       "      <th>3</th>\n",
       "      <td>True</td>\n",
       "    </tr>\n",
       "    <tr>\n",
       "      <th>4</th>\n",
       "      <td>True</td>\n",
       "    </tr>\n",
       "  </tbody>\n",
       "</table>\n",
       "</div>"
      ],
      "text/plain": [
       "   Cilostazol within 7 days\n",
       "0                      True\n",
       "1                      True\n",
       "2                      True\n",
       "3                      True\n",
       "4                      True"
      ]
     },
     "execution_count": 310,
     "metadata": {},
     "output_type": "execute_result"
    }
   ],
   "source": [
    "clean_TEG_df[columns_to_convert_TEG].head()"
   ]
  },
  {
   "cell_type": "markdown",
   "metadata": {},
   "source": [
    "#### Categorical ordinal\n",
    "Baseline:\n",
    "- Tobacco Use\n",
    "- Renal Status"
   ]
  },
  {
   "cell_type": "code",
   "execution_count": 311,
   "metadata": {},
   "outputs": [],
   "source": [
    "# Ordinal encoding map\n",
    "category_orders = {\n",
    "    'Tobacco Use (1 current 2 former, 3 none)': \n",
    "    ['None',\n",
    "    'Past, quit >10 year ago',\n",
    "    'quit 1 to 10 years ago', \n",
    "    'current within the last year ( < 1 pack a day)',\n",
    "    'current within the last year (  > or = 1 pack a day)'],\n",
    "\n",
    "    'Renal Status': \n",
    "    ['Normal', \n",
    "    'GFR 30 to 59', \n",
    "    'GFR 15 to 29', \n",
    "    'GFR<15 or patient is on dialysis',\n",
    "    '1']\n",
    "}"
   ]
  },
  {
   "cell_type": "code",
   "execution_count": 312,
   "metadata": {},
   "outputs": [],
   "source": [
    "# Replace renal status values. Some of the values in the data set mean the same with different words\n",
    "# Define a dictionary to map old values to new values\n",
    "replace_dict = {'GFR 60 to 89': 'Normal', 'Evidence of renal dysfunction ( GFR >90)': 'Normal', '0': 'Normal', 0: 'Normal', 1: \"1\"}\n",
    "\n",
    "clean_baseline_df['Renal Status'] = clean_baseline_df['Renal Status'].replace(replace_dict)\n",
    "\n",
    "# Initialize the OrdinalEncoder with specified category orders\n",
    "encoder = OrdinalEncoder(categories=[category_orders[column] for column in ['Tobacco Use (1 current 2 former, 3 none)', 'Renal Status']])\n",
    "\n",
    "# Fit and transform the selected columns to encode ordinal values\n",
    "clean_baseline_df[['Tobacco Use (1 current 2 former, 3 none)', 'Renal Status']] = encoder.fit_transform(clean_baseline_df[['Tobacco Use (1 current 2 former, 3 none)', 'Renal Status']])\n",
    "\n",
    "# Rename column\n",
    "clean_baseline_df = clean_baseline_df.rename(columns={'Tobacco Use (1 current 2 former, 3 none)': 'Tobacco Use'})"
   ]
  },
  {
   "cell_type": "code",
   "execution_count": 313,
   "metadata": {},
   "outputs": [
    {
     "data": {
      "text/html": [
       "<div>\n",
       "<style scoped>\n",
       "    .dataframe tbody tr th:only-of-type {\n",
       "        vertical-align: middle;\n",
       "    }\n",
       "\n",
       "    .dataframe tbody tr th {\n",
       "        vertical-align: top;\n",
       "    }\n",
       "\n",
       "    .dataframe thead th {\n",
       "        text-align: right;\n",
       "    }\n",
       "</style>\n",
       "<table border=\"1\" class=\"dataframe\">\n",
       "  <thead>\n",
       "    <tr style=\"text-align: right;\">\n",
       "      <th></th>\n",
       "      <th>Tobacco Use</th>\n",
       "      <th>Renal Status</th>\n",
       "    </tr>\n",
       "  </thead>\n",
       "  <tbody>\n",
       "    <tr>\n",
       "      <th>0</th>\n",
       "      <td>3.0</td>\n",
       "      <td>0.0</td>\n",
       "    </tr>\n",
       "    <tr>\n",
       "      <th>1</th>\n",
       "      <td>4.0</td>\n",
       "      <td>4.0</td>\n",
       "    </tr>\n",
       "    <tr>\n",
       "      <th>2</th>\n",
       "      <td>2.0</td>\n",
       "      <td>0.0</td>\n",
       "    </tr>\n",
       "    <tr>\n",
       "      <th>3</th>\n",
       "      <td>2.0</td>\n",
       "      <td>0.0</td>\n",
       "    </tr>\n",
       "    <tr>\n",
       "      <th>4</th>\n",
       "      <td>1.0</td>\n",
       "      <td>0.0</td>\n",
       "    </tr>\n",
       "  </tbody>\n",
       "</table>\n",
       "</div>"
      ],
      "text/plain": [
       "   Tobacco Use  Renal Status\n",
       "0          3.0           0.0\n",
       "1          4.0           4.0\n",
       "2          2.0           0.0\n",
       "3          2.0           0.0\n",
       "4          1.0           0.0"
      ]
     },
     "execution_count": 313,
     "metadata": {},
     "output_type": "execute_result"
    }
   ],
   "source": [
    "clean_baseline_df[['Tobacco Use', 'Renal Status']].head()"
   ]
  },
  {
   "cell_type": "markdown",
   "metadata": {},
   "source": [
    "#### Categorical nominal\n",
    "Baseline:\n",
    "- Extremity\n",
    "- Artery affected\n",
    "- Intervention Classification\n",
    "- Intervention Type\n",
    "\n",
    "TEG values:\n",
    "- Antiplatelet Therapy within 7 Days\n",
    "- Anticoagulation within 24 Hours\n",
    "- Statin within 24 Hours\n"
   ]
  },
  {
   "cell_type": "code",
   "execution_count": 314,
   "metadata": {},
   "outputs": [],
   "source": [
    "columns_to_dummy_baseline = ['Extremity',\n",
    "                    'Intervention Classification']\n",
    "columns_to_dummy_TEG = ['Statin within 24 Hours']"
   ]
  },
  {
   "cell_type": "code",
   "execution_count": 315,
   "metadata": {},
   "outputs": [],
   "source": [
    "# Dummy encoding of categorical values\n",
    "clean_baseline_df = pd.get_dummies(clean_baseline_df, columns=columns_to_dummy_baseline,\n",
    "                    prefix=columns_to_dummy_baseline)\n",
    "clean_TEG_df = pd.get_dummies(clean_TEG_df, columns=columns_to_dummy_TEG,\n",
    "                    prefix=columns_to_dummy_TEG)"
   ]
  },
  {
   "cell_type": "code",
   "execution_count": 316,
   "metadata": {},
   "outputs": [],
   "source": [
    "# Drop unecessary columns\n",
    "clean_baseline_df = clean_baseline_df.drop(columns=['Extremity_left']) # Because it is either right, left or bilateral\n",
    "clean_baseline_df = clean_baseline_df.drop(columns=['Intervention Classification_Endo']) # Either endo, open or combined"
   ]
  },
  {
   "cell_type": "code",
   "execution_count": 317,
   "metadata": {},
   "outputs": [
    {
     "data": {
      "text/html": [
       "<div>\n",
       "<style scoped>\n",
       "    .dataframe tbody tr th:only-of-type {\n",
       "        vertical-align: middle;\n",
       "    }\n",
       "\n",
       "    .dataframe tbody tr th {\n",
       "        vertical-align: top;\n",
       "    }\n",
       "\n",
       "    .dataframe thead th {\n",
       "        text-align: right;\n",
       "    }\n",
       "</style>\n",
       "<table border=\"1\" class=\"dataframe\">\n",
       "  <thead>\n",
       "    <tr style=\"text-align: right;\">\n",
       "      <th></th>\n",
       "      <th>Extremity_Bilateral</th>\n",
       "      <th>Extremity_right</th>\n",
       "      <th>Intervention Classification_Combined</th>\n",
       "      <th>Intervention Classification_Open</th>\n",
       "    </tr>\n",
       "  </thead>\n",
       "  <tbody>\n",
       "    <tr>\n",
       "      <th>0</th>\n",
       "      <td>False</td>\n",
       "      <td>False</td>\n",
       "      <td>False</td>\n",
       "      <td>True</td>\n",
       "    </tr>\n",
       "    <tr>\n",
       "      <th>1</th>\n",
       "      <td>True</td>\n",
       "      <td>False</td>\n",
       "      <td>False</td>\n",
       "      <td>True</td>\n",
       "    </tr>\n",
       "    <tr>\n",
       "      <th>2</th>\n",
       "      <td>False</td>\n",
       "      <td>False</td>\n",
       "      <td>False</td>\n",
       "      <td>False</td>\n",
       "    </tr>\n",
       "    <tr>\n",
       "      <th>3</th>\n",
       "      <td>False</td>\n",
       "      <td>True</td>\n",
       "      <td>False</td>\n",
       "      <td>False</td>\n",
       "    </tr>\n",
       "    <tr>\n",
       "      <th>4</th>\n",
       "      <td>False</td>\n",
       "      <td>True</td>\n",
       "      <td>False</td>\n",
       "      <td>True</td>\n",
       "    </tr>\n",
       "  </tbody>\n",
       "</table>\n",
       "</div>"
      ],
      "text/plain": [
       "   Extremity_Bilateral  Extremity_right  Intervention Classification_Combined  \\\n",
       "0                False            False                                 False   \n",
       "1                 True            False                                 False   \n",
       "2                False            False                                 False   \n",
       "3                False             True                                 False   \n",
       "4                False             True                                 False   \n",
       "\n",
       "   Intervention Classification_Open  \n",
       "0                              True  \n",
       "1                              True  \n",
       "2                             False  \n",
       "3                             False  \n",
       "4                              True  "
      ]
     },
     "execution_count": 317,
     "metadata": {},
     "output_type": "execute_result"
    }
   ],
   "source": [
    "# Show columns \n",
    "# Use the .filter() method to select columns with the original columns prefixes\n",
    "dummy_columns_baseline = [col for col in clean_baseline_df.columns if any(col.startswith(prefix) for prefix in columns_to_dummy_baseline)]\n",
    "clean_baseline_df[dummy_columns_baseline].head()"
   ]
  },
  {
   "cell_type": "code",
   "execution_count": 318,
   "metadata": {},
   "outputs": [
    {
     "data": {
      "text/html": [
       "<div>\n",
       "<style scoped>\n",
       "    .dataframe tbody tr th:only-of-type {\n",
       "        vertical-align: middle;\n",
       "    }\n",
       "\n",
       "    .dataframe tbody tr th {\n",
       "        vertical-align: top;\n",
       "    }\n",
       "\n",
       "    .dataframe thead th {\n",
       "        text-align: right;\n",
       "    }\n",
       "</style>\n",
       "<table border=\"1\" class=\"dataframe\">\n",
       "  <thead>\n",
       "    <tr style=\"text-align: right;\">\n",
       "      <th></th>\n",
       "      <th>Statin within 24 Hours_Lovastatin</th>\n",
       "      <th>Statin within 24 Hours_Pravastatin</th>\n",
       "      <th>Statin within 24 Hours_Rosuvastatin</th>\n",
       "      <th>Statin within 24 Hours_Simvastatin</th>\n",
       "      <th>Statin within 24 Hours_atorvastatin</th>\n",
       "    </tr>\n",
       "  </thead>\n",
       "  <tbody>\n",
       "    <tr>\n",
       "      <th>0</th>\n",
       "      <td>False</td>\n",
       "      <td>False</td>\n",
       "      <td>True</td>\n",
       "      <td>False</td>\n",
       "      <td>False</td>\n",
       "    </tr>\n",
       "    <tr>\n",
       "      <th>1</th>\n",
       "      <td>False</td>\n",
       "      <td>False</td>\n",
       "      <td>False</td>\n",
       "      <td>True</td>\n",
       "      <td>False</td>\n",
       "    </tr>\n",
       "    <tr>\n",
       "      <th>2</th>\n",
       "      <td>True</td>\n",
       "      <td>False</td>\n",
       "      <td>False</td>\n",
       "      <td>False</td>\n",
       "      <td>False</td>\n",
       "    </tr>\n",
       "    <tr>\n",
       "      <th>3</th>\n",
       "      <td>False</td>\n",
       "      <td>False</td>\n",
       "      <td>True</td>\n",
       "      <td>False</td>\n",
       "      <td>False</td>\n",
       "    </tr>\n",
       "    <tr>\n",
       "      <th>4</th>\n",
       "      <td>False</td>\n",
       "      <td>False</td>\n",
       "      <td>False</td>\n",
       "      <td>False</td>\n",
       "      <td>True</td>\n",
       "    </tr>\n",
       "  </tbody>\n",
       "</table>\n",
       "</div>"
      ],
      "text/plain": [
       "   Statin within 24 Hours_Lovastatin  Statin within 24 Hours_Pravastatin  \\\n",
       "0                              False                               False   \n",
       "1                              False                               False   \n",
       "2                               True                               False   \n",
       "3                              False                               False   \n",
       "4                              False                               False   \n",
       "\n",
       "   Statin within 24 Hours_Rosuvastatin  Statin within 24 Hours_Simvastatin  \\\n",
       "0                                 True                               False   \n",
       "1                                False                                True   \n",
       "2                                False                               False   \n",
       "3                                 True                               False   \n",
       "4                                False                               False   \n",
       "\n",
       "   Statin within 24 Hours_atorvastatin  \n",
       "0                                False  \n",
       "1                                False  \n",
       "2                                False  \n",
       "3                                False  \n",
       "4                                 True  "
      ]
     },
     "execution_count": 318,
     "metadata": {},
     "output_type": "execute_result"
    }
   ],
   "source": [
    "dummy_columns_TEG = [col for col in clean_TEG_df.columns if any(col.startswith(prefix) for prefix in columns_to_dummy_TEG)]\n",
    "clean_TEG_df[dummy_columns_TEG].head()"
   ]
  },
  {
   "cell_type": "markdown",
   "metadata": {},
   "source": [
    "The _Artery affected_, _Intervention type_, _Antiplatelet Therapy within 7 Days_, and _Anticoagulation within 24 Hours_ column has multiple values in a sigle string. They will be normalized before being encoded"
   ]
  },
  {
   "cell_type": "markdown",
   "metadata": {},
   "source": [
    "Artery affected"
   ]
  },
  {
   "cell_type": "code",
   "execution_count": 319,
   "metadata": {},
   "outputs": [
    {
     "name": "stdout",
     "output_type": "stream",
     "text": [
      "{'anterior tibial', 'aortoiliac', 'common femoral', 'external iliac', 'popliteal', 'SFA', 'internal iliac', 'posterior tibial'}\n",
      "{'aspirin', 'clopidogrel', 'celecoxib', 'ticagrelor'}\n",
      "{'endarterectomy', 'stent', 'bypass revision', 'bypass', 'DVA', 'thrombectomy', 'angioplasty'}\n",
      "{'heparin', 'rivaroxaban', 'warfarin', 'apixaban', 'enoxaprin', 'enoxaparin'}\n"
     ]
    }
   ],
   "source": [
    "# Get all unique valuses\n",
    "unique_arteries = set()\n",
    "unique_antiplatelet = set()\n",
    "unique_intervention = set()\n",
    "unique_anticoagulation = set()\n",
    "\n",
    "for index, row in clean_baseline_df.iterrows():\n",
    "    arteries = row['Artery affected'].split(', ')\n",
    "    unique_arteries.update(arteries)\n",
    "\n",
    "    intervention = row['Intervention Type'].split(', ')\n",
    "    unique_intervention.update(intervention)\n",
    "    \n",
    "\n",
    "for index, row in clean_TEG_df.iterrows():\n",
    "\n",
    "    antiplatelet = row['Antiplatelet Therapy within 7 Days'].split(', ')\n",
    "    unique_antiplatelet.update(antiplatelet)\n",
    "\n",
    "    anticoagulation = row['Anticoagulation within 24 Hours'].split(', ')\n",
    "    # Delete items in parenthesis ex: heparin (Calciparine) to be just heparin\n",
    "    anticoagulation = {re.sub(r'\\s*\\([^)]*\\)\\s*', '', item) for item in anticoagulation} \n",
    "    unique_anticoagulation.update(anticoagulation)\n",
    "\n",
    "\n",
    "print(unique_arteries)\n",
    "print(unique_antiplatelet)\n",
    "print(unique_intervention)\n",
    "print(unique_anticoagulation)"
   ]
  },
  {
   "cell_type": "code",
   "execution_count": 320,
   "metadata": {},
   "outputs": [
    {
     "data": {
      "text/html": [
       "<div>\n",
       "<style scoped>\n",
       "    .dataframe tbody tr th:only-of-type {\n",
       "        vertical-align: middle;\n",
       "    }\n",
       "\n",
       "    .dataframe tbody tr th {\n",
       "        vertical-align: top;\n",
       "    }\n",
       "\n",
       "    .dataframe thead th {\n",
       "        text-align: right;\n",
       "    }\n",
       "</style>\n",
       "<table border=\"1\" class=\"dataframe\">\n",
       "  <thead>\n",
       "    <tr style=\"text-align: right;\">\n",
       "      <th></th>\n",
       "      <th>Artery affected_anterior tibial</th>\n",
       "      <th>Artery affected_aortoiliac</th>\n",
       "      <th>Artery affected_common femoral</th>\n",
       "      <th>Artery affected_external iliac</th>\n",
       "      <th>Artery affected_popliteal</th>\n",
       "      <th>Artery affected_SFA</th>\n",
       "      <th>Artery affected_internal iliac</th>\n",
       "      <th>Artery affected_posterior tibial</th>\n",
       "      <th>Artery affected</th>\n",
       "    </tr>\n",
       "  </thead>\n",
       "  <tbody>\n",
       "    <tr>\n",
       "      <th>0</th>\n",
       "      <td>1</td>\n",
       "      <td>1</td>\n",
       "      <td>1</td>\n",
       "      <td>0</td>\n",
       "      <td>1</td>\n",
       "      <td>1</td>\n",
       "      <td>0</td>\n",
       "      <td>1</td>\n",
       "      <td>common femoral, SFA, popliteal, anterior tibia...</td>\n",
       "    </tr>\n",
       "    <tr>\n",
       "      <th>1</th>\n",
       "      <td>0</td>\n",
       "      <td>0</td>\n",
       "      <td>1</td>\n",
       "      <td>1</td>\n",
       "      <td>1</td>\n",
       "      <td>1</td>\n",
       "      <td>1</td>\n",
       "      <td>1</td>\n",
       "      <td>common femoral, SFA, popliteal, posterior tibi...</td>\n",
       "    </tr>\n",
       "    <tr>\n",
       "      <th>2</th>\n",
       "      <td>0</td>\n",
       "      <td>0</td>\n",
       "      <td>1</td>\n",
       "      <td>0</td>\n",
       "      <td>0</td>\n",
       "      <td>0</td>\n",
       "      <td>0</td>\n",
       "      <td>0</td>\n",
       "      <td>common femoral</td>\n",
       "    </tr>\n",
       "    <tr>\n",
       "      <th>3</th>\n",
       "      <td>1</td>\n",
       "      <td>0</td>\n",
       "      <td>0</td>\n",
       "      <td>1</td>\n",
       "      <td>0</td>\n",
       "      <td>1</td>\n",
       "      <td>0</td>\n",
       "      <td>1</td>\n",
       "      <td>SFA, anterior tibial, posterior tibial, extern...</td>\n",
       "    </tr>\n",
       "    <tr>\n",
       "      <th>4</th>\n",
       "      <td>0</td>\n",
       "      <td>0</td>\n",
       "      <td>0</td>\n",
       "      <td>1</td>\n",
       "      <td>0</td>\n",
       "      <td>1</td>\n",
       "      <td>0</td>\n",
       "      <td>0</td>\n",
       "      <td>SFA, external iliac</td>\n",
       "    </tr>\n",
       "  </tbody>\n",
       "</table>\n",
       "</div>"
      ],
      "text/plain": [
       "   Artery affected_anterior tibial  Artery affected_aortoiliac  \\\n",
       "0                                1                           1   \n",
       "1                                0                           0   \n",
       "2                                0                           0   \n",
       "3                                1                           0   \n",
       "4                                0                           0   \n",
       "\n",
       "   Artery affected_common femoral  Artery affected_external iliac  \\\n",
       "0                               1                               0   \n",
       "1                               1                               1   \n",
       "2                               1                               0   \n",
       "3                               0                               1   \n",
       "4                               0                               1   \n",
       "\n",
       "   Artery affected_popliteal  Artery affected_SFA  \\\n",
       "0                          1                    1   \n",
       "1                          1                    1   \n",
       "2                          0                    0   \n",
       "3                          0                    1   \n",
       "4                          0                    1   \n",
       "\n",
       "   Artery affected_internal iliac  Artery affected_posterior tibial  \\\n",
       "0                               0                                 1   \n",
       "1                               1                                 1   \n",
       "2                               0                                 0   \n",
       "3                               0                                 1   \n",
       "4                               0                                 0   \n",
       "\n",
       "                                     Artery affected  \n",
       "0  common femoral, SFA, popliteal, anterior tibia...  \n",
       "1  common femoral, SFA, popliteal, posterior tibi...  \n",
       "2                                     common femoral  \n",
       "3  SFA, anterior tibial, posterior tibial, extern...  \n",
       "4                                SFA, external iliac  "
      ]
     },
     "execution_count": 320,
     "metadata": {},
     "output_type": "execute_result"
    }
   ],
   "source": [
    "# Dummy encode ateries affected\n",
    "selected_arteries = []\n",
    "for artery in unique_arteries:\n",
    "    column_name = \"Artery affected_\"+artery\n",
    "    clean_baseline_df[column_name] = clean_baseline_df['Artery affected'].str.contains(artery).astype(int)\n",
    "    selected_arteries.append(column_name)\n",
    "\n",
    "selected_arteries.append('Artery affected')\n",
    "clean_baseline_df[selected_arteries].head()"
   ]
  },
  {
   "cell_type": "code",
   "execution_count": 321,
   "metadata": {},
   "outputs": [
    {
     "data": {
      "text/html": [
       "<div>\n",
       "<style scoped>\n",
       "    .dataframe tbody tr th:only-of-type {\n",
       "        vertical-align: middle;\n",
       "    }\n",
       "\n",
       "    .dataframe tbody tr th {\n",
       "        vertical-align: top;\n",
       "    }\n",
       "\n",
       "    .dataframe thead th {\n",
       "        text-align: right;\n",
       "    }\n",
       "</style>\n",
       "<table border=\"1\" class=\"dataframe\">\n",
       "  <thead>\n",
       "    <tr style=\"text-align: right;\">\n",
       "      <th></th>\n",
       "      <th>Antiplatelet therapy_aspirin</th>\n",
       "      <th>Antiplatelet therapy_clopidogrel</th>\n",
       "      <th>Antiplatelet therapy_celecoxib</th>\n",
       "      <th>Antiplatelet therapy_ticagrelor</th>\n",
       "      <th>Antiplatelet Therapy within 7 Days</th>\n",
       "    </tr>\n",
       "  </thead>\n",
       "  <tbody>\n",
       "    <tr>\n",
       "      <th>0</th>\n",
       "      <td>1</td>\n",
       "      <td>0</td>\n",
       "      <td>0</td>\n",
       "      <td>1</td>\n",
       "      <td>aspirin, ticagrelor</td>\n",
       "    </tr>\n",
       "    <tr>\n",
       "      <th>1</th>\n",
       "      <td>0</td>\n",
       "      <td>1</td>\n",
       "      <td>1</td>\n",
       "      <td>0</td>\n",
       "      <td>clopidogrel, celecoxib</td>\n",
       "    </tr>\n",
       "    <tr>\n",
       "      <th>2</th>\n",
       "      <td>0</td>\n",
       "      <td>0</td>\n",
       "      <td>0</td>\n",
       "      <td>1</td>\n",
       "      <td>ticagrelor</td>\n",
       "    </tr>\n",
       "    <tr>\n",
       "      <th>3</th>\n",
       "      <td>1</td>\n",
       "      <td>0</td>\n",
       "      <td>0</td>\n",
       "      <td>1</td>\n",
       "      <td>aspirin, ticagrelor</td>\n",
       "    </tr>\n",
       "    <tr>\n",
       "      <th>4</th>\n",
       "      <td>1</td>\n",
       "      <td>0</td>\n",
       "      <td>0</td>\n",
       "      <td>1</td>\n",
       "      <td>aspirin, ticagrelor</td>\n",
       "    </tr>\n",
       "  </tbody>\n",
       "</table>\n",
       "</div>"
      ],
      "text/plain": [
       "   Antiplatelet therapy_aspirin  Antiplatelet therapy_clopidogrel  \\\n",
       "0                             1                                 0   \n",
       "1                             0                                 1   \n",
       "2                             0                                 0   \n",
       "3                             1                                 0   \n",
       "4                             1                                 0   \n",
       "\n",
       "   Antiplatelet therapy_celecoxib  Antiplatelet therapy_ticagrelor  \\\n",
       "0                               0                                1   \n",
       "1                               1                                0   \n",
       "2                               0                                1   \n",
       "3                               0                                1   \n",
       "4                               0                                1   \n",
       "\n",
       "  Antiplatelet Therapy within 7 Days  \n",
       "0                aspirin, ticagrelor  \n",
       "1             clopidogrel, celecoxib  \n",
       "2                         ticagrelor  \n",
       "3                aspirin, ticagrelor  \n",
       "4                aspirin, ticagrelor  "
      ]
     },
     "execution_count": 321,
     "metadata": {},
     "output_type": "execute_result"
    }
   ],
   "source": [
    "# Dummy encode antiplatelete therapy\n",
    "selected_antiplatelet = []\n",
    "for antiplatelet in unique_antiplatelet:\n",
    "    column_name = \"Antiplatelet therapy_\"+antiplatelet\n",
    "    clean_TEG_df[column_name] = clean_TEG_df['Antiplatelet Therapy within 7 Days'].str.contains(antiplatelet).astype(int)\n",
    "    selected_antiplatelet.append(column_name)\n",
    "\n",
    "selected_antiplatelet.append('Antiplatelet Therapy within 7 Days')\n",
    "clean_TEG_df[selected_antiplatelet].head()"
   ]
  },
  {
   "cell_type": "code",
   "execution_count": 322,
   "metadata": {},
   "outputs": [
    {
     "data": {
      "text/html": [
       "<div>\n",
       "<style scoped>\n",
       "    .dataframe tbody tr th:only-of-type {\n",
       "        vertical-align: middle;\n",
       "    }\n",
       "\n",
       "    .dataframe tbody tr th {\n",
       "        vertical-align: top;\n",
       "    }\n",
       "\n",
       "    .dataframe thead th {\n",
       "        text-align: right;\n",
       "    }\n",
       "</style>\n",
       "<table border=\"1\" class=\"dataframe\">\n",
       "  <thead>\n",
       "    <tr style=\"text-align: right;\">\n",
       "      <th></th>\n",
       "      <th>Intervention type_endarterectomy</th>\n",
       "      <th>Intervention type_stent</th>\n",
       "      <th>Intervention type_bypass revision</th>\n",
       "      <th>Intervention type_bypass</th>\n",
       "      <th>Intervention type_DVA</th>\n",
       "      <th>Intervention type_thrombectomy</th>\n",
       "      <th>Intervention type_angioplasty</th>\n",
       "      <th>Intervention Type</th>\n",
       "    </tr>\n",
       "  </thead>\n",
       "  <tbody>\n",
       "    <tr>\n",
       "      <th>0</th>\n",
       "      <td>0</td>\n",
       "      <td>0</td>\n",
       "      <td>0</td>\n",
       "      <td>0</td>\n",
       "      <td>0</td>\n",
       "      <td>0</td>\n",
       "      <td>1</td>\n",
       "      <td>angioplasty</td>\n",
       "    </tr>\n",
       "    <tr>\n",
       "      <th>1</th>\n",
       "      <td>0</td>\n",
       "      <td>0</td>\n",
       "      <td>1</td>\n",
       "      <td>1</td>\n",
       "      <td>0</td>\n",
       "      <td>0</td>\n",
       "      <td>0</td>\n",
       "      <td>bypass revision</td>\n",
       "    </tr>\n",
       "    <tr>\n",
       "      <th>2</th>\n",
       "      <td>1</td>\n",
       "      <td>1</td>\n",
       "      <td>0</td>\n",
       "      <td>0</td>\n",
       "      <td>0</td>\n",
       "      <td>0</td>\n",
       "      <td>1</td>\n",
       "      <td>angioplasty, stent, endarterectomy</td>\n",
       "    </tr>\n",
       "    <tr>\n",
       "      <th>3</th>\n",
       "      <td>0</td>\n",
       "      <td>0</td>\n",
       "      <td>0</td>\n",
       "      <td>1</td>\n",
       "      <td>0</td>\n",
       "      <td>0</td>\n",
       "      <td>1</td>\n",
       "      <td>angioplasty, bypass</td>\n",
       "    </tr>\n",
       "    <tr>\n",
       "      <th>4</th>\n",
       "      <td>0</td>\n",
       "      <td>0</td>\n",
       "      <td>1</td>\n",
       "      <td>1</td>\n",
       "      <td>0</td>\n",
       "      <td>0</td>\n",
       "      <td>0</td>\n",
       "      <td>bypass revision</td>\n",
       "    </tr>\n",
       "  </tbody>\n",
       "</table>\n",
       "</div>"
      ],
      "text/plain": [
       "   Intervention type_endarterectomy  Intervention type_stent  \\\n",
       "0                                 0                        0   \n",
       "1                                 0                        0   \n",
       "2                                 1                        1   \n",
       "3                                 0                        0   \n",
       "4                                 0                        0   \n",
       "\n",
       "   Intervention type_bypass revision  Intervention type_bypass  \\\n",
       "0                                  0                         0   \n",
       "1                                  1                         1   \n",
       "2                                  0                         0   \n",
       "3                                  0                         1   \n",
       "4                                  1                         1   \n",
       "\n",
       "   Intervention type_DVA  Intervention type_thrombectomy  \\\n",
       "0                      0                               0   \n",
       "1                      0                               0   \n",
       "2                      0                               0   \n",
       "3                      0                               0   \n",
       "4                      0                               0   \n",
       "\n",
       "   Intervention type_angioplasty                   Intervention Type  \n",
       "0                              1                         angioplasty  \n",
       "1                              0                     bypass revision  \n",
       "2                              1  angioplasty, stent, endarterectomy  \n",
       "3                              1                 angioplasty, bypass  \n",
       "4                              0                     bypass revision  "
      ]
     },
     "execution_count": 322,
     "metadata": {},
     "output_type": "execute_result"
    }
   ],
   "source": [
    "# Dummy encode intervention types\n",
    "selected_intervention = []\n",
    "for intervention in unique_intervention:\n",
    "    column_name = 'Intervention type_'+intervention\n",
    "    clean_baseline_df[column_name] = clean_baseline_df['Intervention Type'].str.contains(intervention).astype(int)\n",
    "    selected_intervention.append(column_name)\n",
    "\n",
    "selected_intervention.append('Intervention Type')\n",
    "clean_baseline_df[selected_intervention].head()"
   ]
  },
  {
   "cell_type": "code",
   "execution_count": 323,
   "metadata": {},
   "outputs": [
    {
     "data": {
      "text/html": [
       "<div>\n",
       "<style scoped>\n",
       "    .dataframe tbody tr th:only-of-type {\n",
       "        vertical-align: middle;\n",
       "    }\n",
       "\n",
       "    .dataframe tbody tr th {\n",
       "        vertical-align: top;\n",
       "    }\n",
       "\n",
       "    .dataframe thead th {\n",
       "        text-align: right;\n",
       "    }\n",
       "</style>\n",
       "<table border=\"1\" class=\"dataframe\">\n",
       "  <thead>\n",
       "    <tr style=\"text-align: right;\">\n",
       "      <th></th>\n",
       "      <th>Anticoagulation_heparin</th>\n",
       "      <th>Anticoagulation_rivaroxaban</th>\n",
       "      <th>Anticoagulation_warfarin</th>\n",
       "      <th>Anticoagulation_apixaban</th>\n",
       "      <th>Anticoagulation_enoxaprin</th>\n",
       "      <th>Anticoagulation_enoxaparin</th>\n",
       "      <th>Anticoagulation within 24 Hours</th>\n",
       "    </tr>\n",
       "  </thead>\n",
       "  <tbody>\n",
       "    <tr>\n",
       "      <th>0</th>\n",
       "      <td>0</td>\n",
       "      <td>0</td>\n",
       "      <td>0</td>\n",
       "      <td>0</td>\n",
       "      <td>0</td>\n",
       "      <td>1</td>\n",
       "      <td>enoxaparin (Lovenox)</td>\n",
       "    </tr>\n",
       "    <tr>\n",
       "      <th>1</th>\n",
       "      <td>0</td>\n",
       "      <td>0</td>\n",
       "      <td>0</td>\n",
       "      <td>0</td>\n",
       "      <td>0</td>\n",
       "      <td>1</td>\n",
       "      <td>enoxaparin (Lovenox)</td>\n",
       "    </tr>\n",
       "    <tr>\n",
       "      <th>2</th>\n",
       "      <td>0</td>\n",
       "      <td>0</td>\n",
       "      <td>1</td>\n",
       "      <td>0</td>\n",
       "      <td>0</td>\n",
       "      <td>0</td>\n",
       "      <td>warfarin (Coumadin)</td>\n",
       "    </tr>\n",
       "    <tr>\n",
       "      <th>3</th>\n",
       "      <td>0</td>\n",
       "      <td>1</td>\n",
       "      <td>0</td>\n",
       "      <td>0</td>\n",
       "      <td>0</td>\n",
       "      <td>0</td>\n",
       "      <td>rivaroxaban</td>\n",
       "    </tr>\n",
       "    <tr>\n",
       "      <th>4</th>\n",
       "      <td>0</td>\n",
       "      <td>0</td>\n",
       "      <td>0</td>\n",
       "      <td>0</td>\n",
       "      <td>1</td>\n",
       "      <td>0</td>\n",
       "      <td>enoxaprin</td>\n",
       "    </tr>\n",
       "  </tbody>\n",
       "</table>\n",
       "</div>"
      ],
      "text/plain": [
       "   Anticoagulation_heparin  Anticoagulation_rivaroxaban  \\\n",
       "0                        0                            0   \n",
       "1                        0                            0   \n",
       "2                        0                            0   \n",
       "3                        0                            1   \n",
       "4                        0                            0   \n",
       "\n",
       "   Anticoagulation_warfarin  Anticoagulation_apixaban  \\\n",
       "0                         0                         0   \n",
       "1                         0                         0   \n",
       "2                         1                         0   \n",
       "3                         0                         0   \n",
       "4                         0                         0   \n",
       "\n",
       "   Anticoagulation_enoxaprin  Anticoagulation_enoxaparin  \\\n",
       "0                          0                           1   \n",
       "1                          0                           1   \n",
       "2                          0                           0   \n",
       "3                          0                           0   \n",
       "4                          1                           0   \n",
       "\n",
       "  Anticoagulation within 24 Hours  \n",
       "0            enoxaparin (Lovenox)  \n",
       "1            enoxaparin (Lovenox)  \n",
       "2             warfarin (Coumadin)  \n",
       "3                     rivaroxaban  \n",
       "4                       enoxaprin  "
      ]
     },
     "execution_count": 323,
     "metadata": {},
     "output_type": "execute_result"
    }
   ],
   "source": [
    "# Dummy encode anticoagulation meds\n",
    "selected_anticoagulation = []\n",
    "for anticoagulation in unique_anticoagulation:\n",
    "    column_name = \"Anticoagulation_\"+anticoagulation\n",
    "    clean_TEG_df[column_name] = clean_TEG_df['Anticoagulation within 24 Hours'].str.contains(anticoagulation).astype(int)\n",
    "    selected_anticoagulation.append(column_name)\n",
    "\n",
    "selected_anticoagulation.append('Anticoagulation within 24 Hours')\n",
    "clean_TEG_df[selected_anticoagulation].head()"
   ]
  },
  {
   "cell_type": "code",
   "execution_count": 324,
   "metadata": {},
   "outputs": [],
   "source": [
    "# Drop old columns\n",
    "clean_baseline_df.drop(columns=['Artery affected','Intervention Type'], inplace=True)\n",
    "clean_TEG_df.drop(columns=['Antiplatelet Therapy within 7 Days', 'Anticoagulation within 24 Hours'], inplace=True)"
   ]
  },
  {
   "cell_type": "code",
   "execution_count": 325,
   "metadata": {},
   "outputs": [],
   "source": [
    "# Save in excel\n",
    "excel_file = \"./data/clean_data.xlsx\"\n",
    "\n",
    "# Create an Excel writer object\n",
    "with pd.ExcelWriter(excel_file, engine='xlsxwriter') as writer:\n",
    "    # Write each DataFrame to a different Excel sheet\n",
    "    clean_TEG_df.to_excel(writer, sheet_name='TEG values', index=False)\n",
    "    clean_baseline_df.to_excel(writer, sheet_name='Baseline', index=False)\n"
   ]
  },
  {
   "cell_type": "markdown",
   "metadata": {},
   "source": [
    "## Extend data\n",
    "Create the rate of change of teg values colum"
   ]
  },
  {
   "cell_type": "code",
   "execution_count": 326,
   "metadata": {},
   "outputs": [
    {
     "data": {
      "text/plain": [
       "['Reaction Time (R) in min',\n",
       " 'Lysis at 30 min (LY30) in %',\n",
       " 'HKH MA (mm)',\n",
       " 'ActF MA (mm)',\n",
       " 'ADP MA (mm)',\n",
       " 'AA MA(mm)',\n",
       " 'ADP % Aggregation',\n",
       " 'ADP % Inhibition',\n",
       " 'AA % Aggregation',\n",
       " 'AA % Inhibition',\n",
       " 'CK R(min)',\n",
       " 'CK K (min)',\n",
       " 'CK angle( deg)',\n",
       " 'CK MA (mm)',\n",
       " 'CRT MA(mm)',\n",
       " 'CKH R (min)',\n",
       " 'CFF MA(mm)',\n",
       " 'CFF FLEV(mg/dL)',\n",
       " 'HbA1c Baseline( within1 year of study start)',\n",
       " 'INR value',\n",
       " 'aPTT',\n",
       " 'PT value',\n",
       " 'WBC in K/uL',\n",
       " 'RBC (M/uL)',\n",
       " 'HGB(g/dL)',\n",
       " 'HCT %',\n",
       " 'PLT(K/uL)']"
      ]
     },
     "execution_count": 326,
     "metadata": {},
     "output_type": "execute_result"
    }
   ],
   "source": [
    "# Columns\n",
    "tegValues"
   ]
  },
  {
   "cell_type": "code",
   "execution_count": 327,
   "metadata": {},
   "outputs": [],
   "source": [
    "extended_df = clean_TEG_df.copy()"
   ]
  },
  {
   "cell_type": "code",
   "execution_count": 328,
   "metadata": {},
   "outputs": [
    {
     "data": {
      "text/html": [
       "<div>\n",
       "<style scoped>\n",
       "    .dataframe tbody tr th:only-of-type {\n",
       "        vertical-align: middle;\n",
       "    }\n",
       "\n",
       "    .dataframe tbody tr th {\n",
       "        vertical-align: top;\n",
       "    }\n",
       "\n",
       "    .dataframe thead th {\n",
       "        text-align: right;\n",
       "    }\n",
       "</style>\n",
       "<table border=\"1\" class=\"dataframe\">\n",
       "  <thead>\n",
       "    <tr style=\"text-align: right;\">\n",
       "      <th></th>\n",
       "      <th>Record ID</th>\n",
       "      <th>Days from operation</th>\n",
       "    </tr>\n",
       "  </thead>\n",
       "  <tbody>\n",
       "    <tr>\n",
       "      <th>128</th>\n",
       "      <td>5</td>\n",
       "      <td>0</td>\n",
       "    </tr>\n",
       "    <tr>\n",
       "      <th>24</th>\n",
       "      <td>5</td>\n",
       "      <td>1</td>\n",
       "    </tr>\n",
       "    <tr>\n",
       "      <th>232</th>\n",
       "      <td>5</td>\n",
       "      <td>1</td>\n",
       "    </tr>\n",
       "    <tr>\n",
       "      <th>336</th>\n",
       "      <td>5</td>\n",
       "      <td>1</td>\n",
       "    </tr>\n",
       "    <tr>\n",
       "      <th>492</th>\n",
       "      <td>5</td>\n",
       "      <td>3</td>\n",
       "    </tr>\n",
       "    <tr>\n",
       "      <th>...</th>\n",
       "      <td>...</td>\n",
       "      <td>...</td>\n",
       "    </tr>\n",
       "    <tr>\n",
       "      <th>686</th>\n",
       "      <td>T21-63</td>\n",
       "      <td>5</td>\n",
       "    </tr>\n",
       "    <tr>\n",
       "      <th>166</th>\n",
       "      <td>T21-63</td>\n",
       "      <td>30</td>\n",
       "    </tr>\n",
       "    <tr>\n",
       "      <th>218</th>\n",
       "      <td>T21-63</td>\n",
       "      <td>30</td>\n",
       "    </tr>\n",
       "    <tr>\n",
       "      <th>322</th>\n",
       "      <td>T21-63</td>\n",
       "      <td>90</td>\n",
       "    </tr>\n",
       "    <tr>\n",
       "      <th>270</th>\n",
       "      <td>T21-63</td>\n",
       "      <td>180</td>\n",
       "    </tr>\n",
       "  </tbody>\n",
       "</table>\n",
       "<p>800 rows × 2 columns</p>\n",
       "</div>"
      ],
      "text/plain": [
       "    Record ID  Days from operation\n",
       "128         5                    0\n",
       "24          5                    1\n",
       "232         5                    1\n",
       "336         5                    1\n",
       "492         5                    3\n",
       "..        ...                  ...\n",
       "686    T21-63                    5\n",
       "166    T21-63                   30\n",
       "218    T21-63                   30\n",
       "322    T21-63                   90\n",
       "270    T21-63                  180\n",
       "\n",
       "[800 rows x 2 columns]"
      ]
     },
     "execution_count": 328,
     "metadata": {},
     "output_type": "execute_result"
    }
   ],
   "source": [
    "# Sort the DataFrame by \"Record ID\" and \"Visit Timepoint\"\n",
    "extended_df= extended_df.sort_values(by=[\"Record ID\", \"Days from operation\"])\n",
    "extended_df[[\"Record ID\", \"Days from operation\"]]"
   ]
  },
  {
   "cell_type": "code",
   "execution_count": 329,
   "metadata": {},
   "outputs": [
    {
     "data": {
      "text/html": [
       "<div>\n",
       "<style scoped>\n",
       "    .dataframe tbody tr th:only-of-type {\n",
       "        vertical-align: middle;\n",
       "    }\n",
       "\n",
       "    .dataframe tbody tr th {\n",
       "        vertical-align: top;\n",
       "    }\n",
       "\n",
       "    .dataframe thead th {\n",
       "        text-align: right;\n",
       "    }\n",
       "</style>\n",
       "<table border=\"1\" class=\"dataframe\">\n",
       "  <thead>\n",
       "    <tr style=\"text-align: right;\">\n",
       "      <th></th>\n",
       "      <th>Record ID</th>\n",
       "      <th>Days from operation</th>\n",
       "      <th>Days Diff</th>\n",
       "    </tr>\n",
       "  </thead>\n",
       "  <tbody>\n",
       "    <tr>\n",
       "      <th>128</th>\n",
       "      <td>5</td>\n",
       "      <td>0</td>\n",
       "      <td>NaN</td>\n",
       "    </tr>\n",
       "    <tr>\n",
       "      <th>24</th>\n",
       "      <td>5</td>\n",
       "      <td>1</td>\n",
       "      <td>1.0</td>\n",
       "    </tr>\n",
       "    <tr>\n",
       "      <th>232</th>\n",
       "      <td>5</td>\n",
       "      <td>1</td>\n",
       "      <td>1.0</td>\n",
       "    </tr>\n",
       "    <tr>\n",
       "      <th>336</th>\n",
       "      <td>5</td>\n",
       "      <td>1</td>\n",
       "      <td>1.0</td>\n",
       "    </tr>\n",
       "    <tr>\n",
       "      <th>492</th>\n",
       "      <td>5</td>\n",
       "      <td>3</td>\n",
       "      <td>2.0</td>\n",
       "    </tr>\n",
       "    <tr>\n",
       "      <th>...</th>\n",
       "      <td>...</td>\n",
       "      <td>...</td>\n",
       "      <td>...</td>\n",
       "    </tr>\n",
       "    <tr>\n",
       "      <th>686</th>\n",
       "      <td>T21-63</td>\n",
       "      <td>5</td>\n",
       "      <td>1.0</td>\n",
       "    </tr>\n",
       "    <tr>\n",
       "      <th>166</th>\n",
       "      <td>T21-63</td>\n",
       "      <td>30</td>\n",
       "      <td>25.0</td>\n",
       "    </tr>\n",
       "    <tr>\n",
       "      <th>218</th>\n",
       "      <td>T21-63</td>\n",
       "      <td>30</td>\n",
       "      <td>1.0</td>\n",
       "    </tr>\n",
       "    <tr>\n",
       "      <th>322</th>\n",
       "      <td>T21-63</td>\n",
       "      <td>90</td>\n",
       "      <td>60.0</td>\n",
       "    </tr>\n",
       "    <tr>\n",
       "      <th>270</th>\n",
       "      <td>T21-63</td>\n",
       "      <td>180</td>\n",
       "      <td>90.0</td>\n",
       "    </tr>\n",
       "  </tbody>\n",
       "</table>\n",
       "<p>800 rows × 3 columns</p>\n",
       "</div>"
      ],
      "text/plain": [
       "    Record ID  Days from operation  Days Diff\n",
       "128         5                    0        NaN\n",
       "24          5                    1        1.0\n",
       "232         5                    1        1.0\n",
       "336         5                    1        1.0\n",
       "492         5                    3        2.0\n",
       "..        ...                  ...        ...\n",
       "686    T21-63                    5        1.0\n",
       "166    T21-63                   30       25.0\n",
       "218    T21-63                   30        1.0\n",
       "322    T21-63                   90       60.0\n",
       "270    T21-63                  180       90.0\n",
       "\n",
       "[800 rows x 3 columns]"
      ]
     },
     "execution_count": 329,
     "metadata": {},
     "output_type": "execute_result"
    }
   ],
   "source": [
    "# Group by 'Record ID'\n",
    "grouped = extended_df.groupby('Record ID')\n",
    "\n",
    "#Calculate the difference in 'Days from operation'\n",
    "extended_df['Days Diff'] = grouped['Days from operation'].diff()\n",
    "\n",
    "# Replace 0s to avoid infinity\n",
    "extended_df[\"Days Diff\"] = extended_df[\"Days Diff\"].replace(0, 1)\n",
    "\n",
    "extended_df[[\"Record ID\", \"Days from operation\", \"Days Diff\"]]\n"
   ]
  },
  {
   "cell_type": "code",
   "execution_count": 330,
   "metadata": {},
   "outputs": [],
   "source": [
    "new_columns = []\n",
    "# Iterate TEG values\n",
    "for value in tegValues:\n",
    "\n",
    "    # Get column names\n",
    "    diff_column_name = f\"{value}_difference_since_last_timepoint\"\n",
    "    rate_column_name = f\"{value}_rate_since_last_timepoint\"\n",
    "    new_columns.append(diff_column_name)\n",
    "    new_columns.append(rate_column_name)\n",
    "\n",
    "\n",
    "    # Calculate the difference in TEG values\n",
    "    extended_df[diff_column_name] = grouped[value].diff()\n",
    "\n",
    "    # Divide  by the differences in 'Days from operation'\n",
    "    extended_df[rate_column_name] = extended_df[diff_column_name] / extended_df['Days Diff']\n",
    "\n",
    "# Fill the first value with the next one to avoid NaN\n",
    "extended_df.bfill(inplace=True)"
   ]
  },
  {
   "cell_type": "code",
   "execution_count": 331,
   "metadata": {},
   "outputs": [
    {
     "data": {
      "text/html": [
       "<div>\n",
       "<style scoped>\n",
       "    .dataframe tbody tr th:only-of-type {\n",
       "        vertical-align: middle;\n",
       "    }\n",
       "\n",
       "    .dataframe tbody tr th {\n",
       "        vertical-align: top;\n",
       "    }\n",
       "\n",
       "    .dataframe thead th {\n",
       "        text-align: right;\n",
       "    }\n",
       "</style>\n",
       "<table border=\"1\" class=\"dataframe\">\n",
       "  <thead>\n",
       "    <tr style=\"text-align: right;\">\n",
       "      <th></th>\n",
       "      <th>Reaction Time (R) in min_difference_since_last_timepoint</th>\n",
       "      <th>Reaction Time (R) in min_rate_since_last_timepoint</th>\n",
       "      <th>Lysis at 30 min (LY30) in %_difference_since_last_timepoint</th>\n",
       "      <th>Lysis at 30 min (LY30) in %_rate_since_last_timepoint</th>\n",
       "      <th>HKH MA (mm)_difference_since_last_timepoint</th>\n",
       "      <th>HKH MA (mm)_rate_since_last_timepoint</th>\n",
       "      <th>ActF MA (mm)_difference_since_last_timepoint</th>\n",
       "      <th>ActF MA (mm)_rate_since_last_timepoint</th>\n",
       "      <th>ADP MA (mm)_difference_since_last_timepoint</th>\n",
       "      <th>ADP MA (mm)_rate_since_last_timepoint</th>\n",
       "      <th>...</th>\n",
       "      <th>WBC in K/uL_difference_since_last_timepoint</th>\n",
       "      <th>WBC in K/uL_rate_since_last_timepoint</th>\n",
       "      <th>RBC (M/uL)_difference_since_last_timepoint</th>\n",
       "      <th>RBC (M/uL)_rate_since_last_timepoint</th>\n",
       "      <th>HGB(g/dL)_difference_since_last_timepoint</th>\n",
       "      <th>HGB(g/dL)_rate_since_last_timepoint</th>\n",
       "      <th>HCT %_difference_since_last_timepoint</th>\n",
       "      <th>HCT %_rate_since_last_timepoint</th>\n",
       "      <th>PLT(K/uL)_difference_since_last_timepoint</th>\n",
       "      <th>PLT(K/uL)_rate_since_last_timepoint</th>\n",
       "    </tr>\n",
       "  </thead>\n",
       "  <tbody>\n",
       "    <tr>\n",
       "      <th>128</th>\n",
       "      <td>12.718378</td>\n",
       "      <td>12.718378</td>\n",
       "      <td>4.652072</td>\n",
       "      <td>4.652072</td>\n",
       "      <td>56.059502</td>\n",
       "      <td>56.059502</td>\n",
       "      <td>5.268057</td>\n",
       "      <td>5.268057</td>\n",
       "      <td>13.530277</td>\n",
       "      <td>13.530277</td>\n",
       "      <td>...</td>\n",
       "      <td>0.954498</td>\n",
       "      <td>0.954498</td>\n",
       "      <td>0.073992</td>\n",
       "      <td>0.073992</td>\n",
       "      <td>-6.667564</td>\n",
       "      <td>-6.667564</td>\n",
       "      <td>12.655531</td>\n",
       "      <td>12.655531</td>\n",
       "      <td>381.144204</td>\n",
       "      <td>381.144204</td>\n",
       "    </tr>\n",
       "    <tr>\n",
       "      <th>24</th>\n",
       "      <td>12.718378</td>\n",
       "      <td>12.718378</td>\n",
       "      <td>4.652072</td>\n",
       "      <td>4.652072</td>\n",
       "      <td>56.059502</td>\n",
       "      <td>56.059502</td>\n",
       "      <td>5.268057</td>\n",
       "      <td>5.268057</td>\n",
       "      <td>13.530277</td>\n",
       "      <td>13.530277</td>\n",
       "      <td>...</td>\n",
       "      <td>0.954498</td>\n",
       "      <td>0.954498</td>\n",
       "      <td>0.073992</td>\n",
       "      <td>0.073992</td>\n",
       "      <td>-6.667564</td>\n",
       "      <td>-6.667564</td>\n",
       "      <td>12.655531</td>\n",
       "      <td>12.655531</td>\n",
       "      <td>381.144204</td>\n",
       "      <td>381.144204</td>\n",
       "    </tr>\n",
       "    <tr>\n",
       "      <th>232</th>\n",
       "      <td>-8.311065</td>\n",
       "      <td>-8.311065</td>\n",
       "      <td>11.731168</td>\n",
       "      <td>5.865584</td>\n",
       "      <td>-47.225873</td>\n",
       "      <td>-47.225873</td>\n",
       "      <td>1.887569</td>\n",
       "      <td>1.887569</td>\n",
       "      <td>-28.111831</td>\n",
       "      <td>-28.111831</td>\n",
       "      <td>...</td>\n",
       "      <td>-1.000413</td>\n",
       "      <td>-1.000413</td>\n",
       "      <td>-0.753583</td>\n",
       "      <td>-0.753583</td>\n",
       "      <td>8.473345</td>\n",
       "      <td>8.473345</td>\n",
       "      <td>-17.624743</td>\n",
       "      <td>-17.624743</td>\n",
       "      <td>-499.469330</td>\n",
       "      <td>-499.469330</td>\n",
       "    </tr>\n",
       "    <tr>\n",
       "      <th>336</th>\n",
       "      <td>10.773672</td>\n",
       "      <td>10.773672</td>\n",
       "      <td>11.731168</td>\n",
       "      <td>5.865584</td>\n",
       "      <td>-14.184491</td>\n",
       "      <td>-14.184491</td>\n",
       "      <td>11.416079</td>\n",
       "      <td>11.416079</td>\n",
       "      <td>-4.463203</td>\n",
       "      <td>-4.463203</td>\n",
       "      <td>...</td>\n",
       "      <td>-1.161365</td>\n",
       "      <td>-1.161365</td>\n",
       "      <td>-2.148798</td>\n",
       "      <td>-2.148798</td>\n",
       "      <td>-1.093748</td>\n",
       "      <td>-1.093748</td>\n",
       "      <td>-5.690214</td>\n",
       "      <td>-5.690214</td>\n",
       "      <td>471.861546</td>\n",
       "      <td>471.861546</td>\n",
       "    </tr>\n",
       "    <tr>\n",
       "      <th>492</th>\n",
       "      <td>-7.357549</td>\n",
       "      <td>-7.357549</td>\n",
       "      <td>11.731168</td>\n",
       "      <td>5.865584</td>\n",
       "      <td>-3.809000</td>\n",
       "      <td>-1.904500</td>\n",
       "      <td>-22.104532</td>\n",
       "      <td>-11.052266</td>\n",
       "      <td>-0.069516</td>\n",
       "      <td>-0.034758</td>\n",
       "      <td>...</td>\n",
       "      <td>4.082540</td>\n",
       "      <td>2.041270</td>\n",
       "      <td>0.657222</td>\n",
       "      <td>0.328611</td>\n",
       "      <td>-6.683472</td>\n",
       "      <td>-3.341736</td>\n",
       "      <td>-3.809204</td>\n",
       "      <td>-1.904602</td>\n",
       "      <td>-439.080783</td>\n",
       "      <td>-219.540391</td>\n",
       "    </tr>\n",
       "    <tr>\n",
       "      <th>...</th>\n",
       "      <td>...</td>\n",
       "      <td>...</td>\n",
       "      <td>...</td>\n",
       "      <td>...</td>\n",
       "      <td>...</td>\n",
       "      <td>...</td>\n",
       "      <td>...</td>\n",
       "      <td>...</td>\n",
       "      <td>...</td>\n",
       "      <td>...</td>\n",
       "      <td>...</td>\n",
       "      <td>...</td>\n",
       "      <td>...</td>\n",
       "      <td>...</td>\n",
       "      <td>...</td>\n",
       "      <td>...</td>\n",
       "      <td>...</td>\n",
       "      <td>...</td>\n",
       "      <td>...</td>\n",
       "      <td>...</td>\n",
       "      <td>...</td>\n",
       "    </tr>\n",
       "    <tr>\n",
       "      <th>686</th>\n",
       "      <td>5.407998</td>\n",
       "      <td>5.407998</td>\n",
       "      <td>-15.987030</td>\n",
       "      <td>-15.987030</td>\n",
       "      <td>31.968000</td>\n",
       "      <td>31.968000</td>\n",
       "      <td>14.956280</td>\n",
       "      <td>14.956280</td>\n",
       "      <td>36.254698</td>\n",
       "      <td>36.254698</td>\n",
       "      <td>...</td>\n",
       "      <td>5.985353</td>\n",
       "      <td>5.985353</td>\n",
       "      <td>1.296360</td>\n",
       "      <td>1.296360</td>\n",
       "      <td>8.114565</td>\n",
       "      <td>8.114565</td>\n",
       "      <td>-0.836521</td>\n",
       "      <td>-0.836521</td>\n",
       "      <td>78.949279</td>\n",
       "      <td>78.949279</td>\n",
       "    </tr>\n",
       "    <tr>\n",
       "      <th>166</th>\n",
       "      <td>0.483487</td>\n",
       "      <td>0.019339</td>\n",
       "      <td>13.321286</td>\n",
       "      <td>0.532851</td>\n",
       "      <td>12.674935</td>\n",
       "      <td>0.506997</td>\n",
       "      <td>3.176093</td>\n",
       "      <td>0.127044</td>\n",
       "      <td>-11.616187</td>\n",
       "      <td>-0.464647</td>\n",
       "      <td>...</td>\n",
       "      <td>-4.042955</td>\n",
       "      <td>-0.161718</td>\n",
       "      <td>-0.595934</td>\n",
       "      <td>-0.023837</td>\n",
       "      <td>3.408579</td>\n",
       "      <td>0.136343</td>\n",
       "      <td>7.077759</td>\n",
       "      <td>0.283110</td>\n",
       "      <td>-175.505866</td>\n",
       "      <td>-7.020235</td>\n",
       "    </tr>\n",
       "    <tr>\n",
       "      <th>218</th>\n",
       "      <td>3.161806</td>\n",
       "      <td>0.035131</td>\n",
       "      <td>-8.006883</td>\n",
       "      <td>-8.006883</td>\n",
       "      <td>-32.866860</td>\n",
       "      <td>-32.866860</td>\n",
       "      <td>-6.586812</td>\n",
       "      <td>-6.586812</td>\n",
       "      <td>-36.999902</td>\n",
       "      <td>-36.999902</td>\n",
       "      <td>...</td>\n",
       "      <td>2.799659</td>\n",
       "      <td>2.799659</td>\n",
       "      <td>0.614396</td>\n",
       "      <td>0.614396</td>\n",
       "      <td>-4.681215</td>\n",
       "      <td>-4.681215</td>\n",
       "      <td>8.585907</td>\n",
       "      <td>8.585907</td>\n",
       "      <td>-160.590045</td>\n",
       "      <td>-160.590045</td>\n",
       "    </tr>\n",
       "    <tr>\n",
       "      <th>322</th>\n",
       "      <td>3.161806</td>\n",
       "      <td>0.035131</td>\n",
       "      <td>-3.265605</td>\n",
       "      <td>-0.054427</td>\n",
       "      <td>-15.500802</td>\n",
       "      <td>-0.258347</td>\n",
       "      <td>11.768816</td>\n",
       "      <td>0.196147</td>\n",
       "      <td>NaN</td>\n",
       "      <td>NaN</td>\n",
       "      <td>...</td>\n",
       "      <td>-15.012593</td>\n",
       "      <td>-0.250210</td>\n",
       "      <td>-3.251790</td>\n",
       "      <td>-0.054197</td>\n",
       "      <td>0.225771</td>\n",
       "      <td>0.003763</td>\n",
       "      <td>-28.885626</td>\n",
       "      <td>-0.481427</td>\n",
       "      <td>-85.342491</td>\n",
       "      <td>-1.422375</td>\n",
       "    </tr>\n",
       "    <tr>\n",
       "      <th>270</th>\n",
       "      <td>3.161806</td>\n",
       "      <td>0.035131</td>\n",
       "      <td>10.618817</td>\n",
       "      <td>0.117987</td>\n",
       "      <td>24.098649</td>\n",
       "      <td>0.267763</td>\n",
       "      <td>-18.403977</td>\n",
       "      <td>-0.204489</td>\n",
       "      <td>NaN</td>\n",
       "      <td>NaN</td>\n",
       "      <td>...</td>\n",
       "      <td>12.902357</td>\n",
       "      <td>0.143360</td>\n",
       "      <td>1.579797</td>\n",
       "      <td>0.017553</td>\n",
       "      <td>-4.404187</td>\n",
       "      <td>-0.048935</td>\n",
       "      <td>20.149381</td>\n",
       "      <td>0.223882</td>\n",
       "      <td>460.927975</td>\n",
       "      <td>5.121422</td>\n",
       "    </tr>\n",
       "  </tbody>\n",
       "</table>\n",
       "<p>800 rows × 54 columns</p>\n",
       "</div>"
      ],
      "text/plain": [
       "     Reaction Time (R) in min_difference_since_last_timepoint  \\\n",
       "128                                          12.718378          \n",
       "24                                           12.718378          \n",
       "232                                          -8.311065          \n",
       "336                                          10.773672          \n",
       "492                                          -7.357549          \n",
       "..                                                 ...          \n",
       "686                                           5.407998          \n",
       "166                                           0.483487          \n",
       "218                                           3.161806          \n",
       "322                                           3.161806          \n",
       "270                                           3.161806          \n",
       "\n",
       "     Reaction Time (R) in min_rate_since_last_timepoint  \\\n",
       "128                                          12.718378    \n",
       "24                                           12.718378    \n",
       "232                                          -8.311065    \n",
       "336                                          10.773672    \n",
       "492                                          -7.357549    \n",
       "..                                                 ...    \n",
       "686                                           5.407998    \n",
       "166                                           0.019339    \n",
       "218                                           0.035131    \n",
       "322                                           0.035131    \n",
       "270                                           0.035131    \n",
       "\n",
       "     Lysis at 30 min (LY30) in %_difference_since_last_timepoint  \\\n",
       "128                                           4.652072             \n",
       "24                                            4.652072             \n",
       "232                                          11.731168             \n",
       "336                                          11.731168             \n",
       "492                                          11.731168             \n",
       "..                                                 ...             \n",
       "686                                         -15.987030             \n",
       "166                                          13.321286             \n",
       "218                                          -8.006883             \n",
       "322                                          -3.265605             \n",
       "270                                          10.618817             \n",
       "\n",
       "     Lysis at 30 min (LY30) in %_rate_since_last_timepoint  \\\n",
       "128                                           4.652072       \n",
       "24                                            4.652072       \n",
       "232                                           5.865584       \n",
       "336                                           5.865584       \n",
       "492                                           5.865584       \n",
       "..                                                 ...       \n",
       "686                                         -15.987030       \n",
       "166                                           0.532851       \n",
       "218                                          -8.006883       \n",
       "322                                          -0.054427       \n",
       "270                                           0.117987       \n",
       "\n",
       "     HKH MA (mm)_difference_since_last_timepoint  \\\n",
       "128                                    56.059502   \n",
       "24                                     56.059502   \n",
       "232                                   -47.225873   \n",
       "336                                   -14.184491   \n",
       "492                                    -3.809000   \n",
       "..                                           ...   \n",
       "686                                    31.968000   \n",
       "166                                    12.674935   \n",
       "218                                   -32.866860   \n",
       "322                                   -15.500802   \n",
       "270                                    24.098649   \n",
       "\n",
       "     HKH MA (mm)_rate_since_last_timepoint  \\\n",
       "128                              56.059502   \n",
       "24                               56.059502   \n",
       "232                             -47.225873   \n",
       "336                             -14.184491   \n",
       "492                              -1.904500   \n",
       "..                                     ...   \n",
       "686                              31.968000   \n",
       "166                               0.506997   \n",
       "218                             -32.866860   \n",
       "322                              -0.258347   \n",
       "270                               0.267763   \n",
       "\n",
       "     ActF MA (mm)_difference_since_last_timepoint  \\\n",
       "128                                      5.268057   \n",
       "24                                       5.268057   \n",
       "232                                      1.887569   \n",
       "336                                     11.416079   \n",
       "492                                    -22.104532   \n",
       "..                                            ...   \n",
       "686                                     14.956280   \n",
       "166                                      3.176093   \n",
       "218                                     -6.586812   \n",
       "322                                     11.768816   \n",
       "270                                    -18.403977   \n",
       "\n",
       "     ActF MA (mm)_rate_since_last_timepoint  \\\n",
       "128                                5.268057   \n",
       "24                                 5.268057   \n",
       "232                                1.887569   \n",
       "336                               11.416079   \n",
       "492                              -11.052266   \n",
       "..                                      ...   \n",
       "686                               14.956280   \n",
       "166                                0.127044   \n",
       "218                               -6.586812   \n",
       "322                                0.196147   \n",
       "270                               -0.204489   \n",
       "\n",
       "     ADP MA (mm)_difference_since_last_timepoint  \\\n",
       "128                                    13.530277   \n",
       "24                                     13.530277   \n",
       "232                                   -28.111831   \n",
       "336                                    -4.463203   \n",
       "492                                    -0.069516   \n",
       "..                                           ...   \n",
       "686                                    36.254698   \n",
       "166                                   -11.616187   \n",
       "218                                   -36.999902   \n",
       "322                                          NaN   \n",
       "270                                          NaN   \n",
       "\n",
       "     ADP MA (mm)_rate_since_last_timepoint  ...  \\\n",
       "128                              13.530277  ...   \n",
       "24                               13.530277  ...   \n",
       "232                             -28.111831  ...   \n",
       "336                              -4.463203  ...   \n",
       "492                              -0.034758  ...   \n",
       "..                                     ...  ...   \n",
       "686                              36.254698  ...   \n",
       "166                              -0.464647  ...   \n",
       "218                             -36.999902  ...   \n",
       "322                                    NaN  ...   \n",
       "270                                    NaN  ...   \n",
       "\n",
       "     WBC in K/uL_difference_since_last_timepoint  \\\n",
       "128                                     0.954498   \n",
       "24                                      0.954498   \n",
       "232                                    -1.000413   \n",
       "336                                    -1.161365   \n",
       "492                                     4.082540   \n",
       "..                                           ...   \n",
       "686                                     5.985353   \n",
       "166                                    -4.042955   \n",
       "218                                     2.799659   \n",
       "322                                   -15.012593   \n",
       "270                                    12.902357   \n",
       "\n",
       "     WBC in K/uL_rate_since_last_timepoint  \\\n",
       "128                               0.954498   \n",
       "24                                0.954498   \n",
       "232                              -1.000413   \n",
       "336                              -1.161365   \n",
       "492                               2.041270   \n",
       "..                                     ...   \n",
       "686                               5.985353   \n",
       "166                              -0.161718   \n",
       "218                               2.799659   \n",
       "322                              -0.250210   \n",
       "270                               0.143360   \n",
       "\n",
       "     RBC (M/uL)_difference_since_last_timepoint  \\\n",
       "128                                    0.073992   \n",
       "24                                     0.073992   \n",
       "232                                   -0.753583   \n",
       "336                                   -2.148798   \n",
       "492                                    0.657222   \n",
       "..                                          ...   \n",
       "686                                    1.296360   \n",
       "166                                   -0.595934   \n",
       "218                                    0.614396   \n",
       "322                                   -3.251790   \n",
       "270                                    1.579797   \n",
       "\n",
       "     RBC (M/uL)_rate_since_last_timepoint  \\\n",
       "128                              0.073992   \n",
       "24                               0.073992   \n",
       "232                             -0.753583   \n",
       "336                             -2.148798   \n",
       "492                              0.328611   \n",
       "..                                    ...   \n",
       "686                              1.296360   \n",
       "166                             -0.023837   \n",
       "218                              0.614396   \n",
       "322                             -0.054197   \n",
       "270                              0.017553   \n",
       "\n",
       "     HGB(g/dL)_difference_since_last_timepoint  \\\n",
       "128                                  -6.667564   \n",
       "24                                   -6.667564   \n",
       "232                                   8.473345   \n",
       "336                                  -1.093748   \n",
       "492                                  -6.683472   \n",
       "..                                         ...   \n",
       "686                                   8.114565   \n",
       "166                                   3.408579   \n",
       "218                                  -4.681215   \n",
       "322                                   0.225771   \n",
       "270                                  -4.404187   \n",
       "\n",
       "     HGB(g/dL)_rate_since_last_timepoint  \\\n",
       "128                            -6.667564   \n",
       "24                             -6.667564   \n",
       "232                             8.473345   \n",
       "336                            -1.093748   \n",
       "492                            -3.341736   \n",
       "..                                   ...   \n",
       "686                             8.114565   \n",
       "166                             0.136343   \n",
       "218                            -4.681215   \n",
       "322                             0.003763   \n",
       "270                            -0.048935   \n",
       "\n",
       "     HCT %_difference_since_last_timepoint  HCT %_rate_since_last_timepoint  \\\n",
       "128                              12.655531                        12.655531   \n",
       "24                               12.655531                        12.655531   \n",
       "232                             -17.624743                       -17.624743   \n",
       "336                              -5.690214                        -5.690214   \n",
       "492                              -3.809204                        -1.904602   \n",
       "..                                     ...                              ...   \n",
       "686                              -0.836521                        -0.836521   \n",
       "166                               7.077759                         0.283110   \n",
       "218                               8.585907                         8.585907   \n",
       "322                             -28.885626                        -0.481427   \n",
       "270                              20.149381                         0.223882   \n",
       "\n",
       "     PLT(K/uL)_difference_since_last_timepoint  \\\n",
       "128                                 381.144204   \n",
       "24                                  381.144204   \n",
       "232                                -499.469330   \n",
       "336                                 471.861546   \n",
       "492                                -439.080783   \n",
       "..                                         ...   \n",
       "686                                  78.949279   \n",
       "166                                -175.505866   \n",
       "218                                -160.590045   \n",
       "322                                 -85.342491   \n",
       "270                                 460.927975   \n",
       "\n",
       "     PLT(K/uL)_rate_since_last_timepoint  \n",
       "128                           381.144204  \n",
       "24                            381.144204  \n",
       "232                          -499.469330  \n",
       "336                           471.861546  \n",
       "492                          -219.540391  \n",
       "..                                   ...  \n",
       "686                            78.949279  \n",
       "166                            -7.020235  \n",
       "218                          -160.590045  \n",
       "322                            -1.422375  \n",
       "270                             5.121422  \n",
       "\n",
       "[800 rows x 54 columns]"
      ]
     },
     "execution_count": 331,
     "metadata": {},
     "output_type": "execute_result"
    }
   ],
   "source": [
    "extended_df[new_columns]\n"
   ]
  },
  {
   "cell_type": "code",
   "execution_count": 332,
   "metadata": {},
   "outputs": [],
   "source": [
    "# Drop column with diff in dates\n",
    "extended_df.drop(columns=[\"Days Diff\"], inplace = True)"
   ]
  },
  {
   "cell_type": "code",
   "execution_count": 333,
   "metadata": {},
   "outputs": [],
   "source": [
    "# Save in excel\n",
    "excel_file = \"./data/extended_data.xlsx\"\n",
    "\n",
    "# Create an Excel writer object\n",
    "with pd.ExcelWriter(excel_file, engine='xlsxwriter') as writer:\n",
    "    # Write each DataFrame to a different Excel sheet\n",
    "    extended_df.to_excel(writer, sheet_name='TEG values', index=False)\n",
    "    clean_baseline_df.to_excel(writer, sheet_name='Baseline', index=False)"
   ]
  },
  {
   "cell_type": "markdown",
   "metadata": {},
   "source": [
    "## Data visualization\n",
    "The goal of this section is to create the graphs that will be shown to the user describing the general data demographics\n",
    "Some of the values are calculated based on the totaal number of patients in the baseline information, and some is calculated from the TEG values\n",
    "\n",
    "Baseline summary:\n",
    "- Age\n",
    "- Gender\n",
    "- Ethnicity\n",
    "- BMI\n",
    "\n",
    "TEG values:\n",
    "- Number of events\n",
    "- Total number of data points"
   ]
  },
  {
   "cell_type": "code",
   "execution_count": 334,
   "metadata": {},
   "outputs": [],
   "source": [
    "fig_df = clean_baseline_df.copy()"
   ]
  },
  {
   "cell_type": "code",
   "execution_count": 335,
   "metadata": {},
   "outputs": [],
   "source": [
    "# Define custom colors\n",
    "male_colors = ['#d9ed92', '#99d98c'] \n",
    "white_colors = ['#184e77', '#1a759f'] \n",
    "events_colors = '#1a759f'\n",
    "age_histogram_color = '#52b69a' \n",
    "bmi_histogram_color = '#1e6091'"
   ]
  },
  {
   "cell_type": "code",
   "execution_count": 336,
   "metadata": {},
   "outputs": [
    {
     "data": {
      "application/vnd.plotly.v1+json": {
       "config": {
        "plotlyServerURL": "https://plot.ly"
       },
       "data": [
        {
         "labels": [
          "Female",
          "Male"
         ],
         "marker": {
          "colors": [
           "#d9ed92",
           "#99d98c"
          ]
         },
         "type": "pie",
         "values": [
          28,
          24
         ]
        }
       ],
       "layout": {
        "height": 300,
        "template": {
         "data": {
          "bar": [
           {
            "error_x": {
             "color": "#2a3f5f"
            },
            "error_y": {
             "color": "#2a3f5f"
            },
            "marker": {
             "line": {
              "color": "#E5ECF6",
              "width": 0.5
             },
             "pattern": {
              "fillmode": "overlay",
              "size": 10,
              "solidity": 0.2
             }
            },
            "type": "bar"
           }
          ],
          "barpolar": [
           {
            "marker": {
             "line": {
              "color": "#E5ECF6",
              "width": 0.5
             },
             "pattern": {
              "fillmode": "overlay",
              "size": 10,
              "solidity": 0.2
             }
            },
            "type": "barpolar"
           }
          ],
          "carpet": [
           {
            "aaxis": {
             "endlinecolor": "#2a3f5f",
             "gridcolor": "white",
             "linecolor": "white",
             "minorgridcolor": "white",
             "startlinecolor": "#2a3f5f"
            },
            "baxis": {
             "endlinecolor": "#2a3f5f",
             "gridcolor": "white",
             "linecolor": "white",
             "minorgridcolor": "white",
             "startlinecolor": "#2a3f5f"
            },
            "type": "carpet"
           }
          ],
          "choropleth": [
           {
            "colorbar": {
             "outlinewidth": 0,
             "ticks": ""
            },
            "type": "choropleth"
           }
          ],
          "contour": [
           {
            "colorbar": {
             "outlinewidth": 0,
             "ticks": ""
            },
            "colorscale": [
             [
              0,
              "#0d0887"
             ],
             [
              0.1111111111111111,
              "#46039f"
             ],
             [
              0.2222222222222222,
              "#7201a8"
             ],
             [
              0.3333333333333333,
              "#9c179e"
             ],
             [
              0.4444444444444444,
              "#bd3786"
             ],
             [
              0.5555555555555556,
              "#d8576b"
             ],
             [
              0.6666666666666666,
              "#ed7953"
             ],
             [
              0.7777777777777778,
              "#fb9f3a"
             ],
             [
              0.8888888888888888,
              "#fdca26"
             ],
             [
              1,
              "#f0f921"
             ]
            ],
            "type": "contour"
           }
          ],
          "contourcarpet": [
           {
            "colorbar": {
             "outlinewidth": 0,
             "ticks": ""
            },
            "type": "contourcarpet"
           }
          ],
          "heatmap": [
           {
            "colorbar": {
             "outlinewidth": 0,
             "ticks": ""
            },
            "colorscale": [
             [
              0,
              "#0d0887"
             ],
             [
              0.1111111111111111,
              "#46039f"
             ],
             [
              0.2222222222222222,
              "#7201a8"
             ],
             [
              0.3333333333333333,
              "#9c179e"
             ],
             [
              0.4444444444444444,
              "#bd3786"
             ],
             [
              0.5555555555555556,
              "#d8576b"
             ],
             [
              0.6666666666666666,
              "#ed7953"
             ],
             [
              0.7777777777777778,
              "#fb9f3a"
             ],
             [
              0.8888888888888888,
              "#fdca26"
             ],
             [
              1,
              "#f0f921"
             ]
            ],
            "type": "heatmap"
           }
          ],
          "heatmapgl": [
           {
            "colorbar": {
             "outlinewidth": 0,
             "ticks": ""
            },
            "colorscale": [
             [
              0,
              "#0d0887"
             ],
             [
              0.1111111111111111,
              "#46039f"
             ],
             [
              0.2222222222222222,
              "#7201a8"
             ],
             [
              0.3333333333333333,
              "#9c179e"
             ],
             [
              0.4444444444444444,
              "#bd3786"
             ],
             [
              0.5555555555555556,
              "#d8576b"
             ],
             [
              0.6666666666666666,
              "#ed7953"
             ],
             [
              0.7777777777777778,
              "#fb9f3a"
             ],
             [
              0.8888888888888888,
              "#fdca26"
             ],
             [
              1,
              "#f0f921"
             ]
            ],
            "type": "heatmapgl"
           }
          ],
          "histogram": [
           {
            "marker": {
             "pattern": {
              "fillmode": "overlay",
              "size": 10,
              "solidity": 0.2
             }
            },
            "type": "histogram"
           }
          ],
          "histogram2d": [
           {
            "colorbar": {
             "outlinewidth": 0,
             "ticks": ""
            },
            "colorscale": [
             [
              0,
              "#0d0887"
             ],
             [
              0.1111111111111111,
              "#46039f"
             ],
             [
              0.2222222222222222,
              "#7201a8"
             ],
             [
              0.3333333333333333,
              "#9c179e"
             ],
             [
              0.4444444444444444,
              "#bd3786"
             ],
             [
              0.5555555555555556,
              "#d8576b"
             ],
             [
              0.6666666666666666,
              "#ed7953"
             ],
             [
              0.7777777777777778,
              "#fb9f3a"
             ],
             [
              0.8888888888888888,
              "#fdca26"
             ],
             [
              1,
              "#f0f921"
             ]
            ],
            "type": "histogram2d"
           }
          ],
          "histogram2dcontour": [
           {
            "colorbar": {
             "outlinewidth": 0,
             "ticks": ""
            },
            "colorscale": [
             [
              0,
              "#0d0887"
             ],
             [
              0.1111111111111111,
              "#46039f"
             ],
             [
              0.2222222222222222,
              "#7201a8"
             ],
             [
              0.3333333333333333,
              "#9c179e"
             ],
             [
              0.4444444444444444,
              "#bd3786"
             ],
             [
              0.5555555555555556,
              "#d8576b"
             ],
             [
              0.6666666666666666,
              "#ed7953"
             ],
             [
              0.7777777777777778,
              "#fb9f3a"
             ],
             [
              0.8888888888888888,
              "#fdca26"
             ],
             [
              1,
              "#f0f921"
             ]
            ],
            "type": "histogram2dcontour"
           }
          ],
          "mesh3d": [
           {
            "colorbar": {
             "outlinewidth": 0,
             "ticks": ""
            },
            "type": "mesh3d"
           }
          ],
          "parcoords": [
           {
            "line": {
             "colorbar": {
              "outlinewidth": 0,
              "ticks": ""
             }
            },
            "type": "parcoords"
           }
          ],
          "pie": [
           {
            "automargin": true,
            "type": "pie"
           }
          ],
          "scatter": [
           {
            "fillpattern": {
             "fillmode": "overlay",
             "size": 10,
             "solidity": 0.2
            },
            "type": "scatter"
           }
          ],
          "scatter3d": [
           {
            "line": {
             "colorbar": {
              "outlinewidth": 0,
              "ticks": ""
             }
            },
            "marker": {
             "colorbar": {
              "outlinewidth": 0,
              "ticks": ""
             }
            },
            "type": "scatter3d"
           }
          ],
          "scattercarpet": [
           {
            "marker": {
             "colorbar": {
              "outlinewidth": 0,
              "ticks": ""
             }
            },
            "type": "scattercarpet"
           }
          ],
          "scattergeo": [
           {
            "marker": {
             "colorbar": {
              "outlinewidth": 0,
              "ticks": ""
             }
            },
            "type": "scattergeo"
           }
          ],
          "scattergl": [
           {
            "marker": {
             "colorbar": {
              "outlinewidth": 0,
              "ticks": ""
             }
            },
            "type": "scattergl"
           }
          ],
          "scattermapbox": [
           {
            "marker": {
             "colorbar": {
              "outlinewidth": 0,
              "ticks": ""
             }
            },
            "type": "scattermapbox"
           }
          ],
          "scatterpolar": [
           {
            "marker": {
             "colorbar": {
              "outlinewidth": 0,
              "ticks": ""
             }
            },
            "type": "scatterpolar"
           }
          ],
          "scatterpolargl": [
           {
            "marker": {
             "colorbar": {
              "outlinewidth": 0,
              "ticks": ""
             }
            },
            "type": "scatterpolargl"
           }
          ],
          "scatterternary": [
           {
            "marker": {
             "colorbar": {
              "outlinewidth": 0,
              "ticks": ""
             }
            },
            "type": "scatterternary"
           }
          ],
          "surface": [
           {
            "colorbar": {
             "outlinewidth": 0,
             "ticks": ""
            },
            "colorscale": [
             [
              0,
              "#0d0887"
             ],
             [
              0.1111111111111111,
              "#46039f"
             ],
             [
              0.2222222222222222,
              "#7201a8"
             ],
             [
              0.3333333333333333,
              "#9c179e"
             ],
             [
              0.4444444444444444,
              "#bd3786"
             ],
             [
              0.5555555555555556,
              "#d8576b"
             ],
             [
              0.6666666666666666,
              "#ed7953"
             ],
             [
              0.7777777777777778,
              "#fb9f3a"
             ],
             [
              0.8888888888888888,
              "#fdca26"
             ],
             [
              1,
              "#f0f921"
             ]
            ],
            "type": "surface"
           }
          ],
          "table": [
           {
            "cells": {
             "fill": {
              "color": "#EBF0F8"
             },
             "line": {
              "color": "white"
             }
            },
            "header": {
             "fill": {
              "color": "#C8D4E3"
             },
             "line": {
              "color": "white"
             }
            },
            "type": "table"
           }
          ]
         },
         "layout": {
          "annotationdefaults": {
           "arrowcolor": "#2a3f5f",
           "arrowhead": 0,
           "arrowwidth": 1
          },
          "autotypenumbers": "strict",
          "coloraxis": {
           "colorbar": {
            "outlinewidth": 0,
            "ticks": ""
           }
          },
          "colorscale": {
           "diverging": [
            [
             0,
             "#8e0152"
            ],
            [
             0.1,
             "#c51b7d"
            ],
            [
             0.2,
             "#de77ae"
            ],
            [
             0.3,
             "#f1b6da"
            ],
            [
             0.4,
             "#fde0ef"
            ],
            [
             0.5,
             "#f7f7f7"
            ],
            [
             0.6,
             "#e6f5d0"
            ],
            [
             0.7,
             "#b8e186"
            ],
            [
             0.8,
             "#7fbc41"
            ],
            [
             0.9,
             "#4d9221"
            ],
            [
             1,
             "#276419"
            ]
           ],
           "sequential": [
            [
             0,
             "#0d0887"
            ],
            [
             0.1111111111111111,
             "#46039f"
            ],
            [
             0.2222222222222222,
             "#7201a8"
            ],
            [
             0.3333333333333333,
             "#9c179e"
            ],
            [
             0.4444444444444444,
             "#bd3786"
            ],
            [
             0.5555555555555556,
             "#d8576b"
            ],
            [
             0.6666666666666666,
             "#ed7953"
            ],
            [
             0.7777777777777778,
             "#fb9f3a"
            ],
            [
             0.8888888888888888,
             "#fdca26"
            ],
            [
             1,
             "#f0f921"
            ]
           ],
           "sequentialminus": [
            [
             0,
             "#0d0887"
            ],
            [
             0.1111111111111111,
             "#46039f"
            ],
            [
             0.2222222222222222,
             "#7201a8"
            ],
            [
             0.3333333333333333,
             "#9c179e"
            ],
            [
             0.4444444444444444,
             "#bd3786"
            ],
            [
             0.5555555555555556,
             "#d8576b"
            ],
            [
             0.6666666666666666,
             "#ed7953"
            ],
            [
             0.7777777777777778,
             "#fb9f3a"
            ],
            [
             0.8888888888888888,
             "#fdca26"
            ],
            [
             1,
             "#f0f921"
            ]
           ]
          },
          "colorway": [
           "#636efa",
           "#EF553B",
           "#00cc96",
           "#ab63fa",
           "#FFA15A",
           "#19d3f3",
           "#FF6692",
           "#B6E880",
           "#FF97FF",
           "#FECB52"
          ],
          "font": {
           "color": "#2a3f5f"
          },
          "geo": {
           "bgcolor": "white",
           "lakecolor": "white",
           "landcolor": "#E5ECF6",
           "showlakes": true,
           "showland": true,
           "subunitcolor": "white"
          },
          "hoverlabel": {
           "align": "left"
          },
          "hovermode": "closest",
          "mapbox": {
           "style": "light"
          },
          "paper_bgcolor": "white",
          "plot_bgcolor": "#E5ECF6",
          "polar": {
           "angularaxis": {
            "gridcolor": "white",
            "linecolor": "white",
            "ticks": ""
           },
           "bgcolor": "#E5ECF6",
           "radialaxis": {
            "gridcolor": "white",
            "linecolor": "white",
            "ticks": ""
           }
          },
          "scene": {
           "xaxis": {
            "backgroundcolor": "#E5ECF6",
            "gridcolor": "white",
            "gridwidth": 2,
            "linecolor": "white",
            "showbackground": true,
            "ticks": "",
            "zerolinecolor": "white"
           },
           "yaxis": {
            "backgroundcolor": "#E5ECF6",
            "gridcolor": "white",
            "gridwidth": 2,
            "linecolor": "white",
            "showbackground": true,
            "ticks": "",
            "zerolinecolor": "white"
           },
           "zaxis": {
            "backgroundcolor": "#E5ECF6",
            "gridcolor": "white",
            "gridwidth": 2,
            "linecolor": "white",
            "showbackground": true,
            "ticks": "",
            "zerolinecolor": "white"
           }
          },
          "shapedefaults": {
           "line": {
            "color": "#2a3f5f"
           }
          },
          "ternary": {
           "aaxis": {
            "gridcolor": "white",
            "linecolor": "white",
            "ticks": ""
           },
           "baxis": {
            "gridcolor": "white",
            "linecolor": "white",
            "ticks": ""
           },
           "bgcolor": "#E5ECF6",
           "caxis": {
            "gridcolor": "white",
            "linecolor": "white",
            "ticks": ""
           }
          },
          "title": {
           "x": 0.05
          },
          "xaxis": {
           "automargin": true,
           "gridcolor": "white",
           "linecolor": "white",
           "ticks": "",
           "title": {
            "standoff": 15
           },
           "zerolinecolor": "white",
           "zerolinewidth": 2
          },
          "yaxis": {
           "automargin": true,
           "gridcolor": "white",
           "linecolor": "white",
           "ticks": "",
           "title": {
            "standoff": 15
           },
           "zerolinecolor": "white",
           "zerolinewidth": 2
          }
         }
        },
        "width": 300
       }
      }
     },
     "metadata": {},
     "output_type": "display_data"
    }
   ],
   "source": [
    "# Count binary values in the \"Male\" column\n",
    "male_counts = fig_df['Is Male'].value_counts()\n",
    "male_labels = ['Male' if male_counts.index[0] else 'Female', 'Male' if not male_counts.index[0] else 'Female']\n",
    "# Create a pie chart for \"Male\" with custom colors\n",
    "sex_pie = go.Pie(labels=male_labels, values=male_counts, marker=dict(colors=male_colors))\n",
    "\n",
    "# Visualize\n",
    "data = [sex_pie]\n",
    "fig = go.Figure(data = data)\n",
    "fig.update_layout(width=300, height=300)\n",
    "display(fig)"
   ]
  },
  {
   "cell_type": "code",
   "execution_count": 337,
   "metadata": {},
   "outputs": [
    {
     "data": {
      "application/vnd.plotly.v1+json": {
       "config": {
        "plotlyServerURL": "https://plot.ly"
       },
       "data": [
        {
         "labels": [
          "White",
          "Non-White"
         ],
         "marker": {
          "colors": [
           "#184e77",
           "#1a759f"
          ]
         },
         "type": "pie",
         "values": [
          28,
          24
         ]
        }
       ],
       "layout": {
        "height": 300,
        "template": {
         "data": {
          "bar": [
           {
            "error_x": {
             "color": "#2a3f5f"
            },
            "error_y": {
             "color": "#2a3f5f"
            },
            "marker": {
             "line": {
              "color": "#E5ECF6",
              "width": 0.5
             },
             "pattern": {
              "fillmode": "overlay",
              "size": 10,
              "solidity": 0.2
             }
            },
            "type": "bar"
           }
          ],
          "barpolar": [
           {
            "marker": {
             "line": {
              "color": "#E5ECF6",
              "width": 0.5
             },
             "pattern": {
              "fillmode": "overlay",
              "size": 10,
              "solidity": 0.2
             }
            },
            "type": "barpolar"
           }
          ],
          "carpet": [
           {
            "aaxis": {
             "endlinecolor": "#2a3f5f",
             "gridcolor": "white",
             "linecolor": "white",
             "minorgridcolor": "white",
             "startlinecolor": "#2a3f5f"
            },
            "baxis": {
             "endlinecolor": "#2a3f5f",
             "gridcolor": "white",
             "linecolor": "white",
             "minorgridcolor": "white",
             "startlinecolor": "#2a3f5f"
            },
            "type": "carpet"
           }
          ],
          "choropleth": [
           {
            "colorbar": {
             "outlinewidth": 0,
             "ticks": ""
            },
            "type": "choropleth"
           }
          ],
          "contour": [
           {
            "colorbar": {
             "outlinewidth": 0,
             "ticks": ""
            },
            "colorscale": [
             [
              0,
              "#0d0887"
             ],
             [
              0.1111111111111111,
              "#46039f"
             ],
             [
              0.2222222222222222,
              "#7201a8"
             ],
             [
              0.3333333333333333,
              "#9c179e"
             ],
             [
              0.4444444444444444,
              "#bd3786"
             ],
             [
              0.5555555555555556,
              "#d8576b"
             ],
             [
              0.6666666666666666,
              "#ed7953"
             ],
             [
              0.7777777777777778,
              "#fb9f3a"
             ],
             [
              0.8888888888888888,
              "#fdca26"
             ],
             [
              1,
              "#f0f921"
             ]
            ],
            "type": "contour"
           }
          ],
          "contourcarpet": [
           {
            "colorbar": {
             "outlinewidth": 0,
             "ticks": ""
            },
            "type": "contourcarpet"
           }
          ],
          "heatmap": [
           {
            "colorbar": {
             "outlinewidth": 0,
             "ticks": ""
            },
            "colorscale": [
             [
              0,
              "#0d0887"
             ],
             [
              0.1111111111111111,
              "#46039f"
             ],
             [
              0.2222222222222222,
              "#7201a8"
             ],
             [
              0.3333333333333333,
              "#9c179e"
             ],
             [
              0.4444444444444444,
              "#bd3786"
             ],
             [
              0.5555555555555556,
              "#d8576b"
             ],
             [
              0.6666666666666666,
              "#ed7953"
             ],
             [
              0.7777777777777778,
              "#fb9f3a"
             ],
             [
              0.8888888888888888,
              "#fdca26"
             ],
             [
              1,
              "#f0f921"
             ]
            ],
            "type": "heatmap"
           }
          ],
          "heatmapgl": [
           {
            "colorbar": {
             "outlinewidth": 0,
             "ticks": ""
            },
            "colorscale": [
             [
              0,
              "#0d0887"
             ],
             [
              0.1111111111111111,
              "#46039f"
             ],
             [
              0.2222222222222222,
              "#7201a8"
             ],
             [
              0.3333333333333333,
              "#9c179e"
             ],
             [
              0.4444444444444444,
              "#bd3786"
             ],
             [
              0.5555555555555556,
              "#d8576b"
             ],
             [
              0.6666666666666666,
              "#ed7953"
             ],
             [
              0.7777777777777778,
              "#fb9f3a"
             ],
             [
              0.8888888888888888,
              "#fdca26"
             ],
             [
              1,
              "#f0f921"
             ]
            ],
            "type": "heatmapgl"
           }
          ],
          "histogram": [
           {
            "marker": {
             "pattern": {
              "fillmode": "overlay",
              "size": 10,
              "solidity": 0.2
             }
            },
            "type": "histogram"
           }
          ],
          "histogram2d": [
           {
            "colorbar": {
             "outlinewidth": 0,
             "ticks": ""
            },
            "colorscale": [
             [
              0,
              "#0d0887"
             ],
             [
              0.1111111111111111,
              "#46039f"
             ],
             [
              0.2222222222222222,
              "#7201a8"
             ],
             [
              0.3333333333333333,
              "#9c179e"
             ],
             [
              0.4444444444444444,
              "#bd3786"
             ],
             [
              0.5555555555555556,
              "#d8576b"
             ],
             [
              0.6666666666666666,
              "#ed7953"
             ],
             [
              0.7777777777777778,
              "#fb9f3a"
             ],
             [
              0.8888888888888888,
              "#fdca26"
             ],
             [
              1,
              "#f0f921"
             ]
            ],
            "type": "histogram2d"
           }
          ],
          "histogram2dcontour": [
           {
            "colorbar": {
             "outlinewidth": 0,
             "ticks": ""
            },
            "colorscale": [
             [
              0,
              "#0d0887"
             ],
             [
              0.1111111111111111,
              "#46039f"
             ],
             [
              0.2222222222222222,
              "#7201a8"
             ],
             [
              0.3333333333333333,
              "#9c179e"
             ],
             [
              0.4444444444444444,
              "#bd3786"
             ],
             [
              0.5555555555555556,
              "#d8576b"
             ],
             [
              0.6666666666666666,
              "#ed7953"
             ],
             [
              0.7777777777777778,
              "#fb9f3a"
             ],
             [
              0.8888888888888888,
              "#fdca26"
             ],
             [
              1,
              "#f0f921"
             ]
            ],
            "type": "histogram2dcontour"
           }
          ],
          "mesh3d": [
           {
            "colorbar": {
             "outlinewidth": 0,
             "ticks": ""
            },
            "type": "mesh3d"
           }
          ],
          "parcoords": [
           {
            "line": {
             "colorbar": {
              "outlinewidth": 0,
              "ticks": ""
             }
            },
            "type": "parcoords"
           }
          ],
          "pie": [
           {
            "automargin": true,
            "type": "pie"
           }
          ],
          "scatter": [
           {
            "fillpattern": {
             "fillmode": "overlay",
             "size": 10,
             "solidity": 0.2
            },
            "type": "scatter"
           }
          ],
          "scatter3d": [
           {
            "line": {
             "colorbar": {
              "outlinewidth": 0,
              "ticks": ""
             }
            },
            "marker": {
             "colorbar": {
              "outlinewidth": 0,
              "ticks": ""
             }
            },
            "type": "scatter3d"
           }
          ],
          "scattercarpet": [
           {
            "marker": {
             "colorbar": {
              "outlinewidth": 0,
              "ticks": ""
             }
            },
            "type": "scattercarpet"
           }
          ],
          "scattergeo": [
           {
            "marker": {
             "colorbar": {
              "outlinewidth": 0,
              "ticks": ""
             }
            },
            "type": "scattergeo"
           }
          ],
          "scattergl": [
           {
            "marker": {
             "colorbar": {
              "outlinewidth": 0,
              "ticks": ""
             }
            },
            "type": "scattergl"
           }
          ],
          "scattermapbox": [
           {
            "marker": {
             "colorbar": {
              "outlinewidth": 0,
              "ticks": ""
             }
            },
            "type": "scattermapbox"
           }
          ],
          "scatterpolar": [
           {
            "marker": {
             "colorbar": {
              "outlinewidth": 0,
              "ticks": ""
             }
            },
            "type": "scatterpolar"
           }
          ],
          "scatterpolargl": [
           {
            "marker": {
             "colorbar": {
              "outlinewidth": 0,
              "ticks": ""
             }
            },
            "type": "scatterpolargl"
           }
          ],
          "scatterternary": [
           {
            "marker": {
             "colorbar": {
              "outlinewidth": 0,
              "ticks": ""
             }
            },
            "type": "scatterternary"
           }
          ],
          "surface": [
           {
            "colorbar": {
             "outlinewidth": 0,
             "ticks": ""
            },
            "colorscale": [
             [
              0,
              "#0d0887"
             ],
             [
              0.1111111111111111,
              "#46039f"
             ],
             [
              0.2222222222222222,
              "#7201a8"
             ],
             [
              0.3333333333333333,
              "#9c179e"
             ],
             [
              0.4444444444444444,
              "#bd3786"
             ],
             [
              0.5555555555555556,
              "#d8576b"
             ],
             [
              0.6666666666666666,
              "#ed7953"
             ],
             [
              0.7777777777777778,
              "#fb9f3a"
             ],
             [
              0.8888888888888888,
              "#fdca26"
             ],
             [
              1,
              "#f0f921"
             ]
            ],
            "type": "surface"
           }
          ],
          "table": [
           {
            "cells": {
             "fill": {
              "color": "#EBF0F8"
             },
             "line": {
              "color": "white"
             }
            },
            "header": {
             "fill": {
              "color": "#C8D4E3"
             },
             "line": {
              "color": "white"
             }
            },
            "type": "table"
           }
          ]
         },
         "layout": {
          "annotationdefaults": {
           "arrowcolor": "#2a3f5f",
           "arrowhead": 0,
           "arrowwidth": 1
          },
          "autotypenumbers": "strict",
          "coloraxis": {
           "colorbar": {
            "outlinewidth": 0,
            "ticks": ""
           }
          },
          "colorscale": {
           "diverging": [
            [
             0,
             "#8e0152"
            ],
            [
             0.1,
             "#c51b7d"
            ],
            [
             0.2,
             "#de77ae"
            ],
            [
             0.3,
             "#f1b6da"
            ],
            [
             0.4,
             "#fde0ef"
            ],
            [
             0.5,
             "#f7f7f7"
            ],
            [
             0.6,
             "#e6f5d0"
            ],
            [
             0.7,
             "#b8e186"
            ],
            [
             0.8,
             "#7fbc41"
            ],
            [
             0.9,
             "#4d9221"
            ],
            [
             1,
             "#276419"
            ]
           ],
           "sequential": [
            [
             0,
             "#0d0887"
            ],
            [
             0.1111111111111111,
             "#46039f"
            ],
            [
             0.2222222222222222,
             "#7201a8"
            ],
            [
             0.3333333333333333,
             "#9c179e"
            ],
            [
             0.4444444444444444,
             "#bd3786"
            ],
            [
             0.5555555555555556,
             "#d8576b"
            ],
            [
             0.6666666666666666,
             "#ed7953"
            ],
            [
             0.7777777777777778,
             "#fb9f3a"
            ],
            [
             0.8888888888888888,
             "#fdca26"
            ],
            [
             1,
             "#f0f921"
            ]
           ],
           "sequentialminus": [
            [
             0,
             "#0d0887"
            ],
            [
             0.1111111111111111,
             "#46039f"
            ],
            [
             0.2222222222222222,
             "#7201a8"
            ],
            [
             0.3333333333333333,
             "#9c179e"
            ],
            [
             0.4444444444444444,
             "#bd3786"
            ],
            [
             0.5555555555555556,
             "#d8576b"
            ],
            [
             0.6666666666666666,
             "#ed7953"
            ],
            [
             0.7777777777777778,
             "#fb9f3a"
            ],
            [
             0.8888888888888888,
             "#fdca26"
            ],
            [
             1,
             "#f0f921"
            ]
           ]
          },
          "colorway": [
           "#636efa",
           "#EF553B",
           "#00cc96",
           "#ab63fa",
           "#FFA15A",
           "#19d3f3",
           "#FF6692",
           "#B6E880",
           "#FF97FF",
           "#FECB52"
          ],
          "font": {
           "color": "#2a3f5f"
          },
          "geo": {
           "bgcolor": "white",
           "lakecolor": "white",
           "landcolor": "#E5ECF6",
           "showlakes": true,
           "showland": true,
           "subunitcolor": "white"
          },
          "hoverlabel": {
           "align": "left"
          },
          "hovermode": "closest",
          "mapbox": {
           "style": "light"
          },
          "paper_bgcolor": "white",
          "plot_bgcolor": "#E5ECF6",
          "polar": {
           "angularaxis": {
            "gridcolor": "white",
            "linecolor": "white",
            "ticks": ""
           },
           "bgcolor": "#E5ECF6",
           "radialaxis": {
            "gridcolor": "white",
            "linecolor": "white",
            "ticks": ""
           }
          },
          "scene": {
           "xaxis": {
            "backgroundcolor": "#E5ECF6",
            "gridcolor": "white",
            "gridwidth": 2,
            "linecolor": "white",
            "showbackground": true,
            "ticks": "",
            "zerolinecolor": "white"
           },
           "yaxis": {
            "backgroundcolor": "#E5ECF6",
            "gridcolor": "white",
            "gridwidth": 2,
            "linecolor": "white",
            "showbackground": true,
            "ticks": "",
            "zerolinecolor": "white"
           },
           "zaxis": {
            "backgroundcolor": "#E5ECF6",
            "gridcolor": "white",
            "gridwidth": 2,
            "linecolor": "white",
            "showbackground": true,
            "ticks": "",
            "zerolinecolor": "white"
           }
          },
          "shapedefaults": {
           "line": {
            "color": "#2a3f5f"
           }
          },
          "ternary": {
           "aaxis": {
            "gridcolor": "white",
            "linecolor": "white",
            "ticks": ""
           },
           "baxis": {
            "gridcolor": "white",
            "linecolor": "white",
            "ticks": ""
           },
           "bgcolor": "#E5ECF6",
           "caxis": {
            "gridcolor": "white",
            "linecolor": "white",
            "ticks": ""
           }
          },
          "title": {
           "x": 0.05
          },
          "xaxis": {
           "automargin": true,
           "gridcolor": "white",
           "linecolor": "white",
           "ticks": "",
           "title": {
            "standoff": 15
           },
           "zerolinecolor": "white",
           "zerolinewidth": 2
          },
          "yaxis": {
           "automargin": true,
           "gridcolor": "white",
           "linecolor": "white",
           "ticks": "",
           "title": {
            "standoff": 15
           },
           "zerolinecolor": "white",
           "zerolinewidth": 2
          }
         }
        },
        "width": 300
       }
      }
     },
     "metadata": {},
     "output_type": "display_data"
    }
   ],
   "source": [
    "# Count binary values in the \"White\" column\n",
    "white_counts = fig_df['White'].value_counts()\n",
    "white_labels = ['White' if white_counts.index[0] else 'Non-White', 'White' if not white_counts.index[0] else 'Non-White']\n",
    "\n",
    "# Create a pie chart for \"White\" with custom colors\n",
    "white_pie = go.Pie(labels=white_labels, values=white_counts, marker=dict(colors=white_colors))\n",
    "\n",
    "# Visualize\n",
    "data = [white_pie]\n",
    "fig = go.Figure(data = data)\n",
    "fig.update_layout(width=300, height=300)\n",
    "display(fig)"
   ]
  },
  {
   "cell_type": "code",
   "execution_count": 338,
   "metadata": {},
   "outputs": [
    {
     "data": {
      "application/vnd.plotly.v1+json": {
       "config": {
        "plotlyServerURL": "https://plot.ly"
       },
       "data": [
        {
         "marker": {
          "color": "#1e6091"
         },
         "name": "BMI",
         "type": "histogram",
         "x": [
          40.37364314167848,
          15.6197502942692,
          37.47092140509929,
          15.88821409016035,
          31.97973319162682,
          28.1739517252042,
          23.93538267523092,
          23.75772644599179,
          16.47121699014891,
          16.39503531809196,
          15.74143565841061,
          23.25016159025016,
          30.18603788432717,
          42.07038669937084,
          33.92894892881829,
          39.65184792086399,
          36.4954655526526,
          27.87831249269034,
          18.80360081625233,
          40.3260575345188,
          40.45171270209357,
          36.15942191585318,
          24.7002931233234,
          38.93539128821769,
          35.2294577235436,
          23.38795080248004,
          14.11323649758434,
          31.59448379584371,
          30.04512688679085,
          22.5117083868218,
          31.77942116556589,
          33.79795596250194,
          36.15253936526006,
          26.74763263887642,
          35.0347209412711,
          42.00604123804371,
          18.30936410330949,
          31.79276557491649,
          22.00302791260598,
          33.93478036972154,
          24.06716297139123,
          37.6493551535287,
          37.63682996438092,
          24.64465081136552,
          22.84846573619816,
          39.13147738785178,
          32.07855927549254,
          38.77623321968011,
          20.83495672791886,
          39.53891929156112,
          19.08268725455712,
          31.2575316065812
         ]
        }
       ],
       "layout": {
        "height": 300,
        "template": {
         "data": {
          "bar": [
           {
            "error_x": {
             "color": "#2a3f5f"
            },
            "error_y": {
             "color": "#2a3f5f"
            },
            "marker": {
             "line": {
              "color": "#E5ECF6",
              "width": 0.5
             },
             "pattern": {
              "fillmode": "overlay",
              "size": 10,
              "solidity": 0.2
             }
            },
            "type": "bar"
           }
          ],
          "barpolar": [
           {
            "marker": {
             "line": {
              "color": "#E5ECF6",
              "width": 0.5
             },
             "pattern": {
              "fillmode": "overlay",
              "size": 10,
              "solidity": 0.2
             }
            },
            "type": "barpolar"
           }
          ],
          "carpet": [
           {
            "aaxis": {
             "endlinecolor": "#2a3f5f",
             "gridcolor": "white",
             "linecolor": "white",
             "minorgridcolor": "white",
             "startlinecolor": "#2a3f5f"
            },
            "baxis": {
             "endlinecolor": "#2a3f5f",
             "gridcolor": "white",
             "linecolor": "white",
             "minorgridcolor": "white",
             "startlinecolor": "#2a3f5f"
            },
            "type": "carpet"
           }
          ],
          "choropleth": [
           {
            "colorbar": {
             "outlinewidth": 0,
             "ticks": ""
            },
            "type": "choropleth"
           }
          ],
          "contour": [
           {
            "colorbar": {
             "outlinewidth": 0,
             "ticks": ""
            },
            "colorscale": [
             [
              0,
              "#0d0887"
             ],
             [
              0.1111111111111111,
              "#46039f"
             ],
             [
              0.2222222222222222,
              "#7201a8"
             ],
             [
              0.3333333333333333,
              "#9c179e"
             ],
             [
              0.4444444444444444,
              "#bd3786"
             ],
             [
              0.5555555555555556,
              "#d8576b"
             ],
             [
              0.6666666666666666,
              "#ed7953"
             ],
             [
              0.7777777777777778,
              "#fb9f3a"
             ],
             [
              0.8888888888888888,
              "#fdca26"
             ],
             [
              1,
              "#f0f921"
             ]
            ],
            "type": "contour"
           }
          ],
          "contourcarpet": [
           {
            "colorbar": {
             "outlinewidth": 0,
             "ticks": ""
            },
            "type": "contourcarpet"
           }
          ],
          "heatmap": [
           {
            "colorbar": {
             "outlinewidth": 0,
             "ticks": ""
            },
            "colorscale": [
             [
              0,
              "#0d0887"
             ],
             [
              0.1111111111111111,
              "#46039f"
             ],
             [
              0.2222222222222222,
              "#7201a8"
             ],
             [
              0.3333333333333333,
              "#9c179e"
             ],
             [
              0.4444444444444444,
              "#bd3786"
             ],
             [
              0.5555555555555556,
              "#d8576b"
             ],
             [
              0.6666666666666666,
              "#ed7953"
             ],
             [
              0.7777777777777778,
              "#fb9f3a"
             ],
             [
              0.8888888888888888,
              "#fdca26"
             ],
             [
              1,
              "#f0f921"
             ]
            ],
            "type": "heatmap"
           }
          ],
          "heatmapgl": [
           {
            "colorbar": {
             "outlinewidth": 0,
             "ticks": ""
            },
            "colorscale": [
             [
              0,
              "#0d0887"
             ],
             [
              0.1111111111111111,
              "#46039f"
             ],
             [
              0.2222222222222222,
              "#7201a8"
             ],
             [
              0.3333333333333333,
              "#9c179e"
             ],
             [
              0.4444444444444444,
              "#bd3786"
             ],
             [
              0.5555555555555556,
              "#d8576b"
             ],
             [
              0.6666666666666666,
              "#ed7953"
             ],
             [
              0.7777777777777778,
              "#fb9f3a"
             ],
             [
              0.8888888888888888,
              "#fdca26"
             ],
             [
              1,
              "#f0f921"
             ]
            ],
            "type": "heatmapgl"
           }
          ],
          "histogram": [
           {
            "marker": {
             "pattern": {
              "fillmode": "overlay",
              "size": 10,
              "solidity": 0.2
             }
            },
            "type": "histogram"
           }
          ],
          "histogram2d": [
           {
            "colorbar": {
             "outlinewidth": 0,
             "ticks": ""
            },
            "colorscale": [
             [
              0,
              "#0d0887"
             ],
             [
              0.1111111111111111,
              "#46039f"
             ],
             [
              0.2222222222222222,
              "#7201a8"
             ],
             [
              0.3333333333333333,
              "#9c179e"
             ],
             [
              0.4444444444444444,
              "#bd3786"
             ],
             [
              0.5555555555555556,
              "#d8576b"
             ],
             [
              0.6666666666666666,
              "#ed7953"
             ],
             [
              0.7777777777777778,
              "#fb9f3a"
             ],
             [
              0.8888888888888888,
              "#fdca26"
             ],
             [
              1,
              "#f0f921"
             ]
            ],
            "type": "histogram2d"
           }
          ],
          "histogram2dcontour": [
           {
            "colorbar": {
             "outlinewidth": 0,
             "ticks": ""
            },
            "colorscale": [
             [
              0,
              "#0d0887"
             ],
             [
              0.1111111111111111,
              "#46039f"
             ],
             [
              0.2222222222222222,
              "#7201a8"
             ],
             [
              0.3333333333333333,
              "#9c179e"
             ],
             [
              0.4444444444444444,
              "#bd3786"
             ],
             [
              0.5555555555555556,
              "#d8576b"
             ],
             [
              0.6666666666666666,
              "#ed7953"
             ],
             [
              0.7777777777777778,
              "#fb9f3a"
             ],
             [
              0.8888888888888888,
              "#fdca26"
             ],
             [
              1,
              "#f0f921"
             ]
            ],
            "type": "histogram2dcontour"
           }
          ],
          "mesh3d": [
           {
            "colorbar": {
             "outlinewidth": 0,
             "ticks": ""
            },
            "type": "mesh3d"
           }
          ],
          "parcoords": [
           {
            "line": {
             "colorbar": {
              "outlinewidth": 0,
              "ticks": ""
             }
            },
            "type": "parcoords"
           }
          ],
          "pie": [
           {
            "automargin": true,
            "type": "pie"
           }
          ],
          "scatter": [
           {
            "fillpattern": {
             "fillmode": "overlay",
             "size": 10,
             "solidity": 0.2
            },
            "type": "scatter"
           }
          ],
          "scatter3d": [
           {
            "line": {
             "colorbar": {
              "outlinewidth": 0,
              "ticks": ""
             }
            },
            "marker": {
             "colorbar": {
              "outlinewidth": 0,
              "ticks": ""
             }
            },
            "type": "scatter3d"
           }
          ],
          "scattercarpet": [
           {
            "marker": {
             "colorbar": {
              "outlinewidth": 0,
              "ticks": ""
             }
            },
            "type": "scattercarpet"
           }
          ],
          "scattergeo": [
           {
            "marker": {
             "colorbar": {
              "outlinewidth": 0,
              "ticks": ""
             }
            },
            "type": "scattergeo"
           }
          ],
          "scattergl": [
           {
            "marker": {
             "colorbar": {
              "outlinewidth": 0,
              "ticks": ""
             }
            },
            "type": "scattergl"
           }
          ],
          "scattermapbox": [
           {
            "marker": {
             "colorbar": {
              "outlinewidth": 0,
              "ticks": ""
             }
            },
            "type": "scattermapbox"
           }
          ],
          "scatterpolar": [
           {
            "marker": {
             "colorbar": {
              "outlinewidth": 0,
              "ticks": ""
             }
            },
            "type": "scatterpolar"
           }
          ],
          "scatterpolargl": [
           {
            "marker": {
             "colorbar": {
              "outlinewidth": 0,
              "ticks": ""
             }
            },
            "type": "scatterpolargl"
           }
          ],
          "scatterternary": [
           {
            "marker": {
             "colorbar": {
              "outlinewidth": 0,
              "ticks": ""
             }
            },
            "type": "scatterternary"
           }
          ],
          "surface": [
           {
            "colorbar": {
             "outlinewidth": 0,
             "ticks": ""
            },
            "colorscale": [
             [
              0,
              "#0d0887"
             ],
             [
              0.1111111111111111,
              "#46039f"
             ],
             [
              0.2222222222222222,
              "#7201a8"
             ],
             [
              0.3333333333333333,
              "#9c179e"
             ],
             [
              0.4444444444444444,
              "#bd3786"
             ],
             [
              0.5555555555555556,
              "#d8576b"
             ],
             [
              0.6666666666666666,
              "#ed7953"
             ],
             [
              0.7777777777777778,
              "#fb9f3a"
             ],
             [
              0.8888888888888888,
              "#fdca26"
             ],
             [
              1,
              "#f0f921"
             ]
            ],
            "type": "surface"
           }
          ],
          "table": [
           {
            "cells": {
             "fill": {
              "color": "#EBF0F8"
             },
             "line": {
              "color": "white"
             }
            },
            "header": {
             "fill": {
              "color": "#C8D4E3"
             },
             "line": {
              "color": "white"
             }
            },
            "type": "table"
           }
          ]
         },
         "layout": {
          "annotationdefaults": {
           "arrowcolor": "#2a3f5f",
           "arrowhead": 0,
           "arrowwidth": 1
          },
          "autotypenumbers": "strict",
          "coloraxis": {
           "colorbar": {
            "outlinewidth": 0,
            "ticks": ""
           }
          },
          "colorscale": {
           "diverging": [
            [
             0,
             "#8e0152"
            ],
            [
             0.1,
             "#c51b7d"
            ],
            [
             0.2,
             "#de77ae"
            ],
            [
             0.3,
             "#f1b6da"
            ],
            [
             0.4,
             "#fde0ef"
            ],
            [
             0.5,
             "#f7f7f7"
            ],
            [
             0.6,
             "#e6f5d0"
            ],
            [
             0.7,
             "#b8e186"
            ],
            [
             0.8,
             "#7fbc41"
            ],
            [
             0.9,
             "#4d9221"
            ],
            [
             1,
             "#276419"
            ]
           ],
           "sequential": [
            [
             0,
             "#0d0887"
            ],
            [
             0.1111111111111111,
             "#46039f"
            ],
            [
             0.2222222222222222,
             "#7201a8"
            ],
            [
             0.3333333333333333,
             "#9c179e"
            ],
            [
             0.4444444444444444,
             "#bd3786"
            ],
            [
             0.5555555555555556,
             "#d8576b"
            ],
            [
             0.6666666666666666,
             "#ed7953"
            ],
            [
             0.7777777777777778,
             "#fb9f3a"
            ],
            [
             0.8888888888888888,
             "#fdca26"
            ],
            [
             1,
             "#f0f921"
            ]
           ],
           "sequentialminus": [
            [
             0,
             "#0d0887"
            ],
            [
             0.1111111111111111,
             "#46039f"
            ],
            [
             0.2222222222222222,
             "#7201a8"
            ],
            [
             0.3333333333333333,
             "#9c179e"
            ],
            [
             0.4444444444444444,
             "#bd3786"
            ],
            [
             0.5555555555555556,
             "#d8576b"
            ],
            [
             0.6666666666666666,
             "#ed7953"
            ],
            [
             0.7777777777777778,
             "#fb9f3a"
            ],
            [
             0.8888888888888888,
             "#fdca26"
            ],
            [
             1,
             "#f0f921"
            ]
           ]
          },
          "colorway": [
           "#636efa",
           "#EF553B",
           "#00cc96",
           "#ab63fa",
           "#FFA15A",
           "#19d3f3",
           "#FF6692",
           "#B6E880",
           "#FF97FF",
           "#FECB52"
          ],
          "font": {
           "color": "#2a3f5f"
          },
          "geo": {
           "bgcolor": "white",
           "lakecolor": "white",
           "landcolor": "#E5ECF6",
           "showlakes": true,
           "showland": true,
           "subunitcolor": "white"
          },
          "hoverlabel": {
           "align": "left"
          },
          "hovermode": "closest",
          "mapbox": {
           "style": "light"
          },
          "paper_bgcolor": "white",
          "plot_bgcolor": "#E5ECF6",
          "polar": {
           "angularaxis": {
            "gridcolor": "white",
            "linecolor": "white",
            "ticks": ""
           },
           "bgcolor": "#E5ECF6",
           "radialaxis": {
            "gridcolor": "white",
            "linecolor": "white",
            "ticks": ""
           }
          },
          "scene": {
           "xaxis": {
            "backgroundcolor": "#E5ECF6",
            "gridcolor": "white",
            "gridwidth": 2,
            "linecolor": "white",
            "showbackground": true,
            "ticks": "",
            "zerolinecolor": "white"
           },
           "yaxis": {
            "backgroundcolor": "#E5ECF6",
            "gridcolor": "white",
            "gridwidth": 2,
            "linecolor": "white",
            "showbackground": true,
            "ticks": "",
            "zerolinecolor": "white"
           },
           "zaxis": {
            "backgroundcolor": "#E5ECF6",
            "gridcolor": "white",
            "gridwidth": 2,
            "linecolor": "white",
            "showbackground": true,
            "ticks": "",
            "zerolinecolor": "white"
           }
          },
          "shapedefaults": {
           "line": {
            "color": "#2a3f5f"
           }
          },
          "ternary": {
           "aaxis": {
            "gridcolor": "white",
            "linecolor": "white",
            "ticks": ""
           },
           "baxis": {
            "gridcolor": "white",
            "linecolor": "white",
            "ticks": ""
           },
           "bgcolor": "#E5ECF6",
           "caxis": {
            "gridcolor": "white",
            "linecolor": "white",
            "ticks": ""
           }
          },
          "title": {
           "x": 0.05
          },
          "xaxis": {
           "automargin": true,
           "gridcolor": "white",
           "linecolor": "white",
           "ticks": "",
           "title": {
            "standoff": 15
           },
           "zerolinecolor": "white",
           "zerolinewidth": 2
          },
          "yaxis": {
           "automargin": true,
           "gridcolor": "white",
           "linecolor": "white",
           "ticks": "",
           "title": {
            "standoff": 15
           },
           "zerolinecolor": "white",
           "zerolinewidth": 2
          }
         }
        },
        "width": 300
       }
      }
     },
     "metadata": {},
     "output_type": "display_data"
    }
   ],
   "source": [
    "# BMI histogram\n",
    "bmi_hist =  go.Histogram(x=fig_df[\"BMI\"], name=\"BMI\", marker=dict(color=bmi_histogram_color))\n",
    "\n",
    "# Visualize\n",
    "data = [bmi_hist]\n",
    "fig = go.Figure(data = data)\n",
    "fig.update_layout(width=300, height=300)\n",
    "display(fig)"
   ]
  },
  {
   "cell_type": "code",
   "execution_count": 339,
   "metadata": {},
   "outputs": [
    {
     "data": {
      "application/vnd.plotly.v1+json": {
       "config": {
        "plotlyServerURL": "https://plot.ly"
       },
       "data": [
        {
         "marker": {
          "color": "#52b69a"
         },
         "name": "Age",
         "type": "histogram",
         "x": [
          81,
          70,
          88,
          78,
          84,
          83,
          79,
          86,
          85,
          79,
          75,
          91,
          61,
          89,
          67,
          85,
          81,
          72,
          91,
          89,
          75,
          79,
          78,
          60,
          72,
          61,
          69,
          73,
          79,
          61,
          77,
          64,
          87,
          73,
          91,
          63,
          81,
          66,
          76,
          80,
          84,
          79,
          84,
          86,
          61,
          71,
          60,
          71,
          63,
          85,
          83,
          79
         ]
        }
       ],
       "layout": {
        "height": 300,
        "template": {
         "data": {
          "bar": [
           {
            "error_x": {
             "color": "#2a3f5f"
            },
            "error_y": {
             "color": "#2a3f5f"
            },
            "marker": {
             "line": {
              "color": "#E5ECF6",
              "width": 0.5
             },
             "pattern": {
              "fillmode": "overlay",
              "size": 10,
              "solidity": 0.2
             }
            },
            "type": "bar"
           }
          ],
          "barpolar": [
           {
            "marker": {
             "line": {
              "color": "#E5ECF6",
              "width": 0.5
             },
             "pattern": {
              "fillmode": "overlay",
              "size": 10,
              "solidity": 0.2
             }
            },
            "type": "barpolar"
           }
          ],
          "carpet": [
           {
            "aaxis": {
             "endlinecolor": "#2a3f5f",
             "gridcolor": "white",
             "linecolor": "white",
             "minorgridcolor": "white",
             "startlinecolor": "#2a3f5f"
            },
            "baxis": {
             "endlinecolor": "#2a3f5f",
             "gridcolor": "white",
             "linecolor": "white",
             "minorgridcolor": "white",
             "startlinecolor": "#2a3f5f"
            },
            "type": "carpet"
           }
          ],
          "choropleth": [
           {
            "colorbar": {
             "outlinewidth": 0,
             "ticks": ""
            },
            "type": "choropleth"
           }
          ],
          "contour": [
           {
            "colorbar": {
             "outlinewidth": 0,
             "ticks": ""
            },
            "colorscale": [
             [
              0,
              "#0d0887"
             ],
             [
              0.1111111111111111,
              "#46039f"
             ],
             [
              0.2222222222222222,
              "#7201a8"
             ],
             [
              0.3333333333333333,
              "#9c179e"
             ],
             [
              0.4444444444444444,
              "#bd3786"
             ],
             [
              0.5555555555555556,
              "#d8576b"
             ],
             [
              0.6666666666666666,
              "#ed7953"
             ],
             [
              0.7777777777777778,
              "#fb9f3a"
             ],
             [
              0.8888888888888888,
              "#fdca26"
             ],
             [
              1,
              "#f0f921"
             ]
            ],
            "type": "contour"
           }
          ],
          "contourcarpet": [
           {
            "colorbar": {
             "outlinewidth": 0,
             "ticks": ""
            },
            "type": "contourcarpet"
           }
          ],
          "heatmap": [
           {
            "colorbar": {
             "outlinewidth": 0,
             "ticks": ""
            },
            "colorscale": [
             [
              0,
              "#0d0887"
             ],
             [
              0.1111111111111111,
              "#46039f"
             ],
             [
              0.2222222222222222,
              "#7201a8"
             ],
             [
              0.3333333333333333,
              "#9c179e"
             ],
             [
              0.4444444444444444,
              "#bd3786"
             ],
             [
              0.5555555555555556,
              "#d8576b"
             ],
             [
              0.6666666666666666,
              "#ed7953"
             ],
             [
              0.7777777777777778,
              "#fb9f3a"
             ],
             [
              0.8888888888888888,
              "#fdca26"
             ],
             [
              1,
              "#f0f921"
             ]
            ],
            "type": "heatmap"
           }
          ],
          "heatmapgl": [
           {
            "colorbar": {
             "outlinewidth": 0,
             "ticks": ""
            },
            "colorscale": [
             [
              0,
              "#0d0887"
             ],
             [
              0.1111111111111111,
              "#46039f"
             ],
             [
              0.2222222222222222,
              "#7201a8"
             ],
             [
              0.3333333333333333,
              "#9c179e"
             ],
             [
              0.4444444444444444,
              "#bd3786"
             ],
             [
              0.5555555555555556,
              "#d8576b"
             ],
             [
              0.6666666666666666,
              "#ed7953"
             ],
             [
              0.7777777777777778,
              "#fb9f3a"
             ],
             [
              0.8888888888888888,
              "#fdca26"
             ],
             [
              1,
              "#f0f921"
             ]
            ],
            "type": "heatmapgl"
           }
          ],
          "histogram": [
           {
            "marker": {
             "pattern": {
              "fillmode": "overlay",
              "size": 10,
              "solidity": 0.2
             }
            },
            "type": "histogram"
           }
          ],
          "histogram2d": [
           {
            "colorbar": {
             "outlinewidth": 0,
             "ticks": ""
            },
            "colorscale": [
             [
              0,
              "#0d0887"
             ],
             [
              0.1111111111111111,
              "#46039f"
             ],
             [
              0.2222222222222222,
              "#7201a8"
             ],
             [
              0.3333333333333333,
              "#9c179e"
             ],
             [
              0.4444444444444444,
              "#bd3786"
             ],
             [
              0.5555555555555556,
              "#d8576b"
             ],
             [
              0.6666666666666666,
              "#ed7953"
             ],
             [
              0.7777777777777778,
              "#fb9f3a"
             ],
             [
              0.8888888888888888,
              "#fdca26"
             ],
             [
              1,
              "#f0f921"
             ]
            ],
            "type": "histogram2d"
           }
          ],
          "histogram2dcontour": [
           {
            "colorbar": {
             "outlinewidth": 0,
             "ticks": ""
            },
            "colorscale": [
             [
              0,
              "#0d0887"
             ],
             [
              0.1111111111111111,
              "#46039f"
             ],
             [
              0.2222222222222222,
              "#7201a8"
             ],
             [
              0.3333333333333333,
              "#9c179e"
             ],
             [
              0.4444444444444444,
              "#bd3786"
             ],
             [
              0.5555555555555556,
              "#d8576b"
             ],
             [
              0.6666666666666666,
              "#ed7953"
             ],
             [
              0.7777777777777778,
              "#fb9f3a"
             ],
             [
              0.8888888888888888,
              "#fdca26"
             ],
             [
              1,
              "#f0f921"
             ]
            ],
            "type": "histogram2dcontour"
           }
          ],
          "mesh3d": [
           {
            "colorbar": {
             "outlinewidth": 0,
             "ticks": ""
            },
            "type": "mesh3d"
           }
          ],
          "parcoords": [
           {
            "line": {
             "colorbar": {
              "outlinewidth": 0,
              "ticks": ""
             }
            },
            "type": "parcoords"
           }
          ],
          "pie": [
           {
            "automargin": true,
            "type": "pie"
           }
          ],
          "scatter": [
           {
            "fillpattern": {
             "fillmode": "overlay",
             "size": 10,
             "solidity": 0.2
            },
            "type": "scatter"
           }
          ],
          "scatter3d": [
           {
            "line": {
             "colorbar": {
              "outlinewidth": 0,
              "ticks": ""
             }
            },
            "marker": {
             "colorbar": {
              "outlinewidth": 0,
              "ticks": ""
             }
            },
            "type": "scatter3d"
           }
          ],
          "scattercarpet": [
           {
            "marker": {
             "colorbar": {
              "outlinewidth": 0,
              "ticks": ""
             }
            },
            "type": "scattercarpet"
           }
          ],
          "scattergeo": [
           {
            "marker": {
             "colorbar": {
              "outlinewidth": 0,
              "ticks": ""
             }
            },
            "type": "scattergeo"
           }
          ],
          "scattergl": [
           {
            "marker": {
             "colorbar": {
              "outlinewidth": 0,
              "ticks": ""
             }
            },
            "type": "scattergl"
           }
          ],
          "scattermapbox": [
           {
            "marker": {
             "colorbar": {
              "outlinewidth": 0,
              "ticks": ""
             }
            },
            "type": "scattermapbox"
           }
          ],
          "scatterpolar": [
           {
            "marker": {
             "colorbar": {
              "outlinewidth": 0,
              "ticks": ""
             }
            },
            "type": "scatterpolar"
           }
          ],
          "scatterpolargl": [
           {
            "marker": {
             "colorbar": {
              "outlinewidth": 0,
              "ticks": ""
             }
            },
            "type": "scatterpolargl"
           }
          ],
          "scatterternary": [
           {
            "marker": {
             "colorbar": {
              "outlinewidth": 0,
              "ticks": ""
             }
            },
            "type": "scatterternary"
           }
          ],
          "surface": [
           {
            "colorbar": {
             "outlinewidth": 0,
             "ticks": ""
            },
            "colorscale": [
             [
              0,
              "#0d0887"
             ],
             [
              0.1111111111111111,
              "#46039f"
             ],
             [
              0.2222222222222222,
              "#7201a8"
             ],
             [
              0.3333333333333333,
              "#9c179e"
             ],
             [
              0.4444444444444444,
              "#bd3786"
             ],
             [
              0.5555555555555556,
              "#d8576b"
             ],
             [
              0.6666666666666666,
              "#ed7953"
             ],
             [
              0.7777777777777778,
              "#fb9f3a"
             ],
             [
              0.8888888888888888,
              "#fdca26"
             ],
             [
              1,
              "#f0f921"
             ]
            ],
            "type": "surface"
           }
          ],
          "table": [
           {
            "cells": {
             "fill": {
              "color": "#EBF0F8"
             },
             "line": {
              "color": "white"
             }
            },
            "header": {
             "fill": {
              "color": "#C8D4E3"
             },
             "line": {
              "color": "white"
             }
            },
            "type": "table"
           }
          ]
         },
         "layout": {
          "annotationdefaults": {
           "arrowcolor": "#2a3f5f",
           "arrowhead": 0,
           "arrowwidth": 1
          },
          "autotypenumbers": "strict",
          "coloraxis": {
           "colorbar": {
            "outlinewidth": 0,
            "ticks": ""
           }
          },
          "colorscale": {
           "diverging": [
            [
             0,
             "#8e0152"
            ],
            [
             0.1,
             "#c51b7d"
            ],
            [
             0.2,
             "#de77ae"
            ],
            [
             0.3,
             "#f1b6da"
            ],
            [
             0.4,
             "#fde0ef"
            ],
            [
             0.5,
             "#f7f7f7"
            ],
            [
             0.6,
             "#e6f5d0"
            ],
            [
             0.7,
             "#b8e186"
            ],
            [
             0.8,
             "#7fbc41"
            ],
            [
             0.9,
             "#4d9221"
            ],
            [
             1,
             "#276419"
            ]
           ],
           "sequential": [
            [
             0,
             "#0d0887"
            ],
            [
             0.1111111111111111,
             "#46039f"
            ],
            [
             0.2222222222222222,
             "#7201a8"
            ],
            [
             0.3333333333333333,
             "#9c179e"
            ],
            [
             0.4444444444444444,
             "#bd3786"
            ],
            [
             0.5555555555555556,
             "#d8576b"
            ],
            [
             0.6666666666666666,
             "#ed7953"
            ],
            [
             0.7777777777777778,
             "#fb9f3a"
            ],
            [
             0.8888888888888888,
             "#fdca26"
            ],
            [
             1,
             "#f0f921"
            ]
           ],
           "sequentialminus": [
            [
             0,
             "#0d0887"
            ],
            [
             0.1111111111111111,
             "#46039f"
            ],
            [
             0.2222222222222222,
             "#7201a8"
            ],
            [
             0.3333333333333333,
             "#9c179e"
            ],
            [
             0.4444444444444444,
             "#bd3786"
            ],
            [
             0.5555555555555556,
             "#d8576b"
            ],
            [
             0.6666666666666666,
             "#ed7953"
            ],
            [
             0.7777777777777778,
             "#fb9f3a"
            ],
            [
             0.8888888888888888,
             "#fdca26"
            ],
            [
             1,
             "#f0f921"
            ]
           ]
          },
          "colorway": [
           "#636efa",
           "#EF553B",
           "#00cc96",
           "#ab63fa",
           "#FFA15A",
           "#19d3f3",
           "#FF6692",
           "#B6E880",
           "#FF97FF",
           "#FECB52"
          ],
          "font": {
           "color": "#2a3f5f"
          },
          "geo": {
           "bgcolor": "white",
           "lakecolor": "white",
           "landcolor": "#E5ECF6",
           "showlakes": true,
           "showland": true,
           "subunitcolor": "white"
          },
          "hoverlabel": {
           "align": "left"
          },
          "hovermode": "closest",
          "mapbox": {
           "style": "light"
          },
          "paper_bgcolor": "white",
          "plot_bgcolor": "#E5ECF6",
          "polar": {
           "angularaxis": {
            "gridcolor": "white",
            "linecolor": "white",
            "ticks": ""
           },
           "bgcolor": "#E5ECF6",
           "radialaxis": {
            "gridcolor": "white",
            "linecolor": "white",
            "ticks": ""
           }
          },
          "scene": {
           "xaxis": {
            "backgroundcolor": "#E5ECF6",
            "gridcolor": "white",
            "gridwidth": 2,
            "linecolor": "white",
            "showbackground": true,
            "ticks": "",
            "zerolinecolor": "white"
           },
           "yaxis": {
            "backgroundcolor": "#E5ECF6",
            "gridcolor": "white",
            "gridwidth": 2,
            "linecolor": "white",
            "showbackground": true,
            "ticks": "",
            "zerolinecolor": "white"
           },
           "zaxis": {
            "backgroundcolor": "#E5ECF6",
            "gridcolor": "white",
            "gridwidth": 2,
            "linecolor": "white",
            "showbackground": true,
            "ticks": "",
            "zerolinecolor": "white"
           }
          },
          "shapedefaults": {
           "line": {
            "color": "#2a3f5f"
           }
          },
          "ternary": {
           "aaxis": {
            "gridcolor": "white",
            "linecolor": "white",
            "ticks": ""
           },
           "baxis": {
            "gridcolor": "white",
            "linecolor": "white",
            "ticks": ""
           },
           "bgcolor": "#E5ECF6",
           "caxis": {
            "gridcolor": "white",
            "linecolor": "white",
            "ticks": ""
           }
          },
          "title": {
           "x": 0.05
          },
          "xaxis": {
           "automargin": true,
           "gridcolor": "white",
           "linecolor": "white",
           "ticks": "",
           "title": {
            "standoff": 15
           },
           "zerolinecolor": "white",
           "zerolinewidth": 2
          },
          "yaxis": {
           "automargin": true,
           "gridcolor": "white",
           "linecolor": "white",
           "ticks": "",
           "title": {
            "standoff": 15
           },
           "zerolinecolor": "white",
           "zerolinewidth": 2
          }
         }
        },
        "width": 300
       }
      }
     },
     "metadata": {},
     "output_type": "display_data"
    }
   ],
   "source": [
    "# Age histogram\n",
    "age_hist=  go.Histogram(x=fig_df[\"Age\"], name=\"Age\", marker=dict(color=age_histogram_color))\n",
    "\n",
    "# Visualize\n",
    "data = [age_hist]\n",
    "fig = go.Figure(data = data)\n",
    "fig.update_layout(width=300, height=300)\n",
    "display(fig)"
   ]
  },
  {
   "cell_type": "markdown",
   "metadata": {},
   "source": [
    "The following metrics are bsed on the total number of TEG test values"
   ]
  },
  {
   "cell_type": "code",
   "execution_count": 340,
   "metadata": {},
   "outputs": [],
   "source": [
    "# Copy TEG df to find metrics\n",
    "fig_df = clean_TEG_df.copy()"
   ]
  },
  {
   "cell_type": "code",
   "execution_count": 341,
   "metadata": {},
   "outputs": [
    {
     "data": {
      "application/vnd.plotly.v1+json": {
       "config": {
        "plotlyServerURL": "https://plot.ly"
       },
       "data": [
        {
         "marker": {
          "color": "#1a759f"
         },
         "name": "Events",
         "type": "histogram",
         "x": [
          3,
          5,
          4,
          5,
          2,
          2,
          4,
          0,
          1,
          2,
          2,
          1,
          4,
          1,
          4,
          3,
          4,
          2,
          1,
          3,
          2,
          4,
          1,
          2,
          4,
          5,
          3,
          4,
          2,
          3,
          3,
          4,
          4,
          6,
          4,
          1,
          3,
          1,
          3,
          5,
          2,
          2,
          4,
          3,
          3,
          2,
          4,
          3,
          4,
          1,
          3,
          2,
          3,
          5,
          4,
          5,
          2,
          2,
          4,
          0,
          1,
          2,
          2,
          1,
          4,
          1,
          4,
          3,
          4,
          2,
          1,
          3,
          2,
          4,
          1,
          2,
          4,
          5,
          3,
          4,
          2,
          3,
          3,
          4,
          4,
          6,
          4,
          1,
          3,
          1,
          3,
          5,
          2,
          2,
          4,
          3,
          3,
          2,
          4,
          3,
          4,
          1,
          3,
          2,
          3,
          5,
          4,
          5,
          2,
          2,
          4,
          0,
          1,
          2,
          2,
          1,
          4,
          1,
          4,
          3,
          4,
          2,
          1,
          3,
          2,
          4,
          1,
          2,
          4,
          5,
          3,
          4,
          2,
          3,
          3,
          4,
          4,
          6,
          4,
          1,
          3,
          1,
          3,
          5,
          2,
          2,
          4,
          3,
          3,
          2,
          4,
          3,
          4,
          1,
          3,
          2,
          3,
          5,
          4,
          5,
          2,
          2,
          4,
          0,
          1,
          2,
          2,
          1,
          4,
          1,
          4,
          3,
          4,
          2,
          1,
          3,
          2,
          4,
          1,
          2,
          4,
          5,
          3,
          4,
          2,
          3,
          3,
          4,
          4,
          6,
          4,
          1,
          3,
          1,
          3,
          5,
          2,
          2,
          4,
          3,
          3,
          2,
          4,
          3,
          4,
          1,
          3,
          2,
          3,
          5,
          4,
          5,
          2,
          2,
          4,
          0,
          1,
          2,
          2,
          1,
          4,
          1,
          4,
          3,
          4,
          2,
          1,
          3,
          2,
          4,
          1,
          2,
          4,
          5,
          3,
          4,
          2,
          3,
          3,
          4,
          4,
          6,
          4,
          1,
          3,
          1,
          3,
          5,
          2,
          2,
          4,
          3,
          3,
          2,
          4,
          3,
          4,
          1,
          3,
          2,
          3,
          5,
          4,
          5,
          2,
          2,
          4,
          0,
          1,
          2,
          2,
          1,
          4,
          1,
          4,
          3,
          4,
          2,
          1,
          3,
          2,
          4,
          1,
          2,
          4,
          5,
          3,
          4,
          2,
          3,
          3,
          4,
          4,
          6,
          4,
          1,
          3,
          1,
          3,
          5,
          2,
          2,
          4,
          3,
          3,
          2,
          4,
          3,
          4,
          1,
          3,
          2,
          3,
          5,
          4,
          5,
          2,
          2,
          4,
          0,
          1,
          2,
          2,
          1,
          4,
          1,
          4,
          3,
          4,
          2,
          1,
          3,
          2,
          4,
          1,
          2,
          4,
          5,
          3,
          4,
          2,
          3,
          3,
          4,
          4,
          6,
          4,
          1,
          3,
          1,
          3,
          5,
          2,
          2,
          4,
          3,
          3,
          2,
          4,
          3,
          4,
          1,
          3,
          2,
          3,
          5,
          4,
          5,
          2,
          2,
          4,
          0,
          1,
          2,
          2,
          1,
          4,
          1,
          4,
          3,
          4,
          2,
          1,
          3,
          2,
          4,
          1,
          2,
          4,
          5,
          3,
          4,
          2,
          3,
          3,
          4,
          4,
          6,
          4,
          1,
          3,
          1,
          3,
          5,
          2,
          2,
          4,
          3,
          3,
          2,
          4,
          3,
          4,
          1,
          3,
          2,
          3,
          5,
          4,
          5,
          2,
          2,
          4,
          0,
          1,
          2,
          2,
          1,
          4,
          1,
          4,
          3,
          4,
          2,
          1,
          3,
          2,
          4,
          1,
          2,
          4,
          5,
          3,
          4,
          2,
          3,
          3,
          4,
          4,
          6,
          4,
          1,
          3,
          1,
          3,
          5,
          2,
          2,
          4,
          3,
          3,
          2,
          4,
          3,
          4,
          1,
          3,
          2,
          3,
          5,
          4,
          5,
          2,
          2,
          4,
          0,
          1,
          2,
          2,
          1,
          4,
          1,
          4,
          3,
          4,
          2,
          1,
          3,
          2,
          4,
          1,
          2,
          4,
          5,
          3,
          4,
          2,
          3,
          3,
          4,
          4,
          6,
          4,
          1,
          3,
          1,
          3,
          5,
          2,
          2,
          4,
          3,
          3,
          2,
          4,
          3,
          4,
          1,
          3,
          2,
          3,
          5,
          4,
          5,
          2,
          2,
          4,
          0,
          1,
          2,
          2,
          1,
          4,
          1,
          4,
          3,
          4,
          2,
          1,
          3,
          2,
          4,
          1,
          2,
          4,
          5,
          3,
          4,
          2,
          3,
          3,
          4,
          4,
          6,
          4,
          1,
          3,
          1,
          3,
          5,
          2,
          2,
          4,
          3,
          3,
          2,
          4,
          3,
          4,
          1,
          3,
          2,
          3,
          5,
          4,
          5,
          2,
          2,
          4,
          0,
          1,
          2,
          2,
          1,
          4,
          1,
          4,
          3,
          4,
          2,
          1,
          3,
          2,
          4,
          1,
          2,
          4,
          5,
          3,
          4,
          2,
          3,
          3,
          4,
          4,
          6,
          4,
          1,
          3,
          1,
          3,
          5,
          2,
          2,
          4,
          3,
          3,
          2,
          4,
          3,
          4,
          1,
          3,
          2,
          3,
          5,
          4,
          5,
          2,
          2,
          4,
          0,
          1,
          2,
          2,
          1,
          4,
          1,
          4,
          3,
          4,
          2,
          1,
          3,
          2,
          4,
          1,
          2,
          4,
          5,
          3,
          4,
          2,
          3,
          3,
          4,
          4,
          6,
          4,
          1,
          3,
          1,
          3,
          5,
          2,
          2,
          4,
          3,
          3,
          2,
          4,
          3,
          4,
          1,
          3,
          2,
          3,
          5,
          4,
          5,
          2,
          2,
          4,
          0,
          1,
          2,
          2,
          1,
          4,
          1,
          4,
          3,
          4,
          2,
          1,
          3,
          2,
          4,
          1,
          2,
          4,
          5,
          3,
          4,
          2,
          3,
          3,
          4,
          4,
          6,
          4,
          1,
          3,
          1,
          3,
          5,
          2,
          2,
          4,
          3,
          3,
          2,
          4,
          3,
          4,
          1,
          3,
          2,
          3,
          5,
          4,
          5,
          2,
          2,
          4,
          0,
          1,
          2,
          2,
          1,
          4,
          1,
          4,
          3,
          4,
          2,
          1,
          3,
          2,
          4,
          1,
          2,
          4,
          5,
          3,
          4,
          2,
          3,
          3,
          4,
          4,
          6,
          4,
          1,
          3,
          1,
          3,
          5,
          2,
          2,
          4,
          3,
          3,
          2,
          4,
          3,
          4,
          1,
          3,
          2,
          3,
          5,
          4,
          5,
          2,
          2,
          4,
          0,
          1,
          2,
          2,
          1,
          4,
          1,
          4,
          3,
          4,
          2,
          1,
          3
         ]
        }
       ],
       "layout": {
        "height": 300,
        "template": {
         "data": {
          "bar": [
           {
            "error_x": {
             "color": "#2a3f5f"
            },
            "error_y": {
             "color": "#2a3f5f"
            },
            "marker": {
             "line": {
              "color": "#E5ECF6",
              "width": 0.5
             },
             "pattern": {
              "fillmode": "overlay",
              "size": 10,
              "solidity": 0.2
             }
            },
            "type": "bar"
           }
          ],
          "barpolar": [
           {
            "marker": {
             "line": {
              "color": "#E5ECF6",
              "width": 0.5
             },
             "pattern": {
              "fillmode": "overlay",
              "size": 10,
              "solidity": 0.2
             }
            },
            "type": "barpolar"
           }
          ],
          "carpet": [
           {
            "aaxis": {
             "endlinecolor": "#2a3f5f",
             "gridcolor": "white",
             "linecolor": "white",
             "minorgridcolor": "white",
             "startlinecolor": "#2a3f5f"
            },
            "baxis": {
             "endlinecolor": "#2a3f5f",
             "gridcolor": "white",
             "linecolor": "white",
             "minorgridcolor": "white",
             "startlinecolor": "#2a3f5f"
            },
            "type": "carpet"
           }
          ],
          "choropleth": [
           {
            "colorbar": {
             "outlinewidth": 0,
             "ticks": ""
            },
            "type": "choropleth"
           }
          ],
          "contour": [
           {
            "colorbar": {
             "outlinewidth": 0,
             "ticks": ""
            },
            "colorscale": [
             [
              0,
              "#0d0887"
             ],
             [
              0.1111111111111111,
              "#46039f"
             ],
             [
              0.2222222222222222,
              "#7201a8"
             ],
             [
              0.3333333333333333,
              "#9c179e"
             ],
             [
              0.4444444444444444,
              "#bd3786"
             ],
             [
              0.5555555555555556,
              "#d8576b"
             ],
             [
              0.6666666666666666,
              "#ed7953"
             ],
             [
              0.7777777777777778,
              "#fb9f3a"
             ],
             [
              0.8888888888888888,
              "#fdca26"
             ],
             [
              1,
              "#f0f921"
             ]
            ],
            "type": "contour"
           }
          ],
          "contourcarpet": [
           {
            "colorbar": {
             "outlinewidth": 0,
             "ticks": ""
            },
            "type": "contourcarpet"
           }
          ],
          "heatmap": [
           {
            "colorbar": {
             "outlinewidth": 0,
             "ticks": ""
            },
            "colorscale": [
             [
              0,
              "#0d0887"
             ],
             [
              0.1111111111111111,
              "#46039f"
             ],
             [
              0.2222222222222222,
              "#7201a8"
             ],
             [
              0.3333333333333333,
              "#9c179e"
             ],
             [
              0.4444444444444444,
              "#bd3786"
             ],
             [
              0.5555555555555556,
              "#d8576b"
             ],
             [
              0.6666666666666666,
              "#ed7953"
             ],
             [
              0.7777777777777778,
              "#fb9f3a"
             ],
             [
              0.8888888888888888,
              "#fdca26"
             ],
             [
              1,
              "#f0f921"
             ]
            ],
            "type": "heatmap"
           }
          ],
          "heatmapgl": [
           {
            "colorbar": {
             "outlinewidth": 0,
             "ticks": ""
            },
            "colorscale": [
             [
              0,
              "#0d0887"
             ],
             [
              0.1111111111111111,
              "#46039f"
             ],
             [
              0.2222222222222222,
              "#7201a8"
             ],
             [
              0.3333333333333333,
              "#9c179e"
             ],
             [
              0.4444444444444444,
              "#bd3786"
             ],
             [
              0.5555555555555556,
              "#d8576b"
             ],
             [
              0.6666666666666666,
              "#ed7953"
             ],
             [
              0.7777777777777778,
              "#fb9f3a"
             ],
             [
              0.8888888888888888,
              "#fdca26"
             ],
             [
              1,
              "#f0f921"
             ]
            ],
            "type": "heatmapgl"
           }
          ],
          "histogram": [
           {
            "marker": {
             "pattern": {
              "fillmode": "overlay",
              "size": 10,
              "solidity": 0.2
             }
            },
            "type": "histogram"
           }
          ],
          "histogram2d": [
           {
            "colorbar": {
             "outlinewidth": 0,
             "ticks": ""
            },
            "colorscale": [
             [
              0,
              "#0d0887"
             ],
             [
              0.1111111111111111,
              "#46039f"
             ],
             [
              0.2222222222222222,
              "#7201a8"
             ],
             [
              0.3333333333333333,
              "#9c179e"
             ],
             [
              0.4444444444444444,
              "#bd3786"
             ],
             [
              0.5555555555555556,
              "#d8576b"
             ],
             [
              0.6666666666666666,
              "#ed7953"
             ],
             [
              0.7777777777777778,
              "#fb9f3a"
             ],
             [
              0.8888888888888888,
              "#fdca26"
             ],
             [
              1,
              "#f0f921"
             ]
            ],
            "type": "histogram2d"
           }
          ],
          "histogram2dcontour": [
           {
            "colorbar": {
             "outlinewidth": 0,
             "ticks": ""
            },
            "colorscale": [
             [
              0,
              "#0d0887"
             ],
             [
              0.1111111111111111,
              "#46039f"
             ],
             [
              0.2222222222222222,
              "#7201a8"
             ],
             [
              0.3333333333333333,
              "#9c179e"
             ],
             [
              0.4444444444444444,
              "#bd3786"
             ],
             [
              0.5555555555555556,
              "#d8576b"
             ],
             [
              0.6666666666666666,
              "#ed7953"
             ],
             [
              0.7777777777777778,
              "#fb9f3a"
             ],
             [
              0.8888888888888888,
              "#fdca26"
             ],
             [
              1,
              "#f0f921"
             ]
            ],
            "type": "histogram2dcontour"
           }
          ],
          "mesh3d": [
           {
            "colorbar": {
             "outlinewidth": 0,
             "ticks": ""
            },
            "type": "mesh3d"
           }
          ],
          "parcoords": [
           {
            "line": {
             "colorbar": {
              "outlinewidth": 0,
              "ticks": ""
             }
            },
            "type": "parcoords"
           }
          ],
          "pie": [
           {
            "automargin": true,
            "type": "pie"
           }
          ],
          "scatter": [
           {
            "fillpattern": {
             "fillmode": "overlay",
             "size": 10,
             "solidity": 0.2
            },
            "type": "scatter"
           }
          ],
          "scatter3d": [
           {
            "line": {
             "colorbar": {
              "outlinewidth": 0,
              "ticks": ""
             }
            },
            "marker": {
             "colorbar": {
              "outlinewidth": 0,
              "ticks": ""
             }
            },
            "type": "scatter3d"
           }
          ],
          "scattercarpet": [
           {
            "marker": {
             "colorbar": {
              "outlinewidth": 0,
              "ticks": ""
             }
            },
            "type": "scattercarpet"
           }
          ],
          "scattergeo": [
           {
            "marker": {
             "colorbar": {
              "outlinewidth": 0,
              "ticks": ""
             }
            },
            "type": "scattergeo"
           }
          ],
          "scattergl": [
           {
            "marker": {
             "colorbar": {
              "outlinewidth": 0,
              "ticks": ""
             }
            },
            "type": "scattergl"
           }
          ],
          "scattermapbox": [
           {
            "marker": {
             "colorbar": {
              "outlinewidth": 0,
              "ticks": ""
             }
            },
            "type": "scattermapbox"
           }
          ],
          "scatterpolar": [
           {
            "marker": {
             "colorbar": {
              "outlinewidth": 0,
              "ticks": ""
             }
            },
            "type": "scatterpolar"
           }
          ],
          "scatterpolargl": [
           {
            "marker": {
             "colorbar": {
              "outlinewidth": 0,
              "ticks": ""
             }
            },
            "type": "scatterpolargl"
           }
          ],
          "scatterternary": [
           {
            "marker": {
             "colorbar": {
              "outlinewidth": 0,
              "ticks": ""
             }
            },
            "type": "scatterternary"
           }
          ],
          "surface": [
           {
            "colorbar": {
             "outlinewidth": 0,
             "ticks": ""
            },
            "colorscale": [
             [
              0,
              "#0d0887"
             ],
             [
              0.1111111111111111,
              "#46039f"
             ],
             [
              0.2222222222222222,
              "#7201a8"
             ],
             [
              0.3333333333333333,
              "#9c179e"
             ],
             [
              0.4444444444444444,
              "#bd3786"
             ],
             [
              0.5555555555555556,
              "#d8576b"
             ],
             [
              0.6666666666666666,
              "#ed7953"
             ],
             [
              0.7777777777777778,
              "#fb9f3a"
             ],
             [
              0.8888888888888888,
              "#fdca26"
             ],
             [
              1,
              "#f0f921"
             ]
            ],
            "type": "surface"
           }
          ],
          "table": [
           {
            "cells": {
             "fill": {
              "color": "#EBF0F8"
             },
             "line": {
              "color": "white"
             }
            },
            "header": {
             "fill": {
              "color": "#C8D4E3"
             },
             "line": {
              "color": "white"
             }
            },
            "type": "table"
           }
          ]
         },
         "layout": {
          "annotationdefaults": {
           "arrowcolor": "#2a3f5f",
           "arrowhead": 0,
           "arrowwidth": 1
          },
          "autotypenumbers": "strict",
          "coloraxis": {
           "colorbar": {
            "outlinewidth": 0,
            "ticks": ""
           }
          },
          "colorscale": {
           "diverging": [
            [
             0,
             "#8e0152"
            ],
            [
             0.1,
             "#c51b7d"
            ],
            [
             0.2,
             "#de77ae"
            ],
            [
             0.3,
             "#f1b6da"
            ],
            [
             0.4,
             "#fde0ef"
            ],
            [
             0.5,
             "#f7f7f7"
            ],
            [
             0.6,
             "#e6f5d0"
            ],
            [
             0.7,
             "#b8e186"
            ],
            [
             0.8,
             "#7fbc41"
            ],
            [
             0.9,
             "#4d9221"
            ],
            [
             1,
             "#276419"
            ]
           ],
           "sequential": [
            [
             0,
             "#0d0887"
            ],
            [
             0.1111111111111111,
             "#46039f"
            ],
            [
             0.2222222222222222,
             "#7201a8"
            ],
            [
             0.3333333333333333,
             "#9c179e"
            ],
            [
             0.4444444444444444,
             "#bd3786"
            ],
            [
             0.5555555555555556,
             "#d8576b"
            ],
            [
             0.6666666666666666,
             "#ed7953"
            ],
            [
             0.7777777777777778,
             "#fb9f3a"
            ],
            [
             0.8888888888888888,
             "#fdca26"
            ],
            [
             1,
             "#f0f921"
            ]
           ],
           "sequentialminus": [
            [
             0,
             "#0d0887"
            ],
            [
             0.1111111111111111,
             "#46039f"
            ],
            [
             0.2222222222222222,
             "#7201a8"
            ],
            [
             0.3333333333333333,
             "#9c179e"
            ],
            [
             0.4444444444444444,
             "#bd3786"
            ],
            [
             0.5555555555555556,
             "#d8576b"
            ],
            [
             0.6666666666666666,
             "#ed7953"
            ],
            [
             0.7777777777777778,
             "#fb9f3a"
            ],
            [
             0.8888888888888888,
             "#fdca26"
            ],
            [
             1,
             "#f0f921"
            ]
           ]
          },
          "colorway": [
           "#636efa",
           "#EF553B",
           "#00cc96",
           "#ab63fa",
           "#FFA15A",
           "#19d3f3",
           "#FF6692",
           "#B6E880",
           "#FF97FF",
           "#FECB52"
          ],
          "font": {
           "color": "#2a3f5f"
          },
          "geo": {
           "bgcolor": "white",
           "lakecolor": "white",
           "landcolor": "#E5ECF6",
           "showlakes": true,
           "showland": true,
           "subunitcolor": "white"
          },
          "hoverlabel": {
           "align": "left"
          },
          "hovermode": "closest",
          "mapbox": {
           "style": "light"
          },
          "paper_bgcolor": "white",
          "plot_bgcolor": "#E5ECF6",
          "polar": {
           "angularaxis": {
            "gridcolor": "white",
            "linecolor": "white",
            "ticks": ""
           },
           "bgcolor": "#E5ECF6",
           "radialaxis": {
            "gridcolor": "white",
            "linecolor": "white",
            "ticks": ""
           }
          },
          "scene": {
           "xaxis": {
            "backgroundcolor": "#E5ECF6",
            "gridcolor": "white",
            "gridwidth": 2,
            "linecolor": "white",
            "showbackground": true,
            "ticks": "",
            "zerolinecolor": "white"
           },
           "yaxis": {
            "backgroundcolor": "#E5ECF6",
            "gridcolor": "white",
            "gridwidth": 2,
            "linecolor": "white",
            "showbackground": true,
            "ticks": "",
            "zerolinecolor": "white"
           },
           "zaxis": {
            "backgroundcolor": "#E5ECF6",
            "gridcolor": "white",
            "gridwidth": 2,
            "linecolor": "white",
            "showbackground": true,
            "ticks": "",
            "zerolinecolor": "white"
           }
          },
          "shapedefaults": {
           "line": {
            "color": "#2a3f5f"
           }
          },
          "ternary": {
           "aaxis": {
            "gridcolor": "white",
            "linecolor": "white",
            "ticks": ""
           },
           "baxis": {
            "gridcolor": "white",
            "linecolor": "white",
            "ticks": ""
           },
           "bgcolor": "#E5ECF6",
           "caxis": {
            "gridcolor": "white",
            "linecolor": "white",
            "ticks": ""
           }
          },
          "title": {
           "x": 0.05
          },
          "xaxis": {
           "automargin": true,
           "gridcolor": "white",
           "linecolor": "white",
           "ticks": "",
           "title": {
            "standoff": 15
           },
           "zerolinecolor": "white",
           "zerolinewidth": 2
          },
          "yaxis": {
           "automargin": true,
           "gridcolor": "white",
           "linecolor": "white",
           "ticks": "",
           "title": {
            "standoff": 15
           },
           "zerolinecolor": "white",
           "zerolinewidth": 2
          }
         }
        },
        "width": 300
       }
      }
     },
     "metadata": {},
     "output_type": "display_data"
    }
   ],
   "source": [
    "# Events histogram \n",
    "events_hist =  go.Histogram(x=fig_df[\"Events\"], name=\"Events\", marker=dict(color=events_colors))\n",
    "\n",
    "# Visualize\n",
    "data = [events_hist]\n",
    "fig = go.Figure(data = data)\n",
    "fig.update_layout(width=300, height=300)\n",
    "display(fig)"
   ]
  },
  {
   "cell_type": "code",
   "execution_count": 342,
   "metadata": {},
   "outputs": [
    {
     "data": {
      "application/vnd.plotly.v1+json": {
       "config": {
        "plotlyServerURL": "https://plot.ly"
       },
       "data": [
        {
         "cells": {
          "values": [
           [
            "Unique Patients",
            "Total Data Points"
           ],
           [
            52,
            800
           ]
          ]
         },
         "header": {
          "values": [
           "Category",
           "Count"
          ]
         },
         "type": "table"
        }
       ],
       "layout": {
        "height": 300,
        "template": {
         "data": {
          "bar": [
           {
            "error_x": {
             "color": "#2a3f5f"
            },
            "error_y": {
             "color": "#2a3f5f"
            },
            "marker": {
             "line": {
              "color": "#E5ECF6",
              "width": 0.5
             },
             "pattern": {
              "fillmode": "overlay",
              "size": 10,
              "solidity": 0.2
             }
            },
            "type": "bar"
           }
          ],
          "barpolar": [
           {
            "marker": {
             "line": {
              "color": "#E5ECF6",
              "width": 0.5
             },
             "pattern": {
              "fillmode": "overlay",
              "size": 10,
              "solidity": 0.2
             }
            },
            "type": "barpolar"
           }
          ],
          "carpet": [
           {
            "aaxis": {
             "endlinecolor": "#2a3f5f",
             "gridcolor": "white",
             "linecolor": "white",
             "minorgridcolor": "white",
             "startlinecolor": "#2a3f5f"
            },
            "baxis": {
             "endlinecolor": "#2a3f5f",
             "gridcolor": "white",
             "linecolor": "white",
             "minorgridcolor": "white",
             "startlinecolor": "#2a3f5f"
            },
            "type": "carpet"
           }
          ],
          "choropleth": [
           {
            "colorbar": {
             "outlinewidth": 0,
             "ticks": ""
            },
            "type": "choropleth"
           }
          ],
          "contour": [
           {
            "colorbar": {
             "outlinewidth": 0,
             "ticks": ""
            },
            "colorscale": [
             [
              0,
              "#0d0887"
             ],
             [
              0.1111111111111111,
              "#46039f"
             ],
             [
              0.2222222222222222,
              "#7201a8"
             ],
             [
              0.3333333333333333,
              "#9c179e"
             ],
             [
              0.4444444444444444,
              "#bd3786"
             ],
             [
              0.5555555555555556,
              "#d8576b"
             ],
             [
              0.6666666666666666,
              "#ed7953"
             ],
             [
              0.7777777777777778,
              "#fb9f3a"
             ],
             [
              0.8888888888888888,
              "#fdca26"
             ],
             [
              1,
              "#f0f921"
             ]
            ],
            "type": "contour"
           }
          ],
          "contourcarpet": [
           {
            "colorbar": {
             "outlinewidth": 0,
             "ticks": ""
            },
            "type": "contourcarpet"
           }
          ],
          "heatmap": [
           {
            "colorbar": {
             "outlinewidth": 0,
             "ticks": ""
            },
            "colorscale": [
             [
              0,
              "#0d0887"
             ],
             [
              0.1111111111111111,
              "#46039f"
             ],
             [
              0.2222222222222222,
              "#7201a8"
             ],
             [
              0.3333333333333333,
              "#9c179e"
             ],
             [
              0.4444444444444444,
              "#bd3786"
             ],
             [
              0.5555555555555556,
              "#d8576b"
             ],
             [
              0.6666666666666666,
              "#ed7953"
             ],
             [
              0.7777777777777778,
              "#fb9f3a"
             ],
             [
              0.8888888888888888,
              "#fdca26"
             ],
             [
              1,
              "#f0f921"
             ]
            ],
            "type": "heatmap"
           }
          ],
          "heatmapgl": [
           {
            "colorbar": {
             "outlinewidth": 0,
             "ticks": ""
            },
            "colorscale": [
             [
              0,
              "#0d0887"
             ],
             [
              0.1111111111111111,
              "#46039f"
             ],
             [
              0.2222222222222222,
              "#7201a8"
             ],
             [
              0.3333333333333333,
              "#9c179e"
             ],
             [
              0.4444444444444444,
              "#bd3786"
             ],
             [
              0.5555555555555556,
              "#d8576b"
             ],
             [
              0.6666666666666666,
              "#ed7953"
             ],
             [
              0.7777777777777778,
              "#fb9f3a"
             ],
             [
              0.8888888888888888,
              "#fdca26"
             ],
             [
              1,
              "#f0f921"
             ]
            ],
            "type": "heatmapgl"
           }
          ],
          "histogram": [
           {
            "marker": {
             "pattern": {
              "fillmode": "overlay",
              "size": 10,
              "solidity": 0.2
             }
            },
            "type": "histogram"
           }
          ],
          "histogram2d": [
           {
            "colorbar": {
             "outlinewidth": 0,
             "ticks": ""
            },
            "colorscale": [
             [
              0,
              "#0d0887"
             ],
             [
              0.1111111111111111,
              "#46039f"
             ],
             [
              0.2222222222222222,
              "#7201a8"
             ],
             [
              0.3333333333333333,
              "#9c179e"
             ],
             [
              0.4444444444444444,
              "#bd3786"
             ],
             [
              0.5555555555555556,
              "#d8576b"
             ],
             [
              0.6666666666666666,
              "#ed7953"
             ],
             [
              0.7777777777777778,
              "#fb9f3a"
             ],
             [
              0.8888888888888888,
              "#fdca26"
             ],
             [
              1,
              "#f0f921"
             ]
            ],
            "type": "histogram2d"
           }
          ],
          "histogram2dcontour": [
           {
            "colorbar": {
             "outlinewidth": 0,
             "ticks": ""
            },
            "colorscale": [
             [
              0,
              "#0d0887"
             ],
             [
              0.1111111111111111,
              "#46039f"
             ],
             [
              0.2222222222222222,
              "#7201a8"
             ],
             [
              0.3333333333333333,
              "#9c179e"
             ],
             [
              0.4444444444444444,
              "#bd3786"
             ],
             [
              0.5555555555555556,
              "#d8576b"
             ],
             [
              0.6666666666666666,
              "#ed7953"
             ],
             [
              0.7777777777777778,
              "#fb9f3a"
             ],
             [
              0.8888888888888888,
              "#fdca26"
             ],
             [
              1,
              "#f0f921"
             ]
            ],
            "type": "histogram2dcontour"
           }
          ],
          "mesh3d": [
           {
            "colorbar": {
             "outlinewidth": 0,
             "ticks": ""
            },
            "type": "mesh3d"
           }
          ],
          "parcoords": [
           {
            "line": {
             "colorbar": {
              "outlinewidth": 0,
              "ticks": ""
             }
            },
            "type": "parcoords"
           }
          ],
          "pie": [
           {
            "automargin": true,
            "type": "pie"
           }
          ],
          "scatter": [
           {
            "fillpattern": {
             "fillmode": "overlay",
             "size": 10,
             "solidity": 0.2
            },
            "type": "scatter"
           }
          ],
          "scatter3d": [
           {
            "line": {
             "colorbar": {
              "outlinewidth": 0,
              "ticks": ""
             }
            },
            "marker": {
             "colorbar": {
              "outlinewidth": 0,
              "ticks": ""
             }
            },
            "type": "scatter3d"
           }
          ],
          "scattercarpet": [
           {
            "marker": {
             "colorbar": {
              "outlinewidth": 0,
              "ticks": ""
             }
            },
            "type": "scattercarpet"
           }
          ],
          "scattergeo": [
           {
            "marker": {
             "colorbar": {
              "outlinewidth": 0,
              "ticks": ""
             }
            },
            "type": "scattergeo"
           }
          ],
          "scattergl": [
           {
            "marker": {
             "colorbar": {
              "outlinewidth": 0,
              "ticks": ""
             }
            },
            "type": "scattergl"
           }
          ],
          "scattermapbox": [
           {
            "marker": {
             "colorbar": {
              "outlinewidth": 0,
              "ticks": ""
             }
            },
            "type": "scattermapbox"
           }
          ],
          "scatterpolar": [
           {
            "marker": {
             "colorbar": {
              "outlinewidth": 0,
              "ticks": ""
             }
            },
            "type": "scatterpolar"
           }
          ],
          "scatterpolargl": [
           {
            "marker": {
             "colorbar": {
              "outlinewidth": 0,
              "ticks": ""
             }
            },
            "type": "scatterpolargl"
           }
          ],
          "scatterternary": [
           {
            "marker": {
             "colorbar": {
              "outlinewidth": 0,
              "ticks": ""
             }
            },
            "type": "scatterternary"
           }
          ],
          "surface": [
           {
            "colorbar": {
             "outlinewidth": 0,
             "ticks": ""
            },
            "colorscale": [
             [
              0,
              "#0d0887"
             ],
             [
              0.1111111111111111,
              "#46039f"
             ],
             [
              0.2222222222222222,
              "#7201a8"
             ],
             [
              0.3333333333333333,
              "#9c179e"
             ],
             [
              0.4444444444444444,
              "#bd3786"
             ],
             [
              0.5555555555555556,
              "#d8576b"
             ],
             [
              0.6666666666666666,
              "#ed7953"
             ],
             [
              0.7777777777777778,
              "#fb9f3a"
             ],
             [
              0.8888888888888888,
              "#fdca26"
             ],
             [
              1,
              "#f0f921"
             ]
            ],
            "type": "surface"
           }
          ],
          "table": [
           {
            "cells": {
             "fill": {
              "color": "#EBF0F8"
             },
             "line": {
              "color": "white"
             }
            },
            "header": {
             "fill": {
              "color": "#C8D4E3"
             },
             "line": {
              "color": "white"
             }
            },
            "type": "table"
           }
          ]
         },
         "layout": {
          "annotationdefaults": {
           "arrowcolor": "#2a3f5f",
           "arrowhead": 0,
           "arrowwidth": 1
          },
          "autotypenumbers": "strict",
          "coloraxis": {
           "colorbar": {
            "outlinewidth": 0,
            "ticks": ""
           }
          },
          "colorscale": {
           "diverging": [
            [
             0,
             "#8e0152"
            ],
            [
             0.1,
             "#c51b7d"
            ],
            [
             0.2,
             "#de77ae"
            ],
            [
             0.3,
             "#f1b6da"
            ],
            [
             0.4,
             "#fde0ef"
            ],
            [
             0.5,
             "#f7f7f7"
            ],
            [
             0.6,
             "#e6f5d0"
            ],
            [
             0.7,
             "#b8e186"
            ],
            [
             0.8,
             "#7fbc41"
            ],
            [
             0.9,
             "#4d9221"
            ],
            [
             1,
             "#276419"
            ]
           ],
           "sequential": [
            [
             0,
             "#0d0887"
            ],
            [
             0.1111111111111111,
             "#46039f"
            ],
            [
             0.2222222222222222,
             "#7201a8"
            ],
            [
             0.3333333333333333,
             "#9c179e"
            ],
            [
             0.4444444444444444,
             "#bd3786"
            ],
            [
             0.5555555555555556,
             "#d8576b"
            ],
            [
             0.6666666666666666,
             "#ed7953"
            ],
            [
             0.7777777777777778,
             "#fb9f3a"
            ],
            [
             0.8888888888888888,
             "#fdca26"
            ],
            [
             1,
             "#f0f921"
            ]
           ],
           "sequentialminus": [
            [
             0,
             "#0d0887"
            ],
            [
             0.1111111111111111,
             "#46039f"
            ],
            [
             0.2222222222222222,
             "#7201a8"
            ],
            [
             0.3333333333333333,
             "#9c179e"
            ],
            [
             0.4444444444444444,
             "#bd3786"
            ],
            [
             0.5555555555555556,
             "#d8576b"
            ],
            [
             0.6666666666666666,
             "#ed7953"
            ],
            [
             0.7777777777777778,
             "#fb9f3a"
            ],
            [
             0.8888888888888888,
             "#fdca26"
            ],
            [
             1,
             "#f0f921"
            ]
           ]
          },
          "colorway": [
           "#636efa",
           "#EF553B",
           "#00cc96",
           "#ab63fa",
           "#FFA15A",
           "#19d3f3",
           "#FF6692",
           "#B6E880",
           "#FF97FF",
           "#FECB52"
          ],
          "font": {
           "color": "#2a3f5f"
          },
          "geo": {
           "bgcolor": "white",
           "lakecolor": "white",
           "landcolor": "#E5ECF6",
           "showlakes": true,
           "showland": true,
           "subunitcolor": "white"
          },
          "hoverlabel": {
           "align": "left"
          },
          "hovermode": "closest",
          "mapbox": {
           "style": "light"
          },
          "paper_bgcolor": "white",
          "plot_bgcolor": "#E5ECF6",
          "polar": {
           "angularaxis": {
            "gridcolor": "white",
            "linecolor": "white",
            "ticks": ""
           },
           "bgcolor": "#E5ECF6",
           "radialaxis": {
            "gridcolor": "white",
            "linecolor": "white",
            "ticks": ""
           }
          },
          "scene": {
           "xaxis": {
            "backgroundcolor": "#E5ECF6",
            "gridcolor": "white",
            "gridwidth": 2,
            "linecolor": "white",
            "showbackground": true,
            "ticks": "",
            "zerolinecolor": "white"
           },
           "yaxis": {
            "backgroundcolor": "#E5ECF6",
            "gridcolor": "white",
            "gridwidth": 2,
            "linecolor": "white",
            "showbackground": true,
            "ticks": "",
            "zerolinecolor": "white"
           },
           "zaxis": {
            "backgroundcolor": "#E5ECF6",
            "gridcolor": "white",
            "gridwidth": 2,
            "linecolor": "white",
            "showbackground": true,
            "ticks": "",
            "zerolinecolor": "white"
           }
          },
          "shapedefaults": {
           "line": {
            "color": "#2a3f5f"
           }
          },
          "ternary": {
           "aaxis": {
            "gridcolor": "white",
            "linecolor": "white",
            "ticks": ""
           },
           "baxis": {
            "gridcolor": "white",
            "linecolor": "white",
            "ticks": ""
           },
           "bgcolor": "#E5ECF6",
           "caxis": {
            "gridcolor": "white",
            "linecolor": "white",
            "ticks": ""
           }
          },
          "title": {
           "x": 0.05
          },
          "xaxis": {
           "automargin": true,
           "gridcolor": "white",
           "linecolor": "white",
           "ticks": "",
           "title": {
            "standoff": 15
           },
           "zerolinecolor": "white",
           "zerolinewidth": 2
          },
          "yaxis": {
           "automargin": true,
           "gridcolor": "white",
           "linecolor": "white",
           "ticks": "",
           "title": {
            "standoff": 15
           },
           "zerolinecolor": "white",
           "zerolinewidth": 2
          }
         }
        },
        "width": 300
       }
      }
     },
     "metadata": {},
     "output_type": "display_data"
    }
   ],
   "source": [
    "# Create a summary table\n",
    "unique_patients = fig_df['Record ID'].nunique()\n",
    "total_data_points = len(fig_df)\n",
    "\n",
    "data_summary = pd.DataFrame({\n",
    "    'Category': ['Unique Patients', 'Total Data Points'],\n",
    "    'Count': [unique_patients, total_data_points]\n",
    "})\n",
    "\n",
    "patients_table = go.Table(\n",
    "    header=dict(values=[\"Category\", \"Count\"]),\n",
    "    cells=dict(values=[data_summary['Category'], data_summary['Count']])\n",
    ")\n",
    "\n",
    "# Visualize\n",
    "data = [patients_table]\n",
    "fig = go.Figure(data = data)\n",
    "fig.update_layout(width=300, height=300)\n",
    "display(fig)"
   ]
  },
  {
   "cell_type": "code",
   "execution_count": 343,
   "metadata": {},
   "outputs": [
    {
     "data": {
      "application/vnd.plotly.v1+json": {
       "config": {
        "plotlyServerURL": "https://plot.ly"
       },
       "data": [
        {
         "domain": {
          "x": [
           0,
           0.2888888888888889
          ],
          "y": [
           0.625,
           1
          ]
         },
         "labels": [
          "Female",
          "Male"
         ],
         "marker": {
          "colors": [
           "#d9ed92",
           "#99d98c"
          ]
         },
         "type": "pie",
         "values": [
          28,
          24
         ]
        },
        {
         "domain": {
          "x": [
           0.35555555555555557,
           0.6444444444444445
          ],
          "y": [
           0.625,
           1
          ]
         },
         "labels": [
          "White",
          "Non-White"
         ],
         "marker": {
          "colors": [
           "#184e77",
           "#1a759f"
          ]
         },
         "type": "pie",
         "values": [
          28,
          24
         ]
        },
        {
         "marker": {
          "color": "#1a759f"
         },
         "name": "Events",
         "type": "histogram",
         "x": [
          3,
          5,
          4,
          5,
          2,
          2,
          4,
          0,
          1,
          2,
          2,
          1,
          4,
          1,
          4,
          3,
          4,
          2,
          1,
          3,
          2,
          4,
          1,
          2,
          4,
          5,
          3,
          4,
          2,
          3,
          3,
          4,
          4,
          6,
          4,
          1,
          3,
          1,
          3,
          5,
          2,
          2,
          4,
          3,
          3,
          2,
          4,
          3,
          4,
          1,
          3,
          2,
          3,
          5,
          4,
          5,
          2,
          2,
          4,
          0,
          1,
          2,
          2,
          1,
          4,
          1,
          4,
          3,
          4,
          2,
          1,
          3,
          2,
          4,
          1,
          2,
          4,
          5,
          3,
          4,
          2,
          3,
          3,
          4,
          4,
          6,
          4,
          1,
          3,
          1,
          3,
          5,
          2,
          2,
          4,
          3,
          3,
          2,
          4,
          3,
          4,
          1,
          3,
          2,
          3,
          5,
          4,
          5,
          2,
          2,
          4,
          0,
          1,
          2,
          2,
          1,
          4,
          1,
          4,
          3,
          4,
          2,
          1,
          3,
          2,
          4,
          1,
          2,
          4,
          5,
          3,
          4,
          2,
          3,
          3,
          4,
          4,
          6,
          4,
          1,
          3,
          1,
          3,
          5,
          2,
          2,
          4,
          3,
          3,
          2,
          4,
          3,
          4,
          1,
          3,
          2,
          3,
          5,
          4,
          5,
          2,
          2,
          4,
          0,
          1,
          2,
          2,
          1,
          4,
          1,
          4,
          3,
          4,
          2,
          1,
          3,
          2,
          4,
          1,
          2,
          4,
          5,
          3,
          4,
          2,
          3,
          3,
          4,
          4,
          6,
          4,
          1,
          3,
          1,
          3,
          5,
          2,
          2,
          4,
          3,
          3,
          2,
          4,
          3,
          4,
          1,
          3,
          2,
          3,
          5,
          4,
          5,
          2,
          2,
          4,
          0,
          1,
          2,
          2,
          1,
          4,
          1,
          4,
          3,
          4,
          2,
          1,
          3,
          2,
          4,
          1,
          2,
          4,
          5,
          3,
          4,
          2,
          3,
          3,
          4,
          4,
          6,
          4,
          1,
          3,
          1,
          3,
          5,
          2,
          2,
          4,
          3,
          3,
          2,
          4,
          3,
          4,
          1,
          3,
          2,
          3,
          5,
          4,
          5,
          2,
          2,
          4,
          0,
          1,
          2,
          2,
          1,
          4,
          1,
          4,
          3,
          4,
          2,
          1,
          3,
          2,
          4,
          1,
          2,
          4,
          5,
          3,
          4,
          2,
          3,
          3,
          4,
          4,
          6,
          4,
          1,
          3,
          1,
          3,
          5,
          2,
          2,
          4,
          3,
          3,
          2,
          4,
          3,
          4,
          1,
          3,
          2,
          3,
          5,
          4,
          5,
          2,
          2,
          4,
          0,
          1,
          2,
          2,
          1,
          4,
          1,
          4,
          3,
          4,
          2,
          1,
          3,
          2,
          4,
          1,
          2,
          4,
          5,
          3,
          4,
          2,
          3,
          3,
          4,
          4,
          6,
          4,
          1,
          3,
          1,
          3,
          5,
          2,
          2,
          4,
          3,
          3,
          2,
          4,
          3,
          4,
          1,
          3,
          2,
          3,
          5,
          4,
          5,
          2,
          2,
          4,
          0,
          1,
          2,
          2,
          1,
          4,
          1,
          4,
          3,
          4,
          2,
          1,
          3,
          2,
          4,
          1,
          2,
          4,
          5,
          3,
          4,
          2,
          3,
          3,
          4,
          4,
          6,
          4,
          1,
          3,
          1,
          3,
          5,
          2,
          2,
          4,
          3,
          3,
          2,
          4,
          3,
          4,
          1,
          3,
          2,
          3,
          5,
          4,
          5,
          2,
          2,
          4,
          0,
          1,
          2,
          2,
          1,
          4,
          1,
          4,
          3,
          4,
          2,
          1,
          3,
          2,
          4,
          1,
          2,
          4,
          5,
          3,
          4,
          2,
          3,
          3,
          4,
          4,
          6,
          4,
          1,
          3,
          1,
          3,
          5,
          2,
          2,
          4,
          3,
          3,
          2,
          4,
          3,
          4,
          1,
          3,
          2,
          3,
          5,
          4,
          5,
          2,
          2,
          4,
          0,
          1,
          2,
          2,
          1,
          4,
          1,
          4,
          3,
          4,
          2,
          1,
          3,
          2,
          4,
          1,
          2,
          4,
          5,
          3,
          4,
          2,
          3,
          3,
          4,
          4,
          6,
          4,
          1,
          3,
          1,
          3,
          5,
          2,
          2,
          4,
          3,
          3,
          2,
          4,
          3,
          4,
          1,
          3,
          2,
          3,
          5,
          4,
          5,
          2,
          2,
          4,
          0,
          1,
          2,
          2,
          1,
          4,
          1,
          4,
          3,
          4,
          2,
          1,
          3,
          2,
          4,
          1,
          2,
          4,
          5,
          3,
          4,
          2,
          3,
          3,
          4,
          4,
          6,
          4,
          1,
          3,
          1,
          3,
          5,
          2,
          2,
          4,
          3,
          3,
          2,
          4,
          3,
          4,
          1,
          3,
          2,
          3,
          5,
          4,
          5,
          2,
          2,
          4,
          0,
          1,
          2,
          2,
          1,
          4,
          1,
          4,
          3,
          4,
          2,
          1,
          3,
          2,
          4,
          1,
          2,
          4,
          5,
          3,
          4,
          2,
          3,
          3,
          4,
          4,
          6,
          4,
          1,
          3,
          1,
          3,
          5,
          2,
          2,
          4,
          3,
          3,
          2,
          4,
          3,
          4,
          1,
          3,
          2,
          3,
          5,
          4,
          5,
          2,
          2,
          4,
          0,
          1,
          2,
          2,
          1,
          4,
          1,
          4,
          3,
          4,
          2,
          1,
          3,
          2,
          4,
          1,
          2,
          4,
          5,
          3,
          4,
          2,
          3,
          3,
          4,
          4,
          6,
          4,
          1,
          3,
          1,
          3,
          5,
          2,
          2,
          4,
          3,
          3,
          2,
          4,
          3,
          4,
          1,
          3,
          2,
          3,
          5,
          4,
          5,
          2,
          2,
          4,
          0,
          1,
          2,
          2,
          1,
          4,
          1,
          4,
          3,
          4,
          2,
          1,
          3,
          2,
          4,
          1,
          2,
          4,
          5,
          3,
          4,
          2,
          3,
          3,
          4,
          4,
          6,
          4,
          1,
          3,
          1,
          3,
          5,
          2,
          2,
          4,
          3,
          3,
          2,
          4,
          3,
          4,
          1,
          3,
          2,
          3,
          5,
          4,
          5,
          2,
          2,
          4,
          0,
          1,
          2,
          2,
          1,
          4,
          1,
          4,
          3,
          4,
          2,
          1,
          3,
          2,
          4,
          1,
          2,
          4,
          5,
          3,
          4,
          2,
          3,
          3,
          4,
          4,
          6,
          4,
          1,
          3,
          1,
          3,
          5,
          2,
          2,
          4,
          3,
          3,
          2,
          4,
          3,
          4,
          1,
          3,
          2,
          3,
          5,
          4,
          5,
          2,
          2,
          4,
          0,
          1,
          2,
          2,
          1,
          4,
          1,
          4,
          3,
          4,
          2,
          1,
          3
         ],
         "xaxis": "x",
         "yaxis": "y"
        },
        {
         "marker": {
          "color": "#1e6091"
         },
         "name": "BMI",
         "type": "histogram",
         "x": [
          40.37364314167848,
          15.6197502942692,
          37.47092140509929,
          15.88821409016035,
          31.97973319162682,
          28.1739517252042,
          23.93538267523092,
          23.75772644599179,
          16.47121699014891,
          16.39503531809196,
          15.74143565841061,
          23.25016159025016,
          30.18603788432717,
          42.07038669937084,
          33.92894892881829,
          39.65184792086399,
          36.4954655526526,
          27.87831249269034,
          18.80360081625233,
          40.3260575345188,
          40.45171270209357,
          36.15942191585318,
          24.7002931233234,
          38.93539128821769,
          35.2294577235436,
          23.38795080248004,
          14.11323649758434,
          31.59448379584371,
          30.04512688679085,
          22.5117083868218,
          31.77942116556589,
          33.79795596250194,
          36.15253936526006,
          26.74763263887642,
          35.0347209412711,
          42.00604123804371,
          18.30936410330949,
          31.79276557491649,
          22.00302791260598,
          33.93478036972154,
          24.06716297139123,
          37.6493551535287,
          37.63682996438092,
          24.64465081136552,
          22.84846573619816,
          39.13147738785178,
          32.07855927549254,
          38.77623321968011,
          20.83495672791886,
          39.53891929156112,
          19.08268725455712,
          31.2575316065812
         ],
         "xaxis": "x2",
         "yaxis": "y2"
        },
        {
         "marker": {
          "color": "#52b69a"
         },
         "name": "Age",
         "type": "histogram",
         "x": [
          81,
          70,
          88,
          78,
          84,
          83,
          79,
          86,
          85,
          79,
          75,
          91,
          61,
          89,
          67,
          85,
          81,
          72,
          91,
          89,
          75,
          79,
          78,
          60,
          72,
          61,
          69,
          73,
          79,
          61,
          77,
          64,
          87,
          73,
          91,
          63,
          81,
          66,
          76,
          80,
          84,
          79,
          84,
          86,
          61,
          71,
          60,
          71,
          63,
          85,
          83,
          79
         ],
         "xaxis": "x3",
         "yaxis": "y3"
        },
        {
         "cells": {
          "values": [
           [
            "Unique Patients",
            "Total Data Points"
           ],
           [
            52,
            800
           ]
          ]
         },
         "domain": {
          "x": [
           0.7111111111111111,
           1
          ],
          "y": [
           0,
           0.375
          ]
         },
         "header": {
          "values": [
           "Category",
           "Count"
          ]
         },
         "type": "table"
        }
       ],
       "layout": {
        "annotations": [
         {
          "font": {
           "size": 16
          },
          "showarrow": false,
          "text": "Gender Distribution",
          "x": 0.14444444444444446,
          "xanchor": "center",
          "xref": "paper",
          "y": 1,
          "yanchor": "bottom",
          "yref": "paper"
         },
         {
          "font": {
           "size": 16
          },
          "showarrow": false,
          "text": "Ethnicity Distribution",
          "x": 0.5,
          "xanchor": "center",
          "xref": "paper",
          "y": 1,
          "yanchor": "bottom",
          "yref": "paper"
         },
         {
          "font": {
           "size": 16
          },
          "showarrow": false,
          "text": "Thrombotic event",
          "x": 0.8555555555555556,
          "xanchor": "center",
          "xref": "paper",
          "y": 1,
          "yanchor": "bottom",
          "yref": "paper"
         },
         {
          "font": {
           "size": 16
          },
          "showarrow": false,
          "text": "BMI",
          "x": 0.14444444444444446,
          "xanchor": "center",
          "xref": "paper",
          "y": 0.375,
          "yanchor": "bottom",
          "yref": "paper"
         },
         {
          "font": {
           "size": 16
          },
          "showarrow": false,
          "text": "Age",
          "x": 0.5,
          "xanchor": "center",
          "xref": "paper",
          "y": 0.375,
          "yanchor": "bottom",
          "yref": "paper"
         },
         {
          "font": {
           "size": 16
          },
          "showarrow": false,
          "text": "Data Summary",
          "x": 0.8555555555555556,
          "xanchor": "center",
          "xref": "paper",
          "y": 0.375,
          "yanchor": "bottom",
          "yref": "paper"
         }
        ],
        "height": 600,
        "template": {
         "data": {
          "bar": [
           {
            "error_x": {
             "color": "#2a3f5f"
            },
            "error_y": {
             "color": "#2a3f5f"
            },
            "marker": {
             "line": {
              "color": "#E5ECF6",
              "width": 0.5
             },
             "pattern": {
              "fillmode": "overlay",
              "size": 10,
              "solidity": 0.2
             }
            },
            "type": "bar"
           }
          ],
          "barpolar": [
           {
            "marker": {
             "line": {
              "color": "#E5ECF6",
              "width": 0.5
             },
             "pattern": {
              "fillmode": "overlay",
              "size": 10,
              "solidity": 0.2
             }
            },
            "type": "barpolar"
           }
          ],
          "carpet": [
           {
            "aaxis": {
             "endlinecolor": "#2a3f5f",
             "gridcolor": "white",
             "linecolor": "white",
             "minorgridcolor": "white",
             "startlinecolor": "#2a3f5f"
            },
            "baxis": {
             "endlinecolor": "#2a3f5f",
             "gridcolor": "white",
             "linecolor": "white",
             "minorgridcolor": "white",
             "startlinecolor": "#2a3f5f"
            },
            "type": "carpet"
           }
          ],
          "choropleth": [
           {
            "colorbar": {
             "outlinewidth": 0,
             "ticks": ""
            },
            "type": "choropleth"
           }
          ],
          "contour": [
           {
            "colorbar": {
             "outlinewidth": 0,
             "ticks": ""
            },
            "colorscale": [
             [
              0,
              "#0d0887"
             ],
             [
              0.1111111111111111,
              "#46039f"
             ],
             [
              0.2222222222222222,
              "#7201a8"
             ],
             [
              0.3333333333333333,
              "#9c179e"
             ],
             [
              0.4444444444444444,
              "#bd3786"
             ],
             [
              0.5555555555555556,
              "#d8576b"
             ],
             [
              0.6666666666666666,
              "#ed7953"
             ],
             [
              0.7777777777777778,
              "#fb9f3a"
             ],
             [
              0.8888888888888888,
              "#fdca26"
             ],
             [
              1,
              "#f0f921"
             ]
            ],
            "type": "contour"
           }
          ],
          "contourcarpet": [
           {
            "colorbar": {
             "outlinewidth": 0,
             "ticks": ""
            },
            "type": "contourcarpet"
           }
          ],
          "heatmap": [
           {
            "colorbar": {
             "outlinewidth": 0,
             "ticks": ""
            },
            "colorscale": [
             [
              0,
              "#0d0887"
             ],
             [
              0.1111111111111111,
              "#46039f"
             ],
             [
              0.2222222222222222,
              "#7201a8"
             ],
             [
              0.3333333333333333,
              "#9c179e"
             ],
             [
              0.4444444444444444,
              "#bd3786"
             ],
             [
              0.5555555555555556,
              "#d8576b"
             ],
             [
              0.6666666666666666,
              "#ed7953"
             ],
             [
              0.7777777777777778,
              "#fb9f3a"
             ],
             [
              0.8888888888888888,
              "#fdca26"
             ],
             [
              1,
              "#f0f921"
             ]
            ],
            "type": "heatmap"
           }
          ],
          "heatmapgl": [
           {
            "colorbar": {
             "outlinewidth": 0,
             "ticks": ""
            },
            "colorscale": [
             [
              0,
              "#0d0887"
             ],
             [
              0.1111111111111111,
              "#46039f"
             ],
             [
              0.2222222222222222,
              "#7201a8"
             ],
             [
              0.3333333333333333,
              "#9c179e"
             ],
             [
              0.4444444444444444,
              "#bd3786"
             ],
             [
              0.5555555555555556,
              "#d8576b"
             ],
             [
              0.6666666666666666,
              "#ed7953"
             ],
             [
              0.7777777777777778,
              "#fb9f3a"
             ],
             [
              0.8888888888888888,
              "#fdca26"
             ],
             [
              1,
              "#f0f921"
             ]
            ],
            "type": "heatmapgl"
           }
          ],
          "histogram": [
           {
            "marker": {
             "pattern": {
              "fillmode": "overlay",
              "size": 10,
              "solidity": 0.2
             }
            },
            "type": "histogram"
           }
          ],
          "histogram2d": [
           {
            "colorbar": {
             "outlinewidth": 0,
             "ticks": ""
            },
            "colorscale": [
             [
              0,
              "#0d0887"
             ],
             [
              0.1111111111111111,
              "#46039f"
             ],
             [
              0.2222222222222222,
              "#7201a8"
             ],
             [
              0.3333333333333333,
              "#9c179e"
             ],
             [
              0.4444444444444444,
              "#bd3786"
             ],
             [
              0.5555555555555556,
              "#d8576b"
             ],
             [
              0.6666666666666666,
              "#ed7953"
             ],
             [
              0.7777777777777778,
              "#fb9f3a"
             ],
             [
              0.8888888888888888,
              "#fdca26"
             ],
             [
              1,
              "#f0f921"
             ]
            ],
            "type": "histogram2d"
           }
          ],
          "histogram2dcontour": [
           {
            "colorbar": {
             "outlinewidth": 0,
             "ticks": ""
            },
            "colorscale": [
             [
              0,
              "#0d0887"
             ],
             [
              0.1111111111111111,
              "#46039f"
             ],
             [
              0.2222222222222222,
              "#7201a8"
             ],
             [
              0.3333333333333333,
              "#9c179e"
             ],
             [
              0.4444444444444444,
              "#bd3786"
             ],
             [
              0.5555555555555556,
              "#d8576b"
             ],
             [
              0.6666666666666666,
              "#ed7953"
             ],
             [
              0.7777777777777778,
              "#fb9f3a"
             ],
             [
              0.8888888888888888,
              "#fdca26"
             ],
             [
              1,
              "#f0f921"
             ]
            ],
            "type": "histogram2dcontour"
           }
          ],
          "mesh3d": [
           {
            "colorbar": {
             "outlinewidth": 0,
             "ticks": ""
            },
            "type": "mesh3d"
           }
          ],
          "parcoords": [
           {
            "line": {
             "colorbar": {
              "outlinewidth": 0,
              "ticks": ""
             }
            },
            "type": "parcoords"
           }
          ],
          "pie": [
           {
            "automargin": true,
            "type": "pie"
           }
          ],
          "scatter": [
           {
            "fillpattern": {
             "fillmode": "overlay",
             "size": 10,
             "solidity": 0.2
            },
            "type": "scatter"
           }
          ],
          "scatter3d": [
           {
            "line": {
             "colorbar": {
              "outlinewidth": 0,
              "ticks": ""
             }
            },
            "marker": {
             "colorbar": {
              "outlinewidth": 0,
              "ticks": ""
             }
            },
            "type": "scatter3d"
           }
          ],
          "scattercarpet": [
           {
            "marker": {
             "colorbar": {
              "outlinewidth": 0,
              "ticks": ""
             }
            },
            "type": "scattercarpet"
           }
          ],
          "scattergeo": [
           {
            "marker": {
             "colorbar": {
              "outlinewidth": 0,
              "ticks": ""
             }
            },
            "type": "scattergeo"
           }
          ],
          "scattergl": [
           {
            "marker": {
             "colorbar": {
              "outlinewidth": 0,
              "ticks": ""
             }
            },
            "type": "scattergl"
           }
          ],
          "scattermapbox": [
           {
            "marker": {
             "colorbar": {
              "outlinewidth": 0,
              "ticks": ""
             }
            },
            "type": "scattermapbox"
           }
          ],
          "scatterpolar": [
           {
            "marker": {
             "colorbar": {
              "outlinewidth": 0,
              "ticks": ""
             }
            },
            "type": "scatterpolar"
           }
          ],
          "scatterpolargl": [
           {
            "marker": {
             "colorbar": {
              "outlinewidth": 0,
              "ticks": ""
             }
            },
            "type": "scatterpolargl"
           }
          ],
          "scatterternary": [
           {
            "marker": {
             "colorbar": {
              "outlinewidth": 0,
              "ticks": ""
             }
            },
            "type": "scatterternary"
           }
          ],
          "surface": [
           {
            "colorbar": {
             "outlinewidth": 0,
             "ticks": ""
            },
            "colorscale": [
             [
              0,
              "#0d0887"
             ],
             [
              0.1111111111111111,
              "#46039f"
             ],
             [
              0.2222222222222222,
              "#7201a8"
             ],
             [
              0.3333333333333333,
              "#9c179e"
             ],
             [
              0.4444444444444444,
              "#bd3786"
             ],
             [
              0.5555555555555556,
              "#d8576b"
             ],
             [
              0.6666666666666666,
              "#ed7953"
             ],
             [
              0.7777777777777778,
              "#fb9f3a"
             ],
             [
              0.8888888888888888,
              "#fdca26"
             ],
             [
              1,
              "#f0f921"
             ]
            ],
            "type": "surface"
           }
          ],
          "table": [
           {
            "cells": {
             "fill": {
              "color": "#EBF0F8"
             },
             "line": {
              "color": "white"
             }
            },
            "header": {
             "fill": {
              "color": "#C8D4E3"
             },
             "line": {
              "color": "white"
             }
            },
            "type": "table"
           }
          ]
         },
         "layout": {
          "annotationdefaults": {
           "arrowcolor": "#2a3f5f",
           "arrowhead": 0,
           "arrowwidth": 1
          },
          "autotypenumbers": "strict",
          "coloraxis": {
           "colorbar": {
            "outlinewidth": 0,
            "ticks": ""
           }
          },
          "colorscale": {
           "diverging": [
            [
             0,
             "#8e0152"
            ],
            [
             0.1,
             "#c51b7d"
            ],
            [
             0.2,
             "#de77ae"
            ],
            [
             0.3,
             "#f1b6da"
            ],
            [
             0.4,
             "#fde0ef"
            ],
            [
             0.5,
             "#f7f7f7"
            ],
            [
             0.6,
             "#e6f5d0"
            ],
            [
             0.7,
             "#b8e186"
            ],
            [
             0.8,
             "#7fbc41"
            ],
            [
             0.9,
             "#4d9221"
            ],
            [
             1,
             "#276419"
            ]
           ],
           "sequential": [
            [
             0,
             "#0d0887"
            ],
            [
             0.1111111111111111,
             "#46039f"
            ],
            [
             0.2222222222222222,
             "#7201a8"
            ],
            [
             0.3333333333333333,
             "#9c179e"
            ],
            [
             0.4444444444444444,
             "#bd3786"
            ],
            [
             0.5555555555555556,
             "#d8576b"
            ],
            [
             0.6666666666666666,
             "#ed7953"
            ],
            [
             0.7777777777777778,
             "#fb9f3a"
            ],
            [
             0.8888888888888888,
             "#fdca26"
            ],
            [
             1,
             "#f0f921"
            ]
           ],
           "sequentialminus": [
            [
             0,
             "#0d0887"
            ],
            [
             0.1111111111111111,
             "#46039f"
            ],
            [
             0.2222222222222222,
             "#7201a8"
            ],
            [
             0.3333333333333333,
             "#9c179e"
            ],
            [
             0.4444444444444444,
             "#bd3786"
            ],
            [
             0.5555555555555556,
             "#d8576b"
            ],
            [
             0.6666666666666666,
             "#ed7953"
            ],
            [
             0.7777777777777778,
             "#fb9f3a"
            ],
            [
             0.8888888888888888,
             "#fdca26"
            ],
            [
             1,
             "#f0f921"
            ]
           ]
          },
          "colorway": [
           "#636efa",
           "#EF553B",
           "#00cc96",
           "#ab63fa",
           "#FFA15A",
           "#19d3f3",
           "#FF6692",
           "#B6E880",
           "#FF97FF",
           "#FECB52"
          ],
          "font": {
           "color": "#2a3f5f"
          },
          "geo": {
           "bgcolor": "white",
           "lakecolor": "white",
           "landcolor": "#E5ECF6",
           "showlakes": true,
           "showland": true,
           "subunitcolor": "white"
          },
          "hoverlabel": {
           "align": "left"
          },
          "hovermode": "closest",
          "mapbox": {
           "style": "light"
          },
          "paper_bgcolor": "white",
          "plot_bgcolor": "#E5ECF6",
          "polar": {
           "angularaxis": {
            "gridcolor": "white",
            "linecolor": "white",
            "ticks": ""
           },
           "bgcolor": "#E5ECF6",
           "radialaxis": {
            "gridcolor": "white",
            "linecolor": "white",
            "ticks": ""
           }
          },
          "scene": {
           "xaxis": {
            "backgroundcolor": "#E5ECF6",
            "gridcolor": "white",
            "gridwidth": 2,
            "linecolor": "white",
            "showbackground": true,
            "ticks": "",
            "zerolinecolor": "white"
           },
           "yaxis": {
            "backgroundcolor": "#E5ECF6",
            "gridcolor": "white",
            "gridwidth": 2,
            "linecolor": "white",
            "showbackground": true,
            "ticks": "",
            "zerolinecolor": "white"
           },
           "zaxis": {
            "backgroundcolor": "#E5ECF6",
            "gridcolor": "white",
            "gridwidth": 2,
            "linecolor": "white",
            "showbackground": true,
            "ticks": "",
            "zerolinecolor": "white"
           }
          },
          "shapedefaults": {
           "line": {
            "color": "#2a3f5f"
           }
          },
          "ternary": {
           "aaxis": {
            "gridcolor": "white",
            "linecolor": "white",
            "ticks": ""
           },
           "baxis": {
            "gridcolor": "white",
            "linecolor": "white",
            "ticks": ""
           },
           "bgcolor": "#E5ECF6",
           "caxis": {
            "gridcolor": "white",
            "linecolor": "white",
            "ticks": ""
           }
          },
          "title": {
           "x": 0.05
          },
          "xaxis": {
           "automargin": true,
           "gridcolor": "white",
           "linecolor": "white",
           "ticks": "",
           "title": {
            "standoff": 15
           },
           "zerolinecolor": "white",
           "zerolinewidth": 2
          },
          "yaxis": {
           "automargin": true,
           "gridcolor": "white",
           "linecolor": "white",
           "ticks": "",
           "title": {
            "standoff": 15
           },
           "zerolinecolor": "white",
           "zerolinewidth": 2
          }
         }
        },
        "width": 900,
        "xaxis": {
         "anchor": "y",
         "domain": [
          0.7111111111111111,
          1
         ]
        },
        "xaxis2": {
         "anchor": "y2",
         "domain": [
          0,
          0.2888888888888889
         ]
        },
        "xaxis3": {
         "anchor": "y3",
         "domain": [
          0.35555555555555557,
          0.6444444444444445
         ]
        },
        "yaxis": {
         "anchor": "x",
         "domain": [
          0.625,
          1
         ]
        },
        "yaxis2": {
         "anchor": "x2",
         "domain": [
          0,
          0.375
         ]
        },
        "yaxis3": {
         "anchor": "x3",
         "domain": [
          0,
          0.375
         ]
        }
       }
      }
     },
     "metadata": {},
     "output_type": "display_data"
    }
   ],
   "source": [
    "# Create subplots\n",
    "fig = make_subplots(rows=2, cols=3,\n",
    "                    specs=[[{'type':'domain'}, {'type':'domain'},{'type':'xy'}],\n",
    "                            [{'type':'xy'}, {'type':'xy'},{'type':'domain'}]],\n",
    "                    subplot_titles=['Gender Distribution', 'Ethnicity Distribution', 'Thrombotic event', 'BMI',\n",
    "                                    'Age', 'Data Summary'])\n",
    "\n",
    "fig.add_trace(sex_pie, row=1, col=1)\n",
    "fig.add_trace(white_pie, row=1, col=2)\n",
    "fig.add_trace(events_hist, row=1, col=3)\n",
    "fig.add_trace(bmi_hist, row=2, col=1)\n",
    "fig.add_trace(age_hist, row=2, col=2)\n",
    "fig.add_trace(patients_table, row=2, col=3)\n",
    "\n",
    "fig.update_layout(width=900, height=600)\n",
    "display(fig)"
   ]
  },
  {
   "cell_type": "markdown",
   "metadata": {},
   "source": [
    "## Train model function\n",
    "There will be three models trained, so a function is being created now to be used multiple times."
   ]
  },
  {
   "cell_type": "code",
   "execution_count": 344,
   "metadata": {},
   "outputs": [],
   "source": [
    "def train_model(df, target_column, drop_columns):\n",
    "    \"\"\"\n",
    "    Trains an XGBoost regression model on the given DataFrame using grid search for hyperparameter tuning.\n",
    "\n",
    "    Parameters:\n",
    "    - df (pd.DataFrame): Input DataFrame containing the features and target variable.\n",
    "    - target_column (str): The name of the target variable column.\n",
    "    - drop_columns (list): List of column names to be dropped from the feature set.\n",
    "\n",
    "    Returns:\n",
    "    - best_pipeline (Pipeline): The best-performing pipeline after hyperparameter tuning.\n",
    "\n",
    "    Example:\n",
    "    best_model = train_model(df=my_dataframe, target_column='target', drop_columns=['column1', 'column2'])\n",
    "    \"\"\"\n",
    "\n",
    "    # Separate features (X) and target (y)\n",
    "    y = df[target_column]\n",
    "    X = df.drop(labels=drop_columns + [target_column], axis=1)\n",
    "\n",
    "    # Split data into training and test sets\n",
    "    X_train, X_test, y_train, y_test = train_test_split(X, y, test_size=0.2, random_state=42)\n",
    "\n",
    "    # Create transformers for feature scaling\n",
    "    feature_scaler = RobustScaler()\n",
    "    target_scaler = MinMaxScaler()\n",
    "\n",
    "    # Create a pipeline\n",
    "    pipeline = Pipeline([\n",
    "        ('feature_scaler', feature_scaler),  # Robust scaling for features\n",
    "        ('target_scaler', target_scaler),    # Min-Max scaling for the target\n",
    "        ('xgb_regressor', XGBRegressor())    # XGBoost regressor\n",
    "    ])\n",
    "\n",
    "    # Define hyperparameter grid for tuning (adjust as needed)\n",
    "    param_grid = {\n",
    "        'xgb_regressor__max_depth': [3, 4, 5],\n",
    "        'xgb_regressor__gamma': [0, 0.1, 0.2],\n",
    "        'xgb_regressor__min_child_weight': [1, 2, 5]\n",
    "    }\n",
    "\n",
    "    # Initialize K-Fold cross-validation\n",
    "    kf = KFold(n_splits=5, shuffle=True, random_state=42)\n",
    "\n",
    "    # Initialize GridSearchCV for hyperparameter tuning\n",
    "    grid_search = GridSearchCV(estimator=pipeline, param_grid=param_grid,\n",
    "                               scoring='r2', cv=kf)\n",
    "\n",
    "    # Fit the model and perform hyperparameter tuning\n",
    "    grid_search.fit(X_train, y_train)\n",
    "\n",
    "    # Access the best pipeline\n",
    "    best_pipeline = grid_search.best_estimator_\n",
    "\n",
    "    # Make predictions on the test data\n",
    "    y_pred = best_pipeline.predict(X_test)  \n",
    "\n",
    "    # Evaluate the model using Mean Squared Error\n",
    "    mse = mean_squared_error(y_test, y_pred)\n",
    "    print(f\"Mean Squared Error on the test set: {mse}\")\n",
    "\n",
    "    return best_pipeline, X_train\n"
   ]
  },
  {
   "cell_type": "markdown",
   "metadata": {},
   "source": [
    "## Shapeley value function\n",
    "The shapeley value will be used in the models to determine the most important features. This is done multiple times so a function will be created"
   ]
  },
  {
   "cell_type": "code",
   "execution_count": 345,
   "metadata": {},
   "outputs": [],
   "source": [
    "def feature_importance(best_pipeline, X):\n",
    "    \"\"\"\n",
    "    Generate SHAP (SHapley Additive exPlanations) values and a summary plot for feature importance.\n",
    "\n",
    "    Parameters:\n",
    "    - best_pipeline (Pipeline): The best-performing pipeline after hyperparameter tuning. It should have an XGBoost regressor named 'xgb_regressor'.\n",
    "    - X (pd.DataFrame): Data to be tested, containing features for which SHAP values will be computed.\n",
    "\n",
    "    Returns:\n",
    "    - importance_df (pd.DataFrame): DataFrame containing feature names and their importance values.\n",
    "    - shap_values (numpy.ndarray): SHAP values for the provided data.\n",
    "\n",
    "    Example:\n",
    "    importance_df, shap_values = feature_importance(best_pipeline=my_best_pipeline, X=my_test_data)\n",
    "    \n",
    "    Note:\n",
    "    The SHAP (SHapley Additive exPlanations) values provide insights into the contribution of each feature to model predictions. The summary plot and importance DataFrame help identify the most influential features.\n",
    "\n",
    "    Dependencies:\n",
    "    - Ensure the 'shap' library is installed. You can install it using 'pip install shap'.\n",
    "\n",
    "    Usage:\n",
    "    - For the best results, pass the best-performing pipeline obtained after hyperparameter tuning. The pipeline should include an XGBoost regressor with the name 'xgb_regressor'.\n",
    "\n",
    "    \"\"\"\n",
    "    # Create a SHAP explainer for the XGBoost model\n",
    "    explainer = shap.Explainer(best_pipeline.named_steps['xgb_regressor'])\n",
    "\n",
    "    # Generate SHAP values\n",
    "    shap_values = explainer.shap_values(X)\n",
    "\n",
    "    # Calculate feature importance using the absolute mean of SHAP values\n",
    "    feature_importance = np.abs(shap_values).mean(axis=0)\n",
    "\n",
    "    # Create a DataFrame to associate feature names with their importance values\n",
    "    importance_df = pd.DataFrame({'Feature': X.columns, 'Importance': feature_importance})\n",
    "\n",
    "    # Sort the DataFrame by importance in descending order to find the most important features\n",
    "    importance_df = importance_df.sort_values(by='Importance', ascending=False)\n",
    "\n",
    "    return importance_df, shap_values"
   ]
  },
  {
   "cell_type": "markdown",
   "metadata": {},
   "source": [
    "## Baseline Model\n",
    "The first model will be used to the determine the risk of someone based on their baseline information"
   ]
  },
  {
   "cell_type": "markdown",
   "metadata": {},
   "source": [
    "### Create model"
   ]
  },
  {
   "cell_type": "code",
   "execution_count": 346,
   "metadata": {},
   "outputs": [
    {
     "name": "stderr",
     "output_type": "stream",
     "text": [
      "/opt/anaconda3/envs/Capstone2023/lib/python3.10/site-packages/xgboost/data.py:520: FutureWarning:\n",
      "\n",
      "is_sparse is deprecated and will be removed in a future version. Check `isinstance(dtype, pd.SparseDtype)` instead.\n",
      "\n",
      "/opt/anaconda3/envs/Capstone2023/lib/python3.10/site-packages/xgboost/data.py:520: FutureWarning:\n",
      "\n",
      "is_sparse is deprecated and will be removed in a future version. Check `isinstance(dtype, pd.SparseDtype)` instead.\n",
      "\n",
      "/opt/anaconda3/envs/Capstone2023/lib/python3.10/site-packages/xgboost/data.py:520: FutureWarning:\n",
      "\n",
      "is_sparse is deprecated and will be removed in a future version. Check `isinstance(dtype, pd.SparseDtype)` instead.\n",
      "\n"
     ]
    },
    {
     "name": "stderr",
     "output_type": "stream",
     "text": [
      "/opt/anaconda3/envs/Capstone2023/lib/python3.10/site-packages/xgboost/data.py:520: FutureWarning:\n",
      "\n",
      "is_sparse is deprecated and will be removed in a future version. Check `isinstance(dtype, pd.SparseDtype)` instead.\n",
      "\n",
      "/opt/anaconda3/envs/Capstone2023/lib/python3.10/site-packages/xgboost/data.py:520: FutureWarning:\n",
      "\n",
      "is_sparse is deprecated and will be removed in a future version. Check `isinstance(dtype, pd.SparseDtype)` instead.\n",
      "\n",
      "/opt/anaconda3/envs/Capstone2023/lib/python3.10/site-packages/xgboost/data.py:520: FutureWarning:\n",
      "\n",
      "is_sparse is deprecated and will be removed in a future version. Check `isinstance(dtype, pd.SparseDtype)` instead.\n",
      "\n",
      "/opt/anaconda3/envs/Capstone2023/lib/python3.10/site-packages/xgboost/data.py:520: FutureWarning:\n",
      "\n",
      "is_sparse is deprecated and will be removed in a future version. Check `isinstance(dtype, pd.SparseDtype)` instead.\n",
      "\n",
      "/opt/anaconda3/envs/Capstone2023/lib/python3.10/site-packages/xgboost/data.py:520: FutureWarning:\n",
      "\n",
      "is_sparse is deprecated and will be removed in a future version. Check `isinstance(dtype, pd.SparseDtype)` instead.\n",
      "\n",
      "/opt/anaconda3/envs/Capstone2023/lib/python3.10/site-packages/xgboost/data.py:520: FutureWarning:\n",
      "\n",
      "is_sparse is deprecated and will be removed in a future version. Check `isinstance(dtype, pd.SparseDtype)` instead.\n",
      "\n",
      "/opt/anaconda3/envs/Capstone2023/lib/python3.10/site-packages/xgboost/data.py:520: FutureWarning:\n",
      "\n",
      "is_sparse is deprecated and will be removed in a future version. Check `isinstance(dtype, pd.SparseDtype)` instead.\n",
      "\n",
      "/opt/anaconda3/envs/Capstone2023/lib/python3.10/site-packages/xgboost/data.py:520: FutureWarning:\n",
      "\n",
      "is_sparse is deprecated and will be removed in a future version. Check `isinstance(dtype, pd.SparseDtype)` instead.\n",
      "\n",
      "/opt/anaconda3/envs/Capstone2023/lib/python3.10/site-packages/xgboost/data.py:520: FutureWarning:\n",
      "\n",
      "is_sparse is deprecated and will be removed in a future version. Check `isinstance(dtype, pd.SparseDtype)` instead.\n",
      "\n",
      "/opt/anaconda3/envs/Capstone2023/lib/python3.10/site-packages/xgboost/data.py:520: FutureWarning:\n",
      "\n",
      "is_sparse is deprecated and will be removed in a future version. Check `isinstance(dtype, pd.SparseDtype)` instead.\n",
      "\n",
      "/opt/anaconda3/envs/Capstone2023/lib/python3.10/site-packages/xgboost/data.py:520: FutureWarning:\n",
      "\n",
      "is_sparse is deprecated and will be removed in a future version. Check `isinstance(dtype, pd.SparseDtype)` instead.\n",
      "\n",
      "/opt/anaconda3/envs/Capstone2023/lib/python3.10/site-packages/xgboost/data.py:520: FutureWarning:\n",
      "\n",
      "is_sparse is deprecated and will be removed in a future version. Check `isinstance(dtype, pd.SparseDtype)` instead.\n",
      "\n",
      "/opt/anaconda3/envs/Capstone2023/lib/python3.10/site-packages/xgboost/data.py:520: FutureWarning:\n",
      "\n",
      "is_sparse is deprecated and will be removed in a future version. Check `isinstance(dtype, pd.SparseDtype)` instead.\n",
      "\n",
      "/opt/anaconda3/envs/Capstone2023/lib/python3.10/site-packages/xgboost/data.py:520: FutureWarning:\n",
      "\n",
      "is_sparse is deprecated and will be removed in a future version. Check `isinstance(dtype, pd.SparseDtype)` instead.\n",
      "\n",
      "/opt/anaconda3/envs/Capstone2023/lib/python3.10/site-packages/xgboost/data.py:520: FutureWarning:\n",
      "\n",
      "is_sparse is deprecated and will be removed in a future version. Check `isinstance(dtype, pd.SparseDtype)` instead.\n",
      "\n",
      "/opt/anaconda3/envs/Capstone2023/lib/python3.10/site-packages/xgboost/data.py:520: FutureWarning:\n",
      "\n",
      "is_sparse is deprecated and will be removed in a future version. Check `isinstance(dtype, pd.SparseDtype)` instead.\n",
      "\n",
      "/opt/anaconda3/envs/Capstone2023/lib/python3.10/site-packages/xgboost/data.py:520: FutureWarning:\n",
      "\n",
      "is_sparse is deprecated and will be removed in a future version. Check `isinstance(dtype, pd.SparseDtype)` instead.\n",
      "\n",
      "/opt/anaconda3/envs/Capstone2023/lib/python3.10/site-packages/xgboost/data.py:520: FutureWarning:\n",
      "\n",
      "is_sparse is deprecated and will be removed in a future version. Check `isinstance(dtype, pd.SparseDtype)` instead.\n",
      "\n",
      "/opt/anaconda3/envs/Capstone2023/lib/python3.10/site-packages/xgboost/data.py:520: FutureWarning:\n",
      "\n",
      "is_sparse is deprecated and will be removed in a future version. Check `isinstance(dtype, pd.SparseDtype)` instead.\n",
      "\n",
      "/opt/anaconda3/envs/Capstone2023/lib/python3.10/site-packages/xgboost/data.py:520: FutureWarning:\n",
      "\n",
      "is_sparse is deprecated and will be removed in a future version. Check `isinstance(dtype, pd.SparseDtype)` instead.\n",
      "\n",
      "/opt/anaconda3/envs/Capstone2023/lib/python3.10/site-packages/xgboost/data.py:520: FutureWarning:\n",
      "\n",
      "is_sparse is deprecated and will be removed in a future version. Check `isinstance(dtype, pd.SparseDtype)` instead.\n",
      "\n",
      "/opt/anaconda3/envs/Capstone2023/lib/python3.10/site-packages/xgboost/data.py:520: FutureWarning:\n",
      "\n",
      "is_sparse is deprecated and will be removed in a future version. Check `isinstance(dtype, pd.SparseDtype)` instead.\n",
      "\n",
      "/opt/anaconda3/envs/Capstone2023/lib/python3.10/site-packages/xgboost/data.py:520: FutureWarning:\n",
      "\n",
      "is_sparse is deprecated and will be removed in a future version. Check `isinstance(dtype, pd.SparseDtype)` instead.\n",
      "\n",
      "/opt/anaconda3/envs/Capstone2023/lib/python3.10/site-packages/xgboost/data.py:520: FutureWarning:\n",
      "\n",
      "is_sparse is deprecated and will be removed in a future version. Check `isinstance(dtype, pd.SparseDtype)` instead.\n",
      "\n",
      "/opt/anaconda3/envs/Capstone2023/lib/python3.10/site-packages/xgboost/data.py:520: FutureWarning:\n",
      "\n",
      "is_sparse is deprecated and will be removed in a future version. Check `isinstance(dtype, pd.SparseDtype)` instead.\n",
      "\n",
      "/opt/anaconda3/envs/Capstone2023/lib/python3.10/site-packages/xgboost/data.py:520: FutureWarning:\n",
      "\n",
      "is_sparse is deprecated and will be removed in a future version. Check `isinstance(dtype, pd.SparseDtype)` instead.\n",
      "\n",
      "/opt/anaconda3/envs/Capstone2023/lib/python3.10/site-packages/xgboost/data.py:520: FutureWarning:\n",
      "\n",
      "is_sparse is deprecated and will be removed in a future version. Check `isinstance(dtype, pd.SparseDtype)` instead.\n",
      "\n",
      "/opt/anaconda3/envs/Capstone2023/lib/python3.10/site-packages/xgboost/data.py:520: FutureWarning:\n",
      "\n",
      "is_sparse is deprecated and will be removed in a future version. Check `isinstance(dtype, pd.SparseDtype)` instead.\n",
      "\n",
      "/opt/anaconda3/envs/Capstone2023/lib/python3.10/site-packages/xgboost/data.py:520: FutureWarning:\n",
      "\n",
      "is_sparse is deprecated and will be removed in a future version. Check `isinstance(dtype, pd.SparseDtype)` instead.\n",
      "\n",
      "/opt/anaconda3/envs/Capstone2023/lib/python3.10/site-packages/xgboost/data.py:520: FutureWarning:\n",
      "\n",
      "is_sparse is deprecated and will be removed in a future version. Check `isinstance(dtype, pd.SparseDtype)` instead.\n",
      "\n",
      "/opt/anaconda3/envs/Capstone2023/lib/python3.10/site-packages/xgboost/data.py:520: FutureWarning:\n",
      "\n",
      "is_sparse is deprecated and will be removed in a future version. Check `isinstance(dtype, pd.SparseDtype)` instead.\n",
      "\n",
      "/opt/anaconda3/envs/Capstone2023/lib/python3.10/site-packages/xgboost/data.py:520: FutureWarning:\n",
      "\n",
      "is_sparse is deprecated and will be removed in a future version. Check `isinstance(dtype, pd.SparseDtype)` instead.\n",
      "\n",
      "/opt/anaconda3/envs/Capstone2023/lib/python3.10/site-packages/xgboost/data.py:520: FutureWarning:\n",
      "\n",
      "is_sparse is deprecated and will be removed in a future version. Check `isinstance(dtype, pd.SparseDtype)` instead.\n",
      "\n",
      "/opt/anaconda3/envs/Capstone2023/lib/python3.10/site-packages/xgboost/data.py:520: FutureWarning:\n",
      "\n",
      "is_sparse is deprecated and will be removed in a future version. Check `isinstance(dtype, pd.SparseDtype)` instead.\n",
      "\n",
      "/opt/anaconda3/envs/Capstone2023/lib/python3.10/site-packages/xgboost/data.py:520: FutureWarning:\n",
      "\n",
      "is_sparse is deprecated and will be removed in a future version. Check `isinstance(dtype, pd.SparseDtype)` instead.\n",
      "\n",
      "/opt/anaconda3/envs/Capstone2023/lib/python3.10/site-packages/xgboost/data.py:520: FutureWarning:\n",
      "\n",
      "is_sparse is deprecated and will be removed in a future version. Check `isinstance(dtype, pd.SparseDtype)` instead.\n",
      "\n",
      "/opt/anaconda3/envs/Capstone2023/lib/python3.10/site-packages/xgboost/data.py:520: FutureWarning:\n",
      "\n",
      "is_sparse is deprecated and will be removed in a future version. Check `isinstance(dtype, pd.SparseDtype)` instead.\n",
      "\n",
      "/opt/anaconda3/envs/Capstone2023/lib/python3.10/site-packages/xgboost/data.py:520: FutureWarning:\n",
      "\n",
      "is_sparse is deprecated and will be removed in a future version. Check `isinstance(dtype, pd.SparseDtype)` instead.\n",
      "\n",
      "/opt/anaconda3/envs/Capstone2023/lib/python3.10/site-packages/xgboost/data.py:520: FutureWarning:\n",
      "\n",
      "is_sparse is deprecated and will be removed in a future version. Check `isinstance(dtype, pd.SparseDtype)` instead.\n",
      "\n",
      "/opt/anaconda3/envs/Capstone2023/lib/python3.10/site-packages/xgboost/data.py:520: FutureWarning:\n",
      "\n",
      "is_sparse is deprecated and will be removed in a future version. Check `isinstance(dtype, pd.SparseDtype)` instead.\n",
      "\n",
      "/opt/anaconda3/envs/Capstone2023/lib/python3.10/site-packages/xgboost/data.py:520: FutureWarning:\n",
      "\n",
      "is_sparse is deprecated and will be removed in a future version. Check `isinstance(dtype, pd.SparseDtype)` instead.\n",
      "\n",
      "/opt/anaconda3/envs/Capstone2023/lib/python3.10/site-packages/xgboost/data.py:520: FutureWarning:\n",
      "\n",
      "is_sparse is deprecated and will be removed in a future version. Check `isinstance(dtype, pd.SparseDtype)` instead.\n",
      "\n",
      "/opt/anaconda3/envs/Capstone2023/lib/python3.10/site-packages/xgboost/data.py:520: FutureWarning:\n",
      "\n",
      "is_sparse is deprecated and will be removed in a future version. Check `isinstance(dtype, pd.SparseDtype)` instead.\n",
      "\n",
      "/opt/anaconda3/envs/Capstone2023/lib/python3.10/site-packages/xgboost/data.py:520: FutureWarning:\n",
      "\n",
      "is_sparse is deprecated and will be removed in a future version. Check `isinstance(dtype, pd.SparseDtype)` instead.\n",
      "\n",
      "/opt/anaconda3/envs/Capstone2023/lib/python3.10/site-packages/xgboost/data.py:520: FutureWarning:\n",
      "\n",
      "is_sparse is deprecated and will be removed in a future version. Check `isinstance(dtype, pd.SparseDtype)` instead.\n",
      "\n",
      "/opt/anaconda3/envs/Capstone2023/lib/python3.10/site-packages/xgboost/data.py:520: FutureWarning:\n",
      "\n",
      "is_sparse is deprecated and will be removed in a future version. Check `isinstance(dtype, pd.SparseDtype)` instead.\n",
      "\n",
      "/opt/anaconda3/envs/Capstone2023/lib/python3.10/site-packages/xgboost/data.py:520: FutureWarning:\n",
      "\n",
      "is_sparse is deprecated and will be removed in a future version. Check `isinstance(dtype, pd.SparseDtype)` instead.\n",
      "\n",
      "/opt/anaconda3/envs/Capstone2023/lib/python3.10/site-packages/xgboost/data.py:520: FutureWarning:\n",
      "\n",
      "is_sparse is deprecated and will be removed in a future version. Check `isinstance(dtype, pd.SparseDtype)` instead.\n",
      "\n",
      "/opt/anaconda3/envs/Capstone2023/lib/python3.10/site-packages/xgboost/data.py:520: FutureWarning:\n",
      "\n",
      "is_sparse is deprecated and will be removed in a future version. Check `isinstance(dtype, pd.SparseDtype)` instead.\n",
      "\n",
      "/opt/anaconda3/envs/Capstone2023/lib/python3.10/site-packages/xgboost/data.py:520: FutureWarning:\n",
      "\n",
      "is_sparse is deprecated and will be removed in a future version. Check `isinstance(dtype, pd.SparseDtype)` instead.\n",
      "\n",
      "/opt/anaconda3/envs/Capstone2023/lib/python3.10/site-packages/xgboost/data.py:520: FutureWarning:\n",
      "\n",
      "is_sparse is deprecated and will be removed in a future version. Check `isinstance(dtype, pd.SparseDtype)` instead.\n",
      "\n",
      "/opt/anaconda3/envs/Capstone2023/lib/python3.10/site-packages/xgboost/data.py:520: FutureWarning:\n",
      "\n",
      "is_sparse is deprecated and will be removed in a future version. Check `isinstance(dtype, pd.SparseDtype)` instead.\n",
      "\n",
      "/opt/anaconda3/envs/Capstone2023/lib/python3.10/site-packages/xgboost/data.py:520: FutureWarning:\n",
      "\n",
      "is_sparse is deprecated and will be removed in a future version. Check `isinstance(dtype, pd.SparseDtype)` instead.\n",
      "\n",
      "/opt/anaconda3/envs/Capstone2023/lib/python3.10/site-packages/xgboost/data.py:520: FutureWarning:\n",
      "\n",
      "is_sparse is deprecated and will be removed in a future version. Check `isinstance(dtype, pd.SparseDtype)` instead.\n",
      "\n",
      "/opt/anaconda3/envs/Capstone2023/lib/python3.10/site-packages/xgboost/data.py:520: FutureWarning:\n",
      "\n",
      "is_sparse is deprecated and will be removed in a future version. Check `isinstance(dtype, pd.SparseDtype)` instead.\n",
      "\n",
      "/opt/anaconda3/envs/Capstone2023/lib/python3.10/site-packages/xgboost/data.py:520: FutureWarning:\n",
      "\n",
      "is_sparse is deprecated and will be removed in a future version. Check `isinstance(dtype, pd.SparseDtype)` instead.\n",
      "\n",
      "/opt/anaconda3/envs/Capstone2023/lib/python3.10/site-packages/xgboost/data.py:520: FutureWarning:\n",
      "\n",
      "is_sparse is deprecated and will be removed in a future version. Check `isinstance(dtype, pd.SparseDtype)` instead.\n",
      "\n",
      "/opt/anaconda3/envs/Capstone2023/lib/python3.10/site-packages/xgboost/data.py:520: FutureWarning:\n",
      "\n",
      "is_sparse is deprecated and will be removed in a future version. Check `isinstance(dtype, pd.SparseDtype)` instead.\n",
      "\n",
      "/opt/anaconda3/envs/Capstone2023/lib/python3.10/site-packages/xgboost/data.py:520: FutureWarning:\n",
      "\n",
      "is_sparse is deprecated and will be removed in a future version. Check `isinstance(dtype, pd.SparseDtype)` instead.\n",
      "\n",
      "/opt/anaconda3/envs/Capstone2023/lib/python3.10/site-packages/xgboost/data.py:520: FutureWarning:\n",
      "\n",
      "is_sparse is deprecated and will be removed in a future version. Check `isinstance(dtype, pd.SparseDtype)` instead.\n",
      "\n",
      "/opt/anaconda3/envs/Capstone2023/lib/python3.10/site-packages/xgboost/data.py:520: FutureWarning:\n",
      "\n",
      "is_sparse is deprecated and will be removed in a future version. Check `isinstance(dtype, pd.SparseDtype)` instead.\n",
      "\n",
      "/opt/anaconda3/envs/Capstone2023/lib/python3.10/site-packages/xgboost/data.py:520: FutureWarning:\n",
      "\n",
      "is_sparse is deprecated and will be removed in a future version. Check `isinstance(dtype, pd.SparseDtype)` instead.\n",
      "\n",
      "/opt/anaconda3/envs/Capstone2023/lib/python3.10/site-packages/xgboost/data.py:520: FutureWarning:\n",
      "\n",
      "is_sparse is deprecated and will be removed in a future version. Check `isinstance(dtype, pd.SparseDtype)` instead.\n",
      "\n",
      "/opt/anaconda3/envs/Capstone2023/lib/python3.10/site-packages/xgboost/data.py:520: FutureWarning:\n",
      "\n",
      "is_sparse is deprecated and will be removed in a future version. Check `isinstance(dtype, pd.SparseDtype)` instead.\n",
      "\n",
      "/opt/anaconda3/envs/Capstone2023/lib/python3.10/site-packages/xgboost/data.py:520: FutureWarning:\n",
      "\n",
      "is_sparse is deprecated and will be removed in a future version. Check `isinstance(dtype, pd.SparseDtype)` instead.\n",
      "\n",
      "/opt/anaconda3/envs/Capstone2023/lib/python3.10/site-packages/xgboost/data.py:520: FutureWarning:\n",
      "\n",
      "is_sparse is deprecated and will be removed in a future version. Check `isinstance(dtype, pd.SparseDtype)` instead.\n",
      "\n",
      "/opt/anaconda3/envs/Capstone2023/lib/python3.10/site-packages/xgboost/data.py:520: FutureWarning:\n",
      "\n",
      "is_sparse is deprecated and will be removed in a future version. Check `isinstance(dtype, pd.SparseDtype)` instead.\n",
      "\n",
      "/opt/anaconda3/envs/Capstone2023/lib/python3.10/site-packages/xgboost/data.py:520: FutureWarning:\n",
      "\n",
      "is_sparse is deprecated and will be removed in a future version. Check `isinstance(dtype, pd.SparseDtype)` instead.\n",
      "\n",
      "/opt/anaconda3/envs/Capstone2023/lib/python3.10/site-packages/xgboost/data.py:520: FutureWarning:\n",
      "\n",
      "is_sparse is deprecated and will be removed in a future version. Check `isinstance(dtype, pd.SparseDtype)` instead.\n",
      "\n",
      "/opt/anaconda3/envs/Capstone2023/lib/python3.10/site-packages/xgboost/data.py:520: FutureWarning:\n",
      "\n",
      "is_sparse is deprecated and will be removed in a future version. Check `isinstance(dtype, pd.SparseDtype)` instead.\n",
      "\n",
      "/opt/anaconda3/envs/Capstone2023/lib/python3.10/site-packages/xgboost/data.py:520: FutureWarning:\n",
      "\n",
      "is_sparse is deprecated and will be removed in a future version. Check `isinstance(dtype, pd.SparseDtype)` instead.\n",
      "\n",
      "/opt/anaconda3/envs/Capstone2023/lib/python3.10/site-packages/xgboost/data.py:520: FutureWarning:\n",
      "\n",
      "is_sparse is deprecated and will be removed in a future version. Check `isinstance(dtype, pd.SparseDtype)` instead.\n",
      "\n",
      "/opt/anaconda3/envs/Capstone2023/lib/python3.10/site-packages/xgboost/data.py:520: FutureWarning:\n",
      "\n",
      "is_sparse is deprecated and will be removed in a future version. Check `isinstance(dtype, pd.SparseDtype)` instead.\n",
      "\n",
      "/opt/anaconda3/envs/Capstone2023/lib/python3.10/site-packages/xgboost/data.py:520: FutureWarning:\n",
      "\n",
      "is_sparse is deprecated and will be removed in a future version. Check `isinstance(dtype, pd.SparseDtype)` instead.\n",
      "\n",
      "/opt/anaconda3/envs/Capstone2023/lib/python3.10/site-packages/xgboost/data.py:520: FutureWarning:\n",
      "\n",
      "is_sparse is deprecated and will be removed in a future version. Check `isinstance(dtype, pd.SparseDtype)` instead.\n",
      "\n",
      "/opt/anaconda3/envs/Capstone2023/lib/python3.10/site-packages/xgboost/data.py:520: FutureWarning:\n",
      "\n",
      "is_sparse is deprecated and will be removed in a future version. Check `isinstance(dtype, pd.SparseDtype)` instead.\n",
      "\n",
      "/opt/anaconda3/envs/Capstone2023/lib/python3.10/site-packages/xgboost/data.py:520: FutureWarning:\n",
      "\n",
      "is_sparse is deprecated and will be removed in a future version. Check `isinstance(dtype, pd.SparseDtype)` instead.\n",
      "\n",
      "/opt/anaconda3/envs/Capstone2023/lib/python3.10/site-packages/xgboost/data.py:520: FutureWarning:\n",
      "\n",
      "is_sparse is deprecated and will be removed in a future version. Check `isinstance(dtype, pd.SparseDtype)` instead.\n",
      "\n",
      "/opt/anaconda3/envs/Capstone2023/lib/python3.10/site-packages/xgboost/data.py:520: FutureWarning:\n",
      "\n",
      "is_sparse is deprecated and will be removed in a future version. Check `isinstance(dtype, pd.SparseDtype)` instead.\n",
      "\n",
      "/opt/anaconda3/envs/Capstone2023/lib/python3.10/site-packages/xgboost/data.py:520: FutureWarning:\n",
      "\n",
      "is_sparse is deprecated and will be removed in a future version. Check `isinstance(dtype, pd.SparseDtype)` instead.\n",
      "\n",
      "/opt/anaconda3/envs/Capstone2023/lib/python3.10/site-packages/xgboost/data.py:520: FutureWarning:\n",
      "\n",
      "is_sparse is deprecated and will be removed in a future version. Check `isinstance(dtype, pd.SparseDtype)` instead.\n",
      "\n",
      "/opt/anaconda3/envs/Capstone2023/lib/python3.10/site-packages/xgboost/data.py:520: FutureWarning:\n",
      "\n",
      "is_sparse is deprecated and will be removed in a future version. Check `isinstance(dtype, pd.SparseDtype)` instead.\n",
      "\n",
      "/opt/anaconda3/envs/Capstone2023/lib/python3.10/site-packages/xgboost/data.py:520: FutureWarning:\n",
      "\n",
      "is_sparse is deprecated and will be removed in a future version. Check `isinstance(dtype, pd.SparseDtype)` instead.\n",
      "\n",
      "/opt/anaconda3/envs/Capstone2023/lib/python3.10/site-packages/xgboost/data.py:520: FutureWarning:\n",
      "\n",
      "is_sparse is deprecated and will be removed in a future version. Check `isinstance(dtype, pd.SparseDtype)` instead.\n",
      "\n",
      "/opt/anaconda3/envs/Capstone2023/lib/python3.10/site-packages/xgboost/data.py:520: FutureWarning:\n",
      "\n",
      "is_sparse is deprecated and will be removed in a future version. Check `isinstance(dtype, pd.SparseDtype)` instead.\n",
      "\n",
      "/opt/anaconda3/envs/Capstone2023/lib/python3.10/site-packages/xgboost/data.py:520: FutureWarning:\n",
      "\n",
      "is_sparse is deprecated and will be removed in a future version. Check `isinstance(dtype, pd.SparseDtype)` instead.\n",
      "\n",
      "/opt/anaconda3/envs/Capstone2023/lib/python3.10/site-packages/xgboost/data.py:520: FutureWarning:\n",
      "\n",
      "is_sparse is deprecated and will be removed in a future version. Check `isinstance(dtype, pd.SparseDtype)` instead.\n",
      "\n",
      "/opt/anaconda3/envs/Capstone2023/lib/python3.10/site-packages/xgboost/data.py:520: FutureWarning:\n",
      "\n",
      "is_sparse is deprecated and will be removed in a future version. Check `isinstance(dtype, pd.SparseDtype)` instead.\n",
      "\n",
      "/opt/anaconda3/envs/Capstone2023/lib/python3.10/site-packages/xgboost/data.py:520: FutureWarning:\n",
      "\n",
      "is_sparse is deprecated and will be removed in a future version. Check `isinstance(dtype, pd.SparseDtype)` instead.\n",
      "\n",
      "/opt/anaconda3/envs/Capstone2023/lib/python3.10/site-packages/xgboost/data.py:520: FutureWarning:\n",
      "\n",
      "is_sparse is deprecated and will be removed in a future version. Check `isinstance(dtype, pd.SparseDtype)` instead.\n",
      "\n",
      "/opt/anaconda3/envs/Capstone2023/lib/python3.10/site-packages/xgboost/data.py:520: FutureWarning:\n",
      "\n",
      "is_sparse is deprecated and will be removed in a future version. Check `isinstance(dtype, pd.SparseDtype)` instead.\n",
      "\n",
      "/opt/anaconda3/envs/Capstone2023/lib/python3.10/site-packages/xgboost/data.py:520: FutureWarning:\n",
      "\n",
      "is_sparse is deprecated and will be removed in a future version. Check `isinstance(dtype, pd.SparseDtype)` instead.\n",
      "\n",
      "/opt/anaconda3/envs/Capstone2023/lib/python3.10/site-packages/xgboost/data.py:520: FutureWarning:\n",
      "\n",
      "is_sparse is deprecated and will be removed in a future version. Check `isinstance(dtype, pd.SparseDtype)` instead.\n",
      "\n",
      "/opt/anaconda3/envs/Capstone2023/lib/python3.10/site-packages/xgboost/data.py:520: FutureWarning:\n",
      "\n",
      "is_sparse is deprecated and will be removed in a future version. Check `isinstance(dtype, pd.SparseDtype)` instead.\n",
      "\n",
      "/opt/anaconda3/envs/Capstone2023/lib/python3.10/site-packages/xgboost/data.py:520: FutureWarning:\n",
      "\n",
      "is_sparse is deprecated and will be removed in a future version. Check `isinstance(dtype, pd.SparseDtype)` instead.\n",
      "\n",
      "/opt/anaconda3/envs/Capstone2023/lib/python3.10/site-packages/xgboost/data.py:520: FutureWarning:\n",
      "\n",
      "is_sparse is deprecated and will be removed in a future version. Check `isinstance(dtype, pd.SparseDtype)` instead.\n",
      "\n",
      "/opt/anaconda3/envs/Capstone2023/lib/python3.10/site-packages/xgboost/data.py:520: FutureWarning:\n",
      "\n",
      "is_sparse is deprecated and will be removed in a future version. Check `isinstance(dtype, pd.SparseDtype)` instead.\n",
      "\n",
      "/opt/anaconda3/envs/Capstone2023/lib/python3.10/site-packages/xgboost/data.py:520: FutureWarning:\n",
      "\n",
      "is_sparse is deprecated and will be removed in a future version. Check `isinstance(dtype, pd.SparseDtype)` instead.\n",
      "\n",
      "/opt/anaconda3/envs/Capstone2023/lib/python3.10/site-packages/xgboost/data.py:520: FutureWarning:\n",
      "\n",
      "is_sparse is deprecated and will be removed in a future version. Check `isinstance(dtype, pd.SparseDtype)` instead.\n",
      "\n",
      "/opt/anaconda3/envs/Capstone2023/lib/python3.10/site-packages/xgboost/data.py:520: FutureWarning:\n",
      "\n",
      "is_sparse is deprecated and will be removed in a future version. Check `isinstance(dtype, pd.SparseDtype)` instead.\n",
      "\n",
      "/opt/anaconda3/envs/Capstone2023/lib/python3.10/site-packages/xgboost/data.py:520: FutureWarning:\n",
      "\n",
      "is_sparse is deprecated and will be removed in a future version. Check `isinstance(dtype, pd.SparseDtype)` instead.\n",
      "\n",
      "/opt/anaconda3/envs/Capstone2023/lib/python3.10/site-packages/xgboost/data.py:520: FutureWarning:\n",
      "\n",
      "is_sparse is deprecated and will be removed in a future version. Check `isinstance(dtype, pd.SparseDtype)` instead.\n",
      "\n",
      "/opt/anaconda3/envs/Capstone2023/lib/python3.10/site-packages/xgboost/data.py:520: FutureWarning:\n",
      "\n",
      "is_sparse is deprecated and will be removed in a future version. Check `isinstance(dtype, pd.SparseDtype)` instead.\n",
      "\n",
      "/opt/anaconda3/envs/Capstone2023/lib/python3.10/site-packages/xgboost/data.py:520: FutureWarning:\n",
      "\n",
      "is_sparse is deprecated and will be removed in a future version. Check `isinstance(dtype, pd.SparseDtype)` instead.\n",
      "\n",
      "/opt/anaconda3/envs/Capstone2023/lib/python3.10/site-packages/xgboost/data.py:520: FutureWarning:\n",
      "\n",
      "is_sparse is deprecated and will be removed in a future version. Check `isinstance(dtype, pd.SparseDtype)` instead.\n",
      "\n",
      "/opt/anaconda3/envs/Capstone2023/lib/python3.10/site-packages/xgboost/data.py:520: FutureWarning:\n",
      "\n",
      "is_sparse is deprecated and will be removed in a future version. Check `isinstance(dtype, pd.SparseDtype)` instead.\n",
      "\n",
      "/opt/anaconda3/envs/Capstone2023/lib/python3.10/site-packages/xgboost/data.py:520: FutureWarning:\n",
      "\n",
      "is_sparse is deprecated and will be removed in a future version. Check `isinstance(dtype, pd.SparseDtype)` instead.\n",
      "\n",
      "/opt/anaconda3/envs/Capstone2023/lib/python3.10/site-packages/xgboost/data.py:520: FutureWarning:\n",
      "\n",
      "is_sparse is deprecated and will be removed in a future version. Check `isinstance(dtype, pd.SparseDtype)` instead.\n",
      "\n",
      "/opt/anaconda3/envs/Capstone2023/lib/python3.10/site-packages/xgboost/data.py:520: FutureWarning:\n",
      "\n",
      "is_sparse is deprecated and will be removed in a future version. Check `isinstance(dtype, pd.SparseDtype)` instead.\n",
      "\n",
      "/opt/anaconda3/envs/Capstone2023/lib/python3.10/site-packages/xgboost/data.py:520: FutureWarning:\n",
      "\n",
      "is_sparse is deprecated and will be removed in a future version. Check `isinstance(dtype, pd.SparseDtype)` instead.\n",
      "\n",
      "/opt/anaconda3/envs/Capstone2023/lib/python3.10/site-packages/xgboost/data.py:520: FutureWarning:\n",
      "\n",
      "is_sparse is deprecated and will be removed in a future version. Check `isinstance(dtype, pd.SparseDtype)` instead.\n",
      "\n",
      "/opt/anaconda3/envs/Capstone2023/lib/python3.10/site-packages/xgboost/data.py:520: FutureWarning:\n",
      "\n",
      "is_sparse is deprecated and will be removed in a future version. Check `isinstance(dtype, pd.SparseDtype)` instead.\n",
      "\n",
      "/opt/anaconda3/envs/Capstone2023/lib/python3.10/site-packages/xgboost/data.py:520: FutureWarning:\n",
      "\n",
      "is_sparse is deprecated and will be removed in a future version. Check `isinstance(dtype, pd.SparseDtype)` instead.\n",
      "\n",
      "/opt/anaconda3/envs/Capstone2023/lib/python3.10/site-packages/xgboost/data.py:520: FutureWarning:\n",
      "\n",
      "is_sparse is deprecated and will be removed in a future version. Check `isinstance(dtype, pd.SparseDtype)` instead.\n",
      "\n",
      "/opt/anaconda3/envs/Capstone2023/lib/python3.10/site-packages/xgboost/data.py:520: FutureWarning:\n",
      "\n",
      "is_sparse is deprecated and will be removed in a future version. Check `isinstance(dtype, pd.SparseDtype)` instead.\n",
      "\n",
      "/opt/anaconda3/envs/Capstone2023/lib/python3.10/site-packages/xgboost/data.py:520: FutureWarning:\n",
      "\n",
      "is_sparse is deprecated and will be removed in a future version. Check `isinstance(dtype, pd.SparseDtype)` instead.\n",
      "\n",
      "/opt/anaconda3/envs/Capstone2023/lib/python3.10/site-packages/xgboost/data.py:520: FutureWarning:\n",
      "\n",
      "is_sparse is deprecated and will be removed in a future version. Check `isinstance(dtype, pd.SparseDtype)` instead.\n",
      "\n",
      "/opt/anaconda3/envs/Capstone2023/lib/python3.10/site-packages/xgboost/data.py:520: FutureWarning:\n",
      "\n",
      "is_sparse is deprecated and will be removed in a future version. Check `isinstance(dtype, pd.SparseDtype)` instead.\n",
      "\n",
      "/opt/anaconda3/envs/Capstone2023/lib/python3.10/site-packages/xgboost/data.py:520: FutureWarning:\n",
      "\n",
      "is_sparse is deprecated and will be removed in a future version. Check `isinstance(dtype, pd.SparseDtype)` instead.\n",
      "\n",
      "/opt/anaconda3/envs/Capstone2023/lib/python3.10/site-packages/xgboost/data.py:520: FutureWarning:\n",
      "\n",
      "is_sparse is deprecated and will be removed in a future version. Check `isinstance(dtype, pd.SparseDtype)` instead.\n",
      "\n",
      "/opt/anaconda3/envs/Capstone2023/lib/python3.10/site-packages/xgboost/data.py:520: FutureWarning:\n",
      "\n",
      "is_sparse is deprecated and will be removed in a future version. Check `isinstance(dtype, pd.SparseDtype)` instead.\n",
      "\n",
      "/opt/anaconda3/envs/Capstone2023/lib/python3.10/site-packages/xgboost/data.py:520: FutureWarning:\n",
      "\n",
      "is_sparse is deprecated and will be removed in a future version. Check `isinstance(dtype, pd.SparseDtype)` instead.\n",
      "\n",
      "/opt/anaconda3/envs/Capstone2023/lib/python3.10/site-packages/xgboost/data.py:520: FutureWarning:\n",
      "\n",
      "is_sparse is deprecated and will be removed in a future version. Check `isinstance(dtype, pd.SparseDtype)` instead.\n",
      "\n",
      "/opt/anaconda3/envs/Capstone2023/lib/python3.10/site-packages/xgboost/data.py:520: FutureWarning:\n",
      "\n",
      "is_sparse is deprecated and will be removed in a future version. Check `isinstance(dtype, pd.SparseDtype)` instead.\n",
      "\n",
      "/opt/anaconda3/envs/Capstone2023/lib/python3.10/site-packages/xgboost/data.py:520: FutureWarning:\n",
      "\n",
      "is_sparse is deprecated and will be removed in a future version. Check `isinstance(dtype, pd.SparseDtype)` instead.\n",
      "\n",
      "/opt/anaconda3/envs/Capstone2023/lib/python3.10/site-packages/xgboost/data.py:520: FutureWarning:\n",
      "\n",
      "is_sparse is deprecated and will be removed in a future version. Check `isinstance(dtype, pd.SparseDtype)` instead.\n",
      "\n",
      "/opt/anaconda3/envs/Capstone2023/lib/python3.10/site-packages/xgboost/data.py:520: FutureWarning:\n",
      "\n",
      "is_sparse is deprecated and will be removed in a future version. Check `isinstance(dtype, pd.SparseDtype)` instead.\n",
      "\n",
      "/opt/anaconda3/envs/Capstone2023/lib/python3.10/site-packages/xgboost/data.py:520: FutureWarning:\n",
      "\n",
      "is_sparse is deprecated and will be removed in a future version. Check `isinstance(dtype, pd.SparseDtype)` instead.\n",
      "\n"
     ]
    },
    {
     "name": "stdout",
     "output_type": "stream",
     "text": [
      "Mean Squared Error on the test set: 2.404503616991882\n"
     ]
    },
    {
     "name": "stderr",
     "output_type": "stream",
     "text": [
      "/opt/anaconda3/envs/Capstone2023/lib/python3.10/site-packages/xgboost/data.py:520: FutureWarning:\n",
      "\n",
      "is_sparse is deprecated and will be removed in a future version. Check `isinstance(dtype, pd.SparseDtype)` instead.\n",
      "\n",
      "/opt/anaconda3/envs/Capstone2023/lib/python3.10/site-packages/xgboost/data.py:520: FutureWarning:\n",
      "\n",
      "is_sparse is deprecated and will be removed in a future version. Check `isinstance(dtype, pd.SparseDtype)` instead.\n",
      "\n",
      "/opt/anaconda3/envs/Capstone2023/lib/python3.10/site-packages/xgboost/data.py:520: FutureWarning:\n",
      "\n",
      "is_sparse is deprecated and will be removed in a future version. Check `isinstance(dtype, pd.SparseDtype)` instead.\n",
      "\n",
      "/opt/anaconda3/envs/Capstone2023/lib/python3.10/site-packages/xgboost/data.py:520: FutureWarning:\n",
      "\n",
      "is_sparse is deprecated and will be removed in a future version. Check `isinstance(dtype, pd.SparseDtype)` instead.\n",
      "\n",
      "/opt/anaconda3/envs/Capstone2023/lib/python3.10/site-packages/xgboost/data.py:520: FutureWarning:\n",
      "\n",
      "is_sparse is deprecated and will be removed in a future version. Check `isinstance(dtype, pd.SparseDtype)` instead.\n",
      "\n"
     ]
    }
   ],
   "source": [
    "best_model_baseline, baseline_train = train_model(clean_baseline_df, 'Events', ['Record ID'])"
   ]
  },
  {
   "cell_type": "markdown",
   "metadata": {},
   "source": [
    "### Feauture importance\n",
    "This information could be used for general information"
   ]
  },
  {
   "cell_type": "code",
   "execution_count": 347,
   "metadata": {},
   "outputs": [
    {
     "name": "stderr",
     "output_type": "stream",
     "text": [
      "/opt/anaconda3/envs/Capstone2023/lib/python3.10/site-packages/xgboost/core.py:160: UserWarning:\n",
      "\n",
      "[17:11:06] WARNING: /Users/runner/work/xgboost/xgboost/src/c_api/c_api.cc:1240: Saving into deprecated binary model format, please consider using `json` or `ubj`. Model format will default to JSON in XGBoost 2.2 if not specified.\n",
      "\n",
      "/opt/anaconda3/envs/Capstone2023/lib/python3.10/site-packages/xgboost/data.py:335: FutureWarning:\n",
      "\n",
      "is_sparse is deprecated and will be removed in a future version. Check `isinstance(dtype, pd.SparseDtype)` instead.\n",
      "\n",
      "/opt/anaconda3/envs/Capstone2023/lib/python3.10/site-packages/xgboost/data.py:338: FutureWarning:\n",
      "\n",
      "is_categorical_dtype is deprecated and will be removed in a future version. Use isinstance(dtype, CategoricalDtype) instead\n",
      "\n",
      "/opt/anaconda3/envs/Capstone2023/lib/python3.10/site-packages/xgboost/data.py:384: FutureWarning:\n",
      "\n",
      "is_categorical_dtype is deprecated and will be removed in a future version. Use isinstance(dtype, CategoricalDtype) instead\n",
      "\n",
      "/opt/anaconda3/envs/Capstone2023/lib/python3.10/site-packages/xgboost/data.py:359: FutureWarning:\n",
      "\n",
      "is_categorical_dtype is deprecated and will be removed in a future version. Use isinstance(dtype, CategoricalDtype) instead\n",
      "\n"
     ]
    }
   ],
   "source": [
    "importance_df_bsaeline, shap_values_baseline  = feature_importance(best_model_baseline, baseline_train)"
   ]
  },
  {
   "cell_type": "code",
   "execution_count": 348,
   "metadata": {},
   "outputs": [
    {
     "data": {
      "image/png": "[encoded data removed]",
      "text/plain": [
       "<Figure size 800x950 with 1 Axes>"
      ]
     },
     "metadata": {},
     "output_type": "display_data"
    }
   ],
   "source": [
    "# Plot SHAP summary plot\n",
    "shap.summary_plot(shap_values_baseline, baseline_train, plot_type=\"bar\", show= False)"
   ]
  },
  {
   "cell_type": "markdown",
   "metadata": {},
   "source": [
    "## TEG model 1\n",
    "The first model will be used to determine the feature importance so the user can then select parameters of interest."
   ]
  },
  {
   "cell_type": "markdown",
   "metadata": {},
   "source": [
    "### Create model"
   ]
  },
  {
   "cell_type": "code",
   "execution_count": 349,
   "metadata": {},
   "outputs": [
    {
     "name": "stderr",
     "output_type": "stream",
     "text": [
      "/opt/anaconda3/envs/Capstone2023/lib/python3.10/site-packages/xgboost/data.py:520: FutureWarning:\n",
      "\n",
      "is_sparse is deprecated and will be removed in a future version. Check `isinstance(dtype, pd.SparseDtype)` instead.\n",
      "\n",
      "/opt/anaconda3/envs/Capstone2023/lib/python3.10/site-packages/xgboost/data.py:520: FutureWarning:\n",
      "\n",
      "is_sparse is deprecated and will be removed in a future version. Check `isinstance(dtype, pd.SparseDtype)` instead.\n",
      "\n",
      "/opt/anaconda3/envs/Capstone2023/lib/python3.10/site-packages/xgboost/data.py:520: FutureWarning:\n",
      "\n",
      "is_sparse is deprecated and will be removed in a future version. Check `isinstance(dtype, pd.SparseDtype)` instead.\n",
      "\n",
      "/opt/anaconda3/envs/Capstone2023/lib/python3.10/site-packages/xgboost/data.py:520: FutureWarning:\n",
      "\n",
      "is_sparse is deprecated and will be removed in a future version. Check `isinstance(dtype, pd.SparseDtype)` instead.\n",
      "\n",
      "/opt/anaconda3/envs/Capstone2023/lib/python3.10/site-packages/xgboost/data.py:520: FutureWarning:\n",
      "\n",
      "is_sparse is deprecated and will be removed in a future version. Check `isinstance(dtype, pd.SparseDtype)` instead.\n",
      "\n",
      "/opt/anaconda3/envs/Capstone2023/lib/python3.10/site-packages/xgboost/data.py:520: FutureWarning:\n",
      "\n",
      "is_sparse is deprecated and will be removed in a future version. Check `isinstance(dtype, pd.SparseDtype)` instead.\n",
      "\n",
      "/opt/anaconda3/envs/Capstone2023/lib/python3.10/site-packages/xgboost/data.py:520: FutureWarning:\n",
      "\n",
      "is_sparse is deprecated and will be removed in a future version. Check `isinstance(dtype, pd.SparseDtype)` instead.\n",
      "\n",
      "/opt/anaconda3/envs/Capstone2023/lib/python3.10/site-packages/xgboost/data.py:520: FutureWarning:\n",
      "\n",
      "is_sparse is deprecated and will be removed in a future version. Check `isinstance(dtype, pd.SparseDtype)` instead.\n",
      "\n",
      "/opt/anaconda3/envs/Capstone2023/lib/python3.10/site-packages/xgboost/data.py:520: FutureWarning:\n",
      "\n",
      "is_sparse is deprecated and will be removed in a future version. Check `isinstance(dtype, pd.SparseDtype)` instead.\n",
      "\n",
      "/opt/anaconda3/envs/Capstone2023/lib/python3.10/site-packages/xgboost/data.py:520: FutureWarning:\n",
      "\n",
      "is_sparse is deprecated and will be removed in a future version. Check `isinstance(dtype, pd.SparseDtype)` instead.\n",
      "\n",
      "/opt/anaconda3/envs/Capstone2023/lib/python3.10/site-packages/xgboost/data.py:520: FutureWarning:\n",
      "\n",
      "is_sparse is deprecated and will be removed in a future version. Check `isinstance(dtype, pd.SparseDtype)` instead.\n",
      "\n",
      "/opt/anaconda3/envs/Capstone2023/lib/python3.10/site-packages/xgboost/data.py:520: FutureWarning:\n",
      "\n",
      "is_sparse is deprecated and will be removed in a future version. Check `isinstance(dtype, pd.SparseDtype)` instead.\n",
      "\n",
      "/opt/anaconda3/envs/Capstone2023/lib/python3.10/site-packages/xgboost/data.py:520: FutureWarning:\n",
      "\n",
      "is_sparse is deprecated and will be removed in a future version. Check `isinstance(dtype, pd.SparseDtype)` instead.\n",
      "\n",
      "/opt/anaconda3/envs/Capstone2023/lib/python3.10/site-packages/xgboost/data.py:520: FutureWarning:\n",
      "\n",
      "is_sparse is deprecated and will be removed in a future version. Check `isinstance(dtype, pd.SparseDtype)` instead.\n",
      "\n",
      "/opt/anaconda3/envs/Capstone2023/lib/python3.10/site-packages/xgboost/data.py:520: FutureWarning:\n",
      "\n",
      "is_sparse is deprecated and will be removed in a future version. Check `isinstance(dtype, pd.SparseDtype)` instead.\n",
      "\n",
      "/opt/anaconda3/envs/Capstone2023/lib/python3.10/site-packages/xgboost/data.py:520: FutureWarning:\n",
      "\n",
      "is_sparse is deprecated and will be removed in a future version. Check `isinstance(dtype, pd.SparseDtype)` instead.\n",
      "\n",
      "/opt/anaconda3/envs/Capstone2023/lib/python3.10/site-packages/xgboost/data.py:520: FutureWarning:\n",
      "\n",
      "is_sparse is deprecated and will be removed in a future version. Check `isinstance(dtype, pd.SparseDtype)` instead.\n",
      "\n",
      "/opt/anaconda3/envs/Capstone2023/lib/python3.10/site-packages/xgboost/data.py:520: FutureWarning:\n",
      "\n",
      "is_sparse is deprecated and will be removed in a future version. Check `isinstance(dtype, pd.SparseDtype)` instead.\n",
      "\n",
      "/opt/anaconda3/envs/Capstone2023/lib/python3.10/site-packages/xgboost/data.py:520: FutureWarning:\n",
      "\n",
      "is_sparse is deprecated and will be removed in a future version. Check `isinstance(dtype, pd.SparseDtype)` instead.\n",
      "\n",
      "/opt/anaconda3/envs/Capstone2023/lib/python3.10/site-packages/xgboost/data.py:520: FutureWarning:\n",
      "\n",
      "is_sparse is deprecated and will be removed in a future version. Check `isinstance(dtype, pd.SparseDtype)` instead.\n",
      "\n",
      "/opt/anaconda3/envs/Capstone2023/lib/python3.10/site-packages/xgboost/data.py:520: FutureWarning:\n",
      "\n",
      "is_sparse is deprecated and will be removed in a future version. Check `isinstance(dtype, pd.SparseDtype)` instead.\n",
      "\n",
      "/opt/anaconda3/envs/Capstone2023/lib/python3.10/site-packages/xgboost/data.py:520: FutureWarning:\n",
      "\n",
      "is_sparse is deprecated and will be removed in a future version. Check `isinstance(dtype, pd.SparseDtype)` instead.\n",
      "\n",
      "/opt/anaconda3/envs/Capstone2023/lib/python3.10/site-packages/xgboost/data.py:520: FutureWarning:\n",
      "\n",
      "is_sparse is deprecated and will be removed in a future version. Check `isinstance(dtype, pd.SparseDtype)` instead.\n",
      "\n",
      "/opt/anaconda3/envs/Capstone2023/lib/python3.10/site-packages/xgboost/data.py:520: FutureWarning:\n",
      "\n",
      "is_sparse is deprecated and will be removed in a future version. Check `isinstance(dtype, pd.SparseDtype)` instead.\n",
      "\n",
      "/opt/anaconda3/envs/Capstone2023/lib/python3.10/site-packages/xgboost/data.py:520: FutureWarning:\n",
      "\n",
      "is_sparse is deprecated and will be removed in a future version. Check `isinstance(dtype, pd.SparseDtype)` instead.\n",
      "\n",
      "/opt/anaconda3/envs/Capstone2023/lib/python3.10/site-packages/xgboost/data.py:520: FutureWarning:\n",
      "\n",
      "is_sparse is deprecated and will be removed in a future version. Check `isinstance(dtype, pd.SparseDtype)` instead.\n",
      "\n",
      "/opt/anaconda3/envs/Capstone2023/lib/python3.10/site-packages/xgboost/data.py:520: FutureWarning:\n",
      "\n",
      "is_sparse is deprecated and will be removed in a future version. Check `isinstance(dtype, pd.SparseDtype)` instead.\n",
      "\n",
      "/opt/anaconda3/envs/Capstone2023/lib/python3.10/site-packages/xgboost/data.py:520: FutureWarning:\n",
      "\n",
      "is_sparse is deprecated and will be removed in a future version. Check `isinstance(dtype, pd.SparseDtype)` instead.\n",
      "\n",
      "/opt/anaconda3/envs/Capstone2023/lib/python3.10/site-packages/xgboost/data.py:520: FutureWarning:\n",
      "\n",
      "is_sparse is deprecated and will be removed in a future version. Check `isinstance(dtype, pd.SparseDtype)` instead.\n",
      "\n",
      "/opt/anaconda3/envs/Capstone2023/lib/python3.10/site-packages/xgboost/data.py:520: FutureWarning:\n",
      "\n",
      "is_sparse is deprecated and will be removed in a future version. Check `isinstance(dtype, pd.SparseDtype)` instead.\n",
      "\n",
      "/opt/anaconda3/envs/Capstone2023/lib/python3.10/site-packages/xgboost/data.py:520: FutureWarning:\n",
      "\n",
      "is_sparse is deprecated and will be removed in a future version. Check `isinstance(dtype, pd.SparseDtype)` instead.\n",
      "\n",
      "/opt/anaconda3/envs/Capstone2023/lib/python3.10/site-packages/xgboost/data.py:520: FutureWarning:\n",
      "\n",
      "is_sparse is deprecated and will be removed in a future version. Check `isinstance(dtype, pd.SparseDtype)` instead.\n",
      "\n",
      "/opt/anaconda3/envs/Capstone2023/lib/python3.10/site-packages/xgboost/data.py:520: FutureWarning:\n",
      "\n",
      "is_sparse is deprecated and will be removed in a future version. Check `isinstance(dtype, pd.SparseDtype)` instead.\n",
      "\n",
      "/opt/anaconda3/envs/Capstone2023/lib/python3.10/site-packages/xgboost/data.py:520: FutureWarning:\n",
      "\n",
      "is_sparse is deprecated and will be removed in a future version. Check `isinstance(dtype, pd.SparseDtype)` instead.\n",
      "\n",
      "/opt/anaconda3/envs/Capstone2023/lib/python3.10/site-packages/xgboost/data.py:520: FutureWarning:\n",
      "\n",
      "is_sparse is deprecated and will be removed in a future version. Check `isinstance(dtype, pd.SparseDtype)` instead.\n",
      "\n",
      "/opt/anaconda3/envs/Capstone2023/lib/python3.10/site-packages/xgboost/data.py:520: FutureWarning:\n",
      "\n",
      "is_sparse is deprecated and will be removed in a future version. Check `isinstance(dtype, pd.SparseDtype)` instead.\n",
      "\n",
      "/opt/anaconda3/envs/Capstone2023/lib/python3.10/site-packages/xgboost/data.py:520: FutureWarning:\n",
      "\n",
      "is_sparse is deprecated and will be removed in a future version. Check `isinstance(dtype, pd.SparseDtype)` instead.\n",
      "\n",
      "/opt/anaconda3/envs/Capstone2023/lib/python3.10/site-packages/xgboost/data.py:520: FutureWarning:\n",
      "\n",
      "is_sparse is deprecated and will be removed in a future version. Check `isinstance(dtype, pd.SparseDtype)` instead.\n",
      "\n",
      "/opt/anaconda3/envs/Capstone2023/lib/python3.10/site-packages/xgboost/data.py:520: FutureWarning:\n",
      "\n",
      "is_sparse is deprecated and will be removed in a future version. Check `isinstance(dtype, pd.SparseDtype)` instead.\n",
      "\n",
      "/opt/anaconda3/envs/Capstone2023/lib/python3.10/site-packages/xgboost/data.py:520: FutureWarning:\n",
      "\n",
      "is_sparse is deprecated and will be removed in a future version. Check `isinstance(dtype, pd.SparseDtype)` instead.\n",
      "\n",
      "/opt/anaconda3/envs/Capstone2023/lib/python3.10/site-packages/xgboost/data.py:520: FutureWarning:\n",
      "\n",
      "is_sparse is deprecated and will be removed in a future version. Check `isinstance(dtype, pd.SparseDtype)` instead.\n",
      "\n",
      "/opt/anaconda3/envs/Capstone2023/lib/python3.10/site-packages/xgboost/data.py:520: FutureWarning:\n",
      "\n",
      "is_sparse is deprecated and will be removed in a future version. Check `isinstance(dtype, pd.SparseDtype)` instead.\n",
      "\n",
      "/opt/anaconda3/envs/Capstone2023/lib/python3.10/site-packages/xgboost/data.py:520: FutureWarning:\n",
      "\n",
      "is_sparse is deprecated and will be removed in a future version. Check `isinstance(dtype, pd.SparseDtype)` instead.\n",
      "\n",
      "/opt/anaconda3/envs/Capstone2023/lib/python3.10/site-packages/xgboost/data.py:520: FutureWarning:\n",
      "\n",
      "is_sparse is deprecated and will be removed in a future version. Check `isinstance(dtype, pd.SparseDtype)` instead.\n",
      "\n",
      "/opt/anaconda3/envs/Capstone2023/lib/python3.10/site-packages/xgboost/data.py:520: FutureWarning:\n",
      "\n",
      "is_sparse is deprecated and will be removed in a future version. Check `isinstance(dtype, pd.SparseDtype)` instead.\n",
      "\n",
      "/opt/anaconda3/envs/Capstone2023/lib/python3.10/site-packages/xgboost/data.py:520: FutureWarning:\n",
      "\n",
      "is_sparse is deprecated and will be removed in a future version. Check `isinstance(dtype, pd.SparseDtype)` instead.\n",
      "\n",
      "/opt/anaconda3/envs/Capstone2023/lib/python3.10/site-packages/xgboost/data.py:520: FutureWarning:\n",
      "\n",
      "is_sparse is deprecated and will be removed in a future version. Check `isinstance(dtype, pd.SparseDtype)` instead.\n",
      "\n",
      "/opt/anaconda3/envs/Capstone2023/lib/python3.10/site-packages/xgboost/data.py:520: FutureWarning:\n",
      "\n",
      "is_sparse is deprecated and will be removed in a future version. Check `isinstance(dtype, pd.SparseDtype)` instead.\n",
      "\n",
      "/opt/anaconda3/envs/Capstone2023/lib/python3.10/site-packages/xgboost/data.py:520: FutureWarning:\n",
      "\n",
      "is_sparse is deprecated and will be removed in a future version. Check `isinstance(dtype, pd.SparseDtype)` instead.\n",
      "\n",
      "/opt/anaconda3/envs/Capstone2023/lib/python3.10/site-packages/xgboost/data.py:520: FutureWarning:\n",
      "\n",
      "is_sparse is deprecated and will be removed in a future version. Check `isinstance(dtype, pd.SparseDtype)` instead.\n",
      "\n",
      "/opt/anaconda3/envs/Capstone2023/lib/python3.10/site-packages/xgboost/data.py:520: FutureWarning:\n",
      "\n",
      "is_sparse is deprecated and will be removed in a future version. Check `isinstance(dtype, pd.SparseDtype)` instead.\n",
      "\n",
      "/opt/anaconda3/envs/Capstone2023/lib/python3.10/site-packages/xgboost/data.py:520: FutureWarning:\n",
      "\n",
      "is_sparse is deprecated and will be removed in a future version. Check `isinstance(dtype, pd.SparseDtype)` instead.\n",
      "\n",
      "/opt/anaconda3/envs/Capstone2023/lib/python3.10/site-packages/xgboost/data.py:520: FutureWarning:\n",
      "\n",
      "is_sparse is deprecated and will be removed in a future version. Check `isinstance(dtype, pd.SparseDtype)` instead.\n",
      "\n",
      "/opt/anaconda3/envs/Capstone2023/lib/python3.10/site-packages/xgboost/data.py:520: FutureWarning:\n",
      "\n",
      "is_sparse is deprecated and will be removed in a future version. Check `isinstance(dtype, pd.SparseDtype)` instead.\n",
      "\n",
      "/opt/anaconda3/envs/Capstone2023/lib/python3.10/site-packages/xgboost/data.py:520: FutureWarning:\n",
      "\n",
      "is_sparse is deprecated and will be removed in a future version. Check `isinstance(dtype, pd.SparseDtype)` instead.\n",
      "\n",
      "/opt/anaconda3/envs/Capstone2023/lib/python3.10/site-packages/xgboost/data.py:520: FutureWarning:\n",
      "\n",
      "is_sparse is deprecated and will be removed in a future version. Check `isinstance(dtype, pd.SparseDtype)` instead.\n",
      "\n",
      "/opt/anaconda3/envs/Capstone2023/lib/python3.10/site-packages/xgboost/data.py:520: FutureWarning:\n",
      "\n",
      "is_sparse is deprecated and will be removed in a future version. Check `isinstance(dtype, pd.SparseDtype)` instead.\n",
      "\n",
      "/opt/anaconda3/envs/Capstone2023/lib/python3.10/site-packages/xgboost/data.py:520: FutureWarning:\n",
      "\n",
      "is_sparse is deprecated and will be removed in a future version. Check `isinstance(dtype, pd.SparseDtype)` instead.\n",
      "\n",
      "/opt/anaconda3/envs/Capstone2023/lib/python3.10/site-packages/xgboost/data.py:520: FutureWarning:\n",
      "\n",
      "is_sparse is deprecated and will be removed in a future version. Check `isinstance(dtype, pd.SparseDtype)` instead.\n",
      "\n",
      "/opt/anaconda3/envs/Capstone2023/lib/python3.10/site-packages/xgboost/data.py:520: FutureWarning:\n",
      "\n",
      "is_sparse is deprecated and will be removed in a future version. Check `isinstance(dtype, pd.SparseDtype)` instead.\n",
      "\n",
      "/opt/anaconda3/envs/Capstone2023/lib/python3.10/site-packages/xgboost/data.py:520: FutureWarning:\n",
      "\n",
      "is_sparse is deprecated and will be removed in a future version. Check `isinstance(dtype, pd.SparseDtype)` instead.\n",
      "\n",
      "/opt/anaconda3/envs/Capstone2023/lib/python3.10/site-packages/xgboost/data.py:520: FutureWarning:\n",
      "\n",
      "is_sparse is deprecated and will be removed in a future version. Check `isinstance(dtype, pd.SparseDtype)` instead.\n",
      "\n",
      "/opt/anaconda3/envs/Capstone2023/lib/python3.10/site-packages/xgboost/data.py:520: FutureWarning:\n",
      "\n",
      "is_sparse is deprecated and will be removed in a future version. Check `isinstance(dtype, pd.SparseDtype)` instead.\n",
      "\n",
      "/opt/anaconda3/envs/Capstone2023/lib/python3.10/site-packages/xgboost/data.py:520: FutureWarning:\n",
      "\n",
      "is_sparse is deprecated and will be removed in a future version. Check `isinstance(dtype, pd.SparseDtype)` instead.\n",
      "\n",
      "/opt/anaconda3/envs/Capstone2023/lib/python3.10/site-packages/xgboost/data.py:520: FutureWarning:\n",
      "\n",
      "is_sparse is deprecated and will be removed in a future version. Check `isinstance(dtype, pd.SparseDtype)` instead.\n",
      "\n",
      "/opt/anaconda3/envs/Capstone2023/lib/python3.10/site-packages/xgboost/data.py:520: FutureWarning:\n",
      "\n",
      "is_sparse is deprecated and will be removed in a future version. Check `isinstance(dtype, pd.SparseDtype)` instead.\n",
      "\n",
      "/opt/anaconda3/envs/Capstone2023/lib/python3.10/site-packages/xgboost/data.py:520: FutureWarning:\n",
      "\n",
      "is_sparse is deprecated and will be removed in a future version. Check `isinstance(dtype, pd.SparseDtype)` instead.\n",
      "\n",
      "/opt/anaconda3/envs/Capstone2023/lib/python3.10/site-packages/xgboost/data.py:520: FutureWarning:\n",
      "\n",
      "is_sparse is deprecated and will be removed in a future version. Check `isinstance(dtype, pd.SparseDtype)` instead.\n",
      "\n",
      "/opt/anaconda3/envs/Capstone2023/lib/python3.10/site-packages/xgboost/data.py:520: FutureWarning:\n",
      "\n",
      "is_sparse is deprecated and will be removed in a future version. Check `isinstance(dtype, pd.SparseDtype)` instead.\n",
      "\n",
      "/opt/anaconda3/envs/Capstone2023/lib/python3.10/site-packages/xgboost/data.py:520: FutureWarning:\n",
      "\n",
      "is_sparse is deprecated and will be removed in a future version. Check `isinstance(dtype, pd.SparseDtype)` instead.\n",
      "\n",
      "/opt/anaconda3/envs/Capstone2023/lib/python3.10/site-packages/xgboost/data.py:520: FutureWarning:\n",
      "\n",
      "is_sparse is deprecated and will be removed in a future version. Check `isinstance(dtype, pd.SparseDtype)` instead.\n",
      "\n",
      "/opt/anaconda3/envs/Capstone2023/lib/python3.10/site-packages/xgboost/data.py:520: FutureWarning:\n",
      "\n",
      "is_sparse is deprecated and will be removed in a future version. Check `isinstance(dtype, pd.SparseDtype)` instead.\n",
      "\n",
      "/opt/anaconda3/envs/Capstone2023/lib/python3.10/site-packages/xgboost/data.py:520: FutureWarning:\n",
      "\n",
      "is_sparse is deprecated and will be removed in a future version. Check `isinstance(dtype, pd.SparseDtype)` instead.\n",
      "\n",
      "/opt/anaconda3/envs/Capstone2023/lib/python3.10/site-packages/xgboost/data.py:520: FutureWarning:\n",
      "\n",
      "is_sparse is deprecated and will be removed in a future version. Check `isinstance(dtype, pd.SparseDtype)` instead.\n",
      "\n",
      "/opt/anaconda3/envs/Capstone2023/lib/python3.10/site-packages/xgboost/data.py:520: FutureWarning:\n",
      "\n",
      "is_sparse is deprecated and will be removed in a future version. Check `isinstance(dtype, pd.SparseDtype)` instead.\n",
      "\n",
      "/opt/anaconda3/envs/Capstone2023/lib/python3.10/site-packages/xgboost/data.py:520: FutureWarning:\n",
      "\n",
      "is_sparse is deprecated and will be removed in a future version. Check `isinstance(dtype, pd.SparseDtype)` instead.\n",
      "\n",
      "/opt/anaconda3/envs/Capstone2023/lib/python3.10/site-packages/xgboost/data.py:520: FutureWarning:\n",
      "\n",
      "is_sparse is deprecated and will be removed in a future version. Check `isinstance(dtype, pd.SparseDtype)` instead.\n",
      "\n",
      "/opt/anaconda3/envs/Capstone2023/lib/python3.10/site-packages/xgboost/data.py:520: FutureWarning:\n",
      "\n",
      "is_sparse is deprecated and will be removed in a future version. Check `isinstance(dtype, pd.SparseDtype)` instead.\n",
      "\n",
      "/opt/anaconda3/envs/Capstone2023/lib/python3.10/site-packages/xgboost/data.py:520: FutureWarning:\n",
      "\n",
      "is_sparse is deprecated and will be removed in a future version. Check `isinstance(dtype, pd.SparseDtype)` instead.\n",
      "\n",
      "/opt/anaconda3/envs/Capstone2023/lib/python3.10/site-packages/xgboost/data.py:520: FutureWarning:\n",
      "\n",
      "is_sparse is deprecated and will be removed in a future version. Check `isinstance(dtype, pd.SparseDtype)` instead.\n",
      "\n",
      "/opt/anaconda3/envs/Capstone2023/lib/python3.10/site-packages/xgboost/data.py:520: FutureWarning:\n",
      "\n",
      "is_sparse is deprecated and will be removed in a future version. Check `isinstance(dtype, pd.SparseDtype)` instead.\n",
      "\n",
      "/opt/anaconda3/envs/Capstone2023/lib/python3.10/site-packages/xgboost/data.py:520: FutureWarning:\n",
      "\n",
      "is_sparse is deprecated and will be removed in a future version. Check `isinstance(dtype, pd.SparseDtype)` instead.\n",
      "\n",
      "/opt/anaconda3/envs/Capstone2023/lib/python3.10/site-packages/xgboost/data.py:520: FutureWarning:\n",
      "\n",
      "is_sparse is deprecated and will be removed in a future version. Check `isinstance(dtype, pd.SparseDtype)` instead.\n",
      "\n",
      "/opt/anaconda3/envs/Capstone2023/lib/python3.10/site-packages/xgboost/data.py:520: FutureWarning:\n",
      "\n",
      "is_sparse is deprecated and will be removed in a future version. Check `isinstance(dtype, pd.SparseDtype)` instead.\n",
      "\n",
      "/opt/anaconda3/envs/Capstone2023/lib/python3.10/site-packages/xgboost/data.py:520: FutureWarning:\n",
      "\n",
      "is_sparse is deprecated and will be removed in a future version. Check `isinstance(dtype, pd.SparseDtype)` instead.\n",
      "\n",
      "/opt/anaconda3/envs/Capstone2023/lib/python3.10/site-packages/xgboost/data.py:520: FutureWarning:\n",
      "\n",
      "is_sparse is deprecated and will be removed in a future version. Check `isinstance(dtype, pd.SparseDtype)` instead.\n",
      "\n",
      "/opt/anaconda3/envs/Capstone2023/lib/python3.10/site-packages/xgboost/data.py:520: FutureWarning:\n",
      "\n",
      "is_sparse is deprecated and will be removed in a future version. Check `isinstance(dtype, pd.SparseDtype)` instead.\n",
      "\n",
      "/opt/anaconda3/envs/Capstone2023/lib/python3.10/site-packages/xgboost/data.py:520: FutureWarning:\n",
      "\n",
      "is_sparse is deprecated and will be removed in a future version. Check `isinstance(dtype, pd.SparseDtype)` instead.\n",
      "\n",
      "/opt/anaconda3/envs/Capstone2023/lib/python3.10/site-packages/xgboost/data.py:520: FutureWarning:\n",
      "\n",
      "is_sparse is deprecated and will be removed in a future version. Check `isinstance(dtype, pd.SparseDtype)` instead.\n",
      "\n",
      "/opt/anaconda3/envs/Capstone2023/lib/python3.10/site-packages/xgboost/data.py:520: FutureWarning:\n",
      "\n",
      "is_sparse is deprecated and will be removed in a future version. Check `isinstance(dtype, pd.SparseDtype)` instead.\n",
      "\n",
      "/opt/anaconda3/envs/Capstone2023/lib/python3.10/site-packages/xgboost/data.py:520: FutureWarning:\n",
      "\n",
      "is_sparse is deprecated and will be removed in a future version. Check `isinstance(dtype, pd.SparseDtype)` instead.\n",
      "\n",
      "/opt/anaconda3/envs/Capstone2023/lib/python3.10/site-packages/xgboost/data.py:520: FutureWarning:\n",
      "\n",
      "is_sparse is deprecated and will be removed in a future version. Check `isinstance(dtype, pd.SparseDtype)` instead.\n",
      "\n",
      "/opt/anaconda3/envs/Capstone2023/lib/python3.10/site-packages/xgboost/data.py:520: FutureWarning:\n",
      "\n",
      "is_sparse is deprecated and will be removed in a future version. Check `isinstance(dtype, pd.SparseDtype)` instead.\n",
      "\n",
      "/opt/anaconda3/envs/Capstone2023/lib/python3.10/site-packages/xgboost/data.py:520: FutureWarning:\n",
      "\n",
      "is_sparse is deprecated and will be removed in a future version. Check `isinstance(dtype, pd.SparseDtype)` instead.\n",
      "\n",
      "/opt/anaconda3/envs/Capstone2023/lib/python3.10/site-packages/xgboost/data.py:520: FutureWarning:\n",
      "\n",
      "is_sparse is deprecated and will be removed in a future version. Check `isinstance(dtype, pd.SparseDtype)` instead.\n",
      "\n",
      "/opt/anaconda3/envs/Capstone2023/lib/python3.10/site-packages/xgboost/data.py:520: FutureWarning:\n",
      "\n",
      "is_sparse is deprecated and will be removed in a future version. Check `isinstance(dtype, pd.SparseDtype)` instead.\n",
      "\n",
      "/opt/anaconda3/envs/Capstone2023/lib/python3.10/site-packages/xgboost/data.py:520: FutureWarning:\n",
      "\n",
      "is_sparse is deprecated and will be removed in a future version. Check `isinstance(dtype, pd.SparseDtype)` instead.\n",
      "\n",
      "/opt/anaconda3/envs/Capstone2023/lib/python3.10/site-packages/xgboost/data.py:520: FutureWarning:\n",
      "\n",
      "is_sparse is deprecated and will be removed in a future version. Check `isinstance(dtype, pd.SparseDtype)` instead.\n",
      "\n",
      "/opt/anaconda3/envs/Capstone2023/lib/python3.10/site-packages/xgboost/data.py:520: FutureWarning:\n",
      "\n",
      "is_sparse is deprecated and will be removed in a future version. Check `isinstance(dtype, pd.SparseDtype)` instead.\n",
      "\n",
      "/opt/anaconda3/envs/Capstone2023/lib/python3.10/site-packages/xgboost/data.py:520: FutureWarning:\n",
      "\n",
      "is_sparse is deprecated and will be removed in a future version. Check `isinstance(dtype, pd.SparseDtype)` instead.\n",
      "\n",
      "/opt/anaconda3/envs/Capstone2023/lib/python3.10/site-packages/xgboost/data.py:520: FutureWarning:\n",
      "\n",
      "is_sparse is deprecated and will be removed in a future version. Check `isinstance(dtype, pd.SparseDtype)` instead.\n",
      "\n",
      "/opt/anaconda3/envs/Capstone2023/lib/python3.10/site-packages/xgboost/data.py:520: FutureWarning:\n",
      "\n",
      "is_sparse is deprecated and will be removed in a future version. Check `isinstance(dtype, pd.SparseDtype)` instead.\n",
      "\n",
      "/opt/anaconda3/envs/Capstone2023/lib/python3.10/site-packages/xgboost/data.py:520: FutureWarning:\n",
      "\n",
      "is_sparse is deprecated and will be removed in a future version. Check `isinstance(dtype, pd.SparseDtype)` instead.\n",
      "\n",
      "/opt/anaconda3/envs/Capstone2023/lib/python3.10/site-packages/xgboost/data.py:520: FutureWarning:\n",
      "\n",
      "is_sparse is deprecated and will be removed in a future version. Check `isinstance(dtype, pd.SparseDtype)` instead.\n",
      "\n",
      "/opt/anaconda3/envs/Capstone2023/lib/python3.10/site-packages/xgboost/data.py:520: FutureWarning:\n",
      "\n",
      "is_sparse is deprecated and will be removed in a future version. Check `isinstance(dtype, pd.SparseDtype)` instead.\n",
      "\n",
      "/opt/anaconda3/envs/Capstone2023/lib/python3.10/site-packages/xgboost/data.py:520: FutureWarning:\n",
      "\n",
      "is_sparse is deprecated and will be removed in a future version. Check `isinstance(dtype, pd.SparseDtype)` instead.\n",
      "\n",
      "/opt/anaconda3/envs/Capstone2023/lib/python3.10/site-packages/xgboost/data.py:520: FutureWarning:\n",
      "\n",
      "is_sparse is deprecated and will be removed in a future version. Check `isinstance(dtype, pd.SparseDtype)` instead.\n",
      "\n",
      "/opt/anaconda3/envs/Capstone2023/lib/python3.10/site-packages/xgboost/data.py:520: FutureWarning:\n",
      "\n",
      "is_sparse is deprecated and will be removed in a future version. Check `isinstance(dtype, pd.SparseDtype)` instead.\n",
      "\n",
      "/opt/anaconda3/envs/Capstone2023/lib/python3.10/site-packages/xgboost/data.py:520: FutureWarning:\n",
      "\n",
      "is_sparse is deprecated and will be removed in a future version. Check `isinstance(dtype, pd.SparseDtype)` instead.\n",
      "\n",
      "/opt/anaconda3/envs/Capstone2023/lib/python3.10/site-packages/xgboost/data.py:520: FutureWarning:\n",
      "\n",
      "is_sparse is deprecated and will be removed in a future version. Check `isinstance(dtype, pd.SparseDtype)` instead.\n",
      "\n",
      "/opt/anaconda3/envs/Capstone2023/lib/python3.10/site-packages/xgboost/data.py:520: FutureWarning:\n",
      "\n",
      "is_sparse is deprecated and will be removed in a future version. Check `isinstance(dtype, pd.SparseDtype)` instead.\n",
      "\n",
      "/opt/anaconda3/envs/Capstone2023/lib/python3.10/site-packages/xgboost/data.py:520: FutureWarning:\n",
      "\n",
      "is_sparse is deprecated and will be removed in a future version. Check `isinstance(dtype, pd.SparseDtype)` instead.\n",
      "\n",
      "/opt/anaconda3/envs/Capstone2023/lib/python3.10/site-packages/xgboost/data.py:520: FutureWarning:\n",
      "\n",
      "is_sparse is deprecated and will be removed in a future version. Check `isinstance(dtype, pd.SparseDtype)` instead.\n",
      "\n",
      "/opt/anaconda3/envs/Capstone2023/lib/python3.10/site-packages/xgboost/data.py:520: FutureWarning:\n",
      "\n",
      "is_sparse is deprecated and will be removed in a future version. Check `isinstance(dtype, pd.SparseDtype)` instead.\n",
      "\n",
      "/opt/anaconda3/envs/Capstone2023/lib/python3.10/site-packages/xgboost/data.py:520: FutureWarning:\n",
      "\n",
      "is_sparse is deprecated and will be removed in a future version. Check `isinstance(dtype, pd.SparseDtype)` instead.\n",
      "\n",
      "/opt/anaconda3/envs/Capstone2023/lib/python3.10/site-packages/xgboost/data.py:520: FutureWarning:\n",
      "\n",
      "is_sparse is deprecated and will be removed in a future version. Check `isinstance(dtype, pd.SparseDtype)` instead.\n",
      "\n",
      "/opt/anaconda3/envs/Capstone2023/lib/python3.10/site-packages/xgboost/data.py:520: FutureWarning:\n",
      "\n",
      "is_sparse is deprecated and will be removed in a future version. Check `isinstance(dtype, pd.SparseDtype)` instead.\n",
      "\n",
      "/opt/anaconda3/envs/Capstone2023/lib/python3.10/site-packages/xgboost/data.py:520: FutureWarning:\n",
      "\n",
      "is_sparse is deprecated and will be removed in a future version. Check `isinstance(dtype, pd.SparseDtype)` instead.\n",
      "\n",
      "/opt/anaconda3/envs/Capstone2023/lib/python3.10/site-packages/xgboost/data.py:520: FutureWarning:\n",
      "\n",
      "is_sparse is deprecated and will be removed in a future version. Check `isinstance(dtype, pd.SparseDtype)` instead.\n",
      "\n",
      "/opt/anaconda3/envs/Capstone2023/lib/python3.10/site-packages/xgboost/data.py:520: FutureWarning:\n",
      "\n",
      "is_sparse is deprecated and will be removed in a future version. Check `isinstance(dtype, pd.SparseDtype)` instead.\n",
      "\n",
      "/opt/anaconda3/envs/Capstone2023/lib/python3.10/site-packages/xgboost/data.py:520: FutureWarning:\n",
      "\n",
      "is_sparse is deprecated and will be removed in a future version. Check `isinstance(dtype, pd.SparseDtype)` instead.\n",
      "\n",
      "/opt/anaconda3/envs/Capstone2023/lib/python3.10/site-packages/xgboost/data.py:520: FutureWarning:\n",
      "\n",
      "is_sparse is deprecated and will be removed in a future version. Check `isinstance(dtype, pd.SparseDtype)` instead.\n",
      "\n",
      "/opt/anaconda3/envs/Capstone2023/lib/python3.10/site-packages/xgboost/data.py:520: FutureWarning:\n",
      "\n",
      "is_sparse is deprecated and will be removed in a future version. Check `isinstance(dtype, pd.SparseDtype)` instead.\n",
      "\n",
      "/opt/anaconda3/envs/Capstone2023/lib/python3.10/site-packages/xgboost/data.py:520: FutureWarning:\n",
      "\n",
      "is_sparse is deprecated and will be removed in a future version. Check `isinstance(dtype, pd.SparseDtype)` instead.\n",
      "\n",
      "/opt/anaconda3/envs/Capstone2023/lib/python3.10/site-packages/xgboost/data.py:520: FutureWarning:\n",
      "\n",
      "is_sparse is deprecated and will be removed in a future version. Check `isinstance(dtype, pd.SparseDtype)` instead.\n",
      "\n",
      "/opt/anaconda3/envs/Capstone2023/lib/python3.10/site-packages/xgboost/data.py:520: FutureWarning:\n",
      "\n",
      "is_sparse is deprecated and will be removed in a future version. Check `isinstance(dtype, pd.SparseDtype)` instead.\n",
      "\n",
      "/opt/anaconda3/envs/Capstone2023/lib/python3.10/site-packages/xgboost/data.py:520: FutureWarning:\n",
      "\n",
      "is_sparse is deprecated and will be removed in a future version. Check `isinstance(dtype, pd.SparseDtype)` instead.\n",
      "\n",
      "/opt/anaconda3/envs/Capstone2023/lib/python3.10/site-packages/xgboost/data.py:520: FutureWarning:\n",
      "\n",
      "is_sparse is deprecated and will be removed in a future version. Check `isinstance(dtype, pd.SparseDtype)` instead.\n",
      "\n",
      "/opt/anaconda3/envs/Capstone2023/lib/python3.10/site-packages/xgboost/data.py:520: FutureWarning:\n",
      "\n",
      "is_sparse is deprecated and will be removed in a future version. Check `isinstance(dtype, pd.SparseDtype)` instead.\n",
      "\n",
      "/opt/anaconda3/envs/Capstone2023/lib/python3.10/site-packages/xgboost/data.py:520: FutureWarning:\n",
      "\n",
      "is_sparse is deprecated and will be removed in a future version. Check `isinstance(dtype, pd.SparseDtype)` instead.\n",
      "\n",
      "/opt/anaconda3/envs/Capstone2023/lib/python3.10/site-packages/xgboost/data.py:520: FutureWarning:\n",
      "\n",
      "is_sparse is deprecated and will be removed in a future version. Check `isinstance(dtype, pd.SparseDtype)` instead.\n",
      "\n",
      "/opt/anaconda3/envs/Capstone2023/lib/python3.10/site-packages/xgboost/data.py:520: FutureWarning:\n",
      "\n",
      "is_sparse is deprecated and will be removed in a future version. Check `isinstance(dtype, pd.SparseDtype)` instead.\n",
      "\n",
      "/opt/anaconda3/envs/Capstone2023/lib/python3.10/site-packages/xgboost/data.py:520: FutureWarning:\n",
      "\n",
      "is_sparse is deprecated and will be removed in a future version. Check `isinstance(dtype, pd.SparseDtype)` instead.\n",
      "\n",
      "/opt/anaconda3/envs/Capstone2023/lib/python3.10/site-packages/xgboost/data.py:520: FutureWarning:\n",
      "\n",
      "is_sparse is deprecated and will be removed in a future version. Check `isinstance(dtype, pd.SparseDtype)` instead.\n",
      "\n",
      "/opt/anaconda3/envs/Capstone2023/lib/python3.10/site-packages/xgboost/data.py:520: FutureWarning:\n",
      "\n",
      "is_sparse is deprecated and will be removed in a future version. Check `isinstance(dtype, pd.SparseDtype)` instead.\n",
      "\n",
      "/opt/anaconda3/envs/Capstone2023/lib/python3.10/site-packages/xgboost/data.py:520: FutureWarning:\n",
      "\n",
      "is_sparse is deprecated and will be removed in a future version. Check `isinstance(dtype, pd.SparseDtype)` instead.\n",
      "\n"
     ]
    },
    {
     "name": "stdout",
     "output_type": "stream",
     "text": [
      "Mean Squared Error on the test set: 1.6407739568666124\n"
     ]
    }
   ],
   "source": [
    "best_model_TEG1, TEG1_train = train_model(extended_df, 'Events', ['Record ID'])"
   ]
  },
  {
   "cell_type": "markdown",
   "metadata": {},
   "source": [
    "### Feature importance"
   ]
  },
  {
   "cell_type": "code",
   "execution_count": 350,
   "metadata": {},
   "outputs": [
    {
     "name": "stderr",
     "output_type": "stream",
     "text": [
      "/opt/anaconda3/envs/Capstone2023/lib/python3.10/site-packages/xgboost/core.py:160: UserWarning:\n",
      "\n",
      "[17:11:34] WARNING: /Users/runner/work/xgboost/xgboost/src/c_api/c_api.cc:1240: Saving into deprecated binary model format, please consider using `json` or `ubj`. Model format will default to JSON in XGBoost 2.2 if not specified.\n",
      "\n",
      "/opt/anaconda3/envs/Capstone2023/lib/python3.10/site-packages/xgboost/data.py:335: FutureWarning:\n",
      "\n",
      "is_sparse is deprecated and will be removed in a future version. Check `isinstance(dtype, pd.SparseDtype)` instead.\n",
      "\n",
      "/opt/anaconda3/envs/Capstone2023/lib/python3.10/site-packages/xgboost/data.py:338: FutureWarning:\n",
      "\n",
      "is_categorical_dtype is deprecated and will be removed in a future version. Use isinstance(dtype, CategoricalDtype) instead\n",
      "\n",
      "/opt/anaconda3/envs/Capstone2023/lib/python3.10/site-packages/xgboost/data.py:384: FutureWarning:\n",
      "\n",
      "is_categorical_dtype is deprecated and will be removed in a future version. Use isinstance(dtype, CategoricalDtype) instead\n",
      "\n",
      "/opt/anaconda3/envs/Capstone2023/lib/python3.10/site-packages/xgboost/data.py:359: FutureWarning:\n",
      "\n",
      "is_categorical_dtype is deprecated and will be removed in a future version. Use isinstance(dtype, CategoricalDtype) instead\n",
      "\n"
     ]
    }
   ],
   "source": [
    "importance_df_TEG1, shap_values_TEG1 = feature_importance(best_model_TEG1, TEG1_train)"
   ]
  },
  {
   "cell_type": "code",
   "execution_count": 351,
   "metadata": {},
   "outputs": [
    {
     "data": {
      "image/png": "[encoded data removed]",
      "text/plain": [
       "<Figure size 800x950 with 1 Axes>"
      ]
     },
     "metadata": {},
     "output_type": "display_data"
    }
   ],
   "source": [
    "# Plot SHAP summary plot\n",
    "shap.summary_plot(shap_values_TEG1, TEG1_train, plot_type=\"bar\", show= False)"
   ]
  },
  {
   "cell_type": "markdown",
   "metadata": {},
   "source": [
    "## User interface\n",
    "Here , the user will select the features that they want to test in the next iteration of the model, based on the results from the first model.\n",
    "\n",
    "Streamlit can read strings so for the sake of this notebook streamlit outputs will be printed strings"
   ]
  },
  {
   "cell_type": "code",
   "execution_count": 352,
   "metadata": {},
   "outputs": [
    {
     "data": {
      "text/html": [
       "<div>\n",
       "<style scoped>\n",
       "    .dataframe tbody tr th:only-of-type {\n",
       "        vertical-align: middle;\n",
       "    }\n",
       "\n",
       "    .dataframe tbody tr th {\n",
       "        vertical-align: top;\n",
       "    }\n",
       "\n",
       "    .dataframe thead th {\n",
       "        text-align: right;\n",
       "    }\n",
       "</style>\n",
       "<table border=\"1\" class=\"dataframe\">\n",
       "  <thead>\n",
       "    <tr style=\"text-align: right;\">\n",
       "      <th></th>\n",
       "      <th>Record ID</th>\n",
       "      <th>Cilostazol within 7 days</th>\n",
       "      <th>Reaction Time (R) in min</th>\n",
       "      <th>Lysis at 30 min (LY30) in %</th>\n",
       "      <th>HKH MA (mm)</th>\n",
       "      <th>ActF MA (mm)</th>\n",
       "      <th>ADP MA (mm)</th>\n",
       "      <th>AA MA(mm)</th>\n",
       "      <th>ADP % Aggregation</th>\n",
       "      <th>ADP % Inhibition</th>\n",
       "      <th>...</th>\n",
       "      <th>WBC in K/uL_difference_since_last_timepoint</th>\n",
       "      <th>WBC in K/uL_rate_since_last_timepoint</th>\n",
       "      <th>RBC (M/uL)_difference_since_last_timepoint</th>\n",
       "      <th>RBC (M/uL)_rate_since_last_timepoint</th>\n",
       "      <th>HGB(g/dL)_difference_since_last_timepoint</th>\n",
       "      <th>HGB(g/dL)_rate_since_last_timepoint</th>\n",
       "      <th>HCT %_difference_since_last_timepoint</th>\n",
       "      <th>HCT %_rate_since_last_timepoint</th>\n",
       "      <th>PLT(K/uL)_difference_since_last_timepoint</th>\n",
       "      <th>PLT(K/uL)_rate_since_last_timepoint</th>\n",
       "    </tr>\n",
       "  </thead>\n",
       "  <tbody>\n",
       "    <tr>\n",
       "      <th>128</th>\n",
       "      <td>5</td>\n",
       "      <td>True</td>\n",
       "      <td>2.819015</td>\n",
       "      <td>1.919594</td>\n",
       "      <td>14.604583</td>\n",
       "      <td>5.853914</td>\n",
       "      <td>29.244894</td>\n",
       "      <td>21.364524</td>\n",
       "      <td>5.923902</td>\n",
       "      <td>29.710563</td>\n",
       "      <td>...</td>\n",
       "      <td>0.954498</td>\n",
       "      <td>0.954498</td>\n",
       "      <td>0.073992</td>\n",
       "      <td>0.073992</td>\n",
       "      <td>-6.667564</td>\n",
       "      <td>-6.667564</td>\n",
       "      <td>12.655531</td>\n",
       "      <td>12.655531</td>\n",
       "      <td>381.144204</td>\n",
       "      <td>381.144204</td>\n",
       "    </tr>\n",
       "    <tr>\n",
       "      <th>24</th>\n",
       "      <td>5</td>\n",
       "      <td>False</td>\n",
       "      <td>15.537393</td>\n",
       "      <td>6.571666</td>\n",
       "      <td>70.664084</td>\n",
       "      <td>11.121971</td>\n",
       "      <td>42.775171</td>\n",
       "      <td>19.445180</td>\n",
       "      <td>39.281661</td>\n",
       "      <td>95.310551</td>\n",
       "      <td>...</td>\n",
       "      <td>0.954498</td>\n",
       "      <td>0.954498</td>\n",
       "      <td>0.073992</td>\n",
       "      <td>0.073992</td>\n",
       "      <td>-6.667564</td>\n",
       "      <td>-6.667564</td>\n",
       "      <td>12.655531</td>\n",
       "      <td>12.655531</td>\n",
       "      <td>381.144204</td>\n",
       "      <td>381.144204</td>\n",
       "    </tr>\n",
       "    <tr>\n",
       "      <th>232</th>\n",
       "      <td>5</td>\n",
       "      <td>False</td>\n",
       "      <td>7.226328</td>\n",
       "      <td>4.099420</td>\n",
       "      <td>23.438211</td>\n",
       "      <td>13.009540</td>\n",
       "      <td>14.663339</td>\n",
       "      <td>57.115554</td>\n",
       "      <td>87.223321</td>\n",
       "      <td>81.683590</td>\n",
       "      <td>...</td>\n",
       "      <td>-1.000413</td>\n",
       "      <td>-1.000413</td>\n",
       "      <td>-0.753583</td>\n",
       "      <td>-0.753583</td>\n",
       "      <td>8.473345</td>\n",
       "      <td>8.473345</td>\n",
       "      <td>-17.624743</td>\n",
       "      <td>-17.624743</td>\n",
       "      <td>-499.469330</td>\n",
       "      <td>-499.469330</td>\n",
       "    </tr>\n",
       "    <tr>\n",
       "      <th>336</th>\n",
       "      <td>5</td>\n",
       "      <td>False</td>\n",
       "      <td>18.000000</td>\n",
       "      <td>4.099420</td>\n",
       "      <td>9.253721</td>\n",
       "      <td>24.425620</td>\n",
       "      <td>10.200136</td>\n",
       "      <td>27.428324</td>\n",
       "      <td>72.008793</td>\n",
       "      <td>81.683590</td>\n",
       "      <td>...</td>\n",
       "      <td>-1.161365</td>\n",
       "      <td>-1.161365</td>\n",
       "      <td>-2.148798</td>\n",
       "      <td>-2.148798</td>\n",
       "      <td>-1.093748</td>\n",
       "      <td>-1.093748</td>\n",
       "      <td>-5.690214</td>\n",
       "      <td>-5.690214</td>\n",
       "      <td>471.861546</td>\n",
       "      <td>471.861546</td>\n",
       "    </tr>\n",
       "    <tr>\n",
       "      <th>492</th>\n",
       "      <td>5</td>\n",
       "      <td>True</td>\n",
       "      <td>1.257647</td>\n",
       "      <td>15.830588</td>\n",
       "      <td>5.444721</td>\n",
       "      <td>2.321087</td>\n",
       "      <td>10.130620</td>\n",
       "      <td>26.635999</td>\n",
       "      <td>56.236178</td>\n",
       "      <td>30.129956</td>\n",
       "      <td>...</td>\n",
       "      <td>4.082540</td>\n",
       "      <td>2.041270</td>\n",
       "      <td>0.657222</td>\n",
       "      <td>0.328611</td>\n",
       "      <td>-6.683472</td>\n",
       "      <td>-3.341736</td>\n",
       "      <td>-3.809204</td>\n",
       "      <td>-1.904602</td>\n",
       "      <td>-439.080783</td>\n",
       "      <td>-219.540391</td>\n",
       "    </tr>\n",
       "  </tbody>\n",
       "</table>\n",
       "<p>5 rows × 102 columns</p>\n",
       "</div>"
      ],
      "text/plain": [
       "    Record ID  Cilostazol within 7 days  Reaction Time (R) in min  \\\n",
       "128         5                      True                  2.819015   \n",
       "24          5                     False                 15.537393   \n",
       "232         5                     False                  7.226328   \n",
       "336         5                     False                 18.000000   \n",
       "492         5                      True                  1.257647   \n",
       "\n",
       "     Lysis at 30 min (LY30) in %  HKH MA (mm)  ActF MA (mm)  ADP MA (mm)  \\\n",
       "128                     1.919594    14.604583      5.853914    29.244894   \n",
       "24                      6.571666    70.664084     11.121971    42.775171   \n",
       "232                     4.099420    23.438211     13.009540    14.663339   \n",
       "336                     4.099420     9.253721     24.425620    10.200136   \n",
       "492                    15.830588     5.444721      2.321087    10.130620   \n",
       "\n",
       "     AA MA(mm)  ADP % Aggregation  ADP % Inhibition  ...  \\\n",
       "128  21.364524           5.923902         29.710563  ...   \n",
       "24   19.445180          39.281661         95.310551  ...   \n",
       "232  57.115554          87.223321         81.683590  ...   \n",
       "336  27.428324          72.008793         81.683590  ...   \n",
       "492  26.635999          56.236178         30.129956  ...   \n",
       "\n",
       "     WBC in K/uL_difference_since_last_timepoint  \\\n",
       "128                                     0.954498   \n",
       "24                                      0.954498   \n",
       "232                                    -1.000413   \n",
       "336                                    -1.161365   \n",
       "492                                     4.082540   \n",
       "\n",
       "     WBC in K/uL_rate_since_last_timepoint  \\\n",
       "128                               0.954498   \n",
       "24                                0.954498   \n",
       "232                              -1.000413   \n",
       "336                              -1.161365   \n",
       "492                               2.041270   \n",
       "\n",
       "     RBC (M/uL)_difference_since_last_timepoint  \\\n",
       "128                                    0.073992   \n",
       "24                                     0.073992   \n",
       "232                                   -0.753583   \n",
       "336                                   -2.148798   \n",
       "492                                    0.657222   \n",
       "\n",
       "     RBC (M/uL)_rate_since_last_timepoint  \\\n",
       "128                              0.073992   \n",
       "24                               0.073992   \n",
       "232                             -0.753583   \n",
       "336                             -2.148798   \n",
       "492                              0.328611   \n",
       "\n",
       "     HGB(g/dL)_difference_since_last_timepoint  \\\n",
       "128                                  -6.667564   \n",
       "24                                   -6.667564   \n",
       "232                                   8.473345   \n",
       "336                                  -1.093748   \n",
       "492                                  -6.683472   \n",
       "\n",
       "     HGB(g/dL)_rate_since_last_timepoint  \\\n",
       "128                            -6.667564   \n",
       "24                             -6.667564   \n",
       "232                             8.473345   \n",
       "336                            -1.093748   \n",
       "492                            -3.341736   \n",
       "\n",
       "     HCT %_difference_since_last_timepoint  HCT %_rate_since_last_timepoint  \\\n",
       "128                              12.655531                        12.655531   \n",
       "24                               12.655531                        12.655531   \n",
       "232                             -17.624743                       -17.624743   \n",
       "336                              -5.690214                        -5.690214   \n",
       "492                              -3.809204                        -1.904602   \n",
       "\n",
       "     PLT(K/uL)_difference_since_last_timepoint  \\\n",
       "128                                 381.144204   \n",
       "24                                  381.144204   \n",
       "232                                -499.469330   \n",
       "336                                 471.861546   \n",
       "492                                -439.080783   \n",
       "\n",
       "     PLT(K/uL)_rate_since_last_timepoint  \n",
       "128                           381.144204  \n",
       "24                            381.144204  \n",
       "232                          -499.469330  \n",
       "336                           471.861546  \n",
       "492                          -219.540391  \n",
       "\n",
       "[5 rows x 102 columns]"
      ]
     },
     "execution_count": 352,
     "metadata": {},
     "output_type": "execute_result"
    }
   ],
   "source": [
    "user_TEG_df = extended_df.copy()\n",
    "user_TEG_df.head()"
   ]
  },
  {
   "cell_type": "code",
   "execution_count": 373,
   "metadata": {},
   "outputs": [
    {
     "data": {
      "text/plain": [
       "{'Anticoagulation_apixaban': None,\n",
       " 'Anticoagulation_enoxaparin': None,\n",
       " 'Anticoagulation_enoxaprin': None,\n",
       " 'Anticoagulation_heparin': None,\n",
       " 'Anticoagulation_rivaroxaban': None,\n",
       " 'Anticoagulation_warfarin': None,\n",
       " 'Antiplatelet therapy_aspirin': None,\n",
       " 'Antiplatelet therapy_celecoxib': None,\n",
       " 'Antiplatelet therapy_clopidogrel': None,\n",
       " 'Antiplatelet therapy_ticagrelor': None,\n",
       " 'BP_Diastolic': None,\n",
       " 'BP_Systolic': None,\n",
       " 'Cilostazol within 7 days': None,\n",
       " 'Days from operation': None,\n",
       " 'Events': None,\n",
       " 'Record ID': None,\n",
       " 'Statin within 24 Hours_Lovastatin': None,\n",
       " 'Statin within 24 Hours_Pravastatin': None,\n",
       " 'Statin within 24 Hours_Rosuvastatin': None,\n",
       " 'Statin within 24 Hours_Simvastatin': None,\n",
       " 'Statin within 24 Hours_atorvastatin': None,\n",
       " 'Reaction Time (R) in min_difference_since_last_timepoint': 0.058205575,\n",
       " 'Lysis at 30 min (LY30) in %_rate_since_last_timepoint': 0.114928745,\n",
       " 'HKH MA (mm)': 0.11402253,\n",
       " 'ActF MA (mm)_difference_since_last_timepoint': 0.064760044,\n",
       " 'ADP MA (mm)_difference_since_last_timepoint': 0.047399133,\n",
       " 'AA MA(mm)': 0.038844958,\n",
       " 'ADP % Aggregation_difference_since_last_timepoint': 0.030431729,\n",
       " 'ADP % Inhibition_difference_since_last_timepoint': 0.1686384,\n",
       " 'AA % Aggregation': 0.14181748,\n",
       " 'AA % Inhibition_rate_since_last_timepoint': 0.14135684,\n",
       " 'CK R(min)': 0.1430532,\n",
       " 'CK K (min)_difference_since_last_timepoint': 0.16737267,\n",
       " 'CK angle( deg)_difference_since_last_timepoint': 0.10428071,\n",
       " 'CK MA (mm)_difference_since_last_timepoint': 0.04322605,\n",
       " 'CRT MA(mm)': 0.17867145,\n",
       " 'CKH R (min)_rate_since_last_timepoint': 0.101843275,\n",
       " 'CFF MA(mm)_difference_since_last_timepoint': 0.026749501,\n",
       " 'CFF FLEV(mg/dL)': 0.20469062,\n",
       " 'HbA1c Baseline( within1 year of study start)': 0.07913556,\n",
       " 'INR value': 0.09870318,\n",
       " 'aPTT_difference_since_last_timepoint': 0.012839183,\n",
       " 'PT value_difference_since_last_timepoint': 0.16670215,\n",
       " 'WBC in K/uL': 0.059052624,\n",
       " 'RBC (M/uL)': 0.051578045,\n",
       " 'HGB(g/dL)': 0.08799387,\n",
       " 'HCT %_difference_since_last_timepoint': 0.058155067,\n",
       " 'PLT(K/uL)_difference_since_last_timepoint': 0.12468455}"
      ]
     },
     "execution_count": 373,
     "metadata": {},
     "output_type": "execute_result"
    }
   ],
   "source": [
    "# Keep only the most important values from teg. No need for extra created ones\n",
    "columns_to_keep = dict.fromkeys(user_TEG_df.columns.difference(tegValues + new_columns), None)\n",
    "\n",
    "# Iterate through prefixes and select the most important column for each\n",
    "for prefix in tegValues:\n",
    "    # Filter the importance_df_TEG1 for the current prefix\n",
    "    prefix_columns = importance_df_TEG1[importance_df_TEG1['Feature'].str.startswith(prefix)]\n",
    "\n",
    "    if not prefix_columns.empty:\n",
    "        # Find the column with the maximum importance for the current prefix\n",
    "        max_importance_row = prefix_columns.loc[prefix_columns['Importance'].idxmax()]\n",
    "\n",
    "        # Check if the maximum importance value is greater than 0\n",
    "        if max_importance_row['Importance'] > 0:\n",
    "            max_importance_column = max_importance_row['Feature']\n",
    "            columns_to_keep[max_importance_column] = max_importance_row['Importance']\n",
    "\n",
    "        else:\n",
    "            columns_to_keep[prefix] = 0\n",
    "\n",
    "columns_to_keep\n"
   ]
  },
  {
   "cell_type": "code",
   "execution_count": 375,
   "metadata": {},
   "outputs": [
    {
     "data": {
      "text/html": [
       "<div>\n",
       "<style scoped>\n",
       "    .dataframe tbody tr th:only-of-type {\n",
       "        vertical-align: middle;\n",
       "    }\n",
       "\n",
       "    .dataframe tbody tr th {\n",
       "        vertical-align: top;\n",
       "    }\n",
       "\n",
       "    .dataframe thead th {\n",
       "        text-align: right;\n",
       "    }\n",
       "</style>\n",
       "<table border=\"1\" class=\"dataframe\">\n",
       "  <thead>\n",
       "    <tr style=\"text-align: right;\">\n",
       "      <th></th>\n",
       "      <th>Anticoagulation_apixaban</th>\n",
       "      <th>Anticoagulation_enoxaparin</th>\n",
       "      <th>Anticoagulation_enoxaprin</th>\n",
       "      <th>Anticoagulation_heparin</th>\n",
       "      <th>Anticoagulation_rivaroxaban</th>\n",
       "      <th>Anticoagulation_warfarin</th>\n",
       "      <th>Antiplatelet therapy_aspirin</th>\n",
       "      <th>Antiplatelet therapy_celecoxib</th>\n",
       "      <th>Antiplatelet therapy_clopidogrel</th>\n",
       "      <th>Antiplatelet therapy_ticagrelor</th>\n",
       "      <th>...</th>\n",
       "      <th>CFF FLEV(mg/dL)</th>\n",
       "      <th>HbA1c Baseline( within1 year of study start)</th>\n",
       "      <th>INR value</th>\n",
       "      <th>aPTT_difference_since_last_timepoint</th>\n",
       "      <th>PT value_difference_since_last_timepoint</th>\n",
       "      <th>WBC in K/uL</th>\n",
       "      <th>RBC (M/uL)</th>\n",
       "      <th>HGB(g/dL)</th>\n",
       "      <th>HCT %_difference_since_last_timepoint</th>\n",
       "      <th>PLT(K/uL)_difference_since_last_timepoint</th>\n",
       "    </tr>\n",
       "  </thead>\n",
       "  <tbody>\n",
       "    <tr>\n",
       "      <th>128</th>\n",
       "      <td>0</td>\n",
       "      <td>0</td>\n",
       "      <td>1</td>\n",
       "      <td>1</td>\n",
       "      <td>0</td>\n",
       "      <td>0</td>\n",
       "      <td>0</td>\n",
       "      <td>0</td>\n",
       "      <td>1</td>\n",
       "      <td>0</td>\n",
       "      <td>...</td>\n",
       "      <td>1691.224112</td>\n",
       "      <td>5.761200</td>\n",
       "      <td>57.574641</td>\n",
       "      <td>13.316670</td>\n",
       "      <td>-28.355124</td>\n",
       "      <td>13.430282</td>\n",
       "      <td>5.150215</td>\n",
       "      <td>16.323384</td>\n",
       "      <td>12.655531</td>\n",
       "      <td>381.144204</td>\n",
       "    </tr>\n",
       "    <tr>\n",
       "      <th>24</th>\n",
       "      <td>0</td>\n",
       "      <td>0</td>\n",
       "      <td>0</td>\n",
       "      <td>0</td>\n",
       "      <td>1</td>\n",
       "      <td>0</td>\n",
       "      <td>1</td>\n",
       "      <td>0</td>\n",
       "      <td>0</td>\n",
       "      <td>1</td>\n",
       "      <td>...</td>\n",
       "      <td>992.670498</td>\n",
       "      <td>7.023896</td>\n",
       "      <td>53.610566</td>\n",
       "      <td>13.316670</td>\n",
       "      <td>-28.355124</td>\n",
       "      <td>14.384780</td>\n",
       "      <td>5.224207</td>\n",
       "      <td>9.655820</td>\n",
       "      <td>12.655531</td>\n",
       "      <td>381.144204</td>\n",
       "    </tr>\n",
       "    <tr>\n",
       "      <th>232</th>\n",
       "      <td>0</td>\n",
       "      <td>0</td>\n",
       "      <td>1</td>\n",
       "      <td>0</td>\n",
       "      <td>0</td>\n",
       "      <td>0</td>\n",
       "      <td>1</td>\n",
       "      <td>0</td>\n",
       "      <td>0</td>\n",
       "      <td>1</td>\n",
       "      <td>...</td>\n",
       "      <td>1188.098457</td>\n",
       "      <td>9.467177</td>\n",
       "      <td>101.841247</td>\n",
       "      <td>-69.503780</td>\n",
       "      <td>8.645953</td>\n",
       "      <td>13.384367</td>\n",
       "      <td>4.470625</td>\n",
       "      <td>18.129165</td>\n",
       "      <td>-17.624743</td>\n",
       "      <td>-499.469330</td>\n",
       "    </tr>\n",
       "    <tr>\n",
       "      <th>336</th>\n",
       "      <td>1</td>\n",
       "      <td>0</td>\n",
       "      <td>0</td>\n",
       "      <td>0</td>\n",
       "      <td>0</td>\n",
       "      <td>0</td>\n",
       "      <td>0</td>\n",
       "      <td>0</td>\n",
       "      <td>1</td>\n",
       "      <td>0</td>\n",
       "      <td>...</td>\n",
       "      <td>1987.936564</td>\n",
       "      <td>9.318913</td>\n",
       "      <td>221.742809</td>\n",
       "      <td>4.842426</td>\n",
       "      <td>-7.403983</td>\n",
       "      <td>12.223002</td>\n",
       "      <td>2.321827</td>\n",
       "      <td>17.035417</td>\n",
       "      <td>-5.690214</td>\n",
       "      <td>471.861546</td>\n",
       "    </tr>\n",
       "    <tr>\n",
       "      <th>492</th>\n",
       "      <td>1</td>\n",
       "      <td>0</td>\n",
       "      <td>0</td>\n",
       "      <td>1</td>\n",
       "      <td>0</td>\n",
       "      <td>0</td>\n",
       "      <td>0</td>\n",
       "      <td>1</td>\n",
       "      <td>1</td>\n",
       "      <td>0</td>\n",
       "      <td>...</td>\n",
       "      <td>802.678659</td>\n",
       "      <td>8.388454</td>\n",
       "      <td>212.735430</td>\n",
       "      <td>32.706537</td>\n",
       "      <td>33.675272</td>\n",
       "      <td>16.305542</td>\n",
       "      <td>2.979049</td>\n",
       "      <td>10.351945</td>\n",
       "      <td>-3.809204</td>\n",
       "      <td>-439.080783</td>\n",
       "    </tr>\n",
       "  </tbody>\n",
       "</table>\n",
       "<p>5 rows × 48 columns</p>\n",
       "</div>"
      ],
      "text/plain": [
       "     Anticoagulation_apixaban  Anticoagulation_enoxaparin  \\\n",
       "128                         0                           0   \n",
       "24                          0                           0   \n",
       "232                         0                           0   \n",
       "336                         1                           0   \n",
       "492                         1                           0   \n",
       "\n",
       "     Anticoagulation_enoxaprin  Anticoagulation_heparin  \\\n",
       "128                          1                        1   \n",
       "24                           0                        0   \n",
       "232                          1                        0   \n",
       "336                          0                        0   \n",
       "492                          0                        1   \n",
       "\n",
       "     Anticoagulation_rivaroxaban  Anticoagulation_warfarin  \\\n",
       "128                            0                         0   \n",
       "24                             1                         0   \n",
       "232                            0                         0   \n",
       "336                            0                         0   \n",
       "492                            0                         0   \n",
       "\n",
       "     Antiplatelet therapy_aspirin  Antiplatelet therapy_celecoxib  \\\n",
       "128                             0                               0   \n",
       "24                              1                               0   \n",
       "232                             1                               0   \n",
       "336                             0                               0   \n",
       "492                             0                               1   \n",
       "\n",
       "     Antiplatelet therapy_clopidogrel  Antiplatelet therapy_ticagrelor  ...  \\\n",
       "128                                 1                                0  ...   \n",
       "24                                  0                                1  ...   \n",
       "232                                 0                                1  ...   \n",
       "336                                 1                                0  ...   \n",
       "492                                 1                                0  ...   \n",
       "\n",
       "     CFF FLEV(mg/dL)  HbA1c Baseline( within1 year of study start)  \\\n",
       "128      1691.224112                                      5.761200   \n",
       "24        992.670498                                      7.023896   \n",
       "232      1188.098457                                      9.467177   \n",
       "336      1987.936564                                      9.318913   \n",
       "492       802.678659                                      8.388454   \n",
       "\n",
       "      INR value  aPTT_difference_since_last_timepoint  \\\n",
       "128   57.574641                             13.316670   \n",
       "24    53.610566                             13.316670   \n",
       "232  101.841247                            -69.503780   \n",
       "336  221.742809                              4.842426   \n",
       "492  212.735430                             32.706537   \n",
       "\n",
       "     PT value_difference_since_last_timepoint WBC in K/uL  RBC (M/uL)  \\\n",
       "128                                -28.355124   13.430282    5.150215   \n",
       "24                                 -28.355124   14.384780    5.224207   \n",
       "232                                  8.645953   13.384367    4.470625   \n",
       "336                                 -7.403983   12.223002    2.321827   \n",
       "492                                 33.675272   16.305542    2.979049   \n",
       "\n",
       "     HGB(g/dL)  HCT %_difference_since_last_timepoint  \\\n",
       "128  16.323384                              12.655531   \n",
       "24    9.655820                              12.655531   \n",
       "232  18.129165                             -17.624743   \n",
       "336  17.035417                              -5.690214   \n",
       "492  10.351945                              -3.809204   \n",
       "\n",
       "     PLT(K/uL)_difference_since_last_timepoint  \n",
       "128                                 381.144204  \n",
       "24                                  381.144204  \n",
       "232                                -499.469330  \n",
       "336                                 471.861546  \n",
       "492                                -439.080783  \n",
       "\n",
       "[5 rows x 48 columns]"
      ]
     },
     "execution_count": 375,
     "metadata": {},
     "output_type": "execute_result"
    }
   ],
   "source": [
    "# Keep only non repeated values\n",
    "user_TEG_df = user_TEG_df[columns_to_keep.keys()]\n",
    "user_TEG_df.head()"
   ]
  },
  {
   "cell_type": "code",
   "execution_count": null,
   "metadata": {},
   "outputs": [
    {
     "data": {
      "text/plain": [
       "{'Clot treatment drugs': ['HKH MA (mm)', 'ActF MA (mm)', 'ADP MA (mm)'],\n",
       " 'Effects of fibrogen': ['ActF MA (mm)',\n",
       "  'CFF Max Amplitude (MA) in mm',\n",
       "  'CFF MA (mm)',\n",
       "  'CFF FLEV(mg/dl)'],\n",
       " 'Unaltered blood ': ['CRT MA (mm)', 'CK MA (mm)', 'ADP MA (mm)'],\n",
       " 'Unaltered time to clot ': ['CK R (min)', 'CKH R (min)'],\n",
       " 'ADP': ['ADP % Aggregation', 'ADP % Inhibition'],\n",
       " 'AA': ['AA % Aggregation', 'AA % Inhibition']}"
      ]
     },
     "execution_count": 177,
     "metadata": {},
     "output_type": "execute_result"
    }
   ],
   "source": [
    "# Upload collinear TEG values\n",
    "\n",
    "# Define the filename\n",
    "filename = 'TEG_collinear.json'\n",
    "\n",
    "# Create the full file path by joining the base directory and filename\n",
    "file_path = os.path.join(base_directory, 'data', filename)\n",
    "\n",
    "with open(file_path, 'r') as json_file:\n",
    "    collinearity = json.load(json_file)\n",
    "collinearity"
   ]
  },
  {
   "cell_type": "code",
   "execution_count": null,
   "metadata": {},
   "outputs": [],
   "source": [
    "# Use the dictionary with columns to keep "
   ]
  },
  {
   "cell_type": "markdown",
   "metadata": {},
   "source": [
    "## TEG model 2\n",
    "After the user selects non-correlated parameters the model will be retrained dropping the values that were not selected"
   ]
  },
  {
   "cell_type": "code",
   "execution_count": null,
   "metadata": {},
   "outputs": [
    {
     "ename": "SyntaxError",
     "evalue": "unterminated string literal (detected at line 2) (2728382599.py, line 2)",
     "output_type": "error",
     "traceback": [
      "\u001b[0;36m  Cell \u001b[0;32mIn[180], line 2\u001b[0;36m\u001b[0m\n\u001b[0;31m    we' can do this after the rest has been put into the UI\u001b[0m\n\u001b[0m      ^\u001b[0m\n\u001b[0;31mSyntaxError\u001b[0m\u001b[0;31m:\u001b[0m unterminated string literal (detected at line 2)\n"
     ]
    }
   ],
   "source": [
    "STOP \n",
    "we' can do this after the rest has been put into the UI"
   ]
  },
  {
   "cell_type": "code",
   "execution_count": null,
   "metadata": {},
   "outputs": [],
   "source": [
    "# Select only the other features and the ones selected by user\n",
    "selected_features = {\n",
    "\"Clot treatment drugs\":\"HKH MA (mm) (3.6591007709503174%)\",\n",
    "\"Effects of fibrogen\":\"ActF MA (mm) (1.9013619422912598%)\",\n",
    "\"Heparin effect\":\"HKH MA (mm) (3.6591007709503174%)\",\n",
    "\"Unaltered blood \":\"CK MA (mm)_difference_since_last_timepoint (0.0%)\",\n",
    "\"Unaltered time to clot \":\"CK R (min) (1.8973780870437622%)\",\n",
    "}\n"
   ]
  },
  {
   "cell_type": "code",
   "execution_count": null,
   "metadata": {},
   "outputs": [],
   "source": [
    "selected_features_list = []\n",
    "\n",
    "# Process the values in the dictionary\n",
    "for key, value in selected_features.items():\n",
    "    # Remove patterns matching (float%)\n",
    "    selected_features_list.append(re.sub(r'\\(\\d+\\.\\d+%\\)', '', value).strip())\n",
    "selected_features_list"
   ]
  },
  {
   "cell_type": "code",
   "execution_count": null,
   "metadata": {},
   "outputs": [],
   "source": [
    "# Extract the features mentioned in the \"Feature\" column of non_teg_df\n",
    "non_teg_features = non_teg_df['Feature'].tolist()\n",
    "selected_features_list =  selected_features_list + non_teg_features\n",
    "selected_features_list"
   ]
  },
  {
   "cell_type": "code",
   "execution_count": null,
   "metadata": {},
   "outputs": [],
   "source": [
    "# Filter the columns of the original DataFrame based on the selected features\n",
    "filtered_df = df[selected_features_list]\n",
    "filtered_df"
   ]
  }
 ],
 "metadata": {
  "kernelspec": {
   "display_name": "Capstone2023",
   "language": "python",
   "name": "python3"
  },
  "language_info": {
   "codemirror_mode": {
    "name": "ipython",
    "version": 3
   },
   "file_extension": ".py",
   "mimetype": "text/x-python",
   "name": "python",
   "nbconvert_exporter": "python",
   "pygments_lexer": "ipython3",
   "version": "3.10.13"
  }
 },
 "nbformat": 4,
 "nbformat_minor": 2
}
