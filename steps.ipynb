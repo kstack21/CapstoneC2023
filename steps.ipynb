{
 "cells": [
  {
   "cell_type": "markdown",
   "metadata": {},
   "source": [
    "# Step by step\n",
    "This notebook replicates the code on the 'functions' page, offering insight into the inner workings of the functions. This allows anyone interested in comprehending and modifying the code to gain a general understanding."
   ]
  },
  {
   "cell_type": "code",
   "execution_count": 1,
   "metadata": {},
   "outputs": [
    {
     "name": "stderr",
     "output_type": "stream",
     "text": [
      "IProgress not found. Please update jupyter and ipywidgets. See https://ipywidgets.readthedocs.io/en/stable/user_install.html\n"
     ]
    }
   ],
   "source": [
    "import pandas as pd\n",
    "import shap\n",
    "import re\n",
    "from IPython.display import Image, display\n",
    "import os\n",
    "import json\n",
    "import plotly.graph_objects as go\n",
    "from plotly.subplots import make_subplots\n",
    "import numpy as np\n",
    "from xgboost import XGBRegressor\n",
    "from sklearn.metrics import mean_squared_error\n",
    "from sklearn.model_selection import train_test_split, KFold, GridSearchCV\n",
    "from sklearn.preprocessing import OrdinalEncoder, RobustScaler, MinMaxScaler\n",
    "from sklearn.pipeline import Pipeline\n",
    "from sklearn.metrics import r2_score, mean_squared_error\n",
    "import plotly.express as px\n",
    "from sklearn.compose import TransformedTargetRegressor"
   ]
  },
  {
   "cell_type": "markdown",
   "metadata": {},
   "source": [
    "## Preprocessing\n",
    "The preprocessing step aims to get the data ready for the model to learn from. This includes making sure the data is in the right format and cleaning it up"
   ]
  },
  {
   "cell_type": "markdown",
   "metadata": {},
   "source": [
    "### Load data"
   ]
  },
  {
   "cell_type": "code",
   "execution_count": 2,
   "metadata": {},
   "outputs": [],
   "source": [
    "# Imports excell with patients data\n",
    "data_path = \"./testData/dummy_data.xlsx\"\n",
    "\n",
    "# Read the uploaded Excel file into a Pandas DataFrame\n",
    "xls = pd.ExcelFile(data_path, engine=\"openpyxl\")\n",
    "\n",
    "sheet_names = ['Baseline', 'TEG Values', 'Events']  # Replace with your sheet names\n",
    "\n",
    "# Access each sheet's data using the sheet name as the key\n",
    "baseline_df = pd.read_excel(xls, sheet_names[0])\n",
    "tegValues_df = pd.read_excel(xls, sheet_names[1])\n",
    "events_df = pd.read_excel(xls, sheet_names[2])"
   ]
  },
  {
   "cell_type": "code",
   "execution_count": 3,
   "metadata": {},
   "outputs": [
    {
     "data": {
      "text/html": [
       "<div>\n",
       "<style scoped>\n",
       "    .dataframe tbody tr th:only-of-type {\n",
       "        vertical-align: middle;\n",
       "    }\n",
       "\n",
       "    .dataframe tbody tr th {\n",
       "        vertical-align: top;\n",
       "    }\n",
       "\n",
       "    .dataframe thead th {\n",
       "        text-align: right;\n",
       "    }\n",
       "</style>\n",
       "<table border=\"1\" class=\"dataframe\">\n",
       "  <thead>\n",
       "    <tr style=\"text-align: right;\">\n",
       "      <th></th>\n",
       "      <th>Record ID</th>\n",
       "      <th>Age</th>\n",
       "      <th>Sex</th>\n",
       "      <th>White</th>\n",
       "      <th>Extremity</th>\n",
       "      <th>Artery affected</th>\n",
       "      <th>BMI</th>\n",
       "      <th>Tobacco Use (1 current 2 former, 3 none)</th>\n",
       "      <th>Diabetes</th>\n",
       "      <th>Hypertension</th>\n",
       "      <th>...</th>\n",
       "      <th>Hx of pulmonary embolism</th>\n",
       "      <th>Does the patient have a history of solid organ transplant?</th>\n",
       "      <th>EGFR (mL/min/1.73m2)</th>\n",
       "      <th>Has subject had previous intervention of the index limb?</th>\n",
       "      <th>Previous occluded stents</th>\n",
       "      <th>Rutherford Score</th>\n",
       "      <th>ABI Right</th>\n",
       "      <th>ABI left</th>\n",
       "      <th>Intervention Classification</th>\n",
       "      <th>Intervention Type</th>\n",
       "    </tr>\n",
       "  </thead>\n",
       "  <tbody>\n",
       "    <tr>\n",
       "      <th>0</th>\n",
       "      <td>39</td>\n",
       "      <td>81</td>\n",
       "      <td>Male</td>\n",
       "      <td>1</td>\n",
       "      <td>left</td>\n",
       "      <td>common femoral, SFA, popliteal, anterior tibia...</td>\n",
       "      <td>40.373643</td>\n",
       "      <td>current within the last year ( &lt; 1 pack a day)</td>\n",
       "      <td>1</td>\n",
       "      <td>0</td>\n",
       "      <td>...</td>\n",
       "      <td>Yes</td>\n",
       "      <td>No</td>\n",
       "      <td>22.03354</td>\n",
       "      <td>Yes</td>\n",
       "      <td>0</td>\n",
       "      <td>4.717162</td>\n",
       "      <td>0.859011</td>\n",
       "      <td>0.104522</td>\n",
       "      <td>Open</td>\n",
       "      <td>angioplasty</td>\n",
       "    </tr>\n",
       "    <tr>\n",
       "      <th>1</th>\n",
       "      <td>174</td>\n",
       "      <td>70</td>\n",
       "      <td>Male</td>\n",
       "      <td>0</td>\n",
       "      <td>Bilateral</td>\n",
       "      <td>common femoral, SFA, popliteal, posterior tibi...</td>\n",
       "      <td>15.619750</td>\n",
       "      <td>current within the last year (  &gt; or = 1 pack ...</td>\n",
       "      <td>0</td>\n",
       "      <td>1</td>\n",
       "      <td>...</td>\n",
       "      <td>Yes</td>\n",
       "      <td>No</td>\n",
       "      <td>&gt;60</td>\n",
       "      <td>0</td>\n",
       "      <td>0</td>\n",
       "      <td>3.561872</td>\n",
       "      <td>0.809203</td>\n",
       "      <td>0.916329</td>\n",
       "      <td>Open</td>\n",
       "      <td>bypass revision</td>\n",
       "    </tr>\n",
       "    <tr>\n",
       "      <th>2</th>\n",
       "      <td>T21-58</td>\n",
       "      <td>88</td>\n",
       "      <td>Male</td>\n",
       "      <td>1</td>\n",
       "      <td>left</td>\n",
       "      <td>common femoral</td>\n",
       "      <td>37.470921</td>\n",
       "      <td>quit 1 to 10 years ago</td>\n",
       "      <td>1</td>\n",
       "      <td>0</td>\n",
       "      <td>...</td>\n",
       "      <td>No</td>\n",
       "      <td>Yes</td>\n",
       "      <td>22.006291</td>\n",
       "      <td>No</td>\n",
       "      <td>0</td>\n",
       "      <td>3.659894</td>\n",
       "      <td>1.240163</td>\n",
       "      <td>0.13404</td>\n",
       "      <td>Endo</td>\n",
       "      <td>angioplasty, stent, endarterectomy</td>\n",
       "    </tr>\n",
       "    <tr>\n",
       "      <th>3</th>\n",
       "      <td>155</td>\n",
       "      <td>78</td>\n",
       "      <td>Male</td>\n",
       "      <td>0</td>\n",
       "      <td>right</td>\n",
       "      <td>SFA, anterior tibial, posterior tibial, extern...</td>\n",
       "      <td>15.888214</td>\n",
       "      <td>quit 1 to 10 years ago</td>\n",
       "      <td>0</td>\n",
       "      <td>0</td>\n",
       "      <td>...</td>\n",
       "      <td>Yes</td>\n",
       "      <td>No</td>\n",
       "      <td>6.906499</td>\n",
       "      <td>Yes</td>\n",
       "      <td>Yes</td>\n",
       "      <td>3.525905</td>\n",
       "      <td>0.760655</td>\n",
       "      <td>inaudible</td>\n",
       "      <td>Endo</td>\n",
       "      <td>angioplasty, bypass</td>\n",
       "    </tr>\n",
       "    <tr>\n",
       "      <th>4</th>\n",
       "      <td>47</td>\n",
       "      <td>84</td>\n",
       "      <td>Female</td>\n",
       "      <td>0</td>\n",
       "      <td>right</td>\n",
       "      <td>SFA, external iliac</td>\n",
       "      <td>31.979733</td>\n",
       "      <td>Past, quit &gt;10 year ago</td>\n",
       "      <td>1</td>\n",
       "      <td>1</td>\n",
       "      <td>...</td>\n",
       "      <td>No</td>\n",
       "      <td>Yes</td>\n",
       "      <td>11.809767</td>\n",
       "      <td>0</td>\n",
       "      <td>0</td>\n",
       "      <td>1.663111</td>\n",
       "      <td>0.329114</td>\n",
       "      <td>0.244715</td>\n",
       "      <td>Open</td>\n",
       "      <td>bypass revision</td>\n",
       "    </tr>\n",
       "  </tbody>\n",
       "</table>\n",
       "<p>5 rows × 30 columns</p>\n",
       "</div>"
      ],
      "text/plain": [
       "  Record ID  Age     Sex  White  Extremity  \\\n",
       "0        39   81    Male      1       left   \n",
       "1       174   70    Male      0  Bilateral   \n",
       "2    T21-58   88    Male      1       left   \n",
       "3       155   78    Male      0      right   \n",
       "4        47   84  Female      0      right   \n",
       "\n",
       "                                     Artery affected        BMI  \\\n",
       "0  common femoral, SFA, popliteal, anterior tibia...  40.373643   \n",
       "1  common femoral, SFA, popliteal, posterior tibi...  15.619750   \n",
       "2                                     common femoral  37.470921   \n",
       "3  SFA, anterior tibial, posterior tibial, extern...  15.888214   \n",
       "4                                SFA, external iliac  31.979733   \n",
       "\n",
       "            Tobacco Use (1 current 2 former, 3 none)  Diabetes  Hypertension  \\\n",
       "0     current within the last year ( < 1 pack a day)         1             0   \n",
       "1  current within the last year (  > or = 1 pack ...         0             1   \n",
       "2                             quit 1 to 10 years ago         1             0   \n",
       "3                             quit 1 to 10 years ago         0             0   \n",
       "4                            Past, quit >10 year ago         1             1   \n",
       "\n",
       "   ...  Hx of pulmonary embolism  \\\n",
       "0  ...                       Yes   \n",
       "1  ...                       Yes   \n",
       "2  ...                        No   \n",
       "3  ...                       Yes   \n",
       "4  ...                        No   \n",
       "\n",
       "  Does the patient have a history of solid organ transplant?  \\\n",
       "0                                                 No           \n",
       "1                                                 No           \n",
       "2                                                Yes           \n",
       "3                                                 No           \n",
       "4                                                Yes           \n",
       "\n",
       "  EGFR (mL/min/1.73m2)  \\\n",
       "0             22.03354   \n",
       "1                  >60   \n",
       "2            22.006291   \n",
       "3             6.906499   \n",
       "4            11.809767   \n",
       "\n",
       "  Has subject had previous intervention of the index limb?  \\\n",
       "0                                                Yes         \n",
       "1                                                  0         \n",
       "2                                                 No         \n",
       "3                                                Yes         \n",
       "4                                                  0         \n",
       "\n",
       "   Previous occluded stents  Rutherford Score ABI Right   ABI left  \\\n",
       "0                         0          4.717162  0.859011   0.104522   \n",
       "1                         0          3.561872  0.809203   0.916329   \n",
       "2                         0          3.659894  1.240163    0.13404   \n",
       "3                       Yes          3.525905  0.760655  inaudible   \n",
       "4                         0          1.663111  0.329114   0.244715   \n",
       "\n",
       "  Intervention Classification                   Intervention Type  \n",
       "0                        Open                         angioplasty  \n",
       "1                        Open                     bypass revision  \n",
       "2                        Endo  angioplasty, stent, endarterectomy  \n",
       "3                        Endo                 angioplasty, bypass  \n",
       "4                        Open                     bypass revision  \n",
       "\n",
       "[5 rows x 30 columns]"
      ]
     },
     "execution_count": 3,
     "metadata": {},
     "output_type": "execute_result"
    }
   ],
   "source": [
    "baseline_df.head()"
   ]
  },
  {
   "cell_type": "code",
   "execution_count": 4,
   "metadata": {},
   "outputs": [
    {
     "data": {
      "text/html": [
       "<div>\n",
       "<style scoped>\n",
       "    .dataframe tbody tr th:only-of-type {\n",
       "        vertical-align: middle;\n",
       "    }\n",
       "\n",
       "    .dataframe tbody tr th {\n",
       "        vertical-align: top;\n",
       "    }\n",
       "\n",
       "    .dataframe thead th {\n",
       "        text-align: right;\n",
       "    }\n",
       "</style>\n",
       "<table border=\"1\" class=\"dataframe\">\n",
       "  <thead>\n",
       "    <tr style=\"text-align: right;\">\n",
       "      <th></th>\n",
       "      <th>Record ID</th>\n",
       "      <th>Event Name</th>\n",
       "      <th>Date of Event</th>\n",
       "      <th>Event Type</th>\n",
       "    </tr>\n",
       "  </thead>\n",
       "  <tbody>\n",
       "    <tr>\n",
       "      <th>0</th>\n",
       "      <td>77</td>\n",
       "      <td>Event reporting 4</td>\n",
       "      <td>222.430780</td>\n",
       "      <td>Thrombotic event not related to the area inter...</td>\n",
       "    </tr>\n",
       "    <tr>\n",
       "      <th>1</th>\n",
       "      <td>120</td>\n",
       "      <td>Event reporting 5</td>\n",
       "      <td>230.814973</td>\n",
       "      <td>other</td>\n",
       "    </tr>\n",
       "    <tr>\n",
       "      <th>2</th>\n",
       "      <td>61</td>\n",
       "      <td>Event reporting 3</td>\n",
       "      <td>163.550434</td>\n",
       "      <td>Bleeding event</td>\n",
       "    </tr>\n",
       "    <tr>\n",
       "      <th>3</th>\n",
       "      <td>49</td>\n",
       "      <td>Event Reporting 1</td>\n",
       "      <td>132.170478</td>\n",
       "      <td>Thrombotic event not related to stent</td>\n",
       "    </tr>\n",
       "    <tr>\n",
       "      <th>4</th>\n",
       "      <td>126</td>\n",
       "      <td>Readmission 2</td>\n",
       "      <td>58.878041</td>\n",
       "      <td>Infection/Dehiscence</td>\n",
       "    </tr>\n",
       "  </tbody>\n",
       "</table>\n",
       "</div>"
      ],
      "text/plain": [
       "  Record ID         Event Name  Date of Event  \\\n",
       "0        77  Event reporting 4     222.430780   \n",
       "1       120  Event reporting 5     230.814973   \n",
       "2        61  Event reporting 3     163.550434   \n",
       "3        49  Event Reporting 1     132.170478   \n",
       "4       126      Readmission 2      58.878041   \n",
       "\n",
       "                                          Event Type  \n",
       "0  Thrombotic event not related to the area inter...  \n",
       "1                                              other  \n",
       "2                                     Bleeding event  \n",
       "3              Thrombotic event not related to stent  \n",
       "4                               Infection/Dehiscence  "
      ]
     },
     "execution_count": 4,
     "metadata": {},
     "output_type": "execute_result"
    }
   ],
   "source": [
    "events_df.head()"
   ]
  },
  {
   "cell_type": "code",
   "execution_count": 5,
   "metadata": {},
   "outputs": [
    {
     "data": {
      "text/html": [
       "<div>\n",
       "<style scoped>\n",
       "    .dataframe tbody tr th:only-of-type {\n",
       "        vertical-align: middle;\n",
       "    }\n",
       "\n",
       "    .dataframe tbody tr th {\n",
       "        vertical-align: top;\n",
       "    }\n",
       "\n",
       "    .dataframe thead th {\n",
       "        text-align: right;\n",
       "    }\n",
       "</style>\n",
       "<table border=\"1\" class=\"dataframe\">\n",
       "  <thead>\n",
       "    <tr style=\"text-align: right;\">\n",
       "      <th></th>\n",
       "      <th>Record ID</th>\n",
       "      <th>Visit Timepoint</th>\n",
       "      <th>Antiplatelet Therapy within 7 Days</th>\n",
       "      <th>Anticoagulation within 24 Hours</th>\n",
       "      <th>Statin within 24 Hours</th>\n",
       "      <th>Cilostazol within 7 days</th>\n",
       "      <th>Reaction Time (R) in min</th>\n",
       "      <th>Lysis at 30 min (LY30) in %</th>\n",
       "      <th>CRT Max amplitude (MA) in mm</th>\n",
       "      <th>CFF Max Amplitude( MA) in mm</th>\n",
       "      <th>...</th>\n",
       "      <th>INR value</th>\n",
       "      <th>aPTT</th>\n",
       "      <th>PT value</th>\n",
       "      <th>WBC in K/uL</th>\n",
       "      <th>RBC (M/uL)</th>\n",
       "      <th>HGB(g/dL)</th>\n",
       "      <th>HCT %</th>\n",
       "      <th>PLT(K/uL)</th>\n",
       "      <th>BP prior to blood draw</th>\n",
       "      <th>Date of TEG Collection</th>\n",
       "    </tr>\n",
       "  </thead>\n",
       "  <tbody>\n",
       "    <tr>\n",
       "      <th>0</th>\n",
       "      <td>39</td>\n",
       "      <td>Baseline</td>\n",
       "      <td>aspirin, ticagrelor</td>\n",
       "      <td>enoxaparin (Lovenox)</td>\n",
       "      <td>Rosuvastatin</td>\n",
       "      <td>cilostazol</td>\n",
       "      <td>14.02407</td>\n",
       "      <td>1.268491</td>\n",
       "      <td>63.780276</td>\n",
       "      <td>37.48071</td>\n",
       "      <td>...</td>\n",
       "      <td>151.757216</td>\n",
       "      <td>121.451182</td>\n",
       "      <td>6.723782</td>\n",
       "      <td>12.394838</td>\n",
       "      <td>4.334694</td>\n",
       "      <td>10.318403</td>\n",
       "      <td>47.959012</td>\n",
       "      <td>155.287685</td>\n",
       "      <td>160/95</td>\n",
       "      <td>2007-01-05 00:00:00</td>\n",
       "    </tr>\n",
       "    <tr>\n",
       "      <th>1</th>\n",
       "      <td>174</td>\n",
       "      <td>Post Op day 1 (4-36 hours)</td>\n",
       "      <td>clopidogrel, celecoxib</td>\n",
       "      <td>enoxaparin (Lovenox)</td>\n",
       "      <td>Simvastatin</td>\n",
       "      <td>cilostazol</td>\n",
       "      <td>3.319251</td>\n",
       "      <td>1.449484</td>\n",
       "      <td>71.128769</td>\n",
       "      <td>26.758913</td>\n",
       "      <td>...</td>\n",
       "      <td>54.147810</td>\n",
       "      <td>86.95418</td>\n",
       "      <td>13.928991</td>\n",
       "      <td>14.034414</td>\n",
       "      <td>2.288993</td>\n",
       "      <td>8.347336</td>\n",
       "      <td>42.414855</td>\n",
       "      <td>414.026181</td>\n",
       "      <td>243/49</td>\n",
       "      <td>2009-03-06 00:00:00</td>\n",
       "    </tr>\n",
       "    <tr>\n",
       "      <th>2</th>\n",
       "      <td>T21-58</td>\n",
       "      <td>Post Op day 1 (4-36 hours)</td>\n",
       "      <td>ticagrelor</td>\n",
       "      <td>warfarin (Coumadin)</td>\n",
       "      <td>Lovastatin</td>\n",
       "      <td>cilostazol</td>\n",
       "      <td>8.031243</td>\n",
       "      <td>6.83865</td>\n",
       "      <td>54.706969</td>\n",
       "      <td>18.961554</td>\n",
       "      <td>...</td>\n",
       "      <td>126.072895</td>\n",
       "      <td>124.331267</td>\n",
       "      <td>18.480140</td>\n",
       "      <td>13.002132</td>\n",
       "      <td>3.189830</td>\n",
       "      <td>15.962208</td>\n",
       "      <td>50.267115</td>\n",
       "      <td>495.118409</td>\n",
       "      <td>185/50</td>\n",
       "      <td>2011-05-06 00:00:00</td>\n",
       "    </tr>\n",
       "    <tr>\n",
       "      <th>3</th>\n",
       "      <td>155</td>\n",
       "      <td>6hr Post</td>\n",
       "      <td>aspirin, ticagrelor</td>\n",
       "      <td>rivaroxaban</td>\n",
       "      <td>Rosuvastatin</td>\n",
       "      <td>cilostazol</td>\n",
       "      <td>11.993521</td>\n",
       "      <td>inconclusive</td>\n",
       "      <td>71.450849</td>\n",
       "      <td>25.628047</td>\n",
       "      <td>...</td>\n",
       "      <td>22.585294</td>\n",
       "      <td>91.085144</td>\n",
       "      <td>7.809423</td>\n",
       "      <td>20.652979</td>\n",
       "      <td>5.963962</td>\n",
       "      <td>16.206970</td>\n",
       "      <td>50.746414</td>\n",
       "      <td>506.230494</td>\n",
       "      <td>128/136</td>\n",
       "      <td>2013-07-05 00:00:00</td>\n",
       "    </tr>\n",
       "    <tr>\n",
       "      <th>4</th>\n",
       "      <td>47</td>\n",
       "      <td>PO Day 2</td>\n",
       "      <td>aspirin, ticagrelor</td>\n",
       "      <td>enoxaprin</td>\n",
       "      <td>atorvastatin</td>\n",
       "      <td>cilostazol</td>\n",
       "      <td>16.477918</td>\n",
       "      <td>10.810169</td>\n",
       "      <td>inconclusive machine error</td>\n",
       "      <td>49.885941</td>\n",
       "      <td>...</td>\n",
       "      <td>98.907343</td>\n",
       "      <td>430</td>\n",
       "      <td>23.795725</td>\n",
       "      <td>24.328577</td>\n",
       "      <td>2.720811</td>\n",
       "      <td>9.905265</td>\n",
       "      <td>47.706937</td>\n",
       "      <td>139.320557</td>\n",
       "      <td>226/94</td>\n",
       "      <td>2015-09-04 00:00:00</td>\n",
       "    </tr>\n",
       "  </tbody>\n",
       "</table>\n",
       "<p>5 rows × 37 columns</p>\n",
       "</div>"
      ],
      "text/plain": [
       "  Record ID             Visit Timepoint Antiplatelet Therapy within 7 Days  \\\n",
       "0        39                    Baseline                aspirin, ticagrelor   \n",
       "1       174  Post Op day 1 (4-36 hours)             clopidogrel, celecoxib   \n",
       "2    T21-58  Post Op day 1 (4-36 hours)                         ticagrelor   \n",
       "3       155                    6hr Post                aspirin, ticagrelor   \n",
       "4        47                    PO Day 2                aspirin, ticagrelor   \n",
       "\n",
       "  Anticoagulation within 24 Hours Statin within 24 Hours  \\\n",
       "0            enoxaparin (Lovenox)           Rosuvastatin   \n",
       "1            enoxaparin (Lovenox)            Simvastatin   \n",
       "2             warfarin (Coumadin)             Lovastatin   \n",
       "3                     rivaroxaban           Rosuvastatin   \n",
       "4                       enoxaprin           atorvastatin   \n",
       "\n",
       "  Cilostazol within 7 days Reaction Time (R) in min  \\\n",
       "0               cilostazol                 14.02407   \n",
       "1               cilostazol                 3.319251   \n",
       "2               cilostazol                 8.031243   \n",
       "3               cilostazol                11.993521   \n",
       "4               cilostazol                16.477918   \n",
       "\n",
       "  Lysis at 30 min (LY30) in % CRT Max amplitude (MA) in mm  \\\n",
       "0                    1.268491                    63.780276   \n",
       "1                    1.449484                    71.128769   \n",
       "2                     6.83865                    54.706969   \n",
       "3               inconclusive                     71.450849   \n",
       "4                   10.810169   inconclusive machine error   \n",
       "\n",
       "  CFF Max Amplitude( MA) in mm  ...   INR value        aPTT   PT value  \\\n",
       "0                     37.48071  ...  151.757216  121.451182   6.723782   \n",
       "1                    26.758913  ...   54.147810    86.95418  13.928991   \n",
       "2                    18.961554  ...  126.072895  124.331267  18.480140   \n",
       "3                    25.628047  ...   22.585294   91.085144   7.809423   \n",
       "4                    49.885941  ...   98.907343         430  23.795725   \n",
       "\n",
       "  WBC in K/uL RBC (M/uL)  HGB(g/dL)      HCT %   PLT(K/uL)  \\\n",
       "0   12.394838   4.334694  10.318403  47.959012  155.287685   \n",
       "1   14.034414   2.288993   8.347336  42.414855  414.026181   \n",
       "2   13.002132   3.189830  15.962208  50.267115  495.118409   \n",
       "3   20.652979   5.963962  16.206970  50.746414  506.230494   \n",
       "4   24.328577   2.720811   9.905265  47.706937  139.320557   \n",
       "\n",
       "  BP prior to blood draw Date of TEG Collection  \n",
       "0                 160/95    2007-01-05 00:00:00  \n",
       "1                 243/49    2009-03-06 00:00:00  \n",
       "2                 185/50    2011-05-06 00:00:00  \n",
       "3                128/136    2013-07-05 00:00:00  \n",
       "4                 226/94    2015-09-04 00:00:00  \n",
       "\n",
       "[5 rows x 37 columns]"
      ]
     },
     "execution_count": 5,
     "metadata": {},
     "output_type": "execute_result"
    }
   ],
   "source": [
    "tegValues_df.head()"
   ]
  },
  {
   "cell_type": "markdown",
   "metadata": {},
   "source": [
    "### Merge tables\n",
    "The data is currently split into three tables. To make it usable for the model, we need to combine all the important information into a two table, one with the baseline information and the other one with the TEG values\n",
    "\n",
    "All the events for every patient will be counted and added to a column called \"Events\" (Count encoding)"
   ]
  },
  {
   "cell_type": "markdown",
   "metadata": {},
   "source": [
    "Here's what the data looks like."
   ]
  },
  {
   "cell_type": "code",
   "execution_count": 6,
   "metadata": {},
   "outputs": [
    {
     "data": {
      "image/png": "[encoded data removed]",
      "text/plain": [
       "<IPython.core.display.Image object>"
      ]
     },
     "metadata": {
      "image/png": {
       "height": 200,
       "width": 300
      }
     },
     "output_type": "display_data"
    }
   ],
   "source": [
    "# Path to image\n",
    "image_path = \"./data/data_structure.png\"\n",
    "# Display the image\n",
    "display(Image(filename=image_path, width=300, height=200))\n"
   ]
  },
  {
   "cell_type": "code",
   "execution_count": 7,
   "metadata": {},
   "outputs": [
    {
     "data": {
      "text/html": [
       "<div>\n",
       "<style scoped>\n",
       "    .dataframe tbody tr th:only-of-type {\n",
       "        vertical-align: middle;\n",
       "    }\n",
       "\n",
       "    .dataframe tbody tr th {\n",
       "        vertical-align: top;\n",
       "    }\n",
       "\n",
       "    .dataframe thead th {\n",
       "        text-align: right;\n",
       "    }\n",
       "</style>\n",
       "<table border=\"1\" class=\"dataframe\">\n",
       "  <thead>\n",
       "    <tr style=\"text-align: right;\">\n",
       "      <th></th>\n",
       "      <th>Record ID</th>\n",
       "      <th>Events</th>\n",
       "    </tr>\n",
       "  </thead>\n",
       "  <tbody>\n",
       "    <tr>\n",
       "      <th>0</th>\n",
       "      <td>71</td>\n",
       "      <td>6</td>\n",
       "    </tr>\n",
       "    <tr>\n",
       "      <th>1</th>\n",
       "      <td>49</td>\n",
       "      <td>5</td>\n",
       "    </tr>\n",
       "    <tr>\n",
       "      <th>2</th>\n",
       "      <td>155</td>\n",
       "      <td>5</td>\n",
       "    </tr>\n",
       "    <tr>\n",
       "      <th>3</th>\n",
       "      <td>82</td>\n",
       "      <td>5</td>\n",
       "    </tr>\n",
       "    <tr>\n",
       "      <th>4</th>\n",
       "      <td>174</td>\n",
       "      <td>5</td>\n",
       "    </tr>\n",
       "    <tr>\n",
       "      <th>5</th>\n",
       "      <td>77</td>\n",
       "      <td>4</td>\n",
       "    </tr>\n",
       "    <tr>\n",
       "      <th>6</th>\n",
       "      <td>115</td>\n",
       "      <td>4</td>\n",
       "    </tr>\n",
       "    <tr>\n",
       "      <th>7</th>\n",
       "      <td>46</td>\n",
       "      <td>4</td>\n",
       "    </tr>\n",
       "    <tr>\n",
       "      <th>8</th>\n",
       "      <td>192</td>\n",
       "      <td>4</td>\n",
       "    </tr>\n",
       "    <tr>\n",
       "      <th>9</th>\n",
       "      <td>T21-41</td>\n",
       "      <td>4</td>\n",
       "    </tr>\n",
       "    <tr>\n",
       "      <th>10</th>\n",
       "      <td>T21-2</td>\n",
       "      <td>4</td>\n",
       "    </tr>\n",
       "    <tr>\n",
       "      <th>11</th>\n",
       "      <td>T21-58</td>\n",
       "      <td>4</td>\n",
       "    </tr>\n",
       "    <tr>\n",
       "      <th>12</th>\n",
       "      <td>121</td>\n",
       "      <td>4</td>\n",
       "    </tr>\n",
       "    <tr>\n",
       "      <th>13</th>\n",
       "      <td>130</td>\n",
       "      <td>4</td>\n",
       "    </tr>\n",
       "    <tr>\n",
       "      <th>14</th>\n",
       "      <td>135</td>\n",
       "      <td>4</td>\n",
       "    </tr>\n",
       "    <tr>\n",
       "      <th>15</th>\n",
       "      <td>103</td>\n",
       "      <td>4</td>\n",
       "    </tr>\n",
       "    <tr>\n",
       "      <th>16</th>\n",
       "      <td>126</td>\n",
       "      <td>4</td>\n",
       "    </tr>\n",
       "    <tr>\n",
       "      <th>17</th>\n",
       "      <td>61</td>\n",
       "      <td>4</td>\n",
       "    </tr>\n",
       "    <tr>\n",
       "      <th>18</th>\n",
       "      <td>5</td>\n",
       "      <td>4</td>\n",
       "    </tr>\n",
       "    <tr>\n",
       "      <th>19</th>\n",
       "      <td>178</td>\n",
       "      <td>3</td>\n",
       "    </tr>\n",
       "    <tr>\n",
       "      <th>20</th>\n",
       "      <td>44</td>\n",
       "      <td>3</td>\n",
       "    </tr>\n",
       "    <tr>\n",
       "      <th>21</th>\n",
       "      <td>T21-49</td>\n",
       "      <td>3</td>\n",
       "    </tr>\n",
       "    <tr>\n",
       "      <th>22</th>\n",
       "      <td>186</td>\n",
       "      <td>3</td>\n",
       "    </tr>\n",
       "    <tr>\n",
       "      <th>23</th>\n",
       "      <td>147</td>\n",
       "      <td>3</td>\n",
       "    </tr>\n",
       "    <tr>\n",
       "      <th>24</th>\n",
       "      <td>62</td>\n",
       "      <td>3</td>\n",
       "    </tr>\n",
       "    <tr>\n",
       "      <th>25</th>\n",
       "      <td>57</td>\n",
       "      <td>3</td>\n",
       "    </tr>\n",
       "    <tr>\n",
       "      <th>26</th>\n",
       "      <td>10</td>\n",
       "      <td>3</td>\n",
       "    </tr>\n",
       "    <tr>\n",
       "      <th>27</th>\n",
       "      <td>87</td>\n",
       "      <td>3</td>\n",
       "    </tr>\n",
       "    <tr>\n",
       "      <th>28</th>\n",
       "      <td>69</td>\n",
       "      <td>3</td>\n",
       "    </tr>\n",
       "    <tr>\n",
       "      <th>29</th>\n",
       "      <td>39</td>\n",
       "      <td>3</td>\n",
       "    </tr>\n",
       "    <tr>\n",
       "      <th>30</th>\n",
       "      <td>T21-43</td>\n",
       "      <td>3</td>\n",
       "    </tr>\n",
       "    <tr>\n",
       "      <th>31</th>\n",
       "      <td>79</td>\n",
       "      <td>2</td>\n",
       "    </tr>\n",
       "    <tr>\n",
       "      <th>32</th>\n",
       "      <td>T21-5</td>\n",
       "      <td>2</td>\n",
       "    </tr>\n",
       "    <tr>\n",
       "      <th>33</th>\n",
       "      <td>90</td>\n",
       "      <td>2</td>\n",
       "    </tr>\n",
       "    <tr>\n",
       "      <th>34</th>\n",
       "      <td>98</td>\n",
       "      <td>2</td>\n",
       "    </tr>\n",
       "    <tr>\n",
       "      <th>35</th>\n",
       "      <td>84</td>\n",
       "      <td>2</td>\n",
       "    </tr>\n",
       "    <tr>\n",
       "      <th>36</th>\n",
       "      <td>136</td>\n",
       "      <td>2</td>\n",
       "    </tr>\n",
       "    <tr>\n",
       "      <th>37</th>\n",
       "      <td>47</td>\n",
       "      <td>2</td>\n",
       "    </tr>\n",
       "    <tr>\n",
       "      <th>38</th>\n",
       "      <td>118</td>\n",
       "      <td>2</td>\n",
       "    </tr>\n",
       "    <tr>\n",
       "      <th>39</th>\n",
       "      <td>T21-63</td>\n",
       "      <td>2</td>\n",
       "    </tr>\n",
       "    <tr>\n",
       "      <th>40</th>\n",
       "      <td>120</td>\n",
       "      <td>2</td>\n",
       "    </tr>\n",
       "    <tr>\n",
       "      <th>41</th>\n",
       "      <td>59</td>\n",
       "      <td>2</td>\n",
       "    </tr>\n",
       "    <tr>\n",
       "      <th>42</th>\n",
       "      <td>159</td>\n",
       "      <td>2</td>\n",
       "    </tr>\n",
       "    <tr>\n",
       "      <th>43</th>\n",
       "      <td>64</td>\n",
       "      <td>1</td>\n",
       "    </tr>\n",
       "    <tr>\n",
       "      <th>44</th>\n",
       "      <td>165</td>\n",
       "      <td>1</td>\n",
       "    </tr>\n",
       "    <tr>\n",
       "      <th>45</th>\n",
       "      <td>51</td>\n",
       "      <td>1</td>\n",
       "    </tr>\n",
       "    <tr>\n",
       "      <th>46</th>\n",
       "      <td>58</td>\n",
       "      <td>1</td>\n",
       "    </tr>\n",
       "    <tr>\n",
       "      <th>47</th>\n",
       "      <td>83</td>\n",
       "      <td>1</td>\n",
       "    </tr>\n",
       "    <tr>\n",
       "      <th>48</th>\n",
       "      <td>175</td>\n",
       "      <td>1</td>\n",
       "    </tr>\n",
       "    <tr>\n",
       "      <th>49</th>\n",
       "      <td>127</td>\n",
       "      <td>1</td>\n",
       "    </tr>\n",
       "    <tr>\n",
       "      <th>50</th>\n",
       "      <td>106</td>\n",
       "      <td>1</td>\n",
       "    </tr>\n",
       "  </tbody>\n",
       "</table>\n",
       "</div>"
      ],
      "text/plain": [
       "   Record ID  Events\n",
       "0         71       6\n",
       "1         49       5\n",
       "2        155       5\n",
       "3         82       5\n",
       "4        174       5\n",
       "5         77       4\n",
       "6        115       4\n",
       "7         46       4\n",
       "8        192       4\n",
       "9     T21-41       4\n",
       "10     T21-2       4\n",
       "11    T21-58       4\n",
       "12       121       4\n",
       "13       130       4\n",
       "14       135       4\n",
       "15       103       4\n",
       "16       126       4\n",
       "17        61       4\n",
       "18         5       4\n",
       "19       178       3\n",
       "20        44       3\n",
       "21    T21-49       3\n",
       "22       186       3\n",
       "23       147       3\n",
       "24        62       3\n",
       "25        57       3\n",
       "26        10       3\n",
       "27        87       3\n",
       "28        69       3\n",
       "29        39       3\n",
       "30    T21-43       3\n",
       "31        79       2\n",
       "32     T21-5       2\n",
       "33        90       2\n",
       "34        98       2\n",
       "35        84       2\n",
       "36       136       2\n",
       "37        47       2\n",
       "38       118       2\n",
       "39    T21-63       2\n",
       "40       120       2\n",
       "41        59       2\n",
       "42       159       2\n",
       "43        64       1\n",
       "44       165       1\n",
       "45        51       1\n",
       "46        58       1\n",
       "47        83       1\n",
       "48       175       1\n",
       "49       127       1\n",
       "50       106       1"
      ]
     },
     "execution_count": 7,
     "metadata": {},
     "output_type": "execute_result"
    }
   ],
   "source": [
    "# Count the number of events for each 'Record_ID' in events_df\n",
    "event_counts = events_df['Record ID'].value_counts().reset_index()\n",
    "event_counts.columns = ['Record ID', 'Events']\n",
    "event_counts"
   ]
  },
  {
   "cell_type": "code",
   "execution_count": 8,
   "metadata": {},
   "outputs": [
    {
     "data": {
      "text/html": [
       "<div>\n",
       "<style scoped>\n",
       "    .dataframe tbody tr th:only-of-type {\n",
       "        vertical-align: middle;\n",
       "    }\n",
       "\n",
       "    .dataframe tbody tr th {\n",
       "        vertical-align: top;\n",
       "    }\n",
       "\n",
       "    .dataframe thead th {\n",
       "        text-align: right;\n",
       "    }\n",
       "</style>\n",
       "<table border=\"1\" class=\"dataframe\">\n",
       "  <thead>\n",
       "    <tr style=\"text-align: right;\">\n",
       "      <th></th>\n",
       "      <th>Record ID</th>\n",
       "      <th>Visit Timepoint</th>\n",
       "      <th>Antiplatelet Therapy within 7 Days</th>\n",
       "      <th>Anticoagulation within 24 Hours</th>\n",
       "      <th>Statin within 24 Hours</th>\n",
       "      <th>Cilostazol within 7 days</th>\n",
       "      <th>Reaction Time (R) in min</th>\n",
       "      <th>Lysis at 30 min (LY30) in %</th>\n",
       "      <th>CRT Max amplitude (MA) in mm</th>\n",
       "      <th>CFF Max Amplitude( MA) in mm</th>\n",
       "      <th>...</th>\n",
       "      <th>aPTT</th>\n",
       "      <th>PT value</th>\n",
       "      <th>WBC in K/uL</th>\n",
       "      <th>RBC (M/uL)</th>\n",
       "      <th>HGB(g/dL)</th>\n",
       "      <th>HCT %</th>\n",
       "      <th>PLT(K/uL)</th>\n",
       "      <th>BP prior to blood draw</th>\n",
       "      <th>Date of TEG Collection</th>\n",
       "      <th>Events</th>\n",
       "    </tr>\n",
       "  </thead>\n",
       "  <tbody>\n",
       "    <tr>\n",
       "      <th>0</th>\n",
       "      <td>39</td>\n",
       "      <td>Baseline</td>\n",
       "      <td>aspirin, ticagrelor</td>\n",
       "      <td>enoxaparin (Lovenox)</td>\n",
       "      <td>Rosuvastatin</td>\n",
       "      <td>cilostazol</td>\n",
       "      <td>14.02407</td>\n",
       "      <td>1.268491</td>\n",
       "      <td>63.780276</td>\n",
       "      <td>37.48071</td>\n",
       "      <td>...</td>\n",
       "      <td>121.451182</td>\n",
       "      <td>6.723782</td>\n",
       "      <td>12.394838</td>\n",
       "      <td>4.334694</td>\n",
       "      <td>10.318403</td>\n",
       "      <td>47.959012</td>\n",
       "      <td>155.287685</td>\n",
       "      <td>160/95</td>\n",
       "      <td>2007-01-05 00:00:00</td>\n",
       "      <td>3.0</td>\n",
       "    </tr>\n",
       "    <tr>\n",
       "      <th>1</th>\n",
       "      <td>174</td>\n",
       "      <td>Post Op day 1 (4-36 hours)</td>\n",
       "      <td>clopidogrel, celecoxib</td>\n",
       "      <td>enoxaparin (Lovenox)</td>\n",
       "      <td>Simvastatin</td>\n",
       "      <td>cilostazol</td>\n",
       "      <td>3.319251</td>\n",
       "      <td>1.449484</td>\n",
       "      <td>71.128769</td>\n",
       "      <td>26.758913</td>\n",
       "      <td>...</td>\n",
       "      <td>86.95418</td>\n",
       "      <td>13.928991</td>\n",
       "      <td>14.034414</td>\n",
       "      <td>2.288993</td>\n",
       "      <td>8.347336</td>\n",
       "      <td>42.414855</td>\n",
       "      <td>414.026181</td>\n",
       "      <td>243/49</td>\n",
       "      <td>2009-03-06 00:00:00</td>\n",
       "      <td>5.0</td>\n",
       "    </tr>\n",
       "    <tr>\n",
       "      <th>2</th>\n",
       "      <td>T21-58</td>\n",
       "      <td>Post Op day 1 (4-36 hours)</td>\n",
       "      <td>ticagrelor</td>\n",
       "      <td>warfarin (Coumadin)</td>\n",
       "      <td>Lovastatin</td>\n",
       "      <td>cilostazol</td>\n",
       "      <td>8.031243</td>\n",
       "      <td>6.83865</td>\n",
       "      <td>54.706969</td>\n",
       "      <td>18.961554</td>\n",
       "      <td>...</td>\n",
       "      <td>124.331267</td>\n",
       "      <td>18.480140</td>\n",
       "      <td>13.002132</td>\n",
       "      <td>3.189830</td>\n",
       "      <td>15.962208</td>\n",
       "      <td>50.267115</td>\n",
       "      <td>495.118409</td>\n",
       "      <td>185/50</td>\n",
       "      <td>2011-05-06 00:00:00</td>\n",
       "      <td>4.0</td>\n",
       "    </tr>\n",
       "    <tr>\n",
       "      <th>3</th>\n",
       "      <td>155</td>\n",
       "      <td>6hr Post</td>\n",
       "      <td>aspirin, ticagrelor</td>\n",
       "      <td>rivaroxaban</td>\n",
       "      <td>Rosuvastatin</td>\n",
       "      <td>cilostazol</td>\n",
       "      <td>11.993521</td>\n",
       "      <td>inconclusive</td>\n",
       "      <td>71.450849</td>\n",
       "      <td>25.628047</td>\n",
       "      <td>...</td>\n",
       "      <td>91.085144</td>\n",
       "      <td>7.809423</td>\n",
       "      <td>20.652979</td>\n",
       "      <td>5.963962</td>\n",
       "      <td>16.206970</td>\n",
       "      <td>50.746414</td>\n",
       "      <td>506.230494</td>\n",
       "      <td>128/136</td>\n",
       "      <td>2013-07-05 00:00:00</td>\n",
       "      <td>5.0</td>\n",
       "    </tr>\n",
       "    <tr>\n",
       "      <th>4</th>\n",
       "      <td>47</td>\n",
       "      <td>PO Day 2</td>\n",
       "      <td>aspirin, ticagrelor</td>\n",
       "      <td>enoxaprin</td>\n",
       "      <td>atorvastatin</td>\n",
       "      <td>cilostazol</td>\n",
       "      <td>16.477918</td>\n",
       "      <td>10.810169</td>\n",
       "      <td>inconclusive machine error</td>\n",
       "      <td>49.885941</td>\n",
       "      <td>...</td>\n",
       "      <td>430</td>\n",
       "      <td>23.795725</td>\n",
       "      <td>24.328577</td>\n",
       "      <td>2.720811</td>\n",
       "      <td>9.905265</td>\n",
       "      <td>47.706937</td>\n",
       "      <td>139.320557</td>\n",
       "      <td>226/94</td>\n",
       "      <td>2015-09-04 00:00:00</td>\n",
       "      <td>2.0</td>\n",
       "    </tr>\n",
       "  </tbody>\n",
       "</table>\n",
       "<p>5 rows × 38 columns</p>\n",
       "</div>"
      ],
      "text/plain": [
       "  Record ID             Visit Timepoint Antiplatelet Therapy within 7 Days  \\\n",
       "0        39                    Baseline                aspirin, ticagrelor   \n",
       "1       174  Post Op day 1 (4-36 hours)             clopidogrel, celecoxib   \n",
       "2    T21-58  Post Op day 1 (4-36 hours)                         ticagrelor   \n",
       "3       155                    6hr Post                aspirin, ticagrelor   \n",
       "4        47                    PO Day 2                aspirin, ticagrelor   \n",
       "\n",
       "  Anticoagulation within 24 Hours Statin within 24 Hours  \\\n",
       "0            enoxaparin (Lovenox)           Rosuvastatin   \n",
       "1            enoxaparin (Lovenox)            Simvastatin   \n",
       "2             warfarin (Coumadin)             Lovastatin   \n",
       "3                     rivaroxaban           Rosuvastatin   \n",
       "4                       enoxaprin           atorvastatin   \n",
       "\n",
       "  Cilostazol within 7 days Reaction Time (R) in min  \\\n",
       "0               cilostazol                 14.02407   \n",
       "1               cilostazol                 3.319251   \n",
       "2               cilostazol                 8.031243   \n",
       "3               cilostazol                11.993521   \n",
       "4               cilostazol                16.477918   \n",
       "\n",
       "  Lysis at 30 min (LY30) in % CRT Max amplitude (MA) in mm  \\\n",
       "0                    1.268491                    63.780276   \n",
       "1                    1.449484                    71.128769   \n",
       "2                     6.83865                    54.706969   \n",
       "3               inconclusive                     71.450849   \n",
       "4                   10.810169   inconclusive machine error   \n",
       "\n",
       "  CFF Max Amplitude( MA) in mm  ...        aPTT   PT value WBC in K/uL  \\\n",
       "0                     37.48071  ...  121.451182   6.723782   12.394838   \n",
       "1                    26.758913  ...    86.95418  13.928991   14.034414   \n",
       "2                    18.961554  ...  124.331267  18.480140   13.002132   \n",
       "3                    25.628047  ...   91.085144   7.809423   20.652979   \n",
       "4                    49.885941  ...         430  23.795725   24.328577   \n",
       "\n",
       "  RBC (M/uL)  HGB(g/dL)      HCT %   PLT(K/uL) BP prior to blood draw  \\\n",
       "0   4.334694  10.318403  47.959012  155.287685                 160/95   \n",
       "1   2.288993   8.347336  42.414855  414.026181                 243/49   \n",
       "2   3.189830  15.962208  50.267115  495.118409                 185/50   \n",
       "3   5.963962  16.206970  50.746414  506.230494                128/136   \n",
       "4   2.720811   9.905265  47.706937  139.320557                 226/94   \n",
       "\n",
       "  Date of TEG Collection Events  \n",
       "0    2007-01-05 00:00:00    3.0  \n",
       "1    2009-03-06 00:00:00    5.0  \n",
       "2    2011-05-06 00:00:00    4.0  \n",
       "3    2013-07-05 00:00:00    5.0  \n",
       "4    2015-09-04 00:00:00    2.0  \n",
       "\n",
       "[5 rows x 38 columns]"
      ]
     },
     "execution_count": 8,
     "metadata": {},
     "output_type": "execute_result"
    }
   ],
   "source": [
    "# Merge the event counts with the baseline and teg values\n",
    "tegValues_df = tegValues_df.merge(event_counts, on='Record ID', how='left')\n",
    "baseline_df = baseline_df.merge(event_counts, on='Record ID', how='left')\n",
    "\n",
    "# Fill NaN values in the 'event_count' column with 0\n",
    "tegValues_df['Events'].fillna(0, inplace=True)\n",
    "baseline_df['Events'].fillna(0, inplace=True)\n",
    "tegValues_df.head()"
   ]
  },
  {
   "cell_type": "code",
   "execution_count": 9,
   "metadata": {},
   "outputs": [
    {
     "data": {
      "text/html": [
       "<div>\n",
       "<style scoped>\n",
       "    .dataframe tbody tr th:only-of-type {\n",
       "        vertical-align: middle;\n",
       "    }\n",
       "\n",
       "    .dataframe tbody tr th {\n",
       "        vertical-align: top;\n",
       "    }\n",
       "\n",
       "    .dataframe thead th {\n",
       "        text-align: right;\n",
       "    }\n",
       "</style>\n",
       "<table border=\"1\" class=\"dataframe\">\n",
       "  <thead>\n",
       "    <tr style=\"text-align: right;\">\n",
       "      <th></th>\n",
       "      <th>Record ID</th>\n",
       "      <th>Age</th>\n",
       "      <th>Sex</th>\n",
       "      <th>White</th>\n",
       "      <th>Extremity</th>\n",
       "      <th>Artery affected</th>\n",
       "      <th>BMI</th>\n",
       "      <th>Tobacco Use (1 current 2 former, 3 none)</th>\n",
       "      <th>Diabetes</th>\n",
       "      <th>Hypertension</th>\n",
       "      <th>...</th>\n",
       "      <th>Does the patient have a history of solid organ transplant?</th>\n",
       "      <th>EGFR (mL/min/1.73m2)</th>\n",
       "      <th>Has subject had previous intervention of the index limb?</th>\n",
       "      <th>Previous occluded stents</th>\n",
       "      <th>Rutherford Score</th>\n",
       "      <th>ABI Right</th>\n",
       "      <th>ABI left</th>\n",
       "      <th>Intervention Classification</th>\n",
       "      <th>Intervention Type</th>\n",
       "      <th>Events</th>\n",
       "    </tr>\n",
       "  </thead>\n",
       "  <tbody>\n",
       "    <tr>\n",
       "      <th>0</th>\n",
       "      <td>39</td>\n",
       "      <td>81</td>\n",
       "      <td>Male</td>\n",
       "      <td>1</td>\n",
       "      <td>left</td>\n",
       "      <td>common femoral, SFA, popliteal, anterior tibia...</td>\n",
       "      <td>40.373643</td>\n",
       "      <td>current within the last year ( &lt; 1 pack a day)</td>\n",
       "      <td>1</td>\n",
       "      <td>0</td>\n",
       "      <td>...</td>\n",
       "      <td>No</td>\n",
       "      <td>22.03354</td>\n",
       "      <td>Yes</td>\n",
       "      <td>0</td>\n",
       "      <td>4.717162</td>\n",
       "      <td>0.859011</td>\n",
       "      <td>0.104522</td>\n",
       "      <td>Open</td>\n",
       "      <td>angioplasty</td>\n",
       "      <td>3.0</td>\n",
       "    </tr>\n",
       "    <tr>\n",
       "      <th>1</th>\n",
       "      <td>174</td>\n",
       "      <td>70</td>\n",
       "      <td>Male</td>\n",
       "      <td>0</td>\n",
       "      <td>Bilateral</td>\n",
       "      <td>common femoral, SFA, popliteal, posterior tibi...</td>\n",
       "      <td>15.619750</td>\n",
       "      <td>current within the last year (  &gt; or = 1 pack ...</td>\n",
       "      <td>0</td>\n",
       "      <td>1</td>\n",
       "      <td>...</td>\n",
       "      <td>No</td>\n",
       "      <td>&gt;60</td>\n",
       "      <td>0</td>\n",
       "      <td>0</td>\n",
       "      <td>3.561872</td>\n",
       "      <td>0.809203</td>\n",
       "      <td>0.916329</td>\n",
       "      <td>Open</td>\n",
       "      <td>bypass revision</td>\n",
       "      <td>5.0</td>\n",
       "    </tr>\n",
       "    <tr>\n",
       "      <th>2</th>\n",
       "      <td>T21-58</td>\n",
       "      <td>88</td>\n",
       "      <td>Male</td>\n",
       "      <td>1</td>\n",
       "      <td>left</td>\n",
       "      <td>common femoral</td>\n",
       "      <td>37.470921</td>\n",
       "      <td>quit 1 to 10 years ago</td>\n",
       "      <td>1</td>\n",
       "      <td>0</td>\n",
       "      <td>...</td>\n",
       "      <td>Yes</td>\n",
       "      <td>22.006291</td>\n",
       "      <td>No</td>\n",
       "      <td>0</td>\n",
       "      <td>3.659894</td>\n",
       "      <td>1.240163</td>\n",
       "      <td>0.13404</td>\n",
       "      <td>Endo</td>\n",
       "      <td>angioplasty, stent, endarterectomy</td>\n",
       "      <td>4.0</td>\n",
       "    </tr>\n",
       "    <tr>\n",
       "      <th>3</th>\n",
       "      <td>155</td>\n",
       "      <td>78</td>\n",
       "      <td>Male</td>\n",
       "      <td>0</td>\n",
       "      <td>right</td>\n",
       "      <td>SFA, anterior tibial, posterior tibial, extern...</td>\n",
       "      <td>15.888214</td>\n",
       "      <td>quit 1 to 10 years ago</td>\n",
       "      <td>0</td>\n",
       "      <td>0</td>\n",
       "      <td>...</td>\n",
       "      <td>No</td>\n",
       "      <td>6.906499</td>\n",
       "      <td>Yes</td>\n",
       "      <td>Yes</td>\n",
       "      <td>3.525905</td>\n",
       "      <td>0.760655</td>\n",
       "      <td>inaudible</td>\n",
       "      <td>Endo</td>\n",
       "      <td>angioplasty, bypass</td>\n",
       "      <td>5.0</td>\n",
       "    </tr>\n",
       "    <tr>\n",
       "      <th>4</th>\n",
       "      <td>47</td>\n",
       "      <td>84</td>\n",
       "      <td>Female</td>\n",
       "      <td>0</td>\n",
       "      <td>right</td>\n",
       "      <td>SFA, external iliac</td>\n",
       "      <td>31.979733</td>\n",
       "      <td>Past, quit &gt;10 year ago</td>\n",
       "      <td>1</td>\n",
       "      <td>1</td>\n",
       "      <td>...</td>\n",
       "      <td>Yes</td>\n",
       "      <td>11.809767</td>\n",
       "      <td>0</td>\n",
       "      <td>0</td>\n",
       "      <td>1.663111</td>\n",
       "      <td>0.329114</td>\n",
       "      <td>0.244715</td>\n",
       "      <td>Open</td>\n",
       "      <td>bypass revision</td>\n",
       "      <td>2.0</td>\n",
       "    </tr>\n",
       "  </tbody>\n",
       "</table>\n",
       "<p>5 rows × 31 columns</p>\n",
       "</div>"
      ],
      "text/plain": [
       "  Record ID  Age     Sex  White  Extremity  \\\n",
       "0        39   81    Male      1       left   \n",
       "1       174   70    Male      0  Bilateral   \n",
       "2    T21-58   88    Male      1       left   \n",
       "3       155   78    Male      0      right   \n",
       "4        47   84  Female      0      right   \n",
       "\n",
       "                                     Artery affected        BMI  \\\n",
       "0  common femoral, SFA, popliteal, anterior tibia...  40.373643   \n",
       "1  common femoral, SFA, popliteal, posterior tibi...  15.619750   \n",
       "2                                     common femoral  37.470921   \n",
       "3  SFA, anterior tibial, posterior tibial, extern...  15.888214   \n",
       "4                                SFA, external iliac  31.979733   \n",
       "\n",
       "            Tobacco Use (1 current 2 former, 3 none)  Diabetes  Hypertension  \\\n",
       "0     current within the last year ( < 1 pack a day)         1             0   \n",
       "1  current within the last year (  > or = 1 pack ...         0             1   \n",
       "2                             quit 1 to 10 years ago         1             0   \n",
       "3                             quit 1 to 10 years ago         0             0   \n",
       "4                            Past, quit >10 year ago         1             1   \n",
       "\n",
       "   ...  Does the patient have a history of solid organ transplant?  \\\n",
       "0  ...                                                 No            \n",
       "1  ...                                                 No            \n",
       "2  ...                                                Yes            \n",
       "3  ...                                                 No            \n",
       "4  ...                                                Yes            \n",
       "\n",
       "  EGFR (mL/min/1.73m2)  \\\n",
       "0             22.03354   \n",
       "1                  >60   \n",
       "2            22.006291   \n",
       "3             6.906499   \n",
       "4            11.809767   \n",
       "\n",
       "  Has subject had previous intervention of the index limb?  \\\n",
       "0                                                Yes         \n",
       "1                                                  0         \n",
       "2                                                 No         \n",
       "3                                                Yes         \n",
       "4                                                  0         \n",
       "\n",
       "  Previous occluded stents  Rutherford Score  ABI Right   ABI left  \\\n",
       "0                        0          4.717162   0.859011   0.104522   \n",
       "1                        0          3.561872   0.809203   0.916329   \n",
       "2                        0          3.659894   1.240163    0.13404   \n",
       "3                      Yes          3.525905   0.760655  inaudible   \n",
       "4                        0          1.663111   0.329114   0.244715   \n",
       "\n",
       "  Intervention Classification                   Intervention Type Events  \n",
       "0                        Open                         angioplasty    3.0  \n",
       "1                        Open                     bypass revision    5.0  \n",
       "2                        Endo  angioplasty, stent, endarterectomy    4.0  \n",
       "3                        Endo                 angioplasty, bypass    5.0  \n",
       "4                        Open                     bypass revision    2.0  \n",
       "\n",
       "[5 rows x 31 columns]"
      ]
     },
     "execution_count": 9,
     "metadata": {},
     "output_type": "execute_result"
    }
   ],
   "source": [
    "baseline_df.head()"
   ]
  },
  {
   "cell_type": "code",
   "execution_count": 10,
   "metadata": {},
   "outputs": [],
   "source": [
    "# Save in excel\n",
    "excel_file = \"./testData/merged_data.xlsx\"\n",
    "\n",
    "# Create an Excel writer object\n",
    "with pd.ExcelWriter(excel_file, engine='xlsxwriter') as writer:\n",
    "    # Write each DataFrame to a different Excel sheet\n",
    "    tegValues_df.to_excel(writer, sheet_name='TEG values', index=False)\n",
    "    baseline_df.to_excel(writer, sheet_name='Baseline', index=False)\n",
    "\n"
   ]
  },
  {
   "cell_type": "markdown",
   "metadata": {},
   "source": [
    "### Data transformations\n",
    "All columns are being transformed to the best fitting format, according to the information they hold and effectively removing any typos."
   ]
  },
  {
   "cell_type": "code",
   "execution_count": 11,
   "metadata": {},
   "outputs": [],
   "source": [
    "# Clean df in new copy\n",
    "clean_TEG_df = tegValues_df.copy()\n",
    "clean_baseline_df = baseline_df.copy()"
   ]
  },
  {
   "cell_type": "markdown",
   "metadata": {},
   "source": [
    "#### Number\n",
    "Baseline:\n",
    "- Age\n",
    "- BMI\n",
    "- Clotting Disorder\n",
    "- EGFR (mL/min/1.73m2)\n",
    "- BP prior to blood draw\n",
    "- ABI Right\n",
    "- ABI Left\n",
    "- Rutherford Score\n",
    "\n",
    "TEG:\n",
    "- TEG values\n",
    "- Visit Timepoint\n"
   ]
  },
  {
   "cell_type": "code",
   "execution_count": 12,
   "metadata": {},
   "outputs": [
    {
     "data": {
      "text/plain": [
       "['Reaction Time (R) in min',\n",
       " 'Lysis at 30 min (LY30) in %',\n",
       " 'CRT Max amplitude (MA) in mm',\n",
       " 'CFF Max Amplitude( MA) in mm',\n",
       " 'HKH MA (mm)',\n",
       " 'ActF MA (mm)',\n",
       " 'ADP MA (mm)',\n",
       " 'AA MA(mm)',\n",
       " 'ADP % Aggregation',\n",
       " 'ADP % Inhibition',\n",
       " 'AA % Aggregation',\n",
       " 'AA % Inhibition',\n",
       " 'CK R(min)',\n",
       " 'CK K (min)',\n",
       " 'CK angle( deg)',\n",
       " 'CK MA (mm)',\n",
       " 'CRT MA(mm)',\n",
       " 'CKH R (min)',\n",
       " 'CFF MA(mm)',\n",
       " 'CFF FLEV(mg/dL)',\n",
       " 'HbA1c Baseline( within1 year of study start)',\n",
       " 'INR value',\n",
       " 'aPTT',\n",
       " 'PT value',\n",
       " 'WBC in K/uL',\n",
       " 'RBC (M/uL)',\n",
       " 'HGB(g/dL)',\n",
       " 'HCT %',\n",
       " 'PLT(K/uL)',\n",
       " 'Date of TEG Collection']"
      ]
     },
     "execution_count": 12,
     "metadata": {},
     "output_type": "execute_result"
    }
   ],
   "source": [
    "# Find teg values column\n",
    "columns_to_exclude = ['Record ID', 'Visit Timepoint', 'Antiplatelet Therapy within 7 Days',\n",
    "                      'Anticoagulation within 24 Hours', 'Statin within 24 Hours', 'Cilostazol within 7 days',\n",
    "                      'BP prior to blood draw', 'Events']\n",
    "\n",
    "tegValues = [col for col in tegValues_df.columns.values if col not in columns_to_exclude]\n",
    "tegValues"
   ]
  },
  {
   "cell_type": "code",
   "execution_count": 13,
   "metadata": {},
   "outputs": [],
   "source": [
    "number_columns_baseline = [\"Age\",\"BMI\", \"Clotting Disorder\", \"EGFR (mL/min/1.73m2)\", \"ABI Right\", \"ABI left\", \"Rutherford Score\"]\n",
    "number_columns_teg = [\"Visit Timepoint\", \"BP prior to blood draw\"]+tegValues"
   ]
  },
  {
   "cell_type": "markdown",
   "metadata": {},
   "source": [
    "Visualize the values and their types to identify the kind of changes needed"
   ]
  },
  {
   "cell_type": "code",
   "execution_count": 14,
   "metadata": {},
   "outputs": [
    {
     "data": {
      "text/plain": [
       "Visit Timepoint                                  object\n",
       "BP prior to blood draw                           object\n",
       "Reaction Time (R) in min                         object\n",
       "Lysis at 30 min (LY30) in %                      object\n",
       "CRT Max amplitude (MA) in mm                     object\n",
       "CFF Max Amplitude( MA) in mm                     object\n",
       "HKH MA (mm)                                      object\n",
       "ActF MA (mm)                                     object\n",
       "ADP MA (mm)                                      object\n",
       "AA MA(mm)                                        object\n",
       "ADP % Aggregation                                object\n",
       "ADP % Inhibition                                 object\n",
       "AA % Aggregation                                 object\n",
       "AA % Inhibition                                  object\n",
       "CK R(min)                                        object\n",
       "CK K (min)                                       object\n",
       "CK angle( deg)                                   object\n",
       "CK MA (mm)                                       object\n",
       "CRT MA(mm)                                       object\n",
       "CKH R (min)                                      object\n",
       "CFF MA(mm)                                       object\n",
       "CFF FLEV(mg/dL)                                  object\n",
       "HbA1c Baseline( within1 year of study start)    float64\n",
       "INR value                                       float64\n",
       "aPTT                                             object\n",
       "PT value                                        float64\n",
       "WBC in K/uL                                     float64\n",
       "RBC (M/uL)                                      float64\n",
       "HGB(g/dL)                                       float64\n",
       "HCT %                                           float64\n",
       "PLT(K/uL)                                       float64\n",
       "Date of TEG Collection                           object\n",
       "dtype: object"
      ]
     },
     "execution_count": 14,
     "metadata": {},
     "output_type": "execute_result"
    }
   ],
   "source": [
    "clean_TEG_df[number_columns_teg].dtypes\n"
   ]
  },
  {
   "cell_type": "code",
   "execution_count": 15,
   "metadata": {},
   "outputs": [
    {
     "data": {
      "text/plain": [
       "Age                       int64\n",
       "BMI                     float64\n",
       "Clotting Disorder         int64\n",
       "EGFR (mL/min/1.73m2)     object\n",
       "ABI Right                object\n",
       "ABI left                 object\n",
       "Rutherford Score         object\n",
       "dtype: object"
      ]
     },
     "execution_count": 15,
     "metadata": {},
     "output_type": "execute_result"
    }
   ],
   "source": [
    "clean_baseline_df[number_columns_baseline].dtypes"
   ]
  },
  {
   "cell_type": "markdown",
   "metadata": {},
   "source": [
    "Visualize the values "
   ]
  },
  {
   "cell_type": "code",
   "execution_count": 16,
   "metadata": {},
   "outputs": [
    {
     "data": {
      "text/html": [
       "<div>\n",
       "<style scoped>\n",
       "    .dataframe tbody tr th:only-of-type {\n",
       "        vertical-align: middle;\n",
       "    }\n",
       "\n",
       "    .dataframe tbody tr th {\n",
       "        vertical-align: top;\n",
       "    }\n",
       "\n",
       "    .dataframe thead th {\n",
       "        text-align: right;\n",
       "    }\n",
       "</style>\n",
       "<table border=\"1\" class=\"dataframe\">\n",
       "  <thead>\n",
       "    <tr style=\"text-align: right;\">\n",
       "      <th></th>\n",
       "      <th>Visit Timepoint</th>\n",
       "      <th>BP prior to blood draw</th>\n",
       "      <th>Reaction Time (R) in min</th>\n",
       "      <th>Lysis at 30 min (LY30) in %</th>\n",
       "      <th>CRT Max amplitude (MA) in mm</th>\n",
       "      <th>CFF Max Amplitude( MA) in mm</th>\n",
       "      <th>HKH MA (mm)</th>\n",
       "      <th>ActF MA (mm)</th>\n",
       "      <th>ADP MA (mm)</th>\n",
       "      <th>AA MA(mm)</th>\n",
       "      <th>...</th>\n",
       "      <th>HbA1c Baseline( within1 year of study start)</th>\n",
       "      <th>INR value</th>\n",
       "      <th>aPTT</th>\n",
       "      <th>PT value</th>\n",
       "      <th>WBC in K/uL</th>\n",
       "      <th>RBC (M/uL)</th>\n",
       "      <th>HGB(g/dL)</th>\n",
       "      <th>HCT %</th>\n",
       "      <th>PLT(K/uL)</th>\n",
       "      <th>Date of TEG Collection</th>\n",
       "    </tr>\n",
       "  </thead>\n",
       "  <tbody>\n",
       "    <tr>\n",
       "      <th>0</th>\n",
       "      <td>Baseline</td>\n",
       "      <td>160/95</td>\n",
       "      <td>14.02407</td>\n",
       "      <td>1.268491</td>\n",
       "      <td>63.780276</td>\n",
       "      <td>37.48071</td>\n",
       "      <td>60.551078</td>\n",
       "      <td>4.005524</td>\n",
       "      <td>33.115271</td>\n",
       "      <td>66.890611</td>\n",
       "      <td>...</td>\n",
       "      <td>5.764743</td>\n",
       "      <td>151.757216</td>\n",
       "      <td>121.451182</td>\n",
       "      <td>6.723782</td>\n",
       "      <td>12.394838</td>\n",
       "      <td>4.334694</td>\n",
       "      <td>10.318403</td>\n",
       "      <td>47.959012</td>\n",
       "      <td>155.287685</td>\n",
       "      <td>2007-01-05 00:00:00</td>\n",
       "    </tr>\n",
       "    <tr>\n",
       "      <th>1</th>\n",
       "      <td>Post Op day 1 (4-36 hours)</td>\n",
       "      <td>243/49</td>\n",
       "      <td>3.319251</td>\n",
       "      <td>1.449484</td>\n",
       "      <td>71.128769</td>\n",
       "      <td>26.758913</td>\n",
       "      <td>11.638807</td>\n",
       "      <td>&gt;30.0</td>\n",
       "      <td>48.117204</td>\n",
       "      <td>28.182542</td>\n",
       "      <td>...</td>\n",
       "      <td>8.267349</td>\n",
       "      <td>54.147810</td>\n",
       "      <td>86.95418</td>\n",
       "      <td>13.928991</td>\n",
       "      <td>14.034414</td>\n",
       "      <td>2.288993</td>\n",
       "      <td>8.347336</td>\n",
       "      <td>42.414855</td>\n",
       "      <td>414.026181</td>\n",
       "      <td>2009-03-06 00:00:00</td>\n",
       "    </tr>\n",
       "    <tr>\n",
       "      <th>2</th>\n",
       "      <td>Post Op day 1 (4-36 hours)</td>\n",
       "      <td>185/50</td>\n",
       "      <td>8.031243</td>\n",
       "      <td>6.83865</td>\n",
       "      <td>54.706969</td>\n",
       "      <td>18.961554</td>\n",
       "      <td>34.369101</td>\n",
       "      <td>2.900351</td>\n",
       "      <td>38.127375</td>\n",
       "      <td>83.103689</td>\n",
       "      <td>...</td>\n",
       "      <td>5.195084</td>\n",
       "      <td>126.072895</td>\n",
       "      <td>124.331267</td>\n",
       "      <td>18.480140</td>\n",
       "      <td>13.002132</td>\n",
       "      <td>3.189830</td>\n",
       "      <td>15.962208</td>\n",
       "      <td>50.267115</td>\n",
       "      <td>495.118409</td>\n",
       "      <td>2011-05-06 00:00:00</td>\n",
       "    </tr>\n",
       "    <tr>\n",
       "      <th>3</th>\n",
       "      <td>6hr Post</td>\n",
       "      <td>128/136</td>\n",
       "      <td>11.993521</td>\n",
       "      <td>inconclusive</td>\n",
       "      <td>71.450849</td>\n",
       "      <td>25.628047</td>\n",
       "      <td>24.09067</td>\n",
       "      <td>12.91638</td>\n",
       "      <td>&lt;10.0</td>\n",
       "      <td>29.07214</td>\n",
       "      <td>...</td>\n",
       "      <td>6.679559</td>\n",
       "      <td>22.585294</td>\n",
       "      <td>91.085144</td>\n",
       "      <td>7.809423</td>\n",
       "      <td>20.652979</td>\n",
       "      <td>5.963962</td>\n",
       "      <td>16.206970</td>\n",
       "      <td>50.746414</td>\n",
       "      <td>506.230494</td>\n",
       "      <td>2013-07-05 00:00:00</td>\n",
       "    </tr>\n",
       "    <tr>\n",
       "      <th>4</th>\n",
       "      <td>PO Day 2</td>\n",
       "      <td>226/94</td>\n",
       "      <td>16.477918</td>\n",
       "      <td>10.810169</td>\n",
       "      <td>inconclusive machine error</td>\n",
       "      <td>49.885941</td>\n",
       "      <td>25.960299</td>\n",
       "      <td>6.511959</td>\n",
       "      <td>41,2</td>\n",
       "      <td>21.926659</td>\n",
       "      <td>...</td>\n",
       "      <td>8.529165</td>\n",
       "      <td>98.907343</td>\n",
       "      <td>430</td>\n",
       "      <td>23.795725</td>\n",
       "      <td>24.328577</td>\n",
       "      <td>2.720811</td>\n",
       "      <td>9.905265</td>\n",
       "      <td>47.706937</td>\n",
       "      <td>139.320557</td>\n",
       "      <td>2015-09-04 00:00:00</td>\n",
       "    </tr>\n",
       "  </tbody>\n",
       "</table>\n",
       "<p>5 rows × 32 columns</p>\n",
       "</div>"
      ],
      "text/plain": [
       "              Visit Timepoint BP prior to blood draw Reaction Time (R) in min  \\\n",
       "0                    Baseline                 160/95                 14.02407   \n",
       "1  Post Op day 1 (4-36 hours)                 243/49                 3.319251   \n",
       "2  Post Op day 1 (4-36 hours)                 185/50                 8.031243   \n",
       "3                    6hr Post                128/136                11.993521   \n",
       "4                    PO Day 2                 226/94                16.477918   \n",
       "\n",
       "  Lysis at 30 min (LY30) in % CRT Max amplitude (MA) in mm  \\\n",
       "0                    1.268491                    63.780276   \n",
       "1                    1.449484                    71.128769   \n",
       "2                     6.83865                    54.706969   \n",
       "3               inconclusive                     71.450849   \n",
       "4                   10.810169   inconclusive machine error   \n",
       "\n",
       "  CFF Max Amplitude( MA) in mm HKH MA (mm) ActF MA (mm) ADP MA (mm)  \\\n",
       "0                     37.48071   60.551078     4.005524   33.115271   \n",
       "1                    26.758913   11.638807        >30.0   48.117204   \n",
       "2                    18.961554   34.369101     2.900351   38.127375   \n",
       "3                    25.628047    24.09067     12.91638       <10.0   \n",
       "4                    49.885941   25.960299     6.511959        41,2   \n",
       "\n",
       "   AA MA(mm)  ... HbA1c Baseline( within1 year of study start)   INR value  \\\n",
       "0  66.890611  ...                                     5.764743  151.757216   \n",
       "1  28.182542  ...                                     8.267349   54.147810   \n",
       "2  83.103689  ...                                     5.195084  126.072895   \n",
       "3   29.07214  ...                                     6.679559   22.585294   \n",
       "4  21.926659  ...                                     8.529165   98.907343   \n",
       "\n",
       "         aPTT   PT value WBC in K/uL RBC (M/uL)  HGB(g/dL)      HCT %  \\\n",
       "0  121.451182   6.723782   12.394838   4.334694  10.318403  47.959012   \n",
       "1    86.95418  13.928991   14.034414   2.288993   8.347336  42.414855   \n",
       "2  124.331267  18.480140   13.002132   3.189830  15.962208  50.267115   \n",
       "3   91.085144   7.809423   20.652979   5.963962  16.206970  50.746414   \n",
       "4         430  23.795725   24.328577   2.720811   9.905265  47.706937   \n",
       "\n",
       "    PLT(K/uL) Date of TEG Collection  \n",
       "0  155.287685    2007-01-05 00:00:00  \n",
       "1  414.026181    2009-03-06 00:00:00  \n",
       "2  495.118409    2011-05-06 00:00:00  \n",
       "3  506.230494    2013-07-05 00:00:00  \n",
       "4  139.320557    2015-09-04 00:00:00  \n",
       "\n",
       "[5 rows x 32 columns]"
      ]
     },
     "execution_count": 16,
     "metadata": {},
     "output_type": "execute_result"
    }
   ],
   "source": [
    "clean_TEG_df[number_columns_teg].head()"
   ]
  },
  {
   "cell_type": "code",
   "execution_count": 17,
   "metadata": {},
   "outputs": [
    {
     "data": {
      "text/html": [
       "<div>\n",
       "<style scoped>\n",
       "    .dataframe tbody tr th:only-of-type {\n",
       "        vertical-align: middle;\n",
       "    }\n",
       "\n",
       "    .dataframe tbody tr th {\n",
       "        vertical-align: top;\n",
       "    }\n",
       "\n",
       "    .dataframe thead th {\n",
       "        text-align: right;\n",
       "    }\n",
       "</style>\n",
       "<table border=\"1\" class=\"dataframe\">\n",
       "  <thead>\n",
       "    <tr style=\"text-align: right;\">\n",
       "      <th></th>\n",
       "      <th>Age</th>\n",
       "      <th>BMI</th>\n",
       "      <th>Clotting Disorder</th>\n",
       "      <th>EGFR (mL/min/1.73m2)</th>\n",
       "      <th>ABI Right</th>\n",
       "      <th>ABI left</th>\n",
       "      <th>Rutherford Score</th>\n",
       "    </tr>\n",
       "  </thead>\n",
       "  <tbody>\n",
       "    <tr>\n",
       "      <th>0</th>\n",
       "      <td>81</td>\n",
       "      <td>40.373643</td>\n",
       "      <td>2</td>\n",
       "      <td>22.03354</td>\n",
       "      <td>0.859011</td>\n",
       "      <td>0.104522</td>\n",
       "      <td>4.717162</td>\n",
       "    </tr>\n",
       "    <tr>\n",
       "      <th>1</th>\n",
       "      <td>70</td>\n",
       "      <td>15.619750</td>\n",
       "      <td>2</td>\n",
       "      <td>&gt;60</td>\n",
       "      <td>0.809203</td>\n",
       "      <td>0.916329</td>\n",
       "      <td>3.561872</td>\n",
       "    </tr>\n",
       "    <tr>\n",
       "      <th>2</th>\n",
       "      <td>88</td>\n",
       "      <td>37.470921</td>\n",
       "      <td>1</td>\n",
       "      <td>22.006291</td>\n",
       "      <td>1.240163</td>\n",
       "      <td>0.13404</td>\n",
       "      <td>3.659894</td>\n",
       "    </tr>\n",
       "    <tr>\n",
       "      <th>3</th>\n",
       "      <td>78</td>\n",
       "      <td>15.888214</td>\n",
       "      <td>0</td>\n",
       "      <td>6.906499</td>\n",
       "      <td>0.760655</td>\n",
       "      <td>inaudible</td>\n",
       "      <td>3.525905</td>\n",
       "    </tr>\n",
       "    <tr>\n",
       "      <th>4</th>\n",
       "      <td>84</td>\n",
       "      <td>31.979733</td>\n",
       "      <td>1</td>\n",
       "      <td>11.809767</td>\n",
       "      <td>0.329114</td>\n",
       "      <td>0.244715</td>\n",
       "      <td>1.663111</td>\n",
       "    </tr>\n",
       "  </tbody>\n",
       "</table>\n",
       "</div>"
      ],
      "text/plain": [
       "   Age        BMI  Clotting Disorder EGFR (mL/min/1.73m2) ABI Right  \\\n",
       "0   81  40.373643                  2             22.03354  0.859011   \n",
       "1   70  15.619750                  2                  >60  0.809203   \n",
       "2   88  37.470921                  1            22.006291  1.240163   \n",
       "3   78  15.888214                  0             6.906499  0.760655   \n",
       "4   84  31.979733                  1            11.809767  0.329114   \n",
       "\n",
       "    ABI left Rutherford Score  \n",
       "0   0.104522         4.717162  \n",
       "1   0.916329         3.561872  \n",
       "2    0.13404         3.659894  \n",
       "3  inaudible         3.525905  \n",
       "4   0.244715         1.663111  "
      ]
     },
     "execution_count": 17,
     "metadata": {},
     "output_type": "execute_result"
    }
   ],
   "source": [
    "clean_baseline_df[number_columns_baseline].head()"
   ]
  },
  {
   "cell_type": "markdown",
   "metadata": {},
   "source": [
    "Out of the columns visuzlied, age, BMI and clotting dissorder are in the right format.\n",
    "\n",
    "BP needs to be split between systolic and diastolic and made into ints.\n",
    "\n",
    "EGFR is a combination of strings and floats. The string is \">60\", which can be approximated to a big number, like 65. All the other values are floats.\n",
    "TEG values need to be transformed to floats. Some teg values have maximum value stored as \">n\", or say \"inconclusive\" or other string when data was not colected. Those vaues wil be marked as nan\n",
    "Both TEG values and EGFR boundary conditions are saved in the \"./data_boundary.json\" file\n",
    "\n",
    "Visit timepoint is in strings and need to be based on days\n",
    "\n",
    "ABI left and right have some strings that will be converted to NaN values"
   ]
  },
  {
   "cell_type": "markdown",
   "metadata": {},
   "source": [
    "Split BP into two columns (systolic and diastolic) based on \"/\" "
   ]
  },
  {
   "cell_type": "code",
   "execution_count": 18,
   "metadata": {},
   "outputs": [
    {
     "data": {
      "text/plain": [
       "BP_Systolic     Int64\n",
       "BP_Diastolic    Int64\n",
       "dtype: object"
      ]
     },
     "execution_count": 18,
     "metadata": {},
     "output_type": "execute_result"
    }
   ],
   "source": [
    "# Split the column into 'Systolic' and 'Diastolic' columns\n",
    "clean_TEG_df[['BP_Systolic', 'BP_Diastolic']] = clean_TEG_df['BP prior to blood draw'].str.split('/', expand=True)\n",
    "\n",
    "# Convert 'Systolic' and 'Diastolic' columns to integers\n",
    "clean_TEG_df['BP_Systolic'] = pd.to_numeric(clean_TEG_df['BP_Systolic'], errors='coerce').astype('Int64')\n",
    "clean_TEG_df['BP_Diastolic'] = pd.to_numeric(clean_TEG_df['BP_Diastolic'], errors='coerce').astype('Int64')\n",
    "\n",
    "# Drop the first column 'BP prior to blood draw'\n",
    "clean_TEG_df.drop(columns=['BP prior to blood draw'], inplace = True)\n",
    "number_columns_teg.remove('BP prior to blood draw')\n",
    "number_columns_teg.append('BP_Systolic')\n",
    "number_columns_teg.append('BP_Diastolic')\n",
    "\n",
    "clean_TEG_df[['BP_Systolic', 'BP_Diastolic']].dtypes\n"
   ]
  },
  {
   "cell_type": "markdown",
   "metadata": {},
   "source": [
    "Clean EGFR and TEG data with boundary values and convert all to floats"
   ]
  },
  {
   "cell_type": "code",
   "execution_count": 19,
   "metadata": {},
   "outputs": [
    {
     "data": {
      "text/plain": [
       "{'EGFR (mL/min/1.73m2)': {'>60': 60},\n",
       " 'Reaction Time (R) in min': {'>17': 18},\n",
       " 'HKH MA (mm)': {'<42': 40, '>71': 75},\n",
       " 'ActF MA (mm)': {'>30': 35, '<2': 0},\n",
       " 'ADP MA (mm)': {'<10': 5, '>72': 77},\n",
       " 'AA MA(mm)': {'<8': 5},\n",
       " 'CK R(min)': {'>17': 20},\n",
       " 'CK K (min)': {'<': '>', '>5': 8},\n",
       " 'CK angle( deg)': {'<39': 35},\n",
       " 'CK MA (mm)': {'<40': 35, '>75': 80},\n",
       " 'CRT MA(mm)': {'<40': 35, '>75': 80},\n",
       " 'CRT Max amplitude (MA) in mm': {'<40': 35, '>75': 80},\n",
       " 'CKH R (min)': {'>17': 20},\n",
       " 'CFF MA(mm)': {'>52': 55, '<4': 0},\n",
       " 'CFF Max Amplitude( MA) in mm': {'>52': 55, '<4': 0},\n",
       " 'aPTT': {'>150': 160}}"
      ]
     },
     "execution_count": 19,
     "metadata": {},
     "output_type": "execute_result"
    }
   ],
   "source": [
    "# Import boundary values\n",
    "\n",
    "# Get the current working directory (base directory)\n",
    "base_directory = os.getcwd()\n",
    "\n",
    "# Define the filename\n",
    "filename = 'data_boundaries.json'\n",
    "\n",
    "# Create the full file path by joining the base directory and filename\n",
    "file_path = os.path.join(base_directory, 'data', filename)\n",
    "\n",
    "with open(file_path, 'r') as json_file:\n",
    "    boundaries = json.load(json_file)\n",
    "boundaries"
   ]
  },
  {
   "cell_type": "code",
   "execution_count": 20,
   "metadata": {},
   "outputs": [
    {
     "data": {
      "text/html": [
       "<div>\n",
       "<style scoped>\n",
       "    .dataframe tbody tr th:only-of-type {\n",
       "        vertical-align: middle;\n",
       "    }\n",
       "\n",
       "    .dataframe tbody tr th {\n",
       "        vertical-align: top;\n",
       "    }\n",
       "\n",
       "    .dataframe thead th {\n",
       "        text-align: right;\n",
       "    }\n",
       "</style>\n",
       "<table border=\"1\" class=\"dataframe\">\n",
       "  <thead>\n",
       "    <tr style=\"text-align: right;\">\n",
       "      <th></th>\n",
       "      <th>Reaction Time (R) in min</th>\n",
       "      <th>HKH MA (mm)</th>\n",
       "      <th>ActF MA (mm)</th>\n",
       "      <th>ADP MA (mm)</th>\n",
       "      <th>AA MA(mm)</th>\n",
       "      <th>CK R(min)</th>\n",
       "      <th>CK K (min)</th>\n",
       "      <th>CK angle( deg)</th>\n",
       "      <th>CK MA (mm)</th>\n",
       "      <th>CRT MA(mm)</th>\n",
       "      <th>CRT Max amplitude (MA) in mm</th>\n",
       "      <th>CKH R (min)</th>\n",
       "      <th>CFF MA(mm)</th>\n",
       "      <th>CFF Max Amplitude( MA) in mm</th>\n",
       "      <th>aPTT</th>\n",
       "    </tr>\n",
       "  </thead>\n",
       "  <tbody>\n",
       "    <tr>\n",
       "      <th>0</th>\n",
       "      <td>14.02407</td>\n",
       "      <td>60.551078</td>\n",
       "      <td>4.005524</td>\n",
       "      <td>33.115271</td>\n",
       "      <td>66.890611</td>\n",
       "      <td>530.964454</td>\n",
       "      <td>2.74555</td>\n",
       "      <td>35</td>\n",
       "      <td>35</td>\n",
       "      <td>65.81586</td>\n",
       "      <td>63.780276</td>\n",
       "      <td>31.275554</td>\n",
       "      <td>8.07024</td>\n",
       "      <td>37.48071</td>\n",
       "      <td>121.451182</td>\n",
       "    </tr>\n",
       "    <tr>\n",
       "      <th>1</th>\n",
       "      <td>3.319251</td>\n",
       "      <td>11.638807</td>\n",
       "      <td>35</td>\n",
       "      <td>48.117204</td>\n",
       "      <td>28.182542</td>\n",
       "      <td>372.62224</td>\n",
       "      <td>3.262636</td>\n",
       "      <td>54.664768</td>\n",
       "      <td>23.262281</td>\n",
       "      <td>50.963654</td>\n",
       "      <td>71.128769</td>\n",
       "      <td>22.664393</td>\n",
       "      <td>21.015413</td>\n",
       "      <td>26.758913</td>\n",
       "      <td>86.95418</td>\n",
       "    </tr>\n",
       "    <tr>\n",
       "      <th>2</th>\n",
       "      <td>8.031243</td>\n",
       "      <td>34.369101</td>\n",
       "      <td>2.900351</td>\n",
       "      <td>38.127375</td>\n",
       "      <td>83.103689</td>\n",
       "      <td>inconclusive</td>\n",
       "      <td>3.689334</td>\n",
       "      <td>72.802085</td>\n",
       "      <td>43.586144</td>\n",
       "      <td>85.057179</td>\n",
       "      <td>54.706969</td>\n",
       "      <td>2.36893</td>\n",
       "      <td>44.863261</td>\n",
       "      <td>18.961554</td>\n",
       "      <td>124.331267</td>\n",
       "    </tr>\n",
       "    <tr>\n",
       "      <th>3</th>\n",
       "      <td>11.993521</td>\n",
       "      <td>24.09067</td>\n",
       "      <td>12.91638</td>\n",
       "      <td>5</td>\n",
       "      <td>29.07214</td>\n",
       "      <td>542.831464</td>\n",
       "      <td>3.553863</td>\n",
       "      <td>35</td>\n",
       "      <td>notavailable</td>\n",
       "      <td>79.124757</td>\n",
       "      <td>71.450849</td>\n",
       "      <td>5.514348</td>\n",
       "      <td>34.688881</td>\n",
       "      <td>25.628047</td>\n",
       "      <td>91.085144</td>\n",
       "    </tr>\n",
       "    <tr>\n",
       "      <th>4</th>\n",
       "      <td>16.477918</td>\n",
       "      <td>25.960299</td>\n",
       "      <td>6.511959</td>\n",
       "      <td>41,2</td>\n",
       "      <td>21.926659</td>\n",
       "      <td>29.84655</td>\n",
       "      <td>13.679995</td>\n",
       "      <td>53.155152</td>\n",
       "      <td>45.6435</td>\n",
       "      <td>59.05018</td>\n",
       "      <td>inconclusivemachineerror</td>\n",
       "      <td>28.279901</td>\n",
       "      <td>40.481286</td>\n",
       "      <td>49.885941</td>\n",
       "      <td>430</td>\n",
       "    </tr>\n",
       "  </tbody>\n",
       "</table>\n",
       "</div>"
      ],
      "text/plain": [
       "  Reaction Time (R) in min HKH MA (mm) ActF MA (mm) ADP MA (mm)  AA MA(mm)  \\\n",
       "0                 14.02407   60.551078     4.005524   33.115271  66.890611   \n",
       "1                 3.319251   11.638807           35   48.117204  28.182542   \n",
       "2                 8.031243   34.369101     2.900351   38.127375  83.103689   \n",
       "3                11.993521    24.09067     12.91638           5   29.07214   \n",
       "4                16.477918   25.960299     6.511959        41,2  21.926659   \n",
       "\n",
       "      CK R(min) CK K (min) CK angle( deg)    CK MA (mm) CRT MA(mm)  \\\n",
       "0    530.964454    2.74555             35            35   65.81586   \n",
       "1     372.62224   3.262636      54.664768     23.262281  50.963654   \n",
       "2  inconclusive   3.689334      72.802085     43.586144  85.057179   \n",
       "3    542.831464   3.553863             35  notavailable  79.124757   \n",
       "4      29.84655  13.679995      53.155152       45.6435   59.05018   \n",
       "\n",
       "  CRT Max amplitude (MA) in mm CKH R (min) CFF MA(mm)  \\\n",
       "0                    63.780276   31.275554    8.07024   \n",
       "1                    71.128769   22.664393  21.015413   \n",
       "2                    54.706969     2.36893  44.863261   \n",
       "3                    71.450849    5.514348  34.688881   \n",
       "4     inconclusivemachineerror   28.279901  40.481286   \n",
       "\n",
       "  CFF Max Amplitude( MA) in mm        aPTT  \n",
       "0                     37.48071  121.451182  \n",
       "1                    26.758913    86.95418  \n",
       "2                    18.961554  124.331267  \n",
       "3                    25.628047   91.085144  \n",
       "4                    49.885941         430  "
      ]
     },
     "execution_count": 20,
     "metadata": {},
     "output_type": "execute_result"
    }
   ],
   "source": [
    "# Replace all boundary values with their correcponding right values\n",
    "\n",
    "# EGFR\n",
    "egfr_column = 'EGFR (mL/min/1.73m2)'\n",
    "efgr_replacement = boundaries.pop(egfr_column, None)\n",
    "# Remove spaces in the column\n",
    "clean_baseline_df[egfr_column] = clean_baseline_df[egfr_column].replace(regex={r'\\s': ''})\n",
    "\n",
    "# Use a regular expression to match and replace values\n",
    "for name, replacement in efgr_replacement.items():\n",
    "    clean_baseline_df[egfr_column] = clean_baseline_df[egfr_column].replace({f'^{name}': replacement}, regex=True)\n",
    "\n",
    "# Iterate over TEG DataFrame and apply boundaries\n",
    "for column, replacement_dict in boundaries.items():\n",
    "    \n",
    "    # Remove spaces in the column\n",
    "    clean_TEG_df[column] = clean_TEG_df[column].replace(regex={r'\\s': ''})\n",
    "    \n",
    "    # Use a regular expression to match and replace values\n",
    "    for name, replacement in replacement_dict.items():\n",
    "        clean_TEG_df[column] = clean_TEG_df[column].replace({f'^{name}': replacement}, regex=True)\n",
    "\n",
    "# Show changes    \n",
    "clean_TEG_df[list(boundaries.keys())].head()"
   ]
  },
  {
   "cell_type": "code",
   "execution_count": 21,
   "metadata": {},
   "outputs": [
    {
     "data": {
      "text/plain": [
       "0    22.033540\n",
       "1    60.000000\n",
       "2    22.006291\n",
       "3     6.906499\n",
       "4    11.809767\n",
       "Name: EGFR (mL/min/1.73m2), dtype: float64"
      ]
     },
     "execution_count": 21,
     "metadata": {},
     "output_type": "execute_result"
    }
   ],
   "source": [
    "# Show changes\n",
    "clean_baseline_df[egfr_column].head()"
   ]
  },
  {
   "cell_type": "code",
   "execution_count": 22,
   "metadata": {},
   "outputs": [
    {
     "data": {
      "text/plain": [
       "dtype('float64')"
      ]
     },
     "execution_count": 22,
     "metadata": {},
     "output_type": "execute_result"
    }
   ],
   "source": [
    "# Convert  Rutherford Score and TEG values to float\n",
    "clean_baseline_df[\"Rutherford Score\"] = pd.to_numeric(clean_baseline_df[\"Rutherford Score\"], errors='coerce')\n",
    "clean_baseline_df[\"Rutherford Score\"].dtypes\n"
   ]
  },
  {
   "cell_type": "code",
   "execution_count": 23,
   "metadata": {},
   "outputs": [
    {
     "data": {
      "text/plain": [
       "Reaction Time (R) in min                        float64\n",
       "Lysis at 30 min (LY30) in %                     float64\n",
       "CRT Max amplitude (MA) in mm                    float64\n",
       "CFF Max Amplitude( MA) in mm                    float64\n",
       "HKH MA (mm)                                     float64\n",
       "ActF MA (mm)                                    float64\n",
       "ADP MA (mm)                                     float64\n",
       "AA MA(mm)                                       float64\n",
       "ADP % Aggregation                               float64\n",
       "ADP % Inhibition                                float64\n",
       "AA % Aggregation                                float64\n",
       "AA % Inhibition                                 float64\n",
       "CK R(min)                                       float64\n",
       "CK K (min)                                      float64\n",
       "CK angle( deg)                                  float64\n",
       "CK MA (mm)                                      float64\n",
       "CRT MA(mm)                                      float64\n",
       "CKH R (min)                                     float64\n",
       "CFF MA(mm)                                      float64\n",
       "CFF FLEV(mg/dL)                                 float64\n",
       "HbA1c Baseline( within1 year of study start)    float64\n",
       "INR value                                       float64\n",
       "aPTT                                            float64\n",
       "PT value                                        float64\n",
       "WBC in K/uL                                     float64\n",
       "RBC (M/uL)                                      float64\n",
       "HGB(g/dL)                                       float64\n",
       "HCT %                                           float64\n",
       "PLT(K/uL)                                       float64\n",
       "Date of TEG Collection                          float64\n",
       "dtype: object"
      ]
     },
     "execution_count": 23,
     "metadata": {},
     "output_type": "execute_result"
    }
   ],
   "source": [
    "# Loop through the columns and convert to numeric\n",
    "for column in tegValues:\n",
    "    clean_TEG_df[column] = pd.to_numeric(clean_TEG_df[column], errors='coerce')\n",
    "\n",
    "clean_TEG_df[tegValues].dtypes"
   ]
  },
  {
   "cell_type": "code",
   "execution_count": 24,
   "metadata": {},
   "outputs": [
    {
     "data": {
      "text/html": [
       "<div>\n",
       "<style scoped>\n",
       "    .dataframe tbody tr th:only-of-type {\n",
       "        vertical-align: middle;\n",
       "    }\n",
       "\n",
       "    .dataframe tbody tr th {\n",
       "        vertical-align: top;\n",
       "    }\n",
       "\n",
       "    .dataframe thead th {\n",
       "        text-align: right;\n",
       "    }\n",
       "</style>\n",
       "<table border=\"1\" class=\"dataframe\">\n",
       "  <thead>\n",
       "    <tr style=\"text-align: right;\">\n",
       "      <th></th>\n",
       "      <th>Reaction Time (R) in min</th>\n",
       "      <th>Lysis at 30 min (LY30) in %</th>\n",
       "      <th>CRT Max amplitude (MA) in mm</th>\n",
       "      <th>CFF Max Amplitude( MA) in mm</th>\n",
       "      <th>HKH MA (mm)</th>\n",
       "      <th>ActF MA (mm)</th>\n",
       "      <th>ADP MA (mm)</th>\n",
       "      <th>AA MA(mm)</th>\n",
       "      <th>ADP % Aggregation</th>\n",
       "      <th>ADP % Inhibition</th>\n",
       "      <th>...</th>\n",
       "      <th>HbA1c Baseline( within1 year of study start)</th>\n",
       "      <th>INR value</th>\n",
       "      <th>aPTT</th>\n",
       "      <th>PT value</th>\n",
       "      <th>WBC in K/uL</th>\n",
       "      <th>RBC (M/uL)</th>\n",
       "      <th>HGB(g/dL)</th>\n",
       "      <th>HCT %</th>\n",
       "      <th>PLT(K/uL)</th>\n",
       "      <th>Date of TEG Collection</th>\n",
       "    </tr>\n",
       "  </thead>\n",
       "  <tbody>\n",
       "    <tr>\n",
       "      <th>0</th>\n",
       "      <td>14.024070</td>\n",
       "      <td>1.268491</td>\n",
       "      <td>63.780276</td>\n",
       "      <td>37.480710</td>\n",
       "      <td>60.551078</td>\n",
       "      <td>4.005524</td>\n",
       "      <td>33.115271</td>\n",
       "      <td>66.890611</td>\n",
       "      <td>7.101021</td>\n",
       "      <td>24.874173</td>\n",
       "      <td>...</td>\n",
       "      <td>5.764743</td>\n",
       "      <td>151.757216</td>\n",
       "      <td>121.451182</td>\n",
       "      <td>6.723782</td>\n",
       "      <td>12.394838</td>\n",
       "      <td>4.334694</td>\n",
       "      <td>10.318403</td>\n",
       "      <td>47.959012</td>\n",
       "      <td>155.287685</td>\n",
       "      <td>NaN</td>\n",
       "    </tr>\n",
       "    <tr>\n",
       "      <th>1</th>\n",
       "      <td>3.319251</td>\n",
       "      <td>1.449484</td>\n",
       "      <td>71.128769</td>\n",
       "      <td>26.758913</td>\n",
       "      <td>11.638807</td>\n",
       "      <td>35.000000</td>\n",
       "      <td>48.117204</td>\n",
       "      <td>28.182542</td>\n",
       "      <td>74.891506</td>\n",
       "      <td>24.730532</td>\n",
       "      <td>...</td>\n",
       "      <td>8.267349</td>\n",
       "      <td>54.147810</td>\n",
       "      <td>86.954180</td>\n",
       "      <td>13.928991</td>\n",
       "      <td>14.034414</td>\n",
       "      <td>2.288993</td>\n",
       "      <td>8.347336</td>\n",
       "      <td>42.414855</td>\n",
       "      <td>414.026181</td>\n",
       "      <td>NaN</td>\n",
       "    </tr>\n",
       "    <tr>\n",
       "      <th>2</th>\n",
       "      <td>8.031243</td>\n",
       "      <td>6.838650</td>\n",
       "      <td>54.706969</td>\n",
       "      <td>18.961554</td>\n",
       "      <td>34.369101</td>\n",
       "      <td>2.900351</td>\n",
       "      <td>38.127375</td>\n",
       "      <td>83.103689</td>\n",
       "      <td>54.041213</td>\n",
       "      <td>4.576856</td>\n",
       "      <td>...</td>\n",
       "      <td>5.195084</td>\n",
       "      <td>126.072895</td>\n",
       "      <td>124.331267</td>\n",
       "      <td>18.480140</td>\n",
       "      <td>13.002132</td>\n",
       "      <td>3.189830</td>\n",
       "      <td>15.962208</td>\n",
       "      <td>50.267115</td>\n",
       "      <td>495.118409</td>\n",
       "      <td>NaN</td>\n",
       "    </tr>\n",
       "    <tr>\n",
       "      <th>3</th>\n",
       "      <td>11.993521</td>\n",
       "      <td>NaN</td>\n",
       "      <td>71.450849</td>\n",
       "      <td>25.628047</td>\n",
       "      <td>24.090670</td>\n",
       "      <td>12.916380</td>\n",
       "      <td>5.000000</td>\n",
       "      <td>29.072140</td>\n",
       "      <td>34.836606</td>\n",
       "      <td>NaN</td>\n",
       "      <td>...</td>\n",
       "      <td>6.679559</td>\n",
       "      <td>22.585294</td>\n",
       "      <td>91.085144</td>\n",
       "      <td>7.809423</td>\n",
       "      <td>20.652979</td>\n",
       "      <td>5.963962</td>\n",
       "      <td>16.206970</td>\n",
       "      <td>50.746414</td>\n",
       "      <td>506.230494</td>\n",
       "      <td>NaN</td>\n",
       "    </tr>\n",
       "    <tr>\n",
       "      <th>4</th>\n",
       "      <td>16.477918</td>\n",
       "      <td>10.810169</td>\n",
       "      <td>NaN</td>\n",
       "      <td>49.885941</td>\n",
       "      <td>25.960299</td>\n",
       "      <td>6.511959</td>\n",
       "      <td>NaN</td>\n",
       "      <td>21.926659</td>\n",
       "      <td>3.955611</td>\n",
       "      <td>49.750429</td>\n",
       "      <td>...</td>\n",
       "      <td>8.529165</td>\n",
       "      <td>98.907343</td>\n",
       "      <td>430.000000</td>\n",
       "      <td>23.795725</td>\n",
       "      <td>24.328577</td>\n",
       "      <td>2.720811</td>\n",
       "      <td>9.905265</td>\n",
       "      <td>47.706937</td>\n",
       "      <td>139.320557</td>\n",
       "      <td>NaN</td>\n",
       "    </tr>\n",
       "  </tbody>\n",
       "</table>\n",
       "<p>5 rows × 30 columns</p>\n",
       "</div>"
      ],
      "text/plain": [
       "   Reaction Time (R) in min  Lysis at 30 min (LY30) in %  \\\n",
       "0                 14.024070                     1.268491   \n",
       "1                  3.319251                     1.449484   \n",
       "2                  8.031243                     6.838650   \n",
       "3                 11.993521                          NaN   \n",
       "4                 16.477918                    10.810169   \n",
       "\n",
       "   CRT Max amplitude (MA) in mm  CFF Max Amplitude( MA) in mm  HKH MA (mm)  \\\n",
       "0                     63.780276                     37.480710    60.551078   \n",
       "1                     71.128769                     26.758913    11.638807   \n",
       "2                     54.706969                     18.961554    34.369101   \n",
       "3                     71.450849                     25.628047    24.090670   \n",
       "4                           NaN                     49.885941    25.960299   \n",
       "\n",
       "   ActF MA (mm)  ADP MA (mm)  AA MA(mm)  ADP % Aggregation  ADP % Inhibition  \\\n",
       "0      4.005524    33.115271  66.890611           7.101021         24.874173   \n",
       "1     35.000000    48.117204  28.182542          74.891506         24.730532   \n",
       "2      2.900351    38.127375  83.103689          54.041213          4.576856   \n",
       "3     12.916380     5.000000  29.072140          34.836606               NaN   \n",
       "4      6.511959          NaN  21.926659           3.955611         49.750429   \n",
       "\n",
       "   ...  HbA1c Baseline( within1 year of study start)   INR value        aPTT  \\\n",
       "0  ...                                      5.764743  151.757216  121.451182   \n",
       "1  ...                                      8.267349   54.147810   86.954180   \n",
       "2  ...                                      5.195084  126.072895  124.331267   \n",
       "3  ...                                      6.679559   22.585294   91.085144   \n",
       "4  ...                                      8.529165   98.907343  430.000000   \n",
       "\n",
       "    PT value  WBC in K/uL  RBC (M/uL)  HGB(g/dL)      HCT %   PLT(K/uL)  \\\n",
       "0   6.723782    12.394838    4.334694  10.318403  47.959012  155.287685   \n",
       "1  13.928991    14.034414    2.288993   8.347336  42.414855  414.026181   \n",
       "2  18.480140    13.002132    3.189830  15.962208  50.267115  495.118409   \n",
       "3   7.809423    20.652979    5.963962  16.206970  50.746414  506.230494   \n",
       "4  23.795725    24.328577    2.720811   9.905265  47.706937  139.320557   \n",
       "\n",
       "   Date of TEG Collection  \n",
       "0                     NaN  \n",
       "1                     NaN  \n",
       "2                     NaN  \n",
       "3                     NaN  \n",
       "4                     NaN  \n",
       "\n",
       "[5 rows x 30 columns]"
      ]
     },
     "execution_count": 24,
     "metadata": {},
     "output_type": "execute_result"
    }
   ],
   "source": [
    "# Show values to make sure strings were changed to NaN\n",
    "clean_TEG_df[tegValues].head()"
   ]
  },
  {
   "cell_type": "markdown",
   "metadata": {},
   "source": [
    "Change timepoints from strings to ints that represent days after the operation.\n",
    "\n",
    "All the values are saved in ./data/timepoints.json"
   ]
  },
  {
   "cell_type": "code",
   "execution_count": 25,
   "metadata": {},
   "outputs": [
    {
     "data": {
      "text/plain": [
       "{'0': ['Baseline', 'Enrollment + Baseline'],\n",
       " '1': ['6hr Post', 'PO Day 1 ( 4-36 hours)', 'Post Op day 1 (4-36 hours)'],\n",
       " '2': ['PO Day 2', 'Post op Day 2( if applicable)'],\n",
       " '3': ['PO Day 3', 'Post Op Day 3( if applicable)'],\n",
       " '4': ['PO Day 4', 'Post Op Day 4 ( if applicable)'],\n",
       " '5': ['PO day 5', 'Post Op Day 5 ( if applicable)'],\n",
       " '30': ['1M PO', '30 Day Post Procedure'],\n",
       " '90': ['3M PO', '3 Month Post procedure'],\n",
       " '180': ['6M PO', '6 month Post Procedure', 'Readmission']}"
      ]
     },
     "execution_count": 25,
     "metadata": {},
     "output_type": "execute_result"
    }
   ],
   "source": [
    "# Define the filename\n",
    "filename = 'timepoints.json'\n",
    "\n",
    "# Create the full file path by joining the base directory and filename\n",
    "file_path = os.path.join(base_directory, 'data', filename)\n",
    "\n",
    "\n",
    "with open(file_path, 'r') as json_file:\n",
    "    timepoints = json.load(json_file)\n",
    "timepoints"
   ]
  },
  {
   "cell_type": "code",
   "execution_count": 26,
   "metadata": {},
   "outputs": [],
   "source": [
    "# # Create a reverse mapping dictionary CHANGED\n",
    "# reverse_mapping = {v: k for k, values in timepoints.items() for v in values}\n",
    "\n",
    "# # Replace values using the reverse mapping\n",
    "# clean_TEG_df['Days from operation'] = clean_TEG_df['Visit Timepoint'].map(reverse_mapping)\n",
    "\n",
    "# # Convert the column to integer\n",
    "# clean_TEG_df['Days from operation'] = clean_TEG_df['Days from operation'].astype(int)\n",
    "\n",
    "# # Drop old column\n",
    "# clean_TEG_df.drop(columns=['Visit Timepoint'], inplace = True)\n",
    "# number_columns_teg.remove('Visit Timepoint')\n",
    "# number_columns_teg.append('Days from operation')\n"
   ]
  },
  {
   "cell_type": "code",
   "execution_count": 27,
   "metadata": {},
   "outputs": [],
   "source": [
    "#clean_TEG_df['Days from operation'].dtype"
   ]
  },
  {
   "cell_type": "markdown",
   "metadata": {},
   "source": [
    "Convert ABI values to floats"
   ]
  },
  {
   "cell_type": "code",
   "execution_count": 28,
   "metadata": {},
   "outputs": [
    {
     "data": {
      "text/plain": [
       "ABI Right    float64\n",
       "ABI left     float64\n",
       "dtype: object"
      ]
     },
     "execution_count": 28,
     "metadata": {},
     "output_type": "execute_result"
    }
   ],
   "source": [
    "clean_baseline_df['ABI Right'] = pd.to_numeric(clean_baseline_df['ABI Right'], errors='coerce')\n",
    "clean_baseline_df['ABI left'] = pd.to_numeric(clean_baseline_df['ABI left'], errors='coerce')\n",
    "\n",
    "clean_baseline_df[['ABI Right', 'ABI left']].dtypes"
   ]
  },
  {
   "cell_type": "markdown",
   "metadata": {},
   "source": [
    "Appreciate all your work"
   ]
  },
  {
   "cell_type": "code",
   "execution_count": 29,
   "metadata": {},
   "outputs": [
    {
     "data": {
      "text/html": [
       "<div>\n",
       "<style scoped>\n",
       "    .dataframe tbody tr th:only-of-type {\n",
       "        vertical-align: middle;\n",
       "    }\n",
       "\n",
       "    .dataframe tbody tr th {\n",
       "        vertical-align: top;\n",
       "    }\n",
       "\n",
       "    .dataframe thead th {\n",
       "        text-align: right;\n",
       "    }\n",
       "</style>\n",
       "<table border=\"1\" class=\"dataframe\">\n",
       "  <thead>\n",
       "    <tr style=\"text-align: right;\">\n",
       "      <th></th>\n",
       "      <th>Age</th>\n",
       "      <th>BMI</th>\n",
       "      <th>Clotting Disorder</th>\n",
       "      <th>EGFR (mL/min/1.73m2)</th>\n",
       "      <th>ABI Right</th>\n",
       "      <th>ABI left</th>\n",
       "      <th>Rutherford Score</th>\n",
       "    </tr>\n",
       "  </thead>\n",
       "  <tbody>\n",
       "    <tr>\n",
       "      <th>0</th>\n",
       "      <td>81</td>\n",
       "      <td>40.373643</td>\n",
       "      <td>2</td>\n",
       "      <td>22.033540</td>\n",
       "      <td>0.859011</td>\n",
       "      <td>0.104522</td>\n",
       "      <td>4.717162</td>\n",
       "    </tr>\n",
       "    <tr>\n",
       "      <th>1</th>\n",
       "      <td>70</td>\n",
       "      <td>15.619750</td>\n",
       "      <td>2</td>\n",
       "      <td>60.000000</td>\n",
       "      <td>0.809203</td>\n",
       "      <td>0.916329</td>\n",
       "      <td>3.561872</td>\n",
       "    </tr>\n",
       "    <tr>\n",
       "      <th>2</th>\n",
       "      <td>88</td>\n",
       "      <td>37.470921</td>\n",
       "      <td>1</td>\n",
       "      <td>22.006291</td>\n",
       "      <td>1.240163</td>\n",
       "      <td>0.134040</td>\n",
       "      <td>3.659894</td>\n",
       "    </tr>\n",
       "    <tr>\n",
       "      <th>3</th>\n",
       "      <td>78</td>\n",
       "      <td>15.888214</td>\n",
       "      <td>0</td>\n",
       "      <td>6.906499</td>\n",
       "      <td>0.760655</td>\n",
       "      <td>NaN</td>\n",
       "      <td>3.525905</td>\n",
       "    </tr>\n",
       "    <tr>\n",
       "      <th>4</th>\n",
       "      <td>84</td>\n",
       "      <td>31.979733</td>\n",
       "      <td>1</td>\n",
       "      <td>11.809767</td>\n",
       "      <td>0.329114</td>\n",
       "      <td>0.244715</td>\n",
       "      <td>1.663111</td>\n",
       "    </tr>\n",
       "  </tbody>\n",
       "</table>\n",
       "</div>"
      ],
      "text/plain": [
       "   Age        BMI  Clotting Disorder  EGFR (mL/min/1.73m2)  ABI Right  \\\n",
       "0   81  40.373643                  2             22.033540   0.859011   \n",
       "1   70  15.619750                  2             60.000000   0.809203   \n",
       "2   88  37.470921                  1             22.006291   1.240163   \n",
       "3   78  15.888214                  0              6.906499   0.760655   \n",
       "4   84  31.979733                  1             11.809767   0.329114   \n",
       "\n",
       "   ABI left  Rutherford Score  \n",
       "0  0.104522          4.717162  \n",
       "1  0.916329          3.561872  \n",
       "2  0.134040          3.659894  \n",
       "3       NaN          3.525905  \n",
       "4  0.244715          1.663111  "
      ]
     },
     "execution_count": 29,
     "metadata": {},
     "output_type": "execute_result"
    }
   ],
   "source": [
    "clean_baseline_df[number_columns_baseline].head()"
   ]
  },
  {
   "cell_type": "code",
   "execution_count": 30,
   "metadata": {},
   "outputs": [
    {
     "data": {
      "text/html": [
       "<div>\n",
       "<style scoped>\n",
       "    .dataframe tbody tr th:only-of-type {\n",
       "        vertical-align: middle;\n",
       "    }\n",
       "\n",
       "    .dataframe tbody tr th {\n",
       "        vertical-align: top;\n",
       "    }\n",
       "\n",
       "    .dataframe thead th {\n",
       "        text-align: right;\n",
       "    }\n",
       "</style>\n",
       "<table border=\"1\" class=\"dataframe\">\n",
       "  <thead>\n",
       "    <tr style=\"text-align: right;\">\n",
       "      <th></th>\n",
       "      <th>Visit Timepoint</th>\n",
       "      <th>Reaction Time (R) in min</th>\n",
       "      <th>Lysis at 30 min (LY30) in %</th>\n",
       "      <th>CRT Max amplitude (MA) in mm</th>\n",
       "      <th>CFF Max Amplitude( MA) in mm</th>\n",
       "      <th>HKH MA (mm)</th>\n",
       "      <th>ActF MA (mm)</th>\n",
       "      <th>ADP MA (mm)</th>\n",
       "      <th>AA MA(mm)</th>\n",
       "      <th>ADP % Aggregation</th>\n",
       "      <th>...</th>\n",
       "      <th>aPTT</th>\n",
       "      <th>PT value</th>\n",
       "      <th>WBC in K/uL</th>\n",
       "      <th>RBC (M/uL)</th>\n",
       "      <th>HGB(g/dL)</th>\n",
       "      <th>HCT %</th>\n",
       "      <th>PLT(K/uL)</th>\n",
       "      <th>Date of TEG Collection</th>\n",
       "      <th>BP_Systolic</th>\n",
       "      <th>BP_Diastolic</th>\n",
       "    </tr>\n",
       "  </thead>\n",
       "  <tbody>\n",
       "    <tr>\n",
       "      <th>0</th>\n",
       "      <td>Baseline</td>\n",
       "      <td>14.024070</td>\n",
       "      <td>1.268491</td>\n",
       "      <td>63.780276</td>\n",
       "      <td>37.480710</td>\n",
       "      <td>60.551078</td>\n",
       "      <td>4.005524</td>\n",
       "      <td>33.115271</td>\n",
       "      <td>66.890611</td>\n",
       "      <td>7.101021</td>\n",
       "      <td>...</td>\n",
       "      <td>121.451182</td>\n",
       "      <td>6.723782</td>\n",
       "      <td>12.394838</td>\n",
       "      <td>4.334694</td>\n",
       "      <td>10.318403</td>\n",
       "      <td>47.959012</td>\n",
       "      <td>155.287685</td>\n",
       "      <td>NaN</td>\n",
       "      <td>160</td>\n",
       "      <td>95</td>\n",
       "    </tr>\n",
       "    <tr>\n",
       "      <th>1</th>\n",
       "      <td>Post Op day 1 (4-36 hours)</td>\n",
       "      <td>3.319251</td>\n",
       "      <td>1.449484</td>\n",
       "      <td>71.128769</td>\n",
       "      <td>26.758913</td>\n",
       "      <td>11.638807</td>\n",
       "      <td>35.000000</td>\n",
       "      <td>48.117204</td>\n",
       "      <td>28.182542</td>\n",
       "      <td>74.891506</td>\n",
       "      <td>...</td>\n",
       "      <td>86.954180</td>\n",
       "      <td>13.928991</td>\n",
       "      <td>14.034414</td>\n",
       "      <td>2.288993</td>\n",
       "      <td>8.347336</td>\n",
       "      <td>42.414855</td>\n",
       "      <td>414.026181</td>\n",
       "      <td>NaN</td>\n",
       "      <td>243</td>\n",
       "      <td>49</td>\n",
       "    </tr>\n",
       "    <tr>\n",
       "      <th>2</th>\n",
       "      <td>Post Op day 1 (4-36 hours)</td>\n",
       "      <td>8.031243</td>\n",
       "      <td>6.838650</td>\n",
       "      <td>54.706969</td>\n",
       "      <td>18.961554</td>\n",
       "      <td>34.369101</td>\n",
       "      <td>2.900351</td>\n",
       "      <td>38.127375</td>\n",
       "      <td>83.103689</td>\n",
       "      <td>54.041213</td>\n",
       "      <td>...</td>\n",
       "      <td>124.331267</td>\n",
       "      <td>18.480140</td>\n",
       "      <td>13.002132</td>\n",
       "      <td>3.189830</td>\n",
       "      <td>15.962208</td>\n",
       "      <td>50.267115</td>\n",
       "      <td>495.118409</td>\n",
       "      <td>NaN</td>\n",
       "      <td>185</td>\n",
       "      <td>50</td>\n",
       "    </tr>\n",
       "    <tr>\n",
       "      <th>3</th>\n",
       "      <td>6hr Post</td>\n",
       "      <td>11.993521</td>\n",
       "      <td>NaN</td>\n",
       "      <td>71.450849</td>\n",
       "      <td>25.628047</td>\n",
       "      <td>24.090670</td>\n",
       "      <td>12.916380</td>\n",
       "      <td>5.000000</td>\n",
       "      <td>29.072140</td>\n",
       "      <td>34.836606</td>\n",
       "      <td>...</td>\n",
       "      <td>91.085144</td>\n",
       "      <td>7.809423</td>\n",
       "      <td>20.652979</td>\n",
       "      <td>5.963962</td>\n",
       "      <td>16.206970</td>\n",
       "      <td>50.746414</td>\n",
       "      <td>506.230494</td>\n",
       "      <td>NaN</td>\n",
       "      <td>128</td>\n",
       "      <td>136</td>\n",
       "    </tr>\n",
       "    <tr>\n",
       "      <th>4</th>\n",
       "      <td>PO Day 2</td>\n",
       "      <td>16.477918</td>\n",
       "      <td>10.810169</td>\n",
       "      <td>NaN</td>\n",
       "      <td>49.885941</td>\n",
       "      <td>25.960299</td>\n",
       "      <td>6.511959</td>\n",
       "      <td>NaN</td>\n",
       "      <td>21.926659</td>\n",
       "      <td>3.955611</td>\n",
       "      <td>...</td>\n",
       "      <td>430.000000</td>\n",
       "      <td>23.795725</td>\n",
       "      <td>24.328577</td>\n",
       "      <td>2.720811</td>\n",
       "      <td>9.905265</td>\n",
       "      <td>47.706937</td>\n",
       "      <td>139.320557</td>\n",
       "      <td>NaN</td>\n",
       "      <td>226</td>\n",
       "      <td>94</td>\n",
       "    </tr>\n",
       "  </tbody>\n",
       "</table>\n",
       "<p>5 rows × 33 columns</p>\n",
       "</div>"
      ],
      "text/plain": [
       "              Visit Timepoint  Reaction Time (R) in min  \\\n",
       "0                    Baseline                 14.024070   \n",
       "1  Post Op day 1 (4-36 hours)                  3.319251   \n",
       "2  Post Op day 1 (4-36 hours)                  8.031243   \n",
       "3                    6hr Post                 11.993521   \n",
       "4                    PO Day 2                 16.477918   \n",
       "\n",
       "   Lysis at 30 min (LY30) in %  CRT Max amplitude (MA) in mm  \\\n",
       "0                     1.268491                     63.780276   \n",
       "1                     1.449484                     71.128769   \n",
       "2                     6.838650                     54.706969   \n",
       "3                          NaN                     71.450849   \n",
       "4                    10.810169                           NaN   \n",
       "\n",
       "   CFF Max Amplitude( MA) in mm  HKH MA (mm)  ActF MA (mm)  ADP MA (mm)  \\\n",
       "0                     37.480710    60.551078      4.005524    33.115271   \n",
       "1                     26.758913    11.638807     35.000000    48.117204   \n",
       "2                     18.961554    34.369101      2.900351    38.127375   \n",
       "3                     25.628047    24.090670     12.916380     5.000000   \n",
       "4                     49.885941    25.960299      6.511959          NaN   \n",
       "\n",
       "   AA MA(mm)  ADP % Aggregation  ...        aPTT   PT value  WBC in K/uL  \\\n",
       "0  66.890611           7.101021  ...  121.451182   6.723782    12.394838   \n",
       "1  28.182542          74.891506  ...   86.954180  13.928991    14.034414   \n",
       "2  83.103689          54.041213  ...  124.331267  18.480140    13.002132   \n",
       "3  29.072140          34.836606  ...   91.085144   7.809423    20.652979   \n",
       "4  21.926659           3.955611  ...  430.000000  23.795725    24.328577   \n",
       "\n",
       "   RBC (M/uL)  HGB(g/dL)      HCT %   PLT(K/uL)  Date of TEG Collection  \\\n",
       "0    4.334694  10.318403  47.959012  155.287685                     NaN   \n",
       "1    2.288993   8.347336  42.414855  414.026181                     NaN   \n",
       "2    3.189830  15.962208  50.267115  495.118409                     NaN   \n",
       "3    5.963962  16.206970  50.746414  506.230494                     NaN   \n",
       "4    2.720811   9.905265  47.706937  139.320557                     NaN   \n",
       "\n",
       "   BP_Systolic  BP_Diastolic  \n",
       "0          160            95  \n",
       "1          243            49  \n",
       "2          185            50  \n",
       "3          128           136  \n",
       "4          226            94  \n",
       "\n",
       "[5 rows x 33 columns]"
      ]
     },
     "execution_count": 30,
     "metadata": {},
     "output_type": "execute_result"
    }
   ],
   "source": [
    "clean_TEG_df[number_columns_teg].head()"
   ]
  },
  {
   "cell_type": "markdown",
   "metadata": {},
   "source": [
    "#### Booleans\n",
    "Baseline:\n",
    "- Sex\n",
    "- White\n",
    "- Diabetes\n",
    "- Hypertension\n",
    "- Hyperlipidemia\n",
    "- Coronary Artery Disease\n",
    "- History of MI \n",
    "- Functional impairment\n",
    "- Does Subject Currently have cancer?\n",
    "- Past hx of cancer\n",
    "- Hx of  DVT\n",
    "- Hx of stroke\n",
    "- Hx of pulmonary embolism:\n",
    "- Does the patient have a history of solid organ transplant?\n",
    "- Has subject had previous intervention of the index limb? \n",
    "- Previous occluded stents\n",
    "\n",
    "TEG values:\n",
    "- Cilostazol within 7 days"
   ]
  },
  {
   "cell_type": "code",
   "execution_count": 31,
   "metadata": {},
   "outputs": [
    {
     "data": {
      "text/plain": [
       "0      True\n",
       "1      True\n",
       "2      True\n",
       "3      True\n",
       "4     False\n",
       "5      True\n",
       "6     False\n",
       "7     False\n",
       "8      True\n",
       "9      True\n",
       "10     True\n",
       "11     True\n",
       "12    False\n",
       "13    False\n",
       "14     True\n",
       "15    False\n",
       "16    False\n",
       "17     True\n",
       "18    False\n",
       "19     True\n",
       "20     True\n",
       "21    False\n",
       "22     True\n",
       "23     True\n",
       "24    False\n",
       "25    False\n",
       "26    False\n",
       "27     True\n",
       "28    False\n",
       "29    False\n",
       "30    False\n",
       "31     True\n",
       "32     True\n",
       "33    False\n",
       "34    False\n",
       "35    False\n",
       "36    False\n",
       "37     True\n",
       "38     True\n",
       "39    False\n",
       "40     True\n",
       "41     True\n",
       "42    False\n",
       "43    False\n",
       "44    False\n",
       "45    False\n",
       "46    False\n",
       "47     True\n",
       "48    False\n",
       "49    False\n",
       "50     True\n",
       "51    False\n",
       "Name: Is Male, dtype: bool"
      ]
     },
     "execution_count": 31,
     "metadata": {},
     "output_type": "execute_result"
    }
   ],
   "source": [
    "# Create the 'Is Male' column based on the 'sex' column\n",
    "clean_baseline_df['Is Male'] = (clean_baseline_df['Sex'] == 'Male').astype(bool)\n",
    "\n",
    "# Drop the old 'sex' column\n",
    "clean_baseline_df.drop('Sex', axis=1, inplace=True)\n",
    "clean_baseline_df['Is Male']"
   ]
  },
  {
   "cell_type": "code",
   "execution_count": 32,
   "metadata": {},
   "outputs": [
    {
     "data": {
      "text/html": [
       "<div>\n",
       "<style scoped>\n",
       "    .dataframe tbody tr th:only-of-type {\n",
       "        vertical-align: middle;\n",
       "    }\n",
       "\n",
       "    .dataframe tbody tr th {\n",
       "        vertical-align: top;\n",
       "    }\n",
       "\n",
       "    .dataframe thead th {\n",
       "        text-align: right;\n",
       "    }\n",
       "</style>\n",
       "<table border=\"1\" class=\"dataframe\">\n",
       "  <thead>\n",
       "    <tr style=\"text-align: right;\">\n",
       "      <th></th>\n",
       "      <th>White</th>\n",
       "      <th>Diabetes</th>\n",
       "      <th>Hypertension</th>\n",
       "      <th>Hyperlipidemia (choice=None)</th>\n",
       "      <th>Coronary Artery Disease</th>\n",
       "      <th>History of MI</th>\n",
       "      <th>Functional impairment</th>\n",
       "      <th>Does Subject Currently have cancer?</th>\n",
       "      <th>Past hx of cancer</th>\n",
       "      <th>Hx of  DVT</th>\n",
       "      <th>Hx of stroke</th>\n",
       "      <th>Hx of pulmonary embolism</th>\n",
       "      <th>Does the patient have a history of solid organ transplant?</th>\n",
       "      <th>Has subject had previous intervention of the index limb?</th>\n",
       "      <th>Previous occluded stents</th>\n",
       "    </tr>\n",
       "  </thead>\n",
       "  <tbody>\n",
       "    <tr>\n",
       "      <th>0</th>\n",
       "      <td>1</td>\n",
       "      <td>1</td>\n",
       "      <td>0</td>\n",
       "      <td>1</td>\n",
       "      <td>No</td>\n",
       "      <td>Yes</td>\n",
       "      <td>0</td>\n",
       "      <td>No</td>\n",
       "      <td>No</td>\n",
       "      <td>Yes</td>\n",
       "      <td>No</td>\n",
       "      <td>Yes</td>\n",
       "      <td>No</td>\n",
       "      <td>Yes</td>\n",
       "      <td>0</td>\n",
       "    </tr>\n",
       "    <tr>\n",
       "      <th>1</th>\n",
       "      <td>0</td>\n",
       "      <td>0</td>\n",
       "      <td>1</td>\n",
       "      <td>0</td>\n",
       "      <td>No</td>\n",
       "      <td>Yes</td>\n",
       "      <td>1</td>\n",
       "      <td>No</td>\n",
       "      <td>Yes</td>\n",
       "      <td>No</td>\n",
       "      <td>No</td>\n",
       "      <td>Yes</td>\n",
       "      <td>No</td>\n",
       "      <td>0</td>\n",
       "      <td>0</td>\n",
       "    </tr>\n",
       "    <tr>\n",
       "      <th>2</th>\n",
       "      <td>1</td>\n",
       "      <td>1</td>\n",
       "      <td>0</td>\n",
       "      <td>1</td>\n",
       "      <td>Yes</td>\n",
       "      <td>No</td>\n",
       "      <td>1</td>\n",
       "      <td>Yes</td>\n",
       "      <td>No</td>\n",
       "      <td>No</td>\n",
       "      <td>No</td>\n",
       "      <td>No</td>\n",
       "      <td>Yes</td>\n",
       "      <td>No</td>\n",
       "      <td>0</td>\n",
       "    </tr>\n",
       "    <tr>\n",
       "      <th>3</th>\n",
       "      <td>0</td>\n",
       "      <td>0</td>\n",
       "      <td>0</td>\n",
       "      <td>1</td>\n",
       "      <td>Yes</td>\n",
       "      <td>No</td>\n",
       "      <td>0</td>\n",
       "      <td>No</td>\n",
       "      <td>Yes</td>\n",
       "      <td>No</td>\n",
       "      <td>Yes</td>\n",
       "      <td>Yes</td>\n",
       "      <td>No</td>\n",
       "      <td>Yes</td>\n",
       "      <td>Yes</td>\n",
       "    </tr>\n",
       "    <tr>\n",
       "      <th>4</th>\n",
       "      <td>0</td>\n",
       "      <td>1</td>\n",
       "      <td>1</td>\n",
       "      <td>1</td>\n",
       "      <td>Yes</td>\n",
       "      <td>Yes</td>\n",
       "      <td>0</td>\n",
       "      <td>Yes</td>\n",
       "      <td>No</td>\n",
       "      <td>Yes</td>\n",
       "      <td>No</td>\n",
       "      <td>No</td>\n",
       "      <td>Yes</td>\n",
       "      <td>0</td>\n",
       "      <td>0</td>\n",
       "    </tr>\n",
       "  </tbody>\n",
       "</table>\n",
       "</div>"
      ],
      "text/plain": [
       "   White  Diabetes  Hypertension  Hyperlipidemia (choice=None)  \\\n",
       "0      1         1             0                             1   \n",
       "1      0         0             1                             0   \n",
       "2      1         1             0                             1   \n",
       "3      0         0             0                             1   \n",
       "4      0         1             1                             1   \n",
       "\n",
       "  Coronary Artery Disease History of MI  Functional impairment  \\\n",
       "0                      No           Yes                      0   \n",
       "1                      No           Yes                      1   \n",
       "2                     Yes            No                      1   \n",
       "3                     Yes            No                      0   \n",
       "4                     Yes           Yes                      0   \n",
       "\n",
       "  Does Subject Currently have cancer? Past hx of cancer Hx of  DVT  \\\n",
       "0                                  No                No        Yes   \n",
       "1                                  No               Yes         No   \n",
       "2                                 Yes                No         No   \n",
       "3                                  No               Yes         No   \n",
       "4                                 Yes                No        Yes   \n",
       "\n",
       "  Hx of stroke Hx of pulmonary embolism  \\\n",
       "0           No                      Yes   \n",
       "1           No                      Yes   \n",
       "2           No                       No   \n",
       "3          Yes                      Yes   \n",
       "4           No                       No   \n",
       "\n",
       "  Does the patient have a history of solid organ transplant?  \\\n",
       "0                                                 No           \n",
       "1                                                 No           \n",
       "2                                                Yes           \n",
       "3                                                 No           \n",
       "4                                                Yes           \n",
       "\n",
       "  Has subject had previous intervention of the index limb?  \\\n",
       "0                                                Yes         \n",
       "1                                                  0         \n",
       "2                                                 No         \n",
       "3                                                Yes         \n",
       "4                                                  0         \n",
       "\n",
       "  Previous occluded stents  \n",
       "0                        0  \n",
       "1                        0  \n",
       "2                        0  \n",
       "3                      Yes  \n",
       "4                        0  "
      ]
     },
     "execution_count": 32,
     "metadata": {},
     "output_type": "execute_result"
    }
   ],
   "source": [
    "# Change following columns to booleans\n",
    "columns_to_convert_baseline = ['White', 'Diabetes', 'Hypertension', 'Hyperlipidemia (choice=None)', 'Coronary Artery Disease', 'History of MI',\n",
    "                      'Functional impairment', 'Does Subject Currently have cancer?', 'Past hx of cancer', 'Hx of  DVT', 'Hx of stroke',\n",
    "                      'Hx of pulmonary embolism', 'Does the patient have a history of solid organ transplant?', \n",
    "                      'Has subject had previous intervention of the index limb?', 'Previous occluded stents',]\n",
    "columns_to_convert_TEG =['Cilostazol within 7 days']\n",
    "\n",
    "clean_baseline_df[columns_to_convert_baseline].head()"
   ]
  },
  {
   "cell_type": "code",
   "execution_count": 33,
   "metadata": {},
   "outputs": [
    {
     "data": {
      "text/html": [
       "<div>\n",
       "<style scoped>\n",
       "    .dataframe tbody tr th:only-of-type {\n",
       "        vertical-align: middle;\n",
       "    }\n",
       "\n",
       "    .dataframe tbody tr th {\n",
       "        vertical-align: top;\n",
       "    }\n",
       "\n",
       "    .dataframe thead th {\n",
       "        text-align: right;\n",
       "    }\n",
       "</style>\n",
       "<table border=\"1\" class=\"dataframe\">\n",
       "  <thead>\n",
       "    <tr style=\"text-align: right;\">\n",
       "      <th></th>\n",
       "      <th>Cilostazol within 7 days</th>\n",
       "    </tr>\n",
       "  </thead>\n",
       "  <tbody>\n",
       "    <tr>\n",
       "      <th>0</th>\n",
       "      <td>cilostazol</td>\n",
       "    </tr>\n",
       "    <tr>\n",
       "      <th>1</th>\n",
       "      <td>cilostazol</td>\n",
       "    </tr>\n",
       "    <tr>\n",
       "      <th>2</th>\n",
       "      <td>cilostazol</td>\n",
       "    </tr>\n",
       "    <tr>\n",
       "      <th>3</th>\n",
       "      <td>cilostazol</td>\n",
       "    </tr>\n",
       "    <tr>\n",
       "      <th>4</th>\n",
       "      <td>cilostazol</td>\n",
       "    </tr>\n",
       "  </tbody>\n",
       "</table>\n",
       "</div>"
      ],
      "text/plain": [
       "  Cilostazol within 7 days\n",
       "0               cilostazol\n",
       "1               cilostazol\n",
       "2               cilostazol\n",
       "3               cilostazol\n",
       "4               cilostazol"
      ]
     },
     "execution_count": 33,
     "metadata": {},
     "output_type": "execute_result"
    }
   ],
   "source": [
    "clean_TEG_df[columns_to_convert_TEG].head()"
   ]
  },
  {
   "cell_type": "code",
   "execution_count": 34,
   "metadata": {},
   "outputs": [],
   "source": [
    "# Dictionary for replacement\n",
    "replacement_dict = {'yes': True, 'no': False, '1': True, '0': False, 'cilostazol': True, 'NaN':False}"
   ]
  },
  {
   "cell_type": "code",
   "execution_count": 35,
   "metadata": {},
   "outputs": [
    {
     "data": {
      "text/html": [
       "<div>\n",
       "<style scoped>\n",
       "    .dataframe tbody tr th:only-of-type {\n",
       "        vertical-align: middle;\n",
       "    }\n",
       "\n",
       "    .dataframe tbody tr th {\n",
       "        vertical-align: top;\n",
       "    }\n",
       "\n",
       "    .dataframe thead th {\n",
       "        text-align: right;\n",
       "    }\n",
       "</style>\n",
       "<table border=\"1\" class=\"dataframe\">\n",
       "  <thead>\n",
       "    <tr style=\"text-align: right;\">\n",
       "      <th></th>\n",
       "      <th>White</th>\n",
       "      <th>Diabetes</th>\n",
       "      <th>Hypertension</th>\n",
       "      <th>Hyperlipidemia (choice=None)</th>\n",
       "      <th>Coronary Artery Disease</th>\n",
       "      <th>History of MI</th>\n",
       "      <th>Functional impairment</th>\n",
       "      <th>Does Subject Currently have cancer?</th>\n",
       "      <th>Past hx of cancer</th>\n",
       "      <th>Hx of  DVT</th>\n",
       "      <th>Hx of stroke</th>\n",
       "      <th>Hx of pulmonary embolism</th>\n",
       "      <th>Does the patient have a history of solid organ transplant?</th>\n",
       "      <th>Has subject had previous intervention of the index limb?</th>\n",
       "      <th>Previous occluded stents</th>\n",
       "    </tr>\n",
       "  </thead>\n",
       "  <tbody>\n",
       "    <tr>\n",
       "      <th>0</th>\n",
       "      <td>True</td>\n",
       "      <td>True</td>\n",
       "      <td>False</td>\n",
       "      <td>True</td>\n",
       "      <td>False</td>\n",
       "      <td>True</td>\n",
       "      <td>False</td>\n",
       "      <td>False</td>\n",
       "      <td>False</td>\n",
       "      <td>True</td>\n",
       "      <td>False</td>\n",
       "      <td>True</td>\n",
       "      <td>False</td>\n",
       "      <td>True</td>\n",
       "      <td>False</td>\n",
       "    </tr>\n",
       "    <tr>\n",
       "      <th>1</th>\n",
       "      <td>False</td>\n",
       "      <td>False</td>\n",
       "      <td>True</td>\n",
       "      <td>False</td>\n",
       "      <td>False</td>\n",
       "      <td>True</td>\n",
       "      <td>True</td>\n",
       "      <td>False</td>\n",
       "      <td>True</td>\n",
       "      <td>False</td>\n",
       "      <td>False</td>\n",
       "      <td>True</td>\n",
       "      <td>False</td>\n",
       "      <td>False</td>\n",
       "      <td>False</td>\n",
       "    </tr>\n",
       "    <tr>\n",
       "      <th>2</th>\n",
       "      <td>True</td>\n",
       "      <td>True</td>\n",
       "      <td>False</td>\n",
       "      <td>True</td>\n",
       "      <td>True</td>\n",
       "      <td>False</td>\n",
       "      <td>True</td>\n",
       "      <td>True</td>\n",
       "      <td>False</td>\n",
       "      <td>False</td>\n",
       "      <td>False</td>\n",
       "      <td>False</td>\n",
       "      <td>True</td>\n",
       "      <td>False</td>\n",
       "      <td>False</td>\n",
       "    </tr>\n",
       "    <tr>\n",
       "      <th>3</th>\n",
       "      <td>False</td>\n",
       "      <td>False</td>\n",
       "      <td>False</td>\n",
       "      <td>True</td>\n",
       "      <td>True</td>\n",
       "      <td>False</td>\n",
       "      <td>False</td>\n",
       "      <td>False</td>\n",
       "      <td>True</td>\n",
       "      <td>False</td>\n",
       "      <td>True</td>\n",
       "      <td>True</td>\n",
       "      <td>False</td>\n",
       "      <td>True</td>\n",
       "      <td>True</td>\n",
       "    </tr>\n",
       "    <tr>\n",
       "      <th>4</th>\n",
       "      <td>False</td>\n",
       "      <td>True</td>\n",
       "      <td>True</td>\n",
       "      <td>True</td>\n",
       "      <td>True</td>\n",
       "      <td>True</td>\n",
       "      <td>False</td>\n",
       "      <td>True</td>\n",
       "      <td>False</td>\n",
       "      <td>True</td>\n",
       "      <td>False</td>\n",
       "      <td>False</td>\n",
       "      <td>True</td>\n",
       "      <td>False</td>\n",
       "      <td>False</td>\n",
       "    </tr>\n",
       "  </tbody>\n",
       "</table>\n",
       "</div>"
      ],
      "text/plain": [
       "   White  Diabetes  Hypertension  Hyperlipidemia (choice=None)  \\\n",
       "0   True      True         False                          True   \n",
       "1  False     False          True                         False   \n",
       "2   True      True         False                          True   \n",
       "3  False     False         False                          True   \n",
       "4  False      True          True                          True   \n",
       "\n",
       "   Coronary Artery Disease  History of MI  Functional impairment  \\\n",
       "0                    False           True                  False   \n",
       "1                    False           True                   True   \n",
       "2                     True          False                   True   \n",
       "3                     True          False                  False   \n",
       "4                     True           True                  False   \n",
       "\n",
       "   Does Subject Currently have cancer?  Past hx of cancer  Hx of  DVT  \\\n",
       "0                                False              False        True   \n",
       "1                                False               True       False   \n",
       "2                                 True              False       False   \n",
       "3                                False               True       False   \n",
       "4                                 True              False        True   \n",
       "\n",
       "   Hx of stroke  Hx of pulmonary embolism  \\\n",
       "0         False                      True   \n",
       "1         False                      True   \n",
       "2         False                     False   \n",
       "3          True                      True   \n",
       "4         False                     False   \n",
       "\n",
       "   Does the patient have a history of solid organ transplant?  \\\n",
       "0                                              False            \n",
       "1                                              False            \n",
       "2                                               True            \n",
       "3                                              False            \n",
       "4                                               True            \n",
       "\n",
       "   Has subject had previous intervention of the index limb?  \\\n",
       "0                                               True          \n",
       "1                                              False          \n",
       "2                                              False          \n",
       "3                                               True          \n",
       "4                                              False          \n",
       "\n",
       "   Previous occluded stents  \n",
       "0                     False  \n",
       "1                     False  \n",
       "2                     False  \n",
       "3                      True  \n",
       "4                     False  "
      ]
     },
     "execution_count": 35,
     "metadata": {},
     "output_type": "execute_result"
    }
   ],
   "source": [
    "# Fill NaN values with False\n",
    "clean_baseline_df[columns_to_convert_baseline] = clean_baseline_df[columns_to_convert_baseline].fillna('0')\n",
    "clean_TEG_df[columns_to_convert_TEG] = clean_TEG_df[columns_to_convert_TEG].fillna('0')\n",
    "\n",
    "# Put all columns in lowercase\n",
    "clean_baseline_df[columns_to_convert_baseline] = clean_baseline_df[columns_to_convert_baseline].astype(str)\n",
    "clean_baseline_df[columns_to_convert_baseline] = clean_baseline_df[columns_to_convert_baseline].apply(lambda x: x.str.lower())\n",
    "clean_TEG_df[columns_to_convert_TEG] = clean_TEG_df[columns_to_convert_TEG].astype(str)\n",
    "clean_TEG_df[columns_to_convert_TEG] = clean_TEG_df[columns_to_convert_TEG].apply(lambda x: x.str.lower())\n",
    "\n",
    "# Use the replace method to replace values in multiple columns\n",
    "clean_baseline_df[columns_to_convert_baseline] = clean_baseline_df[columns_to_convert_baseline].replace(replacement_dict).astype(bool)\n",
    "clean_TEG_df[columns_to_convert_TEG] = clean_TEG_df[columns_to_convert_TEG].replace(replacement_dict).astype(bool)\n",
    "\n",
    "clean_baseline_df[columns_to_convert_baseline].head()\n"
   ]
  },
  {
   "cell_type": "code",
   "execution_count": 36,
   "metadata": {},
   "outputs": [
    {
     "data": {
      "text/html": [
       "<div>\n",
       "<style scoped>\n",
       "    .dataframe tbody tr th:only-of-type {\n",
       "        vertical-align: middle;\n",
       "    }\n",
       "\n",
       "    .dataframe tbody tr th {\n",
       "        vertical-align: top;\n",
       "    }\n",
       "\n",
       "    .dataframe thead th {\n",
       "        text-align: right;\n",
       "    }\n",
       "</style>\n",
       "<table border=\"1\" class=\"dataframe\">\n",
       "  <thead>\n",
       "    <tr style=\"text-align: right;\">\n",
       "      <th></th>\n",
       "      <th>Cilostazol within 7 days</th>\n",
       "    </tr>\n",
       "  </thead>\n",
       "  <tbody>\n",
       "    <tr>\n",
       "      <th>0</th>\n",
       "      <td>True</td>\n",
       "    </tr>\n",
       "    <tr>\n",
       "      <th>1</th>\n",
       "      <td>True</td>\n",
       "    </tr>\n",
       "    <tr>\n",
       "      <th>2</th>\n",
       "      <td>True</td>\n",
       "    </tr>\n",
       "    <tr>\n",
       "      <th>3</th>\n",
       "      <td>True</td>\n",
       "    </tr>\n",
       "    <tr>\n",
       "      <th>4</th>\n",
       "      <td>True</td>\n",
       "    </tr>\n",
       "  </tbody>\n",
       "</table>\n",
       "</div>"
      ],
      "text/plain": [
       "   Cilostazol within 7 days\n",
       "0                      True\n",
       "1                      True\n",
       "2                      True\n",
       "3                      True\n",
       "4                      True"
      ]
     },
     "execution_count": 36,
     "metadata": {},
     "output_type": "execute_result"
    }
   ],
   "source": [
    "clean_TEG_df[columns_to_convert_TEG].head()"
   ]
  },
  {
   "cell_type": "markdown",
   "metadata": {},
   "source": [
    "#### Categorical ordinal\n",
    "Baseline:\n",
    "- Tobacco Use\n",
    "- Renal Status"
   ]
  },
  {
   "cell_type": "code",
   "execution_count": 37,
   "metadata": {},
   "outputs": [],
   "source": [
    "# Ordinal encoding map\n",
    "category_orders = {\n",
    "    'Tobacco Use (1 current 2 former, 3 none)': \n",
    "    ['None',\n",
    "    'Past, quit >10 year ago',\n",
    "    'quit 1 to 10 years ago', \n",
    "    'current within the last year ( < 1 pack a day)',\n",
    "    'current within the last year (  > or = 1 pack a day)'],\n",
    "\n",
    "    'Renal Status': \n",
    "    ['Normal', \n",
    "    'GFR 30 to 59', \n",
    "    'GFR 15 to 29', \n",
    "    'GFR<15 or patient is on dialysis',\n",
    "    '1']\n",
    "}"
   ]
  },
  {
   "cell_type": "code",
   "execution_count": 38,
   "metadata": {},
   "outputs": [],
   "source": [
    "# Replace renal status values. Some of the values in the data set mean the same with different words\n",
    "# Define a dictionary to map old values to new values\n",
    "replace_dict = {'GFR 60 to 89': 'Normal', 'Evidence of renal dysfunction ( GFR >90)': 'Normal', '0': 'Normal', 0: 'Normal', 1: \"1\"}\n",
    "\n",
    "clean_baseline_df['Renal Status'] = clean_baseline_df['Renal Status'].replace(replace_dict)\n",
    "\n",
    "# Initialize the OrdinalEncoder with specified category orders\n",
    "encoder = OrdinalEncoder(categories=[category_orders[column] for column in ['Tobacco Use (1 current 2 former, 3 none)', 'Renal Status']])\n",
    "\n",
    "# Fit and transform the selected columns to encode ordinal values\n",
    "clean_baseline_df[['Tobacco Use (1 current 2 former, 3 none)', 'Renal Status']] = encoder.fit_transform(clean_baseline_df[['Tobacco Use (1 current 2 former, 3 none)', 'Renal Status']])\n",
    "\n",
    "# Rename column\n",
    "clean_baseline_df = clean_baseline_df.rename(columns={'Tobacco Use (1 current 2 former, 3 none)': 'Tobacco Use'})"
   ]
  },
  {
   "cell_type": "code",
   "execution_count": 39,
   "metadata": {},
   "outputs": [
    {
     "data": {
      "text/html": [
       "<div>\n",
       "<style scoped>\n",
       "    .dataframe tbody tr th:only-of-type {\n",
       "        vertical-align: middle;\n",
       "    }\n",
       "\n",
       "    .dataframe tbody tr th {\n",
       "        vertical-align: top;\n",
       "    }\n",
       "\n",
       "    .dataframe thead th {\n",
       "        text-align: right;\n",
       "    }\n",
       "</style>\n",
       "<table border=\"1\" class=\"dataframe\">\n",
       "  <thead>\n",
       "    <tr style=\"text-align: right;\">\n",
       "      <th></th>\n",
       "      <th>Tobacco Use</th>\n",
       "      <th>Renal Status</th>\n",
       "    </tr>\n",
       "  </thead>\n",
       "  <tbody>\n",
       "    <tr>\n",
       "      <th>0</th>\n",
       "      <td>3.0</td>\n",
       "      <td>0.0</td>\n",
       "    </tr>\n",
       "    <tr>\n",
       "      <th>1</th>\n",
       "      <td>4.0</td>\n",
       "      <td>4.0</td>\n",
       "    </tr>\n",
       "    <tr>\n",
       "      <th>2</th>\n",
       "      <td>2.0</td>\n",
       "      <td>0.0</td>\n",
       "    </tr>\n",
       "    <tr>\n",
       "      <th>3</th>\n",
       "      <td>2.0</td>\n",
       "      <td>0.0</td>\n",
       "    </tr>\n",
       "    <tr>\n",
       "      <th>4</th>\n",
       "      <td>1.0</td>\n",
       "      <td>0.0</td>\n",
       "    </tr>\n",
       "  </tbody>\n",
       "</table>\n",
       "</div>"
      ],
      "text/plain": [
       "   Tobacco Use  Renal Status\n",
       "0          3.0           0.0\n",
       "1          4.0           4.0\n",
       "2          2.0           0.0\n",
       "3          2.0           0.0\n",
       "4          1.0           0.0"
      ]
     },
     "execution_count": 39,
     "metadata": {},
     "output_type": "execute_result"
    }
   ],
   "source": [
    "clean_baseline_df[['Tobacco Use', 'Renal Status']].head()"
   ]
  },
  {
   "cell_type": "markdown",
   "metadata": {},
   "source": [
    "#### Categorical nominal\n",
    "Baseline:\n",
    "- Extremity\n",
    "- Artery affected\n",
    "- Intervention Classification\n",
    "- Intervention Type\n",
    "\n",
    "TEG values:\n",
    "- Antiplatelet Therapy within 7 Days\n",
    "- Anticoagulation within 24 Hours\n",
    "- Statin within 24 Hours\n"
   ]
  },
  {
   "cell_type": "code",
   "execution_count": 40,
   "metadata": {},
   "outputs": [],
   "source": [
    "columns_to_dummy_baseline = ['Extremity',\n",
    "                    'Intervention Classification']\n",
    "columns_to_dummy_TEG = ['Statin within 24 Hours']"
   ]
  },
  {
   "cell_type": "code",
   "execution_count": 41,
   "metadata": {},
   "outputs": [],
   "source": [
    "# Dummy encoding of categorical values\n",
    "clean_baseline_df = pd.get_dummies(clean_baseline_df, columns=columns_to_dummy_baseline,\n",
    "                    prefix=columns_to_dummy_baseline)\n",
    "clean_TEG_df = pd.get_dummies(clean_TEG_df, columns=columns_to_dummy_TEG,\n",
    "                    prefix=columns_to_dummy_TEG)"
   ]
  },
  {
   "cell_type": "code",
   "execution_count": 42,
   "metadata": {},
   "outputs": [],
   "source": [
    "# Drop unecessary columns\n",
    "clean_baseline_df = clean_baseline_df.drop(columns=['Extremity_left']) # Because it is either right, left or bilateral\n",
    "clean_baseline_df = clean_baseline_df.drop(columns=['Intervention Classification_Endo']) # Either endo, open or combined"
   ]
  },
  {
   "cell_type": "code",
   "execution_count": 43,
   "metadata": {},
   "outputs": [
    {
     "data": {
      "text/html": [
       "<div>\n",
       "<style scoped>\n",
       "    .dataframe tbody tr th:only-of-type {\n",
       "        vertical-align: middle;\n",
       "    }\n",
       "\n",
       "    .dataframe tbody tr th {\n",
       "        vertical-align: top;\n",
       "    }\n",
       "\n",
       "    .dataframe thead th {\n",
       "        text-align: right;\n",
       "    }\n",
       "</style>\n",
       "<table border=\"1\" class=\"dataframe\">\n",
       "  <thead>\n",
       "    <tr style=\"text-align: right;\">\n",
       "      <th></th>\n",
       "      <th>Extremity_Bilateral</th>\n",
       "      <th>Extremity_right</th>\n",
       "      <th>Intervention Classification_Combined</th>\n",
       "      <th>Intervention Classification_Open</th>\n",
       "    </tr>\n",
       "  </thead>\n",
       "  <tbody>\n",
       "    <tr>\n",
       "      <th>0</th>\n",
       "      <td>False</td>\n",
       "      <td>False</td>\n",
       "      <td>False</td>\n",
       "      <td>True</td>\n",
       "    </tr>\n",
       "    <tr>\n",
       "      <th>1</th>\n",
       "      <td>True</td>\n",
       "      <td>False</td>\n",
       "      <td>False</td>\n",
       "      <td>True</td>\n",
       "    </tr>\n",
       "    <tr>\n",
       "      <th>2</th>\n",
       "      <td>False</td>\n",
       "      <td>False</td>\n",
       "      <td>False</td>\n",
       "      <td>False</td>\n",
       "    </tr>\n",
       "    <tr>\n",
       "      <th>3</th>\n",
       "      <td>False</td>\n",
       "      <td>True</td>\n",
       "      <td>False</td>\n",
       "      <td>False</td>\n",
       "    </tr>\n",
       "    <tr>\n",
       "      <th>4</th>\n",
       "      <td>False</td>\n",
       "      <td>True</td>\n",
       "      <td>False</td>\n",
       "      <td>True</td>\n",
       "    </tr>\n",
       "  </tbody>\n",
       "</table>\n",
       "</div>"
      ],
      "text/plain": [
       "   Extremity_Bilateral  Extremity_right  Intervention Classification_Combined  \\\n",
       "0                False            False                                 False   \n",
       "1                 True            False                                 False   \n",
       "2                False            False                                 False   \n",
       "3                False             True                                 False   \n",
       "4                False             True                                 False   \n",
       "\n",
       "   Intervention Classification_Open  \n",
       "0                              True  \n",
       "1                              True  \n",
       "2                             False  \n",
       "3                             False  \n",
       "4                              True  "
      ]
     },
     "execution_count": 43,
     "metadata": {},
     "output_type": "execute_result"
    }
   ],
   "source": [
    "# Show columns \n",
    "# Use the .filter() method to select columns with the original columns prefixes\n",
    "dummy_columns_baseline = [col for col in clean_baseline_df.columns if any(col.startswith(prefix) for prefix in columns_to_dummy_baseline)]\n",
    "clean_baseline_df[dummy_columns_baseline].head()"
   ]
  },
  {
   "cell_type": "code",
   "execution_count": 44,
   "metadata": {},
   "outputs": [
    {
     "data": {
      "text/html": [
       "<div>\n",
       "<style scoped>\n",
       "    .dataframe tbody tr th:only-of-type {\n",
       "        vertical-align: middle;\n",
       "    }\n",
       "\n",
       "    .dataframe tbody tr th {\n",
       "        vertical-align: top;\n",
       "    }\n",
       "\n",
       "    .dataframe thead th {\n",
       "        text-align: right;\n",
       "    }\n",
       "</style>\n",
       "<table border=\"1\" class=\"dataframe\">\n",
       "  <thead>\n",
       "    <tr style=\"text-align: right;\">\n",
       "      <th></th>\n",
       "      <th>Statin within 24 Hours_Lovastatin</th>\n",
       "      <th>Statin within 24 Hours_Pravastatin</th>\n",
       "      <th>Statin within 24 Hours_Rosuvastatin</th>\n",
       "      <th>Statin within 24 Hours_Simvastatin</th>\n",
       "      <th>Statin within 24 Hours_atorvastatin</th>\n",
       "    </tr>\n",
       "  </thead>\n",
       "  <tbody>\n",
       "    <tr>\n",
       "      <th>0</th>\n",
       "      <td>False</td>\n",
       "      <td>False</td>\n",
       "      <td>True</td>\n",
       "      <td>False</td>\n",
       "      <td>False</td>\n",
       "    </tr>\n",
       "    <tr>\n",
       "      <th>1</th>\n",
       "      <td>False</td>\n",
       "      <td>False</td>\n",
       "      <td>False</td>\n",
       "      <td>True</td>\n",
       "      <td>False</td>\n",
       "    </tr>\n",
       "    <tr>\n",
       "      <th>2</th>\n",
       "      <td>True</td>\n",
       "      <td>False</td>\n",
       "      <td>False</td>\n",
       "      <td>False</td>\n",
       "      <td>False</td>\n",
       "    </tr>\n",
       "    <tr>\n",
       "      <th>3</th>\n",
       "      <td>False</td>\n",
       "      <td>False</td>\n",
       "      <td>True</td>\n",
       "      <td>False</td>\n",
       "      <td>False</td>\n",
       "    </tr>\n",
       "    <tr>\n",
       "      <th>4</th>\n",
       "      <td>False</td>\n",
       "      <td>False</td>\n",
       "      <td>False</td>\n",
       "      <td>False</td>\n",
       "      <td>True</td>\n",
       "    </tr>\n",
       "  </tbody>\n",
       "</table>\n",
       "</div>"
      ],
      "text/plain": [
       "   Statin within 24 Hours_Lovastatin  Statin within 24 Hours_Pravastatin  \\\n",
       "0                              False                               False   \n",
       "1                              False                               False   \n",
       "2                               True                               False   \n",
       "3                              False                               False   \n",
       "4                              False                               False   \n",
       "\n",
       "   Statin within 24 Hours_Rosuvastatin  Statin within 24 Hours_Simvastatin  \\\n",
       "0                                 True                               False   \n",
       "1                                False                                True   \n",
       "2                                False                               False   \n",
       "3                                 True                               False   \n",
       "4                                False                               False   \n",
       "\n",
       "   Statin within 24 Hours_atorvastatin  \n",
       "0                                False  \n",
       "1                                False  \n",
       "2                                False  \n",
       "3                                False  \n",
       "4                                 True  "
      ]
     },
     "execution_count": 44,
     "metadata": {},
     "output_type": "execute_result"
    }
   ],
   "source": [
    "dummy_columns_TEG = [col for col in clean_TEG_df.columns if any(col.startswith(prefix) for prefix in columns_to_dummy_TEG)]\n",
    "clean_TEG_df[dummy_columns_TEG].head()"
   ]
  },
  {
   "cell_type": "markdown",
   "metadata": {},
   "source": [
    "The _Artery affected_, _Intervention type_, _Antiplatelet Therapy within 7 Days_, and _Anticoagulation within 24 Hours_ column has multiple values in a sigle string. They will be normalized before being encoded"
   ]
  },
  {
   "cell_type": "markdown",
   "metadata": {},
   "source": [
    "Artery affected"
   ]
  },
  {
   "cell_type": "code",
   "execution_count": 45,
   "metadata": {},
   "outputs": [
    {
     "name": "stdout",
     "output_type": "stream",
     "text": [
      "{'anterior tibial', 'internal iliac', 'common femoral', 'SFA', 'external iliac', 'posterior tibial', 'popliteal', 'aortoiliac'}\n",
      "{'aspirin', 'celecoxib', 'clopidogrel', 'ticagrelor'}\n",
      "{'thrombectomy', 'bypass', 'stent', 'DVA', 'angioplasty', 'bypass revision', 'endarterectomy'}\n",
      "{'rivaroxaban', 'warfarin', 'heparin', 'enoxaprin', 'enoxaparin', 'apixaban'}\n"
     ]
    }
   ],
   "source": [
    "# Get all unique valuses\n",
    "unique_arteries = set()\n",
    "unique_antiplatelet = set()\n",
    "unique_intervention = set()\n",
    "unique_anticoagulation = set()\n",
    "\n",
    "for index, row in clean_baseline_df.iterrows():\n",
    "    # Check if the value is a string before splitting\n",
    "    if isinstance(row['Artery affected'], str):\n",
    "        arteries = row['Artery affected'].split(', ')\n",
    "        unique_arteries.update(arteries)\n",
    "\n",
    "    # Check if the value is a string before splitting\n",
    "    if isinstance(row['Intervention Type'], str):\n",
    "        intervention = row['Intervention Type'].split(', ')\n",
    "        unique_intervention.update(intervention)\n",
    "    \n",
    "\n",
    "for index, row in clean_TEG_df.iterrows():\n",
    "    # Check if the value is a string and not NaN before splitting\n",
    "    if isinstance(row['Antiplatelet Therapy within 7 Days'], str):\n",
    "        antiplatelet = row['Antiplatelet Therapy within 7 Days'].split(', ')\n",
    "        unique_antiplatelet.update(antiplatelet)\n",
    "\n",
    "    # Check if the value is a string and not NaN before splitting\n",
    "    if isinstance(row['Anticoagulation within 24 Hours'], str):\n",
    "        anticoagulation = row['Anticoagulation within 24 Hours'].split(', ')\n",
    "        # Delete items in parenthesis ex: heparin (Calciparine) to be just heparin\n",
    "        anticoagulation = {re.sub(r'\\s*\\([^)]*\\)\\s*', '', item) for item in anticoagulation}\n",
    "        unique_anticoagulation.update(anticoagulation)\n",
    "\n",
    "\n",
    "print(unique_arteries)\n",
    "print(unique_antiplatelet)\n",
    "print(unique_intervention)\n",
    "print(unique_anticoagulation)"
   ]
  },
  {
   "cell_type": "code",
   "execution_count": 46,
   "metadata": {},
   "outputs": [
    {
     "data": {
      "text/html": [
       "<div>\n",
       "<style scoped>\n",
       "    .dataframe tbody tr th:only-of-type {\n",
       "        vertical-align: middle;\n",
       "    }\n",
       "\n",
       "    .dataframe tbody tr th {\n",
       "        vertical-align: top;\n",
       "    }\n",
       "\n",
       "    .dataframe thead th {\n",
       "        text-align: right;\n",
       "    }\n",
       "</style>\n",
       "<table border=\"1\" class=\"dataframe\">\n",
       "  <thead>\n",
       "    <tr style=\"text-align: right;\">\n",
       "      <th></th>\n",
       "      <th>Artery affected_anterior tibial</th>\n",
       "      <th>Artery affected_internal iliac</th>\n",
       "      <th>Artery affected_common femoral</th>\n",
       "      <th>Artery affected_SFA</th>\n",
       "      <th>Artery affected_external iliac</th>\n",
       "      <th>Artery affected_posterior tibial</th>\n",
       "      <th>Artery affected_popliteal</th>\n",
       "      <th>Artery affected_aortoiliac</th>\n",
       "      <th>Artery affected</th>\n",
       "    </tr>\n",
       "  </thead>\n",
       "  <tbody>\n",
       "    <tr>\n",
       "      <th>0</th>\n",
       "      <td>1</td>\n",
       "      <td>0</td>\n",
       "      <td>1</td>\n",
       "      <td>1</td>\n",
       "      <td>0</td>\n",
       "      <td>1</td>\n",
       "      <td>1</td>\n",
       "      <td>1</td>\n",
       "      <td>common femoral, SFA, popliteal, anterior tibia...</td>\n",
       "    </tr>\n",
       "    <tr>\n",
       "      <th>1</th>\n",
       "      <td>0</td>\n",
       "      <td>1</td>\n",
       "      <td>1</td>\n",
       "      <td>1</td>\n",
       "      <td>1</td>\n",
       "      <td>1</td>\n",
       "      <td>1</td>\n",
       "      <td>0</td>\n",
       "      <td>common femoral, SFA, popliteal, posterior tibi...</td>\n",
       "    </tr>\n",
       "    <tr>\n",
       "      <th>2</th>\n",
       "      <td>0</td>\n",
       "      <td>0</td>\n",
       "      <td>1</td>\n",
       "      <td>0</td>\n",
       "      <td>0</td>\n",
       "      <td>0</td>\n",
       "      <td>0</td>\n",
       "      <td>0</td>\n",
       "      <td>common femoral</td>\n",
       "    </tr>\n",
       "    <tr>\n",
       "      <th>3</th>\n",
       "      <td>1</td>\n",
       "      <td>0</td>\n",
       "      <td>0</td>\n",
       "      <td>1</td>\n",
       "      <td>1</td>\n",
       "      <td>1</td>\n",
       "      <td>0</td>\n",
       "      <td>0</td>\n",
       "      <td>SFA, anterior tibial, posterior tibial, extern...</td>\n",
       "    </tr>\n",
       "    <tr>\n",
       "      <th>4</th>\n",
       "      <td>0</td>\n",
       "      <td>0</td>\n",
       "      <td>0</td>\n",
       "      <td>1</td>\n",
       "      <td>1</td>\n",
       "      <td>0</td>\n",
       "      <td>0</td>\n",
       "      <td>0</td>\n",
       "      <td>SFA, external iliac</td>\n",
       "    </tr>\n",
       "  </tbody>\n",
       "</table>\n",
       "</div>"
      ],
      "text/plain": [
       "   Artery affected_anterior tibial  Artery affected_internal iliac  \\\n",
       "0                                1                               0   \n",
       "1                                0                               1   \n",
       "2                                0                               0   \n",
       "3                                1                               0   \n",
       "4                                0                               0   \n",
       "\n",
       "   Artery affected_common femoral  Artery affected_SFA  \\\n",
       "0                               1                    1   \n",
       "1                               1                    1   \n",
       "2                               1                    0   \n",
       "3                               0                    1   \n",
       "4                               0                    1   \n",
       "\n",
       "   Artery affected_external iliac  Artery affected_posterior tibial  \\\n",
       "0                               0                                 1   \n",
       "1                               1                                 1   \n",
       "2                               0                                 0   \n",
       "3                               1                                 1   \n",
       "4                               1                                 0   \n",
       "\n",
       "   Artery affected_popliteal  Artery affected_aortoiliac  \\\n",
       "0                          1                           1   \n",
       "1                          1                           0   \n",
       "2                          0                           0   \n",
       "3                          0                           0   \n",
       "4                          0                           0   \n",
       "\n",
       "                                     Artery affected  \n",
       "0  common femoral, SFA, popliteal, anterior tibia...  \n",
       "1  common femoral, SFA, popliteal, posterior tibi...  \n",
       "2                                     common femoral  \n",
       "3  SFA, anterior tibial, posterior tibial, extern...  \n",
       "4                                SFA, external iliac  "
      ]
     },
     "execution_count": 46,
     "metadata": {},
     "output_type": "execute_result"
    }
   ],
   "source": [
    "# Dummy encode arteries affected\n",
    "\n",
    "# Fill NaN values with 0 in the 'Artery affected' column\n",
    "clean_baseline_df['Artery affected'].fillna(0, inplace=True)\n",
    "\n",
    "selected_arteries = []\n",
    "for artery in unique_arteries:\n",
    "    column_name = \"Artery affected_\" + artery\n",
    "    # Convert to int after filling NaN with 0\n",
    "    clean_baseline_df[column_name] = clean_baseline_df['Artery affected'].str.contains(artery).fillna(0).astype(int)\n",
    "    selected_arteries.append(column_name)\n",
    "\n",
    "selected_arteries.append('Artery affected')\n",
    "\n",
    "clean_baseline_df[selected_arteries].head()"
   ]
  },
  {
   "cell_type": "code",
   "execution_count": 47,
   "metadata": {},
   "outputs": [
    {
     "data": {
      "text/html": [
       "<div>\n",
       "<style scoped>\n",
       "    .dataframe tbody tr th:only-of-type {\n",
       "        vertical-align: middle;\n",
       "    }\n",
       "\n",
       "    .dataframe tbody tr th {\n",
       "        vertical-align: top;\n",
       "    }\n",
       "\n",
       "    .dataframe thead th {\n",
       "        text-align: right;\n",
       "    }\n",
       "</style>\n",
       "<table border=\"1\" class=\"dataframe\">\n",
       "  <thead>\n",
       "    <tr style=\"text-align: right;\">\n",
       "      <th></th>\n",
       "      <th>Antiplatelet therapy_aspirin</th>\n",
       "      <th>Antiplatelet therapy_celecoxib</th>\n",
       "      <th>Antiplatelet therapy_clopidogrel</th>\n",
       "      <th>Antiplatelet therapy_ticagrelor</th>\n",
       "      <th>Antiplatelet Therapy within 7 Days</th>\n",
       "    </tr>\n",
       "  </thead>\n",
       "  <tbody>\n",
       "    <tr>\n",
       "      <th>0</th>\n",
       "      <td>1</td>\n",
       "      <td>0</td>\n",
       "      <td>0</td>\n",
       "      <td>1</td>\n",
       "      <td>aspirin, ticagrelor</td>\n",
       "    </tr>\n",
       "    <tr>\n",
       "      <th>1</th>\n",
       "      <td>0</td>\n",
       "      <td>1</td>\n",
       "      <td>1</td>\n",
       "      <td>0</td>\n",
       "      <td>clopidogrel, celecoxib</td>\n",
       "    </tr>\n",
       "    <tr>\n",
       "      <th>2</th>\n",
       "      <td>0</td>\n",
       "      <td>0</td>\n",
       "      <td>0</td>\n",
       "      <td>1</td>\n",
       "      <td>ticagrelor</td>\n",
       "    </tr>\n",
       "    <tr>\n",
       "      <th>3</th>\n",
       "      <td>1</td>\n",
       "      <td>0</td>\n",
       "      <td>0</td>\n",
       "      <td>1</td>\n",
       "      <td>aspirin, ticagrelor</td>\n",
       "    </tr>\n",
       "    <tr>\n",
       "      <th>4</th>\n",
       "      <td>1</td>\n",
       "      <td>0</td>\n",
       "      <td>0</td>\n",
       "      <td>1</td>\n",
       "      <td>aspirin, ticagrelor</td>\n",
       "    </tr>\n",
       "  </tbody>\n",
       "</table>\n",
       "</div>"
      ],
      "text/plain": [
       "   Antiplatelet therapy_aspirin  Antiplatelet therapy_celecoxib  \\\n",
       "0                             1                               0   \n",
       "1                             0                               1   \n",
       "2                             0                               0   \n",
       "3                             1                               0   \n",
       "4                             1                               0   \n",
       "\n",
       "   Antiplatelet therapy_clopidogrel  Antiplatelet therapy_ticagrelor  \\\n",
       "0                                 0                                1   \n",
       "1                                 1                                0   \n",
       "2                                 0                                1   \n",
       "3                                 0                                1   \n",
       "4                                 0                                1   \n",
       "\n",
       "  Antiplatelet Therapy within 7 Days  \n",
       "0                aspirin, ticagrelor  \n",
       "1             clopidogrel, celecoxib  \n",
       "2                         ticagrelor  \n",
       "3                aspirin, ticagrelor  \n",
       "4                aspirin, ticagrelor  "
      ]
     },
     "execution_count": 47,
     "metadata": {},
     "output_type": "execute_result"
    }
   ],
   "source": [
    "# Dummy encode antiplatelet therapy\n",
    "\n",
    "# Fill NaN values with 0 in the 'Antiplatelet Therapy within 7 Days' column\n",
    "clean_TEG_df['Antiplatelet Therapy within 7 Days'].fillna(0, inplace=True)\n",
    "\n",
    "\n",
    "selected_antiplatelet = []\n",
    "for antiplatelet in unique_antiplatelet:\n",
    "    column_name = \"Antiplatelet therapy_\" + antiplatelet\n",
    "\n",
    "    # Handle NaN values and convert to int\n",
    "    clean_TEG_df[column_name] = clean_TEG_df['Antiplatelet Therapy within 7 Days'].apply(lambda x: 1 if antiplatelet in str(x) else 0).astype(int)\n",
    "\n",
    "    selected_antiplatelet.append(column_name)\n",
    "\n",
    "selected_antiplatelet.append('Antiplatelet Therapy within 7 Days')\n",
    "\n",
    "\n",
    "clean_TEG_df[selected_antiplatelet].head()"
   ]
  },
  {
   "cell_type": "code",
   "execution_count": 48,
   "metadata": {},
   "outputs": [
    {
     "data": {
      "text/html": [
       "<div>\n",
       "<style scoped>\n",
       "    .dataframe tbody tr th:only-of-type {\n",
       "        vertical-align: middle;\n",
       "    }\n",
       "\n",
       "    .dataframe tbody tr th {\n",
       "        vertical-align: top;\n",
       "    }\n",
       "\n",
       "    .dataframe thead th {\n",
       "        text-align: right;\n",
       "    }\n",
       "</style>\n",
       "<table border=\"1\" class=\"dataframe\">\n",
       "  <thead>\n",
       "    <tr style=\"text-align: right;\">\n",
       "      <th></th>\n",
       "      <th>Intervention type_thrombectomy</th>\n",
       "      <th>Intervention type_bypass</th>\n",
       "      <th>Intervention type_stent</th>\n",
       "      <th>Intervention type_DVA</th>\n",
       "      <th>Intervention type_angioplasty</th>\n",
       "      <th>Intervention type_bypass revision</th>\n",
       "      <th>Intervention type_endarterectomy</th>\n",
       "      <th>Intervention Type</th>\n",
       "    </tr>\n",
       "  </thead>\n",
       "  <tbody>\n",
       "    <tr>\n",
       "      <th>0</th>\n",
       "      <td>0</td>\n",
       "      <td>0</td>\n",
       "      <td>0</td>\n",
       "      <td>0</td>\n",
       "      <td>1</td>\n",
       "      <td>0</td>\n",
       "      <td>0</td>\n",
       "      <td>angioplasty</td>\n",
       "    </tr>\n",
       "    <tr>\n",
       "      <th>1</th>\n",
       "      <td>0</td>\n",
       "      <td>1</td>\n",
       "      <td>0</td>\n",
       "      <td>0</td>\n",
       "      <td>0</td>\n",
       "      <td>1</td>\n",
       "      <td>0</td>\n",
       "      <td>bypass revision</td>\n",
       "    </tr>\n",
       "    <tr>\n",
       "      <th>2</th>\n",
       "      <td>0</td>\n",
       "      <td>0</td>\n",
       "      <td>1</td>\n",
       "      <td>0</td>\n",
       "      <td>1</td>\n",
       "      <td>0</td>\n",
       "      <td>1</td>\n",
       "      <td>angioplasty, stent, endarterectomy</td>\n",
       "    </tr>\n",
       "    <tr>\n",
       "      <th>3</th>\n",
       "      <td>0</td>\n",
       "      <td>1</td>\n",
       "      <td>0</td>\n",
       "      <td>0</td>\n",
       "      <td>1</td>\n",
       "      <td>0</td>\n",
       "      <td>0</td>\n",
       "      <td>angioplasty, bypass</td>\n",
       "    </tr>\n",
       "    <tr>\n",
       "      <th>4</th>\n",
       "      <td>0</td>\n",
       "      <td>1</td>\n",
       "      <td>0</td>\n",
       "      <td>0</td>\n",
       "      <td>0</td>\n",
       "      <td>1</td>\n",
       "      <td>0</td>\n",
       "      <td>bypass revision</td>\n",
       "    </tr>\n",
       "  </tbody>\n",
       "</table>\n",
       "</div>"
      ],
      "text/plain": [
       "   Intervention type_thrombectomy  Intervention type_bypass  \\\n",
       "0                               0                         0   \n",
       "1                               0                         1   \n",
       "2                               0                         0   \n",
       "3                               0                         1   \n",
       "4                               0                         1   \n",
       "\n",
       "   Intervention type_stent  Intervention type_DVA  \\\n",
       "0                        0                      0   \n",
       "1                        0                      0   \n",
       "2                        1                      0   \n",
       "3                        0                      0   \n",
       "4                        0                      0   \n",
       "\n",
       "   Intervention type_angioplasty  Intervention type_bypass revision  \\\n",
       "0                              1                                  0   \n",
       "1                              0                                  1   \n",
       "2                              1                                  0   \n",
       "3                              1                                  0   \n",
       "4                              0                                  1   \n",
       "\n",
       "   Intervention type_endarterectomy                   Intervention Type  \n",
       "0                                 0                         angioplasty  \n",
       "1                                 0                     bypass revision  \n",
       "2                                 1  angioplasty, stent, endarterectomy  \n",
       "3                                 0                 angioplasty, bypass  \n",
       "4                                 0                     bypass revision  "
      ]
     },
     "execution_count": 48,
     "metadata": {},
     "output_type": "execute_result"
    }
   ],
   "source": [
    "# Dummy encode intervention types\n",
    "\n",
    "# Fill NaN values with an empty string in the 'Intervention Type' column\n",
    "clean_baseline_df['Intervention Type'].fillna('', inplace=True)\n",
    "\n",
    "selected_intervention = []\n",
    "for intervention in unique_intervention:\n",
    "    column_name = 'Intervention type_' + intervention\n",
    "\n",
    "    # Handle NaN values and convert to int\n",
    "    clean_baseline_df[column_name] = clean_baseline_df['Intervention Type'].apply(lambda x: 1 if intervention in str(x) else 0).astype(int)\n",
    "\n",
    "    selected_intervention.append(column_name)\n",
    "\n",
    "\n",
    "selected_intervention.append('Intervention Type')\n",
    "\n",
    "clean_baseline_df[selected_intervention].head()"
   ]
  },
  {
   "cell_type": "code",
   "execution_count": 49,
   "metadata": {},
   "outputs": [
    {
     "data": {
      "text/html": [
       "<div>\n",
       "<style scoped>\n",
       "    .dataframe tbody tr th:only-of-type {\n",
       "        vertical-align: middle;\n",
       "    }\n",
       "\n",
       "    .dataframe tbody tr th {\n",
       "        vertical-align: top;\n",
       "    }\n",
       "\n",
       "    .dataframe thead th {\n",
       "        text-align: right;\n",
       "    }\n",
       "</style>\n",
       "<table border=\"1\" class=\"dataframe\">\n",
       "  <thead>\n",
       "    <tr style=\"text-align: right;\">\n",
       "      <th></th>\n",
       "      <th>Anticoagulation_rivaroxaban</th>\n",
       "      <th>Anticoagulation_warfarin</th>\n",
       "      <th>Anticoagulation_heparin</th>\n",
       "      <th>Anticoagulation_enoxaprin</th>\n",
       "      <th>Anticoagulation_enoxaparin</th>\n",
       "      <th>Anticoagulation_apixaban</th>\n",
       "      <th>Anticoagulation within 24 Hours</th>\n",
       "    </tr>\n",
       "  </thead>\n",
       "  <tbody>\n",
       "    <tr>\n",
       "      <th>0</th>\n",
       "      <td>0</td>\n",
       "      <td>0</td>\n",
       "      <td>0</td>\n",
       "      <td>0</td>\n",
       "      <td>1</td>\n",
       "      <td>0</td>\n",
       "      <td>enoxaparin (Lovenox)</td>\n",
       "    </tr>\n",
       "    <tr>\n",
       "      <th>1</th>\n",
       "      <td>0</td>\n",
       "      <td>0</td>\n",
       "      <td>0</td>\n",
       "      <td>0</td>\n",
       "      <td>1</td>\n",
       "      <td>0</td>\n",
       "      <td>enoxaparin (Lovenox)</td>\n",
       "    </tr>\n",
       "    <tr>\n",
       "      <th>2</th>\n",
       "      <td>0</td>\n",
       "      <td>1</td>\n",
       "      <td>0</td>\n",
       "      <td>0</td>\n",
       "      <td>0</td>\n",
       "      <td>0</td>\n",
       "      <td>warfarin (Coumadin)</td>\n",
       "    </tr>\n",
       "    <tr>\n",
       "      <th>3</th>\n",
       "      <td>1</td>\n",
       "      <td>0</td>\n",
       "      <td>0</td>\n",
       "      <td>0</td>\n",
       "      <td>0</td>\n",
       "      <td>0</td>\n",
       "      <td>rivaroxaban</td>\n",
       "    </tr>\n",
       "    <tr>\n",
       "      <th>4</th>\n",
       "      <td>0</td>\n",
       "      <td>0</td>\n",
       "      <td>0</td>\n",
       "      <td>1</td>\n",
       "      <td>0</td>\n",
       "      <td>0</td>\n",
       "      <td>enoxaprin</td>\n",
       "    </tr>\n",
       "  </tbody>\n",
       "</table>\n",
       "</div>"
      ],
      "text/plain": [
       "   Anticoagulation_rivaroxaban  Anticoagulation_warfarin  \\\n",
       "0                            0                         0   \n",
       "1                            0                         0   \n",
       "2                            0                         1   \n",
       "3                            1                         0   \n",
       "4                            0                         0   \n",
       "\n",
       "   Anticoagulation_heparin  Anticoagulation_enoxaprin  \\\n",
       "0                        0                          0   \n",
       "1                        0                          0   \n",
       "2                        0                          0   \n",
       "3                        0                          0   \n",
       "4                        0                          1   \n",
       "\n",
       "   Anticoagulation_enoxaparin  Anticoagulation_apixaban  \\\n",
       "0                           1                         0   \n",
       "1                           1                         0   \n",
       "2                           0                         0   \n",
       "3                           0                         0   \n",
       "4                           0                         0   \n",
       "\n",
       "  Anticoagulation within 24 Hours  \n",
       "0            enoxaparin (Lovenox)  \n",
       "1            enoxaparin (Lovenox)  \n",
       "2             warfarin (Coumadin)  \n",
       "3                     rivaroxaban  \n",
       "4                       enoxaprin  "
      ]
     },
     "execution_count": 49,
     "metadata": {},
     "output_type": "execute_result"
    }
   ],
   "source": [
    "# Dummy encode anticoagulation meds\n",
    "\n",
    "# Fill NaN values with an empty string in the 'Anticoagulation within 24 Hours' column\n",
    "clean_TEG_df['Anticoagulation within 24 Hours'].fillna('', inplace=True)\n",
    "\n",
    "selected_anticoagulation = []\n",
    "for anticoagulation in unique_anticoagulation:\n",
    "    column_name = \"Anticoagulation_\" + anticoagulation\n",
    "\n",
    "    # Handle NaN values and convert to int\n",
    "    clean_TEG_df[column_name] = clean_TEG_df['Anticoagulation within 24 Hours'].apply(lambda x: 1 if anticoagulation in str(x) else 0).astype(int)\n",
    "\n",
    "    selected_anticoagulation.append(column_name)\n",
    "\n",
    "selected_anticoagulation.append('Anticoagulation within 24 Hours')\n",
    "\n",
    "clean_TEG_df[selected_anticoagulation].head()"
   ]
  },
  {
   "cell_type": "code",
   "execution_count": 50,
   "metadata": {},
   "outputs": [],
   "source": [
    "# Drop old columns\n",
    "clean_baseline_df.drop(columns=['Artery affected','Intervention Type'], inplace=True)\n",
    "clean_TEG_df.drop(columns=['Antiplatelet Therapy within 7 Days', 'Anticoagulation within 24 Hours'], inplace=True)"
   ]
  },
  {
   "cell_type": "code",
   "execution_count": 51,
   "metadata": {},
   "outputs": [],
   "source": [
    "# Save in excel\n",
    "excel_file = \"./testData/clean_data.xlsx\"\n",
    "\n",
    "# Create an Excel writer object\n",
    "with pd.ExcelWriter(excel_file, engine='xlsxwriter') as writer:\n",
    "    # Write each DataFrame to a different Excel sheet\n",
    "    clean_TEG_df.to_excel(writer, sheet_name='TEG values', index=False)\n",
    "    clean_baseline_df.to_excel(writer, sheet_name='Baseline', index=False)\n"
   ]
  },
  {
   "cell_type": "markdown",
   "metadata": {},
   "source": [
    "## Extend data\n",
    "Create the rate of change of teg values colum"
   ]
  },
  {
   "cell_type": "code",
   "execution_count": 52,
   "metadata": {},
   "outputs": [],
   "source": [
    "# User selects to extend data\n",
    "user_extend_data = True"
   ]
  },
  {
   "cell_type": "code",
   "execution_count": 53,
   "metadata": {},
   "outputs": [
    {
     "data": {
      "text/plain": [
       "['Reaction Time (R) in min',\n",
       " 'Lysis at 30 min (LY30) in %',\n",
       " 'CRT Max amplitude (MA) in mm',\n",
       " 'CFF Max Amplitude( MA) in mm',\n",
       " 'HKH MA (mm)',\n",
       " 'ActF MA (mm)',\n",
       " 'ADP MA (mm)',\n",
       " 'AA MA(mm)',\n",
       " 'ADP % Aggregation',\n",
       " 'ADP % Inhibition',\n",
       " 'AA % Aggregation',\n",
       " 'AA % Inhibition',\n",
       " 'CK R(min)',\n",
       " 'CK K (min)',\n",
       " 'CK angle( deg)',\n",
       " 'CK MA (mm)',\n",
       " 'CRT MA(mm)',\n",
       " 'CKH R (min)',\n",
       " 'CFF MA(mm)',\n",
       " 'CFF FLEV(mg/dL)',\n",
       " 'HbA1c Baseline( within1 year of study start)',\n",
       " 'INR value',\n",
       " 'aPTT',\n",
       " 'PT value',\n",
       " 'WBC in K/uL',\n",
       " 'RBC (M/uL)',\n",
       " 'HGB(g/dL)',\n",
       " 'HCT %',\n",
       " 'PLT(K/uL)',\n",
       " 'Date of TEG Collection']"
      ]
     },
     "execution_count": 53,
     "metadata": {},
     "output_type": "execute_result"
    }
   ],
   "source": [
    "# Columns\n",
    "tegValues"
   ]
  },
  {
   "cell_type": "code",
   "execution_count": 54,
   "metadata": {},
   "outputs": [],
   "source": [
    "extended_df = clean_TEG_df.copy()"
   ]
  },
  {
   "cell_type": "code",
   "execution_count": 55,
   "metadata": {},
   "outputs": [],
   "source": [
    "if user_extend_data:    \n",
    "    # Sort the DataFrame by \"Record ID\" and \"Visit Timepoint\"\n",
    "    extended_df= extended_df.sort_values(by=[\"Record ID\", \"Date of TEG Collection\"])\n",
    "    extended_df[[\"Record ID\", \"Date of TEG Collection\"]]"
   ]
  },
  {
   "cell_type": "code",
   "execution_count": 56,
   "metadata": {},
   "outputs": [],
   "source": [
    "if user_extend_data:\n",
    "    # Group by 'Record ID'\n",
    "    grouped = extended_df.groupby('Record ID')\n",
    "\n",
    "    #Calculate the difference in 'Date of TEG Collection'\n",
    "    extended_df['Days Diff'] = grouped['Date of TEG Collection'].diff()\n",
    "\n",
    "    # Replace 0s to avoid infinity\n",
    "    extended_df[\"Days Diff\"] = extended_df[\"Days Diff\"].replace(0, 1)\n",
    "\n",
    "    extended_df[[\"Record ID\", \"Date of TEG Collection\", \"Days Diff\"]]\n"
   ]
  },
  {
   "cell_type": "code",
   "execution_count": 57,
   "metadata": {},
   "outputs": [],
   "source": [
    "if user_extend_data:\n",
    "    new_columns = []\n",
    "    # Iterate TEG values\n",
    "    for value in tegValues:\n",
    "\n",
    "        # Get column names\n",
    "        diff_column_name = f\"{value}_difference_since_last_timepoint\"\n",
    "        rate_column_name = f\"{value}_rate_since_last_timepoint\"\n",
    "        new_columns.append(diff_column_name)\n",
    "        new_columns.append(rate_column_name)\n",
    "\n",
    "\n",
    "        # Calculate the difference in TEG values\n",
    "        extended_df[diff_column_name] = grouped[value].diff()\n",
    "\n",
    "        # Divide  by the differences in 'Date of TEG Collection'\n",
    "        extended_df[rate_column_name] = extended_df[diff_column_name] / extended_df['Days Diff']\n",
    "\n",
    "    # Fill the first value with the next one to avoid NaN\n",
    "    extended_df.bfill(inplace=True)"
   ]
  },
  {
   "cell_type": "code",
   "execution_count": 58,
   "metadata": {},
   "outputs": [],
   "source": [
    "if user_extend_data:\n",
    "    extended_df[new_columns]\n"
   ]
  },
  {
   "cell_type": "code",
   "execution_count": 59,
   "metadata": {},
   "outputs": [],
   "source": [
    "if user_extend_data:\n",
    "    # Drop column with diff in dates\n",
    "    extended_df.drop(columns=[\"Days Diff\"], inplace = True)"
   ]
  },
  {
   "cell_type": "code",
   "execution_count": 60,
   "metadata": {},
   "outputs": [],
   "source": [
    "if user_extend_data:\n",
    "    # Save in excel\n",
    "    excel_file = \"./testData/extended_data.xlsx\"\n",
    "\n",
    "    # Create an Excel writer object\n",
    "    with pd.ExcelWriter(excel_file, engine='xlsxwriter') as writer:\n",
    "        # Write each DataFrame to a different Excel sheet\n",
    "        extended_df.to_excel(writer, sheet_name='TEG values', index=False)\n",
    "        clean_baseline_df.to_excel(writer, sheet_name='Baseline', index=False)"
   ]
  },
  {
   "cell_type": "markdown",
   "metadata": {},
   "source": [
    "## Data visualization\n",
    "The goal of this section is to create the graphs that will be shown to the user describing the general data demographics\n",
    "Some of the values are calculated based on the totaal number of patients in the baseline information, and some is calculated from the TEG values\n",
    "\n",
    "Baseline summary:\n",
    "- Age\n",
    "- Gender\n",
    "- Ethnicity\n",
    "- BMI\n",
    "\n",
    "TEG values:\n",
    "- Number of events\n",
    "- Total number of data points"
   ]
  },
  {
   "cell_type": "code",
   "execution_count": 61,
   "metadata": {},
   "outputs": [],
   "source": [
    "fig_df = clean_baseline_df.copy()"
   ]
  },
  {
   "cell_type": "code",
   "execution_count": 62,
   "metadata": {},
   "outputs": [],
   "source": [
    "# Define custom colors\n",
    "male_colors = ['#d9ed92', '#99d98c'] \n",
    "white_colors = ['#184e77', '#1a759f'] \n",
    "events_colors = '#1a759f'\n",
    "age_histogram_color = '#52b69a' \n",
    "bmi_histogram_color = '#1e6091'"
   ]
  },
  {
   "cell_type": "code",
   "execution_count": 63,
   "metadata": {},
   "outputs": [
    {
     "data": {
      "application/vnd.plotly.v1+json": {
       "config": {
        "plotlyServerURL": "https://plot.ly"
       },
       "data": [
        {
         "labels": [
          "Female",
          "Male"
         ],
         "marker": {
          "colors": [
           "#d9ed92",
           "#99d98c"
          ]
         },
         "type": "pie",
         "values": [
          28,
          24
         ]
        }
       ],
       "layout": {
        "height": 300,
        "template": {
         "data": {
          "bar": [
           {
            "error_x": {
             "color": "#2a3f5f"
            },
            "error_y": {
             "color": "#2a3f5f"
            },
            "marker": {
             "line": {
              "color": "#E5ECF6",
              "width": 0.5
             },
             "pattern": {
              "fillmode": "overlay",
              "size": 10,
              "solidity": 0.2
             }
            },
            "type": "bar"
           }
          ],
          "barpolar": [
           {
            "marker": {
             "line": {
              "color": "#E5ECF6",
              "width": 0.5
             },
             "pattern": {
              "fillmode": "overlay",
              "size": 10,
              "solidity": 0.2
             }
            },
            "type": "barpolar"
           }
          ],
          "carpet": [
           {
            "aaxis": {
             "endlinecolor": "#2a3f5f",
             "gridcolor": "white",
             "linecolor": "white",
             "minorgridcolor": "white",
             "startlinecolor": "#2a3f5f"
            },
            "baxis": {
             "endlinecolor": "#2a3f5f",
             "gridcolor": "white",
             "linecolor": "white",
             "minorgridcolor": "white",
             "startlinecolor": "#2a3f5f"
            },
            "type": "carpet"
           }
          ],
          "choropleth": [
           {
            "colorbar": {
             "outlinewidth": 0,
             "ticks": ""
            },
            "type": "choropleth"
           }
          ],
          "contour": [
           {
            "colorbar": {
             "outlinewidth": 0,
             "ticks": ""
            },
            "colorscale": [
             [
              0,
              "#0d0887"
             ],
             [
              0.1111111111111111,
              "#46039f"
             ],
             [
              0.2222222222222222,
              "#7201a8"
             ],
             [
              0.3333333333333333,
              "#9c179e"
             ],
             [
              0.4444444444444444,
              "#bd3786"
             ],
             [
              0.5555555555555556,
              "#d8576b"
             ],
             [
              0.6666666666666666,
              "#ed7953"
             ],
             [
              0.7777777777777778,
              "#fb9f3a"
             ],
             [
              0.8888888888888888,
              "#fdca26"
             ],
             [
              1,
              "#f0f921"
             ]
            ],
            "type": "contour"
           }
          ],
          "contourcarpet": [
           {
            "colorbar": {
             "outlinewidth": 0,
             "ticks": ""
            },
            "type": "contourcarpet"
           }
          ],
          "heatmap": [
           {
            "colorbar": {
             "outlinewidth": 0,
             "ticks": ""
            },
            "colorscale": [
             [
              0,
              "#0d0887"
             ],
             [
              0.1111111111111111,
              "#46039f"
             ],
             [
              0.2222222222222222,
              "#7201a8"
             ],
             [
              0.3333333333333333,
              "#9c179e"
             ],
             [
              0.4444444444444444,
              "#bd3786"
             ],
             [
              0.5555555555555556,
              "#d8576b"
             ],
             [
              0.6666666666666666,
              "#ed7953"
             ],
             [
              0.7777777777777778,
              "#fb9f3a"
             ],
             [
              0.8888888888888888,
              "#fdca26"
             ],
             [
              1,
              "#f0f921"
             ]
            ],
            "type": "heatmap"
           }
          ],
          "heatmapgl": [
           {
            "colorbar": {
             "outlinewidth": 0,
             "ticks": ""
            },
            "colorscale": [
             [
              0,
              "#0d0887"
             ],
             [
              0.1111111111111111,
              "#46039f"
             ],
             [
              0.2222222222222222,
              "#7201a8"
             ],
             [
              0.3333333333333333,
              "#9c179e"
             ],
             [
              0.4444444444444444,
              "#bd3786"
             ],
             [
              0.5555555555555556,
              "#d8576b"
             ],
             [
              0.6666666666666666,
              "#ed7953"
             ],
             [
              0.7777777777777778,
              "#fb9f3a"
             ],
             [
              0.8888888888888888,
              "#fdca26"
             ],
             [
              1,
              "#f0f921"
             ]
            ],
            "type": "heatmapgl"
           }
          ],
          "histogram": [
           {
            "marker": {
             "pattern": {
              "fillmode": "overlay",
              "size": 10,
              "solidity": 0.2
             }
            },
            "type": "histogram"
           }
          ],
          "histogram2d": [
           {
            "colorbar": {
             "outlinewidth": 0,
             "ticks": ""
            },
            "colorscale": [
             [
              0,
              "#0d0887"
             ],
             [
              0.1111111111111111,
              "#46039f"
             ],
             [
              0.2222222222222222,
              "#7201a8"
             ],
             [
              0.3333333333333333,
              "#9c179e"
             ],
             [
              0.4444444444444444,
              "#bd3786"
             ],
             [
              0.5555555555555556,
              "#d8576b"
             ],
             [
              0.6666666666666666,
              "#ed7953"
             ],
             [
              0.7777777777777778,
              "#fb9f3a"
             ],
             [
              0.8888888888888888,
              "#fdca26"
             ],
             [
              1,
              "#f0f921"
             ]
            ],
            "type": "histogram2d"
           }
          ],
          "histogram2dcontour": [
           {
            "colorbar": {
             "outlinewidth": 0,
             "ticks": ""
            },
            "colorscale": [
             [
              0,
              "#0d0887"
             ],
             [
              0.1111111111111111,
              "#46039f"
             ],
             [
              0.2222222222222222,
              "#7201a8"
             ],
             [
              0.3333333333333333,
              "#9c179e"
             ],
             [
              0.4444444444444444,
              "#bd3786"
             ],
             [
              0.5555555555555556,
              "#d8576b"
             ],
             [
              0.6666666666666666,
              "#ed7953"
             ],
             [
              0.7777777777777778,
              "#fb9f3a"
             ],
             [
              0.8888888888888888,
              "#fdca26"
             ],
             [
              1,
              "#f0f921"
             ]
            ],
            "type": "histogram2dcontour"
           }
          ],
          "mesh3d": [
           {
            "colorbar": {
             "outlinewidth": 0,
             "ticks": ""
            },
            "type": "mesh3d"
           }
          ],
          "parcoords": [
           {
            "line": {
             "colorbar": {
              "outlinewidth": 0,
              "ticks": ""
             }
            },
            "type": "parcoords"
           }
          ],
          "pie": [
           {
            "automargin": true,
            "type": "pie"
           }
          ],
          "scatter": [
           {
            "fillpattern": {
             "fillmode": "overlay",
             "size": 10,
             "solidity": 0.2
            },
            "type": "scatter"
           }
          ],
          "scatter3d": [
           {
            "line": {
             "colorbar": {
              "outlinewidth": 0,
              "ticks": ""
             }
            },
            "marker": {
             "colorbar": {
              "outlinewidth": 0,
              "ticks": ""
             }
            },
            "type": "scatter3d"
           }
          ],
          "scattercarpet": [
           {
            "marker": {
             "colorbar": {
              "outlinewidth": 0,
              "ticks": ""
             }
            },
            "type": "scattercarpet"
           }
          ],
          "scattergeo": [
           {
            "marker": {
             "colorbar": {
              "outlinewidth": 0,
              "ticks": ""
             }
            },
            "type": "scattergeo"
           }
          ],
          "scattergl": [
           {
            "marker": {
             "colorbar": {
              "outlinewidth": 0,
              "ticks": ""
             }
            },
            "type": "scattergl"
           }
          ],
          "scattermapbox": [
           {
            "marker": {
             "colorbar": {
              "outlinewidth": 0,
              "ticks": ""
             }
            },
            "type": "scattermapbox"
           }
          ],
          "scatterpolar": [
           {
            "marker": {
             "colorbar": {
              "outlinewidth": 0,
              "ticks": ""
             }
            },
            "type": "scatterpolar"
           }
          ],
          "scatterpolargl": [
           {
            "marker": {
             "colorbar": {
              "outlinewidth": 0,
              "ticks": ""
             }
            },
            "type": "scatterpolargl"
           }
          ],
          "scatterternary": [
           {
            "marker": {
             "colorbar": {
              "outlinewidth": 0,
              "ticks": ""
             }
            },
            "type": "scatterternary"
           }
          ],
          "surface": [
           {
            "colorbar": {
             "outlinewidth": 0,
             "ticks": ""
            },
            "colorscale": [
             [
              0,
              "#0d0887"
             ],
             [
              0.1111111111111111,
              "#46039f"
             ],
             [
              0.2222222222222222,
              "#7201a8"
             ],
             [
              0.3333333333333333,
              "#9c179e"
             ],
             [
              0.4444444444444444,
              "#bd3786"
             ],
             [
              0.5555555555555556,
              "#d8576b"
             ],
             [
              0.6666666666666666,
              "#ed7953"
             ],
             [
              0.7777777777777778,
              "#fb9f3a"
             ],
             [
              0.8888888888888888,
              "#fdca26"
             ],
             [
              1,
              "#f0f921"
             ]
            ],
            "type": "surface"
           }
          ],
          "table": [
           {
            "cells": {
             "fill": {
              "color": "#EBF0F8"
             },
             "line": {
              "color": "white"
             }
            },
            "header": {
             "fill": {
              "color": "#C8D4E3"
             },
             "line": {
              "color": "white"
             }
            },
            "type": "table"
           }
          ]
         },
         "layout": {
          "annotationdefaults": {
           "arrowcolor": "#2a3f5f",
           "arrowhead": 0,
           "arrowwidth": 1
          },
          "autotypenumbers": "strict",
          "coloraxis": {
           "colorbar": {
            "outlinewidth": 0,
            "ticks": ""
           }
          },
          "colorscale": {
           "diverging": [
            [
             0,
             "#8e0152"
            ],
            [
             0.1,
             "#c51b7d"
            ],
            [
             0.2,
             "#de77ae"
            ],
            [
             0.3,
             "#f1b6da"
            ],
            [
             0.4,
             "#fde0ef"
            ],
            [
             0.5,
             "#f7f7f7"
            ],
            [
             0.6,
             "#e6f5d0"
            ],
            [
             0.7,
             "#b8e186"
            ],
            [
             0.8,
             "#7fbc41"
            ],
            [
             0.9,
             "#4d9221"
            ],
            [
             1,
             "#276419"
            ]
           ],
           "sequential": [
            [
             0,
             "#0d0887"
            ],
            [
             0.1111111111111111,
             "#46039f"
            ],
            [
             0.2222222222222222,
             "#7201a8"
            ],
            [
             0.3333333333333333,
             "#9c179e"
            ],
            [
             0.4444444444444444,
             "#bd3786"
            ],
            [
             0.5555555555555556,
             "#d8576b"
            ],
            [
             0.6666666666666666,
             "#ed7953"
            ],
            [
             0.7777777777777778,
             "#fb9f3a"
            ],
            [
             0.8888888888888888,
             "#fdca26"
            ],
            [
             1,
             "#f0f921"
            ]
           ],
           "sequentialminus": [
            [
             0,
             "#0d0887"
            ],
            [
             0.1111111111111111,
             "#46039f"
            ],
            [
             0.2222222222222222,
             "#7201a8"
            ],
            [
             0.3333333333333333,
             "#9c179e"
            ],
            [
             0.4444444444444444,
             "#bd3786"
            ],
            [
             0.5555555555555556,
             "#d8576b"
            ],
            [
             0.6666666666666666,
             "#ed7953"
            ],
            [
             0.7777777777777778,
             "#fb9f3a"
            ],
            [
             0.8888888888888888,
             "#fdca26"
            ],
            [
             1,
             "#f0f921"
            ]
           ]
          },
          "colorway": [
           "#636efa",
           "#EF553B",
           "#00cc96",
           "#ab63fa",
           "#FFA15A",
           "#19d3f3",
           "#FF6692",
           "#B6E880",
           "#FF97FF",
           "#FECB52"
          ],
          "font": {
           "color": "#2a3f5f"
          },
          "geo": {
           "bgcolor": "white",
           "lakecolor": "white",
           "landcolor": "#E5ECF6",
           "showlakes": true,
           "showland": true,
           "subunitcolor": "white"
          },
          "hoverlabel": {
           "align": "left"
          },
          "hovermode": "closest",
          "mapbox": {
           "style": "light"
          },
          "paper_bgcolor": "white",
          "plot_bgcolor": "#E5ECF6",
          "polar": {
           "angularaxis": {
            "gridcolor": "white",
            "linecolor": "white",
            "ticks": ""
           },
           "bgcolor": "#E5ECF6",
           "radialaxis": {
            "gridcolor": "white",
            "linecolor": "white",
            "ticks": ""
           }
          },
          "scene": {
           "xaxis": {
            "backgroundcolor": "#E5ECF6",
            "gridcolor": "white",
            "gridwidth": 2,
            "linecolor": "white",
            "showbackground": true,
            "ticks": "",
            "zerolinecolor": "white"
           },
           "yaxis": {
            "backgroundcolor": "#E5ECF6",
            "gridcolor": "white",
            "gridwidth": 2,
            "linecolor": "white",
            "showbackground": true,
            "ticks": "",
            "zerolinecolor": "white"
           },
           "zaxis": {
            "backgroundcolor": "#E5ECF6",
            "gridcolor": "white",
            "gridwidth": 2,
            "linecolor": "white",
            "showbackground": true,
            "ticks": "",
            "zerolinecolor": "white"
           }
          },
          "shapedefaults": {
           "line": {
            "color": "#2a3f5f"
           }
          },
          "ternary": {
           "aaxis": {
            "gridcolor": "white",
            "linecolor": "white",
            "ticks": ""
           },
           "baxis": {
            "gridcolor": "white",
            "linecolor": "white",
            "ticks": ""
           },
           "bgcolor": "#E5ECF6",
           "caxis": {
            "gridcolor": "white",
            "linecolor": "white",
            "ticks": ""
           }
          },
          "title": {
           "x": 0.05
          },
          "xaxis": {
           "automargin": true,
           "gridcolor": "white",
           "linecolor": "white",
           "ticks": "",
           "title": {
            "standoff": 15
           },
           "zerolinecolor": "white",
           "zerolinewidth": 2
          },
          "yaxis": {
           "automargin": true,
           "gridcolor": "white",
           "linecolor": "white",
           "ticks": "",
           "title": {
            "standoff": 15
           },
           "zerolinecolor": "white",
           "zerolinewidth": 2
          }
         }
        },
        "width": 300
       }
      }
     },
     "metadata": {},
     "output_type": "display_data"
    }
   ],
   "source": [
    "# Count binary values in the \"Male\" column\n",
    "male_counts = fig_df['Is Male'].value_counts()\n",
    "male_labels = ['Male' if male_counts.index[0] else 'Female', 'Male' if not male_counts.index[0] else 'Female']\n",
    "# Create a pie chart for \"Male\" with custom colors\n",
    "sex_pie = go.Pie(labels=male_labels, values=male_counts, marker=dict(colors=male_colors))\n",
    "\n",
    "# Visualize\n",
    "data = [sex_pie]\n",
    "fig = go.Figure(data = data)\n",
    "fig.update_layout(width=300, height=300)\n",
    "display(fig)"
   ]
  },
  {
   "cell_type": "code",
   "execution_count": 64,
   "metadata": {},
   "outputs": [
    {
     "data": {
      "application/vnd.plotly.v1+json": {
       "config": {
        "plotlyServerURL": "https://plot.ly"
       },
       "data": [
        {
         "labels": [
          "White",
          "Non-White"
         ],
         "marker": {
          "colors": [
           "#184e77",
           "#1a759f"
          ]
         },
         "type": "pie",
         "values": [
          28,
          24
         ]
        }
       ],
       "layout": {
        "height": 300,
        "template": {
         "data": {
          "bar": [
           {
            "error_x": {
             "color": "#2a3f5f"
            },
            "error_y": {
             "color": "#2a3f5f"
            },
            "marker": {
             "line": {
              "color": "#E5ECF6",
              "width": 0.5
             },
             "pattern": {
              "fillmode": "overlay",
              "size": 10,
              "solidity": 0.2
             }
            },
            "type": "bar"
           }
          ],
          "barpolar": [
           {
            "marker": {
             "line": {
              "color": "#E5ECF6",
              "width": 0.5
             },
             "pattern": {
              "fillmode": "overlay",
              "size": 10,
              "solidity": 0.2
             }
            },
            "type": "barpolar"
           }
          ],
          "carpet": [
           {
            "aaxis": {
             "endlinecolor": "#2a3f5f",
             "gridcolor": "white",
             "linecolor": "white",
             "minorgridcolor": "white",
             "startlinecolor": "#2a3f5f"
            },
            "baxis": {
             "endlinecolor": "#2a3f5f",
             "gridcolor": "white",
             "linecolor": "white",
             "minorgridcolor": "white",
             "startlinecolor": "#2a3f5f"
            },
            "type": "carpet"
           }
          ],
          "choropleth": [
           {
            "colorbar": {
             "outlinewidth": 0,
             "ticks": ""
            },
            "type": "choropleth"
           }
          ],
          "contour": [
           {
            "colorbar": {
             "outlinewidth": 0,
             "ticks": ""
            },
            "colorscale": [
             [
              0,
              "#0d0887"
             ],
             [
              0.1111111111111111,
              "#46039f"
             ],
             [
              0.2222222222222222,
              "#7201a8"
             ],
             [
              0.3333333333333333,
              "#9c179e"
             ],
             [
              0.4444444444444444,
              "#bd3786"
             ],
             [
              0.5555555555555556,
              "#d8576b"
             ],
             [
              0.6666666666666666,
              "#ed7953"
             ],
             [
              0.7777777777777778,
              "#fb9f3a"
             ],
             [
              0.8888888888888888,
              "#fdca26"
             ],
             [
              1,
              "#f0f921"
             ]
            ],
            "type": "contour"
           }
          ],
          "contourcarpet": [
           {
            "colorbar": {
             "outlinewidth": 0,
             "ticks": ""
            },
            "type": "contourcarpet"
           }
          ],
          "heatmap": [
           {
            "colorbar": {
             "outlinewidth": 0,
             "ticks": ""
            },
            "colorscale": [
             [
              0,
              "#0d0887"
             ],
             [
              0.1111111111111111,
              "#46039f"
             ],
             [
              0.2222222222222222,
              "#7201a8"
             ],
             [
              0.3333333333333333,
              "#9c179e"
             ],
             [
              0.4444444444444444,
              "#bd3786"
             ],
             [
              0.5555555555555556,
              "#d8576b"
             ],
             [
              0.6666666666666666,
              "#ed7953"
             ],
             [
              0.7777777777777778,
              "#fb9f3a"
             ],
             [
              0.8888888888888888,
              "#fdca26"
             ],
             [
              1,
              "#f0f921"
             ]
            ],
            "type": "heatmap"
           }
          ],
          "heatmapgl": [
           {
            "colorbar": {
             "outlinewidth": 0,
             "ticks": ""
            },
            "colorscale": [
             [
              0,
              "#0d0887"
             ],
             [
              0.1111111111111111,
              "#46039f"
             ],
             [
              0.2222222222222222,
              "#7201a8"
             ],
             [
              0.3333333333333333,
              "#9c179e"
             ],
             [
              0.4444444444444444,
              "#bd3786"
             ],
             [
              0.5555555555555556,
              "#d8576b"
             ],
             [
              0.6666666666666666,
              "#ed7953"
             ],
             [
              0.7777777777777778,
              "#fb9f3a"
             ],
             [
              0.8888888888888888,
              "#fdca26"
             ],
             [
              1,
              "#f0f921"
             ]
            ],
            "type": "heatmapgl"
           }
          ],
          "histogram": [
           {
            "marker": {
             "pattern": {
              "fillmode": "overlay",
              "size": 10,
              "solidity": 0.2
             }
            },
            "type": "histogram"
           }
          ],
          "histogram2d": [
           {
            "colorbar": {
             "outlinewidth": 0,
             "ticks": ""
            },
            "colorscale": [
             [
              0,
              "#0d0887"
             ],
             [
              0.1111111111111111,
              "#46039f"
             ],
             [
              0.2222222222222222,
              "#7201a8"
             ],
             [
              0.3333333333333333,
              "#9c179e"
             ],
             [
              0.4444444444444444,
              "#bd3786"
             ],
             [
              0.5555555555555556,
              "#d8576b"
             ],
             [
              0.6666666666666666,
              "#ed7953"
             ],
             [
              0.7777777777777778,
              "#fb9f3a"
             ],
             [
              0.8888888888888888,
              "#fdca26"
             ],
             [
              1,
              "#f0f921"
             ]
            ],
            "type": "histogram2d"
           }
          ],
          "histogram2dcontour": [
           {
            "colorbar": {
             "outlinewidth": 0,
             "ticks": ""
            },
            "colorscale": [
             [
              0,
              "#0d0887"
             ],
             [
              0.1111111111111111,
              "#46039f"
             ],
             [
              0.2222222222222222,
              "#7201a8"
             ],
             [
              0.3333333333333333,
              "#9c179e"
             ],
             [
              0.4444444444444444,
              "#bd3786"
             ],
             [
              0.5555555555555556,
              "#d8576b"
             ],
             [
              0.6666666666666666,
              "#ed7953"
             ],
             [
              0.7777777777777778,
              "#fb9f3a"
             ],
             [
              0.8888888888888888,
              "#fdca26"
             ],
             [
              1,
              "#f0f921"
             ]
            ],
            "type": "histogram2dcontour"
           }
          ],
          "mesh3d": [
           {
            "colorbar": {
             "outlinewidth": 0,
             "ticks": ""
            },
            "type": "mesh3d"
           }
          ],
          "parcoords": [
           {
            "line": {
             "colorbar": {
              "outlinewidth": 0,
              "ticks": ""
             }
            },
            "type": "parcoords"
           }
          ],
          "pie": [
           {
            "automargin": true,
            "type": "pie"
           }
          ],
          "scatter": [
           {
            "fillpattern": {
             "fillmode": "overlay",
             "size": 10,
             "solidity": 0.2
            },
            "type": "scatter"
           }
          ],
          "scatter3d": [
           {
            "line": {
             "colorbar": {
              "outlinewidth": 0,
              "ticks": ""
             }
            },
            "marker": {
             "colorbar": {
              "outlinewidth": 0,
              "ticks": ""
             }
            },
            "type": "scatter3d"
           }
          ],
          "scattercarpet": [
           {
            "marker": {
             "colorbar": {
              "outlinewidth": 0,
              "ticks": ""
             }
            },
            "type": "scattercarpet"
           }
          ],
          "scattergeo": [
           {
            "marker": {
             "colorbar": {
              "outlinewidth": 0,
              "ticks": ""
             }
            },
            "type": "scattergeo"
           }
          ],
          "scattergl": [
           {
            "marker": {
             "colorbar": {
              "outlinewidth": 0,
              "ticks": ""
             }
            },
            "type": "scattergl"
           }
          ],
          "scattermapbox": [
           {
            "marker": {
             "colorbar": {
              "outlinewidth": 0,
              "ticks": ""
             }
            },
            "type": "scattermapbox"
           }
          ],
          "scatterpolar": [
           {
            "marker": {
             "colorbar": {
              "outlinewidth": 0,
              "ticks": ""
             }
            },
            "type": "scatterpolar"
           }
          ],
          "scatterpolargl": [
           {
            "marker": {
             "colorbar": {
              "outlinewidth": 0,
              "ticks": ""
             }
            },
            "type": "scatterpolargl"
           }
          ],
          "scatterternary": [
           {
            "marker": {
             "colorbar": {
              "outlinewidth": 0,
              "ticks": ""
             }
            },
            "type": "scatterternary"
           }
          ],
          "surface": [
           {
            "colorbar": {
             "outlinewidth": 0,
             "ticks": ""
            },
            "colorscale": [
             [
              0,
              "#0d0887"
             ],
             [
              0.1111111111111111,
              "#46039f"
             ],
             [
              0.2222222222222222,
              "#7201a8"
             ],
             [
              0.3333333333333333,
              "#9c179e"
             ],
             [
              0.4444444444444444,
              "#bd3786"
             ],
             [
              0.5555555555555556,
              "#d8576b"
             ],
             [
              0.6666666666666666,
              "#ed7953"
             ],
             [
              0.7777777777777778,
              "#fb9f3a"
             ],
             [
              0.8888888888888888,
              "#fdca26"
             ],
             [
              1,
              "#f0f921"
             ]
            ],
            "type": "surface"
           }
          ],
          "table": [
           {
            "cells": {
             "fill": {
              "color": "#EBF0F8"
             },
             "line": {
              "color": "white"
             }
            },
            "header": {
             "fill": {
              "color": "#C8D4E3"
             },
             "line": {
              "color": "white"
             }
            },
            "type": "table"
           }
          ]
         },
         "layout": {
          "annotationdefaults": {
           "arrowcolor": "#2a3f5f",
           "arrowhead": 0,
           "arrowwidth": 1
          },
          "autotypenumbers": "strict",
          "coloraxis": {
           "colorbar": {
            "outlinewidth": 0,
            "ticks": ""
           }
          },
          "colorscale": {
           "diverging": [
            [
             0,
             "#8e0152"
            ],
            [
             0.1,
             "#c51b7d"
            ],
            [
             0.2,
             "#de77ae"
            ],
            [
             0.3,
             "#f1b6da"
            ],
            [
             0.4,
             "#fde0ef"
            ],
            [
             0.5,
             "#f7f7f7"
            ],
            [
             0.6,
             "#e6f5d0"
            ],
            [
             0.7,
             "#b8e186"
            ],
            [
             0.8,
             "#7fbc41"
            ],
            [
             0.9,
             "#4d9221"
            ],
            [
             1,
             "#276419"
            ]
           ],
           "sequential": [
            [
             0,
             "#0d0887"
            ],
            [
             0.1111111111111111,
             "#46039f"
            ],
            [
             0.2222222222222222,
             "#7201a8"
            ],
            [
             0.3333333333333333,
             "#9c179e"
            ],
            [
             0.4444444444444444,
             "#bd3786"
            ],
            [
             0.5555555555555556,
             "#d8576b"
            ],
            [
             0.6666666666666666,
             "#ed7953"
            ],
            [
             0.7777777777777778,
             "#fb9f3a"
            ],
            [
             0.8888888888888888,
             "#fdca26"
            ],
            [
             1,
             "#f0f921"
            ]
           ],
           "sequentialminus": [
            [
             0,
             "#0d0887"
            ],
            [
             0.1111111111111111,
             "#46039f"
            ],
            [
             0.2222222222222222,
             "#7201a8"
            ],
            [
             0.3333333333333333,
             "#9c179e"
            ],
            [
             0.4444444444444444,
             "#bd3786"
            ],
            [
             0.5555555555555556,
             "#d8576b"
            ],
            [
             0.6666666666666666,
             "#ed7953"
            ],
            [
             0.7777777777777778,
             "#fb9f3a"
            ],
            [
             0.8888888888888888,
             "#fdca26"
            ],
            [
             1,
             "#f0f921"
            ]
           ]
          },
          "colorway": [
           "#636efa",
           "#EF553B",
           "#00cc96",
           "#ab63fa",
           "#FFA15A",
           "#19d3f3",
           "#FF6692",
           "#B6E880",
           "#FF97FF",
           "#FECB52"
          ],
          "font": {
           "color": "#2a3f5f"
          },
          "geo": {
           "bgcolor": "white",
           "lakecolor": "white",
           "landcolor": "#E5ECF6",
           "showlakes": true,
           "showland": true,
           "subunitcolor": "white"
          },
          "hoverlabel": {
           "align": "left"
          },
          "hovermode": "closest",
          "mapbox": {
           "style": "light"
          },
          "paper_bgcolor": "white",
          "plot_bgcolor": "#E5ECF6",
          "polar": {
           "angularaxis": {
            "gridcolor": "white",
            "linecolor": "white",
            "ticks": ""
           },
           "bgcolor": "#E5ECF6",
           "radialaxis": {
            "gridcolor": "white",
            "linecolor": "white",
            "ticks": ""
           }
          },
          "scene": {
           "xaxis": {
            "backgroundcolor": "#E5ECF6",
            "gridcolor": "white",
            "gridwidth": 2,
            "linecolor": "white",
            "showbackground": true,
            "ticks": "",
            "zerolinecolor": "white"
           },
           "yaxis": {
            "backgroundcolor": "#E5ECF6",
            "gridcolor": "white",
            "gridwidth": 2,
            "linecolor": "white",
            "showbackground": true,
            "ticks": "",
            "zerolinecolor": "white"
           },
           "zaxis": {
            "backgroundcolor": "#E5ECF6",
            "gridcolor": "white",
            "gridwidth": 2,
            "linecolor": "white",
            "showbackground": true,
            "ticks": "",
            "zerolinecolor": "white"
           }
          },
          "shapedefaults": {
           "line": {
            "color": "#2a3f5f"
           }
          },
          "ternary": {
           "aaxis": {
            "gridcolor": "white",
            "linecolor": "white",
            "ticks": ""
           },
           "baxis": {
            "gridcolor": "white",
            "linecolor": "white",
            "ticks": ""
           },
           "bgcolor": "#E5ECF6",
           "caxis": {
            "gridcolor": "white",
            "linecolor": "white",
            "ticks": ""
           }
          },
          "title": {
           "x": 0.05
          },
          "xaxis": {
           "automargin": true,
           "gridcolor": "white",
           "linecolor": "white",
           "ticks": "",
           "title": {
            "standoff": 15
           },
           "zerolinecolor": "white",
           "zerolinewidth": 2
          },
          "yaxis": {
           "automargin": true,
           "gridcolor": "white",
           "linecolor": "white",
           "ticks": "",
           "title": {
            "standoff": 15
           },
           "zerolinecolor": "white",
           "zerolinewidth": 2
          }
         }
        },
        "width": 300
       }
      }
     },
     "metadata": {},
     "output_type": "display_data"
    }
   ],
   "source": [
    "# Count binary values in the \"White\" column\n",
    "white_counts = fig_df['White'].value_counts()\n",
    "white_labels = ['White' if white_counts.index[0] else 'Non-White', 'White' if not white_counts.index[0] else 'Non-White']\n",
    "\n",
    "# Create a pie chart for \"White\" with custom colors\n",
    "white_pie = go.Pie(labels=white_labels, values=white_counts, marker=dict(colors=white_colors))\n",
    "\n",
    "# Visualize\n",
    "data = [white_pie]\n",
    "fig = go.Figure(data = data)\n",
    "fig.update_layout(width=300, height=300)\n",
    "display(fig)"
   ]
  },
  {
   "cell_type": "code",
   "execution_count": 65,
   "metadata": {},
   "outputs": [
    {
     "data": {
      "application/vnd.plotly.v1+json": {
       "config": {
        "plotlyServerURL": "https://plot.ly"
       },
       "data": [
        {
         "marker": {
          "color": "#1e6091"
         },
         "name": "BMI",
         "type": "histogram",
         "x": [
          40.37364314167848,
          15.6197502942692,
          37.47092140509929,
          15.88821409016035,
          31.97973319162682,
          28.1739517252042,
          23.93538267523092,
          23.75772644599179,
          16.47121699014891,
          16.39503531809196,
          15.74143565841061,
          23.25016159025016,
          30.18603788432717,
          42.07038669937084,
          33.92894892881829,
          39.65184792086399,
          36.4954655526526,
          27.87831249269034,
          18.80360081625233,
          40.3260575345188,
          40.45171270209357,
          36.15942191585318,
          24.7002931233234,
          38.93539128821769,
          35.2294577235436,
          23.38795080248004,
          14.11323649758434,
          31.59448379584371,
          30.04512688679085,
          22.5117083868218,
          31.77942116556589,
          33.79795596250194,
          36.15253936526006,
          26.74763263887642,
          35.0347209412711,
          42.00604123804371,
          18.30936410330949,
          31.79276557491649,
          22.00302791260598,
          33.93478036972154,
          24.06716297139123,
          37.6493551535287,
          37.63682996438092,
          24.64465081136552,
          22.84846573619816,
          39.13147738785178,
          32.07855927549254,
          38.77623321968011,
          20.83495672791886,
          39.53891929156112,
          19.08268725455712,
          31.2575316065812
         ]
        }
       ],
       "layout": {
        "height": 300,
        "template": {
         "data": {
          "bar": [
           {
            "error_x": {
             "color": "#2a3f5f"
            },
            "error_y": {
             "color": "#2a3f5f"
            },
            "marker": {
             "line": {
              "color": "#E5ECF6",
              "width": 0.5
             },
             "pattern": {
              "fillmode": "overlay",
              "size": 10,
              "solidity": 0.2
             }
            },
            "type": "bar"
           }
          ],
          "barpolar": [
           {
            "marker": {
             "line": {
              "color": "#E5ECF6",
              "width": 0.5
             },
             "pattern": {
              "fillmode": "overlay",
              "size": 10,
              "solidity": 0.2
             }
            },
            "type": "barpolar"
           }
          ],
          "carpet": [
           {
            "aaxis": {
             "endlinecolor": "#2a3f5f",
             "gridcolor": "white",
             "linecolor": "white",
             "minorgridcolor": "white",
             "startlinecolor": "#2a3f5f"
            },
            "baxis": {
             "endlinecolor": "#2a3f5f",
             "gridcolor": "white",
             "linecolor": "white",
             "minorgridcolor": "white",
             "startlinecolor": "#2a3f5f"
            },
            "type": "carpet"
           }
          ],
          "choropleth": [
           {
            "colorbar": {
             "outlinewidth": 0,
             "ticks": ""
            },
            "type": "choropleth"
           }
          ],
          "contour": [
           {
            "colorbar": {
             "outlinewidth": 0,
             "ticks": ""
            },
            "colorscale": [
             [
              0,
              "#0d0887"
             ],
             [
              0.1111111111111111,
              "#46039f"
             ],
             [
              0.2222222222222222,
              "#7201a8"
             ],
             [
              0.3333333333333333,
              "#9c179e"
             ],
             [
              0.4444444444444444,
              "#bd3786"
             ],
             [
              0.5555555555555556,
              "#d8576b"
             ],
             [
              0.6666666666666666,
              "#ed7953"
             ],
             [
              0.7777777777777778,
              "#fb9f3a"
             ],
             [
              0.8888888888888888,
              "#fdca26"
             ],
             [
              1,
              "#f0f921"
             ]
            ],
            "type": "contour"
           }
          ],
          "contourcarpet": [
           {
            "colorbar": {
             "outlinewidth": 0,
             "ticks": ""
            },
            "type": "contourcarpet"
           }
          ],
          "heatmap": [
           {
            "colorbar": {
             "outlinewidth": 0,
             "ticks": ""
            },
            "colorscale": [
             [
              0,
              "#0d0887"
             ],
             [
              0.1111111111111111,
              "#46039f"
             ],
             [
              0.2222222222222222,
              "#7201a8"
             ],
             [
              0.3333333333333333,
              "#9c179e"
             ],
             [
              0.4444444444444444,
              "#bd3786"
             ],
             [
              0.5555555555555556,
              "#d8576b"
             ],
             [
              0.6666666666666666,
              "#ed7953"
             ],
             [
              0.7777777777777778,
              "#fb9f3a"
             ],
             [
              0.8888888888888888,
              "#fdca26"
             ],
             [
              1,
              "#f0f921"
             ]
            ],
            "type": "heatmap"
           }
          ],
          "heatmapgl": [
           {
            "colorbar": {
             "outlinewidth": 0,
             "ticks": ""
            },
            "colorscale": [
             [
              0,
              "#0d0887"
             ],
             [
              0.1111111111111111,
              "#46039f"
             ],
             [
              0.2222222222222222,
              "#7201a8"
             ],
             [
              0.3333333333333333,
              "#9c179e"
             ],
             [
              0.4444444444444444,
              "#bd3786"
             ],
             [
              0.5555555555555556,
              "#d8576b"
             ],
             [
              0.6666666666666666,
              "#ed7953"
             ],
             [
              0.7777777777777778,
              "#fb9f3a"
             ],
             [
              0.8888888888888888,
              "#fdca26"
             ],
             [
              1,
              "#f0f921"
             ]
            ],
            "type": "heatmapgl"
           }
          ],
          "histogram": [
           {
            "marker": {
             "pattern": {
              "fillmode": "overlay",
              "size": 10,
              "solidity": 0.2
             }
            },
            "type": "histogram"
           }
          ],
          "histogram2d": [
           {
            "colorbar": {
             "outlinewidth": 0,
             "ticks": ""
            },
            "colorscale": [
             [
              0,
              "#0d0887"
             ],
             [
              0.1111111111111111,
              "#46039f"
             ],
             [
              0.2222222222222222,
              "#7201a8"
             ],
             [
              0.3333333333333333,
              "#9c179e"
             ],
             [
              0.4444444444444444,
              "#bd3786"
             ],
             [
              0.5555555555555556,
              "#d8576b"
             ],
             [
              0.6666666666666666,
              "#ed7953"
             ],
             [
              0.7777777777777778,
              "#fb9f3a"
             ],
             [
              0.8888888888888888,
              "#fdca26"
             ],
             [
              1,
              "#f0f921"
             ]
            ],
            "type": "histogram2d"
           }
          ],
          "histogram2dcontour": [
           {
            "colorbar": {
             "outlinewidth": 0,
             "ticks": ""
            },
            "colorscale": [
             [
              0,
              "#0d0887"
             ],
             [
              0.1111111111111111,
              "#46039f"
             ],
             [
              0.2222222222222222,
              "#7201a8"
             ],
             [
              0.3333333333333333,
              "#9c179e"
             ],
             [
              0.4444444444444444,
              "#bd3786"
             ],
             [
              0.5555555555555556,
              "#d8576b"
             ],
             [
              0.6666666666666666,
              "#ed7953"
             ],
             [
              0.7777777777777778,
              "#fb9f3a"
             ],
             [
              0.8888888888888888,
              "#fdca26"
             ],
             [
              1,
              "#f0f921"
             ]
            ],
            "type": "histogram2dcontour"
           }
          ],
          "mesh3d": [
           {
            "colorbar": {
             "outlinewidth": 0,
             "ticks": ""
            },
            "type": "mesh3d"
           }
          ],
          "parcoords": [
           {
            "line": {
             "colorbar": {
              "outlinewidth": 0,
              "ticks": ""
             }
            },
            "type": "parcoords"
           }
          ],
          "pie": [
           {
            "automargin": true,
            "type": "pie"
           }
          ],
          "scatter": [
           {
            "fillpattern": {
             "fillmode": "overlay",
             "size": 10,
             "solidity": 0.2
            },
            "type": "scatter"
           }
          ],
          "scatter3d": [
           {
            "line": {
             "colorbar": {
              "outlinewidth": 0,
              "ticks": ""
             }
            },
            "marker": {
             "colorbar": {
              "outlinewidth": 0,
              "ticks": ""
             }
            },
            "type": "scatter3d"
           }
          ],
          "scattercarpet": [
           {
            "marker": {
             "colorbar": {
              "outlinewidth": 0,
              "ticks": ""
             }
            },
            "type": "scattercarpet"
           }
          ],
          "scattergeo": [
           {
            "marker": {
             "colorbar": {
              "outlinewidth": 0,
              "ticks": ""
             }
            },
            "type": "scattergeo"
           }
          ],
          "scattergl": [
           {
            "marker": {
             "colorbar": {
              "outlinewidth": 0,
              "ticks": ""
             }
            },
            "type": "scattergl"
           }
          ],
          "scattermapbox": [
           {
            "marker": {
             "colorbar": {
              "outlinewidth": 0,
              "ticks": ""
             }
            },
            "type": "scattermapbox"
           }
          ],
          "scatterpolar": [
           {
            "marker": {
             "colorbar": {
              "outlinewidth": 0,
              "ticks": ""
             }
            },
            "type": "scatterpolar"
           }
          ],
          "scatterpolargl": [
           {
            "marker": {
             "colorbar": {
              "outlinewidth": 0,
              "ticks": ""
             }
            },
            "type": "scatterpolargl"
           }
          ],
          "scatterternary": [
           {
            "marker": {
             "colorbar": {
              "outlinewidth": 0,
              "ticks": ""
             }
            },
            "type": "scatterternary"
           }
          ],
          "surface": [
           {
            "colorbar": {
             "outlinewidth": 0,
             "ticks": ""
            },
            "colorscale": [
             [
              0,
              "#0d0887"
             ],
             [
              0.1111111111111111,
              "#46039f"
             ],
             [
              0.2222222222222222,
              "#7201a8"
             ],
             [
              0.3333333333333333,
              "#9c179e"
             ],
             [
              0.4444444444444444,
              "#bd3786"
             ],
             [
              0.5555555555555556,
              "#d8576b"
             ],
             [
              0.6666666666666666,
              "#ed7953"
             ],
             [
              0.7777777777777778,
              "#fb9f3a"
             ],
             [
              0.8888888888888888,
              "#fdca26"
             ],
             [
              1,
              "#f0f921"
             ]
            ],
            "type": "surface"
           }
          ],
          "table": [
           {
            "cells": {
             "fill": {
              "color": "#EBF0F8"
             },
             "line": {
              "color": "white"
             }
            },
            "header": {
             "fill": {
              "color": "#C8D4E3"
             },
             "line": {
              "color": "white"
             }
            },
            "type": "table"
           }
          ]
         },
         "layout": {
          "annotationdefaults": {
           "arrowcolor": "#2a3f5f",
           "arrowhead": 0,
           "arrowwidth": 1
          },
          "autotypenumbers": "strict",
          "coloraxis": {
           "colorbar": {
            "outlinewidth": 0,
            "ticks": ""
           }
          },
          "colorscale": {
           "diverging": [
            [
             0,
             "#8e0152"
            ],
            [
             0.1,
             "#c51b7d"
            ],
            [
             0.2,
             "#de77ae"
            ],
            [
             0.3,
             "#f1b6da"
            ],
            [
             0.4,
             "#fde0ef"
            ],
            [
             0.5,
             "#f7f7f7"
            ],
            [
             0.6,
             "#e6f5d0"
            ],
            [
             0.7,
             "#b8e186"
            ],
            [
             0.8,
             "#7fbc41"
            ],
            [
             0.9,
             "#4d9221"
            ],
            [
             1,
             "#276419"
            ]
           ],
           "sequential": [
            [
             0,
             "#0d0887"
            ],
            [
             0.1111111111111111,
             "#46039f"
            ],
            [
             0.2222222222222222,
             "#7201a8"
            ],
            [
             0.3333333333333333,
             "#9c179e"
            ],
            [
             0.4444444444444444,
             "#bd3786"
            ],
            [
             0.5555555555555556,
             "#d8576b"
            ],
            [
             0.6666666666666666,
             "#ed7953"
            ],
            [
             0.7777777777777778,
             "#fb9f3a"
            ],
            [
             0.8888888888888888,
             "#fdca26"
            ],
            [
             1,
             "#f0f921"
            ]
           ],
           "sequentialminus": [
            [
             0,
             "#0d0887"
            ],
            [
             0.1111111111111111,
             "#46039f"
            ],
            [
             0.2222222222222222,
             "#7201a8"
            ],
            [
             0.3333333333333333,
             "#9c179e"
            ],
            [
             0.4444444444444444,
             "#bd3786"
            ],
            [
             0.5555555555555556,
             "#d8576b"
            ],
            [
             0.6666666666666666,
             "#ed7953"
            ],
            [
             0.7777777777777778,
             "#fb9f3a"
            ],
            [
             0.8888888888888888,
             "#fdca26"
            ],
            [
             1,
             "#f0f921"
            ]
           ]
          },
          "colorway": [
           "#636efa",
           "#EF553B",
           "#00cc96",
           "#ab63fa",
           "#FFA15A",
           "#19d3f3",
           "#FF6692",
           "#B6E880",
           "#FF97FF",
           "#FECB52"
          ],
          "font": {
           "color": "#2a3f5f"
          },
          "geo": {
           "bgcolor": "white",
           "lakecolor": "white",
           "landcolor": "#E5ECF6",
           "showlakes": true,
           "showland": true,
           "subunitcolor": "white"
          },
          "hoverlabel": {
           "align": "left"
          },
          "hovermode": "closest",
          "mapbox": {
           "style": "light"
          },
          "paper_bgcolor": "white",
          "plot_bgcolor": "#E5ECF6",
          "polar": {
           "angularaxis": {
            "gridcolor": "white",
            "linecolor": "white",
            "ticks": ""
           },
           "bgcolor": "#E5ECF6",
           "radialaxis": {
            "gridcolor": "white",
            "linecolor": "white",
            "ticks": ""
           }
          },
          "scene": {
           "xaxis": {
            "backgroundcolor": "#E5ECF6",
            "gridcolor": "white",
            "gridwidth": 2,
            "linecolor": "white",
            "showbackground": true,
            "ticks": "",
            "zerolinecolor": "white"
           },
           "yaxis": {
            "backgroundcolor": "#E5ECF6",
            "gridcolor": "white",
            "gridwidth": 2,
            "linecolor": "white",
            "showbackground": true,
            "ticks": "",
            "zerolinecolor": "white"
           },
           "zaxis": {
            "backgroundcolor": "#E5ECF6",
            "gridcolor": "white",
            "gridwidth": 2,
            "linecolor": "white",
            "showbackground": true,
            "ticks": "",
            "zerolinecolor": "white"
           }
          },
          "shapedefaults": {
           "line": {
            "color": "#2a3f5f"
           }
          },
          "ternary": {
           "aaxis": {
            "gridcolor": "white",
            "linecolor": "white",
            "ticks": ""
           },
           "baxis": {
            "gridcolor": "white",
            "linecolor": "white",
            "ticks": ""
           },
           "bgcolor": "#E5ECF6",
           "caxis": {
            "gridcolor": "white",
            "linecolor": "white",
            "ticks": ""
           }
          },
          "title": {
           "x": 0.05
          },
          "xaxis": {
           "automargin": true,
           "gridcolor": "white",
           "linecolor": "white",
           "ticks": "",
           "title": {
            "standoff": 15
           },
           "zerolinecolor": "white",
           "zerolinewidth": 2
          },
          "yaxis": {
           "automargin": true,
           "gridcolor": "white",
           "linecolor": "white",
           "ticks": "",
           "title": {
            "standoff": 15
           },
           "zerolinecolor": "white",
           "zerolinewidth": 2
          }
         }
        },
        "width": 300
       }
      }
     },
     "metadata": {},
     "output_type": "display_data"
    }
   ],
   "source": [
    "# BMI histogram\n",
    "bmi_hist =  go.Histogram(x=fig_df[\"BMI\"], name=\"BMI\", marker=dict(color=bmi_histogram_color))\n",
    "\n",
    "# Visualize\n",
    "data = [bmi_hist]\n",
    "fig = go.Figure(data = data)\n",
    "fig.update_layout(width=300, height=300)\n",
    "display(fig)"
   ]
  },
  {
   "cell_type": "code",
   "execution_count": 66,
   "metadata": {},
   "outputs": [
    {
     "data": {
      "application/vnd.plotly.v1+json": {
       "config": {
        "plotlyServerURL": "https://plot.ly"
       },
       "data": [
        {
         "marker": {
          "color": "#52b69a"
         },
         "name": "Age",
         "type": "histogram",
         "x": [
          81,
          70,
          88,
          78,
          84,
          83,
          79,
          86,
          85,
          79,
          75,
          91,
          61,
          89,
          67,
          85,
          81,
          72,
          91,
          89,
          75,
          79,
          78,
          60,
          72,
          61,
          69,
          73,
          79,
          61,
          77,
          64,
          87,
          73,
          91,
          63,
          81,
          66,
          76,
          80,
          84,
          79,
          84,
          86,
          61,
          71,
          60,
          71,
          63,
          85,
          83,
          79
         ]
        }
       ],
       "layout": {
        "height": 300,
        "template": {
         "data": {
          "bar": [
           {
            "error_x": {
             "color": "#2a3f5f"
            },
            "error_y": {
             "color": "#2a3f5f"
            },
            "marker": {
             "line": {
              "color": "#E5ECF6",
              "width": 0.5
             },
             "pattern": {
              "fillmode": "overlay",
              "size": 10,
              "solidity": 0.2
             }
            },
            "type": "bar"
           }
          ],
          "barpolar": [
           {
            "marker": {
             "line": {
              "color": "#E5ECF6",
              "width": 0.5
             },
             "pattern": {
              "fillmode": "overlay",
              "size": 10,
              "solidity": 0.2
             }
            },
            "type": "barpolar"
           }
          ],
          "carpet": [
           {
            "aaxis": {
             "endlinecolor": "#2a3f5f",
             "gridcolor": "white",
             "linecolor": "white",
             "minorgridcolor": "white",
             "startlinecolor": "#2a3f5f"
            },
            "baxis": {
             "endlinecolor": "#2a3f5f",
             "gridcolor": "white",
             "linecolor": "white",
             "minorgridcolor": "white",
             "startlinecolor": "#2a3f5f"
            },
            "type": "carpet"
           }
          ],
          "choropleth": [
           {
            "colorbar": {
             "outlinewidth": 0,
             "ticks": ""
            },
            "type": "choropleth"
           }
          ],
          "contour": [
           {
            "colorbar": {
             "outlinewidth": 0,
             "ticks": ""
            },
            "colorscale": [
             [
              0,
              "#0d0887"
             ],
             [
              0.1111111111111111,
              "#46039f"
             ],
             [
              0.2222222222222222,
              "#7201a8"
             ],
             [
              0.3333333333333333,
              "#9c179e"
             ],
             [
              0.4444444444444444,
              "#bd3786"
             ],
             [
              0.5555555555555556,
              "#d8576b"
             ],
             [
              0.6666666666666666,
              "#ed7953"
             ],
             [
              0.7777777777777778,
              "#fb9f3a"
             ],
             [
              0.8888888888888888,
              "#fdca26"
             ],
             [
              1,
              "#f0f921"
             ]
            ],
            "type": "contour"
           }
          ],
          "contourcarpet": [
           {
            "colorbar": {
             "outlinewidth": 0,
             "ticks": ""
            },
            "type": "contourcarpet"
           }
          ],
          "heatmap": [
           {
            "colorbar": {
             "outlinewidth": 0,
             "ticks": ""
            },
            "colorscale": [
             [
              0,
              "#0d0887"
             ],
             [
              0.1111111111111111,
              "#46039f"
             ],
             [
              0.2222222222222222,
              "#7201a8"
             ],
             [
              0.3333333333333333,
              "#9c179e"
             ],
             [
              0.4444444444444444,
              "#bd3786"
             ],
             [
              0.5555555555555556,
              "#d8576b"
             ],
             [
              0.6666666666666666,
              "#ed7953"
             ],
             [
              0.7777777777777778,
              "#fb9f3a"
             ],
             [
              0.8888888888888888,
              "#fdca26"
             ],
             [
              1,
              "#f0f921"
             ]
            ],
            "type": "heatmap"
           }
          ],
          "heatmapgl": [
           {
            "colorbar": {
             "outlinewidth": 0,
             "ticks": ""
            },
            "colorscale": [
             [
              0,
              "#0d0887"
             ],
             [
              0.1111111111111111,
              "#46039f"
             ],
             [
              0.2222222222222222,
              "#7201a8"
             ],
             [
              0.3333333333333333,
              "#9c179e"
             ],
             [
              0.4444444444444444,
              "#bd3786"
             ],
             [
              0.5555555555555556,
              "#d8576b"
             ],
             [
              0.6666666666666666,
              "#ed7953"
             ],
             [
              0.7777777777777778,
              "#fb9f3a"
             ],
             [
              0.8888888888888888,
              "#fdca26"
             ],
             [
              1,
              "#f0f921"
             ]
            ],
            "type": "heatmapgl"
           }
          ],
          "histogram": [
           {
            "marker": {
             "pattern": {
              "fillmode": "overlay",
              "size": 10,
              "solidity": 0.2
             }
            },
            "type": "histogram"
           }
          ],
          "histogram2d": [
           {
            "colorbar": {
             "outlinewidth": 0,
             "ticks": ""
            },
            "colorscale": [
             [
              0,
              "#0d0887"
             ],
             [
              0.1111111111111111,
              "#46039f"
             ],
             [
              0.2222222222222222,
              "#7201a8"
             ],
             [
              0.3333333333333333,
              "#9c179e"
             ],
             [
              0.4444444444444444,
              "#bd3786"
             ],
             [
              0.5555555555555556,
              "#d8576b"
             ],
             [
              0.6666666666666666,
              "#ed7953"
             ],
             [
              0.7777777777777778,
              "#fb9f3a"
             ],
             [
              0.8888888888888888,
              "#fdca26"
             ],
             [
              1,
              "#f0f921"
             ]
            ],
            "type": "histogram2d"
           }
          ],
          "histogram2dcontour": [
           {
            "colorbar": {
             "outlinewidth": 0,
             "ticks": ""
            },
            "colorscale": [
             [
              0,
              "#0d0887"
             ],
             [
              0.1111111111111111,
              "#46039f"
             ],
             [
              0.2222222222222222,
              "#7201a8"
             ],
             [
              0.3333333333333333,
              "#9c179e"
             ],
             [
              0.4444444444444444,
              "#bd3786"
             ],
             [
              0.5555555555555556,
              "#d8576b"
             ],
             [
              0.6666666666666666,
              "#ed7953"
             ],
             [
              0.7777777777777778,
              "#fb9f3a"
             ],
             [
              0.8888888888888888,
              "#fdca26"
             ],
             [
              1,
              "#f0f921"
             ]
            ],
            "type": "histogram2dcontour"
           }
          ],
          "mesh3d": [
           {
            "colorbar": {
             "outlinewidth": 0,
             "ticks": ""
            },
            "type": "mesh3d"
           }
          ],
          "parcoords": [
           {
            "line": {
             "colorbar": {
              "outlinewidth": 0,
              "ticks": ""
             }
            },
            "type": "parcoords"
           }
          ],
          "pie": [
           {
            "automargin": true,
            "type": "pie"
           }
          ],
          "scatter": [
           {
            "fillpattern": {
             "fillmode": "overlay",
             "size": 10,
             "solidity": 0.2
            },
            "type": "scatter"
           }
          ],
          "scatter3d": [
           {
            "line": {
             "colorbar": {
              "outlinewidth": 0,
              "ticks": ""
             }
            },
            "marker": {
             "colorbar": {
              "outlinewidth": 0,
              "ticks": ""
             }
            },
            "type": "scatter3d"
           }
          ],
          "scattercarpet": [
           {
            "marker": {
             "colorbar": {
              "outlinewidth": 0,
              "ticks": ""
             }
            },
            "type": "scattercarpet"
           }
          ],
          "scattergeo": [
           {
            "marker": {
             "colorbar": {
              "outlinewidth": 0,
              "ticks": ""
             }
            },
            "type": "scattergeo"
           }
          ],
          "scattergl": [
           {
            "marker": {
             "colorbar": {
              "outlinewidth": 0,
              "ticks": ""
             }
            },
            "type": "scattergl"
           }
          ],
          "scattermapbox": [
           {
            "marker": {
             "colorbar": {
              "outlinewidth": 0,
              "ticks": ""
             }
            },
            "type": "scattermapbox"
           }
          ],
          "scatterpolar": [
           {
            "marker": {
             "colorbar": {
              "outlinewidth": 0,
              "ticks": ""
             }
            },
            "type": "scatterpolar"
           }
          ],
          "scatterpolargl": [
           {
            "marker": {
             "colorbar": {
              "outlinewidth": 0,
              "ticks": ""
             }
            },
            "type": "scatterpolargl"
           }
          ],
          "scatterternary": [
           {
            "marker": {
             "colorbar": {
              "outlinewidth": 0,
              "ticks": ""
             }
            },
            "type": "scatterternary"
           }
          ],
          "surface": [
           {
            "colorbar": {
             "outlinewidth": 0,
             "ticks": ""
            },
            "colorscale": [
             [
              0,
              "#0d0887"
             ],
             [
              0.1111111111111111,
              "#46039f"
             ],
             [
              0.2222222222222222,
              "#7201a8"
             ],
             [
              0.3333333333333333,
              "#9c179e"
             ],
             [
              0.4444444444444444,
              "#bd3786"
             ],
             [
              0.5555555555555556,
              "#d8576b"
             ],
             [
              0.6666666666666666,
              "#ed7953"
             ],
             [
              0.7777777777777778,
              "#fb9f3a"
             ],
             [
              0.8888888888888888,
              "#fdca26"
             ],
             [
              1,
              "#f0f921"
             ]
            ],
            "type": "surface"
           }
          ],
          "table": [
           {
            "cells": {
             "fill": {
              "color": "#EBF0F8"
             },
             "line": {
              "color": "white"
             }
            },
            "header": {
             "fill": {
              "color": "#C8D4E3"
             },
             "line": {
              "color": "white"
             }
            },
            "type": "table"
           }
          ]
         },
         "layout": {
          "annotationdefaults": {
           "arrowcolor": "#2a3f5f",
           "arrowhead": 0,
           "arrowwidth": 1
          },
          "autotypenumbers": "strict",
          "coloraxis": {
           "colorbar": {
            "outlinewidth": 0,
            "ticks": ""
           }
          },
          "colorscale": {
           "diverging": [
            [
             0,
             "#8e0152"
            ],
            [
             0.1,
             "#c51b7d"
            ],
            [
             0.2,
             "#de77ae"
            ],
            [
             0.3,
             "#f1b6da"
            ],
            [
             0.4,
             "#fde0ef"
            ],
            [
             0.5,
             "#f7f7f7"
            ],
            [
             0.6,
             "#e6f5d0"
            ],
            [
             0.7,
             "#b8e186"
            ],
            [
             0.8,
             "#7fbc41"
            ],
            [
             0.9,
             "#4d9221"
            ],
            [
             1,
             "#276419"
            ]
           ],
           "sequential": [
            [
             0,
             "#0d0887"
            ],
            [
             0.1111111111111111,
             "#46039f"
            ],
            [
             0.2222222222222222,
             "#7201a8"
            ],
            [
             0.3333333333333333,
             "#9c179e"
            ],
            [
             0.4444444444444444,
             "#bd3786"
            ],
            [
             0.5555555555555556,
             "#d8576b"
            ],
            [
             0.6666666666666666,
             "#ed7953"
            ],
            [
             0.7777777777777778,
             "#fb9f3a"
            ],
            [
             0.8888888888888888,
             "#fdca26"
            ],
            [
             1,
             "#f0f921"
            ]
           ],
           "sequentialminus": [
            [
             0,
             "#0d0887"
            ],
            [
             0.1111111111111111,
             "#46039f"
            ],
            [
             0.2222222222222222,
             "#7201a8"
            ],
            [
             0.3333333333333333,
             "#9c179e"
            ],
            [
             0.4444444444444444,
             "#bd3786"
            ],
            [
             0.5555555555555556,
             "#d8576b"
            ],
            [
             0.6666666666666666,
             "#ed7953"
            ],
            [
             0.7777777777777778,
             "#fb9f3a"
            ],
            [
             0.8888888888888888,
             "#fdca26"
            ],
            [
             1,
             "#f0f921"
            ]
           ]
          },
          "colorway": [
           "#636efa",
           "#EF553B",
           "#00cc96",
           "#ab63fa",
           "#FFA15A",
           "#19d3f3",
           "#FF6692",
           "#B6E880",
           "#FF97FF",
           "#FECB52"
          ],
          "font": {
           "color": "#2a3f5f"
          },
          "geo": {
           "bgcolor": "white",
           "lakecolor": "white",
           "landcolor": "#E5ECF6",
           "showlakes": true,
           "showland": true,
           "subunitcolor": "white"
          },
          "hoverlabel": {
           "align": "left"
          },
          "hovermode": "closest",
          "mapbox": {
           "style": "light"
          },
          "paper_bgcolor": "white",
          "plot_bgcolor": "#E5ECF6",
          "polar": {
           "angularaxis": {
            "gridcolor": "white",
            "linecolor": "white",
            "ticks": ""
           },
           "bgcolor": "#E5ECF6",
           "radialaxis": {
            "gridcolor": "white",
            "linecolor": "white",
            "ticks": ""
           }
          },
          "scene": {
           "xaxis": {
            "backgroundcolor": "#E5ECF6",
            "gridcolor": "white",
            "gridwidth": 2,
            "linecolor": "white",
            "showbackground": true,
            "ticks": "",
            "zerolinecolor": "white"
           },
           "yaxis": {
            "backgroundcolor": "#E5ECF6",
            "gridcolor": "white",
            "gridwidth": 2,
            "linecolor": "white",
            "showbackground": true,
            "ticks": "",
            "zerolinecolor": "white"
           },
           "zaxis": {
            "backgroundcolor": "#E5ECF6",
            "gridcolor": "white",
            "gridwidth": 2,
            "linecolor": "white",
            "showbackground": true,
            "ticks": "",
            "zerolinecolor": "white"
           }
          },
          "shapedefaults": {
           "line": {
            "color": "#2a3f5f"
           }
          },
          "ternary": {
           "aaxis": {
            "gridcolor": "white",
            "linecolor": "white",
            "ticks": ""
           },
           "baxis": {
            "gridcolor": "white",
            "linecolor": "white",
            "ticks": ""
           },
           "bgcolor": "#E5ECF6",
           "caxis": {
            "gridcolor": "white",
            "linecolor": "white",
            "ticks": ""
           }
          },
          "title": {
           "x": 0.05
          },
          "xaxis": {
           "automargin": true,
           "gridcolor": "white",
           "linecolor": "white",
           "ticks": "",
           "title": {
            "standoff": 15
           },
           "zerolinecolor": "white",
           "zerolinewidth": 2
          },
          "yaxis": {
           "automargin": true,
           "gridcolor": "white",
           "linecolor": "white",
           "ticks": "",
           "title": {
            "standoff": 15
           },
           "zerolinecolor": "white",
           "zerolinewidth": 2
          }
         }
        },
        "width": 300
       }
      }
     },
     "metadata": {},
     "output_type": "display_data"
    }
   ],
   "source": [
    "# Age histogram\n",
    "age_hist=  go.Histogram(x=fig_df[\"Age\"], name=\"Age\", marker=dict(color=age_histogram_color))\n",
    "\n",
    "# Visualize\n",
    "data = [age_hist]\n",
    "fig = go.Figure(data = data)\n",
    "fig.update_layout(width=300, height=300)\n",
    "display(fig)"
   ]
  },
  {
   "cell_type": "markdown",
   "metadata": {},
   "source": [
    "The following metrics are bsed on the total number of TEG test values"
   ]
  },
  {
   "cell_type": "code",
   "execution_count": 67,
   "metadata": {},
   "outputs": [],
   "source": [
    "# Copy TEG df to find metrics\n",
    "fig_df = clean_TEG_df.copy()"
   ]
  },
  {
   "cell_type": "code",
   "execution_count": 68,
   "metadata": {},
   "outputs": [
    {
     "data": {
      "application/vnd.plotly.v1+json": {
       "config": {
        "plotlyServerURL": "https://plot.ly"
       },
       "data": [
        {
         "marker": {
          "color": "#1a759f"
         },
         "name": "Events",
         "type": "histogram",
         "x": [
          3,
          5,
          4,
          5,
          2,
          2,
          4,
          0,
          1,
          2,
          2,
          1,
          4,
          1,
          4,
          3,
          4,
          2,
          1,
          3,
          2,
          4,
          1,
          2,
          4,
          5,
          3,
          4,
          2,
          3,
          3,
          4,
          4,
          6,
          4,
          1,
          3,
          1,
          3,
          5,
          2,
          2,
          4,
          3,
          3,
          2,
          4,
          3,
          4,
          1,
          3,
          2,
          3,
          5,
          4,
          5,
          2,
          2,
          4,
          0,
          1,
          2,
          2,
          1,
          4,
          1,
          4,
          3,
          4,
          2,
          1,
          3,
          2,
          4,
          1,
          2,
          4,
          5,
          3,
          4,
          2,
          3,
          3,
          4,
          4,
          6,
          4,
          1,
          3,
          1,
          3,
          5,
          2,
          2,
          4,
          3,
          3,
          2,
          4,
          3,
          4,
          1,
          3,
          2,
          3,
          5,
          4,
          5,
          2,
          2,
          4,
          0,
          1,
          2,
          2,
          1,
          4,
          1,
          4,
          3,
          4,
          2,
          1,
          3,
          2,
          4,
          1,
          2,
          4,
          5,
          3,
          4,
          2,
          3,
          3,
          4,
          4,
          6,
          4,
          1,
          3,
          1,
          3,
          5,
          2,
          2,
          4,
          3,
          3,
          2,
          4,
          3,
          4,
          1,
          3,
          2,
          3,
          5,
          4,
          5,
          2,
          2,
          4,
          0,
          1,
          2,
          2,
          1,
          4,
          1,
          4,
          3,
          4,
          2,
          1,
          3,
          2,
          4,
          1,
          2,
          4,
          5,
          3,
          4,
          2,
          3,
          3,
          4,
          4,
          6,
          4,
          1,
          3,
          1,
          3,
          5,
          2,
          2,
          4,
          3,
          3,
          2,
          4,
          3,
          4,
          1,
          3,
          2,
          3,
          5,
          4,
          5,
          2,
          2,
          4,
          0,
          1,
          2,
          2,
          1,
          4,
          1,
          4,
          3,
          4,
          2,
          1,
          3,
          2,
          4,
          1,
          2,
          4,
          5,
          3,
          4,
          2,
          3,
          3,
          4,
          4,
          6,
          4,
          1,
          3,
          1,
          3,
          5,
          2,
          2,
          4,
          3,
          3,
          2,
          4,
          3,
          4,
          1,
          3,
          2,
          3,
          5,
          4,
          5,
          2,
          2,
          4,
          0,
          1,
          2,
          2,
          1,
          4,
          1,
          4,
          3,
          4,
          2,
          1,
          3,
          2,
          4,
          1,
          2,
          4,
          5,
          3,
          4,
          2,
          3,
          3,
          4,
          4,
          6,
          4,
          1,
          3,
          1,
          3,
          5,
          2,
          2,
          4,
          3,
          3,
          2,
          4,
          3,
          4,
          1,
          3,
          2,
          3,
          5,
          4,
          5,
          2,
          2,
          4,
          0,
          1,
          2,
          2,
          1,
          4,
          1,
          4,
          3,
          4,
          2,
          1,
          3,
          2,
          4,
          1,
          2,
          4,
          5,
          3,
          4,
          2,
          3,
          3,
          4,
          4,
          6,
          4,
          1,
          3,
          1,
          3,
          5,
          2,
          2,
          4,
          3,
          3,
          2,
          4,
          3,
          4,
          1,
          3,
          2,
          3,
          5,
          4,
          5,
          2,
          2,
          4,
          0,
          1,
          2,
          2,
          1,
          4,
          1,
          4,
          3,
          4,
          2,
          1,
          3,
          2,
          4,
          1,
          2,
          4,
          5,
          3,
          4,
          2,
          3,
          3,
          4,
          4,
          6,
          4,
          1,
          3,
          1,
          3,
          5,
          2,
          2,
          4,
          3,
          3,
          2,
          4,
          3,
          4,
          1,
          3,
          2,
          3,
          5,
          4,
          5,
          2,
          2,
          4,
          0,
          1,
          2,
          2,
          1,
          4,
          1,
          4,
          3,
          4,
          2,
          1,
          3,
          2,
          4,
          1,
          2,
          4,
          5,
          3,
          4,
          2,
          3,
          3,
          4,
          4,
          6,
          4,
          1,
          3,
          1,
          3,
          5,
          2,
          2,
          4,
          3,
          3,
          2,
          4,
          3,
          4,
          1,
          3,
          2,
          3,
          5,
          4,
          5,
          2,
          2,
          4,
          0,
          1,
          2,
          2,
          1,
          4,
          1,
          4,
          3,
          4,
          2,
          1,
          3,
          2,
          4,
          1,
          2,
          4,
          5,
          3,
          4,
          2,
          3,
          3,
          4,
          4,
          6,
          4,
          1,
          3,
          1,
          3,
          5,
          2,
          2,
          4,
          3,
          3,
          2,
          4,
          3,
          4,
          1,
          3,
          2,
          3,
          5,
          4,
          5,
          2,
          2,
          4,
          0,
          1,
          2,
          2,
          1,
          4,
          1,
          4,
          3,
          4,
          2,
          1,
          3,
          2,
          4,
          1,
          2,
          4,
          5,
          3,
          4,
          2,
          3,
          3,
          4,
          4,
          6,
          4,
          1,
          3,
          1,
          3,
          5,
          2,
          2,
          4,
          3,
          3,
          2,
          4,
          3,
          4,
          1,
          3,
          2,
          3,
          5,
          4,
          5,
          2,
          2,
          4,
          0,
          1,
          2,
          2,
          1,
          4,
          1,
          4,
          3,
          4,
          2,
          1,
          3,
          2,
          4,
          1,
          2,
          4,
          5,
          3,
          4,
          2,
          3,
          3,
          4,
          4,
          6,
          4,
          1,
          3,
          1,
          3,
          5,
          2,
          2,
          4,
          3,
          3,
          2,
          4,
          3,
          4,
          1,
          3,
          2,
          3,
          5,
          4,
          5,
          2,
          2,
          4,
          0,
          1,
          2,
          2,
          1,
          4,
          1,
          4,
          3,
          4,
          2,
          1,
          3,
          2,
          4,
          1,
          2,
          4,
          5,
          3,
          4,
          2,
          3,
          3,
          4,
          4,
          6,
          4,
          1,
          3,
          1,
          3,
          5,
          2,
          2,
          4,
          3,
          3,
          2,
          4,
          3,
          4,
          1,
          3,
          2,
          3,
          5,
          4,
          5,
          2,
          2,
          4,
          0,
          1,
          2,
          2,
          1,
          4,
          1,
          4,
          3,
          4,
          2,
          1,
          3,
          2,
          4,
          1,
          2,
          4,
          5,
          3,
          4,
          2,
          3,
          3,
          4,
          4,
          6,
          4,
          1,
          3,
          1,
          3,
          5,
          2,
          2,
          4,
          3,
          3,
          2,
          4,
          3,
          4,
          1,
          3,
          2,
          3,
          5,
          4,
          5,
          2,
          2,
          4,
          0,
          1,
          2,
          2,
          1,
          4,
          1,
          4,
          3,
          4,
          2,
          1,
          3,
          2,
          4,
          1,
          2,
          4,
          5,
          3,
          4,
          2,
          3,
          3,
          4,
          4,
          6,
          4,
          1,
          3,
          1,
          3,
          5,
          2,
          2,
          4,
          3,
          3,
          2,
          4,
          3,
          4,
          1,
          3,
          2,
          3,
          5,
          4,
          5,
          2,
          2,
          4,
          0,
          1,
          2,
          2,
          1,
          4,
          1,
          4,
          3,
          4,
          2,
          1,
          3
         ]
        }
       ],
       "layout": {
        "height": 300,
        "template": {
         "data": {
          "bar": [
           {
            "error_x": {
             "color": "#2a3f5f"
            },
            "error_y": {
             "color": "#2a3f5f"
            },
            "marker": {
             "line": {
              "color": "#E5ECF6",
              "width": 0.5
             },
             "pattern": {
              "fillmode": "overlay",
              "size": 10,
              "solidity": 0.2
             }
            },
            "type": "bar"
           }
          ],
          "barpolar": [
           {
            "marker": {
             "line": {
              "color": "#E5ECF6",
              "width": 0.5
             },
             "pattern": {
              "fillmode": "overlay",
              "size": 10,
              "solidity": 0.2
             }
            },
            "type": "barpolar"
           }
          ],
          "carpet": [
           {
            "aaxis": {
             "endlinecolor": "#2a3f5f",
             "gridcolor": "white",
             "linecolor": "white",
             "minorgridcolor": "white",
             "startlinecolor": "#2a3f5f"
            },
            "baxis": {
             "endlinecolor": "#2a3f5f",
             "gridcolor": "white",
             "linecolor": "white",
             "minorgridcolor": "white",
             "startlinecolor": "#2a3f5f"
            },
            "type": "carpet"
           }
          ],
          "choropleth": [
           {
            "colorbar": {
             "outlinewidth": 0,
             "ticks": ""
            },
            "type": "choropleth"
           }
          ],
          "contour": [
           {
            "colorbar": {
             "outlinewidth": 0,
             "ticks": ""
            },
            "colorscale": [
             [
              0,
              "#0d0887"
             ],
             [
              0.1111111111111111,
              "#46039f"
             ],
             [
              0.2222222222222222,
              "#7201a8"
             ],
             [
              0.3333333333333333,
              "#9c179e"
             ],
             [
              0.4444444444444444,
              "#bd3786"
             ],
             [
              0.5555555555555556,
              "#d8576b"
             ],
             [
              0.6666666666666666,
              "#ed7953"
             ],
             [
              0.7777777777777778,
              "#fb9f3a"
             ],
             [
              0.8888888888888888,
              "#fdca26"
             ],
             [
              1,
              "#f0f921"
             ]
            ],
            "type": "contour"
           }
          ],
          "contourcarpet": [
           {
            "colorbar": {
             "outlinewidth": 0,
             "ticks": ""
            },
            "type": "contourcarpet"
           }
          ],
          "heatmap": [
           {
            "colorbar": {
             "outlinewidth": 0,
             "ticks": ""
            },
            "colorscale": [
             [
              0,
              "#0d0887"
             ],
             [
              0.1111111111111111,
              "#46039f"
             ],
             [
              0.2222222222222222,
              "#7201a8"
             ],
             [
              0.3333333333333333,
              "#9c179e"
             ],
             [
              0.4444444444444444,
              "#bd3786"
             ],
             [
              0.5555555555555556,
              "#d8576b"
             ],
             [
              0.6666666666666666,
              "#ed7953"
             ],
             [
              0.7777777777777778,
              "#fb9f3a"
             ],
             [
              0.8888888888888888,
              "#fdca26"
             ],
             [
              1,
              "#f0f921"
             ]
            ],
            "type": "heatmap"
           }
          ],
          "heatmapgl": [
           {
            "colorbar": {
             "outlinewidth": 0,
             "ticks": ""
            },
            "colorscale": [
             [
              0,
              "#0d0887"
             ],
             [
              0.1111111111111111,
              "#46039f"
             ],
             [
              0.2222222222222222,
              "#7201a8"
             ],
             [
              0.3333333333333333,
              "#9c179e"
             ],
             [
              0.4444444444444444,
              "#bd3786"
             ],
             [
              0.5555555555555556,
              "#d8576b"
             ],
             [
              0.6666666666666666,
              "#ed7953"
             ],
             [
              0.7777777777777778,
              "#fb9f3a"
             ],
             [
              0.8888888888888888,
              "#fdca26"
             ],
             [
              1,
              "#f0f921"
             ]
            ],
            "type": "heatmapgl"
           }
          ],
          "histogram": [
           {
            "marker": {
             "pattern": {
              "fillmode": "overlay",
              "size": 10,
              "solidity": 0.2
             }
            },
            "type": "histogram"
           }
          ],
          "histogram2d": [
           {
            "colorbar": {
             "outlinewidth": 0,
             "ticks": ""
            },
            "colorscale": [
             [
              0,
              "#0d0887"
             ],
             [
              0.1111111111111111,
              "#46039f"
             ],
             [
              0.2222222222222222,
              "#7201a8"
             ],
             [
              0.3333333333333333,
              "#9c179e"
             ],
             [
              0.4444444444444444,
              "#bd3786"
             ],
             [
              0.5555555555555556,
              "#d8576b"
             ],
             [
              0.6666666666666666,
              "#ed7953"
             ],
             [
              0.7777777777777778,
              "#fb9f3a"
             ],
             [
              0.8888888888888888,
              "#fdca26"
             ],
             [
              1,
              "#f0f921"
             ]
            ],
            "type": "histogram2d"
           }
          ],
          "histogram2dcontour": [
           {
            "colorbar": {
             "outlinewidth": 0,
             "ticks": ""
            },
            "colorscale": [
             [
              0,
              "#0d0887"
             ],
             [
              0.1111111111111111,
              "#46039f"
             ],
             [
              0.2222222222222222,
              "#7201a8"
             ],
             [
              0.3333333333333333,
              "#9c179e"
             ],
             [
              0.4444444444444444,
              "#bd3786"
             ],
             [
              0.5555555555555556,
              "#d8576b"
             ],
             [
              0.6666666666666666,
              "#ed7953"
             ],
             [
              0.7777777777777778,
              "#fb9f3a"
             ],
             [
              0.8888888888888888,
              "#fdca26"
             ],
             [
              1,
              "#f0f921"
             ]
            ],
            "type": "histogram2dcontour"
           }
          ],
          "mesh3d": [
           {
            "colorbar": {
             "outlinewidth": 0,
             "ticks": ""
            },
            "type": "mesh3d"
           }
          ],
          "parcoords": [
           {
            "line": {
             "colorbar": {
              "outlinewidth": 0,
              "ticks": ""
             }
            },
            "type": "parcoords"
           }
          ],
          "pie": [
           {
            "automargin": true,
            "type": "pie"
           }
          ],
          "scatter": [
           {
            "fillpattern": {
             "fillmode": "overlay",
             "size": 10,
             "solidity": 0.2
            },
            "type": "scatter"
           }
          ],
          "scatter3d": [
           {
            "line": {
             "colorbar": {
              "outlinewidth": 0,
              "ticks": ""
             }
            },
            "marker": {
             "colorbar": {
              "outlinewidth": 0,
              "ticks": ""
             }
            },
            "type": "scatter3d"
           }
          ],
          "scattercarpet": [
           {
            "marker": {
             "colorbar": {
              "outlinewidth": 0,
              "ticks": ""
             }
            },
            "type": "scattercarpet"
           }
          ],
          "scattergeo": [
           {
            "marker": {
             "colorbar": {
              "outlinewidth": 0,
              "ticks": ""
             }
            },
            "type": "scattergeo"
           }
          ],
          "scattergl": [
           {
            "marker": {
             "colorbar": {
              "outlinewidth": 0,
              "ticks": ""
             }
            },
            "type": "scattergl"
           }
          ],
          "scattermapbox": [
           {
            "marker": {
             "colorbar": {
              "outlinewidth": 0,
              "ticks": ""
             }
            },
            "type": "scattermapbox"
           }
          ],
          "scatterpolar": [
           {
            "marker": {
             "colorbar": {
              "outlinewidth": 0,
              "ticks": ""
             }
            },
            "type": "scatterpolar"
           }
          ],
          "scatterpolargl": [
           {
            "marker": {
             "colorbar": {
              "outlinewidth": 0,
              "ticks": ""
             }
            },
            "type": "scatterpolargl"
           }
          ],
          "scatterternary": [
           {
            "marker": {
             "colorbar": {
              "outlinewidth": 0,
              "ticks": ""
             }
            },
            "type": "scatterternary"
           }
          ],
          "surface": [
           {
            "colorbar": {
             "outlinewidth": 0,
             "ticks": ""
            },
            "colorscale": [
             [
              0,
              "#0d0887"
             ],
             [
              0.1111111111111111,
              "#46039f"
             ],
             [
              0.2222222222222222,
              "#7201a8"
             ],
             [
              0.3333333333333333,
              "#9c179e"
             ],
             [
              0.4444444444444444,
              "#bd3786"
             ],
             [
              0.5555555555555556,
              "#d8576b"
             ],
             [
              0.6666666666666666,
              "#ed7953"
             ],
             [
              0.7777777777777778,
              "#fb9f3a"
             ],
             [
              0.8888888888888888,
              "#fdca26"
             ],
             [
              1,
              "#f0f921"
             ]
            ],
            "type": "surface"
           }
          ],
          "table": [
           {
            "cells": {
             "fill": {
              "color": "#EBF0F8"
             },
             "line": {
              "color": "white"
             }
            },
            "header": {
             "fill": {
              "color": "#C8D4E3"
             },
             "line": {
              "color": "white"
             }
            },
            "type": "table"
           }
          ]
         },
         "layout": {
          "annotationdefaults": {
           "arrowcolor": "#2a3f5f",
           "arrowhead": 0,
           "arrowwidth": 1
          },
          "autotypenumbers": "strict",
          "coloraxis": {
           "colorbar": {
            "outlinewidth": 0,
            "ticks": ""
           }
          },
          "colorscale": {
           "diverging": [
            [
             0,
             "#8e0152"
            ],
            [
             0.1,
             "#c51b7d"
            ],
            [
             0.2,
             "#de77ae"
            ],
            [
             0.3,
             "#f1b6da"
            ],
            [
             0.4,
             "#fde0ef"
            ],
            [
             0.5,
             "#f7f7f7"
            ],
            [
             0.6,
             "#e6f5d0"
            ],
            [
             0.7,
             "#b8e186"
            ],
            [
             0.8,
             "#7fbc41"
            ],
            [
             0.9,
             "#4d9221"
            ],
            [
             1,
             "#276419"
            ]
           ],
           "sequential": [
            [
             0,
             "#0d0887"
            ],
            [
             0.1111111111111111,
             "#46039f"
            ],
            [
             0.2222222222222222,
             "#7201a8"
            ],
            [
             0.3333333333333333,
             "#9c179e"
            ],
            [
             0.4444444444444444,
             "#bd3786"
            ],
            [
             0.5555555555555556,
             "#d8576b"
            ],
            [
             0.6666666666666666,
             "#ed7953"
            ],
            [
             0.7777777777777778,
             "#fb9f3a"
            ],
            [
             0.8888888888888888,
             "#fdca26"
            ],
            [
             1,
             "#f0f921"
            ]
           ],
           "sequentialminus": [
            [
             0,
             "#0d0887"
            ],
            [
             0.1111111111111111,
             "#46039f"
            ],
            [
             0.2222222222222222,
             "#7201a8"
            ],
            [
             0.3333333333333333,
             "#9c179e"
            ],
            [
             0.4444444444444444,
             "#bd3786"
            ],
            [
             0.5555555555555556,
             "#d8576b"
            ],
            [
             0.6666666666666666,
             "#ed7953"
            ],
            [
             0.7777777777777778,
             "#fb9f3a"
            ],
            [
             0.8888888888888888,
             "#fdca26"
            ],
            [
             1,
             "#f0f921"
            ]
           ]
          },
          "colorway": [
           "#636efa",
           "#EF553B",
           "#00cc96",
           "#ab63fa",
           "#FFA15A",
           "#19d3f3",
           "#FF6692",
           "#B6E880",
           "#FF97FF",
           "#FECB52"
          ],
          "font": {
           "color": "#2a3f5f"
          },
          "geo": {
           "bgcolor": "white",
           "lakecolor": "white",
           "landcolor": "#E5ECF6",
           "showlakes": true,
           "showland": true,
           "subunitcolor": "white"
          },
          "hoverlabel": {
           "align": "left"
          },
          "hovermode": "closest",
          "mapbox": {
           "style": "light"
          },
          "paper_bgcolor": "white",
          "plot_bgcolor": "#E5ECF6",
          "polar": {
           "angularaxis": {
            "gridcolor": "white",
            "linecolor": "white",
            "ticks": ""
           },
           "bgcolor": "#E5ECF6",
           "radialaxis": {
            "gridcolor": "white",
            "linecolor": "white",
            "ticks": ""
           }
          },
          "scene": {
           "xaxis": {
            "backgroundcolor": "#E5ECF6",
            "gridcolor": "white",
            "gridwidth": 2,
            "linecolor": "white",
            "showbackground": true,
            "ticks": "",
            "zerolinecolor": "white"
           },
           "yaxis": {
            "backgroundcolor": "#E5ECF6",
            "gridcolor": "white",
            "gridwidth": 2,
            "linecolor": "white",
            "showbackground": true,
            "ticks": "",
            "zerolinecolor": "white"
           },
           "zaxis": {
            "backgroundcolor": "#E5ECF6",
            "gridcolor": "white",
            "gridwidth": 2,
            "linecolor": "white",
            "showbackground": true,
            "ticks": "",
            "zerolinecolor": "white"
           }
          },
          "shapedefaults": {
           "line": {
            "color": "#2a3f5f"
           }
          },
          "ternary": {
           "aaxis": {
            "gridcolor": "white",
            "linecolor": "white",
            "ticks": ""
           },
           "baxis": {
            "gridcolor": "white",
            "linecolor": "white",
            "ticks": ""
           },
           "bgcolor": "#E5ECF6",
           "caxis": {
            "gridcolor": "white",
            "linecolor": "white",
            "ticks": ""
           }
          },
          "title": {
           "x": 0.05
          },
          "xaxis": {
           "automargin": true,
           "gridcolor": "white",
           "linecolor": "white",
           "ticks": "",
           "title": {
            "standoff": 15
           },
           "zerolinecolor": "white",
           "zerolinewidth": 2
          },
          "yaxis": {
           "automargin": true,
           "gridcolor": "white",
           "linecolor": "white",
           "ticks": "",
           "title": {
            "standoff": 15
           },
           "zerolinecolor": "white",
           "zerolinewidth": 2
          }
         }
        },
        "width": 300
       }
      }
     },
     "metadata": {},
     "output_type": "display_data"
    }
   ],
   "source": [
    "# Events histogram \n",
    "events_hist =  go.Histogram(x=fig_df[\"Events\"], name=\"Events\", marker=dict(color=events_colors))\n",
    "\n",
    "# Visualize\n",
    "data = [events_hist]\n",
    "fig = go.Figure(data = data)\n",
    "fig.update_layout(width=300, height=300)\n",
    "display(fig)"
   ]
  },
  {
   "cell_type": "code",
   "execution_count": 69,
   "metadata": {},
   "outputs": [
    {
     "data": {
      "application/vnd.plotly.v1+json": {
       "config": {
        "plotlyServerURL": "https://plot.ly"
       },
       "data": [
        {
         "cells": {
          "values": [
           [
            "Unique Patients",
            "Total Data Points"
           ],
           [
            52,
            800
           ]
          ]
         },
         "header": {
          "values": [
           "Category",
           "Count"
          ]
         },
         "type": "table"
        }
       ],
       "layout": {
        "height": 300,
        "template": {
         "data": {
          "bar": [
           {
            "error_x": {
             "color": "#2a3f5f"
            },
            "error_y": {
             "color": "#2a3f5f"
            },
            "marker": {
             "line": {
              "color": "#E5ECF6",
              "width": 0.5
             },
             "pattern": {
              "fillmode": "overlay",
              "size": 10,
              "solidity": 0.2
             }
            },
            "type": "bar"
           }
          ],
          "barpolar": [
           {
            "marker": {
             "line": {
              "color": "#E5ECF6",
              "width": 0.5
             },
             "pattern": {
              "fillmode": "overlay",
              "size": 10,
              "solidity": 0.2
             }
            },
            "type": "barpolar"
           }
          ],
          "carpet": [
           {
            "aaxis": {
             "endlinecolor": "#2a3f5f",
             "gridcolor": "white",
             "linecolor": "white",
             "minorgridcolor": "white",
             "startlinecolor": "#2a3f5f"
            },
            "baxis": {
             "endlinecolor": "#2a3f5f",
             "gridcolor": "white",
             "linecolor": "white",
             "minorgridcolor": "white",
             "startlinecolor": "#2a3f5f"
            },
            "type": "carpet"
           }
          ],
          "choropleth": [
           {
            "colorbar": {
             "outlinewidth": 0,
             "ticks": ""
            },
            "type": "choropleth"
           }
          ],
          "contour": [
           {
            "colorbar": {
             "outlinewidth": 0,
             "ticks": ""
            },
            "colorscale": [
             [
              0,
              "#0d0887"
             ],
             [
              0.1111111111111111,
              "#46039f"
             ],
             [
              0.2222222222222222,
              "#7201a8"
             ],
             [
              0.3333333333333333,
              "#9c179e"
             ],
             [
              0.4444444444444444,
              "#bd3786"
             ],
             [
              0.5555555555555556,
              "#d8576b"
             ],
             [
              0.6666666666666666,
              "#ed7953"
             ],
             [
              0.7777777777777778,
              "#fb9f3a"
             ],
             [
              0.8888888888888888,
              "#fdca26"
             ],
             [
              1,
              "#f0f921"
             ]
            ],
            "type": "contour"
           }
          ],
          "contourcarpet": [
           {
            "colorbar": {
             "outlinewidth": 0,
             "ticks": ""
            },
            "type": "contourcarpet"
           }
          ],
          "heatmap": [
           {
            "colorbar": {
             "outlinewidth": 0,
             "ticks": ""
            },
            "colorscale": [
             [
              0,
              "#0d0887"
             ],
             [
              0.1111111111111111,
              "#46039f"
             ],
             [
              0.2222222222222222,
              "#7201a8"
             ],
             [
              0.3333333333333333,
              "#9c179e"
             ],
             [
              0.4444444444444444,
              "#bd3786"
             ],
             [
              0.5555555555555556,
              "#d8576b"
             ],
             [
              0.6666666666666666,
              "#ed7953"
             ],
             [
              0.7777777777777778,
              "#fb9f3a"
             ],
             [
              0.8888888888888888,
              "#fdca26"
             ],
             [
              1,
              "#f0f921"
             ]
            ],
            "type": "heatmap"
           }
          ],
          "heatmapgl": [
           {
            "colorbar": {
             "outlinewidth": 0,
             "ticks": ""
            },
            "colorscale": [
             [
              0,
              "#0d0887"
             ],
             [
              0.1111111111111111,
              "#46039f"
             ],
             [
              0.2222222222222222,
              "#7201a8"
             ],
             [
              0.3333333333333333,
              "#9c179e"
             ],
             [
              0.4444444444444444,
              "#bd3786"
             ],
             [
              0.5555555555555556,
              "#d8576b"
             ],
             [
              0.6666666666666666,
              "#ed7953"
             ],
             [
              0.7777777777777778,
              "#fb9f3a"
             ],
             [
              0.8888888888888888,
              "#fdca26"
             ],
             [
              1,
              "#f0f921"
             ]
            ],
            "type": "heatmapgl"
           }
          ],
          "histogram": [
           {
            "marker": {
             "pattern": {
              "fillmode": "overlay",
              "size": 10,
              "solidity": 0.2
             }
            },
            "type": "histogram"
           }
          ],
          "histogram2d": [
           {
            "colorbar": {
             "outlinewidth": 0,
             "ticks": ""
            },
            "colorscale": [
             [
              0,
              "#0d0887"
             ],
             [
              0.1111111111111111,
              "#46039f"
             ],
             [
              0.2222222222222222,
              "#7201a8"
             ],
             [
              0.3333333333333333,
              "#9c179e"
             ],
             [
              0.4444444444444444,
              "#bd3786"
             ],
             [
              0.5555555555555556,
              "#d8576b"
             ],
             [
              0.6666666666666666,
              "#ed7953"
             ],
             [
              0.7777777777777778,
              "#fb9f3a"
             ],
             [
              0.8888888888888888,
              "#fdca26"
             ],
             [
              1,
              "#f0f921"
             ]
            ],
            "type": "histogram2d"
           }
          ],
          "histogram2dcontour": [
           {
            "colorbar": {
             "outlinewidth": 0,
             "ticks": ""
            },
            "colorscale": [
             [
              0,
              "#0d0887"
             ],
             [
              0.1111111111111111,
              "#46039f"
             ],
             [
              0.2222222222222222,
              "#7201a8"
             ],
             [
              0.3333333333333333,
              "#9c179e"
             ],
             [
              0.4444444444444444,
              "#bd3786"
             ],
             [
              0.5555555555555556,
              "#d8576b"
             ],
             [
              0.6666666666666666,
              "#ed7953"
             ],
             [
              0.7777777777777778,
              "#fb9f3a"
             ],
             [
              0.8888888888888888,
              "#fdca26"
             ],
             [
              1,
              "#f0f921"
             ]
            ],
            "type": "histogram2dcontour"
           }
          ],
          "mesh3d": [
           {
            "colorbar": {
             "outlinewidth": 0,
             "ticks": ""
            },
            "type": "mesh3d"
           }
          ],
          "parcoords": [
           {
            "line": {
             "colorbar": {
              "outlinewidth": 0,
              "ticks": ""
             }
            },
            "type": "parcoords"
           }
          ],
          "pie": [
           {
            "automargin": true,
            "type": "pie"
           }
          ],
          "scatter": [
           {
            "fillpattern": {
             "fillmode": "overlay",
             "size": 10,
             "solidity": 0.2
            },
            "type": "scatter"
           }
          ],
          "scatter3d": [
           {
            "line": {
             "colorbar": {
              "outlinewidth": 0,
              "ticks": ""
             }
            },
            "marker": {
             "colorbar": {
              "outlinewidth": 0,
              "ticks": ""
             }
            },
            "type": "scatter3d"
           }
          ],
          "scattercarpet": [
           {
            "marker": {
             "colorbar": {
              "outlinewidth": 0,
              "ticks": ""
             }
            },
            "type": "scattercarpet"
           }
          ],
          "scattergeo": [
           {
            "marker": {
             "colorbar": {
              "outlinewidth": 0,
              "ticks": ""
             }
            },
            "type": "scattergeo"
           }
          ],
          "scattergl": [
           {
            "marker": {
             "colorbar": {
              "outlinewidth": 0,
              "ticks": ""
             }
            },
            "type": "scattergl"
           }
          ],
          "scattermapbox": [
           {
            "marker": {
             "colorbar": {
              "outlinewidth": 0,
              "ticks": ""
             }
            },
            "type": "scattermapbox"
           }
          ],
          "scatterpolar": [
           {
            "marker": {
             "colorbar": {
              "outlinewidth": 0,
              "ticks": ""
             }
            },
            "type": "scatterpolar"
           }
          ],
          "scatterpolargl": [
           {
            "marker": {
             "colorbar": {
              "outlinewidth": 0,
              "ticks": ""
             }
            },
            "type": "scatterpolargl"
           }
          ],
          "scatterternary": [
           {
            "marker": {
             "colorbar": {
              "outlinewidth": 0,
              "ticks": ""
             }
            },
            "type": "scatterternary"
           }
          ],
          "surface": [
           {
            "colorbar": {
             "outlinewidth": 0,
             "ticks": ""
            },
            "colorscale": [
             [
              0,
              "#0d0887"
             ],
             [
              0.1111111111111111,
              "#46039f"
             ],
             [
              0.2222222222222222,
              "#7201a8"
             ],
             [
              0.3333333333333333,
              "#9c179e"
             ],
             [
              0.4444444444444444,
              "#bd3786"
             ],
             [
              0.5555555555555556,
              "#d8576b"
             ],
             [
              0.6666666666666666,
              "#ed7953"
             ],
             [
              0.7777777777777778,
              "#fb9f3a"
             ],
             [
              0.8888888888888888,
              "#fdca26"
             ],
             [
              1,
              "#f0f921"
             ]
            ],
            "type": "surface"
           }
          ],
          "table": [
           {
            "cells": {
             "fill": {
              "color": "#EBF0F8"
             },
             "line": {
              "color": "white"
             }
            },
            "header": {
             "fill": {
              "color": "#C8D4E3"
             },
             "line": {
              "color": "white"
             }
            },
            "type": "table"
           }
          ]
         },
         "layout": {
          "annotationdefaults": {
           "arrowcolor": "#2a3f5f",
           "arrowhead": 0,
           "arrowwidth": 1
          },
          "autotypenumbers": "strict",
          "coloraxis": {
           "colorbar": {
            "outlinewidth": 0,
            "ticks": ""
           }
          },
          "colorscale": {
           "diverging": [
            [
             0,
             "#8e0152"
            ],
            [
             0.1,
             "#c51b7d"
            ],
            [
             0.2,
             "#de77ae"
            ],
            [
             0.3,
             "#f1b6da"
            ],
            [
             0.4,
             "#fde0ef"
            ],
            [
             0.5,
             "#f7f7f7"
            ],
            [
             0.6,
             "#e6f5d0"
            ],
            [
             0.7,
             "#b8e186"
            ],
            [
             0.8,
             "#7fbc41"
            ],
            [
             0.9,
             "#4d9221"
            ],
            [
             1,
             "#276419"
            ]
           ],
           "sequential": [
            [
             0,
             "#0d0887"
            ],
            [
             0.1111111111111111,
             "#46039f"
            ],
            [
             0.2222222222222222,
             "#7201a8"
            ],
            [
             0.3333333333333333,
             "#9c179e"
            ],
            [
             0.4444444444444444,
             "#bd3786"
            ],
            [
             0.5555555555555556,
             "#d8576b"
            ],
            [
             0.6666666666666666,
             "#ed7953"
            ],
            [
             0.7777777777777778,
             "#fb9f3a"
            ],
            [
             0.8888888888888888,
             "#fdca26"
            ],
            [
             1,
             "#f0f921"
            ]
           ],
           "sequentialminus": [
            [
             0,
             "#0d0887"
            ],
            [
             0.1111111111111111,
             "#46039f"
            ],
            [
             0.2222222222222222,
             "#7201a8"
            ],
            [
             0.3333333333333333,
             "#9c179e"
            ],
            [
             0.4444444444444444,
             "#bd3786"
            ],
            [
             0.5555555555555556,
             "#d8576b"
            ],
            [
             0.6666666666666666,
             "#ed7953"
            ],
            [
             0.7777777777777778,
             "#fb9f3a"
            ],
            [
             0.8888888888888888,
             "#fdca26"
            ],
            [
             1,
             "#f0f921"
            ]
           ]
          },
          "colorway": [
           "#636efa",
           "#EF553B",
           "#00cc96",
           "#ab63fa",
           "#FFA15A",
           "#19d3f3",
           "#FF6692",
           "#B6E880",
           "#FF97FF",
           "#FECB52"
          ],
          "font": {
           "color": "#2a3f5f"
          },
          "geo": {
           "bgcolor": "white",
           "lakecolor": "white",
           "landcolor": "#E5ECF6",
           "showlakes": true,
           "showland": true,
           "subunitcolor": "white"
          },
          "hoverlabel": {
           "align": "left"
          },
          "hovermode": "closest",
          "mapbox": {
           "style": "light"
          },
          "paper_bgcolor": "white",
          "plot_bgcolor": "#E5ECF6",
          "polar": {
           "angularaxis": {
            "gridcolor": "white",
            "linecolor": "white",
            "ticks": ""
           },
           "bgcolor": "#E5ECF6",
           "radialaxis": {
            "gridcolor": "white",
            "linecolor": "white",
            "ticks": ""
           }
          },
          "scene": {
           "xaxis": {
            "backgroundcolor": "#E5ECF6",
            "gridcolor": "white",
            "gridwidth": 2,
            "linecolor": "white",
            "showbackground": true,
            "ticks": "",
            "zerolinecolor": "white"
           },
           "yaxis": {
            "backgroundcolor": "#E5ECF6",
            "gridcolor": "white",
            "gridwidth": 2,
            "linecolor": "white",
            "showbackground": true,
            "ticks": "",
            "zerolinecolor": "white"
           },
           "zaxis": {
            "backgroundcolor": "#E5ECF6",
            "gridcolor": "white",
            "gridwidth": 2,
            "linecolor": "white",
            "showbackground": true,
            "ticks": "",
            "zerolinecolor": "white"
           }
          },
          "shapedefaults": {
           "line": {
            "color": "#2a3f5f"
           }
          },
          "ternary": {
           "aaxis": {
            "gridcolor": "white",
            "linecolor": "white",
            "ticks": ""
           },
           "baxis": {
            "gridcolor": "white",
            "linecolor": "white",
            "ticks": ""
           },
           "bgcolor": "#E5ECF6",
           "caxis": {
            "gridcolor": "white",
            "linecolor": "white",
            "ticks": ""
           }
          },
          "title": {
           "x": 0.05
          },
          "xaxis": {
           "automargin": true,
           "gridcolor": "white",
           "linecolor": "white",
           "ticks": "",
           "title": {
            "standoff": 15
           },
           "zerolinecolor": "white",
           "zerolinewidth": 2
          },
          "yaxis": {
           "automargin": true,
           "gridcolor": "white",
           "linecolor": "white",
           "ticks": "",
           "title": {
            "standoff": 15
           },
           "zerolinecolor": "white",
           "zerolinewidth": 2
          }
         }
        },
        "width": 300
       }
      }
     },
     "metadata": {},
     "output_type": "display_data"
    }
   ],
   "source": [
    "# Create a summary table\n",
    "unique_patients = fig_df['Record ID'].nunique()\n",
    "total_data_points = len(fig_df)\n",
    "\n",
    "data_summary = pd.DataFrame({\n",
    "    'Category': ['Unique Patients', 'Total Data Points'],\n",
    "    'Count': [unique_patients, total_data_points]\n",
    "})\n",
    "\n",
    "patients_table = go.Table(\n",
    "    header=dict(values=[\"Category\", \"Count\"]),\n",
    "    cells=dict(values=[data_summary['Category'], data_summary['Count']])\n",
    ")\n",
    "\n",
    "# Visualize\n",
    "data = [patients_table]\n",
    "fig = go.Figure(data = data)\n",
    "fig.update_layout(width=300, height=300)\n",
    "display(fig)"
   ]
  },
  {
   "cell_type": "code",
   "execution_count": 70,
   "metadata": {},
   "outputs": [
    {
     "data": {
      "application/vnd.plotly.v1+json": {
       "config": {
        "plotlyServerURL": "https://plot.ly"
       },
       "data": [
        {
         "domain": {
          "x": [
           0,
           0.2888888888888889
          ],
          "y": [
           0.625,
           1
          ]
         },
         "labels": [
          "Female",
          "Male"
         ],
         "marker": {
          "colors": [
           "#d9ed92",
           "#99d98c"
          ]
         },
         "type": "pie",
         "values": [
          28,
          24
         ]
        },
        {
         "domain": {
          "x": [
           0.35555555555555557,
           0.6444444444444445
          ],
          "y": [
           0.625,
           1
          ]
         },
         "labels": [
          "White",
          "Non-White"
         ],
         "marker": {
          "colors": [
           "#184e77",
           "#1a759f"
          ]
         },
         "type": "pie",
         "values": [
          28,
          24
         ]
        },
        {
         "marker": {
          "color": "#1a759f"
         },
         "name": "Events",
         "type": "histogram",
         "x": [
          3,
          5,
          4,
          5,
          2,
          2,
          4,
          0,
          1,
          2,
          2,
          1,
          4,
          1,
          4,
          3,
          4,
          2,
          1,
          3,
          2,
          4,
          1,
          2,
          4,
          5,
          3,
          4,
          2,
          3,
          3,
          4,
          4,
          6,
          4,
          1,
          3,
          1,
          3,
          5,
          2,
          2,
          4,
          3,
          3,
          2,
          4,
          3,
          4,
          1,
          3,
          2,
          3,
          5,
          4,
          5,
          2,
          2,
          4,
          0,
          1,
          2,
          2,
          1,
          4,
          1,
          4,
          3,
          4,
          2,
          1,
          3,
          2,
          4,
          1,
          2,
          4,
          5,
          3,
          4,
          2,
          3,
          3,
          4,
          4,
          6,
          4,
          1,
          3,
          1,
          3,
          5,
          2,
          2,
          4,
          3,
          3,
          2,
          4,
          3,
          4,
          1,
          3,
          2,
          3,
          5,
          4,
          5,
          2,
          2,
          4,
          0,
          1,
          2,
          2,
          1,
          4,
          1,
          4,
          3,
          4,
          2,
          1,
          3,
          2,
          4,
          1,
          2,
          4,
          5,
          3,
          4,
          2,
          3,
          3,
          4,
          4,
          6,
          4,
          1,
          3,
          1,
          3,
          5,
          2,
          2,
          4,
          3,
          3,
          2,
          4,
          3,
          4,
          1,
          3,
          2,
          3,
          5,
          4,
          5,
          2,
          2,
          4,
          0,
          1,
          2,
          2,
          1,
          4,
          1,
          4,
          3,
          4,
          2,
          1,
          3,
          2,
          4,
          1,
          2,
          4,
          5,
          3,
          4,
          2,
          3,
          3,
          4,
          4,
          6,
          4,
          1,
          3,
          1,
          3,
          5,
          2,
          2,
          4,
          3,
          3,
          2,
          4,
          3,
          4,
          1,
          3,
          2,
          3,
          5,
          4,
          5,
          2,
          2,
          4,
          0,
          1,
          2,
          2,
          1,
          4,
          1,
          4,
          3,
          4,
          2,
          1,
          3,
          2,
          4,
          1,
          2,
          4,
          5,
          3,
          4,
          2,
          3,
          3,
          4,
          4,
          6,
          4,
          1,
          3,
          1,
          3,
          5,
          2,
          2,
          4,
          3,
          3,
          2,
          4,
          3,
          4,
          1,
          3,
          2,
          3,
          5,
          4,
          5,
          2,
          2,
          4,
          0,
          1,
          2,
          2,
          1,
          4,
          1,
          4,
          3,
          4,
          2,
          1,
          3,
          2,
          4,
          1,
          2,
          4,
          5,
          3,
          4,
          2,
          3,
          3,
          4,
          4,
          6,
          4,
          1,
          3,
          1,
          3,
          5,
          2,
          2,
          4,
          3,
          3,
          2,
          4,
          3,
          4,
          1,
          3,
          2,
          3,
          5,
          4,
          5,
          2,
          2,
          4,
          0,
          1,
          2,
          2,
          1,
          4,
          1,
          4,
          3,
          4,
          2,
          1,
          3,
          2,
          4,
          1,
          2,
          4,
          5,
          3,
          4,
          2,
          3,
          3,
          4,
          4,
          6,
          4,
          1,
          3,
          1,
          3,
          5,
          2,
          2,
          4,
          3,
          3,
          2,
          4,
          3,
          4,
          1,
          3,
          2,
          3,
          5,
          4,
          5,
          2,
          2,
          4,
          0,
          1,
          2,
          2,
          1,
          4,
          1,
          4,
          3,
          4,
          2,
          1,
          3,
          2,
          4,
          1,
          2,
          4,
          5,
          3,
          4,
          2,
          3,
          3,
          4,
          4,
          6,
          4,
          1,
          3,
          1,
          3,
          5,
          2,
          2,
          4,
          3,
          3,
          2,
          4,
          3,
          4,
          1,
          3,
          2,
          3,
          5,
          4,
          5,
          2,
          2,
          4,
          0,
          1,
          2,
          2,
          1,
          4,
          1,
          4,
          3,
          4,
          2,
          1,
          3,
          2,
          4,
          1,
          2,
          4,
          5,
          3,
          4,
          2,
          3,
          3,
          4,
          4,
          6,
          4,
          1,
          3,
          1,
          3,
          5,
          2,
          2,
          4,
          3,
          3,
          2,
          4,
          3,
          4,
          1,
          3,
          2,
          3,
          5,
          4,
          5,
          2,
          2,
          4,
          0,
          1,
          2,
          2,
          1,
          4,
          1,
          4,
          3,
          4,
          2,
          1,
          3,
          2,
          4,
          1,
          2,
          4,
          5,
          3,
          4,
          2,
          3,
          3,
          4,
          4,
          6,
          4,
          1,
          3,
          1,
          3,
          5,
          2,
          2,
          4,
          3,
          3,
          2,
          4,
          3,
          4,
          1,
          3,
          2,
          3,
          5,
          4,
          5,
          2,
          2,
          4,
          0,
          1,
          2,
          2,
          1,
          4,
          1,
          4,
          3,
          4,
          2,
          1,
          3,
          2,
          4,
          1,
          2,
          4,
          5,
          3,
          4,
          2,
          3,
          3,
          4,
          4,
          6,
          4,
          1,
          3,
          1,
          3,
          5,
          2,
          2,
          4,
          3,
          3,
          2,
          4,
          3,
          4,
          1,
          3,
          2,
          3,
          5,
          4,
          5,
          2,
          2,
          4,
          0,
          1,
          2,
          2,
          1,
          4,
          1,
          4,
          3,
          4,
          2,
          1,
          3,
          2,
          4,
          1,
          2,
          4,
          5,
          3,
          4,
          2,
          3,
          3,
          4,
          4,
          6,
          4,
          1,
          3,
          1,
          3,
          5,
          2,
          2,
          4,
          3,
          3,
          2,
          4,
          3,
          4,
          1,
          3,
          2,
          3,
          5,
          4,
          5,
          2,
          2,
          4,
          0,
          1,
          2,
          2,
          1,
          4,
          1,
          4,
          3,
          4,
          2,
          1,
          3,
          2,
          4,
          1,
          2,
          4,
          5,
          3,
          4,
          2,
          3,
          3,
          4,
          4,
          6,
          4,
          1,
          3,
          1,
          3,
          5,
          2,
          2,
          4,
          3,
          3,
          2,
          4,
          3,
          4,
          1,
          3,
          2,
          3,
          5,
          4,
          5,
          2,
          2,
          4,
          0,
          1,
          2,
          2,
          1,
          4,
          1,
          4,
          3,
          4,
          2,
          1,
          3,
          2,
          4,
          1,
          2,
          4,
          5,
          3,
          4,
          2,
          3,
          3,
          4,
          4,
          6,
          4,
          1,
          3,
          1,
          3,
          5,
          2,
          2,
          4,
          3,
          3,
          2,
          4,
          3,
          4,
          1,
          3,
          2,
          3,
          5,
          4,
          5,
          2,
          2,
          4,
          0,
          1,
          2,
          2,
          1,
          4,
          1,
          4,
          3,
          4,
          2,
          1,
          3,
          2,
          4,
          1,
          2,
          4,
          5,
          3,
          4,
          2,
          3,
          3,
          4,
          4,
          6,
          4,
          1,
          3,
          1,
          3,
          5,
          2,
          2,
          4,
          3,
          3,
          2,
          4,
          3,
          4,
          1,
          3,
          2,
          3,
          5,
          4,
          5,
          2,
          2,
          4,
          0,
          1,
          2,
          2,
          1,
          4,
          1,
          4,
          3,
          4,
          2,
          1,
          3
         ],
         "xaxis": "x",
         "yaxis": "y"
        },
        {
         "marker": {
          "color": "#1e6091"
         },
         "name": "BMI",
         "type": "histogram",
         "x": [
          40.37364314167848,
          15.6197502942692,
          37.47092140509929,
          15.88821409016035,
          31.97973319162682,
          28.1739517252042,
          23.93538267523092,
          23.75772644599179,
          16.47121699014891,
          16.39503531809196,
          15.74143565841061,
          23.25016159025016,
          30.18603788432717,
          42.07038669937084,
          33.92894892881829,
          39.65184792086399,
          36.4954655526526,
          27.87831249269034,
          18.80360081625233,
          40.3260575345188,
          40.45171270209357,
          36.15942191585318,
          24.7002931233234,
          38.93539128821769,
          35.2294577235436,
          23.38795080248004,
          14.11323649758434,
          31.59448379584371,
          30.04512688679085,
          22.5117083868218,
          31.77942116556589,
          33.79795596250194,
          36.15253936526006,
          26.74763263887642,
          35.0347209412711,
          42.00604123804371,
          18.30936410330949,
          31.79276557491649,
          22.00302791260598,
          33.93478036972154,
          24.06716297139123,
          37.6493551535287,
          37.63682996438092,
          24.64465081136552,
          22.84846573619816,
          39.13147738785178,
          32.07855927549254,
          38.77623321968011,
          20.83495672791886,
          39.53891929156112,
          19.08268725455712,
          31.2575316065812
         ],
         "xaxis": "x2",
         "yaxis": "y2"
        },
        {
         "marker": {
          "color": "#52b69a"
         },
         "name": "Age",
         "type": "histogram",
         "x": [
          81,
          70,
          88,
          78,
          84,
          83,
          79,
          86,
          85,
          79,
          75,
          91,
          61,
          89,
          67,
          85,
          81,
          72,
          91,
          89,
          75,
          79,
          78,
          60,
          72,
          61,
          69,
          73,
          79,
          61,
          77,
          64,
          87,
          73,
          91,
          63,
          81,
          66,
          76,
          80,
          84,
          79,
          84,
          86,
          61,
          71,
          60,
          71,
          63,
          85,
          83,
          79
         ],
         "xaxis": "x3",
         "yaxis": "y3"
        },
        {
         "cells": {
          "values": [
           [
            "Unique Patients",
            "Total Data Points"
           ],
           [
            52,
            800
           ]
          ]
         },
         "domain": {
          "x": [
           0.7111111111111111,
           1
          ],
          "y": [
           0,
           0.375
          ]
         },
         "header": {
          "values": [
           "Category",
           "Count"
          ]
         },
         "type": "table"
        }
       ],
       "layout": {
        "annotations": [
         {
          "font": {
           "size": 16
          },
          "showarrow": false,
          "text": "Gender Distribution",
          "x": 0.14444444444444446,
          "xanchor": "center",
          "xref": "paper",
          "y": 1,
          "yanchor": "bottom",
          "yref": "paper"
         },
         {
          "font": {
           "size": 16
          },
          "showarrow": false,
          "text": "Ethnicity Distribution",
          "x": 0.5,
          "xanchor": "center",
          "xref": "paper",
          "y": 1,
          "yanchor": "bottom",
          "yref": "paper"
         },
         {
          "font": {
           "size": 16
          },
          "showarrow": false,
          "text": "Thrombotic event",
          "x": 0.8555555555555556,
          "xanchor": "center",
          "xref": "paper",
          "y": 1,
          "yanchor": "bottom",
          "yref": "paper"
         },
         {
          "font": {
           "size": 16
          },
          "showarrow": false,
          "text": "BMI",
          "x": 0.14444444444444446,
          "xanchor": "center",
          "xref": "paper",
          "y": 0.375,
          "yanchor": "bottom",
          "yref": "paper"
         },
         {
          "font": {
           "size": 16
          },
          "showarrow": false,
          "text": "Age",
          "x": 0.5,
          "xanchor": "center",
          "xref": "paper",
          "y": 0.375,
          "yanchor": "bottom",
          "yref": "paper"
         },
         {
          "font": {
           "size": 16
          },
          "showarrow": false,
          "text": "Data Summary",
          "x": 0.8555555555555556,
          "xanchor": "center",
          "xref": "paper",
          "y": 0.375,
          "yanchor": "bottom",
          "yref": "paper"
         }
        ],
        "height": 600,
        "template": {
         "data": {
          "bar": [
           {
            "error_x": {
             "color": "#2a3f5f"
            },
            "error_y": {
             "color": "#2a3f5f"
            },
            "marker": {
             "line": {
              "color": "#E5ECF6",
              "width": 0.5
             },
             "pattern": {
              "fillmode": "overlay",
              "size": 10,
              "solidity": 0.2
             }
            },
            "type": "bar"
           }
          ],
          "barpolar": [
           {
            "marker": {
             "line": {
              "color": "#E5ECF6",
              "width": 0.5
             },
             "pattern": {
              "fillmode": "overlay",
              "size": 10,
              "solidity": 0.2
             }
            },
            "type": "barpolar"
           }
          ],
          "carpet": [
           {
            "aaxis": {
             "endlinecolor": "#2a3f5f",
             "gridcolor": "white",
             "linecolor": "white",
             "minorgridcolor": "white",
             "startlinecolor": "#2a3f5f"
            },
            "baxis": {
             "endlinecolor": "#2a3f5f",
             "gridcolor": "white",
             "linecolor": "white",
             "minorgridcolor": "white",
             "startlinecolor": "#2a3f5f"
            },
            "type": "carpet"
           }
          ],
          "choropleth": [
           {
            "colorbar": {
             "outlinewidth": 0,
             "ticks": ""
            },
            "type": "choropleth"
           }
          ],
          "contour": [
           {
            "colorbar": {
             "outlinewidth": 0,
             "ticks": ""
            },
            "colorscale": [
             [
              0,
              "#0d0887"
             ],
             [
              0.1111111111111111,
              "#46039f"
             ],
             [
              0.2222222222222222,
              "#7201a8"
             ],
             [
              0.3333333333333333,
              "#9c179e"
             ],
             [
              0.4444444444444444,
              "#bd3786"
             ],
             [
              0.5555555555555556,
              "#d8576b"
             ],
             [
              0.6666666666666666,
              "#ed7953"
             ],
             [
              0.7777777777777778,
              "#fb9f3a"
             ],
             [
              0.8888888888888888,
              "#fdca26"
             ],
             [
              1,
              "#f0f921"
             ]
            ],
            "type": "contour"
           }
          ],
          "contourcarpet": [
           {
            "colorbar": {
             "outlinewidth": 0,
             "ticks": ""
            },
            "type": "contourcarpet"
           }
          ],
          "heatmap": [
           {
            "colorbar": {
             "outlinewidth": 0,
             "ticks": ""
            },
            "colorscale": [
             [
              0,
              "#0d0887"
             ],
             [
              0.1111111111111111,
              "#46039f"
             ],
             [
              0.2222222222222222,
              "#7201a8"
             ],
             [
              0.3333333333333333,
              "#9c179e"
             ],
             [
              0.4444444444444444,
              "#bd3786"
             ],
             [
              0.5555555555555556,
              "#d8576b"
             ],
             [
              0.6666666666666666,
              "#ed7953"
             ],
             [
              0.7777777777777778,
              "#fb9f3a"
             ],
             [
              0.8888888888888888,
              "#fdca26"
             ],
             [
              1,
              "#f0f921"
             ]
            ],
            "type": "heatmap"
           }
          ],
          "heatmapgl": [
           {
            "colorbar": {
             "outlinewidth": 0,
             "ticks": ""
            },
            "colorscale": [
             [
              0,
              "#0d0887"
             ],
             [
              0.1111111111111111,
              "#46039f"
             ],
             [
              0.2222222222222222,
              "#7201a8"
             ],
             [
              0.3333333333333333,
              "#9c179e"
             ],
             [
              0.4444444444444444,
              "#bd3786"
             ],
             [
              0.5555555555555556,
              "#d8576b"
             ],
             [
              0.6666666666666666,
              "#ed7953"
             ],
             [
              0.7777777777777778,
              "#fb9f3a"
             ],
             [
              0.8888888888888888,
              "#fdca26"
             ],
             [
              1,
              "#f0f921"
             ]
            ],
            "type": "heatmapgl"
           }
          ],
          "histogram": [
           {
            "marker": {
             "pattern": {
              "fillmode": "overlay",
              "size": 10,
              "solidity": 0.2
             }
            },
            "type": "histogram"
           }
          ],
          "histogram2d": [
           {
            "colorbar": {
             "outlinewidth": 0,
             "ticks": ""
            },
            "colorscale": [
             [
              0,
              "#0d0887"
             ],
             [
              0.1111111111111111,
              "#46039f"
             ],
             [
              0.2222222222222222,
              "#7201a8"
             ],
             [
              0.3333333333333333,
              "#9c179e"
             ],
             [
              0.4444444444444444,
              "#bd3786"
             ],
             [
              0.5555555555555556,
              "#d8576b"
             ],
             [
              0.6666666666666666,
              "#ed7953"
             ],
             [
              0.7777777777777778,
              "#fb9f3a"
             ],
             [
              0.8888888888888888,
              "#fdca26"
             ],
             [
              1,
              "#f0f921"
             ]
            ],
            "type": "histogram2d"
           }
          ],
          "histogram2dcontour": [
           {
            "colorbar": {
             "outlinewidth": 0,
             "ticks": ""
            },
            "colorscale": [
             [
              0,
              "#0d0887"
             ],
             [
              0.1111111111111111,
              "#46039f"
             ],
             [
              0.2222222222222222,
              "#7201a8"
             ],
             [
              0.3333333333333333,
              "#9c179e"
             ],
             [
              0.4444444444444444,
              "#bd3786"
             ],
             [
              0.5555555555555556,
              "#d8576b"
             ],
             [
              0.6666666666666666,
              "#ed7953"
             ],
             [
              0.7777777777777778,
              "#fb9f3a"
             ],
             [
              0.8888888888888888,
              "#fdca26"
             ],
             [
              1,
              "#f0f921"
             ]
            ],
            "type": "histogram2dcontour"
           }
          ],
          "mesh3d": [
           {
            "colorbar": {
             "outlinewidth": 0,
             "ticks": ""
            },
            "type": "mesh3d"
           }
          ],
          "parcoords": [
           {
            "line": {
             "colorbar": {
              "outlinewidth": 0,
              "ticks": ""
             }
            },
            "type": "parcoords"
           }
          ],
          "pie": [
           {
            "automargin": true,
            "type": "pie"
           }
          ],
          "scatter": [
           {
            "fillpattern": {
             "fillmode": "overlay",
             "size": 10,
             "solidity": 0.2
            },
            "type": "scatter"
           }
          ],
          "scatter3d": [
           {
            "line": {
             "colorbar": {
              "outlinewidth": 0,
              "ticks": ""
             }
            },
            "marker": {
             "colorbar": {
              "outlinewidth": 0,
              "ticks": ""
             }
            },
            "type": "scatter3d"
           }
          ],
          "scattercarpet": [
           {
            "marker": {
             "colorbar": {
              "outlinewidth": 0,
              "ticks": ""
             }
            },
            "type": "scattercarpet"
           }
          ],
          "scattergeo": [
           {
            "marker": {
             "colorbar": {
              "outlinewidth": 0,
              "ticks": ""
             }
            },
            "type": "scattergeo"
           }
          ],
          "scattergl": [
           {
            "marker": {
             "colorbar": {
              "outlinewidth": 0,
              "ticks": ""
             }
            },
            "type": "scattergl"
           }
          ],
          "scattermapbox": [
           {
            "marker": {
             "colorbar": {
              "outlinewidth": 0,
              "ticks": ""
             }
            },
            "type": "scattermapbox"
           }
          ],
          "scatterpolar": [
           {
            "marker": {
             "colorbar": {
              "outlinewidth": 0,
              "ticks": ""
             }
            },
            "type": "scatterpolar"
           }
          ],
          "scatterpolargl": [
           {
            "marker": {
             "colorbar": {
              "outlinewidth": 0,
              "ticks": ""
             }
            },
            "type": "scatterpolargl"
           }
          ],
          "scatterternary": [
           {
            "marker": {
             "colorbar": {
              "outlinewidth": 0,
              "ticks": ""
             }
            },
            "type": "scatterternary"
           }
          ],
          "surface": [
           {
            "colorbar": {
             "outlinewidth": 0,
             "ticks": ""
            },
            "colorscale": [
             [
              0,
              "#0d0887"
             ],
             [
              0.1111111111111111,
              "#46039f"
             ],
             [
              0.2222222222222222,
              "#7201a8"
             ],
             [
              0.3333333333333333,
              "#9c179e"
             ],
             [
              0.4444444444444444,
              "#bd3786"
             ],
             [
              0.5555555555555556,
              "#d8576b"
             ],
             [
              0.6666666666666666,
              "#ed7953"
             ],
             [
              0.7777777777777778,
              "#fb9f3a"
             ],
             [
              0.8888888888888888,
              "#fdca26"
             ],
             [
              1,
              "#f0f921"
             ]
            ],
            "type": "surface"
           }
          ],
          "table": [
           {
            "cells": {
             "fill": {
              "color": "#EBF0F8"
             },
             "line": {
              "color": "white"
             }
            },
            "header": {
             "fill": {
              "color": "#C8D4E3"
             },
             "line": {
              "color": "white"
             }
            },
            "type": "table"
           }
          ]
         },
         "layout": {
          "annotationdefaults": {
           "arrowcolor": "#2a3f5f",
           "arrowhead": 0,
           "arrowwidth": 1
          },
          "autotypenumbers": "strict",
          "coloraxis": {
           "colorbar": {
            "outlinewidth": 0,
            "ticks": ""
           }
          },
          "colorscale": {
           "diverging": [
            [
             0,
             "#8e0152"
            ],
            [
             0.1,
             "#c51b7d"
            ],
            [
             0.2,
             "#de77ae"
            ],
            [
             0.3,
             "#f1b6da"
            ],
            [
             0.4,
             "#fde0ef"
            ],
            [
             0.5,
             "#f7f7f7"
            ],
            [
             0.6,
             "#e6f5d0"
            ],
            [
             0.7,
             "#b8e186"
            ],
            [
             0.8,
             "#7fbc41"
            ],
            [
             0.9,
             "#4d9221"
            ],
            [
             1,
             "#276419"
            ]
           ],
           "sequential": [
            [
             0,
             "#0d0887"
            ],
            [
             0.1111111111111111,
             "#46039f"
            ],
            [
             0.2222222222222222,
             "#7201a8"
            ],
            [
             0.3333333333333333,
             "#9c179e"
            ],
            [
             0.4444444444444444,
             "#bd3786"
            ],
            [
             0.5555555555555556,
             "#d8576b"
            ],
            [
             0.6666666666666666,
             "#ed7953"
            ],
            [
             0.7777777777777778,
             "#fb9f3a"
            ],
            [
             0.8888888888888888,
             "#fdca26"
            ],
            [
             1,
             "#f0f921"
            ]
           ],
           "sequentialminus": [
            [
             0,
             "#0d0887"
            ],
            [
             0.1111111111111111,
             "#46039f"
            ],
            [
             0.2222222222222222,
             "#7201a8"
            ],
            [
             0.3333333333333333,
             "#9c179e"
            ],
            [
             0.4444444444444444,
             "#bd3786"
            ],
            [
             0.5555555555555556,
             "#d8576b"
            ],
            [
             0.6666666666666666,
             "#ed7953"
            ],
            [
             0.7777777777777778,
             "#fb9f3a"
            ],
            [
             0.8888888888888888,
             "#fdca26"
            ],
            [
             1,
             "#f0f921"
            ]
           ]
          },
          "colorway": [
           "#636efa",
           "#EF553B",
           "#00cc96",
           "#ab63fa",
           "#FFA15A",
           "#19d3f3",
           "#FF6692",
           "#B6E880",
           "#FF97FF",
           "#FECB52"
          ],
          "font": {
           "color": "#2a3f5f"
          },
          "geo": {
           "bgcolor": "white",
           "lakecolor": "white",
           "landcolor": "#E5ECF6",
           "showlakes": true,
           "showland": true,
           "subunitcolor": "white"
          },
          "hoverlabel": {
           "align": "left"
          },
          "hovermode": "closest",
          "mapbox": {
           "style": "light"
          },
          "paper_bgcolor": "white",
          "plot_bgcolor": "#E5ECF6",
          "polar": {
           "angularaxis": {
            "gridcolor": "white",
            "linecolor": "white",
            "ticks": ""
           },
           "bgcolor": "#E5ECF6",
           "radialaxis": {
            "gridcolor": "white",
            "linecolor": "white",
            "ticks": ""
           }
          },
          "scene": {
           "xaxis": {
            "backgroundcolor": "#E5ECF6",
            "gridcolor": "white",
            "gridwidth": 2,
            "linecolor": "white",
            "showbackground": true,
            "ticks": "",
            "zerolinecolor": "white"
           },
           "yaxis": {
            "backgroundcolor": "#E5ECF6",
            "gridcolor": "white",
            "gridwidth": 2,
            "linecolor": "white",
            "showbackground": true,
            "ticks": "",
            "zerolinecolor": "white"
           },
           "zaxis": {
            "backgroundcolor": "#E5ECF6",
            "gridcolor": "white",
            "gridwidth": 2,
            "linecolor": "white",
            "showbackground": true,
            "ticks": "",
            "zerolinecolor": "white"
           }
          },
          "shapedefaults": {
           "line": {
            "color": "#2a3f5f"
           }
          },
          "ternary": {
           "aaxis": {
            "gridcolor": "white",
            "linecolor": "white",
            "ticks": ""
           },
           "baxis": {
            "gridcolor": "white",
            "linecolor": "white",
            "ticks": ""
           },
           "bgcolor": "#E5ECF6",
           "caxis": {
            "gridcolor": "white",
            "linecolor": "white",
            "ticks": ""
           }
          },
          "title": {
           "x": 0.05
          },
          "xaxis": {
           "automargin": true,
           "gridcolor": "white",
           "linecolor": "white",
           "ticks": "",
           "title": {
            "standoff": 15
           },
           "zerolinecolor": "white",
           "zerolinewidth": 2
          },
          "yaxis": {
           "automargin": true,
           "gridcolor": "white",
           "linecolor": "white",
           "ticks": "",
           "title": {
            "standoff": 15
           },
           "zerolinecolor": "white",
           "zerolinewidth": 2
          }
         }
        },
        "width": 900,
        "xaxis": {
         "anchor": "y",
         "domain": [
          0.7111111111111111,
          1
         ]
        },
        "xaxis2": {
         "anchor": "y2",
         "domain": [
          0,
          0.2888888888888889
         ]
        },
        "xaxis3": {
         "anchor": "y3",
         "domain": [
          0.35555555555555557,
          0.6444444444444445
         ]
        },
        "yaxis": {
         "anchor": "x",
         "domain": [
          0.625,
          1
         ]
        },
        "yaxis2": {
         "anchor": "x2",
         "domain": [
          0,
          0.375
         ]
        },
        "yaxis3": {
         "anchor": "x3",
         "domain": [
          0,
          0.375
         ]
        }
       }
      }
     },
     "metadata": {},
     "output_type": "display_data"
    }
   ],
   "source": [
    "# Create subplots\n",
    "fig = make_subplots(rows=2, cols=3,\n",
    "                    specs=[[{'type':'domain'}, {'type':'domain'},{'type':'xy'}],\n",
    "                            [{'type':'xy'}, {'type':'xy'},{'type':'domain'}]],\n",
    "                    subplot_titles=['Gender Distribution', 'Ethnicity Distribution', 'Thrombotic event', 'BMI',\n",
    "                                    'Age', 'Data Summary'])\n",
    "\n",
    "fig.add_trace(sex_pie, row=1, col=1)\n",
    "fig.add_trace(white_pie, row=1, col=2)\n",
    "fig.add_trace(events_hist, row=1, col=3)\n",
    "fig.add_trace(bmi_hist, row=2, col=1)\n",
    "fig.add_trace(age_hist, row=2, col=2)\n",
    "fig.add_trace(patients_table, row=2, col=3)\n",
    "\n",
    "fig.update_layout(width=900, height=600)\n",
    "display(fig)"
   ]
  },
  {
   "cell_type": "markdown",
   "metadata": {},
   "source": [
    "## Train model function\n",
    "There will be three models trained, so a function is being created now to be used multiple times."
   ]
  },
  {
   "cell_type": "code",
   "execution_count": 71,
   "metadata": {},
   "outputs": [],
   "source": [
    "def train_model(df, target_column, drop_columns, quantile_range=(5,95), param_grid = {\n",
    "        'xgb_regressor__max_depth': [3, 4, 5],\n",
    "        'xgb_regressor__gamma': [0, 0.1, 0.2],\n",
    "        'xgb_regressor__min_child_weight': [1, 2, 5]},\n",
    "        scoring = 'r2'):\n",
    "    \"\"\"\n",
    "    Trains an XGBoost regression model on the given DataFrame using grid search for hyperparameter tuning.\n",
    "\n",
    "    Parameters:\n",
    "    - df (pd.DataFrame): Input DataFrame containing the features and target variable.\n",
    "    - target_column (str): The name of the target variable column.\n",
    "    - drop_columns (list): List of column names to be dropped from the feature set.\n",
    "\n",
    "    Returns:\n",
    "    - best_pipeline (Pipeline): The best-performing pipeline after hyperparameter tuning.\n",
    "\n",
    "    Example:\n",
    "    best_model = train_model(df=my_dataframe, target_column='target', drop_columns=['column1', 'column2'])\n",
    "    \"\"\"\n",
    "\n",
    "    # Separate features (X) and target (y)\n",
    "    y = df[target_column]\n",
    "    X = df.drop(labels=drop_columns + [target_column], axis=1)\n",
    "\n",
    "    # Split data into training and test sets\n",
    "    X_train, X_test, y_train, y_test = train_test_split(X, y, test_size=0.2, random_state=42)\n",
    "\n",
    "    # Create transformers for feature scaling\n",
    "    target_scaler = RobustScaler(quantile_range=quantile_range)\n",
    "   \n",
    "\n",
    "    # Scale target\n",
    "    # Fit the target scaler on training target and transform both training and test target\n",
    "    y_train = target_scaler.fit_transform(y_train.values.reshape(-1, 1)).flatten()\n",
    "    y_test = target_scaler.transform(y_test.values.reshape(-1, 1)).flatten()\n",
    "\n",
    "\n",
    "    # Manually adjust the scaled data to center at 0.5\n",
    "    desired_center = 0.5\n",
    "    y_train = y_train + (desired_center - np.median(y_train, axis=0))\n",
    "    y_test = y_test + (desired_center - np.median(y_test, axis=0))\n",
    "\n",
    "    # Create a pipeline\n",
    "    pipeline = Pipeline([\n",
    "        ('feature_scaler', RobustScaler()),  # Robust scaling for features\n",
    "        ('xgb_regressor', XGBRegressor())    # XGBoost regressor\n",
    "    ])\n",
    "\n",
    "    # Initialize K-Fold cross-validation\n",
    "    kf = KFold(n_splits=5, shuffle=True, random_state=42)\n",
    "\n",
    "    # Initialize GridSearchCV for hyperparameter tuning\n",
    "    grid_search = GridSearchCV(estimator=pipeline, param_grid=param_grid,\n",
    "                               scoring=scoring, cv=kf)\n",
    "\n",
    "    # Fit the model and perform hyperparameter tuning\n",
    "    grid_search.fit(X_train, y_train)\n",
    "\n",
    "    \n",
    "    # Access the best pipeline\n",
    "    best_pipeline = grid_search.best_estimator_\n",
    "\n",
    "    # Make predictions on the test data\n",
    "    y_pred = best_pipeline.predict(X_test)  \n",
    "    # Evaluate the model using Mean Squared Error\n",
    "    mse_test = mean_squared_error(y_test, y_pred)\n",
    "    # Calculate R-squared (R2) score\n",
    "    r2_test = r2_score(y_test, y_pred)\n",
    "    print(y_test, y_pred)\n",
    "\n",
    "    # Make predictions on the train data\n",
    "    y_pred = best_pipeline.predict(X_train)  \n",
    "    # Evaluate the model using Mean Squared Error\n",
    "    mse_train = mean_squared_error(y_train, y_pred)\n",
    "    # Calculate R-squared (R2) score\n",
    "    r2_train = r2_score(y_train, y_pred)\n",
    "    print(y_train, y_pred)\n",
    "    \n",
    "    score = {\"mse test\":mse_test, \"r2 test\": r2_test, \"mse train\": mse_train, \"r2 train\": r2_train}\n",
    "\n",
    "    return best_pipeline, X_train, score"
   ]
  },
  {
   "cell_type": "markdown",
   "metadata": {},
   "source": [
    "## Shapeley value function\n",
    "The shapeley value will be used in the models to determine the most important features. This is done multiple times so a function will be created"
   ]
  },
  {
   "cell_type": "code",
   "execution_count": 119,
   "metadata": {},
   "outputs": [],
   "source": [
    "def feature_importance(best_pipeline, X):\n",
    "    \"\"\"\n",
    "    Generate SHAP (SHapley Additive exPlanations) values and a summary plot for feature importance.\n",
    "\n",
    "    Parameters:\n",
    "    - best_pipeline (Pipeline): The best-performing pipeline after hyperparameter tuning. It should have an XGBoost regressor named 'xgb_regressor'.\n",
    "    - X (pd.DataFrame): Data to be tested, containing features for which SHAP values will be computed.\n",
    "\n",
    "    Returns:\n",
    "    - importance_df (pd.DataFrame): DataFrame containing feature names and their importance values.\n",
    "    - shap_values (numpy.ndarray): SHAP values for the provided data.\n",
    "\n",
    "    Example:\n",
    "    importance_df, shap_values = feature_importance(best_pipeline=my_best_pipeline, X=my_test_data)\n",
    "    \n",
    "    Note:\n",
    "    The SHAP (SHapley Additive exPlanations) values provide insights into the contribution of each feature to model predictions. The summary plot and importance DataFrame help identify the most influential features.\n",
    "\n",
    "    Dependencies:\n",
    "    - Ensure the 'shap' library is installed. You can install it using 'pip install shap'.\n",
    "\n",
    "    Usage:\n",
    "    - For the best results, pass the best-performing pipeline obtained after hyperparameter tuning. The pipeline should include an XGBoost regressor with the name 'xgb_regressor'.\n",
    "\n",
    "    \"\"\"\n",
    "    # Create a SHAP explainer for the XGBoost model\n",
    "    explainer = shap.Explainer(best_pipeline.named_steps['xgb_regressor'])\n",
    "\n",
    "    # Generate SHAP values\n",
    "    shap_values = explainer.shap_values(X)\n",
    "\n",
    "    # Calculate feature importance using the absolute mean of SHAP values\n",
    "    feature_importance = np.abs(shap_values).mean(axis=0)\n",
    "\n",
    "    # Create a DataFrame to associate feature names with their importance values\n",
    "    importance_df = pd.DataFrame({'Feature': X.columns, 'Importance': feature_importance})\n",
    "\n",
    "    # Sort the DataFrame by importance in descending order to find the most important features\n",
    "    importance_df = importance_df.sort_values(by='Importance', ascending=False)\n",
    "\n",
    "    # Multiply all values by 100\n",
    "    importance_df['Importance'] *= 100\n",
    "\n",
    "    return importance_df"
   ]
  },
  {
   "cell_type": "code",
   "execution_count": 73,
   "metadata": {},
   "outputs": [],
   "source": [
    "def plot_importance(importance_df, title, showlegend = True):\n",
    "\n",
    "    try:\n",
    "        # Set 'Feature' column as the index\n",
    "        importance_df = importance_df.set_index('Feature')\n",
    "        # Rename the index from 'Feature' to 'Factors'\n",
    "        importance_df.rename_axis(index='Factors', inplace=True)\n",
    "    except:\n",
    "        importance_df = importance_df.copy()\n",
    "\n",
    "    # Select the first 10 rows\n",
    "    top_10_df = importance_df.head(10)\n",
    "    # Create a horizontal bar chart using Plotly Express\n",
    "    fig = px.bar(\n",
    "        top_10_df,\n",
    "        orientation='h',  # Horizontal bars\n",
    "        title= title,\n",
    "        labels={'index': 'Factors', 'value': 'Percentage'},\n",
    "    )\n",
    "\n",
    "    # Reverse the order of the y-axis (largest value at the top)\n",
    "    fig.update_layout(yaxis_categoryorder='total ascending')\n",
    "\n",
    "    fig.update_layout(showlegend=showlegend)\n",
    "\n",
    "    return fig"
   ]
  },
  {
   "cell_type": "markdown",
   "metadata": {},
   "source": [
    "## Baseline Model\n",
    "The first model will be used to the determine the risk of someone based on their baseline information"
   ]
  },
  {
   "cell_type": "markdown",
   "metadata": {},
   "source": [
    "### Create model"
   ]
  },
  {
   "cell_type": "code",
   "execution_count": 74,
   "metadata": {},
   "outputs": [],
   "source": [
    "baseline_columns = list(clean_baseline_df.columns)"
   ]
  },
  {
   "cell_type": "code",
   "execution_count": 75,
   "metadata": {},
   "outputs": [
    {
     "name": "stdout",
     "output_type": "stream",
     "text": [
      "[0.5  0.25 0.5  0.75 0.5  0.25 0.25 0.5  1.   0.75 0.  ] [0.3631989  0.5575355  0.410375   0.4005812  0.3631989  0.5027082\n",
      " 0.58752406 0.6100109  0.41706574 0.2843696  0.4840056 ]\n",
      "[ 0.    0.5   0.75  0.75  0.25  0.    0.75  0.5   1.25  0.    0.5   0.25\n",
      "  0.75  0.5   0.5   1.    0.    0.5   0.75  0.75  0.75  1.    0.5   0.25\n",
      "  1.    0.75  0.75  0.25  0.    0.25  0.75  0.25  0.    0.    0.25  0.25\n",
      " -0.25  0.75  0.75  0.25  0.5 ] [0.3631989  0.4892043  0.61702627 0.5396801  0.4840056  0.18629529\n",
      " 0.65014684 0.5027082  0.74798036 0.22805203 0.39784285 0.42658153\n",
      " 0.638834   0.5113973  0.42658153 0.65014684 0.29790998 0.5113973\n",
      " 0.36956    0.525195   0.65614915 0.63921934 0.525195   0.29143488\n",
      " 0.69628507 0.69628507 0.6158069  0.28510055 0.34775224 0.46257234\n",
      " 0.61702627 0.4892043  0.18629529 0.12291244 0.34775224 0.410375\n",
      " 0.12291244 0.7136404  0.6440897  0.32704338 0.4892043 ]\n"
     ]
    }
   ],
   "source": [
    "best_model_baseline, baseline_train, baseline_score = train_model(clean_baseline_df, 'Events', ['Record ID'])"
   ]
  },
  {
   "cell_type": "code",
   "execution_count": 76,
   "metadata": {},
   "outputs": [
    {
     "data": {
      "text/plain": [
       "{'mse test': 0.11299137173821999,\n",
       " 'r2 test': -0.5405020822900979,\n",
       " 'mse train': 0.04397362156524441,\n",
       " 'r2 train': 0.6320116597327898}"
      ]
     },
     "execution_count": 76,
     "metadata": {},
     "output_type": "execute_result"
    }
   ],
   "source": [
    "baseline_score"
   ]
  },
  {
   "cell_type": "markdown",
   "metadata": {},
   "source": [
    "### Feauture importance\n",
    "This information could be used for general information"
   ]
  },
  {
   "cell_type": "code",
   "execution_count": 120,
   "metadata": {},
   "outputs": [
    {
     "name": "stderr",
     "output_type": "stream",
     "text": [
      "/opt/anaconda3/envs/Capstone2023/lib/python3.10/site-packages/xgboost/core.py:160: UserWarning:\n",
      "\n",
      "[18:59:08] WARNING: /Users/runner/work/xgboost/xgboost/src/c_api/c_api.cc:1240: Saving into deprecated binary model format, please consider using `json` or `ubj`. Model format will default to JSON in XGBoost 2.2 if not specified.\n",
      "\n",
      "/opt/anaconda3/envs/Capstone2023/lib/python3.10/site-packages/xgboost/data.py:335: FutureWarning:\n",
      "\n",
      "is_sparse is deprecated and will be removed in a future version. Check `isinstance(dtype, pd.SparseDtype)` instead.\n",
      "\n",
      "/opt/anaconda3/envs/Capstone2023/lib/python3.10/site-packages/xgboost/data.py:338: FutureWarning:\n",
      "\n",
      "is_categorical_dtype is deprecated and will be removed in a future version. Use isinstance(dtype, CategoricalDtype) instead\n",
      "\n",
      "/opt/anaconda3/envs/Capstone2023/lib/python3.10/site-packages/xgboost/data.py:384: FutureWarning:\n",
      "\n",
      "is_categorical_dtype is deprecated and will be removed in a future version. Use isinstance(dtype, CategoricalDtype) instead\n",
      "\n",
      "/opt/anaconda3/envs/Capstone2023/lib/python3.10/site-packages/xgboost/data.py:359: FutureWarning:\n",
      "\n",
      "is_categorical_dtype is deprecated and will be removed in a future version. Use isinstance(dtype, CategoricalDtype) instead\n",
      "\n"
     ]
    },
    {
     "data": {
      "text/html": [
       "<div>\n",
       "<style scoped>\n",
       "    .dataframe tbody tr th:only-of-type {\n",
       "        vertical-align: middle;\n",
       "    }\n",
       "\n",
       "    .dataframe tbody tr th {\n",
       "        vertical-align: top;\n",
       "    }\n",
       "\n",
       "    .dataframe thead th {\n",
       "        text-align: right;\n",
       "    }\n",
       "</style>\n",
       "<table border=\"1\" class=\"dataframe\">\n",
       "  <thead>\n",
       "    <tr style=\"text-align: right;\">\n",
       "      <th></th>\n",
       "      <th>Feature</th>\n",
       "      <th>Importance</th>\n",
       "    </tr>\n",
       "  </thead>\n",
       "  <tbody>\n",
       "    <tr>\n",
       "      <th>23</th>\n",
       "      <td>ABI left</td>\n",
       "      <td>10.017768</td>\n",
       "    </tr>\n",
       "    <tr>\n",
       "      <th>22</th>\n",
       "      <td>ABI Right</td>\n",
       "      <td>5.520142</td>\n",
       "    </tr>\n",
       "    <tr>\n",
       "      <th>0</th>\n",
       "      <td>Age</td>\n",
       "      <td>4.523421</td>\n",
       "    </tr>\n",
       "    <tr>\n",
       "      <th>21</th>\n",
       "      <td>Rutherford Score</td>\n",
       "      <td>3.400154</td>\n",
       "    </tr>\n",
       "    <tr>\n",
       "      <th>2</th>\n",
       "      <td>BMI</td>\n",
       "      <td>2.797499</td>\n",
       "    </tr>\n",
       "    <tr>\n",
       "      <th>9</th>\n",
       "      <td>History of MI</td>\n",
       "      <td>2.642242</td>\n",
       "    </tr>\n",
       "    <tr>\n",
       "      <th>30</th>\n",
       "      <td>Artery affected_internal iliac</td>\n",
       "      <td>1.596135</td>\n",
       "    </tr>\n",
       "    <tr>\n",
       "      <th>18</th>\n",
       "      <td>EGFR (mL/min/1.73m2)</td>\n",
       "      <td>1.223716</td>\n",
       "    </tr>\n",
       "    <tr>\n",
       "      <th>14</th>\n",
       "      <td>Hx of  DVT</td>\n",
       "      <td>0.943421</td>\n",
       "    </tr>\n",
       "    <tr>\n",
       "      <th>1</th>\n",
       "      <td>White</td>\n",
       "      <td>0.559947</td>\n",
       "    </tr>\n",
       "    <tr>\n",
       "      <th>39</th>\n",
       "      <td>Intervention type_stent</td>\n",
       "      <td>0.000000</td>\n",
       "    </tr>\n",
       "    <tr>\n",
       "      <th>40</th>\n",
       "      <td>Intervention type_DVA</td>\n",
       "      <td>0.000000</td>\n",
       "    </tr>\n",
       "    <tr>\n",
       "      <th>28</th>\n",
       "      <td>Intervention Classification_Open</td>\n",
       "      <td>0.000000</td>\n",
       "    </tr>\n",
       "    <tr>\n",
       "      <th>29</th>\n",
       "      <td>Artery affected_anterior tibial</td>\n",
       "      <td>0.000000</td>\n",
       "    </tr>\n",
       "    <tr>\n",
       "      <th>42</th>\n",
       "      <td>Intervention type_bypass revision</td>\n",
       "      <td>0.000000</td>\n",
       "    </tr>\n",
       "    <tr>\n",
       "      <th>41</th>\n",
       "      <td>Intervention type_angioplasty</td>\n",
       "      <td>0.000000</td>\n",
       "    </tr>\n",
       "    <tr>\n",
       "      <th>31</th>\n",
       "      <td>Artery affected_common femoral</td>\n",
       "      <td>0.000000</td>\n",
       "    </tr>\n",
       "    <tr>\n",
       "      <th>32</th>\n",
       "      <td>Artery affected_SFA</td>\n",
       "      <td>0.000000</td>\n",
       "    </tr>\n",
       "    <tr>\n",
       "      <th>38</th>\n",
       "      <td>Intervention type_bypass</td>\n",
       "      <td>0.000000</td>\n",
       "    </tr>\n",
       "    <tr>\n",
       "      <th>33</th>\n",
       "      <td>Artery affected_external iliac</td>\n",
       "      <td>0.000000</td>\n",
       "    </tr>\n",
       "    <tr>\n",
       "      <th>34</th>\n",
       "      <td>Artery affected_posterior tibial</td>\n",
       "      <td>0.000000</td>\n",
       "    </tr>\n",
       "    <tr>\n",
       "      <th>26</th>\n",
       "      <td>Extremity_right</td>\n",
       "      <td>0.000000</td>\n",
       "    </tr>\n",
       "    <tr>\n",
       "      <th>35</th>\n",
       "      <td>Artery affected_popliteal</td>\n",
       "      <td>0.000000</td>\n",
       "    </tr>\n",
       "    <tr>\n",
       "      <th>36</th>\n",
       "      <td>Artery affected_aortoiliac</td>\n",
       "      <td>0.000000</td>\n",
       "    </tr>\n",
       "    <tr>\n",
       "      <th>37</th>\n",
       "      <td>Intervention type_thrombectomy</td>\n",
       "      <td>0.000000</td>\n",
       "    </tr>\n",
       "    <tr>\n",
       "      <th>27</th>\n",
       "      <td>Intervention Classification_Combined</td>\n",
       "      <td>0.000000</td>\n",
       "    </tr>\n",
       "    <tr>\n",
       "      <th>3</th>\n",
       "      <td>Tobacco Use</td>\n",
       "      <td>0.000000</td>\n",
       "    </tr>\n",
       "    <tr>\n",
       "      <th>25</th>\n",
       "      <td>Extremity_Bilateral</td>\n",
       "      <td>0.000000</td>\n",
       "    </tr>\n",
       "    <tr>\n",
       "      <th>12</th>\n",
       "      <td>Does Subject Currently have cancer?</td>\n",
       "      <td>0.000000</td>\n",
       "    </tr>\n",
       "    <tr>\n",
       "      <th>5</th>\n",
       "      <td>Hypertension</td>\n",
       "      <td>0.000000</td>\n",
       "    </tr>\n",
       "    <tr>\n",
       "      <th>6</th>\n",
       "      <td>Hyperlipidemia (choice=None)</td>\n",
       "      <td>0.000000</td>\n",
       "    </tr>\n",
       "    <tr>\n",
       "      <th>7</th>\n",
       "      <td>Renal Status</td>\n",
       "      <td>0.000000</td>\n",
       "    </tr>\n",
       "    <tr>\n",
       "      <th>8</th>\n",
       "      <td>Coronary Artery Disease</td>\n",
       "      <td>0.000000</td>\n",
       "    </tr>\n",
       "    <tr>\n",
       "      <th>10</th>\n",
       "      <td>Functional impairment</td>\n",
       "      <td>0.000000</td>\n",
       "    </tr>\n",
       "    <tr>\n",
       "      <th>11</th>\n",
       "      <td>Clotting Disorder</td>\n",
       "      <td>0.000000</td>\n",
       "    </tr>\n",
       "    <tr>\n",
       "      <th>13</th>\n",
       "      <td>Past hx of cancer</td>\n",
       "      <td>0.000000</td>\n",
       "    </tr>\n",
       "    <tr>\n",
       "      <th>24</th>\n",
       "      <td>Is Male</td>\n",
       "      <td>0.000000</td>\n",
       "    </tr>\n",
       "    <tr>\n",
       "      <th>15</th>\n",
       "      <td>Hx of stroke</td>\n",
       "      <td>0.000000</td>\n",
       "    </tr>\n",
       "    <tr>\n",
       "      <th>16</th>\n",
       "      <td>Hx of pulmonary embolism</td>\n",
       "      <td>0.000000</td>\n",
       "    </tr>\n",
       "    <tr>\n",
       "      <th>17</th>\n",
       "      <td>Does the patient have a history of solid organ...</td>\n",
       "      <td>0.000000</td>\n",
       "    </tr>\n",
       "    <tr>\n",
       "      <th>19</th>\n",
       "      <td>Has subject had previous intervention of the i...</td>\n",
       "      <td>0.000000</td>\n",
       "    </tr>\n",
       "    <tr>\n",
       "      <th>20</th>\n",
       "      <td>Previous occluded stents</td>\n",
       "      <td>0.000000</td>\n",
       "    </tr>\n",
       "    <tr>\n",
       "      <th>4</th>\n",
       "      <td>Diabetes</td>\n",
       "      <td>0.000000</td>\n",
       "    </tr>\n",
       "    <tr>\n",
       "      <th>43</th>\n",
       "      <td>Intervention type_endarterectomy</td>\n",
       "      <td>0.000000</td>\n",
       "    </tr>\n",
       "  </tbody>\n",
       "</table>\n",
       "</div>"
      ],
      "text/plain": [
       "                                              Feature  Importance\n",
       "23                                           ABI left   10.017768\n",
       "22                                          ABI Right    5.520142\n",
       "0                                                 Age    4.523421\n",
       "21                                   Rutherford Score    3.400154\n",
       "2                                                 BMI    2.797499\n",
       "9                                       History of MI    2.642242\n",
       "30                     Artery affected_internal iliac    1.596135\n",
       "18                               EGFR (mL/min/1.73m2)    1.223716\n",
       "14                                         Hx of  DVT    0.943421\n",
       "1                                               White    0.559947\n",
       "39                            Intervention type_stent    0.000000\n",
       "40                              Intervention type_DVA    0.000000\n",
       "28                   Intervention Classification_Open    0.000000\n",
       "29                    Artery affected_anterior tibial    0.000000\n",
       "42                  Intervention type_bypass revision    0.000000\n",
       "41                      Intervention type_angioplasty    0.000000\n",
       "31                     Artery affected_common femoral    0.000000\n",
       "32                                Artery affected_SFA    0.000000\n",
       "38                           Intervention type_bypass    0.000000\n",
       "33                     Artery affected_external iliac    0.000000\n",
       "34                   Artery affected_posterior tibial    0.000000\n",
       "26                                    Extremity_right    0.000000\n",
       "35                          Artery affected_popliteal    0.000000\n",
       "36                         Artery affected_aortoiliac    0.000000\n",
       "37                     Intervention type_thrombectomy    0.000000\n",
       "27               Intervention Classification_Combined    0.000000\n",
       "3                                         Tobacco Use    0.000000\n",
       "25                                Extremity_Bilateral    0.000000\n",
       "12                Does Subject Currently have cancer?    0.000000\n",
       "5                                        Hypertension    0.000000\n",
       "6                        Hyperlipidemia (choice=None)    0.000000\n",
       "7                                        Renal Status    0.000000\n",
       "8                             Coronary Artery Disease    0.000000\n",
       "10                              Functional impairment    0.000000\n",
       "11                                  Clotting Disorder    0.000000\n",
       "13                                  Past hx of cancer    0.000000\n",
       "24                                            Is Male    0.000000\n",
       "15                                       Hx of stroke    0.000000\n",
       "16                           Hx of pulmonary embolism    0.000000\n",
       "17  Does the patient have a history of solid organ...    0.000000\n",
       "19  Has subject had previous intervention of the i...    0.000000\n",
       "20                           Previous occluded stents    0.000000\n",
       "4                                            Diabetes    0.000000\n",
       "43                   Intervention type_endarterectomy    0.000000"
      ]
     },
     "execution_count": 120,
     "metadata": {},
     "output_type": "execute_result"
    }
   ],
   "source": [
    "importance_df_bsaeline  = feature_importance(best_model_baseline, baseline_train)\n",
    "importance_df_bsaeline"
   ]
  },
  {
   "cell_type": "code",
   "execution_count": 121,
   "metadata": {},
   "outputs": [
    {
     "data": {
      "application/vnd.plotly.v1+json": {
       "config": {
        "plotlyServerURL": "https://plot.ly"
       },
       "data": [
        {
         "alignmentgroup": "True",
         "hovertemplate": "variable=Importance<br>Percentage=%{x}<br>Factors=%{y}<extra></extra>",
         "legendgroup": "Importance",
         "marker": {
          "color": "#636efa",
          "pattern": {
           "shape": ""
          }
         },
         "name": "Importance",
         "offsetgroup": "Importance",
         "orientation": "h",
         "showlegend": true,
         "textposition": "auto",
         "type": "bar",
         "x": [
          10.017767906188965,
          5.5201416015625,
          4.523421287536621,
          3.4001543521881104,
          2.797499418258667,
          2.642242431640625,
          1.5961345434188843,
          1.2237162590026855,
          0.9434207081794739,
          0.5599467754364014
         ],
         "xaxis": "x",
         "y": [
          "ABI left",
          "ABI Right",
          "Age",
          "Rutherford Score",
          "BMI",
          "History of MI",
          "Artery affected_internal iliac",
          "EGFR (mL/min/1.73m2)",
          "Hx of  DVT",
          "White"
         ],
         "yaxis": "y"
        }
       ],
       "layout": {
        "barmode": "relative",
        "legend": {
         "title": {
          "text": "variable"
         },
         "tracegroupgap": 0
        },
        "showlegend": false,
        "template": {
         "data": {
          "bar": [
           {
            "error_x": {
             "color": "#2a3f5f"
            },
            "error_y": {
             "color": "#2a3f5f"
            },
            "marker": {
             "line": {
              "color": "#E5ECF6",
              "width": 0.5
             },
             "pattern": {
              "fillmode": "overlay",
              "size": 10,
              "solidity": 0.2
             }
            },
            "type": "bar"
           }
          ],
          "barpolar": [
           {
            "marker": {
             "line": {
              "color": "#E5ECF6",
              "width": 0.5
             },
             "pattern": {
              "fillmode": "overlay",
              "size": 10,
              "solidity": 0.2
             }
            },
            "type": "barpolar"
           }
          ],
          "carpet": [
           {
            "aaxis": {
             "endlinecolor": "#2a3f5f",
             "gridcolor": "white",
             "linecolor": "white",
             "minorgridcolor": "white",
             "startlinecolor": "#2a3f5f"
            },
            "baxis": {
             "endlinecolor": "#2a3f5f",
             "gridcolor": "white",
             "linecolor": "white",
             "minorgridcolor": "white",
             "startlinecolor": "#2a3f5f"
            },
            "type": "carpet"
           }
          ],
          "choropleth": [
           {
            "colorbar": {
             "outlinewidth": 0,
             "ticks": ""
            },
            "type": "choropleth"
           }
          ],
          "contour": [
           {
            "colorbar": {
             "outlinewidth": 0,
             "ticks": ""
            },
            "colorscale": [
             [
              0,
              "#0d0887"
             ],
             [
              0.1111111111111111,
              "#46039f"
             ],
             [
              0.2222222222222222,
              "#7201a8"
             ],
             [
              0.3333333333333333,
              "#9c179e"
             ],
             [
              0.4444444444444444,
              "#bd3786"
             ],
             [
              0.5555555555555556,
              "#d8576b"
             ],
             [
              0.6666666666666666,
              "#ed7953"
             ],
             [
              0.7777777777777778,
              "#fb9f3a"
             ],
             [
              0.8888888888888888,
              "#fdca26"
             ],
             [
              1,
              "#f0f921"
             ]
            ],
            "type": "contour"
           }
          ],
          "contourcarpet": [
           {
            "colorbar": {
             "outlinewidth": 0,
             "ticks": ""
            },
            "type": "contourcarpet"
           }
          ],
          "heatmap": [
           {
            "colorbar": {
             "outlinewidth": 0,
             "ticks": ""
            },
            "colorscale": [
             [
              0,
              "#0d0887"
             ],
             [
              0.1111111111111111,
              "#46039f"
             ],
             [
              0.2222222222222222,
              "#7201a8"
             ],
             [
              0.3333333333333333,
              "#9c179e"
             ],
             [
              0.4444444444444444,
              "#bd3786"
             ],
             [
              0.5555555555555556,
              "#d8576b"
             ],
             [
              0.6666666666666666,
              "#ed7953"
             ],
             [
              0.7777777777777778,
              "#fb9f3a"
             ],
             [
              0.8888888888888888,
              "#fdca26"
             ],
             [
              1,
              "#f0f921"
             ]
            ],
            "type": "heatmap"
           }
          ],
          "heatmapgl": [
           {
            "colorbar": {
             "outlinewidth": 0,
             "ticks": ""
            },
            "colorscale": [
             [
              0,
              "#0d0887"
             ],
             [
              0.1111111111111111,
              "#46039f"
             ],
             [
              0.2222222222222222,
              "#7201a8"
             ],
             [
              0.3333333333333333,
              "#9c179e"
             ],
             [
              0.4444444444444444,
              "#bd3786"
             ],
             [
              0.5555555555555556,
              "#d8576b"
             ],
             [
              0.6666666666666666,
              "#ed7953"
             ],
             [
              0.7777777777777778,
              "#fb9f3a"
             ],
             [
              0.8888888888888888,
              "#fdca26"
             ],
             [
              1,
              "#f0f921"
             ]
            ],
            "type": "heatmapgl"
           }
          ],
          "histogram": [
           {
            "marker": {
             "pattern": {
              "fillmode": "overlay",
              "size": 10,
              "solidity": 0.2
             }
            },
            "type": "histogram"
           }
          ],
          "histogram2d": [
           {
            "colorbar": {
             "outlinewidth": 0,
             "ticks": ""
            },
            "colorscale": [
             [
              0,
              "#0d0887"
             ],
             [
              0.1111111111111111,
              "#46039f"
             ],
             [
              0.2222222222222222,
              "#7201a8"
             ],
             [
              0.3333333333333333,
              "#9c179e"
             ],
             [
              0.4444444444444444,
              "#bd3786"
             ],
             [
              0.5555555555555556,
              "#d8576b"
             ],
             [
              0.6666666666666666,
              "#ed7953"
             ],
             [
              0.7777777777777778,
              "#fb9f3a"
             ],
             [
              0.8888888888888888,
              "#fdca26"
             ],
             [
              1,
              "#f0f921"
             ]
            ],
            "type": "histogram2d"
           }
          ],
          "histogram2dcontour": [
           {
            "colorbar": {
             "outlinewidth": 0,
             "ticks": ""
            },
            "colorscale": [
             [
              0,
              "#0d0887"
             ],
             [
              0.1111111111111111,
              "#46039f"
             ],
             [
              0.2222222222222222,
              "#7201a8"
             ],
             [
              0.3333333333333333,
              "#9c179e"
             ],
             [
              0.4444444444444444,
              "#bd3786"
             ],
             [
              0.5555555555555556,
              "#d8576b"
             ],
             [
              0.6666666666666666,
              "#ed7953"
             ],
             [
              0.7777777777777778,
              "#fb9f3a"
             ],
             [
              0.8888888888888888,
              "#fdca26"
             ],
             [
              1,
              "#f0f921"
             ]
            ],
            "type": "histogram2dcontour"
           }
          ],
          "mesh3d": [
           {
            "colorbar": {
             "outlinewidth": 0,
             "ticks": ""
            },
            "type": "mesh3d"
           }
          ],
          "parcoords": [
           {
            "line": {
             "colorbar": {
              "outlinewidth": 0,
              "ticks": ""
             }
            },
            "type": "parcoords"
           }
          ],
          "pie": [
           {
            "automargin": true,
            "type": "pie"
           }
          ],
          "scatter": [
           {
            "fillpattern": {
             "fillmode": "overlay",
             "size": 10,
             "solidity": 0.2
            },
            "type": "scatter"
           }
          ],
          "scatter3d": [
           {
            "line": {
             "colorbar": {
              "outlinewidth": 0,
              "ticks": ""
             }
            },
            "marker": {
             "colorbar": {
              "outlinewidth": 0,
              "ticks": ""
             }
            },
            "type": "scatter3d"
           }
          ],
          "scattercarpet": [
           {
            "marker": {
             "colorbar": {
              "outlinewidth": 0,
              "ticks": ""
             }
            },
            "type": "scattercarpet"
           }
          ],
          "scattergeo": [
           {
            "marker": {
             "colorbar": {
              "outlinewidth": 0,
              "ticks": ""
             }
            },
            "type": "scattergeo"
           }
          ],
          "scattergl": [
           {
            "marker": {
             "colorbar": {
              "outlinewidth": 0,
              "ticks": ""
             }
            },
            "type": "scattergl"
           }
          ],
          "scattermapbox": [
           {
            "marker": {
             "colorbar": {
              "outlinewidth": 0,
              "ticks": ""
             }
            },
            "type": "scattermapbox"
           }
          ],
          "scatterpolar": [
           {
            "marker": {
             "colorbar": {
              "outlinewidth": 0,
              "ticks": ""
             }
            },
            "type": "scatterpolar"
           }
          ],
          "scatterpolargl": [
           {
            "marker": {
             "colorbar": {
              "outlinewidth": 0,
              "ticks": ""
             }
            },
            "type": "scatterpolargl"
           }
          ],
          "scatterternary": [
           {
            "marker": {
             "colorbar": {
              "outlinewidth": 0,
              "ticks": ""
             }
            },
            "type": "scatterternary"
           }
          ],
          "surface": [
           {
            "colorbar": {
             "outlinewidth": 0,
             "ticks": ""
            },
            "colorscale": [
             [
              0,
              "#0d0887"
             ],
             [
              0.1111111111111111,
              "#46039f"
             ],
             [
              0.2222222222222222,
              "#7201a8"
             ],
             [
              0.3333333333333333,
              "#9c179e"
             ],
             [
              0.4444444444444444,
              "#bd3786"
             ],
             [
              0.5555555555555556,
              "#d8576b"
             ],
             [
              0.6666666666666666,
              "#ed7953"
             ],
             [
              0.7777777777777778,
              "#fb9f3a"
             ],
             [
              0.8888888888888888,
              "#fdca26"
             ],
             [
              1,
              "#f0f921"
             ]
            ],
            "type": "surface"
           }
          ],
          "table": [
           {
            "cells": {
             "fill": {
              "color": "#EBF0F8"
             },
             "line": {
              "color": "white"
             }
            },
            "header": {
             "fill": {
              "color": "#C8D4E3"
             },
             "line": {
              "color": "white"
             }
            },
            "type": "table"
           }
          ]
         },
         "layout": {
          "annotationdefaults": {
           "arrowcolor": "#2a3f5f",
           "arrowhead": 0,
           "arrowwidth": 1
          },
          "autotypenumbers": "strict",
          "coloraxis": {
           "colorbar": {
            "outlinewidth": 0,
            "ticks": ""
           }
          },
          "colorscale": {
           "diverging": [
            [
             0,
             "#8e0152"
            ],
            [
             0.1,
             "#c51b7d"
            ],
            [
             0.2,
             "#de77ae"
            ],
            [
             0.3,
             "#f1b6da"
            ],
            [
             0.4,
             "#fde0ef"
            ],
            [
             0.5,
             "#f7f7f7"
            ],
            [
             0.6,
             "#e6f5d0"
            ],
            [
             0.7,
             "#b8e186"
            ],
            [
             0.8,
             "#7fbc41"
            ],
            [
             0.9,
             "#4d9221"
            ],
            [
             1,
             "#276419"
            ]
           ],
           "sequential": [
            [
             0,
             "#0d0887"
            ],
            [
             0.1111111111111111,
             "#46039f"
            ],
            [
             0.2222222222222222,
             "#7201a8"
            ],
            [
             0.3333333333333333,
             "#9c179e"
            ],
            [
             0.4444444444444444,
             "#bd3786"
            ],
            [
             0.5555555555555556,
             "#d8576b"
            ],
            [
             0.6666666666666666,
             "#ed7953"
            ],
            [
             0.7777777777777778,
             "#fb9f3a"
            ],
            [
             0.8888888888888888,
             "#fdca26"
            ],
            [
             1,
             "#f0f921"
            ]
           ],
           "sequentialminus": [
            [
             0,
             "#0d0887"
            ],
            [
             0.1111111111111111,
             "#46039f"
            ],
            [
             0.2222222222222222,
             "#7201a8"
            ],
            [
             0.3333333333333333,
             "#9c179e"
            ],
            [
             0.4444444444444444,
             "#bd3786"
            ],
            [
             0.5555555555555556,
             "#d8576b"
            ],
            [
             0.6666666666666666,
             "#ed7953"
            ],
            [
             0.7777777777777778,
             "#fb9f3a"
            ],
            [
             0.8888888888888888,
             "#fdca26"
            ],
            [
             1,
             "#f0f921"
            ]
           ]
          },
          "colorway": [
           "#636efa",
           "#EF553B",
           "#00cc96",
           "#ab63fa",
           "#FFA15A",
           "#19d3f3",
           "#FF6692",
           "#B6E880",
           "#FF97FF",
           "#FECB52"
          ],
          "font": {
           "color": "#2a3f5f"
          },
          "geo": {
           "bgcolor": "white",
           "lakecolor": "white",
           "landcolor": "#E5ECF6",
           "showlakes": true,
           "showland": true,
           "subunitcolor": "white"
          },
          "hoverlabel": {
           "align": "left"
          },
          "hovermode": "closest",
          "mapbox": {
           "style": "light"
          },
          "paper_bgcolor": "white",
          "plot_bgcolor": "#E5ECF6",
          "polar": {
           "angularaxis": {
            "gridcolor": "white",
            "linecolor": "white",
            "ticks": ""
           },
           "bgcolor": "#E5ECF6",
           "radialaxis": {
            "gridcolor": "white",
            "linecolor": "white",
            "ticks": ""
           }
          },
          "scene": {
           "xaxis": {
            "backgroundcolor": "#E5ECF6",
            "gridcolor": "white",
            "gridwidth": 2,
            "linecolor": "white",
            "showbackground": true,
            "ticks": "",
            "zerolinecolor": "white"
           },
           "yaxis": {
            "backgroundcolor": "#E5ECF6",
            "gridcolor": "white",
            "gridwidth": 2,
            "linecolor": "white",
            "showbackground": true,
            "ticks": "",
            "zerolinecolor": "white"
           },
           "zaxis": {
            "backgroundcolor": "#E5ECF6",
            "gridcolor": "white",
            "gridwidth": 2,
            "linecolor": "white",
            "showbackground": true,
            "ticks": "",
            "zerolinecolor": "white"
           }
          },
          "shapedefaults": {
           "line": {
            "color": "#2a3f5f"
           }
          },
          "ternary": {
           "aaxis": {
            "gridcolor": "white",
            "linecolor": "white",
            "ticks": ""
           },
           "baxis": {
            "gridcolor": "white",
            "linecolor": "white",
            "ticks": ""
           },
           "bgcolor": "#E5ECF6",
           "caxis": {
            "gridcolor": "white",
            "linecolor": "white",
            "ticks": ""
           }
          },
          "title": {
           "x": 0.05
          },
          "xaxis": {
           "automargin": true,
           "gridcolor": "white",
           "linecolor": "white",
           "ticks": "",
           "title": {
            "standoff": 15
           },
           "zerolinecolor": "white",
           "zerolinewidth": 2
          },
          "yaxis": {
           "automargin": true,
           "gridcolor": "white",
           "linecolor": "white",
           "ticks": "",
           "title": {
            "standoff": 15
           },
           "zerolinecolor": "white",
           "zerolinewidth": 2
          }
         }
        },
        "title": {
         "text": "Baseline feature importance"
        },
        "xaxis": {
         "anchor": "y",
         "domain": [
          0,
          1
         ],
         "title": {
          "text": "Percentage"
         }
        },
        "yaxis": {
         "anchor": "x",
         "categoryorder": "total ascending",
         "domain": [
          0,
          1
         ],
         "title": {
          "text": "Factors"
         }
        }
       }
      }
     },
     "metadata": {},
     "output_type": "display_data"
    }
   ],
   "source": [
    "fig = plot_importance(importance_df_bsaeline, \"Baseline feature importance\", showlegend= False)\n",
    "display(fig)"
   ]
  },
  {
   "cell_type": "markdown",
   "metadata": {},
   "source": [
    "## TEG model 1\n",
    "The first model will be used to determine the feature importance so the user can then select parameters of interest."
   ]
  },
  {
   "cell_type": "markdown",
   "metadata": {},
   "source": [
    "### Create model"
   ]
  },
  {
   "cell_type": "code",
   "execution_count": 79,
   "metadata": {},
   "outputs": [],
   "source": [
    "teg1_columns =  list(extended_df.columns)"
   ]
  },
  {
   "cell_type": "code",
   "execution_count": 80,
   "metadata": {},
   "outputs": [
    {
     "name": "stderr",
     "output_type": "stream",
     "text": [
      "/opt/anaconda3/envs/Capstone2023/lib/python3.10/site-packages/numpy/lib/nanfunctions.py:1217: RuntimeWarning:\n",
      "\n",
      "All-NaN slice encountered\n",
      "\n",
      "/opt/anaconda3/envs/Capstone2023/lib/python3.10/site-packages/numpy/lib/nanfunctions.py:1556: RuntimeWarning:\n",
      "\n",
      "All-NaN slice encountered\n",
      "\n",
      "/opt/anaconda3/envs/Capstone2023/lib/python3.10/site-packages/numpy/lib/nanfunctions.py:1217: RuntimeWarning:\n",
      "\n",
      "All-NaN slice encountered\n",
      "\n",
      "/opt/anaconda3/envs/Capstone2023/lib/python3.10/site-packages/numpy/lib/nanfunctions.py:1556: RuntimeWarning:\n",
      "\n",
      "All-NaN slice encountered\n",
      "\n",
      "/opt/anaconda3/envs/Capstone2023/lib/python3.10/site-packages/numpy/lib/nanfunctions.py:1217: RuntimeWarning:\n",
      "\n",
      "All-NaN slice encountered\n",
      "\n",
      "/opt/anaconda3/envs/Capstone2023/lib/python3.10/site-packages/numpy/lib/nanfunctions.py:1556: RuntimeWarning:\n",
      "\n",
      "All-NaN slice encountered\n",
      "\n",
      "/opt/anaconda3/envs/Capstone2023/lib/python3.10/site-packages/numpy/lib/nanfunctions.py:1217: RuntimeWarning:\n",
      "\n",
      "All-NaN slice encountered\n",
      "\n",
      "/opt/anaconda3/envs/Capstone2023/lib/python3.10/site-packages/numpy/lib/nanfunctions.py:1556: RuntimeWarning:\n",
      "\n",
      "All-NaN slice encountered\n",
      "\n",
      "/opt/anaconda3/envs/Capstone2023/lib/python3.10/site-packages/numpy/lib/nanfunctions.py:1217: RuntimeWarning:\n",
      "\n",
      "All-NaN slice encountered\n",
      "\n",
      "/opt/anaconda3/envs/Capstone2023/lib/python3.10/site-packages/numpy/lib/nanfunctions.py:1556: RuntimeWarning:\n",
      "\n",
      "All-NaN slice encountered\n",
      "\n",
      "/opt/anaconda3/envs/Capstone2023/lib/python3.10/site-packages/numpy/lib/nanfunctions.py:1217: RuntimeWarning:\n",
      "\n",
      "All-NaN slice encountered\n",
      "\n",
      "/opt/anaconda3/envs/Capstone2023/lib/python3.10/site-packages/numpy/lib/nanfunctions.py:1556: RuntimeWarning:\n",
      "\n",
      "All-NaN slice encountered\n",
      "\n",
      "/opt/anaconda3/envs/Capstone2023/lib/python3.10/site-packages/numpy/lib/nanfunctions.py:1217: RuntimeWarning:\n",
      "\n",
      "All-NaN slice encountered\n",
      "\n",
      "/opt/anaconda3/envs/Capstone2023/lib/python3.10/site-packages/numpy/lib/nanfunctions.py:1556: RuntimeWarning:\n",
      "\n",
      "All-NaN slice encountered\n",
      "\n",
      "/opt/anaconda3/envs/Capstone2023/lib/python3.10/site-packages/numpy/lib/nanfunctions.py:1217: RuntimeWarning:\n",
      "\n",
      "All-NaN slice encountered\n",
      "\n",
      "/opt/anaconda3/envs/Capstone2023/lib/python3.10/site-packages/numpy/lib/nanfunctions.py:1556: RuntimeWarning:\n",
      "\n",
      "All-NaN slice encountered\n",
      "\n",
      "/opt/anaconda3/envs/Capstone2023/lib/python3.10/site-packages/numpy/lib/nanfunctions.py:1217: RuntimeWarning:\n",
      "\n",
      "All-NaN slice encountered\n",
      "\n",
      "/opt/anaconda3/envs/Capstone2023/lib/python3.10/site-packages/numpy/lib/nanfunctions.py:1556: RuntimeWarning:\n",
      "\n",
      "All-NaN slice encountered\n",
      "\n",
      "/opt/anaconda3/envs/Capstone2023/lib/python3.10/site-packages/numpy/lib/nanfunctions.py:1217: RuntimeWarning:\n",
      "\n",
      "All-NaN slice encountered\n",
      "\n",
      "/opt/anaconda3/envs/Capstone2023/lib/python3.10/site-packages/numpy/lib/nanfunctions.py:1556: RuntimeWarning:\n",
      "\n",
      "All-NaN slice encountered\n",
      "\n",
      "/opt/anaconda3/envs/Capstone2023/lib/python3.10/site-packages/numpy/lib/nanfunctions.py:1217: RuntimeWarning:\n",
      "\n",
      "All-NaN slice encountered\n",
      "\n",
      "/opt/anaconda3/envs/Capstone2023/lib/python3.10/site-packages/numpy/lib/nanfunctions.py:1556: RuntimeWarning:\n",
      "\n",
      "All-NaN slice encountered\n",
      "\n",
      "/opt/anaconda3/envs/Capstone2023/lib/python3.10/site-packages/numpy/lib/nanfunctions.py:1217: RuntimeWarning:\n",
      "\n",
      "All-NaN slice encountered\n",
      "\n",
      "/opt/anaconda3/envs/Capstone2023/lib/python3.10/site-packages/numpy/lib/nanfunctions.py:1556: RuntimeWarning:\n",
      "\n",
      "All-NaN slice encountered\n",
      "\n",
      "/opt/anaconda3/envs/Capstone2023/lib/python3.10/site-packages/numpy/lib/nanfunctions.py:1217: RuntimeWarning:\n",
      "\n",
      "All-NaN slice encountered\n",
      "\n",
      "/opt/anaconda3/envs/Capstone2023/lib/python3.10/site-packages/numpy/lib/nanfunctions.py:1556: RuntimeWarning:\n",
      "\n",
      "All-NaN slice encountered\n",
      "\n",
      "/opt/anaconda3/envs/Capstone2023/lib/python3.10/site-packages/numpy/lib/nanfunctions.py:1217: RuntimeWarning:\n",
      "\n",
      "All-NaN slice encountered\n",
      "\n",
      "/opt/anaconda3/envs/Capstone2023/lib/python3.10/site-packages/numpy/lib/nanfunctions.py:1556: RuntimeWarning:\n",
      "\n",
      "All-NaN slice encountered\n",
      "\n",
      "/opt/anaconda3/envs/Capstone2023/lib/python3.10/site-packages/numpy/lib/nanfunctions.py:1217: RuntimeWarning:\n",
      "\n",
      "All-NaN slice encountered\n",
      "\n",
      "/opt/anaconda3/envs/Capstone2023/lib/python3.10/site-packages/numpy/lib/nanfunctions.py:1556: RuntimeWarning:\n",
      "\n",
      "All-NaN slice encountered\n",
      "\n",
      "/opt/anaconda3/envs/Capstone2023/lib/python3.10/site-packages/numpy/lib/nanfunctions.py:1217: RuntimeWarning:\n",
      "\n",
      "All-NaN slice encountered\n",
      "\n",
      "/opt/anaconda3/envs/Capstone2023/lib/python3.10/site-packages/numpy/lib/nanfunctions.py:1556: RuntimeWarning:\n",
      "\n",
      "All-NaN slice encountered\n",
      "\n",
      "/opt/anaconda3/envs/Capstone2023/lib/python3.10/site-packages/numpy/lib/nanfunctions.py:1217: RuntimeWarning:\n",
      "\n",
      "All-NaN slice encountered\n",
      "\n",
      "/opt/anaconda3/envs/Capstone2023/lib/python3.10/site-packages/numpy/lib/nanfunctions.py:1556: RuntimeWarning:\n",
      "\n",
      "All-NaN slice encountered\n",
      "\n",
      "/opt/anaconda3/envs/Capstone2023/lib/python3.10/site-packages/numpy/lib/nanfunctions.py:1217: RuntimeWarning:\n",
      "\n",
      "All-NaN slice encountered\n",
      "\n",
      "/opt/anaconda3/envs/Capstone2023/lib/python3.10/site-packages/numpy/lib/nanfunctions.py:1556: RuntimeWarning:\n",
      "\n",
      "All-NaN slice encountered\n",
      "\n",
      "/opt/anaconda3/envs/Capstone2023/lib/python3.10/site-packages/numpy/lib/nanfunctions.py:1217: RuntimeWarning:\n",
      "\n",
      "All-NaN slice encountered\n",
      "\n",
      "/opt/anaconda3/envs/Capstone2023/lib/python3.10/site-packages/numpy/lib/nanfunctions.py:1556: RuntimeWarning:\n",
      "\n",
      "All-NaN slice encountered\n",
      "\n",
      "/opt/anaconda3/envs/Capstone2023/lib/python3.10/site-packages/numpy/lib/nanfunctions.py:1217: RuntimeWarning:\n",
      "\n",
      "All-NaN slice encountered\n",
      "\n",
      "/opt/anaconda3/envs/Capstone2023/lib/python3.10/site-packages/numpy/lib/nanfunctions.py:1556: RuntimeWarning:\n",
      "\n",
      "All-NaN slice encountered\n",
      "\n",
      "/opt/anaconda3/envs/Capstone2023/lib/python3.10/site-packages/numpy/lib/nanfunctions.py:1217: RuntimeWarning:\n",
      "\n",
      "All-NaN slice encountered\n",
      "\n",
      "/opt/anaconda3/envs/Capstone2023/lib/python3.10/site-packages/numpy/lib/nanfunctions.py:1556: RuntimeWarning:\n",
      "\n",
      "All-NaN slice encountered\n",
      "\n",
      "/opt/anaconda3/envs/Capstone2023/lib/python3.10/site-packages/numpy/lib/nanfunctions.py:1217: RuntimeWarning:\n",
      "\n",
      "All-NaN slice encountered\n",
      "\n",
      "/opt/anaconda3/envs/Capstone2023/lib/python3.10/site-packages/numpy/lib/nanfunctions.py:1556: RuntimeWarning:\n",
      "\n",
      "All-NaN slice encountered\n",
      "\n",
      "/opt/anaconda3/envs/Capstone2023/lib/python3.10/site-packages/numpy/lib/nanfunctions.py:1217: RuntimeWarning:\n",
      "\n",
      "All-NaN slice encountered\n",
      "\n",
      "/opt/anaconda3/envs/Capstone2023/lib/python3.10/site-packages/numpy/lib/nanfunctions.py:1556: RuntimeWarning:\n",
      "\n",
      "All-NaN slice encountered\n",
      "\n",
      "/opt/anaconda3/envs/Capstone2023/lib/python3.10/site-packages/numpy/lib/nanfunctions.py:1217: RuntimeWarning:\n",
      "\n",
      "All-NaN slice encountered\n",
      "\n",
      "/opt/anaconda3/envs/Capstone2023/lib/python3.10/site-packages/numpy/lib/nanfunctions.py:1556: RuntimeWarning:\n",
      "\n",
      "All-NaN slice encountered\n",
      "\n",
      "/opt/anaconda3/envs/Capstone2023/lib/python3.10/site-packages/numpy/lib/nanfunctions.py:1217: RuntimeWarning:\n",
      "\n",
      "All-NaN slice encountered\n",
      "\n",
      "/opt/anaconda3/envs/Capstone2023/lib/python3.10/site-packages/numpy/lib/nanfunctions.py:1556: RuntimeWarning:\n",
      "\n",
      "All-NaN slice encountered\n",
      "\n",
      "/opt/anaconda3/envs/Capstone2023/lib/python3.10/site-packages/numpy/lib/nanfunctions.py:1217: RuntimeWarning:\n",
      "\n",
      "All-NaN slice encountered\n",
      "\n",
      "/opt/anaconda3/envs/Capstone2023/lib/python3.10/site-packages/numpy/lib/nanfunctions.py:1556: RuntimeWarning:\n",
      "\n",
      "All-NaN slice encountered\n",
      "\n",
      "/opt/anaconda3/envs/Capstone2023/lib/python3.10/site-packages/numpy/lib/nanfunctions.py:1217: RuntimeWarning:\n",
      "\n",
      "All-NaN slice encountered\n",
      "\n",
      "/opt/anaconda3/envs/Capstone2023/lib/python3.10/site-packages/numpy/lib/nanfunctions.py:1556: RuntimeWarning:\n",
      "\n",
      "All-NaN slice encountered\n",
      "\n",
      "/opt/anaconda3/envs/Capstone2023/lib/python3.10/site-packages/numpy/lib/nanfunctions.py:1217: RuntimeWarning:\n",
      "\n",
      "All-NaN slice encountered\n",
      "\n",
      "/opt/anaconda3/envs/Capstone2023/lib/python3.10/site-packages/numpy/lib/nanfunctions.py:1556: RuntimeWarning:\n",
      "\n",
      "All-NaN slice encountered\n",
      "\n",
      "/opt/anaconda3/envs/Capstone2023/lib/python3.10/site-packages/numpy/lib/nanfunctions.py:1217: RuntimeWarning:\n",
      "\n",
      "All-NaN slice encountered\n",
      "\n",
      "/opt/anaconda3/envs/Capstone2023/lib/python3.10/site-packages/numpy/lib/nanfunctions.py:1556: RuntimeWarning:\n",
      "\n",
      "All-NaN slice encountered\n",
      "\n",
      "/opt/anaconda3/envs/Capstone2023/lib/python3.10/site-packages/numpy/lib/nanfunctions.py:1217: RuntimeWarning:\n",
      "\n",
      "All-NaN slice encountered\n",
      "\n",
      "/opt/anaconda3/envs/Capstone2023/lib/python3.10/site-packages/numpy/lib/nanfunctions.py:1556: RuntimeWarning:\n",
      "\n",
      "All-NaN slice encountered\n",
      "\n",
      "/opt/anaconda3/envs/Capstone2023/lib/python3.10/site-packages/numpy/lib/nanfunctions.py:1217: RuntimeWarning:\n",
      "\n",
      "All-NaN slice encountered\n",
      "\n",
      "/opt/anaconda3/envs/Capstone2023/lib/python3.10/site-packages/numpy/lib/nanfunctions.py:1556: RuntimeWarning:\n",
      "\n",
      "All-NaN slice encountered\n",
      "\n",
      "/opt/anaconda3/envs/Capstone2023/lib/python3.10/site-packages/numpy/lib/nanfunctions.py:1217: RuntimeWarning:\n",
      "\n",
      "All-NaN slice encountered\n",
      "\n",
      "/opt/anaconda3/envs/Capstone2023/lib/python3.10/site-packages/numpy/lib/nanfunctions.py:1556: RuntimeWarning:\n",
      "\n",
      "All-NaN slice encountered\n",
      "\n",
      "/opt/anaconda3/envs/Capstone2023/lib/python3.10/site-packages/numpy/lib/nanfunctions.py:1217: RuntimeWarning:\n",
      "\n",
      "All-NaN slice encountered\n",
      "\n",
      "/opt/anaconda3/envs/Capstone2023/lib/python3.10/site-packages/numpy/lib/nanfunctions.py:1556: RuntimeWarning:\n",
      "\n",
      "All-NaN slice encountered\n",
      "\n",
      "/opt/anaconda3/envs/Capstone2023/lib/python3.10/site-packages/numpy/lib/nanfunctions.py:1217: RuntimeWarning:\n",
      "\n",
      "All-NaN slice encountered\n",
      "\n",
      "/opt/anaconda3/envs/Capstone2023/lib/python3.10/site-packages/numpy/lib/nanfunctions.py:1556: RuntimeWarning:\n",
      "\n",
      "All-NaN slice encountered\n",
      "\n",
      "/opt/anaconda3/envs/Capstone2023/lib/python3.10/site-packages/numpy/lib/nanfunctions.py:1217: RuntimeWarning:\n",
      "\n",
      "All-NaN slice encountered\n",
      "\n",
      "/opt/anaconda3/envs/Capstone2023/lib/python3.10/site-packages/numpy/lib/nanfunctions.py:1556: RuntimeWarning:\n",
      "\n",
      "All-NaN slice encountered\n",
      "\n",
      "/opt/anaconda3/envs/Capstone2023/lib/python3.10/site-packages/numpy/lib/nanfunctions.py:1217: RuntimeWarning:\n",
      "\n",
      "All-NaN slice encountered\n",
      "\n",
      "/opt/anaconda3/envs/Capstone2023/lib/python3.10/site-packages/numpy/lib/nanfunctions.py:1556: RuntimeWarning:\n",
      "\n",
      "All-NaN slice encountered\n",
      "\n",
      "/opt/anaconda3/envs/Capstone2023/lib/python3.10/site-packages/numpy/lib/nanfunctions.py:1217: RuntimeWarning:\n",
      "\n",
      "All-NaN slice encountered\n",
      "\n",
      "/opt/anaconda3/envs/Capstone2023/lib/python3.10/site-packages/numpy/lib/nanfunctions.py:1556: RuntimeWarning:\n",
      "\n",
      "All-NaN slice encountered\n",
      "\n",
      "/opt/anaconda3/envs/Capstone2023/lib/python3.10/site-packages/numpy/lib/nanfunctions.py:1217: RuntimeWarning:\n",
      "\n",
      "All-NaN slice encountered\n",
      "\n",
      "/opt/anaconda3/envs/Capstone2023/lib/python3.10/site-packages/numpy/lib/nanfunctions.py:1556: RuntimeWarning:\n",
      "\n",
      "All-NaN slice encountered\n",
      "\n",
      "/opt/anaconda3/envs/Capstone2023/lib/python3.10/site-packages/numpy/lib/nanfunctions.py:1217: RuntimeWarning:\n",
      "\n",
      "All-NaN slice encountered\n",
      "\n",
      "/opt/anaconda3/envs/Capstone2023/lib/python3.10/site-packages/numpy/lib/nanfunctions.py:1556: RuntimeWarning:\n",
      "\n",
      "All-NaN slice encountered\n",
      "\n",
      "/opt/anaconda3/envs/Capstone2023/lib/python3.10/site-packages/numpy/lib/nanfunctions.py:1217: RuntimeWarning:\n",
      "\n",
      "All-NaN slice encountered\n",
      "\n",
      "/opt/anaconda3/envs/Capstone2023/lib/python3.10/site-packages/numpy/lib/nanfunctions.py:1556: RuntimeWarning:\n",
      "\n",
      "All-NaN slice encountered\n",
      "\n",
      "/opt/anaconda3/envs/Capstone2023/lib/python3.10/site-packages/numpy/lib/nanfunctions.py:1217: RuntimeWarning:\n",
      "\n",
      "All-NaN slice encountered\n",
      "\n",
      "/opt/anaconda3/envs/Capstone2023/lib/python3.10/site-packages/numpy/lib/nanfunctions.py:1556: RuntimeWarning:\n",
      "\n",
      "All-NaN slice encountered\n",
      "\n",
      "/opt/anaconda3/envs/Capstone2023/lib/python3.10/site-packages/numpy/lib/nanfunctions.py:1217: RuntimeWarning:\n",
      "\n",
      "All-NaN slice encountered\n",
      "\n",
      "/opt/anaconda3/envs/Capstone2023/lib/python3.10/site-packages/numpy/lib/nanfunctions.py:1556: RuntimeWarning:\n",
      "\n",
      "All-NaN slice encountered\n",
      "\n",
      "/opt/anaconda3/envs/Capstone2023/lib/python3.10/site-packages/numpy/lib/nanfunctions.py:1217: RuntimeWarning:\n",
      "\n",
      "All-NaN slice encountered\n",
      "\n",
      "/opt/anaconda3/envs/Capstone2023/lib/python3.10/site-packages/numpy/lib/nanfunctions.py:1556: RuntimeWarning:\n",
      "\n",
      "All-NaN slice encountered\n",
      "\n",
      "/opt/anaconda3/envs/Capstone2023/lib/python3.10/site-packages/numpy/lib/nanfunctions.py:1217: RuntimeWarning:\n",
      "\n",
      "All-NaN slice encountered\n",
      "\n",
      "/opt/anaconda3/envs/Capstone2023/lib/python3.10/site-packages/numpy/lib/nanfunctions.py:1556: RuntimeWarning:\n",
      "\n",
      "All-NaN slice encountered\n",
      "\n",
      "/opt/anaconda3/envs/Capstone2023/lib/python3.10/site-packages/numpy/lib/nanfunctions.py:1217: RuntimeWarning:\n",
      "\n",
      "All-NaN slice encountered\n",
      "\n",
      "/opt/anaconda3/envs/Capstone2023/lib/python3.10/site-packages/numpy/lib/nanfunctions.py:1556: RuntimeWarning:\n",
      "\n",
      "All-NaN slice encountered\n",
      "\n",
      "/opt/anaconda3/envs/Capstone2023/lib/python3.10/site-packages/numpy/lib/nanfunctions.py:1217: RuntimeWarning:\n",
      "\n",
      "All-NaN slice encountered\n",
      "\n",
      "/opt/anaconda3/envs/Capstone2023/lib/python3.10/site-packages/numpy/lib/nanfunctions.py:1556: RuntimeWarning:\n",
      "\n",
      "All-NaN slice encountered\n",
      "\n",
      "/opt/anaconda3/envs/Capstone2023/lib/python3.10/site-packages/numpy/lib/nanfunctions.py:1217: RuntimeWarning:\n",
      "\n",
      "All-NaN slice encountered\n",
      "\n",
      "/opt/anaconda3/envs/Capstone2023/lib/python3.10/site-packages/numpy/lib/nanfunctions.py:1556: RuntimeWarning:\n",
      "\n",
      "All-NaN slice encountered\n",
      "\n",
      "/opt/anaconda3/envs/Capstone2023/lib/python3.10/site-packages/numpy/lib/nanfunctions.py:1217: RuntimeWarning:\n",
      "\n",
      "All-NaN slice encountered\n",
      "\n",
      "/opt/anaconda3/envs/Capstone2023/lib/python3.10/site-packages/numpy/lib/nanfunctions.py:1556: RuntimeWarning:\n",
      "\n",
      "All-NaN slice encountered\n",
      "\n",
      "/opt/anaconda3/envs/Capstone2023/lib/python3.10/site-packages/numpy/lib/nanfunctions.py:1217: RuntimeWarning:\n",
      "\n",
      "All-NaN slice encountered\n",
      "\n",
      "/opt/anaconda3/envs/Capstone2023/lib/python3.10/site-packages/numpy/lib/nanfunctions.py:1556: RuntimeWarning:\n",
      "\n",
      "All-NaN slice encountered\n",
      "\n",
      "/opt/anaconda3/envs/Capstone2023/lib/python3.10/site-packages/numpy/lib/nanfunctions.py:1217: RuntimeWarning:\n",
      "\n",
      "All-NaN slice encountered\n",
      "\n",
      "/opt/anaconda3/envs/Capstone2023/lib/python3.10/site-packages/numpy/lib/nanfunctions.py:1556: RuntimeWarning:\n",
      "\n",
      "All-NaN slice encountered\n",
      "\n",
      "/opt/anaconda3/envs/Capstone2023/lib/python3.10/site-packages/numpy/lib/nanfunctions.py:1217: RuntimeWarning:\n",
      "\n",
      "All-NaN slice encountered\n",
      "\n",
      "/opt/anaconda3/envs/Capstone2023/lib/python3.10/site-packages/numpy/lib/nanfunctions.py:1556: RuntimeWarning:\n",
      "\n",
      "All-NaN slice encountered\n",
      "\n",
      "/opt/anaconda3/envs/Capstone2023/lib/python3.10/site-packages/numpy/lib/nanfunctions.py:1217: RuntimeWarning:\n",
      "\n",
      "All-NaN slice encountered\n",
      "\n",
      "/opt/anaconda3/envs/Capstone2023/lib/python3.10/site-packages/numpy/lib/nanfunctions.py:1556: RuntimeWarning:\n",
      "\n",
      "All-NaN slice encountered\n",
      "\n",
      "/opt/anaconda3/envs/Capstone2023/lib/python3.10/site-packages/numpy/lib/nanfunctions.py:1217: RuntimeWarning:\n",
      "\n",
      "All-NaN slice encountered\n",
      "\n",
      "/opt/anaconda3/envs/Capstone2023/lib/python3.10/site-packages/numpy/lib/nanfunctions.py:1556: RuntimeWarning:\n",
      "\n",
      "All-NaN slice encountered\n",
      "\n",
      "/opt/anaconda3/envs/Capstone2023/lib/python3.10/site-packages/numpy/lib/nanfunctions.py:1217: RuntimeWarning:\n",
      "\n",
      "All-NaN slice encountered\n",
      "\n",
      "/opt/anaconda3/envs/Capstone2023/lib/python3.10/site-packages/numpy/lib/nanfunctions.py:1556: RuntimeWarning:\n",
      "\n",
      "All-NaN slice encountered\n",
      "\n",
      "/opt/anaconda3/envs/Capstone2023/lib/python3.10/site-packages/numpy/lib/nanfunctions.py:1217: RuntimeWarning:\n",
      "\n",
      "All-NaN slice encountered\n",
      "\n",
      "/opt/anaconda3/envs/Capstone2023/lib/python3.10/site-packages/numpy/lib/nanfunctions.py:1556: RuntimeWarning:\n",
      "\n",
      "All-NaN slice encountered\n",
      "\n",
      "/opt/anaconda3/envs/Capstone2023/lib/python3.10/site-packages/numpy/lib/nanfunctions.py:1217: RuntimeWarning:\n",
      "\n",
      "All-NaN slice encountered\n",
      "\n",
      "/opt/anaconda3/envs/Capstone2023/lib/python3.10/site-packages/numpy/lib/nanfunctions.py:1556: RuntimeWarning:\n",
      "\n",
      "All-NaN slice encountered\n",
      "\n",
      "/opt/anaconda3/envs/Capstone2023/lib/python3.10/site-packages/numpy/lib/nanfunctions.py:1217: RuntimeWarning:\n",
      "\n",
      "All-NaN slice encountered\n",
      "\n",
      "/opt/anaconda3/envs/Capstone2023/lib/python3.10/site-packages/numpy/lib/nanfunctions.py:1556: RuntimeWarning:\n",
      "\n",
      "All-NaN slice encountered\n",
      "\n",
      "/opt/anaconda3/envs/Capstone2023/lib/python3.10/site-packages/numpy/lib/nanfunctions.py:1217: RuntimeWarning:\n",
      "\n",
      "All-NaN slice encountered\n",
      "\n",
      "/opt/anaconda3/envs/Capstone2023/lib/python3.10/site-packages/numpy/lib/nanfunctions.py:1556: RuntimeWarning:\n",
      "\n",
      "All-NaN slice encountered\n",
      "\n",
      "/opt/anaconda3/envs/Capstone2023/lib/python3.10/site-packages/numpy/lib/nanfunctions.py:1217: RuntimeWarning:\n",
      "\n",
      "All-NaN slice encountered\n",
      "\n",
      "/opt/anaconda3/envs/Capstone2023/lib/python3.10/site-packages/numpy/lib/nanfunctions.py:1556: RuntimeWarning:\n",
      "\n",
      "All-NaN slice encountered\n",
      "\n",
      "/opt/anaconda3/envs/Capstone2023/lib/python3.10/site-packages/numpy/lib/nanfunctions.py:1217: RuntimeWarning:\n",
      "\n",
      "All-NaN slice encountered\n",
      "\n",
      "/opt/anaconda3/envs/Capstone2023/lib/python3.10/site-packages/numpy/lib/nanfunctions.py:1556: RuntimeWarning:\n",
      "\n",
      "All-NaN slice encountered\n",
      "\n",
      "/opt/anaconda3/envs/Capstone2023/lib/python3.10/site-packages/numpy/lib/nanfunctions.py:1217: RuntimeWarning:\n",
      "\n",
      "All-NaN slice encountered\n",
      "\n",
      "/opt/anaconda3/envs/Capstone2023/lib/python3.10/site-packages/numpy/lib/nanfunctions.py:1556: RuntimeWarning:\n",
      "\n",
      "All-NaN slice encountered\n",
      "\n",
      "/opt/anaconda3/envs/Capstone2023/lib/python3.10/site-packages/numpy/lib/nanfunctions.py:1217: RuntimeWarning:\n",
      "\n",
      "All-NaN slice encountered\n",
      "\n",
      "/opt/anaconda3/envs/Capstone2023/lib/python3.10/site-packages/numpy/lib/nanfunctions.py:1556: RuntimeWarning:\n",
      "\n",
      "All-NaN slice encountered\n",
      "\n",
      "/opt/anaconda3/envs/Capstone2023/lib/python3.10/site-packages/numpy/lib/nanfunctions.py:1217: RuntimeWarning:\n",
      "\n",
      "All-NaN slice encountered\n",
      "\n",
      "/opt/anaconda3/envs/Capstone2023/lib/python3.10/site-packages/numpy/lib/nanfunctions.py:1556: RuntimeWarning:\n",
      "\n",
      "All-NaN slice encountered\n",
      "\n",
      "/opt/anaconda3/envs/Capstone2023/lib/python3.10/site-packages/numpy/lib/nanfunctions.py:1217: RuntimeWarning:\n",
      "\n",
      "All-NaN slice encountered\n",
      "\n",
      "/opt/anaconda3/envs/Capstone2023/lib/python3.10/site-packages/numpy/lib/nanfunctions.py:1556: RuntimeWarning:\n",
      "\n",
      "All-NaN slice encountered\n",
      "\n",
      "/opt/anaconda3/envs/Capstone2023/lib/python3.10/site-packages/numpy/lib/nanfunctions.py:1217: RuntimeWarning:\n",
      "\n",
      "All-NaN slice encountered\n",
      "\n",
      "/opt/anaconda3/envs/Capstone2023/lib/python3.10/site-packages/numpy/lib/nanfunctions.py:1556: RuntimeWarning:\n",
      "\n",
      "All-NaN slice encountered\n",
      "\n",
      "/opt/anaconda3/envs/Capstone2023/lib/python3.10/site-packages/numpy/lib/nanfunctions.py:1217: RuntimeWarning:\n",
      "\n",
      "All-NaN slice encountered\n",
      "\n",
      "/opt/anaconda3/envs/Capstone2023/lib/python3.10/site-packages/numpy/lib/nanfunctions.py:1556: RuntimeWarning:\n",
      "\n",
      "All-NaN slice encountered\n",
      "\n",
      "/opt/anaconda3/envs/Capstone2023/lib/python3.10/site-packages/numpy/lib/nanfunctions.py:1217: RuntimeWarning:\n",
      "\n",
      "All-NaN slice encountered\n",
      "\n",
      "/opt/anaconda3/envs/Capstone2023/lib/python3.10/site-packages/numpy/lib/nanfunctions.py:1556: RuntimeWarning:\n",
      "\n",
      "All-NaN slice encountered\n",
      "\n",
      "/opt/anaconda3/envs/Capstone2023/lib/python3.10/site-packages/numpy/lib/nanfunctions.py:1217: RuntimeWarning:\n",
      "\n",
      "All-NaN slice encountered\n",
      "\n",
      "/opt/anaconda3/envs/Capstone2023/lib/python3.10/site-packages/numpy/lib/nanfunctions.py:1556: RuntimeWarning:\n",
      "\n",
      "All-NaN slice encountered\n",
      "\n",
      "/opt/anaconda3/envs/Capstone2023/lib/python3.10/site-packages/numpy/lib/nanfunctions.py:1217: RuntimeWarning:\n",
      "\n",
      "All-NaN slice encountered\n",
      "\n",
      "/opt/anaconda3/envs/Capstone2023/lib/python3.10/site-packages/numpy/lib/nanfunctions.py:1556: RuntimeWarning:\n",
      "\n",
      "All-NaN slice encountered\n",
      "\n",
      "/opt/anaconda3/envs/Capstone2023/lib/python3.10/site-packages/numpy/lib/nanfunctions.py:1217: RuntimeWarning:\n",
      "\n",
      "All-NaN slice encountered\n",
      "\n",
      "/opt/anaconda3/envs/Capstone2023/lib/python3.10/site-packages/numpy/lib/nanfunctions.py:1556: RuntimeWarning:\n",
      "\n",
      "All-NaN slice encountered\n",
      "\n",
      "/opt/anaconda3/envs/Capstone2023/lib/python3.10/site-packages/numpy/lib/nanfunctions.py:1217: RuntimeWarning:\n",
      "\n",
      "All-NaN slice encountered\n",
      "\n",
      "/opt/anaconda3/envs/Capstone2023/lib/python3.10/site-packages/numpy/lib/nanfunctions.py:1556: RuntimeWarning:\n",
      "\n",
      "All-NaN slice encountered\n",
      "\n",
      "/opt/anaconda3/envs/Capstone2023/lib/python3.10/site-packages/numpy/lib/nanfunctions.py:1217: RuntimeWarning:\n",
      "\n",
      "All-NaN slice encountered\n",
      "\n",
      "/opt/anaconda3/envs/Capstone2023/lib/python3.10/site-packages/numpy/lib/nanfunctions.py:1556: RuntimeWarning:\n",
      "\n",
      "All-NaN slice encountered\n",
      "\n",
      "/opt/anaconda3/envs/Capstone2023/lib/python3.10/site-packages/numpy/lib/nanfunctions.py:1217: RuntimeWarning:\n",
      "\n",
      "All-NaN slice encountered\n",
      "\n",
      "/opt/anaconda3/envs/Capstone2023/lib/python3.10/site-packages/numpy/lib/nanfunctions.py:1556: RuntimeWarning:\n",
      "\n",
      "All-NaN slice encountered\n",
      "\n",
      "/opt/anaconda3/envs/Capstone2023/lib/python3.10/site-packages/numpy/lib/nanfunctions.py:1217: RuntimeWarning:\n",
      "\n",
      "All-NaN slice encountered\n",
      "\n",
      "/opt/anaconda3/envs/Capstone2023/lib/python3.10/site-packages/numpy/lib/nanfunctions.py:1556: RuntimeWarning:\n",
      "\n",
      "All-NaN slice encountered\n",
      "\n",
      "/opt/anaconda3/envs/Capstone2023/lib/python3.10/site-packages/numpy/lib/nanfunctions.py:1217: RuntimeWarning:\n",
      "\n",
      "All-NaN slice encountered\n",
      "\n",
      "/opt/anaconda3/envs/Capstone2023/lib/python3.10/site-packages/numpy/lib/nanfunctions.py:1556: RuntimeWarning:\n",
      "\n",
      "All-NaN slice encountered\n",
      "\n",
      "/opt/anaconda3/envs/Capstone2023/lib/python3.10/site-packages/numpy/lib/nanfunctions.py:1217: RuntimeWarning:\n",
      "\n",
      "All-NaN slice encountered\n",
      "\n",
      "/opt/anaconda3/envs/Capstone2023/lib/python3.10/site-packages/numpy/lib/nanfunctions.py:1556: RuntimeWarning:\n",
      "\n",
      "All-NaN slice encountered\n",
      "\n",
      "/opt/anaconda3/envs/Capstone2023/lib/python3.10/site-packages/numpy/lib/nanfunctions.py:1217: RuntimeWarning:\n",
      "\n",
      "All-NaN slice encountered\n",
      "\n",
      "/opt/anaconda3/envs/Capstone2023/lib/python3.10/site-packages/numpy/lib/nanfunctions.py:1556: RuntimeWarning:\n",
      "\n",
      "All-NaN slice encountered\n",
      "\n",
      "/opt/anaconda3/envs/Capstone2023/lib/python3.10/site-packages/numpy/lib/nanfunctions.py:1217: RuntimeWarning:\n",
      "\n",
      "All-NaN slice encountered\n",
      "\n",
      "/opt/anaconda3/envs/Capstone2023/lib/python3.10/site-packages/numpy/lib/nanfunctions.py:1556: RuntimeWarning:\n",
      "\n",
      "All-NaN slice encountered\n",
      "\n",
      "/opt/anaconda3/envs/Capstone2023/lib/python3.10/site-packages/numpy/lib/nanfunctions.py:1217: RuntimeWarning:\n",
      "\n",
      "All-NaN slice encountered\n",
      "\n",
      "/opt/anaconda3/envs/Capstone2023/lib/python3.10/site-packages/numpy/lib/nanfunctions.py:1556: RuntimeWarning:\n",
      "\n",
      "All-NaN slice encountered\n",
      "\n",
      "/opt/anaconda3/envs/Capstone2023/lib/python3.10/site-packages/numpy/lib/nanfunctions.py:1217: RuntimeWarning:\n",
      "\n",
      "All-NaN slice encountered\n",
      "\n",
      "/opt/anaconda3/envs/Capstone2023/lib/python3.10/site-packages/numpy/lib/nanfunctions.py:1556: RuntimeWarning:\n",
      "\n",
      "All-NaN slice encountered\n",
      "\n",
      "/opt/anaconda3/envs/Capstone2023/lib/python3.10/site-packages/numpy/lib/nanfunctions.py:1217: RuntimeWarning:\n",
      "\n",
      "All-NaN slice encountered\n",
      "\n",
      "/opt/anaconda3/envs/Capstone2023/lib/python3.10/site-packages/numpy/lib/nanfunctions.py:1556: RuntimeWarning:\n",
      "\n",
      "All-NaN slice encountered\n",
      "\n",
      "/opt/anaconda3/envs/Capstone2023/lib/python3.10/site-packages/numpy/lib/nanfunctions.py:1217: RuntimeWarning:\n",
      "\n",
      "All-NaN slice encountered\n",
      "\n",
      "/opt/anaconda3/envs/Capstone2023/lib/python3.10/site-packages/numpy/lib/nanfunctions.py:1556: RuntimeWarning:\n",
      "\n",
      "All-NaN slice encountered\n",
      "\n",
      "/opt/anaconda3/envs/Capstone2023/lib/python3.10/site-packages/numpy/lib/nanfunctions.py:1217: RuntimeWarning:\n",
      "\n",
      "All-NaN slice encountered\n",
      "\n",
      "/opt/anaconda3/envs/Capstone2023/lib/python3.10/site-packages/numpy/lib/nanfunctions.py:1556: RuntimeWarning:\n",
      "\n",
      "All-NaN slice encountered\n",
      "\n",
      "/opt/anaconda3/envs/Capstone2023/lib/python3.10/site-packages/numpy/lib/nanfunctions.py:1217: RuntimeWarning:\n",
      "\n",
      "All-NaN slice encountered\n",
      "\n",
      "/opt/anaconda3/envs/Capstone2023/lib/python3.10/site-packages/numpy/lib/nanfunctions.py:1556: RuntimeWarning:\n",
      "\n",
      "All-NaN slice encountered\n",
      "\n",
      "/opt/anaconda3/envs/Capstone2023/lib/python3.10/site-packages/numpy/lib/nanfunctions.py:1217: RuntimeWarning:\n",
      "\n",
      "All-NaN slice encountered\n",
      "\n",
      "/opt/anaconda3/envs/Capstone2023/lib/python3.10/site-packages/numpy/lib/nanfunctions.py:1556: RuntimeWarning:\n",
      "\n",
      "All-NaN slice encountered\n",
      "\n",
      "/opt/anaconda3/envs/Capstone2023/lib/python3.10/site-packages/numpy/lib/nanfunctions.py:1217: RuntimeWarning:\n",
      "\n",
      "All-NaN slice encountered\n",
      "\n",
      "/opt/anaconda3/envs/Capstone2023/lib/python3.10/site-packages/numpy/lib/nanfunctions.py:1556: RuntimeWarning:\n",
      "\n",
      "All-NaN slice encountered\n",
      "\n",
      "/opt/anaconda3/envs/Capstone2023/lib/python3.10/site-packages/numpy/lib/nanfunctions.py:1217: RuntimeWarning:\n",
      "\n",
      "All-NaN slice encountered\n",
      "\n",
      "/opt/anaconda3/envs/Capstone2023/lib/python3.10/site-packages/numpy/lib/nanfunctions.py:1556: RuntimeWarning:\n",
      "\n",
      "All-NaN slice encountered\n",
      "\n",
      "/opt/anaconda3/envs/Capstone2023/lib/python3.10/site-packages/numpy/lib/nanfunctions.py:1217: RuntimeWarning:\n",
      "\n",
      "All-NaN slice encountered\n",
      "\n",
      "/opt/anaconda3/envs/Capstone2023/lib/python3.10/site-packages/numpy/lib/nanfunctions.py:1556: RuntimeWarning:\n",
      "\n",
      "All-NaN slice encountered\n",
      "\n",
      "/opt/anaconda3/envs/Capstone2023/lib/python3.10/site-packages/numpy/lib/nanfunctions.py:1217: RuntimeWarning:\n",
      "\n",
      "All-NaN slice encountered\n",
      "\n",
      "/opt/anaconda3/envs/Capstone2023/lib/python3.10/site-packages/numpy/lib/nanfunctions.py:1556: RuntimeWarning:\n",
      "\n",
      "All-NaN slice encountered\n",
      "\n",
      "/opt/anaconda3/envs/Capstone2023/lib/python3.10/site-packages/numpy/lib/nanfunctions.py:1217: RuntimeWarning:\n",
      "\n",
      "All-NaN slice encountered\n",
      "\n",
      "/opt/anaconda3/envs/Capstone2023/lib/python3.10/site-packages/numpy/lib/nanfunctions.py:1556: RuntimeWarning:\n",
      "\n",
      "All-NaN slice encountered\n",
      "\n",
      "/opt/anaconda3/envs/Capstone2023/lib/python3.10/site-packages/numpy/lib/nanfunctions.py:1217: RuntimeWarning:\n",
      "\n",
      "All-NaN slice encountered\n",
      "\n",
      "/opt/anaconda3/envs/Capstone2023/lib/python3.10/site-packages/numpy/lib/nanfunctions.py:1556: RuntimeWarning:\n",
      "\n",
      "All-NaN slice encountered\n",
      "\n",
      "/opt/anaconda3/envs/Capstone2023/lib/python3.10/site-packages/numpy/lib/nanfunctions.py:1217: RuntimeWarning:\n",
      "\n",
      "All-NaN slice encountered\n",
      "\n",
      "/opt/anaconda3/envs/Capstone2023/lib/python3.10/site-packages/numpy/lib/nanfunctions.py:1556: RuntimeWarning:\n",
      "\n",
      "All-NaN slice encountered\n",
      "\n",
      "/opt/anaconda3/envs/Capstone2023/lib/python3.10/site-packages/numpy/lib/nanfunctions.py:1217: RuntimeWarning:\n",
      "\n",
      "All-NaN slice encountered\n",
      "\n",
      "/opt/anaconda3/envs/Capstone2023/lib/python3.10/site-packages/numpy/lib/nanfunctions.py:1556: RuntimeWarning:\n",
      "\n",
      "All-NaN slice encountered\n",
      "\n",
      "/opt/anaconda3/envs/Capstone2023/lib/python3.10/site-packages/numpy/lib/nanfunctions.py:1217: RuntimeWarning:\n",
      "\n",
      "All-NaN slice encountered\n",
      "\n",
      "/opt/anaconda3/envs/Capstone2023/lib/python3.10/site-packages/numpy/lib/nanfunctions.py:1556: RuntimeWarning:\n",
      "\n",
      "All-NaN slice encountered\n",
      "\n",
      "/opt/anaconda3/envs/Capstone2023/lib/python3.10/site-packages/numpy/lib/nanfunctions.py:1217: RuntimeWarning:\n",
      "\n",
      "All-NaN slice encountered\n",
      "\n",
      "/opt/anaconda3/envs/Capstone2023/lib/python3.10/site-packages/numpy/lib/nanfunctions.py:1556: RuntimeWarning:\n",
      "\n",
      "All-NaN slice encountered\n",
      "\n",
      "/opt/anaconda3/envs/Capstone2023/lib/python3.10/site-packages/numpy/lib/nanfunctions.py:1217: RuntimeWarning:\n",
      "\n",
      "All-NaN slice encountered\n",
      "\n",
      "/opt/anaconda3/envs/Capstone2023/lib/python3.10/site-packages/numpy/lib/nanfunctions.py:1556: RuntimeWarning:\n",
      "\n",
      "All-NaN slice encountered\n",
      "\n",
      "/opt/anaconda3/envs/Capstone2023/lib/python3.10/site-packages/numpy/lib/nanfunctions.py:1217: RuntimeWarning:\n",
      "\n",
      "All-NaN slice encountered\n",
      "\n",
      "/opt/anaconda3/envs/Capstone2023/lib/python3.10/site-packages/numpy/lib/nanfunctions.py:1556: RuntimeWarning:\n",
      "\n",
      "All-NaN slice encountered\n",
      "\n",
      "/opt/anaconda3/envs/Capstone2023/lib/python3.10/site-packages/numpy/lib/nanfunctions.py:1217: RuntimeWarning:\n",
      "\n",
      "All-NaN slice encountered\n",
      "\n",
      "/opt/anaconda3/envs/Capstone2023/lib/python3.10/site-packages/numpy/lib/nanfunctions.py:1556: RuntimeWarning:\n",
      "\n",
      "All-NaN slice encountered\n",
      "\n",
      "/opt/anaconda3/envs/Capstone2023/lib/python3.10/site-packages/numpy/lib/nanfunctions.py:1217: RuntimeWarning:\n",
      "\n",
      "All-NaN slice encountered\n",
      "\n",
      "/opt/anaconda3/envs/Capstone2023/lib/python3.10/site-packages/numpy/lib/nanfunctions.py:1556: RuntimeWarning:\n",
      "\n",
      "All-NaN slice encountered\n",
      "\n",
      "/opt/anaconda3/envs/Capstone2023/lib/python3.10/site-packages/numpy/lib/nanfunctions.py:1217: RuntimeWarning:\n",
      "\n",
      "All-NaN slice encountered\n",
      "\n",
      "/opt/anaconda3/envs/Capstone2023/lib/python3.10/site-packages/numpy/lib/nanfunctions.py:1556: RuntimeWarning:\n",
      "\n",
      "All-NaN slice encountered\n",
      "\n",
      "/opt/anaconda3/envs/Capstone2023/lib/python3.10/site-packages/numpy/lib/nanfunctions.py:1217: RuntimeWarning:\n",
      "\n",
      "All-NaN slice encountered\n",
      "\n",
      "/opt/anaconda3/envs/Capstone2023/lib/python3.10/site-packages/numpy/lib/nanfunctions.py:1556: RuntimeWarning:\n",
      "\n",
      "All-NaN slice encountered\n",
      "\n",
      "/opt/anaconda3/envs/Capstone2023/lib/python3.10/site-packages/numpy/lib/nanfunctions.py:1217: RuntimeWarning:\n",
      "\n",
      "All-NaN slice encountered\n",
      "\n",
      "/opt/anaconda3/envs/Capstone2023/lib/python3.10/site-packages/numpy/lib/nanfunctions.py:1556: RuntimeWarning:\n",
      "\n",
      "All-NaN slice encountered\n",
      "\n",
      "/opt/anaconda3/envs/Capstone2023/lib/python3.10/site-packages/numpy/lib/nanfunctions.py:1217: RuntimeWarning:\n",
      "\n",
      "All-NaN slice encountered\n",
      "\n",
      "/opt/anaconda3/envs/Capstone2023/lib/python3.10/site-packages/numpy/lib/nanfunctions.py:1556: RuntimeWarning:\n",
      "\n",
      "All-NaN slice encountered\n",
      "\n",
      "/opt/anaconda3/envs/Capstone2023/lib/python3.10/site-packages/numpy/lib/nanfunctions.py:1217: RuntimeWarning:\n",
      "\n",
      "All-NaN slice encountered\n",
      "\n",
      "/opt/anaconda3/envs/Capstone2023/lib/python3.10/site-packages/numpy/lib/nanfunctions.py:1556: RuntimeWarning:\n",
      "\n",
      "All-NaN slice encountered\n",
      "\n",
      "/opt/anaconda3/envs/Capstone2023/lib/python3.10/site-packages/numpy/lib/nanfunctions.py:1217: RuntimeWarning:\n",
      "\n",
      "All-NaN slice encountered\n",
      "\n",
      "/opt/anaconda3/envs/Capstone2023/lib/python3.10/site-packages/numpy/lib/nanfunctions.py:1556: RuntimeWarning:\n",
      "\n",
      "All-NaN slice encountered\n",
      "\n",
      "/opt/anaconda3/envs/Capstone2023/lib/python3.10/site-packages/numpy/lib/nanfunctions.py:1217: RuntimeWarning:\n",
      "\n",
      "All-NaN slice encountered\n",
      "\n",
      "/opt/anaconda3/envs/Capstone2023/lib/python3.10/site-packages/numpy/lib/nanfunctions.py:1556: RuntimeWarning:\n",
      "\n",
      "All-NaN slice encountered\n",
      "\n",
      "/opt/anaconda3/envs/Capstone2023/lib/python3.10/site-packages/numpy/lib/nanfunctions.py:1217: RuntimeWarning:\n",
      "\n",
      "All-NaN slice encountered\n",
      "\n",
      "/opt/anaconda3/envs/Capstone2023/lib/python3.10/site-packages/numpy/lib/nanfunctions.py:1556: RuntimeWarning:\n",
      "\n",
      "All-NaN slice encountered\n",
      "\n",
      "/opt/anaconda3/envs/Capstone2023/lib/python3.10/site-packages/numpy/lib/nanfunctions.py:1217: RuntimeWarning:\n",
      "\n",
      "All-NaN slice encountered\n",
      "\n",
      "/opt/anaconda3/envs/Capstone2023/lib/python3.10/site-packages/numpy/lib/nanfunctions.py:1556: RuntimeWarning:\n",
      "\n",
      "All-NaN slice encountered\n",
      "\n",
      "/opt/anaconda3/envs/Capstone2023/lib/python3.10/site-packages/numpy/lib/nanfunctions.py:1217: RuntimeWarning:\n",
      "\n",
      "All-NaN slice encountered\n",
      "\n",
      "/opt/anaconda3/envs/Capstone2023/lib/python3.10/site-packages/numpy/lib/nanfunctions.py:1556: RuntimeWarning:\n",
      "\n",
      "All-NaN slice encountered\n",
      "\n",
      "/opt/anaconda3/envs/Capstone2023/lib/python3.10/site-packages/numpy/lib/nanfunctions.py:1217: RuntimeWarning:\n",
      "\n",
      "All-NaN slice encountered\n",
      "\n",
      "/opt/anaconda3/envs/Capstone2023/lib/python3.10/site-packages/numpy/lib/nanfunctions.py:1556: RuntimeWarning:\n",
      "\n",
      "All-NaN slice encountered\n",
      "\n",
      "/opt/anaconda3/envs/Capstone2023/lib/python3.10/site-packages/numpy/lib/nanfunctions.py:1217: RuntimeWarning:\n",
      "\n",
      "All-NaN slice encountered\n",
      "\n",
      "/opt/anaconda3/envs/Capstone2023/lib/python3.10/site-packages/numpy/lib/nanfunctions.py:1556: RuntimeWarning:\n",
      "\n",
      "All-NaN slice encountered\n",
      "\n",
      "/opt/anaconda3/envs/Capstone2023/lib/python3.10/site-packages/numpy/lib/nanfunctions.py:1217: RuntimeWarning:\n",
      "\n",
      "All-NaN slice encountered\n",
      "\n",
      "/opt/anaconda3/envs/Capstone2023/lib/python3.10/site-packages/numpy/lib/nanfunctions.py:1556: RuntimeWarning:\n",
      "\n",
      "All-NaN slice encountered\n",
      "\n",
      "/opt/anaconda3/envs/Capstone2023/lib/python3.10/site-packages/numpy/lib/nanfunctions.py:1217: RuntimeWarning:\n",
      "\n",
      "All-NaN slice encountered\n",
      "\n",
      "/opt/anaconda3/envs/Capstone2023/lib/python3.10/site-packages/numpy/lib/nanfunctions.py:1556: RuntimeWarning:\n",
      "\n",
      "All-NaN slice encountered\n",
      "\n",
      "/opt/anaconda3/envs/Capstone2023/lib/python3.10/site-packages/numpy/lib/nanfunctions.py:1217: RuntimeWarning:\n",
      "\n",
      "All-NaN slice encountered\n",
      "\n",
      "/opt/anaconda3/envs/Capstone2023/lib/python3.10/site-packages/numpy/lib/nanfunctions.py:1556: RuntimeWarning:\n",
      "\n",
      "All-NaN slice encountered\n",
      "\n",
      "/opt/anaconda3/envs/Capstone2023/lib/python3.10/site-packages/numpy/lib/nanfunctions.py:1217: RuntimeWarning:\n",
      "\n",
      "All-NaN slice encountered\n",
      "\n",
      "/opt/anaconda3/envs/Capstone2023/lib/python3.10/site-packages/numpy/lib/nanfunctions.py:1556: RuntimeWarning:\n",
      "\n",
      "All-NaN slice encountered\n",
      "\n",
      "/opt/anaconda3/envs/Capstone2023/lib/python3.10/site-packages/numpy/lib/nanfunctions.py:1217: RuntimeWarning:\n",
      "\n",
      "All-NaN slice encountered\n",
      "\n",
      "/opt/anaconda3/envs/Capstone2023/lib/python3.10/site-packages/numpy/lib/nanfunctions.py:1556: RuntimeWarning:\n",
      "\n",
      "All-NaN slice encountered\n",
      "\n",
      "/opt/anaconda3/envs/Capstone2023/lib/python3.10/site-packages/numpy/lib/nanfunctions.py:1217: RuntimeWarning:\n",
      "\n",
      "All-NaN slice encountered\n",
      "\n",
      "/opt/anaconda3/envs/Capstone2023/lib/python3.10/site-packages/numpy/lib/nanfunctions.py:1556: RuntimeWarning:\n",
      "\n",
      "All-NaN slice encountered\n",
      "\n",
      "/opt/anaconda3/envs/Capstone2023/lib/python3.10/site-packages/numpy/lib/nanfunctions.py:1217: RuntimeWarning:\n",
      "\n",
      "All-NaN slice encountered\n",
      "\n",
      "/opt/anaconda3/envs/Capstone2023/lib/python3.10/site-packages/numpy/lib/nanfunctions.py:1556: RuntimeWarning:\n",
      "\n",
      "All-NaN slice encountered\n",
      "\n",
      "/opt/anaconda3/envs/Capstone2023/lib/python3.10/site-packages/numpy/lib/nanfunctions.py:1217: RuntimeWarning:\n",
      "\n",
      "All-NaN slice encountered\n",
      "\n",
      "/opt/anaconda3/envs/Capstone2023/lib/python3.10/site-packages/numpy/lib/nanfunctions.py:1556: RuntimeWarning:\n",
      "\n",
      "All-NaN slice encountered\n",
      "\n",
      "/opt/anaconda3/envs/Capstone2023/lib/python3.10/site-packages/numpy/lib/nanfunctions.py:1217: RuntimeWarning:\n",
      "\n",
      "All-NaN slice encountered\n",
      "\n",
      "/opt/anaconda3/envs/Capstone2023/lib/python3.10/site-packages/numpy/lib/nanfunctions.py:1556: RuntimeWarning:\n",
      "\n",
      "All-NaN slice encountered\n",
      "\n",
      "/opt/anaconda3/envs/Capstone2023/lib/python3.10/site-packages/numpy/lib/nanfunctions.py:1217: RuntimeWarning:\n",
      "\n",
      "All-NaN slice encountered\n",
      "\n",
      "/opt/anaconda3/envs/Capstone2023/lib/python3.10/site-packages/numpy/lib/nanfunctions.py:1556: RuntimeWarning:\n",
      "\n",
      "All-NaN slice encountered\n",
      "\n",
      "/opt/anaconda3/envs/Capstone2023/lib/python3.10/site-packages/numpy/lib/nanfunctions.py:1217: RuntimeWarning:\n",
      "\n",
      "All-NaN slice encountered\n",
      "\n",
      "/opt/anaconda3/envs/Capstone2023/lib/python3.10/site-packages/numpy/lib/nanfunctions.py:1556: RuntimeWarning:\n",
      "\n",
      "All-NaN slice encountered\n",
      "\n",
      "/opt/anaconda3/envs/Capstone2023/lib/python3.10/site-packages/numpy/lib/nanfunctions.py:1217: RuntimeWarning:\n",
      "\n",
      "All-NaN slice encountered\n",
      "\n",
      "/opt/anaconda3/envs/Capstone2023/lib/python3.10/site-packages/numpy/lib/nanfunctions.py:1556: RuntimeWarning:\n",
      "\n",
      "All-NaN slice encountered\n",
      "\n",
      "/opt/anaconda3/envs/Capstone2023/lib/python3.10/site-packages/numpy/lib/nanfunctions.py:1217: RuntimeWarning:\n",
      "\n",
      "All-NaN slice encountered\n",
      "\n",
      "/opt/anaconda3/envs/Capstone2023/lib/python3.10/site-packages/numpy/lib/nanfunctions.py:1556: RuntimeWarning:\n",
      "\n",
      "All-NaN slice encountered\n",
      "\n",
      "/opt/anaconda3/envs/Capstone2023/lib/python3.10/site-packages/numpy/lib/nanfunctions.py:1217: RuntimeWarning:\n",
      "\n",
      "All-NaN slice encountered\n",
      "\n",
      "/opt/anaconda3/envs/Capstone2023/lib/python3.10/site-packages/numpy/lib/nanfunctions.py:1556: RuntimeWarning:\n",
      "\n",
      "All-NaN slice encountered\n",
      "\n",
      "/opt/anaconda3/envs/Capstone2023/lib/python3.10/site-packages/numpy/lib/nanfunctions.py:1217: RuntimeWarning:\n",
      "\n",
      "All-NaN slice encountered\n",
      "\n",
      "/opt/anaconda3/envs/Capstone2023/lib/python3.10/site-packages/numpy/lib/nanfunctions.py:1556: RuntimeWarning:\n",
      "\n",
      "All-NaN slice encountered\n",
      "\n",
      "/opt/anaconda3/envs/Capstone2023/lib/python3.10/site-packages/numpy/lib/nanfunctions.py:1217: RuntimeWarning:\n",
      "\n",
      "All-NaN slice encountered\n",
      "\n",
      "/opt/anaconda3/envs/Capstone2023/lib/python3.10/site-packages/numpy/lib/nanfunctions.py:1556: RuntimeWarning:\n",
      "\n",
      "All-NaN slice encountered\n",
      "\n",
      "/opt/anaconda3/envs/Capstone2023/lib/python3.10/site-packages/numpy/lib/nanfunctions.py:1217: RuntimeWarning:\n",
      "\n",
      "All-NaN slice encountered\n",
      "\n",
      "/opt/anaconda3/envs/Capstone2023/lib/python3.10/site-packages/numpy/lib/nanfunctions.py:1556: RuntimeWarning:\n",
      "\n",
      "All-NaN slice encountered\n",
      "\n",
      "/opt/anaconda3/envs/Capstone2023/lib/python3.10/site-packages/numpy/lib/nanfunctions.py:1217: RuntimeWarning:\n",
      "\n",
      "All-NaN slice encountered\n",
      "\n",
      "/opt/anaconda3/envs/Capstone2023/lib/python3.10/site-packages/numpy/lib/nanfunctions.py:1556: RuntimeWarning:\n",
      "\n",
      "All-NaN slice encountered\n",
      "\n",
      "/opt/anaconda3/envs/Capstone2023/lib/python3.10/site-packages/numpy/lib/nanfunctions.py:1217: RuntimeWarning:\n",
      "\n",
      "All-NaN slice encountered\n",
      "\n",
      "/opt/anaconda3/envs/Capstone2023/lib/python3.10/site-packages/numpy/lib/nanfunctions.py:1556: RuntimeWarning:\n",
      "\n",
      "All-NaN slice encountered\n",
      "\n",
      "/opt/anaconda3/envs/Capstone2023/lib/python3.10/site-packages/numpy/lib/nanfunctions.py:1217: RuntimeWarning:\n",
      "\n",
      "All-NaN slice encountered\n",
      "\n",
      "/opt/anaconda3/envs/Capstone2023/lib/python3.10/site-packages/numpy/lib/nanfunctions.py:1556: RuntimeWarning:\n",
      "\n",
      "All-NaN slice encountered\n",
      "\n",
      "/opt/anaconda3/envs/Capstone2023/lib/python3.10/site-packages/numpy/lib/nanfunctions.py:1217: RuntimeWarning:\n",
      "\n",
      "All-NaN slice encountered\n",
      "\n",
      "/opt/anaconda3/envs/Capstone2023/lib/python3.10/site-packages/numpy/lib/nanfunctions.py:1556: RuntimeWarning:\n",
      "\n",
      "All-NaN slice encountered\n",
      "\n",
      "/opt/anaconda3/envs/Capstone2023/lib/python3.10/site-packages/numpy/lib/nanfunctions.py:1217: RuntimeWarning:\n",
      "\n",
      "All-NaN slice encountered\n",
      "\n",
      "/opt/anaconda3/envs/Capstone2023/lib/python3.10/site-packages/numpy/lib/nanfunctions.py:1556: RuntimeWarning:\n",
      "\n",
      "All-NaN slice encountered\n",
      "\n",
      "/opt/anaconda3/envs/Capstone2023/lib/python3.10/site-packages/numpy/lib/nanfunctions.py:1217: RuntimeWarning:\n",
      "\n",
      "All-NaN slice encountered\n",
      "\n",
      "/opt/anaconda3/envs/Capstone2023/lib/python3.10/site-packages/numpy/lib/nanfunctions.py:1556: RuntimeWarning:\n",
      "\n",
      "All-NaN slice encountered\n",
      "\n",
      "/opt/anaconda3/envs/Capstone2023/lib/python3.10/site-packages/numpy/lib/nanfunctions.py:1217: RuntimeWarning:\n",
      "\n",
      "All-NaN slice encountered\n",
      "\n",
      "/opt/anaconda3/envs/Capstone2023/lib/python3.10/site-packages/numpy/lib/nanfunctions.py:1556: RuntimeWarning:\n",
      "\n",
      "All-NaN slice encountered\n",
      "\n",
      "/opt/anaconda3/envs/Capstone2023/lib/python3.10/site-packages/numpy/lib/nanfunctions.py:1095: RuntimeWarning:\n",
      "\n",
      "All-NaN slice encountered\n",
      "\n",
      "/opt/anaconda3/envs/Capstone2023/lib/python3.10/site-packages/numpy/lib/nanfunctions.py:1556: RuntimeWarning:\n",
      "\n",
      "All-NaN slice encountered\n",
      "\n"
     ]
    },
    {
     "name": "stdout",
     "output_type": "stream",
     "text": [
      "[ 0.75  0.5   0.5   0.75  0.5   1.    0.5   0.75  0.25  0.25  0.5   0.25\n",
      "  0.    0.5   0.25  0.75  0.5   0.25  0.    0.75  0.5   0.75  1.    0.75\n",
      "  0.25 -0.25  1.25  0.    0.5   1.    0.    0.75  1.    0.25  0.5  -0.25\n",
      "  0.75  0.75  0.25  0.5   0.5   1.25  0.25  0.25  0.25  0.75  0.75  0.25\n",
      "  0.    0.75  0.75  1.    0.5   1.    0.25  0.25  0.25  0.25  0.75  0.\n",
      "  0.75  0.5   0.5   0.    0.5   0.75  0.5   0.25  0.25  0.75  0.25  0.75\n",
      "  0.25  0.5   0.5   0.75  0.25  0.75  0.25  1.    0.75  0.    0.5   0.75\n",
      "  0.75  0.75  0.25  0.75  0.25  0.25  0.    0.75  0.25  0.75  1.    0.\n",
      "  0.75  0.25  0.5   0.5   0.    0.25  0.25  1.    0.5   0.5   0.5   0.25\n",
      "  0.5   0.25  0.75  0.75  0.75  0.75  0.75  1.    0.75  0.75  0.5   0.5\n",
      "  0.    0.75  1.    0.75  0.5   1.25  0.25 -0.25  0.75  0.5   0.5   1.\n",
      "  0.75  0.75  1.    0.    0.25  0.    0.    0.    0.5   0.75  0.75  0.\n",
      "  0.75  0.75  0.25  0.25  0.5   0.25  0.    0.75  0.5   0.75  0.75  0.25\n",
      "  0.25  0.5   0.75  0.5 ] [0.5013805  0.4871016  0.4878877  0.3376929  0.713659   0.6448407\n",
      " 0.5600369  0.62569326 0.41170147 0.57011974 0.3124879  0.8094335\n",
      " 0.54046404 0.28428414 0.28644276 0.5451392  0.81560415 0.41487792\n",
      " 0.0011813  0.44801876 0.26244932 0.56054264 0.6082747  0.3977283\n",
      " 0.47034544 0.36104268 0.30861303 0.40291464 0.2986527  0.44953665\n",
      " 0.32964456 0.57065034 0.48798746 0.460107   0.6654217  0.22668308\n",
      " 0.58996147 0.290388   0.32048184 0.52100205 0.4673886  0.27401865\n",
      " 0.6472938  0.48634142 0.46739215 0.52412856 0.42185998 0.44072318\n",
      " 0.31044653 0.60143673 0.6662956  0.42670605 0.5842345  0.35063553\n",
      " 0.4966424  0.3517204  0.21574342 0.6241033  0.46836603 0.30298257\n",
      " 0.4498341  0.3354418  0.20537241 0.35627672 0.5458726  0.48559088\n",
      " 0.31704426 0.46089652 0.4488414  0.5093251  0.4155625  0.34402037\n",
      " 0.4354399  0.44094467 0.3333173  0.667811   0.48792526 0.37199774\n",
      " 0.6559886  0.38622543 0.5248402  0.7281009  0.34361753 0.6109119\n",
      " 0.33466384 0.70769256 0.22675478 0.5251173  0.6435757  0.48658082\n",
      " 0.57961214 0.5208173  0.42107162 0.31222412 0.58636457 0.35629636\n",
      " 0.2402901  0.33985707 0.51603997 0.3386049  0.6408286  0.57687366\n",
      " 0.54571545 0.4490842  0.61616176 0.37539116 0.04152569 0.65810233\n",
      " 0.4951892  0.41954124 0.30091143 0.58152384 0.2711945  0.519357\n",
      " 0.4104333  0.39706224 0.42984575 0.3253967  0.30786145 0.11402043\n",
      " 0.5579654  0.6389349  0.37873182 0.28754774 0.39128837 0.621648\n",
      " 0.46092957 0.4277688  0.4185695  0.63372767 0.33740902 0.5919893\n",
      " 0.6968835  0.6214914  0.43269145 0.610979   0.6268973  0.463842\n",
      " 0.3717414  0.63310003 0.35413578 0.3349788  0.37660614 0.51710707\n",
      " 0.44177863 0.56944495 0.36588386 0.36700138 0.6017739  0.36612877\n",
      " 0.49940076 0.5157373  0.35825968 0.35076293 0.45047078 0.5120049\n",
      " 0.33184874 0.5143202  0.5416519  0.32985267]\n",
      "[ 0.75  1.    0.25  0.5   0.75  0.75  0.5   0.5   0.25  0.25  0.    0.75\n",
      "  0.    0.25  0.5   0.5   0.5   0.5   1.    1.    0.5   0.75  0.75  0.75\n",
      "  0.75  0.5   1.    0.    0.25  0.    0.25  0.25  1.25  0.25  1.    0.75\n",
      "  0.5   0.25  0.25  0.5   0.25  0.    0.5   0.75  0.    0.5   0.5   0.75\n",
      "  0.25  0.25  0.25  0.    0.75  0.    0.   -0.25  0.25  0.75  0.5   0.5\n",
      "  0.5   0.    0.5   0.    0.5   0.75  0.75  0.5   0.25  0.5   0.5   1.\n",
      "  0.5   1.    0.5   0.    0.25  0.25  0.    0.25  0.    0.75  0.5   0.75\n",
      "  0.5   0.    0.25  0.5   0.5   1.25  0.75  1.    0.    0.5   0.25  0.25\n",
      " -0.25  0.75  0.5   0.25  0.5   0.25  0.5   1.    0.    0.25  0.25 -0.25\n",
      "  0.25  0.5   0.75  0.5   0.75  1.    0.25  0.25  0.25  0.    0.    0.75\n",
      "  0.75  0.    0.25  0.25  0.    0.25  0.75  0.25  0.    1.25  0.75  0.75\n",
      "  0.5   0.    0.    0.25  1.    1.    0.75  0.    0.75  0.75  0.5   0.5\n",
      "  1.    0.    0.    0.75  0.25  0.5   0.5   0.    0.75  0.    0.    0.25\n",
      "  0.75  0.25  0.25  0.5   0.25  1.25  0.25  0.25 -0.25  0.75  0.25  1.25\n",
      "  1.    0.25  0.5   0.75  0.75  0.    0.75  0.25  0.25  0.75  1.25 -0.25\n",
      "  0.    0.25  0.75  0.25  1.    0.5   0.5   0.5   0.5   0.25  0.75  0.25\n",
      "  0.25  0.25  0.25  0.5   0.75  0.5   0.5   0.25  0.75  0.25  0.5   0.75\n",
      "  0.75  0.75  0.5   0.75  0.25  1.    0.    0.5   0.25  0.5   0.75  0.25\n",
      "  0.    0.25  0.75  0.25  1.    1.    0.    0.25  0.75  0.25  0.75  0.\n",
      "  0.25  0.5   0.5   0.5   0.5   0.25  0.25  0.75  0.5   0.    0.    0.25\n",
      "  0.5   0.5   0.25  0.75  0.75  0.75  0.25  0.5   0.25  0.5   0.    0.25\n",
      "  0.25  0.75  0.75  1.    0.5   0.25  1.    0.75  0.75  0.75  0.5   0.\n",
      "  0.    0.75  0.75  0.25  0.5   0.75  0.25  0.75  0.    0.25  0.5   0.5\n",
      "  0.25  0.5   0.75  0.75  0.   -0.25  0.25  0.5   0.    0.75  0.5   0.75\n",
      "  0.    0.    1.    0.25 -0.25  0.25  0.    0.5   0.25  0.5   1.    0.5\n",
      "  0.75  0.25  0.75  0.    0.    0.    0.25  1.    0.5   0.75  0.25  1.\n",
      "  0.    0.25  0.25  0.75  0.5   0.5   0.    0.25 -0.25  0.    0.25  1.25\n",
      "  0.25  0.75  0.25  0.75  0.75  0.75  1.    0.75  0.75  0.75  0.25  0.25\n",
      "  1.    1.    1.    0.25  0.5   0.5   0.75  0.25  0.75  0.25  0.5   0.5\n",
      "  0.    0.    0.25 -0.25  0.75  0.5   0.75  0.25  0.75  0.25  0.75  0.\n",
      " -0.25  0.    0.25  0.25  0.    0.5   0.75  0.25  0.75  0.75  0.75  0.75\n",
      "  0.75  0.75  0.75  0.    0.75  0.5   0.75  0.    0.5   0.5   0.5   1.\n",
      "  0.5   1.    0.    0.25  0.25  0.75  0.75  1.    0.5   0.5   0.    0.25\n",
      "  0.5   0.75  1.    0.75  0.5   0.5   0.25  1.25  1.    0.    1.    0.25\n",
      "  0.75  1.    0.    0.5   0.    0.75  0.25  0.75  0.5   0.5   0.25  0.5\n",
      "  0.    0.5   0.75  0.25  0.75  1.    0.75  0.5   0.25  0.75  0.25  1.\n",
      "  0.75  1.    0.25  0.5   0.25  1.25  0.    0.75  0.    0.    0.    1.\n",
      "  0.5   0.    0.5   0.    0.5   1.    0.75  0.75  0.75  0.75  0.75  0.25\n",
      "  0.    1.    0.5   0.75  0.    0.25  0.5   0.    0.    0.    0.75  0.25\n",
      "  1.25  1.    0.25  0.25  0.25  0.    0.25  0.5   0.75  0.5   0.    0.\n",
      "  0.25  0.5   0.5   1.    0.75  0.    0.75  0.5   1.    0.75  0.5   0.\n",
      "  0.75  0.5   0.25  0.25  0.5   0.75  0.75  0.5   0.25  0.5   0.5   1.\n",
      "  0.25  0.5   0.75  0.5   0.75  0.75  0.75  0.    0.75  0.    0.75  0.\n",
      "  0.25  0.25  1.    0.    0.    0.5   0.5   0.5   0.   -0.25  0.75  0.\n",
      "  0.75  0.25  0.25  0.75  0.5   0.75  0.25  0.    0.    0.5   0.75  0.5\n",
      "  0.    0.75  0.75  0.5   0.75  0.    0.5   0.    0.25  0.75  0.    0.5\n",
      "  0.25  1.    0.75  1.25  0.75  0.25  0.25  0.75  0.5   0.    0.5   0.\n",
      "  0.75  0.75  0.25  0.5   0.75  0.75  0.25  0.5   0.75  0.5   0.5   0.75\n",
      "  0.75  0.25  0.25  0.75  0.5   0.5   0.5   0.5   0.75  0.    0.    0.75\n",
      "  0.75  0.    0.25  0.5   0.75  0.75  0.    0.5   0.5   0.5   0.75  0.75\n",
      "  0.75  0.75  0.75  0.75  0.5   0.75  0.5   0.5   1.25 -0.25  0.    0.25\n",
      "  0.    0.25  0.75  0.75  0.    0.75  0.5   0.75  0.    0.5   0.    0.5\n",
      "  0.25  0.25  0.75  0.25  0.25  0.5   0.75  1.    1.   -0.25  0.75  0.5\n",
      "  0.25  0.75  0.25  0.25] [ 0.5820125   0.75964594  0.28486857  0.46418756  0.5984817   0.49817553\n",
      "  0.48985085  0.31502083  0.45825395  0.37419757  0.13963069  0.5911419\n",
      "  0.31838334  0.36495528  0.5269771   0.61948115  0.43899903  0.48798022\n",
      "  0.8528411   0.81359136  0.5459583   0.546166    0.6175718   0.6738631\n",
      "  0.68188155  0.449818    0.7262413   0.05978861  0.5390108   0.30686945\n",
      "  0.35526216  0.34368846  0.7502227   0.47510645  0.6456681   0.6542644\n",
      "  0.6212837   0.22444767  0.33282125  0.55127996  0.27522787  0.24163964\n",
      "  0.44672468  0.5541916   0.402625    0.3309087   0.56296694  0.6753556\n",
      "  0.37436473  0.43388957  0.39231804  0.11951356  0.4429585   0.31864882\n",
      "  0.1920748   0.10450441  0.39020097  0.6847211   0.43094245  0.4679699\n",
      "  0.40931466  0.1902628   0.3359786   0.25092012  0.45740914  0.6356992\n",
      "  0.6937127   0.5783442   0.33532518  0.40528858  0.50166905  0.7984046\n",
      "  0.5815436   0.8274254   0.4670074   0.29575396  0.30106363  0.52116233\n",
      "  0.25023353  0.4018208   0.3517929   0.49166158  0.55563056  0.75851136\n",
      "  0.522741    0.31484604  0.4889207   0.3409687   0.42648527  0.7796162\n",
      "  0.7253164   0.68205523  0.18526179  0.4230253   0.4333416   0.28193086\n",
      "  0.0501761   0.57657385  0.35290456  0.41940168  0.5915417   0.25503084\n",
      "  0.39635697  0.65777236  0.33812335  0.43760267  0.22052068 -0.05489178\n",
      "  0.48150024  0.4197787   0.65525454  0.5341224   0.6542923   0.84766674\n",
      "  0.31265804  0.44678113  0.37662977  0.22265045  0.32662505  0.4906568\n",
      "  0.6515976   0.300636    0.39948368  0.41565257  0.17275807  0.343811\n",
      "  0.61622226  0.33499175  0.35221973  0.63190484  0.5001556   0.6345439\n",
      "  0.44602346  0.14810243  0.14231868  0.31791252  0.7831236   0.8096252\n",
      "  0.6646874   0.21842252  0.63592744  0.60911125  0.5021429   0.5413201\n",
      "  0.851804    0.4403626   0.25584906  0.6630142   0.34655133  0.46200547\n",
      "  0.4042064   0.03700445  0.7733804   0.25729266  0.31787488  0.31978893\n",
      "  0.71210694  0.29160687  0.41557047  0.46999076  0.3538519   0.8385992\n",
      "  0.26470235  0.33535087 -0.09910816  0.63048667  0.4466123   0.80505633\n",
      "  0.7368084   0.2806045   0.41016206  0.59672844  0.6390907   0.39532387\n",
      "  0.5926412   0.4226371   0.3990665   0.5067242   0.8265212   0.13818367\n",
      "  0.2800073   0.43597     0.67416847  0.38959515  0.7254491   0.5656536\n",
      "  0.44513884  0.49049413  0.39090654  0.34293687  0.57569706  0.41509148\n",
      "  0.33828413  0.29987934  0.35283625  0.5407041   0.5185959   0.5447336\n",
      "  0.48273745  0.3642692   0.50572217  0.24233398  0.35771826  0.5570197\n",
      "  0.5906247   0.6269264   0.47345048  0.5771241   0.2885654   0.7198061\n",
      "  0.18667158  0.495488    0.41736957  0.47464976  0.67718923  0.38297722\n",
      "  0.4363458   0.33985502  0.5859076   0.21814223  0.73198575  0.823344\n",
      "  0.29369286  0.4510555   0.6664246   0.4029824   0.57475317  0.3358091\n",
      "  0.39987886  0.40903962  0.47828022  0.38746074  0.44515786  0.24024972\n",
      "  0.4052549   0.63750416  0.345336    0.2888706   0.34602535  0.28770414\n",
      "  0.39675164  0.44358084  0.20369656  0.5230614   0.759189    0.6277179\n",
      "  0.30977228  0.5242306   0.42337662  0.53099674  0.20025498  0.44496483\n",
      "  0.32073492  0.5525507   0.62327325  0.62617344  0.50035065  0.34277087\n",
      "  0.68655413  0.51712006  0.63792026  0.52105653  0.5810277   0.08485939\n",
      "  0.31122452  0.5645501   0.65568846  0.36081955  0.48611218  0.44755575\n",
      "  0.37924176  0.5627676   0.2747694   0.3252945   0.49996933  0.64235723\n",
      "  0.26465422  0.5953838   0.64917094  0.59819037  0.33330968  0.09614983\n",
      "  0.29510495  0.47587988  0.1234372   0.6390601   0.5367845   0.477171\n",
      "  0.23185316  0.26483276  0.8972339   0.3630573   0.06958723  0.3111715\n",
      "  0.28007847  0.4850393   0.40426087  0.6074313   0.7657818   0.5705679\n",
      "  0.71847683  0.402958    0.7430425   0.22364473  0.15372366  0.11779903\n",
      "  0.44074756  0.7796607   0.51887554  0.62527007  0.36767644  0.6270107\n",
      "  0.35370737  0.34044108  0.47052905  0.6261201   0.516218    0.46155187\n",
      "  0.34143525  0.37318343  0.04621992  0.23512217  0.4140858   0.90382737\n",
      "  0.29929104  0.6767051   0.49357602  0.646323    0.7288799   0.7099211\n",
      "  0.7145337   0.5681651   0.44717962  0.4534412   0.2501464   0.40013102\n",
      "  0.6660397   0.7517483   0.8529899   0.38626552  0.26306215  0.52011997\n",
      "  0.70996255  0.29988953  0.5903976   0.26957598  0.5409758   0.47323978\n",
      "  0.28060812  0.20471337  0.41151676  0.11008999  0.52538997  0.4283683\n",
      "  0.5850414   0.19266534  0.4577659   0.34689498  0.65832096  0.13968638\n",
      "  0.13189337  0.06845288  0.19926175  0.35338148  0.11294186  0.63678014\n",
      "  0.6229348   0.33018988  0.5704735   0.4946417   0.43534014  0.47932485\n",
      "  0.57690865  0.54701215  0.6569907   0.18864855  0.5735904   0.5829328\n",
      "  0.5330038   0.18695766  0.52358246  0.50863737  0.6590824   0.7969541\n",
      "  0.45156634  0.70480233  0.3739205   0.43221307  0.43327865  0.6876805\n",
      "  0.45380217  0.6212272   0.32825828  0.332619    0.3388453   0.37218776\n",
      "  0.54749966  0.6659914   0.7701376   0.6272371   0.4608223   0.45278776\n",
      "  0.36358437  0.95707124  0.8298925   0.30794805  0.69536734  0.45987126\n",
      "  0.6041067   0.726287    0.3429783   0.4293643   0.13440572  0.65544575\n",
      "  0.37985426  0.740049    0.5417018   0.43128794  0.36780375  0.51443315\n",
      "  0.18783318  0.5709775   0.5867541   0.3870571   0.584407    0.7150415\n",
      "  0.58996475  0.5137269   0.33936194  0.64615864  0.4350735   0.53497297\n",
      "  0.64287716  0.6531016   0.42586088  0.5509518   0.25546008  0.6545286\n",
      "  0.24476378  0.533345    0.19804704  0.20457746  0.11841097  0.86356544\n",
      "  0.40738744  0.25170076  0.4921268   0.08379652  0.32005432  0.7300505\n",
      "  0.4977594   0.624602    0.74518365  0.6628074   0.70294845  0.4386181\n",
      "  0.30633867  0.74847746  0.4669195   0.68503433  0.19974011  0.44030297\n",
      "  0.57363963  0.38425887  0.16914204  0.16570064  0.6669967   0.31935966\n",
      "  0.9433656   0.7996963   0.43204296  0.26382187  0.29809925  0.26306877\n",
      "  0.3155332   0.3369351   0.5981987   0.58921564  0.41844013  0.28022486\n",
      "  0.3530148   0.4617316   0.4420178   0.78875476  0.43672886  0.08327673\n",
      "  0.73450124  0.4352202   0.6894509   0.50850385  0.37988135  0.15982689\n",
      "  0.59547913  0.388693    0.33708018  0.30180675  0.42977035  0.5812088\n",
      "  0.73354787  0.39818928  0.24480127  0.41904435  0.5123653   0.7826429\n",
      "  0.46458477  0.41494986  0.5200619   0.5132451   0.46500573  0.6440263\n",
      "  0.77329147  0.05698965  0.5851227   0.14869308  0.45175815  0.23686107\n",
      "  0.41502866  0.19720937  0.8155342   0.28967226  0.08111683  0.5332908\n",
      "  0.60326475  0.3506728   0.31304184 -0.02425772  0.58739966  0.15513457\n",
      "  0.699283    0.3923526   0.24874157  0.6888589   0.38476944  0.55271435\n",
      "  0.38691533  0.23020783  0.30975792  0.50603664  0.565585    0.40269297\n",
      "  0.3343789   0.5255917   0.46549746  0.42978987  0.59026587  0.12330636\n",
      "  0.4506302   0.42559248  0.48756075  0.59959745  0.34919435  0.44691566\n",
      "  0.40301275  0.72299635  0.60265297  0.5780632   0.6859968   0.2712306\n",
      "  0.27676052  0.55653715  0.39645472  0.23349355  0.6547515   0.3465692\n",
      "  0.56181717  0.73288363  0.3654418   0.3838474   0.54718506  0.45474306\n",
      "  0.3609541   0.48338744  0.5760746   0.46479076  0.43640494  0.72997016\n",
      "  0.7118806   0.35391006  0.26327235  0.68329155  0.54389685  0.5140072\n",
      "  0.4246102   0.4882605   0.56334805  0.23612145  0.44063646  0.73631364\n",
      "  0.5538487   0.2785087   0.32921824  0.56465816  0.6489036   0.6562457\n",
      "  0.29848     0.5110352   0.47873178  0.5821687   0.56132656  0.5631396\n",
      "  0.4561827   0.64280224  0.54371417  0.66000074  0.45430592  0.67798305\n",
      "  0.4841472   0.45287612  0.87835157  0.09190974  0.18827786  0.27743065\n",
      "  0.28429735  0.2256728   0.59736454  0.5852019   0.38423425  0.52371943\n",
      "  0.51892376  0.6880713   0.19982147  0.35539308  0.12276043  0.5062229\n",
      "  0.31583625  0.3380664   0.5467445   0.3937633   0.41345307  0.4953312\n",
      "  0.61608833  0.7032941   0.6098078   0.00101126  0.55966306  0.48010072\n",
      "  0.44109562  0.6416324   0.2813229   0.2978763 ]\n"
     ]
    }
   ],
   "source": [
    "best_model_TEG1, TEG1_train, TEG1_score = train_model(extended_df, 'Events', ['Record ID', 'Visit Timepoint'])"
   ]
  },
  {
   "cell_type": "code",
   "execution_count": 81,
   "metadata": {},
   "outputs": [
    {
     "data": {
      "text/plain": [
       "{'mse test': 0.1201166351359492,\n",
       " 'r2 test': -0.16039939035554585,\n",
       " 'mse train': 0.03558729414932444,\n",
       " 'r2 train': 0.6811759538588184}"
      ]
     },
     "execution_count": 81,
     "metadata": {},
     "output_type": "execute_result"
    }
   ],
   "source": [
    "TEG1_score"
   ]
  },
  {
   "cell_type": "markdown",
   "metadata": {},
   "source": [
    "### Feature importance"
   ]
  },
  {
   "cell_type": "code",
   "execution_count": 122,
   "metadata": {},
   "outputs": [
    {
     "name": "stderr",
     "output_type": "stream",
     "text": [
      "/opt/anaconda3/envs/Capstone2023/lib/python3.10/site-packages/xgboost/core.py:160: UserWarning:\n",
      "\n",
      "[18:59:37] WARNING: /Users/runner/work/xgboost/xgboost/src/c_api/c_api.cc:1240: Saving into deprecated binary model format, please consider using `json` or `ubj`. Model format will default to JSON in XGBoost 2.2 if not specified.\n",
      "\n",
      "/opt/anaconda3/envs/Capstone2023/lib/python3.10/site-packages/xgboost/data.py:335: FutureWarning:\n",
      "\n",
      "is_sparse is deprecated and will be removed in a future version. Check `isinstance(dtype, pd.SparseDtype)` instead.\n",
      "\n",
      "/opt/anaconda3/envs/Capstone2023/lib/python3.10/site-packages/xgboost/data.py:338: FutureWarning:\n",
      "\n",
      "is_categorical_dtype is deprecated and will be removed in a future version. Use isinstance(dtype, CategoricalDtype) instead\n",
      "\n",
      "/opt/anaconda3/envs/Capstone2023/lib/python3.10/site-packages/xgboost/data.py:384: FutureWarning:\n",
      "\n",
      "is_categorical_dtype is deprecated and will be removed in a future version. Use isinstance(dtype, CategoricalDtype) instead\n",
      "\n",
      "/opt/anaconda3/envs/Capstone2023/lib/python3.10/site-packages/xgboost/data.py:359: FutureWarning:\n",
      "\n",
      "is_categorical_dtype is deprecated and will be removed in a future version. Use isinstance(dtype, CategoricalDtype) instead\n",
      "\n"
     ]
    },
    {
     "data": {
      "text/html": [
       "<div>\n",
       "<style scoped>\n",
       "    .dataframe tbody tr th:only-of-type {\n",
       "        vertical-align: middle;\n",
       "    }\n",
       "\n",
       "    .dataframe tbody tr th {\n",
       "        vertical-align: top;\n",
       "    }\n",
       "\n",
       "    .dataframe thead th {\n",
       "        text-align: right;\n",
       "    }\n",
       "</style>\n",
       "<table border=\"1\" class=\"dataframe\">\n",
       "  <thead>\n",
       "    <tr style=\"text-align: right;\">\n",
       "      <th></th>\n",
       "      <th>Feature</th>\n",
       "      <th>Importance</th>\n",
       "    </tr>\n",
       "  </thead>\n",
       "  <tbody>\n",
       "    <tr>\n",
       "      <th>20</th>\n",
       "      <td>CFF FLEV(mg/dL)</td>\n",
       "      <td>7.361341</td>\n",
       "    </tr>\n",
       "    <tr>\n",
       "      <th>64</th>\n",
       "      <td>ADP % Aggregation_difference_since_last_timepoint</td>\n",
       "      <td>6.025681</td>\n",
       "    </tr>\n",
       "    <tr>\n",
       "      <th>32</th>\n",
       "      <td>BP_Diastolic</td>\n",
       "      <td>4.810988</td>\n",
       "    </tr>\n",
       "    <tr>\n",
       "      <th>17</th>\n",
       "      <td>CRT MA(mm)</td>\n",
       "      <td>4.521631</td>\n",
       "    </tr>\n",
       "    <tr>\n",
       "      <th>86</th>\n",
       "      <td>CFF FLEV(mg/dL)_difference_since_last_timepoint</td>\n",
       "      <td>4.519873</td>\n",
       "    </tr>\n",
       "    <tr>\n",
       "      <th>...</th>\n",
       "      <td>...</td>\n",
       "      <td>...</td>\n",
       "    </tr>\n",
       "    <tr>\n",
       "      <th>62</th>\n",
       "      <td>AA MA(mm)_difference_since_last_timepoint</td>\n",
       "      <td>0.000000</td>\n",
       "    </tr>\n",
       "    <tr>\n",
       "      <th>63</th>\n",
       "      <td>AA MA(mm)_rate_since_last_timepoint</td>\n",
       "      <td>0.000000</td>\n",
       "    </tr>\n",
       "    <tr>\n",
       "      <th>65</th>\n",
       "      <td>ADP % Aggregation_rate_since_last_timepoint</td>\n",
       "      <td>0.000000</td>\n",
       "    </tr>\n",
       "    <tr>\n",
       "      <th>67</th>\n",
       "      <td>ADP % Inhibition_rate_since_last_timepoint</td>\n",
       "      <td>0.000000</td>\n",
       "    </tr>\n",
       "    <tr>\n",
       "      <th>107</th>\n",
       "      <td>Date of TEG Collection_rate_since_last_timepoint</td>\n",
       "      <td>0.000000</td>\n",
       "    </tr>\n",
       "  </tbody>\n",
       "</table>\n",
       "<p>108 rows × 2 columns</p>\n",
       "</div>"
      ],
      "text/plain": [
       "                                               Feature  Importance\n",
       "20                                     CFF FLEV(mg/dL)    7.361341\n",
       "64   ADP % Aggregation_difference_since_last_timepoint    6.025681\n",
       "32                                        BP_Diastolic    4.810988\n",
       "17                                          CRT MA(mm)    4.521631\n",
       "86     CFF FLEV(mg/dL)_difference_since_last_timepoint    4.519873\n",
       "..                                                 ...         ...\n",
       "62           AA MA(mm)_difference_since_last_timepoint    0.000000\n",
       "63                 AA MA(mm)_rate_since_last_timepoint    0.000000\n",
       "65         ADP % Aggregation_rate_since_last_timepoint    0.000000\n",
       "67          ADP % Inhibition_rate_since_last_timepoint    0.000000\n",
       "107   Date of TEG Collection_rate_since_last_timepoint    0.000000\n",
       "\n",
       "[108 rows x 2 columns]"
      ]
     },
     "execution_count": 122,
     "metadata": {},
     "output_type": "execute_result"
    }
   ],
   "source": [
    "importance_df_TEG1 = feature_importance(best_model_TEG1, TEG1_train)\n",
    "importance_df_TEG1"
   ]
  },
  {
   "cell_type": "code",
   "execution_count": 123,
   "metadata": {},
   "outputs": [
    {
     "data": {
      "application/vnd.plotly.v1+json": {
       "config": {
        "plotlyServerURL": "https://plot.ly"
       },
       "data": [
        {
         "alignmentgroup": "True",
         "hovertemplate": "variable=Importance<br>Percentage=%{x}<br>Factors=%{y}<extra></extra>",
         "legendgroup": "Importance",
         "marker": {
          "color": "#636efa",
          "pattern": {
           "shape": ""
          }
         },
         "name": "Importance",
         "offsetgroup": "Importance",
         "orientation": "h",
         "showlegend": true,
         "textposition": "auto",
         "type": "bar",
         "x": [
          7.36134147644043,
          6.025681495666504,
          4.810987949371338,
          4.521631240844727,
          4.519873142242432,
          4.505712509155273,
          4.060029029846191,
          3.9759879112243652,
          3.354032039642334,
          3.338620901107788
         ],
         "xaxis": "x",
         "y": [
          "CFF FLEV(mg/dL)",
          "ADP % Aggregation_difference_since_last_timepoint",
          "BP_Diastolic",
          "CRT MA(mm)",
          "CFF FLEV(mg/dL)_difference_since_last_timepoint",
          "AA % Aggregation_difference_since_last_timepoint",
          "CK R(min)_difference_since_last_timepoint",
          "ADP % Inhibition",
          "CK angle( deg)_difference_since_last_timepoint",
          "INR value"
         ],
         "yaxis": "y"
        }
       ],
       "layout": {
        "barmode": "relative",
        "legend": {
         "title": {
          "text": "variable"
         },
         "tracegroupgap": 0
        },
        "showlegend": false,
        "template": {
         "data": {
          "bar": [
           {
            "error_x": {
             "color": "#2a3f5f"
            },
            "error_y": {
             "color": "#2a3f5f"
            },
            "marker": {
             "line": {
              "color": "#E5ECF6",
              "width": 0.5
             },
             "pattern": {
              "fillmode": "overlay",
              "size": 10,
              "solidity": 0.2
             }
            },
            "type": "bar"
           }
          ],
          "barpolar": [
           {
            "marker": {
             "line": {
              "color": "#E5ECF6",
              "width": 0.5
             },
             "pattern": {
              "fillmode": "overlay",
              "size": 10,
              "solidity": 0.2
             }
            },
            "type": "barpolar"
           }
          ],
          "carpet": [
           {
            "aaxis": {
             "endlinecolor": "#2a3f5f",
             "gridcolor": "white",
             "linecolor": "white",
             "minorgridcolor": "white",
             "startlinecolor": "#2a3f5f"
            },
            "baxis": {
             "endlinecolor": "#2a3f5f",
             "gridcolor": "white",
             "linecolor": "white",
             "minorgridcolor": "white",
             "startlinecolor": "#2a3f5f"
            },
            "type": "carpet"
           }
          ],
          "choropleth": [
           {
            "colorbar": {
             "outlinewidth": 0,
             "ticks": ""
            },
            "type": "choropleth"
           }
          ],
          "contour": [
           {
            "colorbar": {
             "outlinewidth": 0,
             "ticks": ""
            },
            "colorscale": [
             [
              0,
              "#0d0887"
             ],
             [
              0.1111111111111111,
              "#46039f"
             ],
             [
              0.2222222222222222,
              "#7201a8"
             ],
             [
              0.3333333333333333,
              "#9c179e"
             ],
             [
              0.4444444444444444,
              "#bd3786"
             ],
             [
              0.5555555555555556,
              "#d8576b"
             ],
             [
              0.6666666666666666,
              "#ed7953"
             ],
             [
              0.7777777777777778,
              "#fb9f3a"
             ],
             [
              0.8888888888888888,
              "#fdca26"
             ],
             [
              1,
              "#f0f921"
             ]
            ],
            "type": "contour"
           }
          ],
          "contourcarpet": [
           {
            "colorbar": {
             "outlinewidth": 0,
             "ticks": ""
            },
            "type": "contourcarpet"
           }
          ],
          "heatmap": [
           {
            "colorbar": {
             "outlinewidth": 0,
             "ticks": ""
            },
            "colorscale": [
             [
              0,
              "#0d0887"
             ],
             [
              0.1111111111111111,
              "#46039f"
             ],
             [
              0.2222222222222222,
              "#7201a8"
             ],
             [
              0.3333333333333333,
              "#9c179e"
             ],
             [
              0.4444444444444444,
              "#bd3786"
             ],
             [
              0.5555555555555556,
              "#d8576b"
             ],
             [
              0.6666666666666666,
              "#ed7953"
             ],
             [
              0.7777777777777778,
              "#fb9f3a"
             ],
             [
              0.8888888888888888,
              "#fdca26"
             ],
             [
              1,
              "#f0f921"
             ]
            ],
            "type": "heatmap"
           }
          ],
          "heatmapgl": [
           {
            "colorbar": {
             "outlinewidth": 0,
             "ticks": ""
            },
            "colorscale": [
             [
              0,
              "#0d0887"
             ],
             [
              0.1111111111111111,
              "#46039f"
             ],
             [
              0.2222222222222222,
              "#7201a8"
             ],
             [
              0.3333333333333333,
              "#9c179e"
             ],
             [
              0.4444444444444444,
              "#bd3786"
             ],
             [
              0.5555555555555556,
              "#d8576b"
             ],
             [
              0.6666666666666666,
              "#ed7953"
             ],
             [
              0.7777777777777778,
              "#fb9f3a"
             ],
             [
              0.8888888888888888,
              "#fdca26"
             ],
             [
              1,
              "#f0f921"
             ]
            ],
            "type": "heatmapgl"
           }
          ],
          "histogram": [
           {
            "marker": {
             "pattern": {
              "fillmode": "overlay",
              "size": 10,
              "solidity": 0.2
             }
            },
            "type": "histogram"
           }
          ],
          "histogram2d": [
           {
            "colorbar": {
             "outlinewidth": 0,
             "ticks": ""
            },
            "colorscale": [
             [
              0,
              "#0d0887"
             ],
             [
              0.1111111111111111,
              "#46039f"
             ],
             [
              0.2222222222222222,
              "#7201a8"
             ],
             [
              0.3333333333333333,
              "#9c179e"
             ],
             [
              0.4444444444444444,
              "#bd3786"
             ],
             [
              0.5555555555555556,
              "#d8576b"
             ],
             [
              0.6666666666666666,
              "#ed7953"
             ],
             [
              0.7777777777777778,
              "#fb9f3a"
             ],
             [
              0.8888888888888888,
              "#fdca26"
             ],
             [
              1,
              "#f0f921"
             ]
            ],
            "type": "histogram2d"
           }
          ],
          "histogram2dcontour": [
           {
            "colorbar": {
             "outlinewidth": 0,
             "ticks": ""
            },
            "colorscale": [
             [
              0,
              "#0d0887"
             ],
             [
              0.1111111111111111,
              "#46039f"
             ],
             [
              0.2222222222222222,
              "#7201a8"
             ],
             [
              0.3333333333333333,
              "#9c179e"
             ],
             [
              0.4444444444444444,
              "#bd3786"
             ],
             [
              0.5555555555555556,
              "#d8576b"
             ],
             [
              0.6666666666666666,
              "#ed7953"
             ],
             [
              0.7777777777777778,
              "#fb9f3a"
             ],
             [
              0.8888888888888888,
              "#fdca26"
             ],
             [
              1,
              "#f0f921"
             ]
            ],
            "type": "histogram2dcontour"
           }
          ],
          "mesh3d": [
           {
            "colorbar": {
             "outlinewidth": 0,
             "ticks": ""
            },
            "type": "mesh3d"
           }
          ],
          "parcoords": [
           {
            "line": {
             "colorbar": {
              "outlinewidth": 0,
              "ticks": ""
             }
            },
            "type": "parcoords"
           }
          ],
          "pie": [
           {
            "automargin": true,
            "type": "pie"
           }
          ],
          "scatter": [
           {
            "fillpattern": {
             "fillmode": "overlay",
             "size": 10,
             "solidity": 0.2
            },
            "type": "scatter"
           }
          ],
          "scatter3d": [
           {
            "line": {
             "colorbar": {
              "outlinewidth": 0,
              "ticks": ""
             }
            },
            "marker": {
             "colorbar": {
              "outlinewidth": 0,
              "ticks": ""
             }
            },
            "type": "scatter3d"
           }
          ],
          "scattercarpet": [
           {
            "marker": {
             "colorbar": {
              "outlinewidth": 0,
              "ticks": ""
             }
            },
            "type": "scattercarpet"
           }
          ],
          "scattergeo": [
           {
            "marker": {
             "colorbar": {
              "outlinewidth": 0,
              "ticks": ""
             }
            },
            "type": "scattergeo"
           }
          ],
          "scattergl": [
           {
            "marker": {
             "colorbar": {
              "outlinewidth": 0,
              "ticks": ""
             }
            },
            "type": "scattergl"
           }
          ],
          "scattermapbox": [
           {
            "marker": {
             "colorbar": {
              "outlinewidth": 0,
              "ticks": ""
             }
            },
            "type": "scattermapbox"
           }
          ],
          "scatterpolar": [
           {
            "marker": {
             "colorbar": {
              "outlinewidth": 0,
              "ticks": ""
             }
            },
            "type": "scatterpolar"
           }
          ],
          "scatterpolargl": [
           {
            "marker": {
             "colorbar": {
              "outlinewidth": 0,
              "ticks": ""
             }
            },
            "type": "scatterpolargl"
           }
          ],
          "scatterternary": [
           {
            "marker": {
             "colorbar": {
              "outlinewidth": 0,
              "ticks": ""
             }
            },
            "type": "scatterternary"
           }
          ],
          "surface": [
           {
            "colorbar": {
             "outlinewidth": 0,
             "ticks": ""
            },
            "colorscale": [
             [
              0,
              "#0d0887"
             ],
             [
              0.1111111111111111,
              "#46039f"
             ],
             [
              0.2222222222222222,
              "#7201a8"
             ],
             [
              0.3333333333333333,
              "#9c179e"
             ],
             [
              0.4444444444444444,
              "#bd3786"
             ],
             [
              0.5555555555555556,
              "#d8576b"
             ],
             [
              0.6666666666666666,
              "#ed7953"
             ],
             [
              0.7777777777777778,
              "#fb9f3a"
             ],
             [
              0.8888888888888888,
              "#fdca26"
             ],
             [
              1,
              "#f0f921"
             ]
            ],
            "type": "surface"
           }
          ],
          "table": [
           {
            "cells": {
             "fill": {
              "color": "#EBF0F8"
             },
             "line": {
              "color": "white"
             }
            },
            "header": {
             "fill": {
              "color": "#C8D4E3"
             },
             "line": {
              "color": "white"
             }
            },
            "type": "table"
           }
          ]
         },
         "layout": {
          "annotationdefaults": {
           "arrowcolor": "#2a3f5f",
           "arrowhead": 0,
           "arrowwidth": 1
          },
          "autotypenumbers": "strict",
          "coloraxis": {
           "colorbar": {
            "outlinewidth": 0,
            "ticks": ""
           }
          },
          "colorscale": {
           "diverging": [
            [
             0,
             "#8e0152"
            ],
            [
             0.1,
             "#c51b7d"
            ],
            [
             0.2,
             "#de77ae"
            ],
            [
             0.3,
             "#f1b6da"
            ],
            [
             0.4,
             "#fde0ef"
            ],
            [
             0.5,
             "#f7f7f7"
            ],
            [
             0.6,
             "#e6f5d0"
            ],
            [
             0.7,
             "#b8e186"
            ],
            [
             0.8,
             "#7fbc41"
            ],
            [
             0.9,
             "#4d9221"
            ],
            [
             1,
             "#276419"
            ]
           ],
           "sequential": [
            [
             0,
             "#0d0887"
            ],
            [
             0.1111111111111111,
             "#46039f"
            ],
            [
             0.2222222222222222,
             "#7201a8"
            ],
            [
             0.3333333333333333,
             "#9c179e"
            ],
            [
             0.4444444444444444,
             "#bd3786"
            ],
            [
             0.5555555555555556,
             "#d8576b"
            ],
            [
             0.6666666666666666,
             "#ed7953"
            ],
            [
             0.7777777777777778,
             "#fb9f3a"
            ],
            [
             0.8888888888888888,
             "#fdca26"
            ],
            [
             1,
             "#f0f921"
            ]
           ],
           "sequentialminus": [
            [
             0,
             "#0d0887"
            ],
            [
             0.1111111111111111,
             "#46039f"
            ],
            [
             0.2222222222222222,
             "#7201a8"
            ],
            [
             0.3333333333333333,
             "#9c179e"
            ],
            [
             0.4444444444444444,
             "#bd3786"
            ],
            [
             0.5555555555555556,
             "#d8576b"
            ],
            [
             0.6666666666666666,
             "#ed7953"
            ],
            [
             0.7777777777777778,
             "#fb9f3a"
            ],
            [
             0.8888888888888888,
             "#fdca26"
            ],
            [
             1,
             "#f0f921"
            ]
           ]
          },
          "colorway": [
           "#636efa",
           "#EF553B",
           "#00cc96",
           "#ab63fa",
           "#FFA15A",
           "#19d3f3",
           "#FF6692",
           "#B6E880",
           "#FF97FF",
           "#FECB52"
          ],
          "font": {
           "color": "#2a3f5f"
          },
          "geo": {
           "bgcolor": "white",
           "lakecolor": "white",
           "landcolor": "#E5ECF6",
           "showlakes": true,
           "showland": true,
           "subunitcolor": "white"
          },
          "hoverlabel": {
           "align": "left"
          },
          "hovermode": "closest",
          "mapbox": {
           "style": "light"
          },
          "paper_bgcolor": "white",
          "plot_bgcolor": "#E5ECF6",
          "polar": {
           "angularaxis": {
            "gridcolor": "white",
            "linecolor": "white",
            "ticks": ""
           },
           "bgcolor": "#E5ECF6",
           "radialaxis": {
            "gridcolor": "white",
            "linecolor": "white",
            "ticks": ""
           }
          },
          "scene": {
           "xaxis": {
            "backgroundcolor": "#E5ECF6",
            "gridcolor": "white",
            "gridwidth": 2,
            "linecolor": "white",
            "showbackground": true,
            "ticks": "",
            "zerolinecolor": "white"
           },
           "yaxis": {
            "backgroundcolor": "#E5ECF6",
            "gridcolor": "white",
            "gridwidth": 2,
            "linecolor": "white",
            "showbackground": true,
            "ticks": "",
            "zerolinecolor": "white"
           },
           "zaxis": {
            "backgroundcolor": "#E5ECF6",
            "gridcolor": "white",
            "gridwidth": 2,
            "linecolor": "white",
            "showbackground": true,
            "ticks": "",
            "zerolinecolor": "white"
           }
          },
          "shapedefaults": {
           "line": {
            "color": "#2a3f5f"
           }
          },
          "ternary": {
           "aaxis": {
            "gridcolor": "white",
            "linecolor": "white",
            "ticks": ""
           },
           "baxis": {
            "gridcolor": "white",
            "linecolor": "white",
            "ticks": ""
           },
           "bgcolor": "#E5ECF6",
           "caxis": {
            "gridcolor": "white",
            "linecolor": "white",
            "ticks": ""
           }
          },
          "title": {
           "x": 0.05
          },
          "xaxis": {
           "automargin": true,
           "gridcolor": "white",
           "linecolor": "white",
           "ticks": "",
           "title": {
            "standoff": 15
           },
           "zerolinecolor": "white",
           "zerolinewidth": 2
          },
          "yaxis": {
           "automargin": true,
           "gridcolor": "white",
           "linecolor": "white",
           "ticks": "",
           "title": {
            "standoff": 15
           },
           "zerolinecolor": "white",
           "zerolinewidth": 2
          }
         }
        },
        "title": {
         "text": "Teg 1 feature importance"
        },
        "xaxis": {
         "anchor": "y",
         "domain": [
          0,
          1
         ],
         "title": {
          "text": "Percentage"
         }
        },
        "yaxis": {
         "anchor": "x",
         "categoryorder": "total ascending",
         "domain": [
          0,
          1
         ],
         "title": {
          "text": "Factors"
         }
        }
       }
      }
     },
     "metadata": {},
     "output_type": "display_data"
    }
   ],
   "source": [
    "# Plot SHAP summary plot\n",
    "fig = plot_importance(importance_df_TEG1, \"Teg 1 feature importance\", showlegend=False)\n",
    "display(fig)"
   ]
  },
  {
   "cell_type": "markdown",
   "metadata": {},
   "source": [
    "## User interface\n",
    "Here , the user will select the features that they want to test in the next iteration of the model, based on the results from the first model.\n",
    "\n",
    "Streamlit can read strings so for the sake of this notebook streamlit outputs will be printed strings"
   ]
  },
  {
   "cell_type": "code",
   "execution_count": 84,
   "metadata": {},
   "outputs": [
    {
     "data": {
      "text/html": [
       "<div>\n",
       "<style scoped>\n",
       "    .dataframe tbody tr th:only-of-type {\n",
       "        vertical-align: middle;\n",
       "    }\n",
       "\n",
       "    .dataframe tbody tr th {\n",
       "        vertical-align: top;\n",
       "    }\n",
       "\n",
       "    .dataframe thead th {\n",
       "        text-align: right;\n",
       "    }\n",
       "</style>\n",
       "<table border=\"1\" class=\"dataframe\">\n",
       "  <thead>\n",
       "    <tr style=\"text-align: right;\">\n",
       "      <th></th>\n",
       "      <th>Record ID</th>\n",
       "      <th>Visit Timepoint</th>\n",
       "      <th>Cilostazol within 7 days</th>\n",
       "      <th>Reaction Time (R) in min</th>\n",
       "      <th>Lysis at 30 min (LY30) in %</th>\n",
       "      <th>CRT Max amplitude (MA) in mm</th>\n",
       "      <th>CFF Max Amplitude( MA) in mm</th>\n",
       "      <th>HKH MA (mm)</th>\n",
       "      <th>ActF MA (mm)</th>\n",
       "      <th>ADP MA (mm)</th>\n",
       "      <th>...</th>\n",
       "      <th>RBC (M/uL)_difference_since_last_timepoint</th>\n",
       "      <th>RBC (M/uL)_rate_since_last_timepoint</th>\n",
       "      <th>HGB(g/dL)_difference_since_last_timepoint</th>\n",
       "      <th>HGB(g/dL)_rate_since_last_timepoint</th>\n",
       "      <th>HCT %_difference_since_last_timepoint</th>\n",
       "      <th>HCT %_rate_since_last_timepoint</th>\n",
       "      <th>PLT(K/uL)_difference_since_last_timepoint</th>\n",
       "      <th>PLT(K/uL)_rate_since_last_timepoint</th>\n",
       "      <th>Date of TEG Collection_difference_since_last_timepoint</th>\n",
       "      <th>Date of TEG Collection_rate_since_last_timepoint</th>\n",
       "    </tr>\n",
       "  </thead>\n",
       "  <tbody>\n",
       "    <tr>\n",
       "      <th>24</th>\n",
       "      <td>5</td>\n",
       "      <td>6hr Post</td>\n",
       "      <td>False</td>\n",
       "      <td>15.537393</td>\n",
       "      <td>6.571666</td>\n",
       "      <td>42.895383</td>\n",
       "      <td>25.995606</td>\n",
       "      <td>70.664084</td>\n",
       "      <td>11.121971</td>\n",
       "      <td>42.775171</td>\n",
       "      <td>...</td>\n",
       "      <td>0.944247</td>\n",
       "      <td>NaN</td>\n",
       "      <td>8.326503</td>\n",
       "      <td>NaN</td>\n",
       "      <td>-25.232186</td>\n",
       "      <td>NaN</td>\n",
       "      <td>-276.962081</td>\n",
       "      <td>NaN</td>\n",
       "      <td>NaN</td>\n",
       "      <td>NaN</td>\n",
       "    </tr>\n",
       "    <tr>\n",
       "      <th>76</th>\n",
       "      <td>5</td>\n",
       "      <td>6M PO</td>\n",
       "      <td>False</td>\n",
       "      <td>12.506927</td>\n",
       "      <td>1.201415</td>\n",
       "      <td>49.747048</td>\n",
       "      <td>32.618617</td>\n",
       "      <td>44.871906</td>\n",
       "      <td>23.313726</td>\n",
       "      <td>71.990363</td>\n",
       "      <td>...</td>\n",
       "      <td>0.944247</td>\n",
       "      <td>NaN</td>\n",
       "      <td>8.326503</td>\n",
       "      <td>NaN</td>\n",
       "      <td>-25.232186</td>\n",
       "      <td>NaN</td>\n",
       "      <td>-276.962081</td>\n",
       "      <td>NaN</td>\n",
       "      <td>NaN</td>\n",
       "      <td>NaN</td>\n",
       "    </tr>\n",
       "    <tr>\n",
       "      <th>128</th>\n",
       "      <td>5</td>\n",
       "      <td>Enrollment + Baseline</td>\n",
       "      <td>True</td>\n",
       "      <td>2.819015</td>\n",
       "      <td>1.919594</td>\n",
       "      <td>41.969595</td>\n",
       "      <td>55.000000</td>\n",
       "      <td>14.604583</td>\n",
       "      <td>5.853914</td>\n",
       "      <td>29.244894</td>\n",
       "      <td>...</td>\n",
       "      <td>-1.018239</td>\n",
       "      <td>NaN</td>\n",
       "      <td>-1.658939</td>\n",
       "      <td>NaN</td>\n",
       "      <td>12.576655</td>\n",
       "      <td>NaN</td>\n",
       "      <td>-104.182123</td>\n",
       "      <td>NaN</td>\n",
       "      <td>NaN</td>\n",
       "      <td>NaN</td>\n",
       "    </tr>\n",
       "    <tr>\n",
       "      <th>180</th>\n",
       "      <td>5</td>\n",
       "      <td>PO day 5</td>\n",
       "      <td>True</td>\n",
       "      <td>7.425528</td>\n",
       "      <td>6.675401</td>\n",
       "      <td>52.212001</td>\n",
       "      <td>15.904663</td>\n",
       "      <td>28.036351</td>\n",
       "      <td>7.587697</td>\n",
       "      <td>56.805257</td>\n",
       "      <td>...</td>\n",
       "      <td>-0.819576</td>\n",
       "      <td>NaN</td>\n",
       "      <td>-8.607867</td>\n",
       "      <td>NaN</td>\n",
       "      <td>9.200614</td>\n",
       "      <td>NaN</td>\n",
       "      <td>370.828643</td>\n",
       "      <td>NaN</td>\n",
       "      <td>NaN</td>\n",
       "      <td>NaN</td>\n",
       "    </tr>\n",
       "    <tr>\n",
       "      <th>232</th>\n",
       "      <td>5</td>\n",
       "      <td>PO Day 1 ( 4-36 hours)</td>\n",
       "      <td>False</td>\n",
       "      <td>7.226328</td>\n",
       "      <td>19.083448</td>\n",
       "      <td>52.642749</td>\n",
       "      <td>41.539941</td>\n",
       "      <td>23.438211</td>\n",
       "      <td>13.009540</td>\n",
       "      <td>14.663339</td>\n",
       "      <td>...</td>\n",
       "      <td>0.139986</td>\n",
       "      <td>NaN</td>\n",
       "      <td>10.413648</td>\n",
       "      <td>NaN</td>\n",
       "      <td>-14.169826</td>\n",
       "      <td>NaN</td>\n",
       "      <td>-489.153769</td>\n",
       "      <td>NaN</td>\n",
       "      <td>NaN</td>\n",
       "      <td>NaN</td>\n",
       "    </tr>\n",
       "  </tbody>\n",
       "</table>\n",
       "<p>5 rows × 111 columns</p>\n",
       "</div>"
      ],
      "text/plain": [
       "    Record ID         Visit Timepoint  Cilostazol within 7 days  \\\n",
       "24          5                6hr Post                     False   \n",
       "76          5                   6M PO                     False   \n",
       "128         5   Enrollment + Baseline                      True   \n",
       "180         5                PO day 5                      True   \n",
       "232         5  PO Day 1 ( 4-36 hours)                     False   \n",
       "\n",
       "     Reaction Time (R) in min  Lysis at 30 min (LY30) in %  \\\n",
       "24                  15.537393                     6.571666   \n",
       "76                  12.506927                     1.201415   \n",
       "128                  2.819015                     1.919594   \n",
       "180                  7.425528                     6.675401   \n",
       "232                  7.226328                    19.083448   \n",
       "\n",
       "     CRT Max amplitude (MA) in mm  CFF Max Amplitude( MA) in mm  HKH MA (mm)  \\\n",
       "24                      42.895383                     25.995606    70.664084   \n",
       "76                      49.747048                     32.618617    44.871906   \n",
       "128                     41.969595                     55.000000    14.604583   \n",
       "180                     52.212001                     15.904663    28.036351   \n",
       "232                     52.642749                     41.539941    23.438211   \n",
       "\n",
       "     ActF MA (mm)  ADP MA (mm)  ...  \\\n",
       "24      11.121971    42.775171  ...   \n",
       "76      23.313726    71.990363  ...   \n",
       "128      5.853914    29.244894  ...   \n",
       "180      7.587697    56.805257  ...   \n",
       "232     13.009540    14.663339  ...   \n",
       "\n",
       "     RBC (M/uL)_difference_since_last_timepoint  \\\n",
       "24                                     0.944247   \n",
       "76                                     0.944247   \n",
       "128                                   -1.018239   \n",
       "180                                   -0.819576   \n",
       "232                                    0.139986   \n",
       "\n",
       "     RBC (M/uL)_rate_since_last_timepoint  \\\n",
       "24                                    NaN   \n",
       "76                                    NaN   \n",
       "128                                   NaN   \n",
       "180                                   NaN   \n",
       "232                                   NaN   \n",
       "\n",
       "     HGB(g/dL)_difference_since_last_timepoint  \\\n",
       "24                                    8.326503   \n",
       "76                                    8.326503   \n",
       "128                                  -1.658939   \n",
       "180                                  -8.607867   \n",
       "232                                  10.413648   \n",
       "\n",
       "     HGB(g/dL)_rate_since_last_timepoint  \\\n",
       "24                                   NaN   \n",
       "76                                   NaN   \n",
       "128                                  NaN   \n",
       "180                                  NaN   \n",
       "232                                  NaN   \n",
       "\n",
       "     HCT %_difference_since_last_timepoint  HCT %_rate_since_last_timepoint  \\\n",
       "24                              -25.232186                              NaN   \n",
       "76                              -25.232186                              NaN   \n",
       "128                              12.576655                              NaN   \n",
       "180                               9.200614                              NaN   \n",
       "232                             -14.169826                              NaN   \n",
       "\n",
       "     PLT(K/uL)_difference_since_last_timepoint  \\\n",
       "24                                 -276.962081   \n",
       "76                                 -276.962081   \n",
       "128                                -104.182123   \n",
       "180                                 370.828643   \n",
       "232                                -489.153769   \n",
       "\n",
       "     PLT(K/uL)_rate_since_last_timepoint  \\\n",
       "24                                   NaN   \n",
       "76                                   NaN   \n",
       "128                                  NaN   \n",
       "180                                  NaN   \n",
       "232                                  NaN   \n",
       "\n",
       "     Date of TEG Collection_difference_since_last_timepoint  \\\n",
       "24                                                 NaN        \n",
       "76                                                 NaN        \n",
       "128                                                NaN        \n",
       "180                                                NaN        \n",
       "232                                                NaN        \n",
       "\n",
       "     Date of TEG Collection_rate_since_last_timepoint  \n",
       "24                                                NaN  \n",
       "76                                                NaN  \n",
       "128                                               NaN  \n",
       "180                                               NaN  \n",
       "232                                               NaN  \n",
       "\n",
       "[5 rows x 111 columns]"
      ]
     },
     "execution_count": 84,
     "metadata": {},
     "output_type": "execute_result"
    }
   ],
   "source": [
    "user_TEG_df = extended_df.copy()\n",
    "user_TEG_df.head()"
   ]
  },
  {
   "cell_type": "code",
   "execution_count": 85,
   "metadata": {},
   "outputs": [
    {
     "data": {
      "text/plain": [
       "{'Anticoagulation_apixaban': None,\n",
       " 'Anticoagulation_enoxaparin': None,\n",
       " 'Anticoagulation_enoxaprin': None,\n",
       " 'Anticoagulation_heparin': None,\n",
       " 'Anticoagulation_rivaroxaban': None,\n",
       " 'Anticoagulation_warfarin': None,\n",
       " 'Antiplatelet therapy_aspirin': None,\n",
       " 'Antiplatelet therapy_celecoxib': None,\n",
       " 'Antiplatelet therapy_clopidogrel': None,\n",
       " 'Antiplatelet therapy_ticagrelor': None,\n",
       " 'BP_Diastolic': None,\n",
       " 'BP_Systolic': None,\n",
       " 'Cilostazol within 7 days': None,\n",
       " 'Events': None,\n",
       " 'Record ID': None,\n",
       " 'Statin within 24 Hours_Lovastatin': None,\n",
       " 'Statin within 24 Hours_Pravastatin': None,\n",
       " 'Statin within 24 Hours_Rosuvastatin': None,\n",
       " 'Statin within 24 Hours_Simvastatin': None,\n",
       " 'Statin within 24 Hours_atorvastatin': None,\n",
       " 'Visit Timepoint': None,\n",
       " 'Reaction Time (R) in min_difference_since_last_timepoint': 0.008583229,\n",
       " 'Lysis at 30 min (LY30) in %_difference_since_last_timepoint': 0.030654728,\n",
       " 'CRT Max amplitude (MA) in mm_difference_since_last_timepoint': 0.02172974,\n",
       " 'CFF Max Amplitude( MA) in mm': 0.002783299,\n",
       " 'HKH MA (mm)_difference_since_last_timepoint': 0.0027193879,\n",
       " 'ActF MA (mm)_difference_since_last_timepoint': 0.0028034565,\n",
       " 'ADP MA (mm)_difference_since_last_timepoint': 0.01010106,\n",
       " 'AA MA(mm)': 0.0041411305,\n",
       " 'ADP % Aggregation_difference_since_last_timepoint': 0.060256816,\n",
       " 'ADP % Inhibition': 0.039759878,\n",
       " 'AA % Aggregation_difference_since_last_timepoint': 0.045057125,\n",
       " 'AA % Inhibition_difference_since_last_timepoint': 0.024365092,\n",
       " 'CK R(min)_difference_since_last_timepoint': 0.04060029,\n",
       " 'CK K (min)_difference_since_last_timepoint': 0.015670668,\n",
       " 'CK angle( deg)_difference_since_last_timepoint': 0.03354032,\n",
       " 'CK MA (mm)': 0.0038097627,\n",
       " 'CRT MA(mm)': 0.045216314,\n",
       " 'CKH R (min)_difference_since_last_timepoint': 0.0021504941,\n",
       " 'CFF MA(mm)_difference_since_last_timepoint': 0.012411153,\n",
       " 'CFF FLEV(mg/dL)': 0.07361341,\n",
       " 'HbA1c Baseline( within1 year of study start)': 0.008976044,\n",
       " 'INR value': 0.033386208,\n",
       " 'aPTT_difference_since_last_timepoint': 0.012223434,\n",
       " 'PT value': 0.009125098,\n",
       " 'WBC in K/uL_difference_since_last_timepoint': 0.00829616,\n",
       " 'RBC (M/uL)': 0.016292246,\n",
       " 'HGB(g/dL)': 0.018901944,\n",
       " 'HCT %': 0,\n",
       " 'PLT(K/uL)_difference_since_last_timepoint': 0.018855028,\n",
       " 'Date of TEG Collection': 0}"
      ]
     },
     "execution_count": 85,
     "metadata": {},
     "output_type": "execute_result"
    }
   ],
   "source": [
    "# Keep only the most important values from teg. No need for extra created ones\n",
    "if user_extend_data:\n",
    "    columns_to_keep = dict.fromkeys(user_TEG_df.columns.difference(tegValues + new_columns), None)\n",
    "else:\n",
    "    columns_to_keep = dict.fromkeys(user_TEG_df.columns.difference(tegValues), None)\n",
    "\n",
    "# Iterate through prefixes and select the most important column for each\n",
    "for prefix in tegValues:\n",
    "    # Filter the importance_df_TEG1 for the current prefix\n",
    "    prefix_columns = importance_df_TEG1[importance_df_TEG1['Feature'].str.startswith(prefix)]\n",
    "\n",
    "    if not prefix_columns.empty:\n",
    "        # Find the column with the maximum importance for the current prefix\n",
    "        max_importance_row = prefix_columns.loc[prefix_columns['Importance'].idxmax()]\n",
    "\n",
    "        # Check if the maximum importance value is greater than 0\n",
    "        if max_importance_row['Importance'] > 0:\n",
    "            max_importance_column = max_importance_row['Feature']\n",
    "            columns_to_keep[max_importance_column] =max_importance_row['Importance']\n",
    "\n",
    "        else:\n",
    "            columns_to_keep[prefix] = 0\n",
    "\n",
    "columns_to_keep\n"
   ]
  },
  {
   "cell_type": "code",
   "execution_count": 86,
   "metadata": {},
   "outputs": [
    {
     "data": {
      "text/html": [
       "<div>\n",
       "<style scoped>\n",
       "    .dataframe tbody tr th:only-of-type {\n",
       "        vertical-align: middle;\n",
       "    }\n",
       "\n",
       "    .dataframe tbody tr th {\n",
       "        vertical-align: top;\n",
       "    }\n",
       "\n",
       "    .dataframe thead th {\n",
       "        text-align: right;\n",
       "    }\n",
       "</style>\n",
       "<table border=\"1\" class=\"dataframe\">\n",
       "  <thead>\n",
       "    <tr style=\"text-align: right;\">\n",
       "      <th></th>\n",
       "      <th>Anticoagulation_apixaban</th>\n",
       "      <th>Anticoagulation_enoxaparin</th>\n",
       "      <th>Anticoagulation_enoxaprin</th>\n",
       "      <th>Anticoagulation_heparin</th>\n",
       "      <th>Anticoagulation_rivaroxaban</th>\n",
       "      <th>Anticoagulation_warfarin</th>\n",
       "      <th>Antiplatelet therapy_aspirin</th>\n",
       "      <th>Antiplatelet therapy_celecoxib</th>\n",
       "      <th>Antiplatelet therapy_clopidogrel</th>\n",
       "      <th>Antiplatelet therapy_ticagrelor</th>\n",
       "      <th>...</th>\n",
       "      <th>HbA1c Baseline( within1 year of study start)</th>\n",
       "      <th>INR value</th>\n",
       "      <th>aPTT_difference_since_last_timepoint</th>\n",
       "      <th>PT value</th>\n",
       "      <th>WBC in K/uL_difference_since_last_timepoint</th>\n",
       "      <th>RBC (M/uL)</th>\n",
       "      <th>HGB(g/dL)</th>\n",
       "      <th>HCT %</th>\n",
       "      <th>PLT(K/uL)_difference_since_last_timepoint</th>\n",
       "      <th>Date of TEG Collection</th>\n",
       "    </tr>\n",
       "  </thead>\n",
       "  <tbody>\n",
       "    <tr>\n",
       "      <th>24</th>\n",
       "      <td>0</td>\n",
       "      <td>0</td>\n",
       "      <td>0</td>\n",
       "      <td>0</td>\n",
       "      <td>1</td>\n",
       "      <td>0</td>\n",
       "      <td>1</td>\n",
       "      <td>0</td>\n",
       "      <td>0</td>\n",
       "      <td>1</td>\n",
       "      <td>...</td>\n",
       "      <td>7.023896</td>\n",
       "      <td>53.610566</td>\n",
       "      <td>25.056362</td>\n",
       "      <td>2.208812</td>\n",
       "      <td>-8.234655</td>\n",
       "      <td>5.224207</td>\n",
       "      <td>9.655820</td>\n",
       "      <td>54.146276</td>\n",
       "      <td>-276.962081</td>\n",
       "      <td>NaN</td>\n",
       "    </tr>\n",
       "    <tr>\n",
       "      <th>76</th>\n",
       "      <td>0</td>\n",
       "      <td>0</td>\n",
       "      <td>0</td>\n",
       "      <td>1</td>\n",
       "      <td>0</td>\n",
       "      <td>0</td>\n",
       "      <td>0</td>\n",
       "      <td>0</td>\n",
       "      <td>1</td>\n",
       "      <td>0</td>\n",
       "      <td>...</td>\n",
       "      <td>5.396347</td>\n",
       "      <td>144.198986</td>\n",
       "      <td>25.056362</td>\n",
       "      <td>7.122104</td>\n",
       "      <td>-8.234655</td>\n",
       "      <td>6.168454</td>\n",
       "      <td>17.982323</td>\n",
       "      <td>28.914090</td>\n",
       "      <td>-276.962081</td>\n",
       "      <td>NaN</td>\n",
       "    </tr>\n",
       "    <tr>\n",
       "      <th>128</th>\n",
       "      <td>0</td>\n",
       "      <td>0</td>\n",
       "      <td>1</td>\n",
       "      <td>1</td>\n",
       "      <td>0</td>\n",
       "      <td>0</td>\n",
       "      <td>0</td>\n",
       "      <td>0</td>\n",
       "      <td>1</td>\n",
       "      <td>0</td>\n",
       "      <td>...</td>\n",
       "      <td>5.761200</td>\n",
       "      <td>57.574641</td>\n",
       "      <td>-38.373032</td>\n",
       "      <td>30.563936</td>\n",
       "      <td>7.280157</td>\n",
       "      <td>5.150215</td>\n",
       "      <td>16.323384</td>\n",
       "      <td>41.490745</td>\n",
       "      <td>-104.182123</td>\n",
       "      <td>NaN</td>\n",
       "    </tr>\n",
       "    <tr>\n",
       "      <th>180</th>\n",
       "      <td>1</td>\n",
       "      <td>0</td>\n",
       "      <td>0</td>\n",
       "      <td>0</td>\n",
       "      <td>0</td>\n",
       "      <td>0</td>\n",
       "      <td>0</td>\n",
       "      <td>0</td>\n",
       "      <td>1</td>\n",
       "      <td>0</td>\n",
       "      <td>...</td>\n",
       "      <td>9.884978</td>\n",
       "      <td>51.064486</td>\n",
       "      <td>34.339367</td>\n",
       "      <td>19.081192</td>\n",
       "      <td>3.532540</td>\n",
       "      <td>4.330639</td>\n",
       "      <td>7.715517</td>\n",
       "      <td>50.691359</td>\n",
       "      <td>370.828643</td>\n",
       "      <td>NaN</td>\n",
       "    </tr>\n",
       "    <tr>\n",
       "      <th>232</th>\n",
       "      <td>0</td>\n",
       "      <td>0</td>\n",
       "      <td>1</td>\n",
       "      <td>0</td>\n",
       "      <td>0</td>\n",
       "      <td>0</td>\n",
       "      <td>1</td>\n",
       "      <td>0</td>\n",
       "      <td>0</td>\n",
       "      <td>1</td>\n",
       "      <td>...</td>\n",
       "      <td>9.467177</td>\n",
       "      <td>101.841247</td>\n",
       "      <td>-90.526476</td>\n",
       "      <td>10.854766</td>\n",
       "      <td>-3.578455</td>\n",
       "      <td>4.470625</td>\n",
       "      <td>18.129165</td>\n",
       "      <td>36.521533</td>\n",
       "      <td>-489.153769</td>\n",
       "      <td>NaN</td>\n",
       "    </tr>\n",
       "  </tbody>\n",
       "</table>\n",
       "<p>5 rows × 51 columns</p>\n",
       "</div>"
      ],
      "text/plain": [
       "     Anticoagulation_apixaban  Anticoagulation_enoxaparin  \\\n",
       "24                          0                           0   \n",
       "76                          0                           0   \n",
       "128                         0                           0   \n",
       "180                         1                           0   \n",
       "232                         0                           0   \n",
       "\n",
       "     Anticoagulation_enoxaprin  Anticoagulation_heparin  \\\n",
       "24                           0                        0   \n",
       "76                           0                        1   \n",
       "128                          1                        1   \n",
       "180                          0                        0   \n",
       "232                          1                        0   \n",
       "\n",
       "     Anticoagulation_rivaroxaban  Anticoagulation_warfarin  \\\n",
       "24                             1                         0   \n",
       "76                             0                         0   \n",
       "128                            0                         0   \n",
       "180                            0                         0   \n",
       "232                            0                         0   \n",
       "\n",
       "     Antiplatelet therapy_aspirin  Antiplatelet therapy_celecoxib  \\\n",
       "24                              1                               0   \n",
       "76                              0                               0   \n",
       "128                             0                               0   \n",
       "180                             0                               0   \n",
       "232                             1                               0   \n",
       "\n",
       "     Antiplatelet therapy_clopidogrel  Antiplatelet therapy_ticagrelor  ...  \\\n",
       "24                                  0                                1  ...   \n",
       "76                                  1                                0  ...   \n",
       "128                                 1                                0  ...   \n",
       "180                                 1                                0  ...   \n",
       "232                                 0                                1  ...   \n",
       "\n",
       "     HbA1c Baseline( within1 year of study start)   INR value  \\\n",
       "24                                       7.023896   53.610566   \n",
       "76                                       5.396347  144.198986   \n",
       "128                                      5.761200   57.574641   \n",
       "180                                      9.884978   51.064486   \n",
       "232                                      9.467177  101.841247   \n",
       "\n",
       "     aPTT_difference_since_last_timepoint   PT value  \\\n",
       "24                              25.056362   2.208812   \n",
       "76                              25.056362   7.122104   \n",
       "128                            -38.373032  30.563936   \n",
       "180                             34.339367  19.081192   \n",
       "232                            -90.526476  10.854766   \n",
       "\n",
       "    WBC in K/uL_difference_since_last_timepoint  RBC (M/uL)  HGB(g/dL)  \\\n",
       "24                                    -8.234655    5.224207   9.655820   \n",
       "76                                    -8.234655    6.168454  17.982323   \n",
       "128                                    7.280157    5.150215  16.323384   \n",
       "180                                    3.532540    4.330639   7.715517   \n",
       "232                                   -3.578455    4.470625  18.129165   \n",
       "\n",
       "         HCT %  PLT(K/uL)_difference_since_last_timepoint  \\\n",
       "24   54.146276                                -276.962081   \n",
       "76   28.914090                                -276.962081   \n",
       "128  41.490745                                -104.182123   \n",
       "180  50.691359                                 370.828643   \n",
       "232  36.521533                                -489.153769   \n",
       "\n",
       "     Date of TEG Collection  \n",
       "24                      NaN  \n",
       "76                      NaN  \n",
       "128                     NaN  \n",
       "180                     NaN  \n",
       "232                     NaN  \n",
       "\n",
       "[5 rows x 51 columns]"
      ]
     },
     "execution_count": 86,
     "metadata": {},
     "output_type": "execute_result"
    }
   ],
   "source": [
    "# Keep only non repeated values\n",
    "user_TEG_df = user_TEG_df[columns_to_keep.keys()]\n",
    "user_TEG_df.head()"
   ]
  },
  {
   "cell_type": "code",
   "execution_count": 87,
   "metadata": {},
   "outputs": [
    {
     "data": {
      "text/plain": [
       "{'Clot treatment drugs': ['HKH MA (mm)', 'ActF MA (mm)', 'ADP MA (mm)'],\n",
       " 'Effects of fibrogen': ['CFF MA(mm)',\n",
       "  'CFF FLEV(mg/dL)',\n",
       "  'CFF Max Amplitude( MA) in mm'],\n",
       " 'Unaltered blood ': ['CRT MA(mm)',\n",
       "  'CRT Max amplitude (MA) in mm',\n",
       "  'CK MA (mm)'],\n",
       " 'Unaltered time to clot ': ['CK R(min)', 'CKH R (min)'],\n",
       " 'ADP': ['ADP % Aggregation', 'ADP % Inhibition'],\n",
       " 'AA': ['AA % Aggregation', 'AA % Inhibition']}"
      ]
     },
     "execution_count": 87,
     "metadata": {},
     "output_type": "execute_result"
    }
   ],
   "source": [
    "# Upload collinear TEG values\n",
    "\n",
    "# Define the filename\n",
    "filename = 'TEG_collinear.json'\n",
    "\n",
    "# Create the full file path by joining the base directory and filename\n",
    "file_path = os.path.join(base_directory, 'data', filename)\n",
    "\n",
    "with open(file_path, 'r') as json_file:\n",
    "    collinearity = json.load(json_file)\n",
    "collinearity"
   ]
  },
  {
   "cell_type": "code",
   "execution_count": 88,
   "metadata": {},
   "outputs": [
    {
     "name": "stdout",
     "output_type": "stream",
     "text": [
      "Clot treatment drugs\n",
      "['ADP MA (mm)_difference_since_last_timepoint (1.01%)', 'ActF MA (mm)_difference_since_last_timepoint (0.28%)', 'HKH MA (mm)_difference_since_last_timepoint (0.27%)']\n",
      "<class 'str'>\n",
      "Effects of fibrogen\n",
      "['CFF FLEV(mg/dL) (7.36%)', 'CFF MA(mm)_difference_since_last_timepoint (1.24%)', 'CFF Max Amplitude( MA) in mm (0.28%)']\n",
      "<class 'str'>\n",
      "Unaltered blood \n",
      "['CRT MA(mm) (4.52%)', 'CRT Max amplitude (MA) in mm_difference_since_last_timepoint (2.17%)', 'CK MA (mm) (0.38%)']\n",
      "<class 'str'>\n",
      "Unaltered time to clot \n",
      "['CK R(min)_difference_since_last_timepoint (4.06%)', 'CKH R (min)_difference_since_last_timepoint (0.22%)']\n",
      "<class 'str'>\n",
      "ADP\n",
      "['ADP % Aggregation_difference_since_last_timepoint (6.03%)', 'ADP % Inhibition (3.98%)']\n",
      "<class 'str'>\n",
      "AA\n",
      "['AA % Aggregation_difference_since_last_timepoint (4.51%)', 'AA % Inhibition_difference_since_last_timepoint (2.44%)']\n",
      "<class 'str'>\n"
     ]
    },
    {
     "data": {
      "text/plain": [
       "'AA % Aggregation_difference_since_last_timepoint (4.51%)'"
      ]
     },
     "execution_count": 88,
     "metadata": {},
     "output_type": "execute_result"
    }
   ],
   "source": [
    "# Create empty dictionary to hold selection\n",
    "selected_features = {}\n",
    "\n",
    "# Use the dictionary with columns to keep to show user their options\n",
    "for group_name , elements in collinearity.items():\n",
    "\n",
    "    print(group_name) #with st.expander(f\"{group_name}\"):\n",
    "\n",
    "    # Filter keys based on prefixes\n",
    "    filtered_keys = [key for key in columns_to_keep.keys() if any(key.startswith(prefix) for prefix in elements)]\n",
    "\n",
    "    # Sort filtered_keys based on values in descending order\n",
    "    sorted_keys = sorted(filtered_keys, key=lambda key: columns_to_keep[key], reverse=True)\n",
    "\n",
    "    # Create a list of strings by appending keys with values multiplied by 100\n",
    "    radio_labels = [f\"{key} ({round(columns_to_keep[key], 2)}%)\" for key in sorted_keys]\n",
    "\n",
    "    # Create a radio button to select a feature from the group\n",
    "    print(radio_labels) #selected_feature = st.radio(\"\", radio_labels, key=group_name)\n",
    "    selected_feature = radio_labels[0]\n",
    "    print(type(selected_feature))\n",
    "\n",
    "    # Convert the group list to a tuple and store the selected feature in the dictionary\n",
    "    selected_features[group_name] = selected_feature\n",
    "\n",
    "selected_feature"
   ]
  },
  {
   "cell_type": "markdown",
   "metadata": {},
   "source": [
    "## TEG model 2\n",
    "After the user selects non-correlated parameters the model will be retrained dropping the values that were not selected"
   ]
  },
  {
   "cell_type": "code",
   "execution_count": 89,
   "metadata": {},
   "outputs": [
    {
     "name": "stdout",
     "output_type": "stream",
     "text": [
      "['ADP MA (mm)', 'CFF FLEV(mg/dL)', 'CRT MA(mm)', 'CK R(min)', 'ADP % Aggregation', 'AA % Aggregation']\n"
     ]
    },
    {
     "data": {
      "text/plain": [
       "['CFF Max Amplitude( MA) in mm',\n",
       " 'CK MA (mm)',\n",
       " 'ActF MA (mm)',\n",
       " 'CFF MA(mm)',\n",
       " 'HKH MA (mm)',\n",
       " 'ADP % Inhibition',\n",
       " 'AA % Inhibition',\n",
       " 'CRT Max amplitude (MA) in mm',\n",
       " 'CKH R (min)']"
      ]
     },
     "execution_count": 89,
     "metadata": {},
     "output_type": "execute_result"
    }
   ],
   "source": [
    "# Extract all values from selected_features and collinearity\n",
    "selected_features_values = list(selected_features.values())\n",
    "collinearity_values = [item for sublist in collinearity.values() for item in sublist]\n",
    "\n",
    "# Find prefixes to drop\n",
    "prefix_to_keep = [prefix for selection in selected_features_values for prefix in collinearity_values if selection.startswith(prefix)]\n",
    "prefix_to_drop = list(set(collinearity_values) - set(prefix_to_keep))\n",
    "\n",
    "print(prefix_to_keep)\n",
    "prefix_to_drop"
   ]
  },
  {
   "cell_type": "code",
   "execution_count": 90,
   "metadata": {},
   "outputs": [
    {
     "data": {
      "text/plain": [
       "['CRT Max amplitude (MA) in mm_difference_since_last_timepoint',\n",
       " 'CFF Max Amplitude( MA) in mm',\n",
       " 'HKH MA (mm)_difference_since_last_timepoint',\n",
       " 'ActF MA (mm)_difference_since_last_timepoint',\n",
       " 'ADP % Inhibition',\n",
       " 'AA % Inhibition_difference_since_last_timepoint',\n",
       " 'CK MA (mm)',\n",
       " 'CKH R (min)_difference_since_last_timepoint',\n",
       " 'CFF MA(mm)_difference_since_last_timepoint']"
      ]
     },
     "execution_count": 90,
     "metadata": {},
     "output_type": "execute_result"
    }
   ],
   "source": [
    "# Find list of columns to drop\n",
    "columns_to_drop = [column for column in columns_to_keep.keys() if any(column.startswith(prefix) for prefix in prefix_to_drop)]\n",
    "\n",
    "columns_to_drop"
   ]
  },
  {
   "cell_type": "code",
   "execution_count": 91,
   "metadata": {},
   "outputs": [
    {
     "data": {
      "text/html": [
       "<div>\n",
       "<style scoped>\n",
       "    .dataframe tbody tr th:only-of-type {\n",
       "        vertical-align: middle;\n",
       "    }\n",
       "\n",
       "    .dataframe tbody tr th {\n",
       "        vertical-align: top;\n",
       "    }\n",
       "\n",
       "    .dataframe thead th {\n",
       "        text-align: right;\n",
       "    }\n",
       "</style>\n",
       "<table border=\"1\" class=\"dataframe\">\n",
       "  <thead>\n",
       "    <tr style=\"text-align: right;\">\n",
       "      <th></th>\n",
       "      <th>Anticoagulation_apixaban</th>\n",
       "      <th>Anticoagulation_enoxaparin</th>\n",
       "      <th>Anticoagulation_enoxaprin</th>\n",
       "      <th>Anticoagulation_heparin</th>\n",
       "      <th>Anticoagulation_rivaroxaban</th>\n",
       "      <th>Anticoagulation_warfarin</th>\n",
       "      <th>Antiplatelet therapy_aspirin</th>\n",
       "      <th>Antiplatelet therapy_celecoxib</th>\n",
       "      <th>Antiplatelet therapy_clopidogrel</th>\n",
       "      <th>Antiplatelet therapy_ticagrelor</th>\n",
       "      <th>...</th>\n",
       "      <th>HbA1c Baseline( within1 year of study start)</th>\n",
       "      <th>INR value</th>\n",
       "      <th>aPTT_difference_since_last_timepoint</th>\n",
       "      <th>PT value</th>\n",
       "      <th>WBC in K/uL_difference_since_last_timepoint</th>\n",
       "      <th>RBC (M/uL)</th>\n",
       "      <th>HGB(g/dL)</th>\n",
       "      <th>HCT %</th>\n",
       "      <th>PLT(K/uL)_difference_since_last_timepoint</th>\n",
       "      <th>Date of TEG Collection</th>\n",
       "    </tr>\n",
       "  </thead>\n",
       "  <tbody>\n",
       "    <tr>\n",
       "      <th>24</th>\n",
       "      <td>0</td>\n",
       "      <td>0</td>\n",
       "      <td>0</td>\n",
       "      <td>0</td>\n",
       "      <td>1</td>\n",
       "      <td>0</td>\n",
       "      <td>1</td>\n",
       "      <td>0</td>\n",
       "      <td>0</td>\n",
       "      <td>1</td>\n",
       "      <td>...</td>\n",
       "      <td>7.023896</td>\n",
       "      <td>53.610566</td>\n",
       "      <td>25.056362</td>\n",
       "      <td>2.208812</td>\n",
       "      <td>-8.234655</td>\n",
       "      <td>5.224207</td>\n",
       "      <td>9.655820</td>\n",
       "      <td>54.146276</td>\n",
       "      <td>-276.962081</td>\n",
       "      <td>NaN</td>\n",
       "    </tr>\n",
       "    <tr>\n",
       "      <th>76</th>\n",
       "      <td>0</td>\n",
       "      <td>0</td>\n",
       "      <td>0</td>\n",
       "      <td>1</td>\n",
       "      <td>0</td>\n",
       "      <td>0</td>\n",
       "      <td>0</td>\n",
       "      <td>0</td>\n",
       "      <td>1</td>\n",
       "      <td>0</td>\n",
       "      <td>...</td>\n",
       "      <td>5.396347</td>\n",
       "      <td>144.198986</td>\n",
       "      <td>25.056362</td>\n",
       "      <td>7.122104</td>\n",
       "      <td>-8.234655</td>\n",
       "      <td>6.168454</td>\n",
       "      <td>17.982323</td>\n",
       "      <td>28.914090</td>\n",
       "      <td>-276.962081</td>\n",
       "      <td>NaN</td>\n",
       "    </tr>\n",
       "    <tr>\n",
       "      <th>128</th>\n",
       "      <td>0</td>\n",
       "      <td>0</td>\n",
       "      <td>1</td>\n",
       "      <td>1</td>\n",
       "      <td>0</td>\n",
       "      <td>0</td>\n",
       "      <td>0</td>\n",
       "      <td>0</td>\n",
       "      <td>1</td>\n",
       "      <td>0</td>\n",
       "      <td>...</td>\n",
       "      <td>5.761200</td>\n",
       "      <td>57.574641</td>\n",
       "      <td>-38.373032</td>\n",
       "      <td>30.563936</td>\n",
       "      <td>7.280157</td>\n",
       "      <td>5.150215</td>\n",
       "      <td>16.323384</td>\n",
       "      <td>41.490745</td>\n",
       "      <td>-104.182123</td>\n",
       "      <td>NaN</td>\n",
       "    </tr>\n",
       "    <tr>\n",
       "      <th>180</th>\n",
       "      <td>1</td>\n",
       "      <td>0</td>\n",
       "      <td>0</td>\n",
       "      <td>0</td>\n",
       "      <td>0</td>\n",
       "      <td>0</td>\n",
       "      <td>0</td>\n",
       "      <td>0</td>\n",
       "      <td>1</td>\n",
       "      <td>0</td>\n",
       "      <td>...</td>\n",
       "      <td>9.884978</td>\n",
       "      <td>51.064486</td>\n",
       "      <td>34.339367</td>\n",
       "      <td>19.081192</td>\n",
       "      <td>3.532540</td>\n",
       "      <td>4.330639</td>\n",
       "      <td>7.715517</td>\n",
       "      <td>50.691359</td>\n",
       "      <td>370.828643</td>\n",
       "      <td>NaN</td>\n",
       "    </tr>\n",
       "    <tr>\n",
       "      <th>232</th>\n",
       "      <td>0</td>\n",
       "      <td>0</td>\n",
       "      <td>1</td>\n",
       "      <td>0</td>\n",
       "      <td>0</td>\n",
       "      <td>0</td>\n",
       "      <td>1</td>\n",
       "      <td>0</td>\n",
       "      <td>0</td>\n",
       "      <td>1</td>\n",
       "      <td>...</td>\n",
       "      <td>9.467177</td>\n",
       "      <td>101.841247</td>\n",
       "      <td>-90.526476</td>\n",
       "      <td>10.854766</td>\n",
       "      <td>-3.578455</td>\n",
       "      <td>4.470625</td>\n",
       "      <td>18.129165</td>\n",
       "      <td>36.521533</td>\n",
       "      <td>-489.153769</td>\n",
       "      <td>NaN</td>\n",
       "    </tr>\n",
       "  </tbody>\n",
       "</table>\n",
       "<p>5 rows × 42 columns</p>\n",
       "</div>"
      ],
      "text/plain": [
       "     Anticoagulation_apixaban  Anticoagulation_enoxaparin  \\\n",
       "24                          0                           0   \n",
       "76                          0                           0   \n",
       "128                         0                           0   \n",
       "180                         1                           0   \n",
       "232                         0                           0   \n",
       "\n",
       "     Anticoagulation_enoxaprin  Anticoagulation_heparin  \\\n",
       "24                           0                        0   \n",
       "76                           0                        1   \n",
       "128                          1                        1   \n",
       "180                          0                        0   \n",
       "232                          1                        0   \n",
       "\n",
       "     Anticoagulation_rivaroxaban  Anticoagulation_warfarin  \\\n",
       "24                             1                         0   \n",
       "76                             0                         0   \n",
       "128                            0                         0   \n",
       "180                            0                         0   \n",
       "232                            0                         0   \n",
       "\n",
       "     Antiplatelet therapy_aspirin  Antiplatelet therapy_celecoxib  \\\n",
       "24                              1                               0   \n",
       "76                              0                               0   \n",
       "128                             0                               0   \n",
       "180                             0                               0   \n",
       "232                             1                               0   \n",
       "\n",
       "     Antiplatelet therapy_clopidogrel  Antiplatelet therapy_ticagrelor  ...  \\\n",
       "24                                  0                                1  ...   \n",
       "76                                  1                                0  ...   \n",
       "128                                 1                                0  ...   \n",
       "180                                 1                                0  ...   \n",
       "232                                 0                                1  ...   \n",
       "\n",
       "     HbA1c Baseline( within1 year of study start)   INR value  \\\n",
       "24                                       7.023896   53.610566   \n",
       "76                                       5.396347  144.198986   \n",
       "128                                      5.761200   57.574641   \n",
       "180                                      9.884978   51.064486   \n",
       "232                                      9.467177  101.841247   \n",
       "\n",
       "     aPTT_difference_since_last_timepoint   PT value  \\\n",
       "24                              25.056362   2.208812   \n",
       "76                              25.056362   7.122104   \n",
       "128                            -38.373032  30.563936   \n",
       "180                             34.339367  19.081192   \n",
       "232                            -90.526476  10.854766   \n",
       "\n",
       "    WBC in K/uL_difference_since_last_timepoint  RBC (M/uL)  HGB(g/dL)  \\\n",
       "24                                    -8.234655    5.224207   9.655820   \n",
       "76                                    -8.234655    6.168454  17.982323   \n",
       "128                                    7.280157    5.150215  16.323384   \n",
       "180                                    3.532540    4.330639   7.715517   \n",
       "232                                   -3.578455    4.470625  18.129165   \n",
       "\n",
       "         HCT %  PLT(K/uL)_difference_since_last_timepoint  \\\n",
       "24   54.146276                                -276.962081   \n",
       "76   28.914090                                -276.962081   \n",
       "128  41.490745                                -104.182123   \n",
       "180  50.691359                                 370.828643   \n",
       "232  36.521533                                -489.153769   \n",
       "\n",
       "     Date of TEG Collection  \n",
       "24                      NaN  \n",
       "76                      NaN  \n",
       "128                     NaN  \n",
       "180                     NaN  \n",
       "232                     NaN  \n",
       "\n",
       "[5 rows x 42 columns]"
      ]
     },
     "execution_count": 91,
     "metadata": {},
     "output_type": "execute_result"
    }
   ],
   "source": [
    "model2_df = user_TEG_df.copy()\n",
    "model2_df.drop(columns=columns_to_drop, inplace=True)\n",
    "model2_df.head()"
   ]
  },
  {
   "cell_type": "markdown",
   "metadata": {},
   "source": [
    "### Make model"
   ]
  },
  {
   "cell_type": "code",
   "execution_count": 92,
   "metadata": {},
   "outputs": [],
   "source": [
    "teg2_columns =  list(model2_df.columns)"
   ]
  },
  {
   "cell_type": "code",
   "execution_count": 93,
   "metadata": {},
   "outputs": [
    {
     "name": "stderr",
     "output_type": "stream",
     "text": [
      "/opt/anaconda3/envs/Capstone2023/lib/python3.10/site-packages/numpy/lib/nanfunctions.py:1217: RuntimeWarning:\n",
      "\n",
      "All-NaN slice encountered\n",
      "\n",
      "/opt/anaconda3/envs/Capstone2023/lib/python3.10/site-packages/numpy/lib/nanfunctions.py:1556: RuntimeWarning:\n",
      "\n",
      "All-NaN slice encountered\n",
      "\n"
     ]
    },
    {
     "name": "stderr",
     "output_type": "stream",
     "text": [
      "/opt/anaconda3/envs/Capstone2023/lib/python3.10/site-packages/numpy/lib/nanfunctions.py:1217: RuntimeWarning:\n",
      "\n",
      "All-NaN slice encountered\n",
      "\n",
      "/opt/anaconda3/envs/Capstone2023/lib/python3.10/site-packages/numpy/lib/nanfunctions.py:1556: RuntimeWarning:\n",
      "\n",
      "All-NaN slice encountered\n",
      "\n",
      "/opt/anaconda3/envs/Capstone2023/lib/python3.10/site-packages/numpy/lib/nanfunctions.py:1217: RuntimeWarning:\n",
      "\n",
      "All-NaN slice encountered\n",
      "\n",
      "/opt/anaconda3/envs/Capstone2023/lib/python3.10/site-packages/numpy/lib/nanfunctions.py:1556: RuntimeWarning:\n",
      "\n",
      "All-NaN slice encountered\n",
      "\n",
      "/opt/anaconda3/envs/Capstone2023/lib/python3.10/site-packages/numpy/lib/nanfunctions.py:1217: RuntimeWarning:\n",
      "\n",
      "All-NaN slice encountered\n",
      "\n",
      "/opt/anaconda3/envs/Capstone2023/lib/python3.10/site-packages/numpy/lib/nanfunctions.py:1556: RuntimeWarning:\n",
      "\n",
      "All-NaN slice encountered\n",
      "\n",
      "/opt/anaconda3/envs/Capstone2023/lib/python3.10/site-packages/numpy/lib/nanfunctions.py:1217: RuntimeWarning:\n",
      "\n",
      "All-NaN slice encountered\n",
      "\n",
      "/opt/anaconda3/envs/Capstone2023/lib/python3.10/site-packages/numpy/lib/nanfunctions.py:1556: RuntimeWarning:\n",
      "\n",
      "All-NaN slice encountered\n",
      "\n",
      "/opt/anaconda3/envs/Capstone2023/lib/python3.10/site-packages/numpy/lib/nanfunctions.py:1217: RuntimeWarning:\n",
      "\n",
      "All-NaN slice encountered\n",
      "\n",
      "/opt/anaconda3/envs/Capstone2023/lib/python3.10/site-packages/numpy/lib/nanfunctions.py:1556: RuntimeWarning:\n",
      "\n",
      "All-NaN slice encountered\n",
      "\n",
      "/opt/anaconda3/envs/Capstone2023/lib/python3.10/site-packages/numpy/lib/nanfunctions.py:1217: RuntimeWarning:\n",
      "\n",
      "All-NaN slice encountered\n",
      "\n",
      "/opt/anaconda3/envs/Capstone2023/lib/python3.10/site-packages/numpy/lib/nanfunctions.py:1556: RuntimeWarning:\n",
      "\n",
      "All-NaN slice encountered\n",
      "\n",
      "/opt/anaconda3/envs/Capstone2023/lib/python3.10/site-packages/numpy/lib/nanfunctions.py:1217: RuntimeWarning:\n",
      "\n",
      "All-NaN slice encountered\n",
      "\n",
      "/opt/anaconda3/envs/Capstone2023/lib/python3.10/site-packages/numpy/lib/nanfunctions.py:1556: RuntimeWarning:\n",
      "\n",
      "All-NaN slice encountered\n",
      "\n",
      "/opt/anaconda3/envs/Capstone2023/lib/python3.10/site-packages/numpy/lib/nanfunctions.py:1217: RuntimeWarning:\n",
      "\n",
      "All-NaN slice encountered\n",
      "\n",
      "/opt/anaconda3/envs/Capstone2023/lib/python3.10/site-packages/numpy/lib/nanfunctions.py:1556: RuntimeWarning:\n",
      "\n",
      "All-NaN slice encountered\n",
      "\n",
      "/opt/anaconda3/envs/Capstone2023/lib/python3.10/site-packages/numpy/lib/nanfunctions.py:1217: RuntimeWarning:\n",
      "\n",
      "All-NaN slice encountered\n",
      "\n",
      "/opt/anaconda3/envs/Capstone2023/lib/python3.10/site-packages/numpy/lib/nanfunctions.py:1556: RuntimeWarning:\n",
      "\n",
      "All-NaN slice encountered\n",
      "\n",
      "/opt/anaconda3/envs/Capstone2023/lib/python3.10/site-packages/numpy/lib/nanfunctions.py:1217: RuntimeWarning:\n",
      "\n",
      "All-NaN slice encountered\n",
      "\n",
      "/opt/anaconda3/envs/Capstone2023/lib/python3.10/site-packages/numpy/lib/nanfunctions.py:1556: RuntimeWarning:\n",
      "\n",
      "All-NaN slice encountered\n",
      "\n",
      "/opt/anaconda3/envs/Capstone2023/lib/python3.10/site-packages/numpy/lib/nanfunctions.py:1217: RuntimeWarning:\n",
      "\n",
      "All-NaN slice encountered\n",
      "\n",
      "/opt/anaconda3/envs/Capstone2023/lib/python3.10/site-packages/numpy/lib/nanfunctions.py:1556: RuntimeWarning:\n",
      "\n",
      "All-NaN slice encountered\n",
      "\n",
      "/opt/anaconda3/envs/Capstone2023/lib/python3.10/site-packages/numpy/lib/nanfunctions.py:1217: RuntimeWarning:\n",
      "\n",
      "All-NaN slice encountered\n",
      "\n",
      "/opt/anaconda3/envs/Capstone2023/lib/python3.10/site-packages/numpy/lib/nanfunctions.py:1556: RuntimeWarning:\n",
      "\n",
      "All-NaN slice encountered\n",
      "\n",
      "/opt/anaconda3/envs/Capstone2023/lib/python3.10/site-packages/numpy/lib/nanfunctions.py:1217: RuntimeWarning:\n",
      "\n",
      "All-NaN slice encountered\n",
      "\n",
      "/opt/anaconda3/envs/Capstone2023/lib/python3.10/site-packages/numpy/lib/nanfunctions.py:1556: RuntimeWarning:\n",
      "\n",
      "All-NaN slice encountered\n",
      "\n",
      "/opt/anaconda3/envs/Capstone2023/lib/python3.10/site-packages/numpy/lib/nanfunctions.py:1217: RuntimeWarning:\n",
      "\n",
      "All-NaN slice encountered\n",
      "\n",
      "/opt/anaconda3/envs/Capstone2023/lib/python3.10/site-packages/numpy/lib/nanfunctions.py:1556: RuntimeWarning:\n",
      "\n",
      "All-NaN slice encountered\n",
      "\n",
      "/opt/anaconda3/envs/Capstone2023/lib/python3.10/site-packages/numpy/lib/nanfunctions.py:1217: RuntimeWarning:\n",
      "\n",
      "All-NaN slice encountered\n",
      "\n",
      "/opt/anaconda3/envs/Capstone2023/lib/python3.10/site-packages/numpy/lib/nanfunctions.py:1556: RuntimeWarning:\n",
      "\n",
      "All-NaN slice encountered\n",
      "\n",
      "/opt/anaconda3/envs/Capstone2023/lib/python3.10/site-packages/numpy/lib/nanfunctions.py:1217: RuntimeWarning:\n",
      "\n",
      "All-NaN slice encountered\n",
      "\n",
      "/opt/anaconda3/envs/Capstone2023/lib/python3.10/site-packages/numpy/lib/nanfunctions.py:1556: RuntimeWarning:\n",
      "\n",
      "All-NaN slice encountered\n",
      "\n",
      "/opt/anaconda3/envs/Capstone2023/lib/python3.10/site-packages/numpy/lib/nanfunctions.py:1217: RuntimeWarning:\n",
      "\n",
      "All-NaN slice encountered\n",
      "\n",
      "/opt/anaconda3/envs/Capstone2023/lib/python3.10/site-packages/numpy/lib/nanfunctions.py:1556: RuntimeWarning:\n",
      "\n",
      "All-NaN slice encountered\n",
      "\n",
      "/opt/anaconda3/envs/Capstone2023/lib/python3.10/site-packages/numpy/lib/nanfunctions.py:1217: RuntimeWarning:\n",
      "\n",
      "All-NaN slice encountered\n",
      "\n",
      "/opt/anaconda3/envs/Capstone2023/lib/python3.10/site-packages/numpy/lib/nanfunctions.py:1556: RuntimeWarning:\n",
      "\n",
      "All-NaN slice encountered\n",
      "\n",
      "/opt/anaconda3/envs/Capstone2023/lib/python3.10/site-packages/numpy/lib/nanfunctions.py:1217: RuntimeWarning:\n",
      "\n",
      "All-NaN slice encountered\n",
      "\n",
      "/opt/anaconda3/envs/Capstone2023/lib/python3.10/site-packages/numpy/lib/nanfunctions.py:1556: RuntimeWarning:\n",
      "\n",
      "All-NaN slice encountered\n",
      "\n",
      "/opt/anaconda3/envs/Capstone2023/lib/python3.10/site-packages/numpy/lib/nanfunctions.py:1217: RuntimeWarning:\n",
      "\n",
      "All-NaN slice encountered\n",
      "\n",
      "/opt/anaconda3/envs/Capstone2023/lib/python3.10/site-packages/numpy/lib/nanfunctions.py:1556: RuntimeWarning:\n",
      "\n",
      "All-NaN slice encountered\n",
      "\n",
      "/opt/anaconda3/envs/Capstone2023/lib/python3.10/site-packages/numpy/lib/nanfunctions.py:1217: RuntimeWarning:\n",
      "\n",
      "All-NaN slice encountered\n",
      "\n",
      "/opt/anaconda3/envs/Capstone2023/lib/python3.10/site-packages/numpy/lib/nanfunctions.py:1556: RuntimeWarning:\n",
      "\n",
      "All-NaN slice encountered\n",
      "\n",
      "/opt/anaconda3/envs/Capstone2023/lib/python3.10/site-packages/numpy/lib/nanfunctions.py:1217: RuntimeWarning:\n",
      "\n",
      "All-NaN slice encountered\n",
      "\n",
      "/opt/anaconda3/envs/Capstone2023/lib/python3.10/site-packages/numpy/lib/nanfunctions.py:1556: RuntimeWarning:\n",
      "\n",
      "All-NaN slice encountered\n",
      "\n",
      "/opt/anaconda3/envs/Capstone2023/lib/python3.10/site-packages/numpy/lib/nanfunctions.py:1217: RuntimeWarning:\n",
      "\n",
      "All-NaN slice encountered\n",
      "\n",
      "/opt/anaconda3/envs/Capstone2023/lib/python3.10/site-packages/numpy/lib/nanfunctions.py:1556: RuntimeWarning:\n",
      "\n",
      "All-NaN slice encountered\n",
      "\n",
      "/opt/anaconda3/envs/Capstone2023/lib/python3.10/site-packages/numpy/lib/nanfunctions.py:1217: RuntimeWarning:\n",
      "\n",
      "All-NaN slice encountered\n",
      "\n",
      "/opt/anaconda3/envs/Capstone2023/lib/python3.10/site-packages/numpy/lib/nanfunctions.py:1556: RuntimeWarning:\n",
      "\n",
      "All-NaN slice encountered\n",
      "\n",
      "/opt/anaconda3/envs/Capstone2023/lib/python3.10/site-packages/numpy/lib/nanfunctions.py:1217: RuntimeWarning:\n",
      "\n",
      "All-NaN slice encountered\n",
      "\n",
      "/opt/anaconda3/envs/Capstone2023/lib/python3.10/site-packages/numpy/lib/nanfunctions.py:1556: RuntimeWarning:\n",
      "\n",
      "All-NaN slice encountered\n",
      "\n",
      "/opt/anaconda3/envs/Capstone2023/lib/python3.10/site-packages/numpy/lib/nanfunctions.py:1217: RuntimeWarning:\n",
      "\n",
      "All-NaN slice encountered\n",
      "\n",
      "/opt/anaconda3/envs/Capstone2023/lib/python3.10/site-packages/numpy/lib/nanfunctions.py:1556: RuntimeWarning:\n",
      "\n",
      "All-NaN slice encountered\n",
      "\n",
      "/opt/anaconda3/envs/Capstone2023/lib/python3.10/site-packages/numpy/lib/nanfunctions.py:1217: RuntimeWarning:\n",
      "\n",
      "All-NaN slice encountered\n",
      "\n",
      "/opt/anaconda3/envs/Capstone2023/lib/python3.10/site-packages/numpy/lib/nanfunctions.py:1556: RuntimeWarning:\n",
      "\n",
      "All-NaN slice encountered\n",
      "\n",
      "/opt/anaconda3/envs/Capstone2023/lib/python3.10/site-packages/numpy/lib/nanfunctions.py:1217: RuntimeWarning:\n",
      "\n",
      "All-NaN slice encountered\n",
      "\n",
      "/opt/anaconda3/envs/Capstone2023/lib/python3.10/site-packages/numpy/lib/nanfunctions.py:1556: RuntimeWarning:\n",
      "\n",
      "All-NaN slice encountered\n",
      "\n",
      "/opt/anaconda3/envs/Capstone2023/lib/python3.10/site-packages/numpy/lib/nanfunctions.py:1217: RuntimeWarning:\n",
      "\n",
      "All-NaN slice encountered\n",
      "\n",
      "/opt/anaconda3/envs/Capstone2023/lib/python3.10/site-packages/numpy/lib/nanfunctions.py:1556: RuntimeWarning:\n",
      "\n",
      "All-NaN slice encountered\n",
      "\n",
      "/opt/anaconda3/envs/Capstone2023/lib/python3.10/site-packages/numpy/lib/nanfunctions.py:1217: RuntimeWarning:\n",
      "\n",
      "All-NaN slice encountered\n",
      "\n",
      "/opt/anaconda3/envs/Capstone2023/lib/python3.10/site-packages/numpy/lib/nanfunctions.py:1556: RuntimeWarning:\n",
      "\n",
      "All-NaN slice encountered\n",
      "\n",
      "/opt/anaconda3/envs/Capstone2023/lib/python3.10/site-packages/numpy/lib/nanfunctions.py:1217: RuntimeWarning:\n",
      "\n",
      "All-NaN slice encountered\n",
      "\n",
      "/opt/anaconda3/envs/Capstone2023/lib/python3.10/site-packages/numpy/lib/nanfunctions.py:1556: RuntimeWarning:\n",
      "\n",
      "All-NaN slice encountered\n",
      "\n",
      "/opt/anaconda3/envs/Capstone2023/lib/python3.10/site-packages/numpy/lib/nanfunctions.py:1217: RuntimeWarning:\n",
      "\n",
      "All-NaN slice encountered\n",
      "\n",
      "/opt/anaconda3/envs/Capstone2023/lib/python3.10/site-packages/numpy/lib/nanfunctions.py:1556: RuntimeWarning:\n",
      "\n",
      "All-NaN slice encountered\n",
      "\n",
      "/opt/anaconda3/envs/Capstone2023/lib/python3.10/site-packages/numpy/lib/nanfunctions.py:1217: RuntimeWarning:\n",
      "\n",
      "All-NaN slice encountered\n",
      "\n",
      "/opt/anaconda3/envs/Capstone2023/lib/python3.10/site-packages/numpy/lib/nanfunctions.py:1556: RuntimeWarning:\n",
      "\n",
      "All-NaN slice encountered\n",
      "\n",
      "/opt/anaconda3/envs/Capstone2023/lib/python3.10/site-packages/numpy/lib/nanfunctions.py:1217: RuntimeWarning:\n",
      "\n",
      "All-NaN slice encountered\n",
      "\n",
      "/opt/anaconda3/envs/Capstone2023/lib/python3.10/site-packages/numpy/lib/nanfunctions.py:1556: RuntimeWarning:\n",
      "\n",
      "All-NaN slice encountered\n",
      "\n",
      "/opt/anaconda3/envs/Capstone2023/lib/python3.10/site-packages/numpy/lib/nanfunctions.py:1217: RuntimeWarning:\n",
      "\n",
      "All-NaN slice encountered\n",
      "\n",
      "/opt/anaconda3/envs/Capstone2023/lib/python3.10/site-packages/numpy/lib/nanfunctions.py:1556: RuntimeWarning:\n",
      "\n",
      "All-NaN slice encountered\n",
      "\n",
      "/opt/anaconda3/envs/Capstone2023/lib/python3.10/site-packages/numpy/lib/nanfunctions.py:1217: RuntimeWarning:\n",
      "\n",
      "All-NaN slice encountered\n",
      "\n",
      "/opt/anaconda3/envs/Capstone2023/lib/python3.10/site-packages/numpy/lib/nanfunctions.py:1556: RuntimeWarning:\n",
      "\n",
      "All-NaN slice encountered\n",
      "\n",
      "/opt/anaconda3/envs/Capstone2023/lib/python3.10/site-packages/numpy/lib/nanfunctions.py:1217: RuntimeWarning:\n",
      "\n",
      "All-NaN slice encountered\n",
      "\n",
      "/opt/anaconda3/envs/Capstone2023/lib/python3.10/site-packages/numpy/lib/nanfunctions.py:1556: RuntimeWarning:\n",
      "\n",
      "All-NaN slice encountered\n",
      "\n",
      "/opt/anaconda3/envs/Capstone2023/lib/python3.10/site-packages/numpy/lib/nanfunctions.py:1217: RuntimeWarning:\n",
      "\n",
      "All-NaN slice encountered\n",
      "\n",
      "/opt/anaconda3/envs/Capstone2023/lib/python3.10/site-packages/numpy/lib/nanfunctions.py:1556: RuntimeWarning:\n",
      "\n",
      "All-NaN slice encountered\n",
      "\n",
      "/opt/anaconda3/envs/Capstone2023/lib/python3.10/site-packages/numpy/lib/nanfunctions.py:1217: RuntimeWarning:\n",
      "\n",
      "All-NaN slice encountered\n",
      "\n",
      "/opt/anaconda3/envs/Capstone2023/lib/python3.10/site-packages/numpy/lib/nanfunctions.py:1556: RuntimeWarning:\n",
      "\n",
      "All-NaN slice encountered\n",
      "\n",
      "/opt/anaconda3/envs/Capstone2023/lib/python3.10/site-packages/numpy/lib/nanfunctions.py:1217: RuntimeWarning:\n",
      "\n",
      "All-NaN slice encountered\n",
      "\n",
      "/opt/anaconda3/envs/Capstone2023/lib/python3.10/site-packages/numpy/lib/nanfunctions.py:1556: RuntimeWarning:\n",
      "\n",
      "All-NaN slice encountered\n",
      "\n",
      "/opt/anaconda3/envs/Capstone2023/lib/python3.10/site-packages/numpy/lib/nanfunctions.py:1217: RuntimeWarning:\n",
      "\n",
      "All-NaN slice encountered\n",
      "\n",
      "/opt/anaconda3/envs/Capstone2023/lib/python3.10/site-packages/numpy/lib/nanfunctions.py:1556: RuntimeWarning:\n",
      "\n",
      "All-NaN slice encountered\n",
      "\n",
      "/opt/anaconda3/envs/Capstone2023/lib/python3.10/site-packages/numpy/lib/nanfunctions.py:1217: RuntimeWarning:\n",
      "\n",
      "All-NaN slice encountered\n",
      "\n",
      "/opt/anaconda3/envs/Capstone2023/lib/python3.10/site-packages/numpy/lib/nanfunctions.py:1556: RuntimeWarning:\n",
      "\n",
      "All-NaN slice encountered\n",
      "\n",
      "/opt/anaconda3/envs/Capstone2023/lib/python3.10/site-packages/numpy/lib/nanfunctions.py:1217: RuntimeWarning:\n",
      "\n",
      "All-NaN slice encountered\n",
      "\n",
      "/opt/anaconda3/envs/Capstone2023/lib/python3.10/site-packages/numpy/lib/nanfunctions.py:1556: RuntimeWarning:\n",
      "\n",
      "All-NaN slice encountered\n",
      "\n",
      "/opt/anaconda3/envs/Capstone2023/lib/python3.10/site-packages/numpy/lib/nanfunctions.py:1217: RuntimeWarning:\n",
      "\n",
      "All-NaN slice encountered\n",
      "\n",
      "/opt/anaconda3/envs/Capstone2023/lib/python3.10/site-packages/numpy/lib/nanfunctions.py:1556: RuntimeWarning:\n",
      "\n",
      "All-NaN slice encountered\n",
      "\n",
      "/opt/anaconda3/envs/Capstone2023/lib/python3.10/site-packages/numpy/lib/nanfunctions.py:1217: RuntimeWarning:\n",
      "\n",
      "All-NaN slice encountered\n",
      "\n",
      "/opt/anaconda3/envs/Capstone2023/lib/python3.10/site-packages/numpy/lib/nanfunctions.py:1556: RuntimeWarning:\n",
      "\n",
      "All-NaN slice encountered\n",
      "\n",
      "/opt/anaconda3/envs/Capstone2023/lib/python3.10/site-packages/numpy/lib/nanfunctions.py:1217: RuntimeWarning:\n",
      "\n",
      "All-NaN slice encountered\n",
      "\n",
      "/opt/anaconda3/envs/Capstone2023/lib/python3.10/site-packages/numpy/lib/nanfunctions.py:1556: RuntimeWarning:\n",
      "\n",
      "All-NaN slice encountered\n",
      "\n",
      "/opt/anaconda3/envs/Capstone2023/lib/python3.10/site-packages/numpy/lib/nanfunctions.py:1217: RuntimeWarning:\n",
      "\n",
      "All-NaN slice encountered\n",
      "\n",
      "/opt/anaconda3/envs/Capstone2023/lib/python3.10/site-packages/numpy/lib/nanfunctions.py:1556: RuntimeWarning:\n",
      "\n",
      "All-NaN slice encountered\n",
      "\n",
      "/opt/anaconda3/envs/Capstone2023/lib/python3.10/site-packages/numpy/lib/nanfunctions.py:1217: RuntimeWarning:\n",
      "\n",
      "All-NaN slice encountered\n",
      "\n",
      "/opt/anaconda3/envs/Capstone2023/lib/python3.10/site-packages/numpy/lib/nanfunctions.py:1556: RuntimeWarning:\n",
      "\n",
      "All-NaN slice encountered\n",
      "\n",
      "/opt/anaconda3/envs/Capstone2023/lib/python3.10/site-packages/numpy/lib/nanfunctions.py:1217: RuntimeWarning:\n",
      "\n",
      "All-NaN slice encountered\n",
      "\n",
      "/opt/anaconda3/envs/Capstone2023/lib/python3.10/site-packages/numpy/lib/nanfunctions.py:1556: RuntimeWarning:\n",
      "\n",
      "All-NaN slice encountered\n",
      "\n",
      "/opt/anaconda3/envs/Capstone2023/lib/python3.10/site-packages/numpy/lib/nanfunctions.py:1217: RuntimeWarning:\n",
      "\n",
      "All-NaN slice encountered\n",
      "\n",
      "/opt/anaconda3/envs/Capstone2023/lib/python3.10/site-packages/numpy/lib/nanfunctions.py:1556: RuntimeWarning:\n",
      "\n",
      "All-NaN slice encountered\n",
      "\n",
      "/opt/anaconda3/envs/Capstone2023/lib/python3.10/site-packages/numpy/lib/nanfunctions.py:1217: RuntimeWarning:\n",
      "\n",
      "All-NaN slice encountered\n",
      "\n",
      "/opt/anaconda3/envs/Capstone2023/lib/python3.10/site-packages/numpy/lib/nanfunctions.py:1556: RuntimeWarning:\n",
      "\n",
      "All-NaN slice encountered\n",
      "\n",
      "/opt/anaconda3/envs/Capstone2023/lib/python3.10/site-packages/numpy/lib/nanfunctions.py:1217: RuntimeWarning:\n",
      "\n",
      "All-NaN slice encountered\n",
      "\n",
      "/opt/anaconda3/envs/Capstone2023/lib/python3.10/site-packages/numpy/lib/nanfunctions.py:1556: RuntimeWarning:\n",
      "\n",
      "All-NaN slice encountered\n",
      "\n",
      "/opt/anaconda3/envs/Capstone2023/lib/python3.10/site-packages/numpy/lib/nanfunctions.py:1217: RuntimeWarning:\n",
      "\n",
      "All-NaN slice encountered\n",
      "\n",
      "/opt/anaconda3/envs/Capstone2023/lib/python3.10/site-packages/numpy/lib/nanfunctions.py:1556: RuntimeWarning:\n",
      "\n",
      "All-NaN slice encountered\n",
      "\n",
      "/opt/anaconda3/envs/Capstone2023/lib/python3.10/site-packages/numpy/lib/nanfunctions.py:1217: RuntimeWarning:\n",
      "\n",
      "All-NaN slice encountered\n",
      "\n",
      "/opt/anaconda3/envs/Capstone2023/lib/python3.10/site-packages/numpy/lib/nanfunctions.py:1556: RuntimeWarning:\n",
      "\n",
      "All-NaN slice encountered\n",
      "\n",
      "/opt/anaconda3/envs/Capstone2023/lib/python3.10/site-packages/numpy/lib/nanfunctions.py:1217: RuntimeWarning:\n",
      "\n",
      "All-NaN slice encountered\n",
      "\n",
      "/opt/anaconda3/envs/Capstone2023/lib/python3.10/site-packages/numpy/lib/nanfunctions.py:1556: RuntimeWarning:\n",
      "\n",
      "All-NaN slice encountered\n",
      "\n",
      "/opt/anaconda3/envs/Capstone2023/lib/python3.10/site-packages/numpy/lib/nanfunctions.py:1217: RuntimeWarning:\n",
      "\n",
      "All-NaN slice encountered\n",
      "\n",
      "/opt/anaconda3/envs/Capstone2023/lib/python3.10/site-packages/numpy/lib/nanfunctions.py:1556: RuntimeWarning:\n",
      "\n",
      "All-NaN slice encountered\n",
      "\n",
      "/opt/anaconda3/envs/Capstone2023/lib/python3.10/site-packages/numpy/lib/nanfunctions.py:1217: RuntimeWarning:\n",
      "\n",
      "All-NaN slice encountered\n",
      "\n",
      "/opt/anaconda3/envs/Capstone2023/lib/python3.10/site-packages/numpy/lib/nanfunctions.py:1556: RuntimeWarning:\n",
      "\n",
      "All-NaN slice encountered\n",
      "\n",
      "/opt/anaconda3/envs/Capstone2023/lib/python3.10/site-packages/numpy/lib/nanfunctions.py:1217: RuntimeWarning:\n",
      "\n",
      "All-NaN slice encountered\n",
      "\n",
      "/opt/anaconda3/envs/Capstone2023/lib/python3.10/site-packages/numpy/lib/nanfunctions.py:1556: RuntimeWarning:\n",
      "\n",
      "All-NaN slice encountered\n",
      "\n",
      "/opt/anaconda3/envs/Capstone2023/lib/python3.10/site-packages/numpy/lib/nanfunctions.py:1217: RuntimeWarning:\n",
      "\n",
      "All-NaN slice encountered\n",
      "\n",
      "/opt/anaconda3/envs/Capstone2023/lib/python3.10/site-packages/numpy/lib/nanfunctions.py:1556: RuntimeWarning:\n",
      "\n",
      "All-NaN slice encountered\n",
      "\n",
      "/opt/anaconda3/envs/Capstone2023/lib/python3.10/site-packages/numpy/lib/nanfunctions.py:1217: RuntimeWarning:\n",
      "\n",
      "All-NaN slice encountered\n",
      "\n",
      "/opt/anaconda3/envs/Capstone2023/lib/python3.10/site-packages/numpy/lib/nanfunctions.py:1556: RuntimeWarning:\n",
      "\n",
      "All-NaN slice encountered\n",
      "\n",
      "/opt/anaconda3/envs/Capstone2023/lib/python3.10/site-packages/numpy/lib/nanfunctions.py:1217: RuntimeWarning:\n",
      "\n",
      "All-NaN slice encountered\n",
      "\n",
      "/opt/anaconda3/envs/Capstone2023/lib/python3.10/site-packages/numpy/lib/nanfunctions.py:1556: RuntimeWarning:\n",
      "\n",
      "All-NaN slice encountered\n",
      "\n",
      "/opt/anaconda3/envs/Capstone2023/lib/python3.10/site-packages/numpy/lib/nanfunctions.py:1217: RuntimeWarning:\n",
      "\n",
      "All-NaN slice encountered\n",
      "\n",
      "/opt/anaconda3/envs/Capstone2023/lib/python3.10/site-packages/numpy/lib/nanfunctions.py:1556: RuntimeWarning:\n",
      "\n",
      "All-NaN slice encountered\n",
      "\n",
      "/opt/anaconda3/envs/Capstone2023/lib/python3.10/site-packages/numpy/lib/nanfunctions.py:1217: RuntimeWarning:\n",
      "\n",
      "All-NaN slice encountered\n",
      "\n",
      "/opt/anaconda3/envs/Capstone2023/lib/python3.10/site-packages/numpy/lib/nanfunctions.py:1556: RuntimeWarning:\n",
      "\n",
      "All-NaN slice encountered\n",
      "\n",
      "/opt/anaconda3/envs/Capstone2023/lib/python3.10/site-packages/numpy/lib/nanfunctions.py:1217: RuntimeWarning:\n",
      "\n",
      "All-NaN slice encountered\n",
      "\n",
      "/opt/anaconda3/envs/Capstone2023/lib/python3.10/site-packages/numpy/lib/nanfunctions.py:1556: RuntimeWarning:\n",
      "\n",
      "All-NaN slice encountered\n",
      "\n",
      "/opt/anaconda3/envs/Capstone2023/lib/python3.10/site-packages/numpy/lib/nanfunctions.py:1217: RuntimeWarning:\n",
      "\n",
      "All-NaN slice encountered\n",
      "\n",
      "/opt/anaconda3/envs/Capstone2023/lib/python3.10/site-packages/numpy/lib/nanfunctions.py:1556: RuntimeWarning:\n",
      "\n",
      "All-NaN slice encountered\n",
      "\n",
      "/opt/anaconda3/envs/Capstone2023/lib/python3.10/site-packages/numpy/lib/nanfunctions.py:1217: RuntimeWarning:\n",
      "\n",
      "All-NaN slice encountered\n",
      "\n",
      "/opt/anaconda3/envs/Capstone2023/lib/python3.10/site-packages/numpy/lib/nanfunctions.py:1556: RuntimeWarning:\n",
      "\n",
      "All-NaN slice encountered\n",
      "\n",
      "/opt/anaconda3/envs/Capstone2023/lib/python3.10/site-packages/numpy/lib/nanfunctions.py:1217: RuntimeWarning:\n",
      "\n",
      "All-NaN slice encountered\n",
      "\n",
      "/opt/anaconda3/envs/Capstone2023/lib/python3.10/site-packages/numpy/lib/nanfunctions.py:1556: RuntimeWarning:\n",
      "\n",
      "All-NaN slice encountered\n",
      "\n",
      "/opt/anaconda3/envs/Capstone2023/lib/python3.10/site-packages/numpy/lib/nanfunctions.py:1217: RuntimeWarning:\n",
      "\n",
      "All-NaN slice encountered\n",
      "\n",
      "/opt/anaconda3/envs/Capstone2023/lib/python3.10/site-packages/numpy/lib/nanfunctions.py:1556: RuntimeWarning:\n",
      "\n",
      "All-NaN slice encountered\n",
      "\n",
      "/opt/anaconda3/envs/Capstone2023/lib/python3.10/site-packages/numpy/lib/nanfunctions.py:1217: RuntimeWarning:\n",
      "\n",
      "All-NaN slice encountered\n",
      "\n",
      "/opt/anaconda3/envs/Capstone2023/lib/python3.10/site-packages/numpy/lib/nanfunctions.py:1556: RuntimeWarning:\n",
      "\n",
      "All-NaN slice encountered\n",
      "\n",
      "/opt/anaconda3/envs/Capstone2023/lib/python3.10/site-packages/numpy/lib/nanfunctions.py:1217: RuntimeWarning:\n",
      "\n",
      "All-NaN slice encountered\n",
      "\n",
      "/opt/anaconda3/envs/Capstone2023/lib/python3.10/site-packages/numpy/lib/nanfunctions.py:1556: RuntimeWarning:\n",
      "\n",
      "All-NaN slice encountered\n",
      "\n",
      "/opt/anaconda3/envs/Capstone2023/lib/python3.10/site-packages/numpy/lib/nanfunctions.py:1217: RuntimeWarning:\n",
      "\n",
      "All-NaN slice encountered\n",
      "\n",
      "/opt/anaconda3/envs/Capstone2023/lib/python3.10/site-packages/numpy/lib/nanfunctions.py:1556: RuntimeWarning:\n",
      "\n",
      "All-NaN slice encountered\n",
      "\n",
      "/opt/anaconda3/envs/Capstone2023/lib/python3.10/site-packages/numpy/lib/nanfunctions.py:1217: RuntimeWarning:\n",
      "\n",
      "All-NaN slice encountered\n",
      "\n",
      "/opt/anaconda3/envs/Capstone2023/lib/python3.10/site-packages/numpy/lib/nanfunctions.py:1556: RuntimeWarning:\n",
      "\n",
      "All-NaN slice encountered\n",
      "\n",
      "/opt/anaconda3/envs/Capstone2023/lib/python3.10/site-packages/numpy/lib/nanfunctions.py:1217: RuntimeWarning:\n",
      "\n",
      "All-NaN slice encountered\n",
      "\n",
      "/opt/anaconda3/envs/Capstone2023/lib/python3.10/site-packages/numpy/lib/nanfunctions.py:1556: RuntimeWarning:\n",
      "\n",
      "All-NaN slice encountered\n",
      "\n",
      "/opt/anaconda3/envs/Capstone2023/lib/python3.10/site-packages/numpy/lib/nanfunctions.py:1217: RuntimeWarning:\n",
      "\n",
      "All-NaN slice encountered\n",
      "\n",
      "/opt/anaconda3/envs/Capstone2023/lib/python3.10/site-packages/numpy/lib/nanfunctions.py:1556: RuntimeWarning:\n",
      "\n",
      "All-NaN slice encountered\n",
      "\n",
      "/opt/anaconda3/envs/Capstone2023/lib/python3.10/site-packages/numpy/lib/nanfunctions.py:1217: RuntimeWarning:\n",
      "\n",
      "All-NaN slice encountered\n",
      "\n",
      "/opt/anaconda3/envs/Capstone2023/lib/python3.10/site-packages/numpy/lib/nanfunctions.py:1556: RuntimeWarning:\n",
      "\n",
      "All-NaN slice encountered\n",
      "\n",
      "/opt/anaconda3/envs/Capstone2023/lib/python3.10/site-packages/numpy/lib/nanfunctions.py:1217: RuntimeWarning:\n",
      "\n",
      "All-NaN slice encountered\n",
      "\n",
      "/opt/anaconda3/envs/Capstone2023/lib/python3.10/site-packages/numpy/lib/nanfunctions.py:1556: RuntimeWarning:\n",
      "\n",
      "All-NaN slice encountered\n",
      "\n",
      "/opt/anaconda3/envs/Capstone2023/lib/python3.10/site-packages/numpy/lib/nanfunctions.py:1217: RuntimeWarning:\n",
      "\n",
      "All-NaN slice encountered\n",
      "\n",
      "/opt/anaconda3/envs/Capstone2023/lib/python3.10/site-packages/numpy/lib/nanfunctions.py:1556: RuntimeWarning:\n",
      "\n",
      "All-NaN slice encountered\n",
      "\n",
      "/opt/anaconda3/envs/Capstone2023/lib/python3.10/site-packages/numpy/lib/nanfunctions.py:1217: RuntimeWarning:\n",
      "\n",
      "All-NaN slice encountered\n",
      "\n",
      "/opt/anaconda3/envs/Capstone2023/lib/python3.10/site-packages/numpy/lib/nanfunctions.py:1556: RuntimeWarning:\n",
      "\n",
      "All-NaN slice encountered\n",
      "\n",
      "/opt/anaconda3/envs/Capstone2023/lib/python3.10/site-packages/numpy/lib/nanfunctions.py:1217: RuntimeWarning:\n",
      "\n",
      "All-NaN slice encountered\n",
      "\n",
      "/opt/anaconda3/envs/Capstone2023/lib/python3.10/site-packages/numpy/lib/nanfunctions.py:1556: RuntimeWarning:\n",
      "\n",
      "All-NaN slice encountered\n",
      "\n",
      "/opt/anaconda3/envs/Capstone2023/lib/python3.10/site-packages/numpy/lib/nanfunctions.py:1217: RuntimeWarning:\n",
      "\n",
      "All-NaN slice encountered\n",
      "\n",
      "/opt/anaconda3/envs/Capstone2023/lib/python3.10/site-packages/numpy/lib/nanfunctions.py:1556: RuntimeWarning:\n",
      "\n",
      "All-NaN slice encountered\n",
      "\n",
      "/opt/anaconda3/envs/Capstone2023/lib/python3.10/site-packages/numpy/lib/nanfunctions.py:1217: RuntimeWarning:\n",
      "\n",
      "All-NaN slice encountered\n",
      "\n",
      "/opt/anaconda3/envs/Capstone2023/lib/python3.10/site-packages/numpy/lib/nanfunctions.py:1556: RuntimeWarning:\n",
      "\n",
      "All-NaN slice encountered\n",
      "\n",
      "/opt/anaconda3/envs/Capstone2023/lib/python3.10/site-packages/numpy/lib/nanfunctions.py:1217: RuntimeWarning:\n",
      "\n",
      "All-NaN slice encountered\n",
      "\n",
      "/opt/anaconda3/envs/Capstone2023/lib/python3.10/site-packages/numpy/lib/nanfunctions.py:1556: RuntimeWarning:\n",
      "\n",
      "All-NaN slice encountered\n",
      "\n",
      "/opt/anaconda3/envs/Capstone2023/lib/python3.10/site-packages/numpy/lib/nanfunctions.py:1217: RuntimeWarning:\n",
      "\n",
      "All-NaN slice encountered\n",
      "\n",
      "/opt/anaconda3/envs/Capstone2023/lib/python3.10/site-packages/numpy/lib/nanfunctions.py:1556: RuntimeWarning:\n",
      "\n",
      "All-NaN slice encountered\n",
      "\n",
      "/opt/anaconda3/envs/Capstone2023/lib/python3.10/site-packages/numpy/lib/nanfunctions.py:1217: RuntimeWarning:\n",
      "\n",
      "All-NaN slice encountered\n",
      "\n",
      "/opt/anaconda3/envs/Capstone2023/lib/python3.10/site-packages/numpy/lib/nanfunctions.py:1556: RuntimeWarning:\n",
      "\n",
      "All-NaN slice encountered\n",
      "\n",
      "/opt/anaconda3/envs/Capstone2023/lib/python3.10/site-packages/numpy/lib/nanfunctions.py:1217: RuntimeWarning:\n",
      "\n",
      "All-NaN slice encountered\n",
      "\n",
      "/opt/anaconda3/envs/Capstone2023/lib/python3.10/site-packages/numpy/lib/nanfunctions.py:1556: RuntimeWarning:\n",
      "\n",
      "All-NaN slice encountered\n",
      "\n",
      "/opt/anaconda3/envs/Capstone2023/lib/python3.10/site-packages/numpy/lib/nanfunctions.py:1217: RuntimeWarning:\n",
      "\n",
      "All-NaN slice encountered\n",
      "\n",
      "/opt/anaconda3/envs/Capstone2023/lib/python3.10/site-packages/numpy/lib/nanfunctions.py:1556: RuntimeWarning:\n",
      "\n",
      "All-NaN slice encountered\n",
      "\n",
      "/opt/anaconda3/envs/Capstone2023/lib/python3.10/site-packages/numpy/lib/nanfunctions.py:1217: RuntimeWarning:\n",
      "\n",
      "All-NaN slice encountered\n",
      "\n",
      "/opt/anaconda3/envs/Capstone2023/lib/python3.10/site-packages/numpy/lib/nanfunctions.py:1556: RuntimeWarning:\n",
      "\n",
      "All-NaN slice encountered\n",
      "\n",
      "/opt/anaconda3/envs/Capstone2023/lib/python3.10/site-packages/numpy/lib/nanfunctions.py:1217: RuntimeWarning:\n",
      "\n",
      "All-NaN slice encountered\n",
      "\n",
      "/opt/anaconda3/envs/Capstone2023/lib/python3.10/site-packages/numpy/lib/nanfunctions.py:1556: RuntimeWarning:\n",
      "\n",
      "All-NaN slice encountered\n",
      "\n",
      "/opt/anaconda3/envs/Capstone2023/lib/python3.10/site-packages/numpy/lib/nanfunctions.py:1217: RuntimeWarning:\n",
      "\n",
      "All-NaN slice encountered\n",
      "\n",
      "/opt/anaconda3/envs/Capstone2023/lib/python3.10/site-packages/numpy/lib/nanfunctions.py:1556: RuntimeWarning:\n",
      "\n",
      "All-NaN slice encountered\n",
      "\n",
      "/opt/anaconda3/envs/Capstone2023/lib/python3.10/site-packages/numpy/lib/nanfunctions.py:1217: RuntimeWarning:\n",
      "\n",
      "All-NaN slice encountered\n",
      "\n",
      "/opt/anaconda3/envs/Capstone2023/lib/python3.10/site-packages/numpy/lib/nanfunctions.py:1556: RuntimeWarning:\n",
      "\n",
      "All-NaN slice encountered\n",
      "\n",
      "/opt/anaconda3/envs/Capstone2023/lib/python3.10/site-packages/numpy/lib/nanfunctions.py:1217: RuntimeWarning:\n",
      "\n",
      "All-NaN slice encountered\n",
      "\n",
      "/opt/anaconda3/envs/Capstone2023/lib/python3.10/site-packages/numpy/lib/nanfunctions.py:1556: RuntimeWarning:\n",
      "\n",
      "All-NaN slice encountered\n",
      "\n",
      "/opt/anaconda3/envs/Capstone2023/lib/python3.10/site-packages/numpy/lib/nanfunctions.py:1217: RuntimeWarning:\n",
      "\n",
      "All-NaN slice encountered\n",
      "\n",
      "/opt/anaconda3/envs/Capstone2023/lib/python3.10/site-packages/numpy/lib/nanfunctions.py:1556: RuntimeWarning:\n",
      "\n",
      "All-NaN slice encountered\n",
      "\n",
      "/opt/anaconda3/envs/Capstone2023/lib/python3.10/site-packages/numpy/lib/nanfunctions.py:1217: RuntimeWarning:\n",
      "\n",
      "All-NaN slice encountered\n",
      "\n",
      "/opt/anaconda3/envs/Capstone2023/lib/python3.10/site-packages/numpy/lib/nanfunctions.py:1556: RuntimeWarning:\n",
      "\n",
      "All-NaN slice encountered\n",
      "\n",
      "/opt/anaconda3/envs/Capstone2023/lib/python3.10/site-packages/numpy/lib/nanfunctions.py:1217: RuntimeWarning:\n",
      "\n",
      "All-NaN slice encountered\n",
      "\n",
      "/opt/anaconda3/envs/Capstone2023/lib/python3.10/site-packages/numpy/lib/nanfunctions.py:1556: RuntimeWarning:\n",
      "\n",
      "All-NaN slice encountered\n",
      "\n",
      "/opt/anaconda3/envs/Capstone2023/lib/python3.10/site-packages/numpy/lib/nanfunctions.py:1217: RuntimeWarning:\n",
      "\n",
      "All-NaN slice encountered\n",
      "\n",
      "/opt/anaconda3/envs/Capstone2023/lib/python3.10/site-packages/numpy/lib/nanfunctions.py:1556: RuntimeWarning:\n",
      "\n",
      "All-NaN slice encountered\n",
      "\n",
      "/opt/anaconda3/envs/Capstone2023/lib/python3.10/site-packages/numpy/lib/nanfunctions.py:1217: RuntimeWarning:\n",
      "\n",
      "All-NaN slice encountered\n",
      "\n",
      "/opt/anaconda3/envs/Capstone2023/lib/python3.10/site-packages/numpy/lib/nanfunctions.py:1556: RuntimeWarning:\n",
      "\n",
      "All-NaN slice encountered\n",
      "\n",
      "/opt/anaconda3/envs/Capstone2023/lib/python3.10/site-packages/numpy/lib/nanfunctions.py:1217: RuntimeWarning:\n",
      "\n",
      "All-NaN slice encountered\n",
      "\n",
      "/opt/anaconda3/envs/Capstone2023/lib/python3.10/site-packages/numpy/lib/nanfunctions.py:1556: RuntimeWarning:\n",
      "\n",
      "All-NaN slice encountered\n",
      "\n",
      "/opt/anaconda3/envs/Capstone2023/lib/python3.10/site-packages/numpy/lib/nanfunctions.py:1217: RuntimeWarning:\n",
      "\n",
      "All-NaN slice encountered\n",
      "\n",
      "/opt/anaconda3/envs/Capstone2023/lib/python3.10/site-packages/numpy/lib/nanfunctions.py:1556: RuntimeWarning:\n",
      "\n",
      "All-NaN slice encountered\n",
      "\n",
      "/opt/anaconda3/envs/Capstone2023/lib/python3.10/site-packages/numpy/lib/nanfunctions.py:1217: RuntimeWarning:\n",
      "\n",
      "All-NaN slice encountered\n",
      "\n",
      "/opt/anaconda3/envs/Capstone2023/lib/python3.10/site-packages/numpy/lib/nanfunctions.py:1556: RuntimeWarning:\n",
      "\n",
      "All-NaN slice encountered\n",
      "\n",
      "/opt/anaconda3/envs/Capstone2023/lib/python3.10/site-packages/numpy/lib/nanfunctions.py:1217: RuntimeWarning:\n",
      "\n",
      "All-NaN slice encountered\n",
      "\n",
      "/opt/anaconda3/envs/Capstone2023/lib/python3.10/site-packages/numpy/lib/nanfunctions.py:1556: RuntimeWarning:\n",
      "\n",
      "All-NaN slice encountered\n",
      "\n",
      "/opt/anaconda3/envs/Capstone2023/lib/python3.10/site-packages/numpy/lib/nanfunctions.py:1217: RuntimeWarning:\n",
      "\n",
      "All-NaN slice encountered\n",
      "\n",
      "/opt/anaconda3/envs/Capstone2023/lib/python3.10/site-packages/numpy/lib/nanfunctions.py:1556: RuntimeWarning:\n",
      "\n",
      "All-NaN slice encountered\n",
      "\n",
      "/opt/anaconda3/envs/Capstone2023/lib/python3.10/site-packages/numpy/lib/nanfunctions.py:1217: RuntimeWarning:\n",
      "\n",
      "All-NaN slice encountered\n",
      "\n",
      "/opt/anaconda3/envs/Capstone2023/lib/python3.10/site-packages/numpy/lib/nanfunctions.py:1556: RuntimeWarning:\n",
      "\n",
      "All-NaN slice encountered\n",
      "\n",
      "/opt/anaconda3/envs/Capstone2023/lib/python3.10/site-packages/numpy/lib/nanfunctions.py:1217: RuntimeWarning:\n",
      "\n",
      "All-NaN slice encountered\n",
      "\n",
      "/opt/anaconda3/envs/Capstone2023/lib/python3.10/site-packages/numpy/lib/nanfunctions.py:1556: RuntimeWarning:\n",
      "\n",
      "All-NaN slice encountered\n",
      "\n",
      "/opt/anaconda3/envs/Capstone2023/lib/python3.10/site-packages/numpy/lib/nanfunctions.py:1217: RuntimeWarning:\n",
      "\n",
      "All-NaN slice encountered\n",
      "\n",
      "/opt/anaconda3/envs/Capstone2023/lib/python3.10/site-packages/numpy/lib/nanfunctions.py:1556: RuntimeWarning:\n",
      "\n",
      "All-NaN slice encountered\n",
      "\n",
      "/opt/anaconda3/envs/Capstone2023/lib/python3.10/site-packages/numpy/lib/nanfunctions.py:1217: RuntimeWarning:\n",
      "\n",
      "All-NaN slice encountered\n",
      "\n",
      "/opt/anaconda3/envs/Capstone2023/lib/python3.10/site-packages/numpy/lib/nanfunctions.py:1556: RuntimeWarning:\n",
      "\n",
      "All-NaN slice encountered\n",
      "\n",
      "/opt/anaconda3/envs/Capstone2023/lib/python3.10/site-packages/numpy/lib/nanfunctions.py:1217: RuntimeWarning:\n",
      "\n",
      "All-NaN slice encountered\n",
      "\n",
      "/opt/anaconda3/envs/Capstone2023/lib/python3.10/site-packages/numpy/lib/nanfunctions.py:1556: RuntimeWarning:\n",
      "\n",
      "All-NaN slice encountered\n",
      "\n",
      "/opt/anaconda3/envs/Capstone2023/lib/python3.10/site-packages/numpy/lib/nanfunctions.py:1217: RuntimeWarning:\n",
      "\n",
      "All-NaN slice encountered\n",
      "\n",
      "/opt/anaconda3/envs/Capstone2023/lib/python3.10/site-packages/numpy/lib/nanfunctions.py:1556: RuntimeWarning:\n",
      "\n",
      "All-NaN slice encountered\n",
      "\n",
      "/opt/anaconda3/envs/Capstone2023/lib/python3.10/site-packages/numpy/lib/nanfunctions.py:1217: RuntimeWarning:\n",
      "\n",
      "All-NaN slice encountered\n",
      "\n",
      "/opt/anaconda3/envs/Capstone2023/lib/python3.10/site-packages/numpy/lib/nanfunctions.py:1556: RuntimeWarning:\n",
      "\n",
      "All-NaN slice encountered\n",
      "\n",
      "/opt/anaconda3/envs/Capstone2023/lib/python3.10/site-packages/numpy/lib/nanfunctions.py:1217: RuntimeWarning:\n",
      "\n",
      "All-NaN slice encountered\n",
      "\n",
      "/opt/anaconda3/envs/Capstone2023/lib/python3.10/site-packages/numpy/lib/nanfunctions.py:1556: RuntimeWarning:\n",
      "\n",
      "All-NaN slice encountered\n",
      "\n",
      "/opt/anaconda3/envs/Capstone2023/lib/python3.10/site-packages/numpy/lib/nanfunctions.py:1217: RuntimeWarning:\n",
      "\n",
      "All-NaN slice encountered\n",
      "\n",
      "/opt/anaconda3/envs/Capstone2023/lib/python3.10/site-packages/numpy/lib/nanfunctions.py:1556: RuntimeWarning:\n",
      "\n",
      "All-NaN slice encountered\n",
      "\n",
      "/opt/anaconda3/envs/Capstone2023/lib/python3.10/site-packages/numpy/lib/nanfunctions.py:1217: RuntimeWarning:\n",
      "\n",
      "All-NaN slice encountered\n",
      "\n",
      "/opt/anaconda3/envs/Capstone2023/lib/python3.10/site-packages/numpy/lib/nanfunctions.py:1556: RuntimeWarning:\n",
      "\n",
      "All-NaN slice encountered\n",
      "\n",
      "/opt/anaconda3/envs/Capstone2023/lib/python3.10/site-packages/numpy/lib/nanfunctions.py:1217: RuntimeWarning:\n",
      "\n",
      "All-NaN slice encountered\n",
      "\n",
      "/opt/anaconda3/envs/Capstone2023/lib/python3.10/site-packages/numpy/lib/nanfunctions.py:1556: RuntimeWarning:\n",
      "\n",
      "All-NaN slice encountered\n",
      "\n",
      "/opt/anaconda3/envs/Capstone2023/lib/python3.10/site-packages/numpy/lib/nanfunctions.py:1217: RuntimeWarning:\n",
      "\n",
      "All-NaN slice encountered\n",
      "\n",
      "/opt/anaconda3/envs/Capstone2023/lib/python3.10/site-packages/numpy/lib/nanfunctions.py:1556: RuntimeWarning:\n",
      "\n",
      "All-NaN slice encountered\n",
      "\n",
      "/opt/anaconda3/envs/Capstone2023/lib/python3.10/site-packages/numpy/lib/nanfunctions.py:1217: RuntimeWarning:\n",
      "\n",
      "All-NaN slice encountered\n",
      "\n",
      "/opt/anaconda3/envs/Capstone2023/lib/python3.10/site-packages/numpy/lib/nanfunctions.py:1556: RuntimeWarning:\n",
      "\n",
      "All-NaN slice encountered\n",
      "\n",
      "/opt/anaconda3/envs/Capstone2023/lib/python3.10/site-packages/numpy/lib/nanfunctions.py:1217: RuntimeWarning:\n",
      "\n",
      "All-NaN slice encountered\n",
      "\n",
      "/opt/anaconda3/envs/Capstone2023/lib/python3.10/site-packages/numpy/lib/nanfunctions.py:1556: RuntimeWarning:\n",
      "\n",
      "All-NaN slice encountered\n",
      "\n",
      "/opt/anaconda3/envs/Capstone2023/lib/python3.10/site-packages/numpy/lib/nanfunctions.py:1217: RuntimeWarning:\n",
      "\n",
      "All-NaN slice encountered\n",
      "\n",
      "/opt/anaconda3/envs/Capstone2023/lib/python3.10/site-packages/numpy/lib/nanfunctions.py:1556: RuntimeWarning:\n",
      "\n",
      "All-NaN slice encountered\n",
      "\n",
      "/opt/anaconda3/envs/Capstone2023/lib/python3.10/site-packages/numpy/lib/nanfunctions.py:1217: RuntimeWarning:\n",
      "\n",
      "All-NaN slice encountered\n",
      "\n",
      "/opt/anaconda3/envs/Capstone2023/lib/python3.10/site-packages/numpy/lib/nanfunctions.py:1556: RuntimeWarning:\n",
      "\n",
      "All-NaN slice encountered\n",
      "\n",
      "/opt/anaconda3/envs/Capstone2023/lib/python3.10/site-packages/numpy/lib/nanfunctions.py:1217: RuntimeWarning:\n",
      "\n",
      "All-NaN slice encountered\n",
      "\n",
      "/opt/anaconda3/envs/Capstone2023/lib/python3.10/site-packages/numpy/lib/nanfunctions.py:1556: RuntimeWarning:\n",
      "\n",
      "All-NaN slice encountered\n",
      "\n",
      "/opt/anaconda3/envs/Capstone2023/lib/python3.10/site-packages/numpy/lib/nanfunctions.py:1217: RuntimeWarning:\n",
      "\n",
      "All-NaN slice encountered\n",
      "\n",
      "/opt/anaconda3/envs/Capstone2023/lib/python3.10/site-packages/numpy/lib/nanfunctions.py:1556: RuntimeWarning:\n",
      "\n",
      "All-NaN slice encountered\n",
      "\n",
      "/opt/anaconda3/envs/Capstone2023/lib/python3.10/site-packages/numpy/lib/nanfunctions.py:1217: RuntimeWarning:\n",
      "\n",
      "All-NaN slice encountered\n",
      "\n",
      "/opt/anaconda3/envs/Capstone2023/lib/python3.10/site-packages/numpy/lib/nanfunctions.py:1556: RuntimeWarning:\n",
      "\n",
      "All-NaN slice encountered\n",
      "\n",
      "/opt/anaconda3/envs/Capstone2023/lib/python3.10/site-packages/numpy/lib/nanfunctions.py:1217: RuntimeWarning:\n",
      "\n",
      "All-NaN slice encountered\n",
      "\n",
      "/opt/anaconda3/envs/Capstone2023/lib/python3.10/site-packages/numpy/lib/nanfunctions.py:1556: RuntimeWarning:\n",
      "\n",
      "All-NaN slice encountered\n",
      "\n",
      "/opt/anaconda3/envs/Capstone2023/lib/python3.10/site-packages/numpy/lib/nanfunctions.py:1217: RuntimeWarning:\n",
      "\n",
      "All-NaN slice encountered\n",
      "\n",
      "/opt/anaconda3/envs/Capstone2023/lib/python3.10/site-packages/numpy/lib/nanfunctions.py:1556: RuntimeWarning:\n",
      "\n",
      "All-NaN slice encountered\n",
      "\n",
      "/opt/anaconda3/envs/Capstone2023/lib/python3.10/site-packages/numpy/lib/nanfunctions.py:1217: RuntimeWarning:\n",
      "\n",
      "All-NaN slice encountered\n",
      "\n",
      "/opt/anaconda3/envs/Capstone2023/lib/python3.10/site-packages/numpy/lib/nanfunctions.py:1556: RuntimeWarning:\n",
      "\n",
      "All-NaN slice encountered\n",
      "\n",
      "/opt/anaconda3/envs/Capstone2023/lib/python3.10/site-packages/numpy/lib/nanfunctions.py:1217: RuntimeWarning:\n",
      "\n",
      "All-NaN slice encountered\n",
      "\n",
      "/opt/anaconda3/envs/Capstone2023/lib/python3.10/site-packages/numpy/lib/nanfunctions.py:1556: RuntimeWarning:\n",
      "\n",
      "All-NaN slice encountered\n",
      "\n",
      "/opt/anaconda3/envs/Capstone2023/lib/python3.10/site-packages/numpy/lib/nanfunctions.py:1217: RuntimeWarning:\n",
      "\n",
      "All-NaN slice encountered\n",
      "\n",
      "/opt/anaconda3/envs/Capstone2023/lib/python3.10/site-packages/numpy/lib/nanfunctions.py:1556: RuntimeWarning:\n",
      "\n",
      "All-NaN slice encountered\n",
      "\n",
      "/opt/anaconda3/envs/Capstone2023/lib/python3.10/site-packages/numpy/lib/nanfunctions.py:1217: RuntimeWarning:\n",
      "\n",
      "All-NaN slice encountered\n",
      "\n",
      "/opt/anaconda3/envs/Capstone2023/lib/python3.10/site-packages/numpy/lib/nanfunctions.py:1556: RuntimeWarning:\n",
      "\n",
      "All-NaN slice encountered\n",
      "\n",
      "/opt/anaconda3/envs/Capstone2023/lib/python3.10/site-packages/numpy/lib/nanfunctions.py:1217: RuntimeWarning:\n",
      "\n",
      "All-NaN slice encountered\n",
      "\n",
      "/opt/anaconda3/envs/Capstone2023/lib/python3.10/site-packages/numpy/lib/nanfunctions.py:1556: RuntimeWarning:\n",
      "\n",
      "All-NaN slice encountered\n",
      "\n",
      "/opt/anaconda3/envs/Capstone2023/lib/python3.10/site-packages/numpy/lib/nanfunctions.py:1217: RuntimeWarning:\n",
      "\n",
      "All-NaN slice encountered\n",
      "\n",
      "/opt/anaconda3/envs/Capstone2023/lib/python3.10/site-packages/numpy/lib/nanfunctions.py:1556: RuntimeWarning:\n",
      "\n",
      "All-NaN slice encountered\n",
      "\n",
      "/opt/anaconda3/envs/Capstone2023/lib/python3.10/site-packages/numpy/lib/nanfunctions.py:1217: RuntimeWarning:\n",
      "\n",
      "All-NaN slice encountered\n",
      "\n",
      "/opt/anaconda3/envs/Capstone2023/lib/python3.10/site-packages/numpy/lib/nanfunctions.py:1556: RuntimeWarning:\n",
      "\n",
      "All-NaN slice encountered\n",
      "\n",
      "/opt/anaconda3/envs/Capstone2023/lib/python3.10/site-packages/numpy/lib/nanfunctions.py:1217: RuntimeWarning:\n",
      "\n",
      "All-NaN slice encountered\n",
      "\n",
      "/opt/anaconda3/envs/Capstone2023/lib/python3.10/site-packages/numpy/lib/nanfunctions.py:1556: RuntimeWarning:\n",
      "\n",
      "All-NaN slice encountered\n",
      "\n",
      "/opt/anaconda3/envs/Capstone2023/lib/python3.10/site-packages/numpy/lib/nanfunctions.py:1217: RuntimeWarning:\n",
      "\n",
      "All-NaN slice encountered\n",
      "\n",
      "/opt/anaconda3/envs/Capstone2023/lib/python3.10/site-packages/numpy/lib/nanfunctions.py:1556: RuntimeWarning:\n",
      "\n",
      "All-NaN slice encountered\n",
      "\n",
      "/opt/anaconda3/envs/Capstone2023/lib/python3.10/site-packages/numpy/lib/nanfunctions.py:1217: RuntimeWarning:\n",
      "\n",
      "All-NaN slice encountered\n",
      "\n",
      "/opt/anaconda3/envs/Capstone2023/lib/python3.10/site-packages/numpy/lib/nanfunctions.py:1556: RuntimeWarning:\n",
      "\n",
      "All-NaN slice encountered\n",
      "\n",
      "/opt/anaconda3/envs/Capstone2023/lib/python3.10/site-packages/numpy/lib/nanfunctions.py:1217: RuntimeWarning:\n",
      "\n",
      "All-NaN slice encountered\n",
      "\n",
      "/opt/anaconda3/envs/Capstone2023/lib/python3.10/site-packages/numpy/lib/nanfunctions.py:1556: RuntimeWarning:\n",
      "\n",
      "All-NaN slice encountered\n",
      "\n",
      "/opt/anaconda3/envs/Capstone2023/lib/python3.10/site-packages/numpy/lib/nanfunctions.py:1217: RuntimeWarning:\n",
      "\n",
      "All-NaN slice encountered\n",
      "\n",
      "/opt/anaconda3/envs/Capstone2023/lib/python3.10/site-packages/numpy/lib/nanfunctions.py:1556: RuntimeWarning:\n",
      "\n",
      "All-NaN slice encountered\n",
      "\n",
      "/opt/anaconda3/envs/Capstone2023/lib/python3.10/site-packages/numpy/lib/nanfunctions.py:1095: RuntimeWarning:\n",
      "\n",
      "All-NaN slice encountered\n",
      "\n",
      "/opt/anaconda3/envs/Capstone2023/lib/python3.10/site-packages/numpy/lib/nanfunctions.py:1556: RuntimeWarning:\n",
      "\n",
      "All-NaN slice encountered\n",
      "\n"
     ]
    },
    {
     "name": "stdout",
     "output_type": "stream",
     "text": [
      "[ 0.75  0.5   0.5   0.75  0.5   1.    0.5   0.75  0.25  0.25  0.5   0.25\n",
      "  0.    0.5   0.25  0.75  0.5   0.25  0.    0.75  0.5   0.75  1.    0.75\n",
      "  0.25 -0.25  1.25  0.    0.5   1.    0.    0.75  1.    0.25  0.5  -0.25\n",
      "  0.75  0.75  0.25  0.5   0.5   1.25  0.25  0.25  0.25  0.75  0.75  0.25\n",
      "  0.    0.75  0.75  1.    0.5   1.    0.25  0.25  0.25  0.25  0.75  0.\n",
      "  0.75  0.5   0.5   0.    0.5   0.75  0.5   0.25  0.25  0.75  0.25  0.75\n",
      "  0.25  0.5   0.5   0.75  0.25  0.75  0.25  1.    0.75  0.    0.5   0.75\n",
      "  0.75  0.75  0.25  0.75  0.25  0.25  0.    0.75  0.25  0.75  1.    0.\n",
      "  0.75  0.25  0.5   0.5   0.    0.25  0.25  1.    0.5   0.5   0.5   0.25\n",
      "  0.5   0.25  0.75  0.75  0.75  0.75  0.75  1.    0.75  0.75  0.5   0.5\n",
      "  0.    0.75  1.    0.75  0.5   1.25  0.25 -0.25  0.75  0.5   0.5   1.\n",
      "  0.75  0.75  1.    0.    0.25  0.    0.    0.    0.5   0.75  0.75  0.\n",
      "  0.75  0.75  0.25  0.25  0.5   0.25  0.    0.75  0.5   0.75  0.75  0.25\n",
      "  0.25  0.5   0.75  0.5 ] [0.5359552  0.40446606 0.40713644 0.5074706  0.48674014 0.46025532\n",
      " 0.5676625  0.62698245 0.43756467 0.5087075  0.6149259  0.4722807\n",
      " 0.33858505 0.4535649  0.3416368  0.56618315 0.498526   0.43376547\n",
      " 0.21941233 0.34812105 0.37693453 0.623542   0.44745687 0.2879181\n",
      " 0.4500623  0.5359056  0.22571197 0.41260502 0.43076158 0.34645027\n",
      " 0.3468334  0.55907065 0.38161504 0.46692187 0.69429284 0.43395397\n",
      " 0.4806096  0.5222544  0.5257576  0.39437044 0.52381223 0.42268917\n",
      " 0.5284791  0.5119339  0.55217534 0.46279263 0.47162575 0.4545315\n",
      " 0.41843647 0.4133654  0.5058678  0.54840994 0.5939537  0.50383395\n",
      " 0.4440562  0.64786464 0.3981567  0.67327315 0.41287044 0.12035938\n",
      " 0.41008586 0.37704375 0.07204684 0.4208085  0.37075183 0.40233493\n",
      " 0.45659867 0.57883483 0.35630378 0.25169075 0.2612092  0.41885474\n",
      " 0.47923774 0.56194925 0.40571436 0.6683115  0.57619387 0.40390018\n",
      " 0.5842496  0.6245226  0.53356105 0.51324224 0.28576857 0.41948596\n",
      " 0.42678824 0.32547155 0.24507318 0.46813408 0.61132514 0.5466658\n",
      " 0.6323879  0.58506083 0.6379337  0.22565894 0.55107266 0.3685882\n",
      " 0.41001183 0.4360198  0.61497664 0.4969065  0.5462597  0.43054232\n",
      " 0.54043424 0.47781208 0.61514986 0.34040004 0.40414074 0.5275351\n",
      " 0.4386159  0.36921707 0.42696604 0.55241776 0.46617782 0.5693514\n",
      " 0.76323104 0.46151873 0.3683152  0.4999322  0.433176   0.09828397\n",
      " 0.5347458  0.5886404  0.38571602 0.35159215 0.45448834 0.5554334\n",
      " 0.44132563 0.5201493  0.5540211  0.3532971  0.4188682  0.37026113\n",
      " 0.44366884 0.48936945 0.44050083 0.5305389  0.59447145 0.49401316\n",
      " 0.5086388  0.5170033  0.48374468 0.33221802 0.37830985 0.391179\n",
      " 0.53294295 0.5340858  0.501187   0.5561128  0.6308927  0.3595627\n",
      " 0.3826646  0.49940956 0.59533894 0.59347105 0.5706808  0.5004942\n",
      " 0.22305126 0.33176208 0.53870744 0.3483988 ]\n",
      "[ 0.75  1.    0.25  0.5   0.75  0.75  0.5   0.5   0.25  0.25  0.    0.75\n",
      "  0.    0.25  0.5   0.5   0.5   0.5   1.    1.    0.5   0.75  0.75  0.75\n",
      "  0.75  0.5   1.    0.    0.25  0.    0.25  0.25  1.25  0.25  1.    0.75\n",
      "  0.5   0.25  0.25  0.5   0.25  0.    0.5   0.75  0.    0.5   0.5   0.75\n",
      "  0.25  0.25  0.25  0.    0.75  0.    0.   -0.25  0.25  0.75  0.5   0.5\n",
      "  0.5   0.    0.5   0.    0.5   0.75  0.75  0.5   0.25  0.5   0.5   1.\n",
      "  0.5   1.    0.5   0.    0.25  0.25  0.    0.25  0.    0.75  0.5   0.75\n",
      "  0.5   0.    0.25  0.5   0.5   1.25  0.75  1.    0.    0.5   0.25  0.25\n",
      " -0.25  0.75  0.5   0.25  0.5   0.25  0.5   1.    0.    0.25  0.25 -0.25\n",
      "  0.25  0.5   0.75  0.5   0.75  1.    0.25  0.25  0.25  0.    0.    0.75\n",
      "  0.75  0.    0.25  0.25  0.    0.25  0.75  0.25  0.    1.25  0.75  0.75\n",
      "  0.5   0.    0.    0.25  1.    1.    0.75  0.    0.75  0.75  0.5   0.5\n",
      "  1.    0.    0.    0.75  0.25  0.5   0.5   0.    0.75  0.    0.    0.25\n",
      "  0.75  0.25  0.25  0.5   0.25  1.25  0.25  0.25 -0.25  0.75  0.25  1.25\n",
      "  1.    0.25  0.5   0.75  0.75  0.    0.75  0.25  0.25  0.75  1.25 -0.25\n",
      "  0.    0.25  0.75  0.25  1.    0.5   0.5   0.5   0.5   0.25  0.75  0.25\n",
      "  0.25  0.25  0.25  0.5   0.75  0.5   0.5   0.25  0.75  0.25  0.5   0.75\n",
      "  0.75  0.75  0.5   0.75  0.25  1.    0.    0.5   0.25  0.5   0.75  0.25\n",
      "  0.    0.25  0.75  0.25  1.    1.    0.    0.25  0.75  0.25  0.75  0.\n",
      "  0.25  0.5   0.5   0.5   0.5   0.25  0.25  0.75  0.5   0.    0.    0.25\n",
      "  0.5   0.5   0.25  0.75  0.75  0.75  0.25  0.5   0.25  0.5   0.    0.25\n",
      "  0.25  0.75  0.75  1.    0.5   0.25  1.    0.75  0.75  0.75  0.5   0.\n",
      "  0.    0.75  0.75  0.25  0.5   0.75  0.25  0.75  0.    0.25  0.5   0.5\n",
      "  0.25  0.5   0.75  0.75  0.   -0.25  0.25  0.5   0.    0.75  0.5   0.75\n",
      "  0.    0.    1.    0.25 -0.25  0.25  0.    0.5   0.25  0.5   1.    0.5\n",
      "  0.75  0.25  0.75  0.    0.    0.    0.25  1.    0.5   0.75  0.25  1.\n",
      "  0.    0.25  0.25  0.75  0.5   0.5   0.    0.25 -0.25  0.    0.25  1.25\n",
      "  0.25  0.75  0.25  0.75  0.75  0.75  1.    0.75  0.75  0.75  0.25  0.25\n",
      "  1.    1.    1.    0.25  0.5   0.5   0.75  0.25  0.75  0.25  0.5   0.5\n",
      "  0.    0.    0.25 -0.25  0.75  0.5   0.75  0.25  0.75  0.25  0.75  0.\n",
      " -0.25  0.    0.25  0.25  0.    0.5   0.75  0.25  0.75  0.75  0.75  0.75\n",
      "  0.75  0.75  0.75  0.    0.75  0.5   0.75  0.    0.5   0.5   0.5   1.\n",
      "  0.5   1.    0.    0.25  0.25  0.75  0.75  1.    0.5   0.5   0.    0.25\n",
      "  0.5   0.75  1.    0.75  0.5   0.5   0.25  1.25  1.    0.    1.    0.25\n",
      "  0.75  1.    0.    0.5   0.    0.75  0.25  0.75  0.5   0.5   0.25  0.5\n",
      "  0.    0.5   0.75  0.25  0.75  1.    0.75  0.5   0.25  0.75  0.25  1.\n",
      "  0.75  1.    0.25  0.5   0.25  1.25  0.    0.75  0.    0.    0.    1.\n",
      "  0.5   0.    0.5   0.    0.5   1.    0.75  0.75  0.75  0.75  0.75  0.25\n",
      "  0.    1.    0.5   0.75  0.    0.25  0.5   0.    0.    0.    0.75  0.25\n",
      "  1.25  1.    0.25  0.25  0.25  0.    0.25  0.5   0.75  0.5   0.    0.\n",
      "  0.25  0.5   0.5   1.    0.75  0.    0.75  0.5   1.    0.75  0.5   0.\n",
      "  0.75  0.5   0.25  0.25  0.5   0.75  0.75  0.5   0.25  0.5   0.5   1.\n",
      "  0.25  0.5   0.75  0.5   0.75  0.75  0.75  0.    0.75  0.    0.75  0.\n",
      "  0.25  0.25  1.    0.    0.    0.5   0.5   0.5   0.   -0.25  0.75  0.\n",
      "  0.75  0.25  0.25  0.75  0.5   0.75  0.25  0.    0.    0.5   0.75  0.5\n",
      "  0.    0.75  0.75  0.5   0.75  0.    0.5   0.    0.25  0.75  0.    0.5\n",
      "  0.25  1.    0.75  1.25  0.75  0.25  0.25  0.75  0.5   0.    0.5   0.\n",
      "  0.75  0.75  0.25  0.5   0.75  0.75  0.25  0.5   0.75  0.5   0.5   0.75\n",
      "  0.75  0.25  0.25  0.75  0.5   0.5   0.5   0.5   0.75  0.    0.    0.75\n",
      "  0.75  0.    0.25  0.5   0.75  0.75  0.    0.5   0.5   0.5   0.75  0.75\n",
      "  0.75  0.75  0.75  0.75  0.5   0.75  0.5   0.5   1.25 -0.25  0.    0.25\n",
      "  0.    0.25  0.75  0.75  0.    0.75  0.5   0.75  0.    0.5   0.    0.5\n",
      "  0.25  0.25  0.75  0.25  0.25  0.5   0.75  1.    1.   -0.25  0.75  0.5\n",
      "  0.25  0.75  0.25  0.25] [ 0.5614681   0.6923252   0.25307658  0.44144654  0.65244657  0.5021402\n",
      "  0.33722854  0.30461335  0.44869214  0.48826987  0.14626375  0.58405596\n",
      "  0.33989394  0.33621818  0.49089065  0.5008169   0.489205    0.48919535\n",
      "  0.6168311   0.6902181   0.48275402  0.4633675   0.39552748  0.5696995\n",
      "  0.65463233  0.45298618  0.6985273   0.2339777   0.43720028  0.40906286\n",
      "  0.40064558  0.3222308   0.7130062   0.4831982   0.59853673  0.46847486\n",
      "  0.59777665  0.3509441   0.51384073  0.5709958   0.23374139  0.3595899\n",
      "  0.39204192  0.4863019   0.43171015  0.50575083  0.5561128   0.61184955\n",
      "  0.4483374   0.2897066   0.42559344  0.2159339   0.48296803  0.45095003\n",
      "  0.4021995   0.27564847  0.62843686  0.65641963  0.37600946  0.44559368\n",
      "  0.4062986   0.31176817  0.34613776  0.34474078  0.5201427   0.69538283\n",
      "  0.7239142   0.5434998   0.27918988  0.6362375   0.47352177  0.5652588\n",
      "  0.5336021   0.754841    0.41025496  0.17431746  0.24460343  0.44587895\n",
      "  0.3469214   0.4709193   0.5030916   0.62893337  0.60412127  0.5088605\n",
      "  0.5068593   0.38887304  0.35315353  0.5054048   0.4988549   0.79570293\n",
      "  0.75558686  0.72484624  0.13465564  0.41201213  0.36992252  0.5090716\n",
      "  0.31050074  0.66755396  0.35820904  0.37553796  0.46711323  0.42495883\n",
      "  0.32243094  0.6570955   0.31084687  0.60226905  0.26988572  0.15381353\n",
      "  0.40998486  0.24533175  0.60704184  0.50289434  0.5334886   0.6775029\n",
      "  0.4245895   0.34005156  0.39300838  0.18306641  0.3554675   0.70168287\n",
      "  0.6252353   0.30316854  0.42272997  0.4696108   0.35300013  0.3537107\n",
      "  0.57915854  0.45777994  0.34900558  0.44395807  0.45095003  0.6182358\n",
      "  0.56336766  0.21788163  0.29892933  0.47664016  0.7506601   0.6910434\n",
      "  0.3741074   0.45485792  0.5767055   0.70936865  0.4945361   0.50529605\n",
      "  0.76802707  0.47934186  0.39033803  0.5794421   0.5694058   0.49627665\n",
      "  0.53664213  0.06576642  0.60451204  0.17826727  0.28360593  0.26684064\n",
      "  0.68536115  0.33362108  0.3793677   0.40750295  0.488676    0.66759443\n",
      "  0.31151488  0.34101555 -0.03183538  0.5910688   0.42729458  0.6631166\n",
      "  0.4954119   0.44835526  0.549203    0.495886    0.6235742   0.29426447\n",
      "  0.6039757   0.38671663  0.4005256   0.49020335  0.7832802   0.25267074\n",
      "  0.38588268  0.4954151   0.617536    0.26361948  0.66000295  0.6743688\n",
      "  0.30201337  0.4806473   0.50480163  0.2845275   0.5820712   0.4291072\n",
      "  0.38734674  0.41153854  0.32097685  0.5143549   0.5539218   0.38299987\n",
      "  0.5361565   0.40587062  0.54711866  0.1954866   0.3394744   0.65288293\n",
      "  0.48495156  0.72073454  0.6141934   0.5038536   0.43081737  0.81417745\n",
      "  0.29410827  0.4206307   0.4239021   0.53358996  0.5210202   0.3358594\n",
      "  0.48919535  0.45982224  0.6404678   0.2659878   0.57801694  0.82969546\n",
      "  0.24200404  0.26610222  0.6537838   0.38910747  0.7488723   0.36919522\n",
      "  0.38395774  0.38298485  0.48914123  0.46384525  0.35635823  0.32977885\n",
      "  0.42967355  0.39549562  0.34645796  0.34167627  0.347573    0.42487326\n",
      "  0.44357616  0.36105356  0.32107374  0.54492575  0.64838564  0.64317423\n",
      "  0.284311    0.5236393   0.4157192   0.45750064  0.12348496  0.2947692\n",
      "  0.26249444  0.539489    0.5008713   0.6328613   0.4518095   0.3113827\n",
      "  0.54230314  0.66008     0.59844947  0.6027459   0.51762366  0.18919373\n",
      "  0.2186351   0.60434073  0.6759066   0.34101614  0.60599357  0.5452452\n",
      "  0.50417507  0.4548369   0.2426161   0.4076813   0.61415756  0.45930442\n",
      "  0.24998543  0.5828719   0.6359245   0.40063077  0.2925917   0.21441542\n",
      "  0.28234386  0.420527    0.22580081  0.766923    0.50740117  0.56112164\n",
      "  0.25814956  0.37265524  0.53294843  0.3618099  -0.03769467  0.42771307\n",
      "  0.28442574  0.48760375  0.44369918  0.3002214   0.5970938   0.44198284\n",
      "  0.5422684   0.33794513  0.48830503  0.2755745   0.2727988   0.28340566\n",
      "  0.41195446  0.53243107  0.44262803  0.6120379   0.44467047  0.55570465\n",
      "  0.35317028  0.3962612   0.5316221   0.5040817   0.54276156  0.60012746\n",
      "  0.28897268  0.47205752  0.07672385  0.3274232   0.45607394  0.61693496\n",
      "  0.29177892  0.52835137  0.50226     0.44029278  0.52561367  0.639204\n",
      "  0.65930235  0.6234928   0.38905722  0.5036628   0.25783494  0.2873871\n",
      "  0.45548707  0.5634963   0.644786    0.37215218  0.44734854  0.5565147\n",
      "  0.59945756  0.32958308  0.6804048   0.35298702  0.6044202   0.44770238\n",
      "  0.23446892  0.33733806  0.47398046  0.06656013  0.41824022  0.4161066\n",
      "  0.619648    0.31609744  0.455248    0.38381162  0.6842904   0.1315859\n",
      "  0.14114492  0.23531833  0.34193766  0.45796317  0.07476462  0.45031932\n",
      "  0.63349706  0.40760633  0.5312947   0.55058     0.49749747  0.6772306\n",
      "  0.4481938   0.57508427  0.57242775  0.21969138  0.6057346   0.39472795\n",
      "  0.48848063  0.21108314  0.4643103   0.50776845  0.61352855  0.6238564\n",
      "  0.39309758  0.5614136   0.55581653  0.2109843   0.39840037  0.6947793\n",
      "  0.5031475   0.57350343  0.47145966  0.49779323  0.5530493   0.49190477\n",
      "  0.47996414  0.53524864  0.61675376  0.65885675  0.5641837   0.4606395\n",
      "  0.27199814  0.8321255   0.80060875  0.45974964  0.65499866  0.47821122\n",
      "  0.58375627  0.7119609   0.3516044   0.5103213   0.11163393  0.55358994\n",
      "  0.34748986  0.57781315  0.5282886   0.42794257  0.3550498   0.5283158\n",
      "  0.12375987  0.5818973   0.53099245  0.4119033   0.6779921   0.58357537\n",
      "  0.76561886  0.4172442   0.40295732  0.5250417   0.47116965  0.5578409\n",
      "  0.67675644  0.79600406  0.37071595  0.44829074  0.36355633  0.6000048\n",
      "  0.25838685  0.61420757  0.3204443   0.31516916  0.18852635  0.6286657\n",
      "  0.41600966  0.38973263  0.60872936  0.41302478  0.48468792  0.7348444\n",
      "  0.53325546  0.62341243  0.5849052   0.67093074  0.5364859   0.24539007\n",
      "  0.38754472  0.7142462   0.44437638  0.56684494  0.34254608  0.38769215\n",
      "  0.62829846  0.45821986  0.06301577  0.32085606  0.57114416  0.4374436\n",
      "  0.6315973   0.64758205  0.38526443  0.37622356  0.29247963  0.3441336\n",
      "  0.20978351  0.45958146  0.50975597  0.60188097  0.3227652   0.3771668\n",
      "  0.40072417  0.47169337  0.4831912   0.805572    0.49759257  0.3281816\n",
      "  0.6745967   0.41381347  0.61050695  0.47934186  0.5457181   0.32433087\n",
      "  0.6894449   0.49176347  0.39558226  0.25608584  0.47984642  0.548176\n",
      "  0.49995402  0.45145464  0.52424437  0.4821397   0.5092255   0.6415958\n",
      "  0.37436303  0.47944158  0.5127434   0.4333654   0.505098    0.4751276\n",
      "  0.6420288   0.1533945   0.6410004   0.25250968  0.48685595  0.5338672\n",
      "  0.40523973  0.40878263  0.63303465  0.4581046   0.1761939   0.44560528\n",
      "  0.5332129   0.43411312  0.3003865  -0.14618577  0.61984885  0.3037064\n",
      "  0.7153276   0.2911674   0.42267245  0.57846534  0.36588565  0.5733993\n",
      "  0.343177    0.21921368  0.3772096   0.56465     0.62846714  0.5159663\n",
      "  0.20258567  0.53797865  0.59529865  0.42251495  0.5282348   0.30711925\n",
      "  0.42707497  0.46349397  0.37817618  0.45881593  0.40547752  0.38601026\n",
      "  0.37191525  0.51384187  0.5763474   0.7596227   0.6479686   0.2798581\n",
      "  0.47578377  0.5732951   0.447129    0.25647968  0.52232665  0.3271637\n",
      "  0.6561033   0.6484867   0.38980344  0.37047127  0.5561128   0.49215123\n",
      "  0.42184043  0.42572692  0.6053319   0.5369266   0.4679791   0.53269947\n",
      "  0.6220699   0.41826588  0.2794093   0.56031233  0.50982815  0.4694326\n",
      "  0.42118102  0.63150376  0.49895483  0.14845753  0.29016805  0.6190774\n",
      "  0.5608009   0.34830746  0.55550104  0.4813159   0.5618887   0.581919\n",
      "  0.3961193   0.50172037  0.5783643   0.48133728  0.4725699   0.587666\n",
      "  0.6150961   0.5226199   0.59380186  0.4668437   0.45347977  0.514978\n",
      "  0.41609272  0.44854835  0.83758557  0.0898477   0.12420589  0.28458083\n",
      "  0.29165083  0.33044267  0.5378351   0.57794756  0.39726537  0.5789962\n",
      "  0.5012238   0.5455635   0.43029264  0.42979002  0.3426338   0.47625744\n",
      "  0.46096888  0.45144215  0.55653435  0.5216029   0.49029732  0.40809816\n",
      "  0.510797    0.61497384  0.55881387 -0.00611574  0.4775561   0.51914\n",
      "  0.39473745  0.6018414   0.35464203  0.34953973]\n"
     ]
    }
   ],
   "source": [
    "best_model_TEG2, TEG2_train, TEG2_score = train_model(model2_df, 'Events', ['Record ID','Visit Timepoint'])"
   ]
  },
  {
   "cell_type": "code",
   "execution_count": 94,
   "metadata": {},
   "outputs": [
    {
     "data": {
      "text/plain": [
       "{'mse test': 0.1167616376870011,\n",
       " 'r2 test': -0.12798808454434418,\n",
       " 'mse train': 0.05363573037072106,\n",
       " 'r2 train': 0.5194812928800498}"
      ]
     },
     "execution_count": 94,
     "metadata": {},
     "output_type": "execute_result"
    }
   ],
   "source": [
    "TEG2_score"
   ]
  },
  {
   "cell_type": "markdown",
   "metadata": {},
   "source": [
    "### Feature importance"
   ]
  },
  {
   "cell_type": "code",
   "execution_count": 95,
   "metadata": {},
   "outputs": [
    {
     "name": "stderr",
     "output_type": "stream",
     "text": [
      "/opt/anaconda3/envs/Capstone2023/lib/python3.10/site-packages/xgboost/core.py:160: UserWarning:\n",
      "\n",
      "[18:54:38] WARNING: /Users/runner/work/xgboost/xgboost/src/c_api/c_api.cc:1240: Saving into deprecated binary model format, please consider using `json` or `ubj`. Model format will default to JSON in XGBoost 2.2 if not specified.\n",
      "\n",
      "/opt/anaconda3/envs/Capstone2023/lib/python3.10/site-packages/xgboost/data.py:335: FutureWarning:\n",
      "\n",
      "is_sparse is deprecated and will be removed in a future version. Check `isinstance(dtype, pd.SparseDtype)` instead.\n",
      "\n",
      "/opt/anaconda3/envs/Capstone2023/lib/python3.10/site-packages/xgboost/data.py:338: FutureWarning:\n",
      "\n",
      "is_categorical_dtype is deprecated and will be removed in a future version. Use isinstance(dtype, CategoricalDtype) instead\n",
      "\n",
      "/opt/anaconda3/envs/Capstone2023/lib/python3.10/site-packages/xgboost/data.py:384: FutureWarning:\n",
      "\n",
      "is_categorical_dtype is deprecated and will be removed in a future version. Use isinstance(dtype, CategoricalDtype) instead\n",
      "\n",
      "/opt/anaconda3/envs/Capstone2023/lib/python3.10/site-packages/xgboost/data.py:359: FutureWarning:\n",
      "\n",
      "is_categorical_dtype is deprecated and will be removed in a future version. Use isinstance(dtype, CategoricalDtype) instead\n",
      "\n"
     ]
    }
   ],
   "source": [
    "importance_df_TEG2 = feature_importance(best_model_TEG2, TEG2_train)"
   ]
  },
  {
   "cell_type": "code",
   "execution_count": 96,
   "metadata": {},
   "outputs": [
    {
     "data": {
      "application/vnd.plotly.v1+json": {
       "config": {
        "plotlyServerURL": "https://plot.ly"
       },
       "data": [
        {
         "alignmentgroup": "True",
         "hovertemplate": "variable=Importance<br>Percentage=%{x}<br>Factors=%{y}<extra></extra>",
         "legendgroup": "Importance",
         "marker": {
          "color": "#636efa",
          "pattern": {
           "shape": ""
          }
         },
         "name": "Importance",
         "offsetgroup": "Importance",
         "orientation": "h",
         "showlegend": true,
         "textposition": "auto",
         "type": "bar",
         "x": [
          0.09132014960050583,
          0.08521000295877457,
          0.0814538523554802,
          0.07539419829845428,
          0.05118773505091667,
          0.04874402657151222,
          0.047816202044487,
          0.039749227464199066,
          0.03145014867186546,
          0.025393763557076454
         ],
         "xaxis": "x",
         "y": [
          "INR value",
          "ADP % Aggregation_difference_since_last_timepoint",
          "CFF FLEV(mg/dL)",
          "AA % Aggregation_difference_since_last_timepoint",
          "Reaction Time (R) in min_difference_since_last_timepoint",
          "RBC (M/uL)",
          "CRT MA(mm)",
          "CK R(min)_difference_since_last_timepoint",
          "CK angle( deg)_difference_since_last_timepoint",
          "BP_Diastolic"
         ],
         "yaxis": "y"
        }
       ],
       "layout": {
        "barmode": "relative",
        "legend": {
         "title": {
          "text": "variable"
         },
         "tracegroupgap": 0
        },
        "showlegend": false,
        "template": {
         "data": {
          "bar": [
           {
            "error_x": {
             "color": "#2a3f5f"
            },
            "error_y": {
             "color": "#2a3f5f"
            },
            "marker": {
             "line": {
              "color": "#E5ECF6",
              "width": 0.5
             },
             "pattern": {
              "fillmode": "overlay",
              "size": 10,
              "solidity": 0.2
             }
            },
            "type": "bar"
           }
          ],
          "barpolar": [
           {
            "marker": {
             "line": {
              "color": "#E5ECF6",
              "width": 0.5
             },
             "pattern": {
              "fillmode": "overlay",
              "size": 10,
              "solidity": 0.2
             }
            },
            "type": "barpolar"
           }
          ],
          "carpet": [
           {
            "aaxis": {
             "endlinecolor": "#2a3f5f",
             "gridcolor": "white",
             "linecolor": "white",
             "minorgridcolor": "white",
             "startlinecolor": "#2a3f5f"
            },
            "baxis": {
             "endlinecolor": "#2a3f5f",
             "gridcolor": "white",
             "linecolor": "white",
             "minorgridcolor": "white",
             "startlinecolor": "#2a3f5f"
            },
            "type": "carpet"
           }
          ],
          "choropleth": [
           {
            "colorbar": {
             "outlinewidth": 0,
             "ticks": ""
            },
            "type": "choropleth"
           }
          ],
          "contour": [
           {
            "colorbar": {
             "outlinewidth": 0,
             "ticks": ""
            },
            "colorscale": [
             [
              0,
              "#0d0887"
             ],
             [
              0.1111111111111111,
              "#46039f"
             ],
             [
              0.2222222222222222,
              "#7201a8"
             ],
             [
              0.3333333333333333,
              "#9c179e"
             ],
             [
              0.4444444444444444,
              "#bd3786"
             ],
             [
              0.5555555555555556,
              "#d8576b"
             ],
             [
              0.6666666666666666,
              "#ed7953"
             ],
             [
              0.7777777777777778,
              "#fb9f3a"
             ],
             [
              0.8888888888888888,
              "#fdca26"
             ],
             [
              1,
              "#f0f921"
             ]
            ],
            "type": "contour"
           }
          ],
          "contourcarpet": [
           {
            "colorbar": {
             "outlinewidth": 0,
             "ticks": ""
            },
            "type": "contourcarpet"
           }
          ],
          "heatmap": [
           {
            "colorbar": {
             "outlinewidth": 0,
             "ticks": ""
            },
            "colorscale": [
             [
              0,
              "#0d0887"
             ],
             [
              0.1111111111111111,
              "#46039f"
             ],
             [
              0.2222222222222222,
              "#7201a8"
             ],
             [
              0.3333333333333333,
              "#9c179e"
             ],
             [
              0.4444444444444444,
              "#bd3786"
             ],
             [
              0.5555555555555556,
              "#d8576b"
             ],
             [
              0.6666666666666666,
              "#ed7953"
             ],
             [
              0.7777777777777778,
              "#fb9f3a"
             ],
             [
              0.8888888888888888,
              "#fdca26"
             ],
             [
              1,
              "#f0f921"
             ]
            ],
            "type": "heatmap"
           }
          ],
          "heatmapgl": [
           {
            "colorbar": {
             "outlinewidth": 0,
             "ticks": ""
            },
            "colorscale": [
             [
              0,
              "#0d0887"
             ],
             [
              0.1111111111111111,
              "#46039f"
             ],
             [
              0.2222222222222222,
              "#7201a8"
             ],
             [
              0.3333333333333333,
              "#9c179e"
             ],
             [
              0.4444444444444444,
              "#bd3786"
             ],
             [
              0.5555555555555556,
              "#d8576b"
             ],
             [
              0.6666666666666666,
              "#ed7953"
             ],
             [
              0.7777777777777778,
              "#fb9f3a"
             ],
             [
              0.8888888888888888,
              "#fdca26"
             ],
             [
              1,
              "#f0f921"
             ]
            ],
            "type": "heatmapgl"
           }
          ],
          "histogram": [
           {
            "marker": {
             "pattern": {
              "fillmode": "overlay",
              "size": 10,
              "solidity": 0.2
             }
            },
            "type": "histogram"
           }
          ],
          "histogram2d": [
           {
            "colorbar": {
             "outlinewidth": 0,
             "ticks": ""
            },
            "colorscale": [
             [
              0,
              "#0d0887"
             ],
             [
              0.1111111111111111,
              "#46039f"
             ],
             [
              0.2222222222222222,
              "#7201a8"
             ],
             [
              0.3333333333333333,
              "#9c179e"
             ],
             [
              0.4444444444444444,
              "#bd3786"
             ],
             [
              0.5555555555555556,
              "#d8576b"
             ],
             [
              0.6666666666666666,
              "#ed7953"
             ],
             [
              0.7777777777777778,
              "#fb9f3a"
             ],
             [
              0.8888888888888888,
              "#fdca26"
             ],
             [
              1,
              "#f0f921"
             ]
            ],
            "type": "histogram2d"
           }
          ],
          "histogram2dcontour": [
           {
            "colorbar": {
             "outlinewidth": 0,
             "ticks": ""
            },
            "colorscale": [
             [
              0,
              "#0d0887"
             ],
             [
              0.1111111111111111,
              "#46039f"
             ],
             [
              0.2222222222222222,
              "#7201a8"
             ],
             [
              0.3333333333333333,
              "#9c179e"
             ],
             [
              0.4444444444444444,
              "#bd3786"
             ],
             [
              0.5555555555555556,
              "#d8576b"
             ],
             [
              0.6666666666666666,
              "#ed7953"
             ],
             [
              0.7777777777777778,
              "#fb9f3a"
             ],
             [
              0.8888888888888888,
              "#fdca26"
             ],
             [
              1,
              "#f0f921"
             ]
            ],
            "type": "histogram2dcontour"
           }
          ],
          "mesh3d": [
           {
            "colorbar": {
             "outlinewidth": 0,
             "ticks": ""
            },
            "type": "mesh3d"
           }
          ],
          "parcoords": [
           {
            "line": {
             "colorbar": {
              "outlinewidth": 0,
              "ticks": ""
             }
            },
            "type": "parcoords"
           }
          ],
          "pie": [
           {
            "automargin": true,
            "type": "pie"
           }
          ],
          "scatter": [
           {
            "fillpattern": {
             "fillmode": "overlay",
             "size": 10,
             "solidity": 0.2
            },
            "type": "scatter"
           }
          ],
          "scatter3d": [
           {
            "line": {
             "colorbar": {
              "outlinewidth": 0,
              "ticks": ""
             }
            },
            "marker": {
             "colorbar": {
              "outlinewidth": 0,
              "ticks": ""
             }
            },
            "type": "scatter3d"
           }
          ],
          "scattercarpet": [
           {
            "marker": {
             "colorbar": {
              "outlinewidth": 0,
              "ticks": ""
             }
            },
            "type": "scattercarpet"
           }
          ],
          "scattergeo": [
           {
            "marker": {
             "colorbar": {
              "outlinewidth": 0,
              "ticks": ""
             }
            },
            "type": "scattergeo"
           }
          ],
          "scattergl": [
           {
            "marker": {
             "colorbar": {
              "outlinewidth": 0,
              "ticks": ""
             }
            },
            "type": "scattergl"
           }
          ],
          "scattermapbox": [
           {
            "marker": {
             "colorbar": {
              "outlinewidth": 0,
              "ticks": ""
             }
            },
            "type": "scattermapbox"
           }
          ],
          "scatterpolar": [
           {
            "marker": {
             "colorbar": {
              "outlinewidth": 0,
              "ticks": ""
             }
            },
            "type": "scatterpolar"
           }
          ],
          "scatterpolargl": [
           {
            "marker": {
             "colorbar": {
              "outlinewidth": 0,
              "ticks": ""
             }
            },
            "type": "scatterpolargl"
           }
          ],
          "scatterternary": [
           {
            "marker": {
             "colorbar": {
              "outlinewidth": 0,
              "ticks": ""
             }
            },
            "type": "scatterternary"
           }
          ],
          "surface": [
           {
            "colorbar": {
             "outlinewidth": 0,
             "ticks": ""
            },
            "colorscale": [
             [
              0,
              "#0d0887"
             ],
             [
              0.1111111111111111,
              "#46039f"
             ],
             [
              0.2222222222222222,
              "#7201a8"
             ],
             [
              0.3333333333333333,
              "#9c179e"
             ],
             [
              0.4444444444444444,
              "#bd3786"
             ],
             [
              0.5555555555555556,
              "#d8576b"
             ],
             [
              0.6666666666666666,
              "#ed7953"
             ],
             [
              0.7777777777777778,
              "#fb9f3a"
             ],
             [
              0.8888888888888888,
              "#fdca26"
             ],
             [
              1,
              "#f0f921"
             ]
            ],
            "type": "surface"
           }
          ],
          "table": [
           {
            "cells": {
             "fill": {
              "color": "#EBF0F8"
             },
             "line": {
              "color": "white"
             }
            },
            "header": {
             "fill": {
              "color": "#C8D4E3"
             },
             "line": {
              "color": "white"
             }
            },
            "type": "table"
           }
          ]
         },
         "layout": {
          "annotationdefaults": {
           "arrowcolor": "#2a3f5f",
           "arrowhead": 0,
           "arrowwidth": 1
          },
          "autotypenumbers": "strict",
          "coloraxis": {
           "colorbar": {
            "outlinewidth": 0,
            "ticks": ""
           }
          },
          "colorscale": {
           "diverging": [
            [
             0,
             "#8e0152"
            ],
            [
             0.1,
             "#c51b7d"
            ],
            [
             0.2,
             "#de77ae"
            ],
            [
             0.3,
             "#f1b6da"
            ],
            [
             0.4,
             "#fde0ef"
            ],
            [
             0.5,
             "#f7f7f7"
            ],
            [
             0.6,
             "#e6f5d0"
            ],
            [
             0.7,
             "#b8e186"
            ],
            [
             0.8,
             "#7fbc41"
            ],
            [
             0.9,
             "#4d9221"
            ],
            [
             1,
             "#276419"
            ]
           ],
           "sequential": [
            [
             0,
             "#0d0887"
            ],
            [
             0.1111111111111111,
             "#46039f"
            ],
            [
             0.2222222222222222,
             "#7201a8"
            ],
            [
             0.3333333333333333,
             "#9c179e"
            ],
            [
             0.4444444444444444,
             "#bd3786"
            ],
            [
             0.5555555555555556,
             "#d8576b"
            ],
            [
             0.6666666666666666,
             "#ed7953"
            ],
            [
             0.7777777777777778,
             "#fb9f3a"
            ],
            [
             0.8888888888888888,
             "#fdca26"
            ],
            [
             1,
             "#f0f921"
            ]
           ],
           "sequentialminus": [
            [
             0,
             "#0d0887"
            ],
            [
             0.1111111111111111,
             "#46039f"
            ],
            [
             0.2222222222222222,
             "#7201a8"
            ],
            [
             0.3333333333333333,
             "#9c179e"
            ],
            [
             0.4444444444444444,
             "#bd3786"
            ],
            [
             0.5555555555555556,
             "#d8576b"
            ],
            [
             0.6666666666666666,
             "#ed7953"
            ],
            [
             0.7777777777777778,
             "#fb9f3a"
            ],
            [
             0.8888888888888888,
             "#fdca26"
            ],
            [
             1,
             "#f0f921"
            ]
           ]
          },
          "colorway": [
           "#636efa",
           "#EF553B",
           "#00cc96",
           "#ab63fa",
           "#FFA15A",
           "#19d3f3",
           "#FF6692",
           "#B6E880",
           "#FF97FF",
           "#FECB52"
          ],
          "font": {
           "color": "#2a3f5f"
          },
          "geo": {
           "bgcolor": "white",
           "lakecolor": "white",
           "landcolor": "#E5ECF6",
           "showlakes": true,
           "showland": true,
           "subunitcolor": "white"
          },
          "hoverlabel": {
           "align": "left"
          },
          "hovermode": "closest",
          "mapbox": {
           "style": "light"
          },
          "paper_bgcolor": "white",
          "plot_bgcolor": "#E5ECF6",
          "polar": {
           "angularaxis": {
            "gridcolor": "white",
            "linecolor": "white",
            "ticks": ""
           },
           "bgcolor": "#E5ECF6",
           "radialaxis": {
            "gridcolor": "white",
            "linecolor": "white",
            "ticks": ""
           }
          },
          "scene": {
           "xaxis": {
            "backgroundcolor": "#E5ECF6",
            "gridcolor": "white",
            "gridwidth": 2,
            "linecolor": "white",
            "showbackground": true,
            "ticks": "",
            "zerolinecolor": "white"
           },
           "yaxis": {
            "backgroundcolor": "#E5ECF6",
            "gridcolor": "white",
            "gridwidth": 2,
            "linecolor": "white",
            "showbackground": true,
            "ticks": "",
            "zerolinecolor": "white"
           },
           "zaxis": {
            "backgroundcolor": "#E5ECF6",
            "gridcolor": "white",
            "gridwidth": 2,
            "linecolor": "white",
            "showbackground": true,
            "ticks": "",
            "zerolinecolor": "white"
           }
          },
          "shapedefaults": {
           "line": {
            "color": "#2a3f5f"
           }
          },
          "ternary": {
           "aaxis": {
            "gridcolor": "white",
            "linecolor": "white",
            "ticks": ""
           },
           "baxis": {
            "gridcolor": "white",
            "linecolor": "white",
            "ticks": ""
           },
           "bgcolor": "#E5ECF6",
           "caxis": {
            "gridcolor": "white",
            "linecolor": "white",
            "ticks": ""
           }
          },
          "title": {
           "x": 0.05
          },
          "xaxis": {
           "automargin": true,
           "gridcolor": "white",
           "linecolor": "white",
           "ticks": "",
           "title": {
            "standoff": 15
           },
           "zerolinecolor": "white",
           "zerolinewidth": 2
          },
          "yaxis": {
           "automargin": true,
           "gridcolor": "white",
           "linecolor": "white",
           "ticks": "",
           "title": {
            "standoff": 15
           },
           "zerolinecolor": "white",
           "zerolinewidth": 2
          }
         }
        },
        "title": {
         "text": "Teg 2 feature importance"
        },
        "xaxis": {
         "anchor": "y",
         "domain": [
          0,
          1
         ],
         "title": {
          "text": "Percentage"
         }
        },
        "yaxis": {
         "anchor": "x",
         "categoryorder": "total ascending",
         "domain": [
          0,
          1
         ],
         "title": {
          "text": "Factors"
         }
        }
       }
      }
     },
     "metadata": {},
     "output_type": "display_data"
    }
   ],
   "source": [
    "# Plot SHAP summary plot\n",
    "fig = plot_importance(importance_df_TEG2, \"Teg 2 feature importance\", showlegend=False)\n",
    "display(fig)"
   ]
  },
  {
   "cell_type": "code",
   "execution_count": 97,
   "metadata": {},
   "outputs": [],
   "source": [
    "#!jupyter nbconvert --to script steps.ipynb"
   ]
  },
  {
   "cell_type": "markdown",
   "metadata": {},
   "source": [
    "# Predict thrombotic event"
   ]
  },
  {
   "cell_type": "markdown",
   "metadata": {},
   "source": [
    "## Upload patient\n",
    "Import dummy data to try predict their thrombotic event"
   ]
  },
  {
   "cell_type": "code",
   "execution_count": 98,
   "metadata": {},
   "outputs": [],
   "source": [
    "# Imports excell with patients data\n",
    "data_path = \"./testData/dummy_patient.xlsx\"\n",
    "\n",
    "# Read the uploaded Excel file into a Pandas DataFrame\n",
    "xls = pd.ExcelFile(data_path, engine=\"openpyxl\")\n",
    "\n",
    "sheet_names = ['Baseline', 'TEG Values']  # Replace with your sheet names\n",
    "\n",
    "# Access each sheet's data using the sheet name as the key\n",
    "baseline_df = pd.read_excel(xls, sheet_names[0])\n",
    "tegValues_df = pd.read_excel(xls, sheet_names[1])\n",
    "\n",
    "baseline_id = list(\"Patient \"+baseline_df[\"Record ID\"].astype(str))\n",
    "tegValues_id = list(\"Patient \"+tegValues_df[\"Record ID\"].astype(str) +\": \"+tegValues_df[\"Visit Timepoint\"].astype(str))\n"
   ]
  },
  {
   "cell_type": "markdown",
   "metadata": {},
   "source": [
    "Getting a new boundaries file because the last one was edited"
   ]
  },
  {
   "cell_type": "code",
   "execution_count": 99,
   "metadata": {},
   "outputs": [
    {
     "data": {
      "text/plain": [
       "{'EGFR (mL/min/1.73m2)': {'>60': 60},\n",
       " 'Reaction Time (R) in min': {'>17': 18},\n",
       " 'HKH MA (mm)': {'<42': 40, '>71': 75},\n",
       " 'ActF MA (mm)': {'>30': 35, '<2': 0},\n",
       " 'ADP MA (mm)': {'<10': 5, '>72': 77},\n",
       " 'AA MA(mm)': {'<8': 5},\n",
       " 'CK R(min)': {'>17': 20},\n",
       " 'CK K (min)': {'<': '>', '>5': 8},\n",
       " 'CK angle( deg)': {'<39': 35},\n",
       " 'CK MA (mm)': {'<40': 35, '>75': 80},\n",
       " 'CRT MA(mm)': {'<40': 35, '>75': 80},\n",
       " 'CRT Max amplitude (MA) in mm': {'<40': 35, '>75': 80},\n",
       " 'CKH R (min)': {'>17': 20},\n",
       " 'CFF MA(mm)': {'>52': 55, '<4': 0},\n",
       " 'CFF Max Amplitude( MA) in mm': {'>52': 55, '<4': 0},\n",
       " 'aPTT': {'>150': 160}}"
      ]
     },
     "execution_count": 99,
     "metadata": {},
     "output_type": "execute_result"
    }
   ],
   "source": [
    "# Define the filename\n",
    "filename = 'data_boundaries.json'\n",
    "\n",
    "# Create the full file path by joining the base directory and filename\n",
    "file_path = os.path.join(base_directory, 'data', filename)\n",
    "\n",
    "with open(file_path, 'r') as json_file:\n",
    "    boundaries = json.load(json_file)\n",
    "boundaries"
   ]
  },
  {
   "cell_type": "markdown",
   "metadata": {},
   "source": [
    "All of the code from above was copied and paseted to the functions file"
   ]
  },
  {
   "cell_type": "code",
   "execution_count": 100,
   "metadata": {},
   "outputs": [],
   "source": [
    "from functions import transform_data"
   ]
  },
  {
   "cell_type": "code",
   "execution_count": 101,
   "metadata": {},
   "outputs": [],
   "source": [
    "# Transform data in the same way the last one was transformed\n",
    "clean_baseline_patient_df, clean_TEG_patient_df, patient_tegValues = transform_data(baseline_df, tegValues_df, boundaries, timepoints, training = False)"
   ]
  },
  {
   "cell_type": "code",
   "execution_count": 102,
   "metadata": {},
   "outputs": [
    {
     "data": {
      "text/html": [
       "<div>\n",
       "<style scoped>\n",
       "    .dataframe tbody tr th:only-of-type {\n",
       "        vertical-align: middle;\n",
       "    }\n",
       "\n",
       "    .dataframe tbody tr th {\n",
       "        vertical-align: top;\n",
       "    }\n",
       "\n",
       "    .dataframe thead th {\n",
       "        text-align: right;\n",
       "    }\n",
       "</style>\n",
       "<table border=\"1\" class=\"dataframe\">\n",
       "  <thead>\n",
       "    <tr style=\"text-align: right;\">\n",
       "      <th></th>\n",
       "      <th>BMI</th>\n",
       "      <th>Is Male</th>\n",
       "      <th>White</th>\n",
       "      <th>Age</th>\n",
       "      <th>Clotting Disorder</th>\n",
       "      <th>Hypertension</th>\n",
       "      <th>Diabetes</th>\n",
       "    </tr>\n",
       "    <tr>\n",
       "      <th>Record ID</th>\n",
       "      <th></th>\n",
       "      <th></th>\n",
       "      <th></th>\n",
       "      <th></th>\n",
       "      <th></th>\n",
       "      <th></th>\n",
       "      <th></th>\n",
       "    </tr>\n",
       "  </thead>\n",
       "  <tbody>\n",
       "    <tr>\n",
       "      <th>39</th>\n",
       "      <td>40.37</td>\n",
       "      <td>Yes</td>\n",
       "      <td>Yes</td>\n",
       "      <td>81</td>\n",
       "      <td>2</td>\n",
       "      <td>No</td>\n",
       "      <td>Yes</td>\n",
       "    </tr>\n",
       "  </tbody>\n",
       "</table>\n",
       "</div>"
      ],
      "text/plain": [
       "             BMI Is Male White  Age  Clotting Disorder Hypertension Diabetes\n",
       "Record ID                                                                   \n",
       "39         40.37     Yes   Yes   81                  2           No      Yes"
      ]
     },
     "execution_count": 102,
     "metadata": {},
     "output_type": "execute_result"
    }
   ],
   "source": [
    "# Create a new DataFrame with modifications\n",
    "modified_df = clean_baseline_patient_df[['Record ID','BMI','Is Male','White', 'Age', 'Clotting Disorder', 'Hypertension', 'Diabetes']].copy()\n",
    "\n",
    "# Round 'BMI' to 2 decimal places\n",
    "modified_df['BMI'] = modified_df['BMI'].round(2)\n",
    "\n",
    "# Convert boolean columns to 'Yes' or 'No'\n",
    "boolean_columns = ['White','Is Male', 'Hypertension', 'Diabetes']\n",
    "for column in boolean_columns:\n",
    "    modified_df[column] = modified_df[column].map({True: 'Yes', False: 'No'})\n",
    "\n",
    "# Set 'Record ID' as the index\n",
    "modified_df.set_index('Record ID', inplace=True)\n",
    "\n",
    "# Display the modified DataFrame\n",
    "modified_df"
   ]
  },
  {
   "cell_type": "markdown",
   "metadata": {},
   "source": [
    "## Get predictions and feature importance"
   ]
  },
  {
   "cell_type": "markdown",
   "metadata": {},
   "source": [
    "Make sure that the columns in the current database and the columns used to train the model"
   ]
  },
  {
   "cell_type": "code",
   "execution_count": 103,
   "metadata": {},
   "outputs": [],
   "source": [
    "def check_column_names(df, model_column):\n",
    "    \"\"\"\n",
    "    model_column (list) with column names originally used in model\n",
    "    \"\"\"\n",
    "    \n",
    "    # Ensure all columns in teg_columns exist in clean_TEG_df\n",
    "    for column in model_column:\n",
    "        if column not in df.columns:\n",
    "            # If the column is missing, add an empty column\n",
    "            df[column] = pd.Series(dtype=float)\n",
    "\n",
    "    # Drop columns in clean_TEG_df that are not in teg_columns\n",
    "    new_df = df[model_column]\n",
    "\n",
    "    return new_df"
   ]
  },
  {
   "cell_type": "markdown",
   "metadata": {},
   "source": [
    "Make sure that the columns that are beeing uploaded after they are processed are the same as the columns used to train the model"
   ]
  },
  {
   "cell_type": "code",
   "execution_count": 104,
   "metadata": {},
   "outputs": [],
   "source": [
    "patient_TEG1_df = check_column_names(clean_TEG_patient_df, teg1_columns)\n",
    "patient_TEG2_df = check_column_names(clean_TEG_patient_df, teg2_columns)\n",
    "patient_baseline_df = check_column_names(clean_baseline_patient_df, baseline_columns)\n"
   ]
  },
  {
   "cell_type": "code",
   "execution_count": 105,
   "metadata": {},
   "outputs": [],
   "source": [
    "# Separate features (X) and target (y)\n",
    "def predict(df, best_pipeline):\n",
    "\n",
    "    columns_to_drop = ['Record ID','Events','Visit Timepoint']\n",
    "    df = df.copy()\n",
    "\n",
    "    for column in columns_to_drop:\n",
    "        if column in df.columns:\n",
    "            df.drop(column, axis=1,inplace = True)\n",
    "\n",
    "    # Make predictions on the test data\n",
    "    y_pred = best_pipeline.predict(df)\n",
    "\n",
    "    return y_pred  "
   ]
  },
  {
   "cell_type": "code",
   "execution_count": 106,
   "metadata": {},
   "outputs": [
    {
     "data": {
      "text/plain": [
       "array([0.5575355], dtype=float32)"
      ]
     },
     "execution_count": 106,
     "metadata": {},
     "output_type": "execute_result"
    }
   ],
   "source": [
    "baseline_pred = predict(patient_baseline_df, best_model_baseline)\n",
    "baseline_pred"
   ]
  },
  {
   "cell_type": "code",
   "execution_count": 107,
   "metadata": {},
   "outputs": [
    {
     "data": {
      "text/plain": [
       "array([0.5700163 , 0.80353296, 0.43428272], dtype=float32)"
      ]
     },
     "execution_count": 107,
     "metadata": {},
     "output_type": "execute_result"
    }
   ],
   "source": [
    "TEG1_pred = predict(patient_TEG1_df, best_model_TEG1)\n",
    "TEG1_pred"
   ]
  },
  {
   "cell_type": "code",
   "execution_count": 108,
   "metadata": {},
   "outputs": [
    {
     "data": {
      "text/plain": [
       "array([0.2625347 , 0.38368842, 0.33364844], dtype=float32)"
      ]
     },
     "execution_count": 108,
     "metadata": {},
     "output_type": "execute_result"
    }
   ],
   "source": [
    "TEG2_pred = predict(patient_TEG2_df,  best_model_TEG2)\n",
    "TEG2_pred"
   ]
  },
  {
   "cell_type": "code",
   "execution_count": 128,
   "metadata": {},
   "outputs": [],
   "source": [
    "def iterate_importance(df, best_pipeline, ids):\n",
    "\n",
    "    df = df.copy()\n",
    "    \n",
    "    columns_to_drop = ['Record ID','Events', 'Visit Timepoint']\n",
    "\n",
    "    for column in columns_to_drop:\n",
    "        if column in df.columns:\n",
    "            df.drop(column, axis=1,inplace = True)\n",
    "\n",
    "    total_df = pd.DataFrame()\n",
    "\n",
    "    # Iterate through all rows in the DataFrame\n",
    "    for index, row in df.iterrows():\n",
    "        # Convert the row to a DataFrame with a single row\n",
    "        single_row_df = pd.DataFrame([row])\n",
    "\n",
    "        # Calculate shap_values for the current row\n",
    "        importance_df = feature_importance(best_pipeline, single_row_df)\n",
    "\n",
    "        # Set 'Feature' column as the index\n",
    "        importance_df.set_index('Feature', inplace=True)\n",
    "\n",
    "        # Add a new column to total_df with the corresponding index value from ids\n",
    "        total_df[ids[index]] = importance_df['Importance']\n",
    "\n",
    "    # Drop rows where all values are zeros\n",
    "    total_df = total_df.loc[(total_df != 0).any(axis=1)]\n",
    "\n",
    "    # Sort columns based on the highest average value\n",
    "    total_df = total_df.reindex(total_df.mean(axis=1).sort_values(ascending=False).index)\n",
    "\n",
    "    # Rename the index from 'Feature' to 'Factors'\n",
    "    total_df.rename_axis(index='Factors', inplace=True)\n",
    "\n",
    "    return total_df\n"
   ]
  },
  {
   "cell_type": "code",
   "execution_count": 129,
   "metadata": {},
   "outputs": [
    {
     "name": "stderr",
     "output_type": "stream",
     "text": [
      "/opt/anaconda3/envs/Capstone2023/lib/python3.10/site-packages/xgboost/core.py:160: UserWarning:\n",
      "\n",
      "[19:02:36] WARNING: /Users/runner/work/xgboost/xgboost/src/c_api/c_api.cc:1240: Saving into deprecated binary model format, please consider using `json` or `ubj`. Model format will default to JSON in XGBoost 2.2 if not specified.\n",
      "\n",
      "/opt/anaconda3/envs/Capstone2023/lib/python3.10/site-packages/xgboost/data.py:335: FutureWarning:\n",
      "\n",
      "is_sparse is deprecated and will be removed in a future version. Check `isinstance(dtype, pd.SparseDtype)` instead.\n",
      "\n",
      "/opt/anaconda3/envs/Capstone2023/lib/python3.10/site-packages/xgboost/data.py:338: FutureWarning:\n",
      "\n",
      "is_categorical_dtype is deprecated and will be removed in a future version. Use isinstance(dtype, CategoricalDtype) instead\n",
      "\n",
      "/opt/anaconda3/envs/Capstone2023/lib/python3.10/site-packages/xgboost/data.py:384: FutureWarning:\n",
      "\n",
      "is_categorical_dtype is deprecated and will be removed in a future version. Use isinstance(dtype, CategoricalDtype) instead\n",
      "\n",
      "/opt/anaconda3/envs/Capstone2023/lib/python3.10/site-packages/xgboost/data.py:359: FutureWarning:\n",
      "\n",
      "is_categorical_dtype is deprecated and will be removed in a future version. Use isinstance(dtype, CategoricalDtype) instead\n",
      "\n"
     ]
    },
    {
     "data": {
      "application/vnd.plotly.v1+json": {
       "config": {
        "plotlyServerURL": "https://plot.ly"
       },
       "data": [
        {
         "alignmentgroup": "True",
         "hovertemplate": "variable=Patient 39<br>Percentage=%{x}<br>Factors=%{y}<extra></extra>",
         "legendgroup": "Patient 39",
         "marker": {
          "color": "#636efa",
          "pattern": {
           "shape": ""
          }
         },
         "name": "Patient 39",
         "offsetgroup": "Patient 39",
         "orientation": "h",
         "showlegend": true,
         "textposition": "auto",
         "type": "bar",
         "x": [
          8.142359733581543,
          5.813186168670654,
          4.457015514373779,
          4.411660671234131,
          3.825169801712036,
          2.642242193222046,
          0.9286075830459595,
          0.7693125605583191,
          0.6251060962677002,
          0.559946596622467
         ],
         "xaxis": "x",
         "y": [
          "Artery affected_internal iliac",
          "ABI Right",
          "ABI left",
          "Age",
          "Rutherford Score",
          "History of MI",
          "EGFR (mL/min/1.73m2)",
          "BMI",
          "Hx of  DVT",
          "White"
         ],
         "yaxis": "y"
        }
       ],
       "layout": {
        "barmode": "relative",
        "legend": {
         "title": {
          "text": "variable"
         },
         "tracegroupgap": 0
        },
        "showlegend": true,
        "template": {
         "data": {
          "bar": [
           {
            "error_x": {
             "color": "#2a3f5f"
            },
            "error_y": {
             "color": "#2a3f5f"
            },
            "marker": {
             "line": {
              "color": "#E5ECF6",
              "width": 0.5
             },
             "pattern": {
              "fillmode": "overlay",
              "size": 10,
              "solidity": 0.2
             }
            },
            "type": "bar"
           }
          ],
          "barpolar": [
           {
            "marker": {
             "line": {
              "color": "#E5ECF6",
              "width": 0.5
             },
             "pattern": {
              "fillmode": "overlay",
              "size": 10,
              "solidity": 0.2
             }
            },
            "type": "barpolar"
           }
          ],
          "carpet": [
           {
            "aaxis": {
             "endlinecolor": "#2a3f5f",
             "gridcolor": "white",
             "linecolor": "white",
             "minorgridcolor": "white",
             "startlinecolor": "#2a3f5f"
            },
            "baxis": {
             "endlinecolor": "#2a3f5f",
             "gridcolor": "white",
             "linecolor": "white",
             "minorgridcolor": "white",
             "startlinecolor": "#2a3f5f"
            },
            "type": "carpet"
           }
          ],
          "choropleth": [
           {
            "colorbar": {
             "outlinewidth": 0,
             "ticks": ""
            },
            "type": "choropleth"
           }
          ],
          "contour": [
           {
            "colorbar": {
             "outlinewidth": 0,
             "ticks": ""
            },
            "colorscale": [
             [
              0,
              "#0d0887"
             ],
             [
              0.1111111111111111,
              "#46039f"
             ],
             [
              0.2222222222222222,
              "#7201a8"
             ],
             [
              0.3333333333333333,
              "#9c179e"
             ],
             [
              0.4444444444444444,
              "#bd3786"
             ],
             [
              0.5555555555555556,
              "#d8576b"
             ],
             [
              0.6666666666666666,
              "#ed7953"
             ],
             [
              0.7777777777777778,
              "#fb9f3a"
             ],
             [
              0.8888888888888888,
              "#fdca26"
             ],
             [
              1,
              "#f0f921"
             ]
            ],
            "type": "contour"
           }
          ],
          "contourcarpet": [
           {
            "colorbar": {
             "outlinewidth": 0,
             "ticks": ""
            },
            "type": "contourcarpet"
           }
          ],
          "heatmap": [
           {
            "colorbar": {
             "outlinewidth": 0,
             "ticks": ""
            },
            "colorscale": [
             [
              0,
              "#0d0887"
             ],
             [
              0.1111111111111111,
              "#46039f"
             ],
             [
              0.2222222222222222,
              "#7201a8"
             ],
             [
              0.3333333333333333,
              "#9c179e"
             ],
             [
              0.4444444444444444,
              "#bd3786"
             ],
             [
              0.5555555555555556,
              "#d8576b"
             ],
             [
              0.6666666666666666,
              "#ed7953"
             ],
             [
              0.7777777777777778,
              "#fb9f3a"
             ],
             [
              0.8888888888888888,
              "#fdca26"
             ],
             [
              1,
              "#f0f921"
             ]
            ],
            "type": "heatmap"
           }
          ],
          "heatmapgl": [
           {
            "colorbar": {
             "outlinewidth": 0,
             "ticks": ""
            },
            "colorscale": [
             [
              0,
              "#0d0887"
             ],
             [
              0.1111111111111111,
              "#46039f"
             ],
             [
              0.2222222222222222,
              "#7201a8"
             ],
             [
              0.3333333333333333,
              "#9c179e"
             ],
             [
              0.4444444444444444,
              "#bd3786"
             ],
             [
              0.5555555555555556,
              "#d8576b"
             ],
             [
              0.6666666666666666,
              "#ed7953"
             ],
             [
              0.7777777777777778,
              "#fb9f3a"
             ],
             [
              0.8888888888888888,
              "#fdca26"
             ],
             [
              1,
              "#f0f921"
             ]
            ],
            "type": "heatmapgl"
           }
          ],
          "histogram": [
           {
            "marker": {
             "pattern": {
              "fillmode": "overlay",
              "size": 10,
              "solidity": 0.2
             }
            },
            "type": "histogram"
           }
          ],
          "histogram2d": [
           {
            "colorbar": {
             "outlinewidth": 0,
             "ticks": ""
            },
            "colorscale": [
             [
              0,
              "#0d0887"
             ],
             [
              0.1111111111111111,
              "#46039f"
             ],
             [
              0.2222222222222222,
              "#7201a8"
             ],
             [
              0.3333333333333333,
              "#9c179e"
             ],
             [
              0.4444444444444444,
              "#bd3786"
             ],
             [
              0.5555555555555556,
              "#d8576b"
             ],
             [
              0.6666666666666666,
              "#ed7953"
             ],
             [
              0.7777777777777778,
              "#fb9f3a"
             ],
             [
              0.8888888888888888,
              "#fdca26"
             ],
             [
              1,
              "#f0f921"
             ]
            ],
            "type": "histogram2d"
           }
          ],
          "histogram2dcontour": [
           {
            "colorbar": {
             "outlinewidth": 0,
             "ticks": ""
            },
            "colorscale": [
             [
              0,
              "#0d0887"
             ],
             [
              0.1111111111111111,
              "#46039f"
             ],
             [
              0.2222222222222222,
              "#7201a8"
             ],
             [
              0.3333333333333333,
              "#9c179e"
             ],
             [
              0.4444444444444444,
              "#bd3786"
             ],
             [
              0.5555555555555556,
              "#d8576b"
             ],
             [
              0.6666666666666666,
              "#ed7953"
             ],
             [
              0.7777777777777778,
              "#fb9f3a"
             ],
             [
              0.8888888888888888,
              "#fdca26"
             ],
             [
              1,
              "#f0f921"
             ]
            ],
            "type": "histogram2dcontour"
           }
          ],
          "mesh3d": [
           {
            "colorbar": {
             "outlinewidth": 0,
             "ticks": ""
            },
            "type": "mesh3d"
           }
          ],
          "parcoords": [
           {
            "line": {
             "colorbar": {
              "outlinewidth": 0,
              "ticks": ""
             }
            },
            "type": "parcoords"
           }
          ],
          "pie": [
           {
            "automargin": true,
            "type": "pie"
           }
          ],
          "scatter": [
           {
            "fillpattern": {
             "fillmode": "overlay",
             "size": 10,
             "solidity": 0.2
            },
            "type": "scatter"
           }
          ],
          "scatter3d": [
           {
            "line": {
             "colorbar": {
              "outlinewidth": 0,
              "ticks": ""
             }
            },
            "marker": {
             "colorbar": {
              "outlinewidth": 0,
              "ticks": ""
             }
            },
            "type": "scatter3d"
           }
          ],
          "scattercarpet": [
           {
            "marker": {
             "colorbar": {
              "outlinewidth": 0,
              "ticks": ""
             }
            },
            "type": "scattercarpet"
           }
          ],
          "scattergeo": [
           {
            "marker": {
             "colorbar": {
              "outlinewidth": 0,
              "ticks": ""
             }
            },
            "type": "scattergeo"
           }
          ],
          "scattergl": [
           {
            "marker": {
             "colorbar": {
              "outlinewidth": 0,
              "ticks": ""
             }
            },
            "type": "scattergl"
           }
          ],
          "scattermapbox": [
           {
            "marker": {
             "colorbar": {
              "outlinewidth": 0,
              "ticks": ""
             }
            },
            "type": "scattermapbox"
           }
          ],
          "scatterpolar": [
           {
            "marker": {
             "colorbar": {
              "outlinewidth": 0,
              "ticks": ""
             }
            },
            "type": "scatterpolar"
           }
          ],
          "scatterpolargl": [
           {
            "marker": {
             "colorbar": {
              "outlinewidth": 0,
              "ticks": ""
             }
            },
            "type": "scatterpolargl"
           }
          ],
          "scatterternary": [
           {
            "marker": {
             "colorbar": {
              "outlinewidth": 0,
              "ticks": ""
             }
            },
            "type": "scatterternary"
           }
          ],
          "surface": [
           {
            "colorbar": {
             "outlinewidth": 0,
             "ticks": ""
            },
            "colorscale": [
             [
              0,
              "#0d0887"
             ],
             [
              0.1111111111111111,
              "#46039f"
             ],
             [
              0.2222222222222222,
              "#7201a8"
             ],
             [
              0.3333333333333333,
              "#9c179e"
             ],
             [
              0.4444444444444444,
              "#bd3786"
             ],
             [
              0.5555555555555556,
              "#d8576b"
             ],
             [
              0.6666666666666666,
              "#ed7953"
             ],
             [
              0.7777777777777778,
              "#fb9f3a"
             ],
             [
              0.8888888888888888,
              "#fdca26"
             ],
             [
              1,
              "#f0f921"
             ]
            ],
            "type": "surface"
           }
          ],
          "table": [
           {
            "cells": {
             "fill": {
              "color": "#EBF0F8"
             },
             "line": {
              "color": "white"
             }
            },
            "header": {
             "fill": {
              "color": "#C8D4E3"
             },
             "line": {
              "color": "white"
             }
            },
            "type": "table"
           }
          ]
         },
         "layout": {
          "annotationdefaults": {
           "arrowcolor": "#2a3f5f",
           "arrowhead": 0,
           "arrowwidth": 1
          },
          "autotypenumbers": "strict",
          "coloraxis": {
           "colorbar": {
            "outlinewidth": 0,
            "ticks": ""
           }
          },
          "colorscale": {
           "diverging": [
            [
             0,
             "#8e0152"
            ],
            [
             0.1,
             "#c51b7d"
            ],
            [
             0.2,
             "#de77ae"
            ],
            [
             0.3,
             "#f1b6da"
            ],
            [
             0.4,
             "#fde0ef"
            ],
            [
             0.5,
             "#f7f7f7"
            ],
            [
             0.6,
             "#e6f5d0"
            ],
            [
             0.7,
             "#b8e186"
            ],
            [
             0.8,
             "#7fbc41"
            ],
            [
             0.9,
             "#4d9221"
            ],
            [
             1,
             "#276419"
            ]
           ],
           "sequential": [
            [
             0,
             "#0d0887"
            ],
            [
             0.1111111111111111,
             "#46039f"
            ],
            [
             0.2222222222222222,
             "#7201a8"
            ],
            [
             0.3333333333333333,
             "#9c179e"
            ],
            [
             0.4444444444444444,
             "#bd3786"
            ],
            [
             0.5555555555555556,
             "#d8576b"
            ],
            [
             0.6666666666666666,
             "#ed7953"
            ],
            [
             0.7777777777777778,
             "#fb9f3a"
            ],
            [
             0.8888888888888888,
             "#fdca26"
            ],
            [
             1,
             "#f0f921"
            ]
           ],
           "sequentialminus": [
            [
             0,
             "#0d0887"
            ],
            [
             0.1111111111111111,
             "#46039f"
            ],
            [
             0.2222222222222222,
             "#7201a8"
            ],
            [
             0.3333333333333333,
             "#9c179e"
            ],
            [
             0.4444444444444444,
             "#bd3786"
            ],
            [
             0.5555555555555556,
             "#d8576b"
            ],
            [
             0.6666666666666666,
             "#ed7953"
            ],
            [
             0.7777777777777778,
             "#fb9f3a"
            ],
            [
             0.8888888888888888,
             "#fdca26"
            ],
            [
             1,
             "#f0f921"
            ]
           ]
          },
          "colorway": [
           "#636efa",
           "#EF553B",
           "#00cc96",
           "#ab63fa",
           "#FFA15A",
           "#19d3f3",
           "#FF6692",
           "#B6E880",
           "#FF97FF",
           "#FECB52"
          ],
          "font": {
           "color": "#2a3f5f"
          },
          "geo": {
           "bgcolor": "white",
           "lakecolor": "white",
           "landcolor": "#E5ECF6",
           "showlakes": true,
           "showland": true,
           "subunitcolor": "white"
          },
          "hoverlabel": {
           "align": "left"
          },
          "hovermode": "closest",
          "mapbox": {
           "style": "light"
          },
          "paper_bgcolor": "white",
          "plot_bgcolor": "#E5ECF6",
          "polar": {
           "angularaxis": {
            "gridcolor": "white",
            "linecolor": "white",
            "ticks": ""
           },
           "bgcolor": "#E5ECF6",
           "radialaxis": {
            "gridcolor": "white",
            "linecolor": "white",
            "ticks": ""
           }
          },
          "scene": {
           "xaxis": {
            "backgroundcolor": "#E5ECF6",
            "gridcolor": "white",
            "gridwidth": 2,
            "linecolor": "white",
            "showbackground": true,
            "ticks": "",
            "zerolinecolor": "white"
           },
           "yaxis": {
            "backgroundcolor": "#E5ECF6",
            "gridcolor": "white",
            "gridwidth": 2,
            "linecolor": "white",
            "showbackground": true,
            "ticks": "",
            "zerolinecolor": "white"
           },
           "zaxis": {
            "backgroundcolor": "#E5ECF6",
            "gridcolor": "white",
            "gridwidth": 2,
            "linecolor": "white",
            "showbackground": true,
            "ticks": "",
            "zerolinecolor": "white"
           }
          },
          "shapedefaults": {
           "line": {
            "color": "#2a3f5f"
           }
          },
          "ternary": {
           "aaxis": {
            "gridcolor": "white",
            "linecolor": "white",
            "ticks": ""
           },
           "baxis": {
            "gridcolor": "white",
            "linecolor": "white",
            "ticks": ""
           },
           "bgcolor": "#E5ECF6",
           "caxis": {
            "gridcolor": "white",
            "linecolor": "white",
            "ticks": ""
           }
          },
          "title": {
           "x": 0.05
          },
          "xaxis": {
           "automargin": true,
           "gridcolor": "white",
           "linecolor": "white",
           "ticks": "",
           "title": {
            "standoff": 15
           },
           "zerolinecolor": "white",
           "zerolinewidth": 2
          },
          "yaxis": {
           "automargin": true,
           "gridcolor": "white",
           "linecolor": "white",
           "ticks": "",
           "title": {
            "standoff": 15
           },
           "zerolinecolor": "white",
           "zerolinewidth": 2
          }
         }
        },
        "title": {
         "text": "Top 10 Factors based on baseline data"
        },
        "xaxis": {
         "anchor": "y",
         "domain": [
          0,
          1
         ],
         "title": {
          "text": "Percentage"
         }
        },
        "yaxis": {
         "anchor": "x",
         "categoryorder": "total ascending",
         "domain": [
          0,
          1
         ],
         "title": {
          "text": "Factors"
         }
        }
       }
      }
     },
     "metadata": {},
     "output_type": "display_data"
    }
   ],
   "source": [
    "baseline_shap_values_list = iterate_importance(patient_baseline_df, best_model_baseline, baseline_id)\n",
    "fig = plot_importance(baseline_shap_values_list ,\"Top 10 Factors based on baseline data\")\n",
    "display(fig)\n",
    "\n"
   ]
  },
  {
   "cell_type": "code",
   "execution_count": 130,
   "metadata": {},
   "outputs": [
    {
     "name": "stderr",
     "output_type": "stream",
     "text": [
      "/opt/anaconda3/envs/Capstone2023/lib/python3.10/site-packages/xgboost/core.py:160: UserWarning:\n",
      "\n",
      "[19:02:43] WARNING: /Users/runner/work/xgboost/xgboost/src/c_api/c_api.cc:1240: Saving into deprecated binary model format, please consider using `json` or `ubj`. Model format will default to JSON in XGBoost 2.2 if not specified.\n",
      "\n",
      "/opt/anaconda3/envs/Capstone2023/lib/python3.10/site-packages/xgboost/data.py:335: FutureWarning:\n",
      "\n",
      "is_sparse is deprecated and will be removed in a future version. Check `isinstance(dtype, pd.SparseDtype)` instead.\n",
      "\n",
      "/opt/anaconda3/envs/Capstone2023/lib/python3.10/site-packages/xgboost/data.py:338: FutureWarning:\n",
      "\n",
      "is_categorical_dtype is deprecated and will be removed in a future version. Use isinstance(dtype, CategoricalDtype) instead\n",
      "\n",
      "/opt/anaconda3/envs/Capstone2023/lib/python3.10/site-packages/xgboost/data.py:384: FutureWarning:\n",
      "\n",
      "is_categorical_dtype is deprecated and will be removed in a future version. Use isinstance(dtype, CategoricalDtype) instead\n",
      "\n",
      "/opt/anaconda3/envs/Capstone2023/lib/python3.10/site-packages/xgboost/data.py:359: FutureWarning:\n",
      "\n",
      "is_categorical_dtype is deprecated and will be removed in a future version. Use isinstance(dtype, CategoricalDtype) instead\n",
      "\n",
      "/opt/anaconda3/envs/Capstone2023/lib/python3.10/site-packages/xgboost/core.py:160: UserWarning:\n",
      "\n",
      "[19:02:43] WARNING: /Users/runner/work/xgboost/xgboost/src/c_api/c_api.cc:1240: Saving into deprecated binary model format, please consider using `json` or `ubj`. Model format will default to JSON in XGBoost 2.2 if not specified.\n",
      "\n",
      "/opt/anaconda3/envs/Capstone2023/lib/python3.10/site-packages/xgboost/data.py:335: FutureWarning:\n",
      "\n",
      "is_sparse is deprecated and will be removed in a future version. Check `isinstance(dtype, pd.SparseDtype)` instead.\n",
      "\n",
      "/opt/anaconda3/envs/Capstone2023/lib/python3.10/site-packages/xgboost/data.py:338: FutureWarning:\n",
      "\n",
      "is_categorical_dtype is deprecated and will be removed in a future version. Use isinstance(dtype, CategoricalDtype) instead\n",
      "\n",
      "/opt/anaconda3/envs/Capstone2023/lib/python3.10/site-packages/xgboost/data.py:384: FutureWarning:\n",
      "\n",
      "is_categorical_dtype is deprecated and will be removed in a future version. Use isinstance(dtype, CategoricalDtype) instead\n",
      "\n",
      "/opt/anaconda3/envs/Capstone2023/lib/python3.10/site-packages/xgboost/data.py:359: FutureWarning:\n",
      "\n",
      "is_categorical_dtype is deprecated and will be removed in a future version. Use isinstance(dtype, CategoricalDtype) instead\n",
      "\n",
      "/opt/anaconda3/envs/Capstone2023/lib/python3.10/site-packages/xgboost/core.py:160: UserWarning:\n",
      "\n",
      "[19:02:43] WARNING: /Users/runner/work/xgboost/xgboost/src/c_api/c_api.cc:1240: Saving into deprecated binary model format, please consider using `json` or `ubj`. Model format will default to JSON in XGBoost 2.2 if not specified.\n",
      "\n",
      "/opt/anaconda3/envs/Capstone2023/lib/python3.10/site-packages/xgboost/data.py:335: FutureWarning:\n",
      "\n",
      "is_sparse is deprecated and will be removed in a future version. Check `isinstance(dtype, pd.SparseDtype)` instead.\n",
      "\n",
      "/opt/anaconda3/envs/Capstone2023/lib/python3.10/site-packages/xgboost/data.py:338: FutureWarning:\n",
      "\n",
      "is_categorical_dtype is deprecated and will be removed in a future version. Use isinstance(dtype, CategoricalDtype) instead\n",
      "\n",
      "/opt/anaconda3/envs/Capstone2023/lib/python3.10/site-packages/xgboost/data.py:384: FutureWarning:\n",
      "\n",
      "is_categorical_dtype is deprecated and will be removed in a future version. Use isinstance(dtype, CategoricalDtype) instead\n",
      "\n",
      "/opt/anaconda3/envs/Capstone2023/lib/python3.10/site-packages/xgboost/data.py:359: FutureWarning:\n",
      "\n",
      "is_categorical_dtype is deprecated and will be removed in a future version. Use isinstance(dtype, CategoricalDtype) instead\n",
      "\n"
     ]
    },
    {
     "data": {
      "application/vnd.plotly.v1+json": {
       "config": {
        "plotlyServerURL": "https://plot.ly"
       },
       "data": [
        {
         "alignmentgroup": "True",
         "hovertemplate": "variable=Patient 39: Baseline<br>Percentage=%{x}<br>Factors=%{y}<extra></extra>",
         "legendgroup": "Patient 39: Baseline",
         "marker": {
          "color": "#636efa",
          "pattern": {
           "shape": ""
          }
         },
         "name": "Patient 39: Baseline",
         "offsetgroup": "Patient 39: Baseline",
         "orientation": "h",
         "showlegend": true,
         "textposition": "auto",
         "type": "bar",
         "x": [
          11.142017364501953,
          7.837177276611328,
          6.059183120727539,
          5.898847579956055,
          5.8987908363342285,
          5.542958736419678,
          5.889379024505615,
          4.271222114562988,
          4.183412075042725,
          3.9931297302246094
         ],
         "xaxis": "x",
         "y": [
          "CFF FLEV(mg/dL)",
          "CFF FLEV(mg/dL)_difference_since_last_timepoint",
          "CK angle( deg)_difference_since_last_timepoint",
          "ADP % Aggregation_difference_since_last_timepoint",
          "Lysis at 30 min (LY30) in %_difference_since_last_timepoint",
          "BP_Diastolic",
          "ADP % Inhibition_difference_since_last_timepoint",
          "AA % Inhibition_difference_since_last_timepoint",
          "CRT MA(mm)",
          "AA % Aggregation_difference_since_last_timepoint"
         ],
         "yaxis": "y"
        },
        {
         "alignmentgroup": "True",
         "hovertemplate": "variable=Patient 39: Post Op day 1 (4-36 hours)<br>Percentage=%{x}<br>Factors=%{y}<extra></extra>",
         "legendgroup": "Patient 39: Post Op day 1 (4-36 hours)",
         "marker": {
          "color": "#EF553B",
          "pattern": {
           "shape": ""
          }
         },
         "name": "Patient 39: Post Op day 1 (4-36 hours)",
         "offsetgroup": "Patient 39: Post Op day 1 (4-36 hours)",
         "orientation": "h",
         "showlegend": true,
         "textposition": "auto",
         "type": "bar",
         "x": [
          11.142017364501953,
          7.837177276611328,
          6.059183120727539,
          5.898847579956055,
          5.8987908363342285,
          5.542958736419678,
          5.889379024505615,
          4.271222114562988,
          4.183412075042725,
          3.9931297302246094
         ],
         "xaxis": "x",
         "y": [
          "CFF FLEV(mg/dL)",
          "CFF FLEV(mg/dL)_difference_since_last_timepoint",
          "CK angle( deg)_difference_since_last_timepoint",
          "ADP % Aggregation_difference_since_last_timepoint",
          "Lysis at 30 min (LY30) in %_difference_since_last_timepoint",
          "BP_Diastolic",
          "ADP % Inhibition_difference_since_last_timepoint",
          "AA % Inhibition_difference_since_last_timepoint",
          "CRT MA(mm)",
          "AA % Aggregation_difference_since_last_timepoint"
         ],
         "yaxis": "y"
        },
        {
         "alignmentgroup": "True",
         "hovertemplate": "variable=Patient 40: 1M PO<br>Percentage=%{x}<br>Factors=%{y}<extra></extra>",
         "legendgroup": "Patient 40: 1M PO",
         "marker": {
          "color": "#00cc96",
          "pattern": {
           "shape": ""
          }
         },
         "name": "Patient 40: 1M PO",
         "offsetgroup": "Patient 40: 1M PO",
         "orientation": "h",
         "showlegend": true,
         "textposition": "auto",
         "type": "bar",
         "x": [
          11.142017364501953,
          7.837177276611328,
          6.059183120727539,
          5.898847579956055,
          5.8987908363342285,
          5.542958736419678,
          1.079325556755066,
          4.271222114562988,
          4.183412075042725,
          3.9931297302246094
         ],
         "xaxis": "x",
         "y": [
          "CFF FLEV(mg/dL)",
          "CFF FLEV(mg/dL)_difference_since_last_timepoint",
          "CK angle( deg)_difference_since_last_timepoint",
          "ADP % Aggregation_difference_since_last_timepoint",
          "Lysis at 30 min (LY30) in %_difference_since_last_timepoint",
          "BP_Diastolic",
          "ADP % Inhibition_difference_since_last_timepoint",
          "AA % Inhibition_difference_since_last_timepoint",
          "CRT MA(mm)",
          "AA % Aggregation_difference_since_last_timepoint"
         ],
         "yaxis": "y"
        }
       ],
       "layout": {
        "barmode": "relative",
        "legend": {
         "title": {
          "text": "variable"
         },
         "tracegroupgap": 0
        },
        "showlegend": true,
        "template": {
         "data": {
          "bar": [
           {
            "error_x": {
             "color": "#2a3f5f"
            },
            "error_y": {
             "color": "#2a3f5f"
            },
            "marker": {
             "line": {
              "color": "#E5ECF6",
              "width": 0.5
             },
             "pattern": {
              "fillmode": "overlay",
              "size": 10,
              "solidity": 0.2
             }
            },
            "type": "bar"
           }
          ],
          "barpolar": [
           {
            "marker": {
             "line": {
              "color": "#E5ECF6",
              "width": 0.5
             },
             "pattern": {
              "fillmode": "overlay",
              "size": 10,
              "solidity": 0.2
             }
            },
            "type": "barpolar"
           }
          ],
          "carpet": [
           {
            "aaxis": {
             "endlinecolor": "#2a3f5f",
             "gridcolor": "white",
             "linecolor": "white",
             "minorgridcolor": "white",
             "startlinecolor": "#2a3f5f"
            },
            "baxis": {
             "endlinecolor": "#2a3f5f",
             "gridcolor": "white",
             "linecolor": "white",
             "minorgridcolor": "white",
             "startlinecolor": "#2a3f5f"
            },
            "type": "carpet"
           }
          ],
          "choropleth": [
           {
            "colorbar": {
             "outlinewidth": 0,
             "ticks": ""
            },
            "type": "choropleth"
           }
          ],
          "contour": [
           {
            "colorbar": {
             "outlinewidth": 0,
             "ticks": ""
            },
            "colorscale": [
             [
              0,
              "#0d0887"
             ],
             [
              0.1111111111111111,
              "#46039f"
             ],
             [
              0.2222222222222222,
              "#7201a8"
             ],
             [
              0.3333333333333333,
              "#9c179e"
             ],
             [
              0.4444444444444444,
              "#bd3786"
             ],
             [
              0.5555555555555556,
              "#d8576b"
             ],
             [
              0.6666666666666666,
              "#ed7953"
             ],
             [
              0.7777777777777778,
              "#fb9f3a"
             ],
             [
              0.8888888888888888,
              "#fdca26"
             ],
             [
              1,
              "#f0f921"
             ]
            ],
            "type": "contour"
           }
          ],
          "contourcarpet": [
           {
            "colorbar": {
             "outlinewidth": 0,
             "ticks": ""
            },
            "type": "contourcarpet"
           }
          ],
          "heatmap": [
           {
            "colorbar": {
             "outlinewidth": 0,
             "ticks": ""
            },
            "colorscale": [
             [
              0,
              "#0d0887"
             ],
             [
              0.1111111111111111,
              "#46039f"
             ],
             [
              0.2222222222222222,
              "#7201a8"
             ],
             [
              0.3333333333333333,
              "#9c179e"
             ],
             [
              0.4444444444444444,
              "#bd3786"
             ],
             [
              0.5555555555555556,
              "#d8576b"
             ],
             [
              0.6666666666666666,
              "#ed7953"
             ],
             [
              0.7777777777777778,
              "#fb9f3a"
             ],
             [
              0.8888888888888888,
              "#fdca26"
             ],
             [
              1,
              "#f0f921"
             ]
            ],
            "type": "heatmap"
           }
          ],
          "heatmapgl": [
           {
            "colorbar": {
             "outlinewidth": 0,
             "ticks": ""
            },
            "colorscale": [
             [
              0,
              "#0d0887"
             ],
             [
              0.1111111111111111,
              "#46039f"
             ],
             [
              0.2222222222222222,
              "#7201a8"
             ],
             [
              0.3333333333333333,
              "#9c179e"
             ],
             [
              0.4444444444444444,
              "#bd3786"
             ],
             [
              0.5555555555555556,
              "#d8576b"
             ],
             [
              0.6666666666666666,
              "#ed7953"
             ],
             [
              0.7777777777777778,
              "#fb9f3a"
             ],
             [
              0.8888888888888888,
              "#fdca26"
             ],
             [
              1,
              "#f0f921"
             ]
            ],
            "type": "heatmapgl"
           }
          ],
          "histogram": [
           {
            "marker": {
             "pattern": {
              "fillmode": "overlay",
              "size": 10,
              "solidity": 0.2
             }
            },
            "type": "histogram"
           }
          ],
          "histogram2d": [
           {
            "colorbar": {
             "outlinewidth": 0,
             "ticks": ""
            },
            "colorscale": [
             [
              0,
              "#0d0887"
             ],
             [
              0.1111111111111111,
              "#46039f"
             ],
             [
              0.2222222222222222,
              "#7201a8"
             ],
             [
              0.3333333333333333,
              "#9c179e"
             ],
             [
              0.4444444444444444,
              "#bd3786"
             ],
             [
              0.5555555555555556,
              "#d8576b"
             ],
             [
              0.6666666666666666,
              "#ed7953"
             ],
             [
              0.7777777777777778,
              "#fb9f3a"
             ],
             [
              0.8888888888888888,
              "#fdca26"
             ],
             [
              1,
              "#f0f921"
             ]
            ],
            "type": "histogram2d"
           }
          ],
          "histogram2dcontour": [
           {
            "colorbar": {
             "outlinewidth": 0,
             "ticks": ""
            },
            "colorscale": [
             [
              0,
              "#0d0887"
             ],
             [
              0.1111111111111111,
              "#46039f"
             ],
             [
              0.2222222222222222,
              "#7201a8"
             ],
             [
              0.3333333333333333,
              "#9c179e"
             ],
             [
              0.4444444444444444,
              "#bd3786"
             ],
             [
              0.5555555555555556,
              "#d8576b"
             ],
             [
              0.6666666666666666,
              "#ed7953"
             ],
             [
              0.7777777777777778,
              "#fb9f3a"
             ],
             [
              0.8888888888888888,
              "#fdca26"
             ],
             [
              1,
              "#f0f921"
             ]
            ],
            "type": "histogram2dcontour"
           }
          ],
          "mesh3d": [
           {
            "colorbar": {
             "outlinewidth": 0,
             "ticks": ""
            },
            "type": "mesh3d"
           }
          ],
          "parcoords": [
           {
            "line": {
             "colorbar": {
              "outlinewidth": 0,
              "ticks": ""
             }
            },
            "type": "parcoords"
           }
          ],
          "pie": [
           {
            "automargin": true,
            "type": "pie"
           }
          ],
          "scatter": [
           {
            "fillpattern": {
             "fillmode": "overlay",
             "size": 10,
             "solidity": 0.2
            },
            "type": "scatter"
           }
          ],
          "scatter3d": [
           {
            "line": {
             "colorbar": {
              "outlinewidth": 0,
              "ticks": ""
             }
            },
            "marker": {
             "colorbar": {
              "outlinewidth": 0,
              "ticks": ""
             }
            },
            "type": "scatter3d"
           }
          ],
          "scattercarpet": [
           {
            "marker": {
             "colorbar": {
              "outlinewidth": 0,
              "ticks": ""
             }
            },
            "type": "scattercarpet"
           }
          ],
          "scattergeo": [
           {
            "marker": {
             "colorbar": {
              "outlinewidth": 0,
              "ticks": ""
             }
            },
            "type": "scattergeo"
           }
          ],
          "scattergl": [
           {
            "marker": {
             "colorbar": {
              "outlinewidth": 0,
              "ticks": ""
             }
            },
            "type": "scattergl"
           }
          ],
          "scattermapbox": [
           {
            "marker": {
             "colorbar": {
              "outlinewidth": 0,
              "ticks": ""
             }
            },
            "type": "scattermapbox"
           }
          ],
          "scatterpolar": [
           {
            "marker": {
             "colorbar": {
              "outlinewidth": 0,
              "ticks": ""
             }
            },
            "type": "scatterpolar"
           }
          ],
          "scatterpolargl": [
           {
            "marker": {
             "colorbar": {
              "outlinewidth": 0,
              "ticks": ""
             }
            },
            "type": "scatterpolargl"
           }
          ],
          "scatterternary": [
           {
            "marker": {
             "colorbar": {
              "outlinewidth": 0,
              "ticks": ""
             }
            },
            "type": "scatterternary"
           }
          ],
          "surface": [
           {
            "colorbar": {
             "outlinewidth": 0,
             "ticks": ""
            },
            "colorscale": [
             [
              0,
              "#0d0887"
             ],
             [
              0.1111111111111111,
              "#46039f"
             ],
             [
              0.2222222222222222,
              "#7201a8"
             ],
             [
              0.3333333333333333,
              "#9c179e"
             ],
             [
              0.4444444444444444,
              "#bd3786"
             ],
             [
              0.5555555555555556,
              "#d8576b"
             ],
             [
              0.6666666666666666,
              "#ed7953"
             ],
             [
              0.7777777777777778,
              "#fb9f3a"
             ],
             [
              0.8888888888888888,
              "#fdca26"
             ],
             [
              1,
              "#f0f921"
             ]
            ],
            "type": "surface"
           }
          ],
          "table": [
           {
            "cells": {
             "fill": {
              "color": "#EBF0F8"
             },
             "line": {
              "color": "white"
             }
            },
            "header": {
             "fill": {
              "color": "#C8D4E3"
             },
             "line": {
              "color": "white"
             }
            },
            "type": "table"
           }
          ]
         },
         "layout": {
          "annotationdefaults": {
           "arrowcolor": "#2a3f5f",
           "arrowhead": 0,
           "arrowwidth": 1
          },
          "autotypenumbers": "strict",
          "coloraxis": {
           "colorbar": {
            "outlinewidth": 0,
            "ticks": ""
           }
          },
          "colorscale": {
           "diverging": [
            [
             0,
             "#8e0152"
            ],
            [
             0.1,
             "#c51b7d"
            ],
            [
             0.2,
             "#de77ae"
            ],
            [
             0.3,
             "#f1b6da"
            ],
            [
             0.4,
             "#fde0ef"
            ],
            [
             0.5,
             "#f7f7f7"
            ],
            [
             0.6,
             "#e6f5d0"
            ],
            [
             0.7,
             "#b8e186"
            ],
            [
             0.8,
             "#7fbc41"
            ],
            [
             0.9,
             "#4d9221"
            ],
            [
             1,
             "#276419"
            ]
           ],
           "sequential": [
            [
             0,
             "#0d0887"
            ],
            [
             0.1111111111111111,
             "#46039f"
            ],
            [
             0.2222222222222222,
             "#7201a8"
            ],
            [
             0.3333333333333333,
             "#9c179e"
            ],
            [
             0.4444444444444444,
             "#bd3786"
            ],
            [
             0.5555555555555556,
             "#d8576b"
            ],
            [
             0.6666666666666666,
             "#ed7953"
            ],
            [
             0.7777777777777778,
             "#fb9f3a"
            ],
            [
             0.8888888888888888,
             "#fdca26"
            ],
            [
             1,
             "#f0f921"
            ]
           ],
           "sequentialminus": [
            [
             0,
             "#0d0887"
            ],
            [
             0.1111111111111111,
             "#46039f"
            ],
            [
             0.2222222222222222,
             "#7201a8"
            ],
            [
             0.3333333333333333,
             "#9c179e"
            ],
            [
             0.4444444444444444,
             "#bd3786"
            ],
            [
             0.5555555555555556,
             "#d8576b"
            ],
            [
             0.6666666666666666,
             "#ed7953"
            ],
            [
             0.7777777777777778,
             "#fb9f3a"
            ],
            [
             0.8888888888888888,
             "#fdca26"
            ],
            [
             1,
             "#f0f921"
            ]
           ]
          },
          "colorway": [
           "#636efa",
           "#EF553B",
           "#00cc96",
           "#ab63fa",
           "#FFA15A",
           "#19d3f3",
           "#FF6692",
           "#B6E880",
           "#FF97FF",
           "#FECB52"
          ],
          "font": {
           "color": "#2a3f5f"
          },
          "geo": {
           "bgcolor": "white",
           "lakecolor": "white",
           "landcolor": "#E5ECF6",
           "showlakes": true,
           "showland": true,
           "subunitcolor": "white"
          },
          "hoverlabel": {
           "align": "left"
          },
          "hovermode": "closest",
          "mapbox": {
           "style": "light"
          },
          "paper_bgcolor": "white",
          "plot_bgcolor": "#E5ECF6",
          "polar": {
           "angularaxis": {
            "gridcolor": "white",
            "linecolor": "white",
            "ticks": ""
           },
           "bgcolor": "#E5ECF6",
           "radialaxis": {
            "gridcolor": "white",
            "linecolor": "white",
            "ticks": ""
           }
          },
          "scene": {
           "xaxis": {
            "backgroundcolor": "#E5ECF6",
            "gridcolor": "white",
            "gridwidth": 2,
            "linecolor": "white",
            "showbackground": true,
            "ticks": "",
            "zerolinecolor": "white"
           },
           "yaxis": {
            "backgroundcolor": "#E5ECF6",
            "gridcolor": "white",
            "gridwidth": 2,
            "linecolor": "white",
            "showbackground": true,
            "ticks": "",
            "zerolinecolor": "white"
           },
           "zaxis": {
            "backgroundcolor": "#E5ECF6",
            "gridcolor": "white",
            "gridwidth": 2,
            "linecolor": "white",
            "showbackground": true,
            "ticks": "",
            "zerolinecolor": "white"
           }
          },
          "shapedefaults": {
           "line": {
            "color": "#2a3f5f"
           }
          },
          "ternary": {
           "aaxis": {
            "gridcolor": "white",
            "linecolor": "white",
            "ticks": ""
           },
           "baxis": {
            "gridcolor": "white",
            "linecolor": "white",
            "ticks": ""
           },
           "bgcolor": "#E5ECF6",
           "caxis": {
            "gridcolor": "white",
            "linecolor": "white",
            "ticks": ""
           }
          },
          "title": {
           "x": 0.05
          },
          "xaxis": {
           "automargin": true,
           "gridcolor": "white",
           "linecolor": "white",
           "ticks": "",
           "title": {
            "standoff": 15
           },
           "zerolinecolor": "white",
           "zerolinewidth": 2
          },
          "yaxis": {
           "automargin": true,
           "gridcolor": "white",
           "linecolor": "white",
           "ticks": "",
           "title": {
            "standoff": 15
           },
           "zerolinecolor": "white",
           "zerolinewidth": 2
          }
         }
        },
        "title": {
         "text": "Top 10 Factors based on TEG 1 model"
        },
        "xaxis": {
         "anchor": "y",
         "domain": [
          0,
          1
         ],
         "title": {
          "text": "Percentage"
         }
        },
        "yaxis": {
         "anchor": "x",
         "categoryorder": "total ascending",
         "domain": [
          0,
          1
         ],
         "title": {
          "text": "Factors"
         }
        }
       }
      }
     },
     "metadata": {},
     "output_type": "display_data"
    }
   ],
   "source": [
    "TEG1_shap_values_list = iterate_importance(patient_TEG1_df, best_model_TEG1, tegValues_id)\n",
    "fig = plot_importance(TEG1_shap_values_list, \"Top 10 Factors based on TEG 1 model\")\n",
    "display(fig)\n",
    " "
   ]
  },
  {
   "cell_type": "code",
   "execution_count": 131,
   "metadata": {},
   "outputs": [
    {
     "name": "stderr",
     "output_type": "stream",
     "text": [
      "/opt/anaconda3/envs/Capstone2023/lib/python3.10/site-packages/xgboost/core.py:160: UserWarning:\n",
      "\n",
      "[19:02:53] WARNING: /Users/runner/work/xgboost/xgboost/src/c_api/c_api.cc:1240: Saving into deprecated binary model format, please consider using `json` or `ubj`. Model format will default to JSON in XGBoost 2.2 if not specified.\n",
      "\n",
      "/opt/anaconda3/envs/Capstone2023/lib/python3.10/site-packages/xgboost/data.py:335: FutureWarning:\n",
      "\n",
      "is_sparse is deprecated and will be removed in a future version. Check `isinstance(dtype, pd.SparseDtype)` instead.\n",
      "\n",
      "/opt/anaconda3/envs/Capstone2023/lib/python3.10/site-packages/xgboost/data.py:338: FutureWarning:\n",
      "\n",
      "is_categorical_dtype is deprecated and will be removed in a future version. Use isinstance(dtype, CategoricalDtype) instead\n",
      "\n",
      "/opt/anaconda3/envs/Capstone2023/lib/python3.10/site-packages/xgboost/data.py:384: FutureWarning:\n",
      "\n",
      "is_categorical_dtype is deprecated and will be removed in a future version. Use isinstance(dtype, CategoricalDtype) instead\n",
      "\n",
      "/opt/anaconda3/envs/Capstone2023/lib/python3.10/site-packages/xgboost/data.py:359: FutureWarning:\n",
      "\n",
      "is_categorical_dtype is deprecated and will be removed in a future version. Use isinstance(dtype, CategoricalDtype) instead\n",
      "\n",
      "/opt/anaconda3/envs/Capstone2023/lib/python3.10/site-packages/xgboost/core.py:160: UserWarning:\n",
      "\n",
      "[19:02:53] WARNING: /Users/runner/work/xgboost/xgboost/src/c_api/c_api.cc:1240: Saving into deprecated binary model format, please consider using `json` or `ubj`. Model format will default to JSON in XGBoost 2.2 if not specified.\n",
      "\n",
      "/opt/anaconda3/envs/Capstone2023/lib/python3.10/site-packages/xgboost/data.py:335: FutureWarning:\n",
      "\n",
      "is_sparse is deprecated and will be removed in a future version. Check `isinstance(dtype, pd.SparseDtype)` instead.\n",
      "\n",
      "/opt/anaconda3/envs/Capstone2023/lib/python3.10/site-packages/xgboost/data.py:338: FutureWarning:\n",
      "\n",
      "is_categorical_dtype is deprecated and will be removed in a future version. Use isinstance(dtype, CategoricalDtype) instead\n",
      "\n",
      "/opt/anaconda3/envs/Capstone2023/lib/python3.10/site-packages/xgboost/data.py:384: FutureWarning:\n",
      "\n",
      "is_categorical_dtype is deprecated and will be removed in a future version. Use isinstance(dtype, CategoricalDtype) instead\n",
      "\n",
      "/opt/anaconda3/envs/Capstone2023/lib/python3.10/site-packages/xgboost/data.py:359: FutureWarning:\n",
      "\n",
      "is_categorical_dtype is deprecated and will be removed in a future version. Use isinstance(dtype, CategoricalDtype) instead\n",
      "\n",
      "/opt/anaconda3/envs/Capstone2023/lib/python3.10/site-packages/xgboost/core.py:160: UserWarning:\n",
      "\n",
      "[19:02:53] WARNING: /Users/runner/work/xgboost/xgboost/src/c_api/c_api.cc:1240: Saving into deprecated binary model format, please consider using `json` or `ubj`. Model format will default to JSON in XGBoost 2.2 if not specified.\n",
      "\n",
      "/opt/anaconda3/envs/Capstone2023/lib/python3.10/site-packages/xgboost/data.py:335: FutureWarning:\n",
      "\n",
      "is_sparse is deprecated and will be removed in a future version. Check `isinstance(dtype, pd.SparseDtype)` instead.\n",
      "\n",
      "/opt/anaconda3/envs/Capstone2023/lib/python3.10/site-packages/xgboost/data.py:338: FutureWarning:\n",
      "\n",
      "is_categorical_dtype is deprecated and will be removed in a future version. Use isinstance(dtype, CategoricalDtype) instead\n",
      "\n",
      "/opt/anaconda3/envs/Capstone2023/lib/python3.10/site-packages/xgboost/data.py:384: FutureWarning:\n",
      "\n",
      "is_categorical_dtype is deprecated and will be removed in a future version. Use isinstance(dtype, CategoricalDtype) instead\n",
      "\n",
      "/opt/anaconda3/envs/Capstone2023/lib/python3.10/site-packages/xgboost/data.py:359: FutureWarning:\n",
      "\n",
      "is_categorical_dtype is deprecated and will be removed in a future version. Use isinstance(dtype, CategoricalDtype) instead\n",
      "\n"
     ]
    },
    {
     "data": {
      "application/vnd.plotly.v1+json": {
       "config": {
        "plotlyServerURL": "https://plot.ly"
       },
       "data": [
        {
         "alignmentgroup": "True",
         "hovertemplate": "variable=Patient 39: Baseline<br>Percentage=%{x}<br>Factors=%{y}<extra></extra>",
         "legendgroup": "Patient 39: Baseline",
         "marker": {
          "color": "#636efa",
          "pattern": {
           "shape": ""
          }
         },
         "name": "Patient 39: Baseline",
         "offsetgroup": "Patient 39: Baseline",
         "orientation": "h",
         "showlegend": true,
         "textposition": "auto",
         "type": "bar",
         "x": [
          11.184200286865234,
          9.194250106811523,
          10.279096603393555,
          7.520160675048828,
          3.9072413444519043,
          3.3573665618896484,
          2.086657762527466,
          1.8463060855865479,
          1.2955920696258545,
          1.7804367542266846
         ],
         "xaxis": "x",
         "y": [
          "AA % Aggregation_difference_since_last_timepoint",
          "INR value",
          "ADP % Aggregation_difference_since_last_timepoint",
          "CFF FLEV(mg/dL)",
          "CK R(min)_difference_since_last_timepoint",
          "CRT MA(mm)",
          "PT value",
          "PLT(K/uL)_difference_since_last_timepoint",
          "Antiplatelet therapy_celecoxib",
          "AA MA(mm)"
         ],
         "yaxis": "y"
        },
        {
         "alignmentgroup": "True",
         "hovertemplate": "variable=Patient 39: Post Op day 1 (4-36 hours)<br>Percentage=%{x}<br>Factors=%{y}<extra></extra>",
         "legendgroup": "Patient 39: Post Op day 1 (4-36 hours)",
         "marker": {
          "color": "#EF553B",
          "pattern": {
           "shape": ""
          }
         },
         "name": "Patient 39: Post Op day 1 (4-36 hours)",
         "offsetgroup": "Patient 39: Post Op day 1 (4-36 hours)",
         "orientation": "h",
         "showlegend": true,
         "textposition": "auto",
         "type": "bar",
         "x": [
          11.184200286865234,
          9.194250106811523,
          6.834280490875244,
          7.520160675048828,
          3.9072413444519043,
          3.3573665618896484,
          2.086657762527466,
          1.8463060855865479,
          2.850302219390869,
          1.7804367542266846
         ],
         "xaxis": "x",
         "y": [
          "AA % Aggregation_difference_since_last_timepoint",
          "INR value",
          "ADP % Aggregation_difference_since_last_timepoint",
          "CFF FLEV(mg/dL)",
          "CK R(min)_difference_since_last_timepoint",
          "CRT MA(mm)",
          "PT value",
          "PLT(K/uL)_difference_since_last_timepoint",
          "Antiplatelet therapy_celecoxib",
          "AA MA(mm)"
         ],
         "yaxis": "y"
        },
        {
         "alignmentgroup": "True",
         "hovertemplate": "variable=Patient 40: 1M PO<br>Percentage=%{x}<br>Factors=%{y}<extra></extra>",
         "legendgroup": "Patient 40: 1M PO",
         "marker": {
          "color": "#00cc96",
          "pattern": {
           "shape": ""
          }
         },
         "name": "Patient 40: 1M PO",
         "offsetgroup": "Patient 40: 1M PO",
         "orientation": "h",
         "showlegend": true,
         "textposition": "auto",
         "type": "bar",
         "x": [
          11.184200286865234,
          9.194250106811523,
          10.279096603393555,
          7.520160675048828,
          3.9072413444519043,
          3.3573665618896484,
          2.086657762527466,
          1.8463060855865479,
          1.2955920696258545,
          1.7804367542266846
         ],
         "xaxis": "x",
         "y": [
          "AA % Aggregation_difference_since_last_timepoint",
          "INR value",
          "ADP % Aggregation_difference_since_last_timepoint",
          "CFF FLEV(mg/dL)",
          "CK R(min)_difference_since_last_timepoint",
          "CRT MA(mm)",
          "PT value",
          "PLT(K/uL)_difference_since_last_timepoint",
          "Antiplatelet therapy_celecoxib",
          "AA MA(mm)"
         ],
         "yaxis": "y"
        }
       ],
       "layout": {
        "barmode": "relative",
        "legend": {
         "title": {
          "text": "variable"
         },
         "tracegroupgap": 0
        },
        "showlegend": true,
        "template": {
         "data": {
          "bar": [
           {
            "error_x": {
             "color": "#2a3f5f"
            },
            "error_y": {
             "color": "#2a3f5f"
            },
            "marker": {
             "line": {
              "color": "#E5ECF6",
              "width": 0.5
             },
             "pattern": {
              "fillmode": "overlay",
              "size": 10,
              "solidity": 0.2
             }
            },
            "type": "bar"
           }
          ],
          "barpolar": [
           {
            "marker": {
             "line": {
              "color": "#E5ECF6",
              "width": 0.5
             },
             "pattern": {
              "fillmode": "overlay",
              "size": 10,
              "solidity": 0.2
             }
            },
            "type": "barpolar"
           }
          ],
          "carpet": [
           {
            "aaxis": {
             "endlinecolor": "#2a3f5f",
             "gridcolor": "white",
             "linecolor": "white",
             "minorgridcolor": "white",
             "startlinecolor": "#2a3f5f"
            },
            "baxis": {
             "endlinecolor": "#2a3f5f",
             "gridcolor": "white",
             "linecolor": "white",
             "minorgridcolor": "white",
             "startlinecolor": "#2a3f5f"
            },
            "type": "carpet"
           }
          ],
          "choropleth": [
           {
            "colorbar": {
             "outlinewidth": 0,
             "ticks": ""
            },
            "type": "choropleth"
           }
          ],
          "contour": [
           {
            "colorbar": {
             "outlinewidth": 0,
             "ticks": ""
            },
            "colorscale": [
             [
              0,
              "#0d0887"
             ],
             [
              0.1111111111111111,
              "#46039f"
             ],
             [
              0.2222222222222222,
              "#7201a8"
             ],
             [
              0.3333333333333333,
              "#9c179e"
             ],
             [
              0.4444444444444444,
              "#bd3786"
             ],
             [
              0.5555555555555556,
              "#d8576b"
             ],
             [
              0.6666666666666666,
              "#ed7953"
             ],
             [
              0.7777777777777778,
              "#fb9f3a"
             ],
             [
              0.8888888888888888,
              "#fdca26"
             ],
             [
              1,
              "#f0f921"
             ]
            ],
            "type": "contour"
           }
          ],
          "contourcarpet": [
           {
            "colorbar": {
             "outlinewidth": 0,
             "ticks": ""
            },
            "type": "contourcarpet"
           }
          ],
          "heatmap": [
           {
            "colorbar": {
             "outlinewidth": 0,
             "ticks": ""
            },
            "colorscale": [
             [
              0,
              "#0d0887"
             ],
             [
              0.1111111111111111,
              "#46039f"
             ],
             [
              0.2222222222222222,
              "#7201a8"
             ],
             [
              0.3333333333333333,
              "#9c179e"
             ],
             [
              0.4444444444444444,
              "#bd3786"
             ],
             [
              0.5555555555555556,
              "#d8576b"
             ],
             [
              0.6666666666666666,
              "#ed7953"
             ],
             [
              0.7777777777777778,
              "#fb9f3a"
             ],
             [
              0.8888888888888888,
              "#fdca26"
             ],
             [
              1,
              "#f0f921"
             ]
            ],
            "type": "heatmap"
           }
          ],
          "heatmapgl": [
           {
            "colorbar": {
             "outlinewidth": 0,
             "ticks": ""
            },
            "colorscale": [
             [
              0,
              "#0d0887"
             ],
             [
              0.1111111111111111,
              "#46039f"
             ],
             [
              0.2222222222222222,
              "#7201a8"
             ],
             [
              0.3333333333333333,
              "#9c179e"
             ],
             [
              0.4444444444444444,
              "#bd3786"
             ],
             [
              0.5555555555555556,
              "#d8576b"
             ],
             [
              0.6666666666666666,
              "#ed7953"
             ],
             [
              0.7777777777777778,
              "#fb9f3a"
             ],
             [
              0.8888888888888888,
              "#fdca26"
             ],
             [
              1,
              "#f0f921"
             ]
            ],
            "type": "heatmapgl"
           }
          ],
          "histogram": [
           {
            "marker": {
             "pattern": {
              "fillmode": "overlay",
              "size": 10,
              "solidity": 0.2
             }
            },
            "type": "histogram"
           }
          ],
          "histogram2d": [
           {
            "colorbar": {
             "outlinewidth": 0,
             "ticks": ""
            },
            "colorscale": [
             [
              0,
              "#0d0887"
             ],
             [
              0.1111111111111111,
              "#46039f"
             ],
             [
              0.2222222222222222,
              "#7201a8"
             ],
             [
              0.3333333333333333,
              "#9c179e"
             ],
             [
              0.4444444444444444,
              "#bd3786"
             ],
             [
              0.5555555555555556,
              "#d8576b"
             ],
             [
              0.6666666666666666,
              "#ed7953"
             ],
             [
              0.7777777777777778,
              "#fb9f3a"
             ],
             [
              0.8888888888888888,
              "#fdca26"
             ],
             [
              1,
              "#f0f921"
             ]
            ],
            "type": "histogram2d"
           }
          ],
          "histogram2dcontour": [
           {
            "colorbar": {
             "outlinewidth": 0,
             "ticks": ""
            },
            "colorscale": [
             [
              0,
              "#0d0887"
             ],
             [
              0.1111111111111111,
              "#46039f"
             ],
             [
              0.2222222222222222,
              "#7201a8"
             ],
             [
              0.3333333333333333,
              "#9c179e"
             ],
             [
              0.4444444444444444,
              "#bd3786"
             ],
             [
              0.5555555555555556,
              "#d8576b"
             ],
             [
              0.6666666666666666,
              "#ed7953"
             ],
             [
              0.7777777777777778,
              "#fb9f3a"
             ],
             [
              0.8888888888888888,
              "#fdca26"
             ],
             [
              1,
              "#f0f921"
             ]
            ],
            "type": "histogram2dcontour"
           }
          ],
          "mesh3d": [
           {
            "colorbar": {
             "outlinewidth": 0,
             "ticks": ""
            },
            "type": "mesh3d"
           }
          ],
          "parcoords": [
           {
            "line": {
             "colorbar": {
              "outlinewidth": 0,
              "ticks": ""
             }
            },
            "type": "parcoords"
           }
          ],
          "pie": [
           {
            "automargin": true,
            "type": "pie"
           }
          ],
          "scatter": [
           {
            "fillpattern": {
             "fillmode": "overlay",
             "size": 10,
             "solidity": 0.2
            },
            "type": "scatter"
           }
          ],
          "scatter3d": [
           {
            "line": {
             "colorbar": {
              "outlinewidth": 0,
              "ticks": ""
             }
            },
            "marker": {
             "colorbar": {
              "outlinewidth": 0,
              "ticks": ""
             }
            },
            "type": "scatter3d"
           }
          ],
          "scattercarpet": [
           {
            "marker": {
             "colorbar": {
              "outlinewidth": 0,
              "ticks": ""
             }
            },
            "type": "scattercarpet"
           }
          ],
          "scattergeo": [
           {
            "marker": {
             "colorbar": {
              "outlinewidth": 0,
              "ticks": ""
             }
            },
            "type": "scattergeo"
           }
          ],
          "scattergl": [
           {
            "marker": {
             "colorbar": {
              "outlinewidth": 0,
              "ticks": ""
             }
            },
            "type": "scattergl"
           }
          ],
          "scattermapbox": [
           {
            "marker": {
             "colorbar": {
              "outlinewidth": 0,
              "ticks": ""
             }
            },
            "type": "scattermapbox"
           }
          ],
          "scatterpolar": [
           {
            "marker": {
             "colorbar": {
              "outlinewidth": 0,
              "ticks": ""
             }
            },
            "type": "scatterpolar"
           }
          ],
          "scatterpolargl": [
           {
            "marker": {
             "colorbar": {
              "outlinewidth": 0,
              "ticks": ""
             }
            },
            "type": "scatterpolargl"
           }
          ],
          "scatterternary": [
           {
            "marker": {
             "colorbar": {
              "outlinewidth": 0,
              "ticks": ""
             }
            },
            "type": "scatterternary"
           }
          ],
          "surface": [
           {
            "colorbar": {
             "outlinewidth": 0,
             "ticks": ""
            },
            "colorscale": [
             [
              0,
              "#0d0887"
             ],
             [
              0.1111111111111111,
              "#46039f"
             ],
             [
              0.2222222222222222,
              "#7201a8"
             ],
             [
              0.3333333333333333,
              "#9c179e"
             ],
             [
              0.4444444444444444,
              "#bd3786"
             ],
             [
              0.5555555555555556,
              "#d8576b"
             ],
             [
              0.6666666666666666,
              "#ed7953"
             ],
             [
              0.7777777777777778,
              "#fb9f3a"
             ],
             [
              0.8888888888888888,
              "#fdca26"
             ],
             [
              1,
              "#f0f921"
             ]
            ],
            "type": "surface"
           }
          ],
          "table": [
           {
            "cells": {
             "fill": {
              "color": "#EBF0F8"
             },
             "line": {
              "color": "white"
             }
            },
            "header": {
             "fill": {
              "color": "#C8D4E3"
             },
             "line": {
              "color": "white"
             }
            },
            "type": "table"
           }
          ]
         },
         "layout": {
          "annotationdefaults": {
           "arrowcolor": "#2a3f5f",
           "arrowhead": 0,
           "arrowwidth": 1
          },
          "autotypenumbers": "strict",
          "coloraxis": {
           "colorbar": {
            "outlinewidth": 0,
            "ticks": ""
           }
          },
          "colorscale": {
           "diverging": [
            [
             0,
             "#8e0152"
            ],
            [
             0.1,
             "#c51b7d"
            ],
            [
             0.2,
             "#de77ae"
            ],
            [
             0.3,
             "#f1b6da"
            ],
            [
             0.4,
             "#fde0ef"
            ],
            [
             0.5,
             "#f7f7f7"
            ],
            [
             0.6,
             "#e6f5d0"
            ],
            [
             0.7,
             "#b8e186"
            ],
            [
             0.8,
             "#7fbc41"
            ],
            [
             0.9,
             "#4d9221"
            ],
            [
             1,
             "#276419"
            ]
           ],
           "sequential": [
            [
             0,
             "#0d0887"
            ],
            [
             0.1111111111111111,
             "#46039f"
            ],
            [
             0.2222222222222222,
             "#7201a8"
            ],
            [
             0.3333333333333333,
             "#9c179e"
            ],
            [
             0.4444444444444444,
             "#bd3786"
            ],
            [
             0.5555555555555556,
             "#d8576b"
            ],
            [
             0.6666666666666666,
             "#ed7953"
            ],
            [
             0.7777777777777778,
             "#fb9f3a"
            ],
            [
             0.8888888888888888,
             "#fdca26"
            ],
            [
             1,
             "#f0f921"
            ]
           ],
           "sequentialminus": [
            [
             0,
             "#0d0887"
            ],
            [
             0.1111111111111111,
             "#46039f"
            ],
            [
             0.2222222222222222,
             "#7201a8"
            ],
            [
             0.3333333333333333,
             "#9c179e"
            ],
            [
             0.4444444444444444,
             "#bd3786"
            ],
            [
             0.5555555555555556,
             "#d8576b"
            ],
            [
             0.6666666666666666,
             "#ed7953"
            ],
            [
             0.7777777777777778,
             "#fb9f3a"
            ],
            [
             0.8888888888888888,
             "#fdca26"
            ],
            [
             1,
             "#f0f921"
            ]
           ]
          },
          "colorway": [
           "#636efa",
           "#EF553B",
           "#00cc96",
           "#ab63fa",
           "#FFA15A",
           "#19d3f3",
           "#FF6692",
           "#B6E880",
           "#FF97FF",
           "#FECB52"
          ],
          "font": {
           "color": "#2a3f5f"
          },
          "geo": {
           "bgcolor": "white",
           "lakecolor": "white",
           "landcolor": "#E5ECF6",
           "showlakes": true,
           "showland": true,
           "subunitcolor": "white"
          },
          "hoverlabel": {
           "align": "left"
          },
          "hovermode": "closest",
          "mapbox": {
           "style": "light"
          },
          "paper_bgcolor": "white",
          "plot_bgcolor": "#E5ECF6",
          "polar": {
           "angularaxis": {
            "gridcolor": "white",
            "linecolor": "white",
            "ticks": ""
           },
           "bgcolor": "#E5ECF6",
           "radialaxis": {
            "gridcolor": "white",
            "linecolor": "white",
            "ticks": ""
           }
          },
          "scene": {
           "xaxis": {
            "backgroundcolor": "#E5ECF6",
            "gridcolor": "white",
            "gridwidth": 2,
            "linecolor": "white",
            "showbackground": true,
            "ticks": "",
            "zerolinecolor": "white"
           },
           "yaxis": {
            "backgroundcolor": "#E5ECF6",
            "gridcolor": "white",
            "gridwidth": 2,
            "linecolor": "white",
            "showbackground": true,
            "ticks": "",
            "zerolinecolor": "white"
           },
           "zaxis": {
            "backgroundcolor": "#E5ECF6",
            "gridcolor": "white",
            "gridwidth": 2,
            "linecolor": "white",
            "showbackground": true,
            "ticks": "",
            "zerolinecolor": "white"
           }
          },
          "shapedefaults": {
           "line": {
            "color": "#2a3f5f"
           }
          },
          "ternary": {
           "aaxis": {
            "gridcolor": "white",
            "linecolor": "white",
            "ticks": ""
           },
           "baxis": {
            "gridcolor": "white",
            "linecolor": "white",
            "ticks": ""
           },
           "bgcolor": "#E5ECF6",
           "caxis": {
            "gridcolor": "white",
            "linecolor": "white",
            "ticks": ""
           }
          },
          "title": {
           "x": 0.05
          },
          "xaxis": {
           "automargin": true,
           "gridcolor": "white",
           "linecolor": "white",
           "ticks": "",
           "title": {
            "standoff": 15
           },
           "zerolinecolor": "white",
           "zerolinewidth": 2
          },
          "yaxis": {
           "automargin": true,
           "gridcolor": "white",
           "linecolor": "white",
           "ticks": "",
           "title": {
            "standoff": 15
           },
           "zerolinecolor": "white",
           "zerolinewidth": 2
          }
         }
        },
        "title": {
         "text": "Top 10 Factors based on TEG 2 model"
        },
        "xaxis": {
         "anchor": "y",
         "domain": [
          0,
          1
         ],
         "title": {
          "text": "Percentage"
         }
        },
        "yaxis": {
         "anchor": "x",
         "categoryorder": "total ascending",
         "domain": [
          0,
          1
         ],
         "title": {
          "text": "Factors"
         }
        }
       }
      }
     },
     "metadata": {},
     "output_type": "display_data"
    }
   ],
   "source": [
    "TEG2_shap_values_list = iterate_importance(patient_TEG2_df, best_model_TEG2, tegValues_id)\n",
    "fig = plot_importance(TEG2_shap_values_list, \"Top 10 Factors based on TEG 2 model\")\n",
    "display(fig)"
   ]
  }
 ],
 "metadata": {
  "kernelspec": {
   "display_name": "Capstone2023",
   "language": "python",
   "name": "python3"
  },
  "language_info": {
   "codemirror_mode": {
    "name": "ipython",
    "version": 3
   },
   "file_extension": ".py",
   "mimetype": "text/x-python",
   "name": "python",
   "nbconvert_exporter": "python",
   "pygments_lexer": "ipython3",
   "version": "3.10.13"
  }
 },
 "nbformat": 4,
 "nbformat_minor": 2
}
